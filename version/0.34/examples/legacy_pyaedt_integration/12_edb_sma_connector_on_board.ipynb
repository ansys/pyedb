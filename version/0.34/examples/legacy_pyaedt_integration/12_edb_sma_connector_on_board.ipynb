{
 "cells": [
  {
   "cell_type": "markdown",
   "id": "29e700bd",
   "metadata": {},
   "source": [
    "# EDB: geometry creation\n",
    "\n",
    "This example shows how to\n",
    "1. Create a parameterized PCB with an SMA connector footprint for a single-ended\n",
    "  SMA connector launch footprint..\n",
    "2. Place 3D component on PCB.\n",
    "3. Create HFSS setup and frequency sweep with a mesh operation.\n",
    "4. Create return loss plot"
   ]
  },
  {
   "cell_type": "markdown",
   "id": "ab1ea722",
   "metadata": {},
   "source": [
    "## See the finished project\n",
    "\n",
    "<img src=\"_static\\edb_example_12_sma_connector_on_board.png\" width=\"450\">"
   ]
  },
  {
   "cell_type": "markdown",
   "id": "4eda0d73",
   "metadata": {},
   "source": [
    "## Create a parameterized PCB\n",
    "\n",
    "Import dependencies."
   ]
  },
  {
   "cell_type": "code",
   "execution_count": 1,
   "id": "62608236",
   "metadata": {
    "execution": {
     "iopub.execute_input": "2024-12-07T08:19:19.863592Z",
     "iopub.status.busy": "2024-12-07T08:19:19.863592Z",
     "iopub.status.idle": "2024-12-07T08:19:19.879152Z",
     "shell.execute_reply": "2024-12-07T08:19:19.879152Z"
    }
   },
   "outputs": [],
   "source": [
    "import os\n",
    "import tempfile"
   ]
  },
  {
   "cell_type": "code",
   "execution_count": 2,
   "id": "3bbf09e2",
   "metadata": {
    "execution": {
     "iopub.execute_input": "2024-12-07T08:19:19.879152Z",
     "iopub.status.busy": "2024-12-07T08:19:19.879152Z",
     "iopub.status.idle": "2024-12-07T08:19:20.488952Z",
     "shell.execute_reply": "2024-12-07T08:19:20.488952Z"
    }
   },
   "outputs": [],
   "source": [
    "import ansys.aedt.core\n",
    "import numpy as np"
   ]
  },
  {
   "cell_type": "code",
   "execution_count": 3,
   "id": "5d5c6370",
   "metadata": {
    "execution": {
     "iopub.execute_input": "2024-12-07T08:19:20.488952Z",
     "iopub.status.busy": "2024-12-07T08:19:20.488952Z",
     "iopub.status.idle": "2024-12-07T08:19:20.520222Z",
     "shell.execute_reply": "2024-12-07T08:19:20.520222Z"
    }
   },
   "outputs": [],
   "source": [
    "import pyedb\n",
    "from pyedb.misc.downloads import download_file"
   ]
  },
  {
   "cell_type": "markdown",
   "id": "720f07d9",
   "metadata": {},
   "source": [
    "Create the EDB."
   ]
  },
  {
   "cell_type": "code",
   "execution_count": 4,
   "id": "96f46f2f",
   "metadata": {
    "execution": {
     "iopub.execute_input": "2024-12-07T08:19:20.520222Z",
     "iopub.status.busy": "2024-12-07T08:19:20.520222Z",
     "iopub.status.idle": "2024-12-07T08:19:32.900870Z",
     "shell.execute_reply": "2024-12-07T08:19:32.900870Z"
    },
    "lines_to_next_cell": 2
   },
   "outputs": [
    {
     "name": "stdout",
     "output_type": "stream",
     "text": [
      "EDB version: 2024.2\n",
      "AEDB file is located in C:\\Users\\ansys\\AppData\\Local\\Temp\\tmpcbygw8ku.ansys\\pcb.aedb\n"
     ]
    },
    {
     "name": "stdout",
     "output_type": "stream",
     "text": [
      "PyAEDT INFO: Logger is initialized in EDB.\n"
     ]
    },
    {
     "name": "stdout",
     "output_type": "stream",
     "text": [
      "PyAEDT INFO: legacy v0.34.3\n"
     ]
    },
    {
     "name": "stdout",
     "output_type": "stream",
     "text": [
      "PyAEDT INFO: Python version 3.10.11 (tags/v3.10.11:7d4cc5a, Apr  5 2023, 00:38:17) [MSC v.1929 64 bit (AMD64)]\n"
     ]
    },
    {
     "name": "stdout",
     "output_type": "stream",
     "text": [
      "PyAEDT INFO: EDB C:\\Users\\ansys\\AppData\\Local\\Temp\\tmpcbygw8ku.ansys\\pcb.aedb created correctly.\n"
     ]
    },
    {
     "name": "stdout",
     "output_type": "stream",
     "text": [
      "PyAEDT INFO: EDB initialized.\n"
     ]
    }
   ],
   "source": [
    "temp_dir = tempfile.TemporaryDirectory(suffix=\".ansys\")\n",
    "working_folder = temp_dir.name\n",
    "\n",
    "# Select EDB version (change it manually if needed, e.g. \"2024.2\")\n",
    "edb_version = \"2024.2\"\n",
    "print(f\"EDB version: {edb_version}\")\n",
    "\n",
    "aedb_path = os.path.join(working_folder, \"pcb.aedb\")\n",
    "print(\"AEDB file is located in {}\".format(aedb_path))\n",
    "\n",
    "edb = pyedb.Edb(edbpath=aedb_path, edbversion=edb_version)"
   ]
  },
  {
   "cell_type": "markdown",
   "id": "31eab8aa",
   "metadata": {},
   "source": [
    "## Create Stackup\n",
    "\n",
    "While this code explicitly defines the stackup, you can import it\n",
    "from a from a CSV or XML file using the\n",
    "``Edb.stackup.load()`` method."
   ]
  },
  {
   "cell_type": "code",
   "execution_count": 5,
   "id": "89e267d4",
   "metadata": {
    "execution": {
     "iopub.execute_input": "2024-12-07T08:19:32.900870Z",
     "iopub.status.busy": "2024-12-07T08:19:32.900870Z",
     "iopub.status.idle": "2024-12-07T08:19:32.932068Z",
     "shell.execute_reply": "2024-12-07T08:19:32.932068Z"
    }
   },
   "outputs": [
    {
     "data": {
      "text/plain": [
       "(True, <Ansys.Ansoft.Edb.Utility.VariableServer object at 0x00000252A503B7C0>)"
      ]
     },
     "execution_count": 5,
     "metadata": {},
     "output_type": "execute_result"
    }
   ],
   "source": [
    "edb.add_design_variable(\"$DIEL_T\", \"0.15mm\")"
   ]
  },
  {
   "cell_type": "code",
   "execution_count": 6,
   "id": "d54ccd36",
   "metadata": {
    "execution": {
     "iopub.execute_input": "2024-12-07T08:19:32.932068Z",
     "iopub.status.busy": "2024-12-07T08:19:32.932068Z",
     "iopub.status.idle": "2024-12-07T08:19:32.947693Z",
     "shell.execute_reply": "2024-12-07T08:19:32.947693Z"
    }
   },
   "outputs": [],
   "source": [
    "layers = {\n",
    "    \"materials\": {\"ANSYS_FR4\": {\"permittivity\": 3.5, \"dielectric_loss_tangent\": 0.005}},\n",
    "    \"layers\": {\n",
    "        \"TOP\": {\"type\": \"signal\", \"thickness\": \"0.05\"},\n",
    "        \"D1\": {\"type\": \"dielectric\", \"thickness\": \"$DIEL_T\", \"material\": \"ANSYS_FR4\"},\n",
    "        \"L2\": {\"type\": \"signal\", \"thickness\": \"0.05\"},\n",
    "        \"D2\": {\"type\": \"dielectric\", \"thickness\": \"$DIEL_T\", \"material\": \"ANSYS_FR4\"},\n",
    "        \"L3\": {\"type\": \"signal\", \"thickness\": \"0.05\"},\n",
    "        \"D3\": {\"type\": \"dielectric\", \"thickness\": \"$DIEL_T\", \"material\": \"ANSYS_FR4\"},\n",
    "        \"L4\": {\"type\": \"signal\", \"thickness\": \"0.05\"},\n",
    "        \"D4\": {\"type\": \"dielectric\", \"thickness\": \"$DIEL_T\", \"material\": \"ANSYS_FR4\"},\n",
    "        \"L5\": {\"type\": \"signal\", \"thickness\": \"0.05\"},\n",
    "        \"D5\": {\"type\": \"dielectric\", \"thickness\": \"$DIEL_T\", \"material\": \"ANSYS_FR4\"},\n",
    "        \"BOT\": {\"type\": \"signal\", \"thickness\": \"0.035\"},\n",
    "    },\n",
    "}"
   ]
  },
  {
   "cell_type": "code",
   "execution_count": 7,
   "id": "35b0d837",
   "metadata": {
    "execution": {
     "iopub.execute_input": "2024-12-07T08:19:32.947693Z",
     "iopub.status.busy": "2024-12-07T08:19:32.947693Z",
     "iopub.status.idle": "2024-12-07T08:19:33.479364Z",
     "shell.execute_reply": "2024-12-07T08:19:33.479364Z"
    },
    "lines_to_next_cell": 2
   },
   "outputs": [
    {
     "data": {
      "text/plain": [
       "True"
      ]
     },
     "execution_count": 7,
     "metadata": {},
     "output_type": "execute_result"
    }
   ],
   "source": [
    "edb.stackup.load(layers)"
   ]
  },
  {
   "cell_type": "markdown",
   "id": "c9a8a97b",
   "metadata": {},
   "source": [
    "Create ground conductors."
   ]
  },
  {
   "cell_type": "code",
   "execution_count": 8,
   "id": "41553f46",
   "metadata": {
    "execution": {
     "iopub.execute_input": "2024-12-07T08:19:33.479364Z",
     "iopub.status.busy": "2024-12-07T08:19:33.479364Z",
     "iopub.status.idle": "2024-12-07T08:19:33.526326Z",
     "shell.execute_reply": "2024-12-07T08:19:33.526326Z"
    }
   },
   "outputs": [],
   "source": [
    "edb.add_design_variable(\"PCB_W\", \"20mm\")\n",
    "edb.add_design_variable(\"PCB_L\", \"20mm\")\n",
    "\n",
    "gnd_dict = {}\n",
    "for layer_name in edb.stackup.signal_layers.keys():\n",
    "    gnd_dict[layer_name] = edb.modeler.create_rectangle(layer_name, \"GND\", [0, \"PCB_W/-2\"], [\"PCB_L\", \"PCB_W/2\"])"
   ]
  },
  {
   "cell_type": "markdown",
   "id": "6d289c67",
   "metadata": {},
   "source": [
    "## Create signal net\n",
    "\n",
    "Create signal net on layer 3, and add clearance to the ground plane."
   ]
  },
  {
   "cell_type": "code",
   "execution_count": 9,
   "id": "7284fdf5",
   "metadata": {
    "execution": {
     "iopub.execute_input": "2024-12-07T08:19:33.526326Z",
     "iopub.status.busy": "2024-12-07T08:19:33.526326Z",
     "iopub.status.idle": "2024-12-07T08:19:33.557560Z",
     "shell.execute_reply": "2024-12-07T08:19:33.557560Z"
    }
   },
   "outputs": [
    {
     "data": {
      "text/plain": [
       "True"
      ]
     },
     "execution_count": 9,
     "metadata": {},
     "output_type": "execute_result"
    }
   ],
   "source": [
    "edb.add_design_variable(\"SIG_L\", \"10mm\")\n",
    "edb.add_design_variable(\"SIG_W\", \"0.1mm\")\n",
    "edb.add_design_variable(\"SIG_C\", \"0.3mm\")\n",
    "\n",
    "signal_path = ([\"5mm\", 0], [\"SIG_L+5mm\", 0])\n",
    "signal_trace = edb.modeler.create_trace(signal_path, \"L3\", \"SIG_W\", \"SIG\", \"Flat\", \"Flat\")\n",
    "\n",
    "signal_path = ([\"5mm\", 0], [\"PCB_L\", 0])\n",
    "clr = edb.modeler.create_trace(signal_path, \"L3\", \"SIG_C*2+SIG_W\", \"SIG\", \"Flat\", \"Flat\")\n",
    "gnd_dict[\"L3\"].add_void(clr)"
   ]
  },
  {
   "cell_type": "markdown",
   "id": "6305b0c3",
   "metadata": {},
   "source": [
    "## Place signal vias\n",
    "\n",
    "Create the via padstack definition and place the signal vias."
   ]
  },
  {
   "cell_type": "code",
   "execution_count": 10,
   "id": "69c64788",
   "metadata": {
    "execution": {
     "iopub.execute_input": "2024-12-07T08:19:33.557560Z",
     "iopub.status.busy": "2024-12-07T08:19:33.557560Z",
     "iopub.status.idle": "2024-12-07T08:19:33.604453Z",
     "shell.execute_reply": "2024-12-07T08:19:33.604453Z"
    }
   },
   "outputs": [
    {
     "name": "stdout",
     "output_type": "stream",
     "text": [
      "PyAEDT INFO: Padstack ANSYS_VIA create correctly\n"
     ]
    },
    {
     "data": {
      "text/plain": [
       "<pyedb.dotnet.edb_core.edb_data.padstacks_data.EDBPadstackInstance at 0x252a4fc3700>"
      ]
     },
     "execution_count": 10,
     "metadata": {},
     "output_type": "execute_result"
    }
   ],
   "source": [
    "edb.add_design_variable(\"SG_VIA_D\", \"1mm\")\n",
    "edb.add_design_variable(\"$VIA_AP_D\", \"1.2mm\")\n",
    "edb.padstacks.create(\"ANSYS_VIA\", \"0.3mm\", \"0.5mm\", \"$VIA_AP_D\")\n",
    "edb.padstacks.place([\"5mm\", 0], \"ANSYS_VIA\", \"SIG\")"
   ]
  },
  {
   "cell_type": "markdown",
   "id": "2e8e0f31",
   "metadata": {},
   "source": [
    "Create ground vias around the SMA\n",
    "connector launch footprint. The vias\n",
    "are placed around the circumference\n",
    "of the launch from 35 degrees to 325\n",
    "degrees."
   ]
  },
  {
   "cell_type": "code",
   "execution_count": 11,
   "id": "eea8634b",
   "metadata": {
    "execution": {
     "iopub.execute_input": "2024-12-07T08:19:33.604453Z",
     "iopub.status.busy": "2024-12-07T08:19:33.604453Z",
     "iopub.status.idle": "2024-12-07T08:19:33.698115Z",
     "shell.execute_reply": "2024-12-07T08:19:33.698115Z"
    }
   },
   "outputs": [],
   "source": [
    "for i in np.arange(30, 326, 35):\n",
    "    px = np.cos(i / 180 * np.pi)\n",
    "    py = np.sin(i / 180 * np.pi)\n",
    "    edb.padstacks.place([\"{}*{}+5mm\".format(\"SG_VIA_D\", px), \"{}*{}\".format(\"SG_VIA_D\", py)], \"ANSYS_VIA\", \"GND\")"
   ]
  },
  {
   "cell_type": "markdown",
   "id": "b74217b1",
   "metadata": {},
   "source": [
    "Create ground vias along the signal trace."
   ]
  },
  {
   "cell_type": "code",
   "execution_count": 12,
   "id": "63157991",
   "metadata": {
    "execution": {
     "iopub.execute_input": "2024-12-07T08:19:33.698115Z",
     "iopub.status.busy": "2024-12-07T08:19:33.698115Z",
     "iopub.status.idle": "2024-12-07T08:19:33.744993Z",
     "shell.execute_reply": "2024-12-07T08:19:33.744993Z"
    }
   },
   "outputs": [],
   "source": [
    "for i in np.arange(2e-3, edb.variables[\"SIG_L\"].value - 2e-3, 2e-3):\n",
    "    edb.padstacks.place([\"{}+5mm\".format(i), \"1mm\"], \"ANSYS_VIA\", \"GND\")\n",
    "    edb.padstacks.place([\"{}+5mm\".format(i), \"-1mm\"], \"ANSYS_VIA\", \"GND\")"
   ]
  },
  {
   "cell_type": "markdown",
   "id": "344168af",
   "metadata": {},
   "source": [
    "Create a wave port at the end of the signal trace."
   ]
  },
  {
   "cell_type": "code",
   "execution_count": 13,
   "id": "a34170fc",
   "metadata": {
    "execution": {
     "iopub.execute_input": "2024-12-07T08:19:33.744993Z",
     "iopub.status.busy": "2024-12-07T08:19:33.744993Z",
     "iopub.status.idle": "2024-12-07T08:19:33.776242Z",
     "shell.execute_reply": "2024-12-07T08:19:33.776242Z"
    }
   },
   "outputs": [
    {
     "data": {
      "text/plain": [
       "('port_1', <pyedb.dotnet.edb_core.edb_data.ports.WavePort at 0x252a5014940>)"
      ]
     },
     "execution_count": 13,
     "metadata": {},
     "output_type": "execute_result"
    }
   ],
   "source": [
    "signal_trace.create_edge_port(\"port_1\", \"End\", \"Wave\", horizontal_extent_factor=10)"
   ]
  },
  {
   "cell_type": "markdown",
   "id": "3552e499",
   "metadata": {},
   "source": [
    "## Set up HFSS simulation\n",
    "\n",
    "The ``max_num_passes`` argument sets an upper limit on the\n",
    "number of adaptive passes for mesh refinement.\n",
    "\n",
    "For broadband applications when the simulation results may be used\n",
    "to generate a SPICE model, the outer domain boundary can be\n",
    "located roughly $$ d=\\lambda/8 $$ from the internal structures\n",
    "in the model."
   ]
  },
  {
   "cell_type": "code",
   "execution_count": 14,
   "id": "2d856b54",
   "metadata": {
    "execution": {
     "iopub.execute_input": "2024-12-07T08:19:33.776242Z",
     "iopub.status.busy": "2024-12-07T08:19:33.776242Z",
     "iopub.status.idle": "2024-12-07T08:19:33.963828Z",
     "shell.execute_reply": "2024-12-07T08:19:33.963828Z"
    }
   },
   "outputs": [],
   "source": [
    "extend_domain = 3e11 / 5e9 / 8.0  # Quarter wavelength at 4 GHz.\n",
    "edb.design_options.antipads_always_on = True\n",
    "edb.hfss.hfss_extent_info.air_box_horizontal_extent = extend_domain\n",
    "edb.hfss.hfss_extent_info.air_box_positive_vertical_extent = extend_domain\n",
    "edb.hfss.hfss_extent_info.air_box_negative_vertical_extent = extend_domain\n",
    "\n",
    "setup = edb.create_hfss_setup(\"Setup1\")\n",
    "setup.set_solution_single_frequency(\"5GHz\", max_num_passes=8, max_delta_s=\"0.02\")\n",
    "setup.hfss_solver_settings.order_basis = \"first\""
   ]
  },
  {
   "cell_type": "markdown",
   "id": "750ed652",
   "metadata": {},
   "source": [
    "Add a mesh operation to the setup."
   ]
  },
  {
   "cell_type": "code",
   "execution_count": 15,
   "id": "5c29178f",
   "metadata": {
    "execution": {
     "iopub.execute_input": "2024-12-07T08:19:33.963828Z",
     "iopub.status.busy": "2024-12-07T08:19:33.963828Z",
     "iopub.status.idle": "2024-12-07T08:19:33.995048Z",
     "shell.execute_reply": "2024-12-07T08:19:33.995048Z"
    }
   },
   "outputs": [
    {
     "data": {
      "text/plain": [
       "<pyedb.dotnet.edb_core.sim_setup_data.data.mesh_operation.LengthMeshOperation at 0x252ff2ddf60>"
      ]
     },
     "execution_count": 15,
     "metadata": {},
     "output_type": "execute_result"
    }
   ],
   "source": [
    "edb.setups[\"Setup1\"].add_length_mesh_operation({\"SIG\": [\"L3\"]}, \"m1\", max_length=\"0.1mm\")"
   ]
  },
  {
   "cell_type": "markdown",
   "id": "5431ed53",
   "metadata": {},
   "source": [
    "Add a frequency sweep to setup.\n",
    "\n",
    "When the simulation results are to\n",
    "be used for transient SPICE analysis, you should\n",
    "use the following strategy:\n",
    "\n",
    "- DC point\n",
    "- Logarithmic sweep from 1 kHz to 100 MHz\n",
    "- Linear scale for higher frequencies."
   ]
  },
  {
   "cell_type": "code",
   "execution_count": 16,
   "id": "44d3bea4",
   "metadata": {
    "execution": {
     "iopub.execute_input": "2024-12-07T08:19:33.995048Z",
     "iopub.status.busy": "2024-12-07T08:19:33.995048Z",
     "iopub.status.idle": "2024-12-07T08:19:34.026246Z",
     "shell.execute_reply": "2024-12-07T08:19:34.026246Z"
    }
   },
   "outputs": [
    {
     "data": {
      "text/plain": [
       "<pyedb.dotnet.edb_core.sim_setup_data.data.sweep_data.SweepData at 0x252a5080e20>"
      ]
     },
     "execution_count": 16,
     "metadata": {},
     "output_type": "execute_result"
    }
   ],
   "source": [
    "setup.add_frequency_sweep(\n",
    "    \"Sweep1\",\n",
    "    frequency_sweep=[\n",
    "        [\"linear count\", \"0\", \"1KHz\", 1],\n",
    "        [\"log scale\", \"1KHz\", \"100MHz\", 10],\n",
    "        [\"linear scale\", \"0.1GHz\", \"5GHz\", \"0.1GHz\"],\n",
    "    ],\n",
    ")"
   ]
  },
  {
   "cell_type": "markdown",
   "id": "ae9f6605",
   "metadata": {},
   "source": [
    "Save and close EDB."
   ]
  },
  {
   "cell_type": "code",
   "execution_count": 17,
   "id": "d599253f",
   "metadata": {
    "execution": {
     "iopub.execute_input": "2024-12-07T08:19:34.026246Z",
     "iopub.status.busy": "2024-12-07T08:19:34.026246Z",
     "iopub.status.idle": "2024-12-07T08:19:34.057611Z",
     "shell.execute_reply": "2024-12-07T08:19:34.057611Z"
    }
   },
   "outputs": [
    {
     "name": "stdout",
     "output_type": "stream",
     "text": [
      "PyAEDT INFO: EDB file save time: 0.00ms\n"
     ]
    },
    {
     "name": "stdout",
     "output_type": "stream",
     "text": [
      "PyAEDT INFO: EDB file release time: 15.62ms\n"
     ]
    },
    {
     "data": {
      "text/plain": [
       "True"
      ]
     },
     "execution_count": 17,
     "metadata": {},
     "output_type": "execute_result"
    }
   ],
   "source": [
    "edb.save_edb()\n",
    "edb.close_edb()"
   ]
  },
  {
   "cell_type": "markdown",
   "id": "0e3b8cda",
   "metadata": {},
   "source": [
    "Launch HFSS 3D Layout."
   ]
  },
  {
   "cell_type": "code",
   "execution_count": 18,
   "id": "1a387830",
   "metadata": {
    "execution": {
     "iopub.execute_input": "2024-12-07T08:19:34.057611Z",
     "iopub.status.busy": "2024-12-07T08:19:34.057611Z",
     "iopub.status.idle": "2024-12-07T08:20:07.040979Z",
     "shell.execute_reply": "2024-12-07T08:20:07.040979Z"
    }
   },
   "outputs": [
    {
     "name": "stdout",
     "output_type": "stream",
     "text": [
      "PyAEDT WARNING: Argument `specified_version` is deprecated for method `__init__`; use `version` instead.\n"
     ]
    },
    {
     "name": "stdout",
     "output_type": "stream",
     "text": [
      "PyAEDT WARNING: Argument `new_desktop_session` is deprecated for method `__init__`; use `new_desktop` instead.\n"
     ]
    },
    {
     "name": "stdout",
     "output_type": "stream",
     "text": [
      "PyAEDT INFO: Python version 3.10.11 (tags/v3.10.11:7d4cc5a, Apr  5 2023, 00:38:17) [MSC v.1929 64 bit (AMD64)]\n"
     ]
    },
    {
     "name": "stdout",
     "output_type": "stream",
     "text": [
      "PyAEDT INFO: PyAEDT version 0.12.dev0.\n"
     ]
    },
    {
     "name": "stdout",
     "output_type": "stream",
     "text": [
      "PyAEDT INFO: Initializing new Desktop session.\n"
     ]
    },
    {
     "name": "stdout",
     "output_type": "stream",
     "text": [
      "PyAEDT INFO: Log on console is enabled.\n"
     ]
    },
    {
     "name": "stdout",
     "output_type": "stream",
     "text": [
      "PyAEDT INFO: Log on file C:\\Users\\ansys\\AppData\\Local\\Temp\\pyaedt_ansys_37b3ae87-3fa5-47cf-9626-06a0440e73f0.log is enabled.\n"
     ]
    },
    {
     "name": "stdout",
     "output_type": "stream",
     "text": [
      "PyAEDT INFO: Log on AEDT is enabled.\n"
     ]
    },
    {
     "name": "stdout",
     "output_type": "stream",
     "text": [
      "PyAEDT INFO: Debug logger is disabled. PyAEDT methods will not be logged.\n"
     ]
    },
    {
     "name": "stdout",
     "output_type": "stream",
     "text": [
      "PyAEDT INFO: Launching PyAEDT with gRPC plugin.\n"
     ]
    },
    {
     "name": "stdout",
     "output_type": "stream",
     "text": [
      "PyAEDT INFO: New AEDT session is starting on gRPC port 57331\n"
     ]
    },
    {
     "name": "stdout",
     "output_type": "stream",
     "text": [
      "PyAEDT INFO: AEDT installation Path C:\\Program Files\\AnsysEM\\v242\\Win64\n"
     ]
    },
    {
     "name": "stdout",
     "output_type": "stream",
     "text": [
      "PyAEDT INFO: Ansoft.ElectronicsDesktop.2024.2 version started with process ID 9188.\n"
     ]
    },
    {
     "name": "stdout",
     "output_type": "stream",
     "text": [
      "PyAEDT INFO: EDB folder C:\\Users\\ansys\\AppData\\Local\\Temp\\tmpcbygw8ku.ansys\\pcb.aedb has been imported to project pcb\n"
     ]
    },
    {
     "name": "stdout",
     "output_type": "stream",
     "text": [
      "PyAEDT INFO: Active Design set to 0;Cell_397W0O\n"
     ]
    },
    {
     "name": "stdout",
     "output_type": "stream",
     "text": [
      "PyAEDT INFO: Aedt Objects correctly read\n"
     ]
    }
   ],
   "source": [
    "h3d = ansys.aedt.core.Hfss3dLayout(aedb_path, specified_version=edb_version, new_desktop_session=True)"
   ]
  },
  {
   "cell_type": "markdown",
   "id": "99641c1b",
   "metadata": {},
   "source": [
    "Place a 3D component."
   ]
  },
  {
   "cell_type": "code",
   "execution_count": 19,
   "id": "4f8aa13d",
   "metadata": {
    "execution": {
     "iopub.execute_input": "2024-12-07T08:20:07.040979Z",
     "iopub.status.busy": "2024-12-07T08:20:07.040979Z",
     "iopub.status.idle": "2024-12-07T08:20:09.192454Z",
     "shell.execute_reply": "2024-12-07T08:20:09.192454Z"
    }
   },
   "outputs": [
    {
     "name": "stdout",
     "output_type": "stream",
     "text": [
      "PyAEDT INFO: Loading Modeler.\n"
     ]
    },
    {
     "name": "stdout",
     "output_type": "stream",
     "text": [
      "PyAEDT INFO: Modeler loaded.\n"
     ]
    },
    {
     "name": "stdout",
     "output_type": "stream",
     "text": [
      "PyAEDT INFO: EDB loaded.\n"
     ]
    },
    {
     "name": "stdout",
     "output_type": "stream",
     "text": [
      "PyAEDT INFO: Layers loaded.\n"
     ]
    },
    {
     "name": "stdout",
     "output_type": "stream",
     "text": [
      "PyAEDT INFO: Primitives loaded.\n"
     ]
    },
    {
     "name": "stdout",
     "output_type": "stream",
     "text": [
      "PyAEDT INFO: Modeler class has been initialized! Elapsed time: 0m 0sec\n"
     ]
    }
   ],
   "source": [
    "full_comp_name = download_file(\"component_3d\", filename=\"SMA_RF_SURFACE_MOUNT.a3dcomp\", destination=working_folder)\n",
    "comp = h3d.modeler.place_3d_component(\n",
    "    component_path=full_comp_name,\n",
    "    number_of_terminals=1,\n",
    "    placement_layer=\"TOP\",\n",
    "    component_name=\"my_connector\",\n",
    "    pos_x=\"5mm\",\n",
    "    pos_y=0.000,\n",
    ")"
   ]
  },
  {
   "cell_type": "markdown",
   "id": "b3a8c7b7",
   "metadata": {},
   "source": [
    "## Run simulation"
   ]
  },
  {
   "cell_type": "code",
   "execution_count": 20,
   "id": "c85b0127",
   "metadata": {
    "execution": {
     "iopub.execute_input": "2024-12-07T08:20:09.192454Z",
     "iopub.status.busy": "2024-12-07T08:20:09.192454Z",
     "iopub.status.idle": "2024-12-07T08:21:22.878154Z",
     "shell.execute_reply": "2024-12-07T08:21:22.878154Z"
    }
   },
   "outputs": [
    {
     "name": "stdout",
     "output_type": "stream",
     "text": [
      "PyAEDT WARNING: Argument `num_cores` is deprecated for method `analyze`; use `cores` instead.\n"
     ]
    },
    {
     "name": "stdout",
     "output_type": "stream",
     "text": [
      "PyAEDT INFO: Key Desktop/ActiveDSOConfigurations/HFSS 3D Layout Design correctly changed.\n"
     ]
    },
    {
     "name": "stdout",
     "output_type": "stream",
     "text": [
      "PyAEDT INFO: Solving all design setups.\n"
     ]
    },
    {
     "name": "stdout",
     "output_type": "stream",
     "text": [
      "PyAEDT INFO: Key Desktop/ActiveDSOConfigurations/HFSS 3D Layout Design correctly changed.\n"
     ]
    },
    {
     "name": "stdout",
     "output_type": "stream",
     "text": [
      "PyAEDT INFO: Design setup None solved correctly in 0.0h 1.0m 14.0s\n"
     ]
    },
    {
     "data": {
      "text/plain": [
       "True"
      ]
     },
     "execution_count": 20,
     "metadata": {},
     "output_type": "execute_result"
    }
   ],
   "source": [
    "h3d.analyze(num_cores=4)"
   ]
  },
  {
   "cell_type": "markdown",
   "id": "1d39092e",
   "metadata": {},
   "source": [
    "## Visualize the return loss."
   ]
  },
  {
   "cell_type": "code",
   "execution_count": 21,
   "id": "bd049e34",
   "metadata": {
    "execution": {
     "iopub.execute_input": "2024-12-07T08:21:22.878154Z",
     "iopub.status.busy": "2024-12-07T08:21:22.878154Z",
     "iopub.status.idle": "2024-12-07T08:21:24.000799Z",
     "shell.execute_reply": "2024-12-07T08:21:24.000799Z"
    }
   },
   "outputs": [
    {
     "name": "stdout",
     "output_type": "stream",
     "text": [
      "PyAEDT INFO: Parsing C:/Users/ansys/AppData/Local/Temp/tmpcbygw8ku.ansys/pcb.aedt.\n"
     ]
    },
    {
     "name": "stdout",
     "output_type": "stream",
     "text": [
      "PyAEDT INFO: File C:/Users/ansys/AppData/Local/Temp/tmpcbygw8ku.ansys/pcb.aedt correctly loaded. Elapsed time: 0m 0sec\n"
     ]
    },
    {
     "name": "stdout",
     "output_type": "stream",
     "text": [
      "PyAEDT INFO: aedt file load time 0.015631437301635742\n"
     ]
    },
    {
     "name": "stdout",
     "output_type": "stream",
     "text": [
      "PyAEDT INFO: PostProcessor class has been initialized! Elapsed time: 0m 0sec\n"
     ]
    },
    {
     "name": "stdout",
     "output_type": "stream",
     "text": [
      "PyAEDT INFO: Post class has been initialized! Elapsed time: 0m 0sec\n"
     ]
    },
    {
     "data": {
      "text/plain": [
       "<ansys.aedt.core.visualization.report.standard.Standard at 0x252ab0af490>"
      ]
     },
     "execution_count": 21,
     "metadata": {},
     "output_type": "execute_result"
    }
   ],
   "source": [
    "h3d.post.create_report(\"dB(S(port_1, port_1))\")"
   ]
  },
  {
   "cell_type": "markdown",
   "id": "2170d51c",
   "metadata": {},
   "source": [
    "## Save and close the project."
   ]
  },
  {
   "cell_type": "code",
   "execution_count": 22,
   "id": "0812d80e",
   "metadata": {
    "execution": {
     "iopub.execute_input": "2024-12-07T08:21:24.000799Z",
     "iopub.status.busy": "2024-12-07T08:21:24.000799Z",
     "iopub.status.idle": "2024-12-07T08:21:28.318585Z",
     "shell.execute_reply": "2024-12-07T08:21:28.318585Z"
    }
   },
   "outputs": [
    {
     "name": "stdout",
     "output_type": "stream",
     "text": [
      "PyAEDT INFO: Project pcb Saved correctly\n"
     ]
    },
    {
     "name": "stdout",
     "output_type": "stream",
     "text": [
      "Project is saved to C:/Users/ansys/AppData/Local/Temp/tmpcbygw8ku.ansys/\n"
     ]
    },
    {
     "name": "stdout",
     "output_type": "stream",
     "text": [
      "PyAEDT INFO: Desktop has been released and closed.\n"
     ]
    },
    {
     "data": {
      "text/plain": [
       "True"
      ]
     },
     "execution_count": 22,
     "metadata": {},
     "output_type": "execute_result"
    }
   ],
   "source": [
    "h3d.save_project()\n",
    "print(\"Project is saved to {}\".format(h3d.project_path))\n",
    "h3d.release_desktop(True, True)"
   ]
  },
  {
   "cell_type": "markdown",
   "id": "e7728921",
   "metadata": {},
   "source": [
    "## Clean up the temporary folder."
   ]
  },
  {
   "cell_type": "code",
   "execution_count": 23,
   "id": "6b7cc718",
   "metadata": {
    "execution": {
     "iopub.execute_input": "2024-12-07T08:21:28.318585Z",
     "iopub.status.busy": "2024-12-07T08:21:28.318585Z",
     "iopub.status.idle": "2024-12-07T08:21:28.349812Z",
     "shell.execute_reply": "2024-12-07T08:21:28.349812Z"
    }
   },
   "outputs": [],
   "source": [
    "temp_dir.cleanup()"
   ]
  }
 ],
 "metadata": {
  "jupytext": {
   "cell_metadata_filter": "-all",
   "main_language": "python",
   "notebook_metadata_filter": "-all",
   "text_representation": {
    "extension": ".py",
    "format_name": "light"
   }
  },
  "language_info": {
   "codemirror_mode": {
    "name": "ipython",
    "version": 3
   },
   "file_extension": ".py",
   "mimetype": "text/x-python",
   "name": "python",
   "nbconvert_exporter": "python",
   "pygments_lexer": "ipython3",
   "version": "3.10.11"
  }
 },
 "nbformat": 4,
 "nbformat_minor": 5
}
