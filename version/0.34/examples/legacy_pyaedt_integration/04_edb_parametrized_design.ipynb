{
 "cells": [
  {
   "cell_type": "markdown",
   "id": "fe1770f7",
   "metadata": {},
   "source": [
    "# EDB: fully parametrized design\n",
    "\n",
    "This example shows how to use the EDB interface along with HFSS 3D Layout to create and solve a\n",
    "parameterized layout. The layout shows a differential via transition on a printed circuit board\n",
    "with back-to-back microstrip to stripline transitions.\n",
    "The model is fully parameterized to enable investigation of the transition performance on the\n",
    "many degrees of freedom.\n",
    "\n",
    "The resulting model is shown below\n",
    "\n",
    "<img src=\"_static\\pcb_transition_parameterized.png\" width=\"500\">"
   ]
  },
  {
   "cell_type": "code",
   "execution_count": 1,
   "id": "be4c1ae1",
   "metadata": {
    "execution": {
     "iopub.execute_input": "2024-12-07T08:15:21.977751Z",
     "iopub.status.busy": "2024-12-07T08:15:21.977751Z",
     "iopub.status.idle": "2024-12-07T08:15:22.587111Z",
     "shell.execute_reply": "2024-12-07T08:15:22.587111Z"
    }
   },
   "outputs": [],
   "source": [
    "import os\n",
    "import tempfile\n",
    "\n",
    "import ansys.aedt.core\n",
    "\n",
    "import pyedb\n"
   ]
  },
  {
   "cell_type": "markdown",
   "id": "0f3910ad",
   "metadata": {},
   "source": [
    "## Set non-graphical mode\n",
    "\n",
    "Set non-graphical mode. The default is ``False``, which opens\n",
    "the AEDT UI."
   ]
  },
  {
   "cell_type": "code",
   "execution_count": 2,
   "id": "adfdc73f",
   "metadata": {
    "execution": {
     "iopub.execute_input": "2024-12-07T08:15:22.587111Z",
     "iopub.status.busy": "2024-12-07T08:15:22.587111Z",
     "iopub.status.idle": "2024-12-07T08:15:22.602756Z",
     "shell.execute_reply": "2024-12-07T08:15:22.602756Z"
    }
   },
   "outputs": [],
   "source": [
    "non_graphical = False"
   ]
  },
  {
   "cell_type": "markdown",
   "id": "381531f8",
   "metadata": {},
   "source": [
    "## Launch EDB."
   ]
  },
  {
   "cell_type": "code",
   "execution_count": 3,
   "id": "6fd9449e",
   "metadata": {
    "execution": {
     "iopub.execute_input": "2024-12-07T08:15:22.602756Z",
     "iopub.status.busy": "2024-12-07T08:15:22.602756Z",
     "iopub.status.idle": "2024-12-07T08:15:34.748505Z",
     "shell.execute_reply": "2024-12-07T08:15:34.748505Z"
    }
   },
   "outputs": [
    {
     "name": "stdout",
     "output_type": "stream",
     "text": [
      "EDB version: 2024.2\n"
     ]
    },
    {
     "name": "stdout",
     "output_type": "stream",
     "text": [
      "PyAEDT INFO: Logger is initialized in EDB.\n"
     ]
    },
    {
     "name": "stdout",
     "output_type": "stream",
     "text": [
      "PyAEDT INFO: legacy v0.34.3\n"
     ]
    },
    {
     "name": "stdout",
     "output_type": "stream",
     "text": [
      "PyAEDT INFO: Python version 3.10.11 (tags/v3.10.11:7d4cc5a, Apr  5 2023, 00:38:17) [MSC v.1929 64 bit (AMD64)]\n"
     ]
    },
    {
     "name": "stdout",
     "output_type": "stream",
     "text": [
      "PyAEDT INFO: EDB C:\\Users\\ansys\\AppData\\Local\\Temp\\tmptgxtqjyt.ansys\\pcb.aedb created correctly.\n"
     ]
    },
    {
     "name": "stdout",
     "output_type": "stream",
     "text": [
      "PyAEDT INFO: EDB initialized.\n"
     ]
    }
   ],
   "source": [
    "temp_dir = tempfile.TemporaryDirectory(suffix=\".ansys\")\n",
    "aedb_path = os.path.join(temp_dir.name, \"pcb.aedb\")\n",
    "\n",
    "# Select EDB version (change it manually if needed, e.g. \"2024.2\")\n",
    "edb_version = \"2024.2\"\n",
    "print(f\"EDB version: {edb_version}\")\n",
    "\n",
    "edb = pyedb.Edb(edbpath=aedb_path, edbversion=edb_version)"
   ]
  },
  {
   "cell_type": "markdown",
   "id": "491fca71",
   "metadata": {},
   "source": [
    "Define the parameters."
   ]
  },
  {
   "cell_type": "code",
   "execution_count": 4,
   "id": "66fbb96f",
   "metadata": {
    "execution": {
     "iopub.execute_input": "2024-12-07T08:15:34.748505Z",
     "iopub.status.busy": "2024-12-07T08:15:34.748505Z",
     "iopub.status.idle": "2024-12-07T08:15:34.779754Z",
     "shell.execute_reply": "2024-12-07T08:15:34.779754Z"
    }
   },
   "outputs": [],
   "source": [
    "params = {\n",
    "    \"$ms_width\": \"0.4mm\",\n",
    "    \"$sl_width\": \"0.2mm\",\n",
    "    \"$ms_spacing\": \"0.2mm\",\n",
    "    \"$sl_spacing\": \"0.1mm\",\n",
    "    \"$via_spacing\": \"0.5mm\",\n",
    "    \"$via_diam\": \"0.3mm\",\n",
    "    \"$pad_diam\": \"0.6mm\",\n",
    "    \"$anti_pad_diam\": \"0.7mm\",\n",
    "    \"$pcb_len\": \"15mm\",\n",
    "    \"$pcb_w\": \"5mm\",\n",
    "    \"$x_size\": \"1.2mm\",\n",
    "    \"$y_size\": \"1mm\",\n",
    "    \"$corner_rad\": \"0.5mm\",\n",
    "}\n",
    "\n",
    "for par_name in params:\n",
    "    edb.add_project_variable(par_name, params[par_name])"
   ]
  },
  {
   "cell_type": "markdown",
   "id": "c13b6b4b",
   "metadata": {},
   "source": [
    "Define the stackup layers from bottom to top."
   ]
  },
  {
   "cell_type": "code",
   "execution_count": 5,
   "id": "5f4a648c",
   "metadata": {
    "execution": {
     "iopub.execute_input": "2024-12-07T08:15:34.779754Z",
     "iopub.status.busy": "2024-12-07T08:15:34.779754Z",
     "iopub.status.idle": "2024-12-07T08:15:35.123503Z",
     "shell.execute_reply": "2024-12-07T08:15:35.123503Z"
    },
    "lines_to_next_cell": 2
   },
   "outputs": [
    {
     "name": "stdout",
     "output_type": "stream",
     "text": [
      "PyAEDT INFO: Configuration file does not have material definition. Using aedb and syslib materials.\n"
     ]
    },
    {
     "data": {
      "text/plain": [
       "True"
      ]
     },
     "execution_count": 5,
     "metadata": {},
     "output_type": "execute_result"
    }
   ],
   "source": [
    "layers = {\n",
    "    \"top\": {\"type\": \"signal\", \"thickness\": \"35um\", \"material\": \"copper\"},\n",
    "    \"diel_1\": {\"type\": \"dielectric\", \"thickness\": \"275um\", \"material\": \"FR4_epoxy\"},\n",
    "    \"sig_1\": {\"type\": \"signal\", \"thickness\": \"35um\", \"material\": \"copper\"},\n",
    "    \"diel_2\": {\"type\": \"dielectric\", \"thickness\": \"275um\", \"material\": \"FR4_epoxy\"},\n",
    "    \"sig_2\": {\"type\": \"signal\", \"thickness\": \"35um\", \"material\": \"copper\"},\n",
    "    \"diel_3\": {\"type\": \"dielectric\", \"thickness\": \"275um\", \"material\": \"FR4_epoxy\"},\n",
    "    \"bottom\": {\"type\": \"signal\", \"thickness\": \"35um\", \"material\": \"copper\"},\n",
    "}\n",
    "layer_names = list(layers.keys())[::-1]\n",
    "# Create the EDB stackup.\n",
    "# Define the bottom layer\n",
    "edb.stackup.load(layers)"
   ]
  },
  {
   "cell_type": "markdown",
   "id": "15856d56",
   "metadata": {},
   "source": [
    "Create a parametrized padstack for the signal via."
   ]
  },
  {
   "cell_type": "code",
   "execution_count": 6,
   "id": "e6a88264",
   "metadata": {
    "execution": {
     "iopub.execute_input": "2024-12-07T08:15:35.123503Z",
     "iopub.status.busy": "2024-12-07T08:15:35.123503Z",
     "iopub.status.idle": "2024-12-07T08:15:35.170401Z",
     "shell.execute_reply": "2024-12-07T08:15:35.170401Z"
    }
   },
   "outputs": [
    {
     "name": "stdout",
     "output_type": "stream",
     "text": [
      "PyAEDT INFO: Padstack automated_via create correctly\n"
     ]
    },
    {
     "data": {
      "text/plain": [
       "'automated_via'"
      ]
     },
     "execution_count": 6,
     "metadata": {},
     "output_type": "execute_result"
    }
   ],
   "source": [
    "signal_via_padstack = \"automated_via\"\n",
    "edb.padstacks.create(\n",
    "    padstackname=signal_via_padstack,\n",
    "    holediam=\"$via_diam\",\n",
    "    paddiam=\"$pad_diam\",\n",
    "    antipaddiam=\"\",\n",
    "    antipad_shape=\"Bullet\",\n",
    "    x_size=\"$x_size\",\n",
    "    y_size=\"$y_size\",\n",
    "    corner_radius=\"$corner_rad\",\n",
    "    start_layer=layer_names[-1],\n",
    "    stop_layer=layer_names[-3],\n",
    ")"
   ]
  },
  {
   "cell_type": "markdown",
   "id": "8da325cc",
   "metadata": {},
   "source": [
    "Assign net names. There are only two signal nets."
   ]
  },
  {
   "cell_type": "code",
   "execution_count": 7,
   "id": "4ebab2ba",
   "metadata": {
    "execution": {
     "iopub.execute_input": "2024-12-07T08:15:35.170401Z",
     "iopub.status.busy": "2024-12-07T08:15:35.170401Z",
     "iopub.status.idle": "2024-12-07T08:15:35.186013Z",
     "shell.execute_reply": "2024-12-07T08:15:35.186013Z"
    }
   },
   "outputs": [],
   "source": [
    "net_p = \"p\"\n",
    "net_n = \"n\""
   ]
  },
  {
   "cell_type": "markdown",
   "id": "f0eb4500",
   "metadata": {},
   "source": [
    "Place the signal vias."
   ]
  },
  {
   "cell_type": "code",
   "execution_count": 8,
   "id": "fb77c64b",
   "metadata": {
    "execution": {
     "iopub.execute_input": "2024-12-07T08:15:35.186013Z",
     "iopub.status.busy": "2024-12-07T08:15:35.186013Z",
     "iopub.status.idle": "2024-12-07T08:15:35.217328Z",
     "shell.execute_reply": "2024-12-07T08:15:35.217328Z"
    }
   },
   "outputs": [
    {
     "data": {
      "text/plain": [
       "<pyedb.dotnet.edb_core.edb_data.padstacks_data.EDBPadstackInstance at 0x1f4972fb3a0>"
      ]
     },
     "execution_count": 8,
     "metadata": {},
     "output_type": "execute_result"
    }
   ],
   "source": [
    "edb.padstacks.place(\n",
    "    position=[\"$pcb_len/3\", \"($ms_width+$ms_spacing+$via_spacing)/2\"],\n",
    "    definition_name=signal_via_padstack,\n",
    "    net_name=net_p,\n",
    "    via_name=\"\",\n",
    "    rotation=90.0,\n",
    ")"
   ]
  },
  {
   "cell_type": "code",
   "execution_count": 9,
   "id": "4474597e",
   "metadata": {
    "execution": {
     "iopub.execute_input": "2024-12-07T08:15:35.217328Z",
     "iopub.status.busy": "2024-12-07T08:15:35.217328Z",
     "iopub.status.idle": "2024-12-07T08:15:35.232829Z",
     "shell.execute_reply": "2024-12-07T08:15:35.232829Z"
    }
   },
   "outputs": [
    {
     "data": {
      "text/plain": [
       "<pyedb.dotnet.edb_core.edb_data.padstacks_data.EDBPadstackInstance at 0x1f4972fa650>"
      ]
     },
     "execution_count": 9,
     "metadata": {},
     "output_type": "execute_result"
    }
   ],
   "source": [
    "edb.padstacks.place(\n",
    "    position=[\"2*$pcb_len/3\", \"($ms_width+$ms_spacing+$via_spacing)/2\"],\n",
    "    definition_name=signal_via_padstack,\n",
    "    net_name=net_p,\n",
    "    via_name=\"\",\n",
    "    rotation=90.0,\n",
    ")"
   ]
  },
  {
   "cell_type": "code",
   "execution_count": 10,
   "id": "fd96cefa",
   "metadata": {
    "execution": {
     "iopub.execute_input": "2024-12-07T08:15:35.232829Z",
     "iopub.status.busy": "2024-12-07T08:15:35.232829Z",
     "iopub.status.idle": "2024-12-07T08:15:35.248456Z",
     "shell.execute_reply": "2024-12-07T08:15:35.248456Z"
    }
   },
   "outputs": [
    {
     "data": {
      "text/plain": [
       "<pyedb.dotnet.edb_core.edb_data.padstacks_data.EDBPadstackInstance at 0x1f4c6e5f700>"
      ]
     },
     "execution_count": 10,
     "metadata": {},
     "output_type": "execute_result"
    }
   ],
   "source": [
    "edb.padstacks.place(\n",
    "    position=[\"$pcb_len/3\", \"-($ms_width+$ms_spacing+$via_spacing)/2\"],\n",
    "    definition_name=signal_via_padstack,\n",
    "    net_name=net_n,\n",
    "    via_name=\"\",\n",
    "    rotation=-90.0,\n",
    ")"
   ]
  },
  {
   "cell_type": "code",
   "execution_count": 11,
   "id": "9f98f495",
   "metadata": {
    "execution": {
     "iopub.execute_input": "2024-12-07T08:15:35.248456Z",
     "iopub.status.busy": "2024-12-07T08:15:35.248456Z",
     "iopub.status.idle": "2024-12-07T08:15:35.264128Z",
     "shell.execute_reply": "2024-12-07T08:15:35.264128Z"
    },
    "lines_to_next_cell": 2
   },
   "outputs": [
    {
     "data": {
      "text/plain": [
       "<pyedb.dotnet.edb_core.edb_data.padstacks_data.EDBPadstackInstance at 0x1f4972fb550>"
      ]
     },
     "execution_count": 11,
     "metadata": {},
     "output_type": "execute_result"
    }
   ],
   "source": [
    "edb.padstacks.place(\n",
    "    position=[\"2*$pcb_len/3\", \"-($ms_width+$ms_spacing+$via_spacing)/2\"],\n",
    "    definition_name=signal_via_padstack,\n",
    "    net_name=net_n,\n",
    "    via_name=\"\",\n",
    "    rotation=-90.0,\n",
    ")"
   ]
  },
  {
   "cell_type": "markdown",
   "id": "ee4a0fb6",
   "metadata": {},
   "source": [
    "## Draw parametrized traces\n",
    "\n",
    "Trace width and the routing (Microstrip-Stripline-Microstrip).\n",
    "Applies to both p and n nets."
   ]
  },
  {
   "cell_type": "code",
   "execution_count": 12,
   "id": "833b76dc",
   "metadata": {
    "execution": {
     "iopub.execute_input": "2024-12-07T08:15:35.264128Z",
     "iopub.status.busy": "2024-12-07T08:15:35.264128Z",
     "iopub.status.idle": "2024-12-07T08:15:35.279769Z",
     "shell.execute_reply": "2024-12-07T08:15:35.279769Z"
    }
   },
   "outputs": [],
   "source": [
    "# Trace width, n and p\n",
    "width = [\"$ms_width\", \"$sl_width\", \"$ms_width\"]\n",
    "# Routing layer, n and p\n",
    "route_layer = [layer_names[-1], layer_names[4], layer_names[-1]]"
   ]
  },
  {
   "cell_type": "markdown",
   "id": "e9dcdede",
   "metadata": {},
   "source": [
    "Define points for three traces in the \"p\" net"
   ]
  },
  {
   "cell_type": "code",
   "execution_count": 13,
   "id": "32f19ae8",
   "metadata": {
    "execution": {
     "iopub.execute_input": "2024-12-07T08:15:35.279769Z",
     "iopub.status.busy": "2024-12-07T08:15:35.279769Z",
     "iopub.status.idle": "2024-12-07T08:15:35.295395Z",
     "shell.execute_reply": "2024-12-07T08:15:35.295395Z"
    }
   },
   "outputs": [],
   "source": [
    "points_p = [\n",
    "    [\n",
    "        [\"0.0\", \"($ms_width+$ms_spacing)/2\"],\n",
    "        [\"$pcb_len/3-2*$via_spacing\", \"($ms_width+$ms_spacing)/2\"],\n",
    "        [\"$pcb_len/3-$via_spacing\", \"($ms_width+$ms_spacing+$via_spacing)/2\"],\n",
    "        [\"$pcb_len/3\", \"($ms_width+$ms_spacing+$via_spacing)/2\"],\n",
    "    ],\n",
    "    [\n",
    "        [\"$pcb_len/3\", \"($ms_width+$sl_spacing+$via_spacing)/2\"],\n",
    "        [\"$pcb_len/3+$via_spacing\", \"($ms_width+$sl_spacing+$via_spacing)/2\"],\n",
    "        [\"$pcb_len/3+2*$via_spacing\", \"($sl_width+$sl_spacing)/2\"],\n",
    "        [\"2*$pcb_len/3-2*$via_spacing\", \"($sl_width+$sl_spacing)/2\"],\n",
    "        [\"2*$pcb_len/3-$via_spacing\", \"($ms_width+$sl_spacing+$via_spacing)/2\"],\n",
    "        [\"2*$pcb_len/3\", \"($ms_width+$sl_spacing+$via_spacing)/2\"],\n",
    "    ],\n",
    "    [\n",
    "        [\"2*$pcb_len/3\", \"($ms_width+$ms_spacing+$via_spacing)/2\"],\n",
    "        [\"2*$pcb_len/3+$via_spacing\", \"($ms_width+$ms_spacing+$via_spacing)/2\"],\n",
    "        [\"2*$pcb_len/3+2*$via_spacing\", \"($ms_width+$ms_spacing)/2\"],\n",
    "        [\"$pcb_len\", \"($ms_width+$ms_spacing)/2\"],\n",
    "    ],\n",
    "]"
   ]
  },
  {
   "cell_type": "markdown",
   "id": "9521327e",
   "metadata": {},
   "source": [
    "Define points for three traces in the \"n\" net"
   ]
  },
  {
   "cell_type": "code",
   "execution_count": 14,
   "id": "0c6516ae",
   "metadata": {
    "execution": {
     "iopub.execute_input": "2024-12-07T08:15:35.295395Z",
     "iopub.status.busy": "2024-12-07T08:15:35.295395Z",
     "iopub.status.idle": "2024-12-07T08:15:35.311018Z",
     "shell.execute_reply": "2024-12-07T08:15:35.311018Z"
    }
   },
   "outputs": [],
   "source": [
    "points_n = [\n",
    "    [\n",
    "        [\"0.0\", \"-($ms_width+$ms_spacing)/2\"],\n",
    "        [\"$pcb_len/3-2*$via_spacing\", \"-($ms_width+$ms_spacing)/2\"],\n",
    "        [\"$pcb_len/3-$via_spacing\", \"-($ms_width+$ms_spacing+$via_spacing)/2\"],\n",
    "        [\"$pcb_len/3\", \"-($ms_width+$ms_spacing+$via_spacing)/2\"],\n",
    "    ],\n",
    "    [\n",
    "        [\"$pcb_len/3\", \"-($ms_width+$sl_spacing+$via_spacing)/2\"],\n",
    "        [\"$pcb_len/3+$via_spacing\", \"-($ms_width+$sl_spacing+$via_spacing)/2\"],\n",
    "        [\"$pcb_len/3+2*$via_spacing\", \"-($ms_width+$sl_spacing)/2\"],\n",
    "        [\"2*$pcb_len/3-2*$via_spacing\", \"-($ms_width+$sl_spacing)/2\"],\n",
    "        [\"2*$pcb_len/3-$via_spacing\", \"-($ms_width+$sl_spacing+$via_spacing)/2\"],\n",
    "        [\"2*$pcb_len/3\", \"-($ms_width+$sl_spacing+$via_spacing)/2\"],\n",
    "    ],\n",
    "    [\n",
    "        [\"2*$pcb_len/3\", \"-($ms_width+$ms_spacing+$via_spacing)/2\"],\n",
    "        [\"2*$pcb_len/3 + $via_spacing\", \"-($ms_width+$ms_spacing+$via_spacing)/2\"],\n",
    "        [\"2*$pcb_len/3 + 2*$via_spacing\", \"-($ms_width+$ms_spacing)/2\"],\n",
    "        [\"$pcb_len\", \"-($ms_width + $ms_spacing)/2\"],\n",
    "    ],\n",
    "]"
   ]
  },
  {
   "cell_type": "markdown",
   "id": "8f15b725",
   "metadata": {},
   "source": [
    "Add traces to the EDB."
   ]
  },
  {
   "cell_type": "code",
   "execution_count": 15,
   "id": "24ccee49",
   "metadata": {
    "execution": {
     "iopub.execute_input": "2024-12-07T08:15:35.311018Z",
     "iopub.status.busy": "2024-12-07T08:15:35.311018Z",
     "iopub.status.idle": "2024-12-07T08:15:35.373522Z",
     "shell.execute_reply": "2024-12-07T08:15:35.373522Z"
    }
   },
   "outputs": [],
   "source": [
    "trace_p = []\n",
    "trace_n = []\n",
    "for n in range(len(points_p)):\n",
    "    trace_p.append(edb.modeler.create_trace(points_p[n], route_layer[n], width[n], net_p, \"Flat\", \"Flat\"))\n",
    "    trace_n.append(edb.modeler.create_trace(points_n[n], route_layer[n], width[n], net_n, \"Flat\", \"Flat\"))"
   ]
  },
  {
   "cell_type": "markdown",
   "id": "791d14af",
   "metadata": {},
   "source": [
    "Create the wave ports"
   ]
  },
  {
   "cell_type": "code",
   "execution_count": 16,
   "id": "ee6650b9",
   "metadata": {
    "execution": {
     "iopub.execute_input": "2024-12-07T08:15:35.373522Z",
     "iopub.status.busy": "2024-12-07T08:15:35.373522Z",
     "iopub.status.idle": "2024-12-07T08:15:35.420383Z",
     "shell.execute_reply": "2024-12-07T08:15:35.420383Z"
    }
   },
   "outputs": [],
   "source": [
    "p1 = edb.hfss.create_differential_wave_port(\n",
    "    trace_p[0].id,\n",
    "    [\"0.0\", \"($ms_width+$ms_spacing)/2\"],\n",
    "    trace_n[0].id,\n",
    "    [\"0.0\", \"-($ms_width+$ms_spacing)/2\"],\n",
    "    \"wave_port_1\",\n",
    ")"
   ]
  },
  {
   "cell_type": "code",
   "execution_count": 17,
   "id": "30ce0281",
   "metadata": {
    "execution": {
     "iopub.execute_input": "2024-12-07T08:15:35.420383Z",
     "iopub.status.busy": "2024-12-07T08:15:35.420383Z",
     "iopub.status.idle": "2024-12-07T08:15:35.436030Z",
     "shell.execute_reply": "2024-12-07T08:15:35.436030Z"
    }
   },
   "outputs": [],
   "source": [
    "pos_p1 = p1[1].terminals[0].name\n",
    "neg_p1 = p1[1].terminals[1].name"
   ]
  },
  {
   "cell_type": "code",
   "execution_count": 18,
   "id": "7a8ade98",
   "metadata": {
    "execution": {
     "iopub.execute_input": "2024-12-07T08:15:35.436030Z",
     "iopub.status.busy": "2024-12-07T08:15:35.436030Z",
     "iopub.status.idle": "2024-12-07T08:15:35.451631Z",
     "shell.execute_reply": "2024-12-07T08:15:35.451631Z"
    }
   },
   "outputs": [],
   "source": [
    "p2 = edb.hfss.create_differential_wave_port(\n",
    "    trace_p[2].id,\n",
    "    [\"$pcb_len\", \"($ms_width+$ms_spacing)/2\"],\n",
    "    trace_n[2].id,\n",
    "    [\"$pcb_len\", \"-($ms_width + $ms_spacing)/2\"],\n",
    "    \"wave_port_2\",\n",
    ")"
   ]
  },
  {
   "cell_type": "code",
   "execution_count": 19,
   "id": "429ee2fb",
   "metadata": {
    "execution": {
     "iopub.execute_input": "2024-12-07T08:15:35.451631Z",
     "iopub.status.busy": "2024-12-07T08:15:35.451631Z",
     "iopub.status.idle": "2024-12-07T08:15:35.467257Z",
     "shell.execute_reply": "2024-12-07T08:15:35.467257Z"
    }
   },
   "outputs": [],
   "source": [
    "pos_p2 = p2[1].terminals[0].name\n",
    "neg_p2 = p2[1].terminals[1].name"
   ]
  },
  {
   "cell_type": "markdown",
   "id": "f3c15f50",
   "metadata": {},
   "source": [
    "Draw a conducting rectangle on the ground layers."
   ]
  },
  {
   "cell_type": "code",
   "execution_count": 20,
   "id": "21d7f3cb",
   "metadata": {
    "execution": {
     "iopub.execute_input": "2024-12-07T08:15:35.467257Z",
     "iopub.status.busy": "2024-12-07T08:15:35.467257Z",
     "iopub.status.idle": "2024-12-07T08:15:35.482884Z",
     "shell.execute_reply": "2024-12-07T08:15:35.482884Z"
    }
   },
   "outputs": [],
   "source": [
    "gnd_poly = [\n",
    "    [0.0, \"-$pcb_w/2\"],\n",
    "    [\"$pcb_len\", \"-$pcb_w/2\"],\n",
    "    [\"$pcb_len\", \"$pcb_w/2\"],\n",
    "    [0.0, \"$pcb_w/2\"],\n",
    "]\n",
    "gnd_shape = edb.modeler.Shape(\"polygon\", points=gnd_poly)"
   ]
  },
  {
   "cell_type": "markdown",
   "id": "a57ec6da",
   "metadata": {},
   "source": [
    "Void in ground for traces on the signal routing layer"
   ]
  },
  {
   "cell_type": "code",
   "execution_count": 21,
   "id": "7d80e391",
   "metadata": {
    "execution": {
     "iopub.execute_input": "2024-12-07T08:15:35.482884Z",
     "iopub.status.busy": "2024-12-07T08:15:35.482884Z",
     "iopub.status.idle": "2024-12-07T08:15:35.498523Z",
     "shell.execute_reply": "2024-12-07T08:15:35.498523Z"
    }
   },
   "outputs": [],
   "source": [
    "void_poly = [\n",
    "    [\"$pcb_len/3\", \"-($ms_width+$ms_spacing+$via_spacing+$anti_pad_diam)/2-$via_spacing/2\"],\n",
    "    [\n",
    "        \"$pcb_len/3 + $via_spacing\",\n",
    "        \"-($ms_width+$ms_spacing+$via_spacing+$anti_pad_diam)/2-$via_spacing/2\",\n",
    "    ],\n",
    "    [\"$pcb_len/3 + 2*$via_spacing\", \"-($ms_width+$ms_spacing+$via_spacing+$anti_pad_diam)/2\"],\n",
    "    [\"2*$pcb_len/3 - 2*$via_spacing\", \"-($ms_width+$ms_spacing+$via_spacing+$anti_pad_diam)/2\"],\n",
    "    [\n",
    "        \"2*$pcb_len/3 - $via_spacing\",\n",
    "        \"-($ms_width+$ms_spacing+$via_spacing+$anti_pad_diam)/2-$via_spacing/2\",\n",
    "    ],\n",
    "    [\"2*$pcb_len/3\", \"-($ms_width+$ms_spacing+$via_spacing+$anti_pad_diam)/2-$via_spacing/2\"],\n",
    "    [\"2*$pcb_len/3\", \"($ms_width+$ms_spacing+$via_spacing+$anti_pad_diam)/2+$via_spacing/2\"],\n",
    "    [\n",
    "        \"2*$pcb_len/3 - $via_spacing\",\n",
    "        \"($ms_width+$ms_spacing+$via_spacing+$anti_pad_diam)/2+$via_spacing/2\",\n",
    "    ],\n",
    "    [\"2*$pcb_len/3 - 2*$via_spacing\", \"($ms_width+$ms_spacing+$via_spacing+$anti_pad_diam)/2\"],\n",
    "    [\"$pcb_len/3 + 2*$via_spacing\", \"($ms_width+$ms_spacing+$via_spacing+$anti_pad_diam)/2\"],\n",
    "    [\n",
    "        \"$pcb_len/3 + $via_spacing\",\n",
    "        \"($ms_width+$ms_spacing+$via_spacing+$anti_pad_diam)/2+$via_spacing/2\",\n",
    "    ],\n",
    "    [\"$pcb_len/3\", \"($ms_width+$ms_spacing+$via_spacing+$anti_pad_diam)/2+$via_spacing/2\"],\n",
    "    [\"$pcb_len/3\", \"($ms_width+$ms_spacing+$via_spacing+$anti_pad_diam)/2\"],\n",
    "]\n",
    "\n",
    "void_shape = edb.modeler.Shape(\"polygon\", points=void_poly)"
   ]
  },
  {
   "cell_type": "markdown",
   "id": "fdd47301",
   "metadata": {},
   "source": [
    "Add ground conductors."
   ]
  },
  {
   "cell_type": "code",
   "execution_count": 22,
   "id": "149d7df3",
   "metadata": {
    "execution": {
     "iopub.execute_input": "2024-12-07T08:15:35.498523Z",
     "iopub.status.busy": "2024-12-07T08:15:35.498523Z",
     "iopub.status.idle": "2024-12-07T08:15:35.592314Z",
     "shell.execute_reply": "2024-12-07T08:15:35.592314Z"
    }
   },
   "outputs": [],
   "source": [
    "for layer in layer_names[:-1:2]:\n",
    "    # add void if the layer is the signal routing layer.\n",
    "    void = [void_shape] if layer == route_layer[1] else []\n",
    "\n",
    "    edb.modeler.create_polygon(main_shape=gnd_shape, layer_name=layer, voids=void, net_name=\"gnd\")"
   ]
  },
  {
   "cell_type": "markdown",
   "id": "cd475090",
   "metadata": {},
   "source": [
    "Plot the layout."
   ]
  },
  {
   "cell_type": "code",
   "execution_count": 23,
   "id": "772a7428",
   "metadata": {
    "execution": {
     "iopub.execute_input": "2024-12-07T08:15:35.592314Z",
     "iopub.status.busy": "2024-12-07T08:15:35.592314Z",
     "iopub.status.idle": "2024-12-07T08:15:36.826657Z",
     "shell.execute_reply": "2024-12-07T08:15:36.826657Z"
    }
   },
   "outputs": [
    {
     "name": "stdout",
     "output_type": "stream",
     "text": [
      "PyAEDT INFO: Plot Generation time 0.188\n"
     ]
    },
    {
     "data": {
      "text/plain": [
       "(<Figure size 6000x3000 with 1 Axes>, <Axes: title={'center': 'Edb Top View'}>)"
      ]
     },
     "execution_count": 23,
     "metadata": {},
     "output_type": "execute_result"
    },
    {
     "data": {
      "image/png": "[encoded data removed]",
      "text/plain": [
       "<Figure size 6000x3000 with 1 Axes>"
      ]
     },
     "metadata": {},
     "output_type": "display_data"
    }
   ],
   "source": [
    "edb.nets.plot(None)"
   ]
  },
  {
   "cell_type": "markdown",
   "id": "8144aa2b",
   "metadata": {},
   "source": [
    "Save the EDB."
   ]
  },
  {
   "cell_type": "code",
   "execution_count": 24,
   "id": "144013d0",
   "metadata": {
    "execution": {
     "iopub.execute_input": "2024-12-07T08:15:36.826657Z",
     "iopub.status.busy": "2024-12-07T08:15:36.826657Z",
     "iopub.status.idle": "2024-12-07T08:15:36.873545Z",
     "shell.execute_reply": "2024-12-07T08:15:36.873545Z"
    }
   },
   "outputs": [
    {
     "name": "stdout",
     "output_type": "stream",
     "text": [
      "PyAEDT INFO: EDB file save time: 0.00ms\n"
     ]
    },
    {
     "name": "stdout",
     "output_type": "stream",
     "text": [
      "PyAEDT INFO: EDB file release time: 0.00ms\n"
     ]
    },
    {
     "data": {
      "text/plain": [
       "True"
      ]
     },
     "execution_count": 24,
     "metadata": {},
     "output_type": "execute_result"
    }
   ],
   "source": [
    "edb.save_edb()\n",
    "edb.close_edb()"
   ]
  },
  {
   "cell_type": "markdown",
   "id": "6671b49a",
   "metadata": {},
   "source": [
    "Open the project in HFSS 3D Layout."
   ]
  },
  {
   "cell_type": "code",
   "execution_count": 25,
   "id": "7f54add4",
   "metadata": {
    "execution": {
     "iopub.execute_input": "2024-12-07T08:15:36.873545Z",
     "iopub.status.busy": "2024-12-07T08:15:36.873545Z",
     "iopub.status.idle": "2024-12-07T08:16:09.510095Z",
     "shell.execute_reply": "2024-12-07T08:16:09.510095Z"
    }
   },
   "outputs": [
    {
     "name": "stdout",
     "output_type": "stream",
     "text": [
      "PyAEDT INFO: Python version 3.10.11 (tags/v3.10.11:7d4cc5a, Apr  5 2023, 00:38:17) [MSC v.1929 64 bit (AMD64)]\n"
     ]
    },
    {
     "name": "stdout",
     "output_type": "stream",
     "text": [
      "PyAEDT INFO: PyAEDT version 0.12.dev0.\n"
     ]
    },
    {
     "name": "stdout",
     "output_type": "stream",
     "text": [
      "PyAEDT INFO: Initializing new Desktop session.\n"
     ]
    },
    {
     "name": "stdout",
     "output_type": "stream",
     "text": [
      "PyAEDT INFO: Log on console is enabled.\n"
     ]
    },
    {
     "name": "stdout",
     "output_type": "stream",
     "text": [
      "PyAEDT INFO: Log on file C:\\Users\\ansys\\AppData\\Local\\Temp\\pyaedt_ansys_a886d170-e8bc-41af-b294-75ff7d6745d0.log is enabled.\n"
     ]
    },
    {
     "name": "stdout",
     "output_type": "stream",
     "text": [
      "PyAEDT INFO: Log on AEDT is enabled.\n"
     ]
    },
    {
     "name": "stdout",
     "output_type": "stream",
     "text": [
      "PyAEDT INFO: Debug logger is disabled. PyAEDT methods will not be logged.\n"
     ]
    },
    {
     "name": "stdout",
     "output_type": "stream",
     "text": [
      "PyAEDT INFO: Launching PyAEDT with gRPC plugin.\n"
     ]
    },
    {
     "name": "stdout",
     "output_type": "stream",
     "text": [
      "PyAEDT INFO: New AEDT session is starting on gRPC port 56401\n"
     ]
    },
    {
     "name": "stdout",
     "output_type": "stream",
     "text": [
      "PyAEDT INFO: AEDT installation Path C:\\Program Files\\AnsysEM\\v242\\Win64\n"
     ]
    },
    {
     "name": "stdout",
     "output_type": "stream",
     "text": [
      "PyAEDT INFO: Ansoft.ElectronicsDesktop.2024.2 version started with process ID 1496.\n"
     ]
    },
    {
     "name": "stdout",
     "output_type": "stream",
     "text": [
      "PyAEDT INFO: EDB folder C:\\Users\\ansys\\AppData\\Local\\Temp\\tmptgxtqjyt.ansys\\pcb.aedb has been imported to project pcb\n"
     ]
    },
    {
     "name": "stdout",
     "output_type": "stream",
     "text": [
      "PyAEDT INFO: Active Design set to 0;Cell_MHAZOF\n"
     ]
    },
    {
     "name": "stdout",
     "output_type": "stream",
     "text": [
      "PyAEDT INFO: Aedt Objects correctly read\n"
     ]
    }
   ],
   "source": [
    "h3d = ansys.aedt.core.Hfss3dLayout(\n",
    "    project=aedb_path,\n",
    "    version=edb_version,\n",
    "    non_graphical=non_graphical,\n",
    "    new_desktop=True,\n",
    ")"
   ]
  },
  {
   "cell_type": "markdown",
   "id": "f25e5811",
   "metadata": {},
   "source": [
    "## Add HFSS simulation setup\n",
    "\n",
    "Add HFSS simulation setup."
   ]
  },
  {
   "cell_type": "code",
   "execution_count": 26,
   "id": "1a8cabd8",
   "metadata": {
    "execution": {
     "iopub.execute_input": "2024-12-07T08:16:09.510095Z",
     "iopub.status.busy": "2024-12-07T08:16:09.510095Z",
     "iopub.status.idle": "2024-12-07T08:16:09.651913Z",
     "shell.execute_reply": "2024-12-07T08:16:09.651913Z"
    }
   },
   "outputs": [
    {
     "name": "stdout",
     "output_type": "stream",
     "text": [
      "PyAEDT INFO: Linear count sweep sweep1 has been correctly created.\n"
     ]
    },
    {
     "data": {
      "text/plain": [
       "<ansys.aedt.core.modules.solve_sweeps.SweepHFSS3DLayout at 0x1f4972faf20>"
      ]
     },
     "execution_count": 26,
     "metadata": {},
     "output_type": "execute_result"
    }
   ],
   "source": [
    "setup = h3d.create_setup()\n",
    "setup.props[\"AdaptiveSettings\"][\"SingleFrequencyDataList\"][\"AdaptiveFrequencyData\"][\"MaxPasses\"] = 3\n",
    "\n",
    "h3d.create_linear_count_sweep(\n",
    "    setup=setup.name,\n",
    "    unit=\"GHz\",\n",
    "    start_frequency=0,\n",
    "    stop_frequency=10,\n",
    "    num_of_freq_points=1001,\n",
    "    name=\"sweep1\",\n",
    "    sweep_type=\"Interpolating\",\n",
    "    interpolation_tol_percent=1,\n",
    "    interpolation_max_solutions=255,\n",
    "    save_fields=False,\n",
    "    use_q3d_for_dc=False,\n",
    ")"
   ]
  },
  {
   "cell_type": "markdown",
   "id": "22a96c97",
   "metadata": {},
   "source": [
    "Define the differential pairs to used to calculate differential and common mode\n",
    "s-parameters."
   ]
  },
  {
   "cell_type": "code",
   "execution_count": 27,
   "id": "b1c00f3d",
   "metadata": {
    "execution": {
     "iopub.execute_input": "2024-12-07T08:16:09.651913Z",
     "iopub.status.busy": "2024-12-07T08:16:09.651913Z",
     "iopub.status.idle": "2024-12-07T08:16:09.699889Z",
     "shell.execute_reply": "2024-12-07T08:16:09.699889Z"
    }
   },
   "outputs": [
    {
     "data": {
      "text/plain": [
       "True"
      ]
     },
     "execution_count": 27,
     "metadata": {},
     "output_type": "execute_result"
    }
   ],
   "source": [
    "h3d.set_differential_pair(differential_mode=\"In\", assignment=pos_p1, reference=neg_p1)\n",
    "h3d.set_differential_pair(differential_mode=\"Out\", assignment=pos_p2, reference=neg_p2)"
   ]
  },
  {
   "cell_type": "markdown",
   "id": "40f7b0ee",
   "metadata": {},
   "source": [
    "Solve the project."
   ]
  },
  {
   "cell_type": "code",
   "execution_count": 28,
   "id": "0f5e1806",
   "metadata": {
    "execution": {
     "iopub.execute_input": "2024-12-07T08:16:09.699889Z",
     "iopub.status.busy": "2024-12-07T08:16:09.699889Z",
     "iopub.status.idle": "2024-12-07T08:17:39.202915Z",
     "shell.execute_reply": "2024-12-07T08:17:39.202915Z"
    }
   },
   "outputs": [
    {
     "name": "stdout",
     "output_type": "stream",
     "text": [
      "PyAEDT INFO: Key Desktop/ActiveDSOConfigurations/HFSS 3D Layout Design correctly changed.\n"
     ]
    },
    {
     "name": "stdout",
     "output_type": "stream",
     "text": [
      "PyAEDT INFO: Solving all design setups.\n"
     ]
    },
    {
     "name": "stdout",
     "output_type": "stream",
     "text": [
      "PyAEDT INFO: Key Desktop/ActiveDSOConfigurations/HFSS 3D Layout Design correctly changed.\n"
     ]
    },
    {
     "name": "stdout",
     "output_type": "stream",
     "text": [
      "PyAEDT INFO: Design setup None solved correctly in 0.0h 1.0m 29.0s\n"
     ]
    },
    {
     "data": {
      "text/plain": [
       "True"
      ]
     },
     "execution_count": 28,
     "metadata": {},
     "output_type": "execute_result"
    }
   ],
   "source": [
    "h3d.analyze()"
   ]
  },
  {
   "cell_type": "markdown",
   "id": "11ffc548",
   "metadata": {},
   "source": [
    "Plot the results and shut down AEDT."
   ]
  },
  {
   "cell_type": "code",
   "execution_count": 29,
   "id": "bc4f0101",
   "metadata": {
    "execution": {
     "iopub.execute_input": "2024-12-07T08:17:39.202915Z",
     "iopub.status.busy": "2024-12-07T08:17:39.202915Z",
     "iopub.status.idle": "2024-12-07T08:17:43.638636Z",
     "shell.execute_reply": "2024-12-07T08:17:43.638636Z"
    }
   },
   "outputs": [
    {
     "name": "stdout",
     "output_type": "stream",
     "text": [
      "PyAEDT INFO: Parsing C:/Users/ansys/AppData/Local/Temp/tmptgxtqjyt.ansys/pcb.aedt.\n"
     ]
    },
    {
     "name": "stdout",
     "output_type": "stream",
     "text": [
      "PyAEDT INFO: File C:/Users/ansys/AppData/Local/Temp/tmptgxtqjyt.ansys/pcb.aedt correctly loaded. Elapsed time: 0m 0sec\n"
     ]
    },
    {
     "name": "stdout",
     "output_type": "stream",
     "text": [
      "PyAEDT INFO: aedt file load time 0.01563096046447754\n"
     ]
    },
    {
     "name": "stdout",
     "output_type": "stream",
     "text": [
      "PyAEDT INFO: Loading Modeler.\n"
     ]
    },
    {
     "name": "stdout",
     "output_type": "stream",
     "text": [
      "PyAEDT INFO: Modeler loaded.\n"
     ]
    },
    {
     "name": "stdout",
     "output_type": "stream",
     "text": [
      "PyAEDT INFO: EDB loaded.\n"
     ]
    },
    {
     "name": "stdout",
     "output_type": "stream",
     "text": [
      "PyAEDT INFO: Layers loaded.\n"
     ]
    },
    {
     "name": "stdout",
     "output_type": "stream",
     "text": [
      "PyAEDT INFO: Primitives loaded.\n"
     ]
    },
    {
     "name": "stdout",
     "output_type": "stream",
     "text": [
      "PyAEDT INFO: Modeler class has been initialized! Elapsed time: 0m 0sec\n"
     ]
    },
    {
     "name": "stdout",
     "output_type": "stream",
     "text": [
      "PyAEDT INFO: PostProcessor class has been initialized! Elapsed time: 0m 0sec\n"
     ]
    },
    {
     "name": "stdout",
     "output_type": "stream",
     "text": [
      "PyAEDT INFO: Post class has been initialized! Elapsed time: 0m 0sec\n"
     ]
    },
    {
     "name": "stdout",
     "output_type": "stream",
     "text": [
      "PyAEDT INFO: Solution Data Correctly Loaded.\n"
     ]
    },
    {
     "name": "stdout",
     "output_type": "stream",
     "text": [
      "PyAEDT INFO: Desktop has been released and closed.\n"
     ]
    },
    {
     "data": {
      "text/plain": [
       "True"
      ]
     },
     "execution_count": 29,
     "metadata": {},
     "output_type": "execute_result"
    },
    {
     "data": {
      "image/png": "[encoded data removed]",
      "text/plain": [
       "<Figure size 1920x1440 with 2 Axes>"
      ]
     },
     "metadata": {},
     "output_type": "display_data"
    }
   ],
   "source": [
    "solutions = h3d.post.get_solution_data([\"dB(S(In,In))\", \"dB(S(In,Out))\"], context=\"Differential Pairs\")\n",
    "solutions.plot()\n",
    "h3d.release_desktop()"
   ]
  },
  {
   "cell_type": "markdown",
   "id": "d480c5e0",
   "metadata": {},
   "source": [
    "Note that the ground nets are only connected to each other due\n",
    "to the wave ports. The problem with poor grounding can be seen in the\n",
    "S-parameters. This example can be downloaded as a Jupyter Notebook, so\n",
    "you can modify it. Try changing parameters or adding ground vias to improve performance.\n",
    "\n",
    "The final cell cleans up the temporary directory, removing all files."
   ]
  },
  {
   "cell_type": "code",
   "execution_count": 30,
   "id": "15e4eab5",
   "metadata": {
    "execution": {
     "iopub.execute_input": "2024-12-07T08:17:43.638636Z",
     "iopub.status.busy": "2024-12-07T08:17:43.638636Z",
     "iopub.status.idle": "2024-12-07T08:17:43.654362Z",
     "shell.execute_reply": "2024-12-07T08:17:43.654362Z"
    }
   },
   "outputs": [],
   "source": [
    "temp_dir.cleanup()"
   ]
  }
 ],
 "metadata": {
  "jupytext": {
   "cell_metadata_filter": "-all",
   "main_language": "python",
   "notebook_metadata_filter": "-all",
   "text_representation": {
    "extension": ".py",
    "format_name": "light"
   }
  },
  "language_info": {
   "codemirror_mode": {
    "name": "ipython",
    "version": 3
   },
   "file_extension": ".py",
   "mimetype": "text/x-python",
   "name": "python",
   "nbconvert_exporter": "python",
   "pygments_lexer": "ipython3",
   "version": "3.10.11"
  }
 },
 "nbformat": 4,
 "nbformat_minor": 5
}
