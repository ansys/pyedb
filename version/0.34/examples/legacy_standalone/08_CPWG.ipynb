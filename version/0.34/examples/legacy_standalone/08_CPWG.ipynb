{
 "cells": [
  {
   "cell_type": "markdown",
   "id": "0b233316",
   "metadata": {},
   "source": [
    "# EDB: fully parametrized CPWG design"
   ]
  },
  {
   "cell_type": "markdown",
   "id": "05d8ee2a",
   "metadata": {
    "lines_to_next_cell": 2
   },
   "source": [
    "This example shows how you can use HFSS 3D Layout to create a parametric design\n",
    "for a CPWG (coplanar waveguide with ground)."
   ]
  },
  {
   "cell_type": "markdown",
   "id": "99ffb317",
   "metadata": {},
   "source": [
    "## Perform required imports"
   ]
  },
  {
   "cell_type": "markdown",
   "id": "f4ff1aa3",
   "metadata": {},
   "source": [
    "Perform required imports. Importing the ``Hfss3dlayout`` object initializes it\n",
    "on version 2023 R2."
   ]
  },
  {
   "cell_type": "code",
   "execution_count": 1,
   "id": "9c81c70d",
   "metadata": {
    "execution": {
     "iopub.execute_input": "2024-12-07T08:29:23.463205Z",
     "iopub.status.busy": "2024-12-07T08:29:23.463205Z",
     "iopub.status.idle": "2024-12-07T08:29:23.478770Z",
     "shell.execute_reply": "2024-12-07T08:29:23.478770Z"
    }
   },
   "outputs": [],
   "source": [
    "import os"
   ]
  },
  {
   "cell_type": "code",
   "execution_count": 2,
   "id": "5de83505",
   "metadata": {
    "execution": {
     "iopub.execute_input": "2024-12-07T08:29:23.478770Z",
     "iopub.status.busy": "2024-12-07T08:29:23.478770Z",
     "iopub.status.idle": "2024-12-07T08:29:24.073081Z",
     "shell.execute_reply": "2024-12-07T08:29:24.073081Z"
    }
   },
   "outputs": [],
   "source": [
    "import ansys.aedt.core\n",
    "import numpy as np"
   ]
  },
  {
   "cell_type": "code",
   "execution_count": 3,
   "id": "d845393b",
   "metadata": {
    "execution": {
     "iopub.execute_input": "2024-12-07T08:29:24.073081Z",
     "iopub.status.busy": "2024-12-07T08:29:24.073081Z",
     "iopub.status.idle": "2024-12-07T08:29:24.104383Z",
     "shell.execute_reply": "2024-12-07T08:29:24.104383Z"
    }
   },
   "outputs": [],
   "source": [
    "from pyedb import Edb\n",
    "from pyedb.generic.general_methods import (\n",
    "    generate_unique_folder_name,\n",
    "    generate_unique_name,\n",
    ")"
   ]
  },
  {
   "cell_type": "markdown",
   "id": "d345ba07",
   "metadata": {},
   "source": [
    "## Set non-graphical mode"
   ]
  },
  {
   "cell_type": "markdown",
   "id": "ea1c7e6a",
   "metadata": {},
   "source": [
    "Set non-graphical mode. The default is ``False``."
   ]
  },
  {
   "cell_type": "code",
   "execution_count": 4,
   "id": "dfcea7a6",
   "metadata": {
    "execution": {
     "iopub.execute_input": "2024-12-07T08:29:24.104383Z",
     "iopub.status.busy": "2024-12-07T08:29:24.104383Z",
     "iopub.status.idle": "2024-12-07T08:29:24.119997Z",
     "shell.execute_reply": "2024-12-07T08:29:24.119997Z"
    }
   },
   "outputs": [],
   "source": [
    "non_graphical = False"
   ]
  },
  {
   "cell_type": "markdown",
   "id": "3fba6797",
   "metadata": {},
   "source": [
    "## Launch EDB"
   ]
  },
  {
   "cell_type": "code",
   "execution_count": 5,
   "id": "8d4df8f8",
   "metadata": {
    "execution": {
     "iopub.execute_input": "2024-12-07T08:29:24.119997Z",
     "iopub.status.busy": "2024-12-07T08:29:24.119997Z",
     "iopub.status.idle": "2024-12-07T08:29:36.269462Z",
     "shell.execute_reply": "2024-12-07T08:29:36.269462Z"
    }
   },
   "outputs": [
    {
     "name": "stdout",
     "output_type": "stream",
     "text": [
      "C:\\Users\\ansys\\AppData\\Local\\Temp\\pyedb_prj_UN5\\pcb_8Z1VIJ.aedb\n",
      "EDB version: 2024.2\n"
     ]
    },
    {
     "name": "stdout",
     "output_type": "stream",
     "text": [
      "PyAEDT INFO: Logger is initialized in EDB.\n"
     ]
    },
    {
     "name": "stdout",
     "output_type": "stream",
     "text": [
      "PyAEDT INFO: legacy v0.34.3\n"
     ]
    },
    {
     "name": "stdout",
     "output_type": "stream",
     "text": [
      "PyAEDT INFO: Python version 3.10.11 (tags/v3.10.11:7d4cc5a, Apr  5 2023, 00:38:17) [MSC v.1929 64 bit (AMD64)]\n"
     ]
    },
    {
     "name": "stdout",
     "output_type": "stream",
     "text": [
      "PyAEDT INFO: EDB C:\\Users\\ansys\\AppData\\Local\\Temp\\pyedb_prj_UN5\\pcb_8Z1VIJ.aedb created correctly.\n"
     ]
    },
    {
     "name": "stdout",
     "output_type": "stream",
     "text": [
      "PyAEDT INFO: EDB initialized.\n"
     ]
    }
   ],
   "source": [
    "aedb_path = os.path.join(generate_unique_folder_name(), generate_unique_name(\"pcb\") + \".aedb\")\n",
    "print(aedb_path)\n",
    "\n",
    "# Select EDB version (change it manually if needed, e.g. \"2024.2\")\n",
    "edb_version = \"2024.2\"\n",
    "print(f\"EDB version: {edb_version}\")\n",
    "aedt_version = edb_version\n",
    "\n",
    "edbapp = Edb(edbpath=aedb_path, edbversion=edb_version)"
   ]
  },
  {
   "cell_type": "markdown",
   "id": "a7417211",
   "metadata": {},
   "source": [
    "## Define parameters"
   ]
  },
  {
   "cell_type": "code",
   "execution_count": 6,
   "id": "386a2d21",
   "metadata": {
    "execution": {
     "iopub.execute_input": "2024-12-07T08:29:36.269462Z",
     "iopub.status.busy": "2024-12-07T08:29:36.269462Z",
     "iopub.status.idle": "2024-12-07T08:29:36.300570Z",
     "shell.execute_reply": "2024-12-07T08:29:36.300570Z"
    },
    "lines_to_next_cell": 2
   },
   "outputs": [],
   "source": [
    "params = {\n",
    "    \"$ms_width\": \"0.4mm\",\n",
    "    \"$ms_clearance\": \"0.3mm\",\n",
    "    \"$ms_length\": \"20mm\",\n",
    "}\n",
    "for par_name in params:\n",
    "    edbapp.add_project_variable(par_name, params[par_name])"
   ]
  },
  {
   "cell_type": "markdown",
   "id": "60bedfc9",
   "metadata": {},
   "source": [
    "## Create s symmetric stackup"
   ]
  },
  {
   "cell_type": "code",
   "execution_count": 7,
   "id": "f25daeda",
   "metadata": {
    "execution": {
     "iopub.execute_input": "2024-12-07T08:29:36.300570Z",
     "iopub.status.busy": "2024-12-07T08:29:36.300570Z",
     "iopub.status.idle": "2024-12-07T08:29:36.488144Z",
     "shell.execute_reply": "2024-12-07T08:29:36.488144Z"
    }
   },
   "outputs": [
    {
     "name": "stderr",
     "output_type": "stream",
     "text": [
      "C:\\actions-runner\\_work\\pyedb\\pyedb\\.venv\\lib\\site-packages\\pyedb\\dotnet\\edb_core\\stackup.py:2868: UserWarning: FigureCanvasAgg is non-interactive, and thus cannot be shown\n",
      "  plt.show()\n"
     ]
    },
    {
     "data": {
      "text/plain": [
       "<module 'matplotlib.pyplot' from 'C:\\\\actions-runner\\\\_work\\\\pyedb\\\\pyedb\\\\.venv\\\\lib\\\\site-packages\\\\matplotlib\\\\pyplot.py'>"
      ]
     },
     "execution_count": 7,
     "metadata": {},
     "output_type": "execute_result"
    }
   ],
   "source": [
    "edbapp.stackup.create_symmetric_stackup(2)\n",
    "edbapp.stackup.plot()"
   ]
  },
  {
   "cell_type": "markdown",
   "id": "d0287fd5",
   "metadata": {},
   "source": [
    "## Draw planes"
   ]
  },
  {
   "cell_type": "code",
   "execution_count": 8,
   "id": "bb0a6311",
   "metadata": {
    "execution": {
     "iopub.execute_input": "2024-12-07T08:29:36.488144Z",
     "iopub.status.busy": "2024-12-07T08:29:36.488144Z",
     "iopub.status.idle": "2024-12-07T08:29:36.519375Z",
     "shell.execute_reply": "2024-12-07T08:29:36.519375Z"
    }
   },
   "outputs": [],
   "source": [
    "plane_lw_pt = [\"0mm\", \"-3mm\"]\n",
    "plane_up_pt = [\"$ms_length\", \"3mm\"]\n",
    "\n",
    "top_layer_obj = edbapp.modeler.create_rectangle(\n",
    "    \"TOP\", net_name=\"gnd\", lower_left_point=plane_lw_pt, upper_right_point=plane_up_pt\n",
    ")\n",
    "bot_layer_obj = edbapp.modeler.create_rectangle(\n",
    "    \"BOTTOM\", net_name=\"gnd\", lower_left_point=plane_lw_pt, upper_right_point=plane_up_pt\n",
    ")\n",
    "layer_dict = {\"TOP\": top_layer_obj, \"BOTTOM\": bot_layer_obj}"
   ]
  },
  {
   "cell_type": "markdown",
   "id": "88cf5c2f",
   "metadata": {},
   "source": [
    "## Draw a trace"
   ]
  },
  {
   "cell_type": "code",
   "execution_count": 9,
   "id": "61a3112b",
   "metadata": {
    "execution": {
     "iopub.execute_input": "2024-12-07T08:29:36.519375Z",
     "iopub.status.busy": "2024-12-07T08:29:36.519375Z",
     "iopub.status.idle": "2024-12-07T08:29:36.550625Z",
     "shell.execute_reply": "2024-12-07T08:29:36.550625Z"
    }
   },
   "outputs": [
    {
     "data": {
      "text/plain": [
       "<pyedb.dotnet.edb_core.cell.primitive.path.Path at 0x1811714b4f0>"
      ]
     },
     "execution_count": 9,
     "metadata": {},
     "output_type": "execute_result"
    }
   ],
   "source": [
    "trace_path = [[\"0\", \"0\"], [\"$ms_length\", \"0\"]]\n",
    "edbapp.modeler.create_trace(\n",
    "    trace_path,\n",
    "    layer_name=\"TOP\",\n",
    "    width=\"$ms_width\",\n",
    "    net_name=\"sig\",\n",
    "    start_cap_style=\"Flat\",\n",
    "    end_cap_style=\"Flat\",\n",
    ")"
   ]
  },
  {
   "cell_type": "markdown",
   "id": "571017be",
   "metadata": {},
   "source": [
    "## Create a trace to plane clearance"
   ]
  },
  {
   "cell_type": "code",
   "execution_count": 10,
   "id": "4c01ef03",
   "metadata": {
    "execution": {
     "iopub.execute_input": "2024-12-07T08:29:36.550625Z",
     "iopub.status.busy": "2024-12-07T08:29:36.550625Z",
     "iopub.status.idle": "2024-12-07T08:29:36.691201Z",
     "shell.execute_reply": "2024-12-07T08:29:36.691201Z"
    }
   },
   "outputs": [
    {
     "data": {
      "text/plain": [
       "True"
      ]
     },
     "execution_count": 10,
     "metadata": {},
     "output_type": "execute_result"
    }
   ],
   "source": [
    "poly_void = edbapp.modeler.create_trace(\n",
    "    trace_path,\n",
    "    layer_name=\"TOP\",\n",
    "    net_name=\"gnd\",\n",
    "    width=\"{}+2*{}\".format(\"$ms_width\", \"$ms_clearance\"),\n",
    "    start_cap_style=\"Flat\",\n",
    "    end_cap_style=\"Flat\",\n",
    ")\n",
    "edbapp.modeler.add_void(layer_dict[\"TOP\"], poly_void)"
   ]
  },
  {
   "cell_type": "markdown",
   "id": "4d208396",
   "metadata": {},
   "source": [
    "## Create a ground via padstack and place ground stitching vias"
   ]
  },
  {
   "cell_type": "code",
   "execution_count": 11,
   "id": "fff00016",
   "metadata": {
    "execution": {
     "iopub.execute_input": "2024-12-07T08:29:36.691201Z",
     "iopub.status.busy": "2024-12-07T08:29:36.691201Z",
     "iopub.status.idle": "2024-12-07T08:29:36.941266Z",
     "shell.execute_reply": "2024-12-07T08:29:36.941266Z"
    }
   },
   "outputs": [
    {
     "name": "stdout",
     "output_type": "stream",
     "text": [
      "PyAEDT INFO: Padstack GVIA create correctly\n"
     ]
    }
   ],
   "source": [
    "edbapp.padstacks.create(\n",
    "    padstackname=\"GVIA\",\n",
    "    holediam=\"0.3mm\",\n",
    "    paddiam=\"0.5mm\",\n",
    ")\n",
    "\n",
    "yloc_u = \"$ms_width/2+$ms_clearance+0.25mm\"\n",
    "yloc_l = \"-$ms_width/2-$ms_clearance-0.25mm\"\n",
    "\n",
    "for i in np.arange(1, 20):\n",
    "    edbapp.padstacks.place([str(i) + \"mm\", yloc_u], \"GVIA\", net_name=\"GND\")\n",
    "    edbapp.padstacks.place([str(i) + \"mm\", yloc_l], \"GVIA\", net_name=\"GND\")"
   ]
  },
  {
   "cell_type": "markdown",
   "id": "8e60a146",
   "metadata": {},
   "source": [
    "## Save and close EDB"
   ]
  },
  {
   "cell_type": "code",
   "execution_count": 12,
   "id": "347aa843",
   "metadata": {
    "execution": {
     "iopub.execute_input": "2024-12-07T08:29:36.941266Z",
     "iopub.status.busy": "2024-12-07T08:29:36.941266Z",
     "iopub.status.idle": "2024-12-07T08:29:36.972516Z",
     "shell.execute_reply": "2024-12-07T08:29:36.972516Z"
    }
   },
   "outputs": [
    {
     "name": "stdout",
     "output_type": "stream",
     "text": [
      "PyAEDT INFO: EDB file save time: 0.00ms\n"
     ]
    },
    {
     "name": "stdout",
     "output_type": "stream",
     "text": [
      "PyAEDT INFO: EDB file release time: 0.00ms\n"
     ]
    },
    {
     "data": {
      "text/plain": [
       "True"
      ]
     },
     "execution_count": 12,
     "metadata": {},
     "output_type": "execute_result"
    }
   ],
   "source": [
    "edbapp.save_edb()\n",
    "edbapp.close_edb()"
   ]
  },
  {
   "cell_type": "markdown",
   "id": "ffc30759",
   "metadata": {},
   "source": [
    "## Open EDB in AEDT"
   ]
  },
  {
   "cell_type": "code",
   "execution_count": 13,
   "id": "57db5953",
   "metadata": {
    "execution": {
     "iopub.execute_input": "2024-12-07T08:29:36.972516Z",
     "iopub.status.busy": "2024-12-07T08:29:36.972516Z",
     "iopub.status.idle": "2024-12-07T08:29:36.988152Z",
     "shell.execute_reply": "2024-12-07T08:29:36.988152Z"
    }
   },
   "outputs": [],
   "source": [
    "aedt_version = edb_version"
   ]
  },
  {
   "cell_type": "code",
   "execution_count": 14,
   "id": "3fc1d54b",
   "metadata": {
    "execution": {
     "iopub.execute_input": "2024-12-07T08:29:36.988152Z",
     "iopub.status.busy": "2024-12-07T08:29:36.988152Z",
     "iopub.status.idle": "2024-12-07T08:29:58.149179Z",
     "shell.execute_reply": "2024-12-07T08:29:58.149179Z"
    }
   },
   "outputs": [
    {
     "name": "stdout",
     "output_type": "stream",
     "text": [
      "PyAEDT WARNING: Argument `projectname` is deprecated for method `__init__`; use `project` instead.\n"
     ]
    },
    {
     "name": "stdout",
     "output_type": "stream",
     "text": [
      "PyAEDT WARNING: Argument `specified_version` is deprecated for method `__init__`; use `version` instead.\n"
     ]
    },
    {
     "name": "stdout",
     "output_type": "stream",
     "text": [
      "PyAEDT WARNING: Argument `new_desktop_session` is deprecated for method `__init__`; use `new_desktop` instead.\n"
     ]
    },
    {
     "name": "stdout",
     "output_type": "stream",
     "text": [
      "PyAEDT INFO: Python version 3.10.11 (tags/v3.10.11:7d4cc5a, Apr  5 2023, 00:38:17) [MSC v.1929 64 bit (AMD64)]\n"
     ]
    },
    {
     "name": "stdout",
     "output_type": "stream",
     "text": [
      "PyAEDT INFO: PyAEDT version 0.12.dev0.\n"
     ]
    },
    {
     "name": "stdout",
     "output_type": "stream",
     "text": [
      "PyAEDT INFO: Initializing new Desktop session.\n"
     ]
    },
    {
     "name": "stdout",
     "output_type": "stream",
     "text": [
      "PyAEDT INFO: Log on console is enabled.\n"
     ]
    },
    {
     "name": "stdout",
     "output_type": "stream",
     "text": [
      "PyAEDT INFO: Log on file C:\\Users\\ansys\\AppData\\Local\\Temp\\pyaedt_ansys_e3f78fb2-e461-48a6-826c-e713064cf10a.log is enabled.\n"
     ]
    },
    {
     "name": "stdout",
     "output_type": "stream",
     "text": [
      "PyAEDT INFO: Log on AEDT is enabled.\n"
     ]
    },
    {
     "name": "stdout",
     "output_type": "stream",
     "text": [
      "PyAEDT INFO: Debug logger is disabled. PyAEDT methods will not be logged.\n"
     ]
    },
    {
     "name": "stdout",
     "output_type": "stream",
     "text": [
      "PyAEDT INFO: Launching PyAEDT with gRPC plugin.\n"
     ]
    },
    {
     "name": "stdout",
     "output_type": "stream",
     "text": [
      "PyAEDT INFO: New AEDT session is starting on gRPC port 58797\n"
     ]
    },
    {
     "name": "stdout",
     "output_type": "stream",
     "text": [
      "PyAEDT INFO: AEDT installation Path C:\\Program Files\\AnsysEM\\v242\\Win64\n"
     ]
    },
    {
     "name": "stdout",
     "output_type": "stream",
     "text": [
      "PyAEDT INFO: Ansoft.ElectronicsDesktop.2024.2 version started with process ID 4020.\n"
     ]
    },
    {
     "name": "stdout",
     "output_type": "stream",
     "text": [
      "PyAEDT INFO: EDB folder C:\\Users\\ansys\\AppData\\Local\\Temp\\pyedb_prj_UN5\\pcb_8Z1VIJ.aedb has been imported to project pcb_8Z1VIJ\n"
     ]
    },
    {
     "name": "stdout",
     "output_type": "stream",
     "text": [
      "PyAEDT INFO: Active Design set to 0;Cell_ZGJGPV\n"
     ]
    },
    {
     "name": "stdout",
     "output_type": "stream",
     "text": [
      "PyAEDT INFO: Aedt Objects correctly read\n"
     ]
    }
   ],
   "source": [
    "h3d = ansys.aedt.core.Hfss3dLayout(\n",
    "    projectname=aedb_path,\n",
    "    specified_version=aedt_version,\n",
    "    non_graphical=non_graphical,\n",
    "    new_desktop_session=True,\n",
    ")"
   ]
  },
  {
   "cell_type": "markdown",
   "id": "8ed0bc58",
   "metadata": {},
   "source": [
    "## Create wave ports"
   ]
  },
  {
   "cell_type": "code",
   "execution_count": 15,
   "id": "b1e86749",
   "metadata": {
    "execution": {
     "iopub.execute_input": "2024-12-07T08:29:58.149179Z",
     "iopub.status.busy": "2024-12-07T08:29:58.149179Z",
     "iopub.status.idle": "2024-12-07T08:29:58.496692Z",
     "shell.execute_reply": "2024-12-07T08:29:58.496692Z"
    }
   },
   "outputs": [
    {
     "name": "stdout",
     "output_type": "stream",
     "text": [
      "PyAEDT WARNING: Argument `iswave` is deprecated for method `create_edge_port`; use `is_wave_port` instead.\n"
     ]
    },
    {
     "name": "stdout",
     "output_type": "stream",
     "text": [
      "PyAEDT INFO: Loading Modeler.\n"
     ]
    },
    {
     "name": "stdout",
     "output_type": "stream",
     "text": [
      "PyAEDT INFO: Modeler loaded.\n"
     ]
    },
    {
     "name": "stdout",
     "output_type": "stream",
     "text": [
      "PyAEDT INFO: EDB loaded.\n"
     ]
    },
    {
     "name": "stdout",
     "output_type": "stream",
     "text": [
      "PyAEDT INFO: Layers loaded.\n"
     ]
    },
    {
     "name": "stdout",
     "output_type": "stream",
     "text": [
      "PyAEDT INFO: Primitives loaded.\n"
     ]
    },
    {
     "name": "stdout",
     "output_type": "stream",
     "text": [
      "PyAEDT INFO: Modeler class has been initialized! Elapsed time: 0m 0sec\n"
     ]
    },
    {
     "name": "stdout",
     "output_type": "stream",
     "text": [
      "PyAEDT ERROR: **************************************************************\n"
     ]
    },
    {
     "name": "stdout",
     "output_type": "stream",
     "text": [
      "PyAEDT ERROR:   File \"C:\\actions-runner\\_work\\_tool\\Python\\3.10.11\\x64\\lib\\runpy.py\", line 196, in _run_module_as_main\n"
     ]
    },
    {
     "name": "stdout",
     "output_type": "stream",
     "text": [
      "PyAEDT ERROR:     return _run_code(code, main_globals, None,\n"
     ]
    },
    {
     "name": "stdout",
     "output_type": "stream",
     "text": [
      "PyAEDT ERROR:   File \"C:\\actions-runner\\_work\\_tool\\Python\\3.10.11\\x64\\lib\\runpy.py\", line 86, in _run_code\n"
     ]
    },
    {
     "name": "stdout",
     "output_type": "stream",
     "text": [
      "PyAEDT ERROR:     exec(code, run_globals)\n"
     ]
    },
    {
     "name": "stdout",
     "output_type": "stream",
     "text": [
      "PyAEDT ERROR:   File \"C:\\actions-runner\\_work\\_tool\\Python\\3.10.11\\x64\\lib\\asyncio\\base_events.py\", line 603, in run_forever\n"
     ]
    },
    {
     "name": "stdout",
     "output_type": "stream",
     "text": [
      "PyAEDT ERROR:     self._run_once()\n"
     ]
    },
    {
     "name": "stdout",
     "output_type": "stream",
     "text": [
      "PyAEDT ERROR:   File \"C:\\actions-runner\\_work\\_tool\\Python\\3.10.11\\x64\\lib\\asyncio\\base_events.py\", line 1909, in _run_once\n"
     ]
    },
    {
     "name": "stdout",
     "output_type": "stream",
     "text": [
      "PyAEDT ERROR:     handle._run()\n"
     ]
    },
    {
     "name": "stdout",
     "output_type": "stream",
     "text": [
      "PyAEDT ERROR:   File \"C:\\actions-runner\\_work\\_tool\\Python\\3.10.11\\x64\\lib\\asyncio\\events.py\", line 80, in _run\n"
     ]
    },
    {
     "name": "stdout",
     "output_type": "stream",
     "text": [
      "PyAEDT ERROR:     self._context.run(self._callback, *self._args)\n"
     ]
    },
    {
     "name": "stdout",
     "output_type": "stream",
     "text": [
      "PyAEDT ERROR:   File \"C:\\Users\\ansys\\AppData\\Local\\Temp\\ipykernel_10592\\2075340592.py\", line 1, in <module>\n"
     ]
    },
    {
     "name": "stdout",
     "output_type": "stream",
     "text": [
      "PyAEDT ERROR:     h3d.create_edge_port(\"line_3\", 0, iswave=True, wave_vertical_extension=10, wave_horizontal_extension=10)\n"
     ]
    },
    {
     "name": "stdout",
     "output_type": "stream",
     "text": [
      "PyAEDT ERROR: AEDT API Error on create_edge_port\n"
     ]
    },
    {
     "name": "stdout",
     "output_type": "stream",
     "text": [
      "PyAEDT ERROR: Method arguments: \n"
     ]
    },
    {
     "name": "stdout",
     "output_type": "stream",
     "text": [
      "PyAEDT ERROR:     assignment = line_3 \n"
     ]
    },
    {
     "name": "stdout",
     "output_type": "stream",
     "text": [
      "PyAEDT ERROR:     is_wave_port = True \n"
     ]
    },
    {
     "name": "stdout",
     "output_type": "stream",
     "text": [
      "PyAEDT ERROR:     wave_horizontal_extension = 10 \n"
     ]
    },
    {
     "name": "stdout",
     "output_type": "stream",
     "text": [
      "PyAEDT ERROR:     wave_vertical_extension = 10 \n"
     ]
    },
    {
     "name": "stdout",
     "output_type": "stream",
     "text": [
      "PyAEDT ERROR: **************************************************************\n"
     ]
    },
    {
     "name": "stdout",
     "output_type": "stream",
     "text": [
      "PyAEDT WARNING: Argument `iswave` is deprecated for method `create_edge_port`; use `is_wave_port` instead.\n"
     ]
    },
    {
     "name": "stdout",
     "output_type": "stream",
     "text": [
      "PyAEDT ERROR: **************************************************************\n"
     ]
    },
    {
     "name": "stdout",
     "output_type": "stream",
     "text": [
      "PyAEDT ERROR:   File \"C:\\actions-runner\\_work\\_tool\\Python\\3.10.11\\x64\\lib\\runpy.py\", line 196, in _run_module_as_main\n"
     ]
    },
    {
     "name": "stdout",
     "output_type": "stream",
     "text": [
      "PyAEDT ERROR:     return _run_code(code, main_globals, None,\n"
     ]
    },
    {
     "name": "stdout",
     "output_type": "stream",
     "text": [
      "PyAEDT ERROR:   File \"C:\\actions-runner\\_work\\_tool\\Python\\3.10.11\\x64\\lib\\runpy.py\", line 86, in _run_code\n"
     ]
    },
    {
     "name": "stdout",
     "output_type": "stream",
     "text": [
      "PyAEDT ERROR:     exec(code, run_globals)\n"
     ]
    },
    {
     "name": "stdout",
     "output_type": "stream",
     "text": [
      "PyAEDT ERROR:   File \"C:\\actions-runner\\_work\\_tool\\Python\\3.10.11\\x64\\lib\\asyncio\\base_events.py\", line 603, in run_forever\n"
     ]
    },
    {
     "name": "stdout",
     "output_type": "stream",
     "text": [
      "PyAEDT ERROR:     self._run_once()\n"
     ]
    },
    {
     "name": "stdout",
     "output_type": "stream",
     "text": [
      "PyAEDT ERROR:   File \"C:\\actions-runner\\_work\\_tool\\Python\\3.10.11\\x64\\lib\\asyncio\\base_events.py\", line 1909, in _run_once\n"
     ]
    },
    {
     "name": "stdout",
     "output_type": "stream",
     "text": [
      "PyAEDT ERROR:     handle._run()\n"
     ]
    },
    {
     "name": "stdout",
     "output_type": "stream",
     "text": [
      "PyAEDT ERROR:   File \"C:\\actions-runner\\_work\\_tool\\Python\\3.10.11\\x64\\lib\\asyncio\\events.py\", line 80, in _run\n"
     ]
    },
    {
     "name": "stdout",
     "output_type": "stream",
     "text": [
      "PyAEDT ERROR:     self._context.run(self._callback, *self._args)\n"
     ]
    },
    {
     "name": "stdout",
     "output_type": "stream",
     "text": [
      "PyAEDT ERROR:   File \"C:\\Users\\ansys\\AppData\\Local\\Temp\\ipykernel_10592\\2075340592.py\", line 2, in <module>\n"
     ]
    },
    {
     "name": "stdout",
     "output_type": "stream",
     "text": [
      "PyAEDT ERROR:     h3d.create_edge_port(\"line_3\", 2, iswave=True, wave_vertical_extension=10, wave_horizontal_extension=10)\n"
     ]
    },
    {
     "name": "stdout",
     "output_type": "stream",
     "text": [
      "PyAEDT ERROR: AEDT API Error on create_edge_port\n"
     ]
    },
    {
     "name": "stdout",
     "output_type": "stream",
     "text": [
      "PyAEDT ERROR: Method arguments: \n"
     ]
    },
    {
     "name": "stdout",
     "output_type": "stream",
     "text": [
      "PyAEDT ERROR:     assignment = line_3 \n"
     ]
    },
    {
     "name": "stdout",
     "output_type": "stream",
     "text": [
      "PyAEDT ERROR:     edge_number = 2 \n"
     ]
    },
    {
     "name": "stdout",
     "output_type": "stream",
     "text": [
      "PyAEDT ERROR:     is_wave_port = True \n"
     ]
    },
    {
     "name": "stdout",
     "output_type": "stream",
     "text": [
      "PyAEDT ERROR:     wave_horizontal_extension = 10 \n"
     ]
    },
    {
     "name": "stdout",
     "output_type": "stream",
     "text": [
      "PyAEDT ERROR:     wave_vertical_extension = 10 \n"
     ]
    },
    {
     "name": "stdout",
     "output_type": "stream",
     "text": [
      "PyAEDT ERROR: **************************************************************\n"
     ]
    },
    {
     "data": {
      "text/plain": [
       "False"
      ]
     },
     "execution_count": 15,
     "metadata": {},
     "output_type": "execute_result"
    }
   ],
   "source": [
    "h3d.create_edge_port(\"line_3\", 0, iswave=True, wave_vertical_extension=10, wave_horizontal_extension=10)\n",
    "h3d.create_edge_port(\"line_3\", 2, iswave=True, wave_vertical_extension=10, wave_horizontal_extension=10)"
   ]
  },
  {
   "cell_type": "markdown",
   "id": "18dad7ac",
   "metadata": {},
   "source": [
    "## Edit airbox extents"
   ]
  },
  {
   "cell_type": "code",
   "execution_count": 16,
   "id": "414a9169",
   "metadata": {
    "execution": {
     "iopub.execute_input": "2024-12-07T08:29:58.496692Z",
     "iopub.status.busy": "2024-12-07T08:29:58.496692Z",
     "iopub.status.idle": "2024-12-07T08:29:58.512312Z",
     "shell.execute_reply": "2024-12-07T08:29:58.512312Z"
    }
   },
   "outputs": [
    {
     "data": {
      "text/plain": [
       "True"
      ]
     },
     "execution_count": 16,
     "metadata": {},
     "output_type": "execute_result"
    }
   ],
   "source": [
    "h3d.edit_hfss_extents(air_vertical_positive_padding=\"10mm\", air_vertical_negative_padding=\"1mm\")"
   ]
  },
  {
   "cell_type": "markdown",
   "id": "e1690bd7",
   "metadata": {},
   "source": [
    "## Create setup"
   ]
  },
  {
   "cell_type": "code",
   "execution_count": 17,
   "id": "ac9bb743",
   "metadata": {
    "execution": {
     "iopub.execute_input": "2024-12-07T08:29:58.512312Z",
     "iopub.status.busy": "2024-12-07T08:29:58.512312Z",
     "iopub.status.idle": "2024-12-07T08:29:58.812804Z",
     "shell.execute_reply": "2024-12-07T08:29:58.812804Z"
    }
   },
   "outputs": [
    {
     "name": "stdout",
     "output_type": "stream",
     "text": [
      "PyAEDT WARNING: Argument `setupname` is deprecated for method `create_linear_count_sweep`; use `setup` instead.\n"
     ]
    },
    {
     "name": "stdout",
     "output_type": "stream",
     "text": [
      "PyAEDT WARNING: Argument `freqstart` is deprecated for method `create_linear_count_sweep`; use `start_frequency` instead.\n"
     ]
    },
    {
     "name": "stdout",
     "output_type": "stream",
     "text": [
      "PyAEDT WARNING: Argument `freqstop` is deprecated for method `create_linear_count_sweep`; use `stop_frequency` instead.\n"
     ]
    },
    {
     "name": "stdout",
     "output_type": "stream",
     "text": [
      "PyAEDT WARNING: Argument `sweepname` is deprecated for method `create_linear_count_sweep`; use `name` instead.\n"
     ]
    },
    {
     "name": "stdout",
     "output_type": "stream",
     "text": [
      "PyAEDT INFO: Linear count sweep sweep1 has been correctly created.\n"
     ]
    },
    {
     "data": {
      "text/plain": [
       "<ansys.aedt.core.modules.solve_sweeps.SweepHFSS3DLayout at 0x1811714b1f0>"
      ]
     },
     "execution_count": 17,
     "metadata": {},
     "output_type": "execute_result"
    }
   ],
   "source": [
    "setup = h3d.create_setup()\n",
    "setup[\"MaxPasses\"] = 2\n",
    "setup[\"AdaptiveFrequency\"] = \"3GHz\"\n",
    "setup[\"SaveAdaptiveCurrents\"] = True\n",
    "h3d.create_linear_count_sweep(\n",
    "    setupname=setup.name,\n",
    "    unit=\"GHz\",\n",
    "    freqstart=0,\n",
    "    freqstop=5,\n",
    "    num_of_freq_points=1001,\n",
    "    sweepname=\"sweep1\",\n",
    "    sweep_type=\"Interpolating\",\n",
    "    interpolation_tol_percent=1,\n",
    "    interpolation_max_solutions=255,\n",
    "    save_fields=False,\n",
    "    use_q3d_for_dc=False,\n",
    ")"
   ]
  },
  {
   "cell_type": "markdown",
   "id": "962de199",
   "metadata": {},
   "source": [
    "## Plot layout"
   ]
  },
  {
   "cell_type": "code",
   "execution_count": 18,
   "id": "c8dc1f34",
   "metadata": {
    "execution": {
     "iopub.execute_input": "2024-12-07T08:29:58.812804Z",
     "iopub.status.busy": "2024-12-07T08:29:58.812804Z",
     "iopub.status.idle": "2024-12-07T08:29:59.002644Z",
     "shell.execute_reply": "2024-12-07T08:29:59.002644Z"
    }
   },
   "outputs": [
    {
     "name": "stdout",
     "output_type": "stream",
     "text": [
      "PyAEDT INFO: Logger is initialized in EDB.\n"
     ]
    },
    {
     "name": "stdout",
     "output_type": "stream",
     "text": [
      "PyAEDT INFO: legacy v0.34.3\n"
     ]
    },
    {
     "name": "stdout",
     "output_type": "stream",
     "text": [
      "PyAEDT INFO: Python version 3.10.11 (tags/v3.10.11:7d4cc5a, Apr  5 2023, 00:38:17) [MSC v.1929 64 bit (AMD64)]\n"
     ]
    },
    {
     "name": "stdout",
     "output_type": "stream",
     "text": [
      "PyAEDT INFO: Database pcb_8Z1VIJ.aedb Opened in 2024.2\n"
     ]
    },
    {
     "name": "stdout",
     "output_type": "stream",
     "text": [
      "PyAEDT INFO: Cell Cell_ZGJGPV Opened\n"
     ]
    },
    {
     "name": "stdout",
     "output_type": "stream",
     "text": [
      "PyAEDT INFO: Builder was initialized.\n"
     ]
    },
    {
     "name": "stdout",
     "output_type": "stream",
     "text": [
      "PyAEDT INFO: EDB initialized.\n"
     ]
    },
    {
     "name": "stdout",
     "output_type": "stream",
     "text": [
      "PyAEDT INFO: Plot Generation time 0.095\n"
     ]
    }
   ],
   "source": [
    "h3d.modeler.edb.nets.plot(None, None, color_by_net=True)\n",
    "\n",
    "cp_name = h3d.modeler.clip_plane()"
   ]
  },
  {
   "cell_type": "markdown",
   "id": "b3976fb5",
   "metadata": {},
   "source": [
    "## Solve the active design"
   ]
  },
  {
   "cell_type": "markdown",
   "id": "0d20701b",
   "metadata": {},
   "source": [
    "Uncomment the following code to start the HFSS solver and perform post processing."
   ]
  },
  {
   "cell_type": "code",
   "execution_count": 19,
   "id": "206269db",
   "metadata": {
    "execution": {
     "iopub.execute_input": "2024-12-07T08:29:59.002644Z",
     "iopub.status.busy": "2024-12-07T08:29:59.002644Z",
     "iopub.status.idle": "2024-12-07T08:29:59.018261Z",
     "shell.execute_reply": "2024-12-07T08:29:59.018261Z"
    }
   },
   "outputs": [],
   "source": [
    "# h3d.analyze()\n",
    "\n",
    "# solutions = h3d.get_touchstone_data()[0]\n",
    "# solutions.log_x = False\n",
    "# solutions.plot()\n",
    "\n",
    "# h3d.post.create_fieldplot_cutplane(\n",
    "#     cp_name, \"Mag_E\", h3d.nominal_adaptive, intrinsincDict={\"Freq\": \"3GHz\", \"Phase\": \"0deg\"}\n",
    "# )"
   ]
  },
  {
   "cell_type": "markdown",
   "id": "8a6cdf5a",
   "metadata": {},
   "source": [
    "## Save AEDT"
   ]
  },
  {
   "cell_type": "code",
   "execution_count": 20,
   "id": "9b2de03c",
   "metadata": {
    "execution": {
     "iopub.execute_input": "2024-12-07T08:29:59.018261Z",
     "iopub.status.busy": "2024-12-07T08:29:59.018261Z",
     "iopub.status.idle": "2024-12-07T08:29:59.128788Z",
     "shell.execute_reply": "2024-12-07T08:29:59.128788Z"
    }
   },
   "outputs": [
    {
     "name": "stdout",
     "output_type": "stream",
     "text": [
      "PyAEDT INFO: Your AEDT project is saved to C:\\Users\\ansys\\AppData\\Local\\Temp\\pyedb_prj_UN5\\pcb_8Z1VIJ.aedt\n"
     ]
    },
    {
     "name": "stdout",
     "output_type": "stream",
     "text": [
      "PyAEDT INFO: Project pcb_8Z1VIJ Saved correctly\n"
     ]
    },
    {
     "data": {
      "text/plain": [
       "True"
      ]
     },
     "execution_count": 20,
     "metadata": {},
     "output_type": "execute_result"
    }
   ],
   "source": [
    "aedt_path = aedb_path.replace(\".aedb\", \".aedt\")\n",
    "h3d.logger.info(\"Your AEDT project is saved to {}\".format(aedt_path))\n",
    "h3d.save_project()"
   ]
  },
  {
   "cell_type": "markdown",
   "id": "bae2886b",
   "metadata": {},
   "source": [
    "## Release AEDT"
   ]
  },
  {
   "cell_type": "code",
   "execution_count": 21,
   "id": "1ee48876",
   "metadata": {
    "execution": {
     "iopub.execute_input": "2024-12-07T08:29:59.128788Z",
     "iopub.status.busy": "2024-12-07T08:29:59.128788Z",
     "iopub.status.idle": "2024-12-07T08:30:02.371926Z",
     "shell.execute_reply": "2024-12-07T08:30:02.371926Z"
    }
   },
   "outputs": [
    {
     "name": "stdout",
     "output_type": "stream",
     "text": [
      "PyAEDT INFO: Desktop has been released and closed.\n"
     ]
    },
    {
     "data": {
      "text/plain": [
       "True"
      ]
     },
     "execution_count": 21,
     "metadata": {},
     "output_type": "execute_result"
    }
   ],
   "source": [
    "h3d.release_desktop()"
   ]
  }
 ],
 "metadata": {
  "jupytext": {
   "cell_metadata_filter": "-all",
   "main_language": "python",
   "notebook_metadata_filter": "-all",
   "text_representation": {
    "extension": ".py",
    "format_name": "light"
   }
  },
  "language_info": {
   "codemirror_mode": {
    "name": "ipython",
    "version": 3
   },
   "file_extension": ".py",
   "mimetype": "text/x-python",
   "name": "python",
   "nbconvert_exporter": "python",
   "pygments_lexer": "ipython3",
   "version": "3.10.11"
  }
 },
 "nbformat": 4,
 "nbformat_minor": 5
}
