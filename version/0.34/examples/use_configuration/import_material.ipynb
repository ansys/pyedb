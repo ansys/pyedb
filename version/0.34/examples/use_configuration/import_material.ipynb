{
 "cells": [
  {
   "cell_type": "markdown",
   "id": "5655cb4e",
   "metadata": {},
   "source": [
    "# Import Materials\n",
    "This example shows how to import materials."
   ]
  },
  {
   "cell_type": "markdown",
   "id": "894d1a0b",
   "metadata": {},
   "source": [
    "### Import the required packages"
   ]
  },
  {
   "cell_type": "code",
   "execution_count": 1,
   "id": "055e2e95",
   "metadata": {
    "execution": {
     "iopub.execute_input": "2024-12-07T08:31:18.377408Z",
     "iopub.status.busy": "2024-12-07T08:31:18.377408Z",
     "iopub.status.idle": "2024-12-07T08:31:19.346832Z",
     "shell.execute_reply": "2024-12-07T08:31:19.346832Z"
    }
   },
   "outputs": [],
   "source": [
    "import json\n",
    "from pathlib import Path\n",
    "import tempfile\n",
    "\n",
    "from IPython.display import display\n",
    "from ansys.aedt.core.downloads import download_file\n",
    "import pandas as pd\n",
    "\n",
    "from pyedb import Edb\n",
    "\n",
    "AEDT_VERSION = \"2024.2\"\n",
    "NG_MODE = False\n"
   ]
  },
  {
   "cell_type": "markdown",
   "id": "b77f74dd",
   "metadata": {},
   "source": [
    "Download the example PCB data."
   ]
  },
  {
   "cell_type": "code",
   "execution_count": 2,
   "id": "bfb0edb1",
   "metadata": {
    "execution": {
     "iopub.execute_input": "2024-12-07T08:31:19.346832Z",
     "iopub.status.busy": "2024-12-07T08:31:19.346832Z",
     "iopub.status.idle": "2024-12-07T08:31:19.804301Z",
     "shell.execute_reply": "2024-12-07T08:31:19.804301Z"
    }
   },
   "outputs": [],
   "source": [
    "temp_folder = tempfile.TemporaryDirectory(suffix=\".ansys\")\n",
    "file_edb = download_file(source=\"edb/ANSYS-HSD_V1.aedb\", destination=temp_folder.name)"
   ]
  },
  {
   "cell_type": "markdown",
   "id": "3619791e",
   "metadata": {},
   "source": [
    "## Load example layout."
   ]
  },
  {
   "cell_type": "code",
   "execution_count": 3,
   "id": "ad1117a0",
   "metadata": {
    "execution": {
     "iopub.execute_input": "2024-12-07T08:31:19.804301Z",
     "iopub.status.busy": "2024-12-07T08:31:19.804301Z",
     "iopub.status.idle": "2024-12-07T08:31:31.904781Z",
     "shell.execute_reply": "2024-12-07T08:31:31.904781Z"
    }
   },
   "outputs": [
    {
     "name": "stdout",
     "output_type": "stream",
     "text": [
      "PyAEDT INFO: Logger is initialized in EDB.\n"
     ]
    },
    {
     "name": "stdout",
     "output_type": "stream",
     "text": [
      "PyAEDT INFO: legacy v0.34.3\n"
     ]
    },
    {
     "name": "stdout",
     "output_type": "stream",
     "text": [
      "PyAEDT INFO: Python version 3.10.11 (tags/v3.10.11:7d4cc5a, Apr  5 2023, 00:38:17) [MSC v.1929 64 bit (AMD64)]\n"
     ]
    },
    {
     "name": "stdout",
     "output_type": "stream",
     "text": [
      "PyAEDT INFO: Database ANSYS-HSD_V1.aedb Opened in 2024.2\n"
     ]
    },
    {
     "name": "stdout",
     "output_type": "stream",
     "text": [
      "PyAEDT INFO: Cell main Opened\n"
     ]
    },
    {
     "name": "stdout",
     "output_type": "stream",
     "text": [
      "PyAEDT INFO: Builder was initialized.\n"
     ]
    },
    {
     "name": "stdout",
     "output_type": "stream",
     "text": [
      "PyAEDT INFO: EDB initialized.\n"
     ]
    }
   ],
   "source": [
    "edbapp = Edb(file_edb, edbversion=AEDT_VERSION)"
   ]
  },
  {
   "cell_type": "markdown",
   "id": "fa8328b5",
   "metadata": {},
   "source": [
    "## Review materials from layout"
   ]
  },
  {
   "cell_type": "markdown",
   "id": "7742183f",
   "metadata": {},
   "source": [
    "Get materials from layout in a dictionary. Materials are exported together with stadckup."
   ]
  },
  {
   "cell_type": "code",
   "execution_count": 4,
   "id": "39d3ce06",
   "metadata": {
    "execution": {
     "iopub.execute_input": "2024-12-07T08:31:31.904781Z",
     "iopub.status.busy": "2024-12-07T08:31:31.904781Z",
     "iopub.status.idle": "2024-12-07T08:31:31.951648Z",
     "shell.execute_reply": "2024-12-07T08:31:31.951648Z"
    },
    "lines_to_next_cell": 2
   },
   "outputs": [
    {
     "name": "stdout",
     "output_type": "stream",
     "text": [
      "PyAEDT INFO: Getting data from layout database.\n"
     ]
    }
   ],
   "source": [
    "data_cfg = edbapp.configuration.get_data_from_db(stackup=True)"
   ]
  },
  {
   "cell_type": "code",
   "execution_count": 5,
   "id": "30767762",
   "metadata": {
    "execution": {
     "iopub.execute_input": "2024-12-07T08:31:31.951648Z",
     "iopub.status.busy": "2024-12-07T08:31:31.951648Z",
     "iopub.status.idle": "2024-12-07T08:31:31.982903Z",
     "shell.execute_reply": "2024-12-07T08:31:31.982903Z"
    }
   },
   "outputs": [
    {
     "data": {
      "text/html": [
       "<div>\n",
       "<style scoped>\n",
       "    .dataframe tbody tr th:only-of-type {\n",
       "        vertical-align: middle;\n",
       "    }\n",
       "\n",
       "    .dataframe tbody tr th {\n",
       "        vertical-align: top;\n",
       "    }\n",
       "\n",
       "    .dataframe thead th {\n",
       "        text-align: right;\n",
       "    }\n",
       "</style>\n",
       "<table border=\"1\" class=\"dataframe\">\n",
       "  <thead>\n",
       "    <tr style=\"text-align: right;\">\n",
       "      <th></th>\n",
       "      <th>name</th>\n",
       "      <th>permittivity</th>\n",
       "      <th>conductivity</th>\n",
       "      <th>dielectric_loss_tangent</th>\n",
       "      <th>magnetic_loss_tangent</th>\n",
       "      <th>mass_density</th>\n",
       "      <th>permeability</th>\n",
       "      <th>poisson_ratio</th>\n",
       "      <th>specific_heat</th>\n",
       "      <th>thermal_conductivity</th>\n",
       "    </tr>\n",
       "  </thead>\n",
       "  <tbody>\n",
       "    <tr>\n",
       "      <th>0</th>\n",
       "      <td>copper</td>\n",
       "      <td>0.00</td>\n",
       "      <td>58000000.0</td>\n",
       "      <td>0.000</td>\n",
       "      <td>0.0</td>\n",
       "      <td>0.0</td>\n",
       "      <td>0.0</td>\n",
       "      <td>0.00</td>\n",
       "      <td>0.0</td>\n",
       "      <td>0.000</td>\n",
       "    </tr>\n",
       "    <tr>\n",
       "      <th>1</th>\n",
       "      <td>FR4_epoxy</td>\n",
       "      <td>4.40</td>\n",
       "      <td>0.0</td>\n",
       "      <td>0.020</td>\n",
       "      <td>0.0</td>\n",
       "      <td>1900.0</td>\n",
       "      <td>0.0</td>\n",
       "      <td>0.28</td>\n",
       "      <td>1150.0</td>\n",
       "      <td>0.294</td>\n",
       "    </tr>\n",
       "    <tr>\n",
       "      <th>2</th>\n",
       "      <td>Megtron4</td>\n",
       "      <td>3.77</td>\n",
       "      <td>0.0</td>\n",
       "      <td>0.005</td>\n",
       "      <td>0.0</td>\n",
       "      <td>0.0</td>\n",
       "      <td>0.0</td>\n",
       "      <td>0.00</td>\n",
       "      <td>0.0</td>\n",
       "      <td>0.000</td>\n",
       "    </tr>\n",
       "    <tr>\n",
       "      <th>3</th>\n",
       "      <td>Megtron4_2</td>\n",
       "      <td>3.47</td>\n",
       "      <td>0.0</td>\n",
       "      <td>0.006</td>\n",
       "      <td>0.0</td>\n",
       "      <td>0.0</td>\n",
       "      <td>0.0</td>\n",
       "      <td>0.00</td>\n",
       "      <td>0.0</td>\n",
       "      <td>0.000</td>\n",
       "    </tr>\n",
       "    <tr>\n",
       "      <th>4</th>\n",
       "      <td>Megtron4_3</td>\n",
       "      <td>4.20</td>\n",
       "      <td>0.0</td>\n",
       "      <td>0.005</td>\n",
       "      <td>0.0</td>\n",
       "      <td>0.0</td>\n",
       "      <td>0.0</td>\n",
       "      <td>0.00</td>\n",
       "      <td>0.0</td>\n",
       "      <td>0.000</td>\n",
       "    </tr>\n",
       "    <tr>\n",
       "      <th>5</th>\n",
       "      <td>Solder Resist</td>\n",
       "      <td>3.00</td>\n",
       "      <td>0.0</td>\n",
       "      <td>0.000</td>\n",
       "      <td>0.0</td>\n",
       "      <td>0.0</td>\n",
       "      <td>0.0</td>\n",
       "      <td>0.00</td>\n",
       "      <td>0.0</td>\n",
       "      <td>0.000</td>\n",
       "    </tr>\n",
       "  </tbody>\n",
       "</table>\n",
       "</div>"
      ],
      "text/plain": [
       "            name  permittivity  conductivity  dielectric_loss_tangent  \\\n",
       "0         copper          0.00    58000000.0                    0.000   \n",
       "1      FR4_epoxy          4.40           0.0                    0.020   \n",
       "2       Megtron4          3.77           0.0                    0.005   \n",
       "3     Megtron4_2          3.47           0.0                    0.006   \n",
       "4     Megtron4_3          4.20           0.0                    0.005   \n",
       "5  Solder Resist          3.00           0.0                    0.000   \n",
       "\n",
       "   magnetic_loss_tangent  mass_density  permeability  poisson_ratio  \\\n",
       "0                    0.0           0.0           0.0           0.00   \n",
       "1                    0.0        1900.0           0.0           0.28   \n",
       "2                    0.0           0.0           0.0           0.00   \n",
       "3                    0.0           0.0           0.0           0.00   \n",
       "4                    0.0           0.0           0.0           0.00   \n",
       "5                    0.0           0.0           0.0           0.00   \n",
       "\n",
       "   specific_heat  thermal_conductivity  \n",
       "0            0.0                 0.000  \n",
       "1         1150.0                 0.294  \n",
       "2            0.0                 0.000  \n",
       "3            0.0                 0.000  \n",
       "4            0.0                 0.000  \n",
       "5            0.0                 0.000  "
      ]
     },
     "metadata": {},
     "output_type": "display_data"
    }
   ],
   "source": [
    "df = pd.DataFrame(data=data_cfg[\"stackup\"][\"materials\"])\n",
    "display(df)"
   ]
  },
  {
   "cell_type": "markdown",
   "id": "f6633b7e",
   "metadata": {},
   "source": [
    "## Add a new material"
   ]
  },
  {
   "cell_type": "code",
   "execution_count": 6,
   "id": "6cff884c",
   "metadata": {
    "execution": {
     "iopub.execute_input": "2024-12-07T08:31:31.982903Z",
     "iopub.status.busy": "2024-12-07T08:31:31.982903Z",
     "iopub.status.idle": "2024-12-07T08:31:31.998526Z",
     "shell.execute_reply": "2024-12-07T08:31:31.998526Z"
    }
   },
   "outputs": [],
   "source": [
    "data_cfg[\"stackup\"][\"materials\"].append(\n",
    "    {\"name\": \"soldermask\", \"permittivity\": 3.3, \"dielectric_loss_tangent\": 0.02},\n",
    ")"
   ]
  },
  {
   "cell_type": "markdown",
   "id": "90db1fc9",
   "metadata": {},
   "source": [
    "## Edit existing material properties"
   ]
  },
  {
   "cell_type": "code",
   "execution_count": 7,
   "id": "f2ed76a3",
   "metadata": {
    "execution": {
     "iopub.execute_input": "2024-12-07T08:31:31.998526Z",
     "iopub.status.busy": "2024-12-07T08:31:31.998526Z",
     "iopub.status.idle": "2024-12-07T08:31:32.014151Z",
     "shell.execute_reply": "2024-12-07T08:31:32.014151Z"
    }
   },
   "outputs": [],
   "source": [
    "data_cfg[\"stackup\"][\"materials\"][1][\"name\"] = \"fr4_epoxy\"\n",
    "data_cfg[\"stackup\"][\"materials\"][1][\"dielectric_loss_tangent\"] = 0.015"
   ]
  },
  {
   "cell_type": "markdown",
   "id": "f34e4088",
   "metadata": {},
   "source": [
    "## Review modified materials"
   ]
  },
  {
   "cell_type": "code",
   "execution_count": 8,
   "id": "cb41393b",
   "metadata": {
    "execution": {
     "iopub.execute_input": "2024-12-07T08:31:32.014151Z",
     "iopub.status.busy": "2024-12-07T08:31:32.014151Z",
     "iopub.status.idle": "2024-12-07T08:31:32.045402Z",
     "shell.execute_reply": "2024-12-07T08:31:32.045402Z"
    }
   },
   "outputs": [
    {
     "data": {
      "text/html": [
       "<div>\n",
       "<style scoped>\n",
       "    .dataframe tbody tr th:only-of-type {\n",
       "        vertical-align: middle;\n",
       "    }\n",
       "\n",
       "    .dataframe tbody tr th {\n",
       "        vertical-align: top;\n",
       "    }\n",
       "\n",
       "    .dataframe thead th {\n",
       "        text-align: right;\n",
       "    }\n",
       "</style>\n",
       "<table border=\"1\" class=\"dataframe\">\n",
       "  <thead>\n",
       "    <tr style=\"text-align: right;\">\n",
       "      <th></th>\n",
       "      <th>name</th>\n",
       "      <th>permittivity</th>\n",
       "      <th>conductivity</th>\n",
       "      <th>dielectric_loss_tangent</th>\n",
       "      <th>magnetic_loss_tangent</th>\n",
       "      <th>mass_density</th>\n",
       "      <th>permeability</th>\n",
       "      <th>poisson_ratio</th>\n",
       "      <th>specific_heat</th>\n",
       "      <th>thermal_conductivity</th>\n",
       "    </tr>\n",
       "  </thead>\n",
       "  <tbody>\n",
       "    <tr>\n",
       "      <th>0</th>\n",
       "      <td>copper</td>\n",
       "      <td>0.00</td>\n",
       "      <td>58000000.0</td>\n",
       "      <td>0.000</td>\n",
       "      <td>0.0</td>\n",
       "      <td>0.0</td>\n",
       "      <td>0.0</td>\n",
       "      <td>0.00</td>\n",
       "      <td>0.0</td>\n",
       "      <td>0.000</td>\n",
       "    </tr>\n",
       "    <tr>\n",
       "      <th>1</th>\n",
       "      <td>fr4_epoxy</td>\n",
       "      <td>4.40</td>\n",
       "      <td>0.0</td>\n",
       "      <td>0.015</td>\n",
       "      <td>0.0</td>\n",
       "      <td>1900.0</td>\n",
       "      <td>0.0</td>\n",
       "      <td>0.28</td>\n",
       "      <td>1150.0</td>\n",
       "      <td>0.294</td>\n",
       "    </tr>\n",
       "    <tr>\n",
       "      <th>2</th>\n",
       "      <td>Megtron4</td>\n",
       "      <td>3.77</td>\n",
       "      <td>0.0</td>\n",
       "      <td>0.005</td>\n",
       "      <td>0.0</td>\n",
       "      <td>0.0</td>\n",
       "      <td>0.0</td>\n",
       "      <td>0.00</td>\n",
       "      <td>0.0</td>\n",
       "      <td>0.000</td>\n",
       "    </tr>\n",
       "    <tr>\n",
       "      <th>3</th>\n",
       "      <td>Megtron4_2</td>\n",
       "      <td>3.47</td>\n",
       "      <td>0.0</td>\n",
       "      <td>0.006</td>\n",
       "      <td>0.0</td>\n",
       "      <td>0.0</td>\n",
       "      <td>0.0</td>\n",
       "      <td>0.00</td>\n",
       "      <td>0.0</td>\n",
       "      <td>0.000</td>\n",
       "    </tr>\n",
       "    <tr>\n",
       "      <th>4</th>\n",
       "      <td>Megtron4_3</td>\n",
       "      <td>4.20</td>\n",
       "      <td>0.0</td>\n",
       "      <td>0.005</td>\n",
       "      <td>0.0</td>\n",
       "      <td>0.0</td>\n",
       "      <td>0.0</td>\n",
       "      <td>0.00</td>\n",
       "      <td>0.0</td>\n",
       "      <td>0.000</td>\n",
       "    </tr>\n",
       "    <tr>\n",
       "      <th>5</th>\n",
       "      <td>Solder Resist</td>\n",
       "      <td>3.00</td>\n",
       "      <td>0.0</td>\n",
       "      <td>0.000</td>\n",
       "      <td>0.0</td>\n",
       "      <td>0.0</td>\n",
       "      <td>0.0</td>\n",
       "      <td>0.00</td>\n",
       "      <td>0.0</td>\n",
       "      <td>0.000</td>\n",
       "    </tr>\n",
       "    <tr>\n",
       "      <th>6</th>\n",
       "      <td>soldermask</td>\n",
       "      <td>3.30</td>\n",
       "      <td>NaN</td>\n",
       "      <td>0.020</td>\n",
       "      <td>NaN</td>\n",
       "      <td>NaN</td>\n",
       "      <td>NaN</td>\n",
       "      <td>NaN</td>\n",
       "      <td>NaN</td>\n",
       "      <td>NaN</td>\n",
       "    </tr>\n",
       "  </tbody>\n",
       "</table>\n",
       "</div>"
      ],
      "text/plain": [
       "            name  permittivity  conductivity  dielectric_loss_tangent  \\\n",
       "0         copper          0.00    58000000.0                    0.000   \n",
       "1      fr4_epoxy          4.40           0.0                    0.015   \n",
       "2       Megtron4          3.77           0.0                    0.005   \n",
       "3     Megtron4_2          3.47           0.0                    0.006   \n",
       "4     Megtron4_3          4.20           0.0                    0.005   \n",
       "5  Solder Resist          3.00           0.0                    0.000   \n",
       "6     soldermask          3.30           NaN                    0.020   \n",
       "\n",
       "   magnetic_loss_tangent  mass_density  permeability  poisson_ratio  \\\n",
       "0                    0.0           0.0           0.0           0.00   \n",
       "1                    0.0        1900.0           0.0           0.28   \n",
       "2                    0.0           0.0           0.0           0.00   \n",
       "3                    0.0           0.0           0.0           0.00   \n",
       "4                    0.0           0.0           0.0           0.00   \n",
       "5                    0.0           0.0           0.0           0.00   \n",
       "6                    NaN           NaN           NaN            NaN   \n",
       "\n",
       "   specific_heat  thermal_conductivity  \n",
       "0            0.0                 0.000  \n",
       "1         1150.0                 0.294  \n",
       "2            0.0                 0.000  \n",
       "3            0.0                 0.000  \n",
       "4            0.0                 0.000  \n",
       "5            0.0                 0.000  \n",
       "6            NaN                   NaN  "
      ]
     },
     "metadata": {},
     "output_type": "display_data"
    }
   ],
   "source": [
    "df = pd.DataFrame(data=data_cfg[\"stackup\"][\"materials\"])\n",
    "display(df)"
   ]
  },
  {
   "cell_type": "markdown",
   "id": "b1f1207e",
   "metadata": {},
   "source": [
    "## Write material definition into a json file"
   ]
  },
  {
   "cell_type": "code",
   "execution_count": 9,
   "id": "aa0cc631",
   "metadata": {
    "execution": {
     "iopub.execute_input": "2024-12-07T08:31:32.045402Z",
     "iopub.status.busy": "2024-12-07T08:31:32.045402Z",
     "iopub.status.idle": "2024-12-07T08:31:32.061031Z",
     "shell.execute_reply": "2024-12-07T08:31:32.061031Z"
    },
    "lines_to_next_cell": 2
   },
   "outputs": [],
   "source": [
    "file_cfg = Path(temp_folder.name) / \"edb_configuration.json\"\n",
    "with open(file_cfg, \"w\") as f:\n",
    "    json.dump(data_cfg, f, indent=4, ensure_ascii=False)"
   ]
  },
  {
   "cell_type": "markdown",
   "id": "2164fa97",
   "metadata": {},
   "source": [
    "## Load materials from json configuration file"
   ]
  },
  {
   "cell_type": "code",
   "execution_count": 10,
   "id": "8f9edd55",
   "metadata": {
    "execution": {
     "iopub.execute_input": "2024-12-07T08:31:32.061031Z",
     "iopub.status.busy": "2024-12-07T08:31:32.061031Z",
     "iopub.status.idle": "2024-12-07T08:31:39.593214Z",
     "shell.execute_reply": "2024-12-07T08:31:39.593214Z"
    }
   },
   "outputs": [
    {
     "data": {
      "text/plain": [
       "<pyedb.configuration.cfg_data.CfgData at 0x2d6f575cc70>"
      ]
     },
     "execution_count": 10,
     "metadata": {},
     "output_type": "execute_result"
    }
   ],
   "source": [
    "edbapp.configuration.load(str(file_cfg), apply_file=True)"
   ]
  },
  {
   "cell_type": "markdown",
   "id": "8f3b05c6",
   "metadata": {},
   "source": [
    "## Review materials from layout"
   ]
  },
  {
   "cell_type": "code",
   "execution_count": 11,
   "id": "0db4eaae",
   "metadata": {
    "execution": {
     "iopub.execute_input": "2024-12-07T08:31:39.593214Z",
     "iopub.status.busy": "2024-12-07T08:31:39.593214Z",
     "iopub.status.idle": "2024-12-07T08:31:39.608822Z",
     "shell.execute_reply": "2024-12-07T08:31:39.608822Z"
    }
   },
   "outputs": [
    {
     "data": {
      "text/plain": [
       "{'copper': <pyedb.dotnet.edb_core.materials.Material at 0x2d69cd548b0>,\n",
       " 'fr4_epoxy': <pyedb.dotnet.edb_core.materials.Material at 0x2d6f575e080>,\n",
       " 'Megtron4': <pyedb.dotnet.edb_core.materials.Material at 0x2d6a0dc2ad0>,\n",
       " 'Megtron4_2': <pyedb.dotnet.edb_core.materials.Material at 0x2d6a0dc2b30>,\n",
       " 'Megtron4_3': <pyedb.dotnet.edb_core.materials.Material at 0x2d6a0dc2bc0>,\n",
       " 'Solder Resist': <pyedb.dotnet.edb_core.materials.Material at 0x2d6a0dc2b90>,\n",
       " 'soldermask': <pyedb.dotnet.edb_core.materials.Material at 0x2d6a0dc2a70>}"
      ]
     },
     "execution_count": 11,
     "metadata": {},
     "output_type": "execute_result"
    }
   ],
   "source": [
    "edbapp.materials.materials"
   ]
  },
  {
   "cell_type": "markdown",
   "id": "dfb8c758",
   "metadata": {},
   "source": [
    "## Check modified material properties"
   ]
  },
  {
   "cell_type": "code",
   "execution_count": 12,
   "id": "3a92c487",
   "metadata": {
    "execution": {
     "iopub.execute_input": "2024-12-07T08:31:39.608822Z",
     "iopub.status.busy": "2024-12-07T08:31:39.608822Z",
     "iopub.status.idle": "2024-12-07T08:31:39.624464Z",
     "shell.execute_reply": "2024-12-07T08:31:39.624464Z"
    }
   },
   "outputs": [
    {
     "data": {
      "text/plain": [
       "0.015"
      ]
     },
     "execution_count": 12,
     "metadata": {},
     "output_type": "execute_result"
    }
   ],
   "source": [
    "edbapp.materials[\"fr4_epoxy\"].loss_tangent"
   ]
  },
  {
   "cell_type": "markdown",
   "id": "868c2075",
   "metadata": {},
   "source": [
    "## Save and close Edb\n",
    "The temporary folder will be deleted once the execution of this script is finished. Replace **edbapp.save()** with\n",
    "**edbapp.save_as(\"C:/example.aedb\")** to keep the example project."
   ]
  },
  {
   "cell_type": "code",
   "execution_count": 13,
   "id": "f9674c7a",
   "metadata": {
    "execution": {
     "iopub.execute_input": "2024-12-07T08:31:39.624464Z",
     "iopub.status.busy": "2024-12-07T08:31:39.624464Z",
     "iopub.status.idle": "2024-12-07T08:31:39.843203Z",
     "shell.execute_reply": "2024-12-07T08:31:39.843203Z"
    }
   },
   "outputs": [
    {
     "data": {
      "text/plain": [
       "True"
      ]
     },
     "execution_count": 13,
     "metadata": {},
     "output_type": "execute_result"
    }
   ],
   "source": [
    "edbapp.save()\n",
    "edbapp.close()"
   ]
  }
 ],
 "metadata": {
  "jupytext": {
   "cell_metadata_filter": "-all",
   "main_language": "python",
   "notebook_metadata_filter": "-all",
   "text_representation": {
    "extension": ".py",
    "format_name": "light"
   }
  },
  "language_info": {
   "codemirror_mode": {
    "name": "ipython",
    "version": 3
   },
   "file_extension": ".py",
   "mimetype": "text/x-python",
   "name": "python",
   "nbconvert_exporter": "python",
   "pygments_lexer": "ipython3",
   "version": "3.10.11"
  }
 },
 "nbformat": 4,
 "nbformat_minor": 5
}
