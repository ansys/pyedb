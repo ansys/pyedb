{
 "cells": [
  {
   "cell_type": "markdown",
   "id": "d63a9441",
   "metadata": {},
   "source": [
    "# Import Sources\n",
    "This example shows how to import voltage and current sources. In this example, we are going to\n",
    "\n",
    "- Download an example board\n",
    "- Create a configuration file\n",
    "  - Add a voltage source between two nets\n",
    "  - Add a current source between two pins\n",
    "  - Add a current source between two pin groups\n",
    "  - Add a current source between two coordinates\n",
    "  - Add a current source to the nearest pin\n",
    "  - Add distributed sources\n",
    "- Import the configuration file"
   ]
  },
  {
   "cell_type": "markdown",
   "id": "93554d83",
   "metadata": {},
   "source": [
    "## Import the required packages"
   ]
  },
  {
   "cell_type": "code",
   "execution_count": 1,
   "id": "1f5e2b01",
   "metadata": {
    "execution": {
     "iopub.execute_input": "2024-12-07T08:32:49.001492Z",
     "iopub.status.busy": "2024-12-07T08:32:49.001492Z",
     "iopub.status.idle": "2024-12-07T08:32:49.595221Z",
     "shell.execute_reply": "2024-12-07T08:32:49.595221Z"
    }
   },
   "outputs": [],
   "source": [
    "import json\n",
    "from pathlib import Path\n",
    "import tempfile\n",
    "\n",
    "from ansys.aedt.core.downloads import download_file\n",
    "\n",
    "from pyedb import Edb\n",
    "\n",
    "AEDT_VERSION = \"2024.2\"\n",
    "NG_MODE = False\n"
   ]
  },
  {
   "cell_type": "markdown",
   "id": "5e883070",
   "metadata": {},
   "source": [
    "Download the example PCB data."
   ]
  },
  {
   "cell_type": "code",
   "execution_count": 2,
   "id": "55652eaa",
   "metadata": {
    "execution": {
     "iopub.execute_input": "2024-12-07T08:32:49.595221Z",
     "iopub.status.busy": "2024-12-07T08:32:49.595221Z",
     "iopub.status.idle": "2024-12-07T08:32:50.938731Z",
     "shell.execute_reply": "2024-12-07T08:32:50.938731Z"
    }
   },
   "outputs": [],
   "source": [
    "temp_folder = tempfile.TemporaryDirectory(suffix=\".ansys\")\n",
    "file_edb = download_file(source=\"edb/ANSYS-HSD_V1.aedb\", destination=temp_folder.name)"
   ]
  },
  {
   "cell_type": "markdown",
   "id": "6c2e5ad4",
   "metadata": {},
   "source": [
    "## Load example layout"
   ]
  },
  {
   "cell_type": "code",
   "execution_count": 3,
   "id": "f235f11b",
   "metadata": {
    "execution": {
     "iopub.execute_input": "2024-12-07T08:32:50.938731Z",
     "iopub.status.busy": "2024-12-07T08:32:50.938731Z",
     "iopub.status.idle": "2024-12-07T08:33:03.569995Z",
     "shell.execute_reply": "2024-12-07T08:33:03.569995Z"
    }
   },
   "outputs": [
    {
     "name": "stdout",
     "output_type": "stream",
     "text": [
      "PyAEDT INFO: Logger is initialized in EDB.\n"
     ]
    },
    {
     "name": "stdout",
     "output_type": "stream",
     "text": [
      "PyAEDT INFO: legacy v0.34.3\n"
     ]
    },
    {
     "name": "stdout",
     "output_type": "stream",
     "text": [
      "PyAEDT INFO: Python version 3.10.11 (tags/v3.10.11:7d4cc5a, Apr  5 2023, 00:38:17) [MSC v.1929 64 bit (AMD64)]\n"
     ]
    },
    {
     "name": "stdout",
     "output_type": "stream",
     "text": [
      "PyAEDT INFO: Database ANSYS-HSD_V1.aedb Opened in 2024.2\n"
     ]
    },
    {
     "name": "stdout",
     "output_type": "stream",
     "text": [
      "PyAEDT INFO: Cell main Opened\n"
     ]
    },
    {
     "name": "stdout",
     "output_type": "stream",
     "text": [
      "PyAEDT INFO: Builder was initialized.\n"
     ]
    },
    {
     "name": "stdout",
     "output_type": "stream",
     "text": [
      "PyAEDT INFO: EDB initialized.\n"
     ]
    }
   ],
   "source": [
    "edbapp = Edb(file_edb, edbversion=AEDT_VERSION)"
   ]
  },
  {
   "cell_type": "markdown",
   "id": "7859d849",
   "metadata": {},
   "source": [
    "## Create an empty dictionary to host all configurations"
   ]
  },
  {
   "cell_type": "code",
   "execution_count": 4,
   "id": "80279985",
   "metadata": {
    "execution": {
     "iopub.execute_input": "2024-12-07T08:33:03.569995Z",
     "iopub.status.busy": "2024-12-07T08:33:03.569995Z",
     "iopub.status.idle": "2024-12-07T08:33:03.585616Z",
     "shell.execute_reply": "2024-12-07T08:33:03.585616Z"
    }
   },
   "outputs": [],
   "source": [
    "cfg = dict()"
   ]
  },
  {
   "cell_type": "markdown",
   "id": "b61b820c",
   "metadata": {},
   "source": [
    "## Add a voltage source between two nets"
   ]
  },
  {
   "cell_type": "markdown",
   "id": "71b3a879",
   "metadata": {},
   "source": [
    "Keywords\n",
    "\n",
    "- **name**. Name of the voltage source.\n",
    "- **Reference_designator**. Reference designator of the component.\n",
    "- **type**. Type of the source. Supported types are 'voltage', 'current'\n",
    "- **positive_terminal**. Supported types are 'net', 'pin', 'pin_group', 'coordinates'\n",
    "- **negative_terminal**. Supported types are 'net', 'pin', 'pin_group', 'coordinates',\n",
    "'nearest_pin'"
   ]
  },
  {
   "cell_type": "code",
   "execution_count": 5,
   "id": "0a56d59d",
   "metadata": {
    "execution": {
     "iopub.execute_input": "2024-12-07T08:33:03.585616Z",
     "iopub.status.busy": "2024-12-07T08:33:03.585616Z",
     "iopub.status.idle": "2024-12-07T08:33:03.601245Z",
     "shell.execute_reply": "2024-12-07T08:33:03.601245Z"
    }
   },
   "outputs": [],
   "source": [
    "voltage_source = {\n",
    "    \"name\": \"V_SOURCE_5V\",\n",
    "    \"reference_designator\": \"U4\",\n",
    "    \"type\": \"voltage\",\n",
    "    \"magnitude\": 1,\n",
    "    \"positive_terminal\": {\"net\": \"5V\"},\n",
    "    \"negative_terminal\": {\"net\": \"GND\"},\n",
    "}"
   ]
  },
  {
   "cell_type": "markdown",
   "id": "c3c3040f",
   "metadata": {},
   "source": [
    "## Add a current source between two pins"
   ]
  },
  {
   "cell_type": "code",
   "execution_count": 6,
   "id": "d408a922",
   "metadata": {
    "execution": {
     "iopub.execute_input": "2024-12-07T08:33:03.601245Z",
     "iopub.status.busy": "2024-12-07T08:33:03.601245Z",
     "iopub.status.idle": "2024-12-07T08:33:03.616859Z",
     "shell.execute_reply": "2024-12-07T08:33:03.616859Z"
    }
   },
   "outputs": [],
   "source": [
    "current_source_1 = {\n",
    "    \"name\": \"I_CURRENT_1A\",\n",
    "    \"reference_designator\": \"J5\",\n",
    "    \"type\": \"current\",\n",
    "    \"magnitude\": 10,\n",
    "    \"positive_terminal\": {\"pin\": \"15\"},\n",
    "    \"negative_terminal\": {\"pin\": \"14\"},\n",
    "}"
   ]
  },
  {
   "cell_type": "markdown",
   "id": "3c5f7930",
   "metadata": {},
   "source": [
    "## Add a current source between two pin groups"
   ]
  },
  {
   "cell_type": "code",
   "execution_count": 7,
   "id": "d27b1ab0",
   "metadata": {
    "execution": {
     "iopub.execute_input": "2024-12-07T08:33:03.616859Z",
     "iopub.status.busy": "2024-12-07T08:33:03.616859Z",
     "iopub.status.idle": "2024-12-07T08:33:03.632503Z",
     "shell.execute_reply": "2024-12-07T08:33:03.632503Z"
    }
   },
   "outputs": [],
   "source": [
    "pin_groups = [\n",
    "    {\"name\": \"IC2_5V\", \"reference_designator\": \"IC2\", \"pins\": [\"8\"]},\n",
    "    {\"name\": \"IC2_GND\", \"reference_designator\": \"IC2\", \"net\": \"GND\"},\n",
    "]"
   ]
  },
  {
   "cell_type": "code",
   "execution_count": 8,
   "id": "e00609db",
   "metadata": {
    "execution": {
     "iopub.execute_input": "2024-12-07T08:33:03.632503Z",
     "iopub.status.busy": "2024-12-07T08:33:03.632503Z",
     "iopub.status.idle": "2024-12-07T08:33:03.648110Z",
     "shell.execute_reply": "2024-12-07T08:33:03.648110Z"
    }
   },
   "outputs": [],
   "source": [
    "current_source_2 = {\n",
    "    \"name\": \"CURRENT_SOURCE_2\",\n",
    "    \"type\": \"current\",\n",
    "    \"positive_terminal\": {\"pin_group\": \"IC2_5V\"},\n",
    "    \"negative_terminal\": {\"pin_group\": \"IC2_GND\"},\n",
    "}"
   ]
  },
  {
   "cell_type": "markdown",
   "id": "33d312ad",
   "metadata": {},
   "source": [
    "## Add a current source between two coordinates"
   ]
  },
  {
   "cell_type": "markdown",
   "id": "08729579",
   "metadata": {},
   "source": [
    "Keywords\n",
    "\n",
    "- **layer**. Layer on which the terminal is placed\n",
    "- **point**. XY coordinate the terminal is placed\n",
    "- **net**. Name of the net the terminal is placed on"
   ]
  },
  {
   "cell_type": "code",
   "execution_count": 9,
   "id": "80fa19e6",
   "metadata": {
    "execution": {
     "iopub.execute_input": "2024-12-07T08:33:03.648110Z",
     "iopub.status.busy": "2024-12-07T08:33:03.648110Z",
     "iopub.status.idle": "2024-12-07T08:33:03.663748Z",
     "shell.execute_reply": "2024-12-07T08:33:03.663748Z"
    }
   },
   "outputs": [],
   "source": [
    "current_source_3 = {\n",
    "    \"name\": \"CURRENT_SOURCE_3\",\n",
    "    \"type\": \"current\",\n",
    "    \"positive_terminal\": {\"coordinates\": {\"layer\": \"1_Top\", \"point\": [\"116mm\", \"41mm\"], \"net\": \"5V\"}},\n",
    "    \"negative_terminal\": {\"coordinates\": {\"layer\": \"Inner1(GND1)\", \"point\": [\"116mm\", \"41mm\"], \"net\": \"GND\"}},\n",
    "}"
   ]
  },
  {
   "cell_type": "markdown",
   "id": "4e571045",
   "metadata": {},
   "source": [
    "## Add a current source reference to the nearest pin"
   ]
  },
  {
   "cell_type": "markdown",
   "id": "6cb9706b",
   "metadata": {},
   "source": [
    "Keywords\n",
    "\n",
    "- **reference_net**. Name of the reference net\n",
    "- **search_radius**. Reference pin search radius in meter"
   ]
  },
  {
   "cell_type": "code",
   "execution_count": 10,
   "id": "13dda5e8",
   "metadata": {
    "execution": {
     "iopub.execute_input": "2024-12-07T08:33:03.663748Z",
     "iopub.status.busy": "2024-12-07T08:33:03.663748Z",
     "iopub.status.idle": "2024-12-07T08:33:03.679416Z",
     "shell.execute_reply": "2024-12-07T08:33:03.679416Z"
    }
   },
   "outputs": [],
   "source": [
    "current_source_4 = {\n",
    "    \"name\": \"CURRENT_SOURCE_4\",\n",
    "    \"reference_designator\": \"J5\",\n",
    "    \"type\": \"current\",\n",
    "    \"positive_terminal\": {\"pin\": \"16\"},\n",
    "    \"negative_terminal\": {\"nearest_pin\": {\"reference_net\": \"GND\", \"search_radius\": 5e-3}},\n",
    "}"
   ]
  },
  {
   "cell_type": "markdown",
   "id": "e4892fc5",
   "metadata": {},
   "source": [
    "## Add distributed current sources"
   ]
  },
  {
   "cell_type": "markdown",
   "id": "fde680a0",
   "metadata": {},
   "source": [
    "Keywords\n",
    "\n",
    "- **distributed**. Whether to create distributed sources. When set to True, ports are created per pin"
   ]
  },
  {
   "cell_type": "code",
   "execution_count": 11,
   "id": "c5757dc6",
   "metadata": {
    "execution": {
     "iopub.execute_input": "2024-12-07T08:33:03.679416Z",
     "iopub.status.busy": "2024-12-07T08:33:03.679416Z",
     "iopub.status.idle": "2024-12-07T08:33:03.695003Z",
     "shell.execute_reply": "2024-12-07T08:33:03.695003Z"
    }
   },
   "outputs": [],
   "source": [
    "sources_distributed = {\n",
    "    \"name\": \"DISTRIBUTED\",\n",
    "    \"reference_designator\": \"U2\",\n",
    "    \"type\": \"current\",\n",
    "    \"distributed\": True,\n",
    "    \"positive_terminal\": {\"net\": \"5V\"},\n",
    "    \"negative_terminal\": {\"net\": \"GND\"},\n",
    "}"
   ]
  },
  {
   "cell_type": "markdown",
   "id": "fd2fbcc0",
   "metadata": {},
   "source": [
    "## Add setups in configuration"
   ]
  },
  {
   "cell_type": "code",
   "execution_count": 12,
   "id": "6db79592",
   "metadata": {
    "execution": {
     "iopub.execute_input": "2024-12-07T08:33:03.695003Z",
     "iopub.status.busy": "2024-12-07T08:33:03.695003Z",
     "iopub.status.idle": "2024-12-07T08:33:03.710573Z",
     "shell.execute_reply": "2024-12-07T08:33:03.710573Z"
    }
   },
   "outputs": [],
   "source": [
    "cfg[\"pin_groups\"] = pin_groups\n",
    "cfg[\"sources\"] = [\n",
    "    voltage_source,\n",
    "    current_source_1,\n",
    "    current_source_2,\n",
    "    current_source_3,\n",
    "    current_source_4,\n",
    "    sources_distributed,\n",
    "]"
   ]
  },
  {
   "cell_type": "markdown",
   "id": "7a300b59",
   "metadata": {},
   "source": [
    "## Write configuration into as json file"
   ]
  },
  {
   "cell_type": "code",
   "execution_count": 13,
   "id": "4cdd38f7",
   "metadata": {
    "execution": {
     "iopub.execute_input": "2024-12-07T08:33:03.710573Z",
     "iopub.status.busy": "2024-12-07T08:33:03.710573Z",
     "iopub.status.idle": "2024-12-07T08:33:03.726195Z",
     "shell.execute_reply": "2024-12-07T08:33:03.726195Z"
    }
   },
   "outputs": [],
   "source": [
    "file_json = Path(temp_folder.name) / \"edb_configuration.json\"\n",
    "with open(file_json, \"w\") as f:\n",
    "    json.dump(cfg, f, indent=4, ensure_ascii=False)"
   ]
  },
  {
   "cell_type": "markdown",
   "id": "4c580a4e",
   "metadata": {},
   "source": [
    "## Import configuration into example layout"
   ]
  },
  {
   "cell_type": "code",
   "execution_count": 14,
   "id": "96011c08",
   "metadata": {
    "execution": {
     "iopub.execute_input": "2024-12-07T08:33:03.726195Z",
     "iopub.status.busy": "2024-12-07T08:33:03.726195Z",
     "iopub.status.idle": "2024-12-07T08:33:04.773083Z",
     "shell.execute_reply": "2024-12-07T08:33:04.773083Z"
    }
   },
   "outputs": [
    {
     "data": {
      "text/plain": [
       "True"
      ]
     },
     "execution_count": 14,
     "metadata": {},
     "output_type": "execute_result"
    }
   ],
   "source": [
    "edbapp.configuration.load(config_file=file_json)\n",
    "edbapp.configuration.run()"
   ]
  },
  {
   "cell_type": "markdown",
   "id": "d6738cec",
   "metadata": {},
   "source": [
    "## Review"
   ]
  },
  {
   "cell_type": "code",
   "execution_count": 15,
   "id": "cd5dc2bb",
   "metadata": {
    "execution": {
     "iopub.execute_input": "2024-12-07T08:33:04.773083Z",
     "iopub.status.busy": "2024-12-07T08:33:04.773083Z",
     "iopub.status.idle": "2024-12-07T08:33:04.788702Z",
     "shell.execute_reply": "2024-12-07T08:33:04.788702Z"
    }
   },
   "outputs": [
    {
     "data": {
      "text/plain": [
       "{'V_SOURCE_5V': <pyedb.dotnet.edb_core.edb_data.ports.ExcitationSources at 0x17513b41e10>,\n",
       " 'I_CURRENT_1A': <pyedb.dotnet.edb_core.edb_data.ports.ExcitationSources at 0x1755a67f910>,\n",
       " 'CURRENT_SOURCE_2': <pyedb.dotnet.edb_core.edb_data.ports.ExcitationSources at 0x1755a67fbe0>,\n",
       " 'CURRENT_SOURCE_3': <pyedb.dotnet.edb_core.edb_data.ports.ExcitationSources at 0x17517262a40>,\n",
       " 'CURRENT_SOURCE_4': <pyedb.dotnet.edb_core.edb_data.ports.ExcitationSources at 0x17517260b50>,\n",
       " 'DISTRIBUTED_U2_5V_39': <pyedb.dotnet.edb_core.edb_data.ports.ExcitationSources at 0x17517262350>,\n",
       " 'DISTRIBUTED_U2_5V_40': <pyedb.dotnet.edb_core.edb_data.ports.ExcitationSources at 0x175172604c0>,\n",
       " 'DISTRIBUTED_U2_5V_41': <pyedb.dotnet.edb_core.edb_data.ports.ExcitationSources at 0x17517262a10>,\n",
       " 'DISTRIBUTED_U2_5V_42': <pyedb.dotnet.edb_core.edb_data.ports.ExcitationSources at 0x17517262890>,\n",
       " 'DISTRIBUTED_U2_5V_43': <pyedb.dotnet.edb_core.edb_data.ports.ExcitationSources at 0x17517262860>,\n",
       " 'DISTRIBUTED_U2_5V_44': <pyedb.dotnet.edb_core.edb_data.ports.ExcitationSources at 0x175172605e0>,\n",
       " 'DISTRIBUTED_U2_5V_45': <pyedb.dotnet.edb_core.edb_data.ports.ExcitationSources at 0x17517260310>,\n",
       " 'DISTRIBUTED_U2_5V_46': <pyedb.dotnet.edb_core.edb_data.ports.ExcitationSources at 0x175172601c0>,\n",
       " 'DISTRIBUTED_U2_5V_47': <pyedb.dotnet.edb_core.edb_data.ports.ExcitationSources at 0x17517260280>,\n",
       " 'DISTRIBUTED_U2_5V_48': <pyedb.dotnet.edb_core.edb_data.ports.ExcitationSources at 0x17517260c10>,\n",
       " 'DISTRIBUTED_U2_5V_49': <pyedb.dotnet.edb_core.edb_data.ports.ExcitationSources at 0x17517260430>,\n",
       " 'DISTRIBUTED_U2_5V_50': <pyedb.dotnet.edb_core.edb_data.ports.ExcitationSources at 0x17517260520>,\n",
       " 'DISTRIBUTED_U2_5V_51': <pyedb.dotnet.edb_core.edb_data.ports.ExcitationSources at 0x17517260820>,\n",
       " 'DISTRIBUTED_U2_5V_60': <pyedb.dotnet.edb_core.edb_data.ports.ExcitationSources at 0x17517260af0>}"
      ]
     },
     "execution_count": 15,
     "metadata": {},
     "output_type": "execute_result"
    }
   ],
   "source": [
    "edbapp.siwave.sources"
   ]
  },
  {
   "cell_type": "markdown",
   "id": "d661f0fd",
   "metadata": {},
   "source": [
    "## Save and close Edb\n",
    "The temporary folder will be deleted once the execution of this script is finished. Replace **edbapp.save()** with\n",
    "**edbapp.save_as(\"C:/example.aedb\")** to keep the example project."
   ]
  },
  {
   "cell_type": "code",
   "execution_count": 16,
   "id": "f896cec1",
   "metadata": {
    "execution": {
     "iopub.execute_input": "2024-12-07T08:33:04.788702Z",
     "iopub.status.busy": "2024-12-07T08:33:04.788702Z",
     "iopub.status.idle": "2024-12-07T08:33:05.007570Z",
     "shell.execute_reply": "2024-12-07T08:33:05.007570Z"
    }
   },
   "outputs": [
    {
     "data": {
      "text/plain": [
       "True"
      ]
     },
     "execution_count": 16,
     "metadata": {},
     "output_type": "execute_result"
    }
   ],
   "source": [
    "edbapp.save()\n",
    "edbapp.close()"
   ]
  }
 ],
 "metadata": {
  "jupytext": {
   "cell_metadata_filter": "-all",
   "main_language": "python",
   "notebook_metadata_filter": "-all",
   "text_representation": {
    "extension": ".py",
    "format_name": "light"
   }
  },
  "language_info": {
   "codemirror_mode": {
    "name": "ipython",
    "version": 3
   },
   "file_extension": ".py",
   "mimetype": "text/x-python",
   "name": "python",
   "nbconvert_exporter": "python",
   "pygments_lexer": "ipython3",
   "version": "3.10.11"
  }
 },
 "nbformat": 4,
 "nbformat_minor": 5
}
