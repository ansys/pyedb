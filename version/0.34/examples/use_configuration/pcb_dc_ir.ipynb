{
 "cells": [
  {
   "cell_type": "markdown",
   "id": "3746de43",
   "metadata": {},
   "source": [
    "# Set up EDB for PCB DC IR Analysis\n",
    "This example shows how to set up the electronics database (EDB) for DC IR analysis from a single\n",
    "configuration file."
   ]
  },
  {
   "cell_type": "markdown",
   "id": "a7680269",
   "metadata": {},
   "source": [
    "## Import the required packages"
   ]
  },
  {
   "cell_type": "code",
   "execution_count": 1,
   "id": "3f553247",
   "metadata": {
    "execution": {
     "iopub.execute_input": "2024-12-07T08:33:37.864870Z",
     "iopub.status.busy": "2024-12-07T08:33:37.864870Z",
     "iopub.status.idle": "2024-12-07T08:33:38.458573Z",
     "shell.execute_reply": "2024-12-07T08:33:38.458573Z"
    }
   },
   "outputs": [],
   "source": [
    "import json\n",
    "import os\n",
    "import tempfile\n",
    "\n",
    "from ansys.aedt.core import Hfss3dLayout, Icepak\n",
    "from ansys.aedt.core.downloads import download_file\n",
    "\n",
    "from pyedb import Edb\n",
    "\n",
    "AEDT_VERSION = \"2024.2\"\n",
    "NG_MODE = False\n"
   ]
  },
  {
   "cell_type": "markdown",
   "id": "be51d2cb",
   "metadata": {},
   "source": [
    "Download the example PCB data."
   ]
  },
  {
   "cell_type": "code",
   "execution_count": 2,
   "id": "a9f3968d",
   "metadata": {
    "execution": {
     "iopub.execute_input": "2024-12-07T08:33:38.458573Z",
     "iopub.status.busy": "2024-12-07T08:33:38.458573Z",
     "iopub.status.idle": "2024-12-07T08:33:39.246937Z",
     "shell.execute_reply": "2024-12-07T08:33:39.246937Z"
    }
   },
   "outputs": [],
   "source": [
    "temp_folder = tempfile.TemporaryDirectory(suffix=\".ansys\")\n",
    "file_edb = download_file(source=\"edb/ANSYS-HSD_V1.aedb\", destination=temp_folder.name)"
   ]
  },
  {
   "cell_type": "markdown",
   "id": "0b793e5c",
   "metadata": {},
   "source": [
    "## Load example layout"
   ]
  },
  {
   "cell_type": "code",
   "execution_count": 3,
   "id": "f83e7209",
   "metadata": {
    "execution": {
     "iopub.execute_input": "2024-12-07T08:33:39.246937Z",
     "iopub.status.busy": "2024-12-07T08:33:39.246937Z",
     "iopub.status.idle": "2024-12-07T08:33:51.836093Z",
     "shell.execute_reply": "2024-12-07T08:33:51.836093Z"
    }
   },
   "outputs": [
    {
     "name": "stdout",
     "output_type": "stream",
     "text": [
      "PyAEDT INFO: Logger is initialized in EDB.\n"
     ]
    },
    {
     "name": "stdout",
     "output_type": "stream",
     "text": [
      "PyAEDT INFO: legacy v0.34.3\n"
     ]
    },
    {
     "name": "stdout",
     "output_type": "stream",
     "text": [
      "PyAEDT INFO: Python version 3.10.11 (tags/v3.10.11:7d4cc5a, Apr  5 2023, 00:38:17) [MSC v.1929 64 bit (AMD64)]\n"
     ]
    },
    {
     "name": "stdout",
     "output_type": "stream",
     "text": [
      "PyAEDT INFO: Database ANSYS-HSD_V1.aedb Opened in 2024.2\n"
     ]
    },
    {
     "name": "stdout",
     "output_type": "stream",
     "text": [
      "PyAEDT INFO: Cell main Opened\n"
     ]
    },
    {
     "name": "stdout",
     "output_type": "stream",
     "text": [
      "PyAEDT INFO: Builder was initialized.\n"
     ]
    },
    {
     "name": "stdout",
     "output_type": "stream",
     "text": [
      "PyAEDT INFO: EDB initialized.\n"
     ]
    }
   ],
   "source": [
    "edbapp = Edb(file_edb, edbversion=AEDT_VERSION)"
   ]
  },
  {
   "cell_type": "markdown",
   "id": "1bf006fc",
   "metadata": {},
   "source": [
    "## Create an empty dictionary to host all configurations"
   ]
  },
  {
   "cell_type": "code",
   "execution_count": 4,
   "id": "2131e914",
   "metadata": {
    "execution": {
     "iopub.execute_input": "2024-12-07T08:33:51.836093Z",
     "iopub.status.busy": "2024-12-07T08:33:51.836093Z",
     "iopub.status.idle": "2024-12-07T08:33:51.851723Z",
     "shell.execute_reply": "2024-12-07T08:33:51.851723Z"
    }
   },
   "outputs": [],
   "source": [
    "cfg = dict()\n",
    "cfg[\"sources\"] = []"
   ]
  },
  {
   "cell_type": "markdown",
   "id": "24ed1740",
   "metadata": {},
   "source": [
    "## Update stackup"
   ]
  },
  {
   "cell_type": "code",
   "execution_count": 5,
   "id": "866335aa",
   "metadata": {
    "execution": {
     "iopub.execute_input": "2024-12-07T08:33:51.851723Z",
     "iopub.status.busy": "2024-12-07T08:33:51.851723Z",
     "iopub.status.idle": "2024-12-07T08:33:51.867342Z",
     "shell.execute_reply": "2024-12-07T08:33:51.867342Z"
    }
   },
   "outputs": [],
   "source": [
    "cfg[\"stackup\"] = {\n",
    "    \"layers\": [\n",
    "        {\"name\": \"Top\", \"type\": \"signal\", \"material\": \"copper\", \"fill_material\": \"FR4_epoxy\", \"thickness\": \"0.035mm\"},\n",
    "        {\"name\": \"DE1\", \"type\": \"dielectric\", \"material\": \"FR4_epoxy\", \"fill_material\": \"\", \"thickness\": \"0.1mm\"},\n",
    "        {\n",
    "            \"name\": \"Inner1\",\n",
    "            \"type\": \"signal\",\n",
    "            \"material\": \"copper\",\n",
    "            \"fill_material\": \"FR4_epoxy\",\n",
    "            \"thickness\": \"0.017mm\",\n",
    "        },\n",
    "        {\"name\": \"DE2\", \"type\": \"dielectric\", \"material\": \"FR4_epoxy\", \"fill_material\": \"\", \"thickness\": \"0.088mm\"},\n",
    "        {\n",
    "            \"name\": \"Inner2\",\n",
    "            \"type\": \"signal\",\n",
    "            \"material\": \"copper\",\n",
    "            \"fill_material\": \"FR4_epoxy\",\n",
    "            \"thickness\": \"0.017mm\",\n",
    "        },\n",
    "        {\"name\": \"DE3\", \"type\": \"dielectric\", \"material\": \"FR4_epoxy\", \"fill_material\": \"\", \"thickness\": \"0.1mm\"},\n",
    "        {\n",
    "            \"name\": \"Inner3\",\n",
    "            \"type\": \"signal\",\n",
    "            \"material\": \"copper\",\n",
    "            \"fill_material\": \"FR4_epoxy\",\n",
    "            \"thickness\": \"0.017mm\",\n",
    "        },\n",
    "        {\n",
    "            \"name\": \"FR4_epoxy-1mm\",\n",
    "            \"type\": \"dielectric\",\n",
    "            \"material\": \"FR4_epoxy\",\n",
    "            \"fill_material\": \"\",\n",
    "            \"thickness\": \"1mm\",\n",
    "        },\n",
    "        {\n",
    "            \"name\": \"Inner4\",\n",
    "            \"type\": \"signal\",\n",
    "            \"material\": \"copper\",\n",
    "            \"fill_material\": \"FR4_epoxy\",\n",
    "            \"thickness\": \"0.017mm\",\n",
    "        },\n",
    "        {\"name\": \"DE5\", \"type\": \"dielectric\", \"material\": \"FR4_epoxy\", \"fill_material\": \"\", \"thickness\": \"0.1mm\"},\n",
    "        {\n",
    "            \"name\": \"Inner5\",\n",
    "            \"type\": \"signal\",\n",
    "            \"material\": \"copper\",\n",
    "            \"fill_material\": \"FR4_epoxy\",\n",
    "            \"thickness\": \"0.017mm\",\n",
    "        },\n",
    "        {\"name\": \"DE6\", \"type\": \"dielectric\", \"material\": \"FR4_epoxy\", \"fill_material\": \"\", \"thickness\": \"0.088mm\"},\n",
    "        {\n",
    "            \"name\": \"Inner6\",\n",
    "            \"type\": \"signal\",\n",
    "            \"material\": \"copper\",\n",
    "            \"fill_material\": \"FR4_epoxy\",\n",
    "            \"thickness\": \"0.017mm\",\n",
    "        },\n",
    "        {\"name\": \"DE7\", \"type\": \"dielectric\", \"material\": \"FR4_epoxy\", \"fill_material\": \"\", \"thickness\": \"0.1mm\"},\n",
    "        {\n",
    "            \"name\": \"Bottom\",\n",
    "            \"type\": \"signal\",\n",
    "            \"material\": \"copper\",\n",
    "            \"fill_material\": \"FR4_epoxy\",\n",
    "            \"thickness\": \"0.035mm\",\n",
    "        },\n",
    "    ]\n",
    "}"
   ]
  },
  {
   "cell_type": "markdown",
   "id": "546f1b4d",
   "metadata": {},
   "source": [
    "## Define voltage source"
   ]
  },
  {
   "cell_type": "code",
   "execution_count": 6,
   "id": "4918ee8a",
   "metadata": {
    "execution": {
     "iopub.execute_input": "2024-12-07T08:33:51.867342Z",
     "iopub.status.busy": "2024-12-07T08:33:51.867342Z",
     "iopub.status.idle": "2024-12-07T08:33:51.882917Z",
     "shell.execute_reply": "2024-12-07T08:33:51.882917Z"
    }
   },
   "outputs": [],
   "source": [
    "cfg[\"sources\"].append(\n",
    "    {\n",
    "        \"name\": \"vrm\",\n",
    "        \"reference_designator\": \"U2\",\n",
    "        \"type\": \"voltage\",\n",
    "        \"magnitude\": 1,\n",
    "        \"positive_terminal\": {\"net\": \"1V0\"},\n",
    "        \"negative_terminal\": {\"net\": \"GND\"},\n",
    "    }\n",
    ")"
   ]
  },
  {
   "cell_type": "markdown",
   "id": "8ff030c7",
   "metadata": {},
   "source": [
    "## Define current source"
   ]
  },
  {
   "cell_type": "code",
   "execution_count": 7,
   "id": "f05a5f50",
   "metadata": {
    "execution": {
     "iopub.execute_input": "2024-12-07T08:33:51.882917Z",
     "iopub.status.busy": "2024-12-07T08:33:51.882917Z",
     "iopub.status.idle": "2024-12-07T08:33:51.898696Z",
     "shell.execute_reply": "2024-12-07T08:33:51.898696Z"
    }
   },
   "outputs": [],
   "source": [
    "cfg[\"sources\"].append(\n",
    "    {\n",
    "        \"name\": \"U1_1V0\",\n",
    "        \"reference_designator\": \"U1\",\n",
    "        \"type\": \"current\",\n",
    "        \"magnitude\": 10,\n",
    "        \"positive_terminal\": {\"net\": \"1V0\"},\n",
    "        \"negative_terminal\": {\"net\": \"GND\"},\n",
    "    }\n",
    ")"
   ]
  },
  {
   "cell_type": "markdown",
   "id": "0690a960",
   "metadata": {},
   "source": [
    "## Define SIwave DC IR analysis setup"
   ]
  },
  {
   "cell_type": "code",
   "execution_count": 8,
   "id": "c427f1e4",
   "metadata": {
    "execution": {
     "iopub.execute_input": "2024-12-07T08:33:51.898696Z",
     "iopub.status.busy": "2024-12-07T08:33:51.898696Z",
     "iopub.status.idle": "2024-12-07T08:33:51.914404Z",
     "shell.execute_reply": "2024-12-07T08:33:51.914404Z"
    }
   },
   "outputs": [],
   "source": [
    "cfg[\"setups\"] = [\n",
    "    {\n",
    "        \"name\": \"siwave_1\",\n",
    "        \"type\": \"siwave_dc\",\n",
    "        \"dc_slider_position\": 1,\n",
    "        \"dc_ir_settings\": {\"export_dc_thermal_data\": True},\n",
    "    }\n",
    "]"
   ]
  },
  {
   "cell_type": "markdown",
   "id": "62f2d0f7",
   "metadata": {},
   "source": [
    "## Define Cutout"
   ]
  },
  {
   "cell_type": "code",
   "execution_count": 9,
   "id": "f3c3e8da",
   "metadata": {
    "execution": {
     "iopub.execute_input": "2024-12-07T08:33:51.914404Z",
     "iopub.status.busy": "2024-12-07T08:33:51.914404Z",
     "iopub.status.idle": "2024-12-07T08:33:51.930045Z",
     "shell.execute_reply": "2024-12-07T08:33:51.930045Z"
    }
   },
   "outputs": [],
   "source": [
    "cfg[\"operations\"] = {\n",
    "    \"cutout\": {\"signal_list\": [\"1V0\"], \"reference_list\": [\"GND\"], \"extent_type\": \"ConvexHull\", \"expansion_size\": \"20mm\"}\n",
    "}"
   ]
  },
  {
   "cell_type": "markdown",
   "id": "64d8af6d",
   "metadata": {},
   "source": [
    "## Define package for thermal analysis (optional)"
   ]
  },
  {
   "cell_type": "code",
   "execution_count": 10,
   "id": "d6fb2c8e",
   "metadata": {
    "execution": {
     "iopub.execute_input": "2024-12-07T08:33:51.930045Z",
     "iopub.status.busy": "2024-12-07T08:33:51.930045Z",
     "iopub.status.idle": "2024-12-07T08:33:51.945636Z",
     "shell.execute_reply": "2024-12-07T08:33:51.945636Z"
    }
   },
   "outputs": [],
   "source": [
    "cfg[\"package_definitions\"] = [\n",
    "    {\n",
    "        \"name\": \"package_1\",\n",
    "        \"component_definition\": \"ALTR-FBGA1517-Ansys\",\n",
    "        \"maximum_power\": 0.5,\n",
    "        \"therm_cond\": 2,\n",
    "        \"theta_jb\": 3,\n",
    "        \"theta_jc\": 4,\n",
    "        \"height\": \"1mm\",\n",
    "        \"apply_to_all\": False,\n",
    "        \"components\": [\"U1\"],\n",
    "    },\n",
    "]"
   ]
  },
  {
   "cell_type": "markdown",
   "id": "6447eb16",
   "metadata": {},
   "source": [
    "## Write configuration into a JSON file"
   ]
  },
  {
   "cell_type": "code",
   "execution_count": 11,
   "id": "14906bdd",
   "metadata": {
    "execution": {
     "iopub.execute_input": "2024-12-07T08:33:51.945636Z",
     "iopub.status.busy": "2024-12-07T08:33:51.945636Z",
     "iopub.status.idle": "2024-12-07T08:33:51.961264Z",
     "shell.execute_reply": "2024-12-07T08:33:51.961264Z"
    }
   },
   "outputs": [],
   "source": [
    "file_json = os.path.join(temp_folder.name, \"edb_configuration.json\")\n",
    "with open(file_json, \"w\") as f:\n",
    "    json.dump(cfg, f, indent=4, ensure_ascii=False)"
   ]
  },
  {
   "cell_type": "markdown",
   "id": "18e0f8bc",
   "metadata": {},
   "source": [
    "## Import configuration into example layout"
   ]
  },
  {
   "cell_type": "code",
   "execution_count": 12,
   "id": "57cf6353",
   "metadata": {
    "execution": {
     "iopub.execute_input": "2024-12-07T08:33:51.961264Z",
     "iopub.status.busy": "2024-12-07T08:33:51.961264Z",
     "iopub.status.idle": "2024-12-07T08:33:51.992514Z",
     "shell.execute_reply": "2024-12-07T08:33:51.992514Z"
    }
   },
   "outputs": [
    {
     "data": {
      "text/plain": [
       "<pyedb.configuration.cfg_data.CfgData at 0x15956e2c3a0>"
      ]
     },
     "execution_count": 12,
     "metadata": {},
     "output_type": "execute_result"
    }
   ],
   "source": [
    "edbapp.configuration.load(config_file=file_json)"
   ]
  },
  {
   "cell_type": "markdown",
   "id": "2e727d6d",
   "metadata": {},
   "source": [
    "Apply configuration to EDB."
   ]
  },
  {
   "cell_type": "code",
   "execution_count": 13,
   "id": "8bdf6e92",
   "metadata": {
    "execution": {
     "iopub.execute_input": "2024-12-07T08:33:51.992514Z",
     "iopub.status.busy": "2024-12-07T08:33:51.992514Z",
     "iopub.status.idle": "2024-12-07T08:34:05.680611Z",
     "shell.execute_reply": "2024-12-07T08:34:05.680611Z"
    }
   },
   "outputs": [
    {
     "name": "stdout",
     "output_type": "stream",
     "text": [
      "PyAEDT INFO: Cutout Multithread started.\n"
     ]
    },
    {
     "name": "stdout",
     "output_type": "stream",
     "text": [
      "PyAEDT INFO: Net clean up Elapsed time: 0m 2sec\n"
     ]
    },
    {
     "name": "stdout",
     "output_type": "stream",
     "text": [
      "PyAEDT INFO: Extent Creation Elapsed time: 0m 0sec\n"
     ]
    },
    {
     "name": "stdout",
     "output_type": "stream",
     "text": [
      "PyAEDT INFO: 533 Padstack Instances deleted. Elapsed time: 0m 1sec\n"
     ]
    },
    {
     "name": "stdout",
     "output_type": "stream",
     "text": [
      "PyAEDT INFO: 105 Primitives deleted. Elapsed time: 0m 2sec\n"
     ]
    },
    {
     "name": "stdout",
     "output_type": "stream",
     "text": [
      "PyAEDT INFO: 470 components deleted\n"
     ]
    },
    {
     "name": "stdout",
     "output_type": "stream",
     "text": [
      "PyAEDT INFO: Cutout completed. Elapsed time: 0m 5sec\n"
     ]
    },
    {
     "data": {
      "text/plain": [
       "True"
      ]
     },
     "execution_count": 13,
     "metadata": {},
     "output_type": "execute_result"
    }
   ],
   "source": [
    "edbapp.configuration.run()"
   ]
  },
  {
   "cell_type": "markdown",
   "id": "5e78c966",
   "metadata": {},
   "source": [
    "Save and close EDB."
   ]
  },
  {
   "cell_type": "code",
   "execution_count": 14,
   "id": "d72a2169",
   "metadata": {
    "execution": {
     "iopub.execute_input": "2024-12-07T08:34:05.680611Z",
     "iopub.status.busy": "2024-12-07T08:34:05.680611Z",
     "iopub.status.idle": "2024-12-07T08:34:05.930562Z",
     "shell.execute_reply": "2024-12-07T08:34:05.930562Z"
    }
   },
   "outputs": [
    {
     "data": {
      "text/plain": [
       "True"
      ]
     },
     "execution_count": 14,
     "metadata": {},
     "output_type": "execute_result"
    }
   ],
   "source": [
    "edbapp.save()\n",
    "edbapp.close()"
   ]
  },
  {
   "cell_type": "markdown",
   "id": "9d6d019f",
   "metadata": {},
   "source": [
    "The configured EDB file is saved in a temp folder."
   ]
  },
  {
   "cell_type": "code",
   "execution_count": 15,
   "id": "563ce422",
   "metadata": {
    "execution": {
     "iopub.execute_input": "2024-12-07T08:34:05.930562Z",
     "iopub.status.busy": "2024-12-07T08:34:05.930562Z",
     "iopub.status.idle": "2024-12-07T08:34:05.946185Z",
     "shell.execute_reply": "2024-12-07T08:34:05.946185Z"
    }
   },
   "outputs": [
    {
     "name": "stdout",
     "output_type": "stream",
     "text": [
      "C:\\Users\\ansys\\AppData\\Local\\Temp\\tmpn4n2a1fr.ansys\n"
     ]
    }
   ],
   "source": [
    "print(temp_folder.name)"
   ]
  },
  {
   "cell_type": "markdown",
   "id": "a62a9d5d",
   "metadata": {},
   "source": [
    "## Load edb into HFSS 3D Layout."
   ]
  },
  {
   "cell_type": "code",
   "execution_count": 16,
   "id": "08a5bfde",
   "metadata": {
    "execution": {
     "iopub.execute_input": "2024-12-07T08:34:05.946185Z",
     "iopub.status.busy": "2024-12-07T08:34:05.946185Z",
     "iopub.status.idle": "2024-12-07T08:34:27.693031Z",
     "shell.execute_reply": "2024-12-07T08:34:27.693031Z"
    }
   },
   "outputs": [
    {
     "name": "stdout",
     "output_type": "stream",
     "text": [
      "PyAEDT INFO: Python version 3.10.11 (tags/v3.10.11:7d4cc5a, Apr  5 2023, 00:38:17) [MSC v.1929 64 bit (AMD64)]\n"
     ]
    },
    {
     "name": "stdout",
     "output_type": "stream",
     "text": [
      "PyAEDT INFO: PyAEDT version 0.12.dev0.\n"
     ]
    },
    {
     "name": "stdout",
     "output_type": "stream",
     "text": [
      "PyAEDT INFO: Initializing new Desktop session.\n"
     ]
    },
    {
     "name": "stdout",
     "output_type": "stream",
     "text": [
      "PyAEDT INFO: Log on console is enabled.\n"
     ]
    },
    {
     "name": "stdout",
     "output_type": "stream",
     "text": [
      "PyAEDT INFO: Log on file C:\\Users\\ansys\\AppData\\Local\\Temp\\pyaedt_ansys_d5742601-d182-492e-96df-ea175aac3029.log is enabled.\n"
     ]
    },
    {
     "name": "stdout",
     "output_type": "stream",
     "text": [
      "PyAEDT INFO: Log on AEDT is enabled.\n"
     ]
    },
    {
     "name": "stdout",
     "output_type": "stream",
     "text": [
      "PyAEDT INFO: Debug logger is disabled. PyAEDT methods will not be logged.\n"
     ]
    },
    {
     "name": "stdout",
     "output_type": "stream",
     "text": [
      "PyAEDT INFO: Launching PyAEDT with gRPC plugin.\n"
     ]
    },
    {
     "name": "stdout",
     "output_type": "stream",
     "text": [
      "PyAEDT INFO: New AEDT session is starting on gRPC port 59993\n"
     ]
    },
    {
     "name": "stdout",
     "output_type": "stream",
     "text": [
      "PyAEDT INFO: AEDT installation Path C:\\Program Files\\AnsysEM\\v242\\Win64\n"
     ]
    },
    {
     "name": "stdout",
     "output_type": "stream",
     "text": [
      "PyAEDT INFO: Ansoft.ElectronicsDesktop.2024.2 version started with process ID 4076.\n"
     ]
    },
    {
     "name": "stdout",
     "output_type": "stream",
     "text": [
      "PyAEDT INFO: EDB folder C:\\Users\\ansys\\AppData\\Local\\Temp\\tmpn4n2a1fr.ansys\\edb/ANSYS-HSD_V1.aedb has been imported to project ANSYS-HSD_V1\n"
     ]
    },
    {
     "name": "stdout",
     "output_type": "stream",
     "text": [
      "PyAEDT INFO: Active Design set to 0;main\n"
     ]
    },
    {
     "name": "stdout",
     "output_type": "stream",
     "text": [
      "PyAEDT INFO: Aedt Objects correctly read\n"
     ]
    }
   ],
   "source": [
    "h3d = Hfss3dLayout(edbapp.edbpath, version=AEDT_VERSION, non_graphical=NG_MODE, new_desktop=True)"
   ]
  },
  {
   "cell_type": "markdown",
   "id": "110e4776",
   "metadata": {},
   "source": [
    "## Prepare for electro-thermal analysis in Icepak (Optional)"
   ]
  },
  {
   "cell_type": "code",
   "execution_count": 17,
   "id": "d5d6646f",
   "metadata": {
    "execution": {
     "iopub.execute_input": "2024-12-07T08:34:27.693031Z",
     "iopub.status.busy": "2024-12-07T08:34:27.693031Z",
     "iopub.status.idle": "2024-12-07T08:34:27.724224Z",
     "shell.execute_reply": "2024-12-07T08:34:27.724224Z"
    }
   },
   "outputs": [
    {
     "name": "stdout",
     "output_type": "stream",
     "text": [
      "PyAEDT INFO: Loading Modeler.\n"
     ]
    },
    {
     "name": "stdout",
     "output_type": "stream",
     "text": [
      "PyAEDT INFO: Modeler loaded.\n"
     ]
    },
    {
     "name": "stdout",
     "output_type": "stream",
     "text": [
      "PyAEDT INFO: EDB loaded.\n"
     ]
    },
    {
     "name": "stdout",
     "output_type": "stream",
     "text": [
      "PyAEDT INFO: Layers loaded.\n"
     ]
    },
    {
     "name": "stdout",
     "output_type": "stream",
     "text": [
      "PyAEDT INFO: Primitives loaded.\n"
     ]
    },
    {
     "name": "stdout",
     "output_type": "stream",
     "text": [
      "PyAEDT INFO: Modeler class has been initialized! Elapsed time: 0m 0sec\n"
     ]
    },
    {
     "name": "stdout",
     "output_type": "stream",
     "text": [
      "PyAEDT INFO: Set the temperature dependence for the design.\n"
     ]
    },
    {
     "name": "stdout",
     "output_type": "stream",
     "text": [
      "PyAEDT INFO: Assigned Objects Temperature\n"
     ]
    },
    {
     "data": {
      "text/plain": [
       "True"
      ]
     },
     "execution_count": 17,
     "metadata": {},
     "output_type": "execute_result"
    }
   ],
   "source": [
    "h3d.modeler.set_temperature_dependence(include_temperature_dependence=True, enable_feedback=True, ambient_temp=22)"
   ]
  },
  {
   "cell_type": "markdown",
   "id": "93a33388",
   "metadata": {},
   "source": [
    "## Analyze"
   ]
  },
  {
   "cell_type": "code",
   "execution_count": 18,
   "id": "0a0986a5",
   "metadata": {
    "execution": {
     "iopub.execute_input": "2024-12-07T08:34:27.724224Z",
     "iopub.status.busy": "2024-12-07T08:34:27.724224Z",
     "iopub.status.idle": "2024-12-07T08:35:04.664270Z",
     "shell.execute_reply": "2024-12-07T08:35:04.664270Z"
    }
   },
   "outputs": [
    {
     "name": "stdout",
     "output_type": "stream",
     "text": [
      "PyAEDT INFO: Key Desktop/ActiveDSOConfigurations/HFSS 3D Layout Design correctly changed.\n"
     ]
    },
    {
     "name": "stdout",
     "output_type": "stream",
     "text": [
      "PyAEDT INFO: Solving all design setups.\n"
     ]
    },
    {
     "name": "stdout",
     "output_type": "stream",
     "text": [
      "PyAEDT INFO: Key Desktop/ActiveDSOConfigurations/HFSS 3D Layout Design correctly changed.\n"
     ]
    },
    {
     "name": "stdout",
     "output_type": "stream",
     "text": [
      "PyAEDT INFO: Design setup None solved correctly in 0.0h 0.0m 37.0s\n"
     ]
    },
    {
     "data": {
      "text/plain": [
       "True"
      ]
     },
     "execution_count": 18,
     "metadata": {},
     "output_type": "execute_result"
    }
   ],
   "source": [
    "h3d.analyze()"
   ]
  },
  {
   "cell_type": "markdown",
   "id": "9acc955c",
   "metadata": {},
   "source": [
    "## Plot DC voltage"
   ]
  },
  {
   "cell_type": "code",
   "execution_count": 19,
   "id": "30faf472",
   "metadata": {
    "execution": {
     "iopub.execute_input": "2024-12-07T08:35:04.664270Z",
     "iopub.status.busy": "2024-12-07T08:35:04.664270Z",
     "iopub.status.idle": "2024-12-07T08:35:05.754198Z",
     "shell.execute_reply": "2024-12-07T08:35:05.754198Z"
    }
   },
   "outputs": [
    {
     "name": "stdout",
     "output_type": "stream",
     "text": [
      "PyAEDT INFO: Parsing C:/Users/ansys/AppData/Local/Temp/tmpn4n2a1fr.ansys/edb/ANSYS-HSD_V1.aedt.\n"
     ]
    },
    {
     "name": "stdout",
     "output_type": "stream",
     "text": [
      "PyAEDT INFO: File C:/Users/ansys/AppData/Local/Temp/tmpn4n2a1fr.ansys/edb/ANSYS-HSD_V1.aedt correctly loaded. Elapsed time: 0m 0sec\n"
     ]
    },
    {
     "name": "stdout",
     "output_type": "stream",
     "text": [
      "PyAEDT INFO: aedt file load time 0.016663789749145508\n"
     ]
    },
    {
     "name": "stdout",
     "output_type": "stream",
     "text": [
      "PyAEDT INFO: PostProcessor class has been initialized! Elapsed time: 0m 0sec\n"
     ]
    },
    {
     "name": "stdout",
     "output_type": "stream",
     "text": [
      "PyAEDT INFO: Post class has been initialized! Elapsed time: 0m 0sec\n"
     ]
    },
    {
     "name": "stdout",
     "output_type": "stream",
     "text": [
      "PyAEDT INFO: Logger is initialized in EDB.\n"
     ]
    },
    {
     "name": "stdout",
     "output_type": "stream",
     "text": [
      "PyAEDT INFO: legacy v0.34.3\n"
     ]
    },
    {
     "name": "stdout",
     "output_type": "stream",
     "text": [
      "PyAEDT INFO: Python version 3.10.11 (tags/v3.10.11:7d4cc5a, Apr  5 2023, 00:38:17) [MSC v.1929 64 bit (AMD64)]\n"
     ]
    },
    {
     "name": "stdout",
     "output_type": "stream",
     "text": [
      "PyAEDT INFO: Database ANSYS-HSD_V1.aedb Opened in 2024.2\n"
     ]
    },
    {
     "name": "stdout",
     "output_type": "stream",
     "text": [
      "PyAEDT INFO: Cell main Opened\n"
     ]
    },
    {
     "name": "stdout",
     "output_type": "stream",
     "text": [
      "PyAEDT INFO: Builder was initialized.\n"
     ]
    },
    {
     "name": "stdout",
     "output_type": "stream",
     "text": [
      "PyAEDT INFO: EDB initialized.\n"
     ]
    }
   ],
   "source": [
    "voltage = h3d.post.create_fieldplot_layers_nets(\n",
    "    layers_nets=[\n",
    "        [\"Inner2\", \"1V0\"],\n",
    "    ],\n",
    "    quantity=\"Voltage\",\n",
    "    setup=\"siwave_1\",\n",
    ")"
   ]
  },
  {
   "cell_type": "code",
   "execution_count": 20,
   "id": "2ced2b54",
   "metadata": {
    "execution": {
     "iopub.execute_input": "2024-12-07T08:35:05.754198Z",
     "iopub.status.busy": "2024-12-07T08:35:05.754198Z",
     "iopub.status.idle": "2024-12-07T08:35:05.769885Z",
     "shell.execute_reply": "2024-12-07T08:35:05.769885Z"
    }
   },
   "outputs": [
    {
     "data": {
      "text/plain": [
       "'C:\\\\Users\\\\ansys\\\\AppData\\\\Local\\\\Temp\\\\tmpn4n2a1fr.ansys\\\\voltage.jpg'"
      ]
     },
     "execution_count": 20,
     "metadata": {},
     "output_type": "execute_result"
    }
   ],
   "source": [
    "file_path_image = os.path.join(temp_folder.name, \"voltage.jpg\")\n",
    "voltage.export_image(\n",
    "    full_path=file_path_image,\n",
    "    width=640,\n",
    "    height=480,\n",
    "    orientation=\"isometric\",\n",
    "    display_wireframe=True,\n",
    "    selections=None,\n",
    "    show_region=True,\n",
    "    show_axis=True,\n",
    "    show_grid=True,\n",
    "    show_ruler=True,\n",
    ")"
   ]
  },
  {
   "cell_type": "markdown",
   "id": "020cdb4a",
   "metadata": {},
   "source": [
    "## Plot power density"
   ]
  },
  {
   "cell_type": "code",
   "execution_count": 21,
   "id": "72fbe297",
   "metadata": {
    "execution": {
     "iopub.execute_input": "2024-12-07T08:35:05.769885Z",
     "iopub.status.busy": "2024-12-07T08:35:05.769885Z",
     "iopub.status.idle": "2024-12-07T08:35:05.911599Z",
     "shell.execute_reply": "2024-12-07T08:35:05.911599Z"
    }
   },
   "outputs": [],
   "source": [
    "power_density = h3d.post.create_fieldplot_layers_nets(\n",
    "    layers_nets=[\n",
    "        [\"Inner2\", \"no-net\"],\n",
    "    ],\n",
    "    quantity=\"Power Density\",\n",
    "    setup=\"siwave_1\",\n",
    ")"
   ]
  },
  {
   "cell_type": "code",
   "execution_count": 22,
   "id": "04b8dc06",
   "metadata": {
    "execution": {
     "iopub.execute_input": "2024-12-07T08:35:05.911599Z",
     "iopub.status.busy": "2024-12-07T08:35:05.911599Z",
     "iopub.status.idle": "2024-12-07T08:35:05.927298Z",
     "shell.execute_reply": "2024-12-07T08:35:05.927222Z"
    }
   },
   "outputs": [
    {
     "data": {
      "text/plain": [
       "'C:\\\\Users\\\\ansys\\\\AppData\\\\Local\\\\Temp\\\\tmpn4n2a1fr.ansys\\\\power_density.jpg'"
      ]
     },
     "execution_count": 22,
     "metadata": {},
     "output_type": "execute_result"
    }
   ],
   "source": [
    "file_path_image = os.path.join(temp_folder.name, \"power_density.jpg\")\n",
    "power_density.export_image(\n",
    "    full_path=file_path_image,\n",
    "    width=640,\n",
    "    height=480,\n",
    "    orientation=\"isometric\",\n",
    "    display_wireframe=True,\n",
    "    selections=None,\n",
    "    show_region=True,\n",
    "    show_axis=True,\n",
    "    show_grid=True,\n",
    "    show_ruler=True,\n",
    ")"
   ]
  },
  {
   "cell_type": "markdown",
   "id": "fb25d570",
   "metadata": {},
   "source": [
    "## Compute power loss"
   ]
  },
  {
   "cell_type": "code",
   "execution_count": 23,
   "id": "baf35445",
   "metadata": {
    "execution": {
     "iopub.execute_input": "2024-12-07T08:35:05.928300Z",
     "iopub.status.busy": "2024-12-07T08:35:05.928300Z",
     "iopub.status.idle": "2024-12-07T08:35:06.149388Z",
     "shell.execute_reply": "2024-12-07T08:35:06.148268Z"
    }
   },
   "outputs": [
    {
     "name": "stdout",
     "output_type": "stream",
     "text": [
      "{'Top': '8.6897195056157076e-03'}\n"
     ]
    }
   ],
   "source": [
    "p_layers = h3d.post.compute_power_by_layer(layers=[\"Top\"])\n",
    "print(p_layers)"
   ]
  },
  {
   "cell_type": "code",
   "execution_count": 24,
   "id": "d8334b24",
   "metadata": {
    "execution": {
     "iopub.execute_input": "2024-12-07T08:35:06.149388Z",
     "iopub.status.busy": "2024-12-07T08:35:06.149388Z",
     "iopub.status.idle": "2024-12-07T08:35:06.796158Z",
     "shell.execute_reply": "2024-12-07T08:35:06.796158Z"
    }
   },
   "outputs": [
    {
     "name": "stdout",
     "output_type": "stream",
     "text": [
      "{'Bottom': '1.0954008692844821e+00'}\n"
     ]
    }
   ],
   "source": [
    "p_nets = h3d.post.compute_power_by_nets(nets=[\"1V0\"])\n",
    "print(p_nets)"
   ]
  },
  {
   "cell_type": "markdown",
   "id": "301c6e44",
   "metadata": {},
   "source": [
    "## Save HFSS 3D Layout project"
   ]
  },
  {
   "cell_type": "code",
   "execution_count": 25,
   "id": "40f6bd05",
   "metadata": {
    "execution": {
     "iopub.execute_input": "2024-12-07T08:35:06.796158Z",
     "iopub.status.busy": "2024-12-07T08:35:06.796158Z",
     "iopub.status.idle": "2024-12-07T08:35:06.985936Z",
     "shell.execute_reply": "2024-12-07T08:35:06.985936Z"
    }
   },
   "outputs": [
    {
     "name": "stdout",
     "output_type": "stream",
     "text": [
      "PyAEDT INFO: Project ANSYS-HSD_V1 Saved correctly\n"
     ]
    },
    {
     "data": {
      "text/plain": [
       "True"
      ]
     },
     "execution_count": 25,
     "metadata": {},
     "output_type": "execute_result"
    }
   ],
   "source": [
    "h3d.save_project()"
   ]
  },
  {
   "cell_type": "markdown",
   "id": "02fa3909",
   "metadata": {},
   "source": [
    "## Create an Icepak design"
   ]
  },
  {
   "cell_type": "code",
   "execution_count": 26,
   "id": "2ca4d7e3",
   "metadata": {
    "execution": {
     "iopub.execute_input": "2024-12-07T08:35:06.985936Z",
     "iopub.status.busy": "2024-12-07T08:35:06.985936Z",
     "iopub.status.idle": "2024-12-07T08:35:18.445452Z",
     "shell.execute_reply": "2024-12-07T08:35:18.445452Z"
    }
   },
   "outputs": [
    {
     "name": "stdout",
     "output_type": "stream",
     "text": [
      "PyAEDT INFO: Python version 3.10.11 (tags/v3.10.11:7d4cc5a, Apr  5 2023, 00:38:17) [MSC v.1929 64 bit (AMD64)]\n"
     ]
    },
    {
     "name": "stdout",
     "output_type": "stream",
     "text": [
      "PyAEDT INFO: PyAEDT version 0.12.dev0.\n"
     ]
    },
    {
     "name": "stdout",
     "output_type": "stream",
     "text": [
      "PyAEDT INFO: Returning found Desktop session with PID 4076!\n"
     ]
    },
    {
     "name": "stdout",
     "output_type": "stream",
     "text": [
      "PyAEDT INFO: No project is defined. Project ANSYS-HSD_V1 exists and has been read.\n"
     ]
    },
    {
     "name": "stdout",
     "output_type": "stream",
     "text": [
      "PyAEDT INFO: No consistent unique design is present. Inserting a new design.\n"
     ]
    },
    {
     "name": "stdout",
     "output_type": "stream",
     "text": [
      "PyAEDT INFO: Added design 'Icepak_VQN' of type Icepak.\n"
     ]
    },
    {
     "name": "stdout",
     "output_type": "stream",
     "text": [
      "PyAEDT INFO: Aedt Objects correctly read\n"
     ]
    },
    {
     "name": "stdout",
     "output_type": "stream",
     "text": [
      "PyAEDT INFO: Parsing C:/Users/ansys/AppData/Local/Temp/tmpn4n2a1fr.ansys/edb/ANSYS-HSD_V1.aedt.\n"
     ]
    },
    {
     "name": "stdout",
     "output_type": "stream",
     "text": [
      "PyAEDT INFO: File C:/Users/ansys/AppData/Local/Temp/tmpn4n2a1fr.ansys/edb/ANSYS-HSD_V1.aedt correctly loaded. Elapsed time: 0m 0sec\n"
     ]
    },
    {
     "name": "stdout",
     "output_type": "stream",
     "text": [
      "PyAEDT INFO: aedt file load time 0.03242945671081543\n"
     ]
    }
   ],
   "source": [
    "ipk = Icepak(version=AEDT_VERSION, non_graphical=NG_MODE, new_desktop=False)"
   ]
  },
  {
   "cell_type": "markdown",
   "id": "f7d99803",
   "metadata": {},
   "source": [
    "## Create PCB"
   ]
  },
  {
   "cell_type": "code",
   "execution_count": 27,
   "id": "a3a754f7",
   "metadata": {
    "execution": {
     "iopub.execute_input": "2024-12-07T08:35:18.445452Z",
     "iopub.status.busy": "2024-12-07T08:35:18.445452Z",
     "iopub.status.idle": "2024-12-07T08:35:19.678247Z",
     "shell.execute_reply": "2024-12-07T08:35:19.678247Z"
    }
   },
   "outputs": [
    {
     "name": "stdout",
     "output_type": "stream",
     "text": [
      "PyAEDT INFO: Modeler class has been initialized! Elapsed time: 0m 0sec\n"
     ]
    },
    {
     "name": "stdout",
     "output_type": "stream",
     "text": [
      "PyAEDT INFO: Materials class has been initialized! Elapsed time: 0m 0sec\n"
     ]
    }
   ],
   "source": [
    "pcb = ipk.create_ipk_3dcomponent_pcb(\n",
    "    compName=\"PCB_pyAEDT\",\n",
    "    setupLinkInfo=[h3d.project_file, h3d.design_name, \"siwave_1\", True, True],\n",
    "    solutionFreq=None,\n",
    "    resolution=0,\n",
    "    extent_type=\"Bounding Box\",\n",
    "    powerin=\"0\",\n",
    ")"
   ]
  },
  {
   "cell_type": "markdown",
   "id": "5663309c",
   "metadata": {},
   "source": [
    "## Include pckage definition from Edb"
   ]
  },
  {
   "cell_type": "code",
   "execution_count": 28,
   "id": "c3d362d0",
   "metadata": {
    "execution": {
     "iopub.execute_input": "2024-12-07T08:35:19.678247Z",
     "iopub.status.busy": "2024-12-07T08:35:19.678247Z",
     "iopub.status.idle": "2024-12-07T08:35:20.310618Z",
     "shell.execute_reply": "2024-12-07T08:35:20.309353Z"
    }
   },
   "outputs": [],
   "source": [
    "pcb.included_parts = \"Device\""
   ]
  },
  {
   "cell_type": "markdown",
   "id": "60bfa537",
   "metadata": {},
   "source": [
    "## Adjust air region"
   ]
  },
  {
   "cell_type": "code",
   "execution_count": 29,
   "id": "2f341731",
   "metadata": {
    "execution": {
     "iopub.execute_input": "2024-12-07T08:35:20.310618Z",
     "iopub.status.busy": "2024-12-07T08:35:20.310618Z",
     "iopub.status.idle": "2024-12-07T08:35:20.499388Z",
     "shell.execute_reply": "2024-12-07T08:35:20.499388Z"
    }
   },
   "outputs": [
    {
     "data": {
      "text/plain": [
       "<ansys.aedt.core.modules.boundary.BoundaryObject at 0x1592be98f70>"
      ]
     },
     "execution_count": 29,
     "metadata": {},
     "output_type": "execute_result"
    }
   ],
   "source": [
    "region = ipk.modeler[\"Region\"]\n",
    "faces = [f.id for f in region.faces]\n",
    "ipk.assign_pressure_free_opening(assignment=faces, boundary_name=\"Outlet\")"
   ]
  },
  {
   "cell_type": "markdown",
   "id": "6a1deac9",
   "metadata": {},
   "source": [
    "## Setup mesh"
   ]
  },
  {
   "cell_type": "code",
   "execution_count": 30,
   "id": "2b1a5835",
   "metadata": {
    "execution": {
     "iopub.execute_input": "2024-12-07T08:35:20.499388Z",
     "iopub.status.busy": "2024-12-07T08:35:20.499388Z",
     "iopub.status.idle": "2024-12-07T08:35:20.704875Z",
     "shell.execute_reply": "2024-12-07T08:35:20.704875Z"
    }
   },
   "outputs": [
    {
     "name": "stdout",
     "output_type": "stream",
     "text": [
      "PyAEDT WARNING: No mesh operation found.\n"
     ]
    },
    {
     "name": "stdout",
     "output_type": "stream",
     "text": [
      "PyAEDT WARNING: No mesh region found.\n"
     ]
    },
    {
     "name": "stdout",
     "output_type": "stream",
     "text": [
      "PyAEDT INFO: Parsing design objects. This operation can take time\n"
     ]
    },
    {
     "name": "stdout",
     "output_type": "stream",
     "text": [
      "PyAEDT INFO: 3D Modeler objects parsed. Elapsed time: 0m 0sec\n"
     ]
    },
    {
     "name": "stdout",
     "output_type": "stream",
     "text": [
      "PyAEDT INFO: Mesh class has been initialized! Elapsed time: 0m 0sec\n"
     ]
    }
   ],
   "source": [
    "glob_msh = ipk.mesh.global_mesh_region\n",
    "glob_msh.global_region.positive_z_padding_type = \"Absolute Offset\"\n",
    "glob_msh.global_region.positive_z_padding = \"50 mm\"\n",
    "glob_msh.global_region.negative_z_padding_type = \"Absolute Offset\"\n",
    "glob_msh.global_region.negative_z_padding = \"80 mm\""
   ]
  },
  {
   "cell_type": "code",
   "execution_count": 31,
   "id": "da5b1935",
   "metadata": {
    "execution": {
     "iopub.execute_input": "2024-12-07T08:35:20.704875Z",
     "iopub.status.busy": "2024-12-07T08:35:20.704875Z",
     "iopub.status.idle": "2024-12-07T08:35:20.720481Z",
     "shell.execute_reply": "2024-12-07T08:35:20.720481Z"
    }
   },
   "outputs": [],
   "source": [
    "glob_msh = ipk.mesh.global_mesh_region\n",
    "glob_msh.manual_settings = True\n",
    "glob_msh.settings[\"EnableMLM\"] = True\n",
    "glob_msh.settings[\"EnforeMLMType\"] = \"2D\"\n",
    "glob_msh.settings[\"2DMLMType\"] = \"Auto\"\n",
    "glob_msh.settings[\"MaxElementSizeY\"] = \"2mm\"\n",
    "glob_msh.settings[\"MaxElementSizeX\"] = \"2mm\"\n",
    "glob_msh.settings[\"MaxElementSizeZ\"] = \"3mm\"\n",
    "glob_msh.settings[\"MaxLevels\"] = \"2\""
   ]
  },
  {
   "cell_type": "code",
   "execution_count": 32,
   "id": "f97006fe",
   "metadata": {
    "execution": {
     "iopub.execute_input": "2024-12-07T08:35:20.720481Z",
     "iopub.status.busy": "2024-12-07T08:35:20.720481Z",
     "iopub.status.idle": "2024-12-07T08:35:20.752885Z",
     "shell.execute_reply": "2024-12-07T08:35:20.751890Z"
    }
   },
   "outputs": [
    {
     "data": {
      "text/plain": [
       "True"
      ]
     },
     "execution_count": 32,
     "metadata": {},
     "output_type": "execute_result"
    }
   ],
   "source": [
    "glob_msh.update()"
   ]
  },
  {
   "cell_type": "markdown",
   "id": "74256702",
   "metadata": {},
   "source": [
    "## Place monitor"
   ]
  },
  {
   "cell_type": "code",
   "execution_count": 33,
   "id": "47735258",
   "metadata": {
    "execution": {
     "iopub.execute_input": "2024-12-07T08:35:20.752885Z",
     "iopub.status.busy": "2024-12-07T08:35:20.752885Z",
     "iopub.status.idle": "2024-12-07T08:35:20.784267Z",
     "shell.execute_reply": "2024-12-07T08:35:20.784267Z"
    }
   },
   "outputs": [],
   "source": [
    "cpu = ipk.modeler[\"PCB_pyAEDT_U1_device\"]\n",
    "m1 = ipk.monitor.assign_face_monitor(\n",
    "    face_id=cpu.top_face_z.id,\n",
    "    monitor_quantity=\"Temperature\",\n",
    "    monitor_name=\"TemperatureMonitor1\",\n",
    ")"
   ]
  },
  {
   "cell_type": "markdown",
   "id": "827ef990",
   "metadata": {},
   "source": [
    "## Create Icepak setup"
   ]
  },
  {
   "cell_type": "code",
   "execution_count": 34,
   "id": "62e8631a",
   "metadata": {
    "execution": {
     "iopub.execute_input": "2024-12-07T08:35:20.784267Z",
     "iopub.status.busy": "2024-12-07T08:35:20.784267Z",
     "iopub.status.idle": "2024-12-07T08:35:20.879216Z",
     "shell.execute_reply": "2024-12-07T08:35:20.879216Z"
    }
   },
   "outputs": [
    {
     "name": "stdout",
     "output_type": "stream",
     "text": [
      "PyAEDT INFO: Key MaxIterations matched internal key 'Convergence Criteria - Max Iterations' with confidence of 52.\n"
     ]
    }
   ],
   "source": [
    "setup1 = ipk.create_setup(MaxIterations=10)"
   ]
  },
  {
   "cell_type": "markdown",
   "id": "8d3eaa39",
   "metadata": {},
   "source": [
    "Add 2-way coupling to the setup"
   ]
  },
  {
   "cell_type": "code",
   "execution_count": 35,
   "id": "fa7f3438",
   "metadata": {
    "execution": {
     "iopub.execute_input": "2024-12-07T08:35:20.879216Z",
     "iopub.status.busy": "2024-12-07T08:35:20.879216Z",
     "iopub.status.idle": "2024-12-07T08:35:21.067794Z",
     "shell.execute_reply": "2024-12-07T08:35:21.067794Z"
    }
   },
   "outputs": [
    {
     "data": {
      "text/plain": [
       "True"
      ]
     },
     "execution_count": 35,
     "metadata": {},
     "output_type": "execute_result"
    }
   ],
   "source": [
    "ipk.assign_2way_coupling(number_of_iterations=1)"
   ]
  },
  {
   "cell_type": "markdown",
   "id": "bef024ec",
   "metadata": {},
   "source": [
    "## Save"
   ]
  },
  {
   "cell_type": "code",
   "execution_count": 36,
   "id": "a30ab5e9",
   "metadata": {
    "execution": {
     "iopub.execute_input": "2024-12-07T08:35:21.067794Z",
     "iopub.status.busy": "2024-12-07T08:35:21.067794Z",
     "iopub.status.idle": "2024-12-07T08:35:21.336855Z",
     "shell.execute_reply": "2024-12-07T08:35:21.336855Z"
    }
   },
   "outputs": [
    {
     "name": "stdout",
     "output_type": "stream",
     "text": [
      "PyAEDT INFO: Project ANSYS-HSD_V1 Saved correctly\n"
     ]
    },
    {
     "data": {
      "text/plain": [
       "True"
      ]
     },
     "execution_count": 36,
     "metadata": {},
     "output_type": "execute_result"
    }
   ],
   "source": [
    "ipk.save_project()"
   ]
  },
  {
   "cell_type": "markdown",
   "id": "e8eea3b8",
   "metadata": {},
   "source": [
    "## Shut Down Electronics Desktop"
   ]
  },
  {
   "cell_type": "code",
   "execution_count": 37,
   "id": "9118bc71",
   "metadata": {
    "execution": {
     "iopub.execute_input": "2024-12-07T08:35:21.336855Z",
     "iopub.status.busy": "2024-12-07T08:35:21.336855Z",
     "iopub.status.idle": "2024-12-07T08:35:24.788423Z",
     "shell.execute_reply": "2024-12-07T08:35:24.788423Z"
    }
   },
   "outputs": [
    {
     "name": "stdout",
     "output_type": "stream",
     "text": [
      "PyAEDT INFO: Desktop has been released and closed.\n"
     ]
    },
    {
     "data": {
      "text/plain": [
       "True"
      ]
     },
     "execution_count": 37,
     "metadata": {},
     "output_type": "execute_result"
    }
   ],
   "source": [
    "ipk.release_desktop()"
   ]
  },
  {
   "cell_type": "markdown",
   "id": "5a7304fd",
   "metadata": {},
   "source": [
    "All project files are saved in the folder ``temp_file.dir``. If you've run this example as a Jupyter notebook you\n",
    "can retrieve those project files."
   ]
  }
 ],
 "metadata": {
  "jupytext": {
   "cell_metadata_filter": "-all",
   "main_language": "python",
   "notebook_metadata_filter": "-all",
   "text_representation": {
    "extension": ".py",
    "format_name": "light"
   }
  },
  "language_info": {
   "codemirror_mode": {
    "name": "ipython",
    "version": 3
   },
   "file_extension": ".py",
   "mimetype": "text/x-python",
   "name": "python",
   "nbconvert_exporter": "python",
   "pygments_lexer": "ipython3",
   "version": "3.10.11"
  }
 },
 "nbformat": 4,
 "nbformat_minor": 5
}
