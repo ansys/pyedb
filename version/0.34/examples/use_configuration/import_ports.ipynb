{
 "cells": [
  {
   "cell_type": "markdown",
   "id": "4e3263f0",
   "metadata": {},
   "source": [
    "# Import Ports\n",
    "This example shows how to import ports. In this example, we are going to\n",
    "\n",
    "- Download an example board\n",
    "- Create a configuration file\n",
    "  - Add a circuit port between two nets\n",
    "  - Add a circuit port between two pins\n",
    "  - Add a circuit port between two pin groups\n",
    "  - Add a circuit port between two coordinates\n",
    "  - Add a coax port\n",
    "  - Add a port reference to the nearest pin\n",
    "  - Add distributed ports\n",
    "- Import the configuration file"
   ]
  },
  {
   "cell_type": "markdown",
   "id": "a0740354",
   "metadata": {},
   "source": [
    "## Import the required packages"
   ]
  },
  {
   "cell_type": "code",
   "execution_count": 1,
   "id": "8b7beefc",
   "metadata": {
    "execution": {
     "iopub.execute_input": "2024-12-07T08:32:07.505648Z",
     "iopub.status.busy": "2024-12-07T08:32:07.505648Z",
     "iopub.status.idle": "2024-12-07T08:32:08.115127Z",
     "shell.execute_reply": "2024-12-07T08:32:08.115127Z"
    }
   },
   "outputs": [],
   "source": [
    "import json\n",
    "from pathlib import Path\n",
    "import tempfile\n",
    "\n",
    "from ansys.aedt.core.downloads import download_file\n",
    "\n",
    "from pyedb import Edb\n",
    "\n",
    "AEDT_VERSION = \"2024.2\"\n",
    "NG_MODE = False\n"
   ]
  },
  {
   "cell_type": "markdown",
   "id": "a682aa0f",
   "metadata": {},
   "source": [
    "Download the example PCB data."
   ]
  },
  {
   "cell_type": "code",
   "execution_count": 2,
   "id": "019fa2dc",
   "metadata": {
    "execution": {
     "iopub.execute_input": "2024-12-07T08:32:08.115127Z",
     "iopub.status.busy": "2024-12-07T08:32:08.115127Z",
     "iopub.status.idle": "2024-12-07T08:32:08.852706Z",
     "shell.execute_reply": "2024-12-07T08:32:08.852706Z"
    }
   },
   "outputs": [],
   "source": [
    "temp_folder = tempfile.TemporaryDirectory(suffix=\".ansys\")\n",
    "file_edb = download_file(source=\"edb/ANSYS-HSD_V1.aedb\", destination=temp_folder.name)"
   ]
  },
  {
   "cell_type": "markdown",
   "id": "a9552dba",
   "metadata": {},
   "source": [
    "## Load example layout"
   ]
  },
  {
   "cell_type": "code",
   "execution_count": 3,
   "id": "45763d47",
   "metadata": {
    "execution": {
     "iopub.execute_input": "2024-12-07T08:32:08.852706Z",
     "iopub.status.busy": "2024-12-07T08:32:08.852706Z",
     "iopub.status.idle": "2024-12-07T08:32:21.484101Z",
     "shell.execute_reply": "2024-12-07T08:32:21.484101Z"
    }
   },
   "outputs": [
    {
     "name": "stdout",
     "output_type": "stream",
     "text": [
      "PyAEDT INFO: Logger is initialized in EDB.\n"
     ]
    },
    {
     "name": "stdout",
     "output_type": "stream",
     "text": [
      "PyAEDT INFO: legacy v0.34.3\n"
     ]
    },
    {
     "name": "stdout",
     "output_type": "stream",
     "text": [
      "PyAEDT INFO: Python version 3.10.11 (tags/v3.10.11:7d4cc5a, Apr  5 2023, 00:38:17) [MSC v.1929 64 bit (AMD64)]\n"
     ]
    },
    {
     "name": "stdout",
     "output_type": "stream",
     "text": [
      "PyAEDT INFO: Database ANSYS-HSD_V1.aedb Opened in 2024.2\n"
     ]
    },
    {
     "name": "stdout",
     "output_type": "stream",
     "text": [
      "PyAEDT INFO: Cell main Opened\n"
     ]
    },
    {
     "name": "stdout",
     "output_type": "stream",
     "text": [
      "PyAEDT INFO: Builder was initialized.\n"
     ]
    },
    {
     "name": "stdout",
     "output_type": "stream",
     "text": [
      "PyAEDT INFO: EDB initialized.\n"
     ]
    }
   ],
   "source": [
    "edbapp = Edb(file_edb, edbversion=AEDT_VERSION)"
   ]
  },
  {
   "cell_type": "markdown",
   "id": "83f5a161",
   "metadata": {},
   "source": [
    "## Create an empty dictionary to host all configurations"
   ]
  },
  {
   "cell_type": "code",
   "execution_count": 4,
   "id": "97ae97df",
   "metadata": {
    "execution": {
     "iopub.execute_input": "2024-12-07T08:32:21.484101Z",
     "iopub.status.busy": "2024-12-07T08:32:21.484101Z",
     "iopub.status.idle": "2024-12-07T08:32:21.499725Z",
     "shell.execute_reply": "2024-12-07T08:32:21.499725Z"
    }
   },
   "outputs": [],
   "source": [
    "cfg = dict()"
   ]
  },
  {
   "cell_type": "markdown",
   "id": "e10a31ec",
   "metadata": {},
   "source": [
    "## Add a circuit port between two nets"
   ]
  },
  {
   "cell_type": "markdown",
   "id": "8bc288a8",
   "metadata": {},
   "source": [
    "Keywords\n",
    "\n",
    "- **name**. Name of the port.\n",
    "- **Reference_designator**. Reference designator of the component.\n",
    "- **type**. Type of the port. Supported types are 'circuit', 'coax'\n",
    "- **positive_terminal**. Positive terminal of the port. Supported types are 'net', 'pin', 'pin_group', 'coordinates'\n",
    "- **negative_terminal**. Negative terminal of the port. Supported types are 'net', 'pin', 'pin_group', 'coordinates',\n",
    "'nearest_pin'"
   ]
  },
  {
   "cell_type": "code",
   "execution_count": 5,
   "id": "68bc66ad",
   "metadata": {
    "execution": {
     "iopub.execute_input": "2024-12-07T08:32:21.499725Z",
     "iopub.status.busy": "2024-12-07T08:32:21.499725Z",
     "iopub.status.idle": "2024-12-07T08:32:21.515350Z",
     "shell.execute_reply": "2024-12-07T08:32:21.515350Z"
    }
   },
   "outputs": [],
   "source": [
    "port_1 = {\n",
    "    \"name\": \"port_1\",\n",
    "    \"reference_designator\": \"X1\",\n",
    "    \"type\": \"circuit\",\n",
    "    \"positive_terminal\": {\"net\": \"PCIe_Gen4_TX2_N\"},\n",
    "    \"negative_terminal\": {\"net\": \"GND\"},\n",
    "}"
   ]
  },
  {
   "cell_type": "markdown",
   "id": "ad532d5d",
   "metadata": {},
   "source": [
    "## Add a circuit port between two pins"
   ]
  },
  {
   "cell_type": "code",
   "execution_count": 6,
   "id": "06b17cba",
   "metadata": {
    "execution": {
     "iopub.execute_input": "2024-12-07T08:32:21.515350Z",
     "iopub.status.busy": "2024-12-07T08:32:21.515350Z",
     "iopub.status.idle": "2024-12-07T08:32:21.530979Z",
     "shell.execute_reply": "2024-12-07T08:32:21.530979Z"
    }
   },
   "outputs": [],
   "source": [
    "port_2 = {\n",
    "    \"name\": \"port_2\",\n",
    "    \"reference_designator\": \"C375\",\n",
    "    \"type\": \"circuit\",\n",
    "    \"positive_terminal\": {\"pin\": \"1\"},\n",
    "    \"negative_terminal\": {\"pin\": \"2\"},\n",
    "}"
   ]
  },
  {
   "cell_type": "markdown",
   "id": "3b8516bb",
   "metadata": {},
   "source": [
    "## Add a circuit port between two pin groups"
   ]
  },
  {
   "cell_type": "code",
   "execution_count": 7,
   "id": "67c4fb35",
   "metadata": {
    "execution": {
     "iopub.execute_input": "2024-12-07T08:32:21.530979Z",
     "iopub.status.busy": "2024-12-07T08:32:21.530979Z",
     "iopub.status.idle": "2024-12-07T08:32:21.546655Z",
     "shell.execute_reply": "2024-12-07T08:32:21.546655Z"
    }
   },
   "outputs": [],
   "source": [
    "pin_groups = [\n",
    "    {\"name\": \"U9_5V_1\", \"reference_designator\": \"U9\", \"pins\": [\"32\", \"33\"]},\n",
    "    {\"name\": \"U9_GND\", \"reference_designator\": \"U9\", \"net\": \"GND\"},\n",
    "]"
   ]
  },
  {
   "cell_type": "code",
   "execution_count": 8,
   "id": "5fa24da9",
   "metadata": {
    "execution": {
     "iopub.execute_input": "2024-12-07T08:32:21.546655Z",
     "iopub.status.busy": "2024-12-07T08:32:21.546655Z",
     "iopub.status.idle": "2024-12-07T08:32:21.562294Z",
     "shell.execute_reply": "2024-12-07T08:32:21.562294Z"
    }
   },
   "outputs": [],
   "source": [
    "port_3 = {\n",
    "    \"name\": \"port_3\",\n",
    "    \"type\": \"circuit\",\n",
    "    \"positive_terminal\": {\"pin_group\": \"U9_5V_1\"},\n",
    "    \"negative_terminal\": {\"pin_group\": \"U9_GND\"},\n",
    "}"
   ]
  },
  {
   "cell_type": "markdown",
   "id": "0a4aa1fb",
   "metadata": {},
   "source": [
    "## Add a circuit port between two coordinates"
   ]
  },
  {
   "cell_type": "markdown",
   "id": "f7141555",
   "metadata": {},
   "source": [
    "Keywords\n",
    "\n",
    "- **layer**. Layer on which the terminal is placed\n",
    "- **point**. XY coordinate the terminal is placed\n",
    "- **net**. Name of the net the terminal is placed on"
   ]
  },
  {
   "cell_type": "code",
   "execution_count": 9,
   "id": "32c7d2d2",
   "metadata": {
    "execution": {
     "iopub.execute_input": "2024-12-07T08:32:21.562294Z",
     "iopub.status.busy": "2024-12-07T08:32:21.562294Z",
     "iopub.status.idle": "2024-12-07T08:32:21.577906Z",
     "shell.execute_reply": "2024-12-07T08:32:21.577906Z"
    }
   },
   "outputs": [],
   "source": [
    "port_4 = {\n",
    "    \"name\": \"port_4\",\n",
    "    \"type\": \"circuit\",\n",
    "    \"positive_terminal\": {\"coordinates\": {\"layer\": \"1_Top\", \"point\": [\"104mm\", \"37mm\"], \"net\": \"AVCC_1V3\"}},\n",
    "    \"negative_terminal\": {\"coordinates\": {\"layer\": \"Inner6(GND2)\", \"point\": [\"104mm\", \"37mm\"], \"net\": \"GND\"}},\n",
    "}"
   ]
  },
  {
   "cell_type": "markdown",
   "id": "9bb32b3d",
   "metadata": {},
   "source": [
    "## Add a coax port"
   ]
  },
  {
   "cell_type": "code",
   "execution_count": 10,
   "id": "5597bded",
   "metadata": {
    "execution": {
     "iopub.execute_input": "2024-12-07T08:32:21.577906Z",
     "iopub.status.busy": "2024-12-07T08:32:21.577906Z",
     "iopub.status.idle": "2024-12-07T08:32:21.593543Z",
     "shell.execute_reply": "2024-12-07T08:32:21.593543Z"
    }
   },
   "outputs": [],
   "source": [
    "port_5 = {\"name\": \"port_5\", \"reference_designator\": \"U1\", \"type\": \"coax\", \"positive_terminal\": {\"pin\": \"AM17\"}}"
   ]
  },
  {
   "cell_type": "markdown",
   "id": "dedd6e94",
   "metadata": {},
   "source": [
    "## Add a port reference to the nearest pin"
   ]
  },
  {
   "cell_type": "markdown",
   "id": "90d14644",
   "metadata": {},
   "source": [
    "Keywords\n",
    "\n",
    "- **reference_net**. Name of the reference net\n",
    "- **search_radius**. Reference pin search radius in meter"
   ]
  },
  {
   "cell_type": "code",
   "execution_count": 11,
   "id": "d073d7ac",
   "metadata": {
    "execution": {
     "iopub.execute_input": "2024-12-07T08:32:21.593543Z",
     "iopub.status.busy": "2024-12-07T08:32:21.593543Z",
     "iopub.status.idle": "2024-12-07T08:32:21.609157Z",
     "shell.execute_reply": "2024-12-07T08:32:21.609157Z"
    }
   },
   "outputs": [],
   "source": [
    "port_6 = {\n",
    "    \"name\": \"port_6\",\n",
    "    \"reference_designator\": \"U15\",\n",
    "    \"type\": \"circuit\",\n",
    "    \"positive_terminal\": {\"pin\": \"D7\"},\n",
    "    \"negative_terminal\": {\"nearest_pin\": {\"reference_net\": \"GND\", \"search_radius\": 5e-3}},\n",
    "}"
   ]
  },
  {
   "cell_type": "markdown",
   "id": "b1da7c19",
   "metadata": {},
   "source": [
    "## Add distributed ports"
   ]
  },
  {
   "cell_type": "markdown",
   "id": "c334cfac",
   "metadata": {},
   "source": [
    "Keywords\n",
    "\n",
    "- **distributed**. Whether to create distributed ports. When set to True, ports are created per pin"
   ]
  },
  {
   "cell_type": "code",
   "execution_count": 12,
   "id": "5c254f69",
   "metadata": {
    "execution": {
     "iopub.execute_input": "2024-12-07T08:32:21.609157Z",
     "iopub.status.busy": "2024-12-07T08:32:21.609157Z",
     "iopub.status.idle": "2024-12-07T08:32:21.624786Z",
     "shell.execute_reply": "2024-12-07T08:32:21.624786Z"
    }
   },
   "outputs": [],
   "source": [
    "ports_distributed = {\n",
    "    \"name\": \"ports_d\",\n",
    "    \"reference_designator\": \"U7\",\n",
    "    \"type\": \"circuit\",\n",
    "    \"distributed\": True,\n",
    "    \"positive_terminal\": {\"net\": \"VDD_DDR\"},\n",
    "    \"negative_terminal\": {\"net\": \"GND\"},\n",
    "}"
   ]
  },
  {
   "cell_type": "markdown",
   "id": "17c955f0",
   "metadata": {},
   "source": [
    "## Add setups in configuration"
   ]
  },
  {
   "cell_type": "code",
   "execution_count": 13,
   "id": "45e69d08",
   "metadata": {
    "execution": {
     "iopub.execute_input": "2024-12-07T08:32:21.624786Z",
     "iopub.status.busy": "2024-12-07T08:32:21.624786Z",
     "iopub.status.idle": "2024-12-07T08:32:21.640409Z",
     "shell.execute_reply": "2024-12-07T08:32:21.640409Z"
    }
   },
   "outputs": [],
   "source": [
    "cfg[\"pin_groups\"] = pin_groups\n",
    "cfg[\"ports\"] = [port_1, port_2, port_3, port_4, port_5, port_6, ports_distributed]"
   ]
  },
  {
   "cell_type": "markdown",
   "id": "04caba0e",
   "metadata": {},
   "source": [
    "## Write configuration into as json file"
   ]
  },
  {
   "cell_type": "code",
   "execution_count": 14,
   "id": "d3853ca9",
   "metadata": {
    "execution": {
     "iopub.execute_input": "2024-12-07T08:32:21.640409Z",
     "iopub.status.busy": "2024-12-07T08:32:21.640409Z",
     "iopub.status.idle": "2024-12-07T08:32:21.656035Z",
     "shell.execute_reply": "2024-12-07T08:32:21.656035Z"
    }
   },
   "outputs": [],
   "source": [
    "file_json = Path(temp_folder.name) / \"edb_configuration.json\"\n",
    "with open(file_json, \"w\") as f:\n",
    "    json.dump(cfg, f, indent=4, ensure_ascii=False)"
   ]
  },
  {
   "cell_type": "markdown",
   "id": "be0f2c64",
   "metadata": {},
   "source": [
    "## Import configuration into example layout"
   ]
  },
  {
   "cell_type": "code",
   "execution_count": 15,
   "id": "c23a369a",
   "metadata": {
    "execution": {
     "iopub.execute_input": "2024-12-07T08:32:21.656035Z",
     "iopub.status.busy": "2024-12-07T08:32:21.656035Z",
     "iopub.status.idle": "2024-12-07T08:32:23.078285Z",
     "shell.execute_reply": "2024-12-07T08:32:23.078285Z"
    }
   },
   "outputs": [
    {
     "data": {
      "text/plain": [
       "True"
      ]
     },
     "execution_count": 15,
     "metadata": {},
     "output_type": "execute_result"
    }
   ],
   "source": [
    "edbapp.configuration.load(config_file=file_json)\n",
    "edbapp.configuration.run()"
   ]
  },
  {
   "cell_type": "markdown",
   "id": "2c289248",
   "metadata": {},
   "source": [
    "## Review"
   ]
  },
  {
   "cell_type": "code",
   "execution_count": 16,
   "id": "4f1c60f5",
   "metadata": {
    "execution": {
     "iopub.execute_input": "2024-12-07T08:32:23.078285Z",
     "iopub.status.busy": "2024-12-07T08:32:23.078285Z",
     "iopub.status.idle": "2024-12-07T08:32:23.109533Z",
     "shell.execute_reply": "2024-12-07T08:32:23.109533Z"
    }
   },
   "outputs": [
    {
     "data": {
      "text/plain": [
       "{'port_1': <pyedb.dotnet.edb_core.edb_data.ports.CircuitPort at 0x16917260490>,\n",
       " 'port_2': <pyedb.dotnet.edb_core.edb_data.ports.CircuitPort at 0x1691840ce50>,\n",
       " 'port_3': <pyedb.dotnet.edb_core.edb_data.ports.CircuitPort at 0x16917260520>,\n",
       " 'port_4': <pyedb.dotnet.edb_core.edb_data.ports.CircuitPort at 0x16917260fd0>,\n",
       " 'port_5': <pyedb.dotnet.edb_core.edb_data.ports.CoaxPort at 0x169172605e0>,\n",
       " 'port_6': <pyedb.dotnet.edb_core.edb_data.ports.CircuitPort at 0x169172606d0>,\n",
       " 'U7_VDD_DDR_T9': <pyedb.dotnet.edb_core.edb_data.ports.CircuitPort at 0x16917260820>,\n",
       " 'U7_VDD_DDR_R1': <pyedb.dotnet.edb_core.edb_data.ports.CircuitPort at 0x16917262860>,\n",
       " 'U7_VDD_DDR_L9': <pyedb.dotnet.edb_core.edb_data.ports.CircuitPort at 0x16917260130>,\n",
       " 'U7_VDD_DDR_L1': <pyedb.dotnet.edb_core.edb_data.ports.CircuitPort at 0x16917261000>,\n",
       " 'U7_VDD_DDR_J9': <pyedb.dotnet.edb_core.edb_data.ports.CircuitPort at 0x16917260d00>,\n",
       " 'U7_VDD_DDR_J8': <pyedb.dotnet.edb_core.edb_data.ports.CircuitPort at 0x16917261090>,\n",
       " 'U7_VDD_DDR_J2': <pyedb.dotnet.edb_core.edb_data.ports.CircuitPort at 0x169172611e0>,\n",
       " 'U7_VDD_DDR_J1': <pyedb.dotnet.edb_core.edb_data.ports.CircuitPort at 0x16917261120>,\n",
       " 'U7_VDD_DDR_G9': <pyedb.dotnet.edb_core.edb_data.ports.CircuitPort at 0x16917261ff0>,\n",
       " 'U7_VDD_DDR_G7': <pyedb.dotnet.edb_core.edb_data.ports.CircuitPort at 0x16917262290>,\n",
       " 'U7_VDD_DDR_G1': <pyedb.dotnet.edb_core.edb_data.ports.CircuitPort at 0x16917261ea0>,\n",
       " 'U7_VDD_DDR_F8': <pyedb.dotnet.edb_core.edb_data.ports.CircuitPort at 0x16917261e70>,\n",
       " 'U7_VDD_DDR_F2': <pyedb.dotnet.edb_core.edb_data.ports.CircuitPort at 0x169172624d0>,\n",
       " 'U7_VDD_DDR_D9': <pyedb.dotnet.edb_core.edb_data.ports.CircuitPort at 0x169172628f0>,\n",
       " 'U7_VDD_DDR_D1': <pyedb.dotnet.edb_core.edb_data.ports.CircuitPort at 0x16917262a10>,\n",
       " 'U7_VDD_DDR_C1': <pyedb.dotnet.edb_core.edb_data.ports.CircuitPort at 0x16917262650>,\n",
       " 'U7_VDD_DDR_B9': <pyedb.dotnet.edb_core.edb_data.ports.CircuitPort at 0x16917262560>,\n",
       " 'U7_VDD_DDR_B3': <pyedb.dotnet.edb_core.edb_data.ports.CircuitPort at 0x169172626b0>,\n",
       " 'U7_VDD_DDR_A9': <pyedb.dotnet.edb_core.edb_data.ports.CircuitPort at 0x169172620b0>,\n",
       " 'U7_VDD_DDR_A1': <pyedb.dotnet.edb_core.edb_data.ports.CircuitPort at 0x16917262980>}"
      ]
     },
     "execution_count": 16,
     "metadata": {},
     "output_type": "execute_result"
    }
   ],
   "source": [
    "edbapp.ports"
   ]
  },
  {
   "cell_type": "markdown",
   "id": "c496bd29",
   "metadata": {},
   "source": [
    "## Save and close Edb\n",
    "The temporary folder will be deleted once the execution of this script is finished. Replace **edbapp.save()** with\n",
    "**edbapp.save_as(\"C:/example.aedb\")** to keep the example project."
   ]
  },
  {
   "cell_type": "code",
   "execution_count": 17,
   "id": "bcfe1342",
   "metadata": {
    "execution": {
     "iopub.execute_input": "2024-12-07T08:32:23.109533Z",
     "iopub.status.busy": "2024-12-07T08:32:23.109533Z",
     "iopub.status.idle": "2024-12-07T08:32:23.328291Z",
     "shell.execute_reply": "2024-12-07T08:32:23.328291Z"
    }
   },
   "outputs": [
    {
     "data": {
      "text/plain": [
       "True"
      ]
     },
     "execution_count": 17,
     "metadata": {},
     "output_type": "execute_result"
    }
   ],
   "source": [
    "edbapp.save()\n",
    "edbapp.close()"
   ]
  }
 ],
 "metadata": {
  "jupytext": {
   "cell_metadata_filter": "-all",
   "main_language": "python",
   "notebook_metadata_filter": "-all",
   "text_representation": {
    "extension": ".py",
    "format_name": "light"
   }
  },
  "language_info": {
   "codemirror_mode": {
    "name": "ipython",
    "version": 3
   },
   "file_extension": ".py",
   "mimetype": "text/x-python",
   "name": "python",
   "nbconvert_exporter": "python",
   "pygments_lexer": "ipython3",
   "version": "3.10.11"
  }
 },
 "nbformat": 4,
 "nbformat_minor": 5
}
