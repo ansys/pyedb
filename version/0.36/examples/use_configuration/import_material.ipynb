{
 "cells": [
  {
   "cell_type": "markdown",
   "id": "d8130f91",
   "metadata": {},
   "source": [
    "# Import Materials\n",
    "This example shows how to import materials."
   ]
  },
  {
   "cell_type": "markdown",
   "id": "eec4264b",
   "metadata": {},
   "source": [
    "### Import the required packages"
   ]
  },
  {
   "cell_type": "code",
   "execution_count": 1,
   "id": "afa6bd44",
   "metadata": {
    "execution": {
     "iopub.execute_input": "2025-01-28T16:17:27.092175Z",
     "iopub.status.busy": "2025-01-28T16:17:27.092175Z",
     "iopub.status.idle": "2025-01-28T16:17:28.092184Z",
     "shell.execute_reply": "2025-01-28T16:17:28.092184Z"
    }
   },
   "outputs": [],
   "source": [
    "import json\n",
    "from pathlib import Path\n",
    "import tempfile\n",
    "\n",
    "from IPython.display import display\n",
    "from ansys.aedt.core.downloads import download_file\n",
    "import pandas as pd\n",
    "\n",
    "from pyedb import Edb\n",
    "\n",
    "AEDT_VERSION = \"2024.2\"\n",
    "NG_MODE = False\n"
   ]
  },
  {
   "cell_type": "markdown",
   "id": "10a8de77",
   "metadata": {},
   "source": [
    "Download the example PCB data."
   ]
  },
  {
   "cell_type": "code",
   "execution_count": 2,
   "id": "26993afc",
   "metadata": {
    "execution": {
     "iopub.execute_input": "2025-01-28T16:17:28.092184Z",
     "iopub.status.busy": "2025-01-28T16:17:28.092184Z",
     "iopub.status.idle": "2025-01-28T16:17:29.358644Z",
     "shell.execute_reply": "2025-01-28T16:17:29.358644Z"
    }
   },
   "outputs": [],
   "source": [
    "temp_folder = tempfile.TemporaryDirectory(suffix=\".ansys\")\n",
    "file_edb = download_file(source=\"edb/ANSYS-HSD_V1.aedb\", destination=temp_folder.name)"
   ]
  },
  {
   "cell_type": "markdown",
   "id": "eef6582e",
   "metadata": {},
   "source": [
    "## Load example layout."
   ]
  },
  {
   "cell_type": "code",
   "execution_count": 3,
   "id": "1ca97f71",
   "metadata": {
    "execution": {
     "iopub.execute_input": "2025-01-28T16:17:29.358644Z",
     "iopub.status.busy": "2025-01-28T16:17:29.358644Z",
     "iopub.status.idle": "2025-01-28T16:17:41.883608Z",
     "shell.execute_reply": "2025-01-28T16:17:41.883608Z"
    }
   },
   "outputs": [
    {
     "name": "stdout",
     "output_type": "stream",
     "text": [
      "PyAEDT INFO: Logger is initialized in EDB.\n"
     ]
    },
    {
     "name": "stdout",
     "output_type": "stream",
     "text": [
      "PyAEDT INFO: legacy v0.36.0\n"
     ]
    },
    {
     "name": "stdout",
     "output_type": "stream",
     "text": [
      "PyAEDT INFO: Python version 3.10.11 (tags/v3.10.11:7d4cc5a, Apr  5 2023, 00:38:17) [MSC v.1929 64 bit (AMD64)]\n"
     ]
    },
    {
     "name": "stdout",
     "output_type": "stream",
     "text": [
      "PyAEDT INFO: Database ANSYS-HSD_V1.aedb Opened in 2024.2\n"
     ]
    },
    {
     "name": "stdout",
     "output_type": "stream",
     "text": [
      "PyAEDT INFO: Cell main Opened\n"
     ]
    },
    {
     "name": "stdout",
     "output_type": "stream",
     "text": [
      "PyAEDT INFO: Builder was initialized.\n"
     ]
    },
    {
     "name": "stdout",
     "output_type": "stream",
     "text": [
      "PyAEDT INFO: EDB initialized.\n"
     ]
    }
   ],
   "source": [
    "edbapp = Edb(file_edb, edbversion=AEDT_VERSION)"
   ]
  },
  {
   "cell_type": "markdown",
   "id": "fccd8fca",
   "metadata": {},
   "source": [
    "## Review materials from layout"
   ]
  },
  {
   "cell_type": "markdown",
   "id": "794622f8",
   "metadata": {},
   "source": [
    "Get materials from layout in a dictionary. Materials are exported together with stadckup."
   ]
  },
  {
   "cell_type": "code",
   "execution_count": 4,
   "id": "aadfde82",
   "metadata": {
    "execution": {
     "iopub.execute_input": "2025-01-28T16:17:41.883608Z",
     "iopub.status.busy": "2025-01-28T16:17:41.883608Z",
     "iopub.status.idle": "2025-01-28T16:17:41.946096Z",
     "shell.execute_reply": "2025-01-28T16:17:41.946096Z"
    },
    "lines_to_next_cell": 2
   },
   "outputs": [
    {
     "name": "stdout",
     "output_type": "stream",
     "text": [
      "PyAEDT INFO: Getting data from layout database.\n"
     ]
    }
   ],
   "source": [
    "data_cfg = edbapp.configuration.get_data_from_db(stackup=True)"
   ]
  },
  {
   "cell_type": "code",
   "execution_count": 5,
   "id": "8df9e15b",
   "metadata": {
    "execution": {
     "iopub.execute_input": "2025-01-28T16:17:41.946096Z",
     "iopub.status.busy": "2025-01-28T16:17:41.946096Z",
     "iopub.status.idle": "2025-01-28T16:17:41.977294Z",
     "shell.execute_reply": "2025-01-28T16:17:41.977294Z"
    }
   },
   "outputs": [
    {
     "data": {
      "text/html": [
       "<div>\n",
       "<style scoped>\n",
       "    .dataframe tbody tr th:only-of-type {\n",
       "        vertical-align: middle;\n",
       "    }\n",
       "\n",
       "    .dataframe tbody tr th {\n",
       "        vertical-align: top;\n",
       "    }\n",
       "\n",
       "    .dataframe thead th {\n",
       "        text-align: right;\n",
       "    }\n",
       "</style>\n",
       "<table border=\"1\" class=\"dataframe\">\n",
       "  <thead>\n",
       "    <tr style=\"text-align: right;\">\n",
       "      <th></th>\n",
       "      <th>name</th>\n",
       "      <th>permittivity</th>\n",
       "      <th>conductivity</th>\n",
       "      <th>dielectric_loss_tangent</th>\n",
       "      <th>magnetic_loss_tangent</th>\n",
       "      <th>mass_density</th>\n",
       "      <th>permeability</th>\n",
       "      <th>poisson_ratio</th>\n",
       "      <th>specific_heat</th>\n",
       "      <th>thermal_conductivity</th>\n",
       "    </tr>\n",
       "  </thead>\n",
       "  <tbody>\n",
       "    <tr>\n",
       "      <th>0</th>\n",
       "      <td>copper</td>\n",
       "      <td>0.00</td>\n",
       "      <td>58000000.0</td>\n",
       "      <td>0.000</td>\n",
       "      <td>0.0</td>\n",
       "      <td>0.0</td>\n",
       "      <td>0.0</td>\n",
       "      <td>0.00</td>\n",
       "      <td>0.0</td>\n",
       "      <td>0.000</td>\n",
       "    </tr>\n",
       "    <tr>\n",
       "      <th>1</th>\n",
       "      <td>FR4_epoxy</td>\n",
       "      <td>4.40</td>\n",
       "      <td>0.0</td>\n",
       "      <td>0.020</td>\n",
       "      <td>0.0</td>\n",
       "      <td>1900.0</td>\n",
       "      <td>0.0</td>\n",
       "      <td>0.28</td>\n",
       "      <td>1150.0</td>\n",
       "      <td>0.294</td>\n",
       "    </tr>\n",
       "    <tr>\n",
       "      <th>2</th>\n",
       "      <td>Megtron4</td>\n",
       "      <td>3.77</td>\n",
       "      <td>0.0</td>\n",
       "      <td>0.005</td>\n",
       "      <td>0.0</td>\n",
       "      <td>0.0</td>\n",
       "      <td>0.0</td>\n",
       "      <td>0.00</td>\n",
       "      <td>0.0</td>\n",
       "      <td>0.000</td>\n",
       "    </tr>\n",
       "    <tr>\n",
       "      <th>3</th>\n",
       "      <td>Megtron4_2</td>\n",
       "      <td>3.47</td>\n",
       "      <td>0.0</td>\n",
       "      <td>0.006</td>\n",
       "      <td>0.0</td>\n",
       "      <td>0.0</td>\n",
       "      <td>0.0</td>\n",
       "      <td>0.00</td>\n",
       "      <td>0.0</td>\n",
       "      <td>0.000</td>\n",
       "    </tr>\n",
       "    <tr>\n",
       "      <th>4</th>\n",
       "      <td>Megtron4_3</td>\n",
       "      <td>4.20</td>\n",
       "      <td>0.0</td>\n",
       "      <td>0.005</td>\n",
       "      <td>0.0</td>\n",
       "      <td>0.0</td>\n",
       "      <td>0.0</td>\n",
       "      <td>0.00</td>\n",
       "      <td>0.0</td>\n",
       "      <td>0.000</td>\n",
       "    </tr>\n",
       "    <tr>\n",
       "      <th>5</th>\n",
       "      <td>Solder Resist</td>\n",
       "      <td>3.00</td>\n",
       "      <td>0.0</td>\n",
       "      <td>0.000</td>\n",
       "      <td>0.0</td>\n",
       "      <td>0.0</td>\n",
       "      <td>0.0</td>\n",
       "      <td>0.00</td>\n",
       "      <td>0.0</td>\n",
       "      <td>0.000</td>\n",
       "    </tr>\n",
       "  </tbody>\n",
       "</table>\n",
       "</div>"
      ],
      "text/plain": [
       "            name  permittivity  conductivity  dielectric_loss_tangent  \\\n",
       "0         copper          0.00    58000000.0                    0.000   \n",
       "1      FR4_epoxy          4.40           0.0                    0.020   \n",
       "2       Megtron4          3.77           0.0                    0.005   \n",
       "3     Megtron4_2          3.47           0.0                    0.006   \n",
       "4     Megtron4_3          4.20           0.0                    0.005   \n",
       "5  Solder Resist          3.00           0.0                    0.000   \n",
       "\n",
       "   magnetic_loss_tangent  mass_density  permeability  poisson_ratio  \\\n",
       "0                    0.0           0.0           0.0           0.00   \n",
       "1                    0.0        1900.0           0.0           0.28   \n",
       "2                    0.0           0.0           0.0           0.00   \n",
       "3                    0.0           0.0           0.0           0.00   \n",
       "4                    0.0           0.0           0.0           0.00   \n",
       "5                    0.0           0.0           0.0           0.00   \n",
       "\n",
       "   specific_heat  thermal_conductivity  \n",
       "0            0.0                 0.000  \n",
       "1         1150.0                 0.294  \n",
       "2            0.0                 0.000  \n",
       "3            0.0                 0.000  \n",
       "4            0.0                 0.000  \n",
       "5            0.0                 0.000  "
      ]
     },
     "metadata": {},
     "output_type": "display_data"
    }
   ],
   "source": [
    "df = pd.DataFrame(data=data_cfg[\"stackup\"][\"materials\"])\n",
    "display(df)"
   ]
  },
  {
   "cell_type": "markdown",
   "id": "d31cf6f0",
   "metadata": {},
   "source": [
    "## Add a new material"
   ]
  },
  {
   "cell_type": "code",
   "execution_count": 6,
   "id": "730091d0",
   "metadata": {
    "execution": {
     "iopub.execute_input": "2025-01-28T16:17:41.977294Z",
     "iopub.status.busy": "2025-01-28T16:17:41.977294Z",
     "iopub.status.idle": "2025-01-28T16:17:41.992968Z",
     "shell.execute_reply": "2025-01-28T16:17:41.992968Z"
    }
   },
   "outputs": [],
   "source": [
    "data_cfg[\"stackup\"][\"materials\"].append(\n",
    "    {\"name\": \"soldermask\", \"permittivity\": 3.3, \"dielectric_loss_tangent\": 0.02},\n",
    ")"
   ]
  },
  {
   "cell_type": "markdown",
   "id": "fa3cf99b",
   "metadata": {},
   "source": [
    "## Edit existing material properties"
   ]
  },
  {
   "cell_type": "code",
   "execution_count": 7,
   "id": "52b2fe2b",
   "metadata": {
    "execution": {
     "iopub.execute_input": "2025-01-28T16:17:41.992968Z",
     "iopub.status.busy": "2025-01-28T16:17:41.992968Z",
     "iopub.status.idle": "2025-01-28T16:17:42.008596Z",
     "shell.execute_reply": "2025-01-28T16:17:42.008596Z"
    }
   },
   "outputs": [],
   "source": [
    "data_cfg[\"stackup\"][\"materials\"][1][\"name\"] = \"fr4_epoxy\"\n",
    "data_cfg[\"stackup\"][\"materials\"][1][\"dielectric_loss_tangent\"] = 0.015"
   ]
  },
  {
   "cell_type": "markdown",
   "id": "08f6a090",
   "metadata": {},
   "source": [
    "## Review modified materials"
   ]
  },
  {
   "cell_type": "code",
   "execution_count": 8,
   "id": "a4c0b38f",
   "metadata": {
    "execution": {
     "iopub.execute_input": "2025-01-28T16:17:42.008596Z",
     "iopub.status.busy": "2025-01-28T16:17:42.008596Z",
     "iopub.status.idle": "2025-01-28T16:17:42.039854Z",
     "shell.execute_reply": "2025-01-28T16:17:42.039854Z"
    }
   },
   "outputs": [
    {
     "data": {
      "text/html": [
       "<div>\n",
       "<style scoped>\n",
       "    .dataframe tbody tr th:only-of-type {\n",
       "        vertical-align: middle;\n",
       "    }\n",
       "\n",
       "    .dataframe tbody tr th {\n",
       "        vertical-align: top;\n",
       "    }\n",
       "\n",
       "    .dataframe thead th {\n",
       "        text-align: right;\n",
       "    }\n",
       "</style>\n",
       "<table border=\"1\" class=\"dataframe\">\n",
       "  <thead>\n",
       "    <tr style=\"text-align: right;\">\n",
       "      <th></th>\n",
       "      <th>name</th>\n",
       "      <th>permittivity</th>\n",
       "      <th>conductivity</th>\n",
       "      <th>dielectric_loss_tangent</th>\n",
       "      <th>magnetic_loss_tangent</th>\n",
       "      <th>mass_density</th>\n",
       "      <th>permeability</th>\n",
       "      <th>poisson_ratio</th>\n",
       "      <th>specific_heat</th>\n",
       "      <th>thermal_conductivity</th>\n",
       "    </tr>\n",
       "  </thead>\n",
       "  <tbody>\n",
       "    <tr>\n",
       "      <th>0</th>\n",
       "      <td>copper</td>\n",
       "      <td>0.00</td>\n",
       "      <td>58000000.0</td>\n",
       "      <td>0.000</td>\n",
       "      <td>0.0</td>\n",
       "      <td>0.0</td>\n",
       "      <td>0.0</td>\n",
       "      <td>0.00</td>\n",
       "      <td>0.0</td>\n",
       "      <td>0.000</td>\n",
       "    </tr>\n",
       "    <tr>\n",
       "      <th>1</th>\n",
       "      <td>fr4_epoxy</td>\n",
       "      <td>4.40</td>\n",
       "      <td>0.0</td>\n",
       "      <td>0.015</td>\n",
       "      <td>0.0</td>\n",
       "      <td>1900.0</td>\n",
       "      <td>0.0</td>\n",
       "      <td>0.28</td>\n",
       "      <td>1150.0</td>\n",
       "      <td>0.294</td>\n",
       "    </tr>\n",
       "    <tr>\n",
       "      <th>2</th>\n",
       "      <td>Megtron4</td>\n",
       "      <td>3.77</td>\n",
       "      <td>0.0</td>\n",
       "      <td>0.005</td>\n",
       "      <td>0.0</td>\n",
       "      <td>0.0</td>\n",
       "      <td>0.0</td>\n",
       "      <td>0.00</td>\n",
       "      <td>0.0</td>\n",
       "      <td>0.000</td>\n",
       "    </tr>\n",
       "    <tr>\n",
       "      <th>3</th>\n",
       "      <td>Megtron4_2</td>\n",
       "      <td>3.47</td>\n",
       "      <td>0.0</td>\n",
       "      <td>0.006</td>\n",
       "      <td>0.0</td>\n",
       "      <td>0.0</td>\n",
       "      <td>0.0</td>\n",
       "      <td>0.00</td>\n",
       "      <td>0.0</td>\n",
       "      <td>0.000</td>\n",
       "    </tr>\n",
       "    <tr>\n",
       "      <th>4</th>\n",
       "      <td>Megtron4_3</td>\n",
       "      <td>4.20</td>\n",
       "      <td>0.0</td>\n",
       "      <td>0.005</td>\n",
       "      <td>0.0</td>\n",
       "      <td>0.0</td>\n",
       "      <td>0.0</td>\n",
       "      <td>0.00</td>\n",
       "      <td>0.0</td>\n",
       "      <td>0.000</td>\n",
       "    </tr>\n",
       "    <tr>\n",
       "      <th>5</th>\n",
       "      <td>Solder Resist</td>\n",
       "      <td>3.00</td>\n",
       "      <td>0.0</td>\n",
       "      <td>0.000</td>\n",
       "      <td>0.0</td>\n",
       "      <td>0.0</td>\n",
       "      <td>0.0</td>\n",
       "      <td>0.00</td>\n",
       "      <td>0.0</td>\n",
       "      <td>0.000</td>\n",
       "    </tr>\n",
       "    <tr>\n",
       "      <th>6</th>\n",
       "      <td>soldermask</td>\n",
       "      <td>3.30</td>\n",
       "      <td>NaN</td>\n",
       "      <td>0.020</td>\n",
       "      <td>NaN</td>\n",
       "      <td>NaN</td>\n",
       "      <td>NaN</td>\n",
       "      <td>NaN</td>\n",
       "      <td>NaN</td>\n",
       "      <td>NaN</td>\n",
       "    </tr>\n",
       "  </tbody>\n",
       "</table>\n",
       "</div>"
      ],
      "text/plain": [
       "            name  permittivity  conductivity  dielectric_loss_tangent  \\\n",
       "0         copper          0.00    58000000.0                    0.000   \n",
       "1      fr4_epoxy          4.40           0.0                    0.015   \n",
       "2       Megtron4          3.77           0.0                    0.005   \n",
       "3     Megtron4_2          3.47           0.0                    0.006   \n",
       "4     Megtron4_3          4.20           0.0                    0.005   \n",
       "5  Solder Resist          3.00           0.0                    0.000   \n",
       "6     soldermask          3.30           NaN                    0.020   \n",
       "\n",
       "   magnetic_loss_tangent  mass_density  permeability  poisson_ratio  \\\n",
       "0                    0.0           0.0           0.0           0.00   \n",
       "1                    0.0        1900.0           0.0           0.28   \n",
       "2                    0.0           0.0           0.0           0.00   \n",
       "3                    0.0           0.0           0.0           0.00   \n",
       "4                    0.0           0.0           0.0           0.00   \n",
       "5                    0.0           0.0           0.0           0.00   \n",
       "6                    NaN           NaN           NaN            NaN   \n",
       "\n",
       "   specific_heat  thermal_conductivity  \n",
       "0            0.0                 0.000  \n",
       "1         1150.0                 0.294  \n",
       "2            0.0                 0.000  \n",
       "3            0.0                 0.000  \n",
       "4            0.0                 0.000  \n",
       "5            0.0                 0.000  \n",
       "6            NaN                   NaN  "
      ]
     },
     "metadata": {},
     "output_type": "display_data"
    }
   ],
   "source": [
    "df = pd.DataFrame(data=data_cfg[\"stackup\"][\"materials\"])\n",
    "display(df)"
   ]
  },
  {
   "cell_type": "markdown",
   "id": "f635baab",
   "metadata": {},
   "source": [
    "## Write material definition into a json file"
   ]
  },
  {
   "cell_type": "code",
   "execution_count": 9,
   "id": "9ad9d0f8",
   "metadata": {
    "execution": {
     "iopub.execute_input": "2025-01-28T16:17:42.039854Z",
     "iopub.status.busy": "2025-01-28T16:17:42.039854Z",
     "iopub.status.idle": "2025-01-28T16:17:42.055470Z",
     "shell.execute_reply": "2025-01-28T16:17:42.055470Z"
    },
    "lines_to_next_cell": 2
   },
   "outputs": [],
   "source": [
    "file_cfg = Path(temp_folder.name) / \"edb_configuration.json\"\n",
    "with open(file_cfg, \"w\") as f:\n",
    "    json.dump(data_cfg, f, indent=4, ensure_ascii=False)"
   ]
  },
  {
   "cell_type": "markdown",
   "id": "30ea98e1",
   "metadata": {},
   "source": [
    "## Load materials from json configuration file"
   ]
  },
  {
   "cell_type": "code",
   "execution_count": 10,
   "id": "f89cabf8",
   "metadata": {
    "execution": {
     "iopub.execute_input": "2025-01-28T16:17:42.055470Z",
     "iopub.status.busy": "2025-01-28T16:17:42.055470Z",
     "iopub.status.idle": "2025-01-28T16:17:49.680582Z",
     "shell.execute_reply": "2025-01-28T16:17:49.680582Z"
    }
   },
   "outputs": [
    {
     "data": {
      "text/plain": [
       "<pyedb.configuration.cfg_data.CfgData at 0x1e2b57066b0>"
      ]
     },
     "execution_count": 10,
     "metadata": {},
     "output_type": "execute_result"
    }
   ],
   "source": [
    "edbapp.configuration.load(str(file_cfg), apply_file=True)"
   ]
  },
  {
   "cell_type": "markdown",
   "id": "7eb153c4",
   "metadata": {},
   "source": [
    "## Review materials from layout"
   ]
  },
  {
   "cell_type": "code",
   "execution_count": 11,
   "id": "d5a4f2d5",
   "metadata": {
    "execution": {
     "iopub.execute_input": "2025-01-28T16:17:49.680582Z",
     "iopub.status.busy": "2025-01-28T16:17:49.680582Z",
     "iopub.status.idle": "2025-01-28T16:17:49.696206Z",
     "shell.execute_reply": "2025-01-28T16:17:49.696206Z"
    }
   },
   "outputs": [
    {
     "data": {
      "text/plain": [
       "{'copper': <pyedb.dotnet.edb_core.materials.Material at 0x1e2b5704af0>,\n",
       " 'fr4_epoxy': <pyedb.dotnet.edb_core.materials.Material at 0x1e29596e560>,\n",
       " 'Megtron4': <pyedb.dotnet.edb_core.materials.Material at 0x1e29596cd00>,\n",
       " 'Megtron4_2': <pyedb.dotnet.edb_core.materials.Material at 0x1e29596d510>,\n",
       " 'Megtron4_3': <pyedb.dotnet.edb_core.materials.Material at 0x1e29596d120>,\n",
       " 'Solder Resist': <pyedb.dotnet.edb_core.materials.Material at 0x1e29596e5f0>,\n",
       " 'soldermask': <pyedb.dotnet.edb_core.materials.Material at 0x1e29596c910>}"
      ]
     },
     "execution_count": 11,
     "metadata": {},
     "output_type": "execute_result"
    }
   ],
   "source": [
    "edbapp.materials.materials"
   ]
  },
  {
   "cell_type": "markdown",
   "id": "92116ccd",
   "metadata": {},
   "source": [
    "## Check modified material properties"
   ]
  },
  {
   "cell_type": "code",
   "execution_count": 12,
   "id": "4e4eab8b",
   "metadata": {
    "execution": {
     "iopub.execute_input": "2025-01-28T16:17:49.696206Z",
     "iopub.status.busy": "2025-01-28T16:17:49.696206Z",
     "iopub.status.idle": "2025-01-28T16:17:49.711822Z",
     "shell.execute_reply": "2025-01-28T16:17:49.711822Z"
    }
   },
   "outputs": [
    {
     "data": {
      "text/plain": [
       "0.015"
      ]
     },
     "execution_count": 12,
     "metadata": {},
     "output_type": "execute_result"
    }
   ],
   "source": [
    "edbapp.materials[\"fr4_epoxy\"].loss_tangent"
   ]
  },
  {
   "cell_type": "markdown",
   "id": "21b209f2",
   "metadata": {},
   "source": [
    "## Save and close Edb\n",
    "The temporary folder will be deleted once the execution of this script is finished. Replace **edbapp.save()** with\n",
    "**edbapp.save_as(\"C:/example.aedb\")** to keep the example project."
   ]
  },
  {
   "cell_type": "code",
   "execution_count": 13,
   "id": "d4b0996d",
   "metadata": {
    "execution": {
     "iopub.execute_input": "2025-01-28T16:17:49.711822Z",
     "iopub.status.busy": "2025-01-28T16:17:49.711822Z",
     "iopub.status.idle": "2025-01-28T16:17:49.930580Z",
     "shell.execute_reply": "2025-01-28T16:17:49.930580Z"
    }
   },
   "outputs": [
    {
     "data": {
      "text/plain": [
       "True"
      ]
     },
     "execution_count": 13,
     "metadata": {},
     "output_type": "execute_result"
    }
   ],
   "source": [
    "edbapp.save()\n",
    "edbapp.close()"
   ]
  }
 ],
 "metadata": {
  "jupytext": {
   "cell_metadata_filter": "-all",
   "main_language": "python",
   "notebook_metadata_filter": "-all",
   "text_representation": {
    "extension": ".py",
    "format_name": "light"
   }
  },
  "language_info": {
   "codemirror_mode": {
    "name": "ipython",
    "version": 3
   },
   "file_extension": ".py",
   "mimetype": "text/x-python",
   "name": "python",
   "nbconvert_exporter": "python",
   "pygments_lexer": "ipython3",
   "version": "3.10.11"
  }
 },
 "nbformat": 4,
 "nbformat_minor": 5
}
