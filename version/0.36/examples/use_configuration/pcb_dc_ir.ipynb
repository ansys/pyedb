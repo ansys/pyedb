{
 "cells": [
  {
   "cell_type": "markdown",
   "id": "f4160452",
   "metadata": {},
   "source": [
    "# Set up EDB for PCB DC IR Analysis\n",
    "This example shows how to set up the electronics database (EDB) for DC IR analysis from a single\n",
    "configuration file."
   ]
  },
  {
   "cell_type": "markdown",
   "id": "2971019e",
   "metadata": {},
   "source": [
    "## Import the required packages"
   ]
  },
  {
   "cell_type": "code",
   "execution_count": 1,
   "id": "4f8bc693",
   "metadata": {
    "execution": {
     "iopub.execute_input": "2025-01-28T16:19:50.700145Z",
     "iopub.status.busy": "2025-01-28T16:19:50.700145Z",
     "iopub.status.idle": "2025-01-28T16:19:51.200230Z",
     "shell.execute_reply": "2025-01-28T16:19:51.200230Z"
    }
   },
   "outputs": [],
   "source": [
    "import json\n",
    "import os\n",
    "import tempfile\n",
    "\n",
    "from ansys.aedt.core import Hfss3dLayout, Icepak\n",
    "from ansys.aedt.core.downloads import download_file\n",
    "\n",
    "from pyedb import Edb\n",
    "\n",
    "AEDT_VERSION = \"2024.2\"\n",
    "NG_MODE = False\n"
   ]
  },
  {
   "cell_type": "markdown",
   "id": "3fc9d48b",
   "metadata": {},
   "source": [
    "Download the example PCB data."
   ]
  },
  {
   "cell_type": "code",
   "execution_count": 2,
   "id": "09ec6718",
   "metadata": {
    "execution": {
     "iopub.execute_input": "2025-01-28T16:19:51.200230Z",
     "iopub.status.busy": "2025-01-28T16:19:51.200230Z",
     "iopub.status.idle": "2025-01-28T16:19:52.888971Z",
     "shell.execute_reply": "2025-01-28T16:19:52.888971Z"
    }
   },
   "outputs": [],
   "source": [
    "temp_folder = tempfile.TemporaryDirectory(suffix=\".ansys\")\n",
    "file_edb = download_file(source=\"edb/ANSYS-HSD_V1.aedb\", destination=temp_folder.name)"
   ]
  },
  {
   "cell_type": "markdown",
   "id": "76123226",
   "metadata": {},
   "source": [
    "## Load example layout"
   ]
  },
  {
   "cell_type": "code",
   "execution_count": 3,
   "id": "097c5b9c",
   "metadata": {
    "execution": {
     "iopub.execute_input": "2025-01-28T16:19:52.888971Z",
     "iopub.status.busy": "2025-01-28T16:19:52.888971Z",
     "iopub.status.idle": "2025-01-28T16:20:05.870215Z",
     "shell.execute_reply": "2025-01-28T16:20:05.870215Z"
    }
   },
   "outputs": [
    {
     "name": "stdout",
     "output_type": "stream",
     "text": [
      "PyAEDT INFO: Logger is initialized in EDB.\n"
     ]
    },
    {
     "name": "stdout",
     "output_type": "stream",
     "text": [
      "PyAEDT INFO: legacy v0.36.0\n"
     ]
    },
    {
     "name": "stdout",
     "output_type": "stream",
     "text": [
      "PyAEDT INFO: Python version 3.10.11 (tags/v3.10.11:7d4cc5a, Apr  5 2023, 00:38:17) [MSC v.1929 64 bit (AMD64)]\n"
     ]
    },
    {
     "name": "stdout",
     "output_type": "stream",
     "text": [
      "PyAEDT INFO: Database ANSYS-HSD_V1.aedb Opened in 2024.2\n"
     ]
    },
    {
     "name": "stdout",
     "output_type": "stream",
     "text": [
      "PyAEDT INFO: Cell main Opened\n"
     ]
    },
    {
     "name": "stdout",
     "output_type": "stream",
     "text": [
      "PyAEDT INFO: Builder was initialized.\n"
     ]
    },
    {
     "name": "stdout",
     "output_type": "stream",
     "text": [
      "PyAEDT INFO: EDB initialized.\n"
     ]
    }
   ],
   "source": [
    "edbapp = Edb(file_edb, edbversion=AEDT_VERSION)"
   ]
  },
  {
   "cell_type": "markdown",
   "id": "3e2d3ce8",
   "metadata": {},
   "source": [
    "## Create an empty dictionary to host all configurations"
   ]
  },
  {
   "cell_type": "code",
   "execution_count": 4,
   "id": "0c27c4d9",
   "metadata": {
    "execution": {
     "iopub.execute_input": "2025-01-28T16:20:05.870215Z",
     "iopub.status.busy": "2025-01-28T16:20:05.870215Z",
     "iopub.status.idle": "2025-01-28T16:20:05.885833Z",
     "shell.execute_reply": "2025-01-28T16:20:05.885833Z"
    }
   },
   "outputs": [],
   "source": [
    "cfg = dict()\n",
    "cfg[\"sources\"] = []"
   ]
  },
  {
   "cell_type": "markdown",
   "id": "04efa9ba",
   "metadata": {},
   "source": [
    "## Update stackup"
   ]
  },
  {
   "cell_type": "code",
   "execution_count": 5,
   "id": "e2d87e00",
   "metadata": {
    "execution": {
     "iopub.execute_input": "2025-01-28T16:20:05.885833Z",
     "iopub.status.busy": "2025-01-28T16:20:05.885833Z",
     "iopub.status.idle": "2025-01-28T16:20:05.901467Z",
     "shell.execute_reply": "2025-01-28T16:20:05.901467Z"
    }
   },
   "outputs": [],
   "source": [
    "cfg[\"stackup\"] = {\n",
    "    \"layers\": [\n",
    "        {\"name\": \"Top\", \"type\": \"signal\", \"material\": \"copper\", \"fill_material\": \"FR4_epoxy\", \"thickness\": \"0.035mm\"},\n",
    "        {\"name\": \"DE1\", \"type\": \"dielectric\", \"material\": \"FR4_epoxy\", \"fill_material\": \"\", \"thickness\": \"0.1mm\"},\n",
    "        {\n",
    "            \"name\": \"Inner1\",\n",
    "            \"type\": \"signal\",\n",
    "            \"material\": \"copper\",\n",
    "            \"fill_material\": \"FR4_epoxy\",\n",
    "            \"thickness\": \"0.017mm\",\n",
    "        },\n",
    "        {\"name\": \"DE2\", \"type\": \"dielectric\", \"material\": \"FR4_epoxy\", \"fill_material\": \"\", \"thickness\": \"0.088mm\"},\n",
    "        {\n",
    "            \"name\": \"Inner2\",\n",
    "            \"type\": \"signal\",\n",
    "            \"material\": \"copper\",\n",
    "            \"fill_material\": \"FR4_epoxy\",\n",
    "            \"thickness\": \"0.017mm\",\n",
    "        },\n",
    "        {\"name\": \"DE3\", \"type\": \"dielectric\", \"material\": \"FR4_epoxy\", \"fill_material\": \"\", \"thickness\": \"0.1mm\"},\n",
    "        {\n",
    "            \"name\": \"Inner3\",\n",
    "            \"type\": \"signal\",\n",
    "            \"material\": \"copper\",\n",
    "            \"fill_material\": \"FR4_epoxy\",\n",
    "            \"thickness\": \"0.017mm\",\n",
    "        },\n",
    "        {\n",
    "            \"name\": \"FR4_epoxy-1mm\",\n",
    "            \"type\": \"dielectric\",\n",
    "            \"material\": \"FR4_epoxy\",\n",
    "            \"fill_material\": \"\",\n",
    "            \"thickness\": \"1mm\",\n",
    "        },\n",
    "        {\n",
    "            \"name\": \"Inner4\",\n",
    "            \"type\": \"signal\",\n",
    "            \"material\": \"copper\",\n",
    "            \"fill_material\": \"FR4_epoxy\",\n",
    "            \"thickness\": \"0.017mm\",\n",
    "        },\n",
    "        {\"name\": \"DE5\", \"type\": \"dielectric\", \"material\": \"FR4_epoxy\", \"fill_material\": \"\", \"thickness\": \"0.1mm\"},\n",
    "        {\n",
    "            \"name\": \"Inner5\",\n",
    "            \"type\": \"signal\",\n",
    "            \"material\": \"copper\",\n",
    "            \"fill_material\": \"FR4_epoxy\",\n",
    "            \"thickness\": \"0.017mm\",\n",
    "        },\n",
    "        {\"name\": \"DE6\", \"type\": \"dielectric\", \"material\": \"FR4_epoxy\", \"fill_material\": \"\", \"thickness\": \"0.088mm\"},\n",
    "        {\n",
    "            \"name\": \"Inner6\",\n",
    "            \"type\": \"signal\",\n",
    "            \"material\": \"copper\",\n",
    "            \"fill_material\": \"FR4_epoxy\",\n",
    "            \"thickness\": \"0.017mm\",\n",
    "        },\n",
    "        {\"name\": \"DE7\", \"type\": \"dielectric\", \"material\": \"FR4_epoxy\", \"fill_material\": \"\", \"thickness\": \"0.1mm\"},\n",
    "        {\n",
    "            \"name\": \"Bottom\",\n",
    "            \"type\": \"signal\",\n",
    "            \"material\": \"copper\",\n",
    "            \"fill_material\": \"FR4_epoxy\",\n",
    "            \"thickness\": \"0.035mm\",\n",
    "        },\n",
    "    ]\n",
    "}"
   ]
  },
  {
   "cell_type": "markdown",
   "id": "6073e2b5",
   "metadata": {},
   "source": [
    "## Define voltage source"
   ]
  },
  {
   "cell_type": "code",
   "execution_count": 6,
   "id": "9d47b8e1",
   "metadata": {
    "execution": {
     "iopub.execute_input": "2025-01-28T16:20:05.901467Z",
     "iopub.status.busy": "2025-01-28T16:20:05.901467Z",
     "iopub.status.idle": "2025-01-28T16:20:05.917081Z",
     "shell.execute_reply": "2025-01-28T16:20:05.917081Z"
    }
   },
   "outputs": [],
   "source": [
    "cfg[\"sources\"].append(\n",
    "    {\n",
    "        \"name\": \"vrm\",\n",
    "        \"reference_designator\": \"U2\",\n",
    "        \"type\": \"voltage\",\n",
    "        \"magnitude\": 1,\n",
    "        \"positive_terminal\": {\"net\": \"1V0\"},\n",
    "        \"negative_terminal\": {\"net\": \"GND\"},\n",
    "    }\n",
    ")"
   ]
  },
  {
   "cell_type": "markdown",
   "id": "653a4e50",
   "metadata": {},
   "source": [
    "## Define current source"
   ]
  },
  {
   "cell_type": "code",
   "execution_count": 7,
   "id": "cff36a21",
   "metadata": {
    "execution": {
     "iopub.execute_input": "2025-01-28T16:20:05.917081Z",
     "iopub.status.busy": "2025-01-28T16:20:05.917081Z",
     "iopub.status.idle": "2025-01-28T16:20:05.932723Z",
     "shell.execute_reply": "2025-01-28T16:20:05.932723Z"
    }
   },
   "outputs": [],
   "source": [
    "cfg[\"sources\"].append(\n",
    "    {\n",
    "        \"name\": \"U1_1V0\",\n",
    "        \"reference_designator\": \"U1\",\n",
    "        \"type\": \"current\",\n",
    "        \"magnitude\": 10,\n",
    "        \"positive_terminal\": {\"net\": \"1V0\"},\n",
    "        \"negative_terminal\": {\"net\": \"GND\"},\n",
    "    }\n",
    ")"
   ]
  },
  {
   "cell_type": "markdown",
   "id": "900edea4",
   "metadata": {},
   "source": [
    "## Define SIwave DC IR analysis setup"
   ]
  },
  {
   "cell_type": "code",
   "execution_count": 8,
   "id": "a7ebff8c",
   "metadata": {
    "execution": {
     "iopub.execute_input": "2025-01-28T16:20:05.932723Z",
     "iopub.status.busy": "2025-01-28T16:20:05.932723Z",
     "iopub.status.idle": "2025-01-28T16:20:05.948332Z",
     "shell.execute_reply": "2025-01-28T16:20:05.948332Z"
    }
   },
   "outputs": [],
   "source": [
    "cfg[\"setups\"] = [\n",
    "    {\n",
    "        \"name\": \"siwave_1\",\n",
    "        \"type\": \"siwave_dc\",\n",
    "        \"dc_slider_position\": 1,\n",
    "        \"dc_ir_settings\": {\"export_dc_thermal_data\": True},\n",
    "    }\n",
    "]"
   ]
  },
  {
   "cell_type": "markdown",
   "id": "d0c344ae",
   "metadata": {},
   "source": [
    "## Define Cutout"
   ]
  },
  {
   "cell_type": "code",
   "execution_count": 9,
   "id": "f937eede",
   "metadata": {
    "execution": {
     "iopub.execute_input": "2025-01-28T16:20:05.948332Z",
     "iopub.status.busy": "2025-01-28T16:20:05.948332Z",
     "iopub.status.idle": "2025-01-28T16:20:05.963956Z",
     "shell.execute_reply": "2025-01-28T16:20:05.963956Z"
    }
   },
   "outputs": [],
   "source": [
    "cfg[\"operations\"] = {\n",
    "    \"cutout\": {\"signal_list\": [\"1V0\"], \"reference_list\": [\"GND\"], \"extent_type\": \"ConvexHull\", \"expansion_size\": \"20mm\"}\n",
    "}"
   ]
  },
  {
   "cell_type": "markdown",
   "id": "62b212fd",
   "metadata": {},
   "source": [
    "## Define package for thermal analysis (optional)"
   ]
  },
  {
   "cell_type": "code",
   "execution_count": 10,
   "id": "21c0fb90",
   "metadata": {
    "execution": {
     "iopub.execute_input": "2025-01-28T16:20:05.963956Z",
     "iopub.status.busy": "2025-01-28T16:20:05.963956Z",
     "iopub.status.idle": "2025-01-28T16:20:05.979586Z",
     "shell.execute_reply": "2025-01-28T16:20:05.979586Z"
    }
   },
   "outputs": [],
   "source": [
    "cfg[\"package_definitions\"] = [\n",
    "    {\n",
    "        \"name\": \"package_1\",\n",
    "        \"component_definition\": \"ALTR-FBGA1517-Ansys\",\n",
    "        \"maximum_power\": 0.5,\n",
    "        \"therm_cond\": 2,\n",
    "        \"theta_jb\": 3,\n",
    "        \"theta_jc\": 4,\n",
    "        \"height\": \"1mm\",\n",
    "        \"apply_to_all\": False,\n",
    "        \"components\": [\"U1\"],\n",
    "    },\n",
    "]"
   ]
  },
  {
   "cell_type": "markdown",
   "id": "472f5a7b",
   "metadata": {},
   "source": [
    "## Write configuration into a JSON file"
   ]
  },
  {
   "cell_type": "code",
   "execution_count": 11,
   "id": "82892a71",
   "metadata": {
    "execution": {
     "iopub.execute_input": "2025-01-28T16:20:05.979586Z",
     "iopub.status.busy": "2025-01-28T16:20:05.979586Z",
     "iopub.status.idle": "2025-01-28T16:20:05.995253Z",
     "shell.execute_reply": "2025-01-28T16:20:05.995253Z"
    }
   },
   "outputs": [],
   "source": [
    "file_json = os.path.join(temp_folder.name, \"edb_configuration.json\")\n",
    "with open(file_json, \"w\") as f:\n",
    "    json.dump(cfg, f, indent=4, ensure_ascii=False)"
   ]
  },
  {
   "cell_type": "markdown",
   "id": "28c13b31",
   "metadata": {},
   "source": [
    "## Import configuration into example layout"
   ]
  },
  {
   "cell_type": "code",
   "execution_count": 12,
   "id": "c7c8ab0f",
   "metadata": {
    "execution": {
     "iopub.execute_input": "2025-01-28T16:20:05.995253Z",
     "iopub.status.busy": "2025-01-28T16:20:05.995253Z",
     "iopub.status.idle": "2025-01-28T16:20:06.026457Z",
     "shell.execute_reply": "2025-01-28T16:20:06.026457Z"
    }
   },
   "outputs": [
    {
     "data": {
      "text/plain": [
       "<pyedb.configuration.cfg_data.CfgData at 0x1aa0a707eb0>"
      ]
     },
     "execution_count": 12,
     "metadata": {},
     "output_type": "execute_result"
    }
   ],
   "source": [
    "edbapp.configuration.load(config_file=file_json)"
   ]
  },
  {
   "cell_type": "markdown",
   "id": "fdc7e4cf",
   "metadata": {},
   "source": [
    "Apply configuration to EDB."
   ]
  },
  {
   "cell_type": "code",
   "execution_count": 13,
   "id": "8b1db46d",
   "metadata": {
    "execution": {
     "iopub.execute_input": "2025-01-28T16:20:06.026457Z",
     "iopub.status.busy": "2025-01-28T16:20:06.026457Z",
     "iopub.status.idle": "2025-01-28T16:20:20.058731Z",
     "shell.execute_reply": "2025-01-28T16:20:20.058731Z"
    }
   },
   "outputs": [
    {
     "name": "stdout",
     "output_type": "stream",
     "text": [
      "PyAEDT INFO: Cutout Multithread started.\n"
     ]
    },
    {
     "name": "stdout",
     "output_type": "stream",
     "text": [
      "PyAEDT INFO: Net clean up Elapsed time: 0m 2sec\n"
     ]
    },
    {
     "name": "stdout",
     "output_type": "stream",
     "text": [
      "PyAEDT INFO: Extent Creation Elapsed time: 0m 0sec\n"
     ]
    },
    {
     "name": "stdout",
     "output_type": "stream",
     "text": [
      "PyAEDT INFO: 533 Padstack Instances deleted. Elapsed time: 0m 1sec\n"
     ]
    },
    {
     "name": "stdout",
     "output_type": "stream",
     "text": [
      "PyAEDT INFO: 105 Primitives deleted. Elapsed time: 0m 3sec\n"
     ]
    },
    {
     "name": "stdout",
     "output_type": "stream",
     "text": [
      "PyAEDT INFO: 470 components deleted\n"
     ]
    },
    {
     "name": "stdout",
     "output_type": "stream",
     "text": [
      "PyAEDT INFO: Cutout completed. Elapsed time: 0m 6sec\n"
     ]
    },
    {
     "data": {
      "text/plain": [
       "True"
      ]
     },
     "execution_count": 13,
     "metadata": {},
     "output_type": "execute_result"
    }
   ],
   "source": [
    "edbapp.configuration.run()"
   ]
  },
  {
   "cell_type": "markdown",
   "id": "afd7b041",
   "metadata": {},
   "source": [
    "Save and close EDB."
   ]
  },
  {
   "cell_type": "code",
   "execution_count": 14,
   "id": "0dcbdd9d",
   "metadata": {
    "execution": {
     "iopub.execute_input": "2025-01-28T16:20:20.058731Z",
     "iopub.status.busy": "2025-01-28T16:20:20.058731Z",
     "iopub.status.idle": "2025-01-28T16:20:20.308713Z",
     "shell.execute_reply": "2025-01-28T16:20:20.308713Z"
    }
   },
   "outputs": [
    {
     "data": {
      "text/plain": [
       "True"
      ]
     },
     "execution_count": 14,
     "metadata": {},
     "output_type": "execute_result"
    }
   ],
   "source": [
    "edbapp.save()\n",
    "edbapp.close()"
   ]
  },
  {
   "cell_type": "markdown",
   "id": "473175dd",
   "metadata": {},
   "source": [
    "The configured EDB file is saved in a temp folder."
   ]
  },
  {
   "cell_type": "code",
   "execution_count": 15,
   "id": "6505714b",
   "metadata": {
    "execution": {
     "iopub.execute_input": "2025-01-28T16:20:20.308713Z",
     "iopub.status.busy": "2025-01-28T16:20:20.308713Z",
     "iopub.status.idle": "2025-01-28T16:20:20.324351Z",
     "shell.execute_reply": "2025-01-28T16:20:20.324351Z"
    }
   },
   "outputs": [
    {
     "name": "stdout",
     "output_type": "stream",
     "text": [
      "C:\\Users\\ansys\\AppData\\Local\\Temp\\tmprs6pebcp.ansys\n"
     ]
    }
   ],
   "source": [
    "print(temp_folder.name)"
   ]
  },
  {
   "cell_type": "markdown",
   "id": "bec48ba9",
   "metadata": {},
   "source": [
    "## Load edb into HFSS 3D Layout."
   ]
  },
  {
   "cell_type": "code",
   "execution_count": 16,
   "id": "e4ab2b01",
   "metadata": {
    "execution": {
     "iopub.execute_input": "2025-01-28T16:20:20.324351Z",
     "iopub.status.busy": "2025-01-28T16:20:20.324351Z",
     "iopub.status.idle": "2025-01-28T16:20:42.110740Z",
     "shell.execute_reply": "2025-01-28T16:20:42.110740Z"
    }
   },
   "outputs": [
    {
     "name": "stdout",
     "output_type": "stream",
     "text": [
      "PyAEDT INFO: Python version 3.10.11 (tags/v3.10.11:7d4cc5a, Apr  5 2023, 00:38:17) [MSC v.1929 64 bit (AMD64)]\n"
     ]
    },
    {
     "name": "stdout",
     "output_type": "stream",
     "text": [
      "PyAEDT INFO: PyAEDT version 0.14.dev0.\n"
     ]
    },
    {
     "name": "stdout",
     "output_type": "stream",
     "text": [
      "PyAEDT INFO: Initializing new Desktop session.\n"
     ]
    },
    {
     "name": "stdout",
     "output_type": "stream",
     "text": [
      "PyAEDT INFO: Log on console is enabled.\n"
     ]
    },
    {
     "name": "stdout",
     "output_type": "stream",
     "text": [
      "PyAEDT INFO: Log on file C:\\Users\\ansys\\AppData\\Local\\Temp\\pyaedt_ansys_2533dc9a-3ee6-4389-8081-9858e2fe6615.log is enabled.\n"
     ]
    },
    {
     "name": "stdout",
     "output_type": "stream",
     "text": [
      "PyAEDT INFO: Log on AEDT is enabled.\n"
     ]
    },
    {
     "name": "stdout",
     "output_type": "stream",
     "text": [
      "PyAEDT INFO: Debug logger is disabled. PyAEDT methods will not be logged.\n"
     ]
    },
    {
     "name": "stdout",
     "output_type": "stream",
     "text": [
      "PyAEDT INFO: Launching PyAEDT with gRPC plugin.\n"
     ]
    },
    {
     "name": "stdout",
     "output_type": "stream",
     "text": [
      "PyAEDT INFO: New AEDT session is starting on gRPC port 53510\n"
     ]
    },
    {
     "name": "stdout",
     "output_type": "stream",
     "text": [
      "PyAEDT INFO: AEDT installation Path C:\\Program Files\\AnsysEM\\v242\\Win64\n"
     ]
    },
    {
     "name": "stdout",
     "output_type": "stream",
     "text": [
      "PyAEDT INFO: Ansoft.ElectronicsDesktop.2024.2 version started with process ID 8844.\n"
     ]
    },
    {
     "name": "stdout",
     "output_type": "stream",
     "text": [
      "PyAEDT INFO: EDB folder C:\\Users\\ansys\\AppData\\Local\\Temp\\tmprs6pebcp.ansys\\edb/ANSYS-HSD_V1.aedb has been imported to project ANSYS-HSD_V1\n"
     ]
    },
    {
     "name": "stdout",
     "output_type": "stream",
     "text": [
      "PyAEDT INFO: Active Design set to 0;main\n"
     ]
    },
    {
     "name": "stdout",
     "output_type": "stream",
     "text": [
      "PyAEDT INFO: Aedt Objects correctly read\n"
     ]
    }
   ],
   "source": [
    "h3d = Hfss3dLayout(edbapp.edbpath, version=AEDT_VERSION, non_graphical=NG_MODE, new_desktop=True)"
   ]
  },
  {
   "cell_type": "markdown",
   "id": "f6b9e5d0",
   "metadata": {},
   "source": [
    "## Prepare for electro-thermal analysis in Icepak (Optional)"
   ]
  },
  {
   "cell_type": "code",
   "execution_count": 17,
   "id": "3bfc93c8",
   "metadata": {
    "execution": {
     "iopub.execute_input": "2025-01-28T16:20:42.110740Z",
     "iopub.status.busy": "2025-01-28T16:20:42.110740Z",
     "iopub.status.idle": "2025-01-28T16:20:42.158845Z",
     "shell.execute_reply": "2025-01-28T16:20:42.158845Z"
    }
   },
   "outputs": [
    {
     "name": "stdout",
     "output_type": "stream",
     "text": [
      "PyAEDT INFO: Loading Modeler.\n"
     ]
    },
    {
     "name": "stdout",
     "output_type": "stream",
     "text": [
      "PyAEDT INFO: Modeler loaded.\n"
     ]
    },
    {
     "name": "stdout",
     "output_type": "stream",
     "text": [
      "PyAEDT INFO: EDB loaded.\n"
     ]
    },
    {
     "name": "stdout",
     "output_type": "stream",
     "text": [
      "PyAEDT INFO: Layers loaded.\n"
     ]
    },
    {
     "name": "stdout",
     "output_type": "stream",
     "text": [
      "PyAEDT INFO: Primitives loaded.\n"
     ]
    },
    {
     "name": "stdout",
     "output_type": "stream",
     "text": [
      "PyAEDT INFO: Modeler class has been initialized! Elapsed time: 0m 0sec\n"
     ]
    },
    {
     "name": "stdout",
     "output_type": "stream",
     "text": [
      "PyAEDT INFO: Set the temperature dependence for the design.\n"
     ]
    },
    {
     "name": "stdout",
     "output_type": "stream",
     "text": [
      "PyAEDT INFO: Assigned Objects Temperature\n"
     ]
    },
    {
     "data": {
      "text/plain": [
       "True"
      ]
     },
     "execution_count": 17,
     "metadata": {},
     "output_type": "execute_result"
    }
   ],
   "source": [
    "h3d.modeler.set_temperature_dependence(include_temperature_dependence=True, enable_feedback=True, ambient_temp=22)"
   ]
  },
  {
   "cell_type": "markdown",
   "id": "65dc850e",
   "metadata": {},
   "source": [
    "## Analyze"
   ]
  },
  {
   "cell_type": "code",
   "execution_count": 18,
   "id": "5be8a695",
   "metadata": {
    "execution": {
     "iopub.execute_input": "2025-01-28T16:20:42.158845Z",
     "iopub.status.busy": "2025-01-28T16:20:42.158845Z",
     "iopub.status.idle": "2025-01-28T16:21:19.087854Z",
     "shell.execute_reply": "2025-01-28T16:21:19.087854Z"
    }
   },
   "outputs": [
    {
     "name": "stdout",
     "output_type": "stream",
     "text": [
      "PyAEDT INFO: Key Desktop/ActiveDSOConfigurations/HFSS 3D Layout Design correctly changed.\n"
     ]
    },
    {
     "name": "stdout",
     "output_type": "stream",
     "text": [
      "PyAEDT INFO: Solving all design setups.\n"
     ]
    },
    {
     "name": "stdout",
     "output_type": "stream",
     "text": [
      "PyAEDT INFO: Key Desktop/ActiveDSOConfigurations/HFSS 3D Layout Design correctly changed.\n"
     ]
    },
    {
     "name": "stdout",
     "output_type": "stream",
     "text": [
      "PyAEDT INFO: Design setup None solved correctly in 0.0h 0.0m 37.0s\n"
     ]
    },
    {
     "data": {
      "text/plain": [
       "True"
      ]
     },
     "execution_count": 18,
     "metadata": {},
     "output_type": "execute_result"
    }
   ],
   "source": [
    "h3d.analyze()"
   ]
  },
  {
   "cell_type": "markdown",
   "id": "ce8996f0",
   "metadata": {},
   "source": [
    "## Plot DC voltage"
   ]
  },
  {
   "cell_type": "code",
   "execution_count": 19,
   "id": "772b70c0",
   "metadata": {
    "execution": {
     "iopub.execute_input": "2025-01-28T16:21:19.087854Z",
     "iopub.status.busy": "2025-01-28T16:21:19.087854Z",
     "iopub.status.idle": "2025-01-28T16:21:20.319992Z",
     "shell.execute_reply": "2025-01-28T16:21:20.319992Z"
    }
   },
   "outputs": [
    {
     "name": "stdout",
     "output_type": "stream",
     "text": [
      "PyAEDT INFO: Parsing C:/Users/ansys/AppData/Local/Temp/tmprs6pebcp.ansys/edb/ANSYS-HSD_V1.aedt.\n"
     ]
    },
    {
     "name": "stdout",
     "output_type": "stream",
     "text": [
      "PyAEDT INFO: File C:/Users/ansys/AppData/Local/Temp/tmprs6pebcp.ansys/edb/ANSYS-HSD_V1.aedt correctly loaded. Elapsed time: 0m 0sec\n"
     ]
    },
    {
     "name": "stdout",
     "output_type": "stream",
     "text": [
      "PyAEDT INFO: aedt file load time 0.03239583969116211\n"
     ]
    },
    {
     "name": "stdout",
     "output_type": "stream",
     "text": [
      "PyAEDT INFO: PostProcessor class has been initialized! Elapsed time: 0m 0sec\n"
     ]
    },
    {
     "name": "stdout",
     "output_type": "stream",
     "text": [
      "PyAEDT INFO: Post class has been initialized! Elapsed time: 0m 0sec\n"
     ]
    },
    {
     "name": "stdout",
     "output_type": "stream",
     "text": [
      "PyAEDT INFO: Logger is initialized in EDB.\n"
     ]
    },
    {
     "name": "stdout",
     "output_type": "stream",
     "text": [
      "PyAEDT INFO: legacy v0.36.0\n"
     ]
    },
    {
     "name": "stdout",
     "output_type": "stream",
     "text": [
      "PyAEDT INFO: Python version 3.10.11 (tags/v3.10.11:7d4cc5a, Apr  5 2023, 00:38:17) [MSC v.1929 64 bit (AMD64)]\n"
     ]
    },
    {
     "name": "stdout",
     "output_type": "stream",
     "text": [
      "PyAEDT INFO: Database ANSYS-HSD_V1.aedb Opened in 2024.2\n"
     ]
    },
    {
     "name": "stdout",
     "output_type": "stream",
     "text": [
      "PyAEDT INFO: Cell main Opened\n"
     ]
    },
    {
     "name": "stdout",
     "output_type": "stream",
     "text": [
      "PyAEDT INFO: Builder was initialized.\n"
     ]
    },
    {
     "name": "stdout",
     "output_type": "stream",
     "text": [
      "PyAEDT INFO: EDB initialized.\n"
     ]
    }
   ],
   "source": [
    "voltage = h3d.post.create_fieldplot_layers_nets(\n",
    "    layers_nets=[\n",
    "        [\"Inner2\", \"1V0\"],\n",
    "    ],\n",
    "    quantity=\"Voltage\",\n",
    "    setup=\"siwave_1\",\n",
    ")"
   ]
  },
  {
   "cell_type": "code",
   "execution_count": 20,
   "id": "d6f7a0d1",
   "metadata": {
    "execution": {
     "iopub.execute_input": "2025-01-28T16:21:20.319992Z",
     "iopub.status.busy": "2025-01-28T16:21:20.319992Z",
     "iopub.status.idle": "2025-01-28T16:21:20.335618Z",
     "shell.execute_reply": "2025-01-28T16:21:20.335618Z"
    }
   },
   "outputs": [
    {
     "data": {
      "text/plain": [
       "'C:\\\\Users\\\\ansys\\\\AppData\\\\Local\\\\Temp\\\\tmprs6pebcp.ansys\\\\voltage.jpg'"
      ]
     },
     "execution_count": 20,
     "metadata": {},
     "output_type": "execute_result"
    }
   ],
   "source": [
    "file_path_image = os.path.join(temp_folder.name, \"voltage.jpg\")\n",
    "voltage.export_image(\n",
    "    full_path=file_path_image,\n",
    "    width=640,\n",
    "    height=480,\n",
    "    orientation=\"isometric\",\n",
    "    display_wireframe=True,\n",
    "    selections=None,\n",
    "    show_region=True,\n",
    "    show_axis=True,\n",
    "    show_grid=True,\n",
    "    show_ruler=True,\n",
    ")"
   ]
  },
  {
   "cell_type": "markdown",
   "id": "41d83f01",
   "metadata": {},
   "source": [
    "## Plot power density"
   ]
  },
  {
   "cell_type": "code",
   "execution_count": 21,
   "id": "0e480996",
   "metadata": {
    "execution": {
     "iopub.execute_input": "2025-01-28T16:21:20.335618Z",
     "iopub.status.busy": "2025-01-28T16:21:20.335618Z",
     "iopub.status.idle": "2025-01-28T16:21:20.493022Z",
     "shell.execute_reply": "2025-01-28T16:21:20.493022Z"
    }
   },
   "outputs": [],
   "source": [
    "power_density = h3d.post.create_fieldplot_layers_nets(\n",
    "    layers_nets=[\n",
    "        [\"Inner2\", \"no-net\"],\n",
    "    ],\n",
    "    quantity=\"Power Density\",\n",
    "    setup=\"siwave_1\",\n",
    ")"
   ]
  },
  {
   "cell_type": "code",
   "execution_count": 22,
   "id": "1ed2eca0",
   "metadata": {
    "execution": {
     "iopub.execute_input": "2025-01-28T16:21:20.493022Z",
     "iopub.status.busy": "2025-01-28T16:21:20.493022Z",
     "iopub.status.idle": "2025-01-28T16:21:20.509805Z",
     "shell.execute_reply": "2025-01-28T16:21:20.508651Z"
    }
   },
   "outputs": [
    {
     "data": {
      "text/plain": [
       "'C:\\\\Users\\\\ansys\\\\AppData\\\\Local\\\\Temp\\\\tmprs6pebcp.ansys\\\\power_density.jpg'"
      ]
     },
     "execution_count": 22,
     "metadata": {},
     "output_type": "execute_result"
    }
   ],
   "source": [
    "file_path_image = os.path.join(temp_folder.name, \"power_density.jpg\")\n",
    "power_density.export_image(\n",
    "    full_path=file_path_image,\n",
    "    width=640,\n",
    "    height=480,\n",
    "    orientation=\"isometric\",\n",
    "    display_wireframe=True,\n",
    "    selections=None,\n",
    "    show_region=True,\n",
    "    show_axis=True,\n",
    "    show_grid=True,\n",
    "    show_ruler=True,\n",
    ")"
   ]
  },
  {
   "cell_type": "markdown",
   "id": "2ecdf22e",
   "metadata": {},
   "source": [
    "## Save HFSS 3D Layout project"
   ]
  },
  {
   "cell_type": "code",
   "execution_count": 23,
   "id": "d5019914",
   "metadata": {
    "execution": {
     "iopub.execute_input": "2025-01-28T16:21:20.509805Z",
     "iopub.status.busy": "2025-01-28T16:21:20.509805Z",
     "iopub.status.idle": "2025-01-28T16:21:20.698569Z",
     "shell.execute_reply": "2025-01-28T16:21:20.698569Z"
    }
   },
   "outputs": [
    {
     "name": "stdout",
     "output_type": "stream",
     "text": [
      "PyAEDT INFO: Project ANSYS-HSD_V1 Saved correctly\n"
     ]
    },
    {
     "data": {
      "text/plain": [
       "True"
      ]
     },
     "execution_count": 23,
     "metadata": {},
     "output_type": "execute_result"
    }
   ],
   "source": [
    "h3d.save_project()"
   ]
  },
  {
   "cell_type": "markdown",
   "id": "56842b88",
   "metadata": {},
   "source": [
    "## Create an Icepak design"
   ]
  },
  {
   "cell_type": "code",
   "execution_count": 24,
   "id": "6ec52154",
   "metadata": {
    "execution": {
     "iopub.execute_input": "2025-01-28T16:21:20.698569Z",
     "iopub.status.busy": "2025-01-28T16:21:20.698569Z",
     "iopub.status.idle": "2025-01-28T16:21:32.079497Z",
     "shell.execute_reply": "2025-01-28T16:21:32.079497Z"
    }
   },
   "outputs": [
    {
     "name": "stdout",
     "output_type": "stream",
     "text": [
      "PyAEDT INFO: Python version 3.10.11 (tags/v3.10.11:7d4cc5a, Apr  5 2023, 00:38:17) [MSC v.1929 64 bit (AMD64)]\n"
     ]
    },
    {
     "name": "stdout",
     "output_type": "stream",
     "text": [
      "PyAEDT INFO: PyAEDT version 0.14.dev0.\n"
     ]
    },
    {
     "name": "stdout",
     "output_type": "stream",
     "text": [
      "PyAEDT INFO: Returning found Desktop session with PID 8844!\n"
     ]
    },
    {
     "name": "stdout",
     "output_type": "stream",
     "text": [
      "PyAEDT INFO: No project is defined. Project ANSYS-HSD_V1 exists and has been read.\n"
     ]
    },
    {
     "name": "stdout",
     "output_type": "stream",
     "text": [
      "PyAEDT INFO: No consistent unique design is present. Inserting a new design.\n"
     ]
    },
    {
     "name": "stdout",
     "output_type": "stream",
     "text": [
      "PyAEDT INFO: Added design 'Icepak_F7I' of type Icepak.\n"
     ]
    },
    {
     "name": "stdout",
     "output_type": "stream",
     "text": [
      "PyAEDT INFO: Aedt Objects correctly read\n"
     ]
    }
   ],
   "source": [
    "ipk = Icepak(version=AEDT_VERSION, non_graphical=NG_MODE, new_desktop=False)"
   ]
  },
  {
   "cell_type": "markdown",
   "id": "9faf6762",
   "metadata": {},
   "source": [
    "## Create PCB"
   ]
  },
  {
   "cell_type": "code",
   "execution_count": 25,
   "id": "701df583",
   "metadata": {
    "execution": {
     "iopub.execute_input": "2025-01-28T16:21:32.079497Z",
     "iopub.status.busy": "2025-01-28T16:21:32.079497Z",
     "iopub.status.idle": "2025-01-28T16:21:33.438545Z",
     "shell.execute_reply": "2025-01-28T16:21:33.438545Z"
    }
   },
   "outputs": [
    {
     "name": "stdout",
     "output_type": "stream",
     "text": [
      "PyAEDT INFO: Modeler class has been initialized! Elapsed time: 0m 0sec\n"
     ]
    },
    {
     "name": "stdout",
     "output_type": "stream",
     "text": [
      "PyAEDT INFO: Materials class has been initialized! Elapsed time: 0m 0sec\n"
     ]
    }
   ],
   "source": [
    "pcb = ipk.create_ipk_3dcomponent_pcb(\n",
    "    compName=\"PCB_pyAEDT\",\n",
    "    setupLinkInfo=[h3d.project_file, h3d.design_name, \"siwave_1\", True, True],\n",
    "    solutionFreq=None,\n",
    "    resolution=0,\n",
    "    extent_type=\"Bounding Box\",\n",
    "    powerin=\"0\",\n",
    ")"
   ]
  },
  {
   "cell_type": "markdown",
   "id": "82734b1d",
   "metadata": {},
   "source": [
    "## Include pckage definition from Edb"
   ]
  },
  {
   "cell_type": "code",
   "execution_count": 26,
   "id": "415e84da",
   "metadata": {
    "execution": {
     "iopub.execute_input": "2025-01-28T16:21:33.438545Z",
     "iopub.status.busy": "2025-01-28T16:21:33.438545Z",
     "iopub.status.idle": "2025-01-28T16:21:34.086799Z",
     "shell.execute_reply": "2025-01-28T16:21:34.086799Z"
    }
   },
   "outputs": [],
   "source": [
    "pcb.included_parts = \"Device\""
   ]
  },
  {
   "cell_type": "markdown",
   "id": "1728528c",
   "metadata": {},
   "source": [
    "## Adjust air region"
   ]
  },
  {
   "cell_type": "code",
   "execution_count": 27,
   "id": "b77e19dd",
   "metadata": {
    "execution": {
     "iopub.execute_input": "2025-01-28T16:21:34.086799Z",
     "iopub.status.busy": "2025-01-28T16:21:34.086799Z",
     "iopub.status.idle": "2025-01-28T16:21:34.134905Z",
     "shell.execute_reply": "2025-01-28T16:21:34.134905Z"
    }
   },
   "outputs": [
    {
     "data": {
      "text/plain": [
       "<ansys.aedt.core.modules.boundary.common.BoundaryObject at 0x1ead2bf3130>"
      ]
     },
     "execution_count": 27,
     "metadata": {},
     "output_type": "execute_result"
    }
   ],
   "source": [
    "region = ipk.modeler[\"Region\"]\n",
    "faces = [f.id for f in region.faces]\n",
    "ipk.assign_pressure_free_opening(assignment=faces, boundary_name=\"Outlet\")"
   ]
  },
  {
   "cell_type": "markdown",
   "id": "3587bb12",
   "metadata": {},
   "source": [
    "## Setup mesh"
   ]
  },
  {
   "cell_type": "code",
   "execution_count": 28,
   "id": "a7083edb",
   "metadata": {
    "execution": {
     "iopub.execute_input": "2025-01-28T16:21:34.134905Z",
     "iopub.status.busy": "2025-01-28T16:21:34.134905Z",
     "iopub.status.idle": "2025-01-28T16:21:34.782940Z",
     "shell.execute_reply": "2025-01-28T16:21:34.781937Z"
    }
   },
   "outputs": [
    {
     "name": "stdout",
     "output_type": "stream",
     "text": [
      "PyAEDT INFO: Parsing C:/Users/ansys/AppData/Local/Temp/tmprs6pebcp.ansys/edb/ANSYS-HSD_V1.aedt.\n"
     ]
    },
    {
     "name": "stdout",
     "output_type": "stream",
     "text": [
      "PyAEDT INFO: File C:/Users/ansys/AppData/Local/Temp/tmprs6pebcp.ansys/edb/ANSYS-HSD_V1.aedt correctly loaded. Elapsed time: 0m 0sec\n"
     ]
    },
    {
     "name": "stdout",
     "output_type": "stream",
     "text": [
      "PyAEDT INFO: aedt file load time 0.03121328353881836\n"
     ]
    },
    {
     "name": "stdout",
     "output_type": "stream",
     "text": [
      "PyAEDT WARNING: No mesh operation found.\n"
     ]
    },
    {
     "name": "stdout",
     "output_type": "stream",
     "text": [
      "PyAEDT WARNING: No mesh region found.\n"
     ]
    },
    {
     "name": "stdout",
     "output_type": "stream",
     "text": [
      "PyAEDT INFO: Parsing design objects. This operation can take time\n"
     ]
    },
    {
     "name": "stdout",
     "output_type": "stream",
     "text": [
      "PyAEDT INFO: Refreshing objects from AEDT file\n"
     ]
    },
    {
     "name": "stdout",
     "output_type": "stream",
     "text": [
      "PyAEDT INFO: 3D Modeler objects parsed. Elapsed time: 0m 0sec\n"
     ]
    },
    {
     "name": "stdout",
     "output_type": "stream",
     "text": [
      "PyAEDT INFO: Mesh class has been initialized! Elapsed time: 0m 0sec\n"
     ]
    }
   ],
   "source": [
    "glob_msh = ipk.mesh.global_mesh_region\n",
    "glob_msh.global_region.positive_z_padding_type = \"Absolute Offset\"\n",
    "glob_msh.global_region.positive_z_padding = \"50 mm\"\n",
    "glob_msh.global_region.negative_z_padding_type = \"Absolute Offset\"\n",
    "glob_msh.global_region.negative_z_padding = \"80 mm\""
   ]
  },
  {
   "cell_type": "code",
   "execution_count": 29,
   "id": "9dd9bae6",
   "metadata": {
    "execution": {
     "iopub.execute_input": "2025-01-28T16:21:34.782940Z",
     "iopub.status.busy": "2025-01-28T16:21:34.782940Z",
     "iopub.status.idle": "2025-01-28T16:21:34.798688Z",
     "shell.execute_reply": "2025-01-28T16:21:34.798688Z"
    }
   },
   "outputs": [],
   "source": [
    "glob_msh = ipk.mesh.global_mesh_region\n",
    "glob_msh.manual_settings = True\n",
    "glob_msh.settings[\"EnableMLM\"] = True\n",
    "glob_msh.settings[\"EnforeMLMType\"] = \"2D\"\n",
    "glob_msh.settings[\"2DMLMType\"] = \"Auto\"\n",
    "glob_msh.settings[\"MaxElementSizeY\"] = \"2mm\"\n",
    "glob_msh.settings[\"MaxElementSizeX\"] = \"2mm\"\n",
    "glob_msh.settings[\"MaxElementSizeZ\"] = \"3mm\"\n",
    "glob_msh.settings[\"MaxLevels\"] = \"2\""
   ]
  },
  {
   "cell_type": "code",
   "execution_count": 30,
   "id": "0e377c43",
   "metadata": {
    "execution": {
     "iopub.execute_input": "2025-01-28T16:21:34.798688Z",
     "iopub.status.busy": "2025-01-28T16:21:34.798688Z",
     "iopub.status.idle": "2025-01-28T16:21:34.829927Z",
     "shell.execute_reply": "2025-01-28T16:21:34.829927Z"
    }
   },
   "outputs": [
    {
     "data": {
      "text/plain": [
       "True"
      ]
     },
     "execution_count": 30,
     "metadata": {},
     "output_type": "execute_result"
    }
   ],
   "source": [
    "glob_msh.update()"
   ]
  },
  {
   "cell_type": "markdown",
   "id": "2d7c299e",
   "metadata": {},
   "source": [
    "## Place monitor"
   ]
  },
  {
   "cell_type": "code",
   "execution_count": 31,
   "id": "f3db66c0",
   "metadata": {
    "execution": {
     "iopub.execute_input": "2025-01-28T16:21:34.829927Z",
     "iopub.status.busy": "2025-01-28T16:21:34.829927Z",
     "iopub.status.idle": "2025-01-28T16:21:34.861111Z",
     "shell.execute_reply": "2025-01-28T16:21:34.861111Z"
    }
   },
   "outputs": [],
   "source": [
    "cpu = ipk.modeler[\"PCB_pyAEDT_U1_device\"]\n",
    "m1 = ipk.monitor.assign_face_monitor(\n",
    "    face_id=cpu.top_face_z.id,\n",
    "    monitor_quantity=\"Temperature\",\n",
    "    monitor_name=\"TemperatureMonitor1\",\n",
    ")"
   ]
  },
  {
   "cell_type": "markdown",
   "id": "884b5f50",
   "metadata": {},
   "source": [
    "## Create Icepak setup"
   ]
  },
  {
   "cell_type": "code",
   "execution_count": 32,
   "id": "165ac545",
   "metadata": {
    "execution": {
     "iopub.execute_input": "2025-01-28T16:21:34.861111Z",
     "iopub.status.busy": "2025-01-28T16:21:34.861111Z",
     "iopub.status.idle": "2025-01-28T16:21:34.971824Z",
     "shell.execute_reply": "2025-01-28T16:21:34.971824Z"
    }
   },
   "outputs": [
    {
     "name": "stdout",
     "output_type": "stream",
     "text": [
      "PyAEDT INFO: Key MaxIterations matched internal key 'Convergence Criteria - Max Iterations' with confidence of 52.\n"
     ]
    }
   ],
   "source": [
    "setup1 = ipk.create_setup(MaxIterations=10)"
   ]
  },
  {
   "cell_type": "markdown",
   "id": "b012849f",
   "metadata": {},
   "source": [
    "Add 2-way coupling to the setup"
   ]
  },
  {
   "cell_type": "code",
   "execution_count": 33,
   "id": "0059a062",
   "metadata": {
    "execution": {
     "iopub.execute_input": "2025-01-28T16:21:34.971824Z",
     "iopub.status.busy": "2025-01-28T16:21:34.971824Z",
     "iopub.status.idle": "2025-01-28T16:21:34.987427Z",
     "shell.execute_reply": "2025-01-28T16:21:34.987427Z"
    }
   },
   "outputs": [
    {
     "data": {
      "text/plain": [
       "True"
      ]
     },
     "execution_count": 33,
     "metadata": {},
     "output_type": "execute_result"
    }
   ],
   "source": [
    "ipk.assign_2way_coupling(number_of_iterations=1)"
   ]
  },
  {
   "cell_type": "markdown",
   "id": "7b6602a2",
   "metadata": {},
   "source": [
    "## Save"
   ]
  },
  {
   "cell_type": "code",
   "execution_count": 34,
   "id": "f8bd091a",
   "metadata": {
    "execution": {
     "iopub.execute_input": "2025-01-28T16:21:34.987427Z",
     "iopub.status.busy": "2025-01-28T16:21:34.987427Z",
     "iopub.status.idle": "2025-01-28T16:21:35.256583Z",
     "shell.execute_reply": "2025-01-28T16:21:35.256583Z"
    }
   },
   "outputs": [
    {
     "name": "stdout",
     "output_type": "stream",
     "text": [
      "PyAEDT INFO: Project ANSYS-HSD_V1 Saved correctly\n"
     ]
    },
    {
     "data": {
      "text/plain": [
       "True"
      ]
     },
     "execution_count": 34,
     "metadata": {},
     "output_type": "execute_result"
    }
   ],
   "source": [
    "ipk.save_project()"
   ]
  },
  {
   "cell_type": "markdown",
   "id": "b37266fe",
   "metadata": {},
   "source": [
    "## Shut Down Electronics Desktop"
   ]
  },
  {
   "cell_type": "code",
   "execution_count": 35,
   "id": "d24aa900",
   "metadata": {
    "execution": {
     "iopub.execute_input": "2025-01-28T16:21:35.256583Z",
     "iopub.status.busy": "2025-01-28T16:21:35.256583Z",
     "iopub.status.idle": "2025-01-28T16:21:38.749919Z",
     "shell.execute_reply": "2025-01-28T16:21:38.749919Z"
    }
   },
   "outputs": [
    {
     "name": "stdout",
     "output_type": "stream",
     "text": [
      "PyAEDT INFO: Desktop has been released and closed.\n"
     ]
    },
    {
     "data": {
      "text/plain": [
       "True"
      ]
     },
     "execution_count": 35,
     "metadata": {},
     "output_type": "execute_result"
    }
   ],
   "source": [
    "ipk.release_desktop()"
   ]
  },
  {
   "cell_type": "markdown",
   "id": "8958d7bf",
   "metadata": {},
   "source": [
    "All project files are saved in the folder ``temp_file.dir``. If you've run this example as a Jupyter notebook you\n",
    "can retrieve those project files."
   ]
  }
 ],
 "metadata": {
  "jupytext": {
   "cell_metadata_filter": "-all",
   "main_language": "python",
   "notebook_metadata_filter": "-all",
   "text_representation": {
    "extension": ".py",
    "format_name": "light"
   }
  },
  "language_info": {
   "codemirror_mode": {
    "name": "ipython",
    "version": 3
   },
   "file_extension": ".py",
   "mimetype": "text/x-python",
   "name": "python",
   "nbconvert_exporter": "python",
   "pygments_lexer": "ipython3",
   "version": "3.10.11"
  }
 },
 "nbformat": 4,
 "nbformat_minor": 5
}
