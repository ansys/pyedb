{
 "cells": [
  {
   "cell_type": "markdown",
   "id": "54a2a6f9",
   "metadata": {},
   "source": [
    "# Import Sources\n",
    "This example shows how to import voltage and current sources. In this example, we are going to\n",
    "\n",
    "- Download an example board\n",
    "- Create a configuration file\n",
    "  - Add a voltage source between two nets\n",
    "  - Add a current source between two pins\n",
    "  - Add a current source between two pin groups\n",
    "  - Add a current source between two coordinates\n",
    "  - Add a current source to the nearest pin\n",
    "  - Add distributed sources\n",
    "- Import the configuration file"
   ]
  },
  {
   "cell_type": "markdown",
   "id": "73f771a3",
   "metadata": {},
   "source": [
    "## Import the required packages"
   ]
  },
  {
   "cell_type": "code",
   "execution_count": 1,
   "id": "a1fe433d",
   "metadata": {
    "execution": {
     "iopub.execute_input": "2025-01-28T16:19:00.930248Z",
     "iopub.status.busy": "2025-01-28T16:19:00.930248Z",
     "iopub.status.idle": "2025-01-28T16:19:01.430249Z",
     "shell.execute_reply": "2025-01-28T16:19:01.430249Z"
    }
   },
   "outputs": [],
   "source": [
    "import json\n",
    "from pathlib import Path\n",
    "import tempfile\n",
    "\n",
    "from ansys.aedt.core.downloads import download_file\n",
    "\n",
    "from pyedb import Edb\n",
    "\n",
    "AEDT_VERSION = \"2024.2\"\n",
    "NG_MODE = False\n"
   ]
  },
  {
   "cell_type": "markdown",
   "id": "c0e8678a",
   "metadata": {},
   "source": [
    "Download the example PCB data."
   ]
  },
  {
   "cell_type": "code",
   "execution_count": 2,
   "id": "bbc428fe",
   "metadata": {
    "execution": {
     "iopub.execute_input": "2025-01-28T16:19:01.430249Z",
     "iopub.status.busy": "2025-01-28T16:19:01.430249Z",
     "iopub.status.idle": "2025-01-28T16:19:02.149423Z",
     "shell.execute_reply": "2025-01-28T16:19:02.149423Z"
    }
   },
   "outputs": [],
   "source": [
    "temp_folder = tempfile.TemporaryDirectory(suffix=\".ansys\")\n",
    "file_edb = download_file(source=\"edb/ANSYS-HSD_V1.aedb\", destination=temp_folder.name)"
   ]
  },
  {
   "cell_type": "markdown",
   "id": "a94dcdcd",
   "metadata": {},
   "source": [
    "## Load example layout"
   ]
  },
  {
   "cell_type": "code",
   "execution_count": 3,
   "id": "cc292e66",
   "metadata": {
    "execution": {
     "iopub.execute_input": "2025-01-28T16:19:02.149423Z",
     "iopub.status.busy": "2025-01-28T16:19:02.149423Z",
     "iopub.status.idle": "2025-01-28T16:19:15.124654Z",
     "shell.execute_reply": "2025-01-28T16:19:15.124654Z"
    }
   },
   "outputs": [
    {
     "name": "stdout",
     "output_type": "stream",
     "text": [
      "PyAEDT INFO: Logger is initialized in EDB.\n"
     ]
    },
    {
     "name": "stdout",
     "output_type": "stream",
     "text": [
      "PyAEDT INFO: legacy v0.36.0\n"
     ]
    },
    {
     "name": "stdout",
     "output_type": "stream",
     "text": [
      "PyAEDT INFO: Python version 3.10.11 (tags/v3.10.11:7d4cc5a, Apr  5 2023, 00:38:17) [MSC v.1929 64 bit (AMD64)]\n"
     ]
    },
    {
     "name": "stdout",
     "output_type": "stream",
     "text": [
      "PyAEDT INFO: Database ANSYS-HSD_V1.aedb Opened in 2024.2\n"
     ]
    },
    {
     "name": "stdout",
     "output_type": "stream",
     "text": [
      "PyAEDT INFO: Cell main Opened\n"
     ]
    },
    {
     "name": "stdout",
     "output_type": "stream",
     "text": [
      "PyAEDT INFO: Builder was initialized.\n"
     ]
    },
    {
     "name": "stdout",
     "output_type": "stream",
     "text": [
      "PyAEDT INFO: EDB initialized.\n"
     ]
    }
   ],
   "source": [
    "edbapp = Edb(file_edb, edbversion=AEDT_VERSION)"
   ]
  },
  {
   "cell_type": "markdown",
   "id": "d5aed234",
   "metadata": {},
   "source": [
    "## Create an empty dictionary to host all configurations"
   ]
  },
  {
   "cell_type": "code",
   "execution_count": 4,
   "id": "ee774f4c",
   "metadata": {
    "execution": {
     "iopub.execute_input": "2025-01-28T16:19:15.124654Z",
     "iopub.status.busy": "2025-01-28T16:19:15.124654Z",
     "iopub.status.idle": "2025-01-28T16:19:15.140267Z",
     "shell.execute_reply": "2025-01-28T16:19:15.140267Z"
    }
   },
   "outputs": [],
   "source": [
    "cfg = dict()"
   ]
  },
  {
   "cell_type": "markdown",
   "id": "0be9316a",
   "metadata": {},
   "source": [
    "## Add a voltage source between two nets"
   ]
  },
  {
   "cell_type": "markdown",
   "id": "63fe512c",
   "metadata": {},
   "source": [
    "Keywords\n",
    "\n",
    "- **name**. Name of the voltage source.\n",
    "- **Reference_designator**. Reference designator of the component.\n",
    "- **type**. Type of the source. Supported types are 'voltage', 'current'\n",
    "- **positive_terminal**. Supported types are 'net', 'pin', 'pin_group', 'coordinates'\n",
    "- **negative_terminal**. Supported types are 'net', 'pin', 'pin_group', 'coordinates'\n",
    "- **equipotential**. Set equipotential region on pins when True."
   ]
  },
  {
   "cell_type": "code",
   "execution_count": 5,
   "id": "21e34d5f",
   "metadata": {
    "execution": {
     "iopub.execute_input": "2025-01-28T16:19:15.140267Z",
     "iopub.status.busy": "2025-01-28T16:19:15.140267Z",
     "iopub.status.idle": "2025-01-28T16:19:15.155934Z",
     "shell.execute_reply": "2025-01-28T16:19:15.155934Z"
    }
   },
   "outputs": [],
   "source": [
    "voltage_source = {\n",
    "    \"name\": \"V_SOURCE_5V\",\n",
    "    \"reference_designator\": \"U4\",\n",
    "    \"type\": \"voltage\",\n",
    "    \"magnitude\": 1,\n",
    "    \"positive_terminal\": {\"net\": \"5V\"},\n",
    "    \"negative_terminal\": {\"net\": \"GND\"},\n",
    "    \"equipotential\": True,\n",
    "}"
   ]
  },
  {
   "cell_type": "markdown",
   "id": "abadb8b9",
   "metadata": {},
   "source": [
    "## Add a current source between two pins"
   ]
  },
  {
   "cell_type": "code",
   "execution_count": 6,
   "id": "d602c7e0",
   "metadata": {
    "execution": {
     "iopub.execute_input": "2025-01-28T16:19:15.155934Z",
     "iopub.status.busy": "2025-01-28T16:19:15.155934Z",
     "iopub.status.idle": "2025-01-28T16:19:15.171540Z",
     "shell.execute_reply": "2025-01-28T16:19:15.171540Z"
    }
   },
   "outputs": [],
   "source": [
    "current_source_1 = {\n",
    "    \"name\": \"I_CURRENT_1A\",\n",
    "    \"reference_designator\": \"J5\",\n",
    "    \"type\": \"current\",\n",
    "    \"magnitude\": 10,\n",
    "    \"positive_terminal\": {\"pin\": \"15\"},\n",
    "    \"negative_terminal\": {\"pin\": \"14\"},\n",
    "}"
   ]
  },
  {
   "cell_type": "markdown",
   "id": "c253b8a1",
   "metadata": {},
   "source": [
    "## Add a current source between two pin groups"
   ]
  },
  {
   "cell_type": "code",
   "execution_count": 7,
   "id": "4a9d60d2",
   "metadata": {
    "execution": {
     "iopub.execute_input": "2025-01-28T16:19:15.171540Z",
     "iopub.status.busy": "2025-01-28T16:19:15.171540Z",
     "iopub.status.idle": "2025-01-28T16:19:15.187157Z",
     "shell.execute_reply": "2025-01-28T16:19:15.187157Z"
    }
   },
   "outputs": [],
   "source": [
    "pin_groups = [\n",
    "    {\"name\": \"IC2_5V\", \"reference_designator\": \"IC2\", \"pins\": [\"8\"]},\n",
    "    {\"name\": \"IC2_GND\", \"reference_designator\": \"IC2\", \"net\": \"GND\"},\n",
    "]"
   ]
  },
  {
   "cell_type": "code",
   "execution_count": 8,
   "id": "805e3e2d",
   "metadata": {
    "execution": {
     "iopub.execute_input": "2025-01-28T16:19:15.187157Z",
     "iopub.status.busy": "2025-01-28T16:19:15.187157Z",
     "iopub.status.idle": "2025-01-28T16:19:15.202776Z",
     "shell.execute_reply": "2025-01-28T16:19:15.202776Z"
    }
   },
   "outputs": [],
   "source": [
    "current_source_2 = {\n",
    "    \"name\": \"CURRENT_SOURCE_2\",\n",
    "    \"type\": \"current\",\n",
    "    \"positive_terminal\": {\"pin_group\": \"IC2_5V\"},\n",
    "    \"negative_terminal\": {\"pin_group\": \"IC2_GND\"},\n",
    "}"
   ]
  },
  {
   "cell_type": "markdown",
   "id": "e6dabcc8",
   "metadata": {},
   "source": [
    "## Add a current source between two coordinates"
   ]
  },
  {
   "cell_type": "markdown",
   "id": "fbfb9cda",
   "metadata": {},
   "source": [
    "Keywords\n",
    "\n",
    "- **layer**. Layer on which the terminal is placed\n",
    "- **point**. XY coordinate the terminal is placed\n",
    "- **net**. Name of the net the terminal is placed on\n",
    "- **contact_radius**. Set an equipotential region at the contact point."
   ]
  },
  {
   "cell_type": "code",
   "execution_count": 9,
   "id": "810aaf6e",
   "metadata": {
    "execution": {
     "iopub.execute_input": "2025-01-28T16:19:15.202776Z",
     "iopub.status.busy": "2025-01-28T16:19:15.202776Z",
     "iopub.status.idle": "2025-01-28T16:19:15.218397Z",
     "shell.execute_reply": "2025-01-28T16:19:15.218397Z"
    }
   },
   "outputs": [],
   "source": [
    "current_source_3 = {\n",
    "    \"name\": \"CURRENT_SOURCE_3\",\n",
    "    \"type\": \"current\",\n",
    "    \"equipotential\": True,\n",
    "    \"positive_terminal\": {\n",
    "        \"coordinates\": {\"layer\": \"1_Top\", \"point\": [\"116mm\", \"41mm\"], \"net\": \"5V\", \"contact_radius\": \"1mm\"}\n",
    "    },\n",
    "    \"negative_terminal\": {\n",
    "        \"coordinates\": {\"layer\": \"Inner1(GND1)\", \"point\": [\"116mm\", \"41mm\"], \"net\": \"GND\", \"contact_radius\": \"1mm\"}\n",
    "    },\n",
    "}"
   ]
  },
  {
   "cell_type": "markdown",
   "id": "9cb5dbfb",
   "metadata": {},
   "source": [
    "## Add a current source reference to the nearest pin"
   ]
  },
  {
   "cell_type": "markdown",
   "id": "c875bd49",
   "metadata": {},
   "source": [
    "Keywords\n",
    "\n",
    "- **reference_net**. Name of the reference net\n",
    "- **search_radius**. Reference pin search radius in meter"
   ]
  },
  {
   "cell_type": "code",
   "execution_count": 10,
   "id": "cf09dd34",
   "metadata": {
    "execution": {
     "iopub.execute_input": "2025-01-28T16:19:15.218397Z",
     "iopub.status.busy": "2025-01-28T16:19:15.218397Z",
     "iopub.status.idle": "2025-01-28T16:19:15.234046Z",
     "shell.execute_reply": "2025-01-28T16:19:15.234046Z"
    }
   },
   "outputs": [],
   "source": [
    "current_source_4 = {\n",
    "    \"name\": \"CURRENT_SOURCE_4\",\n",
    "    \"reference_designator\": \"J5\",\n",
    "    \"type\": \"current\",\n",
    "    \"positive_terminal\": {\"pin\": \"16\"},\n",
    "    \"negative_terminal\": {\"nearest_pin\": {\"reference_net\": \"GND\", \"search_radius\": 5e-3}},\n",
    "}"
   ]
  },
  {
   "cell_type": "markdown",
   "id": "24ed2311",
   "metadata": {},
   "source": [
    "## Add distributed current sources"
   ]
  },
  {
   "cell_type": "markdown",
   "id": "e9d7efe3",
   "metadata": {},
   "source": [
    "Keywords\n",
    "\n",
    "- **distributed**. Whether to create distributed sources. When set to True, ports are created per pin"
   ]
  },
  {
   "cell_type": "code",
   "execution_count": 11,
   "id": "8f0939a5",
   "metadata": {
    "execution": {
     "iopub.execute_input": "2025-01-28T16:19:15.234046Z",
     "iopub.status.busy": "2025-01-28T16:19:15.234046Z",
     "iopub.status.idle": "2025-01-28T16:19:15.249683Z",
     "shell.execute_reply": "2025-01-28T16:19:15.249683Z"
    }
   },
   "outputs": [],
   "source": [
    "sources_distributed = {\n",
    "    \"name\": \"DISTRIBUTED\",\n",
    "    \"reference_designator\": \"U2\",\n",
    "    \"type\": \"current\",\n",
    "    \"distributed\": True,\n",
    "    \"positive_terminal\": {\"net\": \"5V\"},\n",
    "    \"negative_terminal\": {\"net\": \"GND\"},\n",
    "}"
   ]
  },
  {
   "cell_type": "markdown",
   "id": "36b82923",
   "metadata": {},
   "source": [
    "## Add setups in configuration"
   ]
  },
  {
   "cell_type": "code",
   "execution_count": 12,
   "id": "3d8440ea",
   "metadata": {
    "execution": {
     "iopub.execute_input": "2025-01-28T16:19:15.249683Z",
     "iopub.status.busy": "2025-01-28T16:19:15.249683Z",
     "iopub.status.idle": "2025-01-28T16:19:15.265270Z",
     "shell.execute_reply": "2025-01-28T16:19:15.265270Z"
    }
   },
   "outputs": [],
   "source": [
    "cfg[\"pin_groups\"] = pin_groups\n",
    "cfg[\"sources\"] = [\n",
    "    voltage_source,\n",
    "    current_source_1,\n",
    "    current_source_2,\n",
    "    current_source_3,\n",
    "    current_source_4,\n",
    "    sources_distributed,\n",
    "]"
   ]
  },
  {
   "cell_type": "markdown",
   "id": "63a5d1f0",
   "metadata": {},
   "source": [
    "## Write configuration into as json file"
   ]
  },
  {
   "cell_type": "code",
   "execution_count": 13,
   "id": "5a81b505",
   "metadata": {
    "execution": {
     "iopub.execute_input": "2025-01-28T16:19:15.265270Z",
     "iopub.status.busy": "2025-01-28T16:19:15.265270Z",
     "iopub.status.idle": "2025-01-28T16:19:15.280943Z",
     "shell.execute_reply": "2025-01-28T16:19:15.280943Z"
    }
   },
   "outputs": [],
   "source": [
    "file_json = Path(temp_folder.name) / \"edb_configuration.json\"\n",
    "with open(file_json, \"w\") as f:\n",
    "    json.dump(cfg, f, indent=4, ensure_ascii=False)"
   ]
  },
  {
   "cell_type": "markdown",
   "id": "d68b776e",
   "metadata": {},
   "source": [
    "## Import configuration into example layout"
   ]
  },
  {
   "cell_type": "code",
   "execution_count": 14,
   "id": "2611ea71",
   "metadata": {
    "execution": {
     "iopub.execute_input": "2025-01-28T16:19:15.280943Z",
     "iopub.status.busy": "2025-01-28T16:19:15.280943Z",
     "iopub.status.idle": "2025-01-28T16:19:16.374606Z",
     "shell.execute_reply": "2025-01-28T16:19:16.374606Z"
    }
   },
   "outputs": [
    {
     "data": {
      "text/plain": [
       "True"
      ]
     },
     "execution_count": 14,
     "metadata": {},
     "output_type": "execute_result"
    }
   ],
   "source": [
    "edbapp.configuration.load(config_file=file_json)\n",
    "edbapp.configuration.run()"
   ]
  },
  {
   "cell_type": "markdown",
   "id": "f49299f1",
   "metadata": {},
   "source": [
    "## Review"
   ]
  },
  {
   "cell_type": "code",
   "execution_count": 15,
   "id": "6c743b0d",
   "metadata": {
    "execution": {
     "iopub.execute_input": "2025-01-28T16:19:16.374606Z",
     "iopub.status.busy": "2025-01-28T16:19:16.374606Z",
     "iopub.status.idle": "2025-01-28T16:19:16.390230Z",
     "shell.execute_reply": "2025-01-28T16:19:16.390230Z"
    }
   },
   "outputs": [
    {
     "data": {
      "text/plain": [
       "{'V_SOURCE_5V': <pyedb.dotnet.edb_core.edb_data.ports.ExcitationSources at 0x21385e64880>,\n",
       " 'I_CURRENT_1A': <pyedb.dotnet.edb_core.edb_data.ports.ExcitationSources at 0x2544203e050>,\n",
       " 'CURRENT_SOURCE_2': <pyedb.dotnet.edb_core.edb_data.ports.ExcitationSources at 0x2544203e1a0>,\n",
       " 'CURRENT_SOURCE_3': <pyedb.dotnet.edb_core.edb_data.ports.ExcitationSources at 0x2544203df00>,\n",
       " 'CURRENT_SOURCE_4': <pyedb.dotnet.edb_core.edb_data.ports.ExcitationSources at 0x2544203d960>,\n",
       " 'DISTRIBUTED_U2_5V_39': <pyedb.dotnet.edb_core.edb_data.ports.ExcitationSources at 0x2544203e290>,\n",
       " 'DISTRIBUTED_U2_5V_40': <pyedb.dotnet.edb_core.edb_data.ports.ExcitationSources at 0x2544203d900>,\n",
       " 'DISTRIBUTED_U2_5V_41': <pyedb.dotnet.edb_core.edb_data.ports.ExcitationSources at 0x2544203dfc0>,\n",
       " 'DISTRIBUTED_U2_5V_42': <pyedb.dotnet.edb_core.edb_data.ports.ExcitationSources at 0x2544203d8a0>,\n",
       " 'DISTRIBUTED_U2_5V_43': <pyedb.dotnet.edb_core.edb_data.ports.ExcitationSources at 0x2544203d840>,\n",
       " 'DISTRIBUTED_U2_5V_44': <pyedb.dotnet.edb_core.edb_data.ports.ExcitationSources at 0x2544203d7e0>,\n",
       " 'DISTRIBUTED_U2_5V_45': <pyedb.dotnet.edb_core.edb_data.ports.ExcitationSources at 0x2544203d780>,\n",
       " 'DISTRIBUTED_U2_5V_46': <pyedb.dotnet.edb_core.edb_data.ports.ExcitationSources at 0x2544203d720>,\n",
       " 'DISTRIBUTED_U2_5V_47': <pyedb.dotnet.edb_core.edb_data.ports.ExcitationSources at 0x2544203d6c0>,\n",
       " 'DISTRIBUTED_U2_5V_48': <pyedb.dotnet.edb_core.edb_data.ports.ExcitationSources at 0x2544203d660>,\n",
       " 'DISTRIBUTED_U2_5V_49': <pyedb.dotnet.edb_core.edb_data.ports.ExcitationSources at 0x2544203d600>,\n",
       " 'DISTRIBUTED_U2_5V_50': <pyedb.dotnet.edb_core.edb_data.ports.ExcitationSources at 0x2544203d5a0>,\n",
       " 'DISTRIBUTED_U2_5V_51': <pyedb.dotnet.edb_core.edb_data.ports.ExcitationSources at 0x2544203d540>,\n",
       " 'DISTRIBUTED_U2_5V_60': <pyedb.dotnet.edb_core.edb_data.ports.ExcitationSources at 0x2544203d4e0>}"
      ]
     },
     "execution_count": 15,
     "metadata": {},
     "output_type": "execute_result"
    }
   ],
   "source": [
    "edbapp.siwave.sources"
   ]
  },
  {
   "cell_type": "markdown",
   "id": "db95a96f",
   "metadata": {},
   "source": [
    "## Save and close Edb\n",
    "The temporary folder will be deleted once the execution of this script is finished. Replace **edbapp.save()** with\n",
    "**edbapp.save_as(\"C:/example.aedb\")** to keep the example project."
   ]
  },
  {
   "cell_type": "code",
   "execution_count": 16,
   "id": "86db9d84",
   "metadata": {
    "execution": {
     "iopub.execute_input": "2025-01-28T16:19:16.390230Z",
     "iopub.status.busy": "2025-01-28T16:19:16.390230Z",
     "iopub.status.idle": "2025-01-28T16:19:16.609041Z",
     "shell.execute_reply": "2025-01-28T16:19:16.609041Z"
    }
   },
   "outputs": [
    {
     "data": {
      "text/plain": [
       "True"
      ]
     },
     "execution_count": 16,
     "metadata": {},
     "output_type": "execute_result"
    }
   ],
   "source": [
    "edbapp.save()\n",
    "edbapp.close()"
   ]
  }
 ],
 "metadata": {
  "jupytext": {
   "cell_metadata_filter": "-all",
   "main_language": "python",
   "notebook_metadata_filter": "-all",
   "text_representation": {
    "extension": ".py",
    "format_name": "light"
   }
  },
  "language_info": {
   "codemirror_mode": {
    "name": "ipython",
    "version": 3
   },
   "file_extension": ".py",
   "mimetype": "text/x-python",
   "name": "python",
   "nbconvert_exporter": "python",
   "pygments_lexer": "ipython3",
   "version": "3.10.11"
  }
 },
 "nbformat": 4,
 "nbformat_minor": 5
}
