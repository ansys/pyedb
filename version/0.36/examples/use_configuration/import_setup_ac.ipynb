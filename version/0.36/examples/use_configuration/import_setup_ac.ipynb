{
 "cells": [
  {
   "cell_type": "markdown",
   "id": "8f1c898d",
   "metadata": {},
   "source": [
    "# Import Setup AC\n",
    "This example shows how to import SIwave, HFSS setups for AC analysis. In this example, we are going to\n",
    "\n",
    "- Download an example board\n",
    "- Create a configuration file\n",
    "  - add setups\n",
    "- Import the configuration file"
   ]
  },
  {
   "cell_type": "markdown",
   "id": "8787fa52",
   "metadata": {},
   "source": [
    "### Import the required packages"
   ]
  },
  {
   "cell_type": "code",
   "execution_count": 1,
   "id": "343f0b76",
   "metadata": {
    "execution": {
     "iopub.execute_input": "2025-01-28T16:18:40.198992Z",
     "iopub.status.busy": "2025-01-28T16:18:40.198992Z",
     "iopub.status.idle": "2025-01-28T16:18:40.714610Z",
     "shell.execute_reply": "2025-01-28T16:18:40.714610Z"
    }
   },
   "outputs": [],
   "source": [
    "import json\n",
    "from pathlib import Path\n",
    "import tempfile\n",
    "\n",
    "from ansys.aedt.core.downloads import download_file\n",
    "\n",
    "from pyedb import Edb\n",
    "\n",
    "AEDT_VERSION = \"2024.2\"\n",
    "NG_MODE = False\n"
   ]
  },
  {
   "cell_type": "markdown",
   "id": "3772f3df",
   "metadata": {},
   "source": [
    "Download the example PCB data."
   ]
  },
  {
   "cell_type": "code",
   "execution_count": 2,
   "id": "7a6cda7a",
   "metadata": {
    "execution": {
     "iopub.execute_input": "2025-01-28T16:18:40.714610Z",
     "iopub.status.busy": "2025-01-28T16:18:40.714610Z",
     "iopub.status.idle": "2025-01-28T16:18:41.449429Z",
     "shell.execute_reply": "2025-01-28T16:18:41.449429Z"
    }
   },
   "outputs": [],
   "source": [
    "temp_folder = tempfile.TemporaryDirectory(suffix=\".ansys\")\n",
    "file_edb = download_file(source=\"edb/ANSYS-HSD_V1.aedb\", destination=temp_folder.name)"
   ]
  },
  {
   "cell_type": "markdown",
   "id": "98f79ab8",
   "metadata": {},
   "source": [
    "## Load example layout."
   ]
  },
  {
   "cell_type": "code",
   "execution_count": 3,
   "id": "982b580c",
   "metadata": {
    "execution": {
     "iopub.execute_input": "2025-01-28T16:18:41.449429Z",
     "iopub.status.busy": "2025-01-28T16:18:41.449429Z",
     "iopub.status.idle": "2025-01-28T16:18:54.506848Z",
     "shell.execute_reply": "2025-01-28T16:18:54.506848Z"
    }
   },
   "outputs": [
    {
     "name": "stdout",
     "output_type": "stream",
     "text": [
      "PyAEDT INFO: Logger is initialized in EDB.\n"
     ]
    },
    {
     "name": "stdout",
     "output_type": "stream",
     "text": [
      "PyAEDT INFO: legacy v0.36.0\n"
     ]
    },
    {
     "name": "stdout",
     "output_type": "stream",
     "text": [
      "PyAEDT INFO: Python version 3.10.11 (tags/v3.10.11:7d4cc5a, Apr  5 2023, 00:38:17) [MSC v.1929 64 bit (AMD64)]\n"
     ]
    },
    {
     "name": "stdout",
     "output_type": "stream",
     "text": [
      "PyAEDT INFO: Database ANSYS-HSD_V1.aedb Opened in 2024.2\n"
     ]
    },
    {
     "name": "stdout",
     "output_type": "stream",
     "text": [
      "PyAEDT INFO: Cell main Opened\n"
     ]
    },
    {
     "name": "stdout",
     "output_type": "stream",
     "text": [
      "PyAEDT INFO: Builder was initialized.\n"
     ]
    },
    {
     "name": "stdout",
     "output_type": "stream",
     "text": [
      "PyAEDT INFO: EDB initialized.\n"
     ]
    }
   ],
   "source": [
    "edbapp = Edb(file_edb, edbversion=AEDT_VERSION)"
   ]
  },
  {
   "cell_type": "markdown",
   "id": "d9e26c7d",
   "metadata": {},
   "source": [
    "## Create an empty dictionary to host all configurations."
   ]
  },
  {
   "cell_type": "code",
   "execution_count": 4,
   "id": "7c9b425c",
   "metadata": {
    "execution": {
     "iopub.execute_input": "2025-01-28T16:18:54.506848Z",
     "iopub.status.busy": "2025-01-28T16:18:54.506848Z",
     "iopub.status.idle": "2025-01-28T16:18:54.522468Z",
     "shell.execute_reply": "2025-01-28T16:18:54.522468Z"
    }
   },
   "outputs": [],
   "source": [
    "cfg = dict()"
   ]
  },
  {
   "cell_type": "markdown",
   "id": "b7652ecd",
   "metadata": {},
   "source": [
    "## Create an SIwave SYZ setup"
   ]
  },
  {
   "cell_type": "markdown",
   "id": "44adba3d",
   "metadata": {},
   "source": [
    "Keywords\n",
    "\n",
    "- **name**. Name of the setup.\n",
    "- **type**. Type of the analysis setup. Supported types are 'siwave_ac', 'siwave_dc', 'hfss'.\n",
    "- **pi_slider_position**. PI slider position. Supported values are from '0', '1', '2'. 0:speed, 1:balanced,\n",
    "2:accuracy.\n",
    "- **freq_sweep**. List of frequency sweeps.\n",
    "  - **name**. Name of the sweep.\n",
    "  - **type**. Type of the sweep. Supported types are 'interpolation', 'discrete', 'broadband'.\n",
    "  - **frequencies**. Frequency distribution.\n",
    "    - **distribution**. Supported distributions are 'linear_count', 'linear_scale', 'log_scale'.\n",
    "    - **start**. Start frequency. Example, 1e6, \"1MHz\".\n",
    "    - **stop**. Stop frequency. Example, 1e9, \"1GHz\".\n",
    "    - **increment**."
   ]
  },
  {
   "cell_type": "code",
   "execution_count": 5,
   "id": "01c25944",
   "metadata": {
    "execution": {
     "iopub.execute_input": "2025-01-28T16:18:54.522468Z",
     "iopub.status.busy": "2025-01-28T16:18:54.522468Z",
     "iopub.status.idle": "2025-01-28T16:18:54.538093Z",
     "shell.execute_reply": "2025-01-28T16:18:54.538093Z"
    }
   },
   "outputs": [],
   "source": [
    "siwave_setup = {\n",
    "    \"name\": \"siwave_1\",\n",
    "    \"type\": \"siwave_ac\",\n",
    "    \"pi_slider_position\": 1,\n",
    "    \"freq_sweep\": [\n",
    "        {\n",
    "            \"name\": \"Sweep1\",\n",
    "            \"type\": \"interpolation\",\n",
    "            \"frequencies\": [{\"distribution\": \"log_scale\", \"start\": 1e6, \"stop\": 1e9, \"increment\": 20}],\n",
    "        }\n",
    "    ],\n",
    "}"
   ]
  },
  {
   "cell_type": "markdown",
   "id": "916d3c72",
   "metadata": {},
   "source": [
    "## Create a HFSS setup"
   ]
  },
  {
   "cell_type": "markdown",
   "id": "08e0f6fb",
   "metadata": {},
   "source": [
    "Keywords\n",
    "\n",
    "- **name**. Name of the setup.\n",
    "- **type**. Type of the analysis setup. Supported types are 'siwave_ac', 'siwave_dc', 'hfss'.\n",
    "- **f_adapt**. Adaptive frequency.\n",
    "- **max_num_passes**. Maximum number of passes.\n",
    "- **max_mag_delta_s**. Convergence criteria delta S.\n",
    "- **mesh_operations**. Mesh operations.\n",
    "    - **name**. Name of the mesh operation.\n",
    "    - **type**. Type of the mesh operation. The supported types are 'base', 'length', 'skin_depth'.\n",
    "    - **max_length**. Maximum length of elements.\n",
    "    - **restrict_length**. Whether to restrict length of elements.\n",
    "    - **refine_inside**. Whether to turn on refine inside objects.\n",
    "    - **nets_layers_list**. {'layer_name':['net_name_1', 'net_name_2']}\n",
    "- **freq_sweep**. List of frequency sweeps.\n",
    "  - **name**. Name of the sweep.\n",
    "  - **type**. Type of the sweep. Supported types are 'interpolation', 'discrete', 'broadband'.\n",
    "  - **frequencies**. Frequency distribution.\n",
    "    - **distribution**. Supported distributions are 'linear_count', 'linear_scale', 'log_scale'.\n",
    "    - **start**. Start frequency. Example, 1e6, \"1MHz\".\n",
    "    - **stop**. Stop frequency. Example, 1e9, \"1GHz\".\n",
    "    - **increment**."
   ]
  },
  {
   "cell_type": "code",
   "execution_count": 6,
   "id": "b05849a6",
   "metadata": {
    "execution": {
     "iopub.execute_input": "2025-01-28T16:18:54.538093Z",
     "iopub.status.busy": "2025-01-28T16:18:54.538093Z",
     "iopub.status.idle": "2025-01-28T16:18:54.553717Z",
     "shell.execute_reply": "2025-01-28T16:18:54.553717Z"
    }
   },
   "outputs": [],
   "source": [
    "hfss_setup = {\n",
    "    \"name\": \"hfss_1\",\n",
    "    \"type\": \"hfss\",\n",
    "    \"f_adapt\": \"5GHz\",\n",
    "    \"max_num_passes\": 10,\n",
    "    \"max_mag_delta_s\": 0.02,\n",
    "    \"mesh_operations\": [\n",
    "        {\n",
    "            \"name\": \"mop_1\",\n",
    "            \"type\": \"length\",\n",
    "            \"max_length\": \"3mm\",\n",
    "            \"restrict_length\": True,\n",
    "            \"refine_inside\": False,\n",
    "            \"nets_layers_list\": {\"GND\": [\"1_Top\", \"16_Bottom\"]},\n",
    "        }\n",
    "    ],\n",
    "    \"freq_sweep\": [\n",
    "        {\n",
    "            \"name\": \"Sweep1\",\n",
    "            \"type\": \"interpolation\",\n",
    "            \"frequencies\": [{\"distribution\": \"log_scale\", \"start\": 1e6, \"stop\": 1e9, \"increment\": 20}],\n",
    "        }\n",
    "    ],\n",
    "}"
   ]
  },
  {
   "cell_type": "markdown",
   "id": "d7ead130",
   "metadata": {},
   "source": [
    "## Add setups in configuration"
   ]
  },
  {
   "cell_type": "code",
   "execution_count": 7,
   "id": "f1e164d5",
   "metadata": {
    "execution": {
     "iopub.execute_input": "2025-01-28T16:18:54.553717Z",
     "iopub.status.busy": "2025-01-28T16:18:54.553717Z",
     "iopub.status.idle": "2025-01-28T16:18:54.569411Z",
     "shell.execute_reply": "2025-01-28T16:18:54.569411Z"
    }
   },
   "outputs": [],
   "source": [
    "cfg[\"setups\"] = [siwave_setup, hfss_setup]"
   ]
  },
  {
   "cell_type": "markdown",
   "id": "6ddc381f",
   "metadata": {},
   "source": [
    "## Write configuration into as json file"
   ]
  },
  {
   "cell_type": "code",
   "execution_count": 8,
   "id": "c1f750ea",
   "metadata": {
    "execution": {
     "iopub.execute_input": "2025-01-28T16:18:54.569411Z",
     "iopub.status.busy": "2025-01-28T16:18:54.569411Z",
     "iopub.status.idle": "2025-01-28T16:18:54.585036Z",
     "shell.execute_reply": "2025-01-28T16:18:54.585036Z"
    }
   },
   "outputs": [],
   "source": [
    "file_json = Path(temp_folder.name) / \"edb_configuration.json\"\n",
    "with open(file_json, \"w\") as f:\n",
    "    json.dump(cfg, f, indent=4, ensure_ascii=False)"
   ]
  },
  {
   "cell_type": "markdown",
   "id": "0b73bd14",
   "metadata": {},
   "source": [
    "## Import configuration into example layout"
   ]
  },
  {
   "cell_type": "code",
   "execution_count": 9,
   "id": "6da56eb5",
   "metadata": {
    "execution": {
     "iopub.execute_input": "2025-01-28T16:18:54.585036Z",
     "iopub.status.busy": "2025-01-28T16:18:54.585036Z",
     "iopub.status.idle": "2025-01-28T16:18:55.522903Z",
     "shell.execute_reply": "2025-01-28T16:18:55.522903Z"
    }
   },
   "outputs": [
    {
     "data": {
      "text/plain": [
       "True"
      ]
     },
     "execution_count": 9,
     "metadata": {},
     "output_type": "execute_result"
    }
   ],
   "source": [
    "edbapp.configuration.load(config_file=file_json)\n",
    "edbapp.configuration.run()"
   ]
  },
  {
   "cell_type": "markdown",
   "id": "5021670e",
   "metadata": {},
   "source": [
    "## Review"
   ]
  },
  {
   "cell_type": "code",
   "execution_count": 10,
   "id": "f2ff36f2",
   "metadata": {
    "execution": {
     "iopub.execute_input": "2025-01-28T16:18:55.522903Z",
     "iopub.status.busy": "2025-01-28T16:18:55.522903Z",
     "iopub.status.idle": "2025-01-28T16:18:55.538525Z",
     "shell.execute_reply": "2025-01-28T16:18:55.538525Z"
    }
   },
   "outputs": [
    {
     "data": {
      "text/plain": [
       "{'hfss_1': <pyedb.dotnet.edb_core.utilities.hfss_simulation_setup.HfssSimulationSetup at 0x1eae0645cf0>,\n",
       " 'siwave_1': <pyedb.dotnet.edb_core.utilities.siwave_simulation_setup.SiwaveSimulationSetup at 0x1eaa795b940>}"
      ]
     },
     "execution_count": 10,
     "metadata": {},
     "output_type": "execute_result"
    }
   ],
   "source": [
    "edbapp.setups"
   ]
  },
  {
   "cell_type": "markdown",
   "id": "b57ce536",
   "metadata": {},
   "source": [
    "## Save and close Edb\n",
    "The temporary folder will be deleted once the execution of this script is finished. Replace **edbapp.save()** with\n",
    "**edbapp.save_as(\"C:/example.aedb\")** to keep the example project."
   ]
  },
  {
   "cell_type": "code",
   "execution_count": 11,
   "id": "8bb2f94d",
   "metadata": {
    "execution": {
     "iopub.execute_input": "2025-01-28T16:18:55.538525Z",
     "iopub.status.busy": "2025-01-28T16:18:55.538525Z",
     "iopub.status.idle": "2025-01-28T16:18:55.757339Z",
     "shell.execute_reply": "2025-01-28T16:18:55.757339Z"
    }
   },
   "outputs": [
    {
     "data": {
      "text/plain": [
       "True"
      ]
     },
     "execution_count": 11,
     "metadata": {},
     "output_type": "execute_result"
    }
   ],
   "source": [
    "edbapp.save()\n",
    "edbapp.close()"
   ]
  }
 ],
 "metadata": {
  "jupytext": {
   "cell_metadata_filter": "-all",
   "main_language": "python",
   "notebook_metadata_filter": "-all",
   "text_representation": {
    "extension": ".py",
    "format_name": "light"
   }
  },
  "language_info": {
   "codemirror_mode": {
    "name": "ipython",
    "version": 3
   },
   "file_extension": ".py",
   "mimetype": "text/x-python",
   "name": "python",
   "nbconvert_exporter": "python",
   "pygments_lexer": "ipython3",
   "version": "3.10.11"
  }
 },
 "nbformat": 4,
 "nbformat_minor": 5
}
