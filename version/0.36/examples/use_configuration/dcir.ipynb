{
 "cells": [
  {
   "cell_type": "markdown",
   "id": "f232c747",
   "metadata": {},
   "source": [
    "# DCIR Setup Leveraging EDB Configuration Format"
   ]
  },
  {
   "cell_type": "markdown",
   "id": "aa7636ca",
   "metadata": {},
   "source": [
    "## Import the required packages"
   ]
  },
  {
   "cell_type": "code",
   "execution_count": 1,
   "id": "d4969c31",
   "metadata": {
    "execution": {
     "iopub.execute_input": "2025-01-28T16:15:39.133734Z",
     "iopub.status.busy": "2025-01-28T16:15:39.133734Z",
     "iopub.status.idle": "2025-01-28T16:15:39.649293Z",
     "shell.execute_reply": "2025-01-28T16:15:39.649293Z"
    }
   },
   "outputs": [],
   "source": [
    "import json\n",
    "import os\n",
    "import tempfile\n",
    "\n",
    "from ansys.aedt.core import Hfss3dLayout\n",
    "from ansys.aedt.core.downloads import download_file\n",
    "\n",
    "from pyedb import Edb\n",
    "\n",
    "AEDT_VERSION = \"2024.2\"\n",
    "NG_MODE = False"
   ]
  },
  {
   "cell_type": "markdown",
   "id": "b5ee0a2e",
   "metadata": {},
   "source": [
    "Download the example BGA Package design."
   ]
  },
  {
   "cell_type": "code",
   "execution_count": 2,
   "id": "4640771a",
   "metadata": {
    "execution": {
     "iopub.execute_input": "2025-01-28T16:15:39.649293Z",
     "iopub.status.busy": "2025-01-28T16:15:39.649293Z",
     "iopub.status.idle": "2025-01-28T16:15:40.761690Z",
     "shell.execute_reply": "2025-01-28T16:15:40.761690Z"
    }
   },
   "outputs": [],
   "source": [
    "temp_folder = tempfile.TemporaryDirectory(suffix=\".ansys\")\n",
    "file_edb = download_file(source=r\"edb/BGA_Package.aedb\", destination=temp_folder.name)"
   ]
  },
  {
   "cell_type": "markdown",
   "id": "7e5d287b",
   "metadata": {},
   "source": [
    "## Load example layout"
   ]
  },
  {
   "cell_type": "code",
   "execution_count": 3,
   "id": "ace8a55a",
   "metadata": {
    "execution": {
     "iopub.execute_input": "2025-01-28T16:15:40.761690Z",
     "iopub.status.busy": "2025-01-28T16:15:40.761690Z",
     "iopub.status.idle": "2025-01-28T16:15:53.412670Z",
     "shell.execute_reply": "2025-01-28T16:15:53.412670Z"
    }
   },
   "outputs": [
    {
     "name": "stdout",
     "output_type": "stream",
     "text": [
      "PyAEDT INFO: Logger is initialized in EDB.\n"
     ]
    },
    {
     "name": "stdout",
     "output_type": "stream",
     "text": [
      "PyAEDT INFO: legacy v0.36.0\n"
     ]
    },
    {
     "name": "stdout",
     "output_type": "stream",
     "text": [
      "PyAEDT INFO: Python version 3.10.11 (tags/v3.10.11:7d4cc5a, Apr  5 2023, 00:38:17) [MSC v.1929 64 bit (AMD64)]\n"
     ]
    },
    {
     "name": "stdout",
     "output_type": "stream",
     "text": [
      "PyAEDT INFO: Database BGA_Package.aedb Opened in 2024.2\n"
     ]
    },
    {
     "name": "stdout",
     "output_type": "stream",
     "text": [
      "PyAEDT INFO: Cell BGA_Package Opened\n"
     ]
    },
    {
     "name": "stdout",
     "output_type": "stream",
     "text": [
      "PyAEDT INFO: Builder was initialized.\n"
     ]
    },
    {
     "name": "stdout",
     "output_type": "stream",
     "text": [
      "PyAEDT INFO: EDB initialized.\n"
     ]
    }
   ],
   "source": [
    "edbapp = Edb(file_edb, edbversion=AEDT_VERSION)"
   ]
  },
  {
   "cell_type": "markdown",
   "id": "705eda2a",
   "metadata": {},
   "source": [
    "## Create config file"
   ]
  },
  {
   "cell_type": "markdown",
   "id": "0f2c2746",
   "metadata": {},
   "source": [
    "Define Component with solderballs."
   ]
  },
  {
   "cell_type": "code",
   "execution_count": 4,
   "id": "60fb5ccb",
   "metadata": {
    "execution": {
     "iopub.execute_input": "2025-01-28T16:15:53.412670Z",
     "iopub.status.busy": "2025-01-28T16:15:53.412670Z",
     "iopub.status.idle": "2025-01-28T16:15:53.428296Z",
     "shell.execute_reply": "2025-01-28T16:15:53.428296Z"
    }
   },
   "outputs": [],
   "source": [
    "cfg_components = [\n",
    "    {\n",
    "        \"reference_designator\": \"FCHIP\",\n",
    "        \"part_type\": \"other\",\n",
    "        \"solder_ball_properties\": {\n",
    "            \"shape\": \"cylinder\",\n",
    "            \"diameter\": \"0.1mm\",\n",
    "            \"height\": \"0.085mm\",\n",
    "            \"chip_orientation\": \"chip_up\",\n",
    "        },\n",
    "        \"port_properties\": {\n",
    "            \"reference_offset\": 0,\n",
    "            \"reference_size_auto\": False,\n",
    "            \"reference_size_x\": 0,\n",
    "            \"reference_size_y\": 0,\n",
    "        },\n",
    "    },\n",
    "    {\n",
    "        \"reference_designator\": \"BGA\",\n",
    "        \"part_type\": \"io\",\n",
    "        \"solder_ball_properties\": {\n",
    "            \"shape\": \"cylinder\",\n",
    "            \"diameter\": \"0.45mm\",\n",
    "            \"height\": \"0.45mm\",\n",
    "            \"chip_orientation\": \"chip_down\",\n",
    "        },\n",
    "        \"port_properties\": {\n",
    "            \"reference_offset\": 0,\n",
    "            \"reference_size_auto\": False,\n",
    "            \"reference_size_x\": 0,\n",
    "            \"reference_size_y\": 0,\n",
    "        },\n",
    "    },\n",
    "]"
   ]
  },
  {
   "cell_type": "markdown",
   "id": "f5d7ef82",
   "metadata": {},
   "source": [
    "Define Pin Groups on Components."
   ]
  },
  {
   "cell_type": "code",
   "execution_count": 5,
   "id": "df49096e",
   "metadata": {
    "execution": {
     "iopub.execute_input": "2025-01-28T16:15:53.428296Z",
     "iopub.status.busy": "2025-01-28T16:15:53.428296Z",
     "iopub.status.idle": "2025-01-28T16:15:53.443922Z",
     "shell.execute_reply": "2025-01-28T16:15:53.443922Z"
    }
   },
   "outputs": [],
   "source": [
    "cfg_pin_groups = [\n",
    "    {\"name\": \"BGA_VSS\", \"reference_designator\": \"BGA\", \"net\": \"VSS\"},\n",
    "    {\"name\": \"BGA_VDD\", \"reference_designator\": \"BGA\", \"net\": \"VDD\"},\n",
    "]"
   ]
  },
  {
   "cell_type": "markdown",
   "id": "bffde335",
   "metadata": {},
   "source": [
    "Define sources."
   ]
  },
  {
   "cell_type": "code",
   "execution_count": 6,
   "id": "6e72a034",
   "metadata": {
    "execution": {
     "iopub.execute_input": "2025-01-28T16:15:53.443922Z",
     "iopub.status.busy": "2025-01-28T16:15:53.443922Z",
     "iopub.status.idle": "2025-01-28T16:15:53.459613Z",
     "shell.execute_reply": "2025-01-28T16:15:53.459613Z"
    }
   },
   "outputs": [],
   "source": [
    "cfg_sources = [\n",
    "    {\n",
    "        \"name\": \"FCHIP_Current\",\n",
    "        \"reference_designator\": \"FCHIP\",\n",
    "        \"type\": \"current\",\n",
    "        \"magnitude\": 2,\n",
    "        \"distributed\": True,\n",
    "        \"positive_terminal\": {\"net\": \"VDD\"},\n",
    "        \"negative_terminal\": {\"nearest_pin\": {\"reference_net\": \"VSS\", \"search_radius\": 5e-3}},\n",
    "    },\n",
    "    {\n",
    "        \"name\": \"BGA_Voltage\",\n",
    "        \"reference_designator\": \"BGA\",\n",
    "        \"type\": \"voltage\",\n",
    "        \"magnitude\": 1,\n",
    "        \"positive_terminal\": {\"pin_group\": \"BGA_VDD\"},\n",
    "        \"negative_terminal\": {\"pin_group\": \"BGA_VSS\"},\n",
    "    },\n",
    "]"
   ]
  },
  {
   "cell_type": "markdown",
   "id": "53fea857",
   "metadata": {},
   "source": [
    "Define DCIR setup."
   ]
  },
  {
   "cell_type": "code",
   "execution_count": 7,
   "id": "3472f6cb",
   "metadata": {
    "execution": {
     "iopub.execute_input": "2025-01-28T16:15:53.459613Z",
     "iopub.status.busy": "2025-01-28T16:15:53.459613Z",
     "iopub.status.idle": "2025-01-28T16:15:53.475242Z",
     "shell.execute_reply": "2025-01-28T16:15:53.475242Z"
    }
   },
   "outputs": [],
   "source": [
    "cfg_setups = [\n",
    "    {\n",
    "        \"name\": \"siwave_dc\",\n",
    "        \"type\": \"siwave_dc\",\n",
    "        \"dc_slider_position\": 1,\n",
    "        \"dc_ir_settings\": {\"export_dc_thermal_data\": True},\n",
    "    }\n",
    "]"
   ]
  },
  {
   "cell_type": "markdown",
   "id": "db82e79d",
   "metadata": {},
   "source": [
    "Create final configuration."
   ]
  },
  {
   "cell_type": "code",
   "execution_count": 8,
   "id": "dab1d26e",
   "metadata": {
    "execution": {
     "iopub.execute_input": "2025-01-28T16:15:53.475242Z",
     "iopub.status.busy": "2025-01-28T16:15:53.475242Z",
     "iopub.status.idle": "2025-01-28T16:15:53.490847Z",
     "shell.execute_reply": "2025-01-28T16:15:53.490847Z"
    }
   },
   "outputs": [],
   "source": [
    "cfg = {\n",
    "    \"components\": cfg_components,\n",
    "    \"sources\": cfg_sources,\n",
    "    \"pin_groups\": cfg_pin_groups,\n",
    "    \"setups\": cfg_setups,\n",
    "}"
   ]
  },
  {
   "cell_type": "markdown",
   "id": "731c449d",
   "metadata": {},
   "source": [
    "Create the config file."
   ]
  },
  {
   "cell_type": "code",
   "execution_count": 9,
   "id": "0ece1541",
   "metadata": {
    "execution": {
     "iopub.execute_input": "2025-01-28T16:15:53.490847Z",
     "iopub.status.busy": "2025-01-28T16:15:53.490847Z",
     "iopub.status.idle": "2025-01-28T16:15:53.506548Z",
     "shell.execute_reply": "2025-01-28T16:15:53.506548Z"
    }
   },
   "outputs": [],
   "source": [
    "file_json = os.path.join(temp_folder.name, \"edb_configuration.json\")\n",
    "with open(file_json, \"w\") as f:\n",
    "    json.dump(cfg, f, indent=4, ensure_ascii=False)"
   ]
  },
  {
   "cell_type": "markdown",
   "id": "d3f5adec",
   "metadata": {},
   "source": [
    "## Apply Config file"
   ]
  },
  {
   "cell_type": "markdown",
   "id": "b7957f31",
   "metadata": {},
   "source": [
    "Apply configuration to the example layout"
   ]
  },
  {
   "cell_type": "code",
   "execution_count": 10,
   "id": "7dc77fcc",
   "metadata": {
    "execution": {
     "iopub.execute_input": "2025-01-28T16:15:53.506548Z",
     "iopub.status.busy": "2025-01-28T16:15:53.506548Z",
     "iopub.status.idle": "2025-01-28T16:15:58.757273Z",
     "shell.execute_reply": "2025-01-28T16:15:58.757273Z"
    }
   },
   "outputs": [
    {
     "data": {
      "text/plain": [
       "True"
      ]
     },
     "execution_count": 10,
     "metadata": {},
     "output_type": "execute_result"
    }
   ],
   "source": [
    "edbapp.configuration.load(config_file=file_json)\n",
    "edbapp.configuration.run()"
   ]
  },
  {
   "cell_type": "markdown",
   "id": "d6646fdb",
   "metadata": {},
   "source": [
    "Save and close EDB."
   ]
  },
  {
   "cell_type": "code",
   "execution_count": 11,
   "id": "d3a618a9",
   "metadata": {
    "execution": {
     "iopub.execute_input": "2025-01-28T16:15:58.757273Z",
     "iopub.status.busy": "2025-01-28T16:15:58.757273Z",
     "iopub.status.idle": "2025-01-28T16:15:58.835439Z",
     "shell.execute_reply": "2025-01-28T16:15:58.835439Z"
    }
   },
   "outputs": [
    {
     "data": {
      "text/plain": [
       "True"
      ]
     },
     "execution_count": 11,
     "metadata": {},
     "output_type": "execute_result"
    }
   ],
   "source": [
    "edbapp.save()\n",
    "edbapp.close()"
   ]
  },
  {
   "cell_type": "markdown",
   "id": "0fb09434",
   "metadata": {},
   "source": [
    "The configured EDB file is saved in a temp folder."
   ]
  },
  {
   "cell_type": "code",
   "execution_count": 12,
   "id": "2cea98b2",
   "metadata": {
    "execution": {
     "iopub.execute_input": "2025-01-28T16:15:58.835439Z",
     "iopub.status.busy": "2025-01-28T16:15:58.835439Z",
     "iopub.status.idle": "2025-01-28T16:15:58.851026Z",
     "shell.execute_reply": "2025-01-28T16:15:58.851026Z"
    }
   },
   "outputs": [
    {
     "name": "stdout",
     "output_type": "stream",
     "text": [
      "C:\\Users\\ansys\\AppData\\Local\\Temp\\tmpbs8q1o4z.ansys\n"
     ]
    }
   ],
   "source": [
    "print(temp_folder.name)"
   ]
  },
  {
   "cell_type": "markdown",
   "id": "1f3143d9",
   "metadata": {},
   "source": [
    "## Load edb into HFSS 3D Layout."
   ]
  },
  {
   "cell_type": "code",
   "execution_count": 13,
   "id": "12d8ceed",
   "metadata": {
    "execution": {
     "iopub.execute_input": "2025-01-28T16:15:58.851026Z",
     "iopub.status.busy": "2025-01-28T16:15:58.851026Z",
     "iopub.status.idle": "2025-01-28T16:16:32.078045Z",
     "shell.execute_reply": "2025-01-28T16:16:32.078045Z"
    }
   },
   "outputs": [
    {
     "name": "stdout",
     "output_type": "stream",
     "text": [
      "PyAEDT INFO: Python version 3.10.11 (tags/v3.10.11:7d4cc5a, Apr  5 2023, 00:38:17) [MSC v.1929 64 bit (AMD64)]\n"
     ]
    },
    {
     "name": "stdout",
     "output_type": "stream",
     "text": [
      "PyAEDT INFO: PyAEDT version 0.14.dev0.\n"
     ]
    },
    {
     "name": "stdout",
     "output_type": "stream",
     "text": [
      "PyAEDT INFO: Initializing new Desktop session.\n"
     ]
    },
    {
     "name": "stdout",
     "output_type": "stream",
     "text": [
      "PyAEDT INFO: Log on console is enabled.\n"
     ]
    },
    {
     "name": "stdout",
     "output_type": "stream",
     "text": [
      "PyAEDT INFO: Log on file C:\\Users\\ansys\\AppData\\Local\\Temp\\pyaedt_ansys_d2ee6526-a93b-41dc-88b5-2e7a86d37dfb.log is enabled.\n"
     ]
    },
    {
     "name": "stdout",
     "output_type": "stream",
     "text": [
      "PyAEDT INFO: Log on AEDT is enabled.\n"
     ]
    },
    {
     "name": "stdout",
     "output_type": "stream",
     "text": [
      "PyAEDT INFO: Debug logger is disabled. PyAEDT methods will not be logged.\n"
     ]
    },
    {
     "name": "stdout",
     "output_type": "stream",
     "text": [
      "PyAEDT INFO: Launching PyAEDT with gRPC plugin.\n"
     ]
    },
    {
     "name": "stdout",
     "output_type": "stream",
     "text": [
      "PyAEDT INFO: New AEDT session is starting on gRPC port 52520\n"
     ]
    },
    {
     "name": "stdout",
     "output_type": "stream",
     "text": [
      "PyAEDT INFO: AEDT installation Path C:\\Program Files\\AnsysEM\\v242\\Win64\n"
     ]
    },
    {
     "name": "stdout",
     "output_type": "stream",
     "text": [
      "PyAEDT INFO: Ansoft.ElectronicsDesktop.2024.2 version started with process ID 12040.\n"
     ]
    },
    {
     "name": "stdout",
     "output_type": "stream",
     "text": [
      "PyAEDT INFO: EDB folder C:\\Users\\ansys\\AppData\\Local\\Temp\\tmpbs8q1o4z.ansys\\edb/BGA_Package.aedb has been imported to project BGA_Package\n"
     ]
    },
    {
     "name": "stdout",
     "output_type": "stream",
     "text": [
      "PyAEDT INFO: Active Design set to 0;BGA_Package\n"
     ]
    },
    {
     "name": "stdout",
     "output_type": "stream",
     "text": [
      "PyAEDT INFO: Aedt Objects correctly read\n"
     ]
    }
   ],
   "source": [
    "h3d = Hfss3dLayout(edbapp.edbpath, version=AEDT_VERSION, non_graphical=NG_MODE, new_desktop=True)"
   ]
  },
  {
   "cell_type": "markdown",
   "id": "7e148914",
   "metadata": {},
   "source": [
    "Solve."
   ]
  },
  {
   "cell_type": "code",
   "execution_count": 14,
   "id": "afb9384d",
   "metadata": {
    "execution": {
     "iopub.execute_input": "2025-01-28T16:16:32.078045Z",
     "iopub.status.busy": "2025-01-28T16:16:32.078045Z",
     "iopub.status.idle": "2025-01-28T16:16:56.930955Z",
     "shell.execute_reply": "2025-01-28T16:16:56.929901Z"
    }
   },
   "outputs": [
    {
     "name": "stdout",
     "output_type": "stream",
     "text": [
      "PyAEDT INFO: Key Desktop/ActiveDSOConfigurations/HFSS 3D Layout Design correctly changed.\n"
     ]
    },
    {
     "name": "stdout",
     "output_type": "stream",
     "text": [
      "PyAEDT INFO: Solving design setup siwave_dc\n"
     ]
    },
    {
     "name": "stdout",
     "output_type": "stream",
     "text": [
      "PyAEDT INFO: Key Desktop/ActiveDSOConfigurations/HFSS 3D Layout Design correctly changed.\n"
     ]
    },
    {
     "name": "stdout",
     "output_type": "stream",
     "text": [
      "PyAEDT INFO: Design setup siwave_dc solved correctly in 0.0h 0.0m 25.0s\n"
     ]
    },
    {
     "data": {
      "text/plain": [
       "True"
      ]
     },
     "execution_count": 14,
     "metadata": {},
     "output_type": "execute_result"
    }
   ],
   "source": [
    "h3d.analyze(setup=\"siwave_dc\")"
   ]
  },
  {
   "cell_type": "markdown",
   "id": "9ef73316",
   "metadata": {},
   "source": [
    "Plot insertion loss."
   ]
  },
  {
   "cell_type": "code",
   "execution_count": 15,
   "id": "56017b51",
   "metadata": {
    "execution": {
     "iopub.execute_input": "2025-01-28T16:16:56.930955Z",
     "iopub.status.busy": "2025-01-28T16:16:56.930955Z",
     "iopub.status.idle": "2025-01-28T16:16:57.594279Z",
     "shell.execute_reply": "2025-01-28T16:16:57.593276Z"
    }
   },
   "outputs": [
    {
     "name": "stdout",
     "output_type": "stream",
     "text": [
      "PyAEDT INFO: Parsing C:/Users/ansys/AppData/Local/Temp/tmpbs8q1o4z.ansys/edb/BGA_Package.aedt.\n"
     ]
    },
    {
     "name": "stdout",
     "output_type": "stream",
     "text": [
      "PyAEDT INFO: File C:/Users/ansys/AppData/Local/Temp/tmpbs8q1o4z.ansys/edb/BGA_Package.aedt correctly loaded. Elapsed time: 0m 0sec\n"
     ]
    },
    {
     "name": "stdout",
     "output_type": "stream",
     "text": [
      "PyAEDT INFO: aedt file load time 0.0313105583190918\n"
     ]
    },
    {
     "name": "stdout",
     "output_type": "stream",
     "text": [
      "PyAEDT INFO: PostProcessor class has been initialized! Elapsed time: 0m 0sec\n"
     ]
    },
    {
     "name": "stdout",
     "output_type": "stream",
     "text": [
      "PyAEDT INFO: Post class has been initialized! Elapsed time: 0m 0sec\n"
     ]
    },
    {
     "name": "stdout",
     "output_type": "stream",
     "text": [
      "PyAEDT INFO: Loading Modeler.\n"
     ]
    },
    {
     "name": "stdout",
     "output_type": "stream",
     "text": [
      "PyAEDT INFO: Modeler loaded.\n"
     ]
    },
    {
     "name": "stdout",
     "output_type": "stream",
     "text": [
      "PyAEDT INFO: EDB loaded.\n"
     ]
    },
    {
     "name": "stdout",
     "output_type": "stream",
     "text": [
      "PyAEDT INFO: Layers loaded.\n"
     ]
    },
    {
     "name": "stdout",
     "output_type": "stream",
     "text": [
      "PyAEDT INFO: Primitives loaded.\n"
     ]
    },
    {
     "name": "stdout",
     "output_type": "stream",
     "text": [
      "PyAEDT INFO: Modeler class has been initialized! Elapsed time: 0m 0sec\n"
     ]
    },
    {
     "name": "stdout",
     "output_type": "stream",
     "text": [
      "PyAEDT INFO: Logger is initialized in EDB.\n"
     ]
    },
    {
     "name": "stdout",
     "output_type": "stream",
     "text": [
      "PyAEDT INFO: legacy v0.36.0\n"
     ]
    },
    {
     "name": "stdout",
     "output_type": "stream",
     "text": [
      "PyAEDT INFO: Python version 3.10.11 (tags/v3.10.11:7d4cc5a, Apr  5 2023, 00:38:17) [MSC v.1929 64 bit (AMD64)]\n"
     ]
    },
    {
     "name": "stdout",
     "output_type": "stream",
     "text": [
      "PyAEDT INFO: Database BGA_Package.aedb Opened in 2024.2\n"
     ]
    },
    {
     "name": "stdout",
     "output_type": "stream",
     "text": [
      "PyAEDT INFO: Cell BGA_Package Opened\n"
     ]
    },
    {
     "name": "stdout",
     "output_type": "stream",
     "text": [
      "PyAEDT INFO: Builder was initialized.\n"
     ]
    },
    {
     "name": "stdout",
     "output_type": "stream",
     "text": [
      "PyAEDT INFO: EDB initialized.\n"
     ]
    },
    {
     "data": {
      "text/plain": [
       "<ansys.aedt.core.visualization.post.field_data.FieldPlot at 0x1b62aa6efe0>"
      ]
     },
     "execution_count": 15,
     "metadata": {},
     "output_type": "execute_result"
    }
   ],
   "source": [
    "h3d.post.create_fieldplot_layers_nets(layers_nets=[[\"VDD_C1\", \"VDD\"]], quantity=\"Voltage\", setup=\"siwave_dc\")"
   ]
  },
  {
   "cell_type": "markdown",
   "id": "dd33b32b",
   "metadata": {},
   "source": [
    "Shut Down Electronics Desktop"
   ]
  },
  {
   "cell_type": "code",
   "execution_count": 16,
   "id": "6d0479d7",
   "metadata": {
    "execution": {
     "iopub.execute_input": "2025-01-28T16:16:57.594279Z",
     "iopub.status.busy": "2025-01-28T16:16:57.594279Z",
     "iopub.status.idle": "2025-01-28T16:17:01.112786Z",
     "shell.execute_reply": "2025-01-28T16:17:01.112786Z"
    }
   },
   "outputs": [
    {
     "name": "stdout",
     "output_type": "stream",
     "text": [
      "PyAEDT INFO: Desktop has been released and closed.\n"
     ]
    },
    {
     "data": {
      "text/plain": [
       "True"
      ]
     },
     "execution_count": 16,
     "metadata": {},
     "output_type": "execute_result"
    }
   ],
   "source": [
    "h3d.close_desktop()"
   ]
  },
  {
   "cell_type": "markdown",
   "id": "28f659ee",
   "metadata": {},
   "source": [
    "All project files are saved in the folder ``temp_file.dir``. If you've run this example as a Jupyter notebook you\n",
    "can retrieve those project files."
   ]
  }
 ],
 "metadata": {
  "jupytext": {
   "cell_metadata_filter": "-all",
   "main_language": "python",
   "notebook_metadata_filter": "-all",
   "text_representation": {
    "extension": ".py",
    "format_name": "light"
   }
  },
  "language_info": {
   "codemirror_mode": {
    "name": "ipython",
    "version": 3
   },
   "file_extension": ".py",
   "mimetype": "text/x-python",
   "name": "python",
   "nbconvert_exporter": "python",
   "pygments_lexer": "ipython3",
   "version": "3.10.11"
  }
 },
 "nbformat": 4,
 "nbformat_minor": 5
}
