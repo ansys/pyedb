{
 "cells": [
  {
   "cell_type": "markdown",
   "id": "cb6d02a7",
   "metadata": {},
   "source": [
    "# Import Padstack Definitions\n",
    "This example shows how to import padstack definitions. This includes\n",
    "\n",
    "- Download an example board\n",
    "- Create a config file with hole information\n",
    "- Create a config file with pad and anti-pad information"
   ]
  },
  {
   "cell_type": "markdown",
   "id": "3d66a67a",
   "metadata": {},
   "source": [
    "## Import the required packages"
   ]
  },
  {
   "cell_type": "code",
   "execution_count": 1,
   "id": "fce15196",
   "metadata": {
    "execution": {
     "iopub.execute_input": "2025-01-28T16:17:55.086892Z",
     "iopub.status.busy": "2025-01-28T16:17:55.086892Z",
     "iopub.status.idle": "2025-01-28T16:17:56.071286Z",
     "shell.execute_reply": "2025-01-28T16:17:56.071286Z"
    }
   },
   "outputs": [],
   "source": [
    "import json\n",
    "from pathlib import Path\n",
    "import tempfile\n",
    "\n",
    "from IPython.display import display\n",
    "from ansys.aedt.core.downloads import download_file\n",
    "import pandas as pd\n",
    "\n",
    "from pyedb import Edb\n",
    "\n",
    "AEDT_VERSION = \"2024.2\"\n"
   ]
  },
  {
   "cell_type": "markdown",
   "id": "f660d6c5",
   "metadata": {},
   "source": [
    "Download the example PCB data."
   ]
  },
  {
   "cell_type": "code",
   "execution_count": 2,
   "id": "56c277f3",
   "metadata": {
    "execution": {
     "iopub.execute_input": "2025-01-28T16:17:56.071286Z",
     "iopub.status.busy": "2025-01-28T16:17:56.071286Z",
     "iopub.status.idle": "2025-01-28T16:17:57.463001Z",
     "shell.execute_reply": "2025-01-28T16:17:57.463001Z"
    }
   },
   "outputs": [],
   "source": [
    "temp_folder = tempfile.TemporaryDirectory(suffix=\".ansys\").name\n",
    "file_edb = download_file(source=\"edb/ANSYS-HSD_V1.aedb\", destination=temp_folder)"
   ]
  },
  {
   "cell_type": "markdown",
   "id": "b299a2d9",
   "metadata": {},
   "source": [
    "## Load example layout."
   ]
  },
  {
   "cell_type": "code",
   "execution_count": 3,
   "id": "0313b31e",
   "metadata": {
    "execution": {
     "iopub.execute_input": "2025-01-28T16:17:57.463001Z",
     "iopub.status.busy": "2025-01-28T16:17:57.463001Z",
     "iopub.status.idle": "2025-01-28T16:18:09.971456Z",
     "shell.execute_reply": "2025-01-28T16:18:09.971456Z"
    }
   },
   "outputs": [
    {
     "name": "stdout",
     "output_type": "stream",
     "text": [
      "PyAEDT INFO: Logger is initialized in EDB.\n"
     ]
    },
    {
     "name": "stdout",
     "output_type": "stream",
     "text": [
      "PyAEDT INFO: legacy v0.36.0\n"
     ]
    },
    {
     "name": "stdout",
     "output_type": "stream",
     "text": [
      "PyAEDT INFO: Python version 3.10.11 (tags/v3.10.11:7d4cc5a, Apr  5 2023, 00:38:17) [MSC v.1929 64 bit (AMD64)]\n"
     ]
    },
    {
     "name": "stdout",
     "output_type": "stream",
     "text": [
      "PyAEDT INFO: Database ANSYS-HSD_V1.aedb Opened in 2024.2\n"
     ]
    },
    {
     "name": "stdout",
     "output_type": "stream",
     "text": [
      "PyAEDT INFO: Cell main Opened\n"
     ]
    },
    {
     "name": "stdout",
     "output_type": "stream",
     "text": [
      "PyAEDT INFO: Builder was initialized.\n"
     ]
    },
    {
     "name": "stdout",
     "output_type": "stream",
     "text": [
      "PyAEDT INFO: EDB initialized.\n"
     ]
    }
   ],
   "source": [
    "edbapp = Edb(file_edb, edbversion=AEDT_VERSION)"
   ]
  },
  {
   "cell_type": "markdown",
   "id": "a3b462be",
   "metadata": {},
   "source": [
    "## Create a config file with hole information"
   ]
  },
  {
   "cell_type": "markdown",
   "id": "f0809485",
   "metadata": {},
   "source": [
    "Keywords\n",
    "\n",
    "- **name**. Name of the padstack definition.\n",
    "- **hole_plating_thickness**. Hole plating thickness.\n",
    "- **hole_range**. Supported types are 'through', 'begin_on_upper_pad', 'end_on_lower_pad', 'upper_pad_to_lower_pad'.\n",
    "- **hole_parameters**.\n",
    "  - **shape**. Supported types are 'circle', 'square', 'rectangle'.\n",
    "  - Other parameters are shape dependent.\n",
    "    - When shape is 'circle', supported parameter si 'diameter'.\n",
    "    - When shape is 'square', supported parameter is 'size'.\n",
    "    - When shape is 'rectangle', supported parameters are 'x_size', 'y_size'."
   ]
  },
  {
   "cell_type": "code",
   "execution_count": 4,
   "id": "68c3595e",
   "metadata": {
    "execution": {
     "iopub.execute_input": "2025-01-28T16:18:09.971456Z",
     "iopub.status.busy": "2025-01-28T16:18:09.971456Z",
     "iopub.status.idle": "2025-01-28T16:18:09.987055Z",
     "shell.execute_reply": "2025-01-28T16:18:09.987055Z"
    }
   },
   "outputs": [],
   "source": [
    "cfg = dict()\n",
    "cfg[\"padstacks\"] = {}\n",
    "cfg[\"padstacks\"][\"definitions\"] = [\n",
    "    {\n",
    "        \"name\": \"v35h15\",\n",
    "        \"hole_plating_thickness\": \"25um\",\n",
    "        \"material\": \"copper\",\n",
    "        \"hole_range\": \"through\",\n",
    "        \"hole_parameters\": {\n",
    "            \"shape\": \"circle\",\n",
    "            \"diameter\": \"0.15mm\",\n",
    "        },\n",
    "    }\n",
    "]"
   ]
  },
  {
   "cell_type": "code",
   "execution_count": 5,
   "id": "b90fff46",
   "metadata": {
    "execution": {
     "iopub.execute_input": "2025-01-28T16:18:09.987055Z",
     "iopub.status.busy": "2025-01-28T16:18:09.987055Z",
     "iopub.status.idle": "2025-01-28T16:18:10.018306Z",
     "shell.execute_reply": "2025-01-28T16:18:10.018306Z"
    }
   },
   "outputs": [
    {
     "data": {
      "text/html": [
       "<div>\n",
       "<style scoped>\n",
       "    .dataframe tbody tr th:only-of-type {\n",
       "        vertical-align: middle;\n",
       "    }\n",
       "\n",
       "    .dataframe tbody tr th {\n",
       "        vertical-align: top;\n",
       "    }\n",
       "\n",
       "    .dataframe thead th {\n",
       "        text-align: right;\n",
       "    }\n",
       "</style>\n",
       "<table border=\"1\" class=\"dataframe\">\n",
       "  <thead>\n",
       "    <tr style=\"text-align: right;\">\n",
       "      <th></th>\n",
       "      <th>name</th>\n",
       "      <th>hole_plating_thickness</th>\n",
       "      <th>material</th>\n",
       "      <th>hole_range</th>\n",
       "      <th>hole_parameters</th>\n",
       "    </tr>\n",
       "  </thead>\n",
       "  <tbody>\n",
       "    <tr>\n",
       "      <th>0</th>\n",
       "      <td>v35h15</td>\n",
       "      <td>25um</td>\n",
       "      <td>copper</td>\n",
       "      <td>through</td>\n",
       "      <td>{'shape': 'circle', 'diameter': '0.15mm'}</td>\n",
       "    </tr>\n",
       "  </tbody>\n",
       "</table>\n",
       "</div>"
      ],
      "text/plain": [
       "     name hole_plating_thickness material hole_range  \\\n",
       "0  v35h15                   25um   copper    through   \n",
       "\n",
       "                             hole_parameters  \n",
       "0  {'shape': 'circle', 'diameter': '0.15mm'}  "
      ]
     },
     "metadata": {},
     "output_type": "display_data"
    }
   ],
   "source": [
    "df = pd.DataFrame(data=cfg[\"padstacks\"][\"definitions\"])\n",
    "display(df)"
   ]
  },
  {
   "cell_type": "code",
   "execution_count": 6,
   "id": "5405d53c",
   "metadata": {
    "execution": {
     "iopub.execute_input": "2025-01-28T16:18:10.018306Z",
     "iopub.status.busy": "2025-01-28T16:18:10.018306Z",
     "iopub.status.idle": "2025-01-28T16:18:10.033976Z",
     "shell.execute_reply": "2025-01-28T16:18:10.033976Z"
    }
   },
   "outputs": [],
   "source": [
    "cfg_file_path = Path(temp_folder) / \"cfg.json\"\n",
    "with open(cfg_file_path, \"w\") as f:\n",
    "    json.dump(cfg, f, indent=4, ensure_ascii=False)"
   ]
  },
  {
   "cell_type": "markdown",
   "id": "a17a684d",
   "metadata": {},
   "source": [
    "Load config file"
   ]
  },
  {
   "cell_type": "code",
   "execution_count": 7,
   "id": "8cf7caa7",
   "metadata": {
    "execution": {
     "iopub.execute_input": "2025-01-28T16:18:10.033976Z",
     "iopub.status.busy": "2025-01-28T16:18:10.033976Z",
     "iopub.status.idle": "2025-01-28T16:18:11.705833Z",
     "shell.execute_reply": "2025-01-28T16:18:11.705833Z"
    }
   },
   "outputs": [
    {
     "data": {
      "text/plain": [
       "<pyedb.configuration.cfg_data.CfgData at 0x2e3cbab7f70>"
      ]
     },
     "execution_count": 7,
     "metadata": {},
     "output_type": "execute_result"
    }
   ],
   "source": [
    "edbapp.configuration.load(cfg_file_path, apply_file=True)"
   ]
  },
  {
   "cell_type": "markdown",
   "id": "4cf09176",
   "metadata": {},
   "source": [
    "## Create a config file with pad information"
   ]
  },
  {
   "cell_type": "markdown",
   "id": "58272c5c",
   "metadata": {},
   "source": [
    "Keywords\n",
    "\n",
    "- **name**. Name of the padstack definition.\n",
    "- **pad_parameters**.\n",
    "  - **regular_pad**. List of pad definition per layer.\n",
    "    - **layer_name**. Name of the layer.\n",
    "    - **shape**. Supported types are 'circle', 'square', 'rectangle', 'oval', 'bullet'.\n",
    "    - Other parameters are shape dependent.\n",
    "      - When shape is 'circle', supported parameter si 'diameter'.\n",
    "      - When shape is 'square', supported parameter is 'size'.\n",
    "      - When shape is 'rectangle', supported parameters are 'x_size', 'y_size'.\n",
    "      - When shape is 'oval', supported parameters are 'x_size', 'y_size', 'corner_radius'.\n",
    "      - When shape is 'bullet', supported parameters are 'x_size', 'y_size', 'corner_radius'."
   ]
  },
  {
   "cell_type": "code",
   "execution_count": 8,
   "id": "e56a6c11",
   "metadata": {
    "execution": {
     "iopub.execute_input": "2025-01-28T16:18:11.705833Z",
     "iopub.status.busy": "2025-01-28T16:18:11.705833Z",
     "iopub.status.idle": "2025-01-28T16:18:11.721457Z",
     "shell.execute_reply": "2025-01-28T16:18:11.721457Z"
    }
   },
   "outputs": [],
   "source": [
    "cfg = dict()\n",
    "cfg[\"padstacks\"] = {}\n",
    "cfg[\"padstacks\"][\"definitions\"] = [\n",
    "    {\n",
    "        \"name\": \"v35h15\",\n",
    "        \"pad_parameters\": {\n",
    "            \"regular_pad\": [\n",
    "                {\n",
    "                    \"layer_name\": \"1_Top\",\n",
    "                    \"shape\": \"circle\",\n",
    "                    \"offset_x\": \"0.1mm\",\n",
    "                    \"offset_y\": \"0.1mm\",\n",
    "                    \"rotation\": \"0\",\n",
    "                    \"diameter\": \"0.5mm\",\n",
    "                },\n",
    "                {\n",
    "                    \"layer_name\": \"Inner1(GND1)\",\n",
    "                    \"shape\": \"square\",\n",
    "                    \"offset_x\": \"0.1mm\",\n",
    "                    \"offset_y\": \"0.1mm\",\n",
    "                    \"rotation\": \"45deg\",\n",
    "                    \"size\": \"0.5mm\",\n",
    "                },\n",
    "            ],\n",
    "            \"anti_pad\": [{\"layer_name\": \"1_Top\", \"shape\": \"circle\", \"diameter\": \"1mm\"}],\n",
    "        },\n",
    "    }\n",
    "]"
   ]
  },
  {
   "cell_type": "code",
   "execution_count": 9,
   "id": "691566a9",
   "metadata": {
    "execution": {
     "iopub.execute_input": "2025-01-28T16:18:11.721457Z",
     "iopub.status.busy": "2025-01-28T16:18:11.721457Z",
     "iopub.status.idle": "2025-01-28T16:18:11.737026Z",
     "shell.execute_reply": "2025-01-28T16:18:11.737026Z"
    }
   },
   "outputs": [
    {
     "data": {
      "text/html": [
       "<div>\n",
       "<style scoped>\n",
       "    .dataframe tbody tr th:only-of-type {\n",
       "        vertical-align: middle;\n",
       "    }\n",
       "\n",
       "    .dataframe tbody tr th {\n",
       "        vertical-align: top;\n",
       "    }\n",
       "\n",
       "    .dataframe thead th {\n",
       "        text-align: right;\n",
       "    }\n",
       "</style>\n",
       "<table border=\"1\" class=\"dataframe\">\n",
       "  <thead>\n",
       "    <tr style=\"text-align: right;\">\n",
       "      <th></th>\n",
       "      <th>layer_name</th>\n",
       "      <th>shape</th>\n",
       "      <th>offset_x</th>\n",
       "      <th>offset_y</th>\n",
       "      <th>rotation</th>\n",
       "      <th>diameter</th>\n",
       "      <th>size</th>\n",
       "    </tr>\n",
       "  </thead>\n",
       "  <tbody>\n",
       "    <tr>\n",
       "      <th>0</th>\n",
       "      <td>1_Top</td>\n",
       "      <td>circle</td>\n",
       "      <td>0.1mm</td>\n",
       "      <td>0.1mm</td>\n",
       "      <td>0</td>\n",
       "      <td>0.5mm</td>\n",
       "      <td>NaN</td>\n",
       "    </tr>\n",
       "    <tr>\n",
       "      <th>1</th>\n",
       "      <td>Inner1(GND1)</td>\n",
       "      <td>square</td>\n",
       "      <td>0.1mm</td>\n",
       "      <td>0.1mm</td>\n",
       "      <td>45deg</td>\n",
       "      <td>NaN</td>\n",
       "      <td>0.5mm</td>\n",
       "    </tr>\n",
       "  </tbody>\n",
       "</table>\n",
       "</div>"
      ],
      "text/plain": [
       "     layer_name   shape offset_x offset_y rotation diameter   size\n",
       "0         1_Top  circle    0.1mm    0.1mm        0    0.5mm    NaN\n",
       "1  Inner1(GND1)  square    0.1mm    0.1mm    45deg      NaN  0.5mm"
      ]
     },
     "metadata": {},
     "output_type": "display_data"
    }
   ],
   "source": [
    "df = pd.DataFrame(data=cfg[\"padstacks\"][\"definitions\"][0][\"pad_parameters\"][\"regular_pad\"])\n",
    "display(df)"
   ]
  },
  {
   "cell_type": "code",
   "execution_count": 10,
   "id": "e7d8ba7a",
   "metadata": {
    "execution": {
     "iopub.execute_input": "2025-01-28T16:18:11.737026Z",
     "iopub.status.busy": "2025-01-28T16:18:11.737026Z",
     "iopub.status.idle": "2025-01-28T16:18:11.752704Z",
     "shell.execute_reply": "2025-01-28T16:18:11.752704Z"
    }
   },
   "outputs": [
    {
     "data": {
      "text/html": [
       "<div>\n",
       "<style scoped>\n",
       "    .dataframe tbody tr th:only-of-type {\n",
       "        vertical-align: middle;\n",
       "    }\n",
       "\n",
       "    .dataframe tbody tr th {\n",
       "        vertical-align: top;\n",
       "    }\n",
       "\n",
       "    .dataframe thead th {\n",
       "        text-align: right;\n",
       "    }\n",
       "</style>\n",
       "<table border=\"1\" class=\"dataframe\">\n",
       "  <thead>\n",
       "    <tr style=\"text-align: right;\">\n",
       "      <th></th>\n",
       "      <th>layer_name</th>\n",
       "      <th>shape</th>\n",
       "      <th>diameter</th>\n",
       "    </tr>\n",
       "  </thead>\n",
       "  <tbody>\n",
       "    <tr>\n",
       "      <th>0</th>\n",
       "      <td>1_Top</td>\n",
       "      <td>circle</td>\n",
       "      <td>1mm</td>\n",
       "    </tr>\n",
       "  </tbody>\n",
       "</table>\n",
       "</div>"
      ],
      "text/plain": [
       "  layer_name   shape diameter\n",
       "0      1_Top  circle      1mm"
      ]
     },
     "metadata": {},
     "output_type": "display_data"
    }
   ],
   "source": [
    "df = pd.DataFrame(data=cfg[\"padstacks\"][\"definitions\"][0][\"pad_parameters\"][\"anti_pad\"])\n",
    "display(df)"
   ]
  },
  {
   "cell_type": "code",
   "execution_count": 11,
   "id": "5c6a0d12",
   "metadata": {
    "execution": {
     "iopub.execute_input": "2025-01-28T16:18:11.752704Z",
     "iopub.status.busy": "2025-01-28T16:18:11.752704Z",
     "iopub.status.idle": "2025-01-28T16:18:11.768371Z",
     "shell.execute_reply": "2025-01-28T16:18:11.768371Z"
    }
   },
   "outputs": [],
   "source": [
    "cfg_file_path = Path(temp_folder) / \"cfg.json\"\n",
    "with open(cfg_file_path, \"w\") as f:\n",
    "    json.dump(cfg, f, indent=4, ensure_ascii=False)"
   ]
  },
  {
   "cell_type": "markdown",
   "id": "f96eda46",
   "metadata": {},
   "source": [
    "Load config file"
   ]
  },
  {
   "cell_type": "code",
   "execution_count": 12,
   "id": "b6a8ff1d",
   "metadata": {
    "execution": {
     "iopub.execute_input": "2025-01-28T16:18:11.768371Z",
     "iopub.status.busy": "2025-01-28T16:18:11.768371Z",
     "iopub.status.idle": "2025-01-28T16:18:13.143344Z",
     "shell.execute_reply": "2025-01-28T16:18:13.143344Z"
    }
   },
   "outputs": [
    {
     "data": {
      "text/plain": [
       "<pyedb.configuration.cfg_data.CfgData at 0x2e39de8bca0>"
      ]
     },
     "execution_count": 12,
     "metadata": {},
     "output_type": "execute_result"
    }
   ],
   "source": [
    "edbapp.configuration.load(cfg_file_path, apply_file=True)"
   ]
  },
  {
   "cell_type": "markdown",
   "id": "3df144da",
   "metadata": {},
   "source": [
    "## Save and close Edb\n",
    "The temporary folder will be deleted once the execution of this script is finished. Replace edbapp.save() with\n",
    "edbapp.save_as(\"C:/example.aedb\") to keep the example project."
   ]
  },
  {
   "cell_type": "code",
   "execution_count": 13,
   "id": "afb9b451",
   "metadata": {
    "execution": {
     "iopub.execute_input": "2025-01-28T16:18:13.143344Z",
     "iopub.status.busy": "2025-01-28T16:18:13.143344Z",
     "iopub.status.idle": "2025-01-28T16:18:13.362103Z",
     "shell.execute_reply": "2025-01-28T16:18:13.362103Z"
    }
   },
   "outputs": [
    {
     "data": {
      "text/plain": [
       "True"
      ]
     },
     "execution_count": 13,
     "metadata": {},
     "output_type": "execute_result"
    }
   ],
   "source": [
    "edbapp.save()\n",
    "edbapp.close()"
   ]
  }
 ],
 "metadata": {
  "jupytext": {
   "cell_metadata_filter": "-all",
   "main_language": "python",
   "notebook_metadata_filter": "-all",
   "text_representation": {
    "extension": ".py",
    "format_name": "light"
   }
  },
  "language_info": {
   "codemirror_mode": {
    "name": "ipython",
    "version": 3
   },
   "file_extension": ".py",
   "mimetype": "text/x-python",
   "name": "python",
   "nbconvert_exporter": "python",
   "pygments_lexer": "ipython3",
   "version": "3.10.11"
  }
 },
 "nbformat": 4,
 "nbformat_minor": 5
}
