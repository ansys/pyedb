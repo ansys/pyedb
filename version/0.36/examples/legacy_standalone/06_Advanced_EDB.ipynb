{
 "cells": [
  {
   "cell_type": "markdown",
   "id": "d436830f",
   "metadata": {
    "lines_to_next_cell": 2
   },
   "source": [
    "# EDB: parametric via creation\n",
    "\n",
    "This example shows how you can use EDB to create a layout.\n",
    "\n",
    "First import the required Python packages."
   ]
  },
  {
   "cell_type": "code",
   "execution_count": 1,
   "id": "de0a849e",
   "metadata": {
    "execution": {
     "iopub.execute_input": "2025-01-28T16:13:45.456609Z",
     "iopub.status.busy": "2025-01-28T16:13:45.456609Z",
     "iopub.status.idle": "2025-01-28T16:13:45.472175Z",
     "shell.execute_reply": "2025-01-28T16:13:45.472175Z"
    }
   },
   "outputs": [],
   "source": [
    "import os\n",
    "import tempfile"
   ]
  },
  {
   "cell_type": "code",
   "execution_count": 2,
   "id": "a0914fbb",
   "metadata": {
    "execution": {
     "iopub.execute_input": "2025-01-28T16:13:45.472175Z",
     "iopub.status.busy": "2025-01-28T16:13:45.472175Z",
     "iopub.status.idle": "2025-01-28T16:13:45.581623Z",
     "shell.execute_reply": "2025-01-28T16:13:45.581623Z"
    }
   },
   "outputs": [],
   "source": [
    "import numpy as np"
   ]
  },
  {
   "cell_type": "code",
   "execution_count": 3,
   "id": "c08259ad",
   "metadata": {
    "execution": {
     "iopub.execute_input": "2025-01-28T16:13:45.581623Z",
     "iopub.status.busy": "2025-01-28T16:13:45.581623Z",
     "iopub.status.idle": "2025-01-28T16:13:45.597232Z",
     "shell.execute_reply": "2025-01-28T16:13:45.597232Z"
    }
   },
   "outputs": [],
   "source": [
    "import pyedb"
   ]
  },
  {
   "cell_type": "markdown",
   "id": "ca256b31",
   "metadata": {},
   "source": [
    "Create the EDB project."
   ]
  },
  {
   "cell_type": "code",
   "execution_count": 4,
   "id": "ffa34af8",
   "metadata": {
    "execution": {
     "iopub.execute_input": "2025-01-28T16:13:45.597232Z",
     "iopub.status.busy": "2025-01-28T16:13:45.597232Z",
     "iopub.status.idle": "2025-01-28T16:13:45.612863Z",
     "shell.execute_reply": "2025-01-28T16:13:45.612863Z"
    }
   },
   "outputs": [],
   "source": [
    "temp_dir = tempfile.TemporaryDirectory(suffix=\".ansys\")\n",
    "aedb_path = os.path.join(temp_dir.name, \"parametric_via.aedb\")"
   ]
  },
  {
   "cell_type": "markdown",
   "id": "39d27f16",
   "metadata": {
    "lines_to_next_cell": 2
   },
   "source": [
    "## Create stackup\n",
    "\n",
    "The ``StackupSimple`` class creates a stackup based on few inputs. This stackup\n",
    "is used later.\n",
    "\n",
    "Define a function to create the ground conductor."
   ]
  },
  {
   "cell_type": "code",
   "execution_count": 5,
   "id": "f39990f2",
   "metadata": {
    "execution": {
     "iopub.execute_input": "2025-01-28T16:13:45.612863Z",
     "iopub.status.busy": "2025-01-28T16:13:45.612863Z",
     "iopub.status.idle": "2025-01-28T16:13:45.628488Z",
     "shell.execute_reply": "2025-01-28T16:13:45.628488Z"
    }
   },
   "outputs": [],
   "source": [
    "def create_ground_planes(edb, layers):\n",
    "    plane = edb.modeler.Shape(\"rectangle\", pointA=[\"-3mm\", \"-3mm\"], pointB=[\"3mm\", \"3mm\"])\n",
    "    for i in layers:\n",
    "        edb.modeler.create_polygon(plane, i, net_name=\"GND\")"
   ]
  },
  {
   "cell_type": "markdown",
   "id": "b224a0dc",
   "metadata": {},
   "source": [
    "## Create the EDB\n",
    "\n",
    "Create the EDB instance.\n",
    "If the path doesn't exist, PyEDB automatically generates a new AEDB folder."
   ]
  },
  {
   "cell_type": "code",
   "execution_count": 6,
   "id": "ba072887",
   "metadata": {
    "execution": {
     "iopub.execute_input": "2025-01-28T16:13:45.628488Z",
     "iopub.status.busy": "2025-01-28T16:13:45.628488Z",
     "iopub.status.idle": "2025-01-28T16:13:58.061482Z",
     "shell.execute_reply": "2025-01-28T16:13:58.061482Z"
    }
   },
   "outputs": [
    {
     "name": "stdout",
     "output_type": "stream",
     "text": [
      "EDB version: 2024.2\n"
     ]
    },
    {
     "name": "stdout",
     "output_type": "stream",
     "text": [
      "PyEDB INFO: StdOut is enabled\n"
     ]
    },
    {
     "name": "stdout",
     "output_type": "stream",
     "text": [
      "PyEDB INFO: Logger is initialized in EDB.\n"
     ]
    },
    {
     "name": "stdout",
     "output_type": "stream",
     "text": [
      "PyEDB INFO: legacy v0.36.0\n"
     ]
    },
    {
     "name": "stdout",
     "output_type": "stream",
     "text": [
      "PyEDB INFO: Python version 3.10.11 (tags/v3.10.11:7d4cc5a, Apr  5 2023, 00:38:17) [MSC v.1929 64 bit (AMD64)]\n"
     ]
    },
    {
     "name": "stdout",
     "output_type": "stream",
     "text": [
      "PyEDB INFO: EDB C:\\Users\\ansys\\AppData\\Local\\Temp\\tmpf4leizll.ansys\\parametric_via.aedb created correctly.\n"
     ]
    },
    {
     "name": "stdout",
     "output_type": "stream",
     "text": [
      "PyEDB INFO: EDB initialized.\n"
     ]
    }
   ],
   "source": [
    "# Select EDB version (change it manually if needed, e.g. \"2024.2\")\n",
    "edb_version = \"2024.2\"\n",
    "print(f\"EDB version: {edb_version}\")\n",
    "\n",
    "edb = pyedb.Edb(edbpath=aedb_path, edbversion=edb_version)"
   ]
  },
  {
   "cell_type": "markdown",
   "id": "e1d02765",
   "metadata": {},
   "source": [
    "Insert the stackup layers."
   ]
  },
  {
   "cell_type": "code",
   "execution_count": 7,
   "id": "23a53abe",
   "metadata": {
    "execution": {
     "iopub.execute_input": "2025-01-28T16:13:58.061482Z",
     "iopub.status.busy": "2025-01-28T16:13:58.061482Z",
     "iopub.status.idle": "2025-01-28T16:13:58.577053Z",
     "shell.execute_reply": "2025-01-28T16:13:58.577053Z"
    }
   },
   "outputs": [
    {
     "data": {
      "text/plain": [
       "True"
      ]
     },
     "execution_count": 7,
     "metadata": {},
     "output_type": "execute_result"
    }
   ],
   "source": [
    "layout_count = 12\n",
    "diel_material_name = \"FR4_epoxy\"\n",
    "diel_thickness = \"0.15mm\"\n",
    "cond_thickness_outer = \"0.05mm\"\n",
    "cond_thickness_inner = \"0.017mm\"\n",
    "soldermask_thickness = \"0.05mm\"\n",
    "trace_in_layer = \"TOP\"\n",
    "trace_out_layer = \"L10\"\n",
    "gvia_num = 10\n",
    "gvia_angle = 30\n",
    "edb.stackup.create_symmetric_stackup(\n",
    "    layer_count=layout_count,\n",
    "    inner_layer_thickness=cond_thickness_inner,\n",
    "    outer_layer_thickness=cond_thickness_outer,\n",
    "    soldermask_thickness=soldermask_thickness,\n",
    "    dielectric_thickness=diel_thickness,\n",
    "    dielectric_material=diel_material_name,\n",
    ")"
   ]
  },
  {
   "cell_type": "markdown",
   "id": "b18ec63e",
   "metadata": {},
   "source": [
    "## Define parameters\n",
    "\n",
    "Define parameters to allow changes in the model dimesons. Parameters preceded by\n",
    "the ``$`` character have project-wide scope.\n",
    "Without the ``$`` prefix, the parameter scope is limited to the design."
   ]
  },
  {
   "cell_type": "code",
   "execution_count": 8,
   "id": "aad48997",
   "metadata": {
    "execution": {
     "iopub.execute_input": "2025-01-28T16:13:58.577053Z",
     "iopub.status.busy": "2025-01-28T16:13:58.577053Z",
     "iopub.status.idle": "2025-01-28T16:13:58.608290Z",
     "shell.execute_reply": "2025-01-28T16:13:58.608290Z"
    }
   },
   "outputs": [
    {
     "data": {
      "text/plain": [
       "(True, <Ansys.Ansoft.Edb.Utility.VariableServer object at 0x000001651B767340>)"
      ]
     },
     "execution_count": 8,
     "metadata": {},
     "output_type": "execute_result"
    }
   ],
   "source": [
    "giva_angle_rad = gvia_angle / 180 * np.pi\n",
    "\n",
    "edb[\"$via_hole_size\"] = \"0.3mm\"\n",
    "edb[\"$antipaddiam\"] = \"0.7mm\"\n",
    "edb[\"$paddiam\"] = \"0.5mm\"\n",
    "edb.add_design_variable(\"via_pitch\", \"1mm\", is_parameter=True)\n",
    "edb.add_design_variable(\"trace_in_width\", \"0.2mm\", is_parameter=True)\n",
    "edb.add_design_variable(\"trace_out_width\", \"0.1mm\", is_parameter=True)"
   ]
  },
  {
   "cell_type": "markdown",
   "id": "b320eac2",
   "metadata": {},
   "source": [
    "## Define padstacks\n",
    "\n",
    "Create two padstck definitions, one for the ground via and one for the signal via."
   ]
  },
  {
   "cell_type": "code",
   "execution_count": 9,
   "id": "2a5a95a0",
   "metadata": {
    "execution": {
     "iopub.execute_input": "2025-01-28T16:13:58.608290Z",
     "iopub.status.busy": "2025-01-28T16:13:58.608290Z",
     "iopub.status.idle": "2025-01-28T16:13:58.670851Z",
     "shell.execute_reply": "2025-01-28T16:13:58.670851Z"
    }
   },
   "outputs": [
    {
     "name": "stdout",
     "output_type": "stream",
     "text": [
      "PyEDB INFO: Padstack SVIA create correctly\n"
     ]
    },
    {
     "name": "stdout",
     "output_type": "stream",
     "text": [
      "PyEDB INFO: Padstack GVIA create correctly\n"
     ]
    },
    {
     "data": {
      "text/plain": [
       "'GVIA'"
      ]
     },
     "execution_count": 9,
     "metadata": {},
     "output_type": "execute_result"
    }
   ],
   "source": [
    "edb.padstacks.create(\n",
    "    padstackname=\"SVIA\",\n",
    "    holediam=\"$via_hole_size\",\n",
    "    antipaddiam=\"$antipaddiam\",\n",
    "    paddiam=\"$paddiam\",\n",
    "    start_layer=trace_in_layer,\n",
    "    stop_layer=trace_out_layer,\n",
    ")\n",
    "edb.padstacks.create(padstackname=\"GVIA\", holediam=\"0.3mm\", antipaddiam=\"0.7mm\", paddiam=\"0.5mm\")"
   ]
  },
  {
   "cell_type": "markdown",
   "id": "de4278fd",
   "metadata": {},
   "source": [
    "Place the signal via."
   ]
  },
  {
   "cell_type": "code",
   "execution_count": 10,
   "id": "f9edf009",
   "metadata": {
    "execution": {
     "iopub.execute_input": "2025-01-28T16:13:58.670851Z",
     "iopub.status.busy": "2025-01-28T16:13:58.670851Z",
     "iopub.status.idle": "2025-01-28T16:13:58.702095Z",
     "shell.execute_reply": "2025-01-28T16:13:58.702095Z"
    }
   },
   "outputs": [
    {
     "data": {
      "text/plain": [
       "<pyedb.dotnet.edb_core.edb_data.padstacks_data.EDBPadstackInstance at 0x1651b7326e0>"
      ]
     },
     "execution_count": 10,
     "metadata": {},
     "output_type": "execute_result"
    }
   ],
   "source": [
    "edb.padstacks.place([0, 0], \"SVIA\", net_name=\"RF\")"
   ]
  },
  {
   "cell_type": "markdown",
   "id": "8c19b05f",
   "metadata": {},
   "source": [
    "Place the ground vias."
   ]
  },
  {
   "cell_type": "code",
   "execution_count": 11,
   "id": "fd850ffe",
   "metadata": {
    "execution": {
     "iopub.execute_input": "2025-01-28T16:13:58.702095Z",
     "iopub.status.busy": "2025-01-28T16:13:58.702095Z",
     "iopub.status.idle": "2025-01-28T16:13:58.827105Z",
     "shell.execute_reply": "2025-01-28T16:13:58.827105Z"
    }
   },
   "outputs": [],
   "source": [
    "gvia_num_side = gvia_num / 2\n",
    "\n",
    "if gvia_num_side % 2:\n",
    "    # Even number of ground vias on each side\n",
    "    edb.padstacks.place([\"via_pitch\", 0], \"GVIA\", net_name=\"GND\")\n",
    "    edb.padstacks.place([\"via_pitch*-1\", 0], \"GVIA\", net_name=\"GND\")\n",
    "    for i in np.arange(1, gvia_num_side / 2):\n",
    "        xloc = \"{}*{}\".format(np.cos(giva_angle_rad * i), \"via_pitch\")\n",
    "        yloc = \"{}*{}\".format(np.sin(giva_angle_rad * i), \"via_pitch\")\n",
    "        edb.padstacks.place([xloc, yloc], \"GVIA\", net_name=\"GND\")\n",
    "        edb.padstacks.place([xloc, yloc + \"*-1\"], \"GVIA\", net_name=\"GND\")\n",
    "\n",
    "        edb.padstacks.place([xloc + \"*-1\", yloc], \"GVIA\", net_name=\"GND\")\n",
    "        edb.padstacks.place([xloc + \"*-1\", yloc + \"*-1\"], \"GVIA\", net_name=\"GND\")\n",
    "else:\n",
    "    # Odd number of ground vias on each side\n",
    "    for i in np.arange(0, gvia_num_side / 2):\n",
    "        xloc = \"{}*{}\".format(np.cos(giva_angle_rad * (i + 0.5)), \"via_pitch\")\n",
    "        yloc = \"{}*{}\".format(np.sin(giva_angle_rad * (i + 0.5)), \"via_pitch\")\n",
    "        edb.padstacks.place([xloc, yloc], \"GVIA\", net_name=\"GND\")\n",
    "        edb.padstacks.place([xloc, yloc + \"*-1\"], \"GVIA\", net_name=\"GND\")\n",
    "\n",
    "        edb.padstacks.place([xloc + \"*-1\", yloc], \"GVIA\", net_name=\"GND\")\n",
    "        edb.padstacks.place([xloc + \"*-1\", yloc + \"*-1\"], \"GVIA\", net_name=\"GND\")"
   ]
  },
  {
   "cell_type": "markdown",
   "id": "10805fec",
   "metadata": {},
   "source": [
    "Draw the traces"
   ]
  },
  {
   "cell_type": "code",
   "execution_count": 12,
   "id": "5c646552",
   "metadata": {
    "execution": {
     "iopub.execute_input": "2025-01-28T16:13:58.827105Z",
     "iopub.status.busy": "2025-01-28T16:13:58.827105Z",
     "iopub.status.idle": "2025-01-28T16:13:58.858356Z",
     "shell.execute_reply": "2025-01-28T16:13:58.858356Z"
    }
   },
   "outputs": [
    {
     "data": {
      "text/plain": [
       "<pyedb.dotnet.edb_core.cell.primitive.path.Path at 0x1651b726560>"
      ]
     },
     "execution_count": 12,
     "metadata": {},
     "output_type": "execute_result"
    }
   ],
   "source": [
    "edb.modeler.create_trace(\n",
    "    [[0, 0], [0, \"-3mm\"]],\n",
    "    layer_name=trace_in_layer,\n",
    "    net_name=\"RF\",\n",
    "    width=\"trace_in_width\",\n",
    "    start_cap_style=\"Flat\",\n",
    "    end_cap_style=\"Flat\",\n",
    ")\n",
    "\n",
    "edb.modeler.create_trace(\n",
    "    [[0, 0], [0, \"3mm\"]],\n",
    "    layer_name=trace_out_layer,\n",
    "    net_name=\"RF\",\n",
    "    width=\"trace_out_width\",\n",
    "    start_cap_style=\"Flat\",\n",
    "    end_cap_style=\"Flat\",\n",
    ")"
   ]
  },
  {
   "cell_type": "markdown",
   "id": "e8018bce",
   "metadata": {},
   "source": [
    "Draw ground conductors"
   ]
  },
  {
   "cell_type": "code",
   "execution_count": 13,
   "id": "491f5a22",
   "metadata": {
    "execution": {
     "iopub.execute_input": "2025-01-28T16:13:58.858356Z",
     "iopub.status.busy": "2025-01-28T16:13:58.858356Z",
     "iopub.status.idle": "2025-01-28T16:13:58.889602Z",
     "shell.execute_reply": "2025-01-28T16:13:58.889602Z"
    }
   },
   "outputs": [],
   "source": [
    "ground_layers = [i for i in edb.stackup.signal_layers.keys()]\n",
    "ground_layers.remove(trace_in_layer)\n",
    "ground_layers.remove(trace_out_layer)\n",
    "create_ground_planes(edb=edb, layers=ground_layers)"
   ]
  },
  {
   "cell_type": "markdown",
   "id": "3f4059b2",
   "metadata": {},
   "source": [
    "Display the layout"
   ]
  },
  {
   "cell_type": "code",
   "execution_count": 14,
   "id": "2f268185",
   "metadata": {
    "execution": {
     "iopub.execute_input": "2025-01-28T16:13:58.889602Z",
     "iopub.status.busy": "2025-01-28T16:13:58.889602Z",
     "iopub.status.idle": "2025-01-28T16:13:59.123990Z",
     "shell.execute_reply": "2025-01-28T16:13:59.123990Z"
    }
   },
   "outputs": [
    {
     "name": "stderr",
     "output_type": "stream",
     "text": [
      "C:\\actions-runner\\_work\\pyedb\\pyedb\\.venv\\lib\\site-packages\\pyedb\\dotnet\\edb_core\\stackup.py:2868: UserWarning: FigureCanvasAgg is non-interactive, and thus cannot be shown\n",
      "  plt.show()\n"
     ]
    },
    {
     "data": {
      "text/plain": [
       "<module 'matplotlib.pyplot' from 'C:\\\\actions-runner\\\\_work\\\\pyedb\\\\pyedb\\\\.venv\\\\lib\\\\site-packages\\\\matplotlib\\\\pyplot.py'>"
      ]
     },
     "execution_count": 14,
     "metadata": {},
     "output_type": "execute_result"
    }
   ],
   "source": [
    "edb.stackup.plot(plot_definitions=[\"GVIA\", \"SVIA\"])"
   ]
  },
  {
   "cell_type": "markdown",
   "id": "bdab3bd1",
   "metadata": {},
   "source": [
    "Save EDB and close the EDB."
   ]
  },
  {
   "cell_type": "code",
   "execution_count": 15,
   "id": "5f3846d2",
   "metadata": {
    "execution": {
     "iopub.execute_input": "2025-01-28T16:13:59.123990Z",
     "iopub.status.busy": "2025-01-28T16:13:59.123990Z",
     "iopub.status.idle": "2025-01-28T16:13:59.155235Z",
     "shell.execute_reply": "2025-01-28T16:13:59.155235Z"
    }
   },
   "outputs": [
    {
     "name": "stdout",
     "output_type": "stream",
     "text": [
      "PyEDB INFO: EDB file save time: 0.00ms\n"
     ]
    },
    {
     "name": "stdout",
     "output_type": "stream",
     "text": [
      "PyEDB INFO: EDB file release time: 15.56ms\n"
     ]
    },
    {
     "name": "stdout",
     "output_type": "stream",
     "text": [
      "aedb Saved in C:\\Users\\ansys\\AppData\\Local\\Temp\\tmpf4leizll.ansys\\parametric_via.aedb\n"
     ]
    }
   ],
   "source": [
    "edb.save_edb()\n",
    "edb.close_edb()\n",
    "print(\"aedb Saved in {}\".format(aedb_path))"
   ]
  },
  {
   "cell_type": "markdown",
   "id": "1877037b",
   "metadata": {},
   "source": [
    "Clean up the temporary directory."
   ]
  },
  {
   "cell_type": "code",
   "execution_count": 16,
   "id": "9e495b88",
   "metadata": {
    "execution": {
     "iopub.execute_input": "2025-01-28T16:13:59.155235Z",
     "iopub.status.busy": "2025-01-28T16:13:59.155235Z",
     "iopub.status.idle": "2025-01-28T16:13:59.170858Z",
     "shell.execute_reply": "2025-01-28T16:13:59.170858Z"
    }
   },
   "outputs": [],
   "source": [
    "temp_dir.cleanup()"
   ]
  }
 ],
 "metadata": {
  "jupytext": {
   "cell_metadata_filter": "-all",
   "main_language": "python",
   "notebook_metadata_filter": "-all",
   "text_representation": {
    "extension": ".py",
    "format_name": "light"
   }
  },
  "language_info": {
   "codemirror_mode": {
    "name": "ipython",
    "version": 3
   },
   "file_extension": ".py",
   "mimetype": "text/x-python",
   "name": "python",
   "nbconvert_exporter": "python",
   "pygments_lexer": "ipython3",
   "version": "3.10.11"
  }
 },
 "nbformat": 4,
 "nbformat_minor": 5
}
