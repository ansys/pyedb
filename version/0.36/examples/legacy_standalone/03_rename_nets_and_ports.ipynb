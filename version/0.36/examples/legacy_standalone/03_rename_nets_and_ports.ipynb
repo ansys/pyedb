{
 "cells": [
  {
   "cell_type": "markdown",
   "id": "c514cca9",
   "metadata": {
    "lines_to_next_cell": 2
   },
   "source": [
    "Copyright (C) 2023 - 2024 ANSYS, Inc. and/or its affiliates.\n",
    "SPDX-License-Identifier: MIT\n",
    "\n",
    "\n",
    "Permission is hereby granted, free of charge, to any person obtaining a copy\n",
    "of this software and associated documentation files (the \"Software\"), to deal\n",
    "in the Software without restriction, including without limitation the rights\n",
    "to use, copy, modify, merge, publish, distribute, sublicense, and/or sell\n",
    "copies of the Software, and to permit persons to whom the Software is\n",
    "furnished to do so, subject to the following conditions:\n",
    "\n",
    "The above copyright notice and this permission notice shall be included in all\n",
    "copies or substantial portions of the Software.\n",
    "\n",
    "THE SOFTWARE IS PROVIDED \"AS IS\", WITHOUT WARRANTY OF ANY KIND, EXPRESS OR\n",
    "IMPLIED, INCLUDING BUT NOT LIMITED TO THE WARRANTIES OF MERCHANTABILITY,\n",
    "FITNESS FOR A PARTICULAR PURPOSE AND NONINFRINGEMENT. IN NO EVENT SHALL THE\n",
    "AUTHORS OR COPYRIGHT HOLDERS BE LIABLE FOR ANY CLAIM, DAMAGES OR OTHER\n",
    "LIABILITY, WHETHER IN AN ACTION OF CONTRACT, TORT OR OTHERWISE, ARISING FROM,\n",
    "OUT OF OR IN CONNECTION WITH THE SOFTWARE OR THE USE OR OTHER DEALINGS IN THE\n",
    "SOFTWARE."
   ]
  },
  {
   "cell_type": "markdown",
   "id": "ab0311de",
   "metadata": {
    "lines_to_next_cell": 2
   },
   "source": [
    "# EDB: Rename nets and ports\n",
    "\n",
    "This example shows how you can use PyEDB to rename ports and nets."
   ]
  },
  {
   "cell_type": "markdown",
   "id": "a1ae62a7",
   "metadata": {},
   "source": [
    "## Perform required imports\n",
    "Perform required imports, which includes importing a section."
   ]
  },
  {
   "cell_type": "code",
   "execution_count": 1,
   "id": "d84fb339",
   "metadata": {
    "execution": {
     "iopub.execute_input": "2025-01-28T16:12:31.136379Z",
     "iopub.status.busy": "2025-01-28T16:12:31.136379Z",
     "iopub.status.idle": "2025-01-28T16:12:31.167625Z",
     "shell.execute_reply": "2025-01-28T16:12:31.167625Z"
    }
   },
   "outputs": [],
   "source": [
    "from pyedb import Edb\n",
    "from pyedb.generic.general_methods import generate_unique_folder_name\n",
    "import pyedb.misc.downloads as downloads"
   ]
  },
  {
   "cell_type": "markdown",
   "id": "bed7fbb8",
   "metadata": {},
   "source": [
    "## Download ANSYS EDB\n",
    "Download ANSYS generic design from public repository."
   ]
  },
  {
   "cell_type": "code",
   "execution_count": 2,
   "id": "76fe36ea",
   "metadata": {
    "execution": {
     "iopub.execute_input": "2025-01-28T16:12:31.167625Z",
     "iopub.status.busy": "2025-01-28T16:12:31.167625Z",
     "iopub.status.idle": "2025-01-28T16:12:32.841474Z",
     "shell.execute_reply": "2025-01-28T16:12:32.841474Z"
    }
   },
   "outputs": [],
   "source": [
    "temp_folder = generate_unique_folder_name()\n",
    "targetfile = downloads.download_file(\"edb/ANSYS-HSD_V1.aedb\", destination=temp_folder)"
   ]
  },
  {
   "cell_type": "markdown",
   "id": "279f249a",
   "metadata": {},
   "source": [
    "## opening EDB\n",
    "Opening EDB with ANSYS release 2024.2"
   ]
  },
  {
   "cell_type": "code",
   "execution_count": 3,
   "id": "a25fdff6",
   "metadata": {
    "execution": {
     "iopub.execute_input": "2025-01-28T16:12:32.841474Z",
     "iopub.status.busy": "2025-01-28T16:12:32.841474Z",
     "iopub.status.idle": "2025-01-28T16:12:45.804850Z",
     "shell.execute_reply": "2025-01-28T16:12:45.804850Z"
    }
   },
   "outputs": [
    {
     "name": "stdout",
     "output_type": "stream",
     "text": [
      "PyEDB INFO: StdOut is enabled\n"
     ]
    },
    {
     "name": "stdout",
     "output_type": "stream",
     "text": [
      "PyEDB INFO: Logger is initialized in EDB.\n"
     ]
    },
    {
     "name": "stdout",
     "output_type": "stream",
     "text": [
      "PyEDB INFO: legacy v0.36.0\n"
     ]
    },
    {
     "name": "stdout",
     "output_type": "stream",
     "text": [
      "PyEDB INFO: Python version 3.10.11 (tags/v3.10.11:7d4cc5a, Apr  5 2023, 00:38:17) [MSC v.1929 64 bit (AMD64)]\n"
     ]
    },
    {
     "name": "stdout",
     "output_type": "stream",
     "text": [
      "PyEDB INFO: Database ANSYS-HSD_V1.aedb Opened in 2024.2\n"
     ]
    },
    {
     "name": "stdout",
     "output_type": "stream",
     "text": [
      "PyEDB INFO: Cell main Opened\n"
     ]
    },
    {
     "name": "stdout",
     "output_type": "stream",
     "text": [
      "PyEDB INFO: Builder was initialized.\n"
     ]
    },
    {
     "name": "stdout",
     "output_type": "stream",
     "text": [
      "PyEDB INFO: EDB initialized.\n"
     ]
    }
   ],
   "source": [
    "EDB_VERSION = \"2024.2\"\n",
    "edbapp = Edb(edbpath=targetfile, edbversion=EDB_VERSION)"
   ]
  },
  {
   "cell_type": "markdown",
   "id": "5fdfc52b",
   "metadata": {},
   "source": [
    "## Renaming all signal nets\n",
    "Using the net name setter to rename."
   ]
  },
  {
   "cell_type": "code",
   "execution_count": 4,
   "id": "c0364e50",
   "metadata": {
    "execution": {
     "iopub.execute_input": "2025-01-28T16:12:45.804850Z",
     "iopub.status.busy": "2025-01-28T16:12:45.804850Z",
     "iopub.status.idle": "2025-01-28T16:12:45.851722Z",
     "shell.execute_reply": "2025-01-28T16:12:45.851722Z"
    }
   },
   "outputs": [],
   "source": [
    "for net_name, net in edbapp.nets.signal.items():\n",
    "    net.name = f\"{net_name}_test\""
   ]
  },
  {
   "cell_type": "markdown",
   "id": "0ffe8a3e",
   "metadata": {},
   "source": [
    "## Creating coaxial port on component U1 and all ddr4_dqs nets\n",
    "Selecting all nets from ddr4_dqs and component U1 and create coaxial ports\n",
    "On corresponding pins."
   ]
  },
  {
   "cell_type": "code",
   "execution_count": 5,
   "id": "d29d0f37",
   "metadata": {
    "execution": {
     "iopub.execute_input": "2025-01-28T16:12:45.851722Z",
     "iopub.status.busy": "2025-01-28T16:12:45.851722Z",
     "iopub.status.idle": "2025-01-28T16:12:46.367758Z",
     "shell.execute_reply": "2025-01-28T16:12:46.367758Z"
    }
   },
   "outputs": [
    {
     "data": {
      "text/plain": [
       "True"
      ]
     },
     "execution_count": 5,
     "metadata": {},
     "output_type": "execute_result"
    }
   ],
   "source": [
    "comp_u1 = edbapp.components.instances[\"U1\"]\n",
    "signal_nets = [net for net in comp_u1.nets if \"ddr4_dqs\" in net.lower()]\n",
    "edbapp.hfss.create_coax_port_on_component(\"U1\", net_list=signal_nets)\n",
    "edbapp.components.set_solder_ball(component=\"U1\", sball_diam=\"0.3mm\", sball_height=\"0.3mm\")"
   ]
  },
  {
   "cell_type": "markdown",
   "id": "93dd547f",
   "metadata": {},
   "source": [
    "## Renaming all ports\n",
    "Renaming all port with _renamed string as suffix example."
   ]
  },
  {
   "cell_type": "code",
   "execution_count": 6,
   "id": "dd0ade27",
   "metadata": {
    "execution": {
     "iopub.execute_input": "2025-01-28T16:12:46.367758Z",
     "iopub.status.busy": "2025-01-28T16:12:46.367758Z",
     "iopub.status.idle": "2025-01-28T16:12:46.399027Z",
     "shell.execute_reply": "2025-01-28T16:12:46.399027Z"
    }
   },
   "outputs": [],
   "source": [
    "for port_name, port in edbapp.ports.items():\n",
    "    port.name = f\"{port_name}_renamed\""
   ]
  },
  {
   "cell_type": "markdown",
   "id": "565445fd",
   "metadata": {},
   "source": [
    "## Saving and closing EDB\n",
    "Once the EDB saved and closed, this can be imported in ANSYS AEDT as an HFSS 3D Layout project."
   ]
  },
  {
   "cell_type": "code",
   "execution_count": 7,
   "id": "241eb0b9",
   "metadata": {
    "execution": {
     "iopub.execute_input": "2025-01-28T16:12:46.399027Z",
     "iopub.status.busy": "2025-01-28T16:12:46.399027Z",
     "iopub.status.idle": "2025-01-28T16:12:46.618117Z",
     "shell.execute_reply": "2025-01-28T16:12:46.618117Z"
    }
   },
   "outputs": [
    {
     "data": {
      "text/plain": [
       "True"
      ]
     },
     "execution_count": 7,
     "metadata": {},
     "output_type": "execute_result"
    }
   ],
   "source": [
    "edbapp.save()\n",
    "edbapp.close()"
   ]
  }
 ],
 "metadata": {
  "jupytext": {
   "cell_metadata_filter": "-all",
   "main_language": "python",
   "notebook_metadata_filter": "-all",
   "text_representation": {
    "extension": ".py",
    "format_name": "light"
   }
  },
  "language_info": {
   "codemirror_mode": {
    "name": "ipython",
    "version": 3
   },
   "file_extension": ".py",
   "mimetype": "text/x-python",
   "name": "python",
   "nbconvert_exporter": "python",
   "pygments_lexer": "ipython3",
   "version": "3.10.11"
  }
 },
 "nbformat": 4,
 "nbformat_minor": 5
}
