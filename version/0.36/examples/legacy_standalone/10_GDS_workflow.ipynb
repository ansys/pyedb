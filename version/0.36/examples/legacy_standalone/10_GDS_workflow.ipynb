{
 "cells": [
  {
   "cell_type": "markdown",
   "id": "c1d90087",
   "metadata": {},
   "source": [
    "# EDB: Edit Control File and import gds\n",
    "\n",
    "This example demonstrates how to import a gds layout for subsequent\n",
    "simulation with HFSS."
   ]
  },
  {
   "cell_type": "markdown",
   "id": "fa31aabd",
   "metadata": {},
   "source": [
    "Perform imports."
   ]
  },
  {
   "cell_type": "code",
   "execution_count": 1,
   "id": "b08970ea",
   "metadata": {
    "execution": {
     "iopub.execute_input": "2025-01-28T16:14:49.276240Z",
     "iopub.status.busy": "2025-01-28T16:14:49.276240Z",
     "iopub.status.idle": "2025-01-28T16:14:49.323082Z",
     "shell.execute_reply": "2025-01-28T16:14:49.323082Z"
    }
   },
   "outputs": [],
   "source": [
    "import os\n",
    "import shutil\n",
    "import tempfile\n",
    "\n",
    "import pyedb\n",
    "from pyedb.dotnet.edb_core.edb_data.control_file import ControlFile\n",
    "from pyedb.misc.downloads import download_file\n"
   ]
  },
  {
   "cell_type": "markdown",
   "id": "186cd3a5",
   "metadata": {},
   "source": [
    "## Fetch Example Data\n",
    "\n",
    "Download the EDB folder and copy it to a temporary folder.\n",
    "The following files are used in this example:\n",
    "\n",
    "- _sky130_fictious_dtc_exmple_contol_no_map.xml_\n",
    "  defines physical information such\n",
    "  as material properties, stackup layers, and boundary conditions.\n",
    "- _dummy_layermap.map_\n",
    "  maps properties to stackup layers."
   ]
  },
  {
   "cell_type": "code",
   "execution_count": 2,
   "id": "d187a23a",
   "metadata": {
    "execution": {
     "iopub.execute_input": "2025-01-28T16:14:49.323082Z",
     "iopub.status.busy": "2025-01-28T16:14:49.323082Z",
     "iopub.status.idle": "2025-01-28T16:14:52.841014Z",
     "shell.execute_reply": "2025-01-28T16:14:52.841014Z"
    }
   },
   "outputs": [
    {
     "data": {
      "text/plain": [
       "'C:\\\\Users\\\\ansys\\\\AppData\\\\Local\\\\Temp\\\\tmpf3uftqdd.ansys\\\\gds_out.gds'"
      ]
     },
     "execution_count": 2,
     "metadata": {},
     "output_type": "execute_result"
    }
   ],
   "source": [
    "temp_dir = tempfile.TemporaryDirectory(suffix=\".ansys\")\n",
    "control_fn = \"sky130_fictitious_dtc_example_control_no_map.xml\"\n",
    "gds_fn = \"sky130_fictitious_dtc_example.gds\"\n",
    "layer_map = \"dummy_layermap.map\"\n",
    "\n",
    "local_path = download_file(\"gds\", destination=temp_dir.name)\n",
    "c_file_in = os.path.join(local_path, control_fn)\n",
    "c_map = os.path.join(local_path, layer_map)\n",
    "gds_in = os.path.join(local_path, gds_fn)\n",
    "gds_out = os.path.join(temp_dir.name, \"gds_out.gds\")\n",
    "shutil.copy2(gds_in, gds_out)"
   ]
  },
  {
   "cell_type": "markdown",
   "id": "c823d917",
   "metadata": {},
   "source": [
    "## Control file\n",
    "\n",
    "A Control file is an xml file which purpose if to provide additional information during\n",
    "import phase. It can include, materials, stackup, setup, boundaries and settings.\n",
    "In this example we will import an existing xml, integrate it with a layer mapping file of gds\n",
    "and then adding setup and boundaries."
   ]
  },
  {
   "cell_type": "code",
   "execution_count": 3,
   "id": "e1649517",
   "metadata": {
    "execution": {
     "iopub.execute_input": "2025-01-28T16:14:52.841014Z",
     "iopub.status.busy": "2025-01-28T16:14:52.841014Z",
     "iopub.status.idle": "2025-01-28T16:14:52.872322Z",
     "shell.execute_reply": "2025-01-28T16:14:52.872322Z"
    }
   },
   "outputs": [],
   "source": [
    "c = ControlFile(c_file_in, layer_map=c_map)"
   ]
  },
  {
   "cell_type": "markdown",
   "id": "3ac6a20c",
   "metadata": {},
   "source": [
    "## Set up simulation\n",
    "\n",
    "This code sets up a simulation with HFSS and adds a frequency sweep."
   ]
  },
  {
   "cell_type": "code",
   "execution_count": 4,
   "id": "fc7c6668",
   "metadata": {
    "execution": {
     "iopub.execute_input": "2025-01-28T16:14:52.872322Z",
     "iopub.status.busy": "2025-01-28T16:14:52.872322Z",
     "iopub.status.idle": "2025-01-28T16:14:52.887976Z",
     "shell.execute_reply": "2025-01-28T16:14:52.887976Z"
    }
   },
   "outputs": [
    {
     "data": {
      "text/plain": [
       "<pyedb.dotnet.edb_core.edb_data.control_file.ControlFileSweep at 0x253f19bfc70>"
      ]
     },
     "execution_count": 4,
     "metadata": {},
     "output_type": "execute_result"
    }
   ],
   "source": [
    "setup = c.setups.add_setup(\"Setup1\", \"1GHz\", 0.02, 10)\n",
    "setup.add_sweep(\"Sweep1\", \"0.01GHz\", \"5GHz\", \"0.1GHz\")"
   ]
  },
  {
   "cell_type": "markdown",
   "id": "bd8d97a5",
   "metadata": {},
   "source": [
    "## Provide additional stackup settings\n",
    "\n",
    "After import, you can change the stackup settings and add or remove layers or materials."
   ]
  },
  {
   "cell_type": "code",
   "execution_count": 5,
   "id": "19137137",
   "metadata": {
    "execution": {
     "iopub.execute_input": "2025-01-28T16:14:52.887976Z",
     "iopub.status.busy": "2025-01-28T16:14:52.887976Z",
     "iopub.status.idle": "2025-01-28T16:14:52.903580Z",
     "shell.execute_reply": "2025-01-28T16:14:52.903580Z"
    }
   },
   "outputs": [],
   "source": [
    "c.stackup.units = \"um\"\n",
    "c.stackup.dielectrics_base_elevation = -100\n",
    "c.stackup.metal_layer_snapping_tolerance = \"10nm\"\n",
    "for via in c.stackup.vias:\n",
    "    via.create_via_group = True\n",
    "    via.snap_via_group = True"
   ]
  },
  {
   "cell_type": "markdown",
   "id": "24b88dcd",
   "metadata": {},
   "source": [
    "## Define boundary settings\n",
    "\n",
    "Boundaries can include ports, components and boundary extent."
   ]
  },
  {
   "cell_type": "code",
   "execution_count": 6,
   "id": "beb3d918",
   "metadata": {
    "execution": {
     "iopub.execute_input": "2025-01-28T16:14:52.903580Z",
     "iopub.status.busy": "2025-01-28T16:14:52.903580Z",
     "iopub.status.idle": "2025-01-28T16:14:52.919195Z",
     "shell.execute_reply": "2025-01-28T16:14:52.919195Z"
    }
   },
   "outputs": [],
   "source": [
    "c.boundaries.units = \"um\"\n",
    "c.boundaries.add_port(\"P1\", x1=223.7, y1=222.6, layer1=\"Metal6\", x2=223.7, y2=100, layer2=\"Metal6\")\n",
    "c.boundaries.add_extent()\n",
    "comp = c.components.add_component(\"B1\", \"BGA\", \"IC\", \"Flip chip\", \"Cylinder\")\n",
    "comp.solder_diameter = \"65um\"\n",
    "comp.add_pin(\"1\", \"81.28\", \"84.6\", \"met2\")\n",
    "comp.add_pin(\"2\", \"211.28\", \"84.6\", \"met2\")\n",
    "comp.add_pin(\"3\", \"211.28\", \"214.6\", \"met2\")\n",
    "comp.add_pin(\"4\", \"81.28\", \"214.6\", \"met2\")\n",
    "c.import_options.import_dummy_nets = True"
   ]
  },
  {
   "cell_type": "markdown",
   "id": "19a4a950",
   "metadata": {},
   "source": [
    "## Write XML file\n",
    "\n",
    "After all settings are ready, you can write an XML file."
   ]
  },
  {
   "cell_type": "code",
   "execution_count": 7,
   "id": "b7dc64a9",
   "metadata": {
    "execution": {
     "iopub.execute_input": "2025-01-28T16:14:52.919195Z",
     "iopub.status.busy": "2025-01-28T16:14:52.919195Z",
     "iopub.status.idle": "2025-01-28T16:14:52.934838Z",
     "shell.execute_reply": "2025-01-28T16:14:52.934838Z"
    }
   },
   "outputs": [
    {
     "data": {
      "text/plain": [
       "True"
      ]
     },
     "execution_count": 7,
     "metadata": {},
     "output_type": "execute_result"
    }
   ],
   "source": [
    "c.write_xml(os.path.join(temp_dir.name, \"output.xml\"))"
   ]
  },
  {
   "cell_type": "markdown",
   "id": "a01b49d7",
   "metadata": {},
   "source": [
    "## Open EDB\n",
    "\n",
    "Import the gds and open the edb."
   ]
  },
  {
   "cell_type": "code",
   "execution_count": 8,
   "id": "ca981a81",
   "metadata": {
    "execution": {
     "iopub.execute_input": "2025-01-28T16:14:52.934838Z",
     "iopub.status.busy": "2025-01-28T16:14:52.934838Z",
     "iopub.status.idle": "2025-01-28T16:15:07.039318Z",
     "shell.execute_reply": "2025-01-28T16:15:07.039318Z"
    }
   },
   "outputs": [
    {
     "name": "stdout",
     "output_type": "stream",
     "text": [
      "EDB version: 2024.2\n"
     ]
    },
    {
     "name": "stdout",
     "output_type": "stream",
     "text": [
      "PyEDB INFO: StdOut is enabled\n"
     ]
    },
    {
     "name": "stdout",
     "output_type": "stream",
     "text": [
      "PyEDB INFO: Logger is initialized in EDB.\n"
     ]
    },
    {
     "name": "stdout",
     "output_type": "stream",
     "text": [
      "PyEDB INFO: legacy v0.36.0\n"
     ]
    },
    {
     "name": "stdout",
     "output_type": "stream",
     "text": [
      "PyEDB INFO: Python version 3.10.11 (tags/v3.10.11:7d4cc5a, Apr  5 2023, 00:38:17) [MSC v.1929 64 bit (AMD64)]\n"
     ]
    },
    {
     "name": "stdout",
     "output_type": "stream",
     "text": [
      "PyEDB INFO: Translation correctly completed\n"
     ]
    },
    {
     "name": "stdout",
     "output_type": "stream",
     "text": [
      "PyEDB INFO: Database gds_out.aedb Opened in 2024.2\n"
     ]
    },
    {
     "name": "stdout",
     "output_type": "stream",
     "text": [
      "PyEDB INFO: Cell TOP Opened\n"
     ]
    },
    {
     "name": "stdout",
     "output_type": "stream",
     "text": [
      "PyEDB INFO: Builder was initialized.\n"
     ]
    },
    {
     "name": "stdout",
     "output_type": "stream",
     "text": [
      "PyEDB INFO: EDB C:\\Users\\ansys\\AppData\\Local\\Temp\\tmpf3uftqdd.ansys\\gds_out.aedb was created correctly from ds file.\n"
     ]
    },
    {
     "name": "stdout",
     "output_type": "stream",
     "text": [
      "PyEDB INFO: EDB initialized.\n"
     ]
    }
   ],
   "source": [
    "# Select EDB version (change it manually if needed, e.g. \"2024.2\")\n",
    "edb_version = \"2024.2\"\n",
    "print(f\"EDB version: {edb_version}\")\n",
    "\n",
    "edb = pyedb.Edb(gds_out, edbversion=edb_version, technology_file=os.path.join(temp_dir.name, \"output.xml\"))"
   ]
  },
  {
   "cell_type": "markdown",
   "id": "854a8c08",
   "metadata": {},
   "source": [
    "## Plot stackup\n",
    "\n",
    "Plot the stackup."
   ]
  },
  {
   "cell_type": "code",
   "execution_count": 9,
   "id": "b9343208",
   "metadata": {
    "execution": {
     "iopub.execute_input": "2025-01-28T16:15:07.039318Z",
     "iopub.status.busy": "2025-01-28T16:15:07.039318Z",
     "iopub.status.idle": "2025-01-28T16:15:07.179981Z",
     "shell.execute_reply": "2025-01-28T16:15:07.179981Z"
    }
   },
   "outputs": [
    {
     "name": "stderr",
     "output_type": "stream",
     "text": [
      "C:\\actions-runner\\_work\\pyedb\\pyedb\\.venv\\lib\\site-packages\\pyedb\\dotnet\\edb_core\\stackup.py:2868: UserWarning: FigureCanvasAgg is non-interactive, and thus cannot be shown\n",
      "  plt.show()\n"
     ]
    },
    {
     "data": {
      "text/plain": [
       "<module 'matplotlib.pyplot' from 'C:\\\\actions-runner\\\\_work\\\\pyedb\\\\pyedb\\\\.venv\\\\lib\\\\site-packages\\\\matplotlib\\\\pyplot.py'>"
      ]
     },
     "execution_count": 9,
     "metadata": {},
     "output_type": "execute_result"
    }
   ],
   "source": [
    "edb.stackup.plot(first_layer=\"met1\")"
   ]
  },
  {
   "cell_type": "markdown",
   "id": "2dc29326",
   "metadata": {},
   "source": [
    "## Close EDB\n",
    "\n",
    "Close the project."
   ]
  },
  {
   "cell_type": "code",
   "execution_count": 10,
   "id": "6bdc9200",
   "metadata": {
    "execution": {
     "iopub.execute_input": "2025-01-28T16:15:07.179981Z",
     "iopub.status.busy": "2025-01-28T16:15:07.179981Z",
     "iopub.status.idle": "2025-01-28T16:15:07.211197Z",
     "shell.execute_reply": "2025-01-28T16:15:07.211197Z"
    }
   },
   "outputs": [
    {
     "name": "stdout",
     "output_type": "stream",
     "text": [
      "PyEDB INFO: EDB file release time: 0.00ms\n"
     ]
    },
    {
     "data": {
      "text/plain": [
       "True"
      ]
     },
     "execution_count": 10,
     "metadata": {},
     "output_type": "execute_result"
    }
   ],
   "source": [
    "edb.close_edb()"
   ]
  },
  {
   "cell_type": "markdown",
   "id": "33beb953",
   "metadata": {},
   "source": [
    "Clean up the temporary folder."
   ]
  },
  {
   "cell_type": "code",
   "execution_count": 11,
   "id": "40e27d6a",
   "metadata": {
    "execution": {
     "iopub.execute_input": "2025-01-28T16:15:07.211197Z",
     "iopub.status.busy": "2025-01-28T16:15:07.211197Z",
     "iopub.status.idle": "2025-01-28T16:15:07.226872Z",
     "shell.execute_reply": "2025-01-28T16:15:07.226872Z"
    }
   },
   "outputs": [],
   "source": [
    "temp_dir.cleanup()"
   ]
  }
 ],
 "metadata": {
  "jupytext": {
   "cell_metadata_filter": "-all",
   "main_language": "python",
   "notebook_metadata_filter": "-all",
   "text_representation": {
    "extension": ".py",
    "format_name": "light"
   }
  },
  "language_info": {
   "codemirror_mode": {
    "name": "ipython",
    "version": 3
   },
   "file_extension": ".py",
   "mimetype": "text/x-python",
   "name": "python",
   "nbconvert_exporter": "python",
   "pygments_lexer": "ipython3",
   "version": "3.10.11"
  }
 },
 "nbformat": 4,
 "nbformat_minor": 5
}
