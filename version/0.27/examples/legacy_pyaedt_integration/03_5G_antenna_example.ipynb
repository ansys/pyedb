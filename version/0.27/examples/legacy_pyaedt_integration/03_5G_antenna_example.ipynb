{
 "cells": [
  {
   "cell_type": "markdown",
   "id": "04ffe280",
   "metadata": {},
   "source": [
    "Copyright (C) 2023 - 2024 ANSYS, Inc. and/or its affiliates.\n",
    "SPDX-License-Identifier: MIT\n",
    "\n",
    "\n",
    "Permission is hereby granted, free of charge, to any person obtaining a copy\n",
    "of this software and associated documentation files (the \"Software\"), to deal\n",
    "in the Software without restriction, including without limitation the rights\n",
    "to use, copy, modify, merge, publish, distribute, sublicense, and/or sell\n",
    "copies of the Software, and to permit persons to whom the Software is\n",
    "furnished to do so, subject to the following conditions:\n",
    "\n",
    "The above copyright notice and this permission notice shall be included in all\n",
    "copies or substantial portions of the Software.\n",
    "\n",
    "THE SOFTWARE IS PROVIDED \"AS IS\", WITHOUT WARRANTY OF ANY KIND, EXPRESS OR\n",
    "IMPLIED, INCLUDING BUT NOT LIMITED TO THE WARRANTIES OF MERCHANTABILITY,\n",
    "FITNESS FOR A PARTICULAR PURPOSE AND NONINFRINGEMENT. IN NO EVENT SHALL THE\n",
    "AUTHORS OR COPYRIGHT HOLDERS BE LIABLE FOR ANY CLAIM, DAMAGES OR OTHER\n",
    "LIABILITY, WHETHER IN AN ACTION OF CONTRACT, TORT OR OTHERWISE, ARISING FROM,\n",
    "OUT OF OR IN CONNECTION WITH THE SOFTWARE OR THE USE OR OTHER DEALINGS IN THE\n",
    "SOFTWARE."
   ]
  },
  {
   "cell_type": "markdown",
   "id": "3964cd89",
   "metadata": {},
   "source": [
    "## EDB: 5G linear array antenna\n",
    "\n",
    "This example shows how you can use HFSS 3D Layout to create and solve a 5G linear array antenna."
   ]
  },
  {
   "cell_type": "markdown",
   "id": "6b131870",
   "metadata": {},
   "source": [
    "## Perform required imports\n",
    "\n",
    "Perform required imports."
   ]
  },
  {
   "cell_type": "code",
   "execution_count": 1,
   "id": "fd678def",
   "metadata": {
    "execution": {
     "iopub.execute_input": "2024-09-06T07:45:00.795121Z",
     "iopub.status.busy": "2024-09-06T07:45:00.795121Z",
     "iopub.status.idle": "2024-09-06T07:45:00.810760Z",
     "shell.execute_reply": "2024-09-06T07:45:00.810760Z"
    }
   },
   "outputs": [],
   "source": [
    "import os\n",
    "import tempfile"
   ]
  },
  {
   "cell_type": "code",
   "execution_count": 2,
   "id": "06f5986a",
   "metadata": {
    "execution": {
     "iopub.execute_input": "2024-09-06T07:45:00.810760Z",
     "iopub.status.busy": "2024-09-06T07:45:00.810760Z",
     "iopub.status.idle": "2024-09-06T07:45:01.373675Z",
     "shell.execute_reply": "2024-09-06T07:45:01.373675Z"
    }
   },
   "outputs": [
    {
     "name": "stdout",
     "output_type": "stream",
     "text": [
      "FutureWarning: Module 'pyaedt' has become an alias to the new package structure. Please update you imports to use the new architecture based on 'ansys.aedt.core'. In addition, some files have been renamed to follow the PEP 8 naming convention. The old structure and file names will be deprecated in future versions, see https://aedt.docs.pyansys.com/version/stable/release_1_0.html\n"
     ]
    }
   ],
   "source": [
    "from pyaedt import Hfss3dLayout"
   ]
  },
  {
   "cell_type": "code",
   "execution_count": 3,
   "id": "1a5dc101",
   "metadata": {
    "execution": {
     "iopub.execute_input": "2024-09-06T07:45:01.373675Z",
     "iopub.status.busy": "2024-09-06T07:45:01.373675Z",
     "iopub.status.idle": "2024-09-06T07:45:01.404925Z",
     "shell.execute_reply": "2024-09-06T07:45:01.404925Z"
    }
   },
   "outputs": [],
   "source": [
    "import pyedb\n",
    "from pyedb.generic.general_methods import generate_unique_name"
   ]
  },
  {
   "cell_type": "markdown",
   "id": "d3a9e670",
   "metadata": {},
   "source": [
    "## Set non-graphical mode\n",
    "\n",
    "Set non-graphical mode. The default is ``False``."
   ]
  },
  {
   "cell_type": "code",
   "execution_count": 4,
   "id": "661235f9",
   "metadata": {
    "execution": {
     "iopub.execute_input": "2024-09-06T07:45:01.404925Z",
     "iopub.status.busy": "2024-09-06T07:45:01.404925Z",
     "iopub.status.idle": "2024-09-06T07:45:01.420553Z",
     "shell.execute_reply": "2024-09-06T07:45:01.420553Z"
    }
   },
   "outputs": [],
   "source": [
    "non_graphical = False"
   ]
  },
  {
   "cell_type": "code",
   "execution_count": 5,
   "id": "a7a7ddfc",
   "metadata": {
    "execution": {
     "iopub.execute_input": "2024-09-06T07:45:01.420553Z",
     "iopub.status.busy": "2024-09-06T07:45:01.420553Z",
     "iopub.status.idle": "2024-09-06T07:45:01.436255Z",
     "shell.execute_reply": "2024-09-06T07:45:01.436255Z"
    }
   },
   "outputs": [],
   "source": [
    "class Patch:\n",
    "    def __init__(self, width=0.0, height=0.0, position=0.0):\n",
    "        self.width = width\n",
    "        self.height = height\n",
    "        self.position = position\n",
    "\n",
    "    @property\n",
    "    def points(self):\n",
    "        return [\n",
    "            [self.position, -self.height / 2],\n",
    "            [self.position + self.width, -self.height / 2],\n",
    "            [self.position + self.width, self.height / 2],\n",
    "            [self.position, self.height / 2],\n",
    "        ]"
   ]
  },
  {
   "cell_type": "code",
   "execution_count": 6,
   "id": "3a6d6547",
   "metadata": {
    "execution": {
     "iopub.execute_input": "2024-09-06T07:45:01.436255Z",
     "iopub.status.busy": "2024-09-06T07:45:01.436255Z",
     "iopub.status.idle": "2024-09-06T07:45:01.451871Z",
     "shell.execute_reply": "2024-09-06T07:45:01.451871Z"
    }
   },
   "outputs": [],
   "source": [
    "class Line:\n",
    "    def __init__(self, length=0.0, width=0.0, position=0.0):\n",
    "        self.length = length\n",
    "        self.width = width\n",
    "        self.position = position\n",
    "\n",
    "    @property\n",
    "    def points(self):\n",
    "        return [\n",
    "            [self.position, -self.width / 2],\n",
    "            [self.position + self.length, -self.width / 2],\n",
    "            [self.position + self.length, self.width / 2],\n",
    "            [self.position, self.width / 2],\n",
    "        ]"
   ]
  },
  {
   "cell_type": "code",
   "execution_count": 7,
   "id": "3ed2c6b3",
   "metadata": {
    "execution": {
     "iopub.execute_input": "2024-09-06T07:45:01.451871Z",
     "iopub.status.busy": "2024-09-06T07:45:01.451871Z",
     "iopub.status.idle": "2024-09-06T07:45:01.467552Z",
     "shell.execute_reply": "2024-09-06T07:45:01.467552Z"
    }
   },
   "outputs": [],
   "source": [
    "class LinearArray:\n",
    "    def __init__(self, nb_patch=1, array_length=10e-3, array_width=5e-3):\n",
    "        self.nbpatch = nb_patch\n",
    "        self.length = array_length\n",
    "        self.width = array_width\n",
    "\n",
    "    @property\n",
    "    def points(self):\n",
    "        return [\n",
    "            [-1e-3, -self.width / 2 - 1e-3],\n",
    "            [self.length + 1e-3, -self.width / 2 - 1e-3],\n",
    "            [self.length + 1e-3, self.width / 2 + 1e-3],\n",
    "            [-1e-3, self.width / 2 + 1e-3],\n",
    "        ]"
   ]
  },
  {
   "cell_type": "code",
   "execution_count": 8,
   "id": "3dabe9b8",
   "metadata": {
    "execution": {
     "iopub.execute_input": "2024-09-06T07:45:01.467552Z",
     "iopub.status.busy": "2024-09-06T07:45:01.467552Z",
     "iopub.status.idle": "2024-09-06T07:45:15.117263Z",
     "shell.execute_reply": "2024-09-06T07:45:15.117263Z"
    }
   },
   "outputs": [
    {
     "name": "stdout",
     "output_type": "stream",
     "text": [
      "C:\\Users\\ansys\\AppData\\Local\\Temp\\pcb_NYUI7X.aedb\n"
     ]
    },
    {
     "name": "stdout",
     "output_type": "stream",
     "text": [
      "PyAEDT INFO: Logger is initialized in EDB.\n"
     ]
    },
    {
     "name": "stdout",
     "output_type": "stream",
     "text": [
      "PyAEDT INFO: legacy v0.27.0\n"
     ]
    },
    {
     "name": "stdout",
     "output_type": "stream",
     "text": [
      "PyAEDT INFO: Python version 3.10.11 (tags/v3.10.11:7d4cc5a, Apr  5 2023, 00:38:17) [MSC v.1929 64 bit (AMD64)]\n"
     ]
    },
    {
     "name": "stdout",
     "output_type": "stream",
     "text": [
      "PyAEDT INFO: EDB C:\\Users\\ansys\\AppData\\Local\\Temp\\pcb_NYUI7X.aedb created correctly.\n"
     ]
    },
    {
     "name": "stdout",
     "output_type": "stream",
     "text": [
      "PyAEDT INFO: EDB initialized.\n"
     ]
    }
   ],
   "source": [
    "tmpfold = tempfile.gettempdir()\n",
    "aedb_path = os.path.join(tmpfold, generate_unique_name(\"pcb\") + \".aedb\")\n",
    "print(aedb_path)\n",
    "edb = pyedb.Edb(edbpath=aedb_path, edbversion=\"2024.2\")"
   ]
  },
  {
   "cell_type": "code",
   "execution_count": 9,
   "id": "2f5ce4c2",
   "metadata": {
    "execution": {
     "iopub.execute_input": "2024-09-06T07:45:15.117263Z",
     "iopub.status.busy": "2024-09-06T07:45:15.117263Z",
     "iopub.status.idle": "2024-09-06T07:45:15.132887Z",
     "shell.execute_reply": "2024-09-06T07:45:15.132887Z"
    }
   },
   "outputs": [],
   "source": [
    "# ## Add stackup layers\n",
    "#\n",
    "# Add the stackup layers.\n",
    "layers = {\n",
    "    \"TOP\": {\"type\": \"signal\", \"thicness\": \"35um\", \"material\": \"copper\"},\n",
    "    \"Substrat\": {\"type\": \"dielectric\", \"thicness\": \"0.5mm\", \"material\": \"Duroid (tm)\"},\n",
    "    \"GND\": {\"type\": \"signal\", \"thicness\": \"35um\", \"material\": \"copper\"},\n",
    "    \"Gap\": {\"type\": \"dielectric\", \"thicness\": \"0.05mm\", \"material\": \"Air\"},\n",
    "    \"Virt_GND\": {\"type\": \"signal\", \"thicness\": \"35um\", \"material\": \"copper\"},\n",
    "}"
   ]
  },
  {
   "cell_type": "code",
   "execution_count": 10,
   "id": "7bb630ce",
   "metadata": {
    "execution": {
     "iopub.execute_input": "2024-09-06T07:45:15.132887Z",
     "iopub.status.busy": "2024-09-06T07:45:15.132887Z",
     "iopub.status.idle": "2024-09-06T07:45:15.320887Z",
     "shell.execute_reply": "2024-09-06T07:45:15.320887Z"
    },
    "lines_to_next_cell": 2
   },
   "outputs": [
    {
     "name": "stdout",
     "output_type": "stream",
     "text": [
      "PyAEDT INFO: Configuration file does not have material definition. Using aedb and syslib materials.\n"
     ]
    },
    {
     "data": {
      "text/plain": [
       "True"
      ]
     },
     "execution_count": 10,
     "metadata": {},
     "output_type": "execute_result"
    }
   ],
   "source": [
    "edb.stackup.load(layers)"
   ]
  },
  {
   "cell_type": "markdown",
   "id": "5a5f1193",
   "metadata": {},
   "source": [
    "## Create linear array\n",
    "\n",
    "Create the first patch of the linear array."
   ]
  },
  {
   "cell_type": "code",
   "execution_count": 11,
   "id": "a6b7491d",
   "metadata": {
    "execution": {
     "iopub.execute_input": "2024-09-06T07:45:15.320887Z",
     "iopub.status.busy": "2024-09-06T07:45:15.320887Z",
     "iopub.status.idle": "2024-09-06T07:45:15.399014Z",
     "shell.execute_reply": "2024-09-06T07:45:15.399014Z"
    }
   },
   "outputs": [
    {
     "data": {
      "text/plain": [
       "<pyedb.dotnet.edb_core.edb_data.primitives_data.EdbPolygon at 0x26a23d7e8b0>"
      ]
     },
     "execution_count": 11,
     "metadata": {},
     "output_type": "execute_result"
    }
   ],
   "source": [
    "first_patch = Patch(width=1.4e-3, height=1.2e-3, position=0.0)\n",
    "edb.modeler.create_polygon(first_patch.points, \"TOP\", net_name=\"Array_antenna\")\n",
    "# First line\n",
    "first_line = Line(length=2.4e-3, width=0.3e-3, position=first_patch.width)\n",
    "edb.modeler.create_polygon(first_line.points, \"TOP\", net_name=\"Array_antenna\")"
   ]
  },
  {
   "cell_type": "markdown",
   "id": "f1636404",
   "metadata": {},
   "source": [
    "## Patch linear array\n",
    "\n",
    "Patch the linear array."
   ]
  },
  {
   "cell_type": "code",
   "execution_count": 12,
   "id": "88373964",
   "metadata": {
    "execution": {
     "iopub.execute_input": "2024-09-06T07:45:15.399014Z",
     "iopub.status.busy": "2024-09-06T07:45:15.399014Z",
     "iopub.status.idle": "2024-09-06T07:45:15.414638Z",
     "shell.execute_reply": "2024-09-06T07:45:15.414638Z"
    }
   },
   "outputs": [],
   "source": [
    "patch = Patch(width=2.29e-3, height=3.3e-3)\n",
    "line = Line(length=1.9e-3, width=0.2e-3)\n",
    "linear_array = LinearArray(nb_patch=8, array_width=patch.height)"
   ]
  },
  {
   "cell_type": "code",
   "execution_count": 13,
   "id": "b6a4f2b9",
   "metadata": {
    "execution": {
     "iopub.execute_input": "2024-09-06T07:45:15.414638Z",
     "iopub.status.busy": "2024-09-06T07:45:15.414638Z",
     "iopub.status.idle": "2024-09-06T07:45:15.430274Z",
     "shell.execute_reply": "2024-09-06T07:45:15.430274Z"
    }
   },
   "outputs": [],
   "source": [
    "current_patch = 1\n",
    "current_position = first_line.position + first_line.length"
   ]
  },
  {
   "cell_type": "code",
   "execution_count": 14,
   "id": "c4490879",
   "metadata": {
    "execution": {
     "iopub.execute_input": "2024-09-06T07:45:15.430274Z",
     "iopub.status.busy": "2024-09-06T07:45:15.430274Z",
     "iopub.status.idle": "2024-09-06T07:45:15.492714Z",
     "shell.execute_reply": "2024-09-06T07:45:15.492714Z"
    }
   },
   "outputs": [],
   "source": [
    "while current_patch <= linear_array.nbpatch:\n",
    "    patch.position = current_position\n",
    "    edb.modeler.create_polygon(patch.points, \"TOP\", net_name=\"Array_antenna\")\n",
    "    current_position += patch.width\n",
    "    if current_patch < linear_array.nbpatch:\n",
    "        line.position = current_position\n",
    "        edb.modeler.create_polygon(line.points, \"TOP\", net_name=\"Array_antenna\")\n",
    "        current_position += line.length\n",
    "    current_patch += 1"
   ]
  },
  {
   "cell_type": "code",
   "execution_count": 15,
   "id": "a87d5ee4",
   "metadata": {
    "execution": {
     "iopub.execute_input": "2024-09-06T07:45:15.492714Z",
     "iopub.status.busy": "2024-09-06T07:45:15.492714Z",
     "iopub.status.idle": "2024-09-06T07:45:15.508343Z",
     "shell.execute_reply": "2024-09-06T07:45:15.508343Z"
    }
   },
   "outputs": [],
   "source": [
    "linear_array.length = current_position"
   ]
  },
  {
   "cell_type": "markdown",
   "id": "c0c8b1e6",
   "metadata": {},
   "source": [
    "## Add ground\n",
    "\n",
    "Add a ground."
   ]
  },
  {
   "cell_type": "code",
   "execution_count": 16,
   "id": "47a524bc",
   "metadata": {
    "execution": {
     "iopub.execute_input": "2024-09-06T07:45:15.508343Z",
     "iopub.status.busy": "2024-09-06T07:45:15.508343Z",
     "iopub.status.idle": "2024-09-06T07:45:15.523970Z",
     "shell.execute_reply": "2024-09-06T07:45:15.523970Z"
    },
    "lines_to_next_cell": 2
   },
   "outputs": [
    {
     "data": {
      "text/plain": [
       "<pyedb.dotnet.edb_core.edb_data.primitives_data.EdbPolygon at 0x26a23cbb270>"
      ]
     },
     "execution_count": 16,
     "metadata": {},
     "output_type": "execute_result"
    }
   ],
   "source": [
    "edb.modeler.create_polygon(linear_array.points, \"GND\", net_name=\"GND\")"
   ]
  },
  {
   "cell_type": "markdown",
   "id": "c45377ae",
   "metadata": {},
   "source": [
    "## Add connector pin\n",
    "\n",
    "Add a central connector pin."
   ]
  },
  {
   "cell_type": "code",
   "execution_count": 17,
   "id": "8d4d6b19",
   "metadata": {
    "execution": {
     "iopub.execute_input": "2024-09-06T07:45:15.523970Z",
     "iopub.status.busy": "2024-09-06T07:45:15.523970Z",
     "iopub.status.idle": "2024-09-06T07:45:15.570887Z",
     "shell.execute_reply": "2024-09-06T07:45:15.570887Z"
    }
   },
   "outputs": [
    {
     "name": "stdout",
     "output_type": "stream",
     "text": [
      "PyAEDT INFO: Padstack Connector_pin create correctly\n"
     ]
    }
   ],
   "source": [
    "edb.padstacks.create(padstackname=\"Connector_pin\", holediam=\"100um\", paddiam=\"0\", antipaddiam=\"200um\")\n",
    "con_pin = edb.padstacks.place(\n",
    "    [first_patch.width / 4, 0],\n",
    "    \"Connector_pin\",\n",
    "    net_name=\"Array_antenna\",\n",
    "    fromlayer=\"TOP\",\n",
    "    tolayer=\"GND\",\n",
    "    via_name=\"coax\",\n",
    ")"
   ]
  },
  {
   "cell_type": "markdown",
   "id": "1f7ca470",
   "metadata": {},
   "source": [
    "## Add connector ground\n",
    "\n",
    "Add a connector ground."
   ]
  },
  {
   "cell_type": "code",
   "execution_count": 18,
   "id": "49b089a4",
   "metadata": {
    "execution": {
     "iopub.execute_input": "2024-09-06T07:45:15.570887Z",
     "iopub.status.busy": "2024-09-06T07:45:15.570887Z",
     "iopub.status.idle": "2024-09-06T07:45:15.617762Z",
     "shell.execute_reply": "2024-09-06T07:45:15.617762Z"
    }
   },
   "outputs": [
    {
     "name": "stdout",
     "output_type": "stream",
     "text": [
      "PyAEDT INFO: Padstack gnd_via create correctly\n"
     ]
    }
   ],
   "source": [
    "edb.modeler.create_polygon(first_patch.points, \"Virt_GND\", net_name=\"GND\")\n",
    "edb.padstacks.create(\"gnd_via\", \"100um\", \"0\", \"0\")\n",
    "con_ref1 = edb.padstacks.place(\n",
    "    [first_patch.points[0][0] + 0.2e-3, first_patch.points[0][1] + 0.2e-3],\n",
    "    \"gnd_via\",\n",
    "    fromlayer=\"GND\",\n",
    "    tolayer=\"Virt_GND\",\n",
    "    net_name=\"GND\",\n",
    ")\n",
    "con_ref2 = edb.padstacks.place(\n",
    "    [first_patch.points[1][0] - 0.2e-3, first_patch.points[1][1] + 0.2e-3],\n",
    "    \"gnd_via\",\n",
    "    fromlayer=\"GND\",\n",
    "    tolayer=\"Virt_GND\",\n",
    "    net_name=\"GND\",\n",
    ")\n",
    "con_ref3 = edb.padstacks.place(\n",
    "    [first_patch.points[2][0] - 0.2e-3, first_patch.points[2][1] - 0.2e-3],\n",
    "    \"gnd_via\",\n",
    "    fromlayer=\"GND\",\n",
    "    tolayer=\"Virt_GND\",\n",
    "    net_name=\"GND\",\n",
    ")\n",
    "con_ref4 = edb.padstacks.place(\n",
    "    [first_patch.points[3][0] + 0.2e-3, first_patch.points[3][1] - 0.2e-3],\n",
    "    \"gnd_via\",\n",
    "    fromlayer=\"GND\",\n",
    "    tolayer=\"Virt_GND\",\n",
    "    net_name=\"GND\",\n",
    ")"
   ]
  },
  {
   "cell_type": "markdown",
   "id": "67170864",
   "metadata": {},
   "source": [
    "## Add excitation port\n",
    "\n",
    "Add an excitation port."
   ]
  },
  {
   "cell_type": "code",
   "execution_count": 19,
   "id": "435234f5",
   "metadata": {
    "execution": {
     "iopub.execute_input": "2024-09-06T07:45:15.617762Z",
     "iopub.status.busy": "2024-09-06T07:45:15.617762Z",
     "iopub.status.idle": "2024-09-06T07:45:15.649014Z",
     "shell.execute_reply": "2024-09-06T07:45:15.649014Z"
    },
    "lines_to_next_cell": 2
   },
   "outputs": [],
   "source": [
    "edb.padstacks.set_solderball(con_pin, \"Virt_GND\", isTopPlaced=False, ballDiam=0.1e-3)\n",
    "port_name = edb.padstacks.create_coax_port(con_pin)"
   ]
  },
  {
   "cell_type": "markdown",
   "id": "71e37480",
   "metadata": {},
   "source": [
    "## Plot geometry\n",
    "\n",
    "Plot the geometry."
   ]
  },
  {
   "cell_type": "code",
   "execution_count": 20,
   "id": "db0ebaca",
   "metadata": {
    "execution": {
     "iopub.execute_input": "2024-09-06T07:45:15.649014Z",
     "iopub.status.busy": "2024-09-06T07:45:15.649014Z",
     "iopub.status.idle": "2024-09-06T07:45:15.774491Z",
     "shell.execute_reply": "2024-09-06T07:45:15.774491Z"
    }
   },
   "outputs": [
    {
     "name": "stdout",
     "output_type": "stream",
     "text": [
      "PyAEDT INFO: Nets Point Generation time 0.045 seconds\n"
     ]
    },
    {
     "name": "stderr",
     "output_type": "stream",
     "text": [
      "C:\\actions-runner\\_work\\pyedb\\pyedb\\.venv\\lib\\site-packages\\pyedb\\generic\\plot.py:144: UserWarning: FigureCanvasAgg is non-interactive, and thus cannot be shown\n",
      "  plt.show()\n"
     ]
    }
   ],
   "source": [
    "edb.nets.plot(None)"
   ]
  },
  {
   "cell_type": "markdown",
   "id": "0e86aaf7",
   "metadata": {},
   "source": [
    "## Save and close Edb instance prior to opening it in Electronics Desktop.\n",
    "\n",
    "Save EDB."
   ]
  },
  {
   "cell_type": "code",
   "execution_count": 21,
   "id": "1f16a7c9",
   "metadata": {
    "execution": {
     "iopub.execute_input": "2024-09-06T07:45:15.774491Z",
     "iopub.status.busy": "2024-09-06T07:45:15.774491Z",
     "iopub.status.idle": "2024-09-06T07:45:15.805740Z",
     "shell.execute_reply": "2024-09-06T07:45:15.805740Z"
    }
   },
   "outputs": [
    {
     "name": "stdout",
     "output_type": "stream",
     "text": [
      "PyAEDT INFO: EDB file save time: 0.00ms\n"
     ]
    },
    {
     "name": "stdout",
     "output_type": "stream",
     "text": [
      "PyAEDT INFO: EDB file release time: 0.00ms\n"
     ]
    },
    {
     "name": "stdout",
     "output_type": "stream",
     "text": [
      "EDB saved correctly to C:\\Users\\ansys\\AppData\\Local\\Temp\\pcb_NYUI7X.aedb. You can import in AEDT.\n"
     ]
    }
   ],
   "source": [
    "edb.save_edb()\n",
    "edb.close_edb()\n",
    "print(\"EDB saved correctly to {}. You can import in AEDT.\".format(aedb_path))"
   ]
  },
  {
   "cell_type": "markdown",
   "id": "d36803d3",
   "metadata": {},
   "source": [
    "## Launch HFSS 3D Layout and open EDB\n",
    "\n",
    "Launch HFSS 3D Layout and open EDB."
   ]
  },
  {
   "cell_type": "code",
   "execution_count": 22,
   "id": "f30720fc",
   "metadata": {
    "execution": {
     "iopub.execute_input": "2024-09-06T07:45:15.805740Z",
     "iopub.status.busy": "2024-09-06T07:45:15.805740Z",
     "iopub.status.idle": "2024-09-06T07:45:56.629964Z",
     "shell.execute_reply": "2024-09-06T07:45:56.629964Z"
    }
   },
   "outputs": [
    {
     "name": "stdout",
     "output_type": "stream",
     "text": [
      "PyAEDT WARNING: Argument `projectname` is deprecated for method `__init__`; use `project` instead.\n"
     ]
    },
    {
     "name": "stdout",
     "output_type": "stream",
     "text": [
      "PyAEDT WARNING: Argument `specified_version` is deprecated for method `__init__`; use `version` instead.\n"
     ]
    },
    {
     "name": "stdout",
     "output_type": "stream",
     "text": [
      "PyAEDT WARNING: Argument `new_desktop_session` is deprecated for method `__init__`; use `new_desktop` instead.\n"
     ]
    },
    {
     "name": "stdout",
     "output_type": "stream",
     "text": [
      "PyAEDT INFO: Python version 3.10.11 (tags/v3.10.11:7d4cc5a, Apr  5 2023, 00:38:17) [MSC v.1929 64 bit (AMD64)]\n"
     ]
    },
    {
     "name": "stdout",
     "output_type": "stream",
     "text": [
      "PyAEDT INFO: PyAEDT version 0.11.dev0.\n"
     ]
    },
    {
     "name": "stdout",
     "output_type": "stream",
     "text": [
      "PyAEDT INFO: Initializing new Desktop session.\n"
     ]
    },
    {
     "name": "stdout",
     "output_type": "stream",
     "text": [
      "PyAEDT INFO: Log on console is enabled.\n"
     ]
    },
    {
     "name": "stdout",
     "output_type": "stream",
     "text": [
      "PyAEDT INFO: Log on file C:\\Users\\ansys\\AppData\\Local\\Temp\\pyaedt_ansys_7759ea64-291a-4af3-b34f-9933fcb576f6.log is enabled.\n"
     ]
    },
    {
     "name": "stdout",
     "output_type": "stream",
     "text": [
      "PyAEDT INFO: Log on AEDT is enabled.\n"
     ]
    },
    {
     "name": "stdout",
     "output_type": "stream",
     "text": [
      "PyAEDT INFO: Debug logger is disabled. PyAEDT methods will not be logged.\n"
     ]
    },
    {
     "name": "stdout",
     "output_type": "stream",
     "text": [
      "PyAEDT INFO: Launching PyAEDT with gRPC plugin.\n"
     ]
    },
    {
     "name": "stdout",
     "output_type": "stream",
     "text": [
      "PyAEDT INFO: New AEDT session is starting on gRPC port 52221\n"
     ]
    },
    {
     "name": "stdout",
     "output_type": "stream",
     "text": [
      "PyAEDT INFO: AEDT installation Path C:\\Program Files\\AnsysEM\\v242\\Win64\n"
     ]
    },
    {
     "name": "stdout",
     "output_type": "stream",
     "text": [
      "PyAEDT INFO: Ansoft.ElectronicsDesktop.2024.2 version started with process ID 6548.\n"
     ]
    },
    {
     "name": "stdout",
     "output_type": "stream",
     "text": [
      "PyAEDT INFO: EDB folder C:\\Users\\ansys\\AppData\\Local\\Temp\\pcb_NYUI7X.aedb has been imported to project pcb_NYUI7X\n"
     ]
    },
    {
     "name": "stdout",
     "output_type": "stream",
     "text": [
      "PyAEDT INFO: Active Design set to 0;Cell_APIURL\n"
     ]
    },
    {
     "name": "stdout",
     "output_type": "stream",
     "text": [
      "PyAEDT INFO: Aedt Objects correctly read\n"
     ]
    }
   ],
   "source": [
    "h3d = Hfss3dLayout(\n",
    "    projectname=aedb_path, specified_version=\"2024.2\", new_desktop_session=True, non_graphical=non_graphical\n",
    ")"
   ]
  },
  {
   "cell_type": "markdown",
   "id": "4e554083",
   "metadata": {},
   "source": [
    "## Plot geometry\n",
    "\n",
    "Plot the geometry. The EDB methods are also accessible from the ``Hfss3dlayout`` class."
   ]
  },
  {
   "cell_type": "code",
   "execution_count": 23,
   "id": "bc12454d",
   "metadata": {
    "execution": {
     "iopub.execute_input": "2024-09-06T07:45:56.629964Z",
     "iopub.status.busy": "2024-09-06T07:45:56.629964Z",
     "iopub.status.idle": "2024-09-06T07:45:56.883498Z",
     "shell.execute_reply": "2024-09-06T07:45:56.882337Z"
    }
   },
   "outputs": [
    {
     "name": "stdout",
     "output_type": "stream",
     "text": [
      "PyAEDT INFO: Loading Modeler.\n"
     ]
    },
    {
     "name": "stdout",
     "output_type": "stream",
     "text": [
      "PyAEDT INFO: Modeler loaded.\n"
     ]
    },
    {
     "name": "stdout",
     "output_type": "stream",
     "text": [
      "PyAEDT INFO: EDB loaded.\n"
     ]
    },
    {
     "name": "stdout",
     "output_type": "stream",
     "text": [
      "PyAEDT INFO: Layers loaded.\n"
     ]
    },
    {
     "name": "stdout",
     "output_type": "stream",
     "text": [
      "PyAEDT INFO: Primitives loaded.\n"
     ]
    },
    {
     "name": "stdout",
     "output_type": "stream",
     "text": [
      "PyAEDT INFO: Modeler class has been initialized! Elapsed time: 0m 0sec\n"
     ]
    },
    {
     "name": "stdout",
     "output_type": "stream",
     "text": [
      "PyAEDT INFO: Logger is initialized in EDB.\n"
     ]
    },
    {
     "name": "stdout",
     "output_type": "stream",
     "text": [
      "PyAEDT INFO: legacy v0.27.0\n"
     ]
    },
    {
     "name": "stdout",
     "output_type": "stream",
     "text": [
      "PyAEDT INFO: Python version 3.10.11 (tags/v3.10.11:7d4cc5a, Apr  5 2023, 00:38:17) [MSC v.1929 64 bit (AMD64)]\n"
     ]
    },
    {
     "name": "stdout",
     "output_type": "stream",
     "text": [
      "PyAEDT INFO: Database pcb_NYUI7X.aedb Opened in 2024.2\n"
     ]
    },
    {
     "name": "stdout",
     "output_type": "stream",
     "text": [
      "PyAEDT INFO: Cell Cell_APIURL Opened\n"
     ]
    },
    {
     "name": "stdout",
     "output_type": "stream",
     "text": [
      "PyAEDT INFO: Builder was initialized.\n"
     ]
    },
    {
     "name": "stdout",
     "output_type": "stream",
     "text": [
      "PyAEDT INFO: EDB initialized.\n"
     ]
    },
    {
     "name": "stdout",
     "output_type": "stream",
     "text": [
      "PyAEDT INFO: Nets Point Generation time 0.158 seconds\n"
     ]
    }
   ],
   "source": [
    "h3d.modeler.edb.nets.plot(None)"
   ]
  },
  {
   "cell_type": "markdown",
   "id": "a79e46c3",
   "metadata": {},
   "source": [
    "## Create setup and sweeps\n",
    "\n",
    "Getters and setters facilitate the settings on the nested property dictionary.\n",
    "Previously, you had to use these commands:\n",
    "\n",
    "``setup.props[\"AdaptiveSettings\"][\"SingleFrequencyDataList\"][\"AdaptiveFrequencyData\"][\"AdaptiveFrequency\"] = \"20GHz\"``\n",
    "``setup.props[\"AdaptiveSettings\"][\"SingleFrequencyDataList\"][\"AdaptiveFrequencyData\"][\"MaxPasses\"] = 4``\n",
    "\n",
    "You can now use the simpler approach that follows."
   ]
  },
  {
   "cell_type": "code",
   "execution_count": 24,
   "id": "868eead2",
   "metadata": {
    "execution": {
     "iopub.execute_input": "2024-09-06T07:45:56.883498Z",
     "iopub.status.busy": "2024-09-06T07:45:56.883498Z",
     "iopub.status.idle": "2024-09-06T07:45:56.961679Z",
     "shell.execute_reply": "2024-09-06T07:45:56.961679Z"
    }
   },
   "outputs": [],
   "source": [
    "setup = h3d.create_setup()"
   ]
  },
  {
   "cell_type": "code",
   "execution_count": 25,
   "id": "606c12b4",
   "metadata": {
    "execution": {
     "iopub.execute_input": "2024-09-06T07:45:56.961679Z",
     "iopub.status.busy": "2024-09-06T07:45:56.961679Z",
     "iopub.status.idle": "2024-09-06T07:45:57.120371Z",
     "shell.execute_reply": "2024-09-06T07:45:57.120371Z"
    }
   },
   "outputs": [
    {
     "name": "stdout",
     "output_type": "stream",
     "text": [
      "PyAEDT WARNING: Argument `setupname` is deprecated for method `create_linear_count_sweep`; use `setup` instead.\n"
     ]
    },
    {
     "name": "stdout",
     "output_type": "stream",
     "text": [
      "PyAEDT WARNING: Argument `freqstart` is deprecated for method `create_linear_count_sweep`; use `start_frequency` instead.\n"
     ]
    },
    {
     "name": "stdout",
     "output_type": "stream",
     "text": [
      "PyAEDT WARNING: Argument `freqstop` is deprecated for method `create_linear_count_sweep`; use `stop_frequency` instead.\n"
     ]
    },
    {
     "name": "stdout",
     "output_type": "stream",
     "text": [
      "PyAEDT WARNING: Argument `sweepname` is deprecated for method `create_linear_count_sweep`; use `name` instead.\n"
     ]
    },
    {
     "name": "stdout",
     "output_type": "stream",
     "text": [
      "PyAEDT INFO: Linear count sweep sweep1 has been correctly created.\n"
     ]
    },
    {
     "data": {
      "text/plain": [
       "<ansys.aedt.core.modules.solve_sweeps.SweepHFSS3DLayout at 0x26a27827270>"
      ]
     },
     "execution_count": 25,
     "metadata": {},
     "output_type": "execute_result"
    }
   ],
   "source": [
    "setup[\"AdaptiveFrequency\"] = \"20GHz\"\n",
    "setup[\"AdaptiveSettings/SingleFrequencyDataList/AdaptiveFrequencyData/MaxPasses\"] = 4\n",
    "h3d.create_linear_count_sweep(\n",
    "    setupname=setup.name,\n",
    "    unit=\"GHz\",\n",
    "    freqstart=20,\n",
    "    freqstop=50,\n",
    "    num_of_freq_points=1001,\n",
    "    sweepname=\"sweep1\",\n",
    "    sweep_type=\"Interpolating\",\n",
    "    interpolation_tol_percent=1,\n",
    "    interpolation_max_solutions=255,\n",
    "    save_fields=False,\n",
    "    use_q3d_for_dc=False,\n",
    ")"
   ]
  },
  {
   "cell_type": "markdown",
   "id": "a862fdcc",
   "metadata": {},
   "source": [
    "## Solve setup and create report\n",
    "\n",
    "Solve the project and create a report."
   ]
  },
  {
   "cell_type": "code",
   "execution_count": 26,
   "id": "b1c4db9c",
   "metadata": {
    "execution": {
     "iopub.execute_input": "2024-09-06T07:45:57.120371Z",
     "iopub.status.busy": "2024-09-06T07:45:57.120371Z",
     "iopub.status.idle": "2024-09-06T07:47:27.229514Z",
     "shell.execute_reply": "2024-09-06T07:47:27.228418Z"
    },
    "lines_to_next_cell": 2
   },
   "outputs": [
    {
     "name": "stdout",
     "output_type": "stream",
     "text": [
      "PyAEDT INFO: Key Desktop/ActiveDSOConfigurations/HFSS 3D Layout Design correctly changed.\n"
     ]
    },
    {
     "name": "stdout",
     "output_type": "stream",
     "text": [
      "PyAEDT INFO: Solving all design setups.\n"
     ]
    },
    {
     "name": "stdout",
     "output_type": "stream",
     "text": [
      "PyAEDT INFO: Key Desktop/ActiveDSOConfigurations/HFSS 3D Layout Design correctly changed.\n"
     ]
    },
    {
     "name": "stdout",
     "output_type": "stream",
     "text": [
      "PyAEDT INFO: Design setup None solved correctly in 0.0h 1.0m 27.0s\n"
     ]
    },
    {
     "name": "stdout",
     "output_type": "stream",
     "text": [
      "PyAEDT INFO: Parsing C:/Users/ansys/AppData/Local/Temp/pcb_NYUI7X.aedt.\n"
     ]
    },
    {
     "name": "stdout",
     "output_type": "stream",
     "text": [
      "PyAEDT INFO: File C:/Users/ansys/AppData/Local/Temp/pcb_NYUI7X.aedt correctly loaded. Elapsed time: 0m 0sec\n"
     ]
    },
    {
     "name": "stdout",
     "output_type": "stream",
     "text": [
      "PyAEDT INFO: aedt file load time 0.01677107810974121\n"
     ]
    },
    {
     "name": "stdout",
     "output_type": "stream",
     "text": [
      "PyAEDT INFO: PostProcessor class has been initialized! Elapsed time: 0m 0sec\n"
     ]
    },
    {
     "name": "stdout",
     "output_type": "stream",
     "text": [
      "PyAEDT INFO: Post class has been initialized! Elapsed time: 0m 0sec\n"
     ]
    },
    {
     "data": {
      "text/plain": [
       "<ansys.aedt.core.modules.report_templates.Standard at 0x26a28ee3ac0>"
      ]
     },
     "execution_count": 26,
     "metadata": {},
     "output_type": "execute_result"
    }
   ],
   "source": [
    "h3d.analyze()\n",
    "h3d.post.create_report([\"db(S({0},{1}))\".format(port_name, port_name)])"
   ]
  },
  {
   "cell_type": "markdown",
   "id": "80272cd6",
   "metadata": {},
   "source": [
    "## Plot results outside AEDT\n",
    "\n",
    "Plot results using Matplotlib."
   ]
  },
  {
   "cell_type": "code",
   "execution_count": 27,
   "id": "0c241bb0",
   "metadata": {
    "execution": {
     "iopub.execute_input": "2024-09-06T07:47:27.229514Z",
     "iopub.status.busy": "2024-09-06T07:47:27.229514Z",
     "iopub.status.idle": "2024-09-06T07:47:27.323333Z",
     "shell.execute_reply": "2024-09-06T07:47:27.323333Z"
    }
   },
   "outputs": [
    {
     "name": "stdout",
     "output_type": "stream",
     "text": [
      "PyAEDT INFO: Solution Data Correctly Loaded.\n"
     ]
    },
    {
     "data": {
      "text/plain": [
       "<Figure size 2000x1000 with 1 Axes>"
      ]
     },
     "execution_count": 27,
     "metadata": {},
     "output_type": "execute_result"
    }
   ],
   "source": [
    "solution = h3d.post.get_solution_data([\"S({0},{1})\".format(port_name, port_name)])\n",
    "solution.plot()"
   ]
  },
  {
   "cell_type": "markdown",
   "id": "ca0d57d1",
   "metadata": {},
   "source": [
    "## Close AEDT\n",
    "\n",
    "After the simulation completes, you can close AEDT or release it using the\n",
    ":func:`dotnet.Desktop.release_desktop` method.\n",
    "All methods provide for saving the project before closing AEDT."
   ]
  },
  {
   "cell_type": "code",
   "execution_count": 28,
   "id": "3be9cbc0",
   "metadata": {
    "execution": {
     "iopub.execute_input": "2024-09-06T07:47:27.323333Z",
     "iopub.status.busy": "2024-09-06T07:47:27.323333Z",
     "iopub.status.idle": "2024-09-06T07:47:31.610306Z",
     "shell.execute_reply": "2024-09-06T07:47:31.610306Z"
    }
   },
   "outputs": [
    {
     "name": "stdout",
     "output_type": "stream",
     "text": [
      "PyAEDT INFO: Project pcb_NYUI7X Saved correctly\n"
     ]
    },
    {
     "name": "stdout",
     "output_type": "stream",
     "text": [
      "PyAEDT INFO: Desktop has been released and closed.\n"
     ]
    },
    {
     "data": {
      "text/plain": [
       "True"
      ]
     },
     "execution_count": 28,
     "metadata": {},
     "output_type": "execute_result"
    }
   ],
   "source": [
    "h3d.save_project()\n",
    "h3d.release_desktop()"
   ]
  }
 ],
 "metadata": {
  "jupytext": {
   "cell_metadata_filter": "-all",
   "main_language": "python",
   "notebook_metadata_filter": "-all",
   "text_representation": {
    "extension": ".py",
    "format_name": "light"
   }
  },
  "language_info": {
   "codemirror_mode": {
    "name": "ipython",
    "version": 3
   },
   "file_extension": ".py",
   "mimetype": "text/x-python",
   "name": "python",
   "nbconvert_exporter": "python",
   "pygments_lexer": "ipython3",
   "version": "3.10.11"
  }
 },
 "nbformat": 4,
 "nbformat_minor": 5
}
