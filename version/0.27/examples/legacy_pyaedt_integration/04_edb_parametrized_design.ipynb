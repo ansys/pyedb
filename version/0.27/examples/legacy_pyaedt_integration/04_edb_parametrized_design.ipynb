{
 "cells": [
  {
   "cell_type": "markdown",
   "id": "47bc8cff",
   "metadata": {},
   "source": [
    "# EDB: fully parametrized design\n",
    "\n",
    "This example shows how to use the EDB interface along with HFSS 3D Layout to create and solve a\n",
    "parameterized layout. The layout shows a differential via transition on a printed circuit board\n",
    "with back-to-back microstrip to stripline transitions.\n",
    "The model is fully parameterized to enable investigation of the transition performance on the\n",
    "many degrees of freedom.\n",
    "\n",
    "The resulting model is shown below\n",
    "\n",
    "<img src=\"_static\\pcb_transition_parameterized.png\" width=\"500\">"
   ]
  },
  {
   "cell_type": "code",
   "execution_count": 1,
   "id": "150ba397",
   "metadata": {
    "execution": {
     "iopub.execute_input": "2024-09-06T07:51:39.406192Z",
     "iopub.status.busy": "2024-09-06T07:51:39.406192Z",
     "iopub.status.idle": "2024-09-06T07:51:39.984655Z",
     "shell.execute_reply": "2024-09-06T07:51:39.984655Z"
    }
   },
   "outputs": [
    {
     "name": "stdout",
     "output_type": "stream",
     "text": [
      "FutureWarning: Module 'pyaedt' has become an alias to the new package structure. Please update you imports to use the new architecture based on 'ansys.aedt.core'. In addition, some files have been renamed to follow the PEP 8 naming convention. The old structure and file names will be deprecated in future versions, see https://aedt.docs.pyansys.com/version/stable/release_1_0.html\n"
     ]
    }
   ],
   "source": [
    "import os\n",
    "import tempfile\n",
    "\n",
    "import pyaedt\n",
    "\n",
    "import pyedb\n"
   ]
  },
  {
   "cell_type": "markdown",
   "id": "eb7955c5",
   "metadata": {},
   "source": [
    "## Set non-graphical mode\n",
    "\n",
    "Set non-graphical mode. The default is ``False``, which opens\n",
    "the AEDT UI."
   ]
  },
  {
   "cell_type": "code",
   "execution_count": 2,
   "id": "b45d8d5f",
   "metadata": {
    "execution": {
     "iopub.execute_input": "2024-09-06T07:51:39.984655Z",
     "iopub.status.busy": "2024-09-06T07:51:39.984655Z",
     "iopub.status.idle": "2024-09-06T07:51:40.000285Z",
     "shell.execute_reply": "2024-09-06T07:51:40.000285Z"
    }
   },
   "outputs": [],
   "source": [
    "non_graphical = False"
   ]
  },
  {
   "cell_type": "markdown",
   "id": "922563db",
   "metadata": {},
   "source": [
    "## Launch EDB."
   ]
  },
  {
   "cell_type": "code",
   "execution_count": 3,
   "id": "168c9973",
   "metadata": {
    "execution": {
     "iopub.execute_input": "2024-09-06T07:51:40.000285Z",
     "iopub.status.busy": "2024-09-06T07:51:40.000285Z",
     "iopub.status.idle": "2024-09-06T07:51:52.337831Z",
     "shell.execute_reply": "2024-09-06T07:51:52.337831Z"
    }
   },
   "outputs": [
    {
     "name": "stdout",
     "output_type": "stream",
     "text": [
      "EDB version: 2024.2\n"
     ]
    },
    {
     "name": "stdout",
     "output_type": "stream",
     "text": [
      "PyAEDT INFO: Logger is initialized in EDB.\n"
     ]
    },
    {
     "name": "stdout",
     "output_type": "stream",
     "text": [
      "PyAEDT INFO: legacy v0.27.0\n"
     ]
    },
    {
     "name": "stdout",
     "output_type": "stream",
     "text": [
      "PyAEDT INFO: Python version 3.10.11 (tags/v3.10.11:7d4cc5a, Apr  5 2023, 00:38:17) [MSC v.1929 64 bit (AMD64)]\n"
     ]
    },
    {
     "name": "stdout",
     "output_type": "stream",
     "text": [
      "PyAEDT INFO: EDB C:\\Users\\ansys\\AppData\\Local\\Temp\\tmp9l5un6rg.ansys\\pcb.aedb created correctly.\n"
     ]
    },
    {
     "name": "stdout",
     "output_type": "stream",
     "text": [
      "PyAEDT INFO: EDB initialized.\n"
     ]
    }
   ],
   "source": [
    "temp_dir = tempfile.TemporaryDirectory(suffix=\".ansys\")\n",
    "aedb_path = os.path.join(temp_dir.name, \"pcb.aedb\")\n",
    "\n",
    "# Select EDB version (change it manually if needed, e.g. \"2024.2\")\n",
    "edb_version = \"2024.2\"\n",
    "print(f\"EDB version: {edb_version}\")\n",
    "\n",
    "edb = pyedb.Edb(edbpath=aedb_path, edbversion=edb_version)"
   ]
  },
  {
   "cell_type": "markdown",
   "id": "006d02e1",
   "metadata": {},
   "source": [
    "Define the parameters."
   ]
  },
  {
   "cell_type": "code",
   "execution_count": 4,
   "id": "e478e5cd",
   "metadata": {
    "execution": {
     "iopub.execute_input": "2024-09-06T07:51:52.337831Z",
     "iopub.status.busy": "2024-09-06T07:51:52.337831Z",
     "iopub.status.idle": "2024-09-06T07:51:52.369080Z",
     "shell.execute_reply": "2024-09-06T07:51:52.369080Z"
    }
   },
   "outputs": [],
   "source": [
    "params = {\n",
    "    \"$ms_width\": \"0.4mm\",\n",
    "    \"$sl_width\": \"0.2mm\",\n",
    "    \"$ms_spacing\": \"0.2mm\",\n",
    "    \"$sl_spacing\": \"0.1mm\",\n",
    "    \"$via_spacing\": \"0.5mm\",\n",
    "    \"$via_diam\": \"0.3mm\",\n",
    "    \"$pad_diam\": \"0.6mm\",\n",
    "    \"$anti_pad_diam\": \"0.7mm\",\n",
    "    \"$pcb_len\": \"15mm\",\n",
    "    \"$pcb_w\": \"5mm\",\n",
    "    \"$x_size\": \"1.2mm\",\n",
    "    \"$y_size\": \"1mm\",\n",
    "    \"$corner_rad\": \"0.5mm\",\n",
    "}\n",
    "\n",
    "for par_name in params:\n",
    "    edb.add_project_variable(par_name, params[par_name])"
   ]
  },
  {
   "cell_type": "markdown",
   "id": "bdb0f9c2",
   "metadata": {},
   "source": [
    "Define the stackup layers from bottom to top."
   ]
  },
  {
   "cell_type": "code",
   "execution_count": 5,
   "id": "69be979a",
   "metadata": {
    "execution": {
     "iopub.execute_input": "2024-09-06T07:51:52.369080Z",
     "iopub.status.busy": "2024-09-06T07:51:52.369080Z",
     "iopub.status.idle": "2024-09-06T07:51:52.587836Z",
     "shell.execute_reply": "2024-09-06T07:51:52.587836Z"
    },
    "lines_to_next_cell": 2
   },
   "outputs": [
    {
     "name": "stdout",
     "output_type": "stream",
     "text": [
      "PyAEDT INFO: Configuration file does not have material definition. Using aedb and syslib materials.\n"
     ]
    },
    {
     "data": {
      "text/plain": [
       "True"
      ]
     },
     "execution_count": 5,
     "metadata": {},
     "output_type": "execute_result"
    }
   ],
   "source": [
    "layers = {\n",
    "    \"top\": {\"type\": \"signal\", \"thickness\": \"35um\", \"material\": \"copper\"},\n",
    "    \"diel_1\": {\"type\": \"dielectric\", \"thickness\": \"275um\", \"material\": \"FR4_epoxy\"},\n",
    "    \"sig_1\": {\"type\": \"signal\", \"thickness\": \"35um\", \"material\": \"copper\"},\n",
    "    \"diel_2\": {\"type\": \"dielectric\", \"thickness\": \"275um\", \"material\": \"FR4_epoxy\"},\n",
    "    \"sig_2\": {\"type\": \"signal\", \"thickness\": \"35um\", \"material\": \"copper\"},\n",
    "    \"diel_3\": {\"type\": \"dielectric\", \"thickness\": \"275um\", \"material\": \"FR4_epoxy\"},\n",
    "    \"bottom\": {\"type\": \"signal\", \"thickness\": \"35um\", \"material\": \"copper\"},\n",
    "}\n",
    "layer_names = list(layers.keys())[::-1]\n",
    "# Create the EDB stackup.\n",
    "# Define the bottom layer\n",
    "edb.stackup.load(layers)"
   ]
  },
  {
   "cell_type": "markdown",
   "id": "25eed316",
   "metadata": {},
   "source": [
    "Create a parametrized padstack for the signal via."
   ]
  },
  {
   "cell_type": "code",
   "execution_count": 6,
   "id": "a3bf0dd7",
   "metadata": {
    "execution": {
     "iopub.execute_input": "2024-09-06T07:51:52.587836Z",
     "iopub.status.busy": "2024-09-06T07:51:52.587836Z",
     "iopub.status.idle": "2024-09-06T07:51:52.634721Z",
     "shell.execute_reply": "2024-09-06T07:51:52.634721Z"
    }
   },
   "outputs": [
    {
     "name": "stdout",
     "output_type": "stream",
     "text": [
      "PyAEDT INFO: Padstack automated_via create correctly\n"
     ]
    },
    {
     "data": {
      "text/plain": [
       "'automated_via'"
      ]
     },
     "execution_count": 6,
     "metadata": {},
     "output_type": "execute_result"
    }
   ],
   "source": [
    "signal_via_padstack = \"automated_via\"\n",
    "edb.padstacks.create(\n",
    "    padstackname=signal_via_padstack,\n",
    "    holediam=\"$via_diam\",\n",
    "    paddiam=\"$pad_diam\",\n",
    "    antipaddiam=\"\",\n",
    "    antipad_shape=\"Bullet\",\n",
    "    x_size=\"$x_size\",\n",
    "    y_size=\"$y_size\",\n",
    "    corner_radius=\"$corner_rad\",\n",
    "    start_layer=layer_names[-1],\n",
    "    stop_layer=layer_names[-3],\n",
    ")"
   ]
  },
  {
   "cell_type": "markdown",
   "id": "7f593400",
   "metadata": {},
   "source": [
    "Assign net names. There are only two signal nets."
   ]
  },
  {
   "cell_type": "code",
   "execution_count": 7,
   "id": "742aef61",
   "metadata": {
    "execution": {
     "iopub.execute_input": "2024-09-06T07:51:52.634721Z",
     "iopub.status.busy": "2024-09-06T07:51:52.634721Z",
     "iopub.status.idle": "2024-09-06T07:51:52.650332Z",
     "shell.execute_reply": "2024-09-06T07:51:52.650332Z"
    }
   },
   "outputs": [],
   "source": [
    "net_p = \"p\"\n",
    "net_n = \"n\""
   ]
  },
  {
   "cell_type": "markdown",
   "id": "6e233566",
   "metadata": {},
   "source": [
    "Place the signal vias."
   ]
  },
  {
   "cell_type": "code",
   "execution_count": 8,
   "id": "73bac3ce",
   "metadata": {
    "execution": {
     "iopub.execute_input": "2024-09-06T07:51:52.650332Z",
     "iopub.status.busy": "2024-09-06T07:51:52.650332Z",
     "iopub.status.idle": "2024-09-06T07:51:52.681589Z",
     "shell.execute_reply": "2024-09-06T07:51:52.681589Z"
    }
   },
   "outputs": [
    {
     "data": {
      "text/plain": [
       "<pyedb.dotnet.edb_core.edb_data.padstacks_data.EDBPadstackInstance at 0x26313a9f840>"
      ]
     },
     "execution_count": 8,
     "metadata": {},
     "output_type": "execute_result"
    }
   ],
   "source": [
    "edb.padstacks.place(\n",
    "    position=[\"$pcb_len/3\", \"($ms_width+$ms_spacing+$via_spacing)/2\"],\n",
    "    definition_name=signal_via_padstack,\n",
    "    net_name=net_p,\n",
    "    via_name=\"\",\n",
    "    rotation=90.0,\n",
    ")"
   ]
  },
  {
   "cell_type": "code",
   "execution_count": 9,
   "id": "14893302",
   "metadata": {
    "execution": {
     "iopub.execute_input": "2024-09-06T07:51:52.681589Z",
     "iopub.status.busy": "2024-09-06T07:51:52.681589Z",
     "iopub.status.idle": "2024-09-06T07:51:52.712839Z",
     "shell.execute_reply": "2024-09-06T07:51:52.712839Z"
    }
   },
   "outputs": [
    {
     "data": {
      "text/plain": [
       "<pyedb.dotnet.edb_core.edb_data.padstacks_data.EDBPadstackInstance at 0x26328c424b0>"
      ]
     },
     "execution_count": 9,
     "metadata": {},
     "output_type": "execute_result"
    }
   ],
   "source": [
    "edb.padstacks.place(\n",
    "    position=[\"2*$pcb_len/3\", \"($ms_width+$ms_spacing+$via_spacing)/2\"],\n",
    "    definition_name=signal_via_padstack,\n",
    "    net_name=net_p,\n",
    "    via_name=\"\",\n",
    "    rotation=90.0,\n",
    ")"
   ]
  },
  {
   "cell_type": "code",
   "execution_count": 10,
   "id": "6c62ed8c",
   "metadata": {
    "execution": {
     "iopub.execute_input": "2024-09-06T07:51:52.712839Z",
     "iopub.status.busy": "2024-09-06T07:51:52.712839Z",
     "iopub.status.idle": "2024-09-06T07:51:52.744090Z",
     "shell.execute_reply": "2024-09-06T07:51:52.744090Z"
    }
   },
   "outputs": [
    {
     "data": {
      "text/plain": [
       "<pyedb.dotnet.edb_core.edb_data.padstacks_data.EDBPadstackInstance at 0x26328c407b0>"
      ]
     },
     "execution_count": 10,
     "metadata": {},
     "output_type": "execute_result"
    }
   ],
   "source": [
    "edb.padstacks.place(\n",
    "    position=[\"$pcb_len/3\", \"-($ms_width+$ms_spacing+$via_spacing)/2\"],\n",
    "    definition_name=signal_via_padstack,\n",
    "    net_name=net_n,\n",
    "    via_name=\"\",\n",
    "    rotation=-90.0,\n",
    ")"
   ]
  },
  {
   "cell_type": "code",
   "execution_count": 11,
   "id": "f104c9c5",
   "metadata": {
    "execution": {
     "iopub.execute_input": "2024-09-06T07:51:52.744090Z",
     "iopub.status.busy": "2024-09-06T07:51:52.744090Z",
     "iopub.status.idle": "2024-09-06T07:51:52.775405Z",
     "shell.execute_reply": "2024-09-06T07:51:52.775405Z"
    },
    "lines_to_next_cell": 2
   },
   "outputs": [
    {
     "data": {
      "text/plain": [
       "<pyedb.dotnet.edb_core.edb_data.padstacks_data.EDBPadstackInstance at 0x26328c46370>"
      ]
     },
     "execution_count": 11,
     "metadata": {},
     "output_type": "execute_result"
    }
   ],
   "source": [
    "edb.padstacks.place(\n",
    "    position=[\"2*$pcb_len/3\", \"-($ms_width+$ms_spacing+$via_spacing)/2\"],\n",
    "    definition_name=signal_via_padstack,\n",
    "    net_name=net_n,\n",
    "    via_name=\"\",\n",
    "    rotation=-90.0,\n",
    ")"
   ]
  },
  {
   "cell_type": "markdown",
   "id": "75180403",
   "metadata": {},
   "source": [
    "## Draw parametrized traces\n",
    "\n",
    "Trace width and the routing (Microstrip-Stripline-Microstrip).\n",
    "Applies to both p and n nets."
   ]
  },
  {
   "cell_type": "code",
   "execution_count": 12,
   "id": "73ddfa9a",
   "metadata": {
    "execution": {
     "iopub.execute_input": "2024-09-06T07:51:52.775405Z",
     "iopub.status.busy": "2024-09-06T07:51:52.775405Z",
     "iopub.status.idle": "2024-09-06T07:51:52.791098Z",
     "shell.execute_reply": "2024-09-06T07:51:52.791098Z"
    }
   },
   "outputs": [],
   "source": [
    "# Trace width, n and p\n",
    "width = [\"$ms_width\", \"$sl_width\", \"$ms_width\"]\n",
    "# Routing layer, n and p\n",
    "route_layer = [layer_names[-1], layer_names[4], layer_names[-1]]"
   ]
  },
  {
   "cell_type": "markdown",
   "id": "ef154cde",
   "metadata": {},
   "source": [
    "Define points for three traces in the \"p\" net"
   ]
  },
  {
   "cell_type": "code",
   "execution_count": 13,
   "id": "00c48db5",
   "metadata": {
    "execution": {
     "iopub.execute_input": "2024-09-06T07:51:52.791098Z",
     "iopub.status.busy": "2024-09-06T07:51:52.791098Z",
     "iopub.status.idle": "2024-09-06T07:51:52.806722Z",
     "shell.execute_reply": "2024-09-06T07:51:52.806722Z"
    }
   },
   "outputs": [],
   "source": [
    "points_p = [\n",
    "    [\n",
    "        [\"0.0\", \"($ms_width+$ms_spacing)/2\"],\n",
    "        [\"$pcb_len/3-2*$via_spacing\", \"($ms_width+$ms_spacing)/2\"],\n",
    "        [\"$pcb_len/3-$via_spacing\", \"($ms_width+$ms_spacing+$via_spacing)/2\"],\n",
    "        [\"$pcb_len/3\", \"($ms_width+$ms_spacing+$via_spacing)/2\"],\n",
    "    ],\n",
    "    [\n",
    "        [\"$pcb_len/3\", \"($ms_width+$sl_spacing+$via_spacing)/2\"],\n",
    "        [\"$pcb_len/3+$via_spacing\", \"($ms_width+$sl_spacing+$via_spacing)/2\"],\n",
    "        [\"$pcb_len/3+2*$via_spacing\", \"($sl_width+$sl_spacing)/2\"],\n",
    "        [\"2*$pcb_len/3-2*$via_spacing\", \"($sl_width+$sl_spacing)/2\"],\n",
    "        [\"2*$pcb_len/3-$via_spacing\", \"($ms_width+$sl_spacing+$via_spacing)/2\"],\n",
    "        [\"2*$pcb_len/3\", \"($ms_width+$sl_spacing+$via_spacing)/2\"],\n",
    "    ],\n",
    "    [\n",
    "        [\"2*$pcb_len/3\", \"($ms_width+$ms_spacing+$via_spacing)/2\"],\n",
    "        [\"2*$pcb_len/3+$via_spacing\", \"($ms_width+$ms_spacing+$via_spacing)/2\"],\n",
    "        [\"2*$pcb_len/3+2*$via_spacing\", \"($ms_width+$ms_spacing)/2\"],\n",
    "        [\"$pcb_len\", \"($ms_width+$ms_spacing)/2\"],\n",
    "    ],\n",
    "]"
   ]
  },
  {
   "cell_type": "markdown",
   "id": "86178825",
   "metadata": {},
   "source": [
    "Define points for three traces in the \"n\" net"
   ]
  },
  {
   "cell_type": "code",
   "execution_count": 14,
   "id": "8abfa161",
   "metadata": {
    "execution": {
     "iopub.execute_input": "2024-09-06T07:51:52.806722Z",
     "iopub.status.busy": "2024-09-06T07:51:52.806722Z",
     "iopub.status.idle": "2024-09-06T07:51:52.822385Z",
     "shell.execute_reply": "2024-09-06T07:51:52.822385Z"
    }
   },
   "outputs": [],
   "source": [
    "points_n = [\n",
    "    [\n",
    "        [\"0.0\", \"-($ms_width+$ms_spacing)/2\"],\n",
    "        [\"$pcb_len/3-2*$via_spacing\", \"-($ms_width+$ms_spacing)/2\"],\n",
    "        [\"$pcb_len/3-$via_spacing\", \"-($ms_width+$ms_spacing+$via_spacing)/2\"],\n",
    "        [\"$pcb_len/3\", \"-($ms_width+$ms_spacing+$via_spacing)/2\"],\n",
    "    ],\n",
    "    [\n",
    "        [\"$pcb_len/3\", \"-($ms_width+$sl_spacing+$via_spacing)/2\"],\n",
    "        [\"$pcb_len/3+$via_spacing\", \"-($ms_width+$sl_spacing+$via_spacing)/2\"],\n",
    "        [\"$pcb_len/3+2*$via_spacing\", \"-($ms_width+$sl_spacing)/2\"],\n",
    "        [\"2*$pcb_len/3-2*$via_spacing\", \"-($ms_width+$sl_spacing)/2\"],\n",
    "        [\"2*$pcb_len/3-$via_spacing\", \"-($ms_width+$sl_spacing+$via_spacing)/2\"],\n",
    "        [\"2*$pcb_len/3\", \"-($ms_width+$sl_spacing+$via_spacing)/2\"],\n",
    "    ],\n",
    "    [\n",
    "        [\"2*$pcb_len/3\", \"-($ms_width+$ms_spacing+$via_spacing)/2\"],\n",
    "        [\"2*$pcb_len/3 + $via_spacing\", \"-($ms_width+$ms_spacing+$via_spacing)/2\"],\n",
    "        [\"2*$pcb_len/3 + 2*$via_spacing\", \"-($ms_width+$ms_spacing)/2\"],\n",
    "        [\"$pcb_len\", \"-($ms_width + $ms_spacing)/2\"],\n",
    "    ],\n",
    "]"
   ]
  },
  {
   "cell_type": "markdown",
   "id": "ddf7e747",
   "metadata": {},
   "source": [
    "Add traces to the EDB."
   ]
  },
  {
   "cell_type": "code",
   "execution_count": 15,
   "id": "88c339da",
   "metadata": {
    "execution": {
     "iopub.execute_input": "2024-09-06T07:51:52.822385Z",
     "iopub.status.busy": "2024-09-06T07:51:52.822385Z",
     "iopub.status.idle": "2024-09-06T07:51:52.884848Z",
     "shell.execute_reply": "2024-09-06T07:51:52.884848Z"
    }
   },
   "outputs": [],
   "source": [
    "trace_p = []\n",
    "trace_n = []\n",
    "for n in range(len(points_p)):\n",
    "    trace_p.append(edb.modeler.create_trace(points_p[n], route_layer[n], width[n], net_p, \"Flat\", \"Flat\"))\n",
    "    trace_n.append(edb.modeler.create_trace(points_n[n], route_layer[n], width[n], net_n, \"Flat\", \"Flat\"))"
   ]
  },
  {
   "cell_type": "markdown",
   "id": "ef9741c0",
   "metadata": {},
   "source": [
    "Create the wave ports"
   ]
  },
  {
   "cell_type": "code",
   "execution_count": 16,
   "id": "97fb3e0d",
   "metadata": {
    "execution": {
     "iopub.execute_input": "2024-09-06T07:51:52.884848Z",
     "iopub.status.busy": "2024-09-06T07:51:52.884848Z",
     "iopub.status.idle": "2024-09-06T07:51:52.931742Z",
     "shell.execute_reply": "2024-09-06T07:51:52.931742Z"
    }
   },
   "outputs": [],
   "source": [
    "p1 = edb.hfss.create_differential_wave_port(\n",
    "    trace_p[0].id,\n",
    "    [\"0.0\", \"($ms_width+$ms_spacing)/2\"],\n",
    "    trace_n[0].id,\n",
    "    [\"0.0\", \"-($ms_width+$ms_spacing)/2\"],\n",
    "    \"wave_port_1\",\n",
    ")"
   ]
  },
  {
   "cell_type": "code",
   "execution_count": 17,
   "id": "91fddf77",
   "metadata": {
    "execution": {
     "iopub.execute_input": "2024-09-06T07:51:52.931742Z",
     "iopub.status.busy": "2024-09-06T07:51:52.931742Z",
     "iopub.status.idle": "2024-09-06T07:51:52.947359Z",
     "shell.execute_reply": "2024-09-06T07:51:52.947359Z"
    }
   },
   "outputs": [],
   "source": [
    "pos_p1 = p1[1].terminals[0].name\n",
    "neg_p1 = p1[1].terminals[1].name"
   ]
  },
  {
   "cell_type": "code",
   "execution_count": 18,
   "id": "2c2cfefa",
   "metadata": {
    "execution": {
     "iopub.execute_input": "2024-09-06T07:51:52.947359Z",
     "iopub.status.busy": "2024-09-06T07:51:52.947359Z",
     "iopub.status.idle": "2024-09-06T07:51:52.978612Z",
     "shell.execute_reply": "2024-09-06T07:51:52.978612Z"
    }
   },
   "outputs": [],
   "source": [
    "p2 = edb.hfss.create_differential_wave_port(\n",
    "    trace_p[2].id,\n",
    "    [\"$pcb_len\", \"($ms_width+$ms_spacing)/2\"],\n",
    "    trace_n[2].id,\n",
    "    [\"$pcb_len\", \"-($ms_width + $ms_spacing)/2\"],\n",
    "    \"wave_port_2\",\n",
    ")"
   ]
  },
  {
   "cell_type": "code",
   "execution_count": 19,
   "id": "3a50d488",
   "metadata": {
    "execution": {
     "iopub.execute_input": "2024-09-06T07:51:52.978612Z",
     "iopub.status.busy": "2024-09-06T07:51:52.978612Z",
     "iopub.status.idle": "2024-09-06T07:51:52.994224Z",
     "shell.execute_reply": "2024-09-06T07:51:52.994224Z"
    }
   },
   "outputs": [],
   "source": [
    "pos_p2 = p2[1].terminals[0].name\n",
    "neg_p2 = p2[1].terminals[1].name"
   ]
  },
  {
   "cell_type": "markdown",
   "id": "c5d8707e",
   "metadata": {},
   "source": [
    "Draw a conducting rectangle on the ground layers."
   ]
  },
  {
   "cell_type": "code",
   "execution_count": 20,
   "id": "4e442d84",
   "metadata": {
    "execution": {
     "iopub.execute_input": "2024-09-06T07:51:52.994224Z",
     "iopub.status.busy": "2024-09-06T07:51:52.994224Z",
     "iopub.status.idle": "2024-09-06T07:51:53.009887Z",
     "shell.execute_reply": "2024-09-06T07:51:53.009887Z"
    }
   },
   "outputs": [],
   "source": [
    "gnd_poly = [\n",
    "    [0.0, \"-$pcb_w/2\"],\n",
    "    [\"$pcb_len\", \"-$pcb_w/2\"],\n",
    "    [\"$pcb_len\", \"$pcb_w/2\"],\n",
    "    [0.0, \"$pcb_w/2\"],\n",
    "]\n",
    "gnd_shape = edb.modeler.Shape(\"polygon\", points=gnd_poly)"
   ]
  },
  {
   "cell_type": "markdown",
   "id": "23b7561d",
   "metadata": {},
   "source": [
    "Void in ground for traces on the signal routing layer"
   ]
  },
  {
   "cell_type": "code",
   "execution_count": 21,
   "id": "299e757d",
   "metadata": {
    "execution": {
     "iopub.execute_input": "2024-09-06T07:51:53.009887Z",
     "iopub.status.busy": "2024-09-06T07:51:53.009887Z",
     "iopub.status.idle": "2024-09-06T07:51:53.025499Z",
     "shell.execute_reply": "2024-09-06T07:51:53.025499Z"
    }
   },
   "outputs": [],
   "source": [
    "void_poly = [\n",
    "    [\"$pcb_len/3\", \"-($ms_width+$ms_spacing+$via_spacing+$anti_pad_diam)/2-$via_spacing/2\"],\n",
    "    [\n",
    "        \"$pcb_len/3 + $via_spacing\",\n",
    "        \"-($ms_width+$ms_spacing+$via_spacing+$anti_pad_diam)/2-$via_spacing/2\",\n",
    "    ],\n",
    "    [\"$pcb_len/3 + 2*$via_spacing\", \"-($ms_width+$ms_spacing+$via_spacing+$anti_pad_diam)/2\"],\n",
    "    [\"2*$pcb_len/3 - 2*$via_spacing\", \"-($ms_width+$ms_spacing+$via_spacing+$anti_pad_diam)/2\"],\n",
    "    [\n",
    "        \"2*$pcb_len/3 - $via_spacing\",\n",
    "        \"-($ms_width+$ms_spacing+$via_spacing+$anti_pad_diam)/2-$via_spacing/2\",\n",
    "    ],\n",
    "    [\"2*$pcb_len/3\", \"-($ms_width+$ms_spacing+$via_spacing+$anti_pad_diam)/2-$via_spacing/2\"],\n",
    "    [\"2*$pcb_len/3\", \"($ms_width+$ms_spacing+$via_spacing+$anti_pad_diam)/2+$via_spacing/2\"],\n",
    "    [\n",
    "        \"2*$pcb_len/3 - $via_spacing\",\n",
    "        \"($ms_width+$ms_spacing+$via_spacing+$anti_pad_diam)/2+$via_spacing/2\",\n",
    "    ],\n",
    "    [\"2*$pcb_len/3 - 2*$via_spacing\", \"($ms_width+$ms_spacing+$via_spacing+$anti_pad_diam)/2\"],\n",
    "    [\"$pcb_len/3 + 2*$via_spacing\", \"($ms_width+$ms_spacing+$via_spacing+$anti_pad_diam)/2\"],\n",
    "    [\n",
    "        \"$pcb_len/3 + $via_spacing\",\n",
    "        \"($ms_width+$ms_spacing+$via_spacing+$anti_pad_diam)/2+$via_spacing/2\",\n",
    "    ],\n",
    "    [\"$pcb_len/3\", \"($ms_width+$ms_spacing+$via_spacing+$anti_pad_diam)/2+$via_spacing/2\"],\n",
    "    [\"$pcb_len/3\", \"($ms_width+$ms_spacing+$via_spacing+$anti_pad_diam)/2\"],\n",
    "]\n",
    "\n",
    "void_shape = edb.modeler.Shape(\"polygon\", points=void_poly)"
   ]
  },
  {
   "cell_type": "markdown",
   "id": "893dea58",
   "metadata": {},
   "source": [
    "Add ground conductors."
   ]
  },
  {
   "cell_type": "code",
   "execution_count": 22,
   "id": "aa17a225",
   "metadata": {
    "execution": {
     "iopub.execute_input": "2024-09-06T07:51:53.025499Z",
     "iopub.status.busy": "2024-09-06T07:51:53.025499Z",
     "iopub.status.idle": "2024-09-06T07:51:53.119230Z",
     "shell.execute_reply": "2024-09-06T07:51:53.119230Z"
    }
   },
   "outputs": [],
   "source": [
    "for layer in layer_names[:-1:2]:\n",
    "    # add void if the layer is the signal routing layer.\n",
    "    void = [void_shape] if layer == route_layer[1] else []\n",
    "\n",
    "    edb.modeler.create_polygon(main_shape=gnd_shape, layer_name=layer, voids=void, net_name=\"gnd\")"
   ]
  },
  {
   "cell_type": "markdown",
   "id": "1c8e7168",
   "metadata": {},
   "source": [
    "Plot the layout."
   ]
  },
  {
   "cell_type": "code",
   "execution_count": 23,
   "id": "c4d60bc6",
   "metadata": {
    "execution": {
     "iopub.execute_input": "2024-09-06T07:51:53.119230Z",
     "iopub.status.busy": "2024-09-06T07:51:53.119230Z",
     "iopub.status.idle": "2024-09-06T07:51:53.228603Z",
     "shell.execute_reply": "2024-09-06T07:51:53.228603Z"
    }
   },
   "outputs": [
    {
     "name": "stdout",
     "output_type": "stream",
     "text": [
      "PyAEDT INFO: Nets Point Generation time 0.047 seconds\n"
     ]
    },
    {
     "name": "stderr",
     "output_type": "stream",
     "text": [
      "C:\\actions-runner\\_work\\pyedb\\pyedb\\.venv\\lib\\site-packages\\pyedb\\generic\\plot.py:144: UserWarning: FigureCanvasAgg is non-interactive, and thus cannot be shown\n",
      "  plt.show()\n"
     ]
    }
   ],
   "source": [
    "edb.nets.plot(None)"
   ]
  },
  {
   "cell_type": "markdown",
   "id": "c966e034",
   "metadata": {},
   "source": [
    "Save the EDB."
   ]
  },
  {
   "cell_type": "code",
   "execution_count": 24,
   "id": "2903b451",
   "metadata": {
    "execution": {
     "iopub.execute_input": "2024-09-06T07:51:53.228603Z",
     "iopub.status.busy": "2024-09-06T07:51:53.228603Z",
     "iopub.status.idle": "2024-09-06T07:51:53.259855Z",
     "shell.execute_reply": "2024-09-06T07:51:53.259855Z"
    }
   },
   "outputs": [
    {
     "name": "stdout",
     "output_type": "stream",
     "text": [
      "PyAEDT INFO: EDB file save time: 0.00ms\n"
     ]
    },
    {
     "name": "stdout",
     "output_type": "stream",
     "text": [
      "PyAEDT INFO: EDB file release time: 0.00ms\n"
     ]
    },
    {
     "data": {
      "text/plain": [
       "True"
      ]
     },
     "execution_count": 24,
     "metadata": {},
     "output_type": "execute_result"
    }
   ],
   "source": [
    "edb.save_edb()\n",
    "edb.close_edb()"
   ]
  },
  {
   "cell_type": "markdown",
   "id": "106363b7",
   "metadata": {},
   "source": [
    "Open the project in HFSS 3D Layout."
   ]
  },
  {
   "cell_type": "code",
   "execution_count": 25,
   "id": "166c6585",
   "metadata": {
    "execution": {
     "iopub.execute_input": "2024-09-06T07:51:53.259855Z",
     "iopub.status.busy": "2024-09-06T07:51:53.259855Z",
     "iopub.status.idle": "2024-09-06T07:52:25.548044Z",
     "shell.execute_reply": "2024-09-06T07:52:25.548044Z"
    }
   },
   "outputs": [
    {
     "name": "stdout",
     "output_type": "stream",
     "text": [
      "PyAEDT INFO: Python version 3.10.11 (tags/v3.10.11:7d4cc5a, Apr  5 2023, 00:38:17) [MSC v.1929 64 bit (AMD64)]\n"
     ]
    },
    {
     "name": "stdout",
     "output_type": "stream",
     "text": [
      "PyAEDT INFO: PyAEDT version 0.11.dev0.\n"
     ]
    },
    {
     "name": "stdout",
     "output_type": "stream",
     "text": [
      "PyAEDT INFO: Initializing new Desktop session.\n"
     ]
    },
    {
     "name": "stdout",
     "output_type": "stream",
     "text": [
      "PyAEDT INFO: Log on console is enabled.\n"
     ]
    },
    {
     "name": "stdout",
     "output_type": "stream",
     "text": [
      "PyAEDT INFO: Log on file C:\\Users\\ansys\\AppData\\Local\\Temp\\pyaedt_ansys_cc58c917-a1c1-4208-8778-a3574d6c665e.log is enabled.\n"
     ]
    },
    {
     "name": "stdout",
     "output_type": "stream",
     "text": [
      "PyAEDT INFO: Log on AEDT is enabled.\n"
     ]
    },
    {
     "name": "stdout",
     "output_type": "stream",
     "text": [
      "PyAEDT INFO: Debug logger is disabled. PyAEDT methods will not be logged.\n"
     ]
    },
    {
     "name": "stdout",
     "output_type": "stream",
     "text": [
      "PyAEDT INFO: Launching PyAEDT with gRPC plugin.\n"
     ]
    },
    {
     "name": "stdout",
     "output_type": "stream",
     "text": [
      "PyAEDT INFO: New AEDT session is starting on gRPC port 53894\n"
     ]
    },
    {
     "name": "stdout",
     "output_type": "stream",
     "text": [
      "PyAEDT INFO: AEDT installation Path C:\\Program Files\\AnsysEM\\v242\\Win64\n"
     ]
    },
    {
     "name": "stdout",
     "output_type": "stream",
     "text": [
      "PyAEDT INFO: Ansoft.ElectronicsDesktop.2024.2 version started with process ID 7888.\n"
     ]
    },
    {
     "name": "stdout",
     "output_type": "stream",
     "text": [
      "PyAEDT INFO: EDB folder C:\\Users\\ansys\\AppData\\Local\\Temp\\tmp9l5un6rg.ansys\\pcb.aedb has been imported to project pcb\n"
     ]
    },
    {
     "name": "stdout",
     "output_type": "stream",
     "text": [
      "PyAEDT INFO: Active Design set to 0;Cell_GWUUF2\n"
     ]
    },
    {
     "name": "stdout",
     "output_type": "stream",
     "text": [
      "PyAEDT INFO: Aedt Objects correctly read\n"
     ]
    }
   ],
   "source": [
    "h3d = pyaedt.Hfss3dLayout(\n",
    "    project=aedb_path,\n",
    "    version=edb_version,\n",
    "    non_graphical=non_graphical,\n",
    "    new_desktop=True,\n",
    ")"
   ]
  },
  {
   "cell_type": "markdown",
   "id": "084a039d",
   "metadata": {},
   "source": [
    "## Add HFSS simulation setup\n",
    "\n",
    "Add HFSS simulation setup."
   ]
  },
  {
   "cell_type": "code",
   "execution_count": 26,
   "id": "3adc571b",
   "metadata": {
    "execution": {
     "iopub.execute_input": "2024-09-06T07:52:25.548044Z",
     "iopub.status.busy": "2024-09-06T07:52:25.548044Z",
     "iopub.status.idle": "2024-09-06T07:52:25.689935Z",
     "shell.execute_reply": "2024-09-06T07:52:25.689935Z"
    }
   },
   "outputs": [
    {
     "name": "stdout",
     "output_type": "stream",
     "text": [
      "PyAEDT INFO: Linear count sweep sweep1 has been correctly created.\n"
     ]
    },
    {
     "data": {
      "text/plain": [
       "<ansys.aedt.core.modules.solve_sweeps.SweepHFSS3DLayout at 0x26328da0f90>"
      ]
     },
     "execution_count": 26,
     "metadata": {},
     "output_type": "execute_result"
    }
   ],
   "source": [
    "setup = h3d.create_setup()\n",
    "setup.props[\"AdaptiveSettings\"][\"SingleFrequencyDataList\"][\"AdaptiveFrequencyData\"][\"MaxPasses\"] = 3\n",
    "\n",
    "h3d.create_linear_count_sweep(\n",
    "    setup=setup.name,\n",
    "    unit=\"GHz\",\n",
    "    start_frequency=0,\n",
    "    stop_frequency=10,\n",
    "    num_of_freq_points=1001,\n",
    "    name=\"sweep1\",\n",
    "    sweep_type=\"Interpolating\",\n",
    "    interpolation_tol_percent=1,\n",
    "    interpolation_max_solutions=255,\n",
    "    save_fields=False,\n",
    "    use_q3d_for_dc=False,\n",
    ")"
   ]
  },
  {
   "cell_type": "markdown",
   "id": "544186c3",
   "metadata": {},
   "source": [
    "Define the differential pairs to used to calculate differential and common mode\n",
    "s-parameters."
   ]
  },
  {
   "cell_type": "code",
   "execution_count": 27,
   "id": "db6635bc",
   "metadata": {
    "execution": {
     "iopub.execute_input": "2024-09-06T07:52:25.689935Z",
     "iopub.status.busy": "2024-09-06T07:52:25.689935Z",
     "iopub.status.idle": "2024-09-06T07:52:25.737960Z",
     "shell.execute_reply": "2024-09-06T07:52:25.736800Z"
    }
   },
   "outputs": [
    {
     "data": {
      "text/plain": [
       "True"
      ]
     },
     "execution_count": 27,
     "metadata": {},
     "output_type": "execute_result"
    }
   ],
   "source": [
    "h3d.set_differential_pair(differential_mode=\"In\", assignment=pos_p1, reference=neg_p1)\n",
    "h3d.set_differential_pair(differential_mode=\"Out\", assignment=pos_p2, reference=neg_p2)"
   ]
  },
  {
   "cell_type": "markdown",
   "id": "0a429368",
   "metadata": {},
   "source": [
    "Solve the project."
   ]
  },
  {
   "cell_type": "code",
   "execution_count": 28,
   "id": "106d9b11",
   "metadata": {
    "execution": {
     "iopub.execute_input": "2024-09-06T07:52:25.737960Z",
     "iopub.status.busy": "2024-09-06T07:52:25.737960Z",
     "iopub.status.idle": "2024-09-06T07:53:51.288804Z",
     "shell.execute_reply": "2024-09-06T07:53:51.288804Z"
    }
   },
   "outputs": [
    {
     "name": "stdout",
     "output_type": "stream",
     "text": [
      "PyAEDT INFO: Key Desktop/ActiveDSOConfigurations/HFSS 3D Layout Design correctly changed.\n"
     ]
    },
    {
     "name": "stdout",
     "output_type": "stream",
     "text": [
      "PyAEDT INFO: Solving all design setups.\n"
     ]
    },
    {
     "name": "stdout",
     "output_type": "stream",
     "text": [
      "PyAEDT INFO: Key Desktop/ActiveDSOConfigurations/HFSS 3D Layout Design correctly changed.\n"
     ]
    },
    {
     "name": "stdout",
     "output_type": "stream",
     "text": [
      "PyAEDT INFO: Design setup None solved correctly in 0.0h 1.0m 26.0s\n"
     ]
    },
    {
     "data": {
      "text/plain": [
       "True"
      ]
     },
     "execution_count": 28,
     "metadata": {},
     "output_type": "execute_result"
    }
   ],
   "source": [
    "h3d.analyze()"
   ]
  },
  {
   "cell_type": "markdown",
   "id": "10fa998d",
   "metadata": {},
   "source": [
    "Plot the results and shut down AEDT."
   ]
  },
  {
   "cell_type": "code",
   "execution_count": 29,
   "id": "c6edf186",
   "metadata": {
    "execution": {
     "iopub.execute_input": "2024-09-06T07:53:51.288804Z",
     "iopub.status.busy": "2024-09-06T07:53:51.288804Z",
     "iopub.status.idle": "2024-09-06T07:53:55.586064Z",
     "shell.execute_reply": "2024-09-06T07:53:55.586064Z"
    }
   },
   "outputs": [
    {
     "name": "stdout",
     "output_type": "stream",
     "text": [
      "PyAEDT INFO: Parsing C:/Users/ansys/AppData/Local/Temp/tmp9l5un6rg.ansys/pcb.aedt.\n"
     ]
    },
    {
     "name": "stdout",
     "output_type": "stream",
     "text": [
      "PyAEDT INFO: File C:/Users/ansys/AppData/Local/Temp/tmp9l5un6rg.ansys/pcb.aedt correctly loaded. Elapsed time: 0m 0sec\n"
     ]
    },
    {
     "name": "stdout",
     "output_type": "stream",
     "text": [
      "PyAEDT INFO: aedt file load time 0.015629053115844727\n"
     ]
    },
    {
     "name": "stdout",
     "output_type": "stream",
     "text": [
      "PyAEDT INFO: Loading Modeler.\n"
     ]
    },
    {
     "name": "stdout",
     "output_type": "stream",
     "text": [
      "PyAEDT INFO: Modeler loaded.\n"
     ]
    },
    {
     "name": "stdout",
     "output_type": "stream",
     "text": [
      "PyAEDT INFO: EDB loaded.\n"
     ]
    },
    {
     "name": "stdout",
     "output_type": "stream",
     "text": [
      "PyAEDT INFO: Layers loaded.\n"
     ]
    },
    {
     "name": "stdout",
     "output_type": "stream",
     "text": [
      "PyAEDT INFO: Primitives loaded.\n"
     ]
    },
    {
     "name": "stdout",
     "output_type": "stream",
     "text": [
      "PyAEDT INFO: Modeler class has been initialized! Elapsed time: 0m 0sec\n"
     ]
    },
    {
     "name": "stdout",
     "output_type": "stream",
     "text": [
      "PyAEDT INFO: PostProcessor class has been initialized! Elapsed time: 0m 0sec\n"
     ]
    },
    {
     "name": "stdout",
     "output_type": "stream",
     "text": [
      "PyAEDT INFO: Post class has been initialized! Elapsed time: 0m 0sec\n"
     ]
    },
    {
     "name": "stdout",
     "output_type": "stream",
     "text": [
      "PyAEDT INFO: Solution Data Correctly Loaded.\n"
     ]
    },
    {
     "name": "stdout",
     "output_type": "stream",
     "text": [
      "PyAEDT INFO: Desktop has been released and closed.\n"
     ]
    },
    {
     "data": {
      "text/plain": [
       "True"
      ]
     },
     "execution_count": 29,
     "metadata": {},
     "output_type": "execute_result"
    }
   ],
   "source": [
    "solutions = h3d.post.get_solution_data([\"dB(S(In,In))\", \"dB(S(In,Out))\"], context=\"Differential Pairs\")\n",
    "solutions.plot()\n",
    "h3d.release_desktop()"
   ]
  },
  {
   "cell_type": "markdown",
   "id": "668d0fe8",
   "metadata": {},
   "source": [
    "Note that the ground nets are only connected to each other due\n",
    "to the wave ports. The problem with poor grounding can be seen in the\n",
    "S-parameters. This example can be downloaded as a Jupyter Notebook, so\n",
    "you can modify it. Try changing parameters or adding ground vias to improve performance.\n",
    "\n",
    "The final cell cleans up the temporary directory, removing all files."
   ]
  },
  {
   "cell_type": "code",
   "execution_count": 30,
   "id": "a1f40dc4",
   "metadata": {
    "execution": {
     "iopub.execute_input": "2024-09-06T07:53:55.586064Z",
     "iopub.status.busy": "2024-09-06T07:53:55.586064Z",
     "iopub.status.idle": "2024-09-06T07:53:55.601686Z",
     "shell.execute_reply": "2024-09-06T07:53:55.601686Z"
    }
   },
   "outputs": [],
   "source": [
    "temp_dir.cleanup()"
   ]
  }
 ],
 "metadata": {
  "jupytext": {
   "cell_metadata_filter": "-all",
   "main_language": "python",
   "notebook_metadata_filter": "-all",
   "text_representation": {
    "extension": ".py",
    "format_name": "light"
   }
  },
  "language_info": {
   "codemirror_mode": {
    "name": "ipython",
    "version": 3
   },
   "file_extension": ".py",
   "mimetype": "text/x-python",
   "name": "python",
   "nbconvert_exporter": "python",
   "pygments_lexer": "ipython3",
   "version": "3.10.11"
  }
 },
 "nbformat": 4,
 "nbformat_minor": 5
}
