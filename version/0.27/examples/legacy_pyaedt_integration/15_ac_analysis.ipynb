{
 "cells": [
  {
   "cell_type": "markdown",
   "id": "cd01b81a",
   "metadata": {},
   "source": [
    "# EDB: Network Analysis in SIwave\n",
    "\n",
    "This example shows how to use PyAEDT to set up SYZ analysis on a\n",
    "[serdes](https://en.wikipedia.org/wiki/SerDes) channel.\n",
    "The signal input is applied differetially. The positive net is _\"PCIe_Gen4_TX3_CAP_P\"_.\n",
    "The negative net is _\"PCIe_Gen4_TX3_CAP_N\"_. In this example, ports are placed on the\n",
    "driver and\n",
    "receiver components."
   ]
  },
  {
   "cell_type": "markdown",
   "id": "5b6da3fe",
   "metadata": {},
   "source": [
    "### Perform required imports\n",
    "\n",
    "Perform required imports, which includes importing a section."
   ]
  },
  {
   "cell_type": "code",
   "execution_count": 1,
   "id": "ee4aca7b",
   "metadata": {
    "execution": {
     "iopub.execute_input": "2024-09-06T07:59:56.446652Z",
     "iopub.status.busy": "2024-09-06T07:59:56.446652Z",
     "iopub.status.idle": "2024-09-06T07:59:56.477899Z",
     "shell.execute_reply": "2024-09-06T07:59:56.477899Z"
    }
   },
   "outputs": [],
   "source": [
    "import tempfile\n",
    "import time"
   ]
  },
  {
   "cell_type": "code",
   "execution_count": 2,
   "id": "a8482f2b",
   "metadata": {
    "execution": {
     "iopub.execute_input": "2024-09-06T07:59:56.477899Z",
     "iopub.status.busy": "2024-09-06T07:59:56.477899Z",
     "iopub.status.idle": "2024-09-06T07:59:57.041274Z",
     "shell.execute_reply": "2024-09-06T07:59:57.041274Z"
    }
   },
   "outputs": [
    {
     "name": "stdout",
     "output_type": "stream",
     "text": [
      "FutureWarning: Module 'pyaedt' has become an alias to the new package structure. Please update you imports to use the new architecture based on 'ansys.aedt.core'. In addition, some files have been renamed to follow the PEP 8 naming convention. The old structure and file names will be deprecated in future versions, see https://aedt.docs.pyansys.com/version/stable/release_1_0.html\n"
     ]
    }
   ],
   "source": [
    "import pyaedt"
   ]
  },
  {
   "cell_type": "code",
   "execution_count": 3,
   "id": "66202bf2",
   "metadata": {
    "execution": {
     "iopub.execute_input": "2024-09-06T07:59:57.041274Z",
     "iopub.status.busy": "2024-09-06T07:59:57.041274Z",
     "iopub.status.idle": "2024-09-06T07:59:57.072513Z",
     "shell.execute_reply": "2024-09-06T07:59:57.072513Z"
    }
   },
   "outputs": [],
   "source": [
    "import pyedb\n",
    "from pyedb.misc.downloads import download_file"
   ]
  },
  {
   "cell_type": "markdown",
   "id": "f9c759f7",
   "metadata": {},
   "source": [
    "### Download file\n",
    "\n",
    "Download the AEDB file and copy it in the temporary folder."
   ]
  },
  {
   "cell_type": "code",
   "execution_count": 4,
   "id": "460e7db0",
   "metadata": {
    "execution": {
     "iopub.execute_input": "2024-09-06T07:59:57.072513Z",
     "iopub.status.busy": "2024-09-06T07:59:57.072513Z",
     "iopub.status.idle": "2024-09-06T08:00:03.691159Z",
     "shell.execute_reply": "2024-09-06T08:00:03.691159Z"
    }
   },
   "outputs": [
    {
     "name": "stdout",
     "output_type": "stream",
     "text": [
      "C:\\Users\\ansys\\AppData\\Local\\Temp\\tmpvhxu3ah4.ansys\\edb/ANSYS-HSD_V1.aedb\n"
     ]
    }
   ],
   "source": [
    "temp_dir = tempfile.TemporaryDirectory(suffix=\".ansys\")\n",
    "edb_full_path = download_file(\"edb/ANSYS-HSD_V1.aedb\", destination=temp_dir.name)\n",
    "time.sleep(5)\n",
    "\n",
    "print(edb_full_path)"
   ]
  },
  {
   "cell_type": "markdown",
   "id": "7ff0e194",
   "metadata": {},
   "source": [
    "### Configure EDB\n",
    "\n",
    "Create an instance of the ``pyedb.Edb`` class."
   ]
  },
  {
   "cell_type": "code",
   "execution_count": 5,
   "id": "6c537fcd",
   "metadata": {
    "execution": {
     "iopub.execute_input": "2024-09-06T08:00:03.691159Z",
     "iopub.status.busy": "2024-09-06T08:00:03.691159Z",
     "iopub.status.idle": "2024-09-06T08:00:16.367125Z",
     "shell.execute_reply": "2024-09-06T08:00:16.367125Z"
    }
   },
   "outputs": [
    {
     "name": "stdout",
     "output_type": "stream",
     "text": [
      "EDB version: 2024.2\n"
     ]
    },
    {
     "name": "stdout",
     "output_type": "stream",
     "text": [
      "PyAEDT INFO: Logger is initialized in EDB.\n"
     ]
    },
    {
     "name": "stdout",
     "output_type": "stream",
     "text": [
      "PyAEDT INFO: legacy v0.27.0\n"
     ]
    },
    {
     "name": "stdout",
     "output_type": "stream",
     "text": [
      "PyAEDT INFO: Python version 3.10.11 (tags/v3.10.11:7d4cc5a, Apr  5 2023, 00:38:17) [MSC v.1929 64 bit (AMD64)]\n"
     ]
    },
    {
     "name": "stdout",
     "output_type": "stream",
     "text": [
      "PyAEDT INFO: Database ANSYS-HSD_V1.aedb Opened in 2024.2\n"
     ]
    },
    {
     "name": "stdout",
     "output_type": "stream",
     "text": [
      "PyAEDT INFO: Cell main Opened\n"
     ]
    },
    {
     "name": "stdout",
     "output_type": "stream",
     "text": [
      "PyAEDT INFO: Builder was initialized.\n"
     ]
    },
    {
     "name": "stdout",
     "output_type": "stream",
     "text": [
      "PyAEDT INFO: EDB initialized.\n"
     ]
    }
   ],
   "source": [
    "# Select EDB version (change it manually if needed, e.g. \"2024.2\")\n",
    "edb_version = \"2024.2\"\n",
    "print(f\"EDB version: {edb_version}\")\n",
    "\n",
    "edbapp = pyedb.Edb(edbpath=edb_full_path, edbversion=edb_version)"
   ]
  },
  {
   "cell_type": "markdown",
   "id": "224ce9f8",
   "metadata": {},
   "source": [
    "### Generate extended nets\n",
    "\n",
    "An extended net consists of two nets that are connected\n",
    "through a passive component such as a resistor or capacitor."
   ]
  },
  {
   "cell_type": "code",
   "execution_count": 6,
   "id": "6df5d3f6",
   "metadata": {
    "execution": {
     "iopub.execute_input": "2024-09-06T08:00:16.367125Z",
     "iopub.status.busy": "2024-09-06T08:00:16.367125Z",
     "iopub.status.idle": "2024-09-06T08:00:17.508218Z",
     "shell.execute_reply": "2024-09-06T08:00:17.508218Z"
    }
   },
   "outputs": [],
   "source": [
    "all_nets = edbapp.extended_nets.auto_identify_signal(resistor_below=10, inductor_below=1, capacitor_above=1e-9)"
   ]
  },
  {
   "cell_type": "markdown",
   "id": "fea521bd",
   "metadata": {},
   "source": [
    "Review the properties of extended nets."
   ]
  },
  {
   "cell_type": "code",
   "execution_count": 7,
   "id": "1931859d",
   "metadata": {
    "execution": {
     "iopub.execute_input": "2024-09-06T08:00:17.508218Z",
     "iopub.status.busy": "2024-09-06T08:00:17.508218Z",
     "iopub.status.idle": "2024-09-06T08:00:17.539465Z",
     "shell.execute_reply": "2024-09-06T08:00:17.539465Z"
    }
   },
   "outputs": [
    {
     "name": "stdout",
     "output_type": "stream",
     "text": [
      "['U1', 'C379', 'X1']\n",
      "['C379']\n",
      "['U1', 'C380', 'X1']\n",
      "['C380']\n"
     ]
    }
   ],
   "source": [
    "diff_p = edbapp.nets[\"PCIe_Gen4_TX3_CAP_P\"]\n",
    "diff_n = edbapp.nets[\"PCIe_Gen4_TX3_CAP_N\"]\n",
    "\n",
    "nets_p = list(diff_p.extended_net.nets.keys())\n",
    "nets_n = list(diff_n.extended_net.nets.keys())\n",
    "\n",
    "comp_p = list(diff_p.extended_net.components.keys())\n",
    "comp_n = list(diff_n.extended_net.components.keys())\n",
    "\n",
    "rlc_p = list(diff_p.extended_net.rlc.keys())\n",
    "rlc_n = list(diff_n.extended_net.rlc.keys())\n",
    "\n",
    "print(comp_p, rlc_p, comp_n, rlc_n, sep=\"\\n\")"
   ]
  },
  {
   "cell_type": "markdown",
   "id": "884a3e1e",
   "metadata": {},
   "source": [
    "Prepare input data for port creation."
   ]
  },
  {
   "cell_type": "code",
   "execution_count": 8,
   "id": "91154ab0",
   "metadata": {
    "execution": {
     "iopub.execute_input": "2024-09-06T08:00:17.539465Z",
     "iopub.status.busy": "2024-09-06T08:00:17.539465Z",
     "iopub.status.idle": "2024-09-06T08:00:17.570715Z",
     "shell.execute_reply": "2024-09-06T08:00:17.570715Z"
    }
   },
   "outputs": [
    {
     "name": "stdout",
     "output_type": "stream",
     "text": [
      "{'port_name': 'U1_PCIe_Gen4_TX3_CAP_P', 'comp_name': 'U1', 'net_name': 'PCIe_Gen4_TX3_CAP_P'}\n",
      "{'port_name': 'X1_PCIe_Gen4_TX3_P', 'comp_name': 'X1', 'net_name': 'PCIe_Gen4_TX3_P'}\n",
      "{'port_name': 'U1_PCIe_Gen4_TX3_CAP_N', 'comp_name': 'U1', 'net_name': 'PCIe_Gen4_TX3_CAP_N'}\n",
      "{'port_name': 'X1_PCIe_Gen4_TX3_N', 'comp_name': 'X1', 'net_name': 'PCIe_Gen4_TX3_N'}\n"
     ]
    }
   ],
   "source": [
    "ports = []\n",
    "for net_name, net_obj in diff_p.extended_net.nets.items():\n",
    "    for comp_name, comp_obj in net_obj.components.items():\n",
    "        if comp_obj.type not in [\"Resistor\", \"Capacitor\", \"Inductor\"]:\n",
    "            ports.append(\n",
    "                {\n",
    "                    \"port_name\": \"{}_{}\".format(comp_name, net_name),\n",
    "                    \"comp_name\": comp_name,\n",
    "                    \"net_name\": net_name,\n",
    "                }\n",
    "            )\n",
    "\n",
    "for net_name, net_obj in diff_n.extended_net.nets.items():\n",
    "    for comp_name, comp_obj in net_obj.components.items():\n",
    "        if comp_obj.type not in [\"Resistor\", \"Capacitor\", \"Inductor\"]:\n",
    "            ports.append(\n",
    "                {\n",
    "                    \"port_name\": \"{}_{}\".format(comp_name, net_name),\n",
    "                    \"comp_name\": comp_name,\n",
    "                    \"net_name\": net_name,\n",
    "                }\n",
    "            )\n",
    "\n",
    "print(*ports, sep=\"\\n\")"
   ]
  },
  {
   "cell_type": "markdown",
   "id": "e0e9692f",
   "metadata": {},
   "source": [
    "### Create ports\n",
    "\n",
    "Solder balls are generated automatically. The default port type is coax port."
   ]
  },
  {
   "cell_type": "code",
   "execution_count": 9,
   "id": "a2567dcb",
   "metadata": {
    "execution": {
     "iopub.execute_input": "2024-09-06T08:00:17.570715Z",
     "iopub.status.busy": "2024-09-06T08:00:17.570715Z",
     "iopub.status.idle": "2024-09-06T08:00:17.976972Z",
     "shell.execute_reply": "2024-09-06T08:00:17.976972Z"
    }
   },
   "outputs": [],
   "source": [
    "for d in ports:\n",
    "    port_name = d[\"port_name\"]\n",
    "    comp_name = d[\"comp_name\"]\n",
    "    net_name = d[\"net_name\"]\n",
    "    edbapp.components.create_port_on_component(component=comp_name, net_list=net_name, port_name=port_name)"
   ]
  },
  {
   "cell_type": "markdown",
   "id": "89eb4eac",
   "metadata": {},
   "source": [
    "### Cutout\n",
    "\n",
    "Retain only relevant parts of the layout."
   ]
  },
  {
   "cell_type": "code",
   "execution_count": 10,
   "id": "63265df6",
   "metadata": {
    "execution": {
     "iopub.execute_input": "2024-09-06T08:00:17.976972Z",
     "iopub.status.busy": "2024-09-06T08:00:17.976972Z",
     "iopub.status.idle": "2024-09-06T08:00:27.398972Z",
     "shell.execute_reply": "2024-09-06T08:00:27.398972Z"
    }
   },
   "outputs": [
    {
     "name": "stdout",
     "output_type": "stream",
     "text": [
      "PyAEDT INFO: Cutout Multithread started.\n"
     ]
    },
    {
     "name": "stdout",
     "output_type": "stream",
     "text": [
      "PyAEDT INFO: Net clean up Elapsed time: 0m 4sec\n"
     ]
    },
    {
     "name": "stdout",
     "output_type": "stream",
     "text": [
      "PyAEDT INFO: Expanded Net Polygon Creation Elapsed time: 0m 0sec\n"
     ]
    },
    {
     "name": "stdout",
     "output_type": "stream",
     "text": [
      "PyAEDT INFO: Padstack Instances removal completed. 1907 instances removed. Elapsed time: 0m 1sec\n"
     ]
    },
    {
     "name": "stdout",
     "output_type": "stream",
     "text": [
      "PyAEDT INFO: Primitives cleanup completed. 438 primitives deleted. Elapsed time: 0m 4sec\n"
     ]
    },
    {
     "name": "stdout",
     "output_type": "stream",
     "text": [
      "PyAEDT INFO: Deleted 968 additional components\n"
     ]
    },
    {
     "name": "stdout",
     "output_type": "stream",
     "text": [
      "PyAEDT INFO: Cutout completed. Elapsed time: 0m 9sec\n"
     ]
    },
    {
     "data": {
      "text/plain": [
       "[[0.016139999279999998, 0.05419999847],\n",
       " [0.016139999279999998, 0.03255000329],\n",
       " [0.06875000112, 0.03255000329],\n",
       " [0.06875000112, 0.05419999847]]"
      ]
     },
     "execution_count": 10,
     "metadata": {},
     "output_type": "execute_result"
    }
   ],
   "source": [
    "nets = []\n",
    "nets.extend(nets_p)\n",
    "nets.extend(nets_n)\n",
    "edbapp.cutout(signal_list=nets, reference_list=[\"GND\"], extent_type=\"Bounding\")"
   ]
  },
  {
   "cell_type": "markdown",
   "id": "4ae90925",
   "metadata": {},
   "source": [
    "Set up the model for network analysis in SIwave."
   ]
  },
  {
   "cell_type": "code",
   "execution_count": 11,
   "id": "5080e391",
   "metadata": {
    "execution": {
     "iopub.execute_input": "2024-09-06T08:00:27.398972Z",
     "iopub.status.busy": "2024-09-06T08:00:27.398972Z",
     "iopub.status.idle": "2024-09-06T08:00:27.477095Z",
     "shell.execute_reply": "2024-09-06T08:00:27.477095Z"
    }
   },
   "outputs": [
    {
     "data": {
      "text/plain": [
       "<pyedb.dotnet.edb_core.sim_setup_data.data.sweep_data.SweepData at 0x215c27c40c0>"
      ]
     },
     "execution_count": 11,
     "metadata": {},
     "output_type": "execute_result"
    }
   ],
   "source": [
    "setup = edbapp.create_siwave_syz_setup(\"setup1\")\n",
    "setup.add_frequency_sweep(\n",
    "    frequency_sweep=[\n",
    "        [\"linear count\", \"0\", \"1kHz\", 1],\n",
    "        [\"log scale\", \"1kHz\", \"0.1GHz\", 10],\n",
    "        [\"linear scale\", \"0.1GHz\", \"10GHz\", \"0.1GHz\"],\n",
    "    ]\n",
    ")"
   ]
  },
  {
   "cell_type": "markdown",
   "id": "8c49e0ab",
   "metadata": {},
   "source": [
    "Save and close the EDB."
   ]
  },
  {
   "cell_type": "code",
   "execution_count": 12,
   "id": "dbe6d7c4",
   "metadata": {
    "execution": {
     "iopub.execute_input": "2024-09-06T08:00:27.477095Z",
     "iopub.status.busy": "2024-09-06T08:00:27.477095Z",
     "iopub.status.idle": "2024-09-06T08:00:27.648923Z",
     "shell.execute_reply": "2024-09-06T08:00:27.648923Z"
    }
   },
   "outputs": [
    {
     "name": "stdout",
     "output_type": "stream",
     "text": [
      "PyAEDT INFO: EDB file release time: 0.00ms\n"
     ]
    },
    {
     "data": {
      "text/plain": [
       "True"
      ]
     },
     "execution_count": 12,
     "metadata": {},
     "output_type": "execute_result"
    }
   ],
   "source": [
    "edbapp.save()\n",
    "edbapp.close_edb()"
   ]
  },
  {
   "cell_type": "markdown",
   "id": "535f3270",
   "metadata": {},
   "source": [
    "### Launch Hfss3dLayout\n",
    "\n",
    "The HFSS 3D Layout user interface in AEDT is used to import the EDB and\n",
    "run the analysis. AEDT 3D Layout can be used to view the model\n",
    "if it is launched in graphical mode."
   ]
  },
  {
   "cell_type": "code",
   "execution_count": 13,
   "id": "388c4425",
   "metadata": {
    "execution": {
     "iopub.execute_input": "2024-09-06T08:00:27.648923Z",
     "iopub.status.busy": "2024-09-06T08:00:27.648923Z",
     "iopub.status.idle": "2024-09-06T08:01:00.424593Z",
     "shell.execute_reply": "2024-09-06T08:01:00.424593Z"
    }
   },
   "outputs": [
    {
     "name": "stdout",
     "output_type": "stream",
     "text": [
      "PyAEDT WARNING: Argument `specified_version` is deprecated for method `__init__`; use `version` instead.\n"
     ]
    },
    {
     "name": "stdout",
     "output_type": "stream",
     "text": [
      "PyAEDT WARNING: Argument `new_desktop_session` is deprecated for method `__init__`; use `new_desktop` instead.\n"
     ]
    },
    {
     "name": "stdout",
     "output_type": "stream",
     "text": [
      "PyAEDT INFO: Python version 3.10.11 (tags/v3.10.11:7d4cc5a, Apr  5 2023, 00:38:17) [MSC v.1929 64 bit (AMD64)]\n"
     ]
    },
    {
     "name": "stdout",
     "output_type": "stream",
     "text": [
      "PyAEDT INFO: PyAEDT version 0.11.dev0.\n"
     ]
    },
    {
     "name": "stdout",
     "output_type": "stream",
     "text": [
      "PyAEDT INFO: Initializing new Desktop session.\n"
     ]
    },
    {
     "name": "stdout",
     "output_type": "stream",
     "text": [
      "PyAEDT INFO: Log on console is enabled.\n"
     ]
    },
    {
     "name": "stdout",
     "output_type": "stream",
     "text": [
      "PyAEDT INFO: Log on file C:\\Users\\ansys\\AppData\\Local\\Temp\\pyaedt_ansys_d3b099f5-d7ad-46bb-8ec2-ac5d6e3ac170.log is enabled.\n"
     ]
    },
    {
     "name": "stdout",
     "output_type": "stream",
     "text": [
      "PyAEDT INFO: Log on AEDT is enabled.\n"
     ]
    },
    {
     "name": "stdout",
     "output_type": "stream",
     "text": [
      "PyAEDT INFO: Debug logger is disabled. PyAEDT methods will not be logged.\n"
     ]
    },
    {
     "name": "stdout",
     "output_type": "stream",
     "text": [
      "PyAEDT INFO: Launching PyAEDT with gRPC plugin.\n"
     ]
    },
    {
     "name": "stdout",
     "output_type": "stream",
     "text": [
      "PyAEDT INFO: New AEDT session is starting on gRPC port 55224\n"
     ]
    },
    {
     "name": "stdout",
     "output_type": "stream",
     "text": [
      "PyAEDT INFO: AEDT installation Path C:\\Program Files\\AnsysEM\\v242\\Win64\n"
     ]
    },
    {
     "name": "stdout",
     "output_type": "stream",
     "text": [
      "PyAEDT INFO: Ansoft.ElectronicsDesktop.2024.2 version started with process ID 1148.\n"
     ]
    },
    {
     "name": "stdout",
     "output_type": "stream",
     "text": [
      "PyAEDT INFO: EDB folder C:\\Users\\ansys\\AppData\\Local\\Temp\\tmpvhxu3ah4.ansys\\edb/ANSYS-HSD_V1.aedb has been imported to project ANSYS-HSD_V1\n"
     ]
    },
    {
     "name": "stdout",
     "output_type": "stream",
     "text": [
      "PyAEDT INFO: Active Design set to 0;main\n"
     ]
    },
    {
     "name": "stdout",
     "output_type": "stream",
     "text": [
      "PyAEDT INFO: Aedt Objects correctly read\n"
     ]
    }
   ],
   "source": [
    "h3d = pyaedt.Hfss3dLayout(\n",
    "    edb_full_path,\n",
    "    specified_version=\"2024.2\",\n",
    "    non_graphical=False,  # Set to true for non-graphical mode.\n",
    "    new_desktop_session=True,\n",
    ")"
   ]
  },
  {
   "cell_type": "markdown",
   "id": "f4c007b4",
   "metadata": {},
   "source": [
    "Define the differential pair."
   ]
  },
  {
   "cell_type": "code",
   "execution_count": 14,
   "id": "a4eb4168",
   "metadata": {
    "execution": {
     "iopub.execute_input": "2024-09-06T08:01:00.424593Z",
     "iopub.status.busy": "2024-09-06T08:01:00.424593Z",
     "iopub.status.idle": "2024-09-06T08:01:00.477380Z",
     "shell.execute_reply": "2024-09-06T08:01:00.477380Z"
    }
   },
   "outputs": [
    {
     "name": "stdout",
     "output_type": "stream",
     "text": [
      "PyAEDT WARNING: Argument `positive_terminal` is deprecated for method `set_differential_pair`; use `assignment` instead.\n"
     ]
    },
    {
     "name": "stdout",
     "output_type": "stream",
     "text": [
      "PyAEDT WARNING: Argument `negative_terminal` is deprecated for method `set_differential_pair`; use `reference` instead.\n"
     ]
    },
    {
     "name": "stdout",
     "output_type": "stream",
     "text": [
      "PyAEDT WARNING: Argument `diff_name` is deprecated for method `set_differential_pair`; use `differential_mode` instead.\n"
     ]
    },
    {
     "name": "stdout",
     "output_type": "stream",
     "text": [
      "PyAEDT WARNING: Argument `positive_terminal` is deprecated for method `set_differential_pair`; use `assignment` instead.\n"
     ]
    },
    {
     "name": "stdout",
     "output_type": "stream",
     "text": [
      "PyAEDT WARNING: Argument `negative_terminal` is deprecated for method `set_differential_pair`; use `reference` instead.\n"
     ]
    },
    {
     "name": "stdout",
     "output_type": "stream",
     "text": [
      "PyAEDT WARNING: Argument `diff_name` is deprecated for method `set_differential_pair`; use `differential_mode` instead.\n"
     ]
    },
    {
     "data": {
      "text/plain": [
       "True"
      ]
     },
     "execution_count": 14,
     "metadata": {},
     "output_type": "execute_result"
    }
   ],
   "source": [
    "h3d.set_differential_pair(\n",
    "    positive_terminal=\"U1_PCIe_Gen4_TX3_CAP_P\",\n",
    "    negative_terminal=\"U1_PCIe_Gen4_TX3_CAP_N\",\n",
    "    diff_name=\"PAIR_U1\",\n",
    ")\n",
    "h3d.set_differential_pair(\n",
    "    positive_terminal=\"X1_PCIe_Gen4_TX3_P\",\n",
    "    negative_terminal=\"X1_PCIe_Gen4_TX3_N\",\n",
    "    diff_name=\"PAIR_X1\",\n",
    ")"
   ]
  },
  {
   "cell_type": "markdown",
   "id": "ea072975",
   "metadata": {},
   "source": [
    "Solve and plot the results."
   ]
  },
  {
   "cell_type": "code",
   "execution_count": 15,
   "id": "411f0d25",
   "metadata": {
    "execution": {
     "iopub.execute_input": "2024-09-06T08:01:00.477380Z",
     "iopub.status.busy": "2024-09-06T08:01:00.477380Z",
     "iopub.status.idle": "2024-09-06T08:01:27.356794Z",
     "shell.execute_reply": "2024-09-06T08:01:27.356794Z"
    }
   },
   "outputs": [
    {
     "name": "stdout",
     "output_type": "stream",
     "text": [
      "PyAEDT WARNING: Argument `num_cores` is deprecated for method `analyze`; use `cores` instead.\n"
     ]
    },
    {
     "name": "stdout",
     "output_type": "stream",
     "text": [
      "PyAEDT INFO: Key Desktop/ActiveDSOConfigurations/HFSS 3D Layout Design correctly changed.\n"
     ]
    },
    {
     "name": "stdout",
     "output_type": "stream",
     "text": [
      "PyAEDT INFO: Solving all design setups.\n"
     ]
    },
    {
     "name": "stdout",
     "output_type": "stream",
     "text": [
      "PyAEDT INFO: Key Desktop/ActiveDSOConfigurations/HFSS 3D Layout Design correctly changed.\n"
     ]
    },
    {
     "name": "stdout",
     "output_type": "stream",
     "text": [
      "PyAEDT INFO: Design setup None solved correctly in 0.0h 0.0m 27.0s\n"
     ]
    },
    {
     "data": {
      "text/plain": [
       "True"
      ]
     },
     "execution_count": 15,
     "metadata": {},
     "output_type": "execute_result"
    }
   ],
   "source": [
    "h3d.analyze(num_cores=4)"
   ]
  },
  {
   "cell_type": "markdown",
   "id": "5bdc98e9",
   "metadata": {},
   "source": [
    "Visualze the results."
   ]
  },
  {
   "cell_type": "code",
   "execution_count": 16,
   "id": "be716ad8",
   "metadata": {
    "execution": {
     "iopub.execute_input": "2024-09-06T08:01:27.356794Z",
     "iopub.status.busy": "2024-09-06T08:01:27.356794Z",
     "iopub.status.idle": "2024-09-06T08:01:28.051350Z",
     "shell.execute_reply": "2024-09-06T08:01:28.051350Z"
    }
   },
   "outputs": [
    {
     "name": "stdout",
     "output_type": "stream",
     "text": [
      "PyAEDT INFO: Parsing C:/Users/ansys/AppData/Local/Temp/tmpvhxu3ah4.ansys/edb/ANSYS-HSD_V1.aedt.\n"
     ]
    },
    {
     "name": "stdout",
     "output_type": "stream",
     "text": [
      "PyAEDT INFO: File C:/Users/ansys/AppData/Local/Temp/tmpvhxu3ah4.ansys/edb/ANSYS-HSD_V1.aedt correctly loaded. Elapsed time: 0m 0sec\n"
     ]
    },
    {
     "name": "stdout",
     "output_type": "stream",
     "text": [
      "PyAEDT INFO: aedt file load time 0.0481264591217041\n"
     ]
    },
    {
     "name": "stdout",
     "output_type": "stream",
     "text": [
      "PyAEDT INFO: Loading Modeler.\n"
     ]
    },
    {
     "name": "stdout",
     "output_type": "stream",
     "text": [
      "PyAEDT INFO: Modeler loaded.\n"
     ]
    },
    {
     "name": "stdout",
     "output_type": "stream",
     "text": [
      "PyAEDT INFO: EDB loaded.\n"
     ]
    },
    {
     "name": "stdout",
     "output_type": "stream",
     "text": [
      "PyAEDT INFO: Layers loaded.\n"
     ]
    },
    {
     "name": "stdout",
     "output_type": "stream",
     "text": [
      "PyAEDT INFO: Primitives loaded.\n"
     ]
    },
    {
     "name": "stdout",
     "output_type": "stream",
     "text": [
      "PyAEDT INFO: Modeler class has been initialized! Elapsed time: 0m 0sec\n"
     ]
    },
    {
     "name": "stdout",
     "output_type": "stream",
     "text": [
      "PyAEDT INFO: PostProcessor class has been initialized! Elapsed time: 0m 0sec\n"
     ]
    },
    {
     "name": "stdout",
     "output_type": "stream",
     "text": [
      "PyAEDT INFO: Post class has been initialized! Elapsed time: 0m 0sec\n"
     ]
    },
    {
     "data": {
      "text/plain": [
       "<ansys.aedt.core.modules.report_templates.Standard at 0x2159f102680>"
      ]
     },
     "execution_count": 16,
     "metadata": {},
     "output_type": "execute_result"
    }
   ],
   "source": [
    "h3d.post.create_report(\"dB(S(PAIR_U1,PAIR_U1))\", context=\"Differential Pairs\")"
   ]
  },
  {
   "cell_type": "markdown",
   "id": "b9171400",
   "metadata": {},
   "source": [
    "Close AEDT."
   ]
  },
  {
   "cell_type": "code",
   "execution_count": 17,
   "id": "930d8082",
   "metadata": {
    "execution": {
     "iopub.execute_input": "2024-09-06T08:01:28.051350Z",
     "iopub.status.busy": "2024-09-06T08:01:28.051350Z",
     "iopub.status.idle": "2024-09-06T08:01:31.540930Z",
     "shell.execute_reply": "2024-09-06T08:01:31.540930Z"
    }
   },
   "outputs": [
    {
     "name": "stdout",
     "output_type": "stream",
     "text": [
      "PyAEDT INFO: Project ANSYS-HSD_V1 Saved correctly\n"
     ]
    },
    {
     "name": "stdout",
     "output_type": "stream",
     "text": [
      "Project is saved to C:/Users/ansys/AppData/Local/Temp/tmpvhxu3ah4.ansys/edb/\n"
     ]
    },
    {
     "name": "stdout",
     "output_type": "stream",
     "text": [
      "PyAEDT INFO: Desktop has been released and closed.\n"
     ]
    },
    {
     "data": {
      "text/plain": [
       "True"
      ]
     },
     "execution_count": 17,
     "metadata": {},
     "output_type": "execute_result"
    }
   ],
   "source": [
    "h3d.save_project()\n",
    "print(\"Project is saved to {}\".format(h3d.project_path))\n",
    "h3d.release_desktop(True, True)"
   ]
  },
  {
   "cell_type": "markdown",
   "id": "a0bdb7b4",
   "metadata": {},
   "source": [
    "The following cell cleans up the temporary directory and removes all project data."
   ]
  },
  {
   "cell_type": "code",
   "execution_count": 18,
   "id": "b2821668",
   "metadata": {
    "execution": {
     "iopub.execute_input": "2024-09-06T08:01:31.540930Z",
     "iopub.status.busy": "2024-09-06T08:01:31.540930Z",
     "iopub.status.idle": "2024-09-06T08:01:31.556505Z",
     "shell.execute_reply": "2024-09-06T08:01:31.556505Z"
    }
   },
   "outputs": [],
   "source": [
    "temp_dir.cleanup()"
   ]
  }
 ],
 "metadata": {
  "jupytext": {
   "cell_metadata_filter": "-all",
   "main_language": "python",
   "notebook_metadata_filter": "-all",
   "text_representation": {
    "extension": ".py",
    "format_name": "light"
   }
  },
  "language_info": {
   "codemirror_mode": {
    "name": "ipython",
    "version": 3
   },
   "file_extension": ".py",
   "mimetype": "text/x-python",
   "name": "python",
   "nbconvert_exporter": "python",
   "pygments_lexer": "ipython3",
   "version": "3.10.11"
  }
 },
 "nbformat": 4,
 "nbformat_minor": 5
}
