{
  "cells": [
    {
      "cell_type": "markdown",
      "metadata": {},
      "source": [
        "\n# EDB: Rename nets and ports\nThis example shows how you can use PyEDB to rename ports and nets.\n"
      ]
    },
    {
      "cell_type": "markdown",
      "metadata": {},
      "source": [
        "## Perform required imports\nPerform required imports, which includes importing a section.\n\n"
      ]
    },
    {
      "cell_type": "code",
      "execution_count": null,
      "metadata": {
        "collapsed": false
      },
      "outputs": [],
      "source": [
        "from pyedb import Edb\nfrom pyedb.generic.general_methods import generate_unique_folder_name\nimport pyedb.misc.downloads as downloads"
      ]
    },
    {
      "cell_type": "markdown",
      "metadata": {},
      "source": [
        "## Download ANSYS EDB\nDownload ANSYS generic design from public repository.\n\n"
      ]
    },
    {
      "cell_type": "code",
      "execution_count": null,
      "metadata": {
        "collapsed": false
      },
      "outputs": [],
      "source": [
        "temp_folder = generate_unique_folder_name()\ntargetfile = downloads.download_file(\"edb/ANSYS-HSD_V1.aedb\", destination=temp_folder)"
      ]
    },
    {
      "cell_type": "markdown",
      "metadata": {},
      "source": [
        "## opening EDB\nOpening EDB with ANSYS release 2024.1\n\n"
      ]
    },
    {
      "cell_type": "code",
      "execution_count": null,
      "metadata": {
        "collapsed": false
      },
      "outputs": [],
      "source": [
        "edbapp = Edb(edbpath=targetfile, edbversion=\"2024.1\")"
      ]
    },
    {
      "cell_type": "markdown",
      "metadata": {},
      "source": [
        "## Renaming all signal nets\nUsing the net name setter to rename.\n\n"
      ]
    },
    {
      "cell_type": "code",
      "execution_count": null,
      "metadata": {
        "collapsed": false
      },
      "outputs": [],
      "source": [
        "for net_name, net in edbapp.nets.signal.items():\n    net.name = f\"{net_name}_test\""
      ]
    },
    {
      "cell_type": "markdown",
      "metadata": {},
      "source": [
        "## Creating coaxial port on component U1 and all ddr4_dqs nets\nSelecting all nets from ddr4_dqs and component U1 and create coaxial ports\nOn corresponding pins.\n\n"
      ]
    },
    {
      "cell_type": "code",
      "execution_count": null,
      "metadata": {
        "collapsed": false
      },
      "outputs": [],
      "source": [
        "comp_u1 = edbapp.components.instances[\"U1\"]\nsignal_nets = [net for net in comp_u1.nets if \"ddr4_dqs\" in net.lower()]\nedbapp.hfss.create_coax_port_on_component(\"U1\", net_list=signal_nets)\nedbapp.components.set_solder_ball(component=\"U1\", sball_diam=\"0.3mm\", sball_height=\"0.3mm\")"
      ]
    },
    {
      "cell_type": "markdown",
      "metadata": {},
      "source": [
        "## Renaming all ports\nRenaming all port with _renamed string as suffix example.\n\n"
      ]
    },
    {
      "cell_type": "code",
      "execution_count": null,
      "metadata": {
        "collapsed": false
      },
      "outputs": [],
      "source": [
        "for port_name, port in edbapp.ports.items():\n    port.name = f\"{port_name}_renamed\""
      ]
    },
    {
      "cell_type": "markdown",
      "metadata": {},
      "source": [
        "## Saving and closing EDB\nOnce the EDB saved and closed, this can be imported in ANSYS AEDT as an HFSS 3D Layout project.\n\n"
      ]
    },
    {
      "cell_type": "code",
      "execution_count": null,
      "metadata": {
        "collapsed": false
      },
      "outputs": [],
      "source": [
        "edbapp.save()\nedbapp.close()"
      ]
    }
  ],
  "metadata": {
    "kernelspec": {
      "display_name": "Python 3",
      "language": "python",
      "name": "python3"
    },
    "language_info": {
      "codemirror_mode": {
        "name": "ipython",
        "version": 3
      },
      "file_extension": ".py",
      "mimetype": "text/x-python",
      "name": "python",
      "nbconvert_exporter": "python",
      "pygments_lexer": "ipython3",
      "version": "3.10.11"
    }
  },
  "nbformat": 4,
  "nbformat_minor": 0
}