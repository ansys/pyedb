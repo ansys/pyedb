{
  "cells": [
    {
      "cell_type": "markdown",
      "metadata": {},
      "source": [
        "\n# EDB: fully parametrized CPWG design\nThis example shows how you can use HFSS 3D Layout to create a parametric design\nfor a CPWG (coplanar waveguide with ground).\n"
      ]
    },
    {
      "cell_type": "markdown",
      "metadata": {},
      "source": [
        "## Perform required imports\nPerform required imports. Importing the ``Hfss3dlayout`` object initializes it\non version 2023 R2.\n\n"
      ]
    },
    {
      "cell_type": "code",
      "execution_count": null,
      "metadata": {
        "collapsed": false
      },
      "outputs": [],
      "source": [
        "import os\n\nimport numpy as np\n\nfrom pyedb.dotnet.edb import Edb\nfrom pyedb.generic.general_methods import (\n    generate_unique_folder_name,\n    generate_unique_name,\n)"
      ]
    },
    {
      "cell_type": "markdown",
      "metadata": {},
      "source": [
        "## Set non-graphical mode\nSet non-graphical mode. The default is ``False``.\n\n"
      ]
    },
    {
      "cell_type": "code",
      "execution_count": null,
      "metadata": {
        "collapsed": false
      },
      "outputs": [],
      "source": [
        "non_graphical = False"
      ]
    },
    {
      "cell_type": "markdown",
      "metadata": {},
      "source": [
        "## Launch EDB\nLaunch EDB.\n\n"
      ]
    },
    {
      "cell_type": "code",
      "execution_count": null,
      "metadata": {
        "collapsed": false
      },
      "outputs": [],
      "source": [
        "aedb_path = os.path.join(generate_unique_folder_name(), generate_unique_name(\"pcb\") + \".aedb\")\nprint(aedb_path)\nedbapp = Edb(edbpath=aedb_path, edbversion=\"2024.1\")"
      ]
    },
    {
      "cell_type": "markdown",
      "metadata": {},
      "source": [
        "## Define parameters\nDefine parameters.\n\n"
      ]
    },
    {
      "cell_type": "code",
      "execution_count": null,
      "metadata": {
        "collapsed": false
      },
      "outputs": [],
      "source": [
        "params = {\n    \"$ms_width\": \"0.4mm\",\n    \"$ms_clearance\": \"0.3mm\",\n    \"$ms_length\": \"20mm\",\n}\nfor par_name in params:\n    edbapp.add_project_variable(par_name, params[par_name])"
      ]
    },
    {
      "cell_type": "markdown",
      "metadata": {},
      "source": [
        "## Create stackup\nCreate a symmetric stackup.\n\n"
      ]
    },
    {
      "cell_type": "code",
      "execution_count": null,
      "metadata": {
        "collapsed": false
      },
      "outputs": [],
      "source": [
        "edbapp.stackup.create_symmetric_stackup(2)\nedbapp.stackup.plot()"
      ]
    },
    {
      "cell_type": "markdown",
      "metadata": {},
      "source": [
        "## Draw planes\nDraw planes.\n\n"
      ]
    },
    {
      "cell_type": "code",
      "execution_count": null,
      "metadata": {
        "collapsed": false
      },
      "outputs": [],
      "source": [
        "plane_lw_pt = [\"0mm\", \"-3mm\"]\nplane_up_pt = [\"$ms_length\", \"3mm\"]\n\ntop_layer_obj = edbapp.modeler.create_rectangle(\n    \"TOP\", net_name=\"gnd\", lower_left_point=plane_lw_pt, upper_right_point=plane_up_pt\n)\nbot_layer_obj = edbapp.modeler.create_rectangle(\n    \"BOTTOM\", net_name=\"gnd\", lower_left_point=plane_lw_pt, upper_right_point=plane_up_pt\n)\nlayer_dict = {\"TOP\": top_layer_obj, \"BOTTOM\": bot_layer_obj}"
      ]
    },
    {
      "cell_type": "markdown",
      "metadata": {},
      "source": [
        "## Draw trace\nDraw a trace.\n\n"
      ]
    },
    {
      "cell_type": "code",
      "execution_count": null,
      "metadata": {
        "collapsed": false
      },
      "outputs": [],
      "source": [
        "trace_path = [[\"0\", \"0\"], [\"$ms_length\", \"0\"]]\nedbapp.modeler.create_trace(\n    trace_path, layer_name=\"TOP\", width=\"$ms_width\", net_name=\"sig\", start_cap_style=\"Flat\", end_cap_style=\"Flat\"\n)"
      ]
    },
    {
      "cell_type": "markdown",
      "metadata": {},
      "source": [
        "## Create trace to plane clearance\nCreate a trace to the plane clearance.\n\n"
      ]
    },
    {
      "cell_type": "code",
      "execution_count": null,
      "metadata": {
        "collapsed": false
      },
      "outputs": [],
      "source": [
        "poly_void = edbapp.modeler.create_trace(\n    trace_path,\n    layer_name=\"TOP\",\n    net_name=\"gnd\",\n    width=\"{}+2*{}\".format(\"$ms_width\", \"$ms_clearance\"),\n    start_cap_style=\"Flat\",\n    end_cap_style=\"Flat\",\n)\nedbapp.modeler.add_void(layer_dict[\"TOP\"], poly_void)"
      ]
    },
    {
      "cell_type": "markdown",
      "metadata": {},
      "source": [
        "## Create ground via padstack and place ground stitching vias\nCreate a ground via padstack and place ground stitching vias.\n\n"
      ]
    },
    {
      "cell_type": "code",
      "execution_count": null,
      "metadata": {
        "collapsed": false
      },
      "outputs": [],
      "source": [
        "edbapp.padstacks.create(\n    padstackname=\"GVIA\",\n    holediam=\"0.3mm\",\n    paddiam=\"0.5mm\",\n)\n\nyloc_u = \"$ms_width/2+$ms_clearance+0.25mm\"\nyloc_l = \"-$ms_width/2-$ms_clearance-0.25mm\"\n\nfor i in np.arange(1, 20):\n    edbapp.padstacks.place([str(i) + \"mm\", yloc_u], \"GVIA\", net_name=\"GND\")\n    edbapp.padstacks.place([str(i) + \"mm\", yloc_l], \"GVIA\", net_name=\"GND\")"
      ]
    },
    {
      "cell_type": "markdown",
      "metadata": {},
      "source": [
        "## Save and close EDB\nSave and close EDB.\n\n"
      ]
    },
    {
      "cell_type": "code",
      "execution_count": null,
      "metadata": {
        "collapsed": false
      },
      "outputs": [],
      "source": [
        "edbapp.save_edb()\nedbapp.close_edb()"
      ]
    }
  ],
  "metadata": {
    "kernelspec": {
      "display_name": "Python 3",
      "language": "python",
      "name": "python3"
    },
    "language_info": {
      "codemirror_mode": {
        "name": "ipython",
        "version": 3
      },
      "file_extension": ".py",
      "mimetype": "text/x-python",
      "name": "python",
      "nbconvert_exporter": "python",
      "pygments_lexer": "ipython3",
      "version": "3.10.11"
    }
  },
  "nbformat": 4,
  "nbformat_minor": 0
}