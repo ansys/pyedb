{
 "cells": [
  {
   "cell_type": "markdown",
   "id": "6b4fac6f",
   "metadata": {},
   "source": [
    "# Import Setup AC\n",
    "This example shows how to import SIwave, HFSS setups for AC analysis. In this example, we are going to\n",
    "\n",
    "- Download an example board\n",
    "- Create a configuration file\n",
    "  - add setups\n",
    "- Import the configuration file"
   ]
  },
  {
   "cell_type": "markdown",
   "id": "129f3e64",
   "metadata": {},
   "source": [
    "### Import the required packages"
   ]
  },
  {
   "cell_type": "code",
   "execution_count": 1,
   "id": "ee7061dd",
   "metadata": {
    "execution": {
     "iopub.execute_input": "2024-10-09T19:08:55.307071Z",
     "iopub.status.busy": "2024-10-09T19:08:55.307071Z",
     "iopub.status.idle": "2024-10-09T19:08:55.869758Z",
     "shell.execute_reply": "2024-10-09T19:08:55.869758Z"
    }
   },
   "outputs": [],
   "source": [
    "import json\n",
    "from pathlib import Path\n",
    "import tempfile\n",
    "\n",
    "from ansys.aedt.core.downloads import download_file\n",
    "\n",
    "from pyedb import Edb\n",
    "\n",
    "AEDT_VERSION = \"2024.2\"\n",
    "NG_MODE = False\n"
   ]
  },
  {
   "cell_type": "markdown",
   "id": "d18fe6e9",
   "metadata": {},
   "source": [
    "Download the example PCB data."
   ]
  },
  {
   "cell_type": "code",
   "execution_count": 2,
   "id": "ec0da1b4",
   "metadata": {
    "execution": {
     "iopub.execute_input": "2024-10-09T19:08:55.869758Z",
     "iopub.status.busy": "2024-10-09T19:08:55.869758Z",
     "iopub.status.idle": "2024-10-09T19:08:56.276031Z",
     "shell.execute_reply": "2024-10-09T19:08:56.276031Z"
    }
   },
   "outputs": [],
   "source": [
    "temp_folder = tempfile.TemporaryDirectory(suffix=\".ansys\")\n",
    "file_edb = download_file(source=\"edb/ANSYS-HSD_V1.aedb\", destination=temp_folder.name)"
   ]
  },
  {
   "cell_type": "markdown",
   "id": "b733547d",
   "metadata": {},
   "source": [
    "## Load example layout."
   ]
  },
  {
   "cell_type": "code",
   "execution_count": 3,
   "id": "ae579c7e",
   "metadata": {
    "execution": {
     "iopub.execute_input": "2024-10-09T19:08:56.276031Z",
     "iopub.status.busy": "2024-10-09T19:08:56.276031Z",
     "iopub.status.idle": "2024-10-09T19:09:08.627507Z",
     "shell.execute_reply": "2024-10-09T19:09:08.627507Z"
    }
   },
   "outputs": [
    {
     "name": "stdout",
     "output_type": "stream",
     "text": [
      "PyAEDT INFO: Logger is initialized in EDB.\n"
     ]
    },
    {
     "name": "stdout",
     "output_type": "stream",
     "text": [
      "PyAEDT INFO: legacy v0.30.0\n"
     ]
    },
    {
     "name": "stdout",
     "output_type": "stream",
     "text": [
      "PyAEDT INFO: Python version 3.10.11 (tags/v3.10.11:7d4cc5a, Apr  5 2023, 00:38:17) [MSC v.1929 64 bit (AMD64)]\n"
     ]
    },
    {
     "name": "stdout",
     "output_type": "stream",
     "text": [
      "PyAEDT INFO: Database ANSYS-HSD_V1.aedb Opened in 2024.2\n"
     ]
    },
    {
     "name": "stdout",
     "output_type": "stream",
     "text": [
      "PyAEDT INFO: Cell main Opened\n"
     ]
    },
    {
     "name": "stdout",
     "output_type": "stream",
     "text": [
      "PyAEDT INFO: Builder was initialized.\n"
     ]
    },
    {
     "name": "stdout",
     "output_type": "stream",
     "text": [
      "PyAEDT INFO: EDB initialized.\n"
     ]
    }
   ],
   "source": [
    "edbapp = Edb(file_edb, edbversion=AEDT_VERSION)"
   ]
  },
  {
   "cell_type": "markdown",
   "id": "b25615aa",
   "metadata": {},
   "source": [
    "## Create an empty dictionary to host all configurations."
   ]
  },
  {
   "cell_type": "code",
   "execution_count": 4,
   "id": "4045e3de",
   "metadata": {
    "execution": {
     "iopub.execute_input": "2024-10-09T19:09:08.627507Z",
     "iopub.status.busy": "2024-10-09T19:09:08.627507Z",
     "iopub.status.idle": "2024-10-09T19:09:08.643131Z",
     "shell.execute_reply": "2024-10-09T19:09:08.643131Z"
    }
   },
   "outputs": [],
   "source": [
    "cfg = dict()"
   ]
  },
  {
   "cell_type": "markdown",
   "id": "f548bf7a",
   "metadata": {},
   "source": [
    "## Create an SIwave SYZ setup"
   ]
  },
  {
   "cell_type": "markdown",
   "id": "413464c2",
   "metadata": {},
   "source": [
    "Keywords\n",
    "\n",
    "- **name**. Name of the setup.\n",
    "- **type**. Type of the analysis setup. Supported types are 'siwave_ac', 'siwave_dc', 'hfss'.\n",
    "- **pi_slider_position**. PI slider position. Supported values are from '0', '1', '2'. 0:speed, 1:balanced,\n",
    "2:accuracy.\n",
    "- **freq_sweep**. List of frequency sweeps.\n",
    "  - **name**. Name of the sweep.\n",
    "  - **type**. Type of the sweep. Supported types are 'interpolation', 'discrete', 'broadband'.\n",
    "  - **frequencies**. Frequency distribution.\n",
    "    - **distribution**. Supported distributions are 'linear_count', 'linear_scale', 'log_scale'.\n",
    "    - **start**. Start frequency. Example, 1e6, \"1MHz\".\n",
    "    - **stop**. Stop frequency. Example, 1e9, \"1GHz\".\n",
    "    - **increment**."
   ]
  },
  {
   "cell_type": "code",
   "execution_count": 5,
   "id": "79ac64d2",
   "metadata": {
    "execution": {
     "iopub.execute_input": "2024-10-09T19:09:08.643131Z",
     "iopub.status.busy": "2024-10-09T19:09:08.643131Z",
     "iopub.status.idle": "2024-10-09T19:09:08.658754Z",
     "shell.execute_reply": "2024-10-09T19:09:08.658754Z"
    }
   },
   "outputs": [],
   "source": [
    "siwave_setup = {\n",
    "    \"name\": \"siwave_1\",\n",
    "    \"type\": \"siwave_ac\",\n",
    "    \"pi_slider_position\": 1,\n",
    "    \"freq_sweep\": [\n",
    "        {\n",
    "            \"name\": \"Sweep1\",\n",
    "            \"type\": \"interpolation\",\n",
    "            \"frequencies\": [{\"distribution\": \"log_scale\", \"start\": 1e6, \"stop\": 1e9, \"increment\": 20}],\n",
    "        }\n",
    "    ],\n",
    "}"
   ]
  },
  {
   "cell_type": "markdown",
   "id": "b8d8387b",
   "metadata": {},
   "source": [
    "## Create a HFSS setup"
   ]
  },
  {
   "cell_type": "markdown",
   "id": "7809f9a0",
   "metadata": {},
   "source": [
    "Keywords\n",
    "\n",
    "- **name**. Name of the setup.\n",
    "- **type**. Type of the analysis setup. Supported types are 'siwave_ac', 'siwave_dc', 'hfss'.\n",
    "- **f_adapt**. Adaptive frequency.\n",
    "- **max_num_passes**. Maximum number of passes.\n",
    "- **max_mag_delta_s**. Convergence criteria delta S.\n",
    "- **mesh_operations**. Mesh operations.\n",
    "    - **name**. Name of the mesh operation.\n",
    "    - **type**. Type of the mesh operation. The supported types are 'base', 'length', 'skin_depth'.\n",
    "    - **max_length**. Maximum length of elements.\n",
    "    - **restrict_length**. Whether to restrict length of elements.\n",
    "    - **refine_inside**. Whether to turn on refine inside objects.\n",
    "    - **nets_layers_list**. {'layer_name':['net_name_1', 'net_name_2']}\n",
    "- **freq_sweep**. List of frequency sweeps.\n",
    "  - **name**. Name of the sweep.\n",
    "  - **type**. Type of the sweep. Supported types are 'interpolation', 'discrete', 'broadband'.\n",
    "  - **frequencies**. Frequency distribution.\n",
    "    - **distribution**. Supported distributions are 'linear_count', 'linear_scale', 'log_scale'.\n",
    "    - **start**. Start frequency. Example, 1e6, \"1MHz\".\n",
    "    - **stop**. Stop frequency. Example, 1e9, \"1GHz\".\n",
    "    - **increment**."
   ]
  },
  {
   "cell_type": "code",
   "execution_count": 6,
   "id": "506f5587",
   "metadata": {
    "execution": {
     "iopub.execute_input": "2024-10-09T19:09:08.658754Z",
     "iopub.status.busy": "2024-10-09T19:09:08.658754Z",
     "iopub.status.idle": "2024-10-09T19:09:08.674382Z",
     "shell.execute_reply": "2024-10-09T19:09:08.674382Z"
    }
   },
   "outputs": [],
   "source": [
    "hfss_setup = {\n",
    "    \"name\": \"hfss_1\",\n",
    "    \"type\": \"hfss\",\n",
    "    \"f_adapt\": \"5GHz\",\n",
    "    \"max_num_passes\": 10,\n",
    "    \"max_mag_delta_s\": 0.02,\n",
    "    \"mesh_operations\": [\n",
    "        {\n",
    "            \"name\": \"mop_1\",\n",
    "            \"type\": \"length\",\n",
    "            \"max_length\": \"3mm\",\n",
    "            \"restrict_length\": True,\n",
    "            \"refine_inside\": False,\n",
    "            \"nets_layers_list\": {\"GND\": [\"1_Top\", \"16_Bottom\"]},\n",
    "        }\n",
    "    ],\n",
    "    \"freq_sweep\": [\n",
    "        {\n",
    "            \"name\": \"Sweep1\",\n",
    "            \"type\": \"interpolation\",\n",
    "            \"frequencies\": [{\"distribution\": \"log_scale\", \"start\": 1e6, \"stop\": 1e9, \"increment\": 20}],\n",
    "        }\n",
    "    ],\n",
    "}"
   ]
  },
  {
   "cell_type": "markdown",
   "id": "e28193a9",
   "metadata": {},
   "source": [
    "## Add setups in configuration"
   ]
  },
  {
   "cell_type": "code",
   "execution_count": 7,
   "id": "eec07fa5",
   "metadata": {
    "execution": {
     "iopub.execute_input": "2024-10-09T19:09:08.674382Z",
     "iopub.status.busy": "2024-10-09T19:09:08.674382Z",
     "iopub.status.idle": "2024-10-09T19:09:08.690035Z",
     "shell.execute_reply": "2024-10-09T19:09:08.690035Z"
    }
   },
   "outputs": [],
   "source": [
    "cfg[\"setups\"] = [siwave_setup, hfss_setup]"
   ]
  },
  {
   "cell_type": "markdown",
   "id": "89a61a4c",
   "metadata": {},
   "source": [
    "## Write configuration into as json file"
   ]
  },
  {
   "cell_type": "code",
   "execution_count": 8,
   "id": "f9356a20",
   "metadata": {
    "execution": {
     "iopub.execute_input": "2024-10-09T19:09:08.690035Z",
     "iopub.status.busy": "2024-10-09T19:09:08.690035Z",
     "iopub.status.idle": "2024-10-09T19:09:08.705656Z",
     "shell.execute_reply": "2024-10-09T19:09:08.705656Z"
    }
   },
   "outputs": [],
   "source": [
    "file_json = Path(temp_folder.name) / \"edb_configuration.json\"\n",
    "with open(file_json, \"w\") as f:\n",
    "    json.dump(cfg, f, indent=4, ensure_ascii=False)"
   ]
  },
  {
   "cell_type": "markdown",
   "id": "7623e914",
   "metadata": {},
   "source": [
    "## Import configuration into example layout"
   ]
  },
  {
   "cell_type": "code",
   "execution_count": 9,
   "id": "20ba527f",
   "metadata": {
    "execution": {
     "iopub.execute_input": "2024-10-09T19:09:08.705656Z",
     "iopub.status.busy": "2024-10-09T19:09:08.705656Z",
     "iopub.status.idle": "2024-10-09T19:09:09.002533Z",
     "shell.execute_reply": "2024-10-09T19:09:09.002533Z"
    }
   },
   "outputs": [
    {
     "data": {
      "text/plain": [
       "True"
      ]
     },
     "execution_count": 9,
     "metadata": {},
     "output_type": "execute_result"
    }
   ],
   "source": [
    "edbapp.configuration.load(config_file=file_json)\n",
    "edbapp.configuration.run()"
   ]
  },
  {
   "cell_type": "markdown",
   "id": "da8164fc",
   "metadata": {},
   "source": [
    "## Review"
   ]
  },
  {
   "cell_type": "code",
   "execution_count": 10,
   "id": "23ccf57c",
   "metadata": {
    "execution": {
     "iopub.execute_input": "2024-10-09T19:09:09.002533Z",
     "iopub.status.busy": "2024-10-09T19:09:09.002533Z",
     "iopub.status.idle": "2024-10-09T19:09:09.018174Z",
     "shell.execute_reply": "2024-10-09T19:09:09.018174Z"
    }
   },
   "outputs": [
    {
     "data": {
      "text/plain": [
       "{'hfss_1': <pyedb.dotnet.edb_core.utilities.hfss_simulation_setup.HfssSimulationSetup at 0x164972bd930>,\n",
       " 'siwave_1': <pyedb.dotnet.edb_core.utilities.siwave_simulation_setup.SiwaveSimulationSetup at 0x164972bd900>}"
      ]
     },
     "execution_count": 10,
     "metadata": {},
     "output_type": "execute_result"
    }
   ],
   "source": [
    "edbapp.setups"
   ]
  },
  {
   "cell_type": "markdown",
   "id": "5b3af4ab",
   "metadata": {},
   "source": [
    "## Save and close Edb\n",
    "The temporary folder will be deleted once the execution of this script is finished. Replace **edbapp.save()** with\n",
    "**edbapp.save_as(\"C:/example.aedb\")** to keep the example project."
   ]
  },
  {
   "cell_type": "code",
   "execution_count": 11,
   "id": "6cdc62d9",
   "metadata": {
    "execution": {
     "iopub.execute_input": "2024-10-09T19:09:09.018174Z",
     "iopub.status.busy": "2024-10-09T19:09:09.018174Z",
     "iopub.status.idle": "2024-10-09T19:09:09.221226Z",
     "shell.execute_reply": "2024-10-09T19:09:09.221226Z"
    }
   },
   "outputs": [
    {
     "data": {
      "text/plain": [
       "True"
      ]
     },
     "execution_count": 11,
     "metadata": {},
     "output_type": "execute_result"
    }
   ],
   "source": [
    "edbapp.save()\n",
    "edbapp.close()"
   ]
  }
 ],
 "metadata": {
  "jupytext": {
   "cell_metadata_filter": "-all",
   "main_language": "python",
   "notebook_metadata_filter": "-all",
   "text_representation": {
    "extension": ".py",
    "format_name": "light"
   }
  },
  "language_info": {
   "codemirror_mode": {
    "name": "ipython",
    "version": 3
   },
   "file_extension": ".py",
   "mimetype": "text/x-python",
   "name": "python",
   "nbconvert_exporter": "python",
   "pygments_lexer": "ipython3",
   "version": "3.10.11"
  }
 },
 "nbformat": 4,
 "nbformat_minor": 5
}
