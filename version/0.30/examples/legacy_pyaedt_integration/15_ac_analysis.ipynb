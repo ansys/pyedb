{
 "cells": [
  {
   "cell_type": "markdown",
   "id": "cb3e51af",
   "metadata": {},
   "source": [
    "# EDB: Network Analysis in SIwave\n",
    "\n",
    "This example shows how to use PyAEDT to set up SYZ analysis on a\n",
    "[serdes](https://en.wikipedia.org/wiki/SerDes) channel.\n",
    "The signal input is applied differetially. The positive net is _\"PCIe_Gen4_TX3_CAP_P\"_.\n",
    "The negative net is _\"PCIe_Gen4_TX3_CAP_N\"_. In this example, ports are placed on the\n",
    "driver and\n",
    "receiver components."
   ]
  },
  {
   "cell_type": "markdown",
   "id": "0e379ccd",
   "metadata": {},
   "source": [
    "### Perform required imports\n",
    "\n",
    "Perform required imports, which includes importing a section."
   ]
  },
  {
   "cell_type": "code",
   "execution_count": 1,
   "id": "efbf01dd",
   "metadata": {
    "execution": {
     "iopub.execute_input": "2024-10-09T19:00:48.322999Z",
     "iopub.status.busy": "2024-10-09T19:00:48.322999Z",
     "iopub.status.idle": "2024-10-09T19:00:48.338624Z",
     "shell.execute_reply": "2024-10-09T19:00:48.338624Z"
    }
   },
   "outputs": [],
   "source": [
    "import tempfile\n",
    "import time"
   ]
  },
  {
   "cell_type": "code",
   "execution_count": 2,
   "id": "14926229",
   "metadata": {
    "execution": {
     "iopub.execute_input": "2024-10-09T19:00:48.338624Z",
     "iopub.status.busy": "2024-10-09T19:00:48.338624Z",
     "iopub.status.idle": "2024-10-09T19:00:48.917169Z",
     "shell.execute_reply": "2024-10-09T19:00:48.917169Z"
    }
   },
   "outputs": [],
   "source": [
    "import ansys.aedt.core"
   ]
  },
  {
   "cell_type": "code",
   "execution_count": 3,
   "id": "528efd8b",
   "metadata": {
    "execution": {
     "iopub.execute_input": "2024-10-09T19:00:48.917169Z",
     "iopub.status.busy": "2024-10-09T19:00:48.917169Z",
     "iopub.status.idle": "2024-10-09T19:00:48.948459Z",
     "shell.execute_reply": "2024-10-09T19:00:48.948459Z"
    }
   },
   "outputs": [],
   "source": [
    "import pyedb\n",
    "from pyedb.misc.downloads import download_file"
   ]
  },
  {
   "cell_type": "markdown",
   "id": "6e68b405",
   "metadata": {},
   "source": [
    "### Download file\n",
    "\n",
    "Download the AEDB file and copy it in the temporary folder."
   ]
  },
  {
   "cell_type": "code",
   "execution_count": 4,
   "id": "cc3a9946",
   "metadata": {
    "execution": {
     "iopub.execute_input": "2024-10-09T19:00:48.948459Z",
     "iopub.status.busy": "2024-10-09T19:00:48.948459Z",
     "iopub.status.idle": "2024-10-09T19:00:54.652407Z",
     "shell.execute_reply": "2024-10-09T19:00:54.652407Z"
    }
   },
   "outputs": [
    {
     "name": "stdout",
     "output_type": "stream",
     "text": [
      "C:\\Users\\ansys\\AppData\\Local\\Temp\\tmpuyg9pt2r.ansys\\edb/ANSYS-HSD_V1.aedb\n"
     ]
    }
   ],
   "source": [
    "temp_dir = tempfile.TemporaryDirectory(suffix=\".ansys\")\n",
    "edb_full_path = download_file(\"edb/ANSYS-HSD_V1.aedb\", destination=temp_dir.name)\n",
    "time.sleep(5)\n",
    "\n",
    "print(edb_full_path)"
   ]
  },
  {
   "cell_type": "markdown",
   "id": "85740a8e",
   "metadata": {},
   "source": [
    "### Configure EDB\n",
    "\n",
    "Create an instance of the ``pyedb.Edb`` class."
   ]
  },
  {
   "cell_type": "code",
   "execution_count": 5,
   "id": "efeeffa2",
   "metadata": {
    "execution": {
     "iopub.execute_input": "2024-10-09T19:00:54.652407Z",
     "iopub.status.busy": "2024-10-09T19:00:54.652407Z",
     "iopub.status.idle": "2024-10-09T19:01:07.161148Z",
     "shell.execute_reply": "2024-10-09T19:01:07.161148Z"
    }
   },
   "outputs": [
    {
     "name": "stdout",
     "output_type": "stream",
     "text": [
      "EDB version: 2024.2\n"
     ]
    },
    {
     "name": "stdout",
     "output_type": "stream",
     "text": [
      "PyAEDT INFO: Logger is initialized in EDB.\n"
     ]
    },
    {
     "name": "stdout",
     "output_type": "stream",
     "text": [
      "PyAEDT INFO: legacy v0.30.0\n"
     ]
    },
    {
     "name": "stdout",
     "output_type": "stream",
     "text": [
      "PyAEDT INFO: Python version 3.10.11 (tags/v3.10.11:7d4cc5a, Apr  5 2023, 00:38:17) [MSC v.1929 64 bit (AMD64)]\n"
     ]
    },
    {
     "name": "stdout",
     "output_type": "stream",
     "text": [
      "PyAEDT INFO: Database ANSYS-HSD_V1.aedb Opened in 2024.2\n"
     ]
    },
    {
     "name": "stdout",
     "output_type": "stream",
     "text": [
      "PyAEDT INFO: Cell main Opened\n"
     ]
    },
    {
     "name": "stdout",
     "output_type": "stream",
     "text": [
      "PyAEDT INFO: Builder was initialized.\n"
     ]
    },
    {
     "name": "stdout",
     "output_type": "stream",
     "text": [
      "PyAEDT INFO: EDB initialized.\n"
     ]
    }
   ],
   "source": [
    "# Select EDB version (change it manually if needed, e.g. \"2024.2\")\n",
    "edb_version = \"2024.2\"\n",
    "print(f\"EDB version: {edb_version}\")\n",
    "\n",
    "edbapp = pyedb.Edb(edbpath=edb_full_path, edbversion=edb_version)"
   ]
  },
  {
   "cell_type": "markdown",
   "id": "a3af8390",
   "metadata": {},
   "source": [
    "### Generate extended nets\n",
    "\n",
    "An extended net consists of two nets that are connected\n",
    "through a passive component such as a resistor or capacitor."
   ]
  },
  {
   "cell_type": "code",
   "execution_count": 6,
   "id": "1595bc3a",
   "metadata": {
    "execution": {
     "iopub.execute_input": "2024-10-09T19:01:07.161148Z",
     "iopub.status.busy": "2024-10-09T19:01:07.161148Z",
     "iopub.status.idle": "2024-10-09T19:01:08.317390Z",
     "shell.execute_reply": "2024-10-09T19:01:08.317390Z"
    }
   },
   "outputs": [],
   "source": [
    "all_nets = edbapp.extended_nets.auto_identify_signal(resistor_below=10, inductor_below=1, capacitor_above=1e-9)"
   ]
  },
  {
   "cell_type": "markdown",
   "id": "27877ff3",
   "metadata": {},
   "source": [
    "Review the properties of extended nets."
   ]
  },
  {
   "cell_type": "code",
   "execution_count": 7,
   "id": "c98a9c70",
   "metadata": {
    "execution": {
     "iopub.execute_input": "2024-10-09T19:01:08.317390Z",
     "iopub.status.busy": "2024-10-09T19:01:08.317390Z",
     "iopub.status.idle": "2024-10-09T19:01:08.348632Z",
     "shell.execute_reply": "2024-10-09T19:01:08.348632Z"
    }
   },
   "outputs": [
    {
     "name": "stdout",
     "output_type": "stream",
     "text": [
      "['U1', 'C379', 'X1']\n",
      "['C379']\n",
      "['U1', 'C380', 'X1']\n",
      "['C380']\n"
     ]
    }
   ],
   "source": [
    "diff_p = edbapp.nets[\"PCIe_Gen4_TX3_CAP_P\"]\n",
    "diff_n = edbapp.nets[\"PCIe_Gen4_TX3_CAP_N\"]\n",
    "\n",
    "nets_p = list(diff_p.extended_net.nets.keys())\n",
    "nets_n = list(diff_n.extended_net.nets.keys())\n",
    "\n",
    "comp_p = list(diff_p.extended_net.components.keys())\n",
    "comp_n = list(diff_n.extended_net.components.keys())\n",
    "\n",
    "rlc_p = list(diff_p.extended_net.rlc.keys())\n",
    "rlc_n = list(diff_n.extended_net.rlc.keys())\n",
    "\n",
    "print(comp_p, rlc_p, comp_n, rlc_n, sep=\"\\n\")"
   ]
  },
  {
   "cell_type": "markdown",
   "id": "ba1c68cc",
   "metadata": {},
   "source": [
    "Prepare input data for port creation."
   ]
  },
  {
   "cell_type": "code",
   "execution_count": 8,
   "id": "2a98b585",
   "metadata": {
    "execution": {
     "iopub.execute_input": "2024-10-09T19:01:08.348632Z",
     "iopub.status.busy": "2024-10-09T19:01:08.348632Z",
     "iopub.status.idle": "2024-10-09T19:01:08.364258Z",
     "shell.execute_reply": "2024-10-09T19:01:08.364258Z"
    }
   },
   "outputs": [
    {
     "name": "stdout",
     "output_type": "stream",
     "text": [
      "{'port_name': 'U1_PCIe_Gen4_TX3_CAP_P', 'comp_name': 'U1', 'net_name': 'PCIe_Gen4_TX3_CAP_P'}\n",
      "{'port_name': 'X1_PCIe_Gen4_TX3_P', 'comp_name': 'X1', 'net_name': 'PCIe_Gen4_TX3_P'}\n",
      "{'port_name': 'U1_PCIe_Gen4_TX3_CAP_N', 'comp_name': 'U1', 'net_name': 'PCIe_Gen4_TX3_CAP_N'}\n",
      "{'port_name': 'X1_PCIe_Gen4_TX3_N', 'comp_name': 'X1', 'net_name': 'PCIe_Gen4_TX3_N'}\n"
     ]
    }
   ],
   "source": [
    "ports = []\n",
    "for net_name, net_obj in diff_p.extended_net.nets.items():\n",
    "    for comp_name, comp_obj in net_obj.components.items():\n",
    "        if comp_obj.type not in [\"Resistor\", \"Capacitor\", \"Inductor\"]:\n",
    "            ports.append(\n",
    "                {\n",
    "                    \"port_name\": \"{}_{}\".format(comp_name, net_name),\n",
    "                    \"comp_name\": comp_name,\n",
    "                    \"net_name\": net_name,\n",
    "                }\n",
    "            )\n",
    "\n",
    "for net_name, net_obj in diff_n.extended_net.nets.items():\n",
    "    for comp_name, comp_obj in net_obj.components.items():\n",
    "        if comp_obj.type not in [\"Resistor\", \"Capacitor\", \"Inductor\"]:\n",
    "            ports.append(\n",
    "                {\n",
    "                    \"port_name\": \"{}_{}\".format(comp_name, net_name),\n",
    "                    \"comp_name\": comp_name,\n",
    "                    \"net_name\": net_name,\n",
    "                }\n",
    "            )\n",
    "\n",
    "print(*ports, sep=\"\\n\")"
   ]
  },
  {
   "cell_type": "markdown",
   "id": "b6a60bf8",
   "metadata": {},
   "source": [
    "### Create ports\n",
    "\n",
    "Solder balls are generated automatically. The default port type is coax port."
   ]
  },
  {
   "cell_type": "code",
   "execution_count": 9,
   "id": "b8ed70d4",
   "metadata": {
    "execution": {
     "iopub.execute_input": "2024-10-09T19:01:08.364258Z",
     "iopub.status.busy": "2024-10-09T19:01:08.364258Z",
     "iopub.status.idle": "2024-10-09T19:01:08.786140Z",
     "shell.execute_reply": "2024-10-09T19:01:08.786140Z"
    }
   },
   "outputs": [],
   "source": [
    "for d in ports:\n",
    "    port_name = d[\"port_name\"]\n",
    "    comp_name = d[\"comp_name\"]\n",
    "    net_name = d[\"net_name\"]\n",
    "    edbapp.components.create_port_on_component(component=comp_name, net_list=net_name, port_name=port_name)"
   ]
  },
  {
   "cell_type": "markdown",
   "id": "ec644514",
   "metadata": {},
   "source": [
    "### Cutout\n",
    "\n",
    "Retain only relevant parts of the layout."
   ]
  },
  {
   "cell_type": "code",
   "execution_count": 10,
   "id": "81957dcc",
   "metadata": {
    "execution": {
     "iopub.execute_input": "2024-10-09T19:01:08.786140Z",
     "iopub.status.busy": "2024-10-09T19:01:08.786140Z",
     "iopub.status.idle": "2024-10-09T19:01:13.833547Z",
     "shell.execute_reply": "2024-10-09T19:01:13.833547Z"
    }
   },
   "outputs": [
    {
     "name": "stdout",
     "output_type": "stream",
     "text": [
      "PyAEDT INFO: Cutout Multithread started.\n"
     ]
    },
    {
     "name": "stdout",
     "output_type": "stream",
     "text": [
      "PyAEDT INFO: Net clean up Elapsed time: 0m 2sec\n"
     ]
    },
    {
     "name": "stdout",
     "output_type": "stream",
     "text": [
      "PyAEDT INFO: Extent Creation Elapsed time: 0m 0sec\n"
     ]
    },
    {
     "name": "stdout",
     "output_type": "stream",
     "text": [
      "PyAEDT INFO: 1907 Padstack Instances deleted. Elapsed time: 0m 1sec\n"
     ]
    },
    {
     "name": "stdout",
     "output_type": "stream",
     "text": [
      "PyAEDT INFO: 438 Primitives deleted. Elapsed time: 0m 2sec\n"
     ]
    },
    {
     "name": "stdout",
     "output_type": "stream",
     "text": [
      "PyAEDT INFO: 968 components deleted\n"
     ]
    },
    {
     "name": "stdout",
     "output_type": "stream",
     "text": [
      "PyAEDT INFO: Cutout completed. Elapsed time: 0m 5sec\n"
     ]
    },
    {
     "data": {
      "text/plain": [
       "[[0.016139999279999998, 0.05419999847],\n",
       " [0.016139999279999998, 0.03255000329],\n",
       " [0.06875000112, 0.03255000329],\n",
       " [0.06875000112, 0.05419999847]]"
      ]
     },
     "execution_count": 10,
     "metadata": {},
     "output_type": "execute_result"
    }
   ],
   "source": [
    "nets = []\n",
    "nets.extend(nets_p)\n",
    "nets.extend(nets_n)\n",
    "edbapp.cutout(signal_list=nets, reference_list=[\"GND\"], extent_type=\"Bounding\")"
   ]
  },
  {
   "cell_type": "markdown",
   "id": "34c62bc6",
   "metadata": {},
   "source": [
    "Set up the model for network analysis in SIwave."
   ]
  },
  {
   "cell_type": "code",
   "execution_count": 11,
   "id": "8a4d1e17",
   "metadata": {
    "execution": {
     "iopub.execute_input": "2024-10-09T19:01:13.833547Z",
     "iopub.status.busy": "2024-10-09T19:01:13.833547Z",
     "iopub.status.idle": "2024-10-09T19:01:13.911609Z",
     "shell.execute_reply": "2024-10-09T19:01:13.911609Z"
    }
   },
   "outputs": [
    {
     "data": {
      "text/plain": [
       "<pyedb.dotnet.edb_core.sim_setup_data.data.sweep_data.SweepData at 0x12bad39b520>"
      ]
     },
     "execution_count": 11,
     "metadata": {},
     "output_type": "execute_result"
    }
   ],
   "source": [
    "setup = edbapp.create_siwave_syz_setup(\"setup1\")\n",
    "setup.add_frequency_sweep(\n",
    "    frequency_sweep=[\n",
    "        [\"linear count\", \"0\", \"1kHz\", 1],\n",
    "        [\"log scale\", \"1kHz\", \"0.1GHz\", 10],\n",
    "        [\"linear scale\", \"0.1GHz\", \"10GHz\", \"0.1GHz\"],\n",
    "    ]\n",
    ")"
   ]
  },
  {
   "cell_type": "markdown",
   "id": "244c4048",
   "metadata": {},
   "source": [
    "Save and close the EDB."
   ]
  },
  {
   "cell_type": "code",
   "execution_count": 12,
   "id": "18974478",
   "metadata": {
    "execution": {
     "iopub.execute_input": "2024-10-09T19:01:13.911609Z",
     "iopub.status.busy": "2024-10-09T19:01:13.911609Z",
     "iopub.status.idle": "2024-10-09T19:01:14.099150Z",
     "shell.execute_reply": "2024-10-09T19:01:14.099150Z"
    }
   },
   "outputs": [
    {
     "name": "stdout",
     "output_type": "stream",
     "text": [
      "PyAEDT INFO: EDB file release time: 0.00ms\n"
     ]
    },
    {
     "data": {
      "text/plain": [
       "True"
      ]
     },
     "execution_count": 12,
     "metadata": {},
     "output_type": "execute_result"
    }
   ],
   "source": [
    "edbapp.save()\n",
    "edbapp.close_edb()"
   ]
  },
  {
   "cell_type": "markdown",
   "id": "352cd359",
   "metadata": {},
   "source": [
    "### Launch Hfss3dLayout\n",
    "\n",
    "The HFSS 3D Layout user interface in AEDT is used to import the EDB and\n",
    "run the analysis. AEDT 3D Layout can be used to view the model\n",
    "if it is launched in graphical mode."
   ]
  },
  {
   "cell_type": "code",
   "execution_count": 13,
   "id": "39f94d5a",
   "metadata": {
    "execution": {
     "iopub.execute_input": "2024-10-09T19:01:14.099150Z",
     "iopub.status.busy": "2024-10-09T19:01:14.099150Z",
     "iopub.status.idle": "2024-10-09T19:01:46.992023Z",
     "shell.execute_reply": "2024-10-09T19:01:46.992023Z"
    }
   },
   "outputs": [
    {
     "name": "stdout",
     "output_type": "stream",
     "text": [
      "PyAEDT WARNING: Argument `specified_version` is deprecated for method `__init__`; use `version` instead.\n"
     ]
    },
    {
     "name": "stdout",
     "output_type": "stream",
     "text": [
      "PyAEDT WARNING: Argument `new_desktop_session` is deprecated for method `__init__`; use `new_desktop` instead.\n"
     ]
    },
    {
     "name": "stdout",
     "output_type": "stream",
     "text": [
      "PyAEDT INFO: Python version 3.10.11 (tags/v3.10.11:7d4cc5a, Apr  5 2023, 00:38:17) [MSC v.1929 64 bit (AMD64)]\n"
     ]
    },
    {
     "name": "stdout",
     "output_type": "stream",
     "text": [
      "PyAEDT INFO: PyAEDT version 0.12.dev0.\n"
     ]
    },
    {
     "name": "stdout",
     "output_type": "stream",
     "text": [
      "PyAEDT INFO: Initializing new Desktop session.\n"
     ]
    },
    {
     "name": "stdout",
     "output_type": "stream",
     "text": [
      "PyAEDT INFO: Log on console is enabled.\n"
     ]
    },
    {
     "name": "stdout",
     "output_type": "stream",
     "text": [
      "PyAEDT INFO: Log on file C:\\Users\\ansys\\AppData\\Local\\Temp\\pyaedt_ansys_db4341ff-8477-4b2b-8089-b50f26b9bd3b.log is enabled.\n"
     ]
    },
    {
     "name": "stdout",
     "output_type": "stream",
     "text": [
      "PyAEDT INFO: Log on AEDT is enabled.\n"
     ]
    },
    {
     "name": "stdout",
     "output_type": "stream",
     "text": [
      "PyAEDT INFO: Debug logger is disabled. PyAEDT methods will not be logged.\n"
     ]
    },
    {
     "name": "stdout",
     "output_type": "stream",
     "text": [
      "PyAEDT INFO: Launching PyAEDT with gRPC plugin.\n"
     ]
    },
    {
     "name": "stdout",
     "output_type": "stream",
     "text": [
      "PyAEDT INFO: New AEDT session is starting on gRPC port 62590\n"
     ]
    },
    {
     "name": "stdout",
     "output_type": "stream",
     "text": [
      "PyAEDT INFO: AEDT installation Path C:\\Program Files\\AnsysEM\\v242\\Win64\n"
     ]
    },
    {
     "name": "stdout",
     "output_type": "stream",
     "text": [
      "PyAEDT INFO: Ansoft.ElectronicsDesktop.2024.2 version started with process ID 4928.\n"
     ]
    },
    {
     "name": "stdout",
     "output_type": "stream",
     "text": [
      "PyAEDT INFO: EDB folder C:\\Users\\ansys\\AppData\\Local\\Temp\\tmpuyg9pt2r.ansys\\edb/ANSYS-HSD_V1.aedb has been imported to project ANSYS-HSD_V1\n"
     ]
    },
    {
     "name": "stdout",
     "output_type": "stream",
     "text": [
      "PyAEDT INFO: Active Design set to 0;main\n"
     ]
    },
    {
     "name": "stdout",
     "output_type": "stream",
     "text": [
      "PyAEDT INFO: Aedt Objects correctly read\n"
     ]
    }
   ],
   "source": [
    "h3d = ansys.aedt.core.Hfss3dLayout(\n",
    "    edb_full_path,\n",
    "    specified_version=\"2024.2\",\n",
    "    non_graphical=False,  # Set to true for non-graphical mode.\n",
    "    new_desktop_session=True,\n",
    ")"
   ]
  },
  {
   "cell_type": "markdown",
   "id": "baf2b38e",
   "metadata": {},
   "source": [
    "Define the differential pair."
   ]
  },
  {
   "cell_type": "code",
   "execution_count": 14,
   "id": "d9655306",
   "metadata": {
    "execution": {
     "iopub.execute_input": "2024-10-09T19:01:46.992023Z",
     "iopub.status.busy": "2024-10-09T19:01:46.992023Z",
     "iopub.status.idle": "2024-10-09T19:01:47.038902Z",
     "shell.execute_reply": "2024-10-09T19:01:47.038902Z"
    }
   },
   "outputs": [
    {
     "name": "stdout",
     "output_type": "stream",
     "text": [
      "PyAEDT WARNING: Argument `positive_terminal` is deprecated for method `set_differential_pair`; use `assignment` instead.\n"
     ]
    },
    {
     "name": "stdout",
     "output_type": "stream",
     "text": [
      "PyAEDT WARNING: Argument `negative_terminal` is deprecated for method `set_differential_pair`; use `reference` instead.\n"
     ]
    },
    {
     "name": "stdout",
     "output_type": "stream",
     "text": [
      "PyAEDT WARNING: Argument `diff_name` is deprecated for method `set_differential_pair`; use `differential_mode` instead.\n"
     ]
    },
    {
     "name": "stdout",
     "output_type": "stream",
     "text": [
      "PyAEDT WARNING: Argument `positive_terminal` is deprecated for method `set_differential_pair`; use `assignment` instead.\n"
     ]
    },
    {
     "name": "stdout",
     "output_type": "stream",
     "text": [
      "PyAEDT WARNING: Argument `negative_terminal` is deprecated for method `set_differential_pair`; use `reference` instead.\n"
     ]
    },
    {
     "name": "stdout",
     "output_type": "stream",
     "text": [
      "PyAEDT WARNING: Argument `diff_name` is deprecated for method `set_differential_pair`; use `differential_mode` instead.\n"
     ]
    },
    {
     "data": {
      "text/plain": [
       "True"
      ]
     },
     "execution_count": 14,
     "metadata": {},
     "output_type": "execute_result"
    }
   ],
   "source": [
    "h3d.set_differential_pair(\n",
    "    positive_terminal=\"U1_PCIe_Gen4_TX3_CAP_P\",\n",
    "    negative_terminal=\"U1_PCIe_Gen4_TX3_CAP_N\",\n",
    "    diff_name=\"PAIR_U1\",\n",
    ")\n",
    "h3d.set_differential_pair(\n",
    "    positive_terminal=\"X1_PCIe_Gen4_TX3_P\",\n",
    "    negative_terminal=\"X1_PCIe_Gen4_TX3_N\",\n",
    "    diff_name=\"PAIR_X1\",\n",
    ")"
   ]
  },
  {
   "cell_type": "markdown",
   "id": "36020a48",
   "metadata": {},
   "source": [
    "Solve and plot the results."
   ]
  },
  {
   "cell_type": "code",
   "execution_count": 15,
   "id": "2f8e24c2",
   "metadata": {
    "execution": {
     "iopub.execute_input": "2024-10-09T19:01:47.038902Z",
     "iopub.status.busy": "2024-10-09T19:01:47.038902Z",
     "iopub.status.idle": "2024-10-09T19:02:13.841591Z",
     "shell.execute_reply": "2024-10-09T19:02:13.841591Z"
    }
   },
   "outputs": [
    {
     "name": "stdout",
     "output_type": "stream",
     "text": [
      "PyAEDT WARNING: Argument `num_cores` is deprecated for method `analyze`; use `cores` instead.\n"
     ]
    },
    {
     "name": "stdout",
     "output_type": "stream",
     "text": [
      "PyAEDT INFO: Key Desktop/ActiveDSOConfigurations/HFSS 3D Layout Design correctly changed.\n"
     ]
    },
    {
     "name": "stdout",
     "output_type": "stream",
     "text": [
      "PyAEDT INFO: Solving all design setups.\n"
     ]
    },
    {
     "name": "stdout",
     "output_type": "stream",
     "text": [
      "PyAEDT INFO: Key Desktop/ActiveDSOConfigurations/HFSS 3D Layout Design correctly changed.\n"
     ]
    },
    {
     "name": "stdout",
     "output_type": "stream",
     "text": [
      "PyAEDT INFO: Design setup None solved correctly in 0.0h 0.0m 27.0s\n"
     ]
    },
    {
     "data": {
      "text/plain": [
       "True"
      ]
     },
     "execution_count": 15,
     "metadata": {},
     "output_type": "execute_result"
    }
   ],
   "source": [
    "h3d.analyze(num_cores=4)"
   ]
  },
  {
   "cell_type": "markdown",
   "id": "7791f4fb",
   "metadata": {},
   "source": [
    "Visualze the results."
   ]
  },
  {
   "cell_type": "code",
   "execution_count": 16,
   "id": "0e40a58a",
   "metadata": {
    "execution": {
     "iopub.execute_input": "2024-10-09T19:02:13.841591Z",
     "iopub.status.busy": "2024-10-09T19:02:13.841591Z",
     "iopub.status.idle": "2024-10-09T19:02:14.488994Z",
     "shell.execute_reply": "2024-10-09T19:02:14.487881Z"
    }
   },
   "outputs": [
    {
     "name": "stdout",
     "output_type": "stream",
     "text": [
      "PyAEDT INFO: Parsing C:/Users/ansys/AppData/Local/Temp/tmpuyg9pt2r.ansys/edb/ANSYS-HSD_V1.aedt.\n"
     ]
    },
    {
     "name": "stdout",
     "output_type": "stream",
     "text": [
      "PyAEDT INFO: File C:/Users/ansys/AppData/Local/Temp/tmpuyg9pt2r.ansys/edb/ANSYS-HSD_V1.aedt correctly loaded. Elapsed time: 0m 0sec\n"
     ]
    },
    {
     "name": "stdout",
     "output_type": "stream",
     "text": [
      "PyAEDT INFO: aedt file load time 0.03129005432128906\n"
     ]
    },
    {
     "name": "stdout",
     "output_type": "stream",
     "text": [
      "PyAEDT INFO: Loading Modeler.\n"
     ]
    },
    {
     "name": "stdout",
     "output_type": "stream",
     "text": [
      "PyAEDT INFO: Modeler loaded.\n"
     ]
    },
    {
     "name": "stdout",
     "output_type": "stream",
     "text": [
      "PyAEDT INFO: EDB loaded.\n"
     ]
    },
    {
     "name": "stdout",
     "output_type": "stream",
     "text": [
      "PyAEDT INFO: Layers loaded.\n"
     ]
    },
    {
     "name": "stdout",
     "output_type": "stream",
     "text": [
      "PyAEDT INFO: Primitives loaded.\n"
     ]
    },
    {
     "name": "stdout",
     "output_type": "stream",
     "text": [
      "PyAEDT INFO: Modeler class has been initialized! Elapsed time: 0m 0sec\n"
     ]
    },
    {
     "name": "stdout",
     "output_type": "stream",
     "text": [
      "PyAEDT INFO: PostProcessor class has been initialized! Elapsed time: 0m 0sec\n"
     ]
    },
    {
     "name": "stdout",
     "output_type": "stream",
     "text": [
      "PyAEDT INFO: Post class has been initialized! Elapsed time: 0m 0sec\n"
     ]
    },
    {
     "data": {
      "text/plain": [
       "<ansys.aedt.core.visualization.report.standard.Standard at 0x12ba0b4cd60>"
      ]
     },
     "execution_count": 16,
     "metadata": {},
     "output_type": "execute_result"
    }
   ],
   "source": [
    "h3d.post.create_report(\"dB(S(PAIR_U1,PAIR_U1))\", context=\"Differential Pairs\")"
   ]
  },
  {
   "cell_type": "markdown",
   "id": "3f9e8001",
   "metadata": {},
   "source": [
    "Close AEDT."
   ]
  },
  {
   "cell_type": "code",
   "execution_count": 17,
   "id": "35670706",
   "metadata": {
    "execution": {
     "iopub.execute_input": "2024-10-09T19:02:14.488994Z",
     "iopub.status.busy": "2024-10-09T19:02:14.488994Z",
     "iopub.status.idle": "2024-10-09T19:02:17.873281Z",
     "shell.execute_reply": "2024-10-09T19:02:17.873281Z"
    }
   },
   "outputs": [
    {
     "name": "stdout",
     "output_type": "stream",
     "text": [
      "PyAEDT INFO: Project ANSYS-HSD_V1 Saved correctly\n"
     ]
    },
    {
     "name": "stdout",
     "output_type": "stream",
     "text": [
      "Project is saved to C:/Users/ansys/AppData/Local/Temp/tmpuyg9pt2r.ansys/edb/\n"
     ]
    },
    {
     "name": "stdout",
     "output_type": "stream",
     "text": [
      "PyAEDT INFO: Desktop has been released and closed.\n"
     ]
    },
    {
     "data": {
      "text/plain": [
       "True"
      ]
     },
     "execution_count": 17,
     "metadata": {},
     "output_type": "execute_result"
    }
   ],
   "source": [
    "h3d.save_project()\n",
    "print(\"Project is saved to {}\".format(h3d.project_path))\n",
    "h3d.release_desktop(True, True)"
   ]
  },
  {
   "cell_type": "markdown",
   "id": "c6889adb",
   "metadata": {},
   "source": [
    "The following cell cleans up the temporary directory and removes all project data."
   ]
  },
  {
   "cell_type": "code",
   "execution_count": 18,
   "id": "4f901ce7",
   "metadata": {
    "execution": {
     "iopub.execute_input": "2024-10-09T19:02:17.873281Z",
     "iopub.status.busy": "2024-10-09T19:02:17.873281Z",
     "iopub.status.idle": "2024-10-09T19:02:17.888906Z",
     "shell.execute_reply": "2024-10-09T19:02:17.888906Z"
    }
   },
   "outputs": [],
   "source": [
    "temp_dir.cleanup()"
   ]
  }
 ],
 "metadata": {
  "jupytext": {
   "cell_metadata_filter": "-all",
   "main_language": "python",
   "notebook_metadata_filter": "-all",
   "text_representation": {
    "extension": ".py",
    "format_name": "light"
   }
  },
  "language_info": {
   "codemirror_mode": {
    "name": "ipython",
    "version": 3
   },
   "file_extension": ".py",
   "mimetype": "text/x-python",
   "name": "python",
   "nbconvert_exporter": "python",
   "pygments_lexer": "ipython3",
   "version": "3.10.11"
  }
 },
 "nbformat": 4,
 "nbformat_minor": 5
}
