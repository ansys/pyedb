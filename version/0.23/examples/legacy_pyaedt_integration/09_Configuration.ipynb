{
 "cells": [
  {
   "cell_type": "markdown",
   "id": "5aa7fd8d",
   "metadata": {},
   "source": [
    "# EDB: Pin to Pin project\n",
    "\n",
    "This example demonstrates the use of the Electronics\n",
    "Database (EDB) interface to create a layout using the BOM and\n",
    "a configuration file."
   ]
  },
  {
   "cell_type": "markdown",
   "id": "98fca4e9",
   "metadata": {},
   "source": [
    "## Perform required imports\n",
    "\n",
    "The ``Hfss3dlayout`` class provides an interface to\n",
    "the 3D Layout editor in AEDT.\n",
    "on version 2023 R2."
   ]
  },
  {
   "cell_type": "code",
   "execution_count": 1,
   "id": "5291a0bf",
   "metadata": {
    "execution": {
     "iopub.execute_input": "2024-07-30T16:30:18.618059Z",
     "iopub.status.busy": "2024-07-30T16:30:18.618059Z",
     "iopub.status.idle": "2024-07-30T16:30:19.150783Z",
     "shell.execute_reply": "2024-07-30T16:30:19.150783Z"
    }
   },
   "outputs": [],
   "source": [
    "import os\n",
    "import tempfile\n",
    "\n",
    "import pyaedt\n",
    "\n",
    "import pyedb\n",
    "from pyedb.misc.downloads import download_file\n"
   ]
  },
  {
   "cell_type": "markdown",
   "id": "76f3d91f",
   "metadata": {},
   "source": [
    "Download the AEDB file and copy it to a temporary folder."
   ]
  },
  {
   "cell_type": "code",
   "execution_count": 2,
   "id": "a6f0e9d0",
   "metadata": {
    "execution": {
     "iopub.execute_input": "2024-07-30T16:30:19.150783Z",
     "iopub.status.busy": "2024-07-30T16:30:19.150783Z",
     "iopub.status.idle": "2024-07-30T16:30:21.605446Z",
     "shell.execute_reply": "2024-07-30T16:30:21.605446Z"
    }
   },
   "outputs": [
    {
     "name": "stdout",
     "output_type": "stream",
     "text": [
      "Project folder is C:\\Users\\ansys\\AppData\\Local\\Temp\\tmp1l9u5xu2.ansys\\edb/ANSYS-HSD_V1.aedb\n"
     ]
    }
   ],
   "source": [
    "temp_dir = tempfile.TemporaryDirectory(suffix=\".ansys\")\n",
    "target_aedb = download_file(\"edb/ANSYS-HSD_V1.aedb\", destination=temp_dir.name)\n",
    "print(\"Project folder is\", target_aedb)"
   ]
  },
  {
   "cell_type": "markdown",
   "id": "b9bbc180",
   "metadata": {},
   "source": [
    "## Launch EDB\n",
    "\n",
    "Launch the ``pyedb.Edb`` class using EDB 2023 R2. Length units are SI."
   ]
  },
  {
   "cell_type": "code",
   "execution_count": 3,
   "id": "a48394f1",
   "metadata": {
    "execution": {
     "iopub.execute_input": "2024-07-30T16:30:21.605446Z",
     "iopub.status.busy": "2024-07-30T16:30:21.605446Z",
     "iopub.status.idle": "2024-07-30T16:30:34.246883Z",
     "shell.execute_reply": "2024-07-30T16:30:34.246883Z"
    }
   },
   "outputs": [
    {
     "name": "stdout",
     "output_type": "stream",
     "text": [
      "EDB version: 2024.1\n"
     ]
    },
    {
     "name": "stdout",
     "output_type": "stream",
     "text": [
      "PyAEDT INFO: Logger is initialized in EDB.\n"
     ]
    },
    {
     "name": "stdout",
     "output_type": "stream",
     "text": [
      "PyAEDT INFO: legacy v0.23.0\n"
     ]
    },
    {
     "name": "stdout",
     "output_type": "stream",
     "text": [
      "PyAEDT INFO: Python version 3.10.11 (tags/v3.10.11:7d4cc5a, Apr  5 2023, 00:38:17) [MSC v.1929 64 bit (AMD64)]\n"
     ]
    },
    {
     "name": "stdout",
     "output_type": "stream",
     "text": [
      "PyAEDT INFO: Database ANSYS-HSD_V1.aedb Opened in 2024.1\n"
     ]
    },
    {
     "name": "stdout",
     "output_type": "stream",
     "text": [
      "PyAEDT INFO: Cell main Opened\n"
     ]
    },
    {
     "name": "stdout",
     "output_type": "stream",
     "text": [
      "PyAEDT INFO: Builder was initialized.\n"
     ]
    },
    {
     "name": "stdout",
     "output_type": "stream",
     "text": [
      "PyAEDT INFO: EDB initialized.\n"
     ]
    }
   ],
   "source": [
    "# Select EDB version (change it manually if needed, e.g. \"2024.1\")\n",
    "edb_version = \"2024.1\"\n",
    "print(f\"EDB version: {edb_version}\")\n",
    "\n",
    "edbapp = pyedb.Edb(target_aedb, edbversion=edb_version)"
   ]
  },
  {
   "cell_type": "markdown",
   "id": "a1e03d04",
   "metadata": {},
   "source": [
    "## Import definitions\n",
    "\n",
    "The definition file uses the [json](https://www.json.org/json-en.html) to\n",
    "map layout part numbers to their corresponding models.\n",
    "\n",
    "The model may be an RLC, S-parameter, or\n",
    "[SPICE](https://en.wikipedia.org/wiki/SPICE) model definition.\n",
    "Once imported, the definition is applied to the components in the layout.\n",
    "In this example, the JSON file is in the ``*.aedb`` folder and has the following format:\n",
    "``` json\n",
    "{\n",
    "    \"SParameterModel\": {\n",
    "        \"GRM32_DC0V_25degC_series\": \"./GRM32_DC0V_25degC_series.s2p\"\n",
    "    },\n",
    "    \"SPICEModel\": {\n",
    "        \"GRM32_DC0V_25degC\": \"./GRM32_DC0V_25degC.mod\"\n",
    "    },\n",
    "    \"Definitions\": {\n",
    "        \"CAPC1005X05N\": {\n",
    "            \"Component_type\": \"Capacitor\",\n",
    "            \"Model_type\": \"RLC\",\n",
    "            \"Res\": 1,\n",
    "            \"Ind\": 2,\n",
    "            \"Cap\": 3,\n",
    "            \"Is_parallel\": false\n",
    "        },\n",
    "        \"'CAPC3216X180X55ML20T25\": {\n",
    "            \"Component_type\": \"Capacitor\",\n",
    "            \"Model_type\": \"SParameterModel\",\n",
    "            \"Model_name\": \"GRM32_DC0V_25degC_series\"\n",
    "        },\n",
    "        \"'CAPC3216X180X20ML20\": {\n",
    "            \"Component_type\": \"Capacitor\",\n",
    "            \"Model_type\": \"SPICEModel\",\n",
    "            \"Model_name\": \"GRM32_DC0V_25degC\"\n",
    "        }\n",
    "    }\n",
    "}\n",
    "```\n",
    "\n",
    "The ``Edb.components.import_definitions()`` method imports the component definitions that map\n",
    "electrical models to the components in the simulation model."
   ]
  },
  {
   "cell_type": "code",
   "execution_count": 4,
   "id": "9f628151",
   "metadata": {
    "execution": {
     "iopub.execute_input": "2024-07-30T16:30:34.246883Z",
     "iopub.status.busy": "2024-07-30T16:30:34.246883Z",
     "iopub.status.idle": "2024-07-30T16:30:34.309379Z",
     "shell.execute_reply": "2024-07-30T16:30:34.309379Z"
    }
   },
   "outputs": [
    {
     "data": {
      "text/plain": [
       "True"
      ]
     },
     "execution_count": 4,
     "metadata": {},
     "output_type": "execute_result"
    }
   ],
   "source": [
    "edbapp.components.import_definition(os.path.join(target_aedb, \"1_comp_definition.json\"))"
   ]
  },
  {
   "cell_type": "markdown",
   "id": "aff8e159",
   "metadata": {},
   "source": [
    "## Import BOM\n",
    "\n",
    "The bill of materials (BOM) file provides the list of all components\n",
    "by reference designator, part name, component type, and nominal value.\n",
    "\n",
    "Components that are not contained in the BOM are deactivated in the\n",
    "simulation model.\n",
    "This example saves the CSV file in the ``aedb`` folder.\n",
    "\n",
    "```\n",
    "+------------+-----------------------+-----------+------------+\n",
    "| RefDes     | Part name             | Type      | Value      |\n",
    "+============+=======================+===========+============+\n",
    "| C380       | CAPC1005X55X25LL05T10 | Capacitor | 11nF       |\n",
    "+------------+-----------------------+-----------+------------+\n",
    "```\n",
    "\n",
    "Having red the information in the BOM and definitions file, electrical models can be\n",
    "assigned to all of the components in the simulation model."
   ]
  },
  {
   "cell_type": "code",
   "execution_count": 5,
   "id": "add516b6",
   "metadata": {
    "execution": {
     "iopub.execute_input": "2024-07-30T16:30:34.309379Z",
     "iopub.status.busy": "2024-07-30T16:30:34.309379Z",
     "iopub.status.idle": "2024-07-30T16:30:34.403155Z",
     "shell.execute_reply": "2024-07-30T16:30:34.403155Z"
    }
   },
   "outputs": [
    {
     "name": "stdout",
     "output_type": "stream",
     "text": [
      "PyAEDT INFO: RLC properties for Component C380 has been assigned.\n"
     ]
    },
    {
     "data": {
      "text/plain": [
       "True"
      ]
     },
     "execution_count": 5,
     "metadata": {},
     "output_type": "execute_result"
    }
   ],
   "source": [
    "edbapp.components.import_bom(\n",
    "    os.path.join(target_aedb, \"0_bom.csv\"),\n",
    "    refdes_col=0,\n",
    "    part_name_col=1,\n",
    "    comp_type_col=2,\n",
    "    value_col=3,\n",
    ")"
   ]
  },
  {
   "cell_type": "markdown",
   "id": "171ebb5b",
   "metadata": {},
   "source": [
    "## Verify a Component\n",
    "\n",
    "Component property allows to access all components instances and their property with\n",
    "getters and setters."
   ]
  },
  {
   "cell_type": "code",
   "execution_count": 6,
   "id": "b3b64cdc",
   "metadata": {
    "execution": {
     "iopub.execute_input": "2024-07-30T16:30:34.403155Z",
     "iopub.status.busy": "2024-07-30T16:30:34.403155Z",
     "iopub.status.idle": "2024-07-30T16:30:34.418706Z",
     "shell.execute_reply": "2024-07-30T16:30:34.418706Z"
    }
   },
   "outputs": [
    {
     "data": {
      "text/plain": [
       "('RLC', 1.0000000000000001e-07)"
      ]
     },
     "execution_count": 6,
     "metadata": {},
     "output_type": "execute_result"
    }
   ],
   "source": [
    "comp = edbapp.components[\"C1\"]\n",
    "comp.model_type, comp.value"
   ]
  },
  {
   "cell_type": "markdown",
   "id": "8f66b037",
   "metadata": {},
   "source": [
    "## Check component definition\n",
    "\n",
    "When an s-parameter model is associated to a component it will be available in\n",
    "nport_comp_definition property."
   ]
  },
  {
   "cell_type": "code",
   "execution_count": 7,
   "id": "7e6d2da2",
   "metadata": {
    "execution": {
     "iopub.execute_input": "2024-07-30T16:30:34.418706Z",
     "iopub.status.busy": "2024-07-30T16:30:34.418706Z",
     "iopub.status.idle": "2024-07-30T16:30:34.559331Z",
     "shell.execute_reply": "2024-07-30T16:30:34.559331Z"
    }
   },
   "outputs": [
    {
     "name": "stdout",
     "output_type": "stream",
     "text": [
      "PyAEDT INFO: EDB file save time: 0.00ms\n"
     ]
    },
    {
     "data": {
      "text/plain": [
       "True"
      ]
     },
     "execution_count": 7,
     "metadata": {},
     "output_type": "execute_result"
    }
   ],
   "source": [
    "edbapp.components.nport_comp_definition\n",
    "edbapp.save_edb()"
   ]
  },
  {
   "cell_type": "markdown",
   "id": "52a9b401",
   "metadata": {},
   "source": [
    "## Configure the simulation setup\n",
    "\n",
    "This step enables the following:\n",
    "\n",
    "- Definition of the nets to include in the cutout region\n",
    "- Cutout details\n",
    "- Components to create the ports on\n",
    "- Simulation settings\n",
    "\n",
    "The ``Edb.new_simulaton_configuration()`` method returns an instance\n",
    "of the ``SimulationConfiguration`` class."
   ]
  },
  {
   "cell_type": "code",
   "execution_count": 8,
   "id": "4b3b0646",
   "metadata": {
    "execution": {
     "iopub.execute_input": "2024-07-30T16:30:34.559331Z",
     "iopub.status.busy": "2024-07-30T16:30:34.559331Z",
     "iopub.status.idle": "2024-07-30T16:30:34.574966Z",
     "shell.execute_reply": "2024-07-30T16:30:34.574966Z"
    }
   },
   "outputs": [],
   "source": [
    "sim_setup = edbapp.new_simulation_configuration()\n",
    "sim_setup.solver_type = sim_setup.SOLVER_TYPE.SiwaveSYZ\n",
    "sim_setup.batch_solve_settings.cutout_subdesign_expansion = 0.003\n",
    "sim_setup.batch_solve_settings.do_cutout_subdesign = True\n",
    "sim_setup.batch_solve_settings.use_pyaedt_cutout = True\n",
    "sim_setup.ac_settings.max_arc_points = 6\n",
    "sim_setup.ac_settings.max_num_passes = 5\n",
    "\n",
    "sim_setup.batch_solve_settings.signal_nets = [\n",
    "    \"PCIe_Gen4_TX2_CAP_P\",\n",
    "    \"PCIe_Gen4_TX2_CAP_N\",\n",
    "    \"PCIe_Gen4_TX2_P\",\n",
    "    \"PCIe_Gen4_TX2_N\",\n",
    "]\n",
    "sim_setup.batch_solve_settings.components = [\"U1\", \"X1\"]\n",
    "sim_setup.batch_solve_settings.power_nets = [\"GND\", \"GND_DP\"]\n",
    "sim_setup.ac_settings.start_freq = \"100Hz\"\n",
    "sim_setup.ac_settings.stop_freq = \"6GHz\"\n",
    "sim_setup.ac_settings.step_freq = \"10MHz\""
   ]
  },
  {
   "cell_type": "markdown",
   "id": "28139a09",
   "metadata": {},
   "source": [
    "## Implement the setup\n",
    "\n",
    "The cutout and all other simulation settings are applied to the simulation model."
   ]
  },
  {
   "cell_type": "code",
   "execution_count": 9,
   "id": "0790a7e7",
   "metadata": {
    "execution": {
     "iopub.execute_input": "2024-07-30T16:30:34.574966Z",
     "iopub.status.busy": "2024-07-30T16:30:34.574966Z",
     "iopub.status.idle": "2024-07-30T16:30:46.028302Z",
     "shell.execute_reply": "2024-07-30T16:30:46.028302Z"
    }
   },
   "outputs": [
    {
     "name": "stdout",
     "output_type": "stream",
     "text": [
      "PyAEDT INFO: Building simulation project.\n"
     ]
    },
    {
     "name": "stdout",
     "output_type": "stream",
     "text": [
      "PyAEDT INFO: Cutting out using method: 1\n"
     ]
    },
    {
     "name": "stdout",
     "output_type": "stream",
     "text": [
      "PyAEDT INFO: Cutting out using method: 1\n"
     ]
    },
    {
     "name": "stdout",
     "output_type": "stream",
     "text": [
      "PyAEDT INFO: Cutout Multithread started.\n"
     ]
    },
    {
     "name": "stdout",
     "output_type": "stream",
     "text": [
      "PyAEDT INFO: Net clean up Elapsed time: 0m 5sec\n"
     ]
    },
    {
     "name": "stdout",
     "output_type": "stream",
     "text": [
      "PyAEDT INFO: Correctly computed Extension at first iteration.\n"
     ]
    },
    {
     "name": "stdout",
     "output_type": "stream",
     "text": [
      "PyAEDT INFO: Expanded Net Polygon Creation Elapsed time: 0m 1sec\n"
     ]
    },
    {
     "name": "stdout",
     "output_type": "stream",
     "text": [
      "PyAEDT INFO: Padstack Instances removal completed. 1984 instances removed. Elapsed time: 0m 1sec\n"
     ]
    },
    {
     "name": "stdout",
     "output_type": "stream",
     "text": [
      "PyAEDT INFO: Primitives cleanup completed. 444 primitives deleted. Elapsed time: 0m 4sec\n"
     ]
    },
    {
     "name": "stdout",
     "output_type": "stream",
     "text": [
      "PyAEDT INFO: Deleted 978 additional components\n"
     ]
    },
    {
     "name": "stdout",
     "output_type": "stream",
     "text": [
      "PyAEDT INFO: Deleted 470 components\n"
     ]
    },
    {
     "name": "stdout",
     "output_type": "stream",
     "text": [
      "PyAEDT INFO: Single Pins components deleted Elapsed time: 0m 0sec\n"
     ]
    },
    {
     "name": "stdout",
     "output_type": "stream",
     "text": [
      "PyAEDT INFO: Cutout completed. Elapsed time: 0m 11sec\n"
     ]
    },
    {
     "name": "stdout",
     "output_type": "stream",
     "text": [
      "PyAEDT INFO: Cutout processed.\n"
     ]
    },
    {
     "name": "stdout",
     "output_type": "stream",
     "text": [
      "PyAEDT INFO: Deleting existing ports.\n"
     ]
    },
    {
     "name": "stdout",
     "output_type": "stream",
     "text": [
      "PyAEDT INFO: No pins found on component Ansys.Ansoft.Edb.Cell.Hierarchy.Component for the net PCIe_Gen4_TX2_P\n"
     ]
    },
    {
     "name": "stdout",
     "output_type": "stream",
     "text": [
      "PyAEDT INFO: No pins found on component Ansys.Ansoft.Edb.Cell.Hierarchy.Component for the net PCIe_Gen4_TX2_N\n"
     ]
    },
    {
     "name": "stdout",
     "output_type": "stream",
     "text": [
      "PyAEDT INFO: No pins found on component Ansys.Ansoft.Edb.Cell.Hierarchy.Component for the net PCIe_Gen4_TX2_CAP_P\n"
     ]
    },
    {
     "name": "stdout",
     "output_type": "stream",
     "text": [
      "PyAEDT INFO: No pins found on component Ansys.Ansoft.Edb.Cell.Hierarchy.Component for the net PCIe_Gen4_TX2_CAP_N\n"
     ]
    },
    {
     "name": "stdout",
     "output_type": "stream",
     "text": [
      "PyAEDT INFO: Configuring analysis setup.\n"
     ]
    },
    {
     "name": "stdout",
     "output_type": "stream",
     "text": [
      "PyAEDT INFO: Adding frequency sweep\n"
     ]
    },
    {
     "name": "stdout",
     "output_type": "stream",
     "text": [
      "PyAEDT INFO: Padstack definition with zero plating ratio, defaulting to 20%\n"
     ]
    },
    {
     "name": "stdout",
     "output_type": "stream",
     "text": [
      "PyAEDT INFO: Padstack definition with zero plating ratio, defaulting to 20%\n"
     ]
    },
    {
     "name": "stdout",
     "output_type": "stream",
     "text": [
      "PyAEDT INFO: Padstack definition with zero plating ratio, defaulting to 20%\n"
     ]
    },
    {
     "name": "stdout",
     "output_type": "stream",
     "text": [
      "PyAEDT INFO: Padstack definition with zero plating ratio, defaulting to 20%\n"
     ]
    },
    {
     "name": "stdout",
     "output_type": "stream",
     "text": [
      "PyAEDT INFO: Padstack definition with zero plating ratio, defaulting to 20%\n"
     ]
    },
    {
     "name": "stdout",
     "output_type": "stream",
     "text": [
      "PyAEDT INFO: Padstack definition with zero plating ratio, defaulting to 20%\n"
     ]
    },
    {
     "name": "stdout",
     "output_type": "stream",
     "text": [
      "PyAEDT INFO: EDB file save time: 0.00ms\n"
     ]
    },
    {
     "data": {
      "text/plain": [
       "True"
      ]
     },
     "execution_count": 9,
     "metadata": {},
     "output_type": "execute_result"
    }
   ],
   "source": [
    "sim_setup.export_json(os.path.join(temp_dir.name, \"configuration.json\"))\n",
    "edbapp.build_simulation_project(sim_setup)"
   ]
  },
  {
   "cell_type": "markdown",
   "id": "04030704",
   "metadata": {},
   "source": [
    "## Display the cutout\n",
    "\n",
    "Plot cutout once finished. The model is ready to simulate."
   ]
  },
  {
   "cell_type": "code",
   "execution_count": 10,
   "id": "6001def8",
   "metadata": {
    "execution": {
     "iopub.execute_input": "2024-07-30T16:30:46.028302Z",
     "iopub.status.busy": "2024-07-30T16:30:46.028302Z",
     "iopub.status.idle": "2024-07-30T16:30:46.293935Z",
     "shell.execute_reply": "2024-07-30T16:30:46.293935Z"
    }
   },
   "outputs": [
    {
     "name": "stdout",
     "output_type": "stream",
     "text": [
      "PyAEDT INFO: Nets Point Generation time 0.156 seconds\n"
     ]
    },
    {
     "name": "stderr",
     "output_type": "stream",
     "text": [
      "C:\\actions-runner\\_work\\pyedb\\pyedb\\.venv\\lib\\site-packages\\pyedb\\generic\\plot.py:144: UserWarning: FigureCanvasAgg is non-interactive, and thus cannot be shown\n",
      "  plt.show()\n"
     ]
    }
   ],
   "source": [
    "edbapp.nets.plot(None, None)"
   ]
  },
  {
   "cell_type": "markdown",
   "id": "653f7ed5",
   "metadata": {},
   "source": [
    "## Save and close EDB\n",
    "\n",
    "EDB is saved and re-opened in HFSS\n",
    "3D Layout, where the HFSS simulation can be run."
   ]
  },
  {
   "cell_type": "code",
   "execution_count": 11,
   "id": "23ee7c12",
   "metadata": {
    "execution": {
     "iopub.execute_input": "2024-07-30T16:30:46.293935Z",
     "iopub.status.busy": "2024-07-30T16:30:46.293935Z",
     "iopub.status.idle": "2024-07-30T16:30:46.450181Z",
     "shell.execute_reply": "2024-07-30T16:30:46.450181Z"
    }
   },
   "outputs": [
    {
     "name": "stdout",
     "output_type": "stream",
     "text": [
      "PyAEDT INFO: EDB file save time: 0.00ms\n"
     ]
    },
    {
     "name": "stdout",
     "output_type": "stream",
     "text": [
      "PyAEDT INFO: EDB file release time: 0.00ms\n"
     ]
    },
    {
     "data": {
      "text/plain": [
       "True"
      ]
     },
     "execution_count": 11,
     "metadata": {},
     "output_type": "execute_result"
    }
   ],
   "source": [
    "edbapp.save_edb()\n",
    "edbapp.close_edb()"
   ]
  },
  {
   "cell_type": "markdown",
   "id": "cc0f8491",
   "metadata": {},
   "source": [
    "## Open Electronics Desktop\n",
    "\n",
    "The EDB is opened in AEDT Hfss3DLayout.\n",
    "\n",
    "Set ``non_graphical=True`` to run the simulation in non-graphical mode."
   ]
  },
  {
   "cell_type": "code",
   "execution_count": 12,
   "id": "605ebde6",
   "metadata": {
    "execution": {
     "iopub.execute_input": "2024-07-30T16:30:46.450181Z",
     "iopub.status.busy": "2024-07-30T16:30:46.450181Z",
     "iopub.status.idle": "2024-07-30T16:30:46.465810Z",
     "shell.execute_reply": "2024-07-30T16:30:46.465810Z"
    }
   },
   "outputs": [],
   "source": [
    "aedt_version = edb_version"
   ]
  },
  {
   "cell_type": "code",
   "execution_count": 13,
   "id": "cc3c023e",
   "metadata": {
    "execution": {
     "iopub.execute_input": "2024-07-30T16:30:46.465810Z",
     "iopub.status.busy": "2024-07-30T16:30:46.465810Z",
     "iopub.status.idle": "2024-07-30T16:31:07.583984Z",
     "shell.execute_reply": "2024-07-30T16:31:07.583984Z"
    }
   },
   "outputs": [
    {
     "name": "stdout",
     "output_type": "stream",
     "text": [
      "PyAEDT WARNING: Argument `projectname` is deprecated for method `__init__`; use `project` instead.\n"
     ]
    },
    {
     "name": "stdout",
     "output_type": "stream",
     "text": [
      "PyAEDT WARNING: Argument `specified_version` is deprecated for method `__init__`; use `version` instead.\n"
     ]
    },
    {
     "name": "stdout",
     "output_type": "stream",
     "text": [
      "PyAEDT WARNING: Argument `new_desktop_session` is deprecated for method `__init__`; use `new_desktop` instead.\n"
     ]
    },
    {
     "name": "stdout",
     "output_type": "stream",
     "text": [
      "PyAEDT INFO: Initializing new Desktop session.\n"
     ]
    },
    {
     "name": "stdout",
     "output_type": "stream",
     "text": [
      "PyAEDT INFO: StdOut is enabled\n"
     ]
    },
    {
     "name": "stdout",
     "output_type": "stream",
     "text": [
      "PyAEDT INFO: Log on file is enabled\n"
     ]
    },
    {
     "name": "stdout",
     "output_type": "stream",
     "text": [
      "PyAEDT INFO: Log on Desktop Message Manager is enabled\n"
     ]
    },
    {
     "name": "stdout",
     "output_type": "stream",
     "text": [
      "PyAEDT INFO: Debug logger is disabled. PyAEDT methods will not be logged.\n"
     ]
    },
    {
     "name": "stdout",
     "output_type": "stream",
     "text": [
      "PyAEDT INFO: Launching PyAEDT outside AEDT with gRPC plugin.\n"
     ]
    },
    {
     "name": "stdout",
     "output_type": "stream",
     "text": [
      "PyAEDT INFO: New AEDT session is starting on gRPC port 64878\n"
     ]
    },
    {
     "name": "stdout",
     "output_type": "stream",
     "text": [
      "PyAEDT INFO: AEDT installation Path C:\\Program Files\\AnsysEM\\v241\\Win64\n"
     ]
    },
    {
     "name": "stdout",
     "output_type": "stream",
     "text": [
      "PyAEDT INFO: Ansoft.ElectronicsDesktop.2024.1 version started with process ID 8156.\n"
     ]
    },
    {
     "name": "stdout",
     "output_type": "stream",
     "text": [
      "PyAEDT INFO: pyaedt v0.9.10\n"
     ]
    },
    {
     "name": "stdout",
     "output_type": "stream",
     "text": [
      "PyAEDT INFO: Python version 3.10.11 (tags/v3.10.11:7d4cc5a, Apr  5 2023, 00:38:17) [MSC v.1929 64 bit (AMD64)]\n"
     ]
    },
    {
     "name": "stdout",
     "output_type": "stream",
     "text": [
      "PyAEDT INFO: AEDT 2024.1.0 Build Date 2023-11-27 22:16:18\n"
     ]
    },
    {
     "name": "stdout",
     "output_type": "stream",
     "text": [
      "PyAEDT INFO: EDB folder C:\\Users\\ansys\\AppData\\Local\\Temp\\tmp1l9u5xu2.ansys\\edb/ANSYS-HSD_V1.aedb has been imported to project ANSYS-HSD_V1\n"
     ]
    },
    {
     "name": "stdout",
     "output_type": "stream",
     "text": [
      "PyAEDT INFO: Active Design set to main\n"
     ]
    },
    {
     "name": "stdout",
     "output_type": "stream",
     "text": [
      "PyAEDT INFO: Aedt Objects correctly read\n"
     ]
    }
   ],
   "source": [
    "h3d = pyaedt.Hfss3dLayout(\n",
    "    specified_version=aedt_version,\n",
    "    projectname=target_aedb,\n",
    "    non_graphical=False,\n",
    "    new_desktop_session=False,\n",
    ")"
   ]
  },
  {
   "cell_type": "markdown",
   "id": "adc991eb",
   "metadata": {},
   "source": [
    "## Analyze\n",
    "\n",
    "This project is ready to solve.\n",
    "Executing the following cell runs the HFSS simulation on the layout."
   ]
  },
  {
   "cell_type": "code",
   "execution_count": 14,
   "id": "267708eb",
   "metadata": {
    "execution": {
     "iopub.execute_input": "2024-07-30T16:31:07.583984Z",
     "iopub.status.busy": "2024-07-30T16:31:07.583984Z",
     "iopub.status.idle": "2024-07-30T16:31:40.910988Z",
     "shell.execute_reply": "2024-07-30T16:31:40.910988Z"
    }
   },
   "outputs": [
    {
     "name": "stdout",
     "output_type": "stream",
     "text": [
      "PyAEDT INFO: Key Desktop/ActiveDSOConfigurations/HFSS 3D Layout Design correctly changed.\n"
     ]
    },
    {
     "name": "stdout",
     "output_type": "stream",
     "text": [
      "PyAEDT INFO: Solving all design setups.\n"
     ]
    },
    {
     "name": "stdout",
     "output_type": "stream",
     "text": [
      "PyAEDT INFO: Key Desktop/ActiveDSOConfigurations/HFSS 3D Layout Design correctly changed.\n"
     ]
    },
    {
     "name": "stdout",
     "output_type": "stream",
     "text": [
      "PyAEDT INFO: Design setup None solved correctly in 0.0h 0.0m 33.0s\n"
     ]
    },
    {
     "data": {
      "text/plain": [
       "True"
      ]
     },
     "execution_count": 14,
     "metadata": {},
     "output_type": "execute_result"
    }
   ],
   "source": [
    "h3d.analyze()"
   ]
  },
  {
   "cell_type": "markdown",
   "id": "20320305",
   "metadata": {},
   "source": [
    "## View results\n",
    "\n",
    "S-parameter data is loaded at the end of simulation."
   ]
  },
  {
   "cell_type": "code",
   "execution_count": 15,
   "id": "3cb3eced",
   "metadata": {
    "execution": {
     "iopub.execute_input": "2024-07-30T16:31:40.910988Z",
     "iopub.status.busy": "2024-07-30T16:31:40.910988Z",
     "iopub.status.idle": "2024-07-30T16:31:41.426670Z",
     "shell.execute_reply": "2024-07-30T16:31:41.426670Z"
    }
   },
   "outputs": [
    {
     "name": "stdout",
     "output_type": "stream",
     "text": [
      "PyAEDT INFO: Parsing C:/Users/ansys/AppData/Local/Temp/tmp1l9u5xu2.ansys/edb/ANSYS-HSD_V1.aedt.\n"
     ]
    },
    {
     "name": "stdout",
     "output_type": "stream",
     "text": [
      "PyAEDT INFO: File C:/Users/ansys/AppData/Local/Temp/tmp1l9u5xu2.ansys/edb/ANSYS-HSD_V1.aedt correctly loaded. Elapsed time: 0m 0sec\n"
     ]
    },
    {
     "name": "stdout",
     "output_type": "stream",
     "text": [
      "PyAEDT INFO: aedt file load time 0.0624995231628418\n"
     ]
    },
    {
     "name": "stdout",
     "output_type": "stream",
     "text": [
      "PyAEDT INFO: Loading Modeler.\n"
     ]
    },
    {
     "name": "stdout",
     "output_type": "stream",
     "text": [
      "PyAEDT INFO: Modeler loaded.\n"
     ]
    },
    {
     "name": "stdout",
     "output_type": "stream",
     "text": [
      "PyAEDT INFO: EDB loaded.\n"
     ]
    },
    {
     "name": "stdout",
     "output_type": "stream",
     "text": [
      "PyAEDT INFO: Layers loaded.\n"
     ]
    },
    {
     "name": "stdout",
     "output_type": "stream",
     "text": [
      "PyAEDT INFO: Primitives loaded.\n"
     ]
    },
    {
     "name": "stdout",
     "output_type": "stream",
     "text": [
      "PyAEDT INFO: Modeler class has been initialized! Elapsed time: 0m 0sec\n"
     ]
    },
    {
     "name": "stdout",
     "output_type": "stream",
     "text": [
      "PyAEDT INFO: PostProcessor class has been initialized! Elapsed time: 0m 0sec\n"
     ]
    },
    {
     "name": "stdout",
     "output_type": "stream",
     "text": [
      "PyAEDT INFO: Post class has been initialized! Elapsed time: 0m 0sec\n"
     ]
    },
    {
     "name": "stderr",
     "output_type": "stream",
     "text": [
      "C:\\actions-runner\\_work\\pyedb\\pyedb\\.venv\\lib\\site-packages\\pyaedt\\generic\\plot.py:55: UserWarning: The PyVista module is required to run some functionalities of PostProcess.\n",
      "Install with \n",
      "\n",
      "pip install pyvista\n",
      "\n",
      "Requires CPython.\n",
      "  warnings.warn(\n"
     ]
    },
    {
     "name": "stdout",
     "output_type": "stream",
     "text": [
      "PyAEDT INFO: Solution Data Correctly Loaded.\n"
     ]
    }
   ],
   "source": [
    "solutions = h3d.post.get_solution_data()"
   ]
  },
  {
   "cell_type": "markdown",
   "id": "dc4d2864",
   "metadata": {},
   "source": [
    "## Plot results\n",
    "\n",
    "Plot S-Parameter data."
   ]
  },
  {
   "cell_type": "code",
   "execution_count": 16,
   "id": "50987cd4",
   "metadata": {
    "execution": {
     "iopub.execute_input": "2024-07-30T16:31:41.426670Z",
     "iopub.status.busy": "2024-07-30T16:31:41.426670Z",
     "iopub.status.idle": "2024-07-30T16:31:41.457867Z",
     "shell.execute_reply": "2024-07-30T16:31:41.457867Z"
    }
   },
   "outputs": [
    {
     "data": {
      "text/plain": [
       "<Figure size 2000x1000 with 1 Axes>"
      ]
     },
     "execution_count": 16,
     "metadata": {},
     "output_type": "execute_result"
    }
   ],
   "source": [
    "solutions.plot(solutions.expressions, \"db20\")"
   ]
  },
  {
   "cell_type": "markdown",
   "id": "298d86ff",
   "metadata": {},
   "source": [
    "## Save and close AEDT\n",
    "\n",
    "HFSS 3D Layout is saved and closed."
   ]
  },
  {
   "cell_type": "code",
   "execution_count": 17,
   "id": "1cbcdec0",
   "metadata": {
    "execution": {
     "iopub.execute_input": "2024-07-30T16:31:41.457867Z",
     "iopub.status.busy": "2024-07-30T16:31:41.457867Z",
     "iopub.status.idle": "2024-07-30T16:31:45.247906Z",
     "shell.execute_reply": "2024-07-30T16:31:45.247906Z"
    }
   },
   "outputs": [
    {
     "name": "stdout",
     "output_type": "stream",
     "text": [
      "PyAEDT INFO: Project ANSYS-HSD_V1 Saved correctly\n"
     ]
    },
    {
     "name": "stdout",
     "output_type": "stream",
     "text": [
      "PyAEDT INFO: Desktop has been released and closed.\n"
     ]
    },
    {
     "data": {
      "text/plain": [
       "True"
      ]
     },
     "execution_count": 17,
     "metadata": {},
     "output_type": "execute_result"
    }
   ],
   "source": [
    "h3d.save_project()\n",
    "h3d.release_desktop()"
   ]
  },
  {
   "cell_type": "markdown",
   "id": "6814bc23",
   "metadata": {},
   "source": [
    "Clean up the temporary directory. All files and the temporary project\n",
    "folder will be deleted in the next step."
   ]
  },
  {
   "cell_type": "code",
   "execution_count": 18,
   "id": "875723d0",
   "metadata": {
    "execution": {
     "iopub.execute_input": "2024-07-30T16:31:45.247906Z",
     "iopub.status.busy": "2024-07-30T16:31:45.247906Z",
     "iopub.status.idle": "2024-07-30T16:31:45.263607Z",
     "shell.execute_reply": "2024-07-30T16:31:45.263607Z"
    }
   },
   "outputs": [],
   "source": [
    "temp_dir.cleanup()"
   ]
  }
 ],
 "metadata": {
  "jupytext": {
   "cell_metadata_filter": "-all",
   "main_language": "python",
   "notebook_metadata_filter": "-all",
   "text_representation": {
    "extension": ".py",
    "format_name": "light"
   }
  },
  "language_info": {
   "codemirror_mode": {
    "name": "ipython",
    "version": 3
   },
   "file_extension": ".py",
   "mimetype": "text/x-python",
   "name": "python",
   "nbconvert_exporter": "python",
   "pygments_lexer": "ipython3",
   "version": "3.10.11"
  }
 },
 "nbformat": 4,
 "nbformat_minor": 5
}
