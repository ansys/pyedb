{
 "cells": [
  {
   "cell_type": "markdown",
   "id": "6f8cbb8e",
   "metadata": {},
   "source": [
    "# Import Ports\n",
    "This example shows how to import ports. In this example, we are going to\n",
    "- Download a example board\n",
    "- Create a configuration file\n",
    "  - Add a circuit port between two nets\n",
    "  - Add a circuit port between two pins\n",
    "  - Add a circuit port between two pin groups\n",
    "  - Add a circuit port between two coordinates\n",
    "  - Add a coax port\n",
    "  - Add a port reference to the neareast pin\n",
    "  - Add distributed ports\n",
    "- Import the configuration file"
   ]
  },
  {
   "cell_type": "markdown",
   "id": "54920b99",
   "metadata": {},
   "source": [
    "## Import the required packages"
   ]
  },
  {
   "cell_type": "code",
   "execution_count": 1,
   "id": "eb4363c7",
   "metadata": {
    "execution": {
     "iopub.execute_input": "2024-07-30T16:44:37.984887Z",
     "iopub.status.busy": "2024-07-30T16:44:37.984887Z",
     "iopub.status.idle": "2024-07-30T16:44:38.484897Z",
     "shell.execute_reply": "2024-07-30T16:44:38.484897Z"
    }
   },
   "outputs": [],
   "source": [
    "import json\n",
    "from pathlib import Path\n",
    "import tempfile\n",
    "\n",
    "from pyaedt.downloads import download_file\n",
    "\n",
    "from pyedb import Edb\n",
    "\n",
    "AEDT_VERSION = \"2024.1\"\n",
    "NG_MODE = False\n"
   ]
  },
  {
   "cell_type": "markdown",
   "id": "9ea06da5",
   "metadata": {},
   "source": [
    "Download the example PCB data."
   ]
  },
  {
   "cell_type": "code",
   "execution_count": 2,
   "id": "5ab486a3",
   "metadata": {
    "execution": {
     "iopub.execute_input": "2024-07-30T16:44:38.484897Z",
     "iopub.status.busy": "2024-07-30T16:44:38.484897Z",
     "iopub.status.idle": "2024-07-30T16:44:39.141250Z",
     "shell.execute_reply": "2024-07-30T16:44:39.141250Z"
    }
   },
   "outputs": [],
   "source": [
    "temp_folder = tempfile.TemporaryDirectory(suffix=\".ansys\")\n",
    "file_edb = download_file(source=\"edb/ANSYS-HSD_V1.aedb\", destination=temp_folder.name)"
   ]
  },
  {
   "cell_type": "markdown",
   "id": "dcefe4cb",
   "metadata": {},
   "source": [
    "## Load example layout"
   ]
  },
  {
   "cell_type": "code",
   "execution_count": 3,
   "id": "8c9ce610",
   "metadata": {
    "execution": {
     "iopub.execute_input": "2024-07-30T16:44:39.141250Z",
     "iopub.status.busy": "2024-07-30T16:44:39.141250Z",
     "iopub.status.idle": "2024-07-30T16:44:51.710302Z",
     "shell.execute_reply": "2024-07-30T16:44:51.710302Z"
    }
   },
   "outputs": [
    {
     "name": "stdout",
     "output_type": "stream",
     "text": [
      "PyAEDT INFO: Logger is initialized in EDB.\n"
     ]
    },
    {
     "name": "stdout",
     "output_type": "stream",
     "text": [
      "PyAEDT INFO: legacy v0.23.0\n"
     ]
    },
    {
     "name": "stdout",
     "output_type": "stream",
     "text": [
      "PyAEDT INFO: Python version 3.10.11 (tags/v3.10.11:7d4cc5a, Apr  5 2023, 00:38:17) [MSC v.1929 64 bit (AMD64)]\n"
     ]
    },
    {
     "name": "stdout",
     "output_type": "stream",
     "text": [
      "PyAEDT INFO: Database ANSYS-HSD_V1.aedb Opened in 2024.1\n"
     ]
    },
    {
     "name": "stdout",
     "output_type": "stream",
     "text": [
      "PyAEDT INFO: Cell main Opened\n"
     ]
    },
    {
     "name": "stdout",
     "output_type": "stream",
     "text": [
      "PyAEDT INFO: Builder was initialized.\n"
     ]
    },
    {
     "name": "stdout",
     "output_type": "stream",
     "text": [
      "PyAEDT INFO: EDB initialized.\n"
     ]
    }
   ],
   "source": [
    "edbapp = Edb(file_edb, edbversion=AEDT_VERSION)"
   ]
  },
  {
   "cell_type": "markdown",
   "id": "627157e3",
   "metadata": {},
   "source": [
    "## Create an empty dictionary to host all configurations"
   ]
  },
  {
   "cell_type": "code",
   "execution_count": 4,
   "id": "7d9b0d57",
   "metadata": {
    "execution": {
     "iopub.execute_input": "2024-07-30T16:44:51.710302Z",
     "iopub.status.busy": "2024-07-30T16:44:51.710302Z",
     "iopub.status.idle": "2024-07-30T16:44:51.725909Z",
     "shell.execute_reply": "2024-07-30T16:44:51.725909Z"
    }
   },
   "outputs": [],
   "source": [
    "cfg = dict()"
   ]
  },
  {
   "cell_type": "markdown",
   "id": "7ad24fb8",
   "metadata": {},
   "source": [
    "## Add a circuit port between two nets"
   ]
  },
  {
   "cell_type": "markdown",
   "id": "6922f05f",
   "metadata": {},
   "source": [
    "Keywords\n",
    "\n",
    "- **name**. Name of the port.\n",
    "- **Reference_designator**. Reference designator of the component.\n",
    "- **type**. Type of the port. Supported types are 'circuit', 'coax'\n",
    "- **positve_terminal**. Positive terminal of the port. Supported types are 'net', 'pin', 'pin_group', 'coordinates'\n",
    "- **negative_terminal**. Negative terminal of the port. Supported types are 'net', 'pin', 'pin_group', 'coordinates',\n",
    "'nearest_pin'"
   ]
  },
  {
   "cell_type": "code",
   "execution_count": 5,
   "id": "dbead633",
   "metadata": {
    "execution": {
     "iopub.execute_input": "2024-07-30T16:44:51.725909Z",
     "iopub.status.busy": "2024-07-30T16:44:51.725909Z",
     "iopub.status.idle": "2024-07-30T16:44:51.741523Z",
     "shell.execute_reply": "2024-07-30T16:44:51.741523Z"
    }
   },
   "outputs": [],
   "source": [
    "port_1 = {\n",
    "    \"name\": \"port_1\",\n",
    "    \"reference_designator\": \"X1\",\n",
    "    \"type\": \"circuit\",\n",
    "    \"positive_terminal\": {\"net\": \"PCIe_Gen4_TX2_N\"},\n",
    "    \"negative_terminal\": {\"net\": \"GND\"},\n",
    "}"
   ]
  },
  {
   "cell_type": "markdown",
   "id": "8d680a44",
   "metadata": {},
   "source": [
    "## Add a circuit port between two pins"
   ]
  },
  {
   "cell_type": "code",
   "execution_count": 6,
   "id": "10090a62",
   "metadata": {
    "execution": {
     "iopub.execute_input": "2024-07-30T16:44:51.741523Z",
     "iopub.status.busy": "2024-07-30T16:44:51.741523Z",
     "iopub.status.idle": "2024-07-30T16:44:51.757149Z",
     "shell.execute_reply": "2024-07-30T16:44:51.757149Z"
    }
   },
   "outputs": [],
   "source": [
    "port_2 = {\n",
    "    \"name\": \"port_2\",\n",
    "    \"reference_designator\": \"C375\",\n",
    "    \"type\": \"circuit\",\n",
    "    \"positive_terminal\": {\"pin\": \"1\"},\n",
    "    \"negative_terminal\": {\"pin\": \"2\"},\n",
    "}"
   ]
  },
  {
   "cell_type": "markdown",
   "id": "024ebbc0",
   "metadata": {},
   "source": [
    "## Add a circuit port between two pin groups"
   ]
  },
  {
   "cell_type": "code",
   "execution_count": 7,
   "id": "10c5a5cd",
   "metadata": {
    "execution": {
     "iopub.execute_input": "2024-07-30T16:44:51.757149Z",
     "iopub.status.busy": "2024-07-30T16:44:51.757149Z",
     "iopub.status.idle": "2024-07-30T16:44:51.772796Z",
     "shell.execute_reply": "2024-07-30T16:44:51.772796Z"
    }
   },
   "outputs": [],
   "source": [
    "pin_groups = [\n",
    "    {\"name\": \"U9_5V_1\", \"reference_designator\": \"U9\", \"pins\": [\"32\", \"33\"]},\n",
    "    {\"name\": \"U9_GND\", \"reference_designator\": \"U9\", \"net\": \"GND\"},\n",
    "]"
   ]
  },
  {
   "cell_type": "code",
   "execution_count": 8,
   "id": "8651a737",
   "metadata": {
    "execution": {
     "iopub.execute_input": "2024-07-30T16:44:51.772796Z",
     "iopub.status.busy": "2024-07-30T16:44:51.772796Z",
     "iopub.status.idle": "2024-07-30T16:44:51.788415Z",
     "shell.execute_reply": "2024-07-30T16:44:51.788415Z"
    }
   },
   "outputs": [],
   "source": [
    "port_3 = {\n",
    "    \"name\": \"port_3\",\n",
    "    \"type\": \"circuit\",\n",
    "    \"positive_terminal\": {\"pin_group\": \"U9_5V_1\"},\n",
    "    \"negative_terminal\": {\"pin_group\": \"U9_GND\"},\n",
    "}"
   ]
  },
  {
   "cell_type": "markdown",
   "id": "0c594d73",
   "metadata": {},
   "source": [
    "## Add a circuit port between two coordinates"
   ]
  },
  {
   "cell_type": "markdown",
   "id": "cd84f4a0",
   "metadata": {},
   "source": [
    "Keywords\n",
    "\n",
    "- **layer**. Layer on which the terminal is placed\n",
    "- **point**. XY coordinate the terminal is placed\n",
    "- **net**. Name of the net the terminal is placed on"
   ]
  },
  {
   "cell_type": "code",
   "execution_count": 9,
   "id": "9a13db94",
   "metadata": {
    "execution": {
     "iopub.execute_input": "2024-07-30T16:44:51.788415Z",
     "iopub.status.busy": "2024-07-30T16:44:51.788415Z",
     "iopub.status.idle": "2024-07-30T16:44:51.804024Z",
     "shell.execute_reply": "2024-07-30T16:44:51.804024Z"
    }
   },
   "outputs": [],
   "source": [
    "port_4 = {\n",
    "    \"name\": \"port_4\",\n",
    "    \"positive_terminal\": {\"coordinates\": {\"layer\": \"1_Top\", \"point\": [\"104mm\", \"37mm\"], \"net\": \"AVCC_1V3\"}},\n",
    "    \"negative_terminal\": {\"coordinates\": {\"layer\": \"Inner6(GND2)\", \"point\": [\"104mm\", \"37mm\"], \"net\": \"GND\"}},\n",
    "}"
   ]
  },
  {
   "cell_type": "markdown",
   "id": "70a05ce5",
   "metadata": {},
   "source": [
    "## Add a coax port"
   ]
  },
  {
   "cell_type": "code",
   "execution_count": 10,
   "id": "5c49b1dd",
   "metadata": {
    "execution": {
     "iopub.execute_input": "2024-07-30T16:44:51.804024Z",
     "iopub.status.busy": "2024-07-30T16:44:51.804024Z",
     "iopub.status.idle": "2024-07-30T16:44:51.819604Z",
     "shell.execute_reply": "2024-07-30T16:44:51.819604Z"
    }
   },
   "outputs": [],
   "source": [
    "port_5 = {\"name\": \"port_5\", \"reference_designator\": \"U1\", \"type\": \"coax\", \"positive_terminal\": {\"pin\": \"AM17\"}}"
   ]
  },
  {
   "cell_type": "markdown",
   "id": "c62214d4",
   "metadata": {},
   "source": [
    "## Add a port reference to the neareast pin"
   ]
  },
  {
   "cell_type": "markdown",
   "id": "b1b26811",
   "metadata": {},
   "source": [
    "Keywords\n",
    "\n",
    "- **reference_net**. Name of the reference net\n",
    "- **search_radius**. Reference pin search radius in meter"
   ]
  },
  {
   "cell_type": "code",
   "execution_count": 11,
   "id": "d93b6e46",
   "metadata": {
    "execution": {
     "iopub.execute_input": "2024-07-30T16:44:51.819604Z",
     "iopub.status.busy": "2024-07-30T16:44:51.819604Z",
     "iopub.status.idle": "2024-07-30T16:44:51.835230Z",
     "shell.execute_reply": "2024-07-30T16:44:51.835230Z"
    }
   },
   "outputs": [],
   "source": [
    "port_6 = {\n",
    "    \"name\": \"port_6\",\n",
    "    \"reference_designator\": \"U15\",\n",
    "    \"type\": \"circuit\",\n",
    "    \"positive_terminal\": {\"pin\": \"D7\"},\n",
    "    \"negative_terminal\": {\"nearest_pin\": {\"reference_net\": \"GND\", \"search_radius\": 5e-3}},\n",
    "}"
   ]
  },
  {
   "cell_type": "markdown",
   "id": "b6e774be",
   "metadata": {},
   "source": [
    "## Add distributed ports"
   ]
  },
  {
   "cell_type": "markdown",
   "id": "d39d00b4",
   "metadata": {},
   "source": [
    "Keywords\n",
    "\n",
    "- **distributed**. Whether to create distributed ports. When set to True, ports are created per pin"
   ]
  },
  {
   "cell_type": "code",
   "execution_count": 12,
   "id": "c4246704",
   "metadata": {
    "execution": {
     "iopub.execute_input": "2024-07-30T16:44:51.835230Z",
     "iopub.status.busy": "2024-07-30T16:44:51.835230Z",
     "iopub.status.idle": "2024-07-30T16:44:51.850855Z",
     "shell.execute_reply": "2024-07-30T16:44:51.850855Z"
    }
   },
   "outputs": [],
   "source": [
    "ports_distributed = {\n",
    "    \"name\": \"ports_d\",\n",
    "    \"reference_designator\": \"U7\",\n",
    "    \"type\": \"circuit\",\n",
    "    \"distributed\": True,\n",
    "    \"positive_terminal\": {\"net\": \"VDD_DDR\"},\n",
    "    \"negative_terminal\": {\"net\": \"GND\"},\n",
    "}"
   ]
  },
  {
   "cell_type": "markdown",
   "id": "3978c967",
   "metadata": {},
   "source": [
    "## Add setups in configuration"
   ]
  },
  {
   "cell_type": "code",
   "execution_count": 13,
   "id": "e671ef51",
   "metadata": {
    "execution": {
     "iopub.execute_input": "2024-07-30T16:44:51.850855Z",
     "iopub.status.busy": "2024-07-30T16:44:51.850855Z",
     "iopub.status.idle": "2024-07-30T16:44:51.866478Z",
     "shell.execute_reply": "2024-07-30T16:44:51.866478Z"
    }
   },
   "outputs": [],
   "source": [
    "cfg[\"pin_groups\"] = pin_groups\n",
    "cfg[\"ports\"] = [port_1, port_2, port_3, port_4, port_5, port_6, ports_distributed]"
   ]
  },
  {
   "cell_type": "markdown",
   "id": "8bbe5ad1",
   "metadata": {},
   "source": [
    "## Write configuration into as json file"
   ]
  },
  {
   "cell_type": "code",
   "execution_count": 14,
   "id": "39da2cf9",
   "metadata": {
    "execution": {
     "iopub.execute_input": "2024-07-30T16:44:51.866478Z",
     "iopub.status.busy": "2024-07-30T16:44:51.866478Z",
     "iopub.status.idle": "2024-07-30T16:44:51.882103Z",
     "shell.execute_reply": "2024-07-30T16:44:51.882103Z"
    }
   },
   "outputs": [],
   "source": [
    "file_json = Path(temp_folder.name) / \"edb_configuration.json\"\n",
    "with open(file_json, \"w\") as f:\n",
    "    json.dump(cfg, f, indent=4, ensure_ascii=False)"
   ]
  },
  {
   "cell_type": "markdown",
   "id": "0837ce6a",
   "metadata": {},
   "source": [
    "## Import configuration into example layout"
   ]
  },
  {
   "cell_type": "code",
   "execution_count": 15,
   "id": "6f340571",
   "metadata": {
    "execution": {
     "iopub.execute_input": "2024-07-30T16:44:51.882103Z",
     "iopub.status.busy": "2024-07-30T16:44:51.882103Z",
     "iopub.status.idle": "2024-07-30T16:44:53.600927Z",
     "shell.execute_reply": "2024-07-30T16:44:53.600927Z"
    }
   },
   "outputs": [
    {
     "data": {
      "text/plain": [
       "True"
      ]
     },
     "execution_count": 15,
     "metadata": {},
     "output_type": "execute_result"
    }
   ],
   "source": [
    "edbapp.configuration.load(config_file=file_json)\n",
    "edbapp.configuration.run()"
   ]
  },
  {
   "cell_type": "markdown",
   "id": "bba4e0fc",
   "metadata": {},
   "source": [
    "## Review"
   ]
  },
  {
   "cell_type": "code",
   "execution_count": 16,
   "id": "0791c8fe",
   "metadata": {
    "execution": {
     "iopub.execute_input": "2024-07-30T16:44:53.600927Z",
     "iopub.status.busy": "2024-07-30T16:44:53.600927Z",
     "iopub.status.idle": "2024-07-30T16:44:53.632183Z",
     "shell.execute_reply": "2024-07-30T16:44:53.632183Z"
    }
   },
   "outputs": [
    {
     "data": {
      "text/plain": [
       "{'port_1': <pyedb.dotnet.edb_core.edb_data.ports.CircuitPort at 0x188b8995300>,\n",
       " 'port_2': <pyedb.dotnet.edb_core.edb_data.ports.CircuitPort at 0x188b8993840>,\n",
       " 'port_3': <pyedb.dotnet.edb_core.edb_data.ports.CircuitPort at 0x188b89963c0>,\n",
       " 'port_4': <pyedb.dotnet.edb_core.edb_data.ports.GapPort at 0x188b8996400>,\n",
       " 'port_5': <pyedb.dotnet.edb_core.edb_data.ports.CoaxPort at 0x188b8997200>,\n",
       " 'port_6': <pyedb.dotnet.edb_core.edb_data.ports.CircuitPort at 0x188b897f340>,\n",
       " 'U7_VDD_DDR_T9': <pyedb.dotnet.edb_core.edb_data.ports.CircuitPort at 0x188b8980c00>,\n",
       " 'U7_VDD_DDR_R1': <pyedb.dotnet.edb_core.edb_data.ports.CircuitPort at 0x188b8980f00>,\n",
       " 'U7_VDD_DDR_L9': <pyedb.dotnet.edb_core.edb_data.ports.CircuitPort at 0x188b8981000>,\n",
       " 'U7_VDD_DDR_L1': <pyedb.dotnet.edb_core.edb_data.ports.CircuitPort at 0x188b89820c0>,\n",
       " 'U7_VDD_DDR_J9': <pyedb.dotnet.edb_core.edb_data.ports.CircuitPort at 0x188b89817c0>,\n",
       " 'U7_VDD_DDR_J8': <pyedb.dotnet.edb_core.edb_data.ports.CircuitPort at 0x188b8981600>,\n",
       " 'U7_VDD_DDR_J2': <pyedb.dotnet.edb_core.edb_data.ports.CircuitPort at 0x188b8982a80>,\n",
       " 'U7_VDD_DDR_J1': <pyedb.dotnet.edb_core.edb_data.ports.CircuitPort at 0x188b8982440>,\n",
       " 'U7_VDD_DDR_G9': <pyedb.dotnet.edb_core.edb_data.ports.CircuitPort at 0x188b8982e80>,\n",
       " 'U7_VDD_DDR_G7': <pyedb.dotnet.edb_core.edb_data.ports.CircuitPort at 0x188b8984080>,\n",
       " 'U7_VDD_DDR_G1': <pyedb.dotnet.edb_core.edb_data.ports.CircuitPort at 0x188b8983780>,\n",
       " 'U7_VDD_DDR_F8': <pyedb.dotnet.edb_core.edb_data.ports.CircuitPort at 0x188b8983e80>,\n",
       " 'U7_VDD_DDR_F2': <pyedb.dotnet.edb_core.edb_data.ports.CircuitPort at 0x188b8984b00>,\n",
       " 'U7_VDD_DDR_D9': <pyedb.dotnet.edb_core.edb_data.ports.CircuitPort at 0x188b8984b80>,\n",
       " 'U7_VDD_DDR_D1': <pyedb.dotnet.edb_core.edb_data.ports.CircuitPort at 0x188b89847c0>,\n",
       " 'U7_VDD_DDR_C1': <pyedb.dotnet.edb_core.edb_data.ports.CircuitPort at 0x188b8986900>,\n",
       " 'U7_VDD_DDR_B9': <pyedb.dotnet.edb_core.edb_data.ports.CircuitPort at 0x188b8987e40>,\n",
       " 'U7_VDD_DDR_B3': <pyedb.dotnet.edb_core.edb_data.ports.CircuitPort at 0x188b8987ac0>,\n",
       " 'U7_VDD_DDR_A9': <pyedb.dotnet.edb_core.edb_data.ports.CircuitPort at 0x188b8988780>,\n",
       " 'U7_VDD_DDR_A1': <pyedb.dotnet.edb_core.edb_data.ports.CircuitPort at 0x188b8988540>}"
      ]
     },
     "execution_count": 16,
     "metadata": {},
     "output_type": "execute_result"
    }
   ],
   "source": [
    "edbapp.ports"
   ]
  },
  {
   "cell_type": "markdown",
   "id": "9714e68c",
   "metadata": {},
   "source": [
    "## Save EDB"
   ]
  },
  {
   "cell_type": "code",
   "execution_count": 17,
   "id": "2a9efab5",
   "metadata": {
    "execution": {
     "iopub.execute_input": "2024-07-30T16:44:53.632183Z",
     "iopub.status.busy": "2024-07-30T16:44:53.632183Z",
     "iopub.status.idle": "2024-07-30T16:44:53.757177Z",
     "shell.execute_reply": "2024-07-30T16:44:53.757177Z"
    }
   },
   "outputs": [
    {
     "name": "stdout",
     "output_type": "stream",
     "text": [
      "EDB is saved to C:\\Users\\ansys\\AppData\\Local\\Temp\\tmp6lh_qvlu.ansys\\edb/ANSYS-HSD_V1.aedb\n"
     ]
    }
   ],
   "source": [
    "edbapp.save()\n",
    "print(f\"EDB is saved to {edbapp.edbpath}\")"
   ]
  },
  {
   "cell_type": "markdown",
   "id": "fc50218b",
   "metadata": {},
   "source": [
    "## Close EDB"
   ]
  },
  {
   "cell_type": "code",
   "execution_count": 18,
   "id": "539b272b",
   "metadata": {
    "execution": {
     "iopub.execute_input": "2024-07-30T16:44:53.757177Z",
     "iopub.status.busy": "2024-07-30T16:44:53.757177Z",
     "iopub.status.idle": "2024-07-30T16:44:53.850924Z",
     "shell.execute_reply": "2024-07-30T16:44:53.850924Z"
    }
   },
   "outputs": [
    {
     "data": {
      "text/plain": [
       "True"
      ]
     },
     "execution_count": 18,
     "metadata": {},
     "output_type": "execute_result"
    }
   ],
   "source": [
    "edbapp.close()"
   ]
  }
 ],
 "metadata": {
  "jupytext": {
   "cell_metadata_filter": "-all",
   "main_language": "python",
   "notebook_metadata_filter": "-all",
   "text_representation": {
    "extension": ".py",
    "format_name": "light"
   }
  },
  "language_info": {
   "codemirror_mode": {
    "name": "ipython",
    "version": 3
   },
   "file_extension": ".py",
   "mimetype": "text/x-python",
   "name": "python",
   "nbconvert_exporter": "python",
   "pygments_lexer": "ipython3",
   "version": "3.10.11"
  }
 },
 "nbformat": 4,
 "nbformat_minor": 5
}
