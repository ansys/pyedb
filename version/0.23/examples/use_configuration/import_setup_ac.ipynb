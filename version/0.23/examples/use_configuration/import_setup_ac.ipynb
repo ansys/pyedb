{
 "cells": [
  {
   "cell_type": "markdown",
   "id": "54d26a99",
   "metadata": {},
   "source": [
    "# Import Setup AC\n",
    "This example shows how to import SIwave, HFSS setups for AC analysis. In this example, we are going to\n",
    "- Download an example board\n",
    "- Create a configuration file\n",
    "  - add setups\n",
    "- Import the configuration file"
   ]
  },
  {
   "cell_type": "markdown",
   "id": "211aa09d",
   "metadata": {},
   "source": [
    "### Import the required packages"
   ]
  },
  {
   "cell_type": "code",
   "execution_count": 1,
   "id": "ab4b7311",
   "metadata": {
    "execution": {
     "iopub.execute_input": "2024-07-30T16:44:59.222989Z",
     "iopub.status.busy": "2024-07-30T16:44:59.222989Z",
     "iopub.status.idle": "2024-07-30T16:44:59.754254Z",
     "shell.execute_reply": "2024-07-30T16:44:59.754254Z"
    }
   },
   "outputs": [],
   "source": [
    "import json\n",
    "from pathlib import Path\n",
    "import tempfile\n",
    "\n",
    "from pyaedt.downloads import download_file\n",
    "\n",
    "from pyedb import Edb\n",
    "\n",
    "AEDT_VERSION = \"2024.1\"\n",
    "NG_MODE = False\n"
   ]
  },
  {
   "cell_type": "markdown",
   "id": "68e56bfc",
   "metadata": {},
   "source": [
    "Download the example PCB data."
   ]
  },
  {
   "cell_type": "code",
   "execution_count": 2,
   "id": "e822354d",
   "metadata": {
    "execution": {
     "iopub.execute_input": "2024-07-30T16:44:59.754254Z",
     "iopub.status.busy": "2024-07-30T16:44:59.754254Z",
     "iopub.status.idle": "2024-07-30T16:45:00.554301Z",
     "shell.execute_reply": "2024-07-30T16:45:00.554301Z"
    }
   },
   "outputs": [],
   "source": [
    "temp_folder = tempfile.TemporaryDirectory(suffix=\".ansys\")\n",
    "file_edb = download_file(source=\"edb/ANSYS-HSD_V1.aedb\", destination=temp_folder.name)"
   ]
  },
  {
   "cell_type": "markdown",
   "id": "621f432b",
   "metadata": {},
   "source": [
    "## Load example layout."
   ]
  },
  {
   "cell_type": "code",
   "execution_count": 3,
   "id": "8cd15e85",
   "metadata": {
    "execution": {
     "iopub.execute_input": "2024-07-30T16:45:00.554301Z",
     "iopub.status.busy": "2024-07-30T16:45:00.554301Z",
     "iopub.status.idle": "2024-07-30T16:45:13.385171Z",
     "shell.execute_reply": "2024-07-30T16:45:13.385171Z"
    }
   },
   "outputs": [
    {
     "name": "stdout",
     "output_type": "stream",
     "text": [
      "PyAEDT INFO: Logger is initialized in EDB.\n"
     ]
    },
    {
     "name": "stdout",
     "output_type": "stream",
     "text": [
      "PyAEDT INFO: legacy v0.23.0\n"
     ]
    },
    {
     "name": "stdout",
     "output_type": "stream",
     "text": [
      "PyAEDT INFO: Python version 3.10.11 (tags/v3.10.11:7d4cc5a, Apr  5 2023, 00:38:17) [MSC v.1929 64 bit (AMD64)]\n"
     ]
    },
    {
     "name": "stdout",
     "output_type": "stream",
     "text": [
      "PyAEDT INFO: Database ANSYS-HSD_V1.aedb Opened in 2024.1\n"
     ]
    },
    {
     "name": "stdout",
     "output_type": "stream",
     "text": [
      "PyAEDT INFO: Cell main Opened\n"
     ]
    },
    {
     "name": "stdout",
     "output_type": "stream",
     "text": [
      "PyAEDT INFO: Builder was initialized.\n"
     ]
    },
    {
     "name": "stdout",
     "output_type": "stream",
     "text": [
      "PyAEDT INFO: EDB initialized.\n"
     ]
    }
   ],
   "source": [
    "edbapp = Edb(file_edb, edbversion=AEDT_VERSION)"
   ]
  },
  {
   "cell_type": "markdown",
   "id": "5977819c",
   "metadata": {},
   "source": [
    "## Create an empty dictionary to host all configurations."
   ]
  },
  {
   "cell_type": "code",
   "execution_count": 4,
   "id": "cebbaf77",
   "metadata": {
    "execution": {
     "iopub.execute_input": "2024-07-30T16:45:13.385171Z",
     "iopub.status.busy": "2024-07-30T16:45:13.385171Z",
     "iopub.status.idle": "2024-07-30T16:45:13.400799Z",
     "shell.execute_reply": "2024-07-30T16:45:13.400799Z"
    }
   },
   "outputs": [],
   "source": [
    "cfg = dict()"
   ]
  },
  {
   "cell_type": "markdown",
   "id": "ceaea604",
   "metadata": {},
   "source": [
    "## Create an SIwave SYZ setup"
   ]
  },
  {
   "cell_type": "markdown",
   "id": "44d31579",
   "metadata": {},
   "source": [
    "Keywords\n",
    "\n",
    "- **name**. Name of the setup.\n",
    "- **type**. Type of the analysis setup. Supported types are 'siwave_ac', 'siwave_dc', 'hfss'.\n",
    "- **pi_slider_position**. PI slider position. Supported values are from '0', '1', '2'. 0:speed, 1:balanced,\n",
    "2:accuracy.\n",
    "- **freq_sweep**. List of frequency sweeps.\n",
    "  - **name**. Name of the sweep.\n",
    "  - **type**. Type of the sweep. Supported types are 'interpolation', 'discrete', 'broadband'.\n",
    "  - **frequencies**. Frequency distribution.\n",
    "    - **distribution**. Supported distributions are 'linear_count', 'linear_scale', 'log_scale'.\n",
    "    - **start**. Start frequency. Example, 1e6, \"1MHz\".\n",
    "    - **stop**. Stop frequency. Example, 1e9, \"1GHz\".\n",
    "    - **increment**."
   ]
  },
  {
   "cell_type": "code",
   "execution_count": 5,
   "id": "56b0fe95",
   "metadata": {
    "execution": {
     "iopub.execute_input": "2024-07-30T16:45:13.400799Z",
     "iopub.status.busy": "2024-07-30T16:45:13.400799Z",
     "iopub.status.idle": "2024-07-30T16:45:13.416444Z",
     "shell.execute_reply": "2024-07-30T16:45:13.416444Z"
    }
   },
   "outputs": [],
   "source": [
    "siwave_setup = {\n",
    "    \"name\": \"siwave_1\",\n",
    "    \"type\": \"siwave_ac\",\n",
    "    \"pi_slider_position\": 1,\n",
    "    \"freq_sweep\": [\n",
    "        {\n",
    "            \"name\": \"Sweep1\",\n",
    "            \"type\": \"interpolation\",\n",
    "            \"frequencies\": [{\"distribution\": \"log_scale\", \"start\": 1e6, \"stop\": 1e9, \"increment\": 20}],\n",
    "        }\n",
    "    ],\n",
    "}"
   ]
  },
  {
   "cell_type": "markdown",
   "id": "a6192cee",
   "metadata": {},
   "source": [
    "## Create a HFSS setup"
   ]
  },
  {
   "cell_type": "markdown",
   "id": "89c34979",
   "metadata": {},
   "source": [
    "Keywords\n",
    "\n",
    "- **name**. Name of the setup.\n",
    "- **type**. Type of the analysis setup. Supported types are 'siwave_ac', 'siwave_dc', 'hfss'.\n",
    "- **f_adapt**. Adaptive frequency.\n",
    "- **max_num_passes**. Maximum number of passes.\n",
    "- **max_mag_delta_s**. Convergence criteria delta S.\n",
    "- **mesh_operations**. Mesh operations.\n",
    "    - **name**. Name of the mesh operation.\n",
    "    - **type**. Type of the mesh operation. The supported types are 'base', 'length', 'skin_depth'.\n",
    "    - **max_length**. Maximum length of elements.\n",
    "    - **restrict_length**. Whether to restrict length of elements.\n",
    "    - **refine_inside**. Whether to turn on refine inside objects.\n",
    "    - **nets_layers_list**. {'layer_name':['net_name_1', 'net_name_2']}\n",
    "- **freq_sweep**. List of frequency sweeps.\n",
    "  - **name**. Name of the sweep.\n",
    "  - **type**. Type of the sweep. Supported types are 'interpolation', 'discrete', 'broadband'.\n",
    "  - **frequencies**. Frequency distribution.\n",
    "    - **distribution**. Supported distributions are 'linear_count', 'linear_scale', 'log_scale'.\n",
    "    - **start**. Start frequency. Example, 1e6, \"1MHz\".\n",
    "    - **stop**. Stop frequency. Example, 1e9, \"1GHz\".\n",
    "    - **increment**."
   ]
  },
  {
   "cell_type": "code",
   "execution_count": 6,
   "id": "0d479419",
   "metadata": {
    "execution": {
     "iopub.execute_input": "2024-07-30T16:45:13.416444Z",
     "iopub.status.busy": "2024-07-30T16:45:13.416444Z",
     "iopub.status.idle": "2024-07-30T16:45:13.432048Z",
     "shell.execute_reply": "2024-07-30T16:45:13.432048Z"
    }
   },
   "outputs": [],
   "source": [
    "hfss_setup = {\n",
    "    \"name\": \"hfss_1\",\n",
    "    \"type\": \"hfss\",\n",
    "    \"f_adapt\": \"5GHz\",\n",
    "    \"max_num_passes\": 10,\n",
    "    \"max_mag_delta_s\": 0.02,\n",
    "    \"mesh_operations\": [\n",
    "        {\n",
    "            \"name\": \"mop_1\",\n",
    "            \"type\": \"length\",\n",
    "            \"max_length\": \"3mm\",\n",
    "            \"restrict_length\": True,\n",
    "            \"refine_inside\": False,\n",
    "            \"nets_layers_list\": {\"GND\": [\"1_Top\", \"16_Bottom\"]},\n",
    "        }\n",
    "    ],\n",
    "    \"freq_sweep\": [\n",
    "        {\n",
    "            \"name\": \"Sweep1\",\n",
    "            \"type\": \"interpolation\",\n",
    "            \"frequencies\": [{\"distribution\": \"log_scale\", \"start\": 1e6, \"stop\": 1e9, \"increment\": 20}],\n",
    "        }\n",
    "    ],\n",
    "}"
   ]
  },
  {
   "cell_type": "markdown",
   "id": "849216d2",
   "metadata": {},
   "source": [
    "## Add setups in configuration"
   ]
  },
  {
   "cell_type": "code",
   "execution_count": 7,
   "id": "839e1048",
   "metadata": {
    "execution": {
     "iopub.execute_input": "2024-07-30T16:45:13.432048Z",
     "iopub.status.busy": "2024-07-30T16:45:13.432048Z",
     "iopub.status.idle": "2024-07-30T16:45:13.447670Z",
     "shell.execute_reply": "2024-07-30T16:45:13.447670Z"
    }
   },
   "outputs": [],
   "source": [
    "cfg[\"setups\"] = [siwave_setup, hfss_setup]"
   ]
  },
  {
   "cell_type": "markdown",
   "id": "53bdd771",
   "metadata": {},
   "source": [
    "## Write configuration into as json file"
   ]
  },
  {
   "cell_type": "code",
   "execution_count": 8,
   "id": "8ed52b53",
   "metadata": {
    "execution": {
     "iopub.execute_input": "2024-07-30T16:45:13.447670Z",
     "iopub.status.busy": "2024-07-30T16:45:13.447670Z",
     "iopub.status.idle": "2024-07-30T16:45:13.463310Z",
     "shell.execute_reply": "2024-07-30T16:45:13.463310Z"
    }
   },
   "outputs": [],
   "source": [
    "file_json = Path(temp_folder.name) / \"edb_configuration.json\"\n",
    "with open(file_json, \"w\") as f:\n",
    "    json.dump(cfg, f, indent=4, ensure_ascii=False)"
   ]
  },
  {
   "cell_type": "markdown",
   "id": "3a3d2322",
   "metadata": {},
   "source": [
    "## Import configuration into example layout"
   ]
  },
  {
   "cell_type": "code",
   "execution_count": 9,
   "id": "a3218ed3",
   "metadata": {
    "execution": {
     "iopub.execute_input": "2024-07-30T16:45:13.463310Z",
     "iopub.status.busy": "2024-07-30T16:45:13.463310Z",
     "iopub.status.idle": "2024-07-30T16:45:13.775826Z",
     "shell.execute_reply": "2024-07-30T16:45:13.775826Z"
    }
   },
   "outputs": [
    {
     "data": {
      "text/plain": [
       "True"
      ]
     },
     "execution_count": 9,
     "metadata": {},
     "output_type": "execute_result"
    }
   ],
   "source": [
    "edbapp.configuration.load(config_file=file_json)\n",
    "edbapp.configuration.run()"
   ]
  },
  {
   "cell_type": "markdown",
   "id": "49ba5317",
   "metadata": {},
   "source": [
    "## Review"
   ]
  },
  {
   "cell_type": "code",
   "execution_count": 10,
   "id": "013c7227",
   "metadata": {
    "execution": {
     "iopub.execute_input": "2024-07-30T16:45:13.775826Z",
     "iopub.status.busy": "2024-07-30T16:45:13.775826Z",
     "iopub.status.idle": "2024-07-30T16:45:13.791425Z",
     "shell.execute_reply": "2024-07-30T16:45:13.791425Z"
    }
   },
   "outputs": [
    {
     "data": {
      "text/plain": [
       "{'hfss_1': <pyedb.dotnet.edb_core.utilities.hfss_simulation_setup.HfssSimulationSetup at 0x1ee643ed7c0>,\n",
       " 'siwave_1': <pyedb.dotnet.edb_core.utilities.siwave_simulation_setup.SiwaveSimulationSetup at 0x1ee643ecc40>}"
      ]
     },
     "execution_count": 10,
     "metadata": {},
     "output_type": "execute_result"
    }
   ],
   "source": [
    "edbapp.setups"
   ]
  },
  {
   "cell_type": "markdown",
   "id": "a607f0b9",
   "metadata": {},
   "source": [
    "## Save EDB"
   ]
  },
  {
   "cell_type": "code",
   "execution_count": 11,
   "id": "e5ad2390",
   "metadata": {
    "execution": {
     "iopub.execute_input": "2024-07-30T16:45:13.791425Z",
     "iopub.status.busy": "2024-07-30T16:45:13.791425Z",
     "iopub.status.idle": "2024-07-30T16:45:13.916436Z",
     "shell.execute_reply": "2024-07-30T16:45:13.916436Z"
    }
   },
   "outputs": [
    {
     "name": "stdout",
     "output_type": "stream",
     "text": [
      "EDB is saved to C:\\Users\\ansys\\AppData\\Local\\Temp\\tmp7gwk7_pm.ansys\\edb/ANSYS-HSD_V1.aedb\n"
     ]
    }
   ],
   "source": [
    "edbapp.save()\n",
    "print(f\"EDB is saved to {edbapp.edbpath}\")"
   ]
  },
  {
   "cell_type": "markdown",
   "id": "78466cc4",
   "metadata": {},
   "source": [
    "## Close EDB"
   ]
  },
  {
   "cell_type": "code",
   "execution_count": 12,
   "id": "ae473ecf",
   "metadata": {
    "execution": {
     "iopub.execute_input": "2024-07-30T16:45:13.916436Z",
     "iopub.status.busy": "2024-07-30T16:45:13.916436Z",
     "iopub.status.idle": "2024-07-30T16:45:14.010179Z",
     "shell.execute_reply": "2024-07-30T16:45:14.010179Z"
    }
   },
   "outputs": [
    {
     "data": {
      "text/plain": [
       "True"
      ]
     },
     "execution_count": 12,
     "metadata": {},
     "output_type": "execute_result"
    }
   ],
   "source": [
    "edbapp.close()"
   ]
  }
 ],
 "metadata": {
  "jupytext": {
   "cell_metadata_filter": "-all",
   "main_language": "python",
   "notebook_metadata_filter": "-all",
   "text_representation": {
    "extension": ".py",
    "format_name": "light"
   }
  },
  "language_info": {
   "codemirror_mode": {
    "name": "ipython",
    "version": 3
   },
   "file_extension": ".py",
   "mimetype": "text/x-python",
   "name": "python",
   "nbconvert_exporter": "python",
   "pygments_lexer": "ipython3",
   "version": "3.10.11"
  }
 },
 "nbformat": 4,
 "nbformat_minor": 5
}
