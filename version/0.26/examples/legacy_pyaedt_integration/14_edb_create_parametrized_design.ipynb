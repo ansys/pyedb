{
 "cells": [
  {
   "cell_type": "markdown",
   "id": "ff3b6773",
   "metadata": {},
   "source": [
    "# EDB: parameterized design\n",
    "\n",
    "This example shows how to\n",
    "1. Set up an HFSS project using SimulationConfiguration class.\n",
    "2. Create automatically parametrized design.\n",
    "\n",
    "This image shows the layout created in this example:\n",
    "\n",
    "<img src=\"_static\\parameterized_design.png\" width=\"600\">\n"
   ]
  },
  {
   "cell_type": "markdown",
   "id": "8aee711f",
   "metadata": {},
   "source": [
    "## Import dependencies."
   ]
  },
  {
   "cell_type": "code",
   "execution_count": 1,
   "id": "50a86cd6",
   "metadata": {
    "execution": {
     "iopub.execute_input": "2024-09-04T08:16:27.320565Z",
     "iopub.status.busy": "2024-09-04T08:16:27.320565Z",
     "iopub.status.idle": "2024-09-04T08:16:27.351814Z",
     "shell.execute_reply": "2024-09-04T08:16:27.351814Z"
    }
   },
   "outputs": [],
   "source": [
    "import tempfile"
   ]
  },
  {
   "cell_type": "code",
   "execution_count": 2,
   "id": "26ff865e",
   "metadata": {
    "execution": {
     "iopub.execute_input": "2024-09-04T08:16:27.351814Z",
     "iopub.status.busy": "2024-09-04T08:16:27.351814Z",
     "iopub.status.idle": "2024-09-04T08:16:27.914263Z",
     "shell.execute_reply": "2024-09-04T08:16:27.914263Z"
    }
   },
   "outputs": [
    {
     "name": "stdout",
     "output_type": "stream",
     "text": [
      "FutureWarning: Module 'pyaedt' has become an alias to the new package structure. Please update you imports to use the new architecture based on 'ansys.aedt.core'. In addition, some files have been renamed to follow the PEP 8 naming convention. The old structure and file names will be deprecated in future versions, see https://aedt.docs.pyansys.com/version/stable/release_1_0.html\n"
     ]
    }
   ],
   "source": [
    "import pyaedt"
   ]
  },
  {
   "cell_type": "code",
   "execution_count": 3,
   "id": "ca5ed012",
   "metadata": {
    "execution": {
     "iopub.execute_input": "2024-09-04T08:16:27.914263Z",
     "iopub.status.busy": "2024-09-04T08:16:27.914263Z",
     "iopub.status.idle": "2024-09-04T08:16:27.945497Z",
     "shell.execute_reply": "2024-09-04T08:16:27.945497Z"
    }
   },
   "outputs": [],
   "source": [
    "import pyedb\n",
    "from pyedb.misc.downloads import download_file"
   ]
  },
  {
   "cell_type": "markdown",
   "id": "dbdec603",
   "metadata": {},
   "source": [
    "## Create an instance of a pyedb.Edb object."
   ]
  },
  {
   "cell_type": "code",
   "execution_count": 4,
   "id": "4e074ecd",
   "metadata": {
    "execution": {
     "iopub.execute_input": "2024-09-04T08:16:27.945497Z",
     "iopub.status.busy": "2024-09-04T08:16:27.945497Z",
     "iopub.status.idle": "2024-09-04T08:16:42.466752Z",
     "shell.execute_reply": "2024-09-04T08:16:42.466752Z"
    }
   },
   "outputs": [
    {
     "name": "stdout",
     "output_type": "stream",
     "text": [
      "Project is located in  C:\\Users\\ansys\\AppData\\Local\\Temp\\tmp9i050jy8.ansys\\edb/ANSYS-HSD_V1.aedb\n",
      "EDB version: 2024.2\n"
     ]
    },
    {
     "name": "stdout",
     "output_type": "stream",
     "text": [
      "PyAEDT INFO: Logger is initialized in EDB.\n"
     ]
    },
    {
     "name": "stdout",
     "output_type": "stream",
     "text": [
      "PyAEDT INFO: legacy v0.26.3\n"
     ]
    },
    {
     "name": "stdout",
     "output_type": "stream",
     "text": [
      "PyAEDT INFO: Python version 3.10.11 (tags/v3.10.11:7d4cc5a, Apr  5 2023, 00:38:17) [MSC v.1929 64 bit (AMD64)]\n"
     ]
    },
    {
     "name": "stdout",
     "output_type": "stream",
     "text": [
      "PyAEDT INFO: Database ANSYS-HSD_V1.aedb Opened in 2024.2\n"
     ]
    },
    {
     "name": "stdout",
     "output_type": "stream",
     "text": [
      "PyAEDT INFO: Cell main Opened\n"
     ]
    },
    {
     "name": "stdout",
     "output_type": "stream",
     "text": [
      "PyAEDT INFO: Builder was initialized.\n"
     ]
    },
    {
     "name": "stdout",
     "output_type": "stream",
     "text": [
      "PyAEDT INFO: EDB initialized.\n"
     ]
    },
    {
     "name": "stdout",
     "output_type": "stream",
     "text": [
      "AEDB file is located in C:\\Users\\ansys\\AppData\\Local\\Temp\\tmp9i050jy8.ansys\\edb/ANSYS-HSD_V1.aedb\n"
     ]
    }
   ],
   "source": [
    "temp_dir = tempfile.TemporaryDirectory(suffix=\".ansys\")\n",
    "target_aedb = download_file(\"edb/ANSYS-HSD_V1.aedb\", destination=temp_dir.name)\n",
    "print(\"Project is located in \", target_aedb)\n",
    "\n",
    "# Select EDB version (change it manually if needed, e.g. \"2024.2\")\n",
    "edb_version = \"2024.2\"\n",
    "print(f\"EDB version: {edb_version}\")\n",
    "\n",
    "edb = pyedb.Edb(edbpath=target_aedb, edbversion=edb_version)\n",
    "print(\"AEDB file is located in {}\".format(target_aedb))"
   ]
  },
  {
   "cell_type": "markdown",
   "id": "ce331937",
   "metadata": {},
   "source": [
    "## Prepare the layout for the simulation\n",
    "\n",
    "The ``new_simulation_configuration()`` method creates an instance of\n",
    "the ``SimulationConfiguration`` class. This class helps define all preprocessing steps\n",
    "required to set up the PCB for simulation. After the simulation configuration has been defined,\n",
    "they are applied to the EDB using the ``Edb.build_simulation()`` method."
   ]
  },
  {
   "cell_type": "code",
   "execution_count": 5,
   "id": "63834a22",
   "metadata": {
    "execution": {
     "iopub.execute_input": "2024-09-04T08:16:42.466752Z",
     "iopub.status.busy": "2024-09-04T08:16:42.466752Z",
     "iopub.status.idle": "2024-09-04T08:16:42.482308Z",
     "shell.execute_reply": "2024-09-04T08:16:42.482308Z"
    }
   },
   "outputs": [],
   "source": [
    "simulation_configuration = edb.new_simulation_configuration()\n",
    "simulation_configuration.signal_nets = [\n",
    "    \"PCIe_Gen4_RX0_P\",\n",
    "    \"PCIe_Gen4_RX0_N\",\n",
    "    \"PCIe_Gen4_RX1_P\",\n",
    "    \"PCIe_Gen4_RX1_N\",\n",
    "]\n",
    "simulation_configuration.power_nets = [\"GND\"]\n",
    "simulation_configuration.components = [\"X1\", \"U1\"]\n",
    "simulation_configuration.do_cutout_subdesign = True\n",
    "simulation_configuration.start_freq = \"OGHz\"\n",
    "simulation_configuration.stop_freq = \"20GHz\"\n",
    "simulation_configuration.step_freq = \"10MHz\""
   ]
  },
  {
   "cell_type": "markdown",
   "id": "05034f6b",
   "metadata": {},
   "source": [
    "Now apply the simulation setup to the EDB."
   ]
  },
  {
   "cell_type": "code",
   "execution_count": 6,
   "id": "63126998",
   "metadata": {
    "execution": {
     "iopub.execute_input": "2024-09-04T08:16:42.482308Z",
     "iopub.status.busy": "2024-09-04T08:16:42.482308Z",
     "iopub.status.idle": "2024-09-04T08:16:52.045351Z",
     "shell.execute_reply": "2024-09-04T08:16:52.045351Z"
    }
   },
   "outputs": [
    {
     "name": "stdout",
     "output_type": "stream",
     "text": [
      "PyAEDT INFO: Building simulation project.\n"
     ]
    },
    {
     "name": "stdout",
     "output_type": "stream",
     "text": [
      "PyAEDT INFO: Cutting out using method: 1\n"
     ]
    },
    {
     "name": "stdout",
     "output_type": "stream",
     "text": [
      "PyAEDT INFO: Cutting out using method: 1\n"
     ]
    },
    {
     "name": "stdout",
     "output_type": "stream",
     "text": [
      "PyAEDT INFO: Cutout Multithread started.\n"
     ]
    },
    {
     "name": "stdout",
     "output_type": "stream",
     "text": [
      "PyAEDT INFO: Net clean up Elapsed time: 0m 4sec\n"
     ]
    },
    {
     "name": "stdout",
     "output_type": "stream",
     "text": [
      "PyAEDT INFO: Correctly computed Extension at first iteration.\n"
     ]
    },
    {
     "name": "stdout",
     "output_type": "stream",
     "text": [
      "PyAEDT INFO: Expanded Net Polygon Creation Elapsed time: 0m 0sec\n"
     ]
    },
    {
     "name": "stdout",
     "output_type": "stream",
     "text": [
      "PyAEDT INFO: Padstack Instances removal completed. 2022 instances removed. Elapsed time: 0m 1sec\n"
     ]
    },
    {
     "name": "stdout",
     "output_type": "stream",
     "text": [
      "PyAEDT INFO: Primitives cleanup completed. 446 primitives deleted. Elapsed time: 0m 4sec\n"
     ]
    },
    {
     "name": "stdout",
     "output_type": "stream",
     "text": [
      "PyAEDT INFO: Deleted 1010 additional components\n"
     ]
    },
    {
     "name": "stdout",
     "output_type": "stream",
     "text": [
      "PyAEDT INFO: Deleted 472 components\n"
     ]
    },
    {
     "name": "stdout",
     "output_type": "stream",
     "text": [
      "PyAEDT INFO: Single Pins components deleted Elapsed time: 0m 0sec\n"
     ]
    },
    {
     "name": "stdout",
     "output_type": "stream",
     "text": [
      "PyAEDT INFO: Cutout completed. Elapsed time: 0m 9sec\n"
     ]
    },
    {
     "name": "stdout",
     "output_type": "stream",
     "text": [
      "PyAEDT INFO: Cutout processed.\n"
     ]
    },
    {
     "name": "stdout",
     "output_type": "stream",
     "text": [
      "PyAEDT INFO: Deleting existing ports.\n"
     ]
    },
    {
     "name": "stdout",
     "output_type": "stream",
     "text": [
      "PyAEDT INFO: Creating HFSS ports for signal nets.\n"
     ]
    },
    {
     "name": "stdout",
     "output_type": "stream",
     "text": [
      "PyAEDT INFO: Number of ports: 8\n"
     ]
    },
    {
     "name": "stdout",
     "output_type": "stream",
     "text": [
      "PyAEDT INFO: Configure HFSS extents.\n"
     ]
    },
    {
     "name": "stdout",
     "output_type": "stream",
     "text": [
      "PyAEDT INFO: Adding frequency sweep\n"
     ]
    },
    {
     "name": "stdout",
     "output_type": "stream",
     "text": [
      "PyAEDT INFO: Padstack definition with zero plating ratio, defaulting to 20%\n"
     ]
    },
    {
     "name": "stdout",
     "output_type": "stream",
     "text": [
      "PyAEDT INFO: Padstack definition with zero plating ratio, defaulting to 20%\n"
     ]
    },
    {
     "name": "stdout",
     "output_type": "stream",
     "text": [
      "PyAEDT INFO: Padstack definition with zero plating ratio, defaulting to 20%\n"
     ]
    },
    {
     "name": "stdout",
     "output_type": "stream",
     "text": [
      "PyAEDT INFO: Padstack definition with zero plating ratio, defaulting to 20%\n"
     ]
    },
    {
     "name": "stdout",
     "output_type": "stream",
     "text": [
      "PyAEDT INFO: Padstack definition with zero plating ratio, defaulting to 20%\n"
     ]
    },
    {
     "name": "stdout",
     "output_type": "stream",
     "text": [
      "PyAEDT INFO: Padstack definition with zero plating ratio, defaulting to 20%\n"
     ]
    },
    {
     "name": "stdout",
     "output_type": "stream",
     "text": [
      "PyAEDT INFO: EDB file save time: 0.00ms\n"
     ]
    },
    {
     "data": {
      "text/plain": [
       "True"
      ]
     },
     "execution_count": 6,
     "metadata": {},
     "output_type": "execute_result"
    }
   ],
   "source": [
    "edb.build_simulation_project(simulation_configuration)"
   ]
  },
  {
   "cell_type": "markdown",
   "id": "ef04444b",
   "metadata": {},
   "source": [
    "## Parameterize\n",
    "\n",
    "The layout can automatically be set up to enable parametric studies. For example, the\n",
    "impact of antipad diameter or trace width on signal integrity performance may be invested\n",
    "parametrically."
   ]
  },
  {
   "cell_type": "code",
   "execution_count": 7,
   "id": "43d93a06",
   "metadata": {
    "execution": {
     "iopub.execute_input": "2024-09-04T08:16:52.045351Z",
     "iopub.status.busy": "2024-09-04T08:16:52.045351Z",
     "iopub.status.idle": "2024-09-04T08:16:52.592296Z",
     "shell.execute_reply": "2024-09-04T08:16:52.592296Z"
    }
   },
   "outputs": [
    {
     "name": "stdout",
     "output_type": "stream",
     "text": [
      "PyAEDT INFO: EDB file save time: 0.00ms\n"
     ]
    },
    {
     "name": "stdout",
     "output_type": "stream",
     "text": [
      "PyAEDT INFO: EDB file release time: 0.00ms\n"
     ]
    },
    {
     "data": {
      "text/plain": [
       "True"
      ]
     },
     "execution_count": 7,
     "metadata": {},
     "output_type": "execute_result"
    }
   ],
   "source": [
    "edb.auto_parametrize_design(layers=True, materials=True, via_holes=True, pads=True, antipads=True, traces=True)\n",
    "edb.save_edb()\n",
    "edb.close_edb()"
   ]
  },
  {
   "cell_type": "markdown",
   "id": "f9240ed8",
   "metadata": {},
   "source": [
    "## Open project in AEDT\n",
    "\n",
    "All manipulations thus far have been executed using the EDB API, which provides fast,\n",
    "streamlined processing of layout data in non-graphical mode. The layout and simulation\n",
    "setup can be visualized by opening it using the 3D Layout editor in AEDT.\n",
    "\n",
    "Note that there may be some delay while AEDT is being launched."
   ]
  },
  {
   "cell_type": "code",
   "execution_count": 8,
   "id": "a7bc88ed",
   "metadata": {
    "execution": {
     "iopub.execute_input": "2024-09-04T08:16:52.592296Z",
     "iopub.status.busy": "2024-09-04T08:16:52.592296Z",
     "iopub.status.idle": "2024-09-04T08:17:25.288804Z",
     "shell.execute_reply": "2024-09-04T08:17:25.288804Z"
    }
   },
   "outputs": [
    {
     "name": "stdout",
     "output_type": "stream",
     "text": [
      "PyAEDT WARNING: Argument `projectname` is deprecated for method `__init__`; use `project` instead.\n"
     ]
    },
    {
     "name": "stdout",
     "output_type": "stream",
     "text": [
      "PyAEDT WARNING: Argument `specified_version` is deprecated for method `__init__`; use `version` instead.\n"
     ]
    },
    {
     "name": "stdout",
     "output_type": "stream",
     "text": [
      "PyAEDT WARNING: Argument `new_desktop_session` is deprecated for method `__init__`; use `new_desktop` instead.\n"
     ]
    },
    {
     "name": "stdout",
     "output_type": "stream",
     "text": [
      "PyAEDT INFO: Python version 3.10.11 (tags/v3.10.11:7d4cc5a, Apr  5 2023, 00:38:17) [MSC v.1929 64 bit (AMD64)]\n"
     ]
    },
    {
     "name": "stdout",
     "output_type": "stream",
     "text": [
      "PyAEDT INFO: PyAEDT version 0.11.dev0.\n"
     ]
    },
    {
     "name": "stdout",
     "output_type": "stream",
     "text": [
      "PyAEDT INFO: Initializing new Desktop session.\n"
     ]
    },
    {
     "name": "stdout",
     "output_type": "stream",
     "text": [
      "PyAEDT INFO: Log on console is enabled.\n"
     ]
    },
    {
     "name": "stdout",
     "output_type": "stream",
     "text": [
      "PyAEDT INFO: Log on file C:\\Users\\ansys\\AppData\\Local\\Temp\\pyaedt_ansys_1c8e6f10-bae8-4aa8-96f9-acdc33704ded.log is enabled.\n"
     ]
    },
    {
     "name": "stdout",
     "output_type": "stream",
     "text": [
      "PyAEDT INFO: Log on AEDT is enabled.\n"
     ]
    },
    {
     "name": "stdout",
     "output_type": "stream",
     "text": [
      "PyAEDT INFO: Debug logger is disabled. PyAEDT methods will not be logged.\n"
     ]
    },
    {
     "name": "stdout",
     "output_type": "stream",
     "text": [
      "PyAEDT INFO: Launching PyAEDT with gRPC plugin.\n"
     ]
    },
    {
     "name": "stdout",
     "output_type": "stream",
     "text": [
      "PyAEDT INFO: New AEDT session is starting on gRPC port 63557\n"
     ]
    },
    {
     "name": "stdout",
     "output_type": "stream",
     "text": [
      "PyAEDT INFO: AEDT installation Path C:\\Program Files\\AnsysEM\\v242\\Win64\n"
     ]
    },
    {
     "name": "stdout",
     "output_type": "stream",
     "text": [
      "PyAEDT INFO: Ansoft.ElectronicsDesktop.2024.2 version started with process ID 8564.\n"
     ]
    },
    {
     "name": "stdout",
     "output_type": "stream",
     "text": [
      "PyAEDT INFO: EDB folder C:\\Users\\ansys\\AppData\\Local\\Temp\\tmp9i050jy8.ansys\\edb/ANSYS-HSD_V1.aedb has been imported to project ANSYS-HSD_V1\n"
     ]
    },
    {
     "name": "stdout",
     "output_type": "stream",
     "text": [
      "PyAEDT INFO: Active Design set to 0;main\n"
     ]
    },
    {
     "name": "stdout",
     "output_type": "stream",
     "text": [
      "PyAEDT INFO: Aedt Objects correctly read\n"
     ]
    }
   ],
   "source": [
    "hfss = pyaedt.Hfss3dLayout(\n",
    "    projectname=target_aedb,\n",
    "    specified_version=edb_version,\n",
    "    non_graphical=False,\n",
    "    new_desktop_session=True,\n",
    ")"
   ]
  },
  {
   "cell_type": "markdown",
   "id": "15e939a5",
   "metadata": {},
   "source": [
    "The following cell can be used to ensure that the design is valid for simulation."
   ]
  },
  {
   "cell_type": "code",
   "execution_count": 9,
   "id": "81db7080",
   "metadata": {
    "execution": {
     "iopub.execute_input": "2024-09-04T08:17:25.288804Z",
     "iopub.status.busy": "2024-09-04T08:17:25.288804Z",
     "iopub.status.idle": "2024-09-04T08:17:30.493006Z",
     "shell.execute_reply": "2024-09-04T08:17:30.493006Z"
    }
   },
   "outputs": [
    {
     "name": "stdout",
     "output_type": "stream",
     "text": [
      "PyAEDT INFO: #### Design Validation Checks###\n"
     ]
    },
    {
     "name": "stdout",
     "output_type": "stream",
     "text": [
      "PyAEDT INFO: **** Validation Completed Correctly\n"
     ]
    },
    {
     "name": "stdout",
     "output_type": "stream",
     "text": [
      "PyAEDT INFO: Ports Requested: None\n"
     ]
    },
    {
     "name": "stdout",
     "output_type": "stream",
     "text": [
      "PyAEDT INFO: Ports Defined: 8\n"
     ]
    },
    {
     "name": "stdout",
     "output_type": "stream",
     "text": [
      "PyAEDT INFO: Excitation name: U1.AN26.PCIe_Gen4_RX0_N\n"
     ]
    },
    {
     "name": "stdout",
     "output_type": "stream",
     "text": [
      "PyAEDT INFO: Excitation name: U1.AP25.PCIe_Gen4_RX1_N\n"
     ]
    },
    {
     "name": "stdout",
     "output_type": "stream",
     "text": [
      "PyAEDT INFO: Excitation name: U1.AP26.PCIe_Gen4_RX0_P\n"
     ]
    },
    {
     "name": "stdout",
     "output_type": "stream",
     "text": [
      "PyAEDT INFO: Excitation name: U1.AR25.PCIe_Gen4_RX1_P\n"
     ]
    },
    {
     "name": "stdout",
     "output_type": "stream",
     "text": [
      "PyAEDT INFO: Excitation name: X1.A2.PCIe_Gen4_RX0_P\n"
     ]
    },
    {
     "name": "stdout",
     "output_type": "stream",
     "text": [
      "PyAEDT INFO: Excitation name: X1.A3.PCIe_Gen4_RX0_N\n"
     ]
    },
    {
     "name": "stdout",
     "output_type": "stream",
     "text": [
      "PyAEDT INFO: Excitation name: X1.A5.PCIe_Gen4_RX1_P\n"
     ]
    },
    {
     "name": "stdout",
     "output_type": "stream",
     "text": [
      "PyAEDT INFO: Excitation name: X1.A6.PCIe_Gen4_RX1_N\n"
     ]
    }
   ],
   "source": [
    "validation_info = hfss.validate_full_design()\n",
    "is_ready_to_simulate = True"
   ]
  },
  {
   "cell_type": "code",
   "execution_count": 10,
   "id": "1a616366",
   "metadata": {
    "execution": {
     "iopub.execute_input": "2024-09-04T08:17:30.493006Z",
     "iopub.status.busy": "2024-09-04T08:17:30.493006Z",
     "iopub.status.idle": "2024-09-04T08:17:30.508659Z",
     "shell.execute_reply": "2024-09-04T08:17:30.508659Z"
    }
   },
   "outputs": [
    {
     "name": "stdout",
     "output_type": "stream",
     "text": [
      "The model is ready for simulation.\n"
     ]
    }
   ],
   "source": [
    "for s in validation_info[0]:\n",
    "    if \"error\" in s:\n",
    "        print(s)\n",
    "        is_ready_to_simulate = False\n",
    "\n",
    "if is_ready_to_simulate:\n",
    "    print(\"The model is ready for simulation.\")\n",
    "else:\n",
    "    print(\"There are errors in the model that must be fixed.\")"
   ]
  },
  {
   "cell_type": "markdown",
   "id": "b95f541d",
   "metadata": {},
   "source": [
    "## Release the application from the Python kernel\n",
    "\n",
    "It is important to release the application from the Python kernel after\n",
    "execution of the script. The default behavior of the ``release_desktop()`` method closes all open\n",
    "projects and closes the application.\n",
    "\n",
    "If you want to continue working on the project in graphical mode\n",
    "after script execution, call the following method with both arguments set to ``False``."
   ]
  },
  {
   "cell_type": "code",
   "execution_count": 11,
   "id": "235a4f9e",
   "metadata": {
    "execution": {
     "iopub.execute_input": "2024-09-04T08:17:30.508659Z",
     "iopub.status.busy": "2024-09-04T08:17:30.508659Z",
     "iopub.status.idle": "2024-09-04T08:17:33.802809Z",
     "shell.execute_reply": "2024-09-04T08:17:33.802809Z"
    }
   },
   "outputs": [
    {
     "name": "stdout",
     "output_type": "stream",
     "text": [
      "PyAEDT INFO: Desktop has been released and closed.\n"
     ]
    }
   ],
   "source": [
    "hfss.release_desktop(close_projects=True, close_desktop=True)\n",
    "temp_dir.cleanup()  # Remove the temporary folder and files. All data will be removd!"
   ]
  }
 ],
 "metadata": {
  "jupytext": {
   "cell_metadata_filter": "-all",
   "main_language": "python",
   "notebook_metadata_filter": "-all",
   "text_representation": {
    "extension": ".py",
    "format_name": "light"
   }
  },
  "language_info": {
   "codemirror_mode": {
    "name": "ipython",
    "version": 3
   },
   "file_extension": ".py",
   "mimetype": "text/x-python",
   "name": "python",
   "nbconvert_exporter": "python",
   "pygments_lexer": "ipython3",
   "version": "3.10.11"
  }
 },
 "nbformat": 4,
 "nbformat_minor": 5
}
