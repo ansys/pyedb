{
 "cells": [
  {
   "cell_type": "markdown",
   "id": "a4343dc8",
   "metadata": {},
   "source": [
    "# EDB: Network Analysis in SIwave\n",
    "\n",
    "This example shows how to use PyAEDT to set up SYZ analysis on a\n",
    "[serdes](https://en.wikipedia.org/wiki/SerDes) channel.\n",
    "The signal input is applied differetially. The positive net is _\"PCIe_Gen4_TX3_CAP_P\"_.\n",
    "The negative net is _\"PCIe_Gen4_TX3_CAP_N\"_. In this example, ports are placed on the\n",
    "driver and\n",
    "receiver components."
   ]
  },
  {
   "cell_type": "markdown",
   "id": "9db2f637",
   "metadata": {},
   "source": [
    "### Perform required imports\n",
    "\n",
    "Perform required imports, which includes importing a section."
   ]
  },
  {
   "cell_type": "code",
   "execution_count": 1,
   "id": "9af6c85a",
   "metadata": {
    "execution": {
     "iopub.execute_input": "2024-09-04T08:17:38.815680Z",
     "iopub.status.busy": "2024-09-04T08:17:38.815680Z",
     "iopub.status.idle": "2024-09-04T08:17:38.831319Z",
     "shell.execute_reply": "2024-09-04T08:17:38.831319Z"
    }
   },
   "outputs": [],
   "source": [
    "import tempfile\n",
    "import time"
   ]
  },
  {
   "cell_type": "code",
   "execution_count": 2,
   "id": "3cc10cea",
   "metadata": {
    "execution": {
     "iopub.execute_input": "2024-09-04T08:17:38.831319Z",
     "iopub.status.busy": "2024-09-04T08:17:38.831319Z",
     "iopub.status.idle": "2024-09-04T08:17:39.393999Z",
     "shell.execute_reply": "2024-09-04T08:17:39.393999Z"
    }
   },
   "outputs": [
    {
     "name": "stdout",
     "output_type": "stream",
     "text": [
      "FutureWarning: Module 'pyaedt' has become an alias to the new package structure. Please update you imports to use the new architecture based on 'ansys.aedt.core'. In addition, some files have been renamed to follow the PEP 8 naming convention. The old structure and file names will be deprecated in future versions, see https://aedt.docs.pyansys.com/version/stable/release_1_0.html\n"
     ]
    }
   ],
   "source": [
    "import pyaedt"
   ]
  },
  {
   "cell_type": "code",
   "execution_count": 3,
   "id": "f9170b6f",
   "metadata": {
    "execution": {
     "iopub.execute_input": "2024-09-04T08:17:39.393999Z",
     "iopub.status.busy": "2024-09-04T08:17:39.393999Z",
     "iopub.status.idle": "2024-09-04T08:17:39.425925Z",
     "shell.execute_reply": "2024-09-04T08:17:39.425321Z"
    }
   },
   "outputs": [],
   "source": [
    "import pyedb\n",
    "from pyedb.misc.downloads import download_file"
   ]
  },
  {
   "cell_type": "markdown",
   "id": "87a5278c",
   "metadata": {},
   "source": [
    "### Download file\n",
    "\n",
    "Download the AEDB file and copy it in the temporary folder."
   ]
  },
  {
   "cell_type": "code",
   "execution_count": 4,
   "id": "0e622e86",
   "metadata": {
    "execution": {
     "iopub.execute_input": "2024-09-04T08:17:39.425925Z",
     "iopub.status.busy": "2024-09-04T08:17:39.425925Z",
     "iopub.status.idle": "2024-09-04T08:17:45.963581Z",
     "shell.execute_reply": "2024-09-04T08:17:45.963581Z"
    }
   },
   "outputs": [
    {
     "name": "stdout",
     "output_type": "stream",
     "text": [
      "C:\\Users\\ansys\\AppData\\Local\\Temp\\tmpeqymk9hm.ansys\\edb/ANSYS-HSD_V1.aedb\n"
     ]
    }
   ],
   "source": [
    "temp_dir = tempfile.TemporaryDirectory(suffix=\".ansys\")\n",
    "edb_full_path = download_file(\"edb/ANSYS-HSD_V1.aedb\", destination=temp_dir.name)\n",
    "time.sleep(5)\n",
    "\n",
    "print(edb_full_path)"
   ]
  },
  {
   "cell_type": "markdown",
   "id": "5904b460",
   "metadata": {},
   "source": [
    "### Configure EDB\n",
    "\n",
    "Create an instance of the ``pyedb.Edb`` class."
   ]
  },
  {
   "cell_type": "code",
   "execution_count": 5,
   "id": "8715de71",
   "metadata": {
    "execution": {
     "iopub.execute_input": "2024-09-04T08:17:45.963581Z",
     "iopub.status.busy": "2024-09-04T08:17:45.963581Z",
     "iopub.status.idle": "2024-09-04T08:17:58.599027Z",
     "shell.execute_reply": "2024-09-04T08:17:58.599027Z"
    }
   },
   "outputs": [
    {
     "name": "stdout",
     "output_type": "stream",
     "text": [
      "EDB version: 2024.2\n"
     ]
    },
    {
     "name": "stdout",
     "output_type": "stream",
     "text": [
      "PyAEDT INFO: Logger is initialized in EDB.\n"
     ]
    },
    {
     "name": "stdout",
     "output_type": "stream",
     "text": [
      "PyAEDT INFO: legacy v0.26.3\n"
     ]
    },
    {
     "name": "stdout",
     "output_type": "stream",
     "text": [
      "PyAEDT INFO: Python version 3.10.11 (tags/v3.10.11:7d4cc5a, Apr  5 2023, 00:38:17) [MSC v.1929 64 bit (AMD64)]\n"
     ]
    },
    {
     "name": "stdout",
     "output_type": "stream",
     "text": [
      "PyAEDT INFO: Database ANSYS-HSD_V1.aedb Opened in 2024.2\n"
     ]
    },
    {
     "name": "stdout",
     "output_type": "stream",
     "text": [
      "PyAEDT INFO: Cell main Opened\n"
     ]
    },
    {
     "name": "stdout",
     "output_type": "stream",
     "text": [
      "PyAEDT INFO: Builder was initialized.\n"
     ]
    },
    {
     "name": "stdout",
     "output_type": "stream",
     "text": [
      "PyAEDT INFO: EDB initialized.\n"
     ]
    }
   ],
   "source": [
    "# Select EDB version (change it manually if needed, e.g. \"2024.2\")\n",
    "edb_version = \"2024.2\"\n",
    "print(f\"EDB version: {edb_version}\")\n",
    "\n",
    "edbapp = pyedb.Edb(edbpath=edb_full_path, edbversion=edb_version)"
   ]
  },
  {
   "cell_type": "markdown",
   "id": "8cea8527",
   "metadata": {},
   "source": [
    "### Generate extended nets\n",
    "\n",
    "An extended net consists of two nets that are connected\n",
    "through a passive component such as a resistor or capacitor."
   ]
  },
  {
   "cell_type": "code",
   "execution_count": 6,
   "id": "2b63c583",
   "metadata": {
    "execution": {
     "iopub.execute_input": "2024-09-04T08:17:58.599027Z",
     "iopub.status.busy": "2024-09-04T08:17:58.599027Z",
     "iopub.status.idle": "2024-09-04T08:17:59.724095Z",
     "shell.execute_reply": "2024-09-04T08:17:59.724095Z"
    }
   },
   "outputs": [],
   "source": [
    "all_nets = edbapp.extended_nets.auto_identify_signal(resistor_below=10, inductor_below=1, capacitor_above=1e-9)"
   ]
  },
  {
   "cell_type": "markdown",
   "id": "e2d234f9",
   "metadata": {},
   "source": [
    "Review the properties of extended nets."
   ]
  },
  {
   "cell_type": "code",
   "execution_count": 7,
   "id": "f0c0f95d",
   "metadata": {
    "execution": {
     "iopub.execute_input": "2024-09-04T08:17:59.724095Z",
     "iopub.status.busy": "2024-09-04T08:17:59.724095Z",
     "iopub.status.idle": "2024-09-04T08:17:59.755301Z",
     "shell.execute_reply": "2024-09-04T08:17:59.755301Z"
    }
   },
   "outputs": [
    {
     "name": "stdout",
     "output_type": "stream",
     "text": [
      "['U1', 'C379', 'X1']\n",
      "['C379']\n",
      "['U1', 'C380', 'X1']\n",
      "['C380']\n"
     ]
    }
   ],
   "source": [
    "diff_p = edbapp.nets[\"PCIe_Gen4_TX3_CAP_P\"]\n",
    "diff_n = edbapp.nets[\"PCIe_Gen4_TX3_CAP_N\"]\n",
    "\n",
    "nets_p = list(diff_p.extended_net.nets.keys())\n",
    "nets_n = list(diff_n.extended_net.nets.keys())\n",
    "\n",
    "comp_p = list(diff_p.extended_net.components.keys())\n",
    "comp_n = list(diff_n.extended_net.components.keys())\n",
    "\n",
    "rlc_p = list(diff_p.extended_net.rlc.keys())\n",
    "rlc_n = list(diff_n.extended_net.rlc.keys())\n",
    "\n",
    "print(comp_p, rlc_p, comp_n, rlc_n, sep=\"\\n\")"
   ]
  },
  {
   "cell_type": "markdown",
   "id": "77c09824",
   "metadata": {},
   "source": [
    "Prepare input data for port creation."
   ]
  },
  {
   "cell_type": "code",
   "execution_count": 8,
   "id": "b2ab3a13",
   "metadata": {
    "execution": {
     "iopub.execute_input": "2024-09-04T08:17:59.755301Z",
     "iopub.status.busy": "2024-09-04T08:17:59.755301Z",
     "iopub.status.idle": "2024-09-04T08:17:59.786597Z",
     "shell.execute_reply": "2024-09-04T08:17:59.786597Z"
    }
   },
   "outputs": [
    {
     "name": "stdout",
     "output_type": "stream",
     "text": [
      "{'port_name': 'U1_PCIe_Gen4_TX3_CAP_P', 'comp_name': 'U1', 'net_name': 'PCIe_Gen4_TX3_CAP_P'}\n",
      "{'port_name': 'X1_PCIe_Gen4_TX3_P', 'comp_name': 'X1', 'net_name': 'PCIe_Gen4_TX3_P'}\n",
      "{'port_name': 'U1_PCIe_Gen4_TX3_CAP_N', 'comp_name': 'U1', 'net_name': 'PCIe_Gen4_TX3_CAP_N'}\n",
      "{'port_name': 'X1_PCIe_Gen4_TX3_N', 'comp_name': 'X1', 'net_name': 'PCIe_Gen4_TX3_N'}\n"
     ]
    }
   ],
   "source": [
    "ports = []\n",
    "for net_name, net_obj in diff_p.extended_net.nets.items():\n",
    "    for comp_name, comp_obj in net_obj.components.items():\n",
    "        if comp_obj.type not in [\"Resistor\", \"Capacitor\", \"Inductor\"]:\n",
    "            ports.append(\n",
    "                {\n",
    "                    \"port_name\": \"{}_{}\".format(comp_name, net_name),\n",
    "                    \"comp_name\": comp_name,\n",
    "                    \"net_name\": net_name,\n",
    "                }\n",
    "            )\n",
    "\n",
    "for net_name, net_obj in diff_n.extended_net.nets.items():\n",
    "    for comp_name, comp_obj in net_obj.components.items():\n",
    "        if comp_obj.type not in [\"Resistor\", \"Capacitor\", \"Inductor\"]:\n",
    "            ports.append(\n",
    "                {\n",
    "                    \"port_name\": \"{}_{}\".format(comp_name, net_name),\n",
    "                    \"comp_name\": comp_name,\n",
    "                    \"net_name\": net_name,\n",
    "                }\n",
    "            )\n",
    "\n",
    "print(*ports, sep=\"\\n\")"
   ]
  },
  {
   "cell_type": "markdown",
   "id": "db495fa1",
   "metadata": {},
   "source": [
    "### Create ports\n",
    "\n",
    "Solder balls are generated automatically. The default port type is coax port."
   ]
  },
  {
   "cell_type": "code",
   "execution_count": 9,
   "id": "20f5fd47",
   "metadata": {
    "execution": {
     "iopub.execute_input": "2024-09-04T08:17:59.786597Z",
     "iopub.status.busy": "2024-09-04T08:17:59.786597Z",
     "iopub.status.idle": "2024-09-04T08:18:00.192850Z",
     "shell.execute_reply": "2024-09-04T08:18:00.192850Z"
    }
   },
   "outputs": [],
   "source": [
    "for d in ports:\n",
    "    port_name = d[\"port_name\"]\n",
    "    comp_name = d[\"comp_name\"]\n",
    "    net_name = d[\"net_name\"]\n",
    "    edbapp.components.create_port_on_component(component=comp_name, net_list=net_name, port_name=port_name)"
   ]
  },
  {
   "cell_type": "markdown",
   "id": "d11495de",
   "metadata": {},
   "source": [
    "### Cutout\n",
    "\n",
    "Retain only relevant parts of the layout."
   ]
  },
  {
   "cell_type": "code",
   "execution_count": 10,
   "id": "afa47f26",
   "metadata": {
    "execution": {
     "iopub.execute_input": "2024-09-04T08:18:00.192850Z",
     "iopub.status.busy": "2024-09-04T08:18:00.192850Z",
     "iopub.status.idle": "2024-09-04T08:18:09.788377Z",
     "shell.execute_reply": "2024-09-04T08:18:09.788377Z"
    }
   },
   "outputs": [
    {
     "name": "stdout",
     "output_type": "stream",
     "text": [
      "PyAEDT INFO: Cutout Multithread started.\n"
     ]
    },
    {
     "name": "stdout",
     "output_type": "stream",
     "text": [
      "PyAEDT INFO: Net clean up Elapsed time: 0m 4sec\n"
     ]
    },
    {
     "name": "stdout",
     "output_type": "stream",
     "text": [
      "PyAEDT INFO: Expanded Net Polygon Creation Elapsed time: 0m 0sec\n"
     ]
    },
    {
     "name": "stdout",
     "output_type": "stream",
     "text": [
      "PyAEDT INFO: Padstack Instances removal completed. 1907 instances removed. Elapsed time: 0m 1sec\n"
     ]
    },
    {
     "name": "stdout",
     "output_type": "stream",
     "text": [
      "PyAEDT INFO: Primitives cleanup completed. 438 primitives deleted. Elapsed time: 0m 4sec\n"
     ]
    },
    {
     "name": "stdout",
     "output_type": "stream",
     "text": [
      "PyAEDT INFO: Deleted 968 additional components\n"
     ]
    },
    {
     "name": "stdout",
     "output_type": "stream",
     "text": [
      "PyAEDT INFO: Cutout completed. Elapsed time: 0m 10sec\n"
     ]
    },
    {
     "data": {
      "text/plain": [
       "[[0.016139999279999998, 0.05419999847],\n",
       " [0.016139999279999998, 0.03255000329],\n",
       " [0.06875000112, 0.03255000329],\n",
       " [0.06875000112, 0.05419999847]]"
      ]
     },
     "execution_count": 10,
     "metadata": {},
     "output_type": "execute_result"
    }
   ],
   "source": [
    "nets = []\n",
    "nets.extend(nets_p)\n",
    "nets.extend(nets_n)\n",
    "edbapp.cutout(signal_list=nets, reference_list=[\"GND\"], extent_type=\"Bounding\")"
   ]
  },
  {
   "cell_type": "markdown",
   "id": "fc319b80",
   "metadata": {},
   "source": [
    "Set up the model for network analysis in SIwave."
   ]
  },
  {
   "cell_type": "code",
   "execution_count": 11,
   "id": "b4883680",
   "metadata": {
    "execution": {
     "iopub.execute_input": "2024-09-04T08:18:09.788377Z",
     "iopub.status.busy": "2024-09-04T08:18:09.788377Z",
     "iopub.status.idle": "2024-09-04T08:18:09.866498Z",
     "shell.execute_reply": "2024-09-04T08:18:09.866498Z"
    }
   },
   "outputs": [
    {
     "data": {
      "text/plain": [
       "<pyedb.dotnet.edb_core.sim_setup_data.data.sweep_data.SweepData at 0x3037093f8b0>"
      ]
     },
     "execution_count": 11,
     "metadata": {},
     "output_type": "execute_result"
    }
   ],
   "source": [
    "setup = edbapp.create_siwave_syz_setup(\"setup1\")\n",
    "setup.add_frequency_sweep(\n",
    "    frequency_sweep=[\n",
    "        [\"linear count\", \"0\", \"1kHz\", 1],\n",
    "        [\"log scale\", \"1kHz\", \"0.1GHz\", 10],\n",
    "        [\"linear scale\", \"0.1GHz\", \"10GHz\", \"0.1GHz\"],\n",
    "    ]\n",
    ")"
   ]
  },
  {
   "cell_type": "markdown",
   "id": "3a384f99",
   "metadata": {},
   "source": [
    "Save and close the EDB."
   ]
  },
  {
   "cell_type": "code",
   "execution_count": 12,
   "id": "446a7fe5",
   "metadata": {
    "execution": {
     "iopub.execute_input": "2024-09-04T08:18:09.866498Z",
     "iopub.status.busy": "2024-09-04T08:18:09.866498Z",
     "iopub.status.idle": "2024-09-04T08:18:10.054046Z",
     "shell.execute_reply": "2024-09-04T08:18:10.054046Z"
    }
   },
   "outputs": [
    {
     "name": "stdout",
     "output_type": "stream",
     "text": [
      "PyAEDT INFO: EDB file release time: 0.00ms\n"
     ]
    },
    {
     "data": {
      "text/plain": [
       "True"
      ]
     },
     "execution_count": 12,
     "metadata": {},
     "output_type": "execute_result"
    }
   ],
   "source": [
    "edbapp.save()\n",
    "edbapp.close_edb()"
   ]
  },
  {
   "cell_type": "markdown",
   "id": "13b6e0d1",
   "metadata": {},
   "source": [
    "### Launch Hfss3dLayout\n",
    "\n",
    "The HFSS 3D Layout user interface in AEDT is used to import the EDB and\n",
    "run the analysis. AEDT 3D Layout can be used to view the model\n",
    "if it is launched in graphical mode."
   ]
  },
  {
   "cell_type": "code",
   "execution_count": 13,
   "id": "beb30cbf",
   "metadata": {
    "execution": {
     "iopub.execute_input": "2024-09-04T08:18:10.054046Z",
     "iopub.status.busy": "2024-09-04T08:18:10.054046Z",
     "iopub.status.idle": "2024-09-04T08:18:42.842476Z",
     "shell.execute_reply": "2024-09-04T08:18:42.842476Z"
    }
   },
   "outputs": [
    {
     "name": "stdout",
     "output_type": "stream",
     "text": [
      "PyAEDT WARNING: Argument `specified_version` is deprecated for method `__init__`; use `version` instead.\n"
     ]
    },
    {
     "name": "stdout",
     "output_type": "stream",
     "text": [
      "PyAEDT WARNING: Argument `new_desktop_session` is deprecated for method `__init__`; use `new_desktop` instead.\n"
     ]
    },
    {
     "name": "stdout",
     "output_type": "stream",
     "text": [
      "PyAEDT INFO: Python version 3.10.11 (tags/v3.10.11:7d4cc5a, Apr  5 2023, 00:38:17) [MSC v.1929 64 bit (AMD64)]\n"
     ]
    },
    {
     "name": "stdout",
     "output_type": "stream",
     "text": [
      "PyAEDT INFO: PyAEDT version 0.11.dev0.\n"
     ]
    },
    {
     "name": "stdout",
     "output_type": "stream",
     "text": [
      "PyAEDT INFO: Initializing new Desktop session.\n"
     ]
    },
    {
     "name": "stdout",
     "output_type": "stream",
     "text": [
      "PyAEDT INFO: Log on console is enabled.\n"
     ]
    },
    {
     "name": "stdout",
     "output_type": "stream",
     "text": [
      "PyAEDT INFO: Log on file C:\\Users\\ansys\\AppData\\Local\\Temp\\pyaedt_ansys_3669a813-645d-4fe9-891d-1f74f10cb08d.log is enabled.\n"
     ]
    },
    {
     "name": "stdout",
     "output_type": "stream",
     "text": [
      "PyAEDT INFO: Log on AEDT is enabled.\n"
     ]
    },
    {
     "name": "stdout",
     "output_type": "stream",
     "text": [
      "PyAEDT INFO: Debug logger is disabled. PyAEDT methods will not be logged.\n"
     ]
    },
    {
     "name": "stdout",
     "output_type": "stream",
     "text": [
      "PyAEDT INFO: Launching PyAEDT with gRPC plugin.\n"
     ]
    },
    {
     "name": "stdout",
     "output_type": "stream",
     "text": [
      "PyAEDT INFO: New AEDT session is starting on gRPC port 63711\n"
     ]
    },
    {
     "name": "stdout",
     "output_type": "stream",
     "text": [
      "PyAEDT INFO: AEDT installation Path C:\\Program Files\\AnsysEM\\v242\\Win64\n"
     ]
    },
    {
     "name": "stdout",
     "output_type": "stream",
     "text": [
      "PyAEDT INFO: Ansoft.ElectronicsDesktop.2024.2 version started with process ID 6228.\n"
     ]
    },
    {
     "name": "stdout",
     "output_type": "stream",
     "text": [
      "PyAEDT INFO: EDB folder C:\\Users\\ansys\\AppData\\Local\\Temp\\tmpeqymk9hm.ansys\\edb/ANSYS-HSD_V1.aedb has been imported to project ANSYS-HSD_V1\n"
     ]
    },
    {
     "name": "stdout",
     "output_type": "stream",
     "text": [
      "PyAEDT INFO: Active Design set to 0;main\n"
     ]
    },
    {
     "name": "stdout",
     "output_type": "stream",
     "text": [
      "PyAEDT INFO: Aedt Objects correctly read\n"
     ]
    }
   ],
   "source": [
    "h3d = pyaedt.Hfss3dLayout(\n",
    "    edb_full_path,\n",
    "    specified_version=\"2024.2\",\n",
    "    non_graphical=False,  # Set to true for non-graphical mode.\n",
    "    new_desktop_session=True,\n",
    ")"
   ]
  },
  {
   "cell_type": "markdown",
   "id": "d63b2a92",
   "metadata": {},
   "source": [
    "Define the differential pair."
   ]
  },
  {
   "cell_type": "code",
   "execution_count": 14,
   "id": "32ba0587",
   "metadata": {
    "execution": {
     "iopub.execute_input": "2024-09-04T08:18:42.842476Z",
     "iopub.status.busy": "2024-09-04T08:18:42.842476Z",
     "iopub.status.idle": "2024-09-04T08:18:42.890533Z",
     "shell.execute_reply": "2024-09-04T08:18:42.890533Z"
    }
   },
   "outputs": [
    {
     "name": "stdout",
     "output_type": "stream",
     "text": [
      "PyAEDT WARNING: Argument `positive_terminal` is deprecated for method `set_differential_pair`; use `assignment` instead.\n"
     ]
    },
    {
     "name": "stdout",
     "output_type": "stream",
     "text": [
      "PyAEDT WARNING: Argument `negative_terminal` is deprecated for method `set_differential_pair`; use `reference` instead.\n"
     ]
    },
    {
     "name": "stdout",
     "output_type": "stream",
     "text": [
      "PyAEDT WARNING: Argument `diff_name` is deprecated for method `set_differential_pair`; use `differential_mode` instead.\n"
     ]
    },
    {
     "name": "stdout",
     "output_type": "stream",
     "text": [
      "PyAEDT WARNING: Argument `positive_terminal` is deprecated for method `set_differential_pair`; use `assignment` instead.\n"
     ]
    },
    {
     "name": "stdout",
     "output_type": "stream",
     "text": [
      "PyAEDT WARNING: Argument `negative_terminal` is deprecated for method `set_differential_pair`; use `reference` instead.\n"
     ]
    },
    {
     "name": "stdout",
     "output_type": "stream",
     "text": [
      "PyAEDT WARNING: Argument `diff_name` is deprecated for method `set_differential_pair`; use `differential_mode` instead.\n"
     ]
    },
    {
     "data": {
      "text/plain": [
       "True"
      ]
     },
     "execution_count": 14,
     "metadata": {},
     "output_type": "execute_result"
    }
   ],
   "source": [
    "h3d.set_differential_pair(\n",
    "    positive_terminal=\"U1_PCIe_Gen4_TX3_CAP_P\",\n",
    "    negative_terminal=\"U1_PCIe_Gen4_TX3_CAP_N\",\n",
    "    diff_name=\"PAIR_U1\",\n",
    ")\n",
    "h3d.set_differential_pair(\n",
    "    positive_terminal=\"X1_PCIe_Gen4_TX3_P\",\n",
    "    negative_terminal=\"X1_PCIe_Gen4_TX3_N\",\n",
    "    diff_name=\"PAIR_X1\",\n",
    ")"
   ]
  },
  {
   "cell_type": "markdown",
   "id": "afdb6fbe",
   "metadata": {},
   "source": [
    "Solve and plot the results."
   ]
  },
  {
   "cell_type": "code",
   "execution_count": 15,
   "id": "7bf68bb6",
   "metadata": {
    "execution": {
     "iopub.execute_input": "2024-09-04T08:18:42.890533Z",
     "iopub.status.busy": "2024-09-04T08:18:42.890533Z",
     "iopub.status.idle": "2024-09-04T08:19:09.779597Z",
     "shell.execute_reply": "2024-09-04T08:19:09.779597Z"
    }
   },
   "outputs": [
    {
     "name": "stdout",
     "output_type": "stream",
     "text": [
      "PyAEDT WARNING: Argument `num_cores` is deprecated for method `analyze`; use `cores` instead.\n"
     ]
    },
    {
     "name": "stdout",
     "output_type": "stream",
     "text": [
      "PyAEDT INFO: Key Desktop/ActiveDSOConfigurations/HFSS 3D Layout Design correctly changed.\n"
     ]
    },
    {
     "name": "stdout",
     "output_type": "stream",
     "text": [
      "PyAEDT INFO: Solving all design setups.\n"
     ]
    },
    {
     "name": "stdout",
     "output_type": "stream",
     "text": [
      "PyAEDT INFO: Key Desktop/ActiveDSOConfigurations/HFSS 3D Layout Design correctly changed.\n"
     ]
    },
    {
     "name": "stdout",
     "output_type": "stream",
     "text": [
      "PyAEDT INFO: Design setup None solved correctly in 0.0h 0.0m 27.0s\n"
     ]
    },
    {
     "data": {
      "text/plain": [
       "True"
      ]
     },
     "execution_count": 15,
     "metadata": {},
     "output_type": "execute_result"
    }
   ],
   "source": [
    "h3d.analyze(num_cores=4)"
   ]
  },
  {
   "cell_type": "markdown",
   "id": "aa61a07f",
   "metadata": {},
   "source": [
    "Visualze the results."
   ]
  },
  {
   "cell_type": "code",
   "execution_count": 16,
   "id": "3d79ae91",
   "metadata": {
    "execution": {
     "iopub.execute_input": "2024-09-04T08:19:09.779597Z",
     "iopub.status.busy": "2024-09-04T08:19:09.779597Z",
     "iopub.status.idle": "2024-09-04T08:19:10.506382Z",
     "shell.execute_reply": "2024-09-04T08:19:10.505206Z"
    }
   },
   "outputs": [
    {
     "name": "stdout",
     "output_type": "stream",
     "text": [
      "PyAEDT INFO: Parsing C:/Users/ansys/AppData/Local/Temp/tmpeqymk9hm.ansys/edb/ANSYS-HSD_V1.aedt.\n"
     ]
    },
    {
     "name": "stdout",
     "output_type": "stream",
     "text": [
      "PyAEDT INFO: File C:/Users/ansys/AppData/Local/Temp/tmpeqymk9hm.ansys/edb/ANSYS-HSD_V1.aedt correctly loaded. Elapsed time: 0m 0sec\n"
     ]
    },
    {
     "name": "stdout",
     "output_type": "stream",
     "text": [
      "PyAEDT INFO: aedt file load time 0.06250905990600586\n"
     ]
    },
    {
     "name": "stdout",
     "output_type": "stream",
     "text": [
      "PyAEDT INFO: Loading Modeler.\n"
     ]
    },
    {
     "name": "stdout",
     "output_type": "stream",
     "text": [
      "PyAEDT INFO: Modeler loaded.\n"
     ]
    },
    {
     "name": "stdout",
     "output_type": "stream",
     "text": [
      "PyAEDT INFO: EDB loaded.\n"
     ]
    },
    {
     "name": "stdout",
     "output_type": "stream",
     "text": [
      "PyAEDT INFO: Layers loaded.\n"
     ]
    },
    {
     "name": "stdout",
     "output_type": "stream",
     "text": [
      "PyAEDT INFO: Primitives loaded.\n"
     ]
    },
    {
     "name": "stdout",
     "output_type": "stream",
     "text": [
      "PyAEDT INFO: Modeler class has been initialized! Elapsed time: 0m 0sec\n"
     ]
    },
    {
     "name": "stdout",
     "output_type": "stream",
     "text": [
      "PyAEDT INFO: PostProcessor class has been initialized! Elapsed time: 0m 0sec\n"
     ]
    },
    {
     "name": "stdout",
     "output_type": "stream",
     "text": [
      "PyAEDT INFO: Post class has been initialized! Elapsed time: 0m 0sec\n"
     ]
    },
    {
     "data": {
      "text/plain": [
       "<ansys.aedt.core.modules.report_templates.Standard at 0x30359b65930>"
      ]
     },
     "execution_count": 16,
     "metadata": {},
     "output_type": "execute_result"
    }
   ],
   "source": [
    "h3d.post.create_report(\"dB(S(PAIR_U1,PAIR_U1))\", context=\"Differential Pairs\")"
   ]
  },
  {
   "cell_type": "markdown",
   "id": "4928344c",
   "metadata": {},
   "source": [
    "Close AEDT."
   ]
  },
  {
   "cell_type": "code",
   "execution_count": 17,
   "id": "e61c40b5",
   "metadata": {
    "execution": {
     "iopub.execute_input": "2024-09-04T08:19:10.506382Z",
     "iopub.status.busy": "2024-09-04T08:19:10.506382Z",
     "iopub.status.idle": "2024-09-04T08:19:13.934240Z",
     "shell.execute_reply": "2024-09-04T08:19:13.934240Z"
    }
   },
   "outputs": [
    {
     "name": "stdout",
     "output_type": "stream",
     "text": [
      "PyAEDT INFO: Project ANSYS-HSD_V1 Saved correctly\n"
     ]
    },
    {
     "name": "stdout",
     "output_type": "stream",
     "text": [
      "Project is saved to C:/Users/ansys/AppData/Local/Temp/tmpeqymk9hm.ansys/edb/\n"
     ]
    },
    {
     "name": "stdout",
     "output_type": "stream",
     "text": [
      "PyAEDT INFO: Desktop has been released and closed.\n"
     ]
    },
    {
     "data": {
      "text/plain": [
       "True"
      ]
     },
     "execution_count": 17,
     "metadata": {},
     "output_type": "execute_result"
    }
   ],
   "source": [
    "h3d.save_project()\n",
    "print(\"Project is saved to {}\".format(h3d.project_path))\n",
    "h3d.release_desktop(True, True)"
   ]
  },
  {
   "cell_type": "markdown",
   "id": "3fb994e0",
   "metadata": {},
   "source": [
    "The following cell cleans up the temporary directory and removes all project data."
   ]
  },
  {
   "cell_type": "code",
   "execution_count": 18,
   "id": "2ccba057",
   "metadata": {
    "execution": {
     "iopub.execute_input": "2024-09-04T08:19:13.934240Z",
     "iopub.status.busy": "2024-09-04T08:19:13.934240Z",
     "iopub.status.idle": "2024-09-04T08:19:13.949863Z",
     "shell.execute_reply": "2024-09-04T08:19:13.949863Z"
    }
   },
   "outputs": [],
   "source": [
    "temp_dir.cleanup()"
   ]
  }
 ],
 "metadata": {
  "jupytext": {
   "cell_metadata_filter": "-all",
   "main_language": "python",
   "notebook_metadata_filter": "-all",
   "text_representation": {
    "extension": ".py",
    "format_name": "light"
   }
  },
  "language_info": {
   "codemirror_mode": {
    "name": "ipython",
    "version": 3
   },
   "file_extension": ".py",
   "mimetype": "text/x-python",
   "name": "python",
   "nbconvert_exporter": "python",
   "pygments_lexer": "ipython3",
   "version": "3.10.11"
  }
 },
 "nbformat": 4,
 "nbformat_minor": 5
}
