{
 "cells": [
  {
   "cell_type": "markdown",
   "id": "fb03c71e",
   "metadata": {},
   "source": [
    "# EDB: Layout Creation and Setup\n",
    "\n",
    "This example demonstrates how to to\n",
    "\n",
    "1. Create a layout layer stackup.\n",
    "2. Define padstacks.\n",
    "3. Place padstack instances in the layout where the connectors are located.\n",
    "4. Create primitives such as polygons and traces.\n",
    "5. Create \"components\" from the padstack definitions using \"pins\".\n",
    " >The \"component\" in EDB acts as a placeholder to enable automatic\n",
    "  >placement of electrical models, or\n",
    "  >as in this example to assign ports.  In many\n",
    "  >cases the EDB is imported from a 3rd party layout, in which case the\n",
    "  >concept of a \"component\" as a placeholder is needed to map\n",
    "  >models to the components on the PCB for later use in the\n",
    "  >simulation.\n",
    "7. Create the HFSS simulation setup and assign ports where the connectors are located."
   ]
  },
  {
   "cell_type": "markdown",
   "id": "8f388ba9",
   "metadata": {},
   "source": [
    "## View PCB trace model\n",
    "\n",
    "Here is an image of the model that is created in this example.\n",
    "\n",
    "<img src=\"_static/connector_example.png\" width=\"600\">\n",
    "\n",
    "The rectangular sheets at each end of the PCB enable placement of ports where the connectors\n",
    "are located."
   ]
  },
  {
   "cell_type": "markdown",
   "id": "68b9c99a",
   "metadata": {},
   "source": [
    "Initialize the EDB layout object."
   ]
  },
  {
   "cell_type": "code",
   "execution_count": 1,
   "id": "51d871d1",
   "metadata": {
    "execution": {
     "iopub.execute_input": "2024-09-04T08:15:32.280090Z",
     "iopub.status.busy": "2024-09-04T08:15:32.280090Z",
     "iopub.status.idle": "2024-09-04T08:15:45.003871Z",
     "shell.execute_reply": "2024-09-04T08:15:45.003871Z"
    }
   },
   "outputs": [
    {
     "name": "stdout",
     "output_type": "stream",
     "text": [
      "FutureWarning: Module 'pyaedt' has become an alias to the new package structure. Please update you imports to use the new architecture based on 'ansys.aedt.core'. In addition, some files have been renamed to follow the PEP 8 naming convention. The old structure and file names will be deprecated in future versions, see https://aedt.docs.pyansys.com/version/stable/release_1_0.html\n",
      "EDB version: 2024.2\n"
     ]
    },
    {
     "name": "stdout",
     "output_type": "stream",
     "text": [
      "PyAEDT INFO: Logger is initialized in EDB.\n"
     ]
    },
    {
     "name": "stdout",
     "output_type": "stream",
     "text": [
      "PyAEDT INFO: legacy v0.26.3\n"
     ]
    },
    {
     "name": "stdout",
     "output_type": "stream",
     "text": [
      "PyAEDT INFO: Python version 3.10.11 (tags/v3.10.11:7d4cc5a, Apr  5 2023, 00:38:17) [MSC v.1929 64 bit (AMD64)]\n"
     ]
    },
    {
     "name": "stdout",
     "output_type": "stream",
     "text": [
      "PyAEDT INFO: EDB C:\\Users\\ansys\\AppData\\Local\\Temp\\tmpke3uaqvh.ansys\\component_example.aedb created correctly.\n"
     ]
    },
    {
     "name": "stdout",
     "output_type": "stream",
     "text": [
      "PyAEDT INFO: EDB initialized.\n"
     ]
    },
    {
     "name": "stdout",
     "output_type": "stream",
     "text": [
      "EDB is located at C:\\Users\\ansys\\AppData\\Local\\Temp\\tmpke3uaqvh.ansys\\component_example.aedb\n"
     ]
    }
   ],
   "source": [
    "import os\n",
    "import tempfile\n",
    "\n",
    "import pyaedt\n",
    "\n",
    "from pyedb import Edb\n",
    "\n",
    "temp_dir = tempfile.TemporaryDirectory(suffix=\".ansys\")\n",
    "aedb_path = os.path.join(temp_dir.name, \"component_example.aedb\")\n",
    "\n",
    "# Select EDB version (change it manually if needed, e.g. \"2024.2\")\n",
    "edb_version = \"2024.2\"\n",
    "print(f\"EDB version: {edb_version}\")\n",
    "\n",
    "edb = Edb(edbpath=aedb_path, edbversion=edb_version)\n",
    "print(\"EDB is located at {}\".format(aedb_path))"
   ]
  },
  {
   "cell_type": "markdown",
   "id": "76add4ba",
   "metadata": {},
   "source": [
    "Initialize variables"
   ]
  },
  {
   "cell_type": "code",
   "execution_count": 2,
   "id": "84c37e64",
   "metadata": {
    "execution": {
     "iopub.execute_input": "2024-09-04T08:15:45.003871Z",
     "iopub.status.busy": "2024-09-04T08:15:45.003871Z",
     "iopub.status.idle": "2024-09-04T08:15:45.019544Z",
     "shell.execute_reply": "2024-09-04T08:15:45.019544Z"
    }
   },
   "outputs": [],
   "source": [
    "layout_count = 12\n",
    "diel_material_name = \"FR4_epoxy\"\n",
    "diel_thickness = \"0.15mm\"\n",
    "cond_thickness_outer = \"0.05mm\"\n",
    "cond_thickness_inner = \"0.017mm\"\n",
    "soldermask_thickness = \"0.05mm\"\n",
    "trace_in_layer = \"TOP\"\n",
    "trace_out_layer = \"L10\"\n",
    "trace_width = \"200um\"\n",
    "connector_size = 2e-3\n",
    "conectors_position = [[0, 0], [10e-3, 0]]"
   ]
  },
  {
   "cell_type": "markdown",
   "id": "dacb33e5",
   "metadata": {},
   "source": [
    "Create the stackup"
   ]
  },
  {
   "cell_type": "code",
   "execution_count": 3,
   "id": "08f261ec",
   "metadata": {
    "execution": {
     "iopub.execute_input": "2024-09-04T08:15:45.019544Z",
     "iopub.status.busy": "2024-09-04T08:15:45.019544Z",
     "iopub.status.idle": "2024-09-04T08:15:45.519502Z",
     "shell.execute_reply": "2024-09-04T08:15:45.519502Z"
    }
   },
   "outputs": [
    {
     "data": {
      "text/plain": [
       "True"
      ]
     },
     "execution_count": 3,
     "metadata": {},
     "output_type": "execute_result"
    }
   ],
   "source": [
    "edb.stackup.create_symmetric_stackup(\n",
    "    layer_count=layout_count,\n",
    "    inner_layer_thickness=cond_thickness_inner,\n",
    "    outer_layer_thickness=cond_thickness_outer,\n",
    "    soldermask_thickness=soldermask_thickness,\n",
    "    dielectric_thickness=diel_thickness,\n",
    "    dielectric_material=diel_material_name,\n",
    ")"
   ]
  },
  {
   "cell_type": "markdown",
   "id": "e455cc66",
   "metadata": {},
   "source": [
    "Create ground planes"
   ]
  },
  {
   "cell_type": "code",
   "execution_count": 4,
   "id": "456fec15",
   "metadata": {
    "execution": {
     "iopub.execute_input": "2024-09-04T08:15:45.519502Z",
     "iopub.status.busy": "2024-09-04T08:15:45.519502Z",
     "iopub.status.idle": "2024-09-04T08:15:45.566378Z",
     "shell.execute_reply": "2024-09-04T08:15:45.566378Z"
    }
   },
   "outputs": [],
   "source": [
    "ground_layers = [\n",
    "    layer_name for layer_name in edb.stackup.signal_layers.keys() if layer_name not in [trace_in_layer, trace_out_layer]\n",
    "]\n",
    "plane_shape = edb.modeler.Shape(\"rectangle\", pointA=[\"-3mm\", \"-3mm\"], pointB=[\"13mm\", \"3mm\"])\n",
    "for i in ground_layers:\n",
    "    edb.modeler.create_polygon(plane_shape, i, net_name=\"VSS\")"
   ]
  },
  {
   "cell_type": "markdown",
   "id": "a17fbb22",
   "metadata": {},
   "source": [
    "### Add design parameters\n",
    "\n",
    "Parameters that are preceded by a _\"$\"_ character have project-wide scope.\n",
    "Therefore, the padstack **definition** and hence all instances of that padstack\n",
    "rely on the parameters.\n",
    "\n",
    "Parameters such as _\"trace_in_width\"_ and _\"trace_out_width\"_ have local scope and\n",
    "are only used in in the design."
   ]
  },
  {
   "cell_type": "code",
   "execution_count": 5,
   "id": "915c50a2",
   "metadata": {
    "execution": {
     "iopub.execute_input": "2024-09-04T08:15:45.566378Z",
     "iopub.status.busy": "2024-09-04T08:15:45.566378Z",
     "iopub.status.idle": "2024-09-04T08:15:45.597630Z",
     "shell.execute_reply": "2024-09-04T08:15:45.597630Z"
    }
   },
   "outputs": [
    {
     "data": {
      "text/plain": [
       "(True, <Ansys.Ansoft.Edb.Utility.VariableServer object at 0x000002A5441F65F0>)"
      ]
     },
     "execution_count": 5,
     "metadata": {},
     "output_type": "execute_result"
    }
   ],
   "source": [
    "edb.add_design_variable(\"$via_hole_size\", \"0.3mm\")\n",
    "edb.add_design_variable(\"$antipaddiam\", \"0.7mm\")\n",
    "edb.add_design_variable(\"$paddiam\", \"0.5mm\")\n",
    "edb.add_design_variable(\"trace_in_width\", \"0.2mm\", is_parameter=True)\n",
    "edb.add_design_variable(\"trace_out_width\", \"0.1mm\", is_parameter=True)"
   ]
  },
  {
   "cell_type": "markdown",
   "id": "8e431e73",
   "metadata": {},
   "source": [
    "### Create the connector component\n",
    "\n",
    "The component definition is used to place the connector on the PCB. First define the padstacks."
   ]
  },
  {
   "cell_type": "code",
   "execution_count": 6,
   "id": "cefe0f31",
   "metadata": {
    "execution": {
     "iopub.execute_input": "2024-09-04T08:15:45.597630Z",
     "iopub.status.busy": "2024-09-04T08:15:45.597630Z",
     "iopub.status.idle": "2024-09-04T08:15:45.644511Z",
     "shell.execute_reply": "2024-09-04T08:15:45.644511Z"
    }
   },
   "outputs": [
    {
     "name": "stdout",
     "output_type": "stream",
     "text": [
      "PyAEDT INFO: Padstack Via create correctly\n"
     ]
    },
    {
     "data": {
      "text/plain": [
       "'Via'"
      ]
     },
     "execution_count": 6,
     "metadata": {},
     "output_type": "execute_result"
    }
   ],
   "source": [
    "edb.padstacks.create_padstack(\n",
    "    padstackname=\"Via\", holediam=\"$via_hole_size\", antipaddiam=\"$antipaddiam\", paddiam=\"$paddiam\"\n",
    ")"
   ]
  },
  {
   "cell_type": "markdown",
   "id": "cc3042fb",
   "metadata": {},
   "source": [
    "Create the first connector"
   ]
  },
  {
   "cell_type": "code",
   "execution_count": 7,
   "id": "25c9dd58",
   "metadata": {
    "execution": {
     "iopub.execute_input": "2024-09-04T08:15:45.644511Z",
     "iopub.status.busy": "2024-09-04T08:15:45.644511Z",
     "iopub.status.idle": "2024-09-04T08:15:45.707048Z",
     "shell.execute_reply": "2024-09-04T08:15:45.707048Z"
    }
   },
   "outputs": [],
   "source": [
    "component1_pins = [\n",
    "    edb.padstacks.place_padstack(\n",
    "        conectors_position[0],\n",
    "        \"Via\",\n",
    "        net_name=\"VDD\",\n",
    "        fromlayer=trace_in_layer,\n",
    "        tolayer=trace_out_layer,\n",
    "    ),\n",
    "    edb.padstacks.place_padstack(\n",
    "        [\n",
    "            conectors_position[0][0] - connector_size / 2,\n",
    "            conectors_position[0][1] - connector_size / 2,\n",
    "        ],\n",
    "        \"Via\",\n",
    "        net_name=\"VSS\",\n",
    "    ),\n",
    "    edb.padstacks.place_padstack(\n",
    "        [\n",
    "            conectors_position[0][0] + connector_size / 2,\n",
    "            conectors_position[0][1] - connector_size / 2,\n",
    "        ],\n",
    "        \"Via\",\n",
    "        net_name=\"VSS\",\n",
    "    ),\n",
    "    edb.padstacks.place_padstack(\n",
    "        [\n",
    "            conectors_position[0][0] + connector_size / 2,\n",
    "            conectors_position[0][1] + connector_size / 2,\n",
    "        ],\n",
    "        \"Via\",\n",
    "        net_name=\"VSS\",\n",
    "    ),\n",
    "    edb.padstacks.place_padstack(\n",
    "        [\n",
    "            conectors_position[0][0] - connector_size / 2,\n",
    "            conectors_position[0][1] + connector_size / 2,\n",
    "        ],\n",
    "        \"Via\",\n",
    "        net_name=\"VSS\",\n",
    "    ),\n",
    "]"
   ]
  },
  {
   "cell_type": "markdown",
   "id": "57dbf70a",
   "metadata": {},
   "source": [
    "Create the second connector"
   ]
  },
  {
   "cell_type": "code",
   "execution_count": 8,
   "id": "ec2c06f2",
   "metadata": {
    "execution": {
     "iopub.execute_input": "2024-09-04T08:15:45.707048Z",
     "iopub.status.busy": "2024-09-04T08:15:45.707048Z",
     "iopub.status.idle": "2024-09-04T08:15:45.785132Z",
     "shell.execute_reply": "2024-09-04T08:15:45.785132Z"
    }
   },
   "outputs": [],
   "source": [
    "component2_pins = [\n",
    "    edb.padstacks.place_padstack(\n",
    "        conectors_position[-1],\n",
    "        \"Via\",\n",
    "        net_name=\"VDD\",\n",
    "        fromlayer=trace_in_layer,\n",
    "        tolayer=trace_out_layer,\n",
    "    ),\n",
    "    edb.padstacks.place_padstack(\n",
    "        [\n",
    "            conectors_position[1][0] - connector_size / 2,\n",
    "            conectors_position[1][1] - connector_size / 2,\n",
    "        ],\n",
    "        \"Via\",\n",
    "        net_name=\"VSS\",\n",
    "    ),\n",
    "    edb.padstacks.place_padstack(\n",
    "        [\n",
    "            conectors_position[1][0] + connector_size / 2,\n",
    "            conectors_position[1][1] - connector_size / 2,\n",
    "        ],\n",
    "        \"Via\",\n",
    "        net_name=\"VSS\",\n",
    "    ),\n",
    "    edb.padstacks.place_padstack(\n",
    "        [\n",
    "            conectors_position[1][0] + connector_size / 2,\n",
    "            conectors_position[1][1] + connector_size / 2,\n",
    "        ],\n",
    "        \"Via\",\n",
    "        net_name=\"VSS\",\n",
    "    ),\n",
    "    edb.padstacks.place_padstack(\n",
    "        [\n",
    "            conectors_position[1][0] - connector_size / 2,\n",
    "            conectors_position[1][1] + connector_size / 2,\n",
    "        ],\n",
    "        \"Via\",\n",
    "        net_name=\"VSS\",\n",
    "    ),\n",
    "]"
   ]
  },
  {
   "cell_type": "markdown",
   "id": "4ebdf4fb",
   "metadata": {},
   "source": [
    "### Define pins\n",
    "\n",
    "Pins are fist defined to allow a component to subsequently connect to the remainder\n",
    "of the model. In this case, ports are assigned at the connector instances using the pins."
   ]
  },
  {
   "cell_type": "code",
   "execution_count": 9,
   "id": "ad39fa13",
   "metadata": {
    "execution": {
     "iopub.execute_input": "2024-09-04T08:15:45.785132Z",
     "iopub.status.busy": "2024-09-04T08:15:45.785132Z",
     "iopub.status.idle": "2024-09-04T08:15:45.800705Z",
     "shell.execute_reply": "2024-09-04T08:15:45.800705Z"
    }
   },
   "outputs": [],
   "source": [
    "for padstack_instance in list(edb.padstacks.instances.values()):\n",
    "    padstack_instance.is_pin = True"
   ]
  },
  {
   "cell_type": "markdown",
   "id": "a98993c6",
   "metadata": {},
   "source": [
    "Create components from the pins"
   ]
  },
  {
   "cell_type": "code",
   "execution_count": 10,
   "id": "80bdd7c8",
   "metadata": {
    "execution": {
     "iopub.execute_input": "2024-09-04T08:15:45.800705Z",
     "iopub.status.busy": "2024-09-04T08:15:45.800705Z",
     "iopub.status.idle": "2024-09-04T08:15:45.832009Z",
     "shell.execute_reply": "2024-09-04T08:15:45.832009Z"
    }
   },
   "outputs": [
    {
     "data": {
      "text/plain": [
       "<pyedb.dotnet.edb_core.cell.hierarchy.component.EDBComponent at 0x2a5445ea630>"
      ]
     },
     "execution_count": 10,
     "metadata": {},
     "output_type": "execute_result"
    }
   ],
   "source": [
    "edb.components.create(component1_pins, \"connector_1\")\n",
    "edb.components.create(component2_pins, \"connector_2\")"
   ]
  },
  {
   "cell_type": "markdown",
   "id": "33a96e5a",
   "metadata": {},
   "source": [
    "Create ports on the pins and insert a simulation setup using the\n",
    "``SimulationConfiguration`` class."
   ]
  },
  {
   "cell_type": "code",
   "execution_count": 11,
   "id": "7eef3aee",
   "metadata": {
    "execution": {
     "iopub.execute_input": "2024-09-04T08:15:45.832009Z",
     "iopub.status.busy": "2024-09-04T08:15:45.832009Z",
     "iopub.status.idle": "2024-09-04T08:15:45.957018Z",
     "shell.execute_reply": "2024-09-04T08:15:45.957018Z"
    }
   },
   "outputs": [
    {
     "name": "stdout",
     "output_type": "stream",
     "text": [
      "PyAEDT INFO: Building simulation project.\n"
     ]
    },
    {
     "name": "stdout",
     "output_type": "stream",
     "text": [
      "PyAEDT INFO: Deleting existing ports.\n"
     ]
    },
    {
     "name": "stdout",
     "output_type": "stream",
     "text": [
      "PyAEDT INFO: Creating HFSS ports for signal nets.\n"
     ]
    },
    {
     "name": "stdout",
     "output_type": "stream",
     "text": [
      "PyAEDT INFO: Number of ports: 2\n"
     ]
    },
    {
     "name": "stdout",
     "output_type": "stream",
     "text": [
      "PyAEDT INFO: Configure HFSS extents.\n"
     ]
    },
    {
     "name": "stdout",
     "output_type": "stream",
     "text": [
      "PyAEDT INFO: Adding frequency sweep\n"
     ]
    },
    {
     "name": "stdout",
     "output_type": "stream",
     "text": [
      "PyAEDT INFO: EDB file save time: 0.00ms\n"
     ]
    },
    {
     "data": {
      "text/plain": [
       "True"
      ]
     },
     "execution_count": 11,
     "metadata": {},
     "output_type": "execute_result"
    }
   ],
   "source": [
    "sim_setup = edb.new_simulation_configuration()\n",
    "sim_setup.solver_type = sim_setup.SOLVER_TYPE.Hfss3dLayout\n",
    "sim_setup.batch_solve_settings.cutout_subdesign_expansion = 0.01\n",
    "sim_setup.batch_solve_settings.do_cutout_subdesign = False\n",
    "sim_setup.batch_solve_settings.signal_nets = [\"VDD\"]\n",
    "sim_setup.batch_solve_settings.components = [\"connector_1\", \"connector_2\"]\n",
    "sim_setup.batch_solve_settings.power_nets = [\"VSS\"]\n",
    "sim_setup.ac_settings.start_freq = \"0GHz\"\n",
    "sim_setup.ac_settings.stop_freq = \"5GHz\"\n",
    "sim_setup.ac_settings.step_freq = \"1GHz\"\n",
    "edb.build_simulation_project(sim_setup)"
   ]
  },
  {
   "cell_type": "markdown",
   "id": "e119bb0b",
   "metadata": {},
   "source": [
    "Save the EDB and open it in the 3D Layout editor. If ``non_graphical==False``,\n",
    "there may be a delay while AEDT starts."
   ]
  },
  {
   "cell_type": "code",
   "execution_count": 12,
   "id": "2d18b7bd",
   "metadata": {
    "execution": {
     "iopub.execute_input": "2024-09-04T08:15:45.957018Z",
     "iopub.status.busy": "2024-09-04T08:15:45.957018Z",
     "iopub.status.idle": "2024-09-04T08:16:18.749254Z",
     "shell.execute_reply": "2024-09-04T08:16:18.749254Z"
    }
   },
   "outputs": [
    {
     "name": "stdout",
     "output_type": "stream",
     "text": [
      "PyAEDT INFO: EDB file save time: 0.00ms\n"
     ]
    },
    {
     "name": "stdout",
     "output_type": "stream",
     "text": [
      "PyAEDT INFO: EDB file release time: 0.00ms\n"
     ]
    },
    {
     "name": "stdout",
     "output_type": "stream",
     "text": [
      "PyAEDT WARNING: Argument `projectname` is deprecated for method `__init__`; use `project` instead.\n"
     ]
    },
    {
     "name": "stdout",
     "output_type": "stream",
     "text": [
      "PyAEDT WARNING: Argument `specified_version` is deprecated for method `__init__`; use `version` instead.\n"
     ]
    },
    {
     "name": "stdout",
     "output_type": "stream",
     "text": [
      "PyAEDT WARNING: Argument `new_desktop_session` is deprecated for method `__init__`; use `new_desktop` instead.\n"
     ]
    },
    {
     "name": "stdout",
     "output_type": "stream",
     "text": [
      "PyAEDT INFO: Python version 3.10.11 (tags/v3.10.11:7d4cc5a, Apr  5 2023, 00:38:17) [MSC v.1929 64 bit (AMD64)]\n"
     ]
    },
    {
     "name": "stdout",
     "output_type": "stream",
     "text": [
      "PyAEDT INFO: PyAEDT version 0.11.dev0.\n"
     ]
    },
    {
     "name": "stdout",
     "output_type": "stream",
     "text": [
      "PyAEDT INFO: Initializing new Desktop session.\n"
     ]
    },
    {
     "name": "stdout",
     "output_type": "stream",
     "text": [
      "PyAEDT INFO: Log on console is enabled.\n"
     ]
    },
    {
     "name": "stdout",
     "output_type": "stream",
     "text": [
      "PyAEDT INFO: Log on file C:\\Users\\ansys\\AppData\\Local\\Temp\\pyaedt_ansys_64fd703f-3909-4192-b954-4eaff44e9771.log is enabled.\n"
     ]
    },
    {
     "name": "stdout",
     "output_type": "stream",
     "text": [
      "PyAEDT INFO: Log on AEDT is enabled.\n"
     ]
    },
    {
     "name": "stdout",
     "output_type": "stream",
     "text": [
      "PyAEDT INFO: Debug logger is disabled. PyAEDT methods will not be logged.\n"
     ]
    },
    {
     "name": "stdout",
     "output_type": "stream",
     "text": [
      "PyAEDT INFO: Launching PyAEDT with gRPC plugin.\n"
     ]
    },
    {
     "name": "stdout",
     "output_type": "stream",
     "text": [
      "PyAEDT INFO: New AEDT session is starting on gRPC port 63399\n"
     ]
    },
    {
     "name": "stdout",
     "output_type": "stream",
     "text": [
      "PyAEDT INFO: AEDT installation Path C:\\Program Files\\AnsysEM\\v242\\Win64\n"
     ]
    },
    {
     "name": "stdout",
     "output_type": "stream",
     "text": [
      "PyAEDT INFO: Ansoft.ElectronicsDesktop.2024.2 version started with process ID 1664.\n"
     ]
    },
    {
     "name": "stdout",
     "output_type": "stream",
     "text": [
      "PyAEDT INFO: EDB folder C:\\Users\\ansys\\AppData\\Local\\Temp\\tmpke3uaqvh.ansys\\component_example.aedb has been imported to project component_example\n"
     ]
    },
    {
     "name": "stdout",
     "output_type": "stream",
     "text": [
      "PyAEDT INFO: Active Design set to 0;Cell_10JRRW\n"
     ]
    },
    {
     "name": "stdout",
     "output_type": "stream",
     "text": [
      "PyAEDT INFO: Aedt Objects correctly read\n"
     ]
    }
   ],
   "source": [
    "edb.save_edb()\n",
    "edb.close_edb()\n",
    "h3d = pyaedt.Hfss3dLayout(\n",
    "    specified_version=\"2024.2\",\n",
    "    projectname=aedb_path,\n",
    "    non_graphical=False,  # Set non_graphical = False to launch AEDT in graphical mode.\n",
    "    new_desktop_session=True,\n",
    ")"
   ]
  },
  {
   "cell_type": "markdown",
   "id": "6085e26b",
   "metadata": {},
   "source": [
    "### Release the application from the Python kernel\n",
    "\n",
    "It is important to release the application from the Python kernel after\n",
    "execution of the script. The default behavior of the ``release_desktop()`` method closes all open\n",
    "projects and closes the application.\n",
    "\n",
    "If you want to conintue working on the project in graphical mode\n",
    "after script execution, call the following method with both arguments set to ``False``."
   ]
  },
  {
   "cell_type": "code",
   "execution_count": 13,
   "id": "40de2f44",
   "metadata": {
    "execution": {
     "iopub.execute_input": "2024-09-04T08:16:18.749254Z",
     "iopub.status.busy": "2024-09-04T08:16:18.749254Z",
     "iopub.status.idle": "2024-09-04T08:16:21.960303Z",
     "shell.execute_reply": "2024-09-04T08:16:21.960303Z"
    }
   },
   "outputs": [
    {
     "name": "stdout",
     "output_type": "stream",
     "text": [
      "PyAEDT INFO: Desktop has been released and closed.\n"
     ]
    },
    {
     "data": {
      "text/plain": [
       "True"
      ]
     },
     "execution_count": 13,
     "metadata": {},
     "output_type": "execute_result"
    }
   ],
   "source": [
    "h3d.release_desktop(close_projects=True, close_desktop=True)"
   ]
  },
  {
   "cell_type": "markdown",
   "id": "9ab259ad",
   "metadata": {},
   "source": [
    "### Clean up the temporary directory\n",
    "\n",
    "The following command cleans up the temporary directory, thereby removing all\n",
    "project files. If you'd like to save this project, save it to a folder of your choice\n",
    "prior to running the following cell."
   ]
  },
  {
   "cell_type": "code",
   "execution_count": 14,
   "id": "c93e9669",
   "metadata": {
    "execution": {
     "iopub.execute_input": "2024-09-04T08:16:21.960303Z",
     "iopub.status.busy": "2024-09-04T08:16:21.960303Z",
     "iopub.status.idle": "2024-09-04T08:16:21.975908Z",
     "shell.execute_reply": "2024-09-04T08:16:21.975908Z"
    }
   },
   "outputs": [],
   "source": [
    "temp_dir.cleanup()"
   ]
  }
 ],
 "metadata": {
  "jupytext": {
   "cell_metadata_filter": "-all",
   "main_language": "python",
   "notebook_metadata_filter": "-all",
   "text_representation": {
    "extension": ".py",
    "format_name": "light"
   }
  },
  "language_info": {
   "codemirror_mode": {
    "name": "ipython",
    "version": 3
   },
   "file_extension": ".py",
   "mimetype": "text/x-python",
   "name": "python",
   "nbconvert_exporter": "python",
   "pygments_lexer": "ipython3",
   "version": "3.10.11"
  }
 },
 "nbformat": 4,
 "nbformat_minor": 5
}
