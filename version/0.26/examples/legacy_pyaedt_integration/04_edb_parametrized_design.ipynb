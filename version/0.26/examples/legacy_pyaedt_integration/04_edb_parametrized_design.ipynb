{
 "cells": [
  {
   "cell_type": "markdown",
   "id": "9af2eab9",
   "metadata": {},
   "source": [
    "# EDB: fully parametrized design\n",
    "\n",
    "This example shows how to use the EDB interface along with HFSS 3D Layout to create and solve a\n",
    "parameterized layout. The layout shows a differential via transition on a printed circuit board\n",
    "with back-to-back microstrip to stripline transitions.\n",
    "The model is fully parameterized to enable investigation of the transition performance on the\n",
    "many degrees of freedom.\n",
    "\n",
    "The resulting model is shown below\n",
    "\n",
    "<img src=\"_static\\pcb_transition_parameterized.png\" width=\"500\">"
   ]
  },
  {
   "cell_type": "code",
   "execution_count": 1,
   "id": "b3dec8a9",
   "metadata": {
    "execution": {
     "iopub.execute_input": "2024-09-04T08:09:20.368099Z",
     "iopub.status.busy": "2024-09-04T08:09:20.368099Z",
     "iopub.status.idle": "2024-09-04T08:09:20.961952Z",
     "shell.execute_reply": "2024-09-04T08:09:20.961952Z"
    }
   },
   "outputs": [
    {
     "name": "stdout",
     "output_type": "stream",
     "text": [
      "FutureWarning: Module 'pyaedt' has become an alias to the new package structure. Please update you imports to use the new architecture based on 'ansys.aedt.core'. In addition, some files have been renamed to follow the PEP 8 naming convention. The old structure and file names will be deprecated in future versions, see https://aedt.docs.pyansys.com/version/stable/release_1_0.html\n"
     ]
    }
   ],
   "source": [
    "import os\n",
    "import tempfile\n",
    "\n",
    "import pyaedt\n",
    "\n",
    "import pyedb\n"
   ]
  },
  {
   "cell_type": "markdown",
   "id": "a2228f8e",
   "metadata": {},
   "source": [
    "## Set non-graphical mode\n",
    "\n",
    "Set non-graphical mode. The default is ``False``, which opens\n",
    "the AEDT UI."
   ]
  },
  {
   "cell_type": "code",
   "execution_count": 2,
   "id": "e6b3a5bf",
   "metadata": {
    "execution": {
     "iopub.execute_input": "2024-09-04T08:09:20.961952Z",
     "iopub.status.busy": "2024-09-04T08:09:20.961952Z",
     "iopub.status.idle": "2024-09-04T08:09:20.977553Z",
     "shell.execute_reply": "2024-09-04T08:09:20.977553Z"
    }
   },
   "outputs": [],
   "source": [
    "non_graphical = False"
   ]
  },
  {
   "cell_type": "markdown",
   "id": "e049a0e8",
   "metadata": {},
   "source": [
    "## Launch EDB."
   ]
  },
  {
   "cell_type": "code",
   "execution_count": 3,
   "id": "d0b08036",
   "metadata": {
    "execution": {
     "iopub.execute_input": "2024-09-04T08:09:20.977553Z",
     "iopub.status.busy": "2024-09-04T08:09:20.977553Z",
     "iopub.status.idle": "2024-09-04T08:09:33.186967Z",
     "shell.execute_reply": "2024-09-04T08:09:33.186967Z"
    }
   },
   "outputs": [
    {
     "name": "stdout",
     "output_type": "stream",
     "text": [
      "EDB version: 2024.2\n"
     ]
    },
    {
     "name": "stdout",
     "output_type": "stream",
     "text": [
      "PyAEDT INFO: Logger is initialized in EDB.\n"
     ]
    },
    {
     "name": "stdout",
     "output_type": "stream",
     "text": [
      "PyAEDT INFO: legacy v0.26.3\n"
     ]
    },
    {
     "name": "stdout",
     "output_type": "stream",
     "text": [
      "PyAEDT INFO: Python version 3.10.11 (tags/v3.10.11:7d4cc5a, Apr  5 2023, 00:38:17) [MSC v.1929 64 bit (AMD64)]\n"
     ]
    },
    {
     "name": "stdout",
     "output_type": "stream",
     "text": [
      "PyAEDT INFO: EDB C:\\Users\\ansys\\AppData\\Local\\Temp\\tmp1hoid623.ansys\\pcb.aedb created correctly.\n"
     ]
    },
    {
     "name": "stdout",
     "output_type": "stream",
     "text": [
      "PyAEDT INFO: EDB initialized.\n"
     ]
    }
   ],
   "source": [
    "temp_dir = tempfile.TemporaryDirectory(suffix=\".ansys\")\n",
    "aedb_path = os.path.join(temp_dir.name, \"pcb.aedb\")\n",
    "\n",
    "# Select EDB version (change it manually if needed, e.g. \"2024.2\")\n",
    "edb_version = \"2024.2\"\n",
    "print(f\"EDB version: {edb_version}\")\n",
    "\n",
    "edb = pyedb.Edb(edbpath=aedb_path, edbversion=edb_version)"
   ]
  },
  {
   "cell_type": "markdown",
   "id": "3c94ffae",
   "metadata": {},
   "source": [
    "Define the parameters."
   ]
  },
  {
   "cell_type": "code",
   "execution_count": 4,
   "id": "f73ce7be",
   "metadata": {
    "execution": {
     "iopub.execute_input": "2024-09-04T08:09:33.186967Z",
     "iopub.status.busy": "2024-09-04T08:09:33.186967Z",
     "iopub.status.idle": "2024-09-04T08:09:33.218862Z",
     "shell.execute_reply": "2024-09-04T08:09:33.218269Z"
    }
   },
   "outputs": [],
   "source": [
    "params = {\n",
    "    \"$ms_width\": \"0.4mm\",\n",
    "    \"$sl_width\": \"0.2mm\",\n",
    "    \"$ms_spacing\": \"0.2mm\",\n",
    "    \"$sl_spacing\": \"0.1mm\",\n",
    "    \"$via_spacing\": \"0.5mm\",\n",
    "    \"$via_diam\": \"0.3mm\",\n",
    "    \"$pad_diam\": \"0.6mm\",\n",
    "    \"$anti_pad_diam\": \"0.7mm\",\n",
    "    \"$pcb_len\": \"15mm\",\n",
    "    \"$pcb_w\": \"5mm\",\n",
    "    \"$x_size\": \"1.2mm\",\n",
    "    \"$y_size\": \"1mm\",\n",
    "    \"$corner_rad\": \"0.5mm\",\n",
    "}\n",
    "\n",
    "for par_name in params:\n",
    "    edb.add_project_variable(par_name, params[par_name])"
   ]
  },
  {
   "cell_type": "markdown",
   "id": "afe21713",
   "metadata": {},
   "source": [
    "Define the stackup layers from bottom to top."
   ]
  },
  {
   "cell_type": "code",
   "execution_count": 5,
   "id": "f8606ae0",
   "metadata": {
    "execution": {
     "iopub.execute_input": "2024-09-04T08:09:33.222468Z",
     "iopub.status.busy": "2024-09-04T08:09:33.222468Z",
     "iopub.status.idle": "2024-09-04T08:09:33.437122Z",
     "shell.execute_reply": "2024-09-04T08:09:33.437122Z"
    },
    "lines_to_next_cell": 2
   },
   "outputs": [
    {
     "name": "stdout",
     "output_type": "stream",
     "text": [
      "PyAEDT INFO: Configuration file does not have material definition. Using aedb and syslib materials.\n"
     ]
    },
    {
     "data": {
      "text/plain": [
       "True"
      ]
     },
     "execution_count": 5,
     "metadata": {},
     "output_type": "execute_result"
    }
   ],
   "source": [
    "layers = {\n",
    "    \"top\": {\"type\": \"signal\", \"thickness\": \"35um\", \"material\": \"copper\"},\n",
    "    \"diel_1\": {\"type\": \"dielectric\", \"thickness\": \"275um\", \"material\": \"FR4_epoxy\"},\n",
    "    \"sig_1\": {\"type\": \"signal\", \"thickness\": \"35um\", \"material\": \"copper\"},\n",
    "    \"diel_2\": {\"type\": \"dielectric\", \"thickness\": \"275um\", \"material\": \"FR4_epoxy\"},\n",
    "    \"sig_2\": {\"type\": \"signal\", \"thickness\": \"35um\", \"material\": \"copper\"},\n",
    "    \"diel_3\": {\"type\": \"dielectric\", \"thickness\": \"275um\", \"material\": \"FR4_epoxy\"},\n",
    "    \"bottom\": {\"type\": \"signal\", \"thickness\": \"35um\", \"material\": \"copper\"},\n",
    "}\n",
    "layer_names = list(layers.keys())[::-1]\n",
    "# Create the EDB stackup.\n",
    "# Define the bottom layer\n",
    "edb.stackup.load(layers)"
   ]
  },
  {
   "cell_type": "markdown",
   "id": "ed57c8d0",
   "metadata": {},
   "source": [
    "Create a parametrized padstack for the signal via."
   ]
  },
  {
   "cell_type": "code",
   "execution_count": 6,
   "id": "0692dfa8",
   "metadata": {
    "execution": {
     "iopub.execute_input": "2024-09-04T08:09:33.437122Z",
     "iopub.status.busy": "2024-09-04T08:09:33.437122Z",
     "iopub.status.idle": "2024-09-04T08:09:33.483998Z",
     "shell.execute_reply": "2024-09-04T08:09:33.483998Z"
    }
   },
   "outputs": [
    {
     "name": "stdout",
     "output_type": "stream",
     "text": [
      "PyAEDT INFO: Padstack automated_via create correctly\n"
     ]
    },
    {
     "data": {
      "text/plain": [
       "'automated_via'"
      ]
     },
     "execution_count": 6,
     "metadata": {},
     "output_type": "execute_result"
    }
   ],
   "source": [
    "signal_via_padstack = \"automated_via\"\n",
    "edb.padstacks.create(\n",
    "    padstackname=signal_via_padstack,\n",
    "    holediam=\"$via_diam\",\n",
    "    paddiam=\"$pad_diam\",\n",
    "    antipaddiam=\"\",\n",
    "    antipad_shape=\"Bullet\",\n",
    "    x_size=\"$x_size\",\n",
    "    y_size=\"$y_size\",\n",
    "    corner_radius=\"$corner_rad\",\n",
    "    start_layer=layer_names[-1],\n",
    "    stop_layer=layer_names[-3],\n",
    ")"
   ]
  },
  {
   "cell_type": "markdown",
   "id": "c1937b56",
   "metadata": {},
   "source": [
    "Assign net names. There are only two signal nets."
   ]
  },
  {
   "cell_type": "code",
   "execution_count": 7,
   "id": "4b486a21",
   "metadata": {
    "execution": {
     "iopub.execute_input": "2024-09-04T08:09:33.483998Z",
     "iopub.status.busy": "2024-09-04T08:09:33.483998Z",
     "iopub.status.idle": "2024-09-04T08:09:33.499622Z",
     "shell.execute_reply": "2024-09-04T08:09:33.499622Z"
    }
   },
   "outputs": [],
   "source": [
    "net_p = \"p\"\n",
    "net_n = \"n\""
   ]
  },
  {
   "cell_type": "markdown",
   "id": "51ab8a72",
   "metadata": {},
   "source": [
    "Place the signal vias."
   ]
  },
  {
   "cell_type": "code",
   "execution_count": 8,
   "id": "6d9568f7",
   "metadata": {
    "execution": {
     "iopub.execute_input": "2024-09-04T08:09:33.499622Z",
     "iopub.status.busy": "2024-09-04T08:09:33.499622Z",
     "iopub.status.idle": "2024-09-04T08:09:33.530870Z",
     "shell.execute_reply": "2024-09-04T08:09:33.530870Z"
    }
   },
   "outputs": [
    {
     "data": {
      "text/plain": [
       "<pyedb.dotnet.edb_core.edb_data.padstacks_data.EDBPadstackInstance at 0x1a8257da4f0>"
      ]
     },
     "execution_count": 8,
     "metadata": {},
     "output_type": "execute_result"
    }
   ],
   "source": [
    "edb.padstacks.place(\n",
    "    position=[\"$pcb_len/3\", \"($ms_width+$ms_spacing+$via_spacing)/2\"],\n",
    "    definition_name=signal_via_padstack,\n",
    "    net_name=net_p,\n",
    "    via_name=\"\",\n",
    "    rotation=90.0,\n",
    ")"
   ]
  },
  {
   "cell_type": "code",
   "execution_count": 9,
   "id": "0eec4382",
   "metadata": {
    "execution": {
     "iopub.execute_input": "2024-09-04T08:09:33.530870Z",
     "iopub.status.busy": "2024-09-04T08:09:33.530870Z",
     "iopub.status.idle": "2024-09-04T08:09:33.562120Z",
     "shell.execute_reply": "2024-09-04T08:09:33.562120Z"
    }
   },
   "outputs": [
    {
     "data": {
      "text/plain": [
       "<pyedb.dotnet.edb_core.edb_data.padstacks_data.EDBPadstackInstance at 0x1a8255788c0>"
      ]
     },
     "execution_count": 9,
     "metadata": {},
     "output_type": "execute_result"
    }
   ],
   "source": [
    "edb.padstacks.place(\n",
    "    position=[\"2*$pcb_len/3\", \"($ms_width+$ms_spacing+$via_spacing)/2\"],\n",
    "    definition_name=signal_via_padstack,\n",
    "    net_name=net_p,\n",
    "    via_name=\"\",\n",
    "    rotation=90.0,\n",
    ")"
   ]
  },
  {
   "cell_type": "code",
   "execution_count": 10,
   "id": "ccec01da",
   "metadata": {
    "execution": {
     "iopub.execute_input": "2024-09-04T08:09:33.562120Z",
     "iopub.status.busy": "2024-09-04T08:09:33.562120Z",
     "iopub.status.idle": "2024-09-04T08:09:33.593371Z",
     "shell.execute_reply": "2024-09-04T08:09:33.593371Z"
    }
   },
   "outputs": [
    {
     "data": {
      "text/plain": [
       "<pyedb.dotnet.edb_core.edb_data.padstacks_data.EDBPadstackInstance at 0x1a825573480>"
      ]
     },
     "execution_count": 10,
     "metadata": {},
     "output_type": "execute_result"
    }
   ],
   "source": [
    "edb.padstacks.place(\n",
    "    position=[\"$pcb_len/3\", \"-($ms_width+$ms_spacing+$via_spacing)/2\"],\n",
    "    definition_name=signal_via_padstack,\n",
    "    net_name=net_n,\n",
    "    via_name=\"\",\n",
    "    rotation=-90.0,\n",
    ")"
   ]
  },
  {
   "cell_type": "code",
   "execution_count": 11,
   "id": "68868a91",
   "metadata": {
    "execution": {
     "iopub.execute_input": "2024-09-04T08:09:33.593371Z",
     "iopub.status.busy": "2024-09-04T08:09:33.593371Z",
     "iopub.status.idle": "2024-09-04T08:09:33.624621Z",
     "shell.execute_reply": "2024-09-04T08:09:33.624621Z"
    },
    "lines_to_next_cell": 2
   },
   "outputs": [
    {
     "data": {
      "text/plain": [
       "<pyedb.dotnet.edb_core.edb_data.padstacks_data.EDBPadstackInstance at 0x1a825ef7840>"
      ]
     },
     "execution_count": 11,
     "metadata": {},
     "output_type": "execute_result"
    }
   ],
   "source": [
    "edb.padstacks.place(\n",
    "    position=[\"2*$pcb_len/3\", \"-($ms_width+$ms_spacing+$via_spacing)/2\"],\n",
    "    definition_name=signal_via_padstack,\n",
    "    net_name=net_n,\n",
    "    via_name=\"\",\n",
    "    rotation=-90.0,\n",
    ")"
   ]
  },
  {
   "cell_type": "markdown",
   "id": "20e81f8c",
   "metadata": {},
   "source": [
    "## Draw parametrized traces\n",
    "\n",
    "Trace width and the routing (Microstrip-Stripline-Microstrip).\n",
    "Applies to both p and n nets."
   ]
  },
  {
   "cell_type": "code",
   "execution_count": 12,
   "id": "b06a15ff",
   "metadata": {
    "execution": {
     "iopub.execute_input": "2024-09-04T08:09:33.624621Z",
     "iopub.status.busy": "2024-09-04T08:09:33.624621Z",
     "iopub.status.idle": "2024-09-04T08:09:33.640303Z",
     "shell.execute_reply": "2024-09-04T08:09:33.640303Z"
    }
   },
   "outputs": [],
   "source": [
    "# Trace width, n and p\n",
    "width = [\"$ms_width\", \"$sl_width\", \"$ms_width\"]\n",
    "# Routing layer, n and p\n",
    "route_layer = [layer_names[-1], layer_names[4], layer_names[-1]]"
   ]
  },
  {
   "cell_type": "markdown",
   "id": "b1580a31",
   "metadata": {},
   "source": [
    "Define points for three traces in the \"p\" net"
   ]
  },
  {
   "cell_type": "code",
   "execution_count": 13,
   "id": "34542d4c",
   "metadata": {
    "execution": {
     "iopub.execute_input": "2024-09-04T08:09:33.640303Z",
     "iopub.status.busy": "2024-09-04T08:09:33.640303Z",
     "iopub.status.idle": "2024-09-04T08:09:33.655937Z",
     "shell.execute_reply": "2024-09-04T08:09:33.655937Z"
    }
   },
   "outputs": [],
   "source": [
    "points_p = [\n",
    "    [\n",
    "        [\"0.0\", \"($ms_width+$ms_spacing)/2\"],\n",
    "        [\"$pcb_len/3-2*$via_spacing\", \"($ms_width+$ms_spacing)/2\"],\n",
    "        [\"$pcb_len/3-$via_spacing\", \"($ms_width+$ms_spacing+$via_spacing)/2\"],\n",
    "        [\"$pcb_len/3\", \"($ms_width+$ms_spacing+$via_spacing)/2\"],\n",
    "    ],\n",
    "    [\n",
    "        [\"$pcb_len/3\", \"($ms_width+$sl_spacing+$via_spacing)/2\"],\n",
    "        [\"$pcb_len/3+$via_spacing\", \"($ms_width+$sl_spacing+$via_spacing)/2\"],\n",
    "        [\"$pcb_len/3+2*$via_spacing\", \"($sl_width+$sl_spacing)/2\"],\n",
    "        [\"2*$pcb_len/3-2*$via_spacing\", \"($sl_width+$sl_spacing)/2\"],\n",
    "        [\"2*$pcb_len/3-$via_spacing\", \"($ms_width+$sl_spacing+$via_spacing)/2\"],\n",
    "        [\"2*$pcb_len/3\", \"($ms_width+$sl_spacing+$via_spacing)/2\"],\n",
    "    ],\n",
    "    [\n",
    "        [\"2*$pcb_len/3\", \"($ms_width+$ms_spacing+$via_spacing)/2\"],\n",
    "        [\"2*$pcb_len/3+$via_spacing\", \"($ms_width+$ms_spacing+$via_spacing)/2\"],\n",
    "        [\"2*$pcb_len/3+2*$via_spacing\", \"($ms_width+$ms_spacing)/2\"],\n",
    "        [\"$pcb_len\", \"($ms_width+$ms_spacing)/2\"],\n",
    "    ],\n",
    "]"
   ]
  },
  {
   "cell_type": "markdown",
   "id": "85fb7d13",
   "metadata": {},
   "source": [
    "Define points for three traces in the \"n\" net"
   ]
  },
  {
   "cell_type": "code",
   "execution_count": 14,
   "id": "87593048",
   "metadata": {
    "execution": {
     "iopub.execute_input": "2024-09-04T08:09:33.655937Z",
     "iopub.status.busy": "2024-09-04T08:09:33.655937Z",
     "iopub.status.idle": "2024-09-04T08:09:33.671554Z",
     "shell.execute_reply": "2024-09-04T08:09:33.671554Z"
    }
   },
   "outputs": [],
   "source": [
    "points_n = [\n",
    "    [\n",
    "        [\"0.0\", \"-($ms_width+$ms_spacing)/2\"],\n",
    "        [\"$pcb_len/3-2*$via_spacing\", \"-($ms_width+$ms_spacing)/2\"],\n",
    "        [\"$pcb_len/3-$via_spacing\", \"-($ms_width+$ms_spacing+$via_spacing)/2\"],\n",
    "        [\"$pcb_len/3\", \"-($ms_width+$ms_spacing+$via_spacing)/2\"],\n",
    "    ],\n",
    "    [\n",
    "        [\"$pcb_len/3\", \"-($ms_width+$sl_spacing+$via_spacing)/2\"],\n",
    "        [\"$pcb_len/3+$via_spacing\", \"-($ms_width+$sl_spacing+$via_spacing)/2\"],\n",
    "        [\"$pcb_len/3+2*$via_spacing\", \"-($ms_width+$sl_spacing)/2\"],\n",
    "        [\"2*$pcb_len/3-2*$via_spacing\", \"-($ms_width+$sl_spacing)/2\"],\n",
    "        [\"2*$pcb_len/3-$via_spacing\", \"-($ms_width+$sl_spacing+$via_spacing)/2\"],\n",
    "        [\"2*$pcb_len/3\", \"-($ms_width+$sl_spacing+$via_spacing)/2\"],\n",
    "    ],\n",
    "    [\n",
    "        [\"2*$pcb_len/3\", \"-($ms_width+$ms_spacing+$via_spacing)/2\"],\n",
    "        [\"2*$pcb_len/3 + $via_spacing\", \"-($ms_width+$ms_spacing+$via_spacing)/2\"],\n",
    "        [\"2*$pcb_len/3 + 2*$via_spacing\", \"-($ms_width+$ms_spacing)/2\"],\n",
    "        [\"$pcb_len\", \"-($ms_width + $ms_spacing)/2\"],\n",
    "    ],\n",
    "]"
   ]
  },
  {
   "cell_type": "markdown",
   "id": "1c370fbc",
   "metadata": {},
   "source": [
    "Add traces to the EDB."
   ]
  },
  {
   "cell_type": "code",
   "execution_count": 15,
   "id": "c22ca5bd",
   "metadata": {
    "execution": {
     "iopub.execute_input": "2024-09-04T08:09:33.671554Z",
     "iopub.status.busy": "2024-09-04T08:09:33.671554Z",
     "iopub.status.idle": "2024-09-04T08:09:33.733999Z",
     "shell.execute_reply": "2024-09-04T08:09:33.733999Z"
    }
   },
   "outputs": [],
   "source": [
    "trace_p = []\n",
    "trace_n = []\n",
    "for n in range(len(points_p)):\n",
    "    trace_p.append(edb.modeler.create_trace(points_p[n], route_layer[n], width[n], net_p, \"Flat\", \"Flat\"))\n",
    "    trace_n.append(edb.modeler.create_trace(points_n[n], route_layer[n], width[n], net_n, \"Flat\", \"Flat\"))"
   ]
  },
  {
   "cell_type": "markdown",
   "id": "8029ad87",
   "metadata": {},
   "source": [
    "Create the wave ports"
   ]
  },
  {
   "cell_type": "code",
   "execution_count": 16,
   "id": "3c013581",
   "metadata": {
    "execution": {
     "iopub.execute_input": "2024-09-04T08:09:33.733999Z",
     "iopub.status.busy": "2024-09-04T08:09:33.733999Z",
     "iopub.status.idle": "2024-09-04T08:09:33.780875Z",
     "shell.execute_reply": "2024-09-04T08:09:33.780875Z"
    }
   },
   "outputs": [],
   "source": [
    "p1 = edb.hfss.create_differential_wave_port(\n",
    "    trace_p[0].id,\n",
    "    [\"0.0\", \"($ms_width+$ms_spacing)/2\"],\n",
    "    trace_n[0].id,\n",
    "    [\"0.0\", \"-($ms_width+$ms_spacing)/2\"],\n",
    "    \"wave_port_1\",\n",
    ")"
   ]
  },
  {
   "cell_type": "code",
   "execution_count": 17,
   "id": "68abaf36",
   "metadata": {
    "execution": {
     "iopub.execute_input": "2024-09-04T08:09:33.780875Z",
     "iopub.status.busy": "2024-09-04T08:09:33.780875Z",
     "iopub.status.idle": "2024-09-04T08:09:33.796500Z",
     "shell.execute_reply": "2024-09-04T08:09:33.796500Z"
    }
   },
   "outputs": [],
   "source": [
    "pos_p1 = p1[1].terminals[0].name\n",
    "neg_p1 = p1[1].terminals[1].name"
   ]
  },
  {
   "cell_type": "code",
   "execution_count": 18,
   "id": "dba2a575",
   "metadata": {
    "execution": {
     "iopub.execute_input": "2024-09-04T08:09:33.796500Z",
     "iopub.status.busy": "2024-09-04T08:09:33.796500Z",
     "iopub.status.idle": "2024-09-04T08:09:33.827750Z",
     "shell.execute_reply": "2024-09-04T08:09:33.827750Z"
    }
   },
   "outputs": [],
   "source": [
    "p2 = edb.hfss.create_differential_wave_port(\n",
    "    trace_p[2].id,\n",
    "    [\"$pcb_len\", \"($ms_width+$ms_spacing)/2\"],\n",
    "    trace_n[2].id,\n",
    "    [\"$pcb_len\", \"-($ms_width + $ms_spacing)/2\"],\n",
    "    \"wave_port_2\",\n",
    ")"
   ]
  },
  {
   "cell_type": "code",
   "execution_count": 19,
   "id": "83d117dc",
   "metadata": {
    "execution": {
     "iopub.execute_input": "2024-09-04T08:09:33.827750Z",
     "iopub.status.busy": "2024-09-04T08:09:33.827750Z",
     "iopub.status.idle": "2024-09-04T08:09:33.843375Z",
     "shell.execute_reply": "2024-09-04T08:09:33.843375Z"
    }
   },
   "outputs": [],
   "source": [
    "pos_p2 = p2[1].terminals[0].name\n",
    "neg_p2 = p2[1].terminals[1].name"
   ]
  },
  {
   "cell_type": "markdown",
   "id": "d4cae42f",
   "metadata": {},
   "source": [
    "Draw a conducting rectangle on the ground layers."
   ]
  },
  {
   "cell_type": "code",
   "execution_count": 20,
   "id": "fea5c96b",
   "metadata": {
    "execution": {
     "iopub.execute_input": "2024-09-04T08:09:33.843375Z",
     "iopub.status.busy": "2024-09-04T08:09:33.843375Z",
     "iopub.status.idle": "2024-09-04T08:09:33.859003Z",
     "shell.execute_reply": "2024-09-04T08:09:33.859003Z"
    }
   },
   "outputs": [],
   "source": [
    "gnd_poly = [\n",
    "    [0.0, \"-$pcb_w/2\"],\n",
    "    [\"$pcb_len\", \"-$pcb_w/2\"],\n",
    "    [\"$pcb_len\", \"$pcb_w/2\"],\n",
    "    [0.0, \"$pcb_w/2\"],\n",
    "]\n",
    "gnd_shape = edb.modeler.Shape(\"polygon\", points=gnd_poly)"
   ]
  },
  {
   "cell_type": "markdown",
   "id": "399f4270",
   "metadata": {},
   "source": [
    "Void in ground for traces on the signal routing layer"
   ]
  },
  {
   "cell_type": "code",
   "execution_count": 21,
   "id": "fe8985a3",
   "metadata": {
    "execution": {
     "iopub.execute_input": "2024-09-04T08:09:33.859003Z",
     "iopub.status.busy": "2024-09-04T08:09:33.859003Z",
     "iopub.status.idle": "2024-09-04T08:09:33.874628Z",
     "shell.execute_reply": "2024-09-04T08:09:33.874628Z"
    }
   },
   "outputs": [],
   "source": [
    "void_poly = [\n",
    "    [\"$pcb_len/3\", \"-($ms_width+$ms_spacing+$via_spacing+$anti_pad_diam)/2-$via_spacing/2\"],\n",
    "    [\n",
    "        \"$pcb_len/3 + $via_spacing\",\n",
    "        \"-($ms_width+$ms_spacing+$via_spacing+$anti_pad_diam)/2-$via_spacing/2\",\n",
    "    ],\n",
    "    [\"$pcb_len/3 + 2*$via_spacing\", \"-($ms_width+$ms_spacing+$via_spacing+$anti_pad_diam)/2\"],\n",
    "    [\"2*$pcb_len/3 - 2*$via_spacing\", \"-($ms_width+$ms_spacing+$via_spacing+$anti_pad_diam)/2\"],\n",
    "    [\n",
    "        \"2*$pcb_len/3 - $via_spacing\",\n",
    "        \"-($ms_width+$ms_spacing+$via_spacing+$anti_pad_diam)/2-$via_spacing/2\",\n",
    "    ],\n",
    "    [\"2*$pcb_len/3\", \"-($ms_width+$ms_spacing+$via_spacing+$anti_pad_diam)/2-$via_spacing/2\"],\n",
    "    [\"2*$pcb_len/3\", \"($ms_width+$ms_spacing+$via_spacing+$anti_pad_diam)/2+$via_spacing/2\"],\n",
    "    [\n",
    "        \"2*$pcb_len/3 - $via_spacing\",\n",
    "        \"($ms_width+$ms_spacing+$via_spacing+$anti_pad_diam)/2+$via_spacing/2\",\n",
    "    ],\n",
    "    [\"2*$pcb_len/3 - 2*$via_spacing\", \"($ms_width+$ms_spacing+$via_spacing+$anti_pad_diam)/2\"],\n",
    "    [\"$pcb_len/3 + 2*$via_spacing\", \"($ms_width+$ms_spacing+$via_spacing+$anti_pad_diam)/2\"],\n",
    "    [\n",
    "        \"$pcb_len/3 + $via_spacing\",\n",
    "        \"($ms_width+$ms_spacing+$via_spacing+$anti_pad_diam)/2+$via_spacing/2\",\n",
    "    ],\n",
    "    [\"$pcb_len/3\", \"($ms_width+$ms_spacing+$via_spacing+$anti_pad_diam)/2+$via_spacing/2\"],\n",
    "    [\"$pcb_len/3\", \"($ms_width+$ms_spacing+$via_spacing+$anti_pad_diam)/2\"],\n",
    "]\n",
    "\n",
    "void_shape = edb.modeler.Shape(\"polygon\", points=void_poly)"
   ]
  },
  {
   "cell_type": "markdown",
   "id": "7741ebda",
   "metadata": {},
   "source": [
    "Add ground conductors."
   ]
  },
  {
   "cell_type": "code",
   "execution_count": 22,
   "id": "e116bf4b",
   "metadata": {
    "execution": {
     "iopub.execute_input": "2024-09-04T08:09:33.874628Z",
     "iopub.status.busy": "2024-09-04T08:09:33.874628Z",
     "iopub.status.idle": "2024-09-04T08:09:33.968379Z",
     "shell.execute_reply": "2024-09-04T08:09:33.968379Z"
    }
   },
   "outputs": [],
   "source": [
    "for layer in layer_names[:-1:2]:\n",
    "    # add void if the layer is the signal routing layer.\n",
    "    void = [void_shape] if layer == route_layer[1] else []\n",
    "\n",
    "    edb.modeler.create_polygon(main_shape=gnd_shape, layer_name=layer, voids=void, net_name=\"gnd\")"
   ]
  },
  {
   "cell_type": "markdown",
   "id": "5e1787d2",
   "metadata": {},
   "source": [
    "Plot the layout."
   ]
  },
  {
   "cell_type": "code",
   "execution_count": 23,
   "id": "96d58ef4",
   "metadata": {
    "execution": {
     "iopub.execute_input": "2024-09-04T08:09:33.968379Z",
     "iopub.status.busy": "2024-09-04T08:09:33.968379Z",
     "iopub.status.idle": "2024-09-04T08:09:34.093797Z",
     "shell.execute_reply": "2024-09-04T08:09:34.093797Z"
    }
   },
   "outputs": [
    {
     "name": "stdout",
     "output_type": "stream",
     "text": [
      "PyAEDT INFO: Nets Point Generation time 0.047 seconds\n"
     ]
    },
    {
     "name": "stderr",
     "output_type": "stream",
     "text": [
      "C:\\actions-runner\\_work\\pyedb\\pyedb\\.venv\\lib\\site-packages\\pyedb\\generic\\plot.py:144: UserWarning: FigureCanvasAgg is non-interactive, and thus cannot be shown\n",
      "  plt.show()\n"
     ]
    }
   ],
   "source": [
    "edb.nets.plot(None)"
   ]
  },
  {
   "cell_type": "markdown",
   "id": "cb80c42b",
   "metadata": {},
   "source": [
    "Save the EDB."
   ]
  },
  {
   "cell_type": "code",
   "execution_count": 24,
   "id": "cb4c0dd4",
   "metadata": {
    "execution": {
     "iopub.execute_input": "2024-09-04T08:09:34.093797Z",
     "iopub.status.busy": "2024-09-04T08:09:34.093797Z",
     "iopub.status.idle": "2024-09-04T08:09:34.125115Z",
     "shell.execute_reply": "2024-09-04T08:09:34.125115Z"
    }
   },
   "outputs": [
    {
     "name": "stdout",
     "output_type": "stream",
     "text": [
      "PyAEDT INFO: EDB file save time: 0.00ms\n"
     ]
    },
    {
     "name": "stdout",
     "output_type": "stream",
     "text": [
      "PyAEDT INFO: EDB file release time: 15.62ms\n"
     ]
    },
    {
     "data": {
      "text/plain": [
       "True"
      ]
     },
     "execution_count": 24,
     "metadata": {},
     "output_type": "execute_result"
    }
   ],
   "source": [
    "edb.save_edb()\n",
    "edb.close_edb()"
   ]
  },
  {
   "cell_type": "markdown",
   "id": "38779242",
   "metadata": {},
   "source": [
    "Open the project in HFSS 3D Layout."
   ]
  },
  {
   "cell_type": "code",
   "execution_count": 25,
   "id": "2a7d4a84",
   "metadata": {
    "execution": {
     "iopub.execute_input": "2024-09-04T08:09:34.125115Z",
     "iopub.status.busy": "2024-09-04T08:09:34.125115Z",
     "iopub.status.idle": "2024-09-04T08:10:06.450066Z",
     "shell.execute_reply": "2024-09-04T08:10:06.450066Z"
    }
   },
   "outputs": [
    {
     "name": "stdout",
     "output_type": "stream",
     "text": [
      "PyAEDT INFO: Python version 3.10.11 (tags/v3.10.11:7d4cc5a, Apr  5 2023, 00:38:17) [MSC v.1929 64 bit (AMD64)]\n"
     ]
    },
    {
     "name": "stdout",
     "output_type": "stream",
     "text": [
      "PyAEDT INFO: PyAEDT version 0.11.dev0.\n"
     ]
    },
    {
     "name": "stdout",
     "output_type": "stream",
     "text": [
      "PyAEDT INFO: Initializing new Desktop session.\n"
     ]
    },
    {
     "name": "stdout",
     "output_type": "stream",
     "text": [
      "PyAEDT INFO: Log on console is enabled.\n"
     ]
    },
    {
     "name": "stdout",
     "output_type": "stream",
     "text": [
      "PyAEDT INFO: Log on file C:\\Users\\ansys\\AppData\\Local\\Temp\\pyaedt_ansys_9a04064f-d3f0-4e91-ab76-be8ab76fb65d.log is enabled.\n"
     ]
    },
    {
     "name": "stdout",
     "output_type": "stream",
     "text": [
      "PyAEDT INFO: Log on AEDT is enabled.\n"
     ]
    },
    {
     "name": "stdout",
     "output_type": "stream",
     "text": [
      "PyAEDT INFO: Debug logger is disabled. PyAEDT methods will not be logged.\n"
     ]
    },
    {
     "name": "stdout",
     "output_type": "stream",
     "text": [
      "PyAEDT INFO: Launching PyAEDT with gRPC plugin.\n"
     ]
    },
    {
     "name": "stdout",
     "output_type": "stream",
     "text": [
      "PyAEDT INFO: New AEDT session is starting on gRPC port 62377\n"
     ]
    },
    {
     "name": "stdout",
     "output_type": "stream",
     "text": [
      "PyAEDT INFO: AEDT installation Path C:\\Program Files\\AnsysEM\\v242\\Win64\n"
     ]
    },
    {
     "name": "stdout",
     "output_type": "stream",
     "text": [
      "PyAEDT INFO: Ansoft.ElectronicsDesktop.2024.2 version started with process ID 3300.\n"
     ]
    },
    {
     "name": "stdout",
     "output_type": "stream",
     "text": [
      "PyAEDT INFO: EDB folder C:\\Users\\ansys\\AppData\\Local\\Temp\\tmp1hoid623.ansys\\pcb.aedb has been imported to project pcb\n"
     ]
    },
    {
     "name": "stdout",
     "output_type": "stream",
     "text": [
      "PyAEDT INFO: Active Design set to 0;Cell_6FHTSO\n"
     ]
    },
    {
     "name": "stdout",
     "output_type": "stream",
     "text": [
      "PyAEDT INFO: Aedt Objects correctly read\n"
     ]
    }
   ],
   "source": [
    "h3d = pyaedt.Hfss3dLayout(\n",
    "    project=aedb_path,\n",
    "    version=edb_version,\n",
    "    non_graphical=non_graphical,\n",
    "    new_desktop=True,\n",
    ")"
   ]
  },
  {
   "cell_type": "markdown",
   "id": "fbdcfae2",
   "metadata": {},
   "source": [
    "## Add HFSS simulation setup\n",
    "\n",
    "Add HFSS simulation setup."
   ]
  },
  {
   "cell_type": "code",
   "execution_count": 26,
   "id": "a99f1954",
   "metadata": {
    "execution": {
     "iopub.execute_input": "2024-09-04T08:10:06.450066Z",
     "iopub.status.busy": "2024-09-04T08:10:06.450066Z",
     "iopub.status.idle": "2024-09-04T08:10:06.591804Z",
     "shell.execute_reply": "2024-09-04T08:10:06.591804Z"
    }
   },
   "outputs": [
    {
     "name": "stdout",
     "output_type": "stream",
     "text": [
      "PyAEDT INFO: Linear count sweep sweep1 has been correctly created.\n"
     ]
    },
    {
     "data": {
      "text/plain": [
       "<ansys.aedt.core.modules.solve_sweeps.SweepHFSS3DLayout at 0x1a825d88e60>"
      ]
     },
     "execution_count": 26,
     "metadata": {},
     "output_type": "execute_result"
    }
   ],
   "source": [
    "setup = h3d.create_setup()\n",
    "setup.props[\"AdaptiveSettings\"][\"SingleFrequencyDataList\"][\"AdaptiveFrequencyData\"][\"MaxPasses\"] = 3\n",
    "\n",
    "h3d.create_linear_count_sweep(\n",
    "    setup=setup.name,\n",
    "    unit=\"GHz\",\n",
    "    start_frequency=0,\n",
    "    stop_frequency=10,\n",
    "    num_of_freq_points=1001,\n",
    "    name=\"sweep1\",\n",
    "    sweep_type=\"Interpolating\",\n",
    "    interpolation_tol_percent=1,\n",
    "    interpolation_max_solutions=255,\n",
    "    save_fields=False,\n",
    "    use_q3d_for_dc=False,\n",
    ")"
   ]
  },
  {
   "cell_type": "markdown",
   "id": "662ebc9d",
   "metadata": {},
   "source": [
    "Define the differential pairs to used to calculate differential and common mode\n",
    "s-parameters."
   ]
  },
  {
   "cell_type": "code",
   "execution_count": 27,
   "id": "ae3c5c04",
   "metadata": {
    "execution": {
     "iopub.execute_input": "2024-09-04T08:10:06.591804Z",
     "iopub.status.busy": "2024-09-04T08:10:06.591804Z",
     "iopub.status.idle": "2024-09-04T08:10:06.638664Z",
     "shell.execute_reply": "2024-09-04T08:10:06.638664Z"
    }
   },
   "outputs": [
    {
     "data": {
      "text/plain": [
       "True"
      ]
     },
     "execution_count": 27,
     "metadata": {},
     "output_type": "execute_result"
    }
   ],
   "source": [
    "h3d.set_differential_pair(differential_mode=\"In\", assignment=pos_p1, reference=neg_p1)\n",
    "h3d.set_differential_pair(differential_mode=\"Out\", assignment=pos_p2, reference=neg_p2)"
   ]
  },
  {
   "cell_type": "markdown",
   "id": "f04a00f2",
   "metadata": {},
   "source": [
    "Solve the project."
   ]
  },
  {
   "cell_type": "code",
   "execution_count": 28,
   "id": "8b5d567e",
   "metadata": {
    "execution": {
     "iopub.execute_input": "2024-09-04T08:10:06.638664Z",
     "iopub.status.busy": "2024-09-04T08:10:06.638664Z",
     "iopub.status.idle": "2024-09-04T08:11:34.311895Z",
     "shell.execute_reply": "2024-09-04T08:11:34.310891Z"
    }
   },
   "outputs": [
    {
     "name": "stdout",
     "output_type": "stream",
     "text": [
      "PyAEDT INFO: Key Desktop/ActiveDSOConfigurations/HFSS 3D Layout Design correctly changed.\n"
     ]
    },
    {
     "name": "stdout",
     "output_type": "stream",
     "text": [
      "PyAEDT INFO: Solving all design setups.\n"
     ]
    },
    {
     "name": "stdout",
     "output_type": "stream",
     "text": [
      "PyAEDT INFO: Key Desktop/ActiveDSOConfigurations/HFSS 3D Layout Design correctly changed.\n"
     ]
    },
    {
     "name": "stdout",
     "output_type": "stream",
     "text": [
      "PyAEDT INFO: Design setup None solved correctly in 0.0h 1.0m 28.0s\n"
     ]
    },
    {
     "data": {
      "text/plain": [
       "True"
      ]
     },
     "execution_count": 28,
     "metadata": {},
     "output_type": "execute_result"
    }
   ],
   "source": [
    "h3d.analyze()"
   ]
  },
  {
   "cell_type": "markdown",
   "id": "80145999",
   "metadata": {},
   "source": [
    "Plot the results and shut down AEDT."
   ]
  },
  {
   "cell_type": "code",
   "execution_count": 29,
   "id": "52ac4ad0",
   "metadata": {
    "execution": {
     "iopub.execute_input": "2024-09-04T08:11:34.311895Z",
     "iopub.status.busy": "2024-09-04T08:11:34.311895Z",
     "iopub.status.idle": "2024-09-04T08:11:38.743217Z",
     "shell.execute_reply": "2024-09-04T08:11:38.743217Z"
    }
   },
   "outputs": [
    {
     "name": "stdout",
     "output_type": "stream",
     "text": [
      "PyAEDT INFO: Parsing C:/Users/ansys/AppData/Local/Temp/tmp1hoid623.ansys/pcb.aedt.\n"
     ]
    },
    {
     "name": "stdout",
     "output_type": "stream",
     "text": [
      "PyAEDT INFO: File C:/Users/ansys/AppData/Local/Temp/tmp1hoid623.ansys/pcb.aedt correctly loaded. Elapsed time: 0m 0sec\n"
     ]
    },
    {
     "name": "stdout",
     "output_type": "stream",
     "text": [
      "PyAEDT INFO: aedt file load time 0.015625715255737305\n"
     ]
    },
    {
     "name": "stdout",
     "output_type": "stream",
     "text": [
      "PyAEDT INFO: Loading Modeler.\n"
     ]
    },
    {
     "name": "stdout",
     "output_type": "stream",
     "text": [
      "PyAEDT INFO: Modeler loaded.\n"
     ]
    },
    {
     "name": "stdout",
     "output_type": "stream",
     "text": [
      "PyAEDT INFO: EDB loaded.\n"
     ]
    },
    {
     "name": "stdout",
     "output_type": "stream",
     "text": [
      "PyAEDT INFO: Layers loaded.\n"
     ]
    },
    {
     "name": "stdout",
     "output_type": "stream",
     "text": [
      "PyAEDT INFO: Primitives loaded.\n"
     ]
    },
    {
     "name": "stdout",
     "output_type": "stream",
     "text": [
      "PyAEDT INFO: Modeler class has been initialized! Elapsed time: 0m 0sec\n"
     ]
    },
    {
     "name": "stdout",
     "output_type": "stream",
     "text": [
      "PyAEDT INFO: PostProcessor class has been initialized! Elapsed time: 0m 0sec\n"
     ]
    },
    {
     "name": "stdout",
     "output_type": "stream",
     "text": [
      "PyAEDT INFO: Post class has been initialized! Elapsed time: 0m 0sec\n"
     ]
    },
    {
     "name": "stdout",
     "output_type": "stream",
     "text": [
      "PyAEDT INFO: Solution Data Correctly Loaded.\n"
     ]
    },
    {
     "name": "stdout",
     "output_type": "stream",
     "text": [
      "PyAEDT INFO: Desktop has been released and closed.\n"
     ]
    },
    {
     "data": {
      "text/plain": [
       "True"
      ]
     },
     "execution_count": 29,
     "metadata": {},
     "output_type": "execute_result"
    }
   ],
   "source": [
    "solutions = h3d.post.get_solution_data([\"dB(S(In,In))\", \"dB(S(In,Out))\"], context=\"Differential Pairs\")\n",
    "solutions.plot()\n",
    "h3d.release_desktop()"
   ]
  },
  {
   "cell_type": "markdown",
   "id": "8061ec2c",
   "metadata": {},
   "source": [
    "Note that the ground nets are only connected to each other due\n",
    "to the wave ports. The problem with poor grounding can be seen in the\n",
    "S-parameters. This example can be downloaded as a Jupyter Notebook, so\n",
    "you can modify it. Try changing parameters or adding ground vias to improve performance.\n",
    "\n",
    "The final cell cleans up the temporary directory, removing all files."
   ]
  },
  {
   "cell_type": "code",
   "execution_count": 30,
   "id": "bc7ae28a",
   "metadata": {
    "execution": {
     "iopub.execute_input": "2024-09-04T08:11:38.743217Z",
     "iopub.status.busy": "2024-09-04T08:11:38.743217Z",
     "iopub.status.idle": "2024-09-04T08:11:38.758852Z",
     "shell.execute_reply": "2024-09-04T08:11:38.758852Z"
    }
   },
   "outputs": [],
   "source": [
    "temp_dir.cleanup()"
   ]
  }
 ],
 "metadata": {
  "jupytext": {
   "cell_metadata_filter": "-all",
   "main_language": "python",
   "notebook_metadata_filter": "-all",
   "text_representation": {
    "extension": ".py",
    "format_name": "light"
   }
  },
  "language_info": {
   "codemirror_mode": {
    "name": "ipython",
    "version": 3
   },
   "file_extension": ".py",
   "mimetype": "text/x-python",
   "name": "python",
   "nbconvert_exporter": "python",
   "pygments_lexer": "ipython3",
   "version": "3.10.11"
  }
 },
 "nbformat": 4,
 "nbformat_minor": 5
}
