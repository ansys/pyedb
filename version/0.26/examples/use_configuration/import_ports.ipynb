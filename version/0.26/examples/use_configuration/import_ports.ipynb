{
 "cells": [
  {
   "cell_type": "markdown",
   "id": "25261c83",
   "metadata": {},
   "source": [
    "# Import Ports\n",
    "This example shows how to import ports. In this example, we are going to\n",
    "\n",
    "- Download an example board\n",
    "- Create a configuration file\n",
    "  - Add a circuit port between two nets\n",
    "  - Add a circuit port between two pins\n",
    "  - Add a circuit port between two pin groups\n",
    "  - Add a circuit port between two coordinates\n",
    "  - Add a coax port\n",
    "  - Add a port reference to the neareast pin\n",
    "  - Add distributed ports\n",
    "- Import the configuration file"
   ]
  },
  {
   "cell_type": "markdown",
   "id": "1a91ecf3",
   "metadata": {},
   "source": [
    "## Import the required packages"
   ]
  },
  {
   "cell_type": "code",
   "execution_count": 1,
   "id": "856a8f24",
   "metadata": {
    "execution": {
     "iopub.execute_input": "2024-09-04T08:25:30.074949Z",
     "iopub.status.busy": "2024-09-04T08:25:30.074949Z",
     "iopub.status.idle": "2024-09-04T08:25:30.653088Z",
     "shell.execute_reply": "2024-09-04T08:25:30.653088Z"
    }
   },
   "outputs": [
    {
     "name": "stdout",
     "output_type": "stream",
     "text": [
      "FutureWarning: Module 'pyaedt' has become an alias to the new package structure. Please update you imports to use the new architecture based on 'ansys.aedt.core'. In addition, some files have been renamed to follow the PEP 8 naming convention. The old structure and file names will be deprecated in future versions, see https://aedt.docs.pyansys.com/version/stable/release_1_0.html\n"
     ]
    }
   ],
   "source": [
    "import json\n",
    "from pathlib import Path\n",
    "import tempfile\n",
    "\n",
    "from pyaedt.downloads import download_file\n",
    "\n",
    "from pyedb import Edb\n",
    "\n",
    "AEDT_VERSION = \"2024.2\"\n",
    "NG_MODE = False\n"
   ]
  },
  {
   "cell_type": "markdown",
   "id": "86509f7c",
   "metadata": {},
   "source": [
    "Download the example PCB data."
   ]
  },
  {
   "cell_type": "code",
   "execution_count": 2,
   "id": "a4a06e36",
   "metadata": {
    "execution": {
     "iopub.execute_input": "2024-09-04T08:25:30.653088Z",
     "iopub.status.busy": "2024-09-04T08:25:30.653088Z",
     "iopub.status.idle": "2024-09-04T08:25:31.346852Z",
     "shell.execute_reply": "2024-09-04T08:25:31.346852Z"
    }
   },
   "outputs": [],
   "source": [
    "temp_folder = tempfile.TemporaryDirectory(suffix=\".ansys\")\n",
    "file_edb = download_file(source=\"edb/ANSYS-HSD_V1.aedb\", destination=temp_folder.name)"
   ]
  },
  {
   "cell_type": "markdown",
   "id": "991390e7",
   "metadata": {},
   "source": [
    "## Load example layout"
   ]
  },
  {
   "cell_type": "code",
   "execution_count": 3,
   "id": "31b35201",
   "metadata": {
    "execution": {
     "iopub.execute_input": "2024-09-04T08:25:31.346852Z",
     "iopub.status.busy": "2024-09-04T08:25:31.346852Z",
     "iopub.status.idle": "2024-09-04T08:25:43.918987Z",
     "shell.execute_reply": "2024-09-04T08:25:43.918987Z"
    }
   },
   "outputs": [
    {
     "name": "stdout",
     "output_type": "stream",
     "text": [
      "PyAEDT INFO: Logger is initialized in EDB.\n"
     ]
    },
    {
     "name": "stdout",
     "output_type": "stream",
     "text": [
      "PyAEDT INFO: legacy v0.26.3\n"
     ]
    },
    {
     "name": "stdout",
     "output_type": "stream",
     "text": [
      "PyAEDT INFO: Python version 3.10.11 (tags/v3.10.11:7d4cc5a, Apr  5 2023, 00:38:17) [MSC v.1929 64 bit (AMD64)]\n"
     ]
    },
    {
     "name": "stdout",
     "output_type": "stream",
     "text": [
      "PyAEDT INFO: Database ANSYS-HSD_V1.aedb Opened in 2024.2\n"
     ]
    },
    {
     "name": "stdout",
     "output_type": "stream",
     "text": [
      "PyAEDT INFO: Cell main Opened\n"
     ]
    },
    {
     "name": "stdout",
     "output_type": "stream",
     "text": [
      "PyAEDT INFO: Builder was initialized.\n"
     ]
    },
    {
     "name": "stdout",
     "output_type": "stream",
     "text": [
      "PyAEDT INFO: EDB initialized.\n"
     ]
    }
   ],
   "source": [
    "edbapp = Edb(file_edb, edbversion=AEDT_VERSION)"
   ]
  },
  {
   "cell_type": "markdown",
   "id": "54fd9d2f",
   "metadata": {},
   "source": [
    "## Create an empty dictionary to host all configurations"
   ]
  },
  {
   "cell_type": "code",
   "execution_count": 4,
   "id": "2f5639f0",
   "metadata": {
    "execution": {
     "iopub.execute_input": "2024-09-04T08:25:43.918987Z",
     "iopub.status.busy": "2024-09-04T08:25:43.918987Z",
     "iopub.status.idle": "2024-09-04T08:25:43.934553Z",
     "shell.execute_reply": "2024-09-04T08:25:43.934553Z"
    }
   },
   "outputs": [],
   "source": [
    "cfg = dict()"
   ]
  },
  {
   "cell_type": "markdown",
   "id": "3d705a62",
   "metadata": {},
   "source": [
    "## Add a circuit port between two nets"
   ]
  },
  {
   "cell_type": "markdown",
   "id": "c07fab49",
   "metadata": {},
   "source": [
    "Keywords\n",
    "\n",
    "- **name**. Name of the port.\n",
    "- **Reference_designator**. Reference designator of the component.\n",
    "- **type**. Type of the port. Supported types are 'circuit', 'coax'\n",
    "- **positve_terminal**. Positive terminal of the port. Supported types are 'net', 'pin', 'pin_group', 'coordinates'\n",
    "- **negative_terminal**. Negative terminal of the port. Supported types are 'net', 'pin', 'pin_group', 'coordinates',\n",
    "'nearest_pin'"
   ]
  },
  {
   "cell_type": "code",
   "execution_count": 5,
   "id": "51f9f0bf",
   "metadata": {
    "execution": {
     "iopub.execute_input": "2024-09-04T08:25:43.934553Z",
     "iopub.status.busy": "2024-09-04T08:25:43.934553Z",
     "iopub.status.idle": "2024-09-04T08:25:43.950180Z",
     "shell.execute_reply": "2024-09-04T08:25:43.950180Z"
    }
   },
   "outputs": [],
   "source": [
    "port_1 = {\n",
    "    \"name\": \"port_1\",\n",
    "    \"reference_designator\": \"X1\",\n",
    "    \"type\": \"circuit\",\n",
    "    \"positive_terminal\": {\"net\": \"PCIe_Gen4_TX2_N\"},\n",
    "    \"negative_terminal\": {\"net\": \"GND\"},\n",
    "}"
   ]
  },
  {
   "cell_type": "markdown",
   "id": "0e8e5fe0",
   "metadata": {},
   "source": [
    "## Add a circuit port between two pins"
   ]
  },
  {
   "cell_type": "code",
   "execution_count": 6,
   "id": "7de6e41c",
   "metadata": {
    "execution": {
     "iopub.execute_input": "2024-09-04T08:25:43.954058Z",
     "iopub.status.busy": "2024-09-04T08:25:43.954058Z",
     "iopub.status.idle": "2024-09-04T08:25:43.966200Z",
     "shell.execute_reply": "2024-09-04T08:25:43.966200Z"
    }
   },
   "outputs": [],
   "source": [
    "port_2 = {\n",
    "    \"name\": \"port_2\",\n",
    "    \"reference_designator\": \"C375\",\n",
    "    \"type\": \"circuit\",\n",
    "    \"positive_terminal\": {\"pin\": \"1\"},\n",
    "    \"negative_terminal\": {\"pin\": \"2\"},\n",
    "}"
   ]
  },
  {
   "cell_type": "markdown",
   "id": "83ae6c24",
   "metadata": {},
   "source": [
    "## Add a circuit port between two pin groups"
   ]
  },
  {
   "cell_type": "code",
   "execution_count": 7,
   "id": "37af16b9",
   "metadata": {
    "execution": {
     "iopub.execute_input": "2024-09-04T08:25:43.966200Z",
     "iopub.status.busy": "2024-09-04T08:25:43.966200Z",
     "iopub.status.idle": "2024-09-04T08:25:43.981891Z",
     "shell.execute_reply": "2024-09-04T08:25:43.981891Z"
    }
   },
   "outputs": [],
   "source": [
    "pin_groups = [\n",
    "    {\"name\": \"U9_5V_1\", \"reference_designator\": \"U9\", \"pins\": [\"32\", \"33\"]},\n",
    "    {\"name\": \"U9_GND\", \"reference_designator\": \"U9\", \"net\": \"GND\"},\n",
    "]"
   ]
  },
  {
   "cell_type": "code",
   "execution_count": 8,
   "id": "75d71317",
   "metadata": {
    "execution": {
     "iopub.execute_input": "2024-09-04T08:25:43.981891Z",
     "iopub.status.busy": "2024-09-04T08:25:43.981891Z",
     "iopub.status.idle": "2024-09-04T08:25:43.997517Z",
     "shell.execute_reply": "2024-09-04T08:25:43.997517Z"
    }
   },
   "outputs": [],
   "source": [
    "port_3 = {\n",
    "    \"name\": \"port_3\",\n",
    "    \"type\": \"circuit\",\n",
    "    \"positive_terminal\": {\"pin_group\": \"U9_5V_1\"},\n",
    "    \"negative_terminal\": {\"pin_group\": \"U9_GND\"},\n",
    "}"
   ]
  },
  {
   "cell_type": "markdown",
   "id": "2cc48b6c",
   "metadata": {},
   "source": [
    "## Add a circuit port between two coordinates"
   ]
  },
  {
   "cell_type": "markdown",
   "id": "815a1590",
   "metadata": {},
   "source": [
    "Keywords\n",
    "\n",
    "- **layer**. Layer on which the terminal is placed\n",
    "- **point**. XY coordinate the terminal is placed\n",
    "- **net**. Name of the net the terminal is placed on"
   ]
  },
  {
   "cell_type": "code",
   "execution_count": 9,
   "id": "22e3e3b4",
   "metadata": {
    "execution": {
     "iopub.execute_input": "2024-09-04T08:25:43.997517Z",
     "iopub.status.busy": "2024-09-04T08:25:43.997517Z",
     "iopub.status.idle": "2024-09-04T08:25:44.013141Z",
     "shell.execute_reply": "2024-09-04T08:25:44.013141Z"
    }
   },
   "outputs": [],
   "source": [
    "port_4 = {\n",
    "    \"name\": \"port_4\",\n",
    "    \"positive_terminal\": {\"coordinates\": {\"layer\": \"1_Top\", \"point\": [\"104mm\", \"37mm\"], \"net\": \"AVCC_1V3\"}},\n",
    "    \"negative_terminal\": {\"coordinates\": {\"layer\": \"Inner6(GND2)\", \"point\": [\"104mm\", \"37mm\"], \"net\": \"GND\"}},\n",
    "}"
   ]
  },
  {
   "cell_type": "markdown",
   "id": "6352ea93",
   "metadata": {},
   "source": [
    "## Add a coax port"
   ]
  },
  {
   "cell_type": "code",
   "execution_count": 10,
   "id": "5a4e8d19",
   "metadata": {
    "execution": {
     "iopub.execute_input": "2024-09-04T08:25:44.013141Z",
     "iopub.status.busy": "2024-09-04T08:25:44.013141Z",
     "iopub.status.idle": "2024-09-04T08:25:44.028786Z",
     "shell.execute_reply": "2024-09-04T08:25:44.028786Z"
    }
   },
   "outputs": [],
   "source": [
    "port_5 = {\"name\": \"port_5\", \"reference_designator\": \"U1\", \"type\": \"coax\", \"positive_terminal\": {\"pin\": \"AM17\"}}"
   ]
  },
  {
   "cell_type": "markdown",
   "id": "2be51841",
   "metadata": {},
   "source": [
    "## Add a port reference to the neareast pin"
   ]
  },
  {
   "cell_type": "markdown",
   "id": "ca3829ab",
   "metadata": {},
   "source": [
    "Keywords\n",
    "\n",
    "- **reference_net**. Name of the reference net\n",
    "- **search_radius**. Reference pin search radius in meter"
   ]
  },
  {
   "cell_type": "code",
   "execution_count": 11,
   "id": "2eb8caa8",
   "metadata": {
    "execution": {
     "iopub.execute_input": "2024-09-04T08:25:44.028786Z",
     "iopub.status.busy": "2024-09-04T08:25:44.028786Z",
     "iopub.status.idle": "2024-09-04T08:25:44.044392Z",
     "shell.execute_reply": "2024-09-04T08:25:44.044392Z"
    }
   },
   "outputs": [],
   "source": [
    "port_6 = {\n",
    "    \"name\": \"port_6\",\n",
    "    \"reference_designator\": \"U15\",\n",
    "    \"type\": \"circuit\",\n",
    "    \"positive_terminal\": {\"pin\": \"D7\"},\n",
    "    \"negative_terminal\": {\"nearest_pin\": {\"reference_net\": \"GND\", \"search_radius\": 5e-3}},\n",
    "}"
   ]
  },
  {
   "cell_type": "markdown",
   "id": "87983f8a",
   "metadata": {},
   "source": [
    "## Add distributed ports"
   ]
  },
  {
   "cell_type": "markdown",
   "id": "99fd655f",
   "metadata": {},
   "source": [
    "Keywords\n",
    "\n",
    "- **distributed**. Whether to create distributed ports. When set to True, ports are created per pin"
   ]
  },
  {
   "cell_type": "code",
   "execution_count": 12,
   "id": "98357f80",
   "metadata": {
    "execution": {
     "iopub.execute_input": "2024-09-04T08:25:44.044392Z",
     "iopub.status.busy": "2024-09-04T08:25:44.044392Z",
     "iopub.status.idle": "2024-09-04T08:25:44.060032Z",
     "shell.execute_reply": "2024-09-04T08:25:44.060032Z"
    }
   },
   "outputs": [],
   "source": [
    "ports_distributed = {\n",
    "    \"name\": \"ports_d\",\n",
    "    \"reference_designator\": \"U7\",\n",
    "    \"type\": \"circuit\",\n",
    "    \"distributed\": True,\n",
    "    \"positive_terminal\": {\"net\": \"VDD_DDR\"},\n",
    "    \"negative_terminal\": {\"net\": \"GND\"},\n",
    "}"
   ]
  },
  {
   "cell_type": "markdown",
   "id": "501e2301",
   "metadata": {},
   "source": [
    "## Add setups in configuration"
   ]
  },
  {
   "cell_type": "code",
   "execution_count": 13,
   "id": "f1b35caf",
   "metadata": {
    "execution": {
     "iopub.execute_input": "2024-09-04T08:25:44.060032Z",
     "iopub.status.busy": "2024-09-04T08:25:44.060032Z",
     "iopub.status.idle": "2024-09-04T08:25:44.075644Z",
     "shell.execute_reply": "2024-09-04T08:25:44.075644Z"
    }
   },
   "outputs": [],
   "source": [
    "cfg[\"pin_groups\"] = pin_groups\n",
    "cfg[\"ports\"] = [port_1, port_2, port_3, port_4, port_5, port_6, ports_distributed]"
   ]
  },
  {
   "cell_type": "markdown",
   "id": "1c53c67d",
   "metadata": {},
   "source": [
    "## Write configuration into as json file"
   ]
  },
  {
   "cell_type": "code",
   "execution_count": 14,
   "id": "de5c861a",
   "metadata": {
    "execution": {
     "iopub.execute_input": "2024-09-04T08:25:44.075644Z",
     "iopub.status.busy": "2024-09-04T08:25:44.075644Z",
     "iopub.status.idle": "2024-09-04T08:25:44.091268Z",
     "shell.execute_reply": "2024-09-04T08:25:44.091268Z"
    }
   },
   "outputs": [],
   "source": [
    "file_json = Path(temp_folder.name) / \"edb_configuration.json\"\n",
    "with open(file_json, \"w\") as f:\n",
    "    json.dump(cfg, f, indent=4, ensure_ascii=False)"
   ]
  },
  {
   "cell_type": "markdown",
   "id": "ba8f341a",
   "metadata": {},
   "source": [
    "## Import configuration into example layout"
   ]
  },
  {
   "cell_type": "code",
   "execution_count": 15,
   "id": "cdcefb1f",
   "metadata": {
    "execution": {
     "iopub.execute_input": "2024-09-04T08:25:44.091268Z",
     "iopub.status.busy": "2024-09-04T08:25:44.091268Z",
     "iopub.status.idle": "2024-09-04T08:25:45.841295Z",
     "shell.execute_reply": "2024-09-04T08:25:45.841295Z"
    }
   },
   "outputs": [
    {
     "data": {
      "text/plain": [
       "True"
      ]
     },
     "execution_count": 15,
     "metadata": {},
     "output_type": "execute_result"
    }
   ],
   "source": [
    "edbapp.configuration.load(config_file=file_json)\n",
    "edbapp.configuration.run()"
   ]
  },
  {
   "cell_type": "markdown",
   "id": "da633a47",
   "metadata": {},
   "source": [
    "## Review"
   ]
  },
  {
   "cell_type": "code",
   "execution_count": 16,
   "id": "f422864d",
   "metadata": {
    "execution": {
     "iopub.execute_input": "2024-09-04T08:25:45.841295Z",
     "iopub.status.busy": "2024-09-04T08:25:45.841295Z",
     "iopub.status.idle": "2024-09-04T08:25:45.872578Z",
     "shell.execute_reply": "2024-09-04T08:25:45.872578Z"
    }
   },
   "outputs": [
    {
     "data": {
      "text/plain": [
       "{'port_1': <pyedb.dotnet.edb_core.edb_data.ports.CircuitPort at 0x2574ec99760>,\n",
       " 'port_2': <pyedb.dotnet.edb_core.edb_data.ports.CircuitPort at 0x2574ec98320>,\n",
       " 'port_3': <pyedb.dotnet.edb_core.edb_data.ports.CircuitPort at 0x2574ec9aea0>,\n",
       " 'port_4': <pyedb.dotnet.edb_core.edb_data.ports.GapPort at 0x2574ec9ba60>,\n",
       " 'port_5': <pyedb.dotnet.edb_core.edb_data.ports.CoaxPort at 0x2574ec9cde0>,\n",
       " 'port_6': <pyedb.dotnet.edb_core.edb_data.ports.CircuitPort at 0x2574eca2560>,\n",
       " 'U7_VDD_DDR_T9': <pyedb.dotnet.edb_core.edb_data.ports.CircuitPort at 0x2574eca2a20>,\n",
       " 'U7_VDD_DDR_R1': <pyedb.dotnet.edb_core.edb_data.ports.CircuitPort at 0x2574eca22e0>,\n",
       " 'U7_VDD_DDR_L9': <pyedb.dotnet.edb_core.edb_data.ports.CircuitPort at 0x2574eca3fa0>,\n",
       " 'U7_VDD_DDR_L1': <pyedb.dotnet.edb_core.edb_data.ports.CircuitPort at 0x2574eca33a0>,\n",
       " 'U7_VDD_DDR_J9': <pyedb.dotnet.edb_core.edb_data.ports.CircuitPort at 0x2574eca3c60>,\n",
       " 'U7_VDD_DDR_J8': <pyedb.dotnet.edb_core.edb_data.ports.CircuitPort at 0x2574eca46a0>,\n",
       " 'U7_VDD_DDR_J2': <pyedb.dotnet.edb_core.edb_data.ports.CircuitPort at 0x2574eca50e0>,\n",
       " 'U7_VDD_DDR_J1': <pyedb.dotnet.edb_core.edb_data.ports.CircuitPort at 0x2574eca4a60>,\n",
       " 'U7_VDD_DDR_G9': <pyedb.dotnet.edb_core.edb_data.ports.CircuitPort at 0x2574eca5ea0>,\n",
       " 'U7_VDD_DDR_G7': <pyedb.dotnet.edb_core.edb_data.ports.CircuitPort at 0x2574eca5820>,\n",
       " 'U7_VDD_DDR_G1': <pyedb.dotnet.edb_core.edb_data.ports.CircuitPort at 0x2574eca5aa0>,\n",
       " 'U7_VDD_DDR_F8': <pyedb.dotnet.edb_core.edb_data.ports.CircuitPort at 0x2574eca59e0>,\n",
       " 'U7_VDD_DDR_F2': <pyedb.dotnet.edb_core.edb_data.ports.CircuitPort at 0x2574eca6ca0>,\n",
       " 'U7_VDD_DDR_D9': <pyedb.dotnet.edb_core.edb_data.ports.CircuitPort at 0x2574eca65e0>,\n",
       " 'U7_VDD_DDR_D1': <pyedb.dotnet.edb_core.edb_data.ports.CircuitPort at 0x2574eca6b60>,\n",
       " 'U7_VDD_DDR_C1': <pyedb.dotnet.edb_core.edb_data.ports.CircuitPort at 0x2574eca74e0>,\n",
       " 'U7_VDD_DDR_B9': <pyedb.dotnet.edb_core.edb_data.ports.CircuitPort at 0x2574eca7d60>,\n",
       " 'U7_VDD_DDR_B3': <pyedb.dotnet.edb_core.edb_data.ports.CircuitPort at 0x2574eca7520>,\n",
       " 'U7_VDD_DDR_A9': <pyedb.dotnet.edb_core.edb_data.ports.CircuitPort at 0x2574eca8b20>,\n",
       " 'U7_VDD_DDR_A1': <pyedb.dotnet.edb_core.edb_data.ports.CircuitPort at 0x2574eca90e0>}"
      ]
     },
     "execution_count": 16,
     "metadata": {},
     "output_type": "execute_result"
    }
   ],
   "source": [
    "edbapp.ports"
   ]
  },
  {
   "cell_type": "markdown",
   "id": "238b0dba",
   "metadata": {},
   "source": [
    "## Save EDB"
   ]
  },
  {
   "cell_type": "code",
   "execution_count": 17,
   "id": "bf4333fa",
   "metadata": {
    "execution": {
     "iopub.execute_input": "2024-09-04T08:25:45.872578Z",
     "iopub.status.busy": "2024-09-04T08:25:45.872578Z",
     "iopub.status.idle": "2024-09-04T08:25:45.997555Z",
     "shell.execute_reply": "2024-09-04T08:25:45.997555Z"
    }
   },
   "outputs": [
    {
     "name": "stdout",
     "output_type": "stream",
     "text": [
      "EDB is saved to C:\\Users\\ansys\\AppData\\Local\\Temp\\tmplu1g8hg3.ansys\\edb/ANSYS-HSD_V1.aedb\n"
     ]
    }
   ],
   "source": [
    "edbapp.save()\n",
    "print(f\"EDB is saved to {edbapp.edbpath}\")"
   ]
  },
  {
   "cell_type": "markdown",
   "id": "bfd53023",
   "metadata": {},
   "source": [
    "## Close EDB"
   ]
  },
  {
   "cell_type": "code",
   "execution_count": 18,
   "id": "eee374ae",
   "metadata": {
    "execution": {
     "iopub.execute_input": "2024-09-04T08:25:45.997555Z",
     "iopub.status.busy": "2024-09-04T08:25:45.997555Z",
     "iopub.status.idle": "2024-09-04T08:25:46.091252Z",
     "shell.execute_reply": "2024-09-04T08:25:46.091252Z"
    }
   },
   "outputs": [
    {
     "data": {
      "text/plain": [
       "True"
      ]
     },
     "execution_count": 18,
     "metadata": {},
     "output_type": "execute_result"
    }
   ],
   "source": [
    "edbapp.close()"
   ]
  }
 ],
 "metadata": {
  "jupytext": {
   "cell_metadata_filter": "-all",
   "main_language": "python",
   "notebook_metadata_filter": "-all",
   "text_representation": {
    "extension": ".py",
    "format_name": "light"
   }
  },
  "language_info": {
   "codemirror_mode": {
    "name": "ipython",
    "version": 3
   },
   "file_extension": ".py",
   "mimetype": "text/x-python",
   "name": "python",
   "nbconvert_exporter": "python",
   "pygments_lexer": "ipython3",
   "version": "3.10.11"
  }
 },
 "nbformat": 4,
 "nbformat_minor": 5
}
