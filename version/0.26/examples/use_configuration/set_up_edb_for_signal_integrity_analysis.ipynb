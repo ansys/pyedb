{
 "cells": [
  {
   "cell_type": "markdown",
   "id": "e7bfdd79",
   "metadata": {},
   "source": [
    "# Set up EDB for Power Integrity Analysis\n",
    "This example shows how to set up the electronics database (EDB) for power integrity analysis from a single\n",
    "configuration file."
   ]
  },
  {
   "cell_type": "markdown",
   "id": "d8b9736a",
   "metadata": {},
   "source": [
    "## Import the required packages"
   ]
  },
  {
   "cell_type": "code",
   "execution_count": 1,
   "id": "aa7748d6",
   "metadata": {
    "execution": {
     "iopub.execute_input": "2024-09-04T08:26:35.235424Z",
     "iopub.status.busy": "2024-09-04T08:26:35.235424Z",
     "iopub.status.idle": "2024-09-04T08:26:35.251052Z",
     "shell.execute_reply": "2024-09-04T08:26:35.251052Z"
    }
   },
   "outputs": [],
   "source": [
    "import json"
   ]
  },
  {
   "cell_type": "code",
   "execution_count": 2,
   "id": "ae495a5f",
   "metadata": {
    "execution": {
     "iopub.execute_input": "2024-09-04T08:26:35.251052Z",
     "iopub.status.busy": "2024-09-04T08:26:35.251052Z",
     "iopub.status.idle": "2024-09-04T08:26:35.797980Z",
     "shell.execute_reply": "2024-09-04T08:26:35.797980Z"
    }
   },
   "outputs": [
    {
     "name": "stdout",
     "output_type": "stream",
     "text": [
      "FutureWarning: Module 'pyaedt' has become an alias to the new package structure. Please update you imports to use the new architecture based on 'ansys.aedt.core'. In addition, some files have been renamed to follow the PEP 8 naming convention. The old structure and file names will be deprecated in future versions, see https://aedt.docs.pyansys.com/version/stable/release_1_0.html\n"
     ]
    }
   ],
   "source": [
    "import os\n",
    "import tempfile\n",
    "\n",
    "from pyaedt import Hfss3dLayout\n",
    "from pyaedt.downloads import download_file\n",
    "\n",
    "from pyedb import Edb\n",
    "\n",
    "AEDT_VERSION = \"2024.2\"\n",
    "NG_MODE = False\n"
   ]
  },
  {
   "cell_type": "markdown",
   "id": "bfc2ad18",
   "metadata": {},
   "source": [
    "Download the example PCB data."
   ]
  },
  {
   "cell_type": "code",
   "execution_count": 3,
   "id": "7cf6dbc1",
   "metadata": {
    "execution": {
     "iopub.execute_input": "2024-09-04T08:26:35.797980Z",
     "iopub.status.busy": "2024-09-04T08:26:35.797980Z",
     "iopub.status.idle": "2024-09-04T08:26:36.876467Z",
     "shell.execute_reply": "2024-09-04T08:26:36.876467Z"
    }
   },
   "outputs": [],
   "source": [
    "temp_folder = tempfile.TemporaryDirectory(suffix=\".ansys\")\n",
    "download_file(source=\"touchstone\", name=\"GRM32_DC0V_25degC_series.s2p\", destination=temp_folder.name)\n",
    "file_edb = download_file(source=\"edb/ANSYS-HSD_V1.aedb\", destination=temp_folder.name)"
   ]
  },
  {
   "cell_type": "markdown",
   "id": "145279e9",
   "metadata": {},
   "source": [
    "## Load example layout"
   ]
  },
  {
   "cell_type": "code",
   "execution_count": 4,
   "id": "142a2a67",
   "metadata": {
    "execution": {
     "iopub.execute_input": "2024-09-04T08:26:36.876467Z",
     "iopub.status.busy": "2024-09-04T08:26:36.876467Z",
     "iopub.status.idle": "2024-09-04T08:26:49.417400Z",
     "shell.execute_reply": "2024-09-04T08:26:49.417400Z"
    }
   },
   "outputs": [
    {
     "name": "stdout",
     "output_type": "stream",
     "text": [
      "PyAEDT INFO: Logger is initialized in EDB.\n"
     ]
    },
    {
     "name": "stdout",
     "output_type": "stream",
     "text": [
      "PyAEDT INFO: legacy v0.26.3\n"
     ]
    },
    {
     "name": "stdout",
     "output_type": "stream",
     "text": [
      "PyAEDT INFO: Python version 3.10.11 (tags/v3.10.11:7d4cc5a, Apr  5 2023, 00:38:17) [MSC v.1929 64 bit (AMD64)]\n"
     ]
    },
    {
     "name": "stdout",
     "output_type": "stream",
     "text": [
      "PyAEDT INFO: Database ANSYS-HSD_V1.aedb Opened in 2024.2\n"
     ]
    },
    {
     "name": "stdout",
     "output_type": "stream",
     "text": [
      "PyAEDT INFO: Cell main Opened\n"
     ]
    },
    {
     "name": "stdout",
     "output_type": "stream",
     "text": [
      "PyAEDT INFO: Builder was initialized.\n"
     ]
    },
    {
     "name": "stdout",
     "output_type": "stream",
     "text": [
      "PyAEDT INFO: EDB initialized.\n"
     ]
    }
   ],
   "source": [
    "edbapp = Edb(file_edb, edbversion=AEDT_VERSION)"
   ]
  },
  {
   "cell_type": "markdown",
   "id": "732534c6",
   "metadata": {},
   "source": [
    "## Create an empty dictionary to host all configurations"
   ]
  },
  {
   "cell_type": "code",
   "execution_count": 5,
   "id": "7b7ad3f8",
   "metadata": {
    "execution": {
     "iopub.execute_input": "2024-09-04T08:26:49.417400Z",
     "iopub.status.busy": "2024-09-04T08:26:49.417400Z",
     "iopub.status.idle": "2024-09-04T08:26:49.433012Z",
     "shell.execute_reply": "2024-09-04T08:26:49.433012Z"
    }
   },
   "outputs": [],
   "source": [
    "cfg = dict()"
   ]
  },
  {
   "cell_type": "markdown",
   "id": "d28bce22",
   "metadata": {},
   "source": [
    "## Assign S-parameter model to capactitors."
   ]
  },
  {
   "cell_type": "markdown",
   "id": "64561a99",
   "metadata": {},
   "source": [
    "Set S-parameter library path."
   ]
  },
  {
   "cell_type": "code",
   "execution_count": 6,
   "id": "ef0f2b7a",
   "metadata": {
    "execution": {
     "iopub.execute_input": "2024-09-04T08:26:49.433012Z",
     "iopub.status.busy": "2024-09-04T08:26:49.433012Z",
     "iopub.status.idle": "2024-09-04T08:26:49.448654Z",
     "shell.execute_reply": "2024-09-04T08:26:49.448654Z"
    }
   },
   "outputs": [],
   "source": [
    "cfg[\"general\"] = {\"s_parameter_library\": os.path.join(temp_folder.name, \"touchstone\")}"
   ]
  },
  {
   "cell_type": "markdown",
   "id": "8e8b063b",
   "metadata": {},
   "source": [
    "Assign the S-parameter model.\n",
    "\n",
    "Keywords\n",
    "\n",
    "- **name**. Name of the S-parameter model in AEDT.\n",
    "- **component**_definition. Known as component part number of part name.\n",
    "- **file_path**. Touchstone file or full path to the touchstone file.\n",
    "- **apply_to_all**. When set to True, assign the S-parameter model to all components share the same\n",
    "component_definition. When set to False, Only components in \"components\" are assigned.\n",
    "- **components**. when apply_to_all=False, components in the list are assigned an S-parameter model.\n",
    "When apply_to_all=False, components in the list are NOT assigned.\n",
    "- **reference_net**. Reference net of the S-parameter model."
   ]
  },
  {
   "cell_type": "code",
   "execution_count": 7,
   "id": "370a3731",
   "metadata": {
    "execution": {
     "iopub.execute_input": "2024-09-04T08:26:49.448654Z",
     "iopub.status.busy": "2024-09-04T08:26:49.448654Z",
     "iopub.status.idle": "2024-09-04T08:26:49.464201Z",
     "shell.execute_reply": "2024-09-04T08:26:49.464201Z"
    }
   },
   "outputs": [],
   "source": [
    "cfg[\"s_parameters\"] = [\n",
    "    {\n",
    "        \"name\": \"GRM32_DC0V_25degC_series\",\n",
    "        \"component_definition\": \"CAPC0603X33X15LL03T05\",\n",
    "        \"file_path\": \"GRM32_DC0V_25degC_series.s2p\",\n",
    "        \"apply_to_all\": False,\n",
    "        \"components\": [\"C110\", \"C206\"],\n",
    "        \"reference_net\": \"GND\",\n",
    "    }\n",
    "]"
   ]
  },
  {
   "cell_type": "markdown",
   "id": "ad7b25b0",
   "metadata": {},
   "source": [
    "## Define ports\n",
    "Create a circuit port between power and ground nets.\n",
    "\n",
    "Keywords\n",
    "\n",
    "- **name**. Name of the port.\n",
    "- **reference_desinator**.\n",
    "- **type**. Type of the port. Supported types are 'ciruict', 'coax'.\n",
    "- **positive_terminal**. Positive terminal of the port. Supported types are 'net', 'pin', 'pin_group', 'coordinates'.\n",
    "- **negative_terminal**. Positive terminal of the port. Supported types are 'net', 'pin', 'pin_group', 'coordinates'."
   ]
  },
  {
   "cell_type": "code",
   "execution_count": 8,
   "id": "cf13693c",
   "metadata": {
    "execution": {
     "iopub.execute_input": "2024-09-04T08:26:49.464201Z",
     "iopub.status.busy": "2024-09-04T08:26:49.464201Z",
     "iopub.status.idle": "2024-09-04T08:26:49.479952Z",
     "shell.execute_reply": "2024-09-04T08:26:49.479952Z"
    }
   },
   "outputs": [],
   "source": [
    "cfg[\"ports\"] = [\n",
    "    {\n",
    "        \"name\": \"port1\",\n",
    "        \"reference_designator\": \"U1\",\n",
    "        \"type\": \"circuit\",\n",
    "        \"positive_terminal\": {\"net\": \"1V0\"},\n",
    "        \"negative_terminal\": {\"net\": \"GND\"},\n",
    "    }\n",
    "]"
   ]
  },
  {
   "cell_type": "markdown",
   "id": "158b890a",
   "metadata": {},
   "source": [
    "## Define SIwave SYZ analysis setup\n",
    "\n",
    "Keywords\n",
    "\n",
    "- **name**. Name of the setup.\n",
    "- **type**. Type of the analysis setup. Supported types are 'siwave_ac', 'siwave_dc', 'hfss'.\n",
    "- **pi_slider_position**. PI slider position. Supported values are from '0', '1', '2'. 0:speed, 1:balanced,\n",
    "2:accuracy.\n",
    "- **freq_sweep**. List of frequency sweeps.\n",
    "  - **name**. Name of the sweep.\n",
    "  - **type**. Type of the sweep. Supported types are 'interpolation', 'discrete', 'broadband'.\n",
    "  - **frequencies**. Frequency distribution.\n",
    "    - **distribution**. Supported distributions are 'linear_count', 'linear_scale', 'log_scale'.\n",
    "    - **start**. Start frequency. Example, 1e6, \"1MHz\".\n",
    "    - **stop**. Stop frequency. Example, 1e9, \"1GHz\".\n",
    "    - **increment**."
   ]
  },
  {
   "cell_type": "code",
   "execution_count": 9,
   "id": "50f08ef3",
   "metadata": {
    "execution": {
     "iopub.execute_input": "2024-09-04T08:26:49.479952Z",
     "iopub.status.busy": "2024-09-04T08:26:49.479952Z",
     "iopub.status.idle": "2024-09-04T08:26:49.495643Z",
     "shell.execute_reply": "2024-09-04T08:26:49.495643Z"
    }
   },
   "outputs": [],
   "source": [
    "cfg[\"setups\"] = [\n",
    "    {\n",
    "        \"name\": \"siwave_syz\",\n",
    "        \"type\": \"siwave_ac\",\n",
    "        \"pi_slider_position\": 1,\n",
    "        \"freq_sweep\": [\n",
    "            {\n",
    "                \"name\": \"Sweep1\",\n",
    "                \"type\": \"interpolation\",\n",
    "                \"frequencies\": [{\"distribution\": \"log_scale\", \"start\": 1e6, \"stop\": 1e9, \"increment\": 20}],\n",
    "            }\n",
    "        ],\n",
    "    }\n",
    "]"
   ]
  },
  {
   "cell_type": "markdown",
   "id": "996642be",
   "metadata": {},
   "source": [
    "## Define Cutout\n",
    "\n",
    "Keywords\n",
    "\n",
    "- **signal_list**. List of nets to be kept after cutout.\n",
    "- **reference_list**. List of nets as reference planes.\n",
    "- **extent_type**. Supported extend types are 'Conforming', 'ConvexHull', 'Bounding'.\n",
    "For optional input arguments, refer to method pyedb.Edb.cutout()"
   ]
  },
  {
   "cell_type": "code",
   "execution_count": 10,
   "id": "288a3c7f",
   "metadata": {
    "execution": {
     "iopub.execute_input": "2024-09-04T08:26:49.495643Z",
     "iopub.status.busy": "2024-09-04T08:26:49.495643Z",
     "iopub.status.idle": "2024-09-04T08:26:49.511294Z",
     "shell.execute_reply": "2024-09-04T08:26:49.511294Z"
    }
   },
   "outputs": [],
   "source": [
    "cfg[\"operations\"] = {\n",
    "    \"cutout\": {\n",
    "        \"signal_list\": [\"1V0\"],\n",
    "        \"reference_list\": [\"GND\"],\n",
    "        \"extent_type\": \"ConvexHull\",\n",
    "    }\n",
    "}"
   ]
  },
  {
   "cell_type": "markdown",
   "id": "2b7e871d",
   "metadata": {},
   "source": [
    "## Write configuration into as json file"
   ]
  },
  {
   "cell_type": "code",
   "execution_count": 11,
   "id": "681ed57c",
   "metadata": {
    "execution": {
     "iopub.execute_input": "2024-09-04T08:26:49.511294Z",
     "iopub.status.busy": "2024-09-04T08:26:49.511294Z",
     "iopub.status.idle": "2024-09-04T08:26:49.526928Z",
     "shell.execute_reply": "2024-09-04T08:26:49.526928Z"
    }
   },
   "outputs": [],
   "source": [
    "file_json = os.path.join(temp_folder.name, \"edb_configuration.json\")\n",
    "with open(file_json, \"w\") as f:\n",
    "    json.dump(cfg, f, indent=4, ensure_ascii=False)"
   ]
  },
  {
   "cell_type": "markdown",
   "id": "4a1cd51f",
   "metadata": {},
   "source": [
    "## Import configuration into example layout"
   ]
  },
  {
   "cell_type": "code",
   "execution_count": 12,
   "id": "62e35867",
   "metadata": {
    "execution": {
     "iopub.execute_input": "2024-09-04T08:26:49.526928Z",
     "iopub.status.busy": "2024-09-04T08:26:49.526928Z",
     "iopub.status.idle": "2024-09-04T08:26:49.558145Z",
     "shell.execute_reply": "2024-09-04T08:26:49.558145Z"
    }
   },
   "outputs": [
    {
     "data": {
      "text/plain": [
       "<pyedb.configuration.cfg_data.CfgData at 0x1b91f8730f0>"
      ]
     },
     "execution_count": 12,
     "metadata": {},
     "output_type": "execute_result"
    }
   ],
   "source": [
    "edbapp.configuration.load(config_file=file_json)"
   ]
  },
  {
   "cell_type": "markdown",
   "id": "15381a17",
   "metadata": {},
   "source": [
    "Apply configuration to EDB."
   ]
  },
  {
   "cell_type": "code",
   "execution_count": 13,
   "id": "cadb4602",
   "metadata": {
    "execution": {
     "iopub.execute_input": "2024-09-04T08:26:49.558145Z",
     "iopub.status.busy": "2024-09-04T08:26:49.558145Z",
     "iopub.status.idle": "2024-09-04T08:27:01.809934Z",
     "shell.execute_reply": "2024-09-04T08:27:01.809934Z"
    }
   },
   "outputs": [
    {
     "name": "stdout",
     "output_type": "stream",
     "text": [
      "PyAEDT INFO: Cutout Multithread started.\n"
     ]
    },
    {
     "name": "stdout",
     "output_type": "stream",
     "text": [
      "PyAEDT INFO: Net clean up Elapsed time: 0m 4sec\n"
     ]
    },
    {
     "name": "stdout",
     "output_type": "stream",
     "text": [
      "PyAEDT INFO: Expanded Net Polygon Creation Elapsed time: 0m 0sec\n"
     ]
    },
    {
     "name": "stdout",
     "output_type": "stream",
     "text": [
      "PyAEDT INFO: Padstack Instances removal completed. 1310 instances removed. Elapsed time: 0m 1sec\n"
     ]
    },
    {
     "name": "stdout",
     "output_type": "stream",
     "text": [
      "PyAEDT INFO: Primitives cleanup completed. 265 primitives deleted. Elapsed time: 0m 4sec\n"
     ]
    },
    {
     "name": "stdout",
     "output_type": "stream",
     "text": [
      "PyAEDT INFO: Deleted 702 additional components\n"
     ]
    },
    {
     "name": "stdout",
     "output_type": "stream",
     "text": [
      "PyAEDT INFO: Cutout completed. Elapsed time: 0m 9sec\n"
     ]
    },
    {
     "data": {
      "text/plain": [
       "True"
      ]
     },
     "execution_count": 13,
     "metadata": {},
     "output_type": "execute_result"
    }
   ],
   "source": [
    "edbapp.configuration.run()"
   ]
  },
  {
   "cell_type": "markdown",
   "id": "8aadc840",
   "metadata": {},
   "source": [
    "Save and close EDB."
   ]
  },
  {
   "cell_type": "code",
   "execution_count": 14,
   "id": "a3f41296",
   "metadata": {
    "execution": {
     "iopub.execute_input": "2024-09-04T08:27:01.809934Z",
     "iopub.status.busy": "2024-09-04T08:27:01.809934Z",
     "iopub.status.idle": "2024-09-04T08:27:01.981844Z",
     "shell.execute_reply": "2024-09-04T08:27:01.981844Z"
    }
   },
   "outputs": [
    {
     "data": {
      "text/plain": [
       "True"
      ]
     },
     "execution_count": 14,
     "metadata": {},
     "output_type": "execute_result"
    }
   ],
   "source": [
    "edbapp.save()\n",
    "edbapp.close()"
   ]
  },
  {
   "cell_type": "markdown",
   "id": "6294aa0c",
   "metadata": {},
   "source": [
    "The configured EDB file is saved in a temp folder."
   ]
  },
  {
   "cell_type": "code",
   "execution_count": 15,
   "id": "446ad586",
   "metadata": {
    "execution": {
     "iopub.execute_input": "2024-09-04T08:27:01.981844Z",
     "iopub.status.busy": "2024-09-04T08:27:01.981844Z",
     "iopub.status.idle": "2024-09-04T08:27:01.997425Z",
     "shell.execute_reply": "2024-09-04T08:27:01.997425Z"
    }
   },
   "outputs": [
    {
     "name": "stdout",
     "output_type": "stream",
     "text": [
      "C:\\Users\\ansys\\AppData\\Local\\Temp\\tmpzhl7n258.ansys\n"
     ]
    }
   ],
   "source": [
    "print(temp_folder.name)"
   ]
  },
  {
   "cell_type": "markdown",
   "id": "153f669e",
   "metadata": {},
   "source": [
    "## Load edb into HFSS 3D Layout."
   ]
  },
  {
   "cell_type": "code",
   "execution_count": 16,
   "id": "30122739",
   "metadata": {
    "execution": {
     "iopub.execute_input": "2024-09-04T08:27:01.997425Z",
     "iopub.status.busy": "2024-09-04T08:27:01.997425Z",
     "iopub.status.idle": "2024-09-04T08:27:23.601865Z",
     "shell.execute_reply": "2024-09-04T08:27:23.601865Z"
    }
   },
   "outputs": [
    {
     "name": "stdout",
     "output_type": "stream",
     "text": [
      "PyAEDT INFO: Python version 3.10.11 (tags/v3.10.11:7d4cc5a, Apr  5 2023, 00:38:17) [MSC v.1929 64 bit (AMD64)]\n"
     ]
    },
    {
     "name": "stdout",
     "output_type": "stream",
     "text": [
      "PyAEDT INFO: PyAEDT version 0.11.dev0.\n"
     ]
    },
    {
     "name": "stdout",
     "output_type": "stream",
     "text": [
      "PyAEDT INFO: Initializing new Desktop session.\n"
     ]
    },
    {
     "name": "stdout",
     "output_type": "stream",
     "text": [
      "PyAEDT INFO: Log on console is enabled.\n"
     ]
    },
    {
     "name": "stdout",
     "output_type": "stream",
     "text": [
      "PyAEDT INFO: Log on file C:\\Users\\ansys\\AppData\\Local\\Temp\\pyaedt_ansys_a3300d3b-e525-4cc8-a12c-9166ca91c6fd.log is enabled.\n"
     ]
    },
    {
     "name": "stdout",
     "output_type": "stream",
     "text": [
      "PyAEDT INFO: Log on AEDT is enabled.\n"
     ]
    },
    {
     "name": "stdout",
     "output_type": "stream",
     "text": [
      "PyAEDT INFO: Debug logger is disabled. PyAEDT methods will not be logged.\n"
     ]
    },
    {
     "name": "stdout",
     "output_type": "stream",
     "text": [
      "PyAEDT INFO: Launching PyAEDT with gRPC plugin.\n"
     ]
    },
    {
     "name": "stdout",
     "output_type": "stream",
     "text": [
      "PyAEDT INFO: New AEDT session is starting on gRPC port 65316\n"
     ]
    },
    {
     "name": "stdout",
     "output_type": "stream",
     "text": [
      "PyAEDT INFO: AEDT installation Path C:\\Program Files\\AnsysEM\\v242\\Win64\n"
     ]
    },
    {
     "name": "stdout",
     "output_type": "stream",
     "text": [
      "PyAEDT INFO: Ansoft.ElectronicsDesktop.2024.2 version started with process ID 1960.\n"
     ]
    },
    {
     "name": "stdout",
     "output_type": "stream",
     "text": [
      "PyAEDT INFO: EDB folder C:\\Users\\ansys\\AppData\\Local\\Temp\\tmpzhl7n258.ansys\\edb/ANSYS-HSD_V1.aedb has been imported to project ANSYS-HSD_V1\n"
     ]
    },
    {
     "name": "stdout",
     "output_type": "stream",
     "text": [
      "PyAEDT INFO: Active Design set to 0;main\n"
     ]
    },
    {
     "name": "stdout",
     "output_type": "stream",
     "text": [
      "PyAEDT INFO: Aedt Objects correctly read\n"
     ]
    }
   ],
   "source": [
    "h3d = Hfss3dLayout(edbapp.edbpath, version=AEDT_VERSION, non_graphical=NG_MODE, new_desktop=True)"
   ]
  },
  {
   "cell_type": "markdown",
   "id": "6b9bf43c",
   "metadata": {},
   "source": [
    "## Analyze"
   ]
  },
  {
   "cell_type": "code",
   "execution_count": 17,
   "id": "dd953d55",
   "metadata": {
    "execution": {
     "iopub.execute_input": "2024-09-04T08:27:23.601865Z",
     "iopub.status.busy": "2024-09-04T08:27:23.601865Z",
     "iopub.status.idle": "2024-09-04T08:27:54.419139Z",
     "shell.execute_reply": "2024-09-04T08:27:54.417958Z"
    }
   },
   "outputs": [
    {
     "name": "stdout",
     "output_type": "stream",
     "text": [
      "PyAEDT INFO: Key Desktop/ActiveDSOConfigurations/HFSS 3D Layout Design correctly changed.\n"
     ]
    },
    {
     "name": "stdout",
     "output_type": "stream",
     "text": [
      "PyAEDT INFO: Solving all design setups.\n"
     ]
    },
    {
     "name": "stdout",
     "output_type": "stream",
     "text": [
      "PyAEDT INFO: Key Desktop/ActiveDSOConfigurations/HFSS 3D Layout Design correctly changed.\n"
     ]
    },
    {
     "name": "stdout",
     "output_type": "stream",
     "text": [
      "PyAEDT INFO: Design setup None solved correctly in 0.0h 0.0m 31.0s\n"
     ]
    },
    {
     "data": {
      "text/plain": [
       "True"
      ]
     },
     "execution_count": 17,
     "metadata": {},
     "output_type": "execute_result"
    }
   ],
   "source": [
    "h3d.analyze()"
   ]
  },
  {
   "cell_type": "markdown",
   "id": "5b276ea0",
   "metadata": {},
   "source": [
    "## Plot impedance"
   ]
  },
  {
   "cell_type": "code",
   "execution_count": 18,
   "id": "60b09120",
   "metadata": {
    "execution": {
     "iopub.execute_input": "2024-09-04T08:27:54.419139Z",
     "iopub.status.busy": "2024-09-04T08:27:54.419139Z",
     "iopub.status.idle": "2024-09-04T08:27:55.571891Z",
     "shell.execute_reply": "2024-09-04T08:27:55.571891Z"
    }
   },
   "outputs": [
    {
     "name": "stdout",
     "output_type": "stream",
     "text": [
      "PyAEDT INFO: Parsing C:/Users/ansys/AppData/Local/Temp/tmpzhl7n258.ansys/edb/ANSYS-HSD_V1.aedt.\n"
     ]
    },
    {
     "name": "stdout",
     "output_type": "stream",
     "text": [
      "PyAEDT INFO: File C:/Users/ansys/AppData/Local/Temp/tmpzhl7n258.ansys/edb/ANSYS-HSD_V1.aedt correctly loaded. Elapsed time: 0m 0sec\n"
     ]
    },
    {
     "name": "stdout",
     "output_type": "stream",
     "text": [
      "PyAEDT INFO: aedt file load time 0.04809737205505371\n"
     ]
    },
    {
     "name": "stdout",
     "output_type": "stream",
     "text": [
      "PyAEDT INFO: Loading Modeler.\n"
     ]
    },
    {
     "name": "stdout",
     "output_type": "stream",
     "text": [
      "PyAEDT INFO: Modeler loaded.\n"
     ]
    },
    {
     "name": "stdout",
     "output_type": "stream",
     "text": [
      "PyAEDT INFO: EDB loaded.\n"
     ]
    },
    {
     "name": "stdout",
     "output_type": "stream",
     "text": [
      "PyAEDT INFO: Layers loaded.\n"
     ]
    },
    {
     "name": "stdout",
     "output_type": "stream",
     "text": [
      "PyAEDT INFO: Primitives loaded.\n"
     ]
    },
    {
     "name": "stdout",
     "output_type": "stream",
     "text": [
      "PyAEDT INFO: Modeler class has been initialized! Elapsed time: 0m 0sec\n"
     ]
    },
    {
     "name": "stdout",
     "output_type": "stream",
     "text": [
      "PyAEDT INFO: PostProcessor class has been initialized! Elapsed time: 0m 0sec\n"
     ]
    },
    {
     "name": "stdout",
     "output_type": "stream",
     "text": [
      "PyAEDT INFO: Post class has been initialized! Elapsed time: 0m 0sec\n"
     ]
    },
    {
     "name": "stdout",
     "output_type": "stream",
     "text": [
      "PyAEDT INFO: Solution Data Correctly Loaded.\n"
     ]
    },
    {
     "data": {
      "image/png": "[encoded data removed]",
      "text/plain": [
       "<Figure size 2000x1000 with 1 Axes>"
      ]
     },
     "execution_count": 18,
     "metadata": {},
     "output_type": "execute_result"
    },
    {
     "data": {
      "image/png": "[encoded data removed]",
      "text/plain": [
       "<Figure size 2000x1000 with 1 Axes>"
      ]
     },
     "metadata": {},
     "output_type": "display_data"
    }
   ],
   "source": [
    "solutions = h3d.post.get_solution_data(expressions=\"Z(port1,port1)\")\n",
    "solutions.plot()"
   ]
  },
  {
   "cell_type": "markdown",
   "id": "47369d65",
   "metadata": {},
   "source": [
    "## Shut Down Electronics Desktop"
   ]
  },
  {
   "cell_type": "code",
   "execution_count": 19,
   "id": "ffaf97d2",
   "metadata": {
    "execution": {
     "iopub.execute_input": "2024-09-04T08:27:55.571891Z",
     "iopub.status.busy": "2024-09-04T08:27:55.571891Z",
     "iopub.status.idle": "2024-09-04T08:27:59.603647Z",
     "shell.execute_reply": "2024-09-04T08:27:59.603647Z"
    }
   },
   "outputs": [
    {
     "name": "stdout",
     "output_type": "stream",
     "text": [
      "PyAEDT INFO: Desktop has been released and closed.\n"
     ]
    },
    {
     "data": {
      "text/plain": [
       "True"
      ]
     },
     "execution_count": 19,
     "metadata": {},
     "output_type": "execute_result"
    }
   ],
   "source": [
    "h3d.close_desktop()"
   ]
  },
  {
   "cell_type": "markdown",
   "id": "930497fa",
   "metadata": {},
   "source": [
    "All project files are saved in the folder ``temp_file.dir``. If you've run this example as a Jupyter notbook you\n",
    "can retrieve those project files."
   ]
  }
 ],
 "metadata": {
  "jupytext": {
   "cell_metadata_filter": "-all",
   "main_language": "python",
   "notebook_metadata_filter": "-all",
   "text_representation": {
    "extension": ".py",
    "format_name": "light"
   }
  },
  "language_info": {
   "codemirror_mode": {
    "name": "ipython",
    "version": 3
   },
   "file_extension": ".py",
   "mimetype": "text/x-python",
   "name": "python",
   "nbconvert_exporter": "python",
   "pygments_lexer": "ipython3",
   "version": "3.10.11"
  }
 },
 "nbformat": 4,
 "nbformat_minor": 5
}
