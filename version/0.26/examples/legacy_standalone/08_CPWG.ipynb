{
 "cells": [
  {
   "cell_type": "markdown",
   "id": "a76e72d9",
   "metadata": {},
   "source": [
    "# EDB: fully parametrized CPWG design"
   ]
  },
  {
   "cell_type": "markdown",
   "id": "bf50bb75",
   "metadata": {
    "lines_to_next_cell": 2
   },
   "source": [
    "This example shows how you can use HFSS 3D Layout to create a parametric design\n",
    "for a CPWG (coplanar waveguide with ground)."
   ]
  },
  {
   "cell_type": "markdown",
   "id": "7e0054cb",
   "metadata": {},
   "source": [
    "## Perform required imports"
   ]
  },
  {
   "cell_type": "markdown",
   "id": "57311ed4",
   "metadata": {},
   "source": [
    "Perform required imports. Importing the ``Hfss3dlayout`` object initializes it\n",
    "on version 2023 R2."
   ]
  },
  {
   "cell_type": "code",
   "execution_count": 1,
   "id": "86b269b7",
   "metadata": {
    "execution": {
     "iopub.execute_input": "2024-09-04T08:23:25.719516Z",
     "iopub.status.busy": "2024-09-04T08:23:25.719516Z",
     "iopub.status.idle": "2024-09-04T08:23:25.750770Z",
     "shell.execute_reply": "2024-09-04T08:23:25.750770Z"
    }
   },
   "outputs": [],
   "source": [
    "import os"
   ]
  },
  {
   "cell_type": "code",
   "execution_count": 2,
   "id": "67019ec5",
   "metadata": {
    "execution": {
     "iopub.execute_input": "2024-09-04T08:23:25.750770Z",
     "iopub.status.busy": "2024-09-04T08:23:25.750770Z",
     "iopub.status.idle": "2024-09-04T08:23:26.313266Z",
     "shell.execute_reply": "2024-09-04T08:23:26.313266Z"
    }
   },
   "outputs": [
    {
     "name": "stdout",
     "output_type": "stream",
     "text": [
      "FutureWarning: Module 'pyaedt' has become an alias to the new package structure. Please update you imports to use the new architecture based on 'ansys.aedt.core'. In addition, some files have been renamed to follow the PEP 8 naming convention. The old structure and file names will be deprecated in future versions, see https://aedt.docs.pyansys.com/version/stable/release_1_0.html\n"
     ]
    }
   ],
   "source": [
    "import numpy as np\n",
    "import pyaedt"
   ]
  },
  {
   "cell_type": "code",
   "execution_count": 3,
   "id": "1b6d0098",
   "metadata": {
    "execution": {
     "iopub.execute_input": "2024-09-04T08:23:26.313266Z",
     "iopub.status.busy": "2024-09-04T08:23:26.313266Z",
     "iopub.status.idle": "2024-09-04T08:23:26.344517Z",
     "shell.execute_reply": "2024-09-04T08:23:26.344517Z"
    }
   },
   "outputs": [],
   "source": [
    "from pyedb import Edb\n",
    "from pyedb.generic.general_methods import (\n",
    "    generate_unique_folder_name,\n",
    "    generate_unique_name,\n",
    ")"
   ]
  },
  {
   "cell_type": "markdown",
   "id": "8fcf7fdc",
   "metadata": {},
   "source": [
    "## Set non-graphical mode"
   ]
  },
  {
   "cell_type": "markdown",
   "id": "ed7c4920",
   "metadata": {},
   "source": [
    "Set non-graphical mode. The default is ``False``."
   ]
  },
  {
   "cell_type": "code",
   "execution_count": 4,
   "id": "3e0e1bfe",
   "metadata": {
    "execution": {
     "iopub.execute_input": "2024-09-04T08:23:26.344517Z",
     "iopub.status.busy": "2024-09-04T08:23:26.344517Z",
     "iopub.status.idle": "2024-09-04T08:23:26.360142Z",
     "shell.execute_reply": "2024-09-04T08:23:26.360142Z"
    }
   },
   "outputs": [],
   "source": [
    "non_graphical = False"
   ]
  },
  {
   "cell_type": "markdown",
   "id": "05ab0ec8",
   "metadata": {},
   "source": [
    "## Launch EDB"
   ]
  },
  {
   "cell_type": "code",
   "execution_count": 5,
   "id": "20470f47",
   "metadata": {
    "execution": {
     "iopub.execute_input": "2024-09-04T08:23:26.360142Z",
     "iopub.status.busy": "2024-09-04T08:23:26.360142Z",
     "iopub.status.idle": "2024-09-04T08:23:38.496033Z",
     "shell.execute_reply": "2024-09-04T08:23:38.496033Z"
    }
   },
   "outputs": [
    {
     "name": "stdout",
     "output_type": "stream",
     "text": [
      "C:\\Users\\ansys\\AppData\\Local\\Temp\\pyedb_prj_FDV\\pcb_WM1XVD.aedb\n",
      "EDB version: 2024.2\n"
     ]
    },
    {
     "name": "stdout",
     "output_type": "stream",
     "text": [
      "PyAEDT INFO: Logger is initialized in EDB.\n"
     ]
    },
    {
     "name": "stdout",
     "output_type": "stream",
     "text": [
      "PyAEDT INFO: legacy v0.26.3\n"
     ]
    },
    {
     "name": "stdout",
     "output_type": "stream",
     "text": [
      "PyAEDT INFO: Python version 3.10.11 (tags/v3.10.11:7d4cc5a, Apr  5 2023, 00:38:17) [MSC v.1929 64 bit (AMD64)]\n"
     ]
    },
    {
     "name": "stdout",
     "output_type": "stream",
     "text": [
      "PyAEDT INFO: EDB C:\\Users\\ansys\\AppData\\Local\\Temp\\pyedb_prj_FDV\\pcb_WM1XVD.aedb created correctly.\n"
     ]
    },
    {
     "name": "stdout",
     "output_type": "stream",
     "text": [
      "PyAEDT INFO: EDB initialized.\n"
     ]
    }
   ],
   "source": [
    "aedb_path = os.path.join(generate_unique_folder_name(), generate_unique_name(\"pcb\") + \".aedb\")\n",
    "print(aedb_path)\n",
    "\n",
    "# Select EDB version (change it manually if needed, e.g. \"2024.2\")\n",
    "edb_version = \"2024.2\"\n",
    "print(f\"EDB version: {edb_version}\")\n",
    "aedt_version = edb_version\n",
    "\n",
    "edbapp = Edb(edbpath=aedb_path, edbversion=edb_version)"
   ]
  },
  {
   "cell_type": "markdown",
   "id": "ff23f09f",
   "metadata": {},
   "source": [
    "## Define parameters"
   ]
  },
  {
   "cell_type": "code",
   "execution_count": 6,
   "id": "f216b70e",
   "metadata": {
    "execution": {
     "iopub.execute_input": "2024-09-04T08:23:38.496033Z",
     "iopub.status.busy": "2024-09-04T08:23:38.496033Z",
     "iopub.status.idle": "2024-09-04T08:23:38.527272Z",
     "shell.execute_reply": "2024-09-04T08:23:38.527272Z"
    },
    "lines_to_next_cell": 2
   },
   "outputs": [],
   "source": [
    "params = {\n",
    "    \"$ms_width\": \"0.4mm\",\n",
    "    \"$ms_clearance\": \"0.3mm\",\n",
    "    \"$ms_length\": \"20mm\",\n",
    "}\n",
    "for par_name in params:\n",
    "    edbapp.add_project_variable(par_name, params[par_name])"
   ]
  },
  {
   "cell_type": "markdown",
   "id": "5b546162",
   "metadata": {},
   "source": [
    "## Create s symmetric stackup"
   ]
  },
  {
   "cell_type": "code",
   "execution_count": 7,
   "id": "3ab8af91",
   "metadata": {
    "execution": {
     "iopub.execute_input": "2024-09-04T08:23:38.527272Z",
     "iopub.status.busy": "2024-09-04T08:23:38.527272Z",
     "iopub.status.idle": "2024-09-04T08:23:38.714775Z",
     "shell.execute_reply": "2024-09-04T08:23:38.714775Z"
    }
   },
   "outputs": [
    {
     "name": "stderr",
     "output_type": "stream",
     "text": [
      "C:\\actions-runner\\_work\\pyedb\\pyedb\\.venv\\lib\\site-packages\\pyedb\\dotnet\\edb_core\\stackup.py:2868: UserWarning: FigureCanvasAgg is non-interactive, and thus cannot be shown\n",
      "  plt.show()\n"
     ]
    },
    {
     "data": {
      "text/plain": [
       "<module 'matplotlib.pyplot' from 'C:\\\\actions-runner\\\\_work\\\\pyedb\\\\pyedb\\\\.venv\\\\lib\\\\site-packages\\\\matplotlib\\\\pyplot.py'>"
      ]
     },
     "execution_count": 7,
     "metadata": {},
     "output_type": "execute_result"
    }
   ],
   "source": [
    "edbapp.stackup.create_symmetric_stackup(2)\n",
    "edbapp.stackup.plot()"
   ]
  },
  {
   "cell_type": "markdown",
   "id": "fe104d50",
   "metadata": {},
   "source": [
    "## Draw planes"
   ]
  },
  {
   "cell_type": "code",
   "execution_count": 8,
   "id": "5defc637",
   "metadata": {
    "execution": {
     "iopub.execute_input": "2024-09-04T08:23:38.714775Z",
     "iopub.status.busy": "2024-09-04T08:23:38.714775Z",
     "iopub.status.idle": "2024-09-04T08:23:38.745975Z",
     "shell.execute_reply": "2024-09-04T08:23:38.745975Z"
    }
   },
   "outputs": [],
   "source": [
    "plane_lw_pt = [\"0mm\", \"-3mm\"]\n",
    "plane_up_pt = [\"$ms_length\", \"3mm\"]\n",
    "\n",
    "top_layer_obj = edbapp.modeler.create_rectangle(\n",
    "    \"TOP\", net_name=\"gnd\", lower_left_point=plane_lw_pt, upper_right_point=plane_up_pt\n",
    ")\n",
    "bot_layer_obj = edbapp.modeler.create_rectangle(\n",
    "    \"BOTTOM\", net_name=\"gnd\", lower_left_point=plane_lw_pt, upper_right_point=plane_up_pt\n",
    ")\n",
    "layer_dict = {\"TOP\": top_layer_obj, \"BOTTOM\": bot_layer_obj}"
   ]
  },
  {
   "cell_type": "markdown",
   "id": "ddd67b0e",
   "metadata": {},
   "source": [
    "## Draw a trace"
   ]
  },
  {
   "cell_type": "code",
   "execution_count": 9,
   "id": "20ba977a",
   "metadata": {
    "execution": {
     "iopub.execute_input": "2024-09-04T08:23:38.745975Z",
     "iopub.status.busy": "2024-09-04T08:23:38.745975Z",
     "iopub.status.idle": "2024-09-04T08:23:38.777276Z",
     "shell.execute_reply": "2024-09-04T08:23:38.777276Z"
    }
   },
   "outputs": [
    {
     "data": {
      "text/plain": [
       "<pyedb.dotnet.edb_core.cell.primitive.path.Path at 0x1fc1b9d8c30>"
      ]
     },
     "execution_count": 9,
     "metadata": {},
     "output_type": "execute_result"
    }
   ],
   "source": [
    "trace_path = [[\"0\", \"0\"], [\"$ms_length\", \"0\"]]\n",
    "edbapp.modeler.create_trace(\n",
    "    trace_path,\n",
    "    layer_name=\"TOP\",\n",
    "    width=\"$ms_width\",\n",
    "    net_name=\"sig\",\n",
    "    start_cap_style=\"Flat\",\n",
    "    end_cap_style=\"Flat\",\n",
    ")"
   ]
  },
  {
   "cell_type": "markdown",
   "id": "e2ba0f85",
   "metadata": {},
   "source": [
    "## Create a trace to plane clearance"
   ]
  },
  {
   "cell_type": "code",
   "execution_count": 10,
   "id": "e0887710",
   "metadata": {
    "execution": {
     "iopub.execute_input": "2024-09-04T08:23:38.777276Z",
     "iopub.status.busy": "2024-09-04T08:23:38.777276Z",
     "iopub.status.idle": "2024-09-04T08:23:38.792852Z",
     "shell.execute_reply": "2024-09-04T08:23:38.792852Z"
    }
   },
   "outputs": [
    {
     "data": {
      "text/plain": [
       "True"
      ]
     },
     "execution_count": 10,
     "metadata": {},
     "output_type": "execute_result"
    }
   ],
   "source": [
    "poly_void = edbapp.modeler.create_trace(\n",
    "    trace_path,\n",
    "    layer_name=\"TOP\",\n",
    "    net_name=\"gnd\",\n",
    "    width=\"{}+2*{}\".format(\"$ms_width\", \"$ms_clearance\"),\n",
    "    start_cap_style=\"Flat\",\n",
    "    end_cap_style=\"Flat\",\n",
    ")\n",
    "edbapp.modeler.add_void(layer_dict[\"TOP\"], poly_void)"
   ]
  },
  {
   "cell_type": "markdown",
   "id": "a4fa0086",
   "metadata": {},
   "source": [
    "## Create a ground via padstack and place ground stitching vias"
   ]
  },
  {
   "cell_type": "code",
   "execution_count": 11,
   "id": "1118206c",
   "metadata": {
    "execution": {
     "iopub.execute_input": "2024-09-04T08:23:38.792852Z",
     "iopub.status.busy": "2024-09-04T08:23:38.792852Z",
     "iopub.status.idle": "2024-09-04T08:23:39.136680Z",
     "shell.execute_reply": "2024-09-04T08:23:39.136680Z"
    }
   },
   "outputs": [
    {
     "name": "stdout",
     "output_type": "stream",
     "text": [
      "PyAEDT INFO: Padstack GVIA create correctly\n"
     ]
    }
   ],
   "source": [
    "edbapp.padstacks.create(\n",
    "    padstackname=\"GVIA\",\n",
    "    holediam=\"0.3mm\",\n",
    "    paddiam=\"0.5mm\",\n",
    ")\n",
    "\n",
    "yloc_u = \"$ms_width/2+$ms_clearance+0.25mm\"\n",
    "yloc_l = \"-$ms_width/2-$ms_clearance-0.25mm\"\n",
    "\n",
    "for i in np.arange(1, 20):\n",
    "    edbapp.padstacks.place([str(i) + \"mm\", yloc_u], \"GVIA\", net_name=\"GND\")\n",
    "    edbapp.padstacks.place([str(i) + \"mm\", yloc_l], \"GVIA\", net_name=\"GND\")"
   ]
  },
  {
   "cell_type": "markdown",
   "id": "b829f9ef",
   "metadata": {},
   "source": [
    "## Save and close EDB"
   ]
  },
  {
   "cell_type": "code",
   "execution_count": 12,
   "id": "65079b6a",
   "metadata": {
    "execution": {
     "iopub.execute_input": "2024-09-04T08:23:39.136680Z",
     "iopub.status.busy": "2024-09-04T08:23:39.136680Z",
     "iopub.status.idle": "2024-09-04T08:23:39.167907Z",
     "shell.execute_reply": "2024-09-04T08:23:39.167907Z"
    }
   },
   "outputs": [
    {
     "name": "stdout",
     "output_type": "stream",
     "text": [
      "PyAEDT INFO: EDB file save time: 0.00ms\n"
     ]
    },
    {
     "name": "stdout",
     "output_type": "stream",
     "text": [
      "PyAEDT INFO: EDB file release time: 15.55ms\n"
     ]
    },
    {
     "data": {
      "text/plain": [
       "True"
      ]
     },
     "execution_count": 12,
     "metadata": {},
     "output_type": "execute_result"
    }
   ],
   "source": [
    "edbapp.save_edb()\n",
    "edbapp.close_edb()"
   ]
  },
  {
   "cell_type": "markdown",
   "id": "d6b52e33",
   "metadata": {},
   "source": [
    "## Open EDB in AEDT"
   ]
  },
  {
   "cell_type": "code",
   "execution_count": 13,
   "id": "a9074713",
   "metadata": {
    "execution": {
     "iopub.execute_input": "2024-09-04T08:23:39.167907Z",
     "iopub.status.busy": "2024-09-04T08:23:39.167907Z",
     "iopub.status.idle": "2024-09-04T08:23:39.183529Z",
     "shell.execute_reply": "2024-09-04T08:23:39.183529Z"
    }
   },
   "outputs": [],
   "source": [
    "aedt_version = edb_version"
   ]
  },
  {
   "cell_type": "code",
   "execution_count": 14,
   "id": "75a796be",
   "metadata": {
    "execution": {
     "iopub.execute_input": "2024-09-04T08:23:39.183529Z",
     "iopub.status.busy": "2024-09-04T08:23:39.183529Z",
     "iopub.status.idle": "2024-09-04T08:24:00.174735Z",
     "shell.execute_reply": "2024-09-04T08:24:00.174735Z"
    }
   },
   "outputs": [
    {
     "name": "stdout",
     "output_type": "stream",
     "text": [
      "PyAEDT WARNING: Argument `projectname` is deprecated for method `__init__`; use `project` instead.\n"
     ]
    },
    {
     "name": "stdout",
     "output_type": "stream",
     "text": [
      "PyAEDT WARNING: Argument `specified_version` is deprecated for method `__init__`; use `version` instead.\n"
     ]
    },
    {
     "name": "stdout",
     "output_type": "stream",
     "text": [
      "PyAEDT WARNING: Argument `new_desktop_session` is deprecated for method `__init__`; use `new_desktop` instead.\n"
     ]
    },
    {
     "name": "stdout",
     "output_type": "stream",
     "text": [
      "PyAEDT INFO: Python version 3.10.11 (tags/v3.10.11:7d4cc5a, Apr  5 2023, 00:38:17) [MSC v.1929 64 bit (AMD64)]\n"
     ]
    },
    {
     "name": "stdout",
     "output_type": "stream",
     "text": [
      "PyAEDT INFO: PyAEDT version 0.11.dev0.\n"
     ]
    },
    {
     "name": "stdout",
     "output_type": "stream",
     "text": [
      "PyAEDT INFO: Initializing new Desktop session.\n"
     ]
    },
    {
     "name": "stdout",
     "output_type": "stream",
     "text": [
      "PyAEDT INFO: Log on console is enabled.\n"
     ]
    },
    {
     "name": "stdout",
     "output_type": "stream",
     "text": [
      "PyAEDT INFO: Log on file C:\\Users\\ansys\\AppData\\Local\\Temp\\pyaedt_ansys_84b5dbed-804e-43ec-a92f-28b7c0293e3e.log is enabled.\n"
     ]
    },
    {
     "name": "stdout",
     "output_type": "stream",
     "text": [
      "PyAEDT INFO: Log on AEDT is enabled.\n"
     ]
    },
    {
     "name": "stdout",
     "output_type": "stream",
     "text": [
      "PyAEDT INFO: Debug logger is disabled. PyAEDT methods will not be logged.\n"
     ]
    },
    {
     "name": "stdout",
     "output_type": "stream",
     "text": [
      "PyAEDT INFO: Launching PyAEDT with gRPC plugin.\n"
     ]
    },
    {
     "name": "stdout",
     "output_type": "stream",
     "text": [
      "PyAEDT INFO: New AEDT session is starting on gRPC port 64514\n"
     ]
    },
    {
     "name": "stdout",
     "output_type": "stream",
     "text": [
      "PyAEDT INFO: AEDT installation Path C:\\Program Files\\AnsysEM\\v242\\Win64\n"
     ]
    },
    {
     "name": "stdout",
     "output_type": "stream",
     "text": [
      "PyAEDT INFO: Ansoft.ElectronicsDesktop.2024.2 version started with process ID 5864.\n"
     ]
    },
    {
     "name": "stdout",
     "output_type": "stream",
     "text": [
      "PyAEDT INFO: EDB folder C:\\Users\\ansys\\AppData\\Local\\Temp\\pyedb_prj_FDV\\pcb_WM1XVD.aedb has been imported to project pcb_WM1XVD\n"
     ]
    },
    {
     "name": "stdout",
     "output_type": "stream",
     "text": [
      "PyAEDT INFO: Active Design set to 0;Cell_732PY2\n"
     ]
    },
    {
     "name": "stdout",
     "output_type": "stream",
     "text": [
      "PyAEDT INFO: Aedt Objects correctly read\n"
     ]
    }
   ],
   "source": [
    "h3d = pyaedt.Hfss3dLayout(\n",
    "    projectname=aedb_path,\n",
    "    specified_version=aedt_version,\n",
    "    non_graphical=non_graphical,\n",
    "    new_desktop_session=True,\n",
    ")"
   ]
  },
  {
   "cell_type": "markdown",
   "id": "4a041595",
   "metadata": {},
   "source": [
    "## Create wave ports"
   ]
  },
  {
   "cell_type": "code",
   "execution_count": 15,
   "id": "1622d176",
   "metadata": {
    "execution": {
     "iopub.execute_input": "2024-09-04T08:24:00.174735Z",
     "iopub.status.busy": "2024-09-04T08:24:00.174735Z",
     "iopub.status.idle": "2024-09-04T08:24:00.523609Z",
     "shell.execute_reply": "2024-09-04T08:24:00.522371Z"
    }
   },
   "outputs": [
    {
     "name": "stdout",
     "output_type": "stream",
     "text": [
      "PyAEDT WARNING: Argument `iswave` is deprecated for method `create_edge_port`; use `is_wave_port` instead.\n"
     ]
    },
    {
     "name": "stdout",
     "output_type": "stream",
     "text": [
      "PyAEDT INFO: Loading Modeler.\n"
     ]
    },
    {
     "name": "stdout",
     "output_type": "stream",
     "text": [
      "PyAEDT INFO: Modeler loaded.\n"
     ]
    },
    {
     "name": "stdout",
     "output_type": "stream",
     "text": [
      "PyAEDT INFO: EDB loaded.\n"
     ]
    },
    {
     "name": "stdout",
     "output_type": "stream",
     "text": [
      "PyAEDT INFO: Layers loaded.\n"
     ]
    },
    {
     "name": "stdout",
     "output_type": "stream",
     "text": [
      "PyAEDT INFO: Primitives loaded.\n"
     ]
    },
    {
     "name": "stdout",
     "output_type": "stream",
     "text": [
      "PyAEDT INFO: Modeler class has been initialized! Elapsed time: 0m 0sec\n"
     ]
    },
    {
     "name": "stdout",
     "output_type": "stream",
     "text": [
      "PyAEDT ERROR: **************************************************************\n"
     ]
    },
    {
     "name": "stdout",
     "output_type": "stream",
     "text": [
      "PyAEDT ERROR:   File \"C:\\actions-runner\\_work\\_tool\\Python\\3.10.11\\x64\\lib\\runpy.py\", line 196, in _run_module_as_main\n"
     ]
    },
    {
     "name": "stdout",
     "output_type": "stream",
     "text": [
      "PyAEDT ERROR:     return _run_code(code, main_globals, None,\n"
     ]
    },
    {
     "name": "stdout",
     "output_type": "stream",
     "text": [
      "PyAEDT ERROR:   File \"C:\\actions-runner\\_work\\_tool\\Python\\3.10.11\\x64\\lib\\runpy.py\", line 86, in _run_code\n"
     ]
    },
    {
     "name": "stdout",
     "output_type": "stream",
     "text": [
      "PyAEDT ERROR:     exec(code, run_globals)\n"
     ]
    },
    {
     "name": "stdout",
     "output_type": "stream",
     "text": [
      "PyAEDT ERROR:   File \"C:\\actions-runner\\_work\\_tool\\Python\\3.10.11\\x64\\lib\\asyncio\\base_events.py\", line 603, in run_forever\n"
     ]
    },
    {
     "name": "stdout",
     "output_type": "stream",
     "text": [
      "PyAEDT ERROR:     self._run_once()\n"
     ]
    },
    {
     "name": "stdout",
     "output_type": "stream",
     "text": [
      "PyAEDT ERROR:   File \"C:\\actions-runner\\_work\\_tool\\Python\\3.10.11\\x64\\lib\\asyncio\\base_events.py\", line 1909, in _run_once\n"
     ]
    },
    {
     "name": "stdout",
     "output_type": "stream",
     "text": [
      "PyAEDT ERROR:     handle._run()\n"
     ]
    },
    {
     "name": "stdout",
     "output_type": "stream",
     "text": [
      "PyAEDT ERROR:   File \"C:\\actions-runner\\_work\\_tool\\Python\\3.10.11\\x64\\lib\\asyncio\\events.py\", line 80, in _run\n"
     ]
    },
    {
     "name": "stdout",
     "output_type": "stream",
     "text": [
      "PyAEDT ERROR:     self._context.run(self._callback, *self._args)\n"
     ]
    },
    {
     "name": "stdout",
     "output_type": "stream",
     "text": [
      "PyAEDT ERROR:   File \"C:\\Users\\ansys\\AppData\\Local\\Temp\\ipykernel_4724\\2075340592.py\", line 1, in <module>\n"
     ]
    },
    {
     "name": "stdout",
     "output_type": "stream",
     "text": [
      "PyAEDT ERROR:     h3d.create_edge_port(\"line_3\", 0, iswave=True, wave_vertical_extension=10, wave_horizontal_extension=10)\n"
     ]
    },
    {
     "name": "stdout",
     "output_type": "stream",
     "text": [
      "PyAEDT ERROR: AEDT API Error on create_edge_port\n"
     ]
    },
    {
     "name": "stdout",
     "output_type": "stream",
     "text": [
      "PyAEDT ERROR: Method arguments: \n"
     ]
    },
    {
     "name": "stdout",
     "output_type": "stream",
     "text": [
      "PyAEDT ERROR:     assignment = line_3 \n"
     ]
    },
    {
     "name": "stdout",
     "output_type": "stream",
     "text": [
      "PyAEDT ERROR:     is_wave_port = True \n"
     ]
    },
    {
     "name": "stdout",
     "output_type": "stream",
     "text": [
      "PyAEDT ERROR:     wave_horizontal_extension = 10 \n"
     ]
    },
    {
     "name": "stdout",
     "output_type": "stream",
     "text": [
      "PyAEDT ERROR:     wave_vertical_extension = 10 \n"
     ]
    },
    {
     "name": "stdout",
     "output_type": "stream",
     "text": [
      "PyAEDT ERROR: **************************************************************\n"
     ]
    },
    {
     "name": "stdout",
     "output_type": "stream",
     "text": [
      "PyAEDT WARNING: Argument `iswave` is deprecated for method `create_edge_port`; use `is_wave_port` instead.\n"
     ]
    },
    {
     "name": "stdout",
     "output_type": "stream",
     "text": [
      "PyAEDT ERROR: **************************************************************\n"
     ]
    },
    {
     "name": "stdout",
     "output_type": "stream",
     "text": [
      "PyAEDT ERROR:   File \"C:\\actions-runner\\_work\\_tool\\Python\\3.10.11\\x64\\lib\\runpy.py\", line 196, in _run_module_as_main\n"
     ]
    },
    {
     "name": "stdout",
     "output_type": "stream",
     "text": [
      "PyAEDT ERROR:     return _run_code(code, main_globals, None,\n"
     ]
    },
    {
     "name": "stdout",
     "output_type": "stream",
     "text": [
      "PyAEDT ERROR:   File \"C:\\actions-runner\\_work\\_tool\\Python\\3.10.11\\x64\\lib\\runpy.py\", line 86, in _run_code\n"
     ]
    },
    {
     "name": "stdout",
     "output_type": "stream",
     "text": [
      "PyAEDT ERROR:     exec(code, run_globals)\n"
     ]
    },
    {
     "name": "stdout",
     "output_type": "stream",
     "text": [
      "PyAEDT ERROR:   File \"C:\\actions-runner\\_work\\_tool\\Python\\3.10.11\\x64\\lib\\asyncio\\base_events.py\", line 603, in run_forever\n"
     ]
    },
    {
     "name": "stdout",
     "output_type": "stream",
     "text": [
      "PyAEDT ERROR:     self._run_once()\n"
     ]
    },
    {
     "name": "stdout",
     "output_type": "stream",
     "text": [
      "PyAEDT ERROR:   File \"C:\\actions-runner\\_work\\_tool\\Python\\3.10.11\\x64\\lib\\asyncio\\base_events.py\", line 1909, in _run_once\n"
     ]
    },
    {
     "name": "stdout",
     "output_type": "stream",
     "text": [
      "PyAEDT ERROR:     handle._run()\n"
     ]
    },
    {
     "name": "stdout",
     "output_type": "stream",
     "text": [
      "PyAEDT ERROR:   File \"C:\\actions-runner\\_work\\_tool\\Python\\3.10.11\\x64\\lib\\asyncio\\events.py\", line 80, in _run\n"
     ]
    },
    {
     "name": "stdout",
     "output_type": "stream",
     "text": [
      "PyAEDT ERROR:     self._context.run(self._callback, *self._args)\n"
     ]
    },
    {
     "name": "stdout",
     "output_type": "stream",
     "text": [
      "PyAEDT ERROR:   File \"C:\\Users\\ansys\\AppData\\Local\\Temp\\ipykernel_4724\\2075340592.py\", line 2, in <module>\n"
     ]
    },
    {
     "name": "stdout",
     "output_type": "stream",
     "text": [
      "PyAEDT ERROR:     h3d.create_edge_port(\"line_3\", 2, iswave=True, wave_vertical_extension=10, wave_horizontal_extension=10)\n"
     ]
    },
    {
     "name": "stdout",
     "output_type": "stream",
     "text": [
      "PyAEDT ERROR: AEDT API Error on create_edge_port\n"
     ]
    },
    {
     "name": "stdout",
     "output_type": "stream",
     "text": [
      "PyAEDT ERROR: Method arguments: \n"
     ]
    },
    {
     "name": "stdout",
     "output_type": "stream",
     "text": [
      "PyAEDT ERROR:     assignment = line_3 \n"
     ]
    },
    {
     "name": "stdout",
     "output_type": "stream",
     "text": [
      "PyAEDT ERROR:     edge_number = 2 \n"
     ]
    },
    {
     "name": "stdout",
     "output_type": "stream",
     "text": [
      "PyAEDT ERROR:     is_wave_port = True \n"
     ]
    },
    {
     "name": "stdout",
     "output_type": "stream",
     "text": [
      "PyAEDT ERROR:     wave_horizontal_extension = 10 \n"
     ]
    },
    {
     "name": "stdout",
     "output_type": "stream",
     "text": [
      "PyAEDT ERROR:     wave_vertical_extension = 10 \n"
     ]
    },
    {
     "name": "stdout",
     "output_type": "stream",
     "text": [
      "PyAEDT ERROR: **************************************************************\n"
     ]
    },
    {
     "data": {
      "text/plain": [
       "False"
      ]
     },
     "execution_count": 15,
     "metadata": {},
     "output_type": "execute_result"
    }
   ],
   "source": [
    "h3d.create_edge_port(\"line_3\", 0, iswave=True, wave_vertical_extension=10, wave_horizontal_extension=10)\n",
    "h3d.create_edge_port(\"line_3\", 2, iswave=True, wave_vertical_extension=10, wave_horizontal_extension=10)"
   ]
  },
  {
   "cell_type": "markdown",
   "id": "fd64225b",
   "metadata": {},
   "source": [
    "## Edit airbox extents"
   ]
  },
  {
   "cell_type": "code",
   "execution_count": 16,
   "id": "a4978782",
   "metadata": {
    "execution": {
     "iopub.execute_input": "2024-09-04T08:24:00.523609Z",
     "iopub.status.busy": "2024-09-04T08:24:00.523609Z",
     "iopub.status.idle": "2024-09-04T08:24:00.539359Z",
     "shell.execute_reply": "2024-09-04T08:24:00.539359Z"
    }
   },
   "outputs": [
    {
     "data": {
      "text/plain": [
       "True"
      ]
     },
     "execution_count": 16,
     "metadata": {},
     "output_type": "execute_result"
    }
   ],
   "source": [
    "h3d.edit_hfss_extents(air_vertical_positive_padding=\"10mm\", air_vertical_negative_padding=\"1mm\")"
   ]
  },
  {
   "cell_type": "markdown",
   "id": "035e1df1",
   "metadata": {},
   "source": [
    "## Create setup"
   ]
  },
  {
   "cell_type": "code",
   "execution_count": 17,
   "id": "84d0d1ab",
   "metadata": {
    "execution": {
     "iopub.execute_input": "2024-09-04T08:24:00.539359Z",
     "iopub.status.busy": "2024-09-04T08:24:00.539359Z",
     "iopub.status.idle": "2024-09-04T08:24:00.822875Z",
     "shell.execute_reply": "2024-09-04T08:24:00.822875Z"
    }
   },
   "outputs": [
    {
     "name": "stdout",
     "output_type": "stream",
     "text": [
      "PyAEDT WARNING: Argument `setupname` is deprecated for method `create_linear_count_sweep`; use `setup` instead.\n"
     ]
    },
    {
     "name": "stdout",
     "output_type": "stream",
     "text": [
      "PyAEDT WARNING: Argument `freqstart` is deprecated for method `create_linear_count_sweep`; use `start_frequency` instead.\n"
     ]
    },
    {
     "name": "stdout",
     "output_type": "stream",
     "text": [
      "PyAEDT WARNING: Argument `freqstop` is deprecated for method `create_linear_count_sweep`; use `stop_frequency` instead.\n"
     ]
    },
    {
     "name": "stdout",
     "output_type": "stream",
     "text": [
      "PyAEDT WARNING: Argument `sweepname` is deprecated for method `create_linear_count_sweep`; use `name` instead.\n"
     ]
    },
    {
     "name": "stdout",
     "output_type": "stream",
     "text": [
      "PyAEDT INFO: Linear count sweep sweep1 has been correctly created.\n"
     ]
    },
    {
     "data": {
      "text/plain": [
       "<ansys.aedt.core.modules.solve_sweeps.SweepHFSS3DLayout at 0x1fc1b4466c0>"
      ]
     },
     "execution_count": 17,
     "metadata": {},
     "output_type": "execute_result"
    }
   ],
   "source": [
    "setup = h3d.create_setup()\n",
    "setup[\"MaxPasses\"] = 2\n",
    "setup[\"AdaptiveFrequency\"] = \"3GHz\"\n",
    "setup[\"SaveAdaptiveCurrents\"] = True\n",
    "h3d.create_linear_count_sweep(\n",
    "    setupname=setup.name,\n",
    "    unit=\"GHz\",\n",
    "    freqstart=0,\n",
    "    freqstop=5,\n",
    "    num_of_freq_points=1001,\n",
    "    sweepname=\"sweep1\",\n",
    "    sweep_type=\"Interpolating\",\n",
    "    interpolation_tol_percent=1,\n",
    "    interpolation_max_solutions=255,\n",
    "    save_fields=False,\n",
    "    use_q3d_for_dc=False,\n",
    ")"
   ]
  },
  {
   "cell_type": "markdown",
   "id": "3062aaab",
   "metadata": {},
   "source": [
    "## Plot layout"
   ]
  },
  {
   "cell_type": "code",
   "execution_count": 18,
   "id": "2d82fac6",
   "metadata": {
    "execution": {
     "iopub.execute_input": "2024-09-04T08:24:00.822875Z",
     "iopub.status.busy": "2024-09-04T08:24:00.822875Z",
     "iopub.status.idle": "2024-09-04T08:24:00.902106Z",
     "shell.execute_reply": "2024-09-04T08:24:00.902106Z"
    }
   },
   "outputs": [
    {
     "name": "stdout",
     "output_type": "stream",
     "text": [
      "PyAEDT INFO: Logger is initialized in EDB.\n"
     ]
    },
    {
     "name": "stdout",
     "output_type": "stream",
     "text": [
      "PyAEDT INFO: legacy v0.26.3\n"
     ]
    },
    {
     "name": "stdout",
     "output_type": "stream",
     "text": [
      "PyAEDT INFO: Python version 3.10.11 (tags/v3.10.11:7d4cc5a, Apr  5 2023, 00:38:17) [MSC v.1929 64 bit (AMD64)]\n"
     ]
    },
    {
     "name": "stdout",
     "output_type": "stream",
     "text": [
      "PyAEDT INFO: Database pcb_WM1XVD.aedb Opened in 2024.2\n"
     ]
    },
    {
     "name": "stdout",
     "output_type": "stream",
     "text": [
      "PyAEDT INFO: Cell Cell_732PY2 Opened\n"
     ]
    },
    {
     "name": "stdout",
     "output_type": "stream",
     "text": [
      "PyAEDT INFO: Builder was initialized.\n"
     ]
    },
    {
     "name": "stdout",
     "output_type": "stream",
     "text": [
      "PyAEDT INFO: EDB initialized.\n"
     ]
    },
    {
     "name": "stdout",
     "output_type": "stream",
     "text": [
      "PyAEDT INFO: Nets Point Generation time 0.032 seconds\n"
     ]
    },
    {
     "name": "stderr",
     "output_type": "stream",
     "text": [
      "C:\\actions-runner\\_work\\pyedb\\pyedb\\.venv\\lib\\site-packages\\pyedb\\generic\\plot.py:144: UserWarning: FigureCanvasAgg is non-interactive, and thus cannot be shown\n",
      "  plt.show()\n"
     ]
    }
   ],
   "source": [
    "h3d.modeler.edb.nets.plot(None, None, color_by_net=True)\n",
    "\n",
    "cp_name = h3d.modeler.clip_plane()"
   ]
  },
  {
   "cell_type": "markdown",
   "id": "263192f4",
   "metadata": {},
   "source": [
    "## Solve the active design"
   ]
  },
  {
   "cell_type": "markdown",
   "id": "0909fa7b",
   "metadata": {},
   "source": [
    "Uncomment the following code to start the HFSS solver and perform post processing."
   ]
  },
  {
   "cell_type": "code",
   "execution_count": 19,
   "id": "fa95f9eb",
   "metadata": {
    "execution": {
     "iopub.execute_input": "2024-09-04T08:24:00.902106Z",
     "iopub.status.busy": "2024-09-04T08:24:00.902106Z",
     "iopub.status.idle": "2024-09-04T08:24:00.917776Z",
     "shell.execute_reply": "2024-09-04T08:24:00.917776Z"
    }
   },
   "outputs": [],
   "source": [
    "# h3d.analyze()\n",
    "\n",
    "# solutions = h3d.get_touchstone_data()[0]\n",
    "# solutions.log_x = False\n",
    "# solutions.plot()\n",
    "\n",
    "# h3d.post.create_fieldplot_cutplane(\n",
    "#     cp_name, \"Mag_E\", h3d.nominal_adaptive, intrinsincDict={\"Freq\": \"3GHz\", \"Phase\": \"0deg\"}\n",
    "# )"
   ]
  },
  {
   "cell_type": "markdown",
   "id": "53193b96",
   "metadata": {},
   "source": [
    "## Save AEDT"
   ]
  },
  {
   "cell_type": "code",
   "execution_count": 20,
   "id": "59caa6b6",
   "metadata": {
    "execution": {
     "iopub.execute_input": "2024-09-04T08:24:00.917776Z",
     "iopub.status.busy": "2024-09-04T08:24:00.917776Z",
     "iopub.status.idle": "2024-09-04T08:24:01.012641Z",
     "shell.execute_reply": "2024-09-04T08:24:01.012641Z"
    }
   },
   "outputs": [
    {
     "name": "stdout",
     "output_type": "stream",
     "text": [
      "PyAEDT INFO: Your AEDT project is saved to C:\\Users\\ansys\\AppData\\Local\\Temp\\pyedb_prj_FDV\\pcb_WM1XVD.aedt\n"
     ]
    },
    {
     "name": "stdout",
     "output_type": "stream",
     "text": [
      "PyAEDT INFO: Project pcb_WM1XVD Saved correctly\n"
     ]
    },
    {
     "data": {
      "text/plain": [
       "True"
      ]
     },
     "execution_count": 20,
     "metadata": {},
     "output_type": "execute_result"
    }
   ],
   "source": [
    "aedt_path = aedb_path.replace(\".aedb\", \".aedt\")\n",
    "h3d.logger.info(\"Your AEDT project is saved to {}\".format(aedt_path))\n",
    "h3d.save_project()"
   ]
  },
  {
   "cell_type": "markdown",
   "id": "6329b37f",
   "metadata": {},
   "source": [
    "## Release AEDT"
   ]
  },
  {
   "cell_type": "code",
   "execution_count": 21,
   "id": "92de0af2",
   "metadata": {
    "execution": {
     "iopub.execute_input": "2024-09-04T08:24:01.012641Z",
     "iopub.status.busy": "2024-09-04T08:24:01.012641Z",
     "iopub.status.idle": "2024-09-04T08:24:04.222473Z",
     "shell.execute_reply": "2024-09-04T08:24:04.222473Z"
    }
   },
   "outputs": [
    {
     "name": "stdout",
     "output_type": "stream",
     "text": [
      "PyAEDT INFO: Desktop has been released and closed.\n"
     ]
    },
    {
     "data": {
      "text/plain": [
       "True"
      ]
     },
     "execution_count": 21,
     "metadata": {},
     "output_type": "execute_result"
    }
   ],
   "source": [
    "h3d.release_desktop()"
   ]
  }
 ],
 "metadata": {
  "jupytext": {
   "cell_metadata_filter": "-all",
   "main_language": "python",
   "notebook_metadata_filter": "-all",
   "text_representation": {
    "extension": ".py",
    "format_name": "light"
   }
  },
  "language_info": {
   "codemirror_mode": {
    "name": "ipython",
    "version": 3
   },
   "file_extension": ".py",
   "mimetype": "text/x-python",
   "name": "python",
   "nbconvert_exporter": "python",
   "pygments_lexer": "ipython3",
   "version": "3.10.11"
  }
 },
 "nbformat": 4,
 "nbformat_minor": 5
}
