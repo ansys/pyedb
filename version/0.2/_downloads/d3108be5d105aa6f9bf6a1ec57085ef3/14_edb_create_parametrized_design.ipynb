{
  "cells": [
    {
      "cell_type": "markdown",
      "metadata": {},
      "source": [
        "\n# EDB: parameterized design\nThis example shows how to\n1, Create an HFSS simulation project using SimulationConfiguration class.\n2, Create automatically parametrized design.\n"
      ]
    },
    {
      "cell_type": "markdown",
      "metadata": {},
      "source": [
        "Final expected project\n ~~~~~~~~~~~~~~~~~~~~~~\n\n .. image:: ../../_static/parametrized_design.png\n  :width: 600\n  :alt: Fully automated parametrization.\n#####################################################################\n\n"
      ]
    },
    {
      "cell_type": "markdown",
      "metadata": {},
      "source": [
        "Create HFSS simulatio project\n ~~~~~~~~~~~~~~~~~~~~~~~~~~~~~~~~~~~~~~~~~\n Load an existing EDB folder.\n#####################################################################\n\n"
      ]
    },
    {
      "cell_type": "code",
      "execution_count": null,
      "metadata": {
        "collapsed": false
      },
      "outputs": [],
      "source": [
        "from pyaedt import Hfss3dLayout\n\nimport pyedb\nfrom pyedb.generic.general_methods import generate_unique_folder_name\nfrom pyedb.misc.downloads import download_file\n\nproject_path = generate_unique_folder_name()\ntarget_aedb = download_file(\"edb/ANSYS-HSD_V1.aedb\", destination=project_path)\nprint(\"Project folder will be\", target_aedb)"
      ]
    },
    {
      "cell_type": "markdown",
      "metadata": {},
      "source": [
        "## Set non-graphical mode\nSet non-graphical mode. The default is ``False``.\n\n"
      ]
    },
    {
      "cell_type": "code",
      "execution_count": null,
      "metadata": {
        "collapsed": false
      },
      "outputs": [],
      "source": [
        "non_graphical = False"
      ]
    },
    {
      "cell_type": "markdown",
      "metadata": {},
      "source": [
        "## Launch EDB\nLaunch the :class:`pyedb.Edb` class, using EDB 2023 R2.\n\n"
      ]
    },
    {
      "cell_type": "code",
      "execution_count": null,
      "metadata": {
        "collapsed": false
      },
      "outputs": [],
      "source": [
        "aedt_version = \"2023.2\"\nedb = pyedb.Edb(edbpath=target_aedb, edbversion=aedt_version)\nprint(\"EDB is located at {}\".format(target_aedb))"
      ]
    },
    {
      "cell_type": "markdown",
      "metadata": {},
      "source": [
        "## Create SimulationConfiguration object and define simulation parameters\n\n"
      ]
    },
    {
      "cell_type": "code",
      "execution_count": null,
      "metadata": {
        "collapsed": false
      },
      "outputs": [],
      "source": [
        "simulation_configuration = edb.new_simulation_configuration()\nsimulation_configuration.signal_nets = [\"PCIe_Gen4_RX0_P\", \"PCIe_Gen4_RX0_N\", \"PCIe_Gen4_RX1_P\", \"PCIe_Gen4_RX1_N\"]\nsimulation_configuration.power_nets = [\"GND\"]\nsimulation_configuration.components = [\"X1\", \"U1\"]\nsimulation_configuration.do_cutout_subdesign = True\nsimulation_configuration.start_freq = \"OGHz\"\nsimulation_configuration.stop_freq = \"20GHz\"\nsimulation_configuration.step_freq = \"10MHz\""
      ]
    },
    {
      "cell_type": "markdown",
      "metadata": {},
      "source": [
        "## Build simulation project\n\n"
      ]
    },
    {
      "cell_type": "code",
      "execution_count": null,
      "metadata": {
        "collapsed": false
      },
      "outputs": [],
      "source": [
        "edb.build_simulation_project(simulation_configuration)"
      ]
    },
    {
      "cell_type": "markdown",
      "metadata": {},
      "source": [
        "## Generated design parameters\n\n\n"
      ]
    },
    {
      "cell_type": "code",
      "execution_count": null,
      "metadata": {
        "collapsed": false
      },
      "outputs": [],
      "source": [
        "edb.auto_parametrize_design(layers=True, materials=True, via_holes=True, pads=True, antipads=True, traces=True)"
      ]
    },
    {
      "cell_type": "markdown",
      "metadata": {},
      "source": [
        "## Plot EDB\nPlot EDB.\n\n"
      ]
    },
    {
      "cell_type": "code",
      "execution_count": null,
      "metadata": {
        "collapsed": false
      },
      "outputs": [],
      "source": [
        "edb.nets.plot(None)"
      ]
    },
    {
      "cell_type": "markdown",
      "metadata": {},
      "source": [
        "## Save EDB and open in AEDT\n\n"
      ]
    },
    {
      "cell_type": "code",
      "execution_count": null,
      "metadata": {
        "collapsed": false
      },
      "outputs": [],
      "source": [
        "edb.save_edb()\nedb.close_edb()\n\n# Uncomment the following line to open the design in HFSS 3D Layout\nhfss = Hfss3dLayout(projectname=target_aedb, specified_version=aedt_version, non_graphical=non_graphical, new_desktop_session=True)\nhfss.release_desktop()"
      ]
    }
  ],
  "metadata": {
    "kernelspec": {
      "display_name": "Python 3",
      "language": "python",
      "name": "python3"
    },
    "language_info": {
      "codemirror_mode": {
        "name": "ipython",
        "version": 3
      },
      "file_extension": ".py",
      "mimetype": "text/x-python",
      "name": "python",
      "nbconvert_exporter": "python",
      "pygments_lexer": "ipython3",
      "version": "3.10.11"
    }
  },
  "nbformat": 4,
  "nbformat_minor": 0
}