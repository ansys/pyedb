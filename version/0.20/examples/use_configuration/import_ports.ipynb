{
 "cells": [
  {
   "cell_type": "markdown",
   "id": "ea67116c",
   "metadata": {},
   "source": [
    "# Import Ports\n",
    "This example shows how to import ports. In this example, we are going to\n",
    "- Download a example board\n",
    "- Create a configuration file\n",
    "  - Add a circuit port between two nets\n",
    "  - Add a circuit port between two pins\n",
    "  - Add a circuit port between two pin groups\n",
    "  - Add a circuit port between two coordinates\n",
    "  - Add a coax port\n",
    "  - Add a port reference to the neareast pin\n",
    "  - Add distributed ports\n",
    "- Import the configuration file"
   ]
  },
  {
   "cell_type": "markdown",
   "id": "282151f7",
   "metadata": {},
   "source": [
    "## Import the required packages"
   ]
  },
  {
   "cell_type": "code",
   "execution_count": 1,
   "id": "f1607fe9",
   "metadata": {
    "execution": {
     "iopub.execute_input": "2024-07-11T15:55:08.591995Z",
     "iopub.status.busy": "2024-07-11T15:55:08.591995Z",
     "iopub.status.idle": "2024-07-11T15:55:09.123250Z",
     "shell.execute_reply": "2024-07-11T15:55:09.123250Z"
    }
   },
   "outputs": [],
   "source": [
    "import json\n",
    "from pathlib import Path\n",
    "import tempfile\n",
    "\n",
    "from pyaedt.downloads import download_file\n",
    "\n",
    "from pyedb import Edb\n",
    "\n",
    "AEDT_VERSION = \"2024.1\"\n",
    "NG_MODE = False\n"
   ]
  },
  {
   "cell_type": "markdown",
   "id": "05082cb3",
   "metadata": {},
   "source": [
    "Download the example PCB data."
   ]
  },
  {
   "cell_type": "code",
   "execution_count": 2,
   "id": "8dd3cd6b",
   "metadata": {
    "execution": {
     "iopub.execute_input": "2024-07-11T15:55:09.123250Z",
     "iopub.status.busy": "2024-07-11T15:55:09.123250Z",
     "iopub.status.idle": "2024-07-11T15:55:09.756286Z",
     "shell.execute_reply": "2024-07-11T15:55:09.756286Z"
    }
   },
   "outputs": [],
   "source": [
    "temp_folder = tempfile.TemporaryDirectory(suffix=\".ansys\")\n",
    "file_edb = download_file(source=\"edb/ANSYS-HSD_V1.aedb\", destination=temp_folder.name)"
   ]
  },
  {
   "cell_type": "markdown",
   "id": "967f82e8",
   "metadata": {},
   "source": [
    "## Load example layout"
   ]
  },
  {
   "cell_type": "code",
   "execution_count": 3,
   "id": "f0ceb36b",
   "metadata": {
    "execution": {
     "iopub.execute_input": "2024-07-11T15:55:09.756286Z",
     "iopub.status.busy": "2024-07-11T15:55:09.756286Z",
     "iopub.status.idle": "2024-07-11T15:55:21.132197Z",
     "shell.execute_reply": "2024-07-11T15:55:21.132197Z"
    }
   },
   "outputs": [
    {
     "name": "stdout",
     "output_type": "stream",
     "text": [
      "PyAEDT INFO: Logger is initialized in EDB.\n"
     ]
    },
    {
     "name": "stdout",
     "output_type": "stream",
     "text": [
      "PyAEDT INFO: legacy v0.20.0\n"
     ]
    },
    {
     "name": "stdout",
     "output_type": "stream",
     "text": [
      "PyAEDT INFO: Python version 3.10.11 (tags/v3.10.11:7d4cc5a, Apr  5 2023, 00:38:17) [MSC v.1929 64 bit (AMD64)]\n"
     ]
    },
    {
     "name": "stdout",
     "output_type": "stream",
     "text": [
      "PyAEDT INFO: Database ANSYS-HSD_V1.aedb Opened in 2024.1\n"
     ]
    },
    {
     "name": "stdout",
     "output_type": "stream",
     "text": [
      "PyAEDT INFO: Cell main Opened\n"
     ]
    },
    {
     "name": "stdout",
     "output_type": "stream",
     "text": [
      "PyAEDT INFO: Builder was initialized.\n"
     ]
    },
    {
     "name": "stdout",
     "output_type": "stream",
     "text": [
      "PyAEDT INFO: EDB initialized.\n"
     ]
    }
   ],
   "source": [
    "edbapp = Edb(file_edb, edbversion=AEDT_VERSION)"
   ]
  },
  {
   "cell_type": "markdown",
   "id": "ea43d4a6",
   "metadata": {},
   "source": [
    "## Create an empty dictionary to host all configurations"
   ]
  },
  {
   "cell_type": "code",
   "execution_count": 4,
   "id": "ecdbdb52",
   "metadata": {
    "execution": {
     "iopub.execute_input": "2024-07-11T15:55:21.132197Z",
     "iopub.status.busy": "2024-07-11T15:55:21.132197Z",
     "iopub.status.idle": "2024-07-11T15:55:21.147823Z",
     "shell.execute_reply": "2024-07-11T15:55:21.147823Z"
    }
   },
   "outputs": [],
   "source": [
    "cfg = dict()"
   ]
  },
  {
   "cell_type": "markdown",
   "id": "39eabb3b",
   "metadata": {},
   "source": [
    "## Add a circuit port between two nets"
   ]
  },
  {
   "cell_type": "markdown",
   "id": "6ed852cd",
   "metadata": {},
   "source": [
    "Keywords\n",
    "\n",
    "- **name**. Name of the port.\n",
    "- **Reference_designator**. Reference designator of the component.\n",
    "- **type**. Type of the port. Supported types are 'circuit', 'coax'\n",
    "- **positve_terminal**. Positive terminal of the port. Supported types are 'net', 'pin', 'pin_group', 'coordinates'\n",
    "- **negative_terminal**. Negative terminal of the port. Supported types are 'net', 'pin', 'pin_group', 'coordinates',\n",
    "'nearest_pin'"
   ]
  },
  {
   "cell_type": "code",
   "execution_count": 5,
   "id": "22232481",
   "metadata": {
    "execution": {
     "iopub.execute_input": "2024-07-11T15:55:21.147823Z",
     "iopub.status.busy": "2024-07-11T15:55:21.147823Z",
     "iopub.status.idle": "2024-07-11T15:55:21.163509Z",
     "shell.execute_reply": "2024-07-11T15:55:21.163509Z"
    }
   },
   "outputs": [],
   "source": [
    "port_1 = {\n",
    "    \"name\": \"port_1\",\n",
    "    \"reference_designator\": \"X1\",\n",
    "    \"type\": \"circuit\",\n",
    "    \"positive_terminal\": {\"net\": \"PCIe_Gen4_TX2_N\"},\n",
    "    \"negative_terminal\": {\"net\": \"GND\"},\n",
    "}"
   ]
  },
  {
   "cell_type": "markdown",
   "id": "04d83aa7",
   "metadata": {},
   "source": [
    "## Add a circuit port between two pins"
   ]
  },
  {
   "cell_type": "code",
   "execution_count": 6,
   "id": "555888a7",
   "metadata": {
    "execution": {
     "iopub.execute_input": "2024-07-11T15:55:21.163509Z",
     "iopub.status.busy": "2024-07-11T15:55:21.163509Z",
     "iopub.status.idle": "2024-07-11T15:55:21.179126Z",
     "shell.execute_reply": "2024-07-11T15:55:21.179126Z"
    }
   },
   "outputs": [],
   "source": [
    "port_2 = {\n",
    "    \"name\": \"port_2\",\n",
    "    \"reference_designator\": \"C375\",\n",
    "    \"type\": \"circuit\",\n",
    "    \"positive_terminal\": {\"pin\": \"1\"},\n",
    "    \"negative_terminal\": {\"pin\": \"2\"},\n",
    "}"
   ]
  },
  {
   "cell_type": "markdown",
   "id": "e0e6f8f5",
   "metadata": {},
   "source": [
    "## Add a circuit port between two pin groups"
   ]
  },
  {
   "cell_type": "code",
   "execution_count": 7,
   "id": "8b63d849",
   "metadata": {
    "execution": {
     "iopub.execute_input": "2024-07-11T15:55:21.179126Z",
     "iopub.status.busy": "2024-07-11T15:55:21.179126Z",
     "iopub.status.idle": "2024-07-11T15:55:21.194753Z",
     "shell.execute_reply": "2024-07-11T15:55:21.194753Z"
    }
   },
   "outputs": [],
   "source": [
    "pin_groups = [\n",
    "    {\"name\": \"U9_5V_1\", \"reference_designator\": \"U9\", \"pins\": [\"32\", \"33\"]},\n",
    "    {\"name\": \"U9_GND\", \"reference_designator\": \"U9\", \"net\": \"GND\"},\n",
    "]"
   ]
  },
  {
   "cell_type": "code",
   "execution_count": 8,
   "id": "8a545c4e",
   "metadata": {
    "execution": {
     "iopub.execute_input": "2024-07-11T15:55:21.194753Z",
     "iopub.status.busy": "2024-07-11T15:55:21.194753Z",
     "iopub.status.idle": "2024-07-11T15:55:21.210378Z",
     "shell.execute_reply": "2024-07-11T15:55:21.210378Z"
    }
   },
   "outputs": [],
   "source": [
    "port_3 = {\n",
    "    \"name\": \"port_3\",\n",
    "    \"type\": \"circuit\",\n",
    "    \"positive_terminal\": {\"pin_group\": \"U9_5V_1\"},\n",
    "    \"negative_terminal\": {\"pin_group\": \"U9_GND\"},\n",
    "}"
   ]
  },
  {
   "cell_type": "markdown",
   "id": "3a4e54dd",
   "metadata": {},
   "source": [
    "## Add a circuit port between two coordinates"
   ]
  },
  {
   "cell_type": "markdown",
   "id": "df74898a",
   "metadata": {},
   "source": [
    "Keywords\n",
    "\n",
    "- **layer**. Layer on which the terminal is placed\n",
    "- **point**. XY coordinate the terminal is placed\n",
    "- **net**. Name of the net the terminal is placed on"
   ]
  },
  {
   "cell_type": "code",
   "execution_count": 9,
   "id": "472e7259",
   "metadata": {
    "execution": {
     "iopub.execute_input": "2024-07-11T15:55:21.210378Z",
     "iopub.status.busy": "2024-07-11T15:55:21.210378Z",
     "iopub.status.idle": "2024-07-11T15:55:21.226003Z",
     "shell.execute_reply": "2024-07-11T15:55:21.226003Z"
    }
   },
   "outputs": [],
   "source": [
    "port_4 = {\n",
    "    \"name\": \"port_4\",\n",
    "    \"positive_terminal\": {\"coordinates\": {\"layer\": \"1_Top\", \"point\": [\"104mm\", \"37mm\"], \"net\": \"AVCC_1V3\"}},\n",
    "    \"negative_terminal\": {\"coordinates\": {\"layer\": \"Inner6(GND2)\", \"point\": [\"104mm\", \"37mm\"], \"net\": \"GND\"}},\n",
    "}"
   ]
  },
  {
   "cell_type": "markdown",
   "id": "6752286e",
   "metadata": {},
   "source": [
    "## Add a coax port"
   ]
  },
  {
   "cell_type": "code",
   "execution_count": 10,
   "id": "aa4bf504",
   "metadata": {
    "execution": {
     "iopub.execute_input": "2024-07-11T15:55:21.226003Z",
     "iopub.status.busy": "2024-07-11T15:55:21.226003Z",
     "iopub.status.idle": "2024-07-11T15:55:21.241625Z",
     "shell.execute_reply": "2024-07-11T15:55:21.241625Z"
    }
   },
   "outputs": [],
   "source": [
    "port_5 = {\"name\": \"port_5\", \"reference_designator\": \"U1\", \"type\": \"coax\", \"positive_terminal\": {\"pin\": \"AM17\"}}"
   ]
  },
  {
   "cell_type": "markdown",
   "id": "f498f7ef",
   "metadata": {},
   "source": [
    "## Add a port reference to the neareast pin"
   ]
  },
  {
   "cell_type": "markdown",
   "id": "b186dce6",
   "metadata": {},
   "source": [
    "Keywords\n",
    "\n",
    "- **reference_net**. Name of the reference net\n",
    "- **search_radius**. Reference pin search radius in meter"
   ]
  },
  {
   "cell_type": "code",
   "execution_count": 11,
   "id": "51600b7f",
   "metadata": {
    "execution": {
     "iopub.execute_input": "2024-07-11T15:55:21.241625Z",
     "iopub.status.busy": "2024-07-11T15:55:21.241625Z",
     "iopub.status.idle": "2024-07-11T15:55:21.257275Z",
     "shell.execute_reply": "2024-07-11T15:55:21.257275Z"
    }
   },
   "outputs": [],
   "source": [
    "port_6 = {\n",
    "    \"name\": \"port_6\",\n",
    "    \"reference_designator\": \"U15\",\n",
    "    \"type\": \"circuit\",\n",
    "    \"positive_terminal\": {\"pin\": \"D7\"},\n",
    "    \"negative_terminal\": {\"nearest_pin\": {\"reference_net\": \"GND\", \"search_radius\": 5e-3}},\n",
    "}"
   ]
  },
  {
   "cell_type": "markdown",
   "id": "ebcd0a95",
   "metadata": {},
   "source": [
    "## Add distributed ports"
   ]
  },
  {
   "cell_type": "markdown",
   "id": "d529332c",
   "metadata": {},
   "source": [
    "Keywords\n",
    "\n",
    "- **distributed**. Whether to create distributed ports. When set to True, ports are created per pin"
   ]
  },
  {
   "cell_type": "code",
   "execution_count": 12,
   "id": "75a733e3",
   "metadata": {
    "execution": {
     "iopub.execute_input": "2024-07-11T15:55:21.257275Z",
     "iopub.status.busy": "2024-07-11T15:55:21.257275Z",
     "iopub.status.idle": "2024-07-11T15:55:21.272880Z",
     "shell.execute_reply": "2024-07-11T15:55:21.272880Z"
    }
   },
   "outputs": [],
   "source": [
    "ports_distributed = {\n",
    "    \"name\": \"ports_d\",\n",
    "    \"reference_designator\": \"U7\",\n",
    "    \"type\": \"circuit\",\n",
    "    \"distributed\": True,\n",
    "    \"positive_terminal\": {\"net\": \"VDD_DDR\"},\n",
    "    \"negative_terminal\": {\"net\": \"GND\"},\n",
    "}"
   ]
  },
  {
   "cell_type": "markdown",
   "id": "c38f15d9",
   "metadata": {},
   "source": [
    "## Add setups in configuration"
   ]
  },
  {
   "cell_type": "code",
   "execution_count": 13,
   "id": "4d7a9531",
   "metadata": {
    "execution": {
     "iopub.execute_input": "2024-07-11T15:55:21.272880Z",
     "iopub.status.busy": "2024-07-11T15:55:21.272880Z",
     "iopub.status.idle": "2024-07-11T15:55:21.288514Z",
     "shell.execute_reply": "2024-07-11T15:55:21.288514Z"
    }
   },
   "outputs": [],
   "source": [
    "cfg[\"pin_groups\"] = pin_groups\n",
    "cfg[\"ports\"] = [port_1, port_2, port_3, port_4, port_5, port_6, ports_distributed]"
   ]
  },
  {
   "cell_type": "markdown",
   "id": "7c7c4432",
   "metadata": {},
   "source": [
    "## Write configuration into as json file"
   ]
  },
  {
   "cell_type": "code",
   "execution_count": 14,
   "id": "95c599b4",
   "metadata": {
    "execution": {
     "iopub.execute_input": "2024-07-11T15:55:21.288514Z",
     "iopub.status.busy": "2024-07-11T15:55:21.288514Z",
     "iopub.status.idle": "2024-07-11T15:55:21.304130Z",
     "shell.execute_reply": "2024-07-11T15:55:21.304130Z"
    }
   },
   "outputs": [],
   "source": [
    "file_json = Path(temp_folder.name) / \"edb_configuration.json\"\n",
    "with open(file_json, \"w\") as f:\n",
    "    json.dump(cfg, f, indent=4, ensure_ascii=False)"
   ]
  },
  {
   "cell_type": "markdown",
   "id": "3787f229",
   "metadata": {},
   "source": [
    "## Import configuration into example layout"
   ]
  },
  {
   "cell_type": "code",
   "execution_count": 15,
   "id": "88f968f6",
   "metadata": {
    "execution": {
     "iopub.execute_input": "2024-07-11T15:55:21.304130Z",
     "iopub.status.busy": "2024-07-11T15:55:21.304130Z",
     "iopub.status.idle": "2024-07-11T15:55:23.069723Z",
     "shell.execute_reply": "2024-07-11T15:55:23.069723Z"
    }
   },
   "outputs": [
    {
     "data": {
      "text/plain": [
       "True"
      ]
     },
     "execution_count": 15,
     "metadata": {},
     "output_type": "execute_result"
    }
   ],
   "source": [
    "edbapp.configuration.load(config_file=file_json)\n",
    "edbapp.configuration.run()"
   ]
  },
  {
   "cell_type": "markdown",
   "id": "12e67c81",
   "metadata": {},
   "source": [
    "## Review"
   ]
  },
  {
   "cell_type": "code",
   "execution_count": 16,
   "id": "95133399",
   "metadata": {
    "execution": {
     "iopub.execute_input": "2024-07-11T15:55:23.069723Z",
     "iopub.status.busy": "2024-07-11T15:55:23.069723Z",
     "iopub.status.idle": "2024-07-11T15:55:23.100977Z",
     "shell.execute_reply": "2024-07-11T15:55:23.100977Z"
    }
   },
   "outputs": [
    {
     "data": {
      "text/plain": [
       "{'port_1': <pyedb.dotnet.edb_core.edb_data.ports.CircuitPort at 0x1f0c52a6a00>,\n",
       " 'port_2': <pyedb.dotnet.edb_core.edb_data.ports.CircuitPort at 0x1f0c52a6e80>,\n",
       " 'port_3': <pyedb.dotnet.edb_core.edb_data.ports.CircuitPort at 0x1f0c52a80c0>,\n",
       " 'port_4': <pyedb.dotnet.edb_core.edb_data.ports.GapPort at 0x1f0c52a82c0>,\n",
       " 'port_5': <pyedb.dotnet.edb_core.edb_data.ports.CoaxPort at 0x1f0c52a9580>,\n",
       " 'port_6': <pyedb.dotnet.edb_core.edb_data.ports.CircuitPort at 0x1f0c52b1400>,\n",
       " 'U7_VDD_DDR_T9': <pyedb.dotnet.edb_core.edb_data.ports.CircuitPort at 0x1f0c52b3b40>,\n",
       " 'U7_VDD_DDR_R1': <pyedb.dotnet.edb_core.edb_data.ports.CircuitPort at 0x1f0c52b3d40>,\n",
       " 'U7_VDD_DDR_L9': <pyedb.dotnet.edb_core.edb_data.ports.CircuitPort at 0x1f0c52b3fc0>,\n",
       " 'U7_VDD_DDR_L1': <pyedb.dotnet.edb_core.edb_data.ports.CircuitPort at 0x1f0c5294940>,\n",
       " 'U7_VDD_DDR_J9': <pyedb.dotnet.edb_core.edb_data.ports.CircuitPort at 0x1f0c5295600>,\n",
       " 'U7_VDD_DDR_J8': <pyedb.dotnet.edb_core.edb_data.ports.CircuitPort at 0x1f0c52964c0>,\n",
       " 'U7_VDD_DDR_J2': <pyedb.dotnet.edb_core.edb_data.ports.CircuitPort at 0x1f0c5296f40>,\n",
       " 'U7_VDD_DDR_J1': <pyedb.dotnet.edb_core.edb_data.ports.CircuitPort at 0x1f0c5297e80>,\n",
       " 'U7_VDD_DDR_G9': <pyedb.dotnet.edb_core.edb_data.ports.CircuitPort at 0x1f0c5297880>,\n",
       " 'U7_VDD_DDR_G7': <pyedb.dotnet.edb_core.edb_data.ports.CircuitPort at 0x1f0c52981c0>,\n",
       " 'U7_VDD_DDR_G1': <pyedb.dotnet.edb_core.edb_data.ports.CircuitPort at 0x1f0c5299140>,\n",
       " 'U7_VDD_DDR_F8': <pyedb.dotnet.edb_core.edb_data.ports.CircuitPort at 0x1f0c5298380>,\n",
       " 'U7_VDD_DDR_F2': <pyedb.dotnet.edb_core.edb_data.ports.CircuitPort at 0x1f0c5299500>,\n",
       " 'U7_VDD_DDR_D9': <pyedb.dotnet.edb_core.edb_data.ports.CircuitPort at 0x1f0c52993c0>,\n",
       " 'U7_VDD_DDR_D1': <pyedb.dotnet.edb_core.edb_data.ports.CircuitPort at 0x1f0c5299400>,\n",
       " 'U7_VDD_DDR_C1': <pyedb.dotnet.edb_core.edb_data.ports.CircuitPort at 0x1f0c5299c00>,\n",
       " 'U7_VDD_DDR_B9': <pyedb.dotnet.edb_core.edb_data.ports.CircuitPort at 0x1f0c529acc0>,\n",
       " 'U7_VDD_DDR_B3': <pyedb.dotnet.edb_core.edb_data.ports.CircuitPort at 0x1f0c529aac0>,\n",
       " 'U7_VDD_DDR_A9': <pyedb.dotnet.edb_core.edb_data.ports.CircuitPort at 0x1f0c529a600>,\n",
       " 'U7_VDD_DDR_A1': <pyedb.dotnet.edb_core.edb_data.ports.CircuitPort at 0x1f0c529b240>}"
      ]
     },
     "execution_count": 16,
     "metadata": {},
     "output_type": "execute_result"
    }
   ],
   "source": [
    "edbapp.ports"
   ]
  },
  {
   "cell_type": "markdown",
   "id": "35b9b28e",
   "metadata": {},
   "source": [
    "## Save EDB"
   ]
  },
  {
   "cell_type": "code",
   "execution_count": 17,
   "id": "ffdf2673",
   "metadata": {
    "execution": {
     "iopub.execute_input": "2024-07-11T15:55:23.100977Z",
     "iopub.status.busy": "2024-07-11T15:55:23.100977Z",
     "iopub.status.idle": "2024-07-11T15:55:23.226033Z",
     "shell.execute_reply": "2024-07-11T15:55:23.226033Z"
    }
   },
   "outputs": [
    {
     "name": "stdout",
     "output_type": "stream",
     "text": [
      "EDB is saved to C:\\Users\\ansys\\AppData\\Local\\Temp\\tmp2zok2jju.ansys\\edb/ANSYS-HSD_V1.aedb\n"
     ]
    }
   ],
   "source": [
    "edbapp.save()\n",
    "print(f\"EDB is saved to {edbapp.edbpath}\")"
   ]
  },
  {
   "cell_type": "markdown",
   "id": "fe1e7e08",
   "metadata": {},
   "source": [
    "## Close EDB"
   ]
  },
  {
   "cell_type": "code",
   "execution_count": 18,
   "id": "8c6bfb5d",
   "metadata": {
    "execution": {
     "iopub.execute_input": "2024-07-11T15:55:23.226033Z",
     "iopub.status.busy": "2024-07-11T15:55:23.226033Z",
     "iopub.status.idle": "2024-07-11T15:55:23.319792Z",
     "shell.execute_reply": "2024-07-11T15:55:23.319792Z"
    }
   },
   "outputs": [
    {
     "data": {
      "text/plain": [
       "True"
      ]
     },
     "execution_count": 18,
     "metadata": {},
     "output_type": "execute_result"
    }
   ],
   "source": [
    "edbapp.close()"
   ]
  }
 ],
 "metadata": {
  "jupytext": {
   "cell_metadata_filter": "-all",
   "main_language": "python",
   "notebook_metadata_filter": "-all",
   "text_representation": {
    "extension": ".py",
    "format_name": "light"
   }
  },
  "language_info": {
   "codemirror_mode": {
    "name": "ipython",
    "version": 3
   },
   "file_extension": ".py",
   "mimetype": "text/x-python",
   "name": "python",
   "nbconvert_exporter": "python",
   "pygments_lexer": "ipython3",
   "version": "3.10.11"
  }
 },
 "nbformat": 4,
 "nbformat_minor": 5
}
