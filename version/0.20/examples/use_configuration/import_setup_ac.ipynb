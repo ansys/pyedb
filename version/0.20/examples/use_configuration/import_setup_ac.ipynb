{
 "cells": [
  {
   "cell_type": "markdown",
   "id": "d019f405",
   "metadata": {},
   "source": [
    "# Import Setup AC\n",
    "This example shows how to import SIwave, HFSS setups for AC analysis. In this example, we are going to\n",
    "- Download an example board\n",
    "- Create a configuration file\n",
    "  - add setups\n",
    "- Import the configuration file"
   ]
  },
  {
   "cell_type": "markdown",
   "id": "0ffde609",
   "metadata": {},
   "source": [
    "### Import the required packages"
   ]
  },
  {
   "cell_type": "code",
   "execution_count": 1,
   "id": "79de240d",
   "metadata": {
    "execution": {
     "iopub.execute_input": "2024-07-11T15:55:28.738632Z",
     "iopub.status.busy": "2024-07-11T15:55:28.738632Z",
     "iopub.status.idle": "2024-07-11T15:55:29.254353Z",
     "shell.execute_reply": "2024-07-11T15:55:29.254353Z"
    }
   },
   "outputs": [],
   "source": [
    "import json\n",
    "from pathlib import Path\n",
    "import tempfile\n",
    "\n",
    "from pyaedt.downloads import download_file\n",
    "\n",
    "from pyedb import Edb\n",
    "\n",
    "AEDT_VERSION = \"2024.1\"\n",
    "NG_MODE = False\n"
   ]
  },
  {
   "cell_type": "markdown",
   "id": "3449dd7d",
   "metadata": {},
   "source": [
    "Download the example PCB data."
   ]
  },
  {
   "cell_type": "code",
   "execution_count": 2,
   "id": "efc004c4",
   "metadata": {
    "execution": {
     "iopub.execute_input": "2024-07-11T15:55:29.254353Z",
     "iopub.status.busy": "2024-07-11T15:55:29.254353Z",
     "iopub.status.idle": "2024-07-11T15:55:30.176510Z",
     "shell.execute_reply": "2024-07-11T15:55:30.176510Z"
    }
   },
   "outputs": [],
   "source": [
    "temp_folder = tempfile.TemporaryDirectory(suffix=\".ansys\")\n",
    "file_edb = download_file(source=\"edb/ANSYS-HSD_V1.aedb\", destination=temp_folder.name)"
   ]
  },
  {
   "cell_type": "markdown",
   "id": "dc8aee7e",
   "metadata": {},
   "source": [
    "## Load example layout."
   ]
  },
  {
   "cell_type": "code",
   "execution_count": 3,
   "id": "bc65114b",
   "metadata": {
    "execution": {
     "iopub.execute_input": "2024-07-11T15:55:30.176510Z",
     "iopub.status.busy": "2024-07-11T15:55:30.176510Z",
     "iopub.status.idle": "2024-07-11T15:55:41.552336Z",
     "shell.execute_reply": "2024-07-11T15:55:41.552336Z"
    }
   },
   "outputs": [
    {
     "name": "stdout",
     "output_type": "stream",
     "text": [
      "PyAEDT INFO: Logger is initialized in EDB.\n"
     ]
    },
    {
     "name": "stdout",
     "output_type": "stream",
     "text": [
      "PyAEDT INFO: legacy v0.20.0\n"
     ]
    },
    {
     "name": "stdout",
     "output_type": "stream",
     "text": [
      "PyAEDT INFO: Python version 3.10.11 (tags/v3.10.11:7d4cc5a, Apr  5 2023, 00:38:17) [MSC v.1929 64 bit (AMD64)]\n"
     ]
    },
    {
     "name": "stdout",
     "output_type": "stream",
     "text": [
      "PyAEDT INFO: Database ANSYS-HSD_V1.aedb Opened in 2024.1\n"
     ]
    },
    {
     "name": "stdout",
     "output_type": "stream",
     "text": [
      "PyAEDT INFO: Cell main Opened\n"
     ]
    },
    {
     "name": "stdout",
     "output_type": "stream",
     "text": [
      "PyAEDT INFO: Builder was initialized.\n"
     ]
    },
    {
     "name": "stdout",
     "output_type": "stream",
     "text": [
      "PyAEDT INFO: EDB initialized.\n"
     ]
    }
   ],
   "source": [
    "edbapp = Edb(file_edb, edbversion=AEDT_VERSION)"
   ]
  },
  {
   "cell_type": "markdown",
   "id": "c2b09bf7",
   "metadata": {},
   "source": [
    "## Create an empty dictionary to host all configurations."
   ]
  },
  {
   "cell_type": "code",
   "execution_count": 4,
   "id": "1747d6fd",
   "metadata": {
    "execution": {
     "iopub.execute_input": "2024-07-11T15:55:41.552336Z",
     "iopub.status.busy": "2024-07-11T15:55:41.552336Z",
     "iopub.status.idle": "2024-07-11T15:55:41.567968Z",
     "shell.execute_reply": "2024-07-11T15:55:41.567968Z"
    }
   },
   "outputs": [],
   "source": [
    "cfg = dict()"
   ]
  },
  {
   "cell_type": "markdown",
   "id": "1388a979",
   "metadata": {},
   "source": [
    "## Create an SIwave SYZ setup"
   ]
  },
  {
   "cell_type": "markdown",
   "id": "d476b7a7",
   "metadata": {},
   "source": [
    "Keywords\n",
    "\n",
    "- **name**. Name of the setup.\n",
    "- **type**. Type of the analysis setup. Supported types are 'siwave_ac', 'siwave_dc', 'hfss'.\n",
    "- **pi_slider_position**. PI slider position. Supported values are from '0', '1', '2'. 0:speed, 1:balanced,\n",
    "2:accuracy.\n",
    "- **freq_sweep**. List of frequency sweeps.\n",
    "  - **name**. Name of the sweep.\n",
    "  - **type**. Type of the sweep. Supported types are 'interpolation', 'discrete', 'broadband'.\n",
    "  - **frequencies**. Frequency distribution.\n",
    "    - **distribution**. Supported distributions are 'linear_count', 'linear_scale', 'log_scale'.\n",
    "    - **start**. Start frequency. Example, 1e6, \"1MHz\".\n",
    "    - **stop**. Stop frequency. Example, 1e9, \"1GHz\".\n",
    "    - **increment**."
   ]
  },
  {
   "cell_type": "code",
   "execution_count": 5,
   "id": "a169eed8",
   "metadata": {
    "execution": {
     "iopub.execute_input": "2024-07-11T15:55:41.567968Z",
     "iopub.status.busy": "2024-07-11T15:55:41.567968Z",
     "iopub.status.idle": "2024-07-11T15:55:41.583607Z",
     "shell.execute_reply": "2024-07-11T15:55:41.583607Z"
    }
   },
   "outputs": [],
   "source": [
    "siwave_setup = {\n",
    "    \"name\": \"siwave_1\",\n",
    "    \"type\": \"siwave_ac\",\n",
    "    \"pi_slider_position\": 1,\n",
    "    \"freq_sweep\": [\n",
    "        {\n",
    "            \"name\": \"Sweep1\",\n",
    "            \"type\": \"interpolation\",\n",
    "            \"frequencies\": [{\"distribution\": \"log_scale\", \"start\": 1e6, \"stop\": 1e9, \"increment\": 20}],\n",
    "        }\n",
    "    ],\n",
    "}"
   ]
  },
  {
   "cell_type": "markdown",
   "id": "89f64990",
   "metadata": {},
   "source": [
    "## Create a HFSS setup"
   ]
  },
  {
   "cell_type": "markdown",
   "id": "32eca881",
   "metadata": {},
   "source": [
    "Keywords\n",
    "\n",
    "- **name**. Name of the setup.\n",
    "- **type**. Type of the analysis setup. Supported types are 'siwave_ac', 'siwave_dc', 'hfss'.\n",
    "- **f_adapt**. Adaptive frequency.\n",
    "- **max_num_passes**. Maximum number of passes.\n",
    "- **max_mag_delta_s**. Convergence criteria delta S.\n",
    "- **mesh_operations**. Mesh operations.\n",
    "    - **name**. Name of the mesh operation.\n",
    "    - **type**. Type of the mesh operation. The supported types are 'base', 'length', 'skin_depth'.\n",
    "    - **max_length**. Maximum length of elements.\n",
    "    - **restrict_length**. Whether to restrict length of elements.\n",
    "    - **refine_inside**. Whether to turn on refine inside objects.\n",
    "    - **nets_layers_list**. {'layer_name':['net_name_1', 'net_name_2']}\n",
    "- **freq_sweep**. List of frequency sweeps.\n",
    "  - **name**. Name of the sweep.\n",
    "  - **type**. Type of the sweep. Supported types are 'interpolation', 'discrete', 'broadband'.\n",
    "  - **frequencies**. Frequency distribution.\n",
    "    - **distribution**. Supported distributions are 'linear_count', 'linear_scale', 'log_scale'.\n",
    "    - **start**. Start frequency. Example, 1e6, \"1MHz\".\n",
    "    - **stop**. Stop frequency. Example, 1e9, \"1GHz\".\n",
    "    - **increment**."
   ]
  },
  {
   "cell_type": "code",
   "execution_count": 6,
   "id": "2eebf7d1",
   "metadata": {
    "execution": {
     "iopub.execute_input": "2024-07-11T15:55:41.583607Z",
     "iopub.status.busy": "2024-07-11T15:55:41.583607Z",
     "iopub.status.idle": "2024-07-11T15:55:41.599256Z",
     "shell.execute_reply": "2024-07-11T15:55:41.599256Z"
    }
   },
   "outputs": [],
   "source": [
    "hfss_setup = {\n",
    "    \"name\": \"hfss_1\",\n",
    "    \"type\": \"hfss\",\n",
    "    \"f_adapt\": \"5GHz\",\n",
    "    \"max_num_passes\": 10,\n",
    "    \"max_mag_delta_s\": 0.02,\n",
    "    \"mesh_operations\": [\n",
    "        {\n",
    "            \"name\": \"mop_1\",\n",
    "            \"type\": \"length\",\n",
    "            \"max_length\": \"3mm\",\n",
    "            \"restrict_length\": True,\n",
    "            \"refine_inside\": False,\n",
    "            \"nets_layers_list\": {\"GND\": [\"1_Top\", \"16_Bottom\"]},\n",
    "        }\n",
    "    ],\n",
    "    \"freq_sweep\": [\n",
    "        {\n",
    "            \"name\": \"Sweep1\",\n",
    "            \"type\": \"interpolation\",\n",
    "            \"frequencies\": [{\"distribution\": \"log_scale\", \"start\": 1e6, \"stop\": 1e9, \"increment\": 20}],\n",
    "        }\n",
    "    ],\n",
    "}"
   ]
  },
  {
   "cell_type": "markdown",
   "id": "6b05aea0",
   "metadata": {},
   "source": [
    "## Add setups in configuration"
   ]
  },
  {
   "cell_type": "code",
   "execution_count": 7,
   "id": "38f24125",
   "metadata": {
    "execution": {
     "iopub.execute_input": "2024-07-11T15:55:41.599256Z",
     "iopub.status.busy": "2024-07-11T15:55:41.599256Z",
     "iopub.status.idle": "2024-07-11T15:55:41.614832Z",
     "shell.execute_reply": "2024-07-11T15:55:41.614832Z"
    }
   },
   "outputs": [],
   "source": [
    "cfg[\"setups\"] = [siwave_setup, hfss_setup]"
   ]
  },
  {
   "cell_type": "markdown",
   "id": "fd3b8a86",
   "metadata": {},
   "source": [
    "## Write configuration into as json file"
   ]
  },
  {
   "cell_type": "code",
   "execution_count": 8,
   "id": "ff3f84c3",
   "metadata": {
    "execution": {
     "iopub.execute_input": "2024-07-11T15:55:41.614832Z",
     "iopub.status.busy": "2024-07-11T15:55:41.614832Z",
     "iopub.status.idle": "2024-07-11T15:55:41.630455Z",
     "shell.execute_reply": "2024-07-11T15:55:41.630455Z"
    }
   },
   "outputs": [],
   "source": [
    "file_json = Path(temp_folder.name) / \"edb_configuration.json\"\n",
    "with open(file_json, \"w\") as f:\n",
    "    json.dump(cfg, f, indent=4, ensure_ascii=False)"
   ]
  },
  {
   "cell_type": "markdown",
   "id": "e5f001dc",
   "metadata": {},
   "source": [
    "## Import configuration into example layout"
   ]
  },
  {
   "cell_type": "code",
   "execution_count": 9,
   "id": "a5032b55",
   "metadata": {
    "execution": {
     "iopub.execute_input": "2024-07-11T15:55:41.630455Z",
     "iopub.status.busy": "2024-07-11T15:55:41.630455Z",
     "iopub.status.idle": "2024-07-11T15:55:41.927336Z",
     "shell.execute_reply": "2024-07-11T15:55:41.927336Z"
    }
   },
   "outputs": [
    {
     "data": {
      "text/plain": [
       "True"
      ]
     },
     "execution_count": 9,
     "metadata": {},
     "output_type": "execute_result"
    }
   ],
   "source": [
    "edbapp.configuration.load(config_file=file_json)\n",
    "edbapp.configuration.run()"
   ]
  },
  {
   "cell_type": "markdown",
   "id": "47e17486",
   "metadata": {},
   "source": [
    "## Review"
   ]
  },
  {
   "cell_type": "code",
   "execution_count": 10,
   "id": "d2788207",
   "metadata": {
    "execution": {
     "iopub.execute_input": "2024-07-11T15:55:41.927336Z",
     "iopub.status.busy": "2024-07-11T15:55:41.927336Z",
     "iopub.status.idle": "2024-07-11T15:55:41.942958Z",
     "shell.execute_reply": "2024-07-11T15:55:41.942958Z"
    }
   },
   "outputs": [
    {
     "data": {
      "text/plain": [
       "{'hfss_1': <pyedb.dotnet.edb_core.utilities.hfss_simulation_setup.HfssSimulationSetup at 0x1e5374af730>,\n",
       " 'siwave_1': <pyedb.dotnet.edb_core.utilities.siwave_simulation_setup.SiwaveSimulationSetup at 0x1e5374b0130>}"
      ]
     },
     "execution_count": 10,
     "metadata": {},
     "output_type": "execute_result"
    }
   ],
   "source": [
    "edbapp.setups"
   ]
  },
  {
   "cell_type": "markdown",
   "id": "9a6d1e45",
   "metadata": {},
   "source": [
    "## Save EDB"
   ]
  },
  {
   "cell_type": "code",
   "execution_count": 11,
   "id": "e8e0cd8d",
   "metadata": {
    "execution": {
     "iopub.execute_input": "2024-07-11T15:55:41.942958Z",
     "iopub.status.busy": "2024-07-11T15:55:41.942958Z",
     "iopub.status.idle": "2024-07-11T15:55:42.067981Z",
     "shell.execute_reply": "2024-07-11T15:55:42.067981Z"
    }
   },
   "outputs": [
    {
     "name": "stdout",
     "output_type": "stream",
     "text": [
      "EDB is saved to C:\\Users\\ansys\\AppData\\Local\\Temp\\tmpn5fkbr4e.ansys\\edb/ANSYS-HSD_V1.aedb\n"
     ]
    }
   ],
   "source": [
    "edbapp.save()\n",
    "print(f\"EDB is saved to {edbapp.edbpath}\")"
   ]
  },
  {
   "cell_type": "markdown",
   "id": "3c6df518",
   "metadata": {},
   "source": [
    "## Close EDB"
   ]
  },
  {
   "cell_type": "code",
   "execution_count": 12,
   "id": "e8dee36a",
   "metadata": {
    "execution": {
     "iopub.execute_input": "2024-07-11T15:55:42.067981Z",
     "iopub.status.busy": "2024-07-11T15:55:42.067981Z",
     "iopub.status.idle": "2024-07-11T15:55:42.161715Z",
     "shell.execute_reply": "2024-07-11T15:55:42.161715Z"
    }
   },
   "outputs": [
    {
     "data": {
      "text/plain": [
       "True"
      ]
     },
     "execution_count": 12,
     "metadata": {},
     "output_type": "execute_result"
    }
   ],
   "source": [
    "edbapp.close()"
   ]
  }
 ],
 "metadata": {
  "jupytext": {
   "cell_metadata_filter": "-all",
   "main_language": "python",
   "notebook_metadata_filter": "-all",
   "text_representation": {
    "extension": ".py",
    "format_name": "light"
   }
  },
  "language_info": {
   "codemirror_mode": {
    "name": "ipython",
    "version": 3
   },
   "file_extension": ".py",
   "mimetype": "text/x-python",
   "name": "python",
   "nbconvert_exporter": "python",
   "pygments_lexer": "ipython3",
   "version": "3.10.11"
  }
 },
 "nbformat": 4,
 "nbformat_minor": 5
}
