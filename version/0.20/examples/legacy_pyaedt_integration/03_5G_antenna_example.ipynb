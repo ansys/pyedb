{
 "cells": [
  {
   "cell_type": "markdown",
   "id": "ed7530e5",
   "metadata": {},
   "source": [
    "Copyright (C) 2023 - 2024 ANSYS, Inc. and/or its affiliates.\n",
    "SPDX-License-Identifier: MIT\n",
    "\n",
    "\n",
    "Permission is hereby granted, free of charge, to any person obtaining a copy\n",
    "of this software and associated documentation files (the \"Software\"), to deal\n",
    "in the Software without restriction, including without limitation the rights\n",
    "to use, copy, modify, merge, publish, distribute, sublicense, and/or sell\n",
    "copies of the Software, and to permit persons to whom the Software is\n",
    "furnished to do so, subject to the following conditions:\n",
    "\n",
    "The above copyright notice and this permission notice shall be included in all\n",
    "copies or substantial portions of the Software.\n",
    "\n",
    "THE SOFTWARE IS PROVIDED \"AS IS\", WITHOUT WARRANTY OF ANY KIND, EXPRESS OR\n",
    "IMPLIED, INCLUDING BUT NOT LIMITED TO THE WARRANTIES OF MERCHANTABILITY,\n",
    "FITNESS FOR A PARTICULAR PURPOSE AND NONINFRINGEMENT. IN NO EVENT SHALL THE\n",
    "AUTHORS OR COPYRIGHT HOLDERS BE LIABLE FOR ANY CLAIM, DAMAGES OR OTHER\n",
    "LIABILITY, WHETHER IN AN ACTION OF CONTRACT, TORT OR OTHERWISE, ARISING FROM,\n",
    "OUT OF OR IN CONNECTION WITH THE SOFTWARE OR THE USE OR OTHER DEALINGS IN THE\n",
    "SOFTWARE."
   ]
  },
  {
   "cell_type": "markdown",
   "id": "ff28a1ef",
   "metadata": {},
   "source": [
    "## EDB: 5G linear array antenna\n",
    "\n",
    "This example shows how you can use HFSS 3D Layout to create and solve a 5G linear array antenna."
   ]
  },
  {
   "cell_type": "markdown",
   "id": "b24fffa4",
   "metadata": {},
   "source": [
    "## Perform required imports\n",
    "\n",
    "Perform required imports."
   ]
  },
  {
   "cell_type": "code",
   "execution_count": 1,
   "id": "c06a6710",
   "metadata": {
    "execution": {
     "iopub.execute_input": "2024-07-11T15:32:19.150422Z",
     "iopub.status.busy": "2024-07-11T15:32:19.150422Z",
     "iopub.status.idle": "2024-07-11T15:32:19.181621Z",
     "shell.execute_reply": "2024-07-11T15:32:19.181621Z"
    }
   },
   "outputs": [],
   "source": [
    "import os\n",
    "import tempfile"
   ]
  },
  {
   "cell_type": "code",
   "execution_count": 2,
   "id": "102c8824",
   "metadata": {
    "execution": {
     "iopub.execute_input": "2024-07-11T15:32:19.181621Z",
     "iopub.status.busy": "2024-07-11T15:32:19.181621Z",
     "iopub.status.idle": "2024-07-11T15:32:19.681637Z",
     "shell.execute_reply": "2024-07-11T15:32:19.681637Z"
    }
   },
   "outputs": [],
   "source": [
    "from pyaedt import Hfss3dLayout"
   ]
  },
  {
   "cell_type": "code",
   "execution_count": 3,
   "id": "c4de8dce",
   "metadata": {
    "execution": {
     "iopub.execute_input": "2024-07-11T15:32:19.681637Z",
     "iopub.status.busy": "2024-07-11T15:32:19.681637Z",
     "iopub.status.idle": "2024-07-11T15:32:19.712875Z",
     "shell.execute_reply": "2024-07-11T15:32:19.712875Z"
    }
   },
   "outputs": [],
   "source": [
    "import pyedb\n",
    "from pyedb.generic.general_methods import generate_unique_name"
   ]
  },
  {
   "cell_type": "markdown",
   "id": "4d3252b5",
   "metadata": {},
   "source": [
    "## Set non-graphical mode\n",
    "\n",
    "Set non-graphical mode. The default is ``False``."
   ]
  },
  {
   "cell_type": "code",
   "execution_count": 4,
   "id": "95fda058",
   "metadata": {
    "execution": {
     "iopub.execute_input": "2024-07-11T15:32:19.712875Z",
     "iopub.status.busy": "2024-07-11T15:32:19.712875Z",
     "iopub.status.idle": "2024-07-11T15:32:19.728489Z",
     "shell.execute_reply": "2024-07-11T15:32:19.728489Z"
    }
   },
   "outputs": [],
   "source": [
    "non_graphical = False"
   ]
  },
  {
   "cell_type": "code",
   "execution_count": 5,
   "id": "817579c0",
   "metadata": {
    "execution": {
     "iopub.execute_input": "2024-07-11T15:32:19.728489Z",
     "iopub.status.busy": "2024-07-11T15:32:19.728489Z",
     "iopub.status.idle": "2024-07-11T15:32:19.744111Z",
     "shell.execute_reply": "2024-07-11T15:32:19.744111Z"
    }
   },
   "outputs": [],
   "source": [
    "class Patch:\n",
    "    def __init__(self, width=0.0, height=0.0, position=0.0):\n",
    "        self.width = width\n",
    "        self.height = height\n",
    "        self.position = position\n",
    "\n",
    "    @property\n",
    "    def points(self):\n",
    "        return [\n",
    "            [self.position, -self.height / 2],\n",
    "            [self.position + self.width, -self.height / 2],\n",
    "            [self.position + self.width, self.height / 2],\n",
    "            [self.position, self.height / 2],\n",
    "        ]"
   ]
  },
  {
   "cell_type": "code",
   "execution_count": 6,
   "id": "88163148",
   "metadata": {
    "execution": {
     "iopub.execute_input": "2024-07-11T15:32:19.744111Z",
     "iopub.status.busy": "2024-07-11T15:32:19.744111Z",
     "iopub.status.idle": "2024-07-11T15:32:19.759739Z",
     "shell.execute_reply": "2024-07-11T15:32:19.759739Z"
    }
   },
   "outputs": [],
   "source": [
    "class Line:\n",
    "    def __init__(self, length=0.0, width=0.0, position=0.0):\n",
    "        self.length = length\n",
    "        self.width = width\n",
    "        self.position = position\n",
    "\n",
    "    @property\n",
    "    def points(self):\n",
    "        return [\n",
    "            [self.position, -self.width / 2],\n",
    "            [self.position + self.length, -self.width / 2],\n",
    "            [self.position + self.length, self.width / 2],\n",
    "            [self.position, self.width / 2],\n",
    "        ]"
   ]
  },
  {
   "cell_type": "code",
   "execution_count": 7,
   "id": "dff2e9d4",
   "metadata": {
    "execution": {
     "iopub.execute_input": "2024-07-11T15:32:19.759739Z",
     "iopub.status.busy": "2024-07-11T15:32:19.759739Z",
     "iopub.status.idle": "2024-07-11T15:32:19.775366Z",
     "shell.execute_reply": "2024-07-11T15:32:19.775366Z"
    }
   },
   "outputs": [],
   "source": [
    "class LinearArray:\n",
    "    def __init__(self, nb_patch=1, array_length=10e-3, array_width=5e-3):\n",
    "        self.nbpatch = nb_patch\n",
    "        self.length = array_length\n",
    "        self.width = array_width\n",
    "\n",
    "    @property\n",
    "    def points(self):\n",
    "        return [\n",
    "            [-1e-3, -self.width / 2 - 1e-3],\n",
    "            [self.length + 1e-3, -self.width / 2 - 1e-3],\n",
    "            [self.length + 1e-3, self.width / 2 + 1e-3],\n",
    "            [-1e-3, self.width / 2 + 1e-3],\n",
    "        ]"
   ]
  },
  {
   "cell_type": "code",
   "execution_count": 8,
   "id": "81fa6cad",
   "metadata": {
    "execution": {
     "iopub.execute_input": "2024-07-11T15:32:19.775366Z",
     "iopub.status.busy": "2024-07-11T15:32:19.775366Z",
     "iopub.status.idle": "2024-07-11T15:32:30.573894Z",
     "shell.execute_reply": "2024-07-11T15:32:30.573894Z"
    }
   },
   "outputs": [
    {
     "name": "stdout",
     "output_type": "stream",
     "text": [
      "C:\\Users\\ansys\\AppData\\Local\\Temp\\pcb_JWQVPJ.aedb\n"
     ]
    },
    {
     "name": "stdout",
     "output_type": "stream",
     "text": [
      "PyAEDT INFO: Logger is initialized in EDB.\n"
     ]
    },
    {
     "name": "stdout",
     "output_type": "stream",
     "text": [
      "PyAEDT INFO: legacy v0.20.0\n"
     ]
    },
    {
     "name": "stdout",
     "output_type": "stream",
     "text": [
      "PyAEDT INFO: Python version 3.10.11 (tags/v3.10.11:7d4cc5a, Apr  5 2023, 00:38:17) [MSC v.1929 64 bit (AMD64)]\n"
     ]
    },
    {
     "name": "stdout",
     "output_type": "stream",
     "text": [
      "PyAEDT INFO: EDB C:\\Users\\ansys\\AppData\\Local\\Temp\\pcb_JWQVPJ.aedb created correctly.\n"
     ]
    },
    {
     "name": "stdout",
     "output_type": "stream",
     "text": [
      "PyAEDT INFO: EDB initialized.\n"
     ]
    }
   ],
   "source": [
    "tmpfold = tempfile.gettempdir()\n",
    "aedb_path = os.path.join(tmpfold, generate_unique_name(\"pcb\") + \".aedb\")\n",
    "print(aedb_path)\n",
    "edb = pyedb.Edb(edbpath=aedb_path, edbversion=\"2024.1\")"
   ]
  },
  {
   "cell_type": "markdown",
   "id": "3ee9fc1a",
   "metadata": {},
   "source": [
    "## Add stackup layers\n",
    "\n",
    "Add the stackup layers."
   ]
  },
  {
   "cell_type": "code",
   "execution_count": 9,
   "id": "a6045512",
   "metadata": {
    "execution": {
     "iopub.execute_input": "2024-07-11T15:32:30.573894Z",
     "iopub.status.busy": "2024-07-11T15:32:30.573894Z",
     "iopub.status.idle": "2024-07-11T15:32:30.698898Z",
     "shell.execute_reply": "2024-07-11T15:32:30.698898Z"
    }
   },
   "outputs": [
    {
     "name": "stderr",
     "output_type": "stream",
     "text": [
      "Material 'copper' does not exist in material library. Intempt to create it from syslib.\n"
     ]
    },
    {
     "name": "stderr",
     "output_type": "stream",
     "text": [
      "Material 'FR4_epoxy' does not exist in material library. Intempt to create it from syslib.\n"
     ]
    },
    {
     "name": "stderr",
     "output_type": "stream",
     "text": [
      "Material 'Air' does not exist in material library. Intempt to create it from syslib.\n"
     ]
    },
    {
     "name": "stdout",
     "output_type": "stream",
     "text": [
      "PyAEDT ERROR: Material Air does not exist in syslib AMAT file.\n"
     ]
    },
    {
     "name": "stderr",
     "output_type": "stream",
     "text": [
      "Material 'Duroid (tm)' does not exist in material library. Intempt to create it from syslib.\n"
     ]
    }
   ],
   "source": [
    "if edb:\n",
    "    edb.stackup.add_layer(\"Virt_GND\")\n",
    "    edb.stackup.add_layer(\"Gap\", \"Virt_GND\", layer_type=\"dielectric\", thickness=\"0.05mm\", material=\"Air\")\n",
    "    edb.stackup.add_layer(\"GND\", \"Gap\")\n",
    "    edb.stackup.add_layer(\"Substrat\", \"GND\", layer_type=\"dielectric\", thickness=\"0.5mm\", material=\"Duroid (tm)\")\n",
    "    edb.stackup.add_layer(\"TOP\", \"Substrat\")"
   ]
  },
  {
   "cell_type": "markdown",
   "id": "23069528",
   "metadata": {},
   "source": [
    "## Create linear array\n",
    "\n",
    "Create the first patch of the linear array."
   ]
  },
  {
   "cell_type": "code",
   "execution_count": 10,
   "id": "97aacb65",
   "metadata": {
    "execution": {
     "iopub.execute_input": "2024-07-11T15:32:30.698898Z",
     "iopub.status.busy": "2024-07-11T15:32:30.698898Z",
     "iopub.status.idle": "2024-07-11T15:32:30.745796Z",
     "shell.execute_reply": "2024-07-11T15:32:30.745796Z"
    }
   },
   "outputs": [
    {
     "data": {
      "text/plain": [
       "<pyedb.dotnet.edb_core.edb_data.primitives_data.EdbPolygon at 0x205992f07a0>"
      ]
     },
     "execution_count": 10,
     "metadata": {},
     "output_type": "execute_result"
    }
   ],
   "source": [
    "first_patch = Patch(width=1.4e-3, height=1.2e-3, position=0.0)\n",
    "edb.modeler.create_polygon(first_patch.points, \"TOP\", net_name=\"Array_antenna\")\n",
    "# First line\n",
    "first_line = Line(length=2.4e-3, width=0.3e-3, position=first_patch.width)\n",
    "edb.modeler.create_polygon(first_line.points, \"TOP\", net_name=\"Array_antenna\")"
   ]
  },
  {
   "cell_type": "markdown",
   "id": "713da2ec",
   "metadata": {},
   "source": [
    "## Patch linear array\n",
    "\n",
    "Patch the linear array."
   ]
  },
  {
   "cell_type": "code",
   "execution_count": 11,
   "id": "baa1d5bd",
   "metadata": {
    "execution": {
     "iopub.execute_input": "2024-07-11T15:32:30.745796Z",
     "iopub.status.busy": "2024-07-11T15:32:30.745796Z",
     "iopub.status.idle": "2024-07-11T15:32:30.761419Z",
     "shell.execute_reply": "2024-07-11T15:32:30.761419Z"
    }
   },
   "outputs": [],
   "source": [
    "patch = Patch(width=2.29e-3, height=3.3e-3)\n",
    "line = Line(length=1.9e-3, width=0.2e-3)\n",
    "linear_array = LinearArray(nb_patch=8, array_width=patch.height)"
   ]
  },
  {
   "cell_type": "code",
   "execution_count": 12,
   "id": "0ccc4c77",
   "metadata": {
    "execution": {
     "iopub.execute_input": "2024-07-11T15:32:30.761419Z",
     "iopub.status.busy": "2024-07-11T15:32:30.761419Z",
     "iopub.status.idle": "2024-07-11T15:32:30.777052Z",
     "shell.execute_reply": "2024-07-11T15:32:30.777052Z"
    }
   },
   "outputs": [],
   "source": [
    "current_patch = 1\n",
    "current_position = first_line.position + first_line.length"
   ]
  },
  {
   "cell_type": "code",
   "execution_count": 13,
   "id": "0308208d",
   "metadata": {
    "execution": {
     "iopub.execute_input": "2024-07-11T15:32:30.777052Z",
     "iopub.status.busy": "2024-07-11T15:32:30.777052Z",
     "iopub.status.idle": "2024-07-11T15:32:30.902026Z",
     "shell.execute_reply": "2024-07-11T15:32:30.902026Z"
    }
   },
   "outputs": [],
   "source": [
    "while current_patch <= linear_array.nbpatch:\n",
    "    patch.position = current_position\n",
    "    edb.modeler.create_polygon(patch.points, \"TOP\", net_name=\"Array_antenna\")\n",
    "    current_position += patch.width\n",
    "    if current_patch < linear_array.nbpatch:\n",
    "        line.position = current_position\n",
    "        edb.modeler.create_polygon(line.points, \"TOP\", net_name=\"Array_antenna\")\n",
    "        current_position += line.length\n",
    "    current_patch += 1"
   ]
  },
  {
   "cell_type": "code",
   "execution_count": 14,
   "id": "a704723f",
   "metadata": {
    "execution": {
     "iopub.execute_input": "2024-07-11T15:32:30.902026Z",
     "iopub.status.busy": "2024-07-11T15:32:30.902026Z",
     "iopub.status.idle": "2024-07-11T15:32:30.917674Z",
     "shell.execute_reply": "2024-07-11T15:32:30.917674Z"
    }
   },
   "outputs": [],
   "source": [
    "linear_array.length = current_position"
   ]
  },
  {
   "cell_type": "markdown",
   "id": "602b6585",
   "metadata": {},
   "source": [
    "## Add ground\n",
    "\n",
    "Add a ground."
   ]
  },
  {
   "cell_type": "code",
   "execution_count": 15,
   "id": "58b22f97",
   "metadata": {
    "execution": {
     "iopub.execute_input": "2024-07-11T15:32:30.917674Z",
     "iopub.status.busy": "2024-07-11T15:32:30.917674Z",
     "iopub.status.idle": "2024-07-11T15:32:30.933222Z",
     "shell.execute_reply": "2024-07-11T15:32:30.933222Z"
    },
    "lines_to_next_cell": 2
   },
   "outputs": [
    {
     "data": {
      "text/plain": [
       "<pyedb.dotnet.edb_core.edb_data.primitives_data.EdbPolygon at 0x20599480e10>"
      ]
     },
     "execution_count": 15,
     "metadata": {},
     "output_type": "execute_result"
    }
   ],
   "source": [
    "edb.modeler.create_polygon(linear_array.points, \"GND\", net_name=\"GND\")"
   ]
  },
  {
   "cell_type": "markdown",
   "id": "01d097b6",
   "metadata": {},
   "source": [
    "## Add connector pin\n",
    "\n",
    "Add a central connector pin."
   ]
  },
  {
   "cell_type": "code",
   "execution_count": 16,
   "id": "89e7916f",
   "metadata": {
    "execution": {
     "iopub.execute_input": "2024-07-11T15:32:30.933222Z",
     "iopub.status.busy": "2024-07-11T15:32:30.933222Z",
     "iopub.status.idle": "2024-07-11T15:32:30.980153Z",
     "shell.execute_reply": "2024-07-11T15:32:30.980153Z"
    }
   },
   "outputs": [
    {
     "name": "stdout",
     "output_type": "stream",
     "text": [
      "PyAEDT INFO: Padstack Connector_pin create correctly\n"
     ]
    }
   ],
   "source": [
    "edb.padstacks.create(padstackname=\"Connector_pin\", holediam=\"100um\", paddiam=\"0\", antipaddiam=\"200um\")\n",
    "con_pin = edb.padstacks.place(\n",
    "    [first_patch.width / 4, 0],\n",
    "    \"Connector_pin\",\n",
    "    net_name=\"Array_antenna\",\n",
    "    fromlayer=\"TOP\",\n",
    "    tolayer=\"GND\",\n",
    "    via_name=\"coax\",\n",
    ")"
   ]
  },
  {
   "cell_type": "markdown",
   "id": "6e3f4e61",
   "metadata": {},
   "source": [
    "## Add connector ground\n",
    "\n",
    "Add a connector ground."
   ]
  },
  {
   "cell_type": "code",
   "execution_count": 17,
   "id": "abbf54c4",
   "metadata": {
    "execution": {
     "iopub.execute_input": "2024-07-11T15:32:30.980153Z",
     "iopub.status.busy": "2024-07-11T15:32:30.980153Z",
     "iopub.status.idle": "2024-07-11T15:32:31.027024Z",
     "shell.execute_reply": "2024-07-11T15:32:31.027024Z"
    }
   },
   "outputs": [
    {
     "name": "stdout",
     "output_type": "stream",
     "text": [
      "PyAEDT INFO: Padstack gnd_via create correctly\n"
     ]
    }
   ],
   "source": [
    "edb.modeler.create_polygon(first_patch.points, \"Virt_GND\", net_name=\"GND\")\n",
    "edb.padstacks.create(\"gnd_via\", \"100um\", \"0\", \"0\")\n",
    "con_ref1 = edb.padstacks.place(\n",
    "    [first_patch.points[0][0] + 0.2e-3, first_patch.points[0][1] + 0.2e-3],\n",
    "    \"gnd_via\",\n",
    "    fromlayer=\"GND\",\n",
    "    tolayer=\"Virt_GND\",\n",
    "    net_name=\"GND\",\n",
    ")\n",
    "con_ref2 = edb.padstacks.place(\n",
    "    [first_patch.points[1][0] - 0.2e-3, first_patch.points[1][1] + 0.2e-3],\n",
    "    \"gnd_via\",\n",
    "    fromlayer=\"GND\",\n",
    "    tolayer=\"Virt_GND\",\n",
    "    net_name=\"GND\",\n",
    ")\n",
    "con_ref3 = edb.padstacks.place(\n",
    "    [first_patch.points[2][0] - 0.2e-3, first_patch.points[2][1] - 0.2e-3],\n",
    "    \"gnd_via\",\n",
    "    fromlayer=\"GND\",\n",
    "    tolayer=\"Virt_GND\",\n",
    "    net_name=\"GND\",\n",
    ")\n",
    "con_ref4 = edb.padstacks.place(\n",
    "    [first_patch.points[3][0] + 0.2e-3, first_patch.points[3][1] - 0.2e-3],\n",
    "    \"gnd_via\",\n",
    "    fromlayer=\"GND\",\n",
    "    tolayer=\"Virt_GND\",\n",
    "    net_name=\"GND\",\n",
    ")"
   ]
  },
  {
   "cell_type": "markdown",
   "id": "3faf0928",
   "metadata": {},
   "source": [
    "## Add excitation port\n",
    "\n",
    "Add an excitation port."
   ]
  },
  {
   "cell_type": "code",
   "execution_count": 18,
   "id": "8bd159ec",
   "metadata": {
    "execution": {
     "iopub.execute_input": "2024-07-11T15:32:31.027024Z",
     "iopub.status.busy": "2024-07-11T15:32:31.027024Z",
     "iopub.status.idle": "2024-07-11T15:32:31.058279Z",
     "shell.execute_reply": "2024-07-11T15:32:31.058279Z"
    },
    "lines_to_next_cell": 2
   },
   "outputs": [],
   "source": [
    "edb.padstacks.set_solderball(con_pin, \"Virt_GND\", isTopPlaced=False, ballDiam=0.1e-3)\n",
    "port_name = edb.padstacks.create_coax_port(con_pin)"
   ]
  },
  {
   "cell_type": "markdown",
   "id": "7d0d0698",
   "metadata": {},
   "source": [
    "## Plot geometry\n",
    "\n",
    "Plot the geometry."
   ]
  },
  {
   "cell_type": "code",
   "execution_count": 19,
   "id": "b1a18634",
   "metadata": {
    "execution": {
     "iopub.execute_input": "2024-07-11T15:32:31.058279Z",
     "iopub.status.busy": "2024-07-11T15:32:31.058279Z",
     "iopub.status.idle": "2024-07-11T15:32:31.902043Z",
     "shell.execute_reply": "2024-07-11T15:32:31.902043Z"
    }
   },
   "outputs": [
    {
     "name": "stdout",
     "output_type": "stream",
     "text": [
      "PyAEDT INFO: Nets Point Generation time 0.094 seconds\n"
     ]
    },
    {
     "name": "stderr",
     "output_type": "stream",
     "text": [
      "C:\\actions-runner\\_work\\pyedb\\pyedb\\.venv\\lib\\site-packages\\pyedb\\generic\\plot.py:144: UserWarning: FigureCanvasAgg is non-interactive, and thus cannot be shown\n",
      "  plt.show()\n"
     ]
    }
   ],
   "source": [
    "edb.nets.plot(None)"
   ]
  },
  {
   "cell_type": "markdown",
   "id": "bb1495c9",
   "metadata": {},
   "source": [
    "## Save and close Edb instance prior to opening it in Electronics Desktop.\n",
    "\n",
    "Save EDB."
   ]
  },
  {
   "cell_type": "code",
   "execution_count": 20,
   "id": "8e247579",
   "metadata": {
    "execution": {
     "iopub.execute_input": "2024-07-11T15:32:31.902043Z",
     "iopub.status.busy": "2024-07-11T15:32:31.902043Z",
     "iopub.status.idle": "2024-07-11T15:32:31.933290Z",
     "shell.execute_reply": "2024-07-11T15:32:31.933290Z"
    }
   },
   "outputs": [
    {
     "name": "stdout",
     "output_type": "stream",
     "text": [
      "PyAEDT INFO: EDB file save time: 0.00ms\n"
     ]
    },
    {
     "name": "stdout",
     "output_type": "stream",
     "text": [
      "PyAEDT INFO: EDB file release time: 0.00ms\n"
     ]
    },
    {
     "name": "stdout",
     "output_type": "stream",
     "text": [
      "EDB saved correctly to C:\\Users\\ansys\\AppData\\Local\\Temp\\pcb_JWQVPJ.aedb. You can import in AEDT.\n"
     ]
    }
   ],
   "source": [
    "edb.save_edb()\n",
    "edb.close_edb()\n",
    "print(\"EDB saved correctly to {}. You can import in AEDT.\".format(aedb_path))"
   ]
  },
  {
   "cell_type": "markdown",
   "id": "72de910b",
   "metadata": {},
   "source": [
    "## Launch HFSS 3D Layout and open EDB\n",
    "\n",
    "Launch HFSS 3D Layout and open EDB."
   ]
  },
  {
   "cell_type": "code",
   "execution_count": 21,
   "id": "0b5df5a9",
   "metadata": {
    "execution": {
     "iopub.execute_input": "2024-07-11T15:32:31.933290Z",
     "iopub.status.busy": "2024-07-11T15:32:31.933290Z",
     "iopub.status.idle": "2024-07-11T15:33:04.590820Z",
     "shell.execute_reply": "2024-07-11T15:33:04.590820Z"
    }
   },
   "outputs": [
    {
     "name": "stdout",
     "output_type": "stream",
     "text": [
      "PyAEDT WARNING: Argument `projectname` is deprecated for method `__init__`; use `project` instead.\n"
     ]
    },
    {
     "name": "stdout",
     "output_type": "stream",
     "text": [
      "PyAEDT WARNING: Argument `specified_version` is deprecated for method `__init__`; use `version` instead.\n"
     ]
    },
    {
     "name": "stdout",
     "output_type": "stream",
     "text": [
      "PyAEDT WARNING: Argument `new_desktop_session` is deprecated for method `__init__`; use `new_desktop` instead.\n"
     ]
    },
    {
     "name": "stdout",
     "output_type": "stream",
     "text": [
      "PyAEDT INFO: Initializing new Desktop session.\n"
     ]
    },
    {
     "name": "stdout",
     "output_type": "stream",
     "text": [
      "PyAEDT INFO: StdOut is enabled\n"
     ]
    },
    {
     "name": "stdout",
     "output_type": "stream",
     "text": [
      "PyAEDT INFO: Log on file is enabled\n"
     ]
    },
    {
     "name": "stdout",
     "output_type": "stream",
     "text": [
      "PyAEDT INFO: Log on Desktop Message Manager is enabled\n"
     ]
    },
    {
     "name": "stdout",
     "output_type": "stream",
     "text": [
      "PyAEDT INFO: Debug logger is disabled. PyAEDT methods will not be logged.\n"
     ]
    },
    {
     "name": "stdout",
     "output_type": "stream",
     "text": [
      "PyAEDT INFO: Launching PyAEDT outside AEDT with gRPC plugin.\n"
     ]
    },
    {
     "name": "stdout",
     "output_type": "stream",
     "text": [
      "PyAEDT INFO: New AEDT session is starting on gRPC port 52335\n"
     ]
    },
    {
     "name": "stdout",
     "output_type": "stream",
     "text": [
      "PyAEDT INFO: AEDT installation Path C:\\Program Files\\AnsysEM\\v241\\Win64\n"
     ]
    },
    {
     "name": "stdout",
     "output_type": "stream",
     "text": [
      "PyAEDT INFO: Ansoft.ElectronicsDesktop.2024.1 version started with process ID 5716.\n"
     ]
    },
    {
     "name": "stdout",
     "output_type": "stream",
     "text": [
      "PyAEDT INFO: pyaedt v0.9.8\n"
     ]
    },
    {
     "name": "stdout",
     "output_type": "stream",
     "text": [
      "PyAEDT INFO: Python version 3.10.11 (tags/v3.10.11:7d4cc5a, Apr  5 2023, 00:38:17) [MSC v.1929 64 bit (AMD64)]\n"
     ]
    },
    {
     "name": "stdout",
     "output_type": "stream",
     "text": [
      "PyAEDT INFO: AEDT 2024.1.0 Build Date 2023-11-27 22:16:18\n"
     ]
    },
    {
     "name": "stdout",
     "output_type": "stream",
     "text": [
      "PyAEDT INFO: EDB folder C:\\Users\\ansys\\AppData\\Local\\Temp\\pcb_JWQVPJ.aedb has been imported to project pcb_JWQVPJ\n"
     ]
    },
    {
     "name": "stdout",
     "output_type": "stream",
     "text": [
      "PyAEDT INFO: Active Design set to Cell_4MZ08N\n"
     ]
    },
    {
     "name": "stdout",
     "output_type": "stream",
     "text": [
      "PyAEDT INFO: Aedt Objects correctly read\n"
     ]
    }
   ],
   "source": [
    "h3d = Hfss3dLayout(\n",
    "    projectname=aedb_path, specified_version=\"2024.1\", new_desktop_session=True, non_graphical=non_graphical\n",
    ")"
   ]
  },
  {
   "cell_type": "markdown",
   "id": "80191db3",
   "metadata": {},
   "source": [
    "## Plot geometry\n",
    "\n",
    "Plot the geometry. The EDB methods are also accessible from the ``Hfss3dlayout`` class."
   ]
  },
  {
   "cell_type": "code",
   "execution_count": 22,
   "id": "9da74abe",
   "metadata": {
    "execution": {
     "iopub.execute_input": "2024-07-11T15:33:04.590820Z",
     "iopub.status.busy": "2024-07-11T15:33:04.590820Z",
     "iopub.status.idle": "2024-07-11T15:33:04.778317Z",
     "shell.execute_reply": "2024-07-11T15:33:04.778317Z"
    }
   },
   "outputs": [
    {
     "name": "stdout",
     "output_type": "stream",
     "text": [
      "PyAEDT INFO: Loading Modeler.\n"
     ]
    },
    {
     "name": "stdout",
     "output_type": "stream",
     "text": [
      "PyAEDT INFO: Modeler loaded.\n"
     ]
    },
    {
     "name": "stdout",
     "output_type": "stream",
     "text": [
      "PyAEDT INFO: EDB loaded.\n"
     ]
    },
    {
     "name": "stdout",
     "output_type": "stream",
     "text": [
      "PyAEDT INFO: Layers loaded.\n"
     ]
    },
    {
     "name": "stdout",
     "output_type": "stream",
     "text": [
      "PyAEDT INFO: Primitives loaded.\n"
     ]
    },
    {
     "name": "stdout",
     "output_type": "stream",
     "text": [
      "PyAEDT INFO: Modeler class has been initialized! Elapsed time: 0m 0sec\n"
     ]
    },
    {
     "name": "stdout",
     "output_type": "stream",
     "text": [
      "PyAEDT INFO: Logger is initialized in EDB.\n"
     ]
    },
    {
     "name": "stdout",
     "output_type": "stream",
     "text": [
      "PyAEDT INFO: legacy v0.20.0\n"
     ]
    },
    {
     "name": "stdout",
     "output_type": "stream",
     "text": [
      "PyAEDT INFO: Python version 3.10.11 (tags/v3.10.11:7d4cc5a, Apr  5 2023, 00:38:17) [MSC v.1929 64 bit (AMD64)]\n"
     ]
    },
    {
     "name": "stdout",
     "output_type": "stream",
     "text": [
      "PyAEDT INFO: Database pcb_JWQVPJ.aedb Opened in 2024.1\n"
     ]
    },
    {
     "name": "stdout",
     "output_type": "stream",
     "text": [
      "PyAEDT INFO: Cell Cell_4MZ08N Opened\n"
     ]
    },
    {
     "name": "stdout",
     "output_type": "stream",
     "text": [
      "PyAEDT INFO: Builder was initialized.\n"
     ]
    },
    {
     "name": "stdout",
     "output_type": "stream",
     "text": [
      "PyAEDT INFO: EDB initialized.\n"
     ]
    },
    {
     "name": "stdout",
     "output_type": "stream",
     "text": [
      "PyAEDT INFO: Nets Point Generation time 0.078 seconds\n"
     ]
    }
   ],
   "source": [
    "h3d.modeler.edb.nets.plot(None)"
   ]
  },
  {
   "cell_type": "markdown",
   "id": "aec42666",
   "metadata": {},
   "source": [
    "## Create setup and sweeps\n",
    "\n",
    "Getters and setters facilitate the settings on the nested property dictionary.\n",
    "Previously, you had to use these commands:\n",
    "\n",
    "``setup.props[\"AdaptiveSettings\"][\"SingleFrequencyDataList\"][\"AdaptiveFrequencyData\"][\"AdaptiveFrequency\"] = \"20GHz\"``\n",
    "``setup.props[\"AdaptiveSettings\"][\"SingleFrequencyDataList\"][\"AdaptiveFrequencyData\"][\"MaxPasses\"] = 4``\n",
    "\n",
    "You can now use the simpler approach that follows."
   ]
  },
  {
   "cell_type": "code",
   "execution_count": 23,
   "id": "3a1ac3ad",
   "metadata": {
    "execution": {
     "iopub.execute_input": "2024-07-11T15:33:04.778317Z",
     "iopub.status.busy": "2024-07-11T15:33:04.778317Z",
     "iopub.status.idle": "2024-07-11T15:33:04.856468Z",
     "shell.execute_reply": "2024-07-11T15:33:04.856468Z"
    }
   },
   "outputs": [],
   "source": [
    "setup = h3d.create_setup()"
   ]
  },
  {
   "cell_type": "code",
   "execution_count": 24,
   "id": "3577f848",
   "metadata": {
    "execution": {
     "iopub.execute_input": "2024-07-11T15:33:04.856468Z",
     "iopub.status.busy": "2024-07-11T15:33:04.856468Z",
     "iopub.status.idle": "2024-07-11T15:33:05.012693Z",
     "shell.execute_reply": "2024-07-11T15:33:05.012693Z"
    }
   },
   "outputs": [
    {
     "name": "stdout",
     "output_type": "stream",
     "text": [
      "PyAEDT WARNING: Argument `setupname` is deprecated for method `create_linear_count_sweep`; use `setup` instead.\n"
     ]
    },
    {
     "name": "stdout",
     "output_type": "stream",
     "text": [
      "PyAEDT WARNING: Argument `freqstart` is deprecated for method `create_linear_count_sweep`; use `start_frequency` instead.\n"
     ]
    },
    {
     "name": "stdout",
     "output_type": "stream",
     "text": [
      "PyAEDT WARNING: Argument `freqstop` is deprecated for method `create_linear_count_sweep`; use `stop_frequency` instead.\n"
     ]
    },
    {
     "name": "stdout",
     "output_type": "stream",
     "text": [
      "PyAEDT WARNING: Argument `sweepname` is deprecated for method `create_linear_count_sweep`; use `name` instead.\n"
     ]
    },
    {
     "name": "stdout",
     "output_type": "stream",
     "text": [
      "PyAEDT INFO: Linear count sweep sweep1 has been correctly created.\n"
     ]
    },
    {
     "data": {
      "text/plain": [
       "<pyaedt.modules.SolveSweeps.SweepHFSS3DLayout at 0x2059e12f200>"
      ]
     },
     "execution_count": 24,
     "metadata": {},
     "output_type": "execute_result"
    }
   ],
   "source": [
    "setup[\"AdaptiveFrequency\"] = \"20GHz\"\n",
    "setup[\"AdaptiveSettings/SingleFrequencyDataList/AdaptiveFrequencyData/MaxPasses\"] = 4\n",
    "h3d.create_linear_count_sweep(\n",
    "    setupname=setup.name,\n",
    "    unit=\"GHz\",\n",
    "    freqstart=20,\n",
    "    freqstop=50,\n",
    "    num_of_freq_points=1001,\n",
    "    sweepname=\"sweep1\",\n",
    "    sweep_type=\"Interpolating\",\n",
    "    interpolation_tol_percent=1,\n",
    "    interpolation_max_solutions=255,\n",
    "    save_fields=False,\n",
    "    use_q3d_for_dc=False,\n",
    ")"
   ]
  },
  {
   "cell_type": "markdown",
   "id": "e8664d5d",
   "metadata": {},
   "source": [
    "## Solve setup and create report\n",
    "\n",
    "Solve the project and create a report."
   ]
  },
  {
   "cell_type": "code",
   "execution_count": 25,
   "id": "a0a91590",
   "metadata": {
    "execution": {
     "iopub.execute_input": "2024-07-11T15:33:05.012693Z",
     "iopub.status.busy": "2024-07-11T15:33:05.012693Z",
     "iopub.status.idle": "2024-07-11T15:34:06.227409Z",
     "shell.execute_reply": "2024-07-11T15:34:06.227409Z"
    },
    "lines_to_next_cell": 2
   },
   "outputs": [
    {
     "name": "stdout",
     "output_type": "stream",
     "text": [
      "PyAEDT INFO: Key Desktop/ActiveDSOConfigurations/HFSS 3D Layout Design correctly changed.\n"
     ]
    },
    {
     "name": "stdout",
     "output_type": "stream",
     "text": [
      "PyAEDT INFO: Solving all design setups.\n"
     ]
    },
    {
     "name": "stdout",
     "output_type": "stream",
     "text": [
      "PyAEDT INFO: Key Desktop/ActiveDSOConfigurations/HFSS 3D Layout Design correctly changed.\n"
     ]
    },
    {
     "name": "stdout",
     "output_type": "stream",
     "text": [
      "PyAEDT INFO: Design setup None solved correctly in 0.0h 1.0m 1.0s\n"
     ]
    },
    {
     "name": "stdout",
     "output_type": "stream",
     "text": [
      "PyAEDT INFO: Parsing C:/Users/ansys/AppData/Local/Temp/pcb_JWQVPJ.aedt.\n"
     ]
    },
    {
     "name": "stdout",
     "output_type": "stream",
     "text": [
      "PyAEDT INFO: File C:/Users/ansys/AppData/Local/Temp/pcb_JWQVPJ.aedt correctly loaded. Elapsed time: 0m 0sec\n"
     ]
    },
    {
     "name": "stdout",
     "output_type": "stream",
     "text": [
      "PyAEDT INFO: aedt file load time 0.015625953674316406\n"
     ]
    },
    {
     "name": "stdout",
     "output_type": "stream",
     "text": [
      "PyAEDT INFO: PostProcessor class has been initialized! Elapsed time: 0m 0sec\n"
     ]
    },
    {
     "name": "stdout",
     "output_type": "stream",
     "text": [
      "PyAEDT INFO: Post class has been initialized! Elapsed time: 0m 0sec\n"
     ]
    },
    {
     "name": "stderr",
     "output_type": "stream",
     "text": [
      "C:\\actions-runner\\_work\\pyedb\\pyedb\\.venv\\lib\\site-packages\\pyaedt\\generic\\plot.py:55: UserWarning: The PyVista module is required to run some functionalities of PostProcess.\n",
      "Install with \n",
      "\n",
      "pip install pyvista\n",
      "\n",
      "Requires CPython.\n",
      "  warnings.warn(\n"
     ]
    },
    {
     "data": {
      "text/plain": [
       "<pyaedt.modules.report_templates.Standard at 0x2059e3ce790>"
      ]
     },
     "execution_count": 25,
     "metadata": {},
     "output_type": "execute_result"
    }
   ],
   "source": [
    "h3d.analyze()\n",
    "h3d.post.create_report([\"db(S({0},{1}))\".format(port_name, port_name)])"
   ]
  },
  {
   "cell_type": "markdown",
   "id": "a8057fee",
   "metadata": {},
   "source": [
    "## Plot results outside AEDT\n",
    "\n",
    "Plot results using Matplotlib."
   ]
  },
  {
   "cell_type": "code",
   "execution_count": 26,
   "id": "091c6dfd",
   "metadata": {
    "execution": {
     "iopub.execute_input": "2024-07-11T15:34:06.227409Z",
     "iopub.status.busy": "2024-07-11T15:34:06.227409Z",
     "iopub.status.idle": "2024-07-11T15:34:06.321162Z",
     "shell.execute_reply": "2024-07-11T15:34:06.321162Z"
    }
   },
   "outputs": [
    {
     "name": "stdout",
     "output_type": "stream",
     "text": [
      "PyAEDT INFO: Solution Data Correctly Loaded.\n"
     ]
    },
    {
     "data": {
      "text/plain": [
       "<Figure size 2000x1000 with 1 Axes>"
      ]
     },
     "execution_count": 26,
     "metadata": {},
     "output_type": "execute_result"
    }
   ],
   "source": [
    "solution = h3d.post.get_solution_data([\"S({0},{1})\".format(port_name, port_name)])\n",
    "solution.plot()"
   ]
  },
  {
   "cell_type": "markdown",
   "id": "9b7877aa",
   "metadata": {},
   "source": [
    "## Close AEDT\n",
    "\n",
    "After the simulation completes, you can close AEDT or release it using the\n",
    ":func:`dotnet.Desktop.release_desktop` method.\n",
    "All methods provide for saving the project before closing AEDT."
   ]
  },
  {
   "cell_type": "code",
   "execution_count": 27,
   "id": "67bee1db",
   "metadata": {
    "execution": {
     "iopub.execute_input": "2024-07-11T15:34:06.321162Z",
     "iopub.status.busy": "2024-07-11T15:34:06.321162Z",
     "iopub.status.idle": "2024-07-11T15:34:09.104819Z",
     "shell.execute_reply": "2024-07-11T15:34:09.104819Z"
    }
   },
   "outputs": [
    {
     "name": "stdout",
     "output_type": "stream",
     "text": [
      "PyAEDT INFO: Project pcb_JWQVPJ Saved correctly\n"
     ]
    },
    {
     "name": "stdout",
     "output_type": "stream",
     "text": [
      "PyAEDT INFO: Desktop has been released and closed.\n"
     ]
    },
    {
     "data": {
      "text/plain": [
       "True"
      ]
     },
     "execution_count": 27,
     "metadata": {},
     "output_type": "execute_result"
    }
   ],
   "source": [
    "h3d.save_project()\n",
    "h3d.release_desktop()"
   ]
  }
 ],
 "metadata": {
  "jupytext": {
   "cell_metadata_filter": "-all",
   "main_language": "python",
   "notebook_metadata_filter": "-all",
   "text_representation": {
    "extension": ".py",
    "format_name": "light"
   }
  },
  "language_info": {
   "codemirror_mode": {
    "name": "ipython",
    "version": 3
   },
   "file_extension": ".py",
   "mimetype": "text/x-python",
   "name": "python",
   "nbconvert_exporter": "python",
   "pygments_lexer": "ipython3",
   "version": "3.10.11"
  }
 },
 "nbformat": 4,
 "nbformat_minor": 5
}
