{
 "cells": [
  {
   "cell_type": "markdown",
   "id": "018e9d79",
   "metadata": {},
   "source": [
    "# EDB: geometry creation\n",
    "\n",
    "This example shows how to\n",
    "1. Create a parameterized PCB with an SMA connector footprint for a single-ended\n",
    "  SMA connector launch footprint..\n",
    "2. Place 3D component on PCB.\n",
    "3. Create HFSS setup and frequency sweep with a mesh operation.\n",
    "4. Create return loss plot"
   ]
  },
  {
   "cell_type": "markdown",
   "id": "2fa6c914",
   "metadata": {},
   "source": [
    "## See the finished project\n",
    "\n",
    "<img src=\"_static\\edb_example_12_sma_connector_on_board.png\" width=\"450\">"
   ]
  },
  {
   "cell_type": "markdown",
   "id": "7304a9bf",
   "metadata": {},
   "source": [
    "## Create a parameterized PCB\n",
    "\n",
    "Import dependencies."
   ]
  },
  {
   "cell_type": "code",
   "execution_count": 1,
   "id": "9d306919",
   "metadata": {
    "execution": {
     "iopub.execute_input": "2024-07-11T15:41:11.337609Z",
     "iopub.status.busy": "2024-07-11T15:41:11.337609Z",
     "iopub.status.idle": "2024-07-11T15:41:11.353249Z",
     "shell.execute_reply": "2024-07-11T15:41:11.353249Z"
    }
   },
   "outputs": [],
   "source": [
    "import os\n",
    "import tempfile"
   ]
  },
  {
   "cell_type": "code",
   "execution_count": 2,
   "id": "dfa1f6b8",
   "metadata": {
    "execution": {
     "iopub.execute_input": "2024-07-11T15:41:11.353249Z",
     "iopub.status.busy": "2024-07-11T15:41:11.353249Z",
     "iopub.status.idle": "2024-07-11T15:41:11.862267Z",
     "shell.execute_reply": "2024-07-11T15:41:11.862267Z"
    }
   },
   "outputs": [],
   "source": [
    "import numpy as np\n",
    "import pyaedt"
   ]
  },
  {
   "cell_type": "code",
   "execution_count": 3,
   "id": "177f49d8",
   "metadata": {
    "execution": {
     "iopub.execute_input": "2024-07-11T15:41:11.862267Z",
     "iopub.status.busy": "2024-07-11T15:41:11.862267Z",
     "iopub.status.idle": "2024-07-11T15:41:11.893515Z",
     "shell.execute_reply": "2024-07-11T15:41:11.893515Z"
    }
   },
   "outputs": [],
   "source": [
    "import pyedb\n",
    "from pyedb.misc.downloads import download_file"
   ]
  },
  {
   "cell_type": "markdown",
   "id": "dad726bf",
   "metadata": {},
   "source": [
    "Create the EDB."
   ]
  },
  {
   "cell_type": "code",
   "execution_count": 4,
   "id": "28d1346c",
   "metadata": {
    "execution": {
     "iopub.execute_input": "2024-07-11T15:41:11.893515Z",
     "iopub.status.busy": "2024-07-11T15:41:11.893515Z",
     "iopub.status.idle": "2024-07-11T15:41:22.734633Z",
     "shell.execute_reply": "2024-07-11T15:41:22.734633Z"
    }
   },
   "outputs": [
    {
     "name": "stdout",
     "output_type": "stream",
     "text": [
      "EDB version: 2024.1\n",
      "AEDB file is located in C:\\Users\\ansys\\AppData\\Local\\Temp\\tmpv5c4iy7u.ansys\\pcb.aedb\n"
     ]
    },
    {
     "name": "stdout",
     "output_type": "stream",
     "text": [
      "PyAEDT INFO: Logger is initialized in EDB.\n"
     ]
    },
    {
     "name": "stdout",
     "output_type": "stream",
     "text": [
      "PyAEDT INFO: legacy v0.20.0\n"
     ]
    },
    {
     "name": "stdout",
     "output_type": "stream",
     "text": [
      "PyAEDT INFO: Python version 3.10.11 (tags/v3.10.11:7d4cc5a, Apr  5 2023, 00:38:17) [MSC v.1929 64 bit (AMD64)]\n"
     ]
    },
    {
     "name": "stdout",
     "output_type": "stream",
     "text": [
      "PyAEDT INFO: EDB C:\\Users\\ansys\\AppData\\Local\\Temp\\tmpv5c4iy7u.ansys\\pcb.aedb created correctly.\n"
     ]
    },
    {
     "name": "stdout",
     "output_type": "stream",
     "text": [
      "PyAEDT INFO: EDB initialized.\n"
     ]
    }
   ],
   "source": [
    "temp_dir = tempfile.TemporaryDirectory(suffix=\".ansys\")\n",
    "working_folder = temp_dir.name\n",
    "\n",
    "# Select EDB version (change it manually if needed, e.g. \"2024.1\")\n",
    "edb_version = \"2024.1\"\n",
    "print(f\"EDB version: {edb_version}\")\n",
    "\n",
    "aedb_path = os.path.join(working_folder, \"pcb.aedb\")\n",
    "print(\"AEDB file is located in {}\".format(aedb_path))\n",
    "\n",
    "edb = pyedb.Edb(edbpath=aedb_path, edbversion=edb_version)"
   ]
  },
  {
   "cell_type": "markdown",
   "id": "32f86b72",
   "metadata": {},
   "source": [
    "Add the FR4 dielectric for the PCB."
   ]
  },
  {
   "cell_type": "code",
   "execution_count": 5,
   "id": "bd082cf9",
   "metadata": {
    "execution": {
     "iopub.execute_input": "2024-07-11T15:41:22.734633Z",
     "iopub.status.busy": "2024-07-11T15:41:22.734633Z",
     "iopub.status.idle": "2024-07-11T15:41:22.765882Z",
     "shell.execute_reply": "2024-07-11T15:41:22.765882Z"
    }
   },
   "outputs": [
    {
     "data": {
      "text/plain": [
       "<pyedb.dotnet.edb_core.materials.Material at 0x216595182d0>"
      ]
     },
     "execution_count": 5,
     "metadata": {},
     "output_type": "execute_result"
    }
   ],
   "source": [
    "edb.materials.add_dielectric_material(\"ANSYS_FR4\", 3.5, 0.005)"
   ]
  },
  {
   "cell_type": "markdown",
   "id": "a6b2a498",
   "metadata": {},
   "source": [
    "## Create Stackup\n",
    "\n",
    "While this code explicitly defines the stackup, you can import it\n",
    "from a from a CSV or XML file using the\n",
    "``Edb.stackup.import_stackup()`` method."
   ]
  },
  {
   "cell_type": "code",
   "execution_count": 6,
   "id": "89f04cb4",
   "metadata": {
    "execution": {
     "iopub.execute_input": "2024-07-11T15:41:22.765882Z",
     "iopub.status.busy": "2024-07-11T15:41:22.765882Z",
     "iopub.status.idle": "2024-07-11T15:41:22.969062Z",
     "shell.execute_reply": "2024-07-11T15:41:22.969062Z"
    }
   },
   "outputs": [
    {
     "name": "stderr",
     "output_type": "stream",
     "text": [
      "Material 'copper' does not exist in material library. Intempt to create it from syslib.\n"
     ]
    },
    {
     "name": "stderr",
     "output_type": "stream",
     "text": [
      "Material 'FR4_epoxy' does not exist in material library. Intempt to create it from syslib.\n"
     ]
    },
    {
     "data": {
      "text/plain": [
       "<pyedb.dotnet.edb_core.edb_data.layer_data.StackupLayerEdbClass at 0x216599adbb0>"
      ]
     },
     "execution_count": 6,
     "metadata": {},
     "output_type": "execute_result"
    }
   ],
   "source": [
    "edb.add_design_variable(\"$DIEL_T\", \"0.15mm\")\n",
    "edb.stackup.add_layer(\"BOT\")\n",
    "edb.stackup.add_layer(\"D5\", \"GND\", layer_type=\"dielectric\", thickness=\"$DIEL_T\", material=\"ANSYS_FR4\")\n",
    "edb.stackup.add_layer(\"L5\", \"Diel\", thickness=\"0.05mm\")\n",
    "edb.stackup.add_layer(\"D4\", \"GND\", layer_type=\"dielectric\", thickness=\"$DIEL_T\", material=\"ANSYS_FR4\")\n",
    "edb.stackup.add_layer(\"L4\", \"Diel\", thickness=\"0.05mm\")\n",
    "edb.stackup.add_layer(\"D3\", \"GND\", layer_type=\"dielectric\", thickness=\"$DIEL_T\", material=\"ANSYS_FR4\")\n",
    "edb.stackup.add_layer(\"L3\", \"Diel\", thickness=\"0.05mm\")\n",
    "edb.stackup.add_layer(\"D2\", \"GND\", layer_type=\"dielectric\", thickness=\"$DIEL_T\", material=\"ANSYS_FR4\")\n",
    "edb.stackup.add_layer(\"L2\", \"Diel\", thickness=\"0.05mm\")\n",
    "edb.stackup.add_layer(\"D1\", \"GND\", layer_type=\"dielectric\", thickness=\"$DIEL_T\", material=\"ANSYS_FR4\")\n",
    "edb.stackup.add_layer(\"TOP\", \"Diel\", thickness=\"0.05mm\")"
   ]
  },
  {
   "cell_type": "markdown",
   "id": "8c0f37de",
   "metadata": {},
   "source": [
    "Create ground conductors."
   ]
  },
  {
   "cell_type": "code",
   "execution_count": 7,
   "id": "e4445f09",
   "metadata": {
    "execution": {
     "iopub.execute_input": "2024-07-11T15:41:22.969062Z",
     "iopub.status.busy": "2024-07-11T15:41:22.969062Z",
     "iopub.status.idle": "2024-07-11T15:41:23.015940Z",
     "shell.execute_reply": "2024-07-11T15:41:23.015940Z"
    }
   },
   "outputs": [],
   "source": [
    "edb.add_design_variable(\"PCB_W\", \"20mm\")\n",
    "edb.add_design_variable(\"PCB_L\", \"20mm\")\n",
    "\n",
    "gnd_dict = {}\n",
    "for layer_name in edb.stackup.signal_layers.keys():\n",
    "    gnd_dict[layer_name] = edb.modeler.create_rectangle(layer_name, \"GND\", [0, \"PCB_W/-2\"], [\"PCB_L\", \"PCB_W/2\"])"
   ]
  },
  {
   "cell_type": "markdown",
   "id": "c30655b0",
   "metadata": {},
   "source": [
    "## Create signal net\n",
    "\n",
    "Create signal net on layer 3, and add clearance to the ground plane."
   ]
  },
  {
   "cell_type": "code",
   "execution_count": 8,
   "id": "c83d936b",
   "metadata": {
    "execution": {
     "iopub.execute_input": "2024-07-11T15:41:23.015940Z",
     "iopub.status.busy": "2024-07-11T15:41:23.015940Z",
     "iopub.status.idle": "2024-07-11T15:41:23.047245Z",
     "shell.execute_reply": "2024-07-11T15:41:23.047245Z"
    }
   },
   "outputs": [
    {
     "data": {
      "text/plain": [
       "True"
      ]
     },
     "execution_count": 8,
     "metadata": {},
     "output_type": "execute_result"
    }
   ],
   "source": [
    "edb.add_design_variable(\"SIG_L\", \"10mm\")\n",
    "edb.add_design_variable(\"SIG_W\", \"0.1mm\")\n",
    "edb.add_design_variable(\"SIG_C\", \"0.3mm\")\n",
    "\n",
    "signal_path = ([\"5mm\", 0], [\"SIG_L+5mm\", 0])\n",
    "signal_trace = edb.modeler.create_trace(signal_path, \"L3\", \"SIG_W\", \"SIG\", \"Flat\", \"Flat\")\n",
    "\n",
    "signal_path = ([\"5mm\", 0], [\"PCB_L\", 0])\n",
    "clr = edb.modeler.create_trace(signal_path, \"L3\", \"SIG_C*2+SIG_W\", \"SIG\", \"Flat\", \"Flat\")\n",
    "gnd_dict[\"L3\"].add_void(clr)"
   ]
  },
  {
   "cell_type": "markdown",
   "id": "dbb4a7b7",
   "metadata": {},
   "source": [
    "## Place signal vias\n",
    "\n",
    "Create the via padstack definition and place the signal vias."
   ]
  },
  {
   "cell_type": "code",
   "execution_count": 9,
   "id": "ddb4a14b",
   "metadata": {
    "execution": {
     "iopub.execute_input": "2024-07-11T15:41:23.047245Z",
     "iopub.status.busy": "2024-07-11T15:41:23.047245Z",
     "iopub.status.idle": "2024-07-11T15:41:23.094066Z",
     "shell.execute_reply": "2024-07-11T15:41:23.094066Z"
    }
   },
   "outputs": [
    {
     "name": "stdout",
     "output_type": "stream",
     "text": [
      "PyAEDT INFO: Padstack ANSYS_VIA create correctly\n"
     ]
    },
    {
     "data": {
      "text/plain": [
       "<pyedb.dotnet.edb_core.edb_data.padstacks_data.EDBPadstackInstance at 0x21659b941b0>"
      ]
     },
     "execution_count": 9,
     "metadata": {},
     "output_type": "execute_result"
    }
   ],
   "source": [
    "edb.add_design_variable(\"SG_VIA_D\", \"1mm\")\n",
    "edb.add_design_variable(\"$VIA_AP_D\", \"1.2mm\")\n",
    "edb.padstacks.create(\"ANSYS_VIA\", \"0.3mm\", \"0.5mm\", \"$VIA_AP_D\")\n",
    "edb.padstacks.place([\"5mm\", 0], \"ANSYS_VIA\", \"SIG\")"
   ]
  },
  {
   "cell_type": "markdown",
   "id": "ca73603d",
   "metadata": {},
   "source": [
    "Create ground vias around the SMA\n",
    "connector launch footprint. The vias\n",
    "are placed around the circumference\n",
    "of the launch from 35 degrees to 325\n",
    "degrees."
   ]
  },
  {
   "cell_type": "code",
   "execution_count": 10,
   "id": "7c649c3a",
   "metadata": {
    "execution": {
     "iopub.execute_input": "2024-07-11T15:41:23.094066Z",
     "iopub.status.busy": "2024-07-11T15:41:23.094066Z",
     "iopub.status.idle": "2024-07-11T15:41:23.172200Z",
     "shell.execute_reply": "2024-07-11T15:41:23.172200Z"
    }
   },
   "outputs": [],
   "source": [
    "for i in np.arange(30, 326, 35):\n",
    "    px = np.cos(i / 180 * np.pi)\n",
    "    py = np.sin(i / 180 * np.pi)\n",
    "    edb.padstacks.place([\"{}*{}+5mm\".format(\"SG_VIA_D\", px), \"{}*{}\".format(\"SG_VIA_D\", py)], \"ANSYS_VIA\", \"GND\")"
   ]
  },
  {
   "cell_type": "markdown",
   "id": "5ea73b40",
   "metadata": {},
   "source": [
    "Create ground vias along the signal trace."
   ]
  },
  {
   "cell_type": "code",
   "execution_count": 11,
   "id": "8c08fa85",
   "metadata": {
    "execution": {
     "iopub.execute_input": "2024-07-11T15:41:23.172200Z",
     "iopub.status.busy": "2024-07-11T15:41:23.172200Z",
     "iopub.status.idle": "2024-07-11T15:41:23.219091Z",
     "shell.execute_reply": "2024-07-11T15:41:23.219091Z"
    }
   },
   "outputs": [],
   "source": [
    "for i in np.arange(2e-3, edb.variables[\"SIG_L\"].value - 2e-3, 2e-3):\n",
    "    edb.padstacks.place([\"{}+5mm\".format(i), \"1mm\"], \"ANSYS_VIA\", \"GND\")\n",
    "    edb.padstacks.place([\"{}+5mm\".format(i), \"-1mm\"], \"ANSYS_VIA\", \"GND\")"
   ]
  },
  {
   "cell_type": "markdown",
   "id": "35030d44",
   "metadata": {},
   "source": [
    "Create a wave port at the end of the signal trace."
   ]
  },
  {
   "cell_type": "code",
   "execution_count": 12,
   "id": "9bc626f7",
   "metadata": {
    "execution": {
     "iopub.execute_input": "2024-07-11T15:41:23.219091Z",
     "iopub.status.busy": "2024-07-11T15:41:23.219091Z",
     "iopub.status.idle": "2024-07-11T15:41:23.265965Z",
     "shell.execute_reply": "2024-07-11T15:41:23.265965Z"
    }
   },
   "outputs": [
    {
     "data": {
      "text/plain": [
       "('port_1', <pyedb.dotnet.edb_core.edb_data.ports.WavePort at 0x2165cbde6f0>)"
      ]
     },
     "execution_count": 12,
     "metadata": {},
     "output_type": "execute_result"
    }
   ],
   "source": [
    "signal_trace.create_edge_port(\"port_1\", \"End\", \"Wave\", horizontal_extent_factor=10)"
   ]
  },
  {
   "cell_type": "markdown",
   "id": "3d4a1654",
   "metadata": {},
   "source": [
    "## Set up HFSS simulation\n",
    "\n",
    "The ``max_num_passes`` argument sets an upper limit on the\n",
    "number of adaptive passes for mesh refinement.\n",
    "\n",
    "For broadband applications when the simulation results may be used\n",
    "to generate a SPICE model, the outer domain boundary can be\n",
    "located roughly $$ d=\\lambda/8 $$ from the internal structures\n",
    "in the model."
   ]
  },
  {
   "cell_type": "code",
   "execution_count": 13,
   "id": "b82818da",
   "metadata": {
    "execution": {
     "iopub.execute_input": "2024-07-11T15:41:23.265965Z",
     "iopub.status.busy": "2024-07-11T15:41:23.265965Z",
     "iopub.status.idle": "2024-07-11T15:41:23.359721Z",
     "shell.execute_reply": "2024-07-11T15:41:23.359721Z"
    }
   },
   "outputs": [],
   "source": [
    "extend_domain = 3e11 / 5e9 / 8.0  # Quarter wavelength at 4 GHz.\n",
    "edb.design_options.antipads_always_on = True\n",
    "edb.hfss.hfss_extent_info.air_box_horizontal_extent = extend_domain\n",
    "edb.hfss.hfss_extent_info.air_box_positive_vertical_extent = extend_domain\n",
    "edb.hfss.hfss_extent_info.air_box_negative_vertical_extent = extend_domain\n",
    "\n",
    "setup = edb.create_hfss_setup(\"Setup1\")\n",
    "setup.set_solution_single_frequency(\"5GHz\", max_num_passes=8, max_delta_s=\"0.02\")\n",
    "setup.hfss_solver_settings.order_basis = \"first\""
   ]
  },
  {
   "cell_type": "markdown",
   "id": "485d4fde",
   "metadata": {},
   "source": [
    "Add a mesh operation to the setup."
   ]
  },
  {
   "cell_type": "code",
   "execution_count": 14,
   "id": "d15e5ae6",
   "metadata": {
    "execution": {
     "iopub.execute_input": "2024-07-11T15:41:23.359721Z",
     "iopub.status.busy": "2024-07-11T15:41:23.359721Z",
     "iopub.status.idle": "2024-07-11T15:41:23.390954Z",
     "shell.execute_reply": "2024-07-11T15:41:23.390954Z"
    }
   },
   "outputs": [
    {
     "data": {
      "text/plain": [
       "<pyedb.dotnet.edb_core.sim_setup_data.data.mesh_operation.LengthMeshOperation at 0x2165cbef0b0>"
      ]
     },
     "execution_count": 14,
     "metadata": {},
     "output_type": "execute_result"
    }
   ],
   "source": [
    "edb.setups[\"Setup1\"].add_length_mesh_operation({\"SIG\": [\"L3\"]}, \"m1\", max_length=\"0.1mm\")"
   ]
  },
  {
   "cell_type": "markdown",
   "id": "e231a764",
   "metadata": {},
   "source": [
    "Add a frequency sweep to setup.\n",
    "\n",
    "When the simulation results are to\n",
    "be used for transient SPICE analysis, you should\n",
    "use the following strategy:\n",
    "\n",
    "- DC point\n",
    "- Logarithmic sweep from 1 kHz to 100 MHz\n",
    "- Linear scale for higher frequencies."
   ]
  },
  {
   "cell_type": "code",
   "execution_count": 15,
   "id": "5ac4174f",
   "metadata": {
    "execution": {
     "iopub.execute_input": "2024-07-11T15:41:23.390954Z",
     "iopub.status.busy": "2024-07-11T15:41:23.390954Z",
     "iopub.status.idle": "2024-07-11T15:41:23.437820Z",
     "shell.execute_reply": "2024-07-11T15:41:23.437820Z"
    }
   },
   "outputs": [
    {
     "data": {
      "text/plain": [
       "<pyedb.dotnet.edb_core.sim_setup_data.data.sweep_data.SweepData at 0x2165cbf15f0>"
      ]
     },
     "execution_count": 15,
     "metadata": {},
     "output_type": "execute_result"
    }
   ],
   "source": [
    "setup.add_frequency_sweep(\n",
    "    \"Sweep1\",\n",
    "    frequency_sweep=[\n",
    "        [\"linear count\", \"0\", \"1KHz\", 1],\n",
    "        [\"log scale\", \"1KHz\", \"100MHz\", 10],\n",
    "        [\"linear scale\", \"0.1GHz\", \"5GHz\", \"0.1GHz\"],\n",
    "    ],\n",
    ")"
   ]
  },
  {
   "cell_type": "markdown",
   "id": "081b6f74",
   "metadata": {},
   "source": [
    "Save and close EDB."
   ]
  },
  {
   "cell_type": "code",
   "execution_count": 16,
   "id": "0805e084",
   "metadata": {
    "execution": {
     "iopub.execute_input": "2024-07-11T15:41:23.437820Z",
     "iopub.status.busy": "2024-07-11T15:41:23.437820Z",
     "iopub.status.idle": "2024-07-11T15:41:23.469070Z",
     "shell.execute_reply": "2024-07-11T15:41:23.469070Z"
    }
   },
   "outputs": [
    {
     "name": "stdout",
     "output_type": "stream",
     "text": [
      "PyAEDT INFO: EDB file save time: 0.00ms\n"
     ]
    },
    {
     "name": "stdout",
     "output_type": "stream",
     "text": [
      "PyAEDT INFO: EDB file release time: 0.00ms\n"
     ]
    },
    {
     "data": {
      "text/plain": [
       "True"
      ]
     },
     "execution_count": 16,
     "metadata": {},
     "output_type": "execute_result"
    }
   ],
   "source": [
    "edb.save_edb()\n",
    "edb.close_edb()"
   ]
  },
  {
   "cell_type": "markdown",
   "id": "ad8b489b",
   "metadata": {},
   "source": [
    "Launch HFSS 3D Layout."
   ]
  },
  {
   "cell_type": "code",
   "execution_count": 17,
   "id": "ce948b5a",
   "metadata": {
    "execution": {
     "iopub.execute_input": "2024-07-11T15:41:23.469070Z",
     "iopub.status.busy": "2024-07-11T15:41:23.469070Z",
     "iopub.status.idle": "2024-07-11T15:41:56.122201Z",
     "shell.execute_reply": "2024-07-11T15:41:56.122201Z"
    }
   },
   "outputs": [
    {
     "name": "stdout",
     "output_type": "stream",
     "text": [
      "PyAEDT WARNING: Argument `specified_version` is deprecated for method `__init__`; use `version` instead.\n"
     ]
    },
    {
     "name": "stdout",
     "output_type": "stream",
     "text": [
      "PyAEDT WARNING: Argument `new_desktop_session` is deprecated for method `__init__`; use `new_desktop` instead.\n"
     ]
    },
    {
     "name": "stdout",
     "output_type": "stream",
     "text": [
      "PyAEDT INFO: Initializing new Desktop session.\n"
     ]
    },
    {
     "name": "stdout",
     "output_type": "stream",
     "text": [
      "PyAEDT INFO: StdOut is enabled\n"
     ]
    },
    {
     "name": "stdout",
     "output_type": "stream",
     "text": [
      "PyAEDT INFO: Log on file is enabled\n"
     ]
    },
    {
     "name": "stdout",
     "output_type": "stream",
     "text": [
      "PyAEDT INFO: Log on Desktop Message Manager is enabled\n"
     ]
    },
    {
     "name": "stdout",
     "output_type": "stream",
     "text": [
      "PyAEDT INFO: Debug logger is disabled. PyAEDT methods will not be logged.\n"
     ]
    },
    {
     "name": "stdout",
     "output_type": "stream",
     "text": [
      "PyAEDT INFO: Launching PyAEDT outside AEDT with gRPC plugin.\n"
     ]
    },
    {
     "name": "stdout",
     "output_type": "stream",
     "text": [
      "PyAEDT INFO: New AEDT session is starting on gRPC port 53673\n"
     ]
    },
    {
     "name": "stdout",
     "output_type": "stream",
     "text": [
      "PyAEDT INFO: AEDT installation Path C:\\Program Files\\AnsysEM\\v241\\Win64\n"
     ]
    },
    {
     "name": "stdout",
     "output_type": "stream",
     "text": [
      "PyAEDT INFO: Ansoft.ElectronicsDesktop.2024.1 version started with process ID 4624.\n"
     ]
    },
    {
     "name": "stdout",
     "output_type": "stream",
     "text": [
      "PyAEDT INFO: pyaedt v0.9.8\n"
     ]
    },
    {
     "name": "stdout",
     "output_type": "stream",
     "text": [
      "PyAEDT INFO: Python version 3.10.11 (tags/v3.10.11:7d4cc5a, Apr  5 2023, 00:38:17) [MSC v.1929 64 bit (AMD64)]\n"
     ]
    },
    {
     "name": "stdout",
     "output_type": "stream",
     "text": [
      "PyAEDT INFO: AEDT 2024.1.0 Build Date 2023-11-27 22:16:18\n"
     ]
    },
    {
     "name": "stdout",
     "output_type": "stream",
     "text": [
      "PyAEDT INFO: EDB folder C:\\Users\\ansys\\AppData\\Local\\Temp\\tmpv5c4iy7u.ansys\\pcb.aedb has been imported to project pcb\n"
     ]
    },
    {
     "name": "stdout",
     "output_type": "stream",
     "text": [
      "PyAEDT INFO: Active Design set to Cell_7H53K2\n"
     ]
    },
    {
     "name": "stdout",
     "output_type": "stream",
     "text": [
      "PyAEDT INFO: Aedt Objects correctly read\n"
     ]
    }
   ],
   "source": [
    "h3d = pyaedt.Hfss3dLayout(aedb_path, specified_version=edb_version, new_desktop_session=True)"
   ]
  },
  {
   "cell_type": "markdown",
   "id": "355bc070",
   "metadata": {},
   "source": [
    "Place a 3D component."
   ]
  },
  {
   "cell_type": "code",
   "execution_count": 18,
   "id": "7836b676",
   "metadata": {
    "execution": {
     "iopub.execute_input": "2024-07-11T15:41:56.122201Z",
     "iopub.status.busy": "2024-07-11T15:41:56.122201Z",
     "iopub.status.idle": "2024-07-11T15:41:58.090914Z",
     "shell.execute_reply": "2024-07-11T15:41:58.090914Z"
    }
   },
   "outputs": [
    {
     "name": "stdout",
     "output_type": "stream",
     "text": [
      "PyAEDT INFO: Loading Modeler.\n"
     ]
    },
    {
     "name": "stdout",
     "output_type": "stream",
     "text": [
      "PyAEDT INFO: Modeler loaded.\n"
     ]
    },
    {
     "name": "stdout",
     "output_type": "stream",
     "text": [
      "PyAEDT INFO: EDB loaded.\n"
     ]
    },
    {
     "name": "stdout",
     "output_type": "stream",
     "text": [
      "PyAEDT INFO: Layers loaded.\n"
     ]
    },
    {
     "name": "stdout",
     "output_type": "stream",
     "text": [
      "PyAEDT INFO: Primitives loaded.\n"
     ]
    },
    {
     "name": "stdout",
     "output_type": "stream",
     "text": [
      "PyAEDT INFO: Modeler class has been initialized! Elapsed time: 0m 0sec\n"
     ]
    }
   ],
   "source": [
    "full_comp_name = download_file(\"component_3d\", filename=\"SMA_RF_SURFACE_MOUNT.a3dcomp\", destination=working_folder)\n",
    "comp = h3d.modeler.place_3d_component(\n",
    "    component_path=full_comp_name,\n",
    "    number_of_terminals=1,\n",
    "    placement_layer=\"TOP\",\n",
    "    component_name=\"my_connector\",\n",
    "    pos_x=\"5mm\",\n",
    "    pos_y=0.000,\n",
    ")"
   ]
  },
  {
   "cell_type": "markdown",
   "id": "2306179f",
   "metadata": {},
   "source": [
    "## Run simulation"
   ]
  },
  {
   "cell_type": "code",
   "execution_count": 19,
   "id": "ec3341d9",
   "metadata": {
    "execution": {
     "iopub.execute_input": "2024-07-11T15:41:58.090914Z",
     "iopub.status.busy": "2024-07-11T15:41:58.090914Z",
     "iopub.status.idle": "2024-07-11T15:44:30.033130Z",
     "shell.execute_reply": "2024-07-11T15:44:30.033130Z"
    }
   },
   "outputs": [
    {
     "name": "stdout",
     "output_type": "stream",
     "text": [
      "PyAEDT WARNING: Argument `num_cores` is deprecated for method `analyze`; use `cores` instead.\n"
     ]
    },
    {
     "name": "stdout",
     "output_type": "stream",
     "text": [
      "PyAEDT INFO: Key Desktop/ActiveDSOConfigurations/HFSS 3D Layout Design correctly changed.\n"
     ]
    },
    {
     "name": "stdout",
     "output_type": "stream",
     "text": [
      "PyAEDT INFO: Solving all design setups.\n"
     ]
    },
    {
     "name": "stdout",
     "output_type": "stream",
     "text": [
      "PyAEDT INFO: Key Desktop/ActiveDSOConfigurations/HFSS 3D Layout Design correctly changed.\n"
     ]
    },
    {
     "name": "stdout",
     "output_type": "stream",
     "text": [
      "PyAEDT INFO: Design setup None solved correctly in 0.0h 2.0m 32.0s\n"
     ]
    },
    {
     "data": {
      "text/plain": [
       "True"
      ]
     },
     "execution_count": 19,
     "metadata": {},
     "output_type": "execute_result"
    }
   ],
   "source": [
    "h3d.analyze(num_cores=4)"
   ]
  },
  {
   "cell_type": "markdown",
   "id": "696027f6",
   "metadata": {},
   "source": [
    "## Visualize the return loss."
   ]
  },
  {
   "cell_type": "code",
   "execution_count": 20,
   "id": "29cc5060",
   "metadata": {
    "execution": {
     "iopub.execute_input": "2024-07-11T15:44:30.033130Z",
     "iopub.status.busy": "2024-07-11T15:44:30.033130Z",
     "iopub.status.idle": "2024-07-11T15:44:31.501901Z",
     "shell.execute_reply": "2024-07-11T15:44:31.501901Z"
    }
   },
   "outputs": [
    {
     "name": "stderr",
     "output_type": "stream",
     "text": [
      "C:\\actions-runner\\_work\\pyedb\\pyedb\\.venv\\lib\\site-packages\\pyaedt\\generic\\plot.py:55: UserWarning: The PyVista module is required to run some functionalities of PostProcess.\n",
      "Install with \n",
      "\n",
      "pip install pyvista\n",
      "\n",
      "Requires CPython.\n",
      "  warnings.warn(\n"
     ]
    },
    {
     "name": "stdout",
     "output_type": "stream",
     "text": [
      "PyAEDT INFO: Parsing C:/Users/ansys/AppData/Local/Temp/tmpv5c4iy7u.ansys/pcb.aedt.\n"
     ]
    },
    {
     "name": "stdout",
     "output_type": "stream",
     "text": [
      "PyAEDT INFO: File C:/Users/ansys/AppData/Local/Temp/tmpv5c4iy7u.ansys/pcb.aedt correctly loaded. Elapsed time: 0m 0sec\n"
     ]
    },
    {
     "name": "stdout",
     "output_type": "stream",
     "text": [
      "PyAEDT INFO: aedt file load time 0.015622377395629883\n"
     ]
    },
    {
     "name": "stdout",
     "output_type": "stream",
     "text": [
      "PyAEDT INFO: PostProcessor class has been initialized! Elapsed time: 0m 0sec\n"
     ]
    },
    {
     "name": "stdout",
     "output_type": "stream",
     "text": [
      "PyAEDT INFO: Post class has been initialized! Elapsed time: 0m 0sec\n"
     ]
    },
    {
     "data": {
      "text/plain": [
       "<pyaedt.modules.report_templates.Standard at 0x2165e72b280>"
      ]
     },
     "execution_count": 20,
     "metadata": {},
     "output_type": "execute_result"
    }
   ],
   "source": [
    "h3d.post.create_report(\"dB(S(port_1, port_1))\")"
   ]
  },
  {
   "cell_type": "markdown",
   "id": "5f882f05",
   "metadata": {},
   "source": [
    "## Save and close the project."
   ]
  },
  {
   "cell_type": "code",
   "execution_count": 21,
   "id": "5de27f4e",
   "metadata": {
    "execution": {
     "iopub.execute_input": "2024-07-11T15:44:31.501901Z",
     "iopub.status.busy": "2024-07-11T15:44:31.501901Z",
     "iopub.status.idle": "2024-07-11T15:44:35.122220Z",
     "shell.execute_reply": "2024-07-11T15:44:35.122220Z"
    }
   },
   "outputs": [
    {
     "name": "stdout",
     "output_type": "stream",
     "text": [
      "PyAEDT INFO: Project pcb Saved correctly\n"
     ]
    },
    {
     "name": "stdout",
     "output_type": "stream",
     "text": [
      "Project is saved to C:/Users/ansys/AppData/Local/Temp/tmpv5c4iy7u.ansys/\n"
     ]
    },
    {
     "name": "stdout",
     "output_type": "stream",
     "text": [
      "PyAEDT INFO: Desktop has been released and closed.\n"
     ]
    },
    {
     "data": {
      "text/plain": [
       "True"
      ]
     },
     "execution_count": 21,
     "metadata": {},
     "output_type": "execute_result"
    }
   ],
   "source": [
    "h3d.save_project()\n",
    "print(\"Project is saved to {}\".format(h3d.project_path))\n",
    "h3d.release_desktop(True, True)"
   ]
  },
  {
   "cell_type": "markdown",
   "id": "3f742cff",
   "metadata": {},
   "source": [
    "## Clean up the temporary folder."
   ]
  },
  {
   "cell_type": "code",
   "execution_count": 22,
   "id": "77d74e1e",
   "metadata": {
    "execution": {
     "iopub.execute_input": "2024-07-11T15:44:35.122220Z",
     "iopub.status.busy": "2024-07-11T15:44:35.122220Z",
     "iopub.status.idle": "2024-07-11T15:44:35.153467Z",
     "shell.execute_reply": "2024-07-11T15:44:35.153467Z"
    }
   },
   "outputs": [],
   "source": [
    "temp_dir.cleanup()"
   ]
  }
 ],
 "metadata": {
  "jupytext": {
   "cell_metadata_filter": "-all",
   "main_language": "python",
   "notebook_metadata_filter": "-all",
   "text_representation": {
    "extension": ".py",
    "format_name": "light"
   }
  },
  "language_info": {
   "codemirror_mode": {
    "name": "ipython",
    "version": 3
   },
   "file_extension": ".py",
   "mimetype": "text/x-python",
   "name": "python",
   "nbconvert_exporter": "python",
   "pygments_lexer": "ipython3",
   "version": "3.10.11"
  }
 },
 "nbformat": 4,
 "nbformat_minor": 5
}
