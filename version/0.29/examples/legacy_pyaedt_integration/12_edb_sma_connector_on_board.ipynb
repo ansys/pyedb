{
 "cells": [
  {
   "cell_type": "markdown",
   "id": "e700d1eb",
   "metadata": {},
   "source": [
    "# EDB: geometry creation\n",
    "\n",
    "This example shows how to\n",
    "1. Create a parameterized PCB with an SMA connector footprint for a single-ended\n",
    "  SMA connector launch footprint..\n",
    "2. Place 3D component on PCB.\n",
    "3. Create HFSS setup and frequency sweep with a mesh operation.\n",
    "4. Create return loss plot"
   ]
  },
  {
   "cell_type": "markdown",
   "id": "0037e05f",
   "metadata": {},
   "source": [
    "## See the finished project\n",
    "\n",
    "<img src=\"_static\\edb_example_12_sma_connector_on_board.png\" width=\"450\">"
   ]
  },
  {
   "cell_type": "markdown",
   "id": "48d06756",
   "metadata": {},
   "source": [
    "## Create a parameterized PCB\n",
    "\n",
    "Import dependencies."
   ]
  },
  {
   "cell_type": "code",
   "execution_count": 1,
   "id": "01b05110",
   "metadata": {
    "execution": {
     "iopub.execute_input": "2024-09-29T09:02:01.964982Z",
     "iopub.status.busy": "2024-09-29T09:02:01.964982Z",
     "iopub.status.idle": "2024-09-29T09:02:01.980624Z",
     "shell.execute_reply": "2024-09-29T09:02:01.980624Z"
    }
   },
   "outputs": [],
   "source": [
    "import os\n",
    "import tempfile"
   ]
  },
  {
   "cell_type": "code",
   "execution_count": 2,
   "id": "eb55d26f",
   "metadata": {
    "execution": {
     "iopub.execute_input": "2024-09-29T09:02:01.980624Z",
     "iopub.status.busy": "2024-09-29T09:02:01.980624Z",
     "iopub.status.idle": "2024-09-29T09:02:02.637928Z",
     "shell.execute_reply": "2024-09-29T09:02:02.637928Z"
    }
   },
   "outputs": [],
   "source": [
    "import ansys.aedt.core\n",
    "import numpy as np"
   ]
  },
  {
   "cell_type": "code",
   "execution_count": 3,
   "id": "75943e4e",
   "metadata": {
    "execution": {
     "iopub.execute_input": "2024-09-29T09:02:02.637928Z",
     "iopub.status.busy": "2024-09-29T09:02:02.637928Z",
     "iopub.status.idle": "2024-09-29T09:02:02.669175Z",
     "shell.execute_reply": "2024-09-29T09:02:02.669175Z"
    }
   },
   "outputs": [],
   "source": [
    "import pyedb\n",
    "from pyedb.misc.downloads import download_file"
   ]
  },
  {
   "cell_type": "markdown",
   "id": "bd18fa07",
   "metadata": {},
   "source": [
    "Create the EDB."
   ]
  },
  {
   "cell_type": "code",
   "execution_count": 4,
   "id": "e8766490",
   "metadata": {
    "execution": {
     "iopub.execute_input": "2024-09-29T09:02:02.669175Z",
     "iopub.status.busy": "2024-09-29T09:02:02.669175Z",
     "iopub.status.idle": "2024-09-29T09:02:14.887449Z",
     "shell.execute_reply": "2024-09-29T09:02:14.887449Z"
    },
    "lines_to_next_cell": 2
   },
   "outputs": [
    {
     "name": "stdout",
     "output_type": "stream",
     "text": [
      "EDB version: 2024.2\n",
      "AEDB file is located in C:\\Users\\ansys\\AppData\\Local\\Temp\\tmpc00ik5ur.ansys\\pcb.aedb\n"
     ]
    },
    {
     "name": "stdout",
     "output_type": "stream",
     "text": [
      "PyAEDT INFO: Logger is initialized in EDB.\n"
     ]
    },
    {
     "name": "stdout",
     "output_type": "stream",
     "text": [
      "PyAEDT INFO: legacy v0.29.0\n"
     ]
    },
    {
     "name": "stdout",
     "output_type": "stream",
     "text": [
      "PyAEDT INFO: Python version 3.10.11 (tags/v3.10.11:7d4cc5a, Apr  5 2023, 00:38:17) [MSC v.1929 64 bit (AMD64)]\n"
     ]
    },
    {
     "name": "stdout",
     "output_type": "stream",
     "text": [
      "PyAEDT INFO: EDB C:\\Users\\ansys\\AppData\\Local\\Temp\\tmpc00ik5ur.ansys\\pcb.aedb created correctly.\n"
     ]
    },
    {
     "name": "stdout",
     "output_type": "stream",
     "text": [
      "PyAEDT INFO: EDB initialized.\n"
     ]
    }
   ],
   "source": [
    "temp_dir = tempfile.TemporaryDirectory(suffix=\".ansys\")\n",
    "working_folder = temp_dir.name\n",
    "\n",
    "# Select EDB version (change it manually if needed, e.g. \"2024.2\")\n",
    "edb_version = \"2024.2\"\n",
    "print(f\"EDB version: {edb_version}\")\n",
    "\n",
    "aedb_path = os.path.join(working_folder, \"pcb.aedb\")\n",
    "print(\"AEDB file is located in {}\".format(aedb_path))\n",
    "\n",
    "edb = pyedb.Edb(edbpath=aedb_path, edbversion=edb_version)"
   ]
  },
  {
   "cell_type": "markdown",
   "id": "356a89c0",
   "metadata": {},
   "source": [
    "## Create Stackup\n",
    "\n",
    "While this code explicitly defines the stackup, you can import it\n",
    "from a from a CSV or XML file using the\n",
    "``Edb.stackup.load()`` method."
   ]
  },
  {
   "cell_type": "code",
   "execution_count": 5,
   "id": "02fe6769",
   "metadata": {
    "execution": {
     "iopub.execute_input": "2024-09-29T09:02:14.887449Z",
     "iopub.status.busy": "2024-09-29T09:02:14.887449Z",
     "iopub.status.idle": "2024-09-29T09:02:14.918698Z",
     "shell.execute_reply": "2024-09-29T09:02:14.918698Z"
    }
   },
   "outputs": [
    {
     "data": {
      "text/plain": [
       "(True, <Ansys.Ansoft.Edb.Utility.VariableServer object at 0x0000021940EFB030>)"
      ]
     },
     "execution_count": 5,
     "metadata": {},
     "output_type": "execute_result"
    }
   ],
   "source": [
    "edb.add_design_variable(\"$DIEL_T\", \"0.15mm\")"
   ]
  },
  {
   "cell_type": "code",
   "execution_count": 6,
   "id": "81a205d5",
   "metadata": {
    "execution": {
     "iopub.execute_input": "2024-09-29T09:02:14.918698Z",
     "iopub.status.busy": "2024-09-29T09:02:14.918698Z",
     "iopub.status.idle": "2024-09-29T09:02:14.934330Z",
     "shell.execute_reply": "2024-09-29T09:02:14.934330Z"
    }
   },
   "outputs": [],
   "source": [
    "layers = {\n",
    "    \"materials\": {\"ANSYS_FR4\": {\"permittivity\": 3.5, \"dielectric_loss_tangent\": 0.005}},\n",
    "    \"layers\": {\n",
    "        \"TOP\": {\"type\": \"signal\", \"thickness\": \"0.05\"},\n",
    "        \"D1\": {\"type\": \"dielectric\", \"thickness\": \"$DIEL_T\", \"material\": \"ANSYS_FR4\"},\n",
    "        \"L2\": {\"type\": \"signal\", \"thickness\": \"0.05\"},\n",
    "        \"D2\": {\"type\": \"dielectric\", \"thickness\": \"$DIEL_T\", \"material\": \"ANSYS_FR4\"},\n",
    "        \"L3\": {\"type\": \"signal\", \"thickness\": \"0.05\"},\n",
    "        \"D3\": {\"type\": \"dielectric\", \"thickness\": \"$DIEL_T\", \"material\": \"ANSYS_FR4\"},\n",
    "        \"L4\": {\"type\": \"signal\", \"thickness\": \"0.05\"},\n",
    "        \"D4\": {\"type\": \"dielectric\", \"thickness\": \"$DIEL_T\", \"material\": \"ANSYS_FR4\"},\n",
    "        \"L5\": {\"type\": \"signal\", \"thickness\": \"0.05\"},\n",
    "        \"D5\": {\"type\": \"dielectric\", \"thickness\": \"$DIEL_T\", \"material\": \"ANSYS_FR4\"},\n",
    "        \"BOT\": {\"type\": \"signal\", \"thickness\": \"0.035\"},\n",
    "    },\n",
    "}"
   ]
  },
  {
   "cell_type": "code",
   "execution_count": 7,
   "id": "08242b53",
   "metadata": {
    "execution": {
     "iopub.execute_input": "2024-09-29T09:02:14.934330Z",
     "iopub.status.busy": "2024-09-29T09:02:14.934330Z",
     "iopub.status.idle": "2024-09-29T09:02:15.278029Z",
     "shell.execute_reply": "2024-09-29T09:02:15.278029Z"
    },
    "lines_to_next_cell": 2
   },
   "outputs": [
    {
     "data": {
      "text/plain": [
       "True"
      ]
     },
     "execution_count": 7,
     "metadata": {},
     "output_type": "execute_result"
    }
   ],
   "source": [
    "edb.stackup.load(layers)"
   ]
  },
  {
   "cell_type": "markdown",
   "id": "1706fe7f",
   "metadata": {},
   "source": [
    "Create ground conductors."
   ]
  },
  {
   "cell_type": "code",
   "execution_count": 8,
   "id": "5ac2063f",
   "metadata": {
    "execution": {
     "iopub.execute_input": "2024-09-29T09:02:15.278029Z",
     "iopub.status.busy": "2024-09-29T09:02:15.278029Z",
     "iopub.status.idle": "2024-09-29T09:02:15.340526Z",
     "shell.execute_reply": "2024-09-29T09:02:15.340526Z"
    }
   },
   "outputs": [],
   "source": [
    "edb.add_design_variable(\"PCB_W\", \"20mm\")\n",
    "edb.add_design_variable(\"PCB_L\", \"20mm\")\n",
    "\n",
    "gnd_dict = {}\n",
    "for layer_name in edb.stackup.signal_layers.keys():\n",
    "    gnd_dict[layer_name] = edb.modeler.create_rectangle(layer_name, \"GND\", [0, \"PCB_W/-2\"], [\"PCB_L\", \"PCB_W/2\"])"
   ]
  },
  {
   "cell_type": "markdown",
   "id": "4c787104",
   "metadata": {},
   "source": [
    "## Create signal net\n",
    "\n",
    "Create signal net on layer 3, and add clearance to the ground plane."
   ]
  },
  {
   "cell_type": "code",
   "execution_count": 9,
   "id": "b2e49ea9",
   "metadata": {
    "execution": {
     "iopub.execute_input": "2024-09-29T09:02:15.340526Z",
     "iopub.status.busy": "2024-09-29T09:02:15.340526Z",
     "iopub.status.idle": "2024-09-29T09:02:15.371777Z",
     "shell.execute_reply": "2024-09-29T09:02:15.371777Z"
    }
   },
   "outputs": [
    {
     "data": {
      "text/plain": [
       "True"
      ]
     },
     "execution_count": 9,
     "metadata": {},
     "output_type": "execute_result"
    }
   ],
   "source": [
    "edb.add_design_variable(\"SIG_L\", \"10mm\")\n",
    "edb.add_design_variable(\"SIG_W\", \"0.1mm\")\n",
    "edb.add_design_variable(\"SIG_C\", \"0.3mm\")\n",
    "\n",
    "signal_path = ([\"5mm\", 0], [\"SIG_L+5mm\", 0])\n",
    "signal_trace = edb.modeler.create_trace(signal_path, \"L3\", \"SIG_W\", \"SIG\", \"Flat\", \"Flat\")\n",
    "\n",
    "signal_path = ([\"5mm\", 0], [\"PCB_L\", 0])\n",
    "clr = edb.modeler.create_trace(signal_path, \"L3\", \"SIG_C*2+SIG_W\", \"SIG\", \"Flat\", \"Flat\")\n",
    "gnd_dict[\"L3\"].add_void(clr)"
   ]
  },
  {
   "cell_type": "markdown",
   "id": "961509dc",
   "metadata": {},
   "source": [
    "## Place signal vias\n",
    "\n",
    "Create the via padstack definition and place the signal vias."
   ]
  },
  {
   "cell_type": "code",
   "execution_count": 10,
   "id": "b1f6e58b",
   "metadata": {
    "execution": {
     "iopub.execute_input": "2024-09-29T09:02:15.371777Z",
     "iopub.status.busy": "2024-09-29T09:02:15.371777Z",
     "iopub.status.idle": "2024-09-29T09:02:15.418708Z",
     "shell.execute_reply": "2024-09-29T09:02:15.418708Z"
    }
   },
   "outputs": [
    {
     "name": "stdout",
     "output_type": "stream",
     "text": [
      "PyAEDT INFO: Padstack ANSYS_VIA create correctly\n"
     ]
    },
    {
     "data": {
      "text/plain": [
       "<pyedb.dotnet.edb_core.edb_data.padstacks_data.EDBPadstackInstance at 0x21943cb27c0>"
      ]
     },
     "execution_count": 10,
     "metadata": {},
     "output_type": "execute_result"
    }
   ],
   "source": [
    "edb.add_design_variable(\"SG_VIA_D\", \"1mm\")\n",
    "edb.add_design_variable(\"$VIA_AP_D\", \"1.2mm\")\n",
    "edb.padstacks.create(\"ANSYS_VIA\", \"0.3mm\", \"0.5mm\", \"$VIA_AP_D\")\n",
    "edb.padstacks.place([\"5mm\", 0], \"ANSYS_VIA\", \"SIG\")"
   ]
  },
  {
   "cell_type": "markdown",
   "id": "4bfaa5e9",
   "metadata": {},
   "source": [
    "Create ground vias around the SMA\n",
    "connector launch footprint. The vias\n",
    "are placed around the circumference\n",
    "of the launch from 35 degrees to 325\n",
    "degrees."
   ]
  },
  {
   "cell_type": "code",
   "execution_count": 11,
   "id": "bd8c74ff",
   "metadata": {
    "execution": {
     "iopub.execute_input": "2024-09-29T09:02:15.418708Z",
     "iopub.status.busy": "2024-09-29T09:02:15.418708Z",
     "iopub.status.idle": "2024-09-29T09:02:15.496834Z",
     "shell.execute_reply": "2024-09-29T09:02:15.496834Z"
    }
   },
   "outputs": [],
   "source": [
    "for i in np.arange(30, 326, 35):\n",
    "    px = np.cos(i / 180 * np.pi)\n",
    "    py = np.sin(i / 180 * np.pi)\n",
    "    edb.padstacks.place([\"{}*{}+5mm\".format(\"SG_VIA_D\", px), \"{}*{}\".format(\"SG_VIA_D\", py)], \"ANSYS_VIA\", \"GND\")"
   ]
  },
  {
   "cell_type": "markdown",
   "id": "1ad499d1",
   "metadata": {},
   "source": [
    "Create ground vias along the signal trace."
   ]
  },
  {
   "cell_type": "code",
   "execution_count": 12,
   "id": "d87b9005",
   "metadata": {
    "execution": {
     "iopub.execute_input": "2024-09-29T09:02:15.496834Z",
     "iopub.status.busy": "2024-09-29T09:02:15.496834Z",
     "iopub.status.idle": "2024-09-29T09:02:15.559281Z",
     "shell.execute_reply": "2024-09-29T09:02:15.559281Z"
    }
   },
   "outputs": [],
   "source": [
    "for i in np.arange(2e-3, edb.variables[\"SIG_L\"].value - 2e-3, 2e-3):\n",
    "    edb.padstacks.place([\"{}+5mm\".format(i), \"1mm\"], \"ANSYS_VIA\", \"GND\")\n",
    "    edb.padstacks.place([\"{}+5mm\".format(i), \"-1mm\"], \"ANSYS_VIA\", \"GND\")"
   ]
  },
  {
   "cell_type": "markdown",
   "id": "de0eb9e6",
   "metadata": {},
   "source": [
    "Create a wave port at the end of the signal trace."
   ]
  },
  {
   "cell_type": "code",
   "execution_count": 13,
   "id": "33009a42",
   "metadata": {
    "execution": {
     "iopub.execute_input": "2024-09-29T09:02:15.559281Z",
     "iopub.status.busy": "2024-09-29T09:02:15.559281Z",
     "iopub.status.idle": "2024-09-29T09:02:15.590531Z",
     "shell.execute_reply": "2024-09-29T09:02:15.590531Z"
    }
   },
   "outputs": [
    {
     "data": {
      "text/plain": [
       "('port_1', <pyedb.dotnet.edb_core.edb_data.ports.WavePort at 0x21943f0cd80>)"
      ]
     },
     "execution_count": 13,
     "metadata": {},
     "output_type": "execute_result"
    }
   ],
   "source": [
    "signal_trace.create_edge_port(\"port_1\", \"End\", \"Wave\", horizontal_extent_factor=10)"
   ]
  },
  {
   "cell_type": "markdown",
   "id": "8c8699da",
   "metadata": {},
   "source": [
    "## Set up HFSS simulation\n",
    "\n",
    "The ``max_num_passes`` argument sets an upper limit on the\n",
    "number of adaptive passes for mesh refinement.\n",
    "\n",
    "For broadband applications when the simulation results may be used\n",
    "to generate a SPICE model, the outer domain boundary can be\n",
    "located roughly $$ d=\\lambda/8 $$ from the internal structures\n",
    "in the model."
   ]
  },
  {
   "cell_type": "code",
   "execution_count": 14,
   "id": "137459d9",
   "metadata": {
    "execution": {
     "iopub.execute_input": "2024-09-29T09:02:15.590531Z",
     "iopub.status.busy": "2024-09-29T09:02:15.590531Z",
     "iopub.status.idle": "2024-09-29T09:02:15.668660Z",
     "shell.execute_reply": "2024-09-29T09:02:15.668660Z"
    }
   },
   "outputs": [],
   "source": [
    "extend_domain = 3e11 / 5e9 / 8.0  # Quarter wavelength at 4 GHz.\n",
    "edb.design_options.antipads_always_on = True\n",
    "edb.hfss.hfss_extent_info.air_box_horizontal_extent = extend_domain\n",
    "edb.hfss.hfss_extent_info.air_box_positive_vertical_extent = extend_domain\n",
    "edb.hfss.hfss_extent_info.air_box_negative_vertical_extent = extend_domain\n",
    "\n",
    "setup = edb.create_hfss_setup(\"Setup1\")\n",
    "setup.set_solution_single_frequency(\"5GHz\", max_num_passes=8, max_delta_s=\"0.02\")\n",
    "setup.hfss_solver_settings.order_basis = \"first\""
   ]
  },
  {
   "cell_type": "markdown",
   "id": "ce4abf39",
   "metadata": {},
   "source": [
    "Add a mesh operation to the setup."
   ]
  },
  {
   "cell_type": "code",
   "execution_count": 15,
   "id": "dd375ca1",
   "metadata": {
    "execution": {
     "iopub.execute_input": "2024-09-29T09:02:15.668660Z",
     "iopub.status.busy": "2024-09-29T09:02:15.668660Z",
     "iopub.status.idle": "2024-09-29T09:02:15.731213Z",
     "shell.execute_reply": "2024-09-29T09:02:15.731213Z"
    }
   },
   "outputs": [
    {
     "data": {
      "text/plain": [
       "<pyedb.dotnet.edb_core.sim_setup_data.data.mesh_operation.LengthMeshOperation at 0x219440d4d30>"
      ]
     },
     "execution_count": 15,
     "metadata": {},
     "output_type": "execute_result"
    }
   ],
   "source": [
    "edb.setups[\"Setup1\"].add_length_mesh_operation({\"SIG\": [\"L3\"]}, \"m1\", max_length=\"0.1mm\")"
   ]
  },
  {
   "cell_type": "markdown",
   "id": "5ba8247f",
   "metadata": {},
   "source": [
    "Add a frequency sweep to setup.\n",
    "\n",
    "When the simulation results are to\n",
    "be used for transient SPICE analysis, you should\n",
    "use the following strategy:\n",
    "\n",
    "- DC point\n",
    "- Logarithmic sweep from 1 kHz to 100 MHz\n",
    "- Linear scale for higher frequencies."
   ]
  },
  {
   "cell_type": "code",
   "execution_count": 16,
   "id": "eee0488d",
   "metadata": {
    "execution": {
     "iopub.execute_input": "2024-09-29T09:02:15.731213Z",
     "iopub.status.busy": "2024-09-29T09:02:15.731213Z",
     "iopub.status.idle": "2024-09-29T09:02:15.778086Z",
     "shell.execute_reply": "2024-09-29T09:02:15.778086Z"
    }
   },
   "outputs": [
    {
     "data": {
      "text/plain": [
       "<pyedb.dotnet.edb_core.sim_setup_data.data.sweep_data.SweepData at 0x219440d4370>"
      ]
     },
     "execution_count": 16,
     "metadata": {},
     "output_type": "execute_result"
    }
   ],
   "source": [
    "setup.add_frequency_sweep(\n",
    "    \"Sweep1\",\n",
    "    frequency_sweep=[\n",
    "        [\"linear count\", \"0\", \"1KHz\", 1],\n",
    "        [\"log scale\", \"1KHz\", \"100MHz\", 10],\n",
    "        [\"linear scale\", \"0.1GHz\", \"5GHz\", \"0.1GHz\"],\n",
    "    ],\n",
    ")"
   ]
  },
  {
   "cell_type": "markdown",
   "id": "03f65959",
   "metadata": {},
   "source": [
    "Save and close EDB."
   ]
  },
  {
   "cell_type": "code",
   "execution_count": 17,
   "id": "5c5205b5",
   "metadata": {
    "execution": {
     "iopub.execute_input": "2024-09-29T09:02:15.778086Z",
     "iopub.status.busy": "2024-09-29T09:02:15.778086Z",
     "iopub.status.idle": "2024-09-29T09:02:15.809382Z",
     "shell.execute_reply": "2024-09-29T09:02:15.809382Z"
    }
   },
   "outputs": [
    {
     "name": "stdout",
     "output_type": "stream",
     "text": [
      "PyAEDT INFO: EDB file save time: 0.00ms\n"
     ]
    },
    {
     "name": "stdout",
     "output_type": "stream",
     "text": [
      "PyAEDT INFO: EDB file release time: 0.00ms\n"
     ]
    },
    {
     "data": {
      "text/plain": [
       "True"
      ]
     },
     "execution_count": 17,
     "metadata": {},
     "output_type": "execute_result"
    }
   ],
   "source": [
    "edb.save_edb()\n",
    "edb.close_edb()"
   ]
  },
  {
   "cell_type": "markdown",
   "id": "eeae8878",
   "metadata": {},
   "source": [
    "Launch HFSS 3D Layout."
   ]
  },
  {
   "cell_type": "code",
   "execution_count": 18,
   "id": "18ef07d0",
   "metadata": {
    "execution": {
     "iopub.execute_input": "2024-09-29T09:02:15.809382Z",
     "iopub.status.busy": "2024-09-29T09:02:15.809382Z",
     "iopub.status.idle": "2024-09-29T09:02:49.291706Z",
     "shell.execute_reply": "2024-09-29T09:02:49.291706Z"
    }
   },
   "outputs": [
    {
     "name": "stdout",
     "output_type": "stream",
     "text": [
      "PyAEDT WARNING: Argument `specified_version` is deprecated for method `__init__`; use `version` instead.\n"
     ]
    },
    {
     "name": "stdout",
     "output_type": "stream",
     "text": [
      "PyAEDT WARNING: Argument `new_desktop_session` is deprecated for method `__init__`; use `new_desktop` instead.\n"
     ]
    },
    {
     "name": "stdout",
     "output_type": "stream",
     "text": [
      "PyAEDT INFO: Python version 3.10.11 (tags/v3.10.11:7d4cc5a, Apr  5 2023, 00:38:17) [MSC v.1929 64 bit (AMD64)]\n"
     ]
    },
    {
     "name": "stdout",
     "output_type": "stream",
     "text": [
      "PyAEDT INFO: PyAEDT version 0.11.dev0.\n"
     ]
    },
    {
     "name": "stdout",
     "output_type": "stream",
     "text": [
      "PyAEDT INFO: Initializing new Desktop session.\n"
     ]
    },
    {
     "name": "stdout",
     "output_type": "stream",
     "text": [
      "PyAEDT INFO: Log on console is enabled.\n"
     ]
    },
    {
     "name": "stdout",
     "output_type": "stream",
     "text": [
      "PyAEDT INFO: Log on file C:\\Users\\ansys\\AppData\\Local\\Temp\\pyaedt_ansys_7cd45ae1-eb9a-4e5c-bd56-d503f92f7cb4.log is enabled.\n"
     ]
    },
    {
     "name": "stdout",
     "output_type": "stream",
     "text": [
      "PyAEDT INFO: Log on AEDT is enabled.\n"
     ]
    },
    {
     "name": "stdout",
     "output_type": "stream",
     "text": [
      "PyAEDT INFO: Debug logger is disabled. PyAEDT methods will not be logged.\n"
     ]
    },
    {
     "name": "stdout",
     "output_type": "stream",
     "text": [
      "PyAEDT INFO: Launching PyAEDT with gRPC plugin.\n"
     ]
    },
    {
     "name": "stdout",
     "output_type": "stream",
     "text": [
      "PyAEDT INFO: New AEDT session is starting on gRPC port 50070\n"
     ]
    },
    {
     "name": "stdout",
     "output_type": "stream",
     "text": [
      "PyAEDT INFO: AEDT installation Path C:\\Program Files\\AnsysEM\\v242\\Win64\n"
     ]
    },
    {
     "name": "stdout",
     "output_type": "stream",
     "text": [
      "PyAEDT INFO: Ansoft.ElectronicsDesktop.2024.2 version started with process ID 8156.\n"
     ]
    },
    {
     "name": "stdout",
     "output_type": "stream",
     "text": [
      "PyAEDT INFO: EDB folder C:\\Users\\ansys\\AppData\\Local\\Temp\\tmpc00ik5ur.ansys\\pcb.aedb has been imported to project pcb\n"
     ]
    },
    {
     "name": "stdout",
     "output_type": "stream",
     "text": [
      "PyAEDT INFO: Active Design set to 0;Cell_7R3AEG\n"
     ]
    },
    {
     "name": "stdout",
     "output_type": "stream",
     "text": [
      "PyAEDT INFO: Aedt Objects correctly read\n"
     ]
    }
   ],
   "source": [
    "h3d = ansys.aedt.core.Hfss3dLayout(aedb_path, specified_version=edb_version, new_desktop_session=True)"
   ]
  },
  {
   "cell_type": "markdown",
   "id": "f75ae59a",
   "metadata": {},
   "source": [
    "Place a 3D component."
   ]
  },
  {
   "cell_type": "code",
   "execution_count": 19,
   "id": "0fd4163a",
   "metadata": {
    "execution": {
     "iopub.execute_input": "2024-09-29T09:02:49.291706Z",
     "iopub.status.busy": "2024-09-29T09:02:49.291706Z",
     "iopub.status.idle": "2024-09-29T09:02:51.305872Z",
     "shell.execute_reply": "2024-09-29T09:02:51.304880Z"
    }
   },
   "outputs": [
    {
     "name": "stdout",
     "output_type": "stream",
     "text": [
      "PyAEDT INFO: Loading Modeler.\n"
     ]
    },
    {
     "name": "stdout",
     "output_type": "stream",
     "text": [
      "PyAEDT INFO: Modeler loaded.\n"
     ]
    },
    {
     "name": "stdout",
     "output_type": "stream",
     "text": [
      "PyAEDT INFO: EDB loaded.\n"
     ]
    },
    {
     "name": "stdout",
     "output_type": "stream",
     "text": [
      "PyAEDT INFO: Layers loaded.\n"
     ]
    },
    {
     "name": "stdout",
     "output_type": "stream",
     "text": [
      "PyAEDT INFO: Primitives loaded.\n"
     ]
    },
    {
     "name": "stdout",
     "output_type": "stream",
     "text": [
      "PyAEDT INFO: Modeler class has been initialized! Elapsed time: 0m 0sec\n"
     ]
    }
   ],
   "source": [
    "full_comp_name = download_file(\"component_3d\", filename=\"SMA_RF_SURFACE_MOUNT.a3dcomp\", destination=working_folder)\n",
    "comp = h3d.modeler.place_3d_component(\n",
    "    component_path=full_comp_name,\n",
    "    number_of_terminals=1,\n",
    "    placement_layer=\"TOP\",\n",
    "    component_name=\"my_connector\",\n",
    "    pos_x=\"5mm\",\n",
    "    pos_y=0.000,\n",
    ")"
   ]
  },
  {
   "cell_type": "markdown",
   "id": "ffd38053",
   "metadata": {},
   "source": [
    "## Run simulation"
   ]
  },
  {
   "cell_type": "code",
   "execution_count": 20,
   "id": "70b31a27",
   "metadata": {
    "execution": {
     "iopub.execute_input": "2024-09-29T09:02:51.305872Z",
     "iopub.status.busy": "2024-09-29T09:02:51.305872Z",
     "iopub.status.idle": "2024-09-29T09:04:03.875972Z",
     "shell.execute_reply": "2024-09-29T09:04:03.875972Z"
    }
   },
   "outputs": [
    {
     "name": "stdout",
     "output_type": "stream",
     "text": [
      "PyAEDT WARNING: Argument `num_cores` is deprecated for method `analyze`; use `cores` instead.\n"
     ]
    },
    {
     "name": "stdout",
     "output_type": "stream",
     "text": [
      "PyAEDT INFO: Key Desktop/ActiveDSOConfigurations/HFSS 3D Layout Design correctly changed.\n"
     ]
    },
    {
     "name": "stdout",
     "output_type": "stream",
     "text": [
      "PyAEDT INFO: Solving all design setups.\n"
     ]
    },
    {
     "name": "stdout",
     "output_type": "stream",
     "text": [
      "PyAEDT INFO: Key Desktop/ActiveDSOConfigurations/HFSS 3D Layout Design correctly changed.\n"
     ]
    },
    {
     "name": "stdout",
     "output_type": "stream",
     "text": [
      "PyAEDT INFO: Design setup None solved correctly in 0.0h 1.0m 13.0s\n"
     ]
    },
    {
     "data": {
      "text/plain": [
       "True"
      ]
     },
     "execution_count": 20,
     "metadata": {},
     "output_type": "execute_result"
    }
   ],
   "source": [
    "h3d.analyze(num_cores=4)"
   ]
  },
  {
   "cell_type": "markdown",
   "id": "7a39df10",
   "metadata": {},
   "source": [
    "## Visualize the return loss."
   ]
  },
  {
   "cell_type": "code",
   "execution_count": 21,
   "id": "4eec2d97",
   "metadata": {
    "execution": {
     "iopub.execute_input": "2024-09-29T09:04:03.875972Z",
     "iopub.status.busy": "2024-09-29T09:04:03.875972Z",
     "iopub.status.idle": "2024-09-29T09:04:05.219579Z",
     "shell.execute_reply": "2024-09-29T09:04:05.218513Z"
    }
   },
   "outputs": [
    {
     "name": "stdout",
     "output_type": "stream",
     "text": [
      "PyAEDT INFO: Parsing C:/Users/ansys/AppData/Local/Temp/tmpc00ik5ur.ansys/pcb.aedt.\n"
     ]
    },
    {
     "name": "stdout",
     "output_type": "stream",
     "text": [
      "PyAEDT INFO: File C:/Users/ansys/AppData/Local/Temp/tmpc00ik5ur.ansys/pcb.aedt correctly loaded. Elapsed time: 0m 0sec\n"
     ]
    },
    {
     "name": "stdout",
     "output_type": "stream",
     "text": [
      "PyAEDT INFO: aedt file load time 0.015626907348632812\n"
     ]
    },
    {
     "name": "stdout",
     "output_type": "stream",
     "text": [
      "PyAEDT INFO: PostProcessor class has been initialized! Elapsed time: 0m 0sec\n"
     ]
    },
    {
     "name": "stdout",
     "output_type": "stream",
     "text": [
      "PyAEDT INFO: Post class has been initialized! Elapsed time: 0m 0sec\n"
     ]
    },
    {
     "data": {
      "text/plain": [
       "<ansys.aedt.core.visualization.report.standard.Standard at 0x21945b290b0>"
      ]
     },
     "execution_count": 21,
     "metadata": {},
     "output_type": "execute_result"
    }
   ],
   "source": [
    "h3d.post.create_report(\"dB(S(port_1, port_1))\")"
   ]
  },
  {
   "cell_type": "markdown",
   "id": "a7aa0676",
   "metadata": {},
   "source": [
    "## Save and close the project."
   ]
  },
  {
   "cell_type": "code",
   "execution_count": 22,
   "id": "4ca22a65",
   "metadata": {
    "execution": {
     "iopub.execute_input": "2024-09-29T09:04:05.219579Z",
     "iopub.status.busy": "2024-09-29T09:04:05.219579Z",
     "iopub.status.idle": "2024-09-29T09:04:08.707597Z",
     "shell.execute_reply": "2024-09-29T09:04:08.707597Z"
    }
   },
   "outputs": [
    {
     "name": "stdout",
     "output_type": "stream",
     "text": [
      "PyAEDT INFO: Project pcb Saved correctly\n"
     ]
    },
    {
     "name": "stdout",
     "output_type": "stream",
     "text": [
      "Project is saved to C:/Users/ansys/AppData/Local/Temp/tmpc00ik5ur.ansys/\n"
     ]
    },
    {
     "name": "stdout",
     "output_type": "stream",
     "text": [
      "PyAEDT INFO: Desktop has been released and closed.\n"
     ]
    },
    {
     "data": {
      "text/plain": [
       "True"
      ]
     },
     "execution_count": 22,
     "metadata": {},
     "output_type": "execute_result"
    }
   ],
   "source": [
    "h3d.save_project()\n",
    "print(\"Project is saved to {}\".format(h3d.project_path))\n",
    "h3d.release_desktop(True, True)"
   ]
  },
  {
   "cell_type": "markdown",
   "id": "8cb892eb",
   "metadata": {},
   "source": [
    "## Clean up the temporary folder."
   ]
  },
  {
   "cell_type": "code",
   "execution_count": 23,
   "id": "1e307275",
   "metadata": {
    "execution": {
     "iopub.execute_input": "2024-09-29T09:04:08.707597Z",
     "iopub.status.busy": "2024-09-29T09:04:08.707597Z",
     "iopub.status.idle": "2024-09-29T09:04:08.739924Z",
     "shell.execute_reply": "2024-09-29T09:04:08.738923Z"
    }
   },
   "outputs": [],
   "source": [
    "temp_dir.cleanup()"
   ]
  }
 ],
 "metadata": {
  "jupytext": {
   "cell_metadata_filter": "-all",
   "main_language": "python",
   "notebook_metadata_filter": "-all",
   "text_representation": {
    "extension": ".py",
    "format_name": "light"
   }
  },
  "language_info": {
   "codemirror_mode": {
    "name": "ipython",
    "version": 3
   },
   "file_extension": ".py",
   "mimetype": "text/x-python",
   "name": "python",
   "nbconvert_exporter": "python",
   "pygments_lexer": "ipython3",
   "version": "3.10.11"
  }
 },
 "nbformat": 4,
 "nbformat_minor": 5
}
