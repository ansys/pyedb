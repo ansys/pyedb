{
 "cells": [
  {
   "cell_type": "markdown",
   "id": "d54d3ed5",
   "metadata": {},
   "source": [
    "Copyright (C) 2023 - 2024 ANSYS, Inc. and/or its affiliates.\n",
    "SPDX-License-Identifier: MIT\n",
    "\n",
    "\n",
    "Permission is hereby granted, free of charge, to any person obtaining a copy\n",
    "of this software and associated documentation files (the \"Software\"), to deal\n",
    "in the Software without restriction, including without limitation the rights\n",
    "to use, copy, modify, merge, publish, distribute, sublicense, and/or sell\n",
    "copies of the Software, and to permit persons to whom the Software is\n",
    "furnished to do so, subject to the following conditions:\n",
    "\n",
    "The above copyright notice and this permission notice shall be included in all\n",
    "copies or substantial portions of the Software.\n",
    "\n",
    "THE SOFTWARE IS PROVIDED \"AS IS\", WITHOUT WARRANTY OF ANY KIND, EXPRESS OR\n",
    "IMPLIED, INCLUDING BUT NOT LIMITED TO THE WARRANTIES OF MERCHANTABILITY,\n",
    "FITNESS FOR A PARTICULAR PURPOSE AND NONINFRINGEMENT. IN NO EVENT SHALL THE\n",
    "AUTHORS OR COPYRIGHT HOLDERS BE LIABLE FOR ANY CLAIM, DAMAGES OR OTHER\n",
    "LIABILITY, WHETHER IN AN ACTION OF CONTRACT, TORT OR OTHERWISE, ARISING FROM,\n",
    "OUT OF OR IN CONNECTION WITH THE SOFTWARE OR THE USE OR OTHER DEALINGS IN THE\n",
    "SOFTWARE."
   ]
  },
  {
   "cell_type": "markdown",
   "id": "b8682c6c",
   "metadata": {},
   "source": [
    "## EDB: 5G linear array antenna\n",
    "\n",
    "This example shows how you can use HFSS 3D Layout to create and solve a 5G linear array antenna."
   ]
  },
  {
   "cell_type": "markdown",
   "id": "821a5a7b",
   "metadata": {},
   "source": [
    "## Perform required imports\n",
    "\n",
    "Perform required imports."
   ]
  },
  {
   "cell_type": "code",
   "execution_count": 1,
   "id": "32223c69",
   "metadata": {
    "execution": {
     "iopub.execute_input": "2024-09-29T08:51:14.742978Z",
     "iopub.status.busy": "2024-09-29T08:51:14.742978Z",
     "iopub.status.idle": "2024-09-29T08:51:14.758608Z",
     "shell.execute_reply": "2024-09-29T08:51:14.758608Z"
    }
   },
   "outputs": [],
   "source": [
    "import os\n",
    "import tempfile"
   ]
  },
  {
   "cell_type": "code",
   "execution_count": 2,
   "id": "f849804f",
   "metadata": {
    "execution": {
     "iopub.execute_input": "2024-09-29T08:51:14.758608Z",
     "iopub.status.busy": "2024-09-29T08:51:14.758608Z",
     "iopub.status.idle": "2024-09-29T08:51:15.399290Z",
     "shell.execute_reply": "2024-09-29T08:51:15.399290Z"
    }
   },
   "outputs": [],
   "source": [
    "from ansys.aedt.core import Hfss3dLayout"
   ]
  },
  {
   "cell_type": "code",
   "execution_count": 3,
   "id": "fe159a7e",
   "metadata": {
    "execution": {
     "iopub.execute_input": "2024-09-29T08:51:15.399290Z",
     "iopub.status.busy": "2024-09-29T08:51:15.399290Z",
     "iopub.status.idle": "2024-09-29T08:51:15.430563Z",
     "shell.execute_reply": "2024-09-29T08:51:15.430563Z"
    }
   },
   "outputs": [],
   "source": [
    "import pyedb\n",
    "from pyedb.generic.general_methods import generate_unique_name"
   ]
  },
  {
   "cell_type": "markdown",
   "id": "8d28ccc0",
   "metadata": {},
   "source": [
    "## Set non-graphical mode\n",
    "\n",
    "Set non-graphical mode. The default is ``False``."
   ]
  },
  {
   "cell_type": "code",
   "execution_count": 4,
   "id": "96416448",
   "metadata": {
    "execution": {
     "iopub.execute_input": "2024-09-29T08:51:15.430563Z",
     "iopub.status.busy": "2024-09-29T08:51:15.430563Z",
     "iopub.status.idle": "2024-09-29T08:51:15.446189Z",
     "shell.execute_reply": "2024-09-29T08:51:15.446189Z"
    }
   },
   "outputs": [],
   "source": [
    "non_graphical = False"
   ]
  },
  {
   "cell_type": "code",
   "execution_count": 5,
   "id": "6e2e2ad1",
   "metadata": {
    "execution": {
     "iopub.execute_input": "2024-09-29T08:51:15.446189Z",
     "iopub.status.busy": "2024-09-29T08:51:15.446189Z",
     "iopub.status.idle": "2024-09-29T08:51:15.461800Z",
     "shell.execute_reply": "2024-09-29T08:51:15.461800Z"
    }
   },
   "outputs": [],
   "source": [
    "class Patch:\n",
    "    def __init__(self, width=0.0, height=0.0, position=0.0):\n",
    "        self.width = width\n",
    "        self.height = height\n",
    "        self.position = position\n",
    "\n",
    "    @property\n",
    "    def points(self):\n",
    "        return [\n",
    "            [self.position, -self.height / 2],\n",
    "            [self.position + self.width, -self.height / 2],\n",
    "            [self.position + self.width, self.height / 2],\n",
    "            [self.position, self.height / 2],\n",
    "        ]"
   ]
  },
  {
   "cell_type": "code",
   "execution_count": 6,
   "id": "5c63e8f6",
   "metadata": {
    "execution": {
     "iopub.execute_input": "2024-09-29T08:51:15.461800Z",
     "iopub.status.busy": "2024-09-29T08:51:15.461800Z",
     "iopub.status.idle": "2024-09-29T08:51:15.477438Z",
     "shell.execute_reply": "2024-09-29T08:51:15.477438Z"
    }
   },
   "outputs": [],
   "source": [
    "class Line:\n",
    "    def __init__(self, length=0.0, width=0.0, position=0.0):\n",
    "        self.length = length\n",
    "        self.width = width\n",
    "        self.position = position\n",
    "\n",
    "    @property\n",
    "    def points(self):\n",
    "        return [\n",
    "            [self.position, -self.width / 2],\n",
    "            [self.position + self.length, -self.width / 2],\n",
    "            [self.position + self.length, self.width / 2],\n",
    "            [self.position, self.width / 2],\n",
    "        ]"
   ]
  },
  {
   "cell_type": "code",
   "execution_count": 7,
   "id": "f39ff41d",
   "metadata": {
    "execution": {
     "iopub.execute_input": "2024-09-29T08:51:15.477438Z",
     "iopub.status.busy": "2024-09-29T08:51:15.477438Z",
     "iopub.status.idle": "2024-09-29T08:51:15.493039Z",
     "shell.execute_reply": "2024-09-29T08:51:15.493039Z"
    }
   },
   "outputs": [],
   "source": [
    "class LinearArray:\n",
    "    def __init__(self, nb_patch=1, array_length=10e-3, array_width=5e-3):\n",
    "        self.nbpatch = nb_patch\n",
    "        self.length = array_length\n",
    "        self.width = array_width\n",
    "\n",
    "    @property\n",
    "    def points(self):\n",
    "        return [\n",
    "            [-1e-3, -self.width / 2 - 1e-3],\n",
    "            [self.length + 1e-3, -self.width / 2 - 1e-3],\n",
    "            [self.length + 1e-3, self.width / 2 + 1e-3],\n",
    "            [-1e-3, self.width / 2 + 1e-3],\n",
    "        ]"
   ]
  },
  {
   "cell_type": "code",
   "execution_count": 8,
   "id": "1bbb5a76",
   "metadata": {
    "execution": {
     "iopub.execute_input": "2024-09-29T08:51:15.493039Z",
     "iopub.status.busy": "2024-09-29T08:51:15.493039Z",
     "iopub.status.idle": "2024-09-29T08:51:27.705190Z",
     "shell.execute_reply": "2024-09-29T08:51:27.705190Z"
    }
   },
   "outputs": [
    {
     "name": "stdout",
     "output_type": "stream",
     "text": [
      "C:\\Users\\ansys\\AppData\\Local\\Temp\\pcb_FH37BB.aedb\n"
     ]
    },
    {
     "name": "stdout",
     "output_type": "stream",
     "text": [
      "PyAEDT INFO: Logger is initialized in EDB.\n"
     ]
    },
    {
     "name": "stdout",
     "output_type": "stream",
     "text": [
      "PyAEDT INFO: legacy v0.29.0\n"
     ]
    },
    {
     "name": "stdout",
     "output_type": "stream",
     "text": [
      "PyAEDT INFO: Python version 3.10.11 (tags/v3.10.11:7d4cc5a, Apr  5 2023, 00:38:17) [MSC v.1929 64 bit (AMD64)]\n"
     ]
    },
    {
     "name": "stdout",
     "output_type": "stream",
     "text": [
      "PyAEDT INFO: EDB C:\\Users\\ansys\\AppData\\Local\\Temp\\pcb_FH37BB.aedb created correctly.\n"
     ]
    },
    {
     "name": "stdout",
     "output_type": "stream",
     "text": [
      "PyAEDT INFO: EDB initialized.\n"
     ]
    }
   ],
   "source": [
    "tmpfold = tempfile.gettempdir()\n",
    "aedb_path = os.path.join(tmpfold, generate_unique_name(\"pcb\") + \".aedb\")\n",
    "print(aedb_path)\n",
    "edb = pyedb.Edb(edbpath=aedb_path, edbversion=\"2024.2\")"
   ]
  },
  {
   "cell_type": "code",
   "execution_count": 9,
   "id": "52d19972",
   "metadata": {
    "execution": {
     "iopub.execute_input": "2024-09-29T08:51:27.705190Z",
     "iopub.status.busy": "2024-09-29T08:51:27.705190Z",
     "iopub.status.idle": "2024-09-29T08:51:27.720758Z",
     "shell.execute_reply": "2024-09-29T08:51:27.720758Z"
    }
   },
   "outputs": [],
   "source": [
    "# ## Add stackup layers\n",
    "#\n",
    "# Add the stackup layers.\n",
    "layers = {\n",
    "    \"TOP\": {\"type\": \"signal\", \"thicness\": \"35um\", \"material\": \"copper\"},\n",
    "    \"Substrat\": {\"type\": \"dielectric\", \"thicness\": \"0.5mm\", \"material\": \"Duroid (tm)\"},\n",
    "    \"GND\": {\"type\": \"signal\", \"thicness\": \"35um\", \"material\": \"copper\"},\n",
    "    \"Gap\": {\"type\": \"dielectric\", \"thicness\": \"0.05mm\", \"material\": \"Air\"},\n",
    "    \"Virt_GND\": {\"type\": \"signal\", \"thicness\": \"35um\", \"material\": \"copper\"},\n",
    "}"
   ]
  },
  {
   "cell_type": "code",
   "execution_count": 10,
   "id": "95302d17",
   "metadata": {
    "execution": {
     "iopub.execute_input": "2024-09-29T08:51:27.720758Z",
     "iopub.status.busy": "2024-09-29T08:51:27.720758Z",
     "iopub.status.idle": "2024-09-29T08:51:27.861334Z",
     "shell.execute_reply": "2024-09-29T08:51:27.861334Z"
    },
    "lines_to_next_cell": 2
   },
   "outputs": [
    {
     "name": "stdout",
     "output_type": "stream",
     "text": [
      "PyAEDT INFO: Configuration file does not have material definition. Using aedb and syslib materials.\n"
     ]
    },
    {
     "data": {
      "text/plain": [
       "True"
      ]
     },
     "execution_count": 10,
     "metadata": {},
     "output_type": "execute_result"
    }
   ],
   "source": [
    "edb.stackup.load(layers)"
   ]
  },
  {
   "cell_type": "markdown",
   "id": "786a1f66",
   "metadata": {},
   "source": [
    "## Create linear array\n",
    "\n",
    "Create the first patch of the linear array."
   ]
  },
  {
   "cell_type": "code",
   "execution_count": 11,
   "id": "c395524a",
   "metadata": {
    "execution": {
     "iopub.execute_input": "2024-09-29T08:51:27.861334Z",
     "iopub.status.busy": "2024-09-29T08:51:27.861334Z",
     "iopub.status.idle": "2024-09-29T08:51:27.955093Z",
     "shell.execute_reply": "2024-09-29T08:51:27.955093Z"
    }
   },
   "outputs": [
    {
     "data": {
      "text/plain": [
       "<pyedb.dotnet.edb_core.edb_data.primitives_data.EdbPolygon at 0x29b97de5e50>"
      ]
     },
     "execution_count": 11,
     "metadata": {},
     "output_type": "execute_result"
    }
   ],
   "source": [
    "first_patch = Patch(width=1.4e-3, height=1.2e-3, position=0.0)\n",
    "edb.modeler.create_polygon(first_patch.points, \"TOP\", net_name=\"Array_antenna\")\n",
    "# First line\n",
    "first_line = Line(length=2.4e-3, width=0.3e-3, position=first_patch.width)\n",
    "edb.modeler.create_polygon(first_line.points, \"TOP\", net_name=\"Array_antenna\")"
   ]
  },
  {
   "cell_type": "markdown",
   "id": "a387454c",
   "metadata": {},
   "source": [
    "## Patch linear array\n",
    "\n",
    "Patch the linear array."
   ]
  },
  {
   "cell_type": "code",
   "execution_count": 12,
   "id": "c0bc424b",
   "metadata": {
    "execution": {
     "iopub.execute_input": "2024-09-29T08:51:27.955093Z",
     "iopub.status.busy": "2024-09-29T08:51:27.955093Z",
     "iopub.status.idle": "2024-09-29T08:51:27.970717Z",
     "shell.execute_reply": "2024-09-29T08:51:27.970717Z"
    }
   },
   "outputs": [],
   "source": [
    "patch = Patch(width=2.29e-3, height=3.3e-3)\n",
    "line = Line(length=1.9e-3, width=0.2e-3)\n",
    "linear_array = LinearArray(nb_patch=8, array_width=patch.height)"
   ]
  },
  {
   "cell_type": "code",
   "execution_count": 13,
   "id": "fabbd16e",
   "metadata": {
    "execution": {
     "iopub.execute_input": "2024-09-29T08:51:27.970717Z",
     "iopub.status.busy": "2024-09-29T08:51:27.970717Z",
     "iopub.status.idle": "2024-09-29T08:51:27.986333Z",
     "shell.execute_reply": "2024-09-29T08:51:27.986333Z"
    }
   },
   "outputs": [],
   "source": [
    "current_patch = 1\n",
    "current_position = first_line.position + first_line.length"
   ]
  },
  {
   "cell_type": "code",
   "execution_count": 14,
   "id": "a49029ca",
   "metadata": {
    "execution": {
     "iopub.execute_input": "2024-09-29T08:51:27.986333Z",
     "iopub.status.busy": "2024-09-29T08:51:27.986333Z",
     "iopub.status.idle": "2024-09-29T08:51:28.064516Z",
     "shell.execute_reply": "2024-09-29T08:51:28.064516Z"
    }
   },
   "outputs": [],
   "source": [
    "while current_patch <= linear_array.nbpatch:\n",
    "    patch.position = current_position\n",
    "    edb.modeler.create_polygon(patch.points, \"TOP\", net_name=\"Array_antenna\")\n",
    "    current_position += patch.width\n",
    "    if current_patch < linear_array.nbpatch:\n",
    "        line.position = current_position\n",
    "        edb.modeler.create_polygon(line.points, \"TOP\", net_name=\"Array_antenna\")\n",
    "        current_position += line.length\n",
    "    current_patch += 1"
   ]
  },
  {
   "cell_type": "code",
   "execution_count": 15,
   "id": "5d94d689",
   "metadata": {
    "execution": {
     "iopub.execute_input": "2024-09-29T08:51:28.064516Z",
     "iopub.status.busy": "2024-09-29T08:51:28.064516Z",
     "iopub.status.idle": "2024-09-29T08:51:28.080184Z",
     "shell.execute_reply": "2024-09-29T08:51:28.080184Z"
    }
   },
   "outputs": [],
   "source": [
    "linear_array.length = current_position"
   ]
  },
  {
   "cell_type": "markdown",
   "id": "9fc25783",
   "metadata": {},
   "source": [
    "## Add ground\n",
    "\n",
    "Add a ground."
   ]
  },
  {
   "cell_type": "code",
   "execution_count": 16,
   "id": "6d964a38",
   "metadata": {
    "execution": {
     "iopub.execute_input": "2024-09-29T08:51:28.080184Z",
     "iopub.status.busy": "2024-09-29T08:51:28.080184Z",
     "iopub.status.idle": "2024-09-29T08:51:28.095729Z",
     "shell.execute_reply": "2024-09-29T08:51:28.095729Z"
    },
    "lines_to_next_cell": 2
   },
   "outputs": [
    {
     "data": {
      "text/plain": [
       "<pyedb.dotnet.edb_core.edb_data.primitives_data.EdbPolygon at 0x29b979daff0>"
      ]
     },
     "execution_count": 16,
     "metadata": {},
     "output_type": "execute_result"
    }
   ],
   "source": [
    "edb.modeler.create_polygon(linear_array.points, \"GND\", net_name=\"GND\")"
   ]
  },
  {
   "cell_type": "markdown",
   "id": "f20790b1",
   "metadata": {},
   "source": [
    "## Add connector pin\n",
    "\n",
    "Add a central connector pin."
   ]
  },
  {
   "cell_type": "code",
   "execution_count": 17,
   "id": "6beb0ece",
   "metadata": {
    "execution": {
     "iopub.execute_input": "2024-09-29T08:51:28.095729Z",
     "iopub.status.busy": "2024-09-29T08:51:28.095729Z",
     "iopub.status.idle": "2024-09-29T08:51:28.142636Z",
     "shell.execute_reply": "2024-09-29T08:51:28.142636Z"
    }
   },
   "outputs": [
    {
     "name": "stdout",
     "output_type": "stream",
     "text": [
      "PyAEDT INFO: Padstack Connector_pin create correctly\n"
     ]
    }
   ],
   "source": [
    "edb.padstacks.create(padstackname=\"Connector_pin\", holediam=\"100um\", paddiam=\"0\", antipaddiam=\"200um\")\n",
    "con_pin = edb.padstacks.place(\n",
    "    [first_patch.width / 4, 0],\n",
    "    \"Connector_pin\",\n",
    "    net_name=\"Array_antenna\",\n",
    "    fromlayer=\"TOP\",\n",
    "    tolayer=\"GND\",\n",
    "    via_name=\"coax\",\n",
    ")"
   ]
  },
  {
   "cell_type": "markdown",
   "id": "309a50d0",
   "metadata": {},
   "source": [
    "## Add connector ground\n",
    "\n",
    "Add a connector ground."
   ]
  },
  {
   "cell_type": "code",
   "execution_count": 18,
   "id": "34ff4df1",
   "metadata": {
    "execution": {
     "iopub.execute_input": "2024-09-29T08:51:28.142636Z",
     "iopub.status.busy": "2024-09-29T08:51:28.142636Z",
     "iopub.status.idle": "2024-09-29T08:51:28.189514Z",
     "shell.execute_reply": "2024-09-29T08:51:28.189514Z"
    }
   },
   "outputs": [
    {
     "name": "stdout",
     "output_type": "stream",
     "text": [
      "PyAEDT INFO: Padstack gnd_via create correctly\n"
     ]
    }
   ],
   "source": [
    "edb.modeler.create_polygon(first_patch.points, \"Virt_GND\", net_name=\"GND\")\n",
    "edb.padstacks.create(\"gnd_via\", \"100um\", \"0\", \"0\")\n",
    "con_ref1 = edb.padstacks.place(\n",
    "    [first_patch.points[0][0] + 0.2e-3, first_patch.points[0][1] + 0.2e-3],\n",
    "    \"gnd_via\",\n",
    "    fromlayer=\"GND\",\n",
    "    tolayer=\"Virt_GND\",\n",
    "    net_name=\"GND\",\n",
    ")\n",
    "con_ref2 = edb.padstacks.place(\n",
    "    [first_patch.points[1][0] - 0.2e-3, first_patch.points[1][1] + 0.2e-3],\n",
    "    \"gnd_via\",\n",
    "    fromlayer=\"GND\",\n",
    "    tolayer=\"Virt_GND\",\n",
    "    net_name=\"GND\",\n",
    ")\n",
    "con_ref3 = edb.padstacks.place(\n",
    "    [first_patch.points[2][0] - 0.2e-3, first_patch.points[2][1] - 0.2e-3],\n",
    "    \"gnd_via\",\n",
    "    fromlayer=\"GND\",\n",
    "    tolayer=\"Virt_GND\",\n",
    "    net_name=\"GND\",\n",
    ")\n",
    "con_ref4 = edb.padstacks.place(\n",
    "    [first_patch.points[3][0] + 0.2e-3, first_patch.points[3][1] - 0.2e-3],\n",
    "    \"gnd_via\",\n",
    "    fromlayer=\"GND\",\n",
    "    tolayer=\"Virt_GND\",\n",
    "    net_name=\"GND\",\n",
    ")"
   ]
  },
  {
   "cell_type": "markdown",
   "id": "a8a77f2a",
   "metadata": {},
   "source": [
    "## Add excitation port\n",
    "\n",
    "Add an excitation port."
   ]
  },
  {
   "cell_type": "code",
   "execution_count": 19,
   "id": "8039cfd2",
   "metadata": {
    "execution": {
     "iopub.execute_input": "2024-09-29T08:51:28.189514Z",
     "iopub.status.busy": "2024-09-29T08:51:28.189514Z",
     "iopub.status.idle": "2024-09-29T08:51:28.220861Z",
     "shell.execute_reply": "2024-09-29T08:51:28.220861Z"
    },
    "lines_to_next_cell": 2
   },
   "outputs": [],
   "source": [
    "edb.padstacks.set_solderball(con_pin, \"Virt_GND\", isTopPlaced=False, ballDiam=0.1e-3)\n",
    "port_name = edb.padstacks.create_coax_port(con_pin)"
   ]
  },
  {
   "cell_type": "markdown",
   "id": "86c2784a",
   "metadata": {},
   "source": [
    "## Plot geometry\n",
    "\n",
    "Plot the geometry."
   ]
  },
  {
   "cell_type": "code",
   "execution_count": 20,
   "id": "710901d4",
   "metadata": {
    "execution": {
     "iopub.execute_input": "2024-09-29T08:51:28.220861Z",
     "iopub.status.busy": "2024-09-29T08:51:28.220861Z",
     "iopub.status.idle": "2024-09-29T08:51:28.470936Z",
     "shell.execute_reply": "2024-09-29T08:51:28.470936Z"
    }
   },
   "outputs": [
    {
     "name": "stdout",
     "output_type": "stream",
     "text": [
      "PyAEDT INFO: Nets Point Generation time 0.031 seconds\n"
     ]
    },
    {
     "name": "stderr",
     "output_type": "stream",
     "text": [
      "C:\\actions-runner\\_work\\pyedb\\pyedb\\.venv\\lib\\site-packages\\pyedb\\generic\\plot.py:144: UserWarning: FigureCanvasAgg is non-interactive, and thus cannot be shown\n",
      "  plt.show()\n"
     ]
    },
    {
     "data": {
      "text/plain": [
       "<module 'matplotlib.pyplot' from 'C:\\\\actions-runner\\\\_work\\\\pyedb\\\\pyedb\\\\.venv\\\\lib\\\\site-packages\\\\matplotlib\\\\pyplot.py'>"
      ]
     },
     "execution_count": 20,
     "metadata": {},
     "output_type": "execute_result"
    }
   ],
   "source": [
    "edb.nets.plot(None)"
   ]
  },
  {
   "cell_type": "markdown",
   "id": "c22c1d11",
   "metadata": {},
   "source": [
    "## Save and close Edb instance prior to opening it in Electronics Desktop.\n",
    "\n",
    "Save EDB."
   ]
  },
  {
   "cell_type": "code",
   "execution_count": 21,
   "id": "3490b94e",
   "metadata": {
    "execution": {
     "iopub.execute_input": "2024-09-29T08:51:28.470936Z",
     "iopub.status.busy": "2024-09-29T08:51:28.470936Z",
     "iopub.status.idle": "2024-09-29T08:51:28.502212Z",
     "shell.execute_reply": "2024-09-29T08:51:28.502212Z"
    }
   },
   "outputs": [
    {
     "name": "stdout",
     "output_type": "stream",
     "text": [
      "PyAEDT INFO: EDB file save time: 0.00ms\n"
     ]
    },
    {
     "name": "stdout",
     "output_type": "stream",
     "text": [
      "PyAEDT INFO: EDB file release time: 0.00ms\n"
     ]
    },
    {
     "name": "stdout",
     "output_type": "stream",
     "text": [
      "EDB saved correctly to C:\\Users\\ansys\\AppData\\Local\\Temp\\pcb_FH37BB.aedb. You can import in AEDT.\n"
     ]
    }
   ],
   "source": [
    "edb.save_edb()\n",
    "edb.close_edb()\n",
    "print(\"EDB saved correctly to {}. You can import in AEDT.\".format(aedb_path))"
   ]
  },
  {
   "cell_type": "markdown",
   "id": "ccdaa10f",
   "metadata": {},
   "source": [
    "## Launch HFSS 3D Layout and open EDB\n",
    "\n",
    "Launch HFSS 3D Layout and open EDB."
   ]
  },
  {
   "cell_type": "code",
   "execution_count": 22,
   "id": "ba872753",
   "metadata": {
    "execution": {
     "iopub.execute_input": "2024-09-29T08:51:28.502212Z",
     "iopub.status.busy": "2024-09-29T08:51:28.502212Z",
     "iopub.status.idle": "2024-09-29T08:52:06.686315Z",
     "shell.execute_reply": "2024-09-29T08:52:06.686315Z"
    }
   },
   "outputs": [
    {
     "name": "stdout",
     "output_type": "stream",
     "text": [
      "PyAEDT WARNING: Argument `projectname` is deprecated for method `__init__`; use `project` instead.\n"
     ]
    },
    {
     "name": "stdout",
     "output_type": "stream",
     "text": [
      "PyAEDT WARNING: Argument `specified_version` is deprecated for method `__init__`; use `version` instead.\n"
     ]
    },
    {
     "name": "stdout",
     "output_type": "stream",
     "text": [
      "PyAEDT WARNING: Argument `new_desktop_session` is deprecated for method `__init__`; use `new_desktop` instead.\n"
     ]
    },
    {
     "name": "stdout",
     "output_type": "stream",
     "text": [
      "PyAEDT INFO: Python version 3.10.11 (tags/v3.10.11:7d4cc5a, Apr  5 2023, 00:38:17) [MSC v.1929 64 bit (AMD64)]\n"
     ]
    },
    {
     "name": "stdout",
     "output_type": "stream",
     "text": [
      "PyAEDT INFO: PyAEDT version 0.11.dev0.\n"
     ]
    },
    {
     "name": "stdout",
     "output_type": "stream",
     "text": [
      "PyAEDT INFO: Initializing new Desktop session.\n"
     ]
    },
    {
     "name": "stdout",
     "output_type": "stream",
     "text": [
      "PyAEDT INFO: Log on console is enabled.\n"
     ]
    },
    {
     "name": "stdout",
     "output_type": "stream",
     "text": [
      "PyAEDT INFO: Log on file C:\\Users\\ansys\\AppData\\Local\\Temp\\pyaedt_ansys_4917f23a-8eb9-474e-9953-63c8d0805995.log is enabled.\n"
     ]
    },
    {
     "name": "stdout",
     "output_type": "stream",
     "text": [
      "PyAEDT INFO: Log on AEDT is enabled.\n"
     ]
    },
    {
     "name": "stdout",
     "output_type": "stream",
     "text": [
      "PyAEDT INFO: Debug logger is disabled. PyAEDT methods will not be logged.\n"
     ]
    },
    {
     "name": "stdout",
     "output_type": "stream",
     "text": [
      "PyAEDT INFO: Launching PyAEDT with gRPC plugin.\n"
     ]
    },
    {
     "name": "stdout",
     "output_type": "stream",
     "text": [
      "PyAEDT INFO: New AEDT session is starting on gRPC port 63902\n"
     ]
    },
    {
     "name": "stdout",
     "output_type": "stream",
     "text": [
      "PyAEDT INFO: AEDT installation Path C:\\Program Files\\AnsysEM\\v242\\Win64\n"
     ]
    },
    {
     "name": "stdout",
     "output_type": "stream",
     "text": [
      "PyAEDT INFO: Ansoft.ElectronicsDesktop.2024.2 version started with process ID 8888.\n"
     ]
    },
    {
     "name": "stdout",
     "output_type": "stream",
     "text": [
      "PyAEDT INFO: EDB folder C:\\Users\\ansys\\AppData\\Local\\Temp\\pcb_FH37BB.aedb has been imported to project pcb_FH37BB\n"
     ]
    },
    {
     "name": "stdout",
     "output_type": "stream",
     "text": [
      "PyAEDT INFO: Active Design set to 0;Cell_LR9VYK\n"
     ]
    },
    {
     "name": "stdout",
     "output_type": "stream",
     "text": [
      "PyAEDT INFO: Aedt Objects correctly read\n"
     ]
    }
   ],
   "source": [
    "h3d = Hfss3dLayout(\n",
    "    projectname=aedb_path, specified_version=\"2024.2\", new_desktop_session=True, non_graphical=non_graphical\n",
    ")"
   ]
  },
  {
   "cell_type": "markdown",
   "id": "818eec98",
   "metadata": {},
   "source": [
    "## Plot geometry\n",
    "\n",
    "Plot the geometry. The EDB methods are also accessible from the ``Hfss3dlayout`` class."
   ]
  },
  {
   "cell_type": "code",
   "execution_count": 23,
   "id": "af4ec47f",
   "metadata": {
    "execution": {
     "iopub.execute_input": "2024-09-29T08:52:06.686315Z",
     "iopub.status.busy": "2024-09-29T08:52:06.686315Z",
     "iopub.status.idle": "2024-09-29T08:52:06.797063Z",
     "shell.execute_reply": "2024-09-29T08:52:06.797063Z"
    }
   },
   "outputs": [
    {
     "name": "stdout",
     "output_type": "stream",
     "text": [
      "PyAEDT INFO: Loading Modeler.\n"
     ]
    },
    {
     "name": "stdout",
     "output_type": "stream",
     "text": [
      "PyAEDT INFO: Modeler loaded.\n"
     ]
    },
    {
     "name": "stdout",
     "output_type": "stream",
     "text": [
      "PyAEDT INFO: EDB loaded.\n"
     ]
    },
    {
     "name": "stdout",
     "output_type": "stream",
     "text": [
      "PyAEDT INFO: Layers loaded.\n"
     ]
    },
    {
     "name": "stdout",
     "output_type": "stream",
     "text": [
      "PyAEDT INFO: Primitives loaded.\n"
     ]
    },
    {
     "name": "stdout",
     "output_type": "stream",
     "text": [
      "PyAEDT INFO: Modeler class has been initialized! Elapsed time: 0m 0sec\n"
     ]
    },
    {
     "name": "stdout",
     "output_type": "stream",
     "text": [
      "PyAEDT INFO: Logger is initialized in EDB.\n"
     ]
    },
    {
     "name": "stdout",
     "output_type": "stream",
     "text": [
      "PyAEDT INFO: legacy v0.29.0\n"
     ]
    },
    {
     "name": "stdout",
     "output_type": "stream",
     "text": [
      "PyAEDT INFO: Python version 3.10.11 (tags/v3.10.11:7d4cc5a, Apr  5 2023, 00:38:17) [MSC v.1929 64 bit (AMD64)]\n"
     ]
    },
    {
     "name": "stdout",
     "output_type": "stream",
     "text": [
      "PyAEDT INFO: Database pcb_FH37BB.aedb Opened in 2024.2\n"
     ]
    },
    {
     "name": "stdout",
     "output_type": "stream",
     "text": [
      "PyAEDT INFO: Cell Cell_LR9VYK Opened\n"
     ]
    },
    {
     "name": "stdout",
     "output_type": "stream",
     "text": [
      "PyAEDT INFO: Builder was initialized.\n"
     ]
    },
    {
     "name": "stdout",
     "output_type": "stream",
     "text": [
      "PyAEDT INFO: EDB initialized.\n"
     ]
    },
    {
     "name": "stdout",
     "output_type": "stream",
     "text": [
      "PyAEDT INFO: Nets Point Generation time 0.031 seconds\n"
     ]
    },
    {
     "data": {
      "text/plain": [
       "<module 'matplotlib.pyplot' from 'C:\\\\actions-runner\\\\_work\\\\pyedb\\\\pyedb\\\\.venv\\\\lib\\\\site-packages\\\\matplotlib\\\\pyplot.py'>"
      ]
     },
     "execution_count": 23,
     "metadata": {},
     "output_type": "execute_result"
    }
   ],
   "source": [
    "h3d.modeler.edb.nets.plot(None)"
   ]
  },
  {
   "cell_type": "markdown",
   "id": "bb55db5a",
   "metadata": {},
   "source": [
    "## Create setup and sweeps\n",
    "\n",
    "Getters and setters facilitate the settings on the nested property dictionary.\n",
    "Previously, you had to use these commands:\n",
    "\n",
    "``setup.props[\"AdaptiveSettings\"][\"SingleFrequencyDataList\"][\"AdaptiveFrequencyData\"][\"AdaptiveFrequency\"] = \"20GHz\"``\n",
    "``setup.props[\"AdaptiveSettings\"][\"SingleFrequencyDataList\"][\"AdaptiveFrequencyData\"][\"MaxPasses\"] = 4``\n",
    "\n",
    "You can now use the simpler approach that follows."
   ]
  },
  {
   "cell_type": "code",
   "execution_count": 24,
   "id": "07cf1e73",
   "metadata": {
    "execution": {
     "iopub.execute_input": "2024-09-29T08:52:06.797063Z",
     "iopub.status.busy": "2024-09-29T08:52:06.797063Z",
     "iopub.status.idle": "2024-09-29T08:52:06.876328Z",
     "shell.execute_reply": "2024-09-29T08:52:06.875326Z"
    }
   },
   "outputs": [],
   "source": [
    "setup = h3d.create_setup()"
   ]
  },
  {
   "cell_type": "code",
   "execution_count": 25,
   "id": "8ab18642",
   "metadata": {
    "execution": {
     "iopub.execute_input": "2024-09-29T08:52:06.876328Z",
     "iopub.status.busy": "2024-09-29T08:52:06.876328Z",
     "iopub.status.idle": "2024-09-29T08:52:07.033892Z",
     "shell.execute_reply": "2024-09-29T08:52:07.033892Z"
    }
   },
   "outputs": [
    {
     "name": "stdout",
     "output_type": "stream",
     "text": [
      "PyAEDT WARNING: Argument `setupname` is deprecated for method `create_linear_count_sweep`; use `setup` instead.\n"
     ]
    },
    {
     "name": "stdout",
     "output_type": "stream",
     "text": [
      "PyAEDT WARNING: Argument `freqstart` is deprecated for method `create_linear_count_sweep`; use `start_frequency` instead.\n"
     ]
    },
    {
     "name": "stdout",
     "output_type": "stream",
     "text": [
      "PyAEDT WARNING: Argument `freqstop` is deprecated for method `create_linear_count_sweep`; use `stop_frequency` instead.\n"
     ]
    },
    {
     "name": "stdout",
     "output_type": "stream",
     "text": [
      "PyAEDT WARNING: Argument `sweepname` is deprecated for method `create_linear_count_sweep`; use `name` instead.\n"
     ]
    },
    {
     "name": "stdout",
     "output_type": "stream",
     "text": [
      "PyAEDT INFO: Linear count sweep sweep1 has been correctly created.\n"
     ]
    },
    {
     "data": {
      "text/plain": [
       "<ansys.aedt.core.modules.solve_sweeps.SweepHFSS3DLayout at 0x29b9b60c8b0>"
      ]
     },
     "execution_count": 25,
     "metadata": {},
     "output_type": "execute_result"
    }
   ],
   "source": [
    "setup[\"AdaptiveFrequency\"] = \"20GHz\"\n",
    "setup[\"AdaptiveSettings/SingleFrequencyDataList/AdaptiveFrequencyData/MaxPasses\"] = 4\n",
    "h3d.create_linear_count_sweep(\n",
    "    setupname=setup.name,\n",
    "    unit=\"GHz\",\n",
    "    freqstart=20,\n",
    "    freqstop=50,\n",
    "    num_of_freq_points=1001,\n",
    "    sweepname=\"sweep1\",\n",
    "    sweep_type=\"Interpolating\",\n",
    "    interpolation_tol_percent=1,\n",
    "    interpolation_max_solutions=255,\n",
    "    save_fields=False,\n",
    "    use_q3d_for_dc=False,\n",
    ")"
   ]
  },
  {
   "cell_type": "markdown",
   "id": "68e601c7",
   "metadata": {},
   "source": [
    "## Solve setup and create report\n",
    "\n",
    "Solve the project and create a report."
   ]
  },
  {
   "cell_type": "code",
   "execution_count": 26,
   "id": "0a51d20c",
   "metadata": {
    "execution": {
     "iopub.execute_input": "2024-09-29T08:52:07.033892Z",
     "iopub.status.busy": "2024-09-29T08:52:07.033892Z",
     "iopub.status.idle": "2024-09-29T08:53:38.170420Z",
     "shell.execute_reply": "2024-09-29T08:53:38.170420Z"
    },
    "lines_to_next_cell": 2
   },
   "outputs": [
    {
     "name": "stdout",
     "output_type": "stream",
     "text": [
      "PyAEDT INFO: Key Desktop/ActiveDSOConfigurations/HFSS 3D Layout Design correctly changed.\n"
     ]
    },
    {
     "name": "stdout",
     "output_type": "stream",
     "text": [
      "PyAEDT INFO: Solving all design setups.\n"
     ]
    },
    {
     "name": "stdout",
     "output_type": "stream",
     "text": [
      "PyAEDT INFO: Key Desktop/ActiveDSOConfigurations/HFSS 3D Layout Design correctly changed.\n"
     ]
    },
    {
     "name": "stdout",
     "output_type": "stream",
     "text": [
      "PyAEDT INFO: Design setup None solved correctly in 0.0h 1.0m 27.0s\n"
     ]
    },
    {
     "name": "stdout",
     "output_type": "stream",
     "text": [
      "PyAEDT INFO: Parsing C:/Users/ansys/AppData/Local/Temp/pcb_FH37BB.aedt.\n"
     ]
    },
    {
     "name": "stdout",
     "output_type": "stream",
     "text": [
      "PyAEDT INFO: File C:/Users/ansys/AppData/Local/Temp/pcb_FH37BB.aedt correctly loaded. Elapsed time: 0m 0sec\n"
     ]
    },
    {
     "name": "stdout",
     "output_type": "stream",
     "text": [
      "PyAEDT INFO: aedt file load time 0.03242778778076172\n"
     ]
    },
    {
     "name": "stdout",
     "output_type": "stream",
     "text": [
      "PyAEDT INFO: PostProcessor class has been initialized! Elapsed time: 0m 0sec\n"
     ]
    },
    {
     "name": "stdout",
     "output_type": "stream",
     "text": [
      "PyAEDT INFO: Post class has been initialized! Elapsed time: 0m 0sec\n"
     ]
    },
    {
     "data": {
      "text/plain": [
       "<ansys.aedt.core.visualization.report.standard.Standard at 0x29b9ce9a2c0>"
      ]
     },
     "execution_count": 26,
     "metadata": {},
     "output_type": "execute_result"
    }
   ],
   "source": [
    "h3d.analyze()\n",
    "h3d.post.create_report([\"db(S({0},{1}))\".format(port_name, port_name)])"
   ]
  },
  {
   "cell_type": "markdown",
   "id": "5df50e28",
   "metadata": {},
   "source": [
    "## Plot results outside AEDT\n",
    "\n",
    "Plot results using Matplotlib."
   ]
  },
  {
   "cell_type": "code",
   "execution_count": 27,
   "id": "35c3bfd1",
   "metadata": {
    "execution": {
     "iopub.execute_input": "2024-09-29T08:53:38.170420Z",
     "iopub.status.busy": "2024-09-29T08:53:38.170420Z",
     "iopub.status.idle": "2024-09-29T08:53:38.265316Z",
     "shell.execute_reply": "2024-09-29T08:53:38.264155Z"
    }
   },
   "outputs": [
    {
     "name": "stdout",
     "output_type": "stream",
     "text": [
      "PyAEDT INFO: Solution Data Correctly Loaded.\n"
     ]
    },
    {
     "data": {
      "text/plain": [
       "<Figure size 2000x1000 with 1 Axes>"
      ]
     },
     "execution_count": 27,
     "metadata": {},
     "output_type": "execute_result"
    }
   ],
   "source": [
    "solution = h3d.post.get_solution_data([\"S({0},{1})\".format(port_name, port_name)])\n",
    "solution.plot()"
   ]
  },
  {
   "cell_type": "markdown",
   "id": "e7c26bf5",
   "metadata": {},
   "source": [
    "## Close AEDT\n",
    "\n",
    "After the simulation completes, you can close AEDT or release it using the\n",
    ":func:`dotnet.Desktop.release_desktop` method.\n",
    "All methods provide for saving the project before closing AEDT."
   ]
  },
  {
   "cell_type": "code",
   "execution_count": 28,
   "id": "f94b4e03",
   "metadata": {
    "execution": {
     "iopub.execute_input": "2024-09-29T08:53:38.265316Z",
     "iopub.status.busy": "2024-09-29T08:53:38.265316Z",
     "iopub.status.idle": "2024-09-29T08:53:42.060493Z",
     "shell.execute_reply": "2024-09-29T08:53:42.060493Z"
    }
   },
   "outputs": [
    {
     "name": "stdout",
     "output_type": "stream",
     "text": [
      "PyAEDT INFO: Project pcb_FH37BB Saved correctly\n"
     ]
    },
    {
     "name": "stdout",
     "output_type": "stream",
     "text": [
      "PyAEDT INFO: Desktop has been released and closed.\n"
     ]
    },
    {
     "data": {
      "text/plain": [
       "True"
      ]
     },
     "execution_count": 28,
     "metadata": {},
     "output_type": "execute_result"
    }
   ],
   "source": [
    "h3d.save_project()\n",
    "h3d.release_desktop()"
   ]
  }
 ],
 "metadata": {
  "jupytext": {
   "cell_metadata_filter": "-all",
   "main_language": "python",
   "notebook_metadata_filter": "-all",
   "text_representation": {
    "extension": ".py",
    "format_name": "light"
   }
  },
  "language_info": {
   "codemirror_mode": {
    "name": "ipython",
    "version": 3
   },
   "file_extension": ".py",
   "mimetype": "text/x-python",
   "name": "python",
   "nbconvert_exporter": "python",
   "pygments_lexer": "ipython3",
   "version": "3.10.11"
  }
 },
 "nbformat": 4,
 "nbformat_minor": 5
}
