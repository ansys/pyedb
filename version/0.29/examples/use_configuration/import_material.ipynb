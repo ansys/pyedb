{
 "cells": [
  {
   "cell_type": "markdown",
   "id": "75fccf6d",
   "metadata": {},
   "source": [
    "# Import Materials\n",
    "This example shows how to import materials."
   ]
  },
  {
   "cell_type": "markdown",
   "id": "6b3f733e",
   "metadata": {},
   "source": [
    "### Import the required packages"
   ]
  },
  {
   "cell_type": "code",
   "execution_count": 1,
   "id": "77d7f381",
   "metadata": {
    "execution": {
     "iopub.execute_input": "2024-09-29T09:13:53.151147Z",
     "iopub.status.busy": "2024-09-29T09:13:53.151147Z",
     "iopub.status.idle": "2024-09-29T09:13:54.182407Z",
     "shell.execute_reply": "2024-09-29T09:13:54.182407Z"
    }
   },
   "outputs": [],
   "source": [
    "import json\n",
    "from pathlib import Path\n",
    "import tempfile\n",
    "\n",
    "from IPython.display import display\n",
    "from ansys.aedt.core.downloads import download_file\n",
    "import pandas as pd\n",
    "\n",
    "from pyedb import Edb\n",
    "\n",
    "AEDT_VERSION = \"2024.2\"\n",
    "NG_MODE = False\n"
   ]
  },
  {
   "cell_type": "markdown",
   "id": "550a4621",
   "metadata": {},
   "source": [
    "Download the example PCB data."
   ]
  },
  {
   "cell_type": "code",
   "execution_count": 2,
   "id": "c01a75df",
   "metadata": {
    "execution": {
     "iopub.execute_input": "2024-09-29T09:13:54.182407Z",
     "iopub.status.busy": "2024-09-29T09:13:54.182407Z",
     "iopub.status.idle": "2024-09-29T09:13:54.604329Z",
     "shell.execute_reply": "2024-09-29T09:13:54.604329Z"
    }
   },
   "outputs": [],
   "source": [
    "temp_folder = tempfile.TemporaryDirectory(suffix=\".ansys\")\n",
    "file_edb = download_file(source=\"edb/ANSYS-HSD_V1.aedb\", destination=temp_folder.name)"
   ]
  },
  {
   "cell_type": "markdown",
   "id": "89d78630",
   "metadata": {},
   "source": [
    "## Load example layout."
   ]
  },
  {
   "cell_type": "code",
   "execution_count": 3,
   "id": "4051aeb0",
   "metadata": {
    "execution": {
     "iopub.execute_input": "2024-09-29T09:13:54.604329Z",
     "iopub.status.busy": "2024-09-29T09:13:54.604329Z",
     "iopub.status.idle": "2024-09-29T09:14:07.201280Z",
     "shell.execute_reply": "2024-09-29T09:14:07.201280Z"
    }
   },
   "outputs": [
    {
     "name": "stdout",
     "output_type": "stream",
     "text": [
      "PyAEDT INFO: Logger is initialized in EDB.\n"
     ]
    },
    {
     "name": "stdout",
     "output_type": "stream",
     "text": [
      "PyAEDT INFO: legacy v0.29.0\n"
     ]
    },
    {
     "name": "stdout",
     "output_type": "stream",
     "text": [
      "PyAEDT INFO: Python version 3.10.11 (tags/v3.10.11:7d4cc5a, Apr  5 2023, 00:38:17) [MSC v.1929 64 bit (AMD64)]\n"
     ]
    },
    {
     "name": "stdout",
     "output_type": "stream",
     "text": [
      "PyAEDT INFO: Database ANSYS-HSD_V1.aedb Opened in 2024.2\n"
     ]
    },
    {
     "name": "stdout",
     "output_type": "stream",
     "text": [
      "PyAEDT INFO: Cell main Opened\n"
     ]
    },
    {
     "name": "stdout",
     "output_type": "stream",
     "text": [
      "PyAEDT INFO: Builder was initialized.\n"
     ]
    },
    {
     "name": "stdout",
     "output_type": "stream",
     "text": [
      "PyAEDT INFO: EDB initialized.\n"
     ]
    }
   ],
   "source": [
    "edbapp = Edb(file_edb, edbversion=AEDT_VERSION)"
   ]
  },
  {
   "cell_type": "markdown",
   "id": "82ee03bc",
   "metadata": {},
   "source": [
    "## Review materials from layout"
   ]
  },
  {
   "cell_type": "markdown",
   "id": "5f0f4403",
   "metadata": {},
   "source": [
    "Get materials from layout in a dictionary. Materials are exported together with stadckup."
   ]
  },
  {
   "cell_type": "code",
   "execution_count": 4,
   "id": "c4859df8",
   "metadata": {
    "execution": {
     "iopub.execute_input": "2024-09-29T09:14:07.201280Z",
     "iopub.status.busy": "2024-09-29T09:14:07.201280Z",
     "iopub.status.idle": "2024-09-29T09:14:07.248156Z",
     "shell.execute_reply": "2024-09-29T09:14:07.248156Z"
    },
    "lines_to_next_cell": 2
   },
   "outputs": [
    {
     "name": "stdout",
     "output_type": "stream",
     "text": [
      "PyAEDT INFO: Getting data from layout database.\n"
     ]
    }
   ],
   "source": [
    "data_cfg = edbapp.configuration.get_data_from_db(stackup=True)"
   ]
  },
  {
   "cell_type": "code",
   "execution_count": 5,
   "id": "19802179",
   "metadata": {
    "execution": {
     "iopub.execute_input": "2024-09-29T09:14:07.248156Z",
     "iopub.status.busy": "2024-09-29T09:14:07.248156Z",
     "iopub.status.idle": "2024-09-29T09:14:07.279404Z",
     "shell.execute_reply": "2024-09-29T09:14:07.279404Z"
    }
   },
   "outputs": [
    {
     "data": {
      "text/html": [
       "<div>\n",
       "<style scoped>\n",
       "    .dataframe tbody tr th:only-of-type {\n",
       "        vertical-align: middle;\n",
       "    }\n",
       "\n",
       "    .dataframe tbody tr th {\n",
       "        vertical-align: top;\n",
       "    }\n",
       "\n",
       "    .dataframe thead th {\n",
       "        text-align: right;\n",
       "    }\n",
       "</style>\n",
       "<table border=\"1\" class=\"dataframe\">\n",
       "  <thead>\n",
       "    <tr style=\"text-align: right;\">\n",
       "      <th></th>\n",
       "      <th>name</th>\n",
       "      <th>permittivity</th>\n",
       "      <th>conductivity</th>\n",
       "      <th>dielectric_loss_tangent</th>\n",
       "      <th>magnetic_loss_tangent</th>\n",
       "      <th>mass_density</th>\n",
       "      <th>permeability</th>\n",
       "      <th>poisson_ratio</th>\n",
       "      <th>specific_heat</th>\n",
       "      <th>thermal_conductivity</th>\n",
       "    </tr>\n",
       "  </thead>\n",
       "  <tbody>\n",
       "    <tr>\n",
       "      <th>0</th>\n",
       "      <td>copper</td>\n",
       "      <td>0.00</td>\n",
       "      <td>58000000.0</td>\n",
       "      <td>0.000</td>\n",
       "      <td>0.0</td>\n",
       "      <td>0.0</td>\n",
       "      <td>0.0</td>\n",
       "      <td>0.00</td>\n",
       "      <td>0.0</td>\n",
       "      <td>0.000</td>\n",
       "    </tr>\n",
       "    <tr>\n",
       "      <th>1</th>\n",
       "      <td>FR4_epoxy</td>\n",
       "      <td>4.40</td>\n",
       "      <td>0.0</td>\n",
       "      <td>0.020</td>\n",
       "      <td>0.0</td>\n",
       "      <td>1900.0</td>\n",
       "      <td>0.0</td>\n",
       "      <td>0.28</td>\n",
       "      <td>1150.0</td>\n",
       "      <td>0.294</td>\n",
       "    </tr>\n",
       "    <tr>\n",
       "      <th>2</th>\n",
       "      <td>Megtron4</td>\n",
       "      <td>3.77</td>\n",
       "      <td>0.0</td>\n",
       "      <td>0.005</td>\n",
       "      <td>0.0</td>\n",
       "      <td>0.0</td>\n",
       "      <td>0.0</td>\n",
       "      <td>0.00</td>\n",
       "      <td>0.0</td>\n",
       "      <td>0.000</td>\n",
       "    </tr>\n",
       "    <tr>\n",
       "      <th>3</th>\n",
       "      <td>Megtron4_2</td>\n",
       "      <td>3.47</td>\n",
       "      <td>0.0</td>\n",
       "      <td>0.006</td>\n",
       "      <td>0.0</td>\n",
       "      <td>0.0</td>\n",
       "      <td>0.0</td>\n",
       "      <td>0.00</td>\n",
       "      <td>0.0</td>\n",
       "      <td>0.000</td>\n",
       "    </tr>\n",
       "    <tr>\n",
       "      <th>4</th>\n",
       "      <td>Megtron4_3</td>\n",
       "      <td>4.20</td>\n",
       "      <td>0.0</td>\n",
       "      <td>0.005</td>\n",
       "      <td>0.0</td>\n",
       "      <td>0.0</td>\n",
       "      <td>0.0</td>\n",
       "      <td>0.00</td>\n",
       "      <td>0.0</td>\n",
       "      <td>0.000</td>\n",
       "    </tr>\n",
       "    <tr>\n",
       "      <th>5</th>\n",
       "      <td>Solder Resist</td>\n",
       "      <td>3.00</td>\n",
       "      <td>0.0</td>\n",
       "      <td>0.000</td>\n",
       "      <td>0.0</td>\n",
       "      <td>0.0</td>\n",
       "      <td>0.0</td>\n",
       "      <td>0.00</td>\n",
       "      <td>0.0</td>\n",
       "      <td>0.000</td>\n",
       "    </tr>\n",
       "  </tbody>\n",
       "</table>\n",
       "</div>"
      ],
      "text/plain": [
       "            name  permittivity  conductivity  dielectric_loss_tangent  \\\n",
       "0         copper          0.00    58000000.0                    0.000   \n",
       "1      FR4_epoxy          4.40           0.0                    0.020   \n",
       "2       Megtron4          3.77           0.0                    0.005   \n",
       "3     Megtron4_2          3.47           0.0                    0.006   \n",
       "4     Megtron4_3          4.20           0.0                    0.005   \n",
       "5  Solder Resist          3.00           0.0                    0.000   \n",
       "\n",
       "   magnetic_loss_tangent  mass_density  permeability  poisson_ratio  \\\n",
       "0                    0.0           0.0           0.0           0.00   \n",
       "1                    0.0        1900.0           0.0           0.28   \n",
       "2                    0.0           0.0           0.0           0.00   \n",
       "3                    0.0           0.0           0.0           0.00   \n",
       "4                    0.0           0.0           0.0           0.00   \n",
       "5                    0.0           0.0           0.0           0.00   \n",
       "\n",
       "   specific_heat  thermal_conductivity  \n",
       "0            0.0                 0.000  \n",
       "1         1150.0                 0.294  \n",
       "2            0.0                 0.000  \n",
       "3            0.0                 0.000  \n",
       "4            0.0                 0.000  \n",
       "5            0.0                 0.000  "
      ]
     },
     "metadata": {},
     "output_type": "display_data"
    }
   ],
   "source": [
    "df = pd.DataFrame(data=data_cfg[\"stackup\"][\"materials\"])\n",
    "display(df)"
   ]
  },
  {
   "cell_type": "markdown",
   "id": "da989006",
   "metadata": {},
   "source": [
    "## Add a new material"
   ]
  },
  {
   "cell_type": "code",
   "execution_count": 6,
   "id": "9fa571cd",
   "metadata": {
    "execution": {
     "iopub.execute_input": "2024-09-29T09:14:07.279404Z",
     "iopub.status.busy": "2024-09-29T09:14:07.279404Z",
     "iopub.status.idle": "2024-09-29T09:14:07.295032Z",
     "shell.execute_reply": "2024-09-29T09:14:07.295032Z"
    }
   },
   "outputs": [],
   "source": [
    "data_cfg[\"stackup\"][\"materials\"].append(\n",
    "    {\"name\": \"soldermask\", \"permittivity\": 3.3, \"dielectric_loss_tangent\": 0.02},\n",
    ")"
   ]
  },
  {
   "cell_type": "markdown",
   "id": "7493aef4",
   "metadata": {},
   "source": [
    "## Edit existing material properties"
   ]
  },
  {
   "cell_type": "code",
   "execution_count": 7,
   "id": "4bf60ba3",
   "metadata": {
    "execution": {
     "iopub.execute_input": "2024-09-29T09:14:07.295032Z",
     "iopub.status.busy": "2024-09-29T09:14:07.295032Z",
     "iopub.status.idle": "2024-09-29T09:14:07.310654Z",
     "shell.execute_reply": "2024-09-29T09:14:07.310654Z"
    }
   },
   "outputs": [],
   "source": [
    "data_cfg[\"stackup\"][\"materials\"][1][\"name\"] = \"fr4_epoxy\"\n",
    "data_cfg[\"stackup\"][\"materials\"][1][\"dielectric_loss_tangent\"] = 0.015"
   ]
  },
  {
   "cell_type": "markdown",
   "id": "c2919f39",
   "metadata": {},
   "source": [
    "## Review modified materials"
   ]
  },
  {
   "cell_type": "code",
   "execution_count": 8,
   "id": "bcbff95f",
   "metadata": {
    "execution": {
     "iopub.execute_input": "2024-09-29T09:14:07.310654Z",
     "iopub.status.busy": "2024-09-29T09:14:07.310654Z",
     "iopub.status.idle": "2024-09-29T09:14:07.341906Z",
     "shell.execute_reply": "2024-09-29T09:14:07.341906Z"
    }
   },
   "outputs": [
    {
     "data": {
      "text/html": [
       "<div>\n",
       "<style scoped>\n",
       "    .dataframe tbody tr th:only-of-type {\n",
       "        vertical-align: middle;\n",
       "    }\n",
       "\n",
       "    .dataframe tbody tr th {\n",
       "        vertical-align: top;\n",
       "    }\n",
       "\n",
       "    .dataframe thead th {\n",
       "        text-align: right;\n",
       "    }\n",
       "</style>\n",
       "<table border=\"1\" class=\"dataframe\">\n",
       "  <thead>\n",
       "    <tr style=\"text-align: right;\">\n",
       "      <th></th>\n",
       "      <th>name</th>\n",
       "      <th>permittivity</th>\n",
       "      <th>conductivity</th>\n",
       "      <th>dielectric_loss_tangent</th>\n",
       "      <th>magnetic_loss_tangent</th>\n",
       "      <th>mass_density</th>\n",
       "      <th>permeability</th>\n",
       "      <th>poisson_ratio</th>\n",
       "      <th>specific_heat</th>\n",
       "      <th>thermal_conductivity</th>\n",
       "    </tr>\n",
       "  </thead>\n",
       "  <tbody>\n",
       "    <tr>\n",
       "      <th>0</th>\n",
       "      <td>copper</td>\n",
       "      <td>0.00</td>\n",
       "      <td>58000000.0</td>\n",
       "      <td>0.000</td>\n",
       "      <td>0.0</td>\n",
       "      <td>0.0</td>\n",
       "      <td>0.0</td>\n",
       "      <td>0.00</td>\n",
       "      <td>0.0</td>\n",
       "      <td>0.000</td>\n",
       "    </tr>\n",
       "    <tr>\n",
       "      <th>1</th>\n",
       "      <td>fr4_epoxy</td>\n",
       "      <td>4.40</td>\n",
       "      <td>0.0</td>\n",
       "      <td>0.015</td>\n",
       "      <td>0.0</td>\n",
       "      <td>1900.0</td>\n",
       "      <td>0.0</td>\n",
       "      <td>0.28</td>\n",
       "      <td>1150.0</td>\n",
       "      <td>0.294</td>\n",
       "    </tr>\n",
       "    <tr>\n",
       "      <th>2</th>\n",
       "      <td>Megtron4</td>\n",
       "      <td>3.77</td>\n",
       "      <td>0.0</td>\n",
       "      <td>0.005</td>\n",
       "      <td>0.0</td>\n",
       "      <td>0.0</td>\n",
       "      <td>0.0</td>\n",
       "      <td>0.00</td>\n",
       "      <td>0.0</td>\n",
       "      <td>0.000</td>\n",
       "    </tr>\n",
       "    <tr>\n",
       "      <th>3</th>\n",
       "      <td>Megtron4_2</td>\n",
       "      <td>3.47</td>\n",
       "      <td>0.0</td>\n",
       "      <td>0.006</td>\n",
       "      <td>0.0</td>\n",
       "      <td>0.0</td>\n",
       "      <td>0.0</td>\n",
       "      <td>0.00</td>\n",
       "      <td>0.0</td>\n",
       "      <td>0.000</td>\n",
       "    </tr>\n",
       "    <tr>\n",
       "      <th>4</th>\n",
       "      <td>Megtron4_3</td>\n",
       "      <td>4.20</td>\n",
       "      <td>0.0</td>\n",
       "      <td>0.005</td>\n",
       "      <td>0.0</td>\n",
       "      <td>0.0</td>\n",
       "      <td>0.0</td>\n",
       "      <td>0.00</td>\n",
       "      <td>0.0</td>\n",
       "      <td>0.000</td>\n",
       "    </tr>\n",
       "    <tr>\n",
       "      <th>5</th>\n",
       "      <td>Solder Resist</td>\n",
       "      <td>3.00</td>\n",
       "      <td>0.0</td>\n",
       "      <td>0.000</td>\n",
       "      <td>0.0</td>\n",
       "      <td>0.0</td>\n",
       "      <td>0.0</td>\n",
       "      <td>0.00</td>\n",
       "      <td>0.0</td>\n",
       "      <td>0.000</td>\n",
       "    </tr>\n",
       "    <tr>\n",
       "      <th>6</th>\n",
       "      <td>soldermask</td>\n",
       "      <td>3.30</td>\n",
       "      <td>NaN</td>\n",
       "      <td>0.020</td>\n",
       "      <td>NaN</td>\n",
       "      <td>NaN</td>\n",
       "      <td>NaN</td>\n",
       "      <td>NaN</td>\n",
       "      <td>NaN</td>\n",
       "      <td>NaN</td>\n",
       "    </tr>\n",
       "  </tbody>\n",
       "</table>\n",
       "</div>"
      ],
      "text/plain": [
       "            name  permittivity  conductivity  dielectric_loss_tangent  \\\n",
       "0         copper          0.00    58000000.0                    0.000   \n",
       "1      fr4_epoxy          4.40           0.0                    0.015   \n",
       "2       Megtron4          3.77           0.0                    0.005   \n",
       "3     Megtron4_2          3.47           0.0                    0.006   \n",
       "4     Megtron4_3          4.20           0.0                    0.005   \n",
       "5  Solder Resist          3.00           0.0                    0.000   \n",
       "6     soldermask          3.30           NaN                    0.020   \n",
       "\n",
       "   magnetic_loss_tangent  mass_density  permeability  poisson_ratio  \\\n",
       "0                    0.0           0.0           0.0           0.00   \n",
       "1                    0.0        1900.0           0.0           0.28   \n",
       "2                    0.0           0.0           0.0           0.00   \n",
       "3                    0.0           0.0           0.0           0.00   \n",
       "4                    0.0           0.0           0.0           0.00   \n",
       "5                    0.0           0.0           0.0           0.00   \n",
       "6                    NaN           NaN           NaN            NaN   \n",
       "\n",
       "   specific_heat  thermal_conductivity  \n",
       "0            0.0                 0.000  \n",
       "1         1150.0                 0.294  \n",
       "2            0.0                 0.000  \n",
       "3            0.0                 0.000  \n",
       "4            0.0                 0.000  \n",
       "5            0.0                 0.000  \n",
       "6            NaN                   NaN  "
      ]
     },
     "metadata": {},
     "output_type": "display_data"
    }
   ],
   "source": [
    "df = pd.DataFrame(data=data_cfg[\"stackup\"][\"materials\"])\n",
    "display(df)"
   ]
  },
  {
   "cell_type": "markdown",
   "id": "400fd22b",
   "metadata": {},
   "source": [
    "## Write material definition into a json file"
   ]
  },
  {
   "cell_type": "code",
   "execution_count": 9,
   "id": "1f1309a5",
   "metadata": {
    "execution": {
     "iopub.execute_input": "2024-09-29T09:14:07.341906Z",
     "iopub.status.busy": "2024-09-29T09:14:07.341906Z",
     "iopub.status.idle": "2024-09-29T09:14:07.357531Z",
     "shell.execute_reply": "2024-09-29T09:14:07.357531Z"
    },
    "lines_to_next_cell": 2
   },
   "outputs": [],
   "source": [
    "file_cfg = Path(temp_folder.name) / \"edb_configuration.json\"\n",
    "with open(file_cfg, \"w\") as f:\n",
    "    json.dump(data_cfg, f, indent=4, ensure_ascii=False)"
   ]
  },
  {
   "cell_type": "markdown",
   "id": "68da16bc",
   "metadata": {},
   "source": [
    "## Load materials from json configuration file"
   ]
  },
  {
   "cell_type": "code",
   "execution_count": 10,
   "id": "633aaa05",
   "metadata": {
    "execution": {
     "iopub.execute_input": "2024-09-29T09:14:07.357531Z",
     "iopub.status.busy": "2024-09-29T09:14:07.357531Z",
     "iopub.status.idle": "2024-09-29T09:14:14.623276Z",
     "shell.execute_reply": "2024-09-29T09:14:14.623276Z"
    }
   },
   "outputs": [
    {
     "data": {
      "text/plain": [
       "<pyedb.configuration.cfg_data.CfgData at 0x1c71da41e40>"
      ]
     },
     "execution_count": 10,
     "metadata": {},
     "output_type": "execute_result"
    }
   ],
   "source": [
    "edbapp.configuration.load(str(file_cfg), apply_file=True)"
   ]
  },
  {
   "cell_type": "markdown",
   "id": "efd16cf0",
   "metadata": {},
   "source": [
    "## Review materials from layout"
   ]
  },
  {
   "cell_type": "code",
   "execution_count": 11,
   "id": "bffbd149",
   "metadata": {
    "execution": {
     "iopub.execute_input": "2024-09-29T09:14:14.623276Z",
     "iopub.status.busy": "2024-09-29T09:14:14.623276Z",
     "iopub.status.idle": "2024-09-29T09:14:14.638878Z",
     "shell.execute_reply": "2024-09-29T09:14:14.638878Z"
    }
   },
   "outputs": [
    {
     "data": {
      "text/plain": [
       "{'copper': <pyedb.dotnet.edb_core.materials.Material at 0x1c71f13cf00>,\n",
       " 'fr4_epoxy': <pyedb.dotnet.edb_core.materials.Material at 0x1c71f13d080>,\n",
       " 'Megtron4': <pyedb.dotnet.edb_core.materials.Material at 0x1c71f13c180>,\n",
       " 'Megtron4_2': <pyedb.dotnet.edb_core.materials.Material at 0x1c71f13c940>,\n",
       " 'Megtron4_3': <pyedb.dotnet.edb_core.materials.Material at 0x1c71f13c1c0>,\n",
       " 'Solder Resist': <pyedb.dotnet.edb_core.materials.Material at 0x1c71f13c5c0>,\n",
       " 'soldermask': <pyedb.dotnet.edb_core.materials.Material at 0x1c71f13c300>}"
      ]
     },
     "execution_count": 11,
     "metadata": {},
     "output_type": "execute_result"
    }
   ],
   "source": [
    "edbapp.materials.materials"
   ]
  },
  {
   "cell_type": "markdown",
   "id": "a80b695d",
   "metadata": {},
   "source": [
    "## Check modified material properties"
   ]
  },
  {
   "cell_type": "code",
   "execution_count": 12,
   "id": "52c43028",
   "metadata": {
    "execution": {
     "iopub.execute_input": "2024-09-29T09:14:14.638878Z",
     "iopub.status.busy": "2024-09-29T09:14:14.638878Z",
     "iopub.status.idle": "2024-09-29T09:14:14.654503Z",
     "shell.execute_reply": "2024-09-29T09:14:14.654503Z"
    }
   },
   "outputs": [
    {
     "data": {
      "text/plain": [
       "0.015"
      ]
     },
     "execution_count": 12,
     "metadata": {},
     "output_type": "execute_result"
    }
   ],
   "source": [
    "edbapp.materials[\"fr4_epoxy\"].loss_tangent"
   ]
  },
  {
   "cell_type": "markdown",
   "id": "c0091cfc",
   "metadata": {},
   "source": [
    "## Save and close Edb\n",
    "The temporary folder will be deleted once the execution of this script is finished. Replace **edbapp.save()** with\n",
    "**edbapp.save_as(\"C:/example.aedb\")** to keep the example project."
   ]
  },
  {
   "cell_type": "code",
   "execution_count": 13,
   "id": "eae58516",
   "metadata": {
    "execution": {
     "iopub.execute_input": "2024-09-29T09:14:14.654503Z",
     "iopub.status.busy": "2024-09-29T09:14:14.654503Z",
     "iopub.status.idle": "2024-09-29T09:14:14.857581Z",
     "shell.execute_reply": "2024-09-29T09:14:14.857581Z"
    }
   },
   "outputs": [
    {
     "data": {
      "text/plain": [
       "True"
      ]
     },
     "execution_count": 13,
     "metadata": {},
     "output_type": "execute_result"
    }
   ],
   "source": [
    "edbapp.save()\n",
    "edbapp.close()"
   ]
  }
 ],
 "metadata": {
  "jupytext": {
   "cell_metadata_filter": "-all",
   "main_language": "python",
   "notebook_metadata_filter": "-all",
   "text_representation": {
    "extension": ".py",
    "format_name": "light"
   }
  },
  "language_info": {
   "codemirror_mode": {
    "name": "ipython",
    "version": 3
   },
   "file_extension": ".py",
   "mimetype": "text/x-python",
   "name": "python",
   "nbconvert_exporter": "python",
   "pygments_lexer": "ipython3",
   "version": "3.10.11"
  }
 },
 "nbformat": 4,
 "nbformat_minor": 5
}
