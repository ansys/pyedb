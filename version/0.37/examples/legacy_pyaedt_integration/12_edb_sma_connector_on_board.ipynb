{
 "cells": [
  {
   "cell_type": "markdown",
   "id": "1a7b6bec",
   "metadata": {},
   "source": [
    "# EDB: geometry creation\n",
    "\n",
    "This example shows how to\n",
    "1. Create a parameterized PCB with an SMA connector footprint for a single-ended\n",
    "  SMA connector launch footprint..\n",
    "2. Place 3D component on PCB.\n",
    "3. Create HFSS setup and frequency sweep with a mesh operation.\n",
    "4. Create return loss plot"
   ]
  },
  {
   "cell_type": "markdown",
   "id": "cb973ade",
   "metadata": {},
   "source": [
    "## See the finished project\n",
    "\n",
    "<img src=\"_static\\edb_example_12_sma_connector_on_board.png\" width=\"450\">"
   ]
  },
  {
   "cell_type": "markdown",
   "id": "16ead309",
   "metadata": {},
   "source": [
    "## Create a parameterized PCB\n",
    "\n",
    "Import dependencies."
   ]
  },
  {
   "cell_type": "code",
   "execution_count": 1,
   "id": "215d9adb",
   "metadata": {
    "execution": {
     "iopub.execute_input": "2025-02-03T13:44:30.076519Z",
     "iopub.status.busy": "2025-02-03T13:44:30.076519Z",
     "iopub.status.idle": "2025-02-03T13:44:30.092087Z",
     "shell.execute_reply": "2025-02-03T13:44:30.092087Z"
    }
   },
   "outputs": [],
   "source": [
    "import os\n",
    "import tempfile"
   ]
  },
  {
   "cell_type": "code",
   "execution_count": 2,
   "id": "3015ef7c",
   "metadata": {
    "execution": {
     "iopub.execute_input": "2025-02-03T13:44:30.092087Z",
     "iopub.status.busy": "2025-02-03T13:44:30.092087Z",
     "iopub.status.idle": "2025-02-03T13:44:30.670218Z",
     "shell.execute_reply": "2025-02-03T13:44:30.670218Z"
    }
   },
   "outputs": [],
   "source": [
    "import ansys.aedt.core\n",
    "import numpy as np"
   ]
  },
  {
   "cell_type": "code",
   "execution_count": 3,
   "id": "8e851318",
   "metadata": {
    "execution": {
     "iopub.execute_input": "2025-02-03T13:44:30.670218Z",
     "iopub.status.busy": "2025-02-03T13:44:30.670218Z",
     "iopub.status.idle": "2025-02-03T13:44:30.701468Z",
     "shell.execute_reply": "2025-02-03T13:44:30.701468Z"
    }
   },
   "outputs": [],
   "source": [
    "import pyedb\n",
    "from pyedb.misc.downloads import download_file"
   ]
  },
  {
   "cell_type": "markdown",
   "id": "0acc2ce6",
   "metadata": {},
   "source": [
    "Create the EDB."
   ]
  },
  {
   "cell_type": "code",
   "execution_count": 4,
   "id": "8d9b8e49",
   "metadata": {
    "execution": {
     "iopub.execute_input": "2025-02-03T13:44:30.701468Z",
     "iopub.status.busy": "2025-02-03T13:44:30.701468Z",
     "iopub.status.idle": "2025-02-03T13:44:43.001684Z",
     "shell.execute_reply": "2025-02-03T13:44:43.001684Z"
    },
    "lines_to_next_cell": 2
   },
   "outputs": [
    {
     "name": "stdout",
     "output_type": "stream",
     "text": [
      "EDB version: 2024.2\n",
      "AEDB file is located in C:\\Users\\ansys\\AppData\\Local\\Temp\\tmppnzdhv2l.ansys\\pcb.aedb\n"
     ]
    },
    {
     "name": "stdout",
     "output_type": "stream",
     "text": [
      "PyAEDT INFO: Logger is initialized in EDB.\n"
     ]
    },
    {
     "name": "stdout",
     "output_type": "stream",
     "text": [
      "PyAEDT INFO: legacy v0.37.0\n"
     ]
    },
    {
     "name": "stdout",
     "output_type": "stream",
     "text": [
      "PyAEDT INFO: Python version 3.10.11 (tags/v3.10.11:7d4cc5a, Apr  5 2023, 00:38:17) [MSC v.1929 64 bit (AMD64)]\n"
     ]
    },
    {
     "name": "stdout",
     "output_type": "stream",
     "text": [
      "PyAEDT INFO: EDB C:\\Users\\ansys\\AppData\\Local\\Temp\\tmppnzdhv2l.ansys\\pcb.aedb created correctly.\n"
     ]
    },
    {
     "name": "stdout",
     "output_type": "stream",
     "text": [
      "PyAEDT INFO: EDB initialized.\n"
     ]
    }
   ],
   "source": [
    "temp_dir = tempfile.TemporaryDirectory(suffix=\".ansys\")\n",
    "working_folder = temp_dir.name\n",
    "\n",
    "# Select EDB version (change it manually if needed, e.g. \"2024.2\")\n",
    "edb_version = \"2024.2\"\n",
    "print(f\"EDB version: {edb_version}\")\n",
    "\n",
    "aedb_path = os.path.join(working_folder, \"pcb.aedb\")\n",
    "print(\"AEDB file is located in {}\".format(aedb_path))\n",
    "\n",
    "edb = pyedb.Edb(edbpath=aedb_path, edbversion=edb_version)"
   ]
  },
  {
   "cell_type": "markdown",
   "id": "8e1e8f4d",
   "metadata": {},
   "source": [
    "## Create Stackup\n",
    "\n",
    "While this code explicitly defines the stackup, you can import it\n",
    "from a from a CSV or XML file using the\n",
    "``Edb.stackup.load()`` method."
   ]
  },
  {
   "cell_type": "code",
   "execution_count": 5,
   "id": "91df7992",
   "metadata": {
    "execution": {
     "iopub.execute_input": "2025-02-03T13:44:43.001684Z",
     "iopub.status.busy": "2025-02-03T13:44:43.001684Z",
     "iopub.status.idle": "2025-02-03T13:44:43.033292Z",
     "shell.execute_reply": "2025-02-03T13:44:43.033292Z"
    }
   },
   "outputs": [
    {
     "data": {
      "text/plain": [
       "(True, <Ansys.Ansoft.Edb.Utility.VariableServer object at 0x000001DC1C758C80>)"
      ]
     },
     "execution_count": 5,
     "metadata": {},
     "output_type": "execute_result"
    }
   ],
   "source": [
    "edb.add_design_variable(\"$DIEL_T\", \"0.15mm\")"
   ]
  },
  {
   "cell_type": "code",
   "execution_count": 6,
   "id": "40cdc741",
   "metadata": {
    "execution": {
     "iopub.execute_input": "2025-02-03T13:44:43.033292Z",
     "iopub.status.busy": "2025-02-03T13:44:43.033292Z",
     "iopub.status.idle": "2025-02-03T13:44:43.048979Z",
     "shell.execute_reply": "2025-02-03T13:44:43.048979Z"
    }
   },
   "outputs": [],
   "source": [
    "layers = {\n",
    "    \"materials\": {\"ANSYS_FR4\": {\"permittivity\": 3.5, \"dielectric_loss_tangent\": 0.005}},\n",
    "    \"layers\": {\n",
    "        \"TOP\": {\"type\": \"signal\", \"thickness\": \"0.05\"},\n",
    "        \"D1\": {\"type\": \"dielectric\", \"thickness\": \"$DIEL_T\", \"material\": \"ANSYS_FR4\"},\n",
    "        \"L2\": {\"type\": \"signal\", \"thickness\": \"0.05\"},\n",
    "        \"D2\": {\"type\": \"dielectric\", \"thickness\": \"$DIEL_T\", \"material\": \"ANSYS_FR4\"},\n",
    "        \"L3\": {\"type\": \"signal\", \"thickness\": \"0.05\"},\n",
    "        \"D3\": {\"type\": \"dielectric\", \"thickness\": \"$DIEL_T\", \"material\": \"ANSYS_FR4\"},\n",
    "        \"L4\": {\"type\": \"signal\", \"thickness\": \"0.05\"},\n",
    "        \"D4\": {\"type\": \"dielectric\", \"thickness\": \"$DIEL_T\", \"material\": \"ANSYS_FR4\"},\n",
    "        \"L5\": {\"type\": \"signal\", \"thickness\": \"0.05\"},\n",
    "        \"D5\": {\"type\": \"dielectric\", \"thickness\": \"$DIEL_T\", \"material\": \"ANSYS_FR4\"},\n",
    "        \"BOT\": {\"type\": \"signal\", \"thickness\": \"0.035\"},\n",
    "    },\n",
    "}"
   ]
  },
  {
   "cell_type": "code",
   "execution_count": 7,
   "id": "88cc4891",
   "metadata": {
    "execution": {
     "iopub.execute_input": "2025-02-03T13:44:43.048979Z",
     "iopub.status.busy": "2025-02-03T13:44:43.048979Z",
     "iopub.status.idle": "2025-02-03T13:44:43.564563Z",
     "shell.execute_reply": "2025-02-03T13:44:43.564563Z"
    },
    "lines_to_next_cell": 2
   },
   "outputs": [
    {
     "data": {
      "text/plain": [
       "True"
      ]
     },
     "execution_count": 7,
     "metadata": {},
     "output_type": "execute_result"
    }
   ],
   "source": [
    "edb.stackup.load(layers)"
   ]
  },
  {
   "cell_type": "markdown",
   "id": "df841deb",
   "metadata": {},
   "source": [
    "Create ground conductors."
   ]
  },
  {
   "cell_type": "code",
   "execution_count": 8,
   "id": "b338863b",
   "metadata": {
    "execution": {
     "iopub.execute_input": "2025-02-03T13:44:43.564563Z",
     "iopub.status.busy": "2025-02-03T13:44:43.564563Z",
     "iopub.status.idle": "2025-02-03T13:44:43.611433Z",
     "shell.execute_reply": "2025-02-03T13:44:43.611433Z"
    }
   },
   "outputs": [],
   "source": [
    "edb.add_design_variable(\"PCB_W\", \"20mm\")\n",
    "edb.add_design_variable(\"PCB_L\", \"20mm\")\n",
    "\n",
    "gnd_dict = {}\n",
    "for layer_name in edb.stackup.signal_layers.keys():\n",
    "    gnd_dict[layer_name] = edb.modeler.create_rectangle(layer_name, \"GND\", [0, \"PCB_W/-2\"], [\"PCB_L\", \"PCB_W/2\"])"
   ]
  },
  {
   "cell_type": "markdown",
   "id": "366f6d65",
   "metadata": {},
   "source": [
    "## Create signal net\n",
    "\n",
    "Create signal net on layer 3, and add clearance to the ground plane."
   ]
  },
  {
   "cell_type": "code",
   "execution_count": 9,
   "id": "80ec4533",
   "metadata": {
    "execution": {
     "iopub.execute_input": "2025-02-03T13:44:43.611433Z",
     "iopub.status.busy": "2025-02-03T13:44:43.611433Z",
     "iopub.status.idle": "2025-02-03T13:44:43.642686Z",
     "shell.execute_reply": "2025-02-03T13:44:43.642686Z"
    }
   },
   "outputs": [
    {
     "data": {
      "text/plain": [
       "True"
      ]
     },
     "execution_count": 9,
     "metadata": {},
     "output_type": "execute_result"
    }
   ],
   "source": [
    "edb.add_design_variable(\"SIG_L\", \"10mm\")\n",
    "edb.add_design_variable(\"SIG_W\", \"0.1mm\")\n",
    "edb.add_design_variable(\"SIG_C\", \"0.3mm\")\n",
    "\n",
    "signal_path = ([\"5mm\", 0], [\"SIG_L+5mm\", 0])\n",
    "signal_trace = edb.modeler.create_trace(signal_path, \"L3\", \"SIG_W\", \"SIG\", \"Flat\", \"Flat\")\n",
    "\n",
    "signal_path = ([\"5mm\", 0], [\"PCB_L\", 0])\n",
    "clr = edb.modeler.create_trace(signal_path, \"L3\", \"SIG_C*2+SIG_W\", \"SIG\", \"Flat\", \"Flat\")\n",
    "gnd_dict[\"L3\"].add_void(clr)"
   ]
  },
  {
   "cell_type": "markdown",
   "id": "6ae36711",
   "metadata": {},
   "source": [
    "## Place signal vias\n",
    "\n",
    "Create the via padstack definition and place the signal vias."
   ]
  },
  {
   "cell_type": "code",
   "execution_count": 10,
   "id": "b7e7477b",
   "metadata": {
    "execution": {
     "iopub.execute_input": "2025-02-03T13:44:43.642686Z",
     "iopub.status.busy": "2025-02-03T13:44:43.642686Z",
     "iopub.status.idle": "2025-02-03T13:44:43.689561Z",
     "shell.execute_reply": "2025-02-03T13:44:43.689561Z"
    }
   },
   "outputs": [
    {
     "name": "stdout",
     "output_type": "stream",
     "text": [
      "PyAEDT INFO: Padstack ANSYS_VIA create correctly\n"
     ]
    },
    {
     "data": {
      "text/plain": [
       "<pyedb.dotnet.edb_core.edb_data.padstacks_data.EDBPadstackInstance at 0x1dc1b603670>"
      ]
     },
     "execution_count": 10,
     "metadata": {},
     "output_type": "execute_result"
    }
   ],
   "source": [
    "edb.add_design_variable(\"SG_VIA_D\", \"1mm\")\n",
    "edb.add_design_variable(\"$VIA_AP_D\", \"1.2mm\")\n",
    "edb.padstacks.create(\"ANSYS_VIA\", \"0.3mm\", \"0.5mm\", \"$VIA_AP_D\")\n",
    "edb.padstacks.place([\"5mm\", 0], \"ANSYS_VIA\", \"SIG\")"
   ]
  },
  {
   "cell_type": "markdown",
   "id": "5181c9a0",
   "metadata": {},
   "source": [
    "Create ground vias around the SMA\n",
    "connector launch footprint. The vias\n",
    "are placed around the circumference\n",
    "of the launch from 35 degrees to 325\n",
    "degrees."
   ]
  },
  {
   "cell_type": "code",
   "execution_count": 11,
   "id": "9acc371b",
   "metadata": {
    "execution": {
     "iopub.execute_input": "2025-02-03T13:44:43.689561Z",
     "iopub.status.busy": "2025-02-03T13:44:43.689561Z",
     "iopub.status.idle": "2025-02-03T13:44:43.783323Z",
     "shell.execute_reply": "2025-02-03T13:44:43.783323Z"
    }
   },
   "outputs": [],
   "source": [
    "for i in np.arange(30, 326, 35):\n",
    "    px = np.cos(i / 180 * np.pi)\n",
    "    py = np.sin(i / 180 * np.pi)\n",
    "    edb.padstacks.place([\"{}*{}+5mm\".format(\"SG_VIA_D\", px), \"{}*{}\".format(\"SG_VIA_D\", py)], \"ANSYS_VIA\", \"GND\")"
   ]
  },
  {
   "cell_type": "markdown",
   "id": "86e8fbde",
   "metadata": {},
   "source": [
    "Create ground vias along the signal trace."
   ]
  },
  {
   "cell_type": "code",
   "execution_count": 12,
   "id": "28017833",
   "metadata": {
    "execution": {
     "iopub.execute_input": "2025-02-03T13:44:43.783323Z",
     "iopub.status.busy": "2025-02-03T13:44:43.783323Z",
     "iopub.status.idle": "2025-02-03T13:44:43.830188Z",
     "shell.execute_reply": "2025-02-03T13:44:43.830188Z"
    }
   },
   "outputs": [],
   "source": [
    "for i in np.arange(2e-3, edb.variables[\"SIG_L\"].value - 2e-3, 2e-3):\n",
    "    edb.padstacks.place([\"{}+5mm\".format(i), \"1mm\"], \"ANSYS_VIA\", \"GND\")\n",
    "    edb.padstacks.place([\"{}+5mm\".format(i), \"-1mm\"], \"ANSYS_VIA\", \"GND\")"
   ]
  },
  {
   "cell_type": "markdown",
   "id": "c7dab34a",
   "metadata": {},
   "source": [
    "Create a wave port at the end of the signal trace."
   ]
  },
  {
   "cell_type": "code",
   "execution_count": 13,
   "id": "a538a4df",
   "metadata": {
    "execution": {
     "iopub.execute_input": "2025-02-03T13:44:43.830188Z",
     "iopub.status.busy": "2025-02-03T13:44:43.830188Z",
     "iopub.status.idle": "2025-02-03T13:44:43.861438Z",
     "shell.execute_reply": "2025-02-03T13:44:43.861438Z"
    }
   },
   "outputs": [
    {
     "data": {
      "text/plain": [
       "('port_1', <pyedb.dotnet.edb_core.edb_data.ports.WavePort at 0x1dc7f0e34c0>)"
      ]
     },
     "execution_count": 13,
     "metadata": {},
     "output_type": "execute_result"
    }
   ],
   "source": [
    "signal_trace.create_edge_port(\"port_1\", \"End\", \"Wave\", horizontal_extent_factor=10)"
   ]
  },
  {
   "cell_type": "markdown",
   "id": "57e405df",
   "metadata": {},
   "source": [
    "## Set up HFSS simulation\n",
    "\n",
    "The ``max_num_passes`` argument sets an upper limit on the\n",
    "number of adaptive passes for mesh refinement.\n",
    "\n",
    "For broadband applications when the simulation results may be used\n",
    "to generate a SPICE model, the outer domain boundary can be\n",
    "located roughly $$ d=\\lambda/8 $$ from the internal structures\n",
    "in the model."
   ]
  },
  {
   "cell_type": "code",
   "execution_count": 14,
   "id": "52c8368e",
   "metadata": {
    "execution": {
     "iopub.execute_input": "2025-02-03T13:44:43.861438Z",
     "iopub.status.busy": "2025-02-03T13:44:43.861438Z",
     "iopub.status.idle": "2025-02-03T13:44:43.939574Z",
     "shell.execute_reply": "2025-02-03T13:44:43.939574Z"
    }
   },
   "outputs": [],
   "source": [
    "extend_domain = 3e11 / 5e9 / 8.0  # Quarter wavelength at 4 GHz.\n",
    "edb.design_options.antipads_always_on = True\n",
    "edb.hfss.hfss_extent_info.air_box_horizontal_extent = extend_domain\n",
    "edb.hfss.hfss_extent_info.air_box_positive_vertical_extent = extend_domain\n",
    "edb.hfss.hfss_extent_info.air_box_negative_vertical_extent = extend_domain\n",
    "\n",
    "setup = edb.create_hfss_setup(\"Setup1\")\n",
    "setup.set_solution_single_frequency(\"5GHz\", max_num_passes=8, max_delta_s=\"0.02\")\n",
    "setup.hfss_solver_settings.order_basis = \"first\""
   ]
  },
  {
   "cell_type": "markdown",
   "id": "5b7ca350",
   "metadata": {},
   "source": [
    "Add a mesh operation to the setup."
   ]
  },
  {
   "cell_type": "code",
   "execution_count": 15,
   "id": "616586c7",
   "metadata": {
    "execution": {
     "iopub.execute_input": "2025-02-03T13:44:43.939574Z",
     "iopub.status.busy": "2025-02-03T13:44:43.939574Z",
     "iopub.status.idle": "2025-02-03T13:44:43.970815Z",
     "shell.execute_reply": "2025-02-03T13:44:43.970815Z"
    }
   },
   "outputs": [
    {
     "data": {
      "text/plain": [
       "<pyedb.dotnet.edb_core.sim_setup_data.data.mesh_operation.LengthMeshOperation at 0x1dc1b68cb20>"
      ]
     },
     "execution_count": 15,
     "metadata": {},
     "output_type": "execute_result"
    }
   ],
   "source": [
    "edb.setups[\"Setup1\"].add_length_mesh_operation({\"SIG\": [\"L3\"]}, \"m1\", max_length=\"0.1mm\")"
   ]
  },
  {
   "cell_type": "markdown",
   "id": "54d4338d",
   "metadata": {},
   "source": [
    "Add a frequency sweep to setup.\n",
    "\n",
    "When the simulation results are to\n",
    "be used for transient SPICE analysis, you should\n",
    "use the following strategy:\n",
    "\n",
    "- DC point\n",
    "- Logarithmic sweep from 1 kHz to 100 MHz\n",
    "- Linear scale for higher frequencies."
   ]
  },
  {
   "cell_type": "code",
   "execution_count": 16,
   "id": "897dc126",
   "metadata": {
    "execution": {
     "iopub.execute_input": "2025-02-03T13:44:43.970815Z",
     "iopub.status.busy": "2025-02-03T13:44:43.970815Z",
     "iopub.status.idle": "2025-02-03T13:44:44.002140Z",
     "shell.execute_reply": "2025-02-03T13:44:44.002140Z"
    }
   },
   "outputs": [
    {
     "data": {
      "text/plain": [
       "<pyedb.dotnet.edb_core.sim_setup_data.data.sweep_data.SweepData at 0x1dc1b603220>"
      ]
     },
     "execution_count": 16,
     "metadata": {},
     "output_type": "execute_result"
    }
   ],
   "source": [
    "setup.add_frequency_sweep(\n",
    "    \"Sweep1\",\n",
    "    frequency_sweep=[\n",
    "        [\"linear count\", \"0\", \"1KHz\", 1],\n",
    "        [\"log scale\", \"1KHz\", \"100MHz\", 10],\n",
    "        [\"linear scale\", \"0.1GHz\", \"5GHz\", \"0.1GHz\"],\n",
    "    ],\n",
    ")"
   ]
  },
  {
   "cell_type": "markdown",
   "id": "8d7f5e03",
   "metadata": {},
   "source": [
    "Save and close EDB."
   ]
  },
  {
   "cell_type": "code",
   "execution_count": 17,
   "id": "2763f67e",
   "metadata": {
    "execution": {
     "iopub.execute_input": "2025-02-03T13:44:44.002140Z",
     "iopub.status.busy": "2025-02-03T13:44:44.002140Z",
     "iopub.status.idle": "2025-02-03T13:44:44.033368Z",
     "shell.execute_reply": "2025-02-03T13:44:44.033368Z"
    }
   },
   "outputs": [
    {
     "name": "stdout",
     "output_type": "stream",
     "text": [
      "PyAEDT INFO: EDB file save time: 0.00ms\n"
     ]
    },
    {
     "name": "stdout",
     "output_type": "stream",
     "text": [
      "PyAEDT INFO: EDB file release time: 0.00ms\n"
     ]
    },
    {
     "data": {
      "text/plain": [
       "True"
      ]
     },
     "execution_count": 17,
     "metadata": {},
     "output_type": "execute_result"
    }
   ],
   "source": [
    "edb.save_edb()\n",
    "edb.close_edb()"
   ]
  },
  {
   "cell_type": "markdown",
   "id": "5176ad8b",
   "metadata": {},
   "source": [
    "Launch HFSS 3D Layout."
   ]
  },
  {
   "cell_type": "code",
   "execution_count": 18,
   "id": "96682c54",
   "metadata": {
    "execution": {
     "iopub.execute_input": "2025-02-03T13:44:44.033368Z",
     "iopub.status.busy": "2025-02-03T13:44:44.033368Z",
     "iopub.status.idle": "2025-02-03T13:45:16.670977Z",
     "shell.execute_reply": "2025-02-03T13:45:16.670977Z"
    }
   },
   "outputs": [
    {
     "name": "stdout",
     "output_type": "stream",
     "text": [
      "PyAEDT WARNING: Argument `specified_version` is deprecated for method `__init__`; use `version` instead.\n"
     ]
    },
    {
     "name": "stdout",
     "output_type": "stream",
     "text": [
      "PyAEDT WARNING: Argument `new_desktop_session` is deprecated for method `__init__`; use `new_desktop` instead.\n"
     ]
    },
    {
     "name": "stdout",
     "output_type": "stream",
     "text": [
      "PyAEDT INFO: Python version 3.10.11 (tags/v3.10.11:7d4cc5a, Apr  5 2023, 00:38:17) [MSC v.1929 64 bit (AMD64)]\n"
     ]
    },
    {
     "name": "stdout",
     "output_type": "stream",
     "text": [
      "PyAEDT INFO: PyAEDT version 0.14.dev0.\n"
     ]
    },
    {
     "name": "stdout",
     "output_type": "stream",
     "text": [
      "PyAEDT INFO: Initializing new Desktop session.\n"
     ]
    },
    {
     "name": "stdout",
     "output_type": "stream",
     "text": [
      "PyAEDT INFO: Log on console is enabled.\n"
     ]
    },
    {
     "name": "stdout",
     "output_type": "stream",
     "text": [
      "PyAEDT INFO: Log on file C:\\Users\\ansys\\AppData\\Local\\Temp\\pyaedt_ansys_539f99d2-36cd-40e1-bffc-662d3e905619.log is enabled.\n"
     ]
    },
    {
     "name": "stdout",
     "output_type": "stream",
     "text": [
      "PyAEDT INFO: Log on AEDT is enabled.\n"
     ]
    },
    {
     "name": "stdout",
     "output_type": "stream",
     "text": [
      "PyAEDT INFO: Debug logger is disabled. PyAEDT methods will not be logged.\n"
     ]
    },
    {
     "name": "stdout",
     "output_type": "stream",
     "text": [
      "PyAEDT INFO: Launching PyAEDT with gRPC plugin.\n"
     ]
    },
    {
     "name": "stdout",
     "output_type": "stream",
     "text": [
      "PyAEDT INFO: New AEDT session is starting on gRPC port 55386\n"
     ]
    },
    {
     "name": "stdout",
     "output_type": "stream",
     "text": [
      "PyAEDT INFO: AEDT installation Path C:\\Program Files\\AnsysEM\\v242\\Win64\n"
     ]
    },
    {
     "name": "stdout",
     "output_type": "stream",
     "text": [
      "PyAEDT INFO: Ansoft.ElectronicsDesktop.2024.2 version started with process ID 12188.\n"
     ]
    },
    {
     "name": "stdout",
     "output_type": "stream",
     "text": [
      "PyAEDT INFO: EDB folder C:\\Users\\ansys\\AppData\\Local\\Temp\\tmppnzdhv2l.ansys\\pcb.aedb has been imported to project pcb\n"
     ]
    },
    {
     "name": "stdout",
     "output_type": "stream",
     "text": [
      "PyAEDT INFO: Active Design set to 0;Cell_0Y3QIK\n"
     ]
    },
    {
     "name": "stdout",
     "output_type": "stream",
     "text": [
      "PyAEDT INFO: Aedt Objects correctly read\n"
     ]
    }
   ],
   "source": [
    "h3d = ansys.aedt.core.Hfss3dLayout(aedb_path, specified_version=edb_version, new_desktop_session=True)"
   ]
  },
  {
   "cell_type": "markdown",
   "id": "2387f5f9",
   "metadata": {},
   "source": [
    "Place a 3D component."
   ]
  },
  {
   "cell_type": "code",
   "execution_count": 19,
   "id": "62bab68f",
   "metadata": {
    "execution": {
     "iopub.execute_input": "2025-02-03T13:45:16.670977Z",
     "iopub.status.busy": "2025-02-03T13:45:16.670977Z",
     "iopub.status.idle": "2025-02-03T13:45:18.693635Z",
     "shell.execute_reply": "2025-02-03T13:45:18.692440Z"
    }
   },
   "outputs": [
    {
     "name": "stdout",
     "output_type": "stream",
     "text": [
      "PyAEDT INFO: Loading Modeler.\n"
     ]
    },
    {
     "name": "stdout",
     "output_type": "stream",
     "text": [
      "PyAEDT INFO: Modeler loaded.\n"
     ]
    },
    {
     "name": "stdout",
     "output_type": "stream",
     "text": [
      "PyAEDT INFO: EDB loaded.\n"
     ]
    },
    {
     "name": "stdout",
     "output_type": "stream",
     "text": [
      "PyAEDT INFO: Layers loaded.\n"
     ]
    },
    {
     "name": "stdout",
     "output_type": "stream",
     "text": [
      "PyAEDT INFO: Primitives loaded.\n"
     ]
    },
    {
     "name": "stdout",
     "output_type": "stream",
     "text": [
      "PyAEDT INFO: Modeler class has been initialized! Elapsed time: 0m 0sec\n"
     ]
    }
   ],
   "source": [
    "full_comp_name = download_file(\"component_3d\", filename=\"SMA_RF_SURFACE_MOUNT.a3dcomp\", destination=working_folder)\n",
    "comp = h3d.modeler.place_3d_component(\n",
    "    component_path=full_comp_name,\n",
    "    number_of_terminals=1,\n",
    "    placement_layer=\"TOP\",\n",
    "    component_name=\"my_connector\",\n",
    "    pos_x=\"5mm\",\n",
    "    pos_y=0.000,\n",
    ")"
   ]
  },
  {
   "cell_type": "markdown",
   "id": "04b58d69",
   "metadata": {},
   "source": [
    "## Run simulation"
   ]
  },
  {
   "cell_type": "code",
   "execution_count": 20,
   "id": "960660f7",
   "metadata": {
    "execution": {
     "iopub.execute_input": "2025-02-03T13:45:18.693635Z",
     "iopub.status.busy": "2025-02-03T13:45:18.693635Z",
     "iopub.status.idle": "2025-02-03T13:46:30.761141Z",
     "shell.execute_reply": "2025-02-03T13:46:30.761141Z"
    }
   },
   "outputs": [
    {
     "name": "stdout",
     "output_type": "stream",
     "text": [
      "PyAEDT WARNING: Argument `num_cores` is deprecated for method `analyze`; use `cores` instead.\n"
     ]
    },
    {
     "name": "stdout",
     "output_type": "stream",
     "text": [
      "PyAEDT INFO: Key Desktop/ActiveDSOConfigurations/HFSS 3D Layout Design correctly changed.\n"
     ]
    },
    {
     "name": "stdout",
     "output_type": "stream",
     "text": [
      "PyAEDT INFO: Solving all design setups.\n"
     ]
    },
    {
     "name": "stdout",
     "output_type": "stream",
     "text": [
      "PyAEDT INFO: Key Desktop/ActiveDSOConfigurations/HFSS 3D Layout Design correctly changed.\n"
     ]
    },
    {
     "name": "stdout",
     "output_type": "stream",
     "text": [
      "PyAEDT INFO: Design setup None solved correctly in 0.0h 1.0m 12.0s\n"
     ]
    },
    {
     "data": {
      "text/plain": [
       "True"
      ]
     },
     "execution_count": 20,
     "metadata": {},
     "output_type": "execute_result"
    }
   ],
   "source": [
    "h3d.analyze(num_cores=4)"
   ]
  },
  {
   "cell_type": "markdown",
   "id": "1c186143",
   "metadata": {},
   "source": [
    "## Visualize the return loss."
   ]
  },
  {
   "cell_type": "code",
   "execution_count": 21,
   "id": "c7c1e10b",
   "metadata": {
    "execution": {
     "iopub.execute_input": "2025-02-03T13:46:30.761141Z",
     "iopub.status.busy": "2025-02-03T13:46:30.761141Z",
     "iopub.status.idle": "2025-02-03T13:46:32.008654Z",
     "shell.execute_reply": "2025-02-03T13:46:32.008654Z"
    }
   },
   "outputs": [
    {
     "name": "stdout",
     "output_type": "stream",
     "text": [
      "PyAEDT INFO: Parsing C:/Users/ansys/AppData/Local/Temp/tmppnzdhv2l.ansys/pcb.aedt.\n"
     ]
    },
    {
     "name": "stdout",
     "output_type": "stream",
     "text": [
      "PyAEDT INFO: File C:/Users/ansys/AppData/Local/Temp/tmppnzdhv2l.ansys/pcb.aedt correctly loaded. Elapsed time: 0m 0sec\n"
     ]
    },
    {
     "name": "stdout",
     "output_type": "stream",
     "text": [
      "PyAEDT INFO: aedt file load time 0.015664339065551758\n"
     ]
    },
    {
     "name": "stdout",
     "output_type": "stream",
     "text": [
      "PyAEDT INFO: PostProcessor class has been initialized! Elapsed time: 0m 0sec\n"
     ]
    },
    {
     "name": "stdout",
     "output_type": "stream",
     "text": [
      "PyAEDT INFO: Post class has been initialized! Elapsed time: 0m 0sec\n"
     ]
    },
    {
     "data": {
      "text/plain": [
       "<ansys.aedt.core.visualization.report.standard.Standard at 0x1dc226c7c70>"
      ]
     },
     "execution_count": 21,
     "metadata": {},
     "output_type": "execute_result"
    }
   ],
   "source": [
    "h3d.post.create_report(\"dB(S(port_1, port_1))\")"
   ]
  },
  {
   "cell_type": "markdown",
   "id": "757440b1",
   "metadata": {},
   "source": [
    "## Save and close the project."
   ]
  },
  {
   "cell_type": "code",
   "execution_count": 22,
   "id": "73fb0751",
   "metadata": {
    "execution": {
     "iopub.execute_input": "2025-02-03T13:46:32.008654Z",
     "iopub.status.busy": "2025-02-03T13:46:32.008654Z",
     "iopub.status.idle": "2025-02-03T13:46:36.346696Z",
     "shell.execute_reply": "2025-02-03T13:46:36.346696Z"
    }
   },
   "outputs": [
    {
     "name": "stdout",
     "output_type": "stream",
     "text": [
      "PyAEDT INFO: Project pcb Saved correctly\n"
     ]
    },
    {
     "name": "stdout",
     "output_type": "stream",
     "text": [
      "Project is saved to C:/Users/ansys/AppData/Local/Temp/tmppnzdhv2l.ansys/\n"
     ]
    },
    {
     "name": "stdout",
     "output_type": "stream",
     "text": [
      "PyAEDT INFO: Desktop has been released and closed.\n"
     ]
    },
    {
     "data": {
      "text/plain": [
       "True"
      ]
     },
     "execution_count": 22,
     "metadata": {},
     "output_type": "execute_result"
    }
   ],
   "source": [
    "h3d.save_project()\n",
    "print(\"Project is saved to {}\".format(h3d.project_path))\n",
    "h3d.release_desktop(True, True)"
   ]
  },
  {
   "cell_type": "markdown",
   "id": "99d829fa",
   "metadata": {},
   "source": [
    "## Clean up the temporary folder."
   ]
  },
  {
   "cell_type": "code",
   "execution_count": 23,
   "id": "82c0e124",
   "metadata": {
    "execution": {
     "iopub.execute_input": "2025-02-03T13:46:36.346696Z",
     "iopub.status.busy": "2025-02-03T13:46:36.346696Z",
     "iopub.status.idle": "2025-02-03T13:46:36.378018Z",
     "shell.execute_reply": "2025-02-03T13:46:36.378018Z"
    }
   },
   "outputs": [],
   "source": [
    "temp_dir.cleanup()"
   ]
  }
 ],
 "metadata": {
  "jupytext": {
   "cell_metadata_filter": "-all",
   "main_language": "python",
   "notebook_metadata_filter": "-all",
   "text_representation": {
    "extension": ".py",
    "format_name": "light"
   }
  },
  "language_info": {
   "codemirror_mode": {
    "name": "ipython",
    "version": 3
   },
   "file_extension": ".py",
   "mimetype": "text/x-python",
   "name": "python",
   "nbconvert_exporter": "python",
   "pygments_lexer": "ipython3",
   "version": "3.10.11"
  }
 },
 "nbformat": 4,
 "nbformat_minor": 5
}
