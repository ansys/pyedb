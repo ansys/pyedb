{
 "cells": [
  {
   "cell_type": "markdown",
   "id": "69d69448",
   "metadata": {},
   "source": [
    "# Import Component Definitions\n",
    "This example shows how to import component definitions. It includes\n",
    "\n",
    "- Download an example board\n",
    "- Create a config file with component RLC and solder ball information\n",
    "- Apply the config file to the example board"
   ]
  },
  {
   "cell_type": "markdown",
   "id": "a93fddc8",
   "metadata": {},
   "source": [
    "## Import the required packages"
   ]
  },
  {
   "cell_type": "code",
   "execution_count": 1,
   "id": "78ba5d61",
   "metadata": {
    "execution": {
     "iopub.execute_input": "2025-02-03T13:57:24.025602Z",
     "iopub.status.busy": "2025-02-03T13:57:24.025602Z",
     "iopub.status.idle": "2025-02-03T13:57:24.994789Z",
     "shell.execute_reply": "2025-02-03T13:57:24.994789Z"
    }
   },
   "outputs": [],
   "source": [
    "import json\n",
    "from pathlib import Path\n",
    "import tempfile\n",
    "\n",
    "from IPython.display import display\n",
    "from ansys.aedt.core.downloads import download_file\n",
    "import pandas as pd\n",
    "\n",
    "from pyedb import Edb\n",
    "\n",
    "AEDT_VERSION = \"2024.2\"\n"
   ]
  },
  {
   "cell_type": "markdown",
   "id": "60c26345",
   "metadata": {},
   "source": [
    "Download the example PCB data."
   ]
  },
  {
   "cell_type": "code",
   "execution_count": 2,
   "id": "59ee762d",
   "metadata": {
    "execution": {
     "iopub.execute_input": "2025-02-03T13:57:24.994789Z",
     "iopub.status.busy": "2025-02-03T13:57:24.994789Z",
     "iopub.status.idle": "2025-02-03T13:57:25.401077Z",
     "shell.execute_reply": "2025-02-03T13:57:25.401077Z"
    }
   },
   "outputs": [],
   "source": [
    "temp_folder = tempfile.TemporaryDirectory(suffix=\".ansys\").name\n",
    "file_edb = download_file(source=\"edb/ANSYS-HSD_V1.aedb\", destination=temp_folder)"
   ]
  },
  {
   "cell_type": "markdown",
   "id": "4edb8a14",
   "metadata": {},
   "source": [
    "## Load example layout."
   ]
  },
  {
   "cell_type": "code",
   "execution_count": 3,
   "id": "9d052c71",
   "metadata": {
    "execution": {
     "iopub.execute_input": "2025-02-03T13:57:25.401077Z",
     "iopub.status.busy": "2025-02-03T13:57:25.401077Z",
     "iopub.status.idle": "2025-02-03T13:57:37.596978Z",
     "shell.execute_reply": "2025-02-03T13:57:37.596978Z"
    }
   },
   "outputs": [
    {
     "name": "stdout",
     "output_type": "stream",
     "text": [
      "PyAEDT INFO: Logger is initialized in EDB.\n"
     ]
    },
    {
     "name": "stdout",
     "output_type": "stream",
     "text": [
      "PyAEDT INFO: legacy v0.37.0\n"
     ]
    },
    {
     "name": "stdout",
     "output_type": "stream",
     "text": [
      "PyAEDT INFO: Python version 3.10.11 (tags/v3.10.11:7d4cc5a, Apr  5 2023, 00:38:17) [MSC v.1929 64 bit (AMD64)]\n"
     ]
    },
    {
     "name": "stdout",
     "output_type": "stream",
     "text": [
      "PyAEDT INFO: Database ANSYS-HSD_V1.aedb Opened in 2024.2\n"
     ]
    },
    {
     "name": "stdout",
     "output_type": "stream",
     "text": [
      "PyAEDT INFO: Cell main Opened\n"
     ]
    },
    {
     "name": "stdout",
     "output_type": "stream",
     "text": [
      "PyAEDT INFO: Builder was initialized.\n"
     ]
    },
    {
     "name": "stdout",
     "output_type": "stream",
     "text": [
      "PyAEDT INFO: EDB initialized.\n"
     ]
    }
   ],
   "source": [
    "edbapp = Edb(file_edb, edbversion=AEDT_VERSION)"
   ]
  },
  {
   "cell_type": "markdown",
   "id": "5b6b4de4",
   "metadata": {},
   "source": [
    "## Create a config file with component information"
   ]
  },
  {
   "cell_type": "markdown",
   "id": "f3d30f5c",
   "metadata": {},
   "source": [
    "Keywords\n",
    "\n",
    "- **reference_designator**. Reference designator of the component.\n",
    "- **part_type**. Part type of the component. Supported types are 'resistor', 'inductor', 'capacitor', 'ic', 'io',\n",
    "'other'.\n",
    "- **enabled**. Only available for RLC components.\n",
    "- **solder_ball_properties**.\n",
    "  - **shape**. Supported types are 'cylinder', 'spheroid', 'none'.\n",
    "  - **diameter**.\n",
    "  - **mid_diameter**.\n",
    "  - **height**.\n",
    "- **port_properties**.\n",
    "  - **reference_offset**.\n",
    "  - **reference_size_auto**.\n",
    "  - **reference_size_x**.\n",
    "  - **reference_size_y**.\n",
    "- **pin_pair_model**. RLC network. Multiple pin pairs are supported.\n",
    "  - **first_pin**. First pin of the pin pair.\n",
    "  - **second_pin**. Second pin of the pin pair.\n",
    "  - **is_parallel**.\n",
    "  - **resistance**.\n",
    "  - **resistance_enabled**.\n",
    "  - **inductance**.\n",
    "  - **inductance_enabled**.\n",
    "  - **capacitance**.\n",
    "  - **capacitance_enabled**."
   ]
  },
  {
   "cell_type": "code",
   "execution_count": 4,
   "id": "6206aa5d",
   "metadata": {
    "execution": {
     "iopub.execute_input": "2025-02-03T13:57:37.596978Z",
     "iopub.status.busy": "2025-02-03T13:57:37.596978Z",
     "iopub.status.idle": "2025-02-03T13:57:37.612602Z",
     "shell.execute_reply": "2025-02-03T13:57:37.612602Z"
    }
   },
   "outputs": [],
   "source": [
    "cfg = dict()\n",
    "cfg[\"components\"] = [\n",
    "    {\n",
    "        \"reference_designator\": \"U1\",\n",
    "        \"part_type\": \"io\",\n",
    "        \"solder_ball_properties\": {\n",
    "            \"shape\": \"spheroid\",\n",
    "            \"diameter\": \"244um\",\n",
    "            \"mid_diameter\": \"400um\",\n",
    "            \"height\": \"300um\",\n",
    "        },\n",
    "        \"port_properties\": {\n",
    "            \"reference_offset\": \"0.1mm\",\n",
    "            \"reference_size_auto\": True,\n",
    "            \"reference_size_x\": 0,\n",
    "            \"reference_size_y\": 0,\n",
    "        },\n",
    "    },\n",
    "    {\n",
    "        \"reference_designator\": \"C375\",\n",
    "        \"enabled\": False,\n",
    "        \"pin_pair_model\": [\n",
    "            {\n",
    "                \"first_pin\": \"1\",\n",
    "                \"second_pin\": \"2\",\n",
    "                \"is_parallel\": False,\n",
    "                \"resistance\": \"10ohm\",\n",
    "                \"resistance_enabled\": True,\n",
    "                \"inductance\": \"1nH\",\n",
    "                \"inductance_enabled\": False,\n",
    "                \"capacitance\": \"10nF\",\n",
    "                \"capacitance_enabled\": True,\n",
    "            }\n",
    "        ],\n",
    "    },\n",
    "]"
   ]
  },
  {
   "cell_type": "code",
   "execution_count": 5,
   "id": "ce3c128c",
   "metadata": {
    "execution": {
     "iopub.execute_input": "2025-02-03T13:57:37.612602Z",
     "iopub.status.busy": "2025-02-03T13:57:37.612602Z",
     "iopub.status.idle": "2025-02-03T13:57:37.643856Z",
     "shell.execute_reply": "2025-02-03T13:57:37.643856Z"
    }
   },
   "outputs": [
    {
     "data": {
      "text/html": [
       "<div>\n",
       "<style scoped>\n",
       "    .dataframe tbody tr th:only-of-type {\n",
       "        vertical-align: middle;\n",
       "    }\n",
       "\n",
       "    .dataframe tbody tr th {\n",
       "        vertical-align: top;\n",
       "    }\n",
       "\n",
       "    .dataframe thead th {\n",
       "        text-align: right;\n",
       "    }\n",
       "</style>\n",
       "<table border=\"1\" class=\"dataframe\">\n",
       "  <thead>\n",
       "    <tr style=\"text-align: right;\">\n",
       "      <th></th>\n",
       "      <th>shape</th>\n",
       "      <th>diameter</th>\n",
       "      <th>mid_diameter</th>\n",
       "      <th>height</th>\n",
       "    </tr>\n",
       "  </thead>\n",
       "  <tbody>\n",
       "    <tr>\n",
       "      <th>0</th>\n",
       "      <td>spheroid</td>\n",
       "      <td>244um</td>\n",
       "      <td>400um</td>\n",
       "      <td>300um</td>\n",
       "    </tr>\n",
       "  </tbody>\n",
       "</table>\n",
       "</div>"
      ],
      "text/plain": [
       "      shape diameter mid_diameter height\n",
       "0  spheroid    244um        400um  300um"
      ]
     },
     "metadata": {},
     "output_type": "display_data"
    }
   ],
   "source": [
    "display(pd.DataFrame(data=[cfg[\"components\"][0][\"solder_ball_properties\"]]))"
   ]
  },
  {
   "cell_type": "code",
   "execution_count": 6,
   "id": "166d7e09",
   "metadata": {
    "execution": {
     "iopub.execute_input": "2025-02-03T13:57:37.643856Z",
     "iopub.status.busy": "2025-02-03T13:57:37.643856Z",
     "iopub.status.idle": "2025-02-03T13:57:37.659477Z",
     "shell.execute_reply": "2025-02-03T13:57:37.659477Z"
    }
   },
   "outputs": [
    {
     "data": {
      "text/html": [
       "<div>\n",
       "<style scoped>\n",
       "    .dataframe tbody tr th:only-of-type {\n",
       "        vertical-align: middle;\n",
       "    }\n",
       "\n",
       "    .dataframe tbody tr th {\n",
       "        vertical-align: top;\n",
       "    }\n",
       "\n",
       "    .dataframe thead th {\n",
       "        text-align: right;\n",
       "    }\n",
       "</style>\n",
       "<table border=\"1\" class=\"dataframe\">\n",
       "  <thead>\n",
       "    <tr style=\"text-align: right;\">\n",
       "      <th></th>\n",
       "      <th>reference_offset</th>\n",
       "      <th>reference_size_auto</th>\n",
       "      <th>reference_size_x</th>\n",
       "      <th>reference_size_y</th>\n",
       "    </tr>\n",
       "  </thead>\n",
       "  <tbody>\n",
       "    <tr>\n",
       "      <th>0</th>\n",
       "      <td>0.1mm</td>\n",
       "      <td>True</td>\n",
       "      <td>0</td>\n",
       "      <td>0</td>\n",
       "    </tr>\n",
       "  </tbody>\n",
       "</table>\n",
       "</div>"
      ],
      "text/plain": [
       "  reference_offset  reference_size_auto  reference_size_x  reference_size_y\n",
       "0            0.1mm                 True                 0                 0"
      ]
     },
     "metadata": {},
     "output_type": "display_data"
    }
   ],
   "source": [
    "display(pd.DataFrame(data=[cfg[\"components\"][0][\"port_properties\"]]))"
   ]
  },
  {
   "cell_type": "code",
   "execution_count": 7,
   "id": "3da0c193",
   "metadata": {
    "execution": {
     "iopub.execute_input": "2025-02-03T13:57:37.659477Z",
     "iopub.status.busy": "2025-02-03T13:57:37.659477Z",
     "iopub.status.idle": "2025-02-03T13:57:37.675100Z",
     "shell.execute_reply": "2025-02-03T13:57:37.675100Z"
    }
   },
   "outputs": [
    {
     "data": {
      "text/html": [
       "<div>\n",
       "<style scoped>\n",
       "    .dataframe tbody tr th:only-of-type {\n",
       "        vertical-align: middle;\n",
       "    }\n",
       "\n",
       "    .dataframe tbody tr th {\n",
       "        vertical-align: top;\n",
       "    }\n",
       "\n",
       "    .dataframe thead th {\n",
       "        text-align: right;\n",
       "    }\n",
       "</style>\n",
       "<table border=\"1\" class=\"dataframe\">\n",
       "  <thead>\n",
       "    <tr style=\"text-align: right;\">\n",
       "      <th></th>\n",
       "      <th>first_pin</th>\n",
       "      <th>second_pin</th>\n",
       "      <th>is_parallel</th>\n",
       "      <th>resistance</th>\n",
       "      <th>resistance_enabled</th>\n",
       "      <th>inductance</th>\n",
       "      <th>inductance_enabled</th>\n",
       "      <th>capacitance</th>\n",
       "      <th>capacitance_enabled</th>\n",
       "    </tr>\n",
       "  </thead>\n",
       "  <tbody>\n",
       "    <tr>\n",
       "      <th>0</th>\n",
       "      <td>1</td>\n",
       "      <td>2</td>\n",
       "      <td>False</td>\n",
       "      <td>10ohm</td>\n",
       "      <td>True</td>\n",
       "      <td>1nH</td>\n",
       "      <td>False</td>\n",
       "      <td>10nF</td>\n",
       "      <td>True</td>\n",
       "    </tr>\n",
       "  </tbody>\n",
       "</table>\n",
       "</div>"
      ],
      "text/plain": [
       "  first_pin second_pin  is_parallel resistance  resistance_enabled inductance  \\\n",
       "0         1          2        False      10ohm                True        1nH   \n",
       "\n",
       "   inductance_enabled capacitance  capacitance_enabled  \n",
       "0               False        10nF                 True  "
      ]
     },
     "metadata": {},
     "output_type": "display_data"
    }
   ],
   "source": [
    "display(pd.DataFrame(data=cfg[\"components\"][1][\"pin_pair_model\"]))"
   ]
  },
  {
   "cell_type": "code",
   "execution_count": 8,
   "id": "cdda691e",
   "metadata": {
    "execution": {
     "iopub.execute_input": "2025-02-03T13:57:37.675100Z",
     "iopub.status.busy": "2025-02-03T13:57:37.675100Z",
     "iopub.status.idle": "2025-02-03T13:57:37.690731Z",
     "shell.execute_reply": "2025-02-03T13:57:37.690731Z"
    }
   },
   "outputs": [],
   "source": [
    "cfg_file_path = Path(temp_folder) / \"cfg.json\"\n",
    "with open(cfg_file_path, \"w\") as f:\n",
    "    json.dump(cfg, f, indent=4, ensure_ascii=False)"
   ]
  },
  {
   "cell_type": "markdown",
   "id": "47e09376",
   "metadata": {},
   "source": [
    "Load config file"
   ]
  },
  {
   "cell_type": "code",
   "execution_count": 9,
   "id": "ec450e96",
   "metadata": {
    "execution": {
     "iopub.execute_input": "2025-02-03T13:57:37.690731Z",
     "iopub.status.busy": "2025-02-03T13:57:37.690731Z",
     "iopub.status.idle": "2025-02-03T13:57:38.472008Z",
     "shell.execute_reply": "2025-02-03T13:57:38.472008Z"
    }
   },
   "outputs": [
    {
     "data": {
      "text/plain": [
       "<pyedb.configuration.cfg_data.CfgData at 0x23591904910>"
      ]
     },
     "execution_count": 9,
     "metadata": {},
     "output_type": "execute_result"
    }
   ],
   "source": [
    "edbapp.configuration.load(cfg_file_path, apply_file=True)"
   ]
  },
  {
   "cell_type": "markdown",
   "id": "b7e33077",
   "metadata": {},
   "source": [
    "## Save and close Edb\n",
    "The temporary folder will be deleted once the execution of this script is finished. Replace **edbapp.save()** with\n",
    "**edbapp.save_as(\"C:/example.aedb\")** to keep the example project."
   ]
  },
  {
   "cell_type": "code",
   "execution_count": 10,
   "id": "7e109d38",
   "metadata": {
    "execution": {
     "iopub.execute_input": "2025-02-03T13:57:38.472008Z",
     "iopub.status.busy": "2025-02-03T13:57:38.472008Z",
     "iopub.status.idle": "2025-02-03T13:57:38.675125Z",
     "shell.execute_reply": "2025-02-03T13:57:38.675125Z"
    }
   },
   "outputs": [
    {
     "data": {
      "text/plain": [
       "True"
      ]
     },
     "execution_count": 10,
     "metadata": {},
     "output_type": "execute_result"
    }
   ],
   "source": [
    "edbapp.save()\n",
    "edbapp.close()"
   ]
  }
 ],
 "metadata": {
  "jupytext": {
   "cell_metadata_filter": "-all",
   "main_language": "python",
   "notebook_metadata_filter": "-all",
   "text_representation": {
    "extension": ".py",
    "format_name": "light"
   }
  },
  "language_info": {
   "codemirror_mode": {
    "name": "ipython",
    "version": 3
   },
   "file_extension": ".py",
   "mimetype": "text/x-python",
   "name": "python",
   "nbconvert_exporter": "python",
   "pygments_lexer": "ipython3",
   "version": "3.10.11"
  }
 },
 "nbformat": 4,
 "nbformat_minor": 5
}
