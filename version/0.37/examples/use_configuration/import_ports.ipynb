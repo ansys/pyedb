{
 "cells": [
  {
   "cell_type": "markdown",
   "id": "15ca6767",
   "metadata": {},
   "source": [
    "# Import Ports\n",
    "This example shows how to import ports. In this example, we are going to\n",
    "\n",
    "- Download an example board\n",
    "- Create a configuration file\n",
    "  - Add a circuit port between two nets\n",
    "  - Add a circuit port between two pins\n",
    "  - Add a circuit port between two pin groups\n",
    "  - Add a circuit port between two coordinates\n",
    "  - Add a coax port\n",
    "  - Add a port reference to the nearest pin\n",
    "  - Add distributed ports\n",
    "- Import the configuration file"
   ]
  },
  {
   "cell_type": "markdown",
   "id": "ed880955",
   "metadata": {},
   "source": [
    "## Import the required packages"
   ]
  },
  {
   "cell_type": "code",
   "execution_count": 1,
   "id": "214096f4",
   "metadata": {
    "execution": {
     "iopub.execute_input": "2025-02-03T13:58:33.373883Z",
     "iopub.status.busy": "2025-02-03T13:58:33.373883Z",
     "iopub.status.idle": "2025-02-03T13:58:33.842712Z",
     "shell.execute_reply": "2025-02-03T13:58:33.842712Z"
    }
   },
   "outputs": [],
   "source": [
    "import json\n",
    "from pathlib import Path\n",
    "import tempfile\n",
    "\n",
    "from ansys.aedt.core.downloads import download_file\n",
    "\n",
    "from pyedb import Edb\n",
    "\n",
    "AEDT_VERSION = \"2024.2\"\n",
    "NG_MODE = False\n"
   ]
  },
  {
   "cell_type": "markdown",
   "id": "a92387da",
   "metadata": {},
   "source": [
    "Download the example PCB data."
   ]
  },
  {
   "cell_type": "code",
   "execution_count": 2,
   "id": "933f5a82",
   "metadata": {
    "execution": {
     "iopub.execute_input": "2025-02-03T13:58:33.842712Z",
     "iopub.status.busy": "2025-02-03T13:58:33.842712Z",
     "iopub.status.idle": "2025-02-03T13:58:34.736257Z",
     "shell.execute_reply": "2025-02-03T13:58:34.736257Z"
    }
   },
   "outputs": [],
   "source": [
    "temp_folder = tempfile.TemporaryDirectory(suffix=\".ansys\")\n",
    "file_edb = download_file(source=\"edb/ANSYS-HSD_V1.aedb\", destination=temp_folder.name)"
   ]
  },
  {
   "cell_type": "markdown",
   "id": "69150fa0",
   "metadata": {},
   "source": [
    "## Load example layout"
   ]
  },
  {
   "cell_type": "code",
   "execution_count": 3,
   "id": "6d9924bd",
   "metadata": {
    "execution": {
     "iopub.execute_input": "2025-02-03T13:58:34.736257Z",
     "iopub.status.busy": "2025-02-03T13:58:34.736257Z",
     "iopub.status.idle": "2025-02-03T13:58:47.307814Z",
     "shell.execute_reply": "2025-02-03T13:58:47.307814Z"
    }
   },
   "outputs": [
    {
     "name": "stdout",
     "output_type": "stream",
     "text": [
      "PyAEDT INFO: Logger is initialized in EDB.\n"
     ]
    },
    {
     "name": "stdout",
     "output_type": "stream",
     "text": [
      "PyAEDT INFO: legacy v0.37.0\n"
     ]
    },
    {
     "name": "stdout",
     "output_type": "stream",
     "text": [
      "PyAEDT INFO: Python version 3.10.11 (tags/v3.10.11:7d4cc5a, Apr  5 2023, 00:38:17) [MSC v.1929 64 bit (AMD64)]\n"
     ]
    },
    {
     "name": "stdout",
     "output_type": "stream",
     "text": [
      "PyAEDT INFO: Database ANSYS-HSD_V1.aedb Opened in 2024.2\n"
     ]
    },
    {
     "name": "stdout",
     "output_type": "stream",
     "text": [
      "PyAEDT INFO: Cell main Opened\n"
     ]
    },
    {
     "name": "stdout",
     "output_type": "stream",
     "text": [
      "PyAEDT INFO: Builder was initialized.\n"
     ]
    },
    {
     "name": "stdout",
     "output_type": "stream",
     "text": [
      "PyAEDT INFO: EDB initialized.\n"
     ]
    }
   ],
   "source": [
    "edbapp = Edb(file_edb, edbversion=AEDT_VERSION)"
   ]
  },
  {
   "cell_type": "markdown",
   "id": "bee51aea",
   "metadata": {},
   "source": [
    "## Create an empty dictionary to host all configurations"
   ]
  },
  {
   "cell_type": "code",
   "execution_count": 4,
   "id": "048fb184",
   "metadata": {
    "execution": {
     "iopub.execute_input": "2025-02-03T13:58:47.307814Z",
     "iopub.status.busy": "2025-02-03T13:58:47.307814Z",
     "iopub.status.idle": "2025-02-03T13:58:47.323439Z",
     "shell.execute_reply": "2025-02-03T13:58:47.323439Z"
    }
   },
   "outputs": [],
   "source": [
    "cfg = dict()"
   ]
  },
  {
   "cell_type": "markdown",
   "id": "6e690263",
   "metadata": {},
   "source": [
    "## Add a circuit port between two nets"
   ]
  },
  {
   "cell_type": "markdown",
   "id": "1a374e94",
   "metadata": {},
   "source": [
    "Keywords\n",
    "\n",
    "- **name**. Name of the port.\n",
    "- **Reference_designator**. Reference designator of the component.\n",
    "- **type**. Type of the port. Supported types are 'circuit', 'coax'\n",
    "- **positive_terminal**. Positive terminal of the port. Supported types are 'net', 'pin', 'pin_group', 'coordinates'\n",
    "- **negative_terminal**. Negative terminal of the port. Supported types are 'net', 'pin', 'pin_group', 'coordinates',\n",
    "'nearest_pin'"
   ]
  },
  {
   "cell_type": "code",
   "execution_count": 5,
   "id": "ebf11b7d",
   "metadata": {
    "execution": {
     "iopub.execute_input": "2025-02-03T13:58:47.323439Z",
     "iopub.status.busy": "2025-02-03T13:58:47.323439Z",
     "iopub.status.idle": "2025-02-03T13:58:47.339064Z",
     "shell.execute_reply": "2025-02-03T13:58:47.339064Z"
    }
   },
   "outputs": [],
   "source": [
    "port_1 = {\n",
    "    \"name\": \"port_1\",\n",
    "    \"reference_designator\": \"X1\",\n",
    "    \"type\": \"circuit\",\n",
    "    \"positive_terminal\": {\"net\": \"PCIe_Gen4_TX2_N\"},\n",
    "    \"negative_terminal\": {\"net\": \"GND\"},\n",
    "}"
   ]
  },
  {
   "cell_type": "markdown",
   "id": "7d8929bf",
   "metadata": {},
   "source": [
    "## Add a circuit port between two pins"
   ]
  },
  {
   "cell_type": "code",
   "execution_count": 6,
   "id": "092904ff",
   "metadata": {
    "execution": {
     "iopub.execute_input": "2025-02-03T13:58:47.339064Z",
     "iopub.status.busy": "2025-02-03T13:58:47.339064Z",
     "iopub.status.idle": "2025-02-03T13:58:47.354699Z",
     "shell.execute_reply": "2025-02-03T13:58:47.354699Z"
    }
   },
   "outputs": [],
   "source": [
    "port_2 = {\n",
    "    \"name\": \"port_2\",\n",
    "    \"reference_designator\": \"C375\",\n",
    "    \"type\": \"circuit\",\n",
    "    \"positive_terminal\": {\"pin\": \"1\"},\n",
    "    \"negative_terminal\": {\"pin\": \"2\"},\n",
    "}"
   ]
  },
  {
   "cell_type": "markdown",
   "id": "e64952a4",
   "metadata": {},
   "source": [
    "## Add a circuit port between two pin groups"
   ]
  },
  {
   "cell_type": "code",
   "execution_count": 7,
   "id": "c142c5a9",
   "metadata": {
    "execution": {
     "iopub.execute_input": "2025-02-03T13:58:47.354699Z",
     "iopub.status.busy": "2025-02-03T13:58:47.354699Z",
     "iopub.status.idle": "2025-02-03T13:58:47.370314Z",
     "shell.execute_reply": "2025-02-03T13:58:47.370314Z"
    }
   },
   "outputs": [],
   "source": [
    "pin_groups = [\n",
    "    {\"name\": \"U9_5V_1\", \"reference_designator\": \"U9\", \"pins\": [\"32\", \"33\"]},\n",
    "    {\"name\": \"U9_GND\", \"reference_designator\": \"U9\", \"net\": \"GND\"},\n",
    "]"
   ]
  },
  {
   "cell_type": "code",
   "execution_count": 8,
   "id": "6c42bf71",
   "metadata": {
    "execution": {
     "iopub.execute_input": "2025-02-03T13:58:47.370314Z",
     "iopub.status.busy": "2025-02-03T13:58:47.370314Z",
     "iopub.status.idle": "2025-02-03T13:58:47.385994Z",
     "shell.execute_reply": "2025-02-03T13:58:47.385994Z"
    }
   },
   "outputs": [],
   "source": [
    "port_3 = {\n",
    "    \"name\": \"port_3\",\n",
    "    \"type\": \"circuit\",\n",
    "    \"positive_terminal\": {\"pin_group\": \"U9_5V_1\"},\n",
    "    \"negative_terminal\": {\"pin_group\": \"U9_GND\"},\n",
    "}"
   ]
  },
  {
   "cell_type": "markdown",
   "id": "59f7c84a",
   "metadata": {},
   "source": [
    "## Add a circuit port between two coordinates"
   ]
  },
  {
   "cell_type": "markdown",
   "id": "53ce83dd",
   "metadata": {},
   "source": [
    "Keywords\n",
    "\n",
    "- **layer**. Layer on which the terminal is placed\n",
    "- **point**. XY coordinate the terminal is placed\n",
    "- **net**. Name of the net the terminal is placed on"
   ]
  },
  {
   "cell_type": "code",
   "execution_count": 9,
   "id": "29142667",
   "metadata": {
    "execution": {
     "iopub.execute_input": "2025-02-03T13:58:47.385994Z",
     "iopub.status.busy": "2025-02-03T13:58:47.385994Z",
     "iopub.status.idle": "2025-02-03T13:58:47.401621Z",
     "shell.execute_reply": "2025-02-03T13:58:47.401621Z"
    }
   },
   "outputs": [],
   "source": [
    "port_4 = {\n",
    "    \"name\": \"port_4\",\n",
    "    \"type\": \"circuit\",\n",
    "    \"positive_terminal\": {\"coordinates\": {\"layer\": \"1_Top\", \"point\": [\"104mm\", \"37mm\"], \"net\": \"AVCC_1V3\"}},\n",
    "    \"negative_terminal\": {\"coordinates\": {\"layer\": \"Inner6(GND2)\", \"point\": [\"104mm\", \"37mm\"], \"net\": \"GND\"}},\n",
    "}"
   ]
  },
  {
   "cell_type": "markdown",
   "id": "35f3f85d",
   "metadata": {},
   "source": [
    "## Add a coax port"
   ]
  },
  {
   "cell_type": "code",
   "execution_count": 10,
   "id": "c4536e1d",
   "metadata": {
    "execution": {
     "iopub.execute_input": "2025-02-03T13:58:47.401621Z",
     "iopub.status.busy": "2025-02-03T13:58:47.401621Z",
     "iopub.status.idle": "2025-02-03T13:58:47.417253Z",
     "shell.execute_reply": "2025-02-03T13:58:47.417253Z"
    }
   },
   "outputs": [],
   "source": [
    "port_5 = {\"name\": \"port_5\", \"reference_designator\": \"U1\", \"type\": \"coax\", \"positive_terminal\": {\"pin\": \"AM17\"}}"
   ]
  },
  {
   "cell_type": "markdown",
   "id": "20c4e8a4",
   "metadata": {},
   "source": [
    "## Add a port reference to the nearest pin"
   ]
  },
  {
   "cell_type": "markdown",
   "id": "fa2eeca8",
   "metadata": {},
   "source": [
    "Keywords\n",
    "\n",
    "- **reference_net**. Name of the reference net\n",
    "- **search_radius**. Reference pin search radius in meter"
   ]
  },
  {
   "cell_type": "code",
   "execution_count": 11,
   "id": "2f71827a",
   "metadata": {
    "execution": {
     "iopub.execute_input": "2025-02-03T13:58:47.417253Z",
     "iopub.status.busy": "2025-02-03T13:58:47.417253Z",
     "iopub.status.idle": "2025-02-03T13:58:47.432866Z",
     "shell.execute_reply": "2025-02-03T13:58:47.432866Z"
    }
   },
   "outputs": [],
   "source": [
    "port_6 = {\n",
    "    \"name\": \"port_6\",\n",
    "    \"reference_designator\": \"U15\",\n",
    "    \"type\": \"circuit\",\n",
    "    \"positive_terminal\": {\"pin\": \"D7\"},\n",
    "    \"negative_terminal\": {\"nearest_pin\": {\"reference_net\": \"GND\", \"search_radius\": 5e-3}},\n",
    "}"
   ]
  },
  {
   "cell_type": "markdown",
   "id": "d8fd1a0b",
   "metadata": {},
   "source": [
    "## Add distributed ports"
   ]
  },
  {
   "cell_type": "markdown",
   "id": "1c0de03a",
   "metadata": {},
   "source": [
    "Keywords\n",
    "\n",
    "- **distributed**. Whether to create distributed ports. When set to True, ports are created per pin"
   ]
  },
  {
   "cell_type": "code",
   "execution_count": 12,
   "id": "eb207f6e",
   "metadata": {
    "execution": {
     "iopub.execute_input": "2025-02-03T13:58:47.432866Z",
     "iopub.status.busy": "2025-02-03T13:58:47.432866Z",
     "iopub.status.idle": "2025-02-03T13:58:47.448490Z",
     "shell.execute_reply": "2025-02-03T13:58:47.448490Z"
    }
   },
   "outputs": [],
   "source": [
    "ports_distributed = {\n",
    "    \"name\": \"ports_d\",\n",
    "    \"reference_designator\": \"U7\",\n",
    "    \"type\": \"circuit\",\n",
    "    \"distributed\": True,\n",
    "    \"positive_terminal\": {\"net\": \"VDD_DDR\"},\n",
    "    \"negative_terminal\": {\"net\": \"GND\"},\n",
    "}"
   ]
  },
  {
   "cell_type": "markdown",
   "id": "d91557d4",
   "metadata": {},
   "source": [
    "## Add setups in configuration"
   ]
  },
  {
   "cell_type": "code",
   "execution_count": 13,
   "id": "8566d701",
   "metadata": {
    "execution": {
     "iopub.execute_input": "2025-02-03T13:58:47.448490Z",
     "iopub.status.busy": "2025-02-03T13:58:47.448490Z",
     "iopub.status.idle": "2025-02-03T13:58:47.464206Z",
     "shell.execute_reply": "2025-02-03T13:58:47.464206Z"
    }
   },
   "outputs": [],
   "source": [
    "cfg[\"pin_groups\"] = pin_groups\n",
    "cfg[\"ports\"] = [port_1, port_2, port_3, port_4, port_5, port_6, ports_distributed]"
   ]
  },
  {
   "cell_type": "markdown",
   "id": "476a6b8e",
   "metadata": {},
   "source": [
    "## Write configuration into as json file"
   ]
  },
  {
   "cell_type": "code",
   "execution_count": 14,
   "id": "067cb44a",
   "metadata": {
    "execution": {
     "iopub.execute_input": "2025-02-03T13:58:47.464206Z",
     "iopub.status.busy": "2025-02-03T13:58:47.464206Z",
     "iopub.status.idle": "2025-02-03T13:58:47.479798Z",
     "shell.execute_reply": "2025-02-03T13:58:47.479798Z"
    }
   },
   "outputs": [],
   "source": [
    "file_json = Path(temp_folder.name) / \"edb_configuration.json\"\n",
    "with open(file_json, \"w\") as f:\n",
    "    json.dump(cfg, f, indent=4, ensure_ascii=False)"
   ]
  },
  {
   "cell_type": "markdown",
   "id": "35042027",
   "metadata": {},
   "source": [
    "## Import configuration into example layout"
   ]
  },
  {
   "cell_type": "code",
   "execution_count": 15,
   "id": "4551da20",
   "metadata": {
    "execution": {
     "iopub.execute_input": "2025-02-03T13:58:47.479798Z",
     "iopub.status.busy": "2025-02-03T13:58:47.479798Z",
     "iopub.status.idle": "2025-02-03T13:58:48.886371Z",
     "shell.execute_reply": "2025-02-03T13:58:48.886371Z"
    }
   },
   "outputs": [
    {
     "data": {
      "text/plain": [
       "True"
      ]
     },
     "execution_count": 15,
     "metadata": {},
     "output_type": "execute_result"
    }
   ],
   "source": [
    "edbapp.configuration.load(config_file=file_json)\n",
    "edbapp.configuration.run()"
   ]
  },
  {
   "cell_type": "markdown",
   "id": "af0428df",
   "metadata": {},
   "source": [
    "## Review"
   ]
  },
  {
   "cell_type": "code",
   "execution_count": 16,
   "id": "55251011",
   "metadata": {
    "execution": {
     "iopub.execute_input": "2025-02-03T13:58:48.886371Z",
     "iopub.status.busy": "2025-02-03T13:58:48.886371Z",
     "iopub.status.idle": "2025-02-03T13:58:48.917611Z",
     "shell.execute_reply": "2025-02-03T13:58:48.917611Z"
    }
   },
   "outputs": [
    {
     "data": {
      "text/plain": [
       "{'port_1': <pyedb.dotnet.edb_core.edb_data.ports.CircuitPort at 0x1ec2f1777c0>,\n",
       " 'port_2': <pyedb.dotnet.edb_core.edb_data.ports.CircuitPort at 0x1ec2e017df0>,\n",
       " 'port_3': <pyedb.dotnet.edb_core.edb_data.ports.CircuitPort at 0x1ec23a69240>,\n",
       " 'port_4': <pyedb.dotnet.edb_core.edb_data.ports.CircuitPort at 0x1ec2dfdb7f0>,\n",
       " 'port_5': <pyedb.dotnet.edb_core.edb_data.ports.CoaxPort at 0x1ec2791e980>,\n",
       " 'port_6': <pyedb.dotnet.edb_core.edb_data.ports.CircuitPort at 0x1ec2791e950>,\n",
       " 'U7_VDD_DDR_T9': <pyedb.dotnet.edb_core.edb_data.ports.CircuitPort at 0x1ec2791e890>,\n",
       " 'U7_VDD_DDR_R1': <pyedb.dotnet.edb_core.edb_data.ports.CircuitPort at 0x1ec2791e7d0>,\n",
       " 'U7_VDD_DDR_L9': <pyedb.dotnet.edb_core.edb_data.ports.CircuitPort at 0x1ec2791e740>,\n",
       " 'U7_VDD_DDR_L1': <pyedb.dotnet.edb_core.edb_data.ports.CircuitPort at 0x1ec2791e5f0>,\n",
       " 'U7_VDD_DDR_J9': <pyedb.dotnet.edb_core.edb_data.ports.CircuitPort at 0x1ec2791ebf0>,\n",
       " 'U7_VDD_DDR_J8': <pyedb.dotnet.edb_core.edb_data.ports.CircuitPort at 0x1ec2791dde0>,\n",
       " 'U7_VDD_DDR_J2': <pyedb.dotnet.edb_core.edb_data.ports.CircuitPort at 0x1ec2791e0b0>,\n",
       " 'U7_VDD_DDR_J1': <pyedb.dotnet.edb_core.edb_data.ports.CircuitPort at 0x1ec2791dd80>,\n",
       " 'U7_VDD_DDR_G9': <pyedb.dotnet.edb_core.edb_data.ports.CircuitPort at 0x1ec2791dd20>,\n",
       " 'U7_VDD_DDR_G7': <pyedb.dotnet.edb_core.edb_data.ports.CircuitPort at 0x1ec2791dcc0>,\n",
       " 'U7_VDD_DDR_G1': <pyedb.dotnet.edb_core.edb_data.ports.CircuitPort at 0x1ec2791dc60>,\n",
       " 'U7_VDD_DDR_F8': <pyedb.dotnet.edb_core.edb_data.ports.CircuitPort at 0x1ec2791dc00>,\n",
       " 'U7_VDD_DDR_F2': <pyedb.dotnet.edb_core.edb_data.ports.CircuitPort at 0x1ec2791dba0>,\n",
       " 'U7_VDD_DDR_D9': <pyedb.dotnet.edb_core.edb_data.ports.CircuitPort at 0x1ec2791db40>,\n",
       " 'U7_VDD_DDR_D1': <pyedb.dotnet.edb_core.edb_data.ports.CircuitPort at 0x1ec2791dae0>,\n",
       " 'U7_VDD_DDR_C1': <pyedb.dotnet.edb_core.edb_data.ports.CircuitPort at 0x1ec2791da80>,\n",
       " 'U7_VDD_DDR_B9': <pyedb.dotnet.edb_core.edb_data.ports.CircuitPort at 0x1ec2791da20>,\n",
       " 'U7_VDD_DDR_B3': <pyedb.dotnet.edb_core.edb_data.ports.CircuitPort at 0x1ec2791d9c0>,\n",
       " 'U7_VDD_DDR_A9': <pyedb.dotnet.edb_core.edb_data.ports.CircuitPort at 0x1ec2791d960>,\n",
       " 'U7_VDD_DDR_A1': <pyedb.dotnet.edb_core.edb_data.ports.CircuitPort at 0x1ec2791d900>}"
      ]
     },
     "execution_count": 16,
     "metadata": {},
     "output_type": "execute_result"
    }
   ],
   "source": [
    "edbapp.ports"
   ]
  },
  {
   "cell_type": "markdown",
   "id": "5b59fe0b",
   "metadata": {},
   "source": [
    "## Save and close Edb\n",
    "The temporary folder will be deleted once the execution of this script is finished. Replace **edbapp.save()** with\n",
    "**edbapp.save_as(\"C:/example.aedb\")** to keep the example project."
   ]
  },
  {
   "cell_type": "code",
   "execution_count": 17,
   "id": "91ef75ad",
   "metadata": {
    "execution": {
     "iopub.execute_input": "2025-02-03T13:58:48.917611Z",
     "iopub.status.busy": "2025-02-03T13:58:48.917611Z",
     "iopub.status.idle": "2025-02-03T13:58:49.120741Z",
     "shell.execute_reply": "2025-02-03T13:58:49.120741Z"
    }
   },
   "outputs": [
    {
     "data": {
      "text/plain": [
       "True"
      ]
     },
     "execution_count": 17,
     "metadata": {},
     "output_type": "execute_result"
    }
   ],
   "source": [
    "edbapp.save()\n",
    "edbapp.close()"
   ]
  }
 ],
 "metadata": {
  "jupytext": {
   "cell_metadata_filter": "-all",
   "main_language": "python",
   "notebook_metadata_filter": "-all",
   "text_representation": {
    "extension": ".py",
    "format_name": "light"
   }
  },
  "language_info": {
   "codemirror_mode": {
    "name": "ipython",
    "version": 3
   },
   "file_extension": ".py",
   "mimetype": "text/x-python",
   "name": "python",
   "nbconvert_exporter": "python",
   "pygments_lexer": "ipython3",
   "version": "3.10.11"
  }
 },
 "nbformat": 4,
 "nbformat_minor": 5
}
