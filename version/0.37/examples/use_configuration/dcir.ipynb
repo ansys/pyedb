{
 "cells": [
  {
   "cell_type": "markdown",
   "id": "7230f991",
   "metadata": {},
   "source": [
    "# DCIR Setup Leveraging EDB Configuration Format"
   ]
  },
  {
   "cell_type": "markdown",
   "id": "3822a561",
   "metadata": {},
   "source": [
    "## Import the required packages"
   ]
  },
  {
   "cell_type": "code",
   "execution_count": 1,
   "id": "37927ba3",
   "metadata": {
    "execution": {
     "iopub.execute_input": "2025-02-03T13:55:57.502699Z",
     "iopub.status.busy": "2025-02-03T13:55:57.502699Z",
     "iopub.status.idle": "2025-02-03T13:55:57.987071Z",
     "shell.execute_reply": "2025-02-03T13:55:57.987071Z"
    }
   },
   "outputs": [],
   "source": [
    "import json\n",
    "import os\n",
    "import tempfile\n",
    "\n",
    "from ansys.aedt.core import Hfss3dLayout\n",
    "from ansys.aedt.core.downloads import download_file\n",
    "\n",
    "from pyedb import Edb\n",
    "\n",
    "AEDT_VERSION = \"2024.2\"\n",
    "NG_MODE = False"
   ]
  },
  {
   "cell_type": "markdown",
   "id": "94575f3f",
   "metadata": {},
   "source": [
    "Download the example BGA Package design."
   ]
  },
  {
   "cell_type": "code",
   "execution_count": 2,
   "id": "2e196d00",
   "metadata": {
    "execution": {
     "iopub.execute_input": "2025-02-03T13:55:57.987071Z",
     "iopub.status.busy": "2025-02-03T13:55:57.987071Z",
     "iopub.status.idle": "2025-02-03T13:55:59.294258Z",
     "shell.execute_reply": "2025-02-03T13:55:59.294258Z"
    }
   },
   "outputs": [],
   "source": [
    "temp_folder = tempfile.TemporaryDirectory(suffix=\".ansys\")\n",
    "file_edb = download_file(source=r\"edb/BGA_Package.aedb\", destination=temp_folder.name)"
   ]
  },
  {
   "cell_type": "markdown",
   "id": "0c50030c",
   "metadata": {},
   "source": [
    "## Load example layout"
   ]
  },
  {
   "cell_type": "code",
   "execution_count": 3,
   "id": "9e864723",
   "metadata": {
    "execution": {
     "iopub.execute_input": "2025-02-03T13:55:59.294258Z",
     "iopub.status.busy": "2025-02-03T13:55:59.294258Z",
     "iopub.status.idle": "2025-02-03T13:56:11.559430Z",
     "shell.execute_reply": "2025-02-03T13:56:11.559430Z"
    }
   },
   "outputs": [
    {
     "name": "stdout",
     "output_type": "stream",
     "text": [
      "PyAEDT INFO: Logger is initialized in EDB.\n"
     ]
    },
    {
     "name": "stdout",
     "output_type": "stream",
     "text": [
      "PyAEDT INFO: legacy v0.37.0\n"
     ]
    },
    {
     "name": "stdout",
     "output_type": "stream",
     "text": [
      "PyAEDT INFO: Python version 3.10.11 (tags/v3.10.11:7d4cc5a, Apr  5 2023, 00:38:17) [MSC v.1929 64 bit (AMD64)]\n"
     ]
    },
    {
     "name": "stdout",
     "output_type": "stream",
     "text": [
      "PyAEDT INFO: Database BGA_Package.aedb Opened in 2024.2\n"
     ]
    },
    {
     "name": "stdout",
     "output_type": "stream",
     "text": [
      "PyAEDT INFO: Cell BGA_Package Opened\n"
     ]
    },
    {
     "name": "stdout",
     "output_type": "stream",
     "text": [
      "PyAEDT INFO: Builder was initialized.\n"
     ]
    },
    {
     "name": "stdout",
     "output_type": "stream",
     "text": [
      "PyAEDT INFO: EDB initialized.\n"
     ]
    }
   ],
   "source": [
    "edbapp = Edb(file_edb, edbversion=AEDT_VERSION)"
   ]
  },
  {
   "cell_type": "markdown",
   "id": "422ad6de",
   "metadata": {},
   "source": [
    "## Create config file"
   ]
  },
  {
   "cell_type": "markdown",
   "id": "bb6c05da",
   "metadata": {},
   "source": [
    "Define Component with solderballs."
   ]
  },
  {
   "cell_type": "code",
   "execution_count": 4,
   "id": "f168ca71",
   "metadata": {
    "execution": {
     "iopub.execute_input": "2025-02-03T13:56:11.559430Z",
     "iopub.status.busy": "2025-02-03T13:56:11.559430Z",
     "iopub.status.idle": "2025-02-03T13:56:11.575130Z",
     "shell.execute_reply": "2025-02-03T13:56:11.575130Z"
    }
   },
   "outputs": [],
   "source": [
    "cfg_components = [\n",
    "    {\n",
    "        \"reference_designator\": \"FCHIP\",\n",
    "        \"part_type\": \"other\",\n",
    "        \"solder_ball_properties\": {\n",
    "            \"shape\": \"cylinder\",\n",
    "            \"diameter\": \"0.1mm\",\n",
    "            \"height\": \"0.085mm\",\n",
    "            \"chip_orientation\": \"chip_up\",\n",
    "        },\n",
    "        \"port_properties\": {\n",
    "            \"reference_offset\": 0,\n",
    "            \"reference_size_auto\": False,\n",
    "            \"reference_size_x\": 0,\n",
    "            \"reference_size_y\": 0,\n",
    "        },\n",
    "    },\n",
    "    {\n",
    "        \"reference_designator\": \"BGA\",\n",
    "        \"part_type\": \"io\",\n",
    "        \"solder_ball_properties\": {\n",
    "            \"shape\": \"cylinder\",\n",
    "            \"diameter\": \"0.45mm\",\n",
    "            \"height\": \"0.45mm\",\n",
    "            \"chip_orientation\": \"chip_down\",\n",
    "        },\n",
    "        \"port_properties\": {\n",
    "            \"reference_offset\": 0,\n",
    "            \"reference_size_auto\": False,\n",
    "            \"reference_size_x\": 0,\n",
    "            \"reference_size_y\": 0,\n",
    "        },\n",
    "    },\n",
    "]"
   ]
  },
  {
   "cell_type": "markdown",
   "id": "f15dc15c",
   "metadata": {},
   "source": [
    "Define Pin Groups on Components."
   ]
  },
  {
   "cell_type": "code",
   "execution_count": 5,
   "id": "91d38891",
   "metadata": {
    "execution": {
     "iopub.execute_input": "2025-02-03T13:56:11.575130Z",
     "iopub.status.busy": "2025-02-03T13:56:11.575130Z",
     "iopub.status.idle": "2025-02-03T13:56:11.590731Z",
     "shell.execute_reply": "2025-02-03T13:56:11.590731Z"
    }
   },
   "outputs": [],
   "source": [
    "cfg_pin_groups = [\n",
    "    {\"name\": \"BGA_VSS\", \"reference_designator\": \"BGA\", \"net\": \"VSS\"},\n",
    "    {\"name\": \"BGA_VDD\", \"reference_designator\": \"BGA\", \"net\": \"VDD\"},\n",
    "]"
   ]
  },
  {
   "cell_type": "markdown",
   "id": "8f2fdb5e",
   "metadata": {},
   "source": [
    "Define sources."
   ]
  },
  {
   "cell_type": "code",
   "execution_count": 6,
   "id": "15faea43",
   "metadata": {
    "execution": {
     "iopub.execute_input": "2025-02-03T13:56:11.590731Z",
     "iopub.status.busy": "2025-02-03T13:56:11.590731Z",
     "iopub.status.idle": "2025-02-03T13:56:11.606353Z",
     "shell.execute_reply": "2025-02-03T13:56:11.606353Z"
    }
   },
   "outputs": [],
   "source": [
    "cfg_sources = [\n",
    "    {\n",
    "        \"name\": \"FCHIP_Current\",\n",
    "        \"reference_designator\": \"FCHIP\",\n",
    "        \"type\": \"current\",\n",
    "        \"magnitude\": 2,\n",
    "        \"distributed\": True,\n",
    "        \"positive_terminal\": {\"net\": \"VDD\"},\n",
    "        \"negative_terminal\": {\"nearest_pin\": {\"reference_net\": \"VSS\", \"search_radius\": 5e-3}},\n",
    "    },\n",
    "    {\n",
    "        \"name\": \"BGA_Voltage\",\n",
    "        \"reference_designator\": \"BGA\",\n",
    "        \"type\": \"voltage\",\n",
    "        \"magnitude\": 1,\n",
    "        \"positive_terminal\": {\"pin_group\": \"BGA_VDD\"},\n",
    "        \"negative_terminal\": {\"pin_group\": \"BGA_VSS\"},\n",
    "    },\n",
    "]"
   ]
  },
  {
   "cell_type": "markdown",
   "id": "3e87058f",
   "metadata": {},
   "source": [
    "Define DCIR setup."
   ]
  },
  {
   "cell_type": "code",
   "execution_count": 7,
   "id": "b34ba5f9",
   "metadata": {
    "execution": {
     "iopub.execute_input": "2025-02-03T13:56:11.606353Z",
     "iopub.status.busy": "2025-02-03T13:56:11.606353Z",
     "iopub.status.idle": "2025-02-03T13:56:11.622027Z",
     "shell.execute_reply": "2025-02-03T13:56:11.622027Z"
    }
   },
   "outputs": [],
   "source": [
    "cfg_setups = [\n",
    "    {\n",
    "        \"name\": \"siwave_dc\",\n",
    "        \"type\": \"siwave_dc\",\n",
    "        \"dc_slider_position\": 1,\n",
    "        \"dc_ir_settings\": {\"export_dc_thermal_data\": True},\n",
    "    }\n",
    "]"
   ]
  },
  {
   "cell_type": "markdown",
   "id": "cbf2e52f",
   "metadata": {},
   "source": [
    "Create final configuration."
   ]
  },
  {
   "cell_type": "code",
   "execution_count": 8,
   "id": "823f44a3",
   "metadata": {
    "execution": {
     "iopub.execute_input": "2025-02-03T13:56:11.622027Z",
     "iopub.status.busy": "2025-02-03T13:56:11.622027Z",
     "iopub.status.idle": "2025-02-03T13:56:11.637603Z",
     "shell.execute_reply": "2025-02-03T13:56:11.637603Z"
    }
   },
   "outputs": [],
   "source": [
    "cfg = {\n",
    "    \"components\": cfg_components,\n",
    "    \"sources\": cfg_sources,\n",
    "    \"pin_groups\": cfg_pin_groups,\n",
    "    \"setups\": cfg_setups,\n",
    "}"
   ]
  },
  {
   "cell_type": "markdown",
   "id": "000cfcb1",
   "metadata": {},
   "source": [
    "Create the config file."
   ]
  },
  {
   "cell_type": "code",
   "execution_count": 9,
   "id": "3fa5cc5b",
   "metadata": {
    "execution": {
     "iopub.execute_input": "2025-02-03T13:56:11.637603Z",
     "iopub.status.busy": "2025-02-03T13:56:11.637603Z",
     "iopub.status.idle": "2025-02-03T13:56:11.653243Z",
     "shell.execute_reply": "2025-02-03T13:56:11.653243Z"
    }
   },
   "outputs": [],
   "source": [
    "file_json = os.path.join(temp_folder.name, \"edb_configuration.json\")\n",
    "with open(file_json, \"w\") as f:\n",
    "    json.dump(cfg, f, indent=4, ensure_ascii=False)"
   ]
  },
  {
   "cell_type": "markdown",
   "id": "238ee8d3",
   "metadata": {},
   "source": [
    "## Apply Config file"
   ]
  },
  {
   "cell_type": "markdown",
   "id": "8211c375",
   "metadata": {},
   "source": [
    "Apply configuration to the example layout"
   ]
  },
  {
   "cell_type": "code",
   "execution_count": 10,
   "id": "d87719e3",
   "metadata": {
    "execution": {
     "iopub.execute_input": "2025-02-03T13:56:11.653243Z",
     "iopub.status.busy": "2025-02-03T13:56:11.653243Z",
     "iopub.status.idle": "2025-02-03T13:56:16.747848Z",
     "shell.execute_reply": "2025-02-03T13:56:16.747848Z"
    }
   },
   "outputs": [
    {
     "data": {
      "text/plain": [
       "True"
      ]
     },
     "execution_count": 10,
     "metadata": {},
     "output_type": "execute_result"
    }
   ],
   "source": [
    "edbapp.configuration.load(config_file=file_json)\n",
    "edbapp.configuration.run()"
   ]
  },
  {
   "cell_type": "markdown",
   "id": "ef10b3c3",
   "metadata": {},
   "source": [
    "Save and close EDB."
   ]
  },
  {
   "cell_type": "code",
   "execution_count": 11,
   "id": "07cf141b",
   "metadata": {
    "execution": {
     "iopub.execute_input": "2025-02-03T13:56:16.747848Z",
     "iopub.status.busy": "2025-02-03T13:56:16.747848Z",
     "iopub.status.idle": "2025-02-03T13:56:16.810307Z",
     "shell.execute_reply": "2025-02-03T13:56:16.810307Z"
    }
   },
   "outputs": [
    {
     "data": {
      "text/plain": [
       "True"
      ]
     },
     "execution_count": 11,
     "metadata": {},
     "output_type": "execute_result"
    }
   ],
   "source": [
    "edbapp.save()\n",
    "edbapp.close()"
   ]
  },
  {
   "cell_type": "markdown",
   "id": "0982bb8c",
   "metadata": {},
   "source": [
    "The configured EDB file is saved in a temp folder."
   ]
  },
  {
   "cell_type": "code",
   "execution_count": 12,
   "id": "deb1a4e6",
   "metadata": {
    "execution": {
     "iopub.execute_input": "2025-02-03T13:56:16.810307Z",
     "iopub.status.busy": "2025-02-03T13:56:16.810307Z",
     "iopub.status.idle": "2025-02-03T13:56:16.825922Z",
     "shell.execute_reply": "2025-02-03T13:56:16.825922Z"
    }
   },
   "outputs": [
    {
     "name": "stdout",
     "output_type": "stream",
     "text": [
      "C:\\Users\\ansys\\AppData\\Local\\Temp\\tmprlzy8g36.ansys\n"
     ]
    }
   ],
   "source": [
    "print(temp_folder.name)"
   ]
  },
  {
   "cell_type": "markdown",
   "id": "6997562f",
   "metadata": {},
   "source": [
    "## Load edb into HFSS 3D Layout."
   ]
  },
  {
   "cell_type": "code",
   "execution_count": 13,
   "id": "12048e2a",
   "metadata": {
    "execution": {
     "iopub.execute_input": "2025-02-03T13:56:16.825922Z",
     "iopub.status.busy": "2025-02-03T13:56:16.825922Z",
     "iopub.status.idle": "2025-02-03T13:56:49.788092Z",
     "shell.execute_reply": "2025-02-03T13:56:49.788092Z"
    }
   },
   "outputs": [
    {
     "name": "stdout",
     "output_type": "stream",
     "text": [
      "PyAEDT INFO: Python version 3.10.11 (tags/v3.10.11:7d4cc5a, Apr  5 2023, 00:38:17) [MSC v.1929 64 bit (AMD64)]\n"
     ]
    },
    {
     "name": "stdout",
     "output_type": "stream",
     "text": [
      "PyAEDT INFO: PyAEDT version 0.14.dev0.\n"
     ]
    },
    {
     "name": "stdout",
     "output_type": "stream",
     "text": [
      "PyAEDT INFO: Initializing new Desktop session.\n"
     ]
    },
    {
     "name": "stdout",
     "output_type": "stream",
     "text": [
      "PyAEDT INFO: Log on console is enabled.\n"
     ]
    },
    {
     "name": "stdout",
     "output_type": "stream",
     "text": [
      "PyAEDT INFO: Log on file C:\\Users\\ansys\\AppData\\Local\\Temp\\pyaedt_ansys_6769af20-1aa1-4f25-9635-4c1820da919f.log is enabled.\n"
     ]
    },
    {
     "name": "stdout",
     "output_type": "stream",
     "text": [
      "PyAEDT INFO: Log on AEDT is enabled.\n"
     ]
    },
    {
     "name": "stdout",
     "output_type": "stream",
     "text": [
      "PyAEDT INFO: Debug logger is disabled. PyAEDT methods will not be logged.\n"
     ]
    },
    {
     "name": "stdout",
     "output_type": "stream",
     "text": [
      "PyAEDT INFO: Launching PyAEDT with gRPC plugin.\n"
     ]
    },
    {
     "name": "stdout",
     "output_type": "stream",
     "text": [
      "PyAEDT INFO: New AEDT session is starting on gRPC port 57256\n"
     ]
    },
    {
     "name": "stdout",
     "output_type": "stream",
     "text": [
      "PyAEDT INFO: AEDT installation Path C:\\Program Files\\AnsysEM\\v242\\Win64\n"
     ]
    },
    {
     "name": "stdout",
     "output_type": "stream",
     "text": [
      "PyAEDT INFO: Ansoft.ElectronicsDesktop.2024.2 version started with process ID 1776.\n"
     ]
    },
    {
     "name": "stdout",
     "output_type": "stream",
     "text": [
      "PyAEDT INFO: EDB folder C:\\Users\\ansys\\AppData\\Local\\Temp\\tmprlzy8g36.ansys\\edb/BGA_Package.aedb has been imported to project BGA_Package\n"
     ]
    },
    {
     "name": "stdout",
     "output_type": "stream",
     "text": [
      "PyAEDT INFO: Active Design set to 0;BGA_Package\n"
     ]
    },
    {
     "name": "stdout",
     "output_type": "stream",
     "text": [
      "PyAEDT INFO: Aedt Objects correctly read\n"
     ]
    }
   ],
   "source": [
    "h3d = Hfss3dLayout(edbapp.edbpath, version=AEDT_VERSION, non_graphical=NG_MODE, new_desktop=True)"
   ]
  },
  {
   "cell_type": "markdown",
   "id": "b5af1500",
   "metadata": {},
   "source": [
    "Solve."
   ]
  },
  {
   "cell_type": "code",
   "execution_count": 14,
   "id": "9fcbac38",
   "metadata": {
    "execution": {
     "iopub.execute_input": "2025-02-03T13:56:49.788092Z",
     "iopub.status.busy": "2025-02-03T13:56:49.788092Z",
     "iopub.status.idle": "2025-02-03T13:57:14.688867Z",
     "shell.execute_reply": "2025-02-03T13:57:14.687864Z"
    }
   },
   "outputs": [
    {
     "name": "stdout",
     "output_type": "stream",
     "text": [
      "PyAEDT INFO: Key Desktop/ActiveDSOConfigurations/HFSS 3D Layout Design correctly changed.\n"
     ]
    },
    {
     "name": "stdout",
     "output_type": "stream",
     "text": [
      "PyAEDT INFO: Solving design setup siwave_dc\n"
     ]
    },
    {
     "name": "stdout",
     "output_type": "stream",
     "text": [
      "PyAEDT INFO: Key Desktop/ActiveDSOConfigurations/HFSS 3D Layout Design correctly changed.\n"
     ]
    },
    {
     "name": "stdout",
     "output_type": "stream",
     "text": [
      "PyAEDT INFO: Design setup siwave_dc solved correctly in 0.0h 0.0m 25.0s\n"
     ]
    },
    {
     "data": {
      "text/plain": [
       "True"
      ]
     },
     "execution_count": 14,
     "metadata": {},
     "output_type": "execute_result"
    }
   ],
   "source": [
    "h3d.analyze(setup=\"siwave_dc\")"
   ]
  },
  {
   "cell_type": "markdown",
   "id": "0b614997",
   "metadata": {},
   "source": [
    "Plot insertion loss."
   ]
  },
  {
   "cell_type": "code",
   "execution_count": 15,
   "id": "ba3a99a3",
   "metadata": {
    "execution": {
     "iopub.execute_input": "2025-02-03T13:57:14.688867Z",
     "iopub.status.busy": "2025-02-03T13:57:14.688867Z",
     "iopub.status.idle": "2025-02-03T13:57:15.319798Z",
     "shell.execute_reply": "2025-02-03T13:57:15.319798Z"
    }
   },
   "outputs": [
    {
     "name": "stdout",
     "output_type": "stream",
     "text": [
      "PyAEDT INFO: Parsing C:/Users/ansys/AppData/Local/Temp/tmprlzy8g36.ansys/edb/BGA_Package.aedt.\n"
     ]
    },
    {
     "name": "stdout",
     "output_type": "stream",
     "text": [
      "PyAEDT INFO: File C:/Users/ansys/AppData/Local/Temp/tmprlzy8g36.ansys/edb/BGA_Package.aedt correctly loaded. Elapsed time: 0m 0sec\n"
     ]
    },
    {
     "name": "stdout",
     "output_type": "stream",
     "text": [
      "PyAEDT INFO: aedt file load time 0.046878814697265625\n"
     ]
    },
    {
     "name": "stdout",
     "output_type": "stream",
     "text": [
      "PyAEDT INFO: PostProcessor class has been initialized! Elapsed time: 0m 0sec\n"
     ]
    },
    {
     "name": "stdout",
     "output_type": "stream",
     "text": [
      "PyAEDT INFO: Post class has been initialized! Elapsed time: 0m 0sec\n"
     ]
    },
    {
     "name": "stdout",
     "output_type": "stream",
     "text": [
      "PyAEDT INFO: Loading Modeler.\n"
     ]
    },
    {
     "name": "stdout",
     "output_type": "stream",
     "text": [
      "PyAEDT INFO: Modeler loaded.\n"
     ]
    },
    {
     "name": "stdout",
     "output_type": "stream",
     "text": [
      "PyAEDT INFO: EDB loaded.\n"
     ]
    },
    {
     "name": "stdout",
     "output_type": "stream",
     "text": [
      "PyAEDT INFO: Layers loaded.\n"
     ]
    },
    {
     "name": "stdout",
     "output_type": "stream",
     "text": [
      "PyAEDT INFO: Primitives loaded.\n"
     ]
    },
    {
     "name": "stdout",
     "output_type": "stream",
     "text": [
      "PyAEDT INFO: Modeler class has been initialized! Elapsed time: 0m 0sec\n"
     ]
    },
    {
     "name": "stdout",
     "output_type": "stream",
     "text": [
      "PyAEDT INFO: Logger is initialized in EDB.\n"
     ]
    },
    {
     "name": "stdout",
     "output_type": "stream",
     "text": [
      "PyAEDT INFO: legacy v0.37.0\n"
     ]
    },
    {
     "name": "stdout",
     "output_type": "stream",
     "text": [
      "PyAEDT INFO: Python version 3.10.11 (tags/v3.10.11:7d4cc5a, Apr  5 2023, 00:38:17) [MSC v.1929 64 bit (AMD64)]\n"
     ]
    },
    {
     "name": "stdout",
     "output_type": "stream",
     "text": [
      "PyAEDT INFO: Database BGA_Package.aedb Opened in 2024.2\n"
     ]
    },
    {
     "name": "stdout",
     "output_type": "stream",
     "text": [
      "PyAEDT INFO: Cell BGA_Package Opened\n"
     ]
    },
    {
     "name": "stdout",
     "output_type": "stream",
     "text": [
      "PyAEDT INFO: Builder was initialized.\n"
     ]
    },
    {
     "name": "stdout",
     "output_type": "stream",
     "text": [
      "PyAEDT INFO: EDB initialized.\n"
     ]
    },
    {
     "data": {
      "text/plain": [
       "<ansys.aedt.core.visualization.post.field_data.FieldPlot at 0x1ce4606ab30>"
      ]
     },
     "execution_count": 15,
     "metadata": {},
     "output_type": "execute_result"
    }
   ],
   "source": [
    "h3d.post.create_fieldplot_layers_nets(layers_nets=[[\"VDD_C1\", \"VDD\"]], quantity=\"Voltage\", setup=\"siwave_dc\")"
   ]
  },
  {
   "cell_type": "markdown",
   "id": "7d74b2e3",
   "metadata": {},
   "source": [
    "Shut Down Electronics Desktop"
   ]
  },
  {
   "cell_type": "code",
   "execution_count": 16,
   "id": "68c5e7c4",
   "metadata": {
    "execution": {
     "iopub.execute_input": "2025-02-03T13:57:15.319798Z",
     "iopub.status.busy": "2025-02-03T13:57:15.319798Z",
     "iopub.status.idle": "2025-02-03T13:57:18.665987Z",
     "shell.execute_reply": "2025-02-03T13:57:18.665987Z"
    }
   },
   "outputs": [
    {
     "name": "stdout",
     "output_type": "stream",
     "text": [
      "PyAEDT INFO: Desktop has been released and closed.\n"
     ]
    },
    {
     "data": {
      "text/plain": [
       "True"
      ]
     },
     "execution_count": 16,
     "metadata": {},
     "output_type": "execute_result"
    }
   ],
   "source": [
    "h3d.close_desktop()"
   ]
  },
  {
   "cell_type": "markdown",
   "id": "1c8d34de",
   "metadata": {},
   "source": [
    "All project files are saved in the folder ``temp_file.dir``. If you've run this example as a Jupyter notebook you\n",
    "can retrieve those project files."
   ]
  }
 ],
 "metadata": {
  "jupytext": {
   "cell_metadata_filter": "-all",
   "main_language": "python",
   "notebook_metadata_filter": "-all",
   "text_representation": {
    "extension": ".py",
    "format_name": "light"
   }
  },
  "language_info": {
   "codemirror_mode": {
    "name": "ipython",
    "version": 3
   },
   "file_extension": ".py",
   "mimetype": "text/x-python",
   "name": "python",
   "nbconvert_exporter": "python",
   "pygments_lexer": "ipython3",
   "version": "3.10.11"
  }
 },
 "nbformat": 4,
 "nbformat_minor": 5
}
