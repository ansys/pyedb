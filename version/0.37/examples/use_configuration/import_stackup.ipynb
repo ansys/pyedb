{
 "cells": [
  {
   "cell_type": "markdown",
   "id": "ca1b4f34",
   "metadata": {},
   "source": [
    "# Import Stackup\n",
    "This example shows how to import stackup file."
   ]
  },
  {
   "cell_type": "markdown",
   "id": "0fc73bed",
   "metadata": {},
   "source": [
    "## Import the required packages"
   ]
  },
  {
   "cell_type": "code",
   "execution_count": 1,
   "id": "82a49931",
   "metadata": {
    "execution": {
     "iopub.execute_input": "2025-02-03T13:59:35.175935Z",
     "iopub.status.busy": "2025-02-03T13:59:35.174937Z",
     "iopub.status.idle": "2025-02-03T13:59:36.125933Z",
     "shell.execute_reply": "2025-02-03T13:59:36.124934Z"
    }
   },
   "outputs": [],
   "source": [
    "import json\n",
    "from pathlib import Path\n",
    "import tempfile\n",
    "\n",
    "from IPython.display import display\n",
    "from ansys.aedt.core.downloads import download_file\n",
    "import pandas as pd\n",
    "\n",
    "from pyedb import Edb\n",
    "\n",
    "AEDT_VERSION = \"2024.2\"\n",
    "NG_MODE = False\n"
   ]
  },
  {
   "cell_type": "markdown",
   "id": "89f42968",
   "metadata": {},
   "source": [
    "Download the example PCB data."
   ]
  },
  {
   "cell_type": "code",
   "execution_count": 2,
   "id": "fa34725e",
   "metadata": {
    "execution": {
     "iopub.execute_input": "2025-02-03T13:59:36.128933Z",
     "iopub.status.busy": "2025-02-03T13:59:36.128933Z",
     "iopub.status.idle": "2025-02-03T13:59:37.390136Z",
     "shell.execute_reply": "2025-02-03T13:59:37.389117Z"
    }
   },
   "outputs": [],
   "source": [
    "temp_folder = tempfile.TemporaryDirectory(suffix=\".ansys\")\n",
    "file_edb = download_file(source=\"edb/ANSYS-HSD_V1.aedb\", destination=temp_folder.name)"
   ]
  },
  {
   "cell_type": "markdown",
   "id": "2a314020",
   "metadata": {},
   "source": [
    "## Load example layout."
   ]
  },
  {
   "cell_type": "code",
   "execution_count": 3,
   "id": "380cfa29",
   "metadata": {
    "execution": {
     "iopub.execute_input": "2025-02-03T13:59:37.393131Z",
     "iopub.status.busy": "2025-02-03T13:59:37.393131Z",
     "iopub.status.idle": "2025-02-03T13:59:49.783851Z",
     "shell.execute_reply": "2025-02-03T13:59:49.783851Z"
    }
   },
   "outputs": [
    {
     "name": "stdout",
     "output_type": "stream",
     "text": [
      "PyAEDT INFO: Logger is initialized in EDB.\n"
     ]
    },
    {
     "name": "stdout",
     "output_type": "stream",
     "text": [
      "PyAEDT INFO: legacy v0.37.0\n"
     ]
    },
    {
     "name": "stdout",
     "output_type": "stream",
     "text": [
      "PyAEDT INFO: Python version 3.10.11 (tags/v3.10.11:7d4cc5a, Apr  5 2023, 00:38:17) [MSC v.1929 64 bit (AMD64)]\n"
     ]
    },
    {
     "name": "stdout",
     "output_type": "stream",
     "text": [
      "PyAEDT INFO: Database ANSYS-HSD_V1.aedb Opened in 2024.2\n"
     ]
    },
    {
     "name": "stdout",
     "output_type": "stream",
     "text": [
      "PyAEDT INFO: Cell main Opened\n"
     ]
    },
    {
     "name": "stdout",
     "output_type": "stream",
     "text": [
      "PyAEDT INFO: Builder was initialized.\n"
     ]
    },
    {
     "name": "stdout",
     "output_type": "stream",
     "text": [
      "PyAEDT INFO: EDB initialized.\n"
     ]
    }
   ],
   "source": [
    "edbapp = Edb(file_edb, edbversion=AEDT_VERSION)"
   ]
  },
  {
   "cell_type": "markdown",
   "id": "e2632fd6",
   "metadata": {},
   "source": [
    "## Review original stackup definition"
   ]
  },
  {
   "cell_type": "markdown",
   "id": "9883d884",
   "metadata": {},
   "source": [
    "Get original stackup definition in a dictionary. Alternatively, stackup definition can be exported in a json file by\n",
    "edbapp.configuration.export()"
   ]
  },
  {
   "cell_type": "code",
   "execution_count": 4,
   "id": "fdd6524d",
   "metadata": {
    "execution": {
     "iopub.execute_input": "2025-02-03T13:59:49.783851Z",
     "iopub.status.busy": "2025-02-03T13:59:49.783851Z",
     "iopub.status.idle": "2025-02-03T13:59:49.830729Z",
     "shell.execute_reply": "2025-02-03T13:59:49.830729Z"
    },
    "lines_to_next_cell": 2
   },
   "outputs": [
    {
     "name": "stdout",
     "output_type": "stream",
     "text": [
      "PyAEDT INFO: Getting data from layout database.\n"
     ]
    }
   ],
   "source": [
    "data_cfg = edbapp.configuration.get_data_from_db(stackup=True)"
   ]
  },
  {
   "cell_type": "code",
   "execution_count": 5,
   "id": "2434fa4e",
   "metadata": {
    "execution": {
     "iopub.execute_input": "2025-02-03T13:59:49.830729Z",
     "iopub.status.busy": "2025-02-03T13:59:49.830729Z",
     "iopub.status.idle": "2025-02-03T13:59:49.877601Z",
     "shell.execute_reply": "2025-02-03T13:59:49.877601Z"
    }
   },
   "outputs": [
    {
     "data": {
      "text/html": [
       "<div>\n",
       "<style scoped>\n",
       "    .dataframe tbody tr th:only-of-type {\n",
       "        vertical-align: middle;\n",
       "    }\n",
       "\n",
       "    .dataframe tbody tr th {\n",
       "        vertical-align: top;\n",
       "    }\n",
       "\n",
       "    .dataframe thead th {\n",
       "        text-align: right;\n",
       "    }\n",
       "</style>\n",
       "<table border=\"1\" class=\"dataframe\">\n",
       "  <thead>\n",
       "    <tr style=\"text-align: right;\">\n",
       "      <th></th>\n",
       "      <th>name</th>\n",
       "      <th>type</th>\n",
       "      <th>material</th>\n",
       "      <th>fill_material</th>\n",
       "      <th>thickness</th>\n",
       "      <th>color</th>\n",
       "      <th>etching</th>\n",
       "      <th>roughness</th>\n",
       "    </tr>\n",
       "  </thead>\n",
       "  <tbody>\n",
       "    <tr>\n",
       "      <th>0</th>\n",
       "      <td>1_Top</td>\n",
       "      <td>signal</td>\n",
       "      <td>copper</td>\n",
       "      <td>Solder Resist</td>\n",
       "      <td>0.035mm</td>\n",
       "      <td>[255, 0, 0]</td>\n",
       "      <td>{'factor': '0', 'enabled': False, 'etch_power_...</td>\n",
       "      <td>{'top': {'model': 'huray', 'nodule_radius': '0...</td>\n",
       "    </tr>\n",
       "    <tr>\n",
       "      <th>1</th>\n",
       "      <td>DE1</td>\n",
       "      <td>dielectric</td>\n",
       "      <td>Megtron4</td>\n",
       "      <td></td>\n",
       "      <td>0.1mm</td>\n",
       "      <td>[128, 128, 128]</td>\n",
       "      <td>{'factor': '0', 'enabled': False, 'etch_power_...</td>\n",
       "      <td>{'top': {'model': 'huray', 'nodule_radius': '0...</td>\n",
       "    </tr>\n",
       "    <tr>\n",
       "      <th>2</th>\n",
       "      <td>Inner1(GND1)</td>\n",
       "      <td>signal</td>\n",
       "      <td>copper</td>\n",
       "      <td>Megtron4_2</td>\n",
       "      <td>0.017mm</td>\n",
       "      <td>[128, 128, 0]</td>\n",
       "      <td>{'factor': '0', 'enabled': False, 'etch_power_...</td>\n",
       "      <td>{'top': {'model': 'huray', 'nodule_radius': '0...</td>\n",
       "    </tr>\n",
       "    <tr>\n",
       "      <th>3</th>\n",
       "      <td>DE2</td>\n",
       "      <td>dielectric</td>\n",
       "      <td>Megtron4_2</td>\n",
       "      <td></td>\n",
       "      <td>0.088mm</td>\n",
       "      <td>[128, 128, 128]</td>\n",
       "      <td>{'factor': '0', 'enabled': False, 'etch_power_...</td>\n",
       "      <td>{'top': {'model': 'huray', 'nodule_radius': '0...</td>\n",
       "    </tr>\n",
       "    <tr>\n",
       "      <th>4</th>\n",
       "      <td>Inner2(PWR1)</td>\n",
       "      <td>signal</td>\n",
       "      <td>copper</td>\n",
       "      <td>Megtron4_2</td>\n",
       "      <td>0.017mm</td>\n",
       "      <td>[112, 219, 250]</td>\n",
       "      <td>{'factor': '0', 'enabled': False, 'etch_power_...</td>\n",
       "      <td>{'top': {'model': 'huray', 'nodule_radius': '0...</td>\n",
       "    </tr>\n",
       "    <tr>\n",
       "      <th>5</th>\n",
       "      <td>DE3</td>\n",
       "      <td>dielectric</td>\n",
       "      <td>Megtron4</td>\n",
       "      <td></td>\n",
       "      <td>0.1mm</td>\n",
       "      <td>[128, 128, 128]</td>\n",
       "      <td>{'factor': '0', 'enabled': False, 'etch_power_...</td>\n",
       "      <td>{'top': {'model': 'huray', 'nodule_radius': '0...</td>\n",
       "    </tr>\n",
       "    <tr>\n",
       "      <th>6</th>\n",
       "      <td>Inner3(Sig1)</td>\n",
       "      <td>signal</td>\n",
       "      <td>copper</td>\n",
       "      <td>Megtron4_3</td>\n",
       "      <td>0.017mm</td>\n",
       "      <td>[255, 0, 255]</td>\n",
       "      <td>{'factor': '0', 'enabled': False, 'etch_power_...</td>\n",
       "      <td>{'top': {'model': 'huray', 'nodule_radius': '0...</td>\n",
       "    </tr>\n",
       "    <tr>\n",
       "      <th>7</th>\n",
       "      <td>Megtron4-1mm</td>\n",
       "      <td>dielectric</td>\n",
       "      <td>Megtron4_3</td>\n",
       "      <td></td>\n",
       "      <td>1mm</td>\n",
       "      <td>[128, 128, 128]</td>\n",
       "      <td>{'factor': '0', 'enabled': False, 'etch_power_...</td>\n",
       "      <td>{'top': {'model': 'huray', 'nodule_radius': '0...</td>\n",
       "    </tr>\n",
       "    <tr>\n",
       "      <th>8</th>\n",
       "      <td>Inner4(Sig2)</td>\n",
       "      <td>signal</td>\n",
       "      <td>copper</td>\n",
       "      <td>Megtron4_3</td>\n",
       "      <td>0.017mm</td>\n",
       "      <td>[128, 0, 128]</td>\n",
       "      <td>{'factor': '0', 'enabled': False, 'etch_power_...</td>\n",
       "      <td>{'top': {'model': 'huray', 'nodule_radius': '0...</td>\n",
       "    </tr>\n",
       "    <tr>\n",
       "      <th>9</th>\n",
       "      <td>DE5</td>\n",
       "      <td>dielectric</td>\n",
       "      <td>Megtron4</td>\n",
       "      <td></td>\n",
       "      <td>0.1mm</td>\n",
       "      <td>[128, 128, 128]</td>\n",
       "      <td>{'factor': '0', 'enabled': False, 'etch_power_...</td>\n",
       "      <td>{'top': {'model': 'huray', 'nodule_radius': '0...</td>\n",
       "    </tr>\n",
       "    <tr>\n",
       "      <th>10</th>\n",
       "      <td>Inner5(PWR2)</td>\n",
       "      <td>signal</td>\n",
       "      <td>copper</td>\n",
       "      <td>Megtron4_2</td>\n",
       "      <td>0.017mm</td>\n",
       "      <td>[0, 204, 102]</td>\n",
       "      <td>{'factor': '0', 'enabled': False, 'etch_power_...</td>\n",
       "      <td>{'top': {'model': 'huray', 'nodule_radius': '0...</td>\n",
       "    </tr>\n",
       "    <tr>\n",
       "      <th>11</th>\n",
       "      <td>DE6</td>\n",
       "      <td>dielectric</td>\n",
       "      <td>Megtron4_2</td>\n",
       "      <td></td>\n",
       "      <td>0.088mm</td>\n",
       "      <td>[128, 128, 128]</td>\n",
       "      <td>{'factor': '0', 'enabled': False, 'etch_power_...</td>\n",
       "      <td>{'top': {'model': 'huray', 'nodule_radius': '0...</td>\n",
       "    </tr>\n",
       "    <tr>\n",
       "      <th>12</th>\n",
       "      <td>Inner6(GND2)</td>\n",
       "      <td>signal</td>\n",
       "      <td>copper</td>\n",
       "      <td>Megtron4_2</td>\n",
       "      <td>0.017mm</td>\n",
       "      <td>[0, 128, 128]</td>\n",
       "      <td>{'factor': '0', 'enabled': False, 'etch_power_...</td>\n",
       "      <td>{'top': {'model': 'huray', 'nodule_radius': '0...</td>\n",
       "    </tr>\n",
       "    <tr>\n",
       "      <th>13</th>\n",
       "      <td>DE7</td>\n",
       "      <td>dielectric</td>\n",
       "      <td>Megtron4</td>\n",
       "      <td></td>\n",
       "      <td>0.1mm</td>\n",
       "      <td>[128, 128, 128]</td>\n",
       "      <td>{'factor': '0', 'enabled': False, 'etch_power_...</td>\n",
       "      <td>{'top': {'model': 'huray', 'nodule_radius': '0...</td>\n",
       "    </tr>\n",
       "    <tr>\n",
       "      <th>14</th>\n",
       "      <td>16_Bottom</td>\n",
       "      <td>signal</td>\n",
       "      <td>copper</td>\n",
       "      <td>Solder Resist</td>\n",
       "      <td>0.035mm</td>\n",
       "      <td>[0, 0, 255]</td>\n",
       "      <td>{'factor': '0', 'enabled': False, 'etch_power_...</td>\n",
       "      <td>{'top': {'model': 'huray', 'nodule_radius': '0...</td>\n",
       "    </tr>\n",
       "    <tr>\n",
       "      <th>15</th>\n",
       "      <td>Measures</td>\n",
       "      <td>measure</td>\n",
       "      <td>NaN</td>\n",
       "      <td>NaN</td>\n",
       "      <td>NaN</td>\n",
       "      <td>[63, 63, 63]</td>\n",
       "      <td>NaN</td>\n",
       "      <td>NaN</td>\n",
       "    </tr>\n",
       "    <tr>\n",
       "      <th>16</th>\n",
       "      <td>SIwave Regions</td>\n",
       "      <td>siwavehfsssolverregions</td>\n",
       "      <td>NaN</td>\n",
       "      <td>NaN</td>\n",
       "      <td>NaN</td>\n",
       "      <td>[127, 127, 127]</td>\n",
       "      <td>NaN</td>\n",
       "      <td>NaN</td>\n",
       "    </tr>\n",
       "    <tr>\n",
       "      <th>17</th>\n",
       "      <td>Top Overlay</td>\n",
       "      <td>silkscreen</td>\n",
       "      <td>NaN</td>\n",
       "      <td>NaN</td>\n",
       "      <td>NaN</td>\n",
       "      <td>[208, 145, 239]</td>\n",
       "      <td>NaN</td>\n",
       "      <td>NaN</td>\n",
       "    </tr>\n",
       "    <tr>\n",
       "      <th>18</th>\n",
       "      <td>Top Solder</td>\n",
       "      <td>soldermask</td>\n",
       "      <td>NaN</td>\n",
       "      <td>NaN</td>\n",
       "      <td>NaN</td>\n",
       "      <td>[16, 115, 138]</td>\n",
       "      <td>NaN</td>\n",
       "      <td>NaN</td>\n",
       "    </tr>\n",
       "    <tr>\n",
       "      <th>19</th>\n",
       "      <td>Bottom Solder</td>\n",
       "      <td>soldermask</td>\n",
       "      <td>NaN</td>\n",
       "      <td>NaN</td>\n",
       "      <td>NaN</td>\n",
       "      <td>[46, 67, 160]</td>\n",
       "      <td>NaN</td>\n",
       "      <td>NaN</td>\n",
       "    </tr>\n",
       "    <tr>\n",
       "      <th>20</th>\n",
       "      <td>Bottom Overlay</td>\n",
       "      <td>silkscreen</td>\n",
       "      <td>NaN</td>\n",
       "      <td>NaN</td>\n",
       "      <td>NaN</td>\n",
       "      <td>[219, 116, 240]</td>\n",
       "      <td>NaN</td>\n",
       "      <td>NaN</td>\n",
       "    </tr>\n",
       "    <tr>\n",
       "      <th>21</th>\n",
       "      <td>Outline</td>\n",
       "      <td>outline</td>\n",
       "      <td>NaN</td>\n",
       "      <td>NaN</td>\n",
       "      <td>NaN</td>\n",
       "      <td>[0, 0, 0]</td>\n",
       "      <td>NaN</td>\n",
       "      <td>NaN</td>\n",
       "    </tr>\n",
       "    <tr>\n",
       "      <th>22</th>\n",
       "      <td>Rats</td>\n",
       "      <td>airlines</td>\n",
       "      <td>NaN</td>\n",
       "      <td>NaN</td>\n",
       "      <td>NaN</td>\n",
       "      <td>[0, 0, 255]</td>\n",
       "      <td>NaN</td>\n",
       "      <td>NaN</td>\n",
       "    </tr>\n",
       "    <tr>\n",
       "      <th>23</th>\n",
       "      <td>Errors</td>\n",
       "      <td>errors</td>\n",
       "      <td>NaN</td>\n",
       "      <td>NaN</td>\n",
       "      <td>NaN</td>\n",
       "      <td>[255, 0, 0]</td>\n",
       "      <td>NaN</td>\n",
       "      <td>NaN</td>\n",
       "    </tr>\n",
       "    <tr>\n",
       "      <th>24</th>\n",
       "      <td>Symbols</td>\n",
       "      <td>symbol</td>\n",
       "      <td>NaN</td>\n",
       "      <td>NaN</td>\n",
       "      <td>NaN</td>\n",
       "      <td>[127, 0, 127]</td>\n",
       "      <td>NaN</td>\n",
       "      <td>NaN</td>\n",
       "    </tr>\n",
       "    <tr>\n",
       "      <th>25</th>\n",
       "      <td>Postprocessing</td>\n",
       "      <td>postprocessing</td>\n",
       "      <td>NaN</td>\n",
       "      <td>NaN</td>\n",
       "      <td>NaN</td>\n",
       "      <td>[40, 152, 137]</td>\n",
       "      <td>NaN</td>\n",
       "      <td>NaN</td>\n",
       "    </tr>\n",
       "  </tbody>\n",
       "</table>\n",
       "</div>"
      ],
      "text/plain": [
       "              name                     type    material  fill_material  \\\n",
       "0            1_Top                   signal      copper  Solder Resist   \n",
       "1              DE1               dielectric    Megtron4                  \n",
       "2     Inner1(GND1)                   signal      copper     Megtron4_2   \n",
       "3              DE2               dielectric  Megtron4_2                  \n",
       "4     Inner2(PWR1)                   signal      copper     Megtron4_2   \n",
       "5              DE3               dielectric    Megtron4                  \n",
       "6     Inner3(Sig1)                   signal      copper     Megtron4_3   \n",
       "7     Megtron4-1mm               dielectric  Megtron4_3                  \n",
       "8     Inner4(Sig2)                   signal      copper     Megtron4_3   \n",
       "9              DE5               dielectric    Megtron4                  \n",
       "10    Inner5(PWR2)                   signal      copper     Megtron4_2   \n",
       "11             DE6               dielectric  Megtron4_2                  \n",
       "12    Inner6(GND2)                   signal      copper     Megtron4_2   \n",
       "13             DE7               dielectric    Megtron4                  \n",
       "14       16_Bottom                   signal      copper  Solder Resist   \n",
       "15        Measures                  measure         NaN            NaN   \n",
       "16  SIwave Regions  siwavehfsssolverregions         NaN            NaN   \n",
       "17     Top Overlay               silkscreen         NaN            NaN   \n",
       "18      Top Solder               soldermask         NaN            NaN   \n",
       "19   Bottom Solder               soldermask         NaN            NaN   \n",
       "20  Bottom Overlay               silkscreen         NaN            NaN   \n",
       "21         Outline                  outline         NaN            NaN   \n",
       "22            Rats                 airlines         NaN            NaN   \n",
       "23          Errors                   errors         NaN            NaN   \n",
       "24         Symbols                   symbol         NaN            NaN   \n",
       "25  Postprocessing           postprocessing         NaN            NaN   \n",
       "\n",
       "   thickness            color  \\\n",
       "0    0.035mm      [255, 0, 0]   \n",
       "1      0.1mm  [128, 128, 128]   \n",
       "2    0.017mm    [128, 128, 0]   \n",
       "3    0.088mm  [128, 128, 128]   \n",
       "4    0.017mm  [112, 219, 250]   \n",
       "5      0.1mm  [128, 128, 128]   \n",
       "6    0.017mm    [255, 0, 255]   \n",
       "7        1mm  [128, 128, 128]   \n",
       "8    0.017mm    [128, 0, 128]   \n",
       "9      0.1mm  [128, 128, 128]   \n",
       "10   0.017mm    [0, 204, 102]   \n",
       "11   0.088mm  [128, 128, 128]   \n",
       "12   0.017mm    [0, 128, 128]   \n",
       "13     0.1mm  [128, 128, 128]   \n",
       "14   0.035mm      [0, 0, 255]   \n",
       "15       NaN     [63, 63, 63]   \n",
       "16       NaN  [127, 127, 127]   \n",
       "17       NaN  [208, 145, 239]   \n",
       "18       NaN   [16, 115, 138]   \n",
       "19       NaN    [46, 67, 160]   \n",
       "20       NaN  [219, 116, 240]   \n",
       "21       NaN        [0, 0, 0]   \n",
       "22       NaN      [0, 0, 255]   \n",
       "23       NaN      [255, 0, 0]   \n",
       "24       NaN    [127, 0, 127]   \n",
       "25       NaN   [40, 152, 137]   \n",
       "\n",
       "                                              etching  \\\n",
       "0   {'factor': '0', 'enabled': False, 'etch_power_...   \n",
       "1   {'factor': '0', 'enabled': False, 'etch_power_...   \n",
       "2   {'factor': '0', 'enabled': False, 'etch_power_...   \n",
       "3   {'factor': '0', 'enabled': False, 'etch_power_...   \n",
       "4   {'factor': '0', 'enabled': False, 'etch_power_...   \n",
       "5   {'factor': '0', 'enabled': False, 'etch_power_...   \n",
       "6   {'factor': '0', 'enabled': False, 'etch_power_...   \n",
       "7   {'factor': '0', 'enabled': False, 'etch_power_...   \n",
       "8   {'factor': '0', 'enabled': False, 'etch_power_...   \n",
       "9   {'factor': '0', 'enabled': False, 'etch_power_...   \n",
       "10  {'factor': '0', 'enabled': False, 'etch_power_...   \n",
       "11  {'factor': '0', 'enabled': False, 'etch_power_...   \n",
       "12  {'factor': '0', 'enabled': False, 'etch_power_...   \n",
       "13  {'factor': '0', 'enabled': False, 'etch_power_...   \n",
       "14  {'factor': '0', 'enabled': False, 'etch_power_...   \n",
       "15                                                NaN   \n",
       "16                                                NaN   \n",
       "17                                                NaN   \n",
       "18                                                NaN   \n",
       "19                                                NaN   \n",
       "20                                                NaN   \n",
       "21                                                NaN   \n",
       "22                                                NaN   \n",
       "23                                                NaN   \n",
       "24                                                NaN   \n",
       "25                                                NaN   \n",
       "\n",
       "                                            roughness  \n",
       "0   {'top': {'model': 'huray', 'nodule_radius': '0...  \n",
       "1   {'top': {'model': 'huray', 'nodule_radius': '0...  \n",
       "2   {'top': {'model': 'huray', 'nodule_radius': '0...  \n",
       "3   {'top': {'model': 'huray', 'nodule_radius': '0...  \n",
       "4   {'top': {'model': 'huray', 'nodule_radius': '0...  \n",
       "5   {'top': {'model': 'huray', 'nodule_radius': '0...  \n",
       "6   {'top': {'model': 'huray', 'nodule_radius': '0...  \n",
       "7   {'top': {'model': 'huray', 'nodule_radius': '0...  \n",
       "8   {'top': {'model': 'huray', 'nodule_radius': '0...  \n",
       "9   {'top': {'model': 'huray', 'nodule_radius': '0...  \n",
       "10  {'top': {'model': 'huray', 'nodule_radius': '0...  \n",
       "11  {'top': {'model': 'huray', 'nodule_radius': '0...  \n",
       "12  {'top': {'model': 'huray', 'nodule_radius': '0...  \n",
       "13  {'top': {'model': 'huray', 'nodule_radius': '0...  \n",
       "14  {'top': {'model': 'huray', 'nodule_radius': '0...  \n",
       "15                                                NaN  \n",
       "16                                                NaN  \n",
       "17                                                NaN  \n",
       "18                                                NaN  \n",
       "19                                                NaN  \n",
       "20                                                NaN  \n",
       "21                                                NaN  \n",
       "22                                                NaN  \n",
       "23                                                NaN  \n",
       "24                                                NaN  \n",
       "25                                                NaN  "
      ]
     },
     "metadata": {},
     "output_type": "display_data"
    }
   ],
   "source": [
    "df = pd.DataFrame(data=data_cfg[\"stackup\"][\"layers\"])\n",
    "display(df)"
   ]
  },
  {
   "cell_type": "markdown",
   "id": "25b7db34",
   "metadata": {},
   "source": [
    "## Modify stackup"
   ]
  },
  {
   "cell_type": "markdown",
   "id": "aac85076",
   "metadata": {},
   "source": [
    "Modify top layer thickness"
   ]
  },
  {
   "cell_type": "code",
   "execution_count": 6,
   "id": "473a9dbb",
   "metadata": {
    "execution": {
     "iopub.execute_input": "2025-02-03T13:59:49.877601Z",
     "iopub.status.busy": "2025-02-03T13:59:49.877601Z",
     "iopub.status.idle": "2025-02-03T13:59:49.893223Z",
     "shell.execute_reply": "2025-02-03T13:59:49.893223Z"
    }
   },
   "outputs": [],
   "source": [
    "data_cfg[\"stackup\"][\"layers\"][0][\"thickness\"] = 0.00005"
   ]
  },
  {
   "cell_type": "markdown",
   "id": "7454386a",
   "metadata": {},
   "source": [
    "Add a solder mask layer"
   ]
  },
  {
   "cell_type": "code",
   "execution_count": 7,
   "id": "5dfa7901",
   "metadata": {
    "execution": {
     "iopub.execute_input": "2025-02-03T13:59:49.893223Z",
     "iopub.status.busy": "2025-02-03T13:59:49.893223Z",
     "iopub.status.idle": "2025-02-03T13:59:49.908891Z",
     "shell.execute_reply": "2025-02-03T13:59:49.908891Z"
    }
   },
   "outputs": [],
   "source": [
    "data_cfg[\"stackup\"][\"layers\"].insert(\n",
    "    0, {\"name\": \"soler_mask\", \"type\": \"dielectric\", \"material\": \"Megtron4\", \"fill_material\": \"\", \"thickness\": 0.00002}\n",
    ")"
   ]
  },
  {
   "cell_type": "markdown",
   "id": "5c9a33dc",
   "metadata": {},
   "source": [
    "Review modified stackup"
   ]
  },
  {
   "cell_type": "code",
   "execution_count": 8,
   "id": "bb9f9eec",
   "metadata": {
    "execution": {
     "iopub.execute_input": "2025-02-03T13:59:49.908891Z",
     "iopub.status.busy": "2025-02-03T13:59:49.908891Z",
     "iopub.status.idle": "2025-02-03T13:59:49.940129Z",
     "shell.execute_reply": "2025-02-03T13:59:49.940129Z"
    }
   },
   "outputs": [
    {
     "data": {
      "text/html": [
       "<div>\n",
       "<style scoped>\n",
       "    .dataframe tbody tr th:only-of-type {\n",
       "        vertical-align: middle;\n",
       "    }\n",
       "\n",
       "    .dataframe tbody tr th {\n",
       "        vertical-align: top;\n",
       "    }\n",
       "\n",
       "    .dataframe thead th {\n",
       "        text-align: right;\n",
       "    }\n",
       "</style>\n",
       "<table border=\"1\" class=\"dataframe\">\n",
       "  <thead>\n",
       "    <tr style=\"text-align: right;\">\n",
       "      <th></th>\n",
       "      <th>name</th>\n",
       "      <th>type</th>\n",
       "      <th>material</th>\n",
       "      <th>fill_material</th>\n",
       "      <th>thickness</th>\n",
       "      <th>color</th>\n",
       "      <th>etching</th>\n",
       "      <th>roughness</th>\n",
       "    </tr>\n",
       "  </thead>\n",
       "  <tbody>\n",
       "    <tr>\n",
       "      <th>0</th>\n",
       "      <td>soler_mask</td>\n",
       "      <td>dielectric</td>\n",
       "      <td>Megtron4</td>\n",
       "      <td></td>\n",
       "      <td>0.00002</td>\n",
       "      <td>NaN</td>\n",
       "      <td>NaN</td>\n",
       "      <td>NaN</td>\n",
       "    </tr>\n",
       "    <tr>\n",
       "      <th>1</th>\n",
       "      <td>1_Top</td>\n",
       "      <td>signal</td>\n",
       "      <td>copper</td>\n",
       "      <td>Solder Resist</td>\n",
       "      <td>0.00005</td>\n",
       "      <td>[255, 0, 0]</td>\n",
       "      <td>{'factor': '0', 'enabled': False, 'etch_power_...</td>\n",
       "      <td>{'top': {'model': 'huray', 'nodule_radius': '0...</td>\n",
       "    </tr>\n",
       "    <tr>\n",
       "      <th>2</th>\n",
       "      <td>DE1</td>\n",
       "      <td>dielectric</td>\n",
       "      <td>Megtron4</td>\n",
       "      <td></td>\n",
       "      <td>0.1mm</td>\n",
       "      <td>[128, 128, 128]</td>\n",
       "      <td>{'factor': '0', 'enabled': False, 'etch_power_...</td>\n",
       "      <td>{'top': {'model': 'huray', 'nodule_radius': '0...</td>\n",
       "    </tr>\n",
       "  </tbody>\n",
       "</table>\n",
       "</div>"
      ],
      "text/plain": [
       "         name        type  material  fill_material thickness            color  \\\n",
       "0  soler_mask  dielectric  Megtron4                  0.00002              NaN   \n",
       "1       1_Top      signal    copper  Solder Resist   0.00005      [255, 0, 0]   \n",
       "2         DE1  dielectric  Megtron4                    0.1mm  [128, 128, 128]   \n",
       "\n",
       "                                             etching  \\\n",
       "0                                                NaN   \n",
       "1  {'factor': '0', 'enabled': False, 'etch_power_...   \n",
       "2  {'factor': '0', 'enabled': False, 'etch_power_...   \n",
       "\n",
       "                                           roughness  \n",
       "0                                                NaN  \n",
       "1  {'top': {'model': 'huray', 'nodule_radius': '0...  \n",
       "2  {'top': {'model': 'huray', 'nodule_radius': '0...  "
      ]
     },
     "metadata": {},
     "output_type": "display_data"
    }
   ],
   "source": [
    "df = pd.DataFrame(data=data_cfg[\"stackup\"][\"layers\"])\n",
    "display(df.head(3))"
   ]
  },
  {
   "cell_type": "markdown",
   "id": "59558664",
   "metadata": {},
   "source": [
    "Write stackup definition into a json file"
   ]
  },
  {
   "cell_type": "code",
   "execution_count": 9,
   "id": "bdc7ccac",
   "metadata": {
    "execution": {
     "iopub.execute_input": "2025-02-03T13:59:49.940129Z",
     "iopub.status.busy": "2025-02-03T13:59:49.940129Z",
     "iopub.status.idle": "2025-02-03T13:59:49.955729Z",
     "shell.execute_reply": "2025-02-03T13:59:49.955729Z"
    },
    "lines_to_next_cell": 2
   },
   "outputs": [],
   "source": [
    "file_cfg = Path(temp_folder.name) / \"edb_configuration.json\"\n",
    "with open(file_cfg, \"w\") as f:\n",
    "    json.dump(data_cfg, f, indent=4, ensure_ascii=False)"
   ]
  },
  {
   "cell_type": "markdown",
   "id": "f050efcd",
   "metadata": {},
   "source": [
    "## Load stackup from json configuration file"
   ]
  },
  {
   "cell_type": "code",
   "execution_count": 10,
   "id": "39492532",
   "metadata": {
    "execution": {
     "iopub.execute_input": "2025-02-03T13:59:49.955729Z",
     "iopub.status.busy": "2025-02-03T13:59:49.955729Z",
     "iopub.status.idle": "2025-02-03T13:59:57.300000Z",
     "shell.execute_reply": "2025-02-03T13:59:57.300000Z"
    }
   },
   "outputs": [
    {
     "data": {
      "text/plain": [
       "<pyedb.configuration.cfg_data.CfgData at 0x27652b1b7f0>"
      ]
     },
     "execution_count": 10,
     "metadata": {},
     "output_type": "execute_result"
    }
   ],
   "source": [
    "edbapp.configuration.load(file_cfg, apply_file=True)"
   ]
  },
  {
   "cell_type": "markdown",
   "id": "9031aa10",
   "metadata": {},
   "source": [
    "Plot stackup"
   ]
  },
  {
   "cell_type": "code",
   "execution_count": 11,
   "id": "eba1f4a4",
   "metadata": {
    "execution": {
     "iopub.execute_input": "2025-02-03T13:59:57.300000Z",
     "iopub.status.busy": "2025-02-03T13:59:57.300000Z",
     "iopub.status.idle": "2025-02-03T13:59:57.425002Z",
     "shell.execute_reply": "2025-02-03T13:59:57.425002Z"
    }
   },
   "outputs": [
    {
     "name": "stderr",
     "output_type": "stream",
     "text": [
      "C:\\actions-runner\\_work\\pyedb\\pyedb\\.venv\\lib\\site-packages\\pyedb\\dotnet\\edb_core\\stackup.py:2868: UserWarning: FigureCanvasAgg is non-interactive, and thus cannot be shown\n",
      "  plt.show()\n"
     ]
    },
    {
     "data": {
      "text/plain": [
       "<module 'matplotlib.pyplot' from 'C:\\\\actions-runner\\\\_work\\\\pyedb\\\\pyedb\\\\.venv\\\\lib\\\\site-packages\\\\matplotlib\\\\pyplot.py'>"
      ]
     },
     "execution_count": 11,
     "metadata": {},
     "output_type": "execute_result"
    }
   ],
   "source": [
    "edbapp.stackup.plot()"
   ]
  },
  {
   "cell_type": "markdown",
   "id": "b3df3296",
   "metadata": {},
   "source": [
    "Check top layer thickness"
   ]
  },
  {
   "cell_type": "code",
   "execution_count": 12,
   "id": "8b149665",
   "metadata": {
    "execution": {
     "iopub.execute_input": "2025-02-03T13:59:57.425002Z",
     "iopub.status.busy": "2025-02-03T13:59:57.425002Z",
     "iopub.status.idle": "2025-02-03T13:59:57.440628Z",
     "shell.execute_reply": "2025-02-03T13:59:57.440628Z"
    }
   },
   "outputs": [
    {
     "data": {
      "text/plain": [
       "5e-05"
      ]
     },
     "execution_count": 12,
     "metadata": {},
     "output_type": "execute_result"
    }
   ],
   "source": [
    "edbapp.stackup[\"1_Top\"].thickness"
   ]
  },
  {
   "cell_type": "markdown",
   "id": "e40cff35",
   "metadata": {},
   "source": [
    "## Save and close Edb\n",
    "The temporary folder will be deleted once the execution of this script is finished. Replace **edbapp.save()** with\n",
    "**edbapp.save_as(\"C:/example.aedb\")** to keep the example project."
   ]
  },
  {
   "cell_type": "code",
   "execution_count": 13,
   "id": "38f13502",
   "metadata": {
    "execution": {
     "iopub.execute_input": "2025-02-03T13:59:57.440628Z",
     "iopub.status.busy": "2025-02-03T13:59:57.440628Z",
     "iopub.status.idle": "2025-02-03T13:59:57.643681Z",
     "shell.execute_reply": "2025-02-03T13:59:57.643681Z"
    }
   },
   "outputs": [
    {
     "data": {
      "text/plain": [
       "True"
      ]
     },
     "execution_count": 13,
     "metadata": {},
     "output_type": "execute_result"
    }
   ],
   "source": [
    "edbapp.save()\n",
    "edbapp.close()"
   ]
  }
 ],
 "metadata": {
  "jupytext": {
   "cell_metadata_filter": "-all",
   "main_language": "python",
   "notebook_metadata_filter": "-all",
   "text_representation": {
    "extension": ".py",
    "format_name": "light"
   }
  },
  "language_info": {
   "codemirror_mode": {
    "name": "ipython",
    "version": 3
   },
   "file_extension": ".py",
   "mimetype": "text/x-python",
   "name": "python",
   "nbconvert_exporter": "python",
   "pygments_lexer": "ipython3",
   "version": "3.10.11"
  }
 },
 "nbformat": 4,
 "nbformat_minor": 5
}
