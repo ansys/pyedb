{
 "cells": [
  {
   "cell_type": "markdown",
   "id": "7d92d660",
   "metadata": {},
   "source": [
    "# Set up EDB for PCB DC IR Analysis\n",
    "This example shows how to set up the electronics database (EDB) for DC IR analysis from a single\n",
    "configuration file."
   ]
  },
  {
   "cell_type": "markdown",
   "id": "0ed23c4e",
   "metadata": {},
   "source": [
    "## Import the required packages"
   ]
  },
  {
   "cell_type": "code",
   "execution_count": 1,
   "id": "74989bf9",
   "metadata": {
    "execution": {
     "iopub.execute_input": "2025-02-03T14:00:02.738547Z",
     "iopub.status.busy": "2025-02-03T14:00:02.738547Z",
     "iopub.status.idle": "2025-02-03T14:00:03.207249Z",
     "shell.execute_reply": "2025-02-03T14:00:03.207249Z"
    }
   },
   "outputs": [],
   "source": [
    "import json\n",
    "import os\n",
    "import tempfile\n",
    "\n",
    "from ansys.aedt.core import Hfss3dLayout, Icepak\n",
    "from ansys.aedt.core.downloads import download_file\n",
    "\n",
    "from pyedb import Edb\n",
    "\n",
    "AEDT_VERSION = \"2024.2\"\n",
    "NG_MODE = False\n"
   ]
  },
  {
   "cell_type": "markdown",
   "id": "2e1fb5d5",
   "metadata": {},
   "source": [
    "Download the example PCB data."
   ]
  },
  {
   "cell_type": "code",
   "execution_count": 2,
   "id": "776ff69b",
   "metadata": {
    "execution": {
     "iopub.execute_input": "2025-02-03T14:00:03.207249Z",
     "iopub.status.busy": "2025-02-03T14:00:03.207249Z",
     "iopub.status.idle": "2025-02-03T14:00:04.998851Z",
     "shell.execute_reply": "2025-02-03T14:00:04.998851Z"
    }
   },
   "outputs": [],
   "source": [
    "temp_folder = tempfile.TemporaryDirectory(suffix=\".ansys\")\n",
    "file_edb = download_file(source=\"edb/ANSYS-HSD_V1.aedb\", destination=temp_folder.name)"
   ]
  },
  {
   "cell_type": "markdown",
   "id": "f2ea5f89",
   "metadata": {},
   "source": [
    "## Load example layout"
   ]
  },
  {
   "cell_type": "code",
   "execution_count": 3,
   "id": "f30e262e",
   "metadata": {
    "execution": {
     "iopub.execute_input": "2025-02-03T14:00:04.998851Z",
     "iopub.status.busy": "2025-02-03T14:00:04.998851Z",
     "iopub.status.idle": "2025-02-03T14:00:17.835134Z",
     "shell.execute_reply": "2025-02-03T14:00:17.835134Z"
    }
   },
   "outputs": [
    {
     "name": "stdout",
     "output_type": "stream",
     "text": [
      "PyAEDT INFO: Logger is initialized in EDB.\n"
     ]
    },
    {
     "name": "stdout",
     "output_type": "stream",
     "text": [
      "PyAEDT INFO: legacy v0.37.0\n"
     ]
    },
    {
     "name": "stdout",
     "output_type": "stream",
     "text": [
      "PyAEDT INFO: Python version 3.10.11 (tags/v3.10.11:7d4cc5a, Apr  5 2023, 00:38:17) [MSC v.1929 64 bit (AMD64)]\n"
     ]
    },
    {
     "name": "stdout",
     "output_type": "stream",
     "text": [
      "PyAEDT INFO: Database ANSYS-HSD_V1.aedb Opened in 2024.2\n"
     ]
    },
    {
     "name": "stdout",
     "output_type": "stream",
     "text": [
      "PyAEDT INFO: Cell main Opened\n"
     ]
    },
    {
     "name": "stdout",
     "output_type": "stream",
     "text": [
      "PyAEDT INFO: Builder was initialized.\n"
     ]
    },
    {
     "name": "stdout",
     "output_type": "stream",
     "text": [
      "PyAEDT INFO: EDB initialized.\n"
     ]
    }
   ],
   "source": [
    "edbapp = Edb(file_edb, edbversion=AEDT_VERSION)"
   ]
  },
  {
   "cell_type": "markdown",
   "id": "6f6da205",
   "metadata": {},
   "source": [
    "## Create an empty dictionary to host all configurations"
   ]
  },
  {
   "cell_type": "code",
   "execution_count": 4,
   "id": "83e62eaa",
   "metadata": {
    "execution": {
     "iopub.execute_input": "2025-02-03T14:00:17.835134Z",
     "iopub.status.busy": "2025-02-03T14:00:17.835134Z",
     "iopub.status.idle": "2025-02-03T14:00:17.850749Z",
     "shell.execute_reply": "2025-02-03T14:00:17.850749Z"
    }
   },
   "outputs": [],
   "source": [
    "cfg = dict()\n",
    "cfg[\"sources\"] = []"
   ]
  },
  {
   "cell_type": "markdown",
   "id": "5fb818e4",
   "metadata": {},
   "source": [
    "## Update stackup"
   ]
  },
  {
   "cell_type": "code",
   "execution_count": 5,
   "id": "edc849e8",
   "metadata": {
    "execution": {
     "iopub.execute_input": "2025-02-03T14:00:17.850749Z",
     "iopub.status.busy": "2025-02-03T14:00:17.850749Z",
     "iopub.status.idle": "2025-02-03T14:00:17.866444Z",
     "shell.execute_reply": "2025-02-03T14:00:17.866444Z"
    }
   },
   "outputs": [],
   "source": [
    "cfg[\"stackup\"] = {\n",
    "    \"layers\": [\n",
    "        {\"name\": \"Top\", \"type\": \"signal\", \"material\": \"copper\", \"fill_material\": \"FR4_epoxy\", \"thickness\": \"0.035mm\"},\n",
    "        {\"name\": \"DE1\", \"type\": \"dielectric\", \"material\": \"FR4_epoxy\", \"fill_material\": \"\", \"thickness\": \"0.1mm\"},\n",
    "        {\n",
    "            \"name\": \"Inner1\",\n",
    "            \"type\": \"signal\",\n",
    "            \"material\": \"copper\",\n",
    "            \"fill_material\": \"FR4_epoxy\",\n",
    "            \"thickness\": \"0.017mm\",\n",
    "        },\n",
    "        {\"name\": \"DE2\", \"type\": \"dielectric\", \"material\": \"FR4_epoxy\", \"fill_material\": \"\", \"thickness\": \"0.088mm\"},\n",
    "        {\n",
    "            \"name\": \"Inner2\",\n",
    "            \"type\": \"signal\",\n",
    "            \"material\": \"copper\",\n",
    "            \"fill_material\": \"FR4_epoxy\",\n",
    "            \"thickness\": \"0.017mm\",\n",
    "        },\n",
    "        {\"name\": \"DE3\", \"type\": \"dielectric\", \"material\": \"FR4_epoxy\", \"fill_material\": \"\", \"thickness\": \"0.1mm\"},\n",
    "        {\n",
    "            \"name\": \"Inner3\",\n",
    "            \"type\": \"signal\",\n",
    "            \"material\": \"copper\",\n",
    "            \"fill_material\": \"FR4_epoxy\",\n",
    "            \"thickness\": \"0.017mm\",\n",
    "        },\n",
    "        {\n",
    "            \"name\": \"FR4_epoxy-1mm\",\n",
    "            \"type\": \"dielectric\",\n",
    "            \"material\": \"FR4_epoxy\",\n",
    "            \"fill_material\": \"\",\n",
    "            \"thickness\": \"1mm\",\n",
    "        },\n",
    "        {\n",
    "            \"name\": \"Inner4\",\n",
    "            \"type\": \"signal\",\n",
    "            \"material\": \"copper\",\n",
    "            \"fill_material\": \"FR4_epoxy\",\n",
    "            \"thickness\": \"0.017mm\",\n",
    "        },\n",
    "        {\"name\": \"DE5\", \"type\": \"dielectric\", \"material\": \"FR4_epoxy\", \"fill_material\": \"\", \"thickness\": \"0.1mm\"},\n",
    "        {\n",
    "            \"name\": \"Inner5\",\n",
    "            \"type\": \"signal\",\n",
    "            \"material\": \"copper\",\n",
    "            \"fill_material\": \"FR4_epoxy\",\n",
    "            \"thickness\": \"0.017mm\",\n",
    "        },\n",
    "        {\"name\": \"DE6\", \"type\": \"dielectric\", \"material\": \"FR4_epoxy\", \"fill_material\": \"\", \"thickness\": \"0.088mm\"},\n",
    "        {\n",
    "            \"name\": \"Inner6\",\n",
    "            \"type\": \"signal\",\n",
    "            \"material\": \"copper\",\n",
    "            \"fill_material\": \"FR4_epoxy\",\n",
    "            \"thickness\": \"0.017mm\",\n",
    "        },\n",
    "        {\"name\": \"DE7\", \"type\": \"dielectric\", \"material\": \"FR4_epoxy\", \"fill_material\": \"\", \"thickness\": \"0.1mm\"},\n",
    "        {\n",
    "            \"name\": \"Bottom\",\n",
    "            \"type\": \"signal\",\n",
    "            \"material\": \"copper\",\n",
    "            \"fill_material\": \"FR4_epoxy\",\n",
    "            \"thickness\": \"0.035mm\",\n",
    "        },\n",
    "    ]\n",
    "}"
   ]
  },
  {
   "cell_type": "markdown",
   "id": "b50d4757",
   "metadata": {},
   "source": [
    "## Define voltage source"
   ]
  },
  {
   "cell_type": "code",
   "execution_count": 6,
   "id": "ad40f3d4",
   "metadata": {
    "execution": {
     "iopub.execute_input": "2025-02-03T14:00:17.866444Z",
     "iopub.status.busy": "2025-02-03T14:00:17.866444Z",
     "iopub.status.idle": "2025-02-03T14:00:17.882048Z",
     "shell.execute_reply": "2025-02-03T14:00:17.882048Z"
    }
   },
   "outputs": [],
   "source": [
    "cfg[\"sources\"].append(\n",
    "    {\n",
    "        \"name\": \"vrm\",\n",
    "        \"reference_designator\": \"U2\",\n",
    "        \"type\": \"voltage\",\n",
    "        \"magnitude\": 1,\n",
    "        \"positive_terminal\": {\"net\": \"1V0\"},\n",
    "        \"negative_terminal\": {\"net\": \"GND\"},\n",
    "    }\n",
    ")"
   ]
  },
  {
   "cell_type": "markdown",
   "id": "4aecac73",
   "metadata": {},
   "source": [
    "## Define current source"
   ]
  },
  {
   "cell_type": "code",
   "execution_count": 7,
   "id": "f2638297",
   "metadata": {
    "execution": {
     "iopub.execute_input": "2025-02-03T14:00:17.882048Z",
     "iopub.status.busy": "2025-02-03T14:00:17.882048Z",
     "iopub.status.idle": "2025-02-03T14:00:17.897685Z",
     "shell.execute_reply": "2025-02-03T14:00:17.897685Z"
    }
   },
   "outputs": [],
   "source": [
    "cfg[\"sources\"].append(\n",
    "    {\n",
    "        \"name\": \"U1_1V0\",\n",
    "        \"reference_designator\": \"U1\",\n",
    "        \"type\": \"current\",\n",
    "        \"magnitude\": 10,\n",
    "        \"positive_terminal\": {\"net\": \"1V0\"},\n",
    "        \"negative_terminal\": {\"net\": \"GND\"},\n",
    "    }\n",
    ")"
   ]
  },
  {
   "cell_type": "markdown",
   "id": "80eaf540",
   "metadata": {},
   "source": [
    "## Define SIwave DC IR analysis setup"
   ]
  },
  {
   "cell_type": "code",
   "execution_count": 8,
   "id": "3ad6b255",
   "metadata": {
    "execution": {
     "iopub.execute_input": "2025-02-03T14:00:17.897685Z",
     "iopub.status.busy": "2025-02-03T14:00:17.897685Z",
     "iopub.status.idle": "2025-02-03T14:00:17.913317Z",
     "shell.execute_reply": "2025-02-03T14:00:17.913317Z"
    }
   },
   "outputs": [],
   "source": [
    "cfg[\"setups\"] = [\n",
    "    {\n",
    "        \"name\": \"siwave_1\",\n",
    "        \"type\": \"siwave_dc\",\n",
    "        \"dc_slider_position\": 1,\n",
    "        \"dc_ir_settings\": {\"export_dc_thermal_data\": True},\n",
    "    }\n",
    "]"
   ]
  },
  {
   "cell_type": "markdown",
   "id": "6d64b573",
   "metadata": {},
   "source": [
    "## Define Cutout"
   ]
  },
  {
   "cell_type": "code",
   "execution_count": 9,
   "id": "a236439f",
   "metadata": {
    "execution": {
     "iopub.execute_input": "2025-02-03T14:00:17.913317Z",
     "iopub.status.busy": "2025-02-03T14:00:17.913317Z",
     "iopub.status.idle": "2025-02-03T14:00:17.928926Z",
     "shell.execute_reply": "2025-02-03T14:00:17.928926Z"
    }
   },
   "outputs": [],
   "source": [
    "cfg[\"operations\"] = {\n",
    "    \"cutout\": {\"signal_list\": [\"1V0\"], \"reference_list\": [\"GND\"], \"extent_type\": \"ConvexHull\", \"expansion_size\": \"20mm\"}\n",
    "}"
   ]
  },
  {
   "cell_type": "markdown",
   "id": "6cb0822d",
   "metadata": {},
   "source": [
    "## Define package for thermal analysis (optional)"
   ]
  },
  {
   "cell_type": "code",
   "execution_count": 10,
   "id": "f2f4efb6",
   "metadata": {
    "execution": {
     "iopub.execute_input": "2025-02-03T14:00:17.928926Z",
     "iopub.status.busy": "2025-02-03T14:00:17.928926Z",
     "iopub.status.idle": "2025-02-03T14:00:17.944578Z",
     "shell.execute_reply": "2025-02-03T14:00:17.944578Z"
    }
   },
   "outputs": [],
   "source": [
    "cfg[\"package_definitions\"] = [\n",
    "    {\n",
    "        \"name\": \"package_1\",\n",
    "        \"component_definition\": \"ALTR-FBGA1517-Ansys\",\n",
    "        \"maximum_power\": 0.5,\n",
    "        \"therm_cond\": 2,\n",
    "        \"theta_jb\": 3,\n",
    "        \"theta_jc\": 4,\n",
    "        \"height\": \"1mm\",\n",
    "        \"apply_to_all\": False,\n",
    "        \"components\": [\"U1\"],\n",
    "    },\n",
    "]"
   ]
  },
  {
   "cell_type": "markdown",
   "id": "863b1670",
   "metadata": {},
   "source": [
    "## Write configuration into a JSON file"
   ]
  },
  {
   "cell_type": "code",
   "execution_count": 11,
   "id": "2aade074",
   "metadata": {
    "execution": {
     "iopub.execute_input": "2025-02-03T14:00:17.944578Z",
     "iopub.status.busy": "2025-02-03T14:00:17.944578Z",
     "iopub.status.idle": "2025-02-03T14:00:17.960207Z",
     "shell.execute_reply": "2025-02-03T14:00:17.960207Z"
    }
   },
   "outputs": [],
   "source": [
    "file_json = os.path.join(temp_folder.name, \"edb_configuration.json\")\n",
    "with open(file_json, \"w\") as f:\n",
    "    json.dump(cfg, f, indent=4, ensure_ascii=False)"
   ]
  },
  {
   "cell_type": "markdown",
   "id": "5cfa5dc8",
   "metadata": {},
   "source": [
    "## Import configuration into example layout"
   ]
  },
  {
   "cell_type": "code",
   "execution_count": 12,
   "id": "2b0d9922",
   "metadata": {
    "execution": {
     "iopub.execute_input": "2025-02-03T14:00:17.960207Z",
     "iopub.status.busy": "2025-02-03T14:00:17.960207Z",
     "iopub.status.idle": "2025-02-03T14:00:17.991439Z",
     "shell.execute_reply": "2025-02-03T14:00:17.991439Z"
    }
   },
   "outputs": [
    {
     "data": {
      "text/plain": [
       "<pyedb.configuration.cfg_data.CfgData at 0x25eeb33b670>"
      ]
     },
     "execution_count": 12,
     "metadata": {},
     "output_type": "execute_result"
    }
   ],
   "source": [
    "edbapp.configuration.load(config_file=file_json)"
   ]
  },
  {
   "cell_type": "markdown",
   "id": "efb4953b",
   "metadata": {},
   "source": [
    "Apply configuration to EDB."
   ]
  },
  {
   "cell_type": "code",
   "execution_count": 13,
   "id": "9660ea4f",
   "metadata": {
    "execution": {
     "iopub.execute_input": "2025-02-03T14:00:17.991439Z",
     "iopub.status.busy": "2025-02-03T14:00:17.991439Z",
     "iopub.status.idle": "2025-02-03T14:00:31.399423Z",
     "shell.execute_reply": "2025-02-03T14:00:31.399423Z"
    }
   },
   "outputs": [
    {
     "name": "stdout",
     "output_type": "stream",
     "text": [
      "PyAEDT INFO: Cutout Multithread started.\n"
     ]
    },
    {
     "name": "stdout",
     "output_type": "stream",
     "text": [
      "PyAEDT INFO: Net clean up Elapsed time: 0m 2sec\n"
     ]
    },
    {
     "name": "stdout",
     "output_type": "stream",
     "text": [
      "PyAEDT INFO: Extent Creation Elapsed time: 0m 0sec\n"
     ]
    },
    {
     "name": "stdout",
     "output_type": "stream",
     "text": [
      "PyAEDT INFO: 533 Padstack Instances deleted. Elapsed time: 0m 1sec\n"
     ]
    },
    {
     "name": "stdout",
     "output_type": "stream",
     "text": [
      "PyAEDT INFO: 105 Primitives deleted. Elapsed time: 0m 2sec\n"
     ]
    },
    {
     "name": "stdout",
     "output_type": "stream",
     "text": [
      "PyAEDT INFO: 470 components deleted\n"
     ]
    },
    {
     "name": "stdout",
     "output_type": "stream",
     "text": [
      "PyAEDT INFO: Cutout completed. Elapsed time: 0m 5sec\n"
     ]
    },
    {
     "data": {
      "text/plain": [
       "True"
      ]
     },
     "execution_count": 13,
     "metadata": {},
     "output_type": "execute_result"
    }
   ],
   "source": [
    "edbapp.configuration.run()"
   ]
  },
  {
   "cell_type": "markdown",
   "id": "8dfe9138",
   "metadata": {},
   "source": [
    "Save and close EDB."
   ]
  },
  {
   "cell_type": "code",
   "execution_count": 14,
   "id": "7331359d",
   "metadata": {
    "execution": {
     "iopub.execute_input": "2025-02-03T14:00:31.399423Z",
     "iopub.status.busy": "2025-02-03T14:00:31.399423Z",
     "iopub.status.idle": "2025-02-03T14:00:31.633854Z",
     "shell.execute_reply": "2025-02-03T14:00:31.633854Z"
    }
   },
   "outputs": [
    {
     "data": {
      "text/plain": [
       "True"
      ]
     },
     "execution_count": 14,
     "metadata": {},
     "output_type": "execute_result"
    }
   ],
   "source": [
    "edbapp.save()\n",
    "edbapp.close()"
   ]
  },
  {
   "cell_type": "markdown",
   "id": "71b7c7aa",
   "metadata": {},
   "source": [
    "The configured EDB file is saved in a temp folder."
   ]
  },
  {
   "cell_type": "code",
   "execution_count": 15,
   "id": "85dcbcf0",
   "metadata": {
    "execution": {
     "iopub.execute_input": "2025-02-03T14:00:31.633854Z",
     "iopub.status.busy": "2025-02-03T14:00:31.633854Z",
     "iopub.status.idle": "2025-02-03T14:00:31.649476Z",
     "shell.execute_reply": "2025-02-03T14:00:31.649476Z"
    }
   },
   "outputs": [
    {
     "name": "stdout",
     "output_type": "stream",
     "text": [
      "C:\\Users\\ansys\\AppData\\Local\\Temp\\tmpgv38okj4.ansys\n"
     ]
    }
   ],
   "source": [
    "print(temp_folder.name)"
   ]
  },
  {
   "cell_type": "markdown",
   "id": "4db256be",
   "metadata": {},
   "source": [
    "## Load edb into HFSS 3D Layout."
   ]
  },
  {
   "cell_type": "code",
   "execution_count": 16,
   "id": "fc2a0fe6",
   "metadata": {
    "execution": {
     "iopub.execute_input": "2025-02-03T14:00:31.649476Z",
     "iopub.status.busy": "2025-02-03T14:00:31.649476Z",
     "iopub.status.idle": "2025-02-03T14:00:53.206875Z",
     "shell.execute_reply": "2025-02-03T14:00:53.206875Z"
    }
   },
   "outputs": [
    {
     "name": "stdout",
     "output_type": "stream",
     "text": [
      "PyAEDT INFO: Python version 3.10.11 (tags/v3.10.11:7d4cc5a, Apr  5 2023, 00:38:17) [MSC v.1929 64 bit (AMD64)]\n"
     ]
    },
    {
     "name": "stdout",
     "output_type": "stream",
     "text": [
      "PyAEDT INFO: PyAEDT version 0.14.dev0.\n"
     ]
    },
    {
     "name": "stdout",
     "output_type": "stream",
     "text": [
      "PyAEDT INFO: Initializing new Desktop session.\n"
     ]
    },
    {
     "name": "stdout",
     "output_type": "stream",
     "text": [
      "PyAEDT INFO: Log on console is enabled.\n"
     ]
    },
    {
     "name": "stdout",
     "output_type": "stream",
     "text": [
      "PyAEDT INFO: Log on file C:\\Users\\ansys\\AppData\\Local\\Temp\\pyaedt_ansys_c813cef6-8d01-4439-843e-d89b86dfe681.log is enabled.\n"
     ]
    },
    {
     "name": "stdout",
     "output_type": "stream",
     "text": [
      "PyAEDT INFO: Log on AEDT is enabled.\n"
     ]
    },
    {
     "name": "stdout",
     "output_type": "stream",
     "text": [
      "PyAEDT INFO: Debug logger is disabled. PyAEDT methods will not be logged.\n"
     ]
    },
    {
     "name": "stdout",
     "output_type": "stream",
     "text": [
      "PyAEDT INFO: Launching PyAEDT with gRPC plugin.\n"
     ]
    },
    {
     "name": "stdout",
     "output_type": "stream",
     "text": [
      "PyAEDT INFO: New AEDT session is starting on gRPC port 58231\n"
     ]
    },
    {
     "name": "stdout",
     "output_type": "stream",
     "text": [
      "PyAEDT INFO: AEDT installation Path C:\\Program Files\\AnsysEM\\v242\\Win64\n"
     ]
    },
    {
     "name": "stdout",
     "output_type": "stream",
     "text": [
      "PyAEDT INFO: Ansoft.ElectronicsDesktop.2024.2 version started with process ID 5924.\n"
     ]
    },
    {
     "name": "stdout",
     "output_type": "stream",
     "text": [
      "PyAEDT INFO: EDB folder C:\\Users\\ansys\\AppData\\Local\\Temp\\tmpgv38okj4.ansys\\edb/ANSYS-HSD_V1.aedb has been imported to project ANSYS-HSD_V1\n"
     ]
    },
    {
     "name": "stdout",
     "output_type": "stream",
     "text": [
      "PyAEDT INFO: Active Design set to 0;main\n"
     ]
    },
    {
     "name": "stdout",
     "output_type": "stream",
     "text": [
      "PyAEDT INFO: Aedt Objects correctly read\n"
     ]
    }
   ],
   "source": [
    "h3d = Hfss3dLayout(edbapp.edbpath, version=AEDT_VERSION, non_graphical=NG_MODE, new_desktop=True)"
   ]
  },
  {
   "cell_type": "markdown",
   "id": "c8c8099c",
   "metadata": {},
   "source": [
    "## Prepare for electro-thermal analysis in Icepak (Optional)"
   ]
  },
  {
   "cell_type": "code",
   "execution_count": 17,
   "id": "7394624e",
   "metadata": {
    "execution": {
     "iopub.execute_input": "2025-02-03T14:00:53.206875Z",
     "iopub.status.busy": "2025-02-03T14:00:53.206875Z",
     "iopub.status.idle": "2025-02-03T14:00:53.238103Z",
     "shell.execute_reply": "2025-02-03T14:00:53.238103Z"
    }
   },
   "outputs": [
    {
     "name": "stdout",
     "output_type": "stream",
     "text": [
      "PyAEDT INFO: Loading Modeler.\n"
     ]
    },
    {
     "name": "stdout",
     "output_type": "stream",
     "text": [
      "PyAEDT INFO: Modeler loaded.\n"
     ]
    },
    {
     "name": "stdout",
     "output_type": "stream",
     "text": [
      "PyAEDT INFO: EDB loaded.\n"
     ]
    },
    {
     "name": "stdout",
     "output_type": "stream",
     "text": [
      "PyAEDT INFO: Layers loaded.\n"
     ]
    },
    {
     "name": "stdout",
     "output_type": "stream",
     "text": [
      "PyAEDT INFO: Primitives loaded.\n"
     ]
    },
    {
     "name": "stdout",
     "output_type": "stream",
     "text": [
      "PyAEDT INFO: Modeler class has been initialized! Elapsed time: 0m 0sec\n"
     ]
    },
    {
     "name": "stdout",
     "output_type": "stream",
     "text": [
      "PyAEDT INFO: Set the temperature dependence for the design.\n"
     ]
    },
    {
     "name": "stdout",
     "output_type": "stream",
     "text": [
      "PyAEDT INFO: Assigned Objects Temperature\n"
     ]
    },
    {
     "data": {
      "text/plain": [
       "True"
      ]
     },
     "execution_count": 17,
     "metadata": {},
     "output_type": "execute_result"
    }
   ],
   "source": [
    "h3d.modeler.set_temperature_dependence(include_temperature_dependence=True, enable_feedback=True, ambient_temp=22)"
   ]
  },
  {
   "cell_type": "markdown",
   "id": "ec78cf95",
   "metadata": {},
   "source": [
    "## Analyze"
   ]
  },
  {
   "cell_type": "code",
   "execution_count": 18,
   "id": "945e203e",
   "metadata": {
    "execution": {
     "iopub.execute_input": "2025-02-03T14:00:53.238103Z",
     "iopub.status.busy": "2025-02-03T14:00:53.238103Z",
     "iopub.status.idle": "2025-02-03T14:01:28.079551Z",
     "shell.execute_reply": "2025-02-03T14:01:28.079551Z"
    }
   },
   "outputs": [
    {
     "name": "stdout",
     "output_type": "stream",
     "text": [
      "PyAEDT INFO: Key Desktop/ActiveDSOConfigurations/HFSS 3D Layout Design correctly changed.\n"
     ]
    },
    {
     "name": "stdout",
     "output_type": "stream",
     "text": [
      "PyAEDT INFO: Solving all design setups.\n"
     ]
    },
    {
     "name": "stdout",
     "output_type": "stream",
     "text": [
      "PyAEDT INFO: Key Desktop/ActiveDSOConfigurations/HFSS 3D Layout Design correctly changed.\n"
     ]
    },
    {
     "name": "stdout",
     "output_type": "stream",
     "text": [
      "PyAEDT INFO: Design setup None solved correctly in 0.0h 0.0m 35.0s\n"
     ]
    },
    {
     "data": {
      "text/plain": [
       "True"
      ]
     },
     "execution_count": 18,
     "metadata": {},
     "output_type": "execute_result"
    }
   ],
   "source": [
    "h3d.analyze()"
   ]
  },
  {
   "cell_type": "markdown",
   "id": "dc385278",
   "metadata": {},
   "source": [
    "## Plot DC voltage"
   ]
  },
  {
   "cell_type": "code",
   "execution_count": 19,
   "id": "e97447b3",
   "metadata": {
    "execution": {
     "iopub.execute_input": "2025-02-03T14:01:28.079551Z",
     "iopub.status.busy": "2025-02-03T14:01:28.079551Z",
     "iopub.status.idle": "2025-02-03T14:01:29.248861Z",
     "shell.execute_reply": "2025-02-03T14:01:29.248861Z"
    }
   },
   "outputs": [
    {
     "name": "stdout",
     "output_type": "stream",
     "text": [
      "PyAEDT INFO: Parsing C:/Users/ansys/AppData/Local/Temp/tmpgv38okj4.ansys/edb/ANSYS-HSD_V1.aedt.\n"
     ]
    },
    {
     "name": "stdout",
     "output_type": "stream",
     "text": [
      "PyAEDT INFO: File C:/Users/ansys/AppData/Local/Temp/tmpgv38okj4.ansys/edb/ANSYS-HSD_V1.aedt correctly loaded. Elapsed time: 0m 0sec\n"
     ]
    },
    {
     "name": "stdout",
     "output_type": "stream",
     "text": [
      "PyAEDT INFO: aedt file load time 0.031253814697265625\n"
     ]
    },
    {
     "name": "stdout",
     "output_type": "stream",
     "text": [
      "PyAEDT INFO: PostProcessor class has been initialized! Elapsed time: 0m 0sec\n"
     ]
    },
    {
     "name": "stdout",
     "output_type": "stream",
     "text": [
      "PyAEDT INFO: Post class has been initialized! Elapsed time: 0m 0sec\n"
     ]
    },
    {
     "name": "stdout",
     "output_type": "stream",
     "text": [
      "PyAEDT INFO: Logger is initialized in EDB.\n"
     ]
    },
    {
     "name": "stdout",
     "output_type": "stream",
     "text": [
      "PyAEDT INFO: legacy v0.37.0\n"
     ]
    },
    {
     "name": "stdout",
     "output_type": "stream",
     "text": [
      "PyAEDT INFO: Python version 3.10.11 (tags/v3.10.11:7d4cc5a, Apr  5 2023, 00:38:17) [MSC v.1929 64 bit (AMD64)]\n"
     ]
    },
    {
     "name": "stdout",
     "output_type": "stream",
     "text": [
      "PyAEDT INFO: Database ANSYS-HSD_V1.aedb Opened in 2024.2\n"
     ]
    },
    {
     "name": "stdout",
     "output_type": "stream",
     "text": [
      "PyAEDT INFO: Cell main Opened\n"
     ]
    },
    {
     "name": "stdout",
     "output_type": "stream",
     "text": [
      "PyAEDT INFO: Builder was initialized.\n"
     ]
    },
    {
     "name": "stdout",
     "output_type": "stream",
     "text": [
      "PyAEDT INFO: EDB initialized.\n"
     ]
    }
   ],
   "source": [
    "voltage = h3d.post.create_fieldplot_layers_nets(\n",
    "    layers_nets=[\n",
    "        [\"Inner2\", \"1V0\"],\n",
    "    ],\n",
    "    quantity=\"Voltage\",\n",
    "    setup=\"siwave_1\",\n",
    ")"
   ]
  },
  {
   "cell_type": "code",
   "execution_count": 20,
   "id": "d59feb0e",
   "metadata": {
    "execution": {
     "iopub.execute_input": "2025-02-03T14:01:29.248861Z",
     "iopub.status.busy": "2025-02-03T14:01:29.248861Z",
     "iopub.status.idle": "2025-02-03T14:01:29.264486Z",
     "shell.execute_reply": "2025-02-03T14:01:29.264486Z"
    }
   },
   "outputs": [
    {
     "data": {
      "text/plain": [
       "'C:\\\\Users\\\\ansys\\\\AppData\\\\Local\\\\Temp\\\\tmpgv38okj4.ansys\\\\voltage.jpg'"
      ]
     },
     "execution_count": 20,
     "metadata": {},
     "output_type": "execute_result"
    }
   ],
   "source": [
    "file_path_image = os.path.join(temp_folder.name, \"voltage.jpg\")\n",
    "voltage.export_image(\n",
    "    full_path=file_path_image,\n",
    "    width=640,\n",
    "    height=480,\n",
    "    orientation=\"isometric\",\n",
    "    display_wireframe=True,\n",
    "    selections=None,\n",
    "    show_region=True,\n",
    "    show_axis=True,\n",
    "    show_grid=True,\n",
    "    show_ruler=True,\n",
    ")"
   ]
  },
  {
   "cell_type": "markdown",
   "id": "eacd2d7b",
   "metadata": {},
   "source": [
    "## Plot power density"
   ]
  },
  {
   "cell_type": "code",
   "execution_count": 21,
   "id": "0d5cee1d",
   "metadata": {
    "execution": {
     "iopub.execute_input": "2025-02-03T14:01:29.264486Z",
     "iopub.status.busy": "2025-02-03T14:01:29.264486Z",
     "iopub.status.idle": "2025-02-03T14:01:29.397154Z",
     "shell.execute_reply": "2025-02-03T14:01:29.397154Z"
    }
   },
   "outputs": [],
   "source": [
    "power_density = h3d.post.create_fieldplot_layers_nets(\n",
    "    layers_nets=[\n",
    "        [\"Inner2\", \"no-net\"],\n",
    "    ],\n",
    "    quantity=\"Power Density\",\n",
    "    setup=\"siwave_1\",\n",
    ")"
   ]
  },
  {
   "cell_type": "code",
   "execution_count": 22,
   "id": "d4f2947f",
   "metadata": {
    "execution": {
     "iopub.execute_input": "2025-02-03T14:01:29.397154Z",
     "iopub.status.busy": "2025-02-03T14:01:29.397154Z",
     "iopub.status.idle": "2025-02-03T14:01:29.412784Z",
     "shell.execute_reply": "2025-02-03T14:01:29.412784Z"
    }
   },
   "outputs": [
    {
     "data": {
      "text/plain": [
       "'C:\\\\Users\\\\ansys\\\\AppData\\\\Local\\\\Temp\\\\tmpgv38okj4.ansys\\\\power_density.jpg'"
      ]
     },
     "execution_count": 22,
     "metadata": {},
     "output_type": "execute_result"
    }
   ],
   "source": [
    "file_path_image = os.path.join(temp_folder.name, \"power_density.jpg\")\n",
    "power_density.export_image(\n",
    "    full_path=file_path_image,\n",
    "    width=640,\n",
    "    height=480,\n",
    "    orientation=\"isometric\",\n",
    "    display_wireframe=True,\n",
    "    selections=None,\n",
    "    show_region=True,\n",
    "    show_axis=True,\n",
    "    show_grid=True,\n",
    "    show_ruler=True,\n",
    ")"
   ]
  },
  {
   "cell_type": "markdown",
   "id": "4ac41676",
   "metadata": {},
   "source": [
    "## Save HFSS 3D Layout project"
   ]
  },
  {
   "cell_type": "code",
   "execution_count": 23,
   "id": "223cab6a",
   "metadata": {
    "execution": {
     "iopub.execute_input": "2025-02-03T14:01:29.412784Z",
     "iopub.status.busy": "2025-02-03T14:01:29.412784Z",
     "iopub.status.idle": "2025-02-03T14:01:29.587030Z",
     "shell.execute_reply": "2025-02-03T14:01:29.587030Z"
    }
   },
   "outputs": [
    {
     "name": "stdout",
     "output_type": "stream",
     "text": [
      "PyAEDT INFO: Project ANSYS-HSD_V1 Saved correctly\n"
     ]
    },
    {
     "data": {
      "text/plain": [
       "True"
      ]
     },
     "execution_count": 23,
     "metadata": {},
     "output_type": "execute_result"
    }
   ],
   "source": [
    "h3d.save_project()"
   ]
  },
  {
   "cell_type": "markdown",
   "id": "dbd021f5",
   "metadata": {},
   "source": [
    "## Create an Icepak design"
   ]
  },
  {
   "cell_type": "code",
   "execution_count": 24,
   "id": "b823c694",
   "metadata": {
    "execution": {
     "iopub.execute_input": "2025-02-03T14:01:29.587030Z",
     "iopub.status.busy": "2025-02-03T14:01:29.587030Z",
     "iopub.status.idle": "2025-02-03T14:01:40.971626Z",
     "shell.execute_reply": "2025-02-03T14:01:40.971626Z"
    }
   },
   "outputs": [
    {
     "name": "stdout",
     "output_type": "stream",
     "text": [
      "PyAEDT INFO: Python version 3.10.11 (tags/v3.10.11:7d4cc5a, Apr  5 2023, 00:38:17) [MSC v.1929 64 bit (AMD64)]\n"
     ]
    },
    {
     "name": "stdout",
     "output_type": "stream",
     "text": [
      "PyAEDT INFO: PyAEDT version 0.14.dev0.\n"
     ]
    },
    {
     "name": "stdout",
     "output_type": "stream",
     "text": [
      "PyAEDT INFO: Returning found Desktop session with PID 5924!\n"
     ]
    },
    {
     "name": "stdout",
     "output_type": "stream",
     "text": [
      "PyAEDT INFO: No project is defined. Project ANSYS-HSD_V1 exists and has been read.\n"
     ]
    },
    {
     "name": "stdout",
     "output_type": "stream",
     "text": [
      "PyAEDT INFO: No consistent unique design is present. Inserting a new design.\n"
     ]
    },
    {
     "name": "stdout",
     "output_type": "stream",
     "text": [
      "PyAEDT INFO: Added design 'Icepak_T3H' of type Icepak.\n"
     ]
    },
    {
     "name": "stdout",
     "output_type": "stream",
     "text": [
      "PyAEDT INFO: Aedt Objects correctly read\n"
     ]
    }
   ],
   "source": [
    "ipk = Icepak(version=AEDT_VERSION, non_graphical=NG_MODE, new_desktop=False)"
   ]
  },
  {
   "cell_type": "markdown",
   "id": "0104c459",
   "metadata": {},
   "source": [
    "## Create PCB"
   ]
  },
  {
   "cell_type": "code",
   "execution_count": 25,
   "id": "2467a0d9",
   "metadata": {
    "execution": {
     "iopub.execute_input": "2025-02-03T14:01:40.971626Z",
     "iopub.status.busy": "2025-02-03T14:01:40.971626Z",
     "iopub.status.idle": "2025-02-03T14:01:42.314340Z",
     "shell.execute_reply": "2025-02-03T14:01:42.314340Z"
    }
   },
   "outputs": [
    {
     "name": "stdout",
     "output_type": "stream",
     "text": [
      "PyAEDT INFO: Modeler class has been initialized! Elapsed time: 0m 0sec\n"
     ]
    },
    {
     "name": "stdout",
     "output_type": "stream",
     "text": [
      "PyAEDT INFO: Materials class has been initialized! Elapsed time: 0m 0sec\n"
     ]
    }
   ],
   "source": [
    "pcb = ipk.create_ipk_3dcomponent_pcb(\n",
    "    compName=\"PCB_pyAEDT\",\n",
    "    setupLinkInfo=[h3d.project_file, h3d.design_name, \"siwave_1\", True, True],\n",
    "    solutionFreq=None,\n",
    "    resolution=0,\n",
    "    extent_type=\"Bounding Box\",\n",
    "    powerin=\"0\",\n",
    ")"
   ]
  },
  {
   "cell_type": "markdown",
   "id": "5d3583b2",
   "metadata": {},
   "source": [
    "## Include pckage definition from Edb"
   ]
  },
  {
   "cell_type": "code",
   "execution_count": 26,
   "id": "500e1bbf",
   "metadata": {
    "execution": {
     "iopub.execute_input": "2025-02-03T14:01:42.314340Z",
     "iopub.status.busy": "2025-02-03T14:01:42.314340Z",
     "iopub.status.idle": "2025-02-03T14:01:42.940254Z",
     "shell.execute_reply": "2025-02-03T14:01:42.940254Z"
    }
   },
   "outputs": [],
   "source": [
    "pcb.included_parts = \"Device\""
   ]
  },
  {
   "cell_type": "markdown",
   "id": "b25c04f9",
   "metadata": {},
   "source": [
    "## Adjust air region"
   ]
  },
  {
   "cell_type": "code",
   "execution_count": 27,
   "id": "4a6dbcac",
   "metadata": {
    "execution": {
     "iopub.execute_input": "2025-02-03T14:01:42.940254Z",
     "iopub.status.busy": "2025-02-03T14:01:42.940254Z",
     "iopub.status.idle": "2025-02-03T14:01:42.987130Z",
     "shell.execute_reply": "2025-02-03T14:01:42.987130Z"
    }
   },
   "outputs": [
    {
     "data": {
      "text/plain": [
       "<ansys.aedt.core.modules.boundary.common.BoundaryObject at 0x25eb853a3e0>"
      ]
     },
     "execution_count": 27,
     "metadata": {},
     "output_type": "execute_result"
    }
   ],
   "source": [
    "region = ipk.modeler[\"Region\"]\n",
    "faces = [f.id for f in region.faces]\n",
    "ipk.assign_pressure_free_opening(assignment=faces, boundary_name=\"Outlet\")"
   ]
  },
  {
   "cell_type": "markdown",
   "id": "0c108a3f",
   "metadata": {},
   "source": [
    "## Setup mesh"
   ]
  },
  {
   "cell_type": "code",
   "execution_count": 28,
   "id": "925317da",
   "metadata": {
    "execution": {
     "iopub.execute_input": "2025-02-03T14:01:42.987130Z",
     "iopub.status.busy": "2025-02-03T14:01:42.987130Z",
     "iopub.status.idle": "2025-02-03T14:01:43.698493Z",
     "shell.execute_reply": "2025-02-03T14:01:43.698493Z"
    }
   },
   "outputs": [
    {
     "name": "stdout",
     "output_type": "stream",
     "text": [
      "PyAEDT INFO: Parsing C:/Users/ansys/AppData/Local/Temp/tmpgv38okj4.ansys/edb/ANSYS-HSD_V1.aedt.\n"
     ]
    },
    {
     "name": "stdout",
     "output_type": "stream",
     "text": [
      "PyAEDT INFO: File C:/Users/ansys/AppData/Local/Temp/tmpgv38okj4.ansys/edb/ANSYS-HSD_V1.aedt correctly loaded. Elapsed time: 0m 0sec\n"
     ]
    },
    {
     "name": "stdout",
     "output_type": "stream",
     "text": [
      "PyAEDT INFO: aedt file load time 0.03238415718078613\n"
     ]
    },
    {
     "name": "stdout",
     "output_type": "stream",
     "text": [
      "PyAEDT WARNING: No mesh operation found.\n"
     ]
    },
    {
     "name": "stdout",
     "output_type": "stream",
     "text": [
      "PyAEDT WARNING: No mesh region found.\n"
     ]
    },
    {
     "name": "stdout",
     "output_type": "stream",
     "text": [
      "PyAEDT INFO: Parsing design objects. This operation can take time\n"
     ]
    },
    {
     "name": "stdout",
     "output_type": "stream",
     "text": [
      "PyAEDT INFO: Refreshing bodies from Object Info\n"
     ]
    },
    {
     "name": "stdout",
     "output_type": "stream",
     "text": [
      "PyAEDT INFO: Bodies Info Refreshed Elapsed time: 0m 0sec\n"
     ]
    },
    {
     "name": "stdout",
     "output_type": "stream",
     "text": [
      "PyAEDT INFO: 3D Modeler objects parsed. Elapsed time: 0m 0sec\n"
     ]
    },
    {
     "name": "stdout",
     "output_type": "stream",
     "text": [
      "PyAEDT WARNING: Property Command is read-only.\n"
     ]
    },
    {
     "name": "stdout",
     "output_type": "stream",
     "text": [
      "PyAEDT INFO: Mesh class has been initialized! Elapsed time: 0m 0sec\n"
     ]
    },
    {
     "name": "stdout",
     "output_type": "stream",
     "text": [
      "PyAEDT WARNING: Property Command is read-only.\n"
     ]
    },
    {
     "name": "stdout",
     "output_type": "stream",
     "text": [
      "PyAEDT WARNING: Property Command is read-only.\n"
     ]
    },
    {
     "name": "stdout",
     "output_type": "stream",
     "text": [
      "PyAEDT WARNING: Property Command is read-only.\n"
     ]
    },
    {
     "name": "stdout",
     "output_type": "stream",
     "text": [
      "PyAEDT WARNING: Property Command is read-only.\n"
     ]
    },
    {
     "name": "stdout",
     "output_type": "stream",
     "text": [
      "PyAEDT WARNING: Property Command is read-only.\n"
     ]
    },
    {
     "name": "stdout",
     "output_type": "stream",
     "text": [
      "PyAEDT WARNING: Property Command is read-only.\n"
     ]
    },
    {
     "name": "stdout",
     "output_type": "stream",
     "text": [
      "PyAEDT WARNING: Property Command is read-only.\n"
     ]
    },
    {
     "name": "stdout",
     "output_type": "stream",
     "text": [
      "PyAEDT WARNING: Property Command is read-only.\n"
     ]
    }
   ],
   "source": [
    "glob_msh = ipk.mesh.global_mesh_region\n",
    "glob_msh.global_region.positive_z_padding_type = \"Absolute Offset\"\n",
    "glob_msh.global_region.positive_z_padding = \"50 mm\"\n",
    "glob_msh.global_region.negative_z_padding_type = \"Absolute Offset\"\n",
    "glob_msh.global_region.negative_z_padding = \"80 mm\""
   ]
  },
  {
   "cell_type": "code",
   "execution_count": 29,
   "id": "9a2a4d64",
   "metadata": {
    "execution": {
     "iopub.execute_input": "2025-02-03T14:01:43.698493Z",
     "iopub.status.busy": "2025-02-03T14:01:43.698493Z",
     "iopub.status.idle": "2025-02-03T14:01:43.714176Z",
     "shell.execute_reply": "2025-02-03T14:01:43.714176Z"
    }
   },
   "outputs": [],
   "source": [
    "glob_msh = ipk.mesh.global_mesh_region\n",
    "glob_msh.manual_settings = True\n",
    "glob_msh.settings[\"EnableMLM\"] = True\n",
    "glob_msh.settings[\"EnforeMLMType\"] = \"2D\"\n",
    "glob_msh.settings[\"2DMLMType\"] = \"Auto\"\n",
    "glob_msh.settings[\"MaxElementSizeY\"] = \"2mm\"\n",
    "glob_msh.settings[\"MaxElementSizeX\"] = \"2mm\"\n",
    "glob_msh.settings[\"MaxElementSizeZ\"] = \"3mm\"\n",
    "glob_msh.settings[\"MaxLevels\"] = \"2\""
   ]
  },
  {
   "cell_type": "code",
   "execution_count": 30,
   "id": "f5d29c62",
   "metadata": {
    "execution": {
     "iopub.execute_input": "2025-02-03T14:01:43.714176Z",
     "iopub.status.busy": "2025-02-03T14:01:43.714176Z",
     "iopub.status.idle": "2025-02-03T14:01:43.745425Z",
     "shell.execute_reply": "2025-02-03T14:01:43.745425Z"
    }
   },
   "outputs": [
    {
     "data": {
      "text/plain": [
       "True"
      ]
     },
     "execution_count": 30,
     "metadata": {},
     "output_type": "execute_result"
    }
   ],
   "source": [
    "glob_msh.update()"
   ]
  },
  {
   "cell_type": "markdown",
   "id": "8587ba24",
   "metadata": {},
   "source": [
    "## Place monitor"
   ]
  },
  {
   "cell_type": "code",
   "execution_count": 31,
   "id": "20f9220b",
   "metadata": {
    "execution": {
     "iopub.execute_input": "2025-02-03T14:01:43.745425Z",
     "iopub.status.busy": "2025-02-03T14:01:43.745425Z",
     "iopub.status.idle": "2025-02-03T14:01:43.776671Z",
     "shell.execute_reply": "2025-02-03T14:01:43.776671Z"
    }
   },
   "outputs": [],
   "source": [
    "cpu = ipk.modeler[\"PCB_pyAEDT_U1_device\"]\n",
    "m1 = ipk.monitor.assign_face_monitor(\n",
    "    face_id=cpu.top_face_z.id,\n",
    "    monitor_quantity=\"Temperature\",\n",
    "    monitor_name=\"TemperatureMonitor1\",\n",
    ")"
   ]
  },
  {
   "cell_type": "markdown",
   "id": "32103c0e",
   "metadata": {},
   "source": [
    "## Create Icepak setup"
   ]
  },
  {
   "cell_type": "code",
   "execution_count": 32,
   "id": "49015717",
   "metadata": {
    "execution": {
     "iopub.execute_input": "2025-02-03T14:01:43.776671Z",
     "iopub.status.busy": "2025-02-03T14:01:43.776671Z",
     "iopub.status.idle": "2025-02-03T14:01:43.887244Z",
     "shell.execute_reply": "2025-02-03T14:01:43.887244Z"
    }
   },
   "outputs": [
    {
     "name": "stdout",
     "output_type": "stream",
     "text": [
      "PyAEDT INFO: Key MaxIterations matched internal key 'Convergence Criteria - Max Iterations' with confidence of 52.\n"
     ]
    }
   ],
   "source": [
    "setup1 = ipk.create_setup(MaxIterations=10)"
   ]
  },
  {
   "cell_type": "markdown",
   "id": "d0c74719",
   "metadata": {},
   "source": [
    "Add 2-way coupling to the setup"
   ]
  },
  {
   "cell_type": "code",
   "execution_count": 33,
   "id": "b4a6bf76",
   "metadata": {
    "execution": {
     "iopub.execute_input": "2025-02-03T14:01:43.887244Z",
     "iopub.status.busy": "2025-02-03T14:01:43.887244Z",
     "iopub.status.idle": "2025-02-03T14:01:43.904306Z",
     "shell.execute_reply": "2025-02-03T14:01:43.902878Z"
    }
   },
   "outputs": [
    {
     "data": {
      "text/plain": [
       "True"
      ]
     },
     "execution_count": 33,
     "metadata": {},
     "output_type": "execute_result"
    }
   ],
   "source": [
    "ipk.assign_2way_coupling(number_of_iterations=1)"
   ]
  },
  {
   "cell_type": "markdown",
   "id": "a70d0587",
   "metadata": {},
   "source": [
    "## Save"
   ]
  },
  {
   "cell_type": "code",
   "execution_count": 34,
   "id": "99e2812d",
   "metadata": {
    "execution": {
     "iopub.execute_input": "2025-02-03T14:01:43.904306Z",
     "iopub.status.busy": "2025-02-03T14:01:43.904306Z",
     "iopub.status.idle": "2025-02-03T14:01:44.156684Z",
     "shell.execute_reply": "2025-02-03T14:01:44.156684Z"
    }
   },
   "outputs": [
    {
     "name": "stdout",
     "output_type": "stream",
     "text": [
      "PyAEDT INFO: Project ANSYS-HSD_V1 Saved correctly\n"
     ]
    },
    {
     "data": {
      "text/plain": [
       "True"
      ]
     },
     "execution_count": 34,
     "metadata": {},
     "output_type": "execute_result"
    }
   ],
   "source": [
    "ipk.save_project()"
   ]
  },
  {
   "cell_type": "markdown",
   "id": "d76751e8",
   "metadata": {},
   "source": [
    "## Shut Down Electronics Desktop"
   ]
  },
  {
   "cell_type": "code",
   "execution_count": 35,
   "id": "74337143",
   "metadata": {
    "execution": {
     "iopub.execute_input": "2025-02-03T14:01:44.156684Z",
     "iopub.status.busy": "2025-02-03T14:01:44.156684Z",
     "iopub.status.idle": "2025-02-03T14:01:47.698723Z",
     "shell.execute_reply": "2025-02-03T14:01:47.698723Z"
    }
   },
   "outputs": [
    {
     "name": "stdout",
     "output_type": "stream",
     "text": [
      "PyAEDT INFO: Desktop has been released and closed.\n"
     ]
    },
    {
     "data": {
      "text/plain": [
       "True"
      ]
     },
     "execution_count": 35,
     "metadata": {},
     "output_type": "execute_result"
    }
   ],
   "source": [
    "ipk.release_desktop()"
   ]
  },
  {
   "cell_type": "markdown",
   "id": "156a8a9c",
   "metadata": {},
   "source": [
    "All project files are saved in the folder ``temp_file.dir``. If you've run this example as a Jupyter notebook you\n",
    "can retrieve those project files."
   ]
  }
 ],
 "metadata": {
  "jupytext": {
   "cell_metadata_filter": "-all",
   "main_language": "python",
   "notebook_metadata_filter": "-all",
   "text_representation": {
    "extension": ".py",
    "format_name": "light"
   }
  },
  "language_info": {
   "codemirror_mode": {
    "name": "ipython",
    "version": 3
   },
   "file_extension": ".py",
   "mimetype": "text/x-python",
   "name": "python",
   "nbconvert_exporter": "python",
   "pygments_lexer": "ipython3",
   "version": "3.10.11"
  }
 },
 "nbformat": 4,
 "nbformat_minor": 5
}
