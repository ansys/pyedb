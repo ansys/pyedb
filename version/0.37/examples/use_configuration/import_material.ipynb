{
 "cells": [
  {
   "cell_type": "markdown",
   "id": "1c746045",
   "metadata": {},
   "source": [
    "# Import Materials\n",
    "This example shows how to import materials."
   ]
  },
  {
   "cell_type": "markdown",
   "id": "431f7a0a",
   "metadata": {},
   "source": [
    "### Import the required packages"
   ]
  },
  {
   "cell_type": "code",
   "execution_count": 1,
   "id": "1ccf810d",
   "metadata": {
    "execution": {
     "iopub.execute_input": "2025-02-03T13:57:43.431884Z",
     "iopub.status.busy": "2025-02-03T13:57:43.431884Z",
     "iopub.status.idle": "2025-02-03T13:57:44.369741Z",
     "shell.execute_reply": "2025-02-03T13:57:44.369741Z"
    }
   },
   "outputs": [],
   "source": [
    "import json\n",
    "from pathlib import Path\n",
    "import tempfile\n",
    "\n",
    "from IPython.display import display\n",
    "from ansys.aedt.core.downloads import download_file\n",
    "import pandas as pd\n",
    "\n",
    "from pyedb import Edb\n",
    "\n",
    "AEDT_VERSION = \"2024.2\"\n",
    "NG_MODE = False\n"
   ]
  },
  {
   "cell_type": "markdown",
   "id": "39062dd0",
   "metadata": {},
   "source": [
    "Download the example PCB data."
   ]
  },
  {
   "cell_type": "code",
   "execution_count": 2,
   "id": "9a153934",
   "metadata": {
    "execution": {
     "iopub.execute_input": "2025-02-03T13:57:44.369741Z",
     "iopub.status.busy": "2025-02-03T13:57:44.369741Z",
     "iopub.status.idle": "2025-02-03T13:57:45.961702Z",
     "shell.execute_reply": "2025-02-03T13:57:45.961702Z"
    }
   },
   "outputs": [],
   "source": [
    "temp_folder = tempfile.TemporaryDirectory(suffix=\".ansys\")\n",
    "file_edb = download_file(source=\"edb/ANSYS-HSD_V1.aedb\", destination=temp_folder.name)"
   ]
  },
  {
   "cell_type": "markdown",
   "id": "e5bd093f",
   "metadata": {},
   "source": [
    "## Load example layout."
   ]
  },
  {
   "cell_type": "code",
   "execution_count": 3,
   "id": "cbee8355",
   "metadata": {
    "execution": {
     "iopub.execute_input": "2025-02-03T13:57:45.961702Z",
     "iopub.status.busy": "2025-02-03T13:57:45.961702Z",
     "iopub.status.idle": "2025-02-03T13:57:58.312637Z",
     "shell.execute_reply": "2025-02-03T13:57:58.312637Z"
    }
   },
   "outputs": [
    {
     "name": "stdout",
     "output_type": "stream",
     "text": [
      "PyAEDT INFO: Logger is initialized in EDB.\n"
     ]
    },
    {
     "name": "stdout",
     "output_type": "stream",
     "text": [
      "PyAEDT INFO: legacy v0.37.0\n"
     ]
    },
    {
     "name": "stdout",
     "output_type": "stream",
     "text": [
      "PyAEDT INFO: Python version 3.10.11 (tags/v3.10.11:7d4cc5a, Apr  5 2023, 00:38:17) [MSC v.1929 64 bit (AMD64)]\n"
     ]
    },
    {
     "name": "stdout",
     "output_type": "stream",
     "text": [
      "PyAEDT INFO: Database ANSYS-HSD_V1.aedb Opened in 2024.2\n"
     ]
    },
    {
     "name": "stdout",
     "output_type": "stream",
     "text": [
      "PyAEDT INFO: Cell main Opened\n"
     ]
    },
    {
     "name": "stdout",
     "output_type": "stream",
     "text": [
      "PyAEDT INFO: Builder was initialized.\n"
     ]
    },
    {
     "name": "stdout",
     "output_type": "stream",
     "text": [
      "PyAEDT INFO: EDB initialized.\n"
     ]
    }
   ],
   "source": [
    "edbapp = Edb(file_edb, edbversion=AEDT_VERSION)"
   ]
  },
  {
   "cell_type": "markdown",
   "id": "79105185",
   "metadata": {},
   "source": [
    "## Review materials from layout"
   ]
  },
  {
   "cell_type": "markdown",
   "id": "2b2c9bdc",
   "metadata": {},
   "source": [
    "Get materials from layout in a dictionary. Materials are exported together with stadckup."
   ]
  },
  {
   "cell_type": "code",
   "execution_count": 4,
   "id": "4b09f3a9",
   "metadata": {
    "execution": {
     "iopub.execute_input": "2025-02-03T13:57:58.312637Z",
     "iopub.status.busy": "2025-02-03T13:57:58.312637Z",
     "iopub.status.idle": "2025-02-03T13:57:58.375132Z",
     "shell.execute_reply": "2025-02-03T13:57:58.375132Z"
    },
    "lines_to_next_cell": 2
   },
   "outputs": [
    {
     "name": "stdout",
     "output_type": "stream",
     "text": [
      "PyAEDT INFO: Getting data from layout database.\n"
     ]
    }
   ],
   "source": [
    "data_cfg = edbapp.configuration.get_data_from_db(stackup=True)"
   ]
  },
  {
   "cell_type": "code",
   "execution_count": 5,
   "id": "e8df93ac",
   "metadata": {
    "execution": {
     "iopub.execute_input": "2025-02-03T13:57:58.375132Z",
     "iopub.status.busy": "2025-02-03T13:57:58.375132Z",
     "iopub.status.idle": "2025-02-03T13:57:58.406431Z",
     "shell.execute_reply": "2025-02-03T13:57:58.406431Z"
    }
   },
   "outputs": [
    {
     "data": {
      "text/html": [
       "<div>\n",
       "<style scoped>\n",
       "    .dataframe tbody tr th:only-of-type {\n",
       "        vertical-align: middle;\n",
       "    }\n",
       "\n",
       "    .dataframe tbody tr th {\n",
       "        vertical-align: top;\n",
       "    }\n",
       "\n",
       "    .dataframe thead th {\n",
       "        text-align: right;\n",
       "    }\n",
       "</style>\n",
       "<table border=\"1\" class=\"dataframe\">\n",
       "  <thead>\n",
       "    <tr style=\"text-align: right;\">\n",
       "      <th></th>\n",
       "      <th>name</th>\n",
       "      <th>permittivity</th>\n",
       "      <th>conductivity</th>\n",
       "      <th>dielectric_loss_tangent</th>\n",
       "      <th>magnetic_loss_tangent</th>\n",
       "      <th>mass_density</th>\n",
       "      <th>permeability</th>\n",
       "      <th>poisson_ratio</th>\n",
       "      <th>specific_heat</th>\n",
       "      <th>thermal_conductivity</th>\n",
       "    </tr>\n",
       "  </thead>\n",
       "  <tbody>\n",
       "    <tr>\n",
       "      <th>0</th>\n",
       "      <td>copper</td>\n",
       "      <td>0.00</td>\n",
       "      <td>58000000.0</td>\n",
       "      <td>0.000</td>\n",
       "      <td>0.0</td>\n",
       "      <td>0.0</td>\n",
       "      <td>0.0</td>\n",
       "      <td>0.00</td>\n",
       "      <td>0.0</td>\n",
       "      <td>0.000</td>\n",
       "    </tr>\n",
       "    <tr>\n",
       "      <th>1</th>\n",
       "      <td>FR4_epoxy</td>\n",
       "      <td>4.40</td>\n",
       "      <td>0.0</td>\n",
       "      <td>0.020</td>\n",
       "      <td>0.0</td>\n",
       "      <td>1900.0</td>\n",
       "      <td>0.0</td>\n",
       "      <td>0.28</td>\n",
       "      <td>1150.0</td>\n",
       "      <td>0.294</td>\n",
       "    </tr>\n",
       "    <tr>\n",
       "      <th>2</th>\n",
       "      <td>Megtron4</td>\n",
       "      <td>3.77</td>\n",
       "      <td>0.0</td>\n",
       "      <td>0.005</td>\n",
       "      <td>0.0</td>\n",
       "      <td>0.0</td>\n",
       "      <td>0.0</td>\n",
       "      <td>0.00</td>\n",
       "      <td>0.0</td>\n",
       "      <td>0.000</td>\n",
       "    </tr>\n",
       "    <tr>\n",
       "      <th>3</th>\n",
       "      <td>Megtron4_2</td>\n",
       "      <td>3.47</td>\n",
       "      <td>0.0</td>\n",
       "      <td>0.006</td>\n",
       "      <td>0.0</td>\n",
       "      <td>0.0</td>\n",
       "      <td>0.0</td>\n",
       "      <td>0.00</td>\n",
       "      <td>0.0</td>\n",
       "      <td>0.000</td>\n",
       "    </tr>\n",
       "    <tr>\n",
       "      <th>4</th>\n",
       "      <td>Megtron4_3</td>\n",
       "      <td>4.20</td>\n",
       "      <td>0.0</td>\n",
       "      <td>0.005</td>\n",
       "      <td>0.0</td>\n",
       "      <td>0.0</td>\n",
       "      <td>0.0</td>\n",
       "      <td>0.00</td>\n",
       "      <td>0.0</td>\n",
       "      <td>0.000</td>\n",
       "    </tr>\n",
       "    <tr>\n",
       "      <th>5</th>\n",
       "      <td>Solder Resist</td>\n",
       "      <td>3.00</td>\n",
       "      <td>0.0</td>\n",
       "      <td>0.000</td>\n",
       "      <td>0.0</td>\n",
       "      <td>0.0</td>\n",
       "      <td>0.0</td>\n",
       "      <td>0.00</td>\n",
       "      <td>0.0</td>\n",
       "      <td>0.000</td>\n",
       "    </tr>\n",
       "  </tbody>\n",
       "</table>\n",
       "</div>"
      ],
      "text/plain": [
       "            name  permittivity  conductivity  dielectric_loss_tangent  \\\n",
       "0         copper          0.00    58000000.0                    0.000   \n",
       "1      FR4_epoxy          4.40           0.0                    0.020   \n",
       "2       Megtron4          3.77           0.0                    0.005   \n",
       "3     Megtron4_2          3.47           0.0                    0.006   \n",
       "4     Megtron4_3          4.20           0.0                    0.005   \n",
       "5  Solder Resist          3.00           0.0                    0.000   \n",
       "\n",
       "   magnetic_loss_tangent  mass_density  permeability  poisson_ratio  \\\n",
       "0                    0.0           0.0           0.0           0.00   \n",
       "1                    0.0        1900.0           0.0           0.28   \n",
       "2                    0.0           0.0           0.0           0.00   \n",
       "3                    0.0           0.0           0.0           0.00   \n",
       "4                    0.0           0.0           0.0           0.00   \n",
       "5                    0.0           0.0           0.0           0.00   \n",
       "\n",
       "   specific_heat  thermal_conductivity  \n",
       "0            0.0                 0.000  \n",
       "1         1150.0                 0.294  \n",
       "2            0.0                 0.000  \n",
       "3            0.0                 0.000  \n",
       "4            0.0                 0.000  \n",
       "5            0.0                 0.000  "
      ]
     },
     "metadata": {},
     "output_type": "display_data"
    }
   ],
   "source": [
    "df = pd.DataFrame(data=data_cfg[\"stackup\"][\"materials\"])\n",
    "display(df)"
   ]
  },
  {
   "cell_type": "markdown",
   "id": "20b9442e",
   "metadata": {},
   "source": [
    "## Add a new material"
   ]
  },
  {
   "cell_type": "code",
   "execution_count": 6,
   "id": "badc9620",
   "metadata": {
    "execution": {
     "iopub.execute_input": "2025-02-03T13:57:58.406431Z",
     "iopub.status.busy": "2025-02-03T13:57:58.406431Z",
     "iopub.status.idle": "2025-02-03T13:57:58.422024Z",
     "shell.execute_reply": "2025-02-03T13:57:58.422024Z"
    }
   },
   "outputs": [],
   "source": [
    "data_cfg[\"stackup\"][\"materials\"].append(\n",
    "    {\"name\": \"soldermask\", \"permittivity\": 3.3, \"dielectric_loss_tangent\": 0.02},\n",
    ")"
   ]
  },
  {
   "cell_type": "markdown",
   "id": "bdba159e",
   "metadata": {},
   "source": [
    "## Edit existing material properties"
   ]
  },
  {
   "cell_type": "code",
   "execution_count": 7,
   "id": "1f196040",
   "metadata": {
    "execution": {
     "iopub.execute_input": "2025-02-03T13:57:58.422024Z",
     "iopub.status.busy": "2025-02-03T13:57:58.422024Z",
     "iopub.status.idle": "2025-02-03T13:57:58.437636Z",
     "shell.execute_reply": "2025-02-03T13:57:58.437636Z"
    }
   },
   "outputs": [],
   "source": [
    "data_cfg[\"stackup\"][\"materials\"][1][\"name\"] = \"fr4_epoxy\"\n",
    "data_cfg[\"stackup\"][\"materials\"][1][\"dielectric_loss_tangent\"] = 0.015"
   ]
  },
  {
   "cell_type": "markdown",
   "id": "d536c61c",
   "metadata": {},
   "source": [
    "## Review modified materials"
   ]
  },
  {
   "cell_type": "code",
   "execution_count": 8,
   "id": "9a6f7437",
   "metadata": {
    "execution": {
     "iopub.execute_input": "2025-02-03T13:57:58.437636Z",
     "iopub.status.busy": "2025-02-03T13:57:58.437636Z",
     "iopub.status.idle": "2025-02-03T13:57:58.468902Z",
     "shell.execute_reply": "2025-02-03T13:57:58.468902Z"
    }
   },
   "outputs": [
    {
     "data": {
      "text/html": [
       "<div>\n",
       "<style scoped>\n",
       "    .dataframe tbody tr th:only-of-type {\n",
       "        vertical-align: middle;\n",
       "    }\n",
       "\n",
       "    .dataframe tbody tr th {\n",
       "        vertical-align: top;\n",
       "    }\n",
       "\n",
       "    .dataframe thead th {\n",
       "        text-align: right;\n",
       "    }\n",
       "</style>\n",
       "<table border=\"1\" class=\"dataframe\">\n",
       "  <thead>\n",
       "    <tr style=\"text-align: right;\">\n",
       "      <th></th>\n",
       "      <th>name</th>\n",
       "      <th>permittivity</th>\n",
       "      <th>conductivity</th>\n",
       "      <th>dielectric_loss_tangent</th>\n",
       "      <th>magnetic_loss_tangent</th>\n",
       "      <th>mass_density</th>\n",
       "      <th>permeability</th>\n",
       "      <th>poisson_ratio</th>\n",
       "      <th>specific_heat</th>\n",
       "      <th>thermal_conductivity</th>\n",
       "    </tr>\n",
       "  </thead>\n",
       "  <tbody>\n",
       "    <tr>\n",
       "      <th>0</th>\n",
       "      <td>copper</td>\n",
       "      <td>0.00</td>\n",
       "      <td>58000000.0</td>\n",
       "      <td>0.000</td>\n",
       "      <td>0.0</td>\n",
       "      <td>0.0</td>\n",
       "      <td>0.0</td>\n",
       "      <td>0.00</td>\n",
       "      <td>0.0</td>\n",
       "      <td>0.000</td>\n",
       "    </tr>\n",
       "    <tr>\n",
       "      <th>1</th>\n",
       "      <td>fr4_epoxy</td>\n",
       "      <td>4.40</td>\n",
       "      <td>0.0</td>\n",
       "      <td>0.015</td>\n",
       "      <td>0.0</td>\n",
       "      <td>1900.0</td>\n",
       "      <td>0.0</td>\n",
       "      <td>0.28</td>\n",
       "      <td>1150.0</td>\n",
       "      <td>0.294</td>\n",
       "    </tr>\n",
       "    <tr>\n",
       "      <th>2</th>\n",
       "      <td>Megtron4</td>\n",
       "      <td>3.77</td>\n",
       "      <td>0.0</td>\n",
       "      <td>0.005</td>\n",
       "      <td>0.0</td>\n",
       "      <td>0.0</td>\n",
       "      <td>0.0</td>\n",
       "      <td>0.00</td>\n",
       "      <td>0.0</td>\n",
       "      <td>0.000</td>\n",
       "    </tr>\n",
       "    <tr>\n",
       "      <th>3</th>\n",
       "      <td>Megtron4_2</td>\n",
       "      <td>3.47</td>\n",
       "      <td>0.0</td>\n",
       "      <td>0.006</td>\n",
       "      <td>0.0</td>\n",
       "      <td>0.0</td>\n",
       "      <td>0.0</td>\n",
       "      <td>0.00</td>\n",
       "      <td>0.0</td>\n",
       "      <td>0.000</td>\n",
       "    </tr>\n",
       "    <tr>\n",
       "      <th>4</th>\n",
       "      <td>Megtron4_3</td>\n",
       "      <td>4.20</td>\n",
       "      <td>0.0</td>\n",
       "      <td>0.005</td>\n",
       "      <td>0.0</td>\n",
       "      <td>0.0</td>\n",
       "      <td>0.0</td>\n",
       "      <td>0.00</td>\n",
       "      <td>0.0</td>\n",
       "      <td>0.000</td>\n",
       "    </tr>\n",
       "    <tr>\n",
       "      <th>5</th>\n",
       "      <td>Solder Resist</td>\n",
       "      <td>3.00</td>\n",
       "      <td>0.0</td>\n",
       "      <td>0.000</td>\n",
       "      <td>0.0</td>\n",
       "      <td>0.0</td>\n",
       "      <td>0.0</td>\n",
       "      <td>0.00</td>\n",
       "      <td>0.0</td>\n",
       "      <td>0.000</td>\n",
       "    </tr>\n",
       "    <tr>\n",
       "      <th>6</th>\n",
       "      <td>soldermask</td>\n",
       "      <td>3.30</td>\n",
       "      <td>NaN</td>\n",
       "      <td>0.020</td>\n",
       "      <td>NaN</td>\n",
       "      <td>NaN</td>\n",
       "      <td>NaN</td>\n",
       "      <td>NaN</td>\n",
       "      <td>NaN</td>\n",
       "      <td>NaN</td>\n",
       "    </tr>\n",
       "  </tbody>\n",
       "</table>\n",
       "</div>"
      ],
      "text/plain": [
       "            name  permittivity  conductivity  dielectric_loss_tangent  \\\n",
       "0         copper          0.00    58000000.0                    0.000   \n",
       "1      fr4_epoxy          4.40           0.0                    0.015   \n",
       "2       Megtron4          3.77           0.0                    0.005   \n",
       "3     Megtron4_2          3.47           0.0                    0.006   \n",
       "4     Megtron4_3          4.20           0.0                    0.005   \n",
       "5  Solder Resist          3.00           0.0                    0.000   \n",
       "6     soldermask          3.30           NaN                    0.020   \n",
       "\n",
       "   magnetic_loss_tangent  mass_density  permeability  poisson_ratio  \\\n",
       "0                    0.0           0.0           0.0           0.00   \n",
       "1                    0.0        1900.0           0.0           0.28   \n",
       "2                    0.0           0.0           0.0           0.00   \n",
       "3                    0.0           0.0           0.0           0.00   \n",
       "4                    0.0           0.0           0.0           0.00   \n",
       "5                    0.0           0.0           0.0           0.00   \n",
       "6                    NaN           NaN           NaN            NaN   \n",
       "\n",
       "   specific_heat  thermal_conductivity  \n",
       "0            0.0                 0.000  \n",
       "1         1150.0                 0.294  \n",
       "2            0.0                 0.000  \n",
       "3            0.0                 0.000  \n",
       "4            0.0                 0.000  \n",
       "5            0.0                 0.000  \n",
       "6            NaN                   NaN  "
      ]
     },
     "metadata": {},
     "output_type": "display_data"
    }
   ],
   "source": [
    "df = pd.DataFrame(data=data_cfg[\"stackup\"][\"materials\"])\n",
    "display(df)"
   ]
  },
  {
   "cell_type": "markdown",
   "id": "98385322",
   "metadata": {},
   "source": [
    "## Write material definition into a json file"
   ]
  },
  {
   "cell_type": "code",
   "execution_count": 9,
   "id": "9324aee5",
   "metadata": {
    "execution": {
     "iopub.execute_input": "2025-02-03T13:57:58.468902Z",
     "iopub.status.busy": "2025-02-03T13:57:58.468902Z",
     "iopub.status.idle": "2025-02-03T13:57:58.484515Z",
     "shell.execute_reply": "2025-02-03T13:57:58.484515Z"
    },
    "lines_to_next_cell": 2
   },
   "outputs": [],
   "source": [
    "file_cfg = Path(temp_folder.name) / \"edb_configuration.json\"\n",
    "with open(file_cfg, \"w\") as f:\n",
    "    json.dump(data_cfg, f, indent=4, ensure_ascii=False)"
   ]
  },
  {
   "cell_type": "markdown",
   "id": "8b9573db",
   "metadata": {},
   "source": [
    "## Load materials from json configuration file"
   ]
  },
  {
   "cell_type": "code",
   "execution_count": 10,
   "id": "9be26c93",
   "metadata": {
    "execution": {
     "iopub.execute_input": "2025-02-03T13:57:58.484515Z",
     "iopub.status.busy": "2025-02-03T13:57:58.484515Z",
     "iopub.status.idle": "2025-02-03T13:58:05.860048Z",
     "shell.execute_reply": "2025-02-03T13:58:05.860048Z"
    }
   },
   "outputs": [
    {
     "data": {
      "text/plain": [
       "<pyedb.configuration.cfg_data.CfgData at 0x2eae221b640>"
      ]
     },
     "execution_count": 10,
     "metadata": {},
     "output_type": "execute_result"
    }
   ],
   "source": [
    "edbapp.configuration.load(str(file_cfg), apply_file=True)"
   ]
  },
  {
   "cell_type": "markdown",
   "id": "c30e486e",
   "metadata": {},
   "source": [
    "## Review materials from layout"
   ]
  },
  {
   "cell_type": "code",
   "execution_count": 11,
   "id": "a5ccfaae",
   "metadata": {
    "execution": {
     "iopub.execute_input": "2025-02-03T13:58:05.860048Z",
     "iopub.status.busy": "2025-02-03T13:58:05.860048Z",
     "iopub.status.idle": "2025-02-03T13:58:05.875653Z",
     "shell.execute_reply": "2025-02-03T13:58:05.875653Z"
    }
   },
   "outputs": [
    {
     "data": {
      "text/plain": [
       "{'copper': <pyedb.dotnet.edb_core.materials.Material at 0x2eae2254850>,\n",
       " 'fr4_epoxy': <pyedb.dotnet.edb_core.materials.Material at 0x2eae221a290>,\n",
       " 'Megtron4': <pyedb.dotnet.edb_core.materials.Material at 0x2ea94aa5690>,\n",
       " 'Megtron4_2': <pyedb.dotnet.edb_core.materials.Material at 0x2ea94aa40d0>,\n",
       " 'Megtron4_3': <pyedb.dotnet.edb_core.materials.Material at 0x2ea94aa49d0>,\n",
       " 'Solder Resist': <pyedb.dotnet.edb_core.materials.Material at 0x2ea94aa4f40>,\n",
       " 'soldermask': <pyedb.dotnet.edb_core.materials.Material at 0x2ea94aa4280>}"
      ]
     },
     "execution_count": 11,
     "metadata": {},
     "output_type": "execute_result"
    }
   ],
   "source": [
    "edbapp.materials.materials"
   ]
  },
  {
   "cell_type": "markdown",
   "id": "bb9e8c61",
   "metadata": {},
   "source": [
    "## Check modified material properties"
   ]
  },
  {
   "cell_type": "code",
   "execution_count": 12,
   "id": "e1deb246",
   "metadata": {
    "execution": {
     "iopub.execute_input": "2025-02-03T13:58:05.875653Z",
     "iopub.status.busy": "2025-02-03T13:58:05.875653Z",
     "iopub.status.idle": "2025-02-03T13:58:05.891255Z",
     "shell.execute_reply": "2025-02-03T13:58:05.891255Z"
    }
   },
   "outputs": [
    {
     "data": {
      "text/plain": [
       "0.015"
      ]
     },
     "execution_count": 12,
     "metadata": {},
     "output_type": "execute_result"
    }
   ],
   "source": [
    "edbapp.materials[\"fr4_epoxy\"].loss_tangent"
   ]
  },
  {
   "cell_type": "markdown",
   "id": "4885be80",
   "metadata": {},
   "source": [
    "## Save and close Edb\n",
    "The temporary folder will be deleted once the execution of this script is finished. Replace **edbapp.save()** with\n",
    "**edbapp.save_as(\"C:/example.aedb\")** to keep the example project."
   ]
  },
  {
   "cell_type": "code",
   "execution_count": 13,
   "id": "be838696",
   "metadata": {
    "execution": {
     "iopub.execute_input": "2025-02-03T13:58:05.891255Z",
     "iopub.status.busy": "2025-02-03T13:58:05.891255Z",
     "iopub.status.idle": "2025-02-03T13:58:06.094408Z",
     "shell.execute_reply": "2025-02-03T13:58:06.094408Z"
    }
   },
   "outputs": [
    {
     "data": {
      "text/plain": [
       "True"
      ]
     },
     "execution_count": 13,
     "metadata": {},
     "output_type": "execute_result"
    }
   ],
   "source": [
    "edbapp.save()\n",
    "edbapp.close()"
   ]
  }
 ],
 "metadata": {
  "jupytext": {
   "cell_metadata_filter": "-all",
   "main_language": "python",
   "notebook_metadata_filter": "-all",
   "text_representation": {
    "extension": ".py",
    "format_name": "light"
   }
  },
  "language_info": {
   "codemirror_mode": {
    "name": "ipython",
    "version": 3
   },
   "file_extension": ".py",
   "mimetype": "text/x-python",
   "name": "python",
   "nbconvert_exporter": "python",
   "pygments_lexer": "ipython3",
   "version": "3.10.11"
  }
 },
 "nbformat": 4,
 "nbformat_minor": 5
}
