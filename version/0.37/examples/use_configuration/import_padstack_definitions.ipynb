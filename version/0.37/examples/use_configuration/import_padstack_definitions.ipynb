{
 "cells": [
  {
   "cell_type": "markdown",
   "id": "4cf750c6",
   "metadata": {},
   "source": [
    "# Import Padstack Definitions\n",
    "This example shows how to import padstack definitions. This includes\n",
    "\n",
    "- Download an example board\n",
    "- Create a config file with hole information\n",
    "- Create a config file with pad and anti-pad information"
   ]
  },
  {
   "cell_type": "markdown",
   "id": "5c46a63c",
   "metadata": {},
   "source": [
    "## Import the required packages"
   ]
  },
  {
   "cell_type": "code",
   "execution_count": 1,
   "id": "e876cc65",
   "metadata": {
    "execution": {
     "iopub.execute_input": "2025-02-03T13:58:11.122603Z",
     "iopub.status.busy": "2025-02-03T13:58:11.122603Z",
     "iopub.status.idle": "2025-02-03T13:58:12.060147Z",
     "shell.execute_reply": "2025-02-03T13:58:12.060147Z"
    }
   },
   "outputs": [],
   "source": [
    "import json\n",
    "from pathlib import Path\n",
    "import tempfile\n",
    "\n",
    "from IPython.display import display\n",
    "from ansys.aedt.core.downloads import download_file\n",
    "import pandas as pd\n",
    "\n",
    "from pyedb import Edb\n",
    "\n",
    "AEDT_VERSION = \"2024.2\"\n"
   ]
  },
  {
   "cell_type": "markdown",
   "id": "8df34658",
   "metadata": {},
   "source": [
    "Download the example PCB data."
   ]
  },
  {
   "cell_type": "code",
   "execution_count": 2,
   "id": "127d3b10",
   "metadata": {
    "execution": {
     "iopub.execute_input": "2025-02-03T13:58:12.060147Z",
     "iopub.status.busy": "2025-02-03T13:58:12.060147Z",
     "iopub.status.idle": "2025-02-03T13:58:12.828482Z",
     "shell.execute_reply": "2025-02-03T13:58:12.828482Z"
    }
   },
   "outputs": [],
   "source": [
    "temp_folder = tempfile.TemporaryDirectory(suffix=\".ansys\").name\n",
    "file_edb = download_file(source=\"edb/ANSYS-HSD_V1.aedb\", destination=temp_folder)"
   ]
  },
  {
   "cell_type": "markdown",
   "id": "9b1d45b9",
   "metadata": {},
   "source": [
    "## Load example layout."
   ]
  },
  {
   "cell_type": "code",
   "execution_count": 3,
   "id": "75ba59dd",
   "metadata": {
    "execution": {
     "iopub.execute_input": "2025-02-03T13:58:12.828482Z",
     "iopub.status.busy": "2025-02-03T13:58:12.828482Z",
     "iopub.status.idle": "2025-02-03T13:58:25.156939Z",
     "shell.execute_reply": "2025-02-03T13:58:25.156939Z"
    }
   },
   "outputs": [
    {
     "name": "stdout",
     "output_type": "stream",
     "text": [
      "PyAEDT INFO: Logger is initialized in EDB.\n"
     ]
    },
    {
     "name": "stdout",
     "output_type": "stream",
     "text": [
      "PyAEDT INFO: legacy v0.37.0\n"
     ]
    },
    {
     "name": "stdout",
     "output_type": "stream",
     "text": [
      "PyAEDT INFO: Python version 3.10.11 (tags/v3.10.11:7d4cc5a, Apr  5 2023, 00:38:17) [MSC v.1929 64 bit (AMD64)]\n"
     ]
    },
    {
     "name": "stdout",
     "output_type": "stream",
     "text": [
      "PyAEDT INFO: Database ANSYS-HSD_V1.aedb Opened in 2024.2\n"
     ]
    },
    {
     "name": "stdout",
     "output_type": "stream",
     "text": [
      "PyAEDT INFO: Cell main Opened\n"
     ]
    },
    {
     "name": "stdout",
     "output_type": "stream",
     "text": [
      "PyAEDT INFO: Builder was initialized.\n"
     ]
    },
    {
     "name": "stdout",
     "output_type": "stream",
     "text": [
      "PyAEDT INFO: EDB initialized.\n"
     ]
    }
   ],
   "source": [
    "edbapp = Edb(file_edb, edbversion=AEDT_VERSION)"
   ]
  },
  {
   "cell_type": "markdown",
   "id": "d71a19b6",
   "metadata": {},
   "source": [
    "## Create a config file with hole information"
   ]
  },
  {
   "cell_type": "markdown",
   "id": "a97b8f8d",
   "metadata": {},
   "source": [
    "Keywords\n",
    "\n",
    "- **name**. Name of the padstack definition.\n",
    "- **hole_plating_thickness**. Hole plating thickness.\n",
    "- **hole_range**. Supported types are 'through', 'begin_on_upper_pad', 'end_on_lower_pad', 'upper_pad_to_lower_pad'.\n",
    "- **hole_parameters**.\n",
    "  - **shape**. Supported types are 'circle', 'square', 'rectangle'.\n",
    "  - Other parameters are shape dependent.\n",
    "    - When shape is 'circle', supported parameter si 'diameter'.\n",
    "    - When shape is 'square', supported parameter is 'size'.\n",
    "    - When shape is 'rectangle', supported parameters are 'x_size', 'y_size'."
   ]
  },
  {
   "cell_type": "code",
   "execution_count": 4,
   "id": "7e2fe535",
   "metadata": {
    "execution": {
     "iopub.execute_input": "2025-02-03T13:58:25.156939Z",
     "iopub.status.busy": "2025-02-03T13:58:25.156939Z",
     "iopub.status.idle": "2025-02-03T13:58:25.172557Z",
     "shell.execute_reply": "2025-02-03T13:58:25.172557Z"
    }
   },
   "outputs": [],
   "source": [
    "cfg = dict()\n",
    "cfg[\"padstacks\"] = {}\n",
    "cfg[\"padstacks\"][\"definitions\"] = [\n",
    "    {\n",
    "        \"name\": \"v35h15\",\n",
    "        \"hole_plating_thickness\": \"25um\",\n",
    "        \"material\": \"copper\",\n",
    "        \"hole_range\": \"through\",\n",
    "        \"hole_parameters\": {\n",
    "            \"shape\": \"circle\",\n",
    "            \"diameter\": \"0.15mm\",\n",
    "        },\n",
    "    }\n",
    "]"
   ]
  },
  {
   "cell_type": "code",
   "execution_count": 5,
   "id": "f9fd67a1",
   "metadata": {
    "execution": {
     "iopub.execute_input": "2025-02-03T13:58:25.172557Z",
     "iopub.status.busy": "2025-02-03T13:58:25.172557Z",
     "iopub.status.idle": "2025-02-03T13:58:25.203835Z",
     "shell.execute_reply": "2025-02-03T13:58:25.203835Z"
    }
   },
   "outputs": [
    {
     "data": {
      "text/html": [
       "<div>\n",
       "<style scoped>\n",
       "    .dataframe tbody tr th:only-of-type {\n",
       "        vertical-align: middle;\n",
       "    }\n",
       "\n",
       "    .dataframe tbody tr th {\n",
       "        vertical-align: top;\n",
       "    }\n",
       "\n",
       "    .dataframe thead th {\n",
       "        text-align: right;\n",
       "    }\n",
       "</style>\n",
       "<table border=\"1\" class=\"dataframe\">\n",
       "  <thead>\n",
       "    <tr style=\"text-align: right;\">\n",
       "      <th></th>\n",
       "      <th>name</th>\n",
       "      <th>hole_plating_thickness</th>\n",
       "      <th>material</th>\n",
       "      <th>hole_range</th>\n",
       "      <th>hole_parameters</th>\n",
       "    </tr>\n",
       "  </thead>\n",
       "  <tbody>\n",
       "    <tr>\n",
       "      <th>0</th>\n",
       "      <td>v35h15</td>\n",
       "      <td>25um</td>\n",
       "      <td>copper</td>\n",
       "      <td>through</td>\n",
       "      <td>{'shape': 'circle', 'diameter': '0.15mm'}</td>\n",
       "    </tr>\n",
       "  </tbody>\n",
       "</table>\n",
       "</div>"
      ],
      "text/plain": [
       "     name hole_plating_thickness material hole_range  \\\n",
       "0  v35h15                   25um   copper    through   \n",
       "\n",
       "                             hole_parameters  \n",
       "0  {'shape': 'circle', 'diameter': '0.15mm'}  "
      ]
     },
     "metadata": {},
     "output_type": "display_data"
    }
   ],
   "source": [
    "df = pd.DataFrame(data=cfg[\"padstacks\"][\"definitions\"])\n",
    "display(df)"
   ]
  },
  {
   "cell_type": "code",
   "execution_count": 6,
   "id": "61f95929",
   "metadata": {
    "execution": {
     "iopub.execute_input": "2025-02-03T13:58:25.203835Z",
     "iopub.status.busy": "2025-02-03T13:58:25.203835Z",
     "iopub.status.idle": "2025-02-03T13:58:25.219449Z",
     "shell.execute_reply": "2025-02-03T13:58:25.219449Z"
    }
   },
   "outputs": [],
   "source": [
    "cfg_file_path = Path(temp_folder) / \"cfg.json\"\n",
    "with open(cfg_file_path, \"w\") as f:\n",
    "    json.dump(cfg, f, indent=4, ensure_ascii=False)"
   ]
  },
  {
   "cell_type": "markdown",
   "id": "0fb8bd44",
   "metadata": {},
   "source": [
    "Load config file"
   ]
  },
  {
   "cell_type": "code",
   "execution_count": 7,
   "id": "3f50b203",
   "metadata": {
    "execution": {
     "iopub.execute_input": "2025-02-03T13:58:25.219449Z",
     "iopub.status.busy": "2025-02-03T13:58:25.219449Z",
     "iopub.status.idle": "2025-02-03T13:58:26.907310Z",
     "shell.execute_reply": "2025-02-03T13:58:26.907310Z"
    }
   },
   "outputs": [
    {
     "data": {
      "text/plain": [
       "<pyedb.configuration.cfg_data.CfgData at 0x288f92a46a0>"
      ]
     },
     "execution_count": 7,
     "metadata": {},
     "output_type": "execute_result"
    }
   ],
   "source": [
    "edbapp.configuration.load(cfg_file_path, apply_file=True)"
   ]
  },
  {
   "cell_type": "markdown",
   "id": "0ff2fe1b",
   "metadata": {},
   "source": [
    "## Create a config file with pad information"
   ]
  },
  {
   "cell_type": "markdown",
   "id": "0b46ba0d",
   "metadata": {},
   "source": [
    "Keywords\n",
    "\n",
    "- **name**. Name of the padstack definition.\n",
    "- **pad_parameters**.\n",
    "  - **regular_pad**. List of pad definition per layer.\n",
    "    - **layer_name**. Name of the layer.\n",
    "    - **shape**. Supported types are 'circle', 'square', 'rectangle', 'oval', 'bullet'.\n",
    "    - Other parameters are shape dependent.\n",
    "      - When shape is 'circle', supported parameter si 'diameter'.\n",
    "      - When shape is 'square', supported parameter is 'size'.\n",
    "      - When shape is 'rectangle', supported parameters are 'x_size', 'y_size'.\n",
    "      - When shape is 'oval', supported parameters are 'x_size', 'y_size', 'corner_radius'.\n",
    "      - When shape is 'bullet', supported parameters are 'x_size', 'y_size', 'corner_radius'."
   ]
  },
  {
   "cell_type": "code",
   "execution_count": 8,
   "id": "6feaa28b",
   "metadata": {
    "execution": {
     "iopub.execute_input": "2025-02-03T13:58:26.907310Z",
     "iopub.status.busy": "2025-02-03T13:58:26.907310Z",
     "iopub.status.idle": "2025-02-03T13:58:26.922939Z",
     "shell.execute_reply": "2025-02-03T13:58:26.922939Z"
    }
   },
   "outputs": [],
   "source": [
    "cfg = dict()\n",
    "cfg[\"padstacks\"] = {}\n",
    "cfg[\"padstacks\"][\"definitions\"] = [\n",
    "    {\n",
    "        \"name\": \"v35h15\",\n",
    "        \"pad_parameters\": {\n",
    "            \"regular_pad\": [\n",
    "                {\n",
    "                    \"layer_name\": \"1_Top\",\n",
    "                    \"shape\": \"circle\",\n",
    "                    \"offset_x\": \"0.1mm\",\n",
    "                    \"offset_y\": \"0.1mm\",\n",
    "                    \"rotation\": \"0\",\n",
    "                    \"diameter\": \"0.5mm\",\n",
    "                },\n",
    "                {\n",
    "                    \"layer_name\": \"Inner1(GND1)\",\n",
    "                    \"shape\": \"square\",\n",
    "                    \"offset_x\": \"0.1mm\",\n",
    "                    \"offset_y\": \"0.1mm\",\n",
    "                    \"rotation\": \"45deg\",\n",
    "                    \"size\": \"0.5mm\",\n",
    "                },\n",
    "            ],\n",
    "            \"anti_pad\": [{\"layer_name\": \"1_Top\", \"shape\": \"circle\", \"diameter\": \"1mm\"}],\n",
    "        },\n",
    "    }\n",
    "]"
   ]
  },
  {
   "cell_type": "code",
   "execution_count": 9,
   "id": "092e0d50",
   "metadata": {
    "execution": {
     "iopub.execute_input": "2025-02-03T13:58:26.922939Z",
     "iopub.status.busy": "2025-02-03T13:58:26.922939Z",
     "iopub.status.idle": "2025-02-03T13:58:26.938565Z",
     "shell.execute_reply": "2025-02-03T13:58:26.938565Z"
    }
   },
   "outputs": [
    {
     "data": {
      "text/html": [
       "<div>\n",
       "<style scoped>\n",
       "    .dataframe tbody tr th:only-of-type {\n",
       "        vertical-align: middle;\n",
       "    }\n",
       "\n",
       "    .dataframe tbody tr th {\n",
       "        vertical-align: top;\n",
       "    }\n",
       "\n",
       "    .dataframe thead th {\n",
       "        text-align: right;\n",
       "    }\n",
       "</style>\n",
       "<table border=\"1\" class=\"dataframe\">\n",
       "  <thead>\n",
       "    <tr style=\"text-align: right;\">\n",
       "      <th></th>\n",
       "      <th>layer_name</th>\n",
       "      <th>shape</th>\n",
       "      <th>offset_x</th>\n",
       "      <th>offset_y</th>\n",
       "      <th>rotation</th>\n",
       "      <th>diameter</th>\n",
       "      <th>size</th>\n",
       "    </tr>\n",
       "  </thead>\n",
       "  <tbody>\n",
       "    <tr>\n",
       "      <th>0</th>\n",
       "      <td>1_Top</td>\n",
       "      <td>circle</td>\n",
       "      <td>0.1mm</td>\n",
       "      <td>0.1mm</td>\n",
       "      <td>0</td>\n",
       "      <td>0.5mm</td>\n",
       "      <td>NaN</td>\n",
       "    </tr>\n",
       "    <tr>\n",
       "      <th>1</th>\n",
       "      <td>Inner1(GND1)</td>\n",
       "      <td>square</td>\n",
       "      <td>0.1mm</td>\n",
       "      <td>0.1mm</td>\n",
       "      <td>45deg</td>\n",
       "      <td>NaN</td>\n",
       "      <td>0.5mm</td>\n",
       "    </tr>\n",
       "  </tbody>\n",
       "</table>\n",
       "</div>"
      ],
      "text/plain": [
       "     layer_name   shape offset_x offset_y rotation diameter   size\n",
       "0         1_Top  circle    0.1mm    0.1mm        0    0.5mm    NaN\n",
       "1  Inner1(GND1)  square    0.1mm    0.1mm    45deg      NaN  0.5mm"
      ]
     },
     "metadata": {},
     "output_type": "display_data"
    }
   ],
   "source": [
    "df = pd.DataFrame(data=cfg[\"padstacks\"][\"definitions\"][0][\"pad_parameters\"][\"regular_pad\"])\n",
    "display(df)"
   ]
  },
  {
   "cell_type": "code",
   "execution_count": 10,
   "id": "b154cdf9",
   "metadata": {
    "execution": {
     "iopub.execute_input": "2025-02-03T13:58:26.938565Z",
     "iopub.status.busy": "2025-02-03T13:58:26.938565Z",
     "iopub.status.idle": "2025-02-03T13:58:26.954240Z",
     "shell.execute_reply": "2025-02-03T13:58:26.954240Z"
    }
   },
   "outputs": [
    {
     "data": {
      "text/html": [
       "<div>\n",
       "<style scoped>\n",
       "    .dataframe tbody tr th:only-of-type {\n",
       "        vertical-align: middle;\n",
       "    }\n",
       "\n",
       "    .dataframe tbody tr th {\n",
       "        vertical-align: top;\n",
       "    }\n",
       "\n",
       "    .dataframe thead th {\n",
       "        text-align: right;\n",
       "    }\n",
       "</style>\n",
       "<table border=\"1\" class=\"dataframe\">\n",
       "  <thead>\n",
       "    <tr style=\"text-align: right;\">\n",
       "      <th></th>\n",
       "      <th>layer_name</th>\n",
       "      <th>shape</th>\n",
       "      <th>diameter</th>\n",
       "    </tr>\n",
       "  </thead>\n",
       "  <tbody>\n",
       "    <tr>\n",
       "      <th>0</th>\n",
       "      <td>1_Top</td>\n",
       "      <td>circle</td>\n",
       "      <td>1mm</td>\n",
       "    </tr>\n",
       "  </tbody>\n",
       "</table>\n",
       "</div>"
      ],
      "text/plain": [
       "  layer_name   shape diameter\n",
       "0      1_Top  circle      1mm"
      ]
     },
     "metadata": {},
     "output_type": "display_data"
    }
   ],
   "source": [
    "df = pd.DataFrame(data=cfg[\"padstacks\"][\"definitions\"][0][\"pad_parameters\"][\"anti_pad\"])\n",
    "display(df)"
   ]
  },
  {
   "cell_type": "code",
   "execution_count": 11,
   "id": "707dd6ec",
   "metadata": {
    "execution": {
     "iopub.execute_input": "2025-02-03T13:58:26.954240Z",
     "iopub.status.busy": "2025-02-03T13:58:26.954240Z",
     "iopub.status.idle": "2025-02-03T13:58:26.969862Z",
     "shell.execute_reply": "2025-02-03T13:58:26.969862Z"
    }
   },
   "outputs": [],
   "source": [
    "cfg_file_path = Path(temp_folder) / \"cfg.json\"\n",
    "with open(cfg_file_path, \"w\") as f:\n",
    "    json.dump(cfg, f, indent=4, ensure_ascii=False)"
   ]
  },
  {
   "cell_type": "markdown",
   "id": "4fc8a47e",
   "metadata": {},
   "source": [
    "Load config file"
   ]
  },
  {
   "cell_type": "code",
   "execution_count": 12,
   "id": "d96d8461",
   "metadata": {
    "execution": {
     "iopub.execute_input": "2025-02-03T13:58:26.969862Z",
     "iopub.status.busy": "2025-02-03T13:58:26.969862Z",
     "iopub.status.idle": "2025-02-03T13:58:28.266752Z",
     "shell.execute_reply": "2025-02-03T13:58:28.266752Z"
    }
   },
   "outputs": [
    {
     "data": {
      "text/plain": [
       "<pyedb.configuration.cfg_data.CfgData at 0x288a81796c0>"
      ]
     },
     "execution_count": 12,
     "metadata": {},
     "output_type": "execute_result"
    }
   ],
   "source": [
    "edbapp.configuration.load(cfg_file_path, apply_file=True)"
   ]
  },
  {
   "cell_type": "markdown",
   "id": "e081d0ff",
   "metadata": {},
   "source": [
    "## Save and close Edb\n",
    "The temporary folder will be deleted once the execution of this script is finished. Replace edbapp.save() with\n",
    "edbapp.save_as(\"C:/example.aedb\") to keep the example project."
   ]
  },
  {
   "cell_type": "code",
   "execution_count": 13,
   "id": "d3fb8434",
   "metadata": {
    "execution": {
     "iopub.execute_input": "2025-02-03T13:58:28.266752Z",
     "iopub.status.busy": "2025-02-03T13:58:28.266752Z",
     "iopub.status.idle": "2025-02-03T13:58:28.470299Z",
     "shell.execute_reply": "2025-02-03T13:58:28.470299Z"
    }
   },
   "outputs": [
    {
     "data": {
      "text/plain": [
       "True"
      ]
     },
     "execution_count": 13,
     "metadata": {},
     "output_type": "execute_result"
    }
   ],
   "source": [
    "edbapp.save()\n",
    "edbapp.close()"
   ]
  }
 ],
 "metadata": {
  "jupytext": {
   "cell_metadata_filter": "-all",
   "main_language": "python",
   "notebook_metadata_filter": "-all",
   "text_representation": {
    "extension": ".py",
    "format_name": "light"
   }
  },
  "language_info": {
   "codemirror_mode": {
    "name": "ipython",
    "version": 3
   },
   "file_extension": ".py",
   "mimetype": "text/x-python",
   "name": "python",
   "nbconvert_exporter": "python",
   "pygments_lexer": "ipython3",
   "version": "3.10.11"
  }
 },
 "nbformat": 4,
 "nbformat_minor": 5
}
