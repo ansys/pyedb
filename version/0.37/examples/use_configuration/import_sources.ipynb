{
 "cells": [
  {
   "cell_type": "markdown",
   "id": "f9a3df3a",
   "metadata": {},
   "source": [
    "# Import Sources\n",
    "This example shows how to import voltage and current sources. In this example, we are going to\n",
    "\n",
    "- Download an example board\n",
    "- Create a configuration file\n",
    "  - Add a voltage source between two nets\n",
    "  - Add a current source between two pins\n",
    "  - Add a current source between two pin groups\n",
    "  - Add a current source between two coordinates\n",
    "  - Add a current source to the nearest pin\n",
    "  - Add distributed sources\n",
    "- Import the configuration file"
   ]
  },
  {
   "cell_type": "markdown",
   "id": "8c582876",
   "metadata": {},
   "source": [
    "## Import the required packages"
   ]
  },
  {
   "cell_type": "code",
   "execution_count": 1,
   "id": "159a3d0d",
   "metadata": {
    "execution": {
     "iopub.execute_input": "2025-02-03T13:59:14.593811Z",
     "iopub.status.busy": "2025-02-03T13:59:14.593811Z",
     "iopub.status.idle": "2025-02-03T13:59:15.078220Z",
     "shell.execute_reply": "2025-02-03T13:59:15.078220Z"
    }
   },
   "outputs": [],
   "source": [
    "import json\n",
    "from pathlib import Path\n",
    "import tempfile\n",
    "\n",
    "from ansys.aedt.core.downloads import download_file\n",
    "\n",
    "from pyedb import Edb\n",
    "\n",
    "AEDT_VERSION = \"2024.2\"\n",
    "NG_MODE = False\n"
   ]
  },
  {
   "cell_type": "markdown",
   "id": "2786ce56",
   "metadata": {},
   "source": [
    "Download the example PCB data."
   ]
  },
  {
   "cell_type": "code",
   "execution_count": 2,
   "id": "3f443d40",
   "metadata": {
    "execution": {
     "iopub.execute_input": "2025-02-03T13:59:15.078220Z",
     "iopub.status.busy": "2025-02-03T13:59:15.078220Z",
     "iopub.status.idle": "2025-02-03T13:59:15.484448Z",
     "shell.execute_reply": "2025-02-03T13:59:15.484448Z"
    }
   },
   "outputs": [],
   "source": [
    "temp_folder = tempfile.TemporaryDirectory(suffix=\".ansys\")\n",
    "file_edb = download_file(source=\"edb/ANSYS-HSD_V1.aedb\", destination=temp_folder.name)"
   ]
  },
  {
   "cell_type": "markdown",
   "id": "034352e4",
   "metadata": {},
   "source": [
    "## Load example layout"
   ]
  },
  {
   "cell_type": "code",
   "execution_count": 3,
   "id": "3fa86489",
   "metadata": {
    "execution": {
     "iopub.execute_input": "2025-02-03T13:59:15.484448Z",
     "iopub.status.busy": "2025-02-03T13:59:15.484448Z",
     "iopub.status.idle": "2025-02-03T13:59:28.343111Z",
     "shell.execute_reply": "2025-02-03T13:59:28.343111Z"
    }
   },
   "outputs": [
    {
     "name": "stdout",
     "output_type": "stream",
     "text": [
      "PyAEDT INFO: Logger is initialized in EDB.\n"
     ]
    },
    {
     "name": "stdout",
     "output_type": "stream",
     "text": [
      "PyAEDT INFO: legacy v0.37.0\n"
     ]
    },
    {
     "name": "stdout",
     "output_type": "stream",
     "text": [
      "PyAEDT INFO: Python version 3.10.11 (tags/v3.10.11:7d4cc5a, Apr  5 2023, 00:38:17) [MSC v.1929 64 bit (AMD64)]\n"
     ]
    },
    {
     "name": "stdout",
     "output_type": "stream",
     "text": [
      "PyAEDT INFO: Database ANSYS-HSD_V1.aedb Opened in 2024.2\n"
     ]
    },
    {
     "name": "stdout",
     "output_type": "stream",
     "text": [
      "PyAEDT INFO: Cell main Opened\n"
     ]
    },
    {
     "name": "stdout",
     "output_type": "stream",
     "text": [
      "PyAEDT INFO: Builder was initialized.\n"
     ]
    },
    {
     "name": "stdout",
     "output_type": "stream",
     "text": [
      "PyAEDT INFO: EDB initialized.\n"
     ]
    }
   ],
   "source": [
    "edbapp = Edb(file_edb, edbversion=AEDT_VERSION)"
   ]
  },
  {
   "cell_type": "markdown",
   "id": "6cdd87c1",
   "metadata": {},
   "source": [
    "## Create an empty dictionary to host all configurations"
   ]
  },
  {
   "cell_type": "code",
   "execution_count": 4,
   "id": "72a60cf0",
   "metadata": {
    "execution": {
     "iopub.execute_input": "2025-02-03T13:59:28.343111Z",
     "iopub.status.busy": "2025-02-03T13:59:28.343111Z",
     "iopub.status.idle": "2025-02-03T13:59:28.358736Z",
     "shell.execute_reply": "2025-02-03T13:59:28.358736Z"
    }
   },
   "outputs": [],
   "source": [
    "cfg = dict()"
   ]
  },
  {
   "cell_type": "markdown",
   "id": "d545dd66",
   "metadata": {},
   "source": [
    "## Add a voltage source between two nets"
   ]
  },
  {
   "cell_type": "markdown",
   "id": "4b1d1510",
   "metadata": {},
   "source": [
    "Keywords\n",
    "\n",
    "- **name**. Name of the voltage source.\n",
    "- **Reference_designator**. Reference designator of the component.\n",
    "- **type**. Type of the source. Supported types are 'voltage', 'current'\n",
    "- **positive_terminal**. Supported types are 'net', 'pin', 'pin_group', 'coordinates'\n",
    "  - **contact_radius**. Optional. Set circular equipotential region.\n",
    "  - **inline**. Optional. When True, contact points are place in a row.\n",
    "  - **num_of_contact**. Optional. Number of contact points. Default is 1. Applicable only when inline is True.\n",
    "- **negative_terminal**. Supported types are 'net', 'pin', 'pin_group', 'coordinates'\n",
    "- **equipotential**. Set equipotential region on pins when True."
   ]
  },
  {
   "cell_type": "code",
   "execution_count": 5,
   "id": "6b603fbb",
   "metadata": {
    "execution": {
     "iopub.execute_input": "2025-02-03T13:59:28.358736Z",
     "iopub.status.busy": "2025-02-03T13:59:28.358736Z",
     "iopub.status.idle": "2025-02-03T13:59:28.374362Z",
     "shell.execute_reply": "2025-02-03T13:59:28.374362Z"
    }
   },
   "outputs": [],
   "source": [
    "voltage_source = {\n",
    "    \"name\": \"V_SOURCE_5V\",\n",
    "    \"reference_designator\": \"U4\",\n",
    "    \"type\": \"voltage\",\n",
    "    \"magnitude\": 1,\n",
    "    \"positive_terminal\": {\"net\": \"5V\", \"contact_radius\": \"1mm\"},\n",
    "    \"negative_terminal\": {\"net\": \"GND\", \"contact_radius\": \"1mm\"},\n",
    "    \"equipotential\": True,\n",
    "}"
   ]
  },
  {
   "cell_type": "markdown",
   "id": "03f50330",
   "metadata": {},
   "source": [
    "## Add a current source between two pins"
   ]
  },
  {
   "cell_type": "code",
   "execution_count": 6,
   "id": "108b7209",
   "metadata": {
    "execution": {
     "iopub.execute_input": "2025-02-03T13:59:28.374362Z",
     "iopub.status.busy": "2025-02-03T13:59:28.374362Z",
     "iopub.status.idle": "2025-02-03T13:59:28.389990Z",
     "shell.execute_reply": "2025-02-03T13:59:28.389990Z"
    }
   },
   "outputs": [],
   "source": [
    "current_source_1 = {\n",
    "    \"name\": \"I_CURRENT_1A\",\n",
    "    \"reference_designator\": \"J5\",\n",
    "    \"type\": \"current\",\n",
    "    \"magnitude\": 10,\n",
    "    \"positive_terminal\": {\"pin\": \"15\"},\n",
    "    \"negative_terminal\": {\"pin\": \"14\"},\n",
    "}"
   ]
  },
  {
   "cell_type": "markdown",
   "id": "b4725667",
   "metadata": {},
   "source": [
    "## Add a current source between two pin groups"
   ]
  },
  {
   "cell_type": "code",
   "execution_count": 7,
   "id": "ef032d23",
   "metadata": {
    "execution": {
     "iopub.execute_input": "2025-02-03T13:59:28.389990Z",
     "iopub.status.busy": "2025-02-03T13:59:28.389990Z",
     "iopub.status.idle": "2025-02-03T13:59:28.405623Z",
     "shell.execute_reply": "2025-02-03T13:59:28.405623Z"
    }
   },
   "outputs": [],
   "source": [
    "pin_groups = [\n",
    "    {\"name\": \"IC2_5V\", \"reference_designator\": \"IC2\", \"pins\": [\"8\"]},\n",
    "    {\"name\": \"IC2_GND\", \"reference_designator\": \"IC2\", \"net\": \"GND\"},\n",
    "]"
   ]
  },
  {
   "cell_type": "code",
   "execution_count": 8,
   "id": "17ceed0f",
   "metadata": {
    "execution": {
     "iopub.execute_input": "2025-02-03T13:59:28.405623Z",
     "iopub.status.busy": "2025-02-03T13:59:28.405623Z",
     "iopub.status.idle": "2025-02-03T13:59:28.421248Z",
     "shell.execute_reply": "2025-02-03T13:59:28.421248Z"
    }
   },
   "outputs": [],
   "source": [
    "current_source_2 = {\n",
    "    \"name\": \"CURRENT_SOURCE_2\",\n",
    "    \"type\": \"current\",\n",
    "    \"positive_terminal\": {\"pin_group\": \"IC2_5V\"},\n",
    "    \"negative_terminal\": {\"pin_group\": \"IC2_GND\"},\n",
    "}"
   ]
  },
  {
   "cell_type": "markdown",
   "id": "c658b686",
   "metadata": {},
   "source": [
    "## Add a current source between two coordinates"
   ]
  },
  {
   "cell_type": "markdown",
   "id": "8ea481c1",
   "metadata": {},
   "source": [
    "Keywords\n",
    "\n",
    "- **layer**. Layer on which the terminal is placed\n",
    "- **point**. XY coordinate the terminal is placed\n",
    "- **net**. Name of the net the terminal is placed on"
   ]
  },
  {
   "cell_type": "code",
   "execution_count": 9,
   "id": "bda6ae8d",
   "metadata": {
    "execution": {
     "iopub.execute_input": "2025-02-03T13:59:28.421248Z",
     "iopub.status.busy": "2025-02-03T13:59:28.421248Z",
     "iopub.status.idle": "2025-02-03T13:59:28.436914Z",
     "shell.execute_reply": "2025-02-03T13:59:28.436914Z"
    }
   },
   "outputs": [],
   "source": [
    "current_source_3 = {\n",
    "    \"name\": \"CURRENT_SOURCE_3\",\n",
    "    \"type\": \"current\",\n",
    "    \"equipotential\": True,\n",
    "    \"positive_terminal\": {\"coordinates\": {\"layer\": \"1_Top\", \"point\": [\"116mm\", \"41mm\"], \"net\": \"5V\"}},\n",
    "    \"negative_terminal\": {\"coordinates\": {\"layer\": \"Inner1(GND1)\", \"point\": [\"116mm\", \"41mm\"], \"net\": \"GND\"}},\n",
    "}"
   ]
  },
  {
   "cell_type": "markdown",
   "id": "65e31f35",
   "metadata": {},
   "source": [
    "## Add a current source reference to the nearest pin"
   ]
  },
  {
   "cell_type": "markdown",
   "id": "77fe021e",
   "metadata": {},
   "source": [
    "Keywords\n",
    "\n",
    "- **reference_net**. Name of the reference net\n",
    "- **search_radius**. Reference pin search radius in meter"
   ]
  },
  {
   "cell_type": "code",
   "execution_count": 10,
   "id": "0b87b554",
   "metadata": {
    "execution": {
     "iopub.execute_input": "2025-02-03T13:59:28.436914Z",
     "iopub.status.busy": "2025-02-03T13:59:28.436914Z",
     "iopub.status.idle": "2025-02-03T13:59:28.452567Z",
     "shell.execute_reply": "2025-02-03T13:59:28.452567Z"
    }
   },
   "outputs": [],
   "source": [
    "current_source_4 = {\n",
    "    \"name\": \"CURRENT_SOURCE_4\",\n",
    "    \"reference_designator\": \"J5\",\n",
    "    \"type\": \"current\",\n",
    "    \"positive_terminal\": {\"pin\": \"16\"},\n",
    "    \"negative_terminal\": {\"nearest_pin\": {\"reference_net\": \"GND\", \"search_radius\": 5e-3}},\n",
    "}"
   ]
  },
  {
   "cell_type": "markdown",
   "id": "4adf82a2",
   "metadata": {},
   "source": [
    "## Add distributed current sources"
   ]
  },
  {
   "cell_type": "markdown",
   "id": "e3048d00",
   "metadata": {},
   "source": [
    "Keywords\n",
    "\n",
    "- **distributed**. Whether to create distributed sources. When set to True, ports are created per pin"
   ]
  },
  {
   "cell_type": "code",
   "execution_count": 11,
   "id": "eee9f53b",
   "metadata": {
    "execution": {
     "iopub.execute_input": "2025-02-03T13:59:28.452567Z",
     "iopub.status.busy": "2025-02-03T13:59:28.452567Z",
     "iopub.status.idle": "2025-02-03T13:59:28.468776Z",
     "shell.execute_reply": "2025-02-03T13:59:28.468249Z"
    }
   },
   "outputs": [],
   "source": [
    "sources_distributed = {\n",
    "    \"name\": \"DISTRIBUTED\",\n",
    "    \"reference_designator\": \"U2\",\n",
    "    \"type\": \"current\",\n",
    "    \"distributed\": True,\n",
    "    \"positive_terminal\": {\"net\": \"5V\"},\n",
    "    \"negative_terminal\": {\"net\": \"GND\"},\n",
    "}"
   ]
  },
  {
   "cell_type": "markdown",
   "id": "2c24eb87",
   "metadata": {},
   "source": [
    "## Add setups in configuration"
   ]
  },
  {
   "cell_type": "code",
   "execution_count": 12,
   "id": "026e67c4",
   "metadata": {
    "execution": {
     "iopub.execute_input": "2025-02-03T13:59:28.468776Z",
     "iopub.status.busy": "2025-02-03T13:59:28.468776Z",
     "iopub.status.idle": "2025-02-03T13:59:28.484352Z",
     "shell.execute_reply": "2025-02-03T13:59:28.484352Z"
    }
   },
   "outputs": [],
   "source": [
    "cfg[\"pin_groups\"] = pin_groups\n",
    "cfg[\"sources\"] = [\n",
    "    voltage_source,\n",
    "    current_source_1,\n",
    "    current_source_2,\n",
    "    current_source_3,\n",
    "    current_source_4,\n",
    "    sources_distributed,\n",
    "]"
   ]
  },
  {
   "cell_type": "markdown",
   "id": "b2961f7f",
   "metadata": {},
   "source": [
    "## Write configuration into as json file"
   ]
  },
  {
   "cell_type": "code",
   "execution_count": 13,
   "id": "ae6b1e3f",
   "metadata": {
    "execution": {
     "iopub.execute_input": "2025-02-03T13:59:28.484352Z",
     "iopub.status.busy": "2025-02-03T13:59:28.484352Z",
     "iopub.status.idle": "2025-02-03T13:59:28.500041Z",
     "shell.execute_reply": "2025-02-03T13:59:28.500041Z"
    }
   },
   "outputs": [],
   "source": [
    "file_json = Path(temp_folder.name) / \"edb_configuration.json\"\n",
    "with open(file_json, \"w\") as f:\n",
    "    json.dump(cfg, f, indent=4, ensure_ascii=False)"
   ]
  },
  {
   "cell_type": "markdown",
   "id": "1995c8ab",
   "metadata": {},
   "source": [
    "## Import configuration into example layout"
   ]
  },
  {
   "cell_type": "code",
   "execution_count": 14,
   "id": "92723e0b",
   "metadata": {
    "execution": {
     "iopub.execute_input": "2025-02-03T13:59:28.500041Z",
     "iopub.status.busy": "2025-02-03T13:59:28.500041Z",
     "iopub.status.idle": "2025-02-03T13:59:29.609386Z",
     "shell.execute_reply": "2025-02-03T13:59:29.609386Z"
    }
   },
   "outputs": [
    {
     "data": {
      "text/plain": [
       "True"
      ]
     },
     "execution_count": 14,
     "metadata": {},
     "output_type": "execute_result"
    }
   ],
   "source": [
    "edbapp.configuration.load(config_file=file_json)\n",
    "edbapp.configuration.run()"
   ]
  },
  {
   "cell_type": "markdown",
   "id": "1b065d77",
   "metadata": {},
   "source": [
    "## Review"
   ]
  },
  {
   "cell_type": "code",
   "execution_count": 15,
   "id": "636a20b8",
   "metadata": {
    "execution": {
     "iopub.execute_input": "2025-02-03T13:59:29.609386Z",
     "iopub.status.busy": "2025-02-03T13:59:29.609386Z",
     "iopub.status.idle": "2025-02-03T13:59:29.625009Z",
     "shell.execute_reply": "2025-02-03T13:59:29.625009Z"
    }
   },
   "outputs": [
    {
     "data": {
      "text/plain": [
       "{'V_SOURCE_5V': <pyedb.dotnet.edb_core.edb_data.ports.ExcitationSources at 0x1d586ea77c0>,\n",
       " 'I_CURRENT_1A': <pyedb.dotnet.edb_core.edb_data.ports.ExcitationSources at 0x2163f0d9090>,\n",
       " 'CURRENT_SOURCE_2': <pyedb.dotnet.edb_core.edb_data.ports.ExcitationSources at 0x2163f0d8ac0>,\n",
       " 'CURRENT_SOURCE_3': <pyedb.dotnet.edb_core.edb_data.ports.ExcitationSources at 0x2163f0d95d0>,\n",
       " 'CURRENT_SOURCE_4': <pyedb.dotnet.edb_core.edb_data.ports.ExcitationSources at 0x2163f0d88e0>,\n",
       " 'DISTRIBUTED_U2_5V_39': <pyedb.dotnet.edb_core.edb_data.ports.ExcitationSources at 0x2163f0d8100>,\n",
       " 'DISTRIBUTED_U2_5V_40': <pyedb.dotnet.edb_core.edb_data.ports.ExcitationSources at 0x2163f142e90>,\n",
       " 'DISTRIBUTED_U2_5V_41': <pyedb.dotnet.edb_core.edb_data.ports.ExcitationSources at 0x2163f143100>,\n",
       " 'DISTRIBUTED_U2_5V_42': <pyedb.dotnet.edb_core.edb_data.ports.ExcitationSources at 0x1d585d0ac20>,\n",
       " 'DISTRIBUTED_U2_5V_43': <pyedb.dotnet.edb_core.edb_data.ports.ExcitationSources at 0x1d585d0b6d0>,\n",
       " 'DISTRIBUTED_U2_5V_44': <pyedb.dotnet.edb_core.edb_data.ports.ExcitationSources at 0x1d585d0bdc0>,\n",
       " 'DISTRIBUTED_U2_5V_45': <pyedb.dotnet.edb_core.edb_data.ports.ExcitationSources at 0x1d585d0ac50>,\n",
       " 'DISTRIBUTED_U2_5V_46': <pyedb.dotnet.edb_core.edb_data.ports.ExcitationSources at 0x1d585d0a740>,\n",
       " 'DISTRIBUTED_U2_5V_47': <pyedb.dotnet.edb_core.edb_data.ports.ExcitationSources at 0x1d585d0b4f0>,\n",
       " 'DISTRIBUTED_U2_5V_48': <pyedb.dotnet.edb_core.edb_data.ports.ExcitationSources at 0x2164225ad10>,\n",
       " 'DISTRIBUTED_U2_5V_49': <pyedb.dotnet.edb_core.edb_data.ports.ExcitationSources at 0x2164225ad70>,\n",
       " 'DISTRIBUTED_U2_5V_50': <pyedb.dotnet.edb_core.edb_data.ports.ExcitationSources at 0x2164225add0>,\n",
       " 'DISTRIBUTED_U2_5V_51': <pyedb.dotnet.edb_core.edb_data.ports.ExcitationSources at 0x2164225ae30>,\n",
       " 'DISTRIBUTED_U2_5V_60': <pyedb.dotnet.edb_core.edb_data.ports.ExcitationSources at 0x2164225ae90>}"
      ]
     },
     "execution_count": 15,
     "metadata": {},
     "output_type": "execute_result"
    }
   ],
   "source": [
    "edbapp.siwave.sources"
   ]
  },
  {
   "cell_type": "markdown",
   "id": "e6bdf6c5",
   "metadata": {},
   "source": [
    "## Save and close Edb\n",
    "The temporary folder will be deleted once the execution of this script is finished. Replace **edbapp.save()** with\n",
    "**edbapp.save_as(\"C:/example.aedb\")** to keep the example project."
   ]
  },
  {
   "cell_type": "code",
   "execution_count": 16,
   "id": "5f86ba22",
   "metadata": {
    "execution": {
     "iopub.execute_input": "2025-02-03T13:59:29.625009Z",
     "iopub.status.busy": "2025-02-03T13:59:29.625009Z",
     "iopub.status.idle": "2025-02-03T13:59:29.828181Z",
     "shell.execute_reply": "2025-02-03T13:59:29.828181Z"
    }
   },
   "outputs": [
    {
     "data": {
      "text/plain": [
       "True"
      ]
     },
     "execution_count": 16,
     "metadata": {},
     "output_type": "execute_result"
    }
   ],
   "source": [
    "edbapp.save()\n",
    "edbapp.close()"
   ]
  }
 ],
 "metadata": {
  "jupytext": {
   "cell_metadata_filter": "-all",
   "main_language": "python",
   "notebook_metadata_filter": "-all",
   "text_representation": {
    "extension": ".py",
    "format_name": "light"
   }
  },
  "language_info": {
   "codemirror_mode": {
    "name": "ipython",
    "version": 3
   },
   "file_extension": ".py",
   "mimetype": "text/x-python",
   "name": "python",
   "nbconvert_exporter": "python",
   "pygments_lexer": "ipython3",
   "version": "3.10.11"
  }
 },
 "nbformat": 4,
 "nbformat_minor": 5
}
