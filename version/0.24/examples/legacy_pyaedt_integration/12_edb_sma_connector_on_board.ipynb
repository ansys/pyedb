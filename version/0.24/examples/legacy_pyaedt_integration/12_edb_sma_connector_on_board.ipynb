{
 "cells": [
  {
   "cell_type": "markdown",
   "id": "0ce08db9",
   "metadata": {},
   "source": [
    "# EDB: geometry creation\n",
    "\n",
    "This example shows how to\n",
    "1. Create a parameterized PCB with an SMA connector footprint for a single-ended\n",
    "  SMA connector launch footprint..\n",
    "2. Place 3D component on PCB.\n",
    "3. Create HFSS setup and frequency sweep with a mesh operation.\n",
    "4. Create return loss plot"
   ]
  },
  {
   "cell_type": "markdown",
   "id": "b951428c",
   "metadata": {},
   "source": [
    "## See the finished project\n",
    "\n",
    "<img src=\"_static\\edb_example_12_sma_connector_on_board.png\" width=\"450\">"
   ]
  },
  {
   "cell_type": "markdown",
   "id": "e1b01e6e",
   "metadata": {},
   "source": [
    "## Create a parameterized PCB\n",
    "\n",
    "Import dependencies."
   ]
  },
  {
   "cell_type": "code",
   "execution_count": 1,
   "id": "914aa07d",
   "metadata": {
    "execution": {
     "iopub.execute_input": "2024-08-19T14:41:55.231794Z",
     "iopub.status.busy": "2024-08-19T14:41:55.231794Z",
     "iopub.status.idle": "2024-08-19T14:41:55.247343Z",
     "shell.execute_reply": "2024-08-19T14:41:55.247343Z"
    }
   },
   "outputs": [],
   "source": [
    "import os\n",
    "import tempfile"
   ]
  },
  {
   "cell_type": "code",
   "execution_count": 2,
   "id": "beed1940",
   "metadata": {
    "execution": {
     "iopub.execute_input": "2024-08-19T14:41:55.247343Z",
     "iopub.status.busy": "2024-08-19T14:41:55.247343Z",
     "iopub.status.idle": "2024-08-19T14:41:55.809920Z",
     "shell.execute_reply": "2024-08-19T14:41:55.809920Z"
    }
   },
   "outputs": [
    {
     "name": "stdout",
     "output_type": "stream",
     "text": [
      "FutureWarning: Module 'pyaedt' has become an alias to the new package structure. Please update you imports to use the new architecture based on 'ansys.aedt.core'. In addition, some files have been renamed to follow the PEP 8 naming convention. The old structure and file names will be deprecated in future versions, see https://aedt.docs.pyansys.com/version/stable/release_1_0.html\n"
     ]
    }
   ],
   "source": [
    "import numpy as np\n",
    "import pyaedt"
   ]
  },
  {
   "cell_type": "code",
   "execution_count": 3,
   "id": "4c7f6024",
   "metadata": {
    "execution": {
     "iopub.execute_input": "2024-08-19T14:41:55.809920Z",
     "iopub.status.busy": "2024-08-19T14:41:55.809920Z",
     "iopub.status.idle": "2024-08-19T14:41:55.841187Z",
     "shell.execute_reply": "2024-08-19T14:41:55.841187Z"
    }
   },
   "outputs": [],
   "source": [
    "import pyedb\n",
    "from pyedb.misc.downloads import download_file"
   ]
  },
  {
   "cell_type": "markdown",
   "id": "8d84a6a3",
   "metadata": {},
   "source": [
    "Create the EDB."
   ]
  },
  {
   "cell_type": "code",
   "execution_count": 4,
   "id": "1be398dd",
   "metadata": {
    "execution": {
     "iopub.execute_input": "2024-08-19T14:41:55.841187Z",
     "iopub.status.busy": "2024-08-19T14:41:55.841187Z",
     "iopub.status.idle": "2024-08-19T14:42:08.075668Z",
     "shell.execute_reply": "2024-08-19T14:42:08.075668Z"
    },
    "lines_to_next_cell": 2
   },
   "outputs": [
    {
     "name": "stdout",
     "output_type": "stream",
     "text": [
      "EDB version: 2024.2\n",
      "AEDB file is located in C:\\Users\\ansys\\AppData\\Local\\Temp\\tmp1o7q4od3.ansys\\pcb.aedb\n"
     ]
    },
    {
     "name": "stdout",
     "output_type": "stream",
     "text": [
      "PyAEDT INFO: Logger is initialized in EDB.\n"
     ]
    },
    {
     "name": "stdout",
     "output_type": "stream",
     "text": [
      "PyAEDT INFO: legacy v0.24.0\n"
     ]
    },
    {
     "name": "stdout",
     "output_type": "stream",
     "text": [
      "PyAEDT INFO: Python version 3.10.11 (tags/v3.10.11:7d4cc5a, Apr  5 2023, 00:38:17) [MSC v.1929 64 bit (AMD64)]\n"
     ]
    },
    {
     "name": "stdout",
     "output_type": "stream",
     "text": [
      "PyAEDT INFO: EDB C:\\Users\\ansys\\AppData\\Local\\Temp\\tmp1o7q4od3.ansys\\pcb.aedb created correctly.\n"
     ]
    },
    {
     "name": "stdout",
     "output_type": "stream",
     "text": [
      "PyAEDT INFO: EDB initialized.\n"
     ]
    }
   ],
   "source": [
    "temp_dir = tempfile.TemporaryDirectory(suffix=\".ansys\")\n",
    "working_folder = temp_dir.name\n",
    "\n",
    "# Select EDB version (change it manually if needed, e.g. \"2024.2\")\n",
    "edb_version = \"2024.2\"\n",
    "print(f\"EDB version: {edb_version}\")\n",
    "\n",
    "aedb_path = os.path.join(working_folder, \"pcb.aedb\")\n",
    "print(\"AEDB file is located in {}\".format(aedb_path))\n",
    "\n",
    "edb = pyedb.Edb(edbpath=aedb_path, edbversion=edb_version)"
   ]
  },
  {
   "cell_type": "markdown",
   "id": "9a460f6a",
   "metadata": {},
   "source": [
    "## Create Stackup\n",
    "\n",
    "While this code explicitly defines the stackup, you can import it\n",
    "from a from a CSV or XML file using the\n",
    "``Edb.stackup.load()`` method."
   ]
  },
  {
   "cell_type": "code",
   "execution_count": 5,
   "id": "7c545a1a",
   "metadata": {
    "execution": {
     "iopub.execute_input": "2024-08-19T14:42:08.075668Z",
     "iopub.status.busy": "2024-08-19T14:42:08.075668Z",
     "iopub.status.idle": "2024-08-19T14:42:08.106901Z",
     "shell.execute_reply": "2024-08-19T14:42:08.106901Z"
    }
   },
   "outputs": [
    {
     "data": {
      "text/plain": [
       "(True, <Ansys.Ansoft.Edb.Utility.VariableServer object at 0x000002BF51CC1430>)"
      ]
     },
     "execution_count": 5,
     "metadata": {},
     "output_type": "execute_result"
    }
   ],
   "source": [
    "edb.add_design_variable(\"$DIEL_T\", \"0.15mm\")"
   ]
  },
  {
   "cell_type": "code",
   "execution_count": 6,
   "id": "306781bc",
   "metadata": {
    "execution": {
     "iopub.execute_input": "2024-08-19T14:42:08.106901Z",
     "iopub.status.busy": "2024-08-19T14:42:08.106901Z",
     "iopub.status.idle": "2024-08-19T14:42:08.122557Z",
     "shell.execute_reply": "2024-08-19T14:42:08.122557Z"
    }
   },
   "outputs": [],
   "source": [
    "layers = {\n",
    "    \"materials\": {\"ANSYS_FR4\": {\"permittivity\": 3.5, \"dielectric_loss_tangent\": 0.005}},\n",
    "    \"layers\": {\n",
    "        \"TOP\": {\"type\": \"signal\", \"thickness\": \"0.05\"},\n",
    "        \"D1\": {\"type\": \"dielectric\", \"thickness\": \"$DIEL_T\", \"material\": \"ANSYS_FR4\"},\n",
    "        \"L2\": {\"type\": \"signal\", \"thickness\": \"0.05\"},\n",
    "        \"D2\": {\"type\": \"dielectric\", \"thickness\": \"$DIEL_T\", \"material\": \"ANSYS_FR4\"},\n",
    "        \"L3\": {\"type\": \"signal\", \"thickness\": \"0.05\"},\n",
    "        \"D3\": {\"type\": \"dielectric\", \"thickness\": \"$DIEL_T\", \"material\": \"ANSYS_FR4\"},\n",
    "        \"L4\": {\"type\": \"signal\", \"thickness\": \"0.05\"},\n",
    "        \"D4\": {\"type\": \"dielectric\", \"thickness\": \"$DIEL_T\", \"material\": \"ANSYS_FR4\"},\n",
    "        \"L5\": {\"type\": \"signal\", \"thickness\": \"0.05\"},\n",
    "        \"D5\": {\"type\": \"dielectric\", \"thickness\": \"$DIEL_T\", \"material\": \"ANSYS_FR4\"},\n",
    "        \"BOT\": {\"type\": \"signal\", \"thickness\": \"0.035\"},\n",
    "    },\n",
    "}"
   ]
  },
  {
   "cell_type": "code",
   "execution_count": 7,
   "id": "e0452e88",
   "metadata": {
    "execution": {
     "iopub.execute_input": "2024-08-19T14:42:08.122557Z",
     "iopub.status.busy": "2024-08-19T14:42:08.122557Z",
     "iopub.status.idle": "2024-08-19T14:42:08.466280Z",
     "shell.execute_reply": "2024-08-19T14:42:08.466280Z"
    },
    "lines_to_next_cell": 2
   },
   "outputs": [
    {
     "data": {
      "text/plain": [
       "True"
      ]
     },
     "execution_count": 7,
     "metadata": {},
     "output_type": "execute_result"
    }
   ],
   "source": [
    "edb.stackup.load(layers)"
   ]
  },
  {
   "cell_type": "markdown",
   "id": "f7f75da6",
   "metadata": {},
   "source": [
    "Create ground conductors."
   ]
  },
  {
   "cell_type": "code",
   "execution_count": 8,
   "id": "94a9d39f",
   "metadata": {
    "execution": {
     "iopub.execute_input": "2024-08-19T14:42:08.466280Z",
     "iopub.status.busy": "2024-08-19T14:42:08.466280Z",
     "iopub.status.idle": "2024-08-19T14:42:08.528733Z",
     "shell.execute_reply": "2024-08-19T14:42:08.528733Z"
    }
   },
   "outputs": [],
   "source": [
    "edb.add_design_variable(\"PCB_W\", \"20mm\")\n",
    "edb.add_design_variable(\"PCB_L\", \"20mm\")\n",
    "\n",
    "gnd_dict = {}\n",
    "for layer_name in edb.stackup.signal_layers.keys():\n",
    "    gnd_dict[layer_name] = edb.modeler.create_rectangle(layer_name, \"GND\", [0, \"PCB_W/-2\"], [\"PCB_L\", \"PCB_W/2\"])"
   ]
  },
  {
   "cell_type": "markdown",
   "id": "40b74e0c",
   "metadata": {},
   "source": [
    "## Create signal net\n",
    "\n",
    "Create signal net on layer 3, and add clearance to the ground plane."
   ]
  },
  {
   "cell_type": "code",
   "execution_count": 9,
   "id": "b0b905c8",
   "metadata": {
    "execution": {
     "iopub.execute_input": "2024-08-19T14:42:08.528733Z",
     "iopub.status.busy": "2024-08-19T14:42:08.528733Z",
     "iopub.status.idle": "2024-08-19T14:42:08.575661Z",
     "shell.execute_reply": "2024-08-19T14:42:08.575661Z"
    }
   },
   "outputs": [
    {
     "data": {
      "text/plain": [
       "True"
      ]
     },
     "execution_count": 9,
     "metadata": {},
     "output_type": "execute_result"
    }
   ],
   "source": [
    "edb.add_design_variable(\"SIG_L\", \"10mm\")\n",
    "edb.add_design_variable(\"SIG_W\", \"0.1mm\")\n",
    "edb.add_design_variable(\"SIG_C\", \"0.3mm\")\n",
    "\n",
    "signal_path = ([\"5mm\", 0], [\"SIG_L+5mm\", 0])\n",
    "signal_trace = edb.modeler.create_trace(signal_path, \"L3\", \"SIG_W\", \"SIG\", \"Flat\", \"Flat\")\n",
    "\n",
    "signal_path = ([\"5mm\", 0], [\"PCB_L\", 0])\n",
    "clr = edb.modeler.create_trace(signal_path, \"L3\", \"SIG_C*2+SIG_W\", \"SIG\", \"Flat\", \"Flat\")\n",
    "gnd_dict[\"L3\"].add_void(clr)"
   ]
  },
  {
   "cell_type": "markdown",
   "id": "85215fcc",
   "metadata": {},
   "source": [
    "## Place signal vias\n",
    "\n",
    "Create the via padstack definition and place the signal vias."
   ]
  },
  {
   "cell_type": "code",
   "execution_count": 10,
   "id": "6c208438",
   "metadata": {
    "execution": {
     "iopub.execute_input": "2024-08-19T14:42:08.575661Z",
     "iopub.status.busy": "2024-08-19T14:42:08.575661Z",
     "iopub.status.idle": "2024-08-19T14:42:08.622535Z",
     "shell.execute_reply": "2024-08-19T14:42:08.622535Z"
    }
   },
   "outputs": [
    {
     "name": "stdout",
     "output_type": "stream",
     "text": [
      "PyAEDT INFO: Padstack ANSYS_VIA create correctly\n"
     ]
    },
    {
     "data": {
      "text/plain": [
       "<pyedb.dotnet.edb_core.edb_data.padstacks_data.EDBPadstackInstance at 0x2bf52b0e930>"
      ]
     },
     "execution_count": 10,
     "metadata": {},
     "output_type": "execute_result"
    }
   ],
   "source": [
    "edb.add_design_variable(\"SG_VIA_D\", \"1mm\")\n",
    "edb.add_design_variable(\"$VIA_AP_D\", \"1.2mm\")\n",
    "edb.padstacks.create(\"ANSYS_VIA\", \"0.3mm\", \"0.5mm\", \"$VIA_AP_D\")\n",
    "edb.padstacks.place([\"5mm\", 0], \"ANSYS_VIA\", \"SIG\")"
   ]
  },
  {
   "cell_type": "markdown",
   "id": "5c71c1f4",
   "metadata": {},
   "source": [
    "Create ground vias around the SMA\n",
    "connector launch footprint. The vias\n",
    "are placed around the circumference\n",
    "of the launch from 35 degrees to 325\n",
    "degrees."
   ]
  },
  {
   "cell_type": "code",
   "execution_count": 11,
   "id": "1290ce49",
   "metadata": {
    "execution": {
     "iopub.execute_input": "2024-08-19T14:42:08.622535Z",
     "iopub.status.busy": "2024-08-19T14:42:08.622535Z",
     "iopub.status.idle": "2024-08-19T14:42:08.700694Z",
     "shell.execute_reply": "2024-08-19T14:42:08.700694Z"
    }
   },
   "outputs": [],
   "source": [
    "for i in np.arange(30, 326, 35):\n",
    "    px = np.cos(i / 180 * np.pi)\n",
    "    py = np.sin(i / 180 * np.pi)\n",
    "    edb.padstacks.place([\"{}*{}+5mm\".format(\"SG_VIA_D\", px), \"{}*{}\".format(\"SG_VIA_D\", py)], \"ANSYS_VIA\", \"GND\")"
   ]
  },
  {
   "cell_type": "markdown",
   "id": "563b09b6",
   "metadata": {},
   "source": [
    "Create ground vias along the signal trace."
   ]
  },
  {
   "cell_type": "code",
   "execution_count": 12,
   "id": "c7275fd2",
   "metadata": {
    "execution": {
     "iopub.execute_input": "2024-08-19T14:42:08.700694Z",
     "iopub.status.busy": "2024-08-19T14:42:08.700694Z",
     "iopub.status.idle": "2024-08-19T14:42:08.747485Z",
     "shell.execute_reply": "2024-08-19T14:42:08.747485Z"
    }
   },
   "outputs": [],
   "source": [
    "for i in np.arange(2e-3, edb.variables[\"SIG_L\"].value - 2e-3, 2e-3):\n",
    "    edb.padstacks.place([\"{}+5mm\".format(i), \"1mm\"], \"ANSYS_VIA\", \"GND\")\n",
    "    edb.padstacks.place([\"{}+5mm\".format(i), \"-1mm\"], \"ANSYS_VIA\", \"GND\")"
   ]
  },
  {
   "cell_type": "markdown",
   "id": "ad344767",
   "metadata": {},
   "source": [
    "Create a wave port at the end of the signal trace."
   ]
  },
  {
   "cell_type": "code",
   "execution_count": 13,
   "id": "bf7614db",
   "metadata": {
    "execution": {
     "iopub.execute_input": "2024-08-19T14:42:08.747485Z",
     "iopub.status.busy": "2024-08-19T14:42:08.747485Z",
     "iopub.status.idle": "2024-08-19T14:42:08.778733Z",
     "shell.execute_reply": "2024-08-19T14:42:08.778733Z"
    }
   },
   "outputs": [
    {
     "data": {
      "text/plain": [
       "('port_1', <pyedb.dotnet.edb_core.edb_data.ports.WavePort at 0x2bf52e74640>)"
      ]
     },
     "execution_count": 13,
     "metadata": {},
     "output_type": "execute_result"
    }
   ],
   "source": [
    "signal_trace.create_edge_port(\"port_1\", \"End\", \"Wave\", horizontal_extent_factor=10)"
   ]
  },
  {
   "cell_type": "markdown",
   "id": "2d0a1a90",
   "metadata": {},
   "source": [
    "## Set up HFSS simulation\n",
    "\n",
    "The ``max_num_passes`` argument sets an upper limit on the\n",
    "number of adaptive passes for mesh refinement.\n",
    "\n",
    "For broadband applications when the simulation results may be used\n",
    "to generate a SPICE model, the outer domain boundary can be\n",
    "located roughly $$ d=\\lambda/8 $$ from the internal structures\n",
    "in the model."
   ]
  },
  {
   "cell_type": "code",
   "execution_count": 14,
   "id": "6fee0446",
   "metadata": {
    "execution": {
     "iopub.execute_input": "2024-08-19T14:42:08.778733Z",
     "iopub.status.busy": "2024-08-19T14:42:08.778733Z",
     "iopub.status.idle": "2024-08-19T14:42:08.872540Z",
     "shell.execute_reply": "2024-08-19T14:42:08.872540Z"
    }
   },
   "outputs": [],
   "source": [
    "extend_domain = 3e11 / 5e9 / 8.0  # Quarter wavelength at 4 GHz.\n",
    "edb.design_options.antipads_always_on = True\n",
    "edb.hfss.hfss_extent_info.air_box_horizontal_extent = extend_domain\n",
    "edb.hfss.hfss_extent_info.air_box_positive_vertical_extent = extend_domain\n",
    "edb.hfss.hfss_extent_info.air_box_negative_vertical_extent = extend_domain\n",
    "\n",
    "setup = edb.create_hfss_setup(\"Setup1\")\n",
    "setup.set_solution_single_frequency(\"5GHz\", max_num_passes=8, max_delta_s=\"0.02\")\n",
    "setup.hfss_solver_settings.order_basis = \"first\""
   ]
  },
  {
   "cell_type": "markdown",
   "id": "998fdcd9",
   "metadata": {},
   "source": [
    "Add a mesh operation to the setup."
   ]
  },
  {
   "cell_type": "code",
   "execution_count": 15,
   "id": "b09e16a2",
   "metadata": {
    "execution": {
     "iopub.execute_input": "2024-08-19T14:42:08.872540Z",
     "iopub.status.busy": "2024-08-19T14:42:08.872540Z",
     "iopub.status.idle": "2024-08-19T14:42:08.903790Z",
     "shell.execute_reply": "2024-08-19T14:42:08.903790Z"
    }
   },
   "outputs": [
    {
     "data": {
      "text/plain": [
       "<pyedb.dotnet.edb_core.sim_setup_data.data.mesh_operation.LengthMeshOperation at 0x2bf52e83080>"
      ]
     },
     "execution_count": 15,
     "metadata": {},
     "output_type": "execute_result"
    }
   ],
   "source": [
    "edb.setups[\"Setup1\"].add_length_mesh_operation({\"SIG\": [\"L3\"]}, \"m1\", max_length=\"0.1mm\")"
   ]
  },
  {
   "cell_type": "markdown",
   "id": "73650380",
   "metadata": {},
   "source": [
    "Add a frequency sweep to setup.\n",
    "\n",
    "When the simulation results are to\n",
    "be used for transient SPICE analysis, you should\n",
    "use the following strategy:\n",
    "\n",
    "- DC point\n",
    "- Logarithmic sweep from 1 kHz to 100 MHz\n",
    "- Linear scale for higher frequencies."
   ]
  },
  {
   "cell_type": "code",
   "execution_count": 16,
   "id": "7ebbf0a1",
   "metadata": {
    "execution": {
     "iopub.execute_input": "2024-08-19T14:42:08.903790Z",
     "iopub.status.busy": "2024-08-19T14:42:08.903790Z",
     "iopub.status.idle": "2024-08-19T14:42:08.981914Z",
     "shell.execute_reply": "2024-08-19T14:42:08.981914Z"
    }
   },
   "outputs": [
    {
     "data": {
      "text/plain": [
       "<pyedb.dotnet.edb_core.sim_setup_data.data.sweep_data.SweepData at 0x2bf52c84670>"
      ]
     },
     "execution_count": 16,
     "metadata": {},
     "output_type": "execute_result"
    }
   ],
   "source": [
    "setup.add_frequency_sweep(\n",
    "    \"Sweep1\",\n",
    "    frequency_sweep=[\n",
    "        [\"linear count\", \"0\", \"1KHz\", 1],\n",
    "        [\"log scale\", \"1KHz\", \"100MHz\", 10],\n",
    "        [\"linear scale\", \"0.1GHz\", \"5GHz\", \"0.1GHz\"],\n",
    "    ],\n",
    ")"
   ]
  },
  {
   "cell_type": "markdown",
   "id": "c39a2e99",
   "metadata": {},
   "source": [
    "Save and close EDB."
   ]
  },
  {
   "cell_type": "code",
   "execution_count": 17,
   "id": "e0932db3",
   "metadata": {
    "execution": {
     "iopub.execute_input": "2024-08-19T14:42:08.981914Z",
     "iopub.status.busy": "2024-08-19T14:42:08.981914Z",
     "iopub.status.idle": "2024-08-19T14:42:09.013167Z",
     "shell.execute_reply": "2024-08-19T14:42:09.013167Z"
    }
   },
   "outputs": [
    {
     "name": "stdout",
     "output_type": "stream",
     "text": [
      "PyAEDT INFO: EDB file save time: 0.00ms\n"
     ]
    },
    {
     "name": "stdout",
     "output_type": "stream",
     "text": [
      "PyAEDT INFO: EDB file release time: 0.00ms\n"
     ]
    },
    {
     "data": {
      "text/plain": [
       "True"
      ]
     },
     "execution_count": 17,
     "metadata": {},
     "output_type": "execute_result"
    }
   ],
   "source": [
    "edb.save_edb()\n",
    "edb.close_edb()"
   ]
  },
  {
   "cell_type": "markdown",
   "id": "c9b42ef3",
   "metadata": {},
   "source": [
    "Launch HFSS 3D Layout."
   ]
  },
  {
   "cell_type": "code",
   "execution_count": 18,
   "id": "76ed3a88",
   "metadata": {
    "execution": {
     "iopub.execute_input": "2024-08-19T14:42:09.013167Z",
     "iopub.status.busy": "2024-08-19T14:42:09.013167Z",
     "iopub.status.idle": "2024-08-19T14:42:41.838360Z",
     "shell.execute_reply": "2024-08-19T14:42:41.838360Z"
    }
   },
   "outputs": [
    {
     "name": "stdout",
     "output_type": "stream",
     "text": [
      "PyAEDT WARNING: Argument `specified_version` is deprecated for method `__init__`; use `version` instead.\n"
     ]
    },
    {
     "name": "stdout",
     "output_type": "stream",
     "text": [
      "PyAEDT WARNING: Argument `new_desktop_session` is deprecated for method `__init__`; use `new_desktop` instead.\n"
     ]
    },
    {
     "name": "stdout",
     "output_type": "stream",
     "text": [
      "PyAEDT INFO: Python version 3.10.11 (tags/v3.10.11:7d4cc5a, Apr  5 2023, 00:38:17) [MSC v.1929 64 bit (AMD64)]\n"
     ]
    },
    {
     "name": "stdout",
     "output_type": "stream",
     "text": [
      "PyAEDT INFO: PyAEDT version 0.10.dev0.\n"
     ]
    },
    {
     "name": "stdout",
     "output_type": "stream",
     "text": [
      "PyAEDT INFO: Initializing new Desktop session.\n"
     ]
    },
    {
     "name": "stdout",
     "output_type": "stream",
     "text": [
      "PyAEDT INFO: Log on console is enabled.\n"
     ]
    },
    {
     "name": "stdout",
     "output_type": "stream",
     "text": [
      "PyAEDT INFO: Log on file C:\\Users\\ansys\\AppData\\Local\\Temp\\pyaedt_ansys_57e0a435-9319-4887-8652-03021c22a144.log is enabled.\n"
     ]
    },
    {
     "name": "stdout",
     "output_type": "stream",
     "text": [
      "PyAEDT INFO: Log on AEDT is enabled.\n"
     ]
    },
    {
     "name": "stdout",
     "output_type": "stream",
     "text": [
      "PyAEDT INFO: Debug logger is disabled. PyAEDT methods will not be logged.\n"
     ]
    },
    {
     "name": "stdout",
     "output_type": "stream",
     "text": [
      "PyAEDT INFO: Launching PyAEDT with gRPC plugin.\n"
     ]
    },
    {
     "name": "stdout",
     "output_type": "stream",
     "text": [
      "PyAEDT INFO: New AEDT session is starting on gRPC port 62425\n"
     ]
    },
    {
     "name": "stdout",
     "output_type": "stream",
     "text": [
      "PyAEDT INFO: AEDT installation Path C:\\Program Files\\AnsysEM\\v242\\Win64\n"
     ]
    },
    {
     "name": "stdout",
     "output_type": "stream",
     "text": [
      "PyAEDT INFO: Ansoft.ElectronicsDesktop.2024.2 version started with process ID 6328.\n"
     ]
    },
    {
     "name": "stdout",
     "output_type": "stream",
     "text": [
      "PyAEDT INFO: EDB folder C:\\Users\\ansys\\AppData\\Local\\Temp\\tmp1o7q4od3.ansys\\pcb.aedb has been imported to project pcb\n"
     ]
    },
    {
     "name": "stdout",
     "output_type": "stream",
     "text": [
      "PyAEDT INFO: Active Design set to 0;Cell_AMFHOV\n"
     ]
    },
    {
     "name": "stdout",
     "output_type": "stream",
     "text": [
      "PyAEDT INFO: Aedt Objects correctly read\n"
     ]
    }
   ],
   "source": [
    "h3d = pyaedt.Hfss3dLayout(aedb_path, specified_version=edb_version, new_desktop_session=True)"
   ]
  },
  {
   "cell_type": "markdown",
   "id": "48144b0f",
   "metadata": {},
   "source": [
    "Place a 3D component."
   ]
  },
  {
   "cell_type": "code",
   "execution_count": 19,
   "id": "b32faf6d",
   "metadata": {
    "execution": {
     "iopub.execute_input": "2024-08-19T14:42:41.838360Z",
     "iopub.status.busy": "2024-08-19T14:42:41.838360Z",
     "iopub.status.idle": "2024-08-19T14:42:43.970371Z",
     "shell.execute_reply": "2024-08-19T14:42:43.970371Z"
    }
   },
   "outputs": [
    {
     "name": "stdout",
     "output_type": "stream",
     "text": [
      "PyAEDT INFO: Loading Modeler.\n"
     ]
    },
    {
     "name": "stdout",
     "output_type": "stream",
     "text": [
      "PyAEDT INFO: Modeler loaded.\n"
     ]
    },
    {
     "name": "stdout",
     "output_type": "stream",
     "text": [
      "PyAEDT INFO: EDB loaded.\n"
     ]
    },
    {
     "name": "stdout",
     "output_type": "stream",
     "text": [
      "PyAEDT INFO: Layers loaded.\n"
     ]
    },
    {
     "name": "stdout",
     "output_type": "stream",
     "text": [
      "PyAEDT INFO: Primitives loaded.\n"
     ]
    },
    {
     "name": "stdout",
     "output_type": "stream",
     "text": [
      "PyAEDT INFO: Modeler class has been initialized! Elapsed time: 0m 0sec\n"
     ]
    }
   ],
   "source": [
    "full_comp_name = download_file(\"component_3d\", filename=\"SMA_RF_SURFACE_MOUNT.a3dcomp\", destination=working_folder)\n",
    "comp = h3d.modeler.place_3d_component(\n",
    "    component_path=full_comp_name,\n",
    "    number_of_terminals=1,\n",
    "    placement_layer=\"TOP\",\n",
    "    component_name=\"my_connector\",\n",
    "    pos_x=\"5mm\",\n",
    "    pos_y=0.000,\n",
    ")"
   ]
  },
  {
   "cell_type": "markdown",
   "id": "d85ce596",
   "metadata": {},
   "source": [
    "## Run simulation"
   ]
  },
  {
   "cell_type": "code",
   "execution_count": 20,
   "id": "2e7a5fe3",
   "metadata": {
    "execution": {
     "iopub.execute_input": "2024-08-19T14:42:43.970371Z",
     "iopub.status.busy": "2024-08-19T14:42:43.970371Z",
     "iopub.status.idle": "2024-08-19T14:43:57.203430Z",
     "shell.execute_reply": "2024-08-19T14:43:57.202388Z"
    }
   },
   "outputs": [
    {
     "name": "stdout",
     "output_type": "stream",
     "text": [
      "PyAEDT WARNING: Argument `num_cores` is deprecated for method `analyze`; use `cores` instead.\n"
     ]
    },
    {
     "name": "stdout",
     "output_type": "stream",
     "text": [
      "PyAEDT INFO: Key Desktop/ActiveDSOConfigurations/HFSS 3D Layout Design correctly changed.\n"
     ]
    },
    {
     "name": "stdout",
     "output_type": "stream",
     "text": [
      "PyAEDT INFO: Solving all design setups.\n"
     ]
    },
    {
     "name": "stdout",
     "output_type": "stream",
     "text": [
      "PyAEDT INFO: Key Desktop/ActiveDSOConfigurations/HFSS 3D Layout Design correctly changed.\n"
     ]
    },
    {
     "name": "stdout",
     "output_type": "stream",
     "text": [
      "PyAEDT INFO: Design setup None solved correctly in 0.0h 1.0m 13.0s\n"
     ]
    },
    {
     "data": {
      "text/plain": [
       "True"
      ]
     },
     "execution_count": 20,
     "metadata": {},
     "output_type": "execute_result"
    }
   ],
   "source": [
    "h3d.analyze(num_cores=4)"
   ]
  },
  {
   "cell_type": "markdown",
   "id": "2dc277da",
   "metadata": {},
   "source": [
    "## Visualize the return loss."
   ]
  },
  {
   "cell_type": "code",
   "execution_count": 21,
   "id": "4c06b066",
   "metadata": {
    "execution": {
     "iopub.execute_input": "2024-08-19T14:43:57.203430Z",
     "iopub.status.busy": "2024-08-19T14:43:57.203430Z",
     "iopub.status.idle": "2024-08-19T14:43:58.530648Z",
     "shell.execute_reply": "2024-08-19T14:43:58.529450Z"
    }
   },
   "outputs": [
    {
     "name": "stdout",
     "output_type": "stream",
     "text": [
      "PyAEDT INFO: Parsing C:/Users/ansys/AppData/Local/Temp/tmp1o7q4od3.ansys/pcb.aedt.\n"
     ]
    },
    {
     "name": "stdout",
     "output_type": "stream",
     "text": [
      "PyAEDT INFO: File C:/Users/ansys/AppData/Local/Temp/tmp1o7q4od3.ansys/pcb.aedt correctly loaded. Elapsed time: 0m 0sec\n"
     ]
    },
    {
     "name": "stdout",
     "output_type": "stream",
     "text": [
      "PyAEDT INFO: aedt file load time 0.015623092651367188\n"
     ]
    },
    {
     "name": "stdout",
     "output_type": "stream",
     "text": [
      "PyAEDT INFO: PostProcessor class has been initialized! Elapsed time: 0m 0sec\n"
     ]
    },
    {
     "name": "stdout",
     "output_type": "stream",
     "text": [
      "PyAEDT INFO: Post class has been initialized! Elapsed time: 0m 0sec\n"
     ]
    },
    {
     "data": {
      "text/plain": [
       "<ansys.aedt.core.modules.report_templates.Standard at 0x2bf57679540>"
      ]
     },
     "execution_count": 21,
     "metadata": {},
     "output_type": "execute_result"
    }
   ],
   "source": [
    "h3d.post.create_report(\"dB(S(port_1, port_1))\")"
   ]
  },
  {
   "cell_type": "markdown",
   "id": "7b645a7d",
   "metadata": {},
   "source": [
    "## Save and close the project."
   ]
  },
  {
   "cell_type": "code",
   "execution_count": 22,
   "id": "3df3fbb8",
   "metadata": {
    "execution": {
     "iopub.execute_input": "2024-08-19T14:43:58.530648Z",
     "iopub.status.busy": "2024-08-19T14:43:58.530648Z",
     "iopub.status.idle": "2024-08-19T14:44:02.968015Z",
     "shell.execute_reply": "2024-08-19T14:44:02.968015Z"
    }
   },
   "outputs": [
    {
     "name": "stdout",
     "output_type": "stream",
     "text": [
      "PyAEDT INFO: Project pcb Saved correctly\n"
     ]
    },
    {
     "name": "stdout",
     "output_type": "stream",
     "text": [
      "Project is saved to C:/Users/ansys/AppData/Local/Temp/tmp1o7q4od3.ansys/\n"
     ]
    },
    {
     "name": "stdout",
     "output_type": "stream",
     "text": [
      "PyAEDT INFO: Desktop has been released and closed.\n"
     ]
    },
    {
     "data": {
      "text/plain": [
       "True"
      ]
     },
     "execution_count": 22,
     "metadata": {},
     "output_type": "execute_result"
    }
   ],
   "source": [
    "h3d.save_project()\n",
    "print(\"Project is saved to {}\".format(h3d.project_path))\n",
    "h3d.release_desktop(True, True)"
   ]
  },
  {
   "cell_type": "markdown",
   "id": "ad10c99b",
   "metadata": {},
   "source": [
    "## Clean up the temporary folder."
   ]
  },
  {
   "cell_type": "code",
   "execution_count": 23,
   "id": "d862e036",
   "metadata": {
    "execution": {
     "iopub.execute_input": "2024-08-19T14:44:02.968015Z",
     "iopub.status.busy": "2024-08-19T14:44:02.968015Z",
     "iopub.status.idle": "2024-08-19T14:44:02.999326Z",
     "shell.execute_reply": "2024-08-19T14:44:02.999326Z"
    }
   },
   "outputs": [],
   "source": [
    "temp_dir.cleanup()"
   ]
  }
 ],
 "metadata": {
  "jupytext": {
   "cell_metadata_filter": "-all",
   "main_language": "python",
   "notebook_metadata_filter": "-all",
   "text_representation": {
    "extension": ".py",
    "format_name": "light"
   }
  },
  "language_info": {
   "codemirror_mode": {
    "name": "ipython",
    "version": 3
   },
   "file_extension": ".py",
   "mimetype": "text/x-python",
   "name": "python",
   "nbconvert_exporter": "python",
   "pygments_lexer": "ipython3",
   "version": "3.10.11"
  }
 },
 "nbformat": 4,
 "nbformat_minor": 5
}
