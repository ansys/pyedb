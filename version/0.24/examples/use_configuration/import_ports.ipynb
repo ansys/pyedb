{
 "cells": [
  {
   "cell_type": "markdown",
   "id": "03dbf473",
   "metadata": {},
   "source": [
    "# Import Ports\n",
    "This example shows how to import ports. In this example, we are going to\n",
    "\n",
    "- Download an example board\n",
    "- Create a configuration file\n",
    "  - Add a circuit port between two nets\n",
    "  - Add a circuit port between two pins\n",
    "  - Add a circuit port between two pin groups\n",
    "  - Add a circuit port between two coordinates\n",
    "  - Add a coax port\n",
    "  - Add a port reference to the neareast pin\n",
    "  - Add distributed ports\n",
    "- Import the configuration file"
   ]
  },
  {
   "cell_type": "markdown",
   "id": "0a28fe8f",
   "metadata": {},
   "source": [
    "## Import the required packages"
   ]
  },
  {
   "cell_type": "code",
   "execution_count": 1,
   "id": "ace9bc96",
   "metadata": {
    "execution": {
     "iopub.execute_input": "2024-08-19T14:54:54.071985Z",
     "iopub.status.busy": "2024-08-19T14:54:54.071985Z",
     "iopub.status.idle": "2024-08-19T14:54:54.618866Z",
     "shell.execute_reply": "2024-08-19T14:54:54.618866Z"
    }
   },
   "outputs": [
    {
     "name": "stdout",
     "output_type": "stream",
     "text": [
      "FutureWarning: Module 'pyaedt' has become an alias to the new package structure. Please update you imports to use the new architecture based on 'ansys.aedt.core'. In addition, some files have been renamed to follow the PEP 8 naming convention. The old structure and file names will be deprecated in future versions, see https://aedt.docs.pyansys.com/version/stable/release_1_0.html\n"
     ]
    }
   ],
   "source": [
    "import json\n",
    "from pathlib import Path\n",
    "import tempfile\n",
    "\n",
    "from pyaedt.downloads import download_file\n",
    "\n",
    "from pyedb import Edb\n",
    "\n",
    "AEDT_VERSION = \"2024.2\"\n",
    "NG_MODE = False\n"
   ]
  },
  {
   "cell_type": "markdown",
   "id": "c6794c80",
   "metadata": {},
   "source": [
    "Download the example PCB data."
   ]
  },
  {
   "cell_type": "code",
   "execution_count": 2,
   "id": "a6f49862",
   "metadata": {
    "execution": {
     "iopub.execute_input": "2024-08-19T14:54:54.618866Z",
     "iopub.status.busy": "2024-08-19T14:54:54.618866Z",
     "iopub.status.idle": "2024-08-19T14:54:55.339458Z",
     "shell.execute_reply": "2024-08-19T14:54:55.339458Z"
    }
   },
   "outputs": [],
   "source": [
    "temp_folder = tempfile.TemporaryDirectory(suffix=\".ansys\")\n",
    "file_edb = download_file(source=\"edb/ANSYS-HSD_V1.aedb\", destination=temp_folder.name)"
   ]
  },
  {
   "cell_type": "markdown",
   "id": "200ebee5",
   "metadata": {},
   "source": [
    "## Load example layout"
   ]
  },
  {
   "cell_type": "code",
   "execution_count": 3,
   "id": "d9ba330f",
   "metadata": {
    "execution": {
     "iopub.execute_input": "2024-08-19T14:54:55.339458Z",
     "iopub.status.busy": "2024-08-19T14:54:55.339458Z",
     "iopub.status.idle": "2024-08-19T14:55:07.950048Z",
     "shell.execute_reply": "2024-08-19T14:55:07.950048Z"
    }
   },
   "outputs": [
    {
     "name": "stdout",
     "output_type": "stream",
     "text": [
      "PyAEDT INFO: Logger is initialized in EDB.\n"
     ]
    },
    {
     "name": "stdout",
     "output_type": "stream",
     "text": [
      "PyAEDT INFO: legacy v0.24.0\n"
     ]
    },
    {
     "name": "stdout",
     "output_type": "stream",
     "text": [
      "PyAEDT INFO: Python version 3.10.11 (tags/v3.10.11:7d4cc5a, Apr  5 2023, 00:38:17) [MSC v.1929 64 bit (AMD64)]\n"
     ]
    },
    {
     "name": "stdout",
     "output_type": "stream",
     "text": [
      "PyAEDT INFO: Database ANSYS-HSD_V1.aedb Opened in 2024.2\n"
     ]
    },
    {
     "name": "stdout",
     "output_type": "stream",
     "text": [
      "PyAEDT INFO: Cell main Opened\n"
     ]
    },
    {
     "name": "stdout",
     "output_type": "stream",
     "text": [
      "PyAEDT INFO: Builder was initialized.\n"
     ]
    },
    {
     "name": "stdout",
     "output_type": "stream",
     "text": [
      "PyAEDT INFO: EDB initialized.\n"
     ]
    }
   ],
   "source": [
    "edbapp = Edb(file_edb, edbversion=AEDT_VERSION)"
   ]
  },
  {
   "cell_type": "markdown",
   "id": "42f60a18",
   "metadata": {},
   "source": [
    "## Create an empty dictionary to host all configurations"
   ]
  },
  {
   "cell_type": "code",
   "execution_count": 4,
   "id": "151e3ec6",
   "metadata": {
    "execution": {
     "iopub.execute_input": "2024-08-19T14:55:07.950048Z",
     "iopub.status.busy": "2024-08-19T14:55:07.950048Z",
     "iopub.status.idle": "2024-08-19T14:55:07.965721Z",
     "shell.execute_reply": "2024-08-19T14:55:07.965721Z"
    }
   },
   "outputs": [],
   "source": [
    "cfg = dict()"
   ]
  },
  {
   "cell_type": "markdown",
   "id": "66514014",
   "metadata": {},
   "source": [
    "## Add a circuit port between two nets"
   ]
  },
  {
   "cell_type": "markdown",
   "id": "fad62c5c",
   "metadata": {},
   "source": [
    "Keywords\n",
    "\n",
    "- **name**. Name of the port.\n",
    "- **Reference_designator**. Reference designator of the component.\n",
    "- **type**. Type of the port. Supported types are 'circuit', 'coax'\n",
    "- **positve_terminal**. Positive terminal of the port. Supported types are 'net', 'pin', 'pin_group', 'coordinates'\n",
    "- **negative_terminal**. Negative terminal of the port. Supported types are 'net', 'pin', 'pin_group', 'coordinates',\n",
    "'nearest_pin'"
   ]
  },
  {
   "cell_type": "code",
   "execution_count": 5,
   "id": "92446888",
   "metadata": {
    "execution": {
     "iopub.execute_input": "2024-08-19T14:55:07.965721Z",
     "iopub.status.busy": "2024-08-19T14:55:07.965721Z",
     "iopub.status.idle": "2024-08-19T14:55:07.981434Z",
     "shell.execute_reply": "2024-08-19T14:55:07.981434Z"
    }
   },
   "outputs": [],
   "source": [
    "port_1 = {\n",
    "    \"name\": \"port_1\",\n",
    "    \"reference_designator\": \"X1\",\n",
    "    \"type\": \"circuit\",\n",
    "    \"positive_terminal\": {\"net\": \"PCIe_Gen4_TX2_N\"},\n",
    "    \"negative_terminal\": {\"net\": \"GND\"},\n",
    "}"
   ]
  },
  {
   "cell_type": "markdown",
   "id": "ec1421f7",
   "metadata": {},
   "source": [
    "## Add a circuit port between two pins"
   ]
  },
  {
   "cell_type": "code",
   "execution_count": 6,
   "id": "3dfd65ab",
   "metadata": {
    "execution": {
     "iopub.execute_input": "2024-08-19T14:55:07.981434Z",
     "iopub.status.busy": "2024-08-19T14:55:07.981434Z",
     "iopub.status.idle": "2024-08-19T14:55:07.996972Z",
     "shell.execute_reply": "2024-08-19T14:55:07.996972Z"
    }
   },
   "outputs": [],
   "source": [
    "port_2 = {\n",
    "    \"name\": \"port_2\",\n",
    "    \"reference_designator\": \"C375\",\n",
    "    \"type\": \"circuit\",\n",
    "    \"positive_terminal\": {\"pin\": \"1\"},\n",
    "    \"negative_terminal\": {\"pin\": \"2\"},\n",
    "}"
   ]
  },
  {
   "cell_type": "markdown",
   "id": "d9e75044",
   "metadata": {},
   "source": [
    "## Add a circuit port between two pin groups"
   ]
  },
  {
   "cell_type": "code",
   "execution_count": 7,
   "id": "6b225b7d",
   "metadata": {
    "execution": {
     "iopub.execute_input": "2024-08-19T14:55:07.996972Z",
     "iopub.status.busy": "2024-08-19T14:55:07.996972Z",
     "iopub.status.idle": "2024-08-19T14:55:08.012594Z",
     "shell.execute_reply": "2024-08-19T14:55:08.012594Z"
    }
   },
   "outputs": [],
   "source": [
    "pin_groups = [\n",
    "    {\"name\": \"U9_5V_1\", \"reference_designator\": \"U9\", \"pins\": [\"32\", \"33\"]},\n",
    "    {\"name\": \"U9_GND\", \"reference_designator\": \"U9\", \"net\": \"GND\"},\n",
    "]"
   ]
  },
  {
   "cell_type": "code",
   "execution_count": 8,
   "id": "d338c919",
   "metadata": {
    "execution": {
     "iopub.execute_input": "2024-08-19T14:55:08.012594Z",
     "iopub.status.busy": "2024-08-19T14:55:08.012594Z",
     "iopub.status.idle": "2024-08-19T14:55:08.028221Z",
     "shell.execute_reply": "2024-08-19T14:55:08.028221Z"
    }
   },
   "outputs": [],
   "source": [
    "port_3 = {\n",
    "    \"name\": \"port_3\",\n",
    "    \"type\": \"circuit\",\n",
    "    \"positive_terminal\": {\"pin_group\": \"U9_5V_1\"},\n",
    "    \"negative_terminal\": {\"pin_group\": \"U9_GND\"},\n",
    "}"
   ]
  },
  {
   "cell_type": "markdown",
   "id": "ee392d1a",
   "metadata": {},
   "source": [
    "## Add a circuit port between two coordinates"
   ]
  },
  {
   "cell_type": "markdown",
   "id": "76a28a90",
   "metadata": {},
   "source": [
    "Keywords\n",
    "\n",
    "- **layer**. Layer on which the terminal is placed\n",
    "- **point**. XY coordinate the terminal is placed\n",
    "- **net**. Name of the net the terminal is placed on"
   ]
  },
  {
   "cell_type": "code",
   "execution_count": 9,
   "id": "ea5bf28a",
   "metadata": {
    "execution": {
     "iopub.execute_input": "2024-08-19T14:55:08.028221Z",
     "iopub.status.busy": "2024-08-19T14:55:08.028221Z",
     "iopub.status.idle": "2024-08-19T14:55:08.043847Z",
     "shell.execute_reply": "2024-08-19T14:55:08.043847Z"
    }
   },
   "outputs": [],
   "source": [
    "port_4 = {\n",
    "    \"name\": \"port_4\",\n",
    "    \"positive_terminal\": {\"coordinates\": {\"layer\": \"1_Top\", \"point\": [\"104mm\", \"37mm\"], \"net\": \"AVCC_1V3\"}},\n",
    "    \"negative_terminal\": {\"coordinates\": {\"layer\": \"Inner6(GND2)\", \"point\": [\"104mm\", \"37mm\"], \"net\": \"GND\"}},\n",
    "}"
   ]
  },
  {
   "cell_type": "markdown",
   "id": "37423585",
   "metadata": {},
   "source": [
    "## Add a coax port"
   ]
  },
  {
   "cell_type": "code",
   "execution_count": 10,
   "id": "e4a4e7b1",
   "metadata": {
    "execution": {
     "iopub.execute_input": "2024-08-19T14:55:08.043847Z",
     "iopub.status.busy": "2024-08-19T14:55:08.043847Z",
     "iopub.status.idle": "2024-08-19T14:55:08.059472Z",
     "shell.execute_reply": "2024-08-19T14:55:08.059472Z"
    }
   },
   "outputs": [],
   "source": [
    "port_5 = {\"name\": \"port_5\", \"reference_designator\": \"U1\", \"type\": \"coax\", \"positive_terminal\": {\"pin\": \"AM17\"}}"
   ]
  },
  {
   "cell_type": "markdown",
   "id": "d55bbb99",
   "metadata": {},
   "source": [
    "## Add a port reference to the neareast pin"
   ]
  },
  {
   "cell_type": "markdown",
   "id": "5d4b49c1",
   "metadata": {},
   "source": [
    "Keywords\n",
    "\n",
    "- **reference_net**. Name of the reference net\n",
    "- **search_radius**. Reference pin search radius in meter"
   ]
  },
  {
   "cell_type": "code",
   "execution_count": 11,
   "id": "a617fae7",
   "metadata": {
    "execution": {
     "iopub.execute_input": "2024-08-19T14:55:08.059472Z",
     "iopub.status.busy": "2024-08-19T14:55:08.059472Z",
     "iopub.status.idle": "2024-08-19T14:55:08.075055Z",
     "shell.execute_reply": "2024-08-19T14:55:08.075055Z"
    }
   },
   "outputs": [],
   "source": [
    "port_6 = {\n",
    "    \"name\": \"port_6\",\n",
    "    \"reference_designator\": \"U15\",\n",
    "    \"type\": \"circuit\",\n",
    "    \"positive_terminal\": {\"pin\": \"D7\"},\n",
    "    \"negative_terminal\": {\"nearest_pin\": {\"reference_net\": \"GND\", \"search_radius\": 5e-3}},\n",
    "}"
   ]
  },
  {
   "cell_type": "markdown",
   "id": "114cd2fb",
   "metadata": {},
   "source": [
    "## Add distributed ports"
   ]
  },
  {
   "cell_type": "markdown",
   "id": "f6c74630",
   "metadata": {},
   "source": [
    "Keywords\n",
    "\n",
    "- **distributed**. Whether to create distributed ports. When set to True, ports are created per pin"
   ]
  },
  {
   "cell_type": "code",
   "execution_count": 12,
   "id": "f423bc0d",
   "metadata": {
    "execution": {
     "iopub.execute_input": "2024-08-19T14:55:08.075055Z",
     "iopub.status.busy": "2024-08-19T14:55:08.075055Z",
     "iopub.status.idle": "2024-08-19T14:55:08.090678Z",
     "shell.execute_reply": "2024-08-19T14:55:08.090678Z"
    }
   },
   "outputs": [],
   "source": [
    "ports_distributed = {\n",
    "    \"name\": \"ports_d\",\n",
    "    \"reference_designator\": \"U7\",\n",
    "    \"type\": \"circuit\",\n",
    "    \"distributed\": True,\n",
    "    \"positive_terminal\": {\"net\": \"VDD_DDR\"},\n",
    "    \"negative_terminal\": {\"net\": \"GND\"},\n",
    "}"
   ]
  },
  {
   "cell_type": "markdown",
   "id": "b9ac15be",
   "metadata": {},
   "source": [
    "## Add setups in configuration"
   ]
  },
  {
   "cell_type": "code",
   "execution_count": 13,
   "id": "b339873a",
   "metadata": {
    "execution": {
     "iopub.execute_input": "2024-08-19T14:55:08.090678Z",
     "iopub.status.busy": "2024-08-19T14:55:08.090678Z",
     "iopub.status.idle": "2024-08-19T14:55:08.106303Z",
     "shell.execute_reply": "2024-08-19T14:55:08.106303Z"
    }
   },
   "outputs": [],
   "source": [
    "cfg[\"pin_groups\"] = pin_groups\n",
    "cfg[\"ports\"] = [port_1, port_2, port_3, port_4, port_5, port_6, ports_distributed]"
   ]
  },
  {
   "cell_type": "markdown",
   "id": "a3699351",
   "metadata": {},
   "source": [
    "## Write configuration into as json file"
   ]
  },
  {
   "cell_type": "code",
   "execution_count": 14,
   "id": "0bc0819f",
   "metadata": {
    "execution": {
     "iopub.execute_input": "2024-08-19T14:55:08.106303Z",
     "iopub.status.busy": "2024-08-19T14:55:08.106303Z",
     "iopub.status.idle": "2024-08-19T14:55:08.121928Z",
     "shell.execute_reply": "2024-08-19T14:55:08.121928Z"
    }
   },
   "outputs": [],
   "source": [
    "file_json = Path(temp_folder.name) / \"edb_configuration.json\"\n",
    "with open(file_json, \"w\") as f:\n",
    "    json.dump(cfg, f, indent=4, ensure_ascii=False)"
   ]
  },
  {
   "cell_type": "markdown",
   "id": "9aaf6f35",
   "metadata": {},
   "source": [
    "## Import configuration into example layout"
   ]
  },
  {
   "cell_type": "code",
   "execution_count": 15,
   "id": "04c85f86",
   "metadata": {
    "execution": {
     "iopub.execute_input": "2024-08-19T14:55:08.121928Z",
     "iopub.status.busy": "2024-08-19T14:55:08.121928Z",
     "iopub.status.idle": "2024-08-19T14:55:09.887623Z",
     "shell.execute_reply": "2024-08-19T14:55:09.887623Z"
    }
   },
   "outputs": [
    {
     "data": {
      "text/plain": [
       "True"
      ]
     },
     "execution_count": 15,
     "metadata": {},
     "output_type": "execute_result"
    }
   ],
   "source": [
    "edbapp.configuration.load(config_file=file_json)\n",
    "edbapp.configuration.run()"
   ]
  },
  {
   "cell_type": "markdown",
   "id": "98c37fd1",
   "metadata": {},
   "source": [
    "## Review"
   ]
  },
  {
   "cell_type": "code",
   "execution_count": 16,
   "id": "eb438071",
   "metadata": {
    "execution": {
     "iopub.execute_input": "2024-08-19T14:55:09.887623Z",
     "iopub.status.busy": "2024-08-19T14:55:09.887623Z",
     "iopub.status.idle": "2024-08-19T14:55:09.918873Z",
     "shell.execute_reply": "2024-08-19T14:55:09.918873Z"
    }
   },
   "outputs": [
    {
     "data": {
      "text/plain": [
       "{'port_1': <pyedb.dotnet.edb_core.edb_data.ports.CircuitPort at 0x2bb9ef67ff0>,\n",
       " 'port_2': <pyedb.dotnet.edb_core.edb_data.ports.CircuitPort at 0x2bb9ef657f0>,\n",
       " 'port_3': <pyedb.dotnet.edb_core.edb_data.ports.CircuitPort at 0x2bb9ef68f30>,\n",
       " 'port_4': <pyedb.dotnet.edb_core.edb_data.ports.GapPort at 0x2bb9ef69e70>,\n",
       " 'port_5': <pyedb.dotnet.edb_core.edb_data.ports.CoaxPort at 0x2bb9ef6b270>,\n",
       " 'port_6': <pyedb.dotnet.edb_core.edb_data.ports.CircuitPort at 0x2bb9ef72170>,\n",
       " 'U7_VDD_DDR_T9': <pyedb.dotnet.edb_core.edb_data.ports.CircuitPort at 0x2bb9ef77fb0>,\n",
       " 'U7_VDD_DDR_R1': <pyedb.dotnet.edb_core.edb_data.ports.CircuitPort at 0x2bb9ef78630>,\n",
       " 'U7_VDD_DDR_L9': <pyedb.dotnet.edb_core.edb_data.ports.CircuitPort at 0x2bb9ef78df0>,\n",
       " 'U7_VDD_DDR_L1': <pyedb.dotnet.edb_core.edb_data.ports.CircuitPort at 0x2bb9ef782b0>,\n",
       " 'U7_VDD_DDR_J9': <pyedb.dotnet.edb_core.edb_data.ports.CircuitPort at 0x2bb9ef79530>,\n",
       " 'U7_VDD_DDR_J8': <pyedb.dotnet.edb_core.edb_data.ports.CircuitPort at 0x2bb9ef7a070>,\n",
       " 'U7_VDD_DDR_J2': <pyedb.dotnet.edb_core.edb_data.ports.CircuitPort at 0x2bb9ef792b0>,\n",
       " 'U7_VDD_DDR_J1': <pyedb.dotnet.edb_core.edb_data.ports.CircuitPort at 0x2bb9ef7a5b0>,\n",
       " 'U7_VDD_DDR_G9': <pyedb.dotnet.edb_core.edb_data.ports.CircuitPort at 0x2bb9ef7a830>,\n",
       " 'U7_VDD_DDR_G7': <pyedb.dotnet.edb_core.edb_data.ports.CircuitPort at 0x2bb9ef7c130>,\n",
       " 'U7_VDD_DDR_G1': <pyedb.dotnet.edb_core.edb_data.ports.CircuitPort at 0x2bb9ef7c030>,\n",
       " 'U7_VDD_DDR_F8': <pyedb.dotnet.edb_core.edb_data.ports.CircuitPort at 0x2bb9ef7b2b0>,\n",
       " 'U7_VDD_DDR_F2': <pyedb.dotnet.edb_core.edb_data.ports.CircuitPort at 0x2bb9ef7c5f0>,\n",
       " 'U7_VDD_DDR_D9': <pyedb.dotnet.edb_core.edb_data.ports.CircuitPort at 0x2bb9ef7ceb0>,\n",
       " 'U7_VDD_DDR_D1': <pyedb.dotnet.edb_core.edb_data.ports.CircuitPort at 0x2bb9ef7ddf0>,\n",
       " 'U7_VDD_DDR_C1': <pyedb.dotnet.edb_core.edb_data.ports.CircuitPort at 0x2bb9ef7dd30>,\n",
       " 'U7_VDD_DDR_B9': <pyedb.dotnet.edb_core.edb_data.ports.CircuitPort at 0x2bb9ef7d430>,\n",
       " 'U7_VDD_DDR_B3': <pyedb.dotnet.edb_core.edb_data.ports.CircuitPort at 0x2bb9ef5ea70>,\n",
       " 'U7_VDD_DDR_A9': <pyedb.dotnet.edb_core.edb_data.ports.CircuitPort at 0x2bb9ef5e4f0>,\n",
       " 'U7_VDD_DDR_A1': <pyedb.dotnet.edb_core.edb_data.ports.CircuitPort at 0x2bb9ef5f1f0>}"
      ]
     },
     "execution_count": 16,
     "metadata": {},
     "output_type": "execute_result"
    }
   ],
   "source": [
    "edbapp.ports"
   ]
  },
  {
   "cell_type": "markdown",
   "id": "b83d0808",
   "metadata": {},
   "source": [
    "## Save EDB"
   ]
  },
  {
   "cell_type": "code",
   "execution_count": 17,
   "id": "d525c964",
   "metadata": {
    "execution": {
     "iopub.execute_input": "2024-08-19T14:55:09.918873Z",
     "iopub.status.busy": "2024-08-19T14:55:09.918873Z",
     "iopub.status.idle": "2024-08-19T14:55:10.043890Z",
     "shell.execute_reply": "2024-08-19T14:55:10.043890Z"
    }
   },
   "outputs": [
    {
     "name": "stdout",
     "output_type": "stream",
     "text": [
      "EDB is saved to C:\\Users\\ansys\\AppData\\Local\\Temp\\tmp4_2es94s.ansys\\edb/ANSYS-HSD_V1.aedb\n"
     ]
    }
   ],
   "source": [
    "edbapp.save()\n",
    "print(f\"EDB is saved to {edbapp.edbpath}\")"
   ]
  },
  {
   "cell_type": "markdown",
   "id": "f2cf134c",
   "metadata": {},
   "source": [
    "## Close EDB"
   ]
  },
  {
   "cell_type": "code",
   "execution_count": 18,
   "id": "2793389f",
   "metadata": {
    "execution": {
     "iopub.execute_input": "2024-08-19T14:55:10.043890Z",
     "iopub.status.busy": "2024-08-19T14:55:10.043890Z",
     "iopub.status.idle": "2024-08-19T14:55:10.153253Z",
     "shell.execute_reply": "2024-08-19T14:55:10.153253Z"
    }
   },
   "outputs": [
    {
     "data": {
      "text/plain": [
       "True"
      ]
     },
     "execution_count": 18,
     "metadata": {},
     "output_type": "execute_result"
    }
   ],
   "source": [
    "edbapp.close()"
   ]
  }
 ],
 "metadata": {
  "jupytext": {
   "cell_metadata_filter": "-all",
   "main_language": "python",
   "notebook_metadata_filter": "-all",
   "text_representation": {
    "extension": ".py",
    "format_name": "light"
   }
  },
  "language_info": {
   "codemirror_mode": {
    "name": "ipython",
    "version": 3
   },
   "file_extension": ".py",
   "mimetype": "text/x-python",
   "name": "python",
   "nbconvert_exporter": "python",
   "pygments_lexer": "ipython3",
   "version": "3.10.11"
  }
 },
 "nbformat": 4,
 "nbformat_minor": 5
}
