{
 "cells": [
  {
   "cell_type": "markdown",
   "id": "169be0dd",
   "metadata": {},
   "source": [
    "# EDB: parameterized design\n",
    "\n",
    "This example shows how to\n",
    "1. Set up an HFSS project using SimulationConfiguration class.\n",
    "2. Create automatically parametrized design.\n",
    "\n",
    "This image shows the layout created in this example:\n",
    "\n",
    "<img src=\"_static\\parameterized_design.png\" width=\"600\">\n"
   ]
  },
  {
   "cell_type": "markdown",
   "id": "abd09e9a",
   "metadata": {},
   "source": [
    "## Import dependencies."
   ]
  },
  {
   "cell_type": "code",
   "execution_count": 1,
   "id": "df783f11",
   "metadata": {
    "execution": {
     "iopub.execute_input": "2024-07-09T14:05:24.710592Z",
     "iopub.status.busy": "2024-07-09T14:05:24.710592Z",
     "iopub.status.idle": "2024-07-09T14:05:24.741829Z",
     "shell.execute_reply": "2024-07-09T14:05:24.741829Z"
    }
   },
   "outputs": [],
   "source": [
    "import tempfile"
   ]
  },
  {
   "cell_type": "code",
   "execution_count": 2,
   "id": "839a38cb",
   "metadata": {
    "execution": {
     "iopub.execute_input": "2024-07-09T14:05:24.741829Z",
     "iopub.status.busy": "2024-07-09T14:05:24.741829Z",
     "iopub.status.idle": "2024-07-09T14:05:25.288737Z",
     "shell.execute_reply": "2024-07-09T14:05:25.288737Z"
    }
   },
   "outputs": [],
   "source": [
    "import pyaedt"
   ]
  },
  {
   "cell_type": "code",
   "execution_count": 3,
   "id": "45724239",
   "metadata": {
    "execution": {
     "iopub.execute_input": "2024-07-09T14:05:25.288737Z",
     "iopub.status.busy": "2024-07-09T14:05:25.288737Z",
     "iopub.status.idle": "2024-07-09T14:05:25.319906Z",
     "shell.execute_reply": "2024-07-09T14:05:25.319906Z"
    }
   },
   "outputs": [],
   "source": [
    "import pyedb\n",
    "from pyedb.misc.downloads import download_file"
   ]
  },
  {
   "cell_type": "markdown",
   "id": "9b5e798d",
   "metadata": {},
   "source": [
    "## Create an instance of a pyedb.Edb object."
   ]
  },
  {
   "cell_type": "code",
   "execution_count": 4,
   "id": "7e3555f0",
   "metadata": {
    "execution": {
     "iopub.execute_input": "2024-07-09T14:05:25.319906Z",
     "iopub.status.busy": "2024-07-09T14:05:25.319906Z",
     "iopub.status.idle": "2024-07-09T14:05:38.766001Z",
     "shell.execute_reply": "2024-07-09T14:05:38.766001Z"
    }
   },
   "outputs": [
    {
     "name": "stdout",
     "output_type": "stream",
     "text": [
      "Project is located in  C:\\Users\\ansys\\AppData\\Local\\Temp\\tmpdgi83qks.ansys\\edb/ANSYS-HSD_V1.aedb\n",
      "EDB version: 2024.1\n"
     ]
    },
    {
     "name": "stdout",
     "output_type": "stream",
     "text": [
      "PyAEDT INFO: Logger is initialized in EDB.\n"
     ]
    },
    {
     "name": "stdout",
     "output_type": "stream",
     "text": [
      "PyAEDT INFO: legacy v0.19.0\n"
     ]
    },
    {
     "name": "stdout",
     "output_type": "stream",
     "text": [
      "PyAEDT INFO: Python version 3.10.11 (tags/v3.10.11:7d4cc5a, Apr  5 2023, 00:38:17) [MSC v.1929 64 bit (AMD64)]\n"
     ]
    },
    {
     "name": "stdout",
     "output_type": "stream",
     "text": [
      "PyAEDT INFO: Database ANSYS-HSD_V1.aedb Opened in 2024.1\n"
     ]
    },
    {
     "name": "stdout",
     "output_type": "stream",
     "text": [
      "PyAEDT INFO: Cell main Opened\n"
     ]
    },
    {
     "name": "stdout",
     "output_type": "stream",
     "text": [
      "PyAEDT INFO: Builder was initialized.\n"
     ]
    },
    {
     "name": "stdout",
     "output_type": "stream",
     "text": [
      "PyAEDT INFO: EDB initialized.\n"
     ]
    },
    {
     "name": "stdout",
     "output_type": "stream",
     "text": [
      "AEDB file is located in C:\\Users\\ansys\\AppData\\Local\\Temp\\tmpdgi83qks.ansys\\edb/ANSYS-HSD_V1.aedb\n"
     ]
    }
   ],
   "source": [
    "temp_dir = tempfile.TemporaryDirectory(suffix=\".ansys\")\n",
    "target_aedb = download_file(\"edb/ANSYS-HSD_V1.aedb\", destination=temp_dir.name)\n",
    "print(\"Project is located in \", target_aedb)\n",
    "\n",
    "# Select EDB version (change it manually if needed, e.g. \"2024.1\")\n",
    "edb_version = \"2024.1\"\n",
    "print(f\"EDB version: {edb_version}\")\n",
    "\n",
    "edb = pyedb.Edb(edbpath=target_aedb, edbversion=edb_version)\n",
    "print(\"AEDB file is located in {}\".format(target_aedb))"
   ]
  },
  {
   "cell_type": "markdown",
   "id": "a3492626",
   "metadata": {},
   "source": [
    "## Prepare the layout for the simulation\n",
    "\n",
    "The ``new_simulation_configuration()`` method creates an instance of\n",
    "the ``SimulationConfiguration`` class. This class helps define all preprocessing steps\n",
    "required to set up the PCB for simulation. After the simulation configuration has been defined,\n",
    "they are applied to the EDB using the ``Edb.build_simulation()`` method."
   ]
  },
  {
   "cell_type": "code",
   "execution_count": 5,
   "id": "1274dabc",
   "metadata": {
    "execution": {
     "iopub.execute_input": "2024-07-09T14:05:38.766001Z",
     "iopub.status.busy": "2024-07-09T14:05:38.766001Z",
     "iopub.status.idle": "2024-07-09T14:05:38.781599Z",
     "shell.execute_reply": "2024-07-09T14:05:38.781599Z"
    }
   },
   "outputs": [],
   "source": [
    "simulation_configuration = edb.new_simulation_configuration()\n",
    "simulation_configuration.signal_nets = [\n",
    "    \"PCIe_Gen4_RX0_P\",\n",
    "    \"PCIe_Gen4_RX0_N\",\n",
    "    \"PCIe_Gen4_RX1_P\",\n",
    "    \"PCIe_Gen4_RX1_N\",\n",
    "]\n",
    "simulation_configuration.power_nets = [\"GND\"]\n",
    "simulation_configuration.components = [\"X1\", \"U1\"]\n",
    "simulation_configuration.do_cutout_subdesign = True\n",
    "simulation_configuration.start_freq = \"OGHz\"\n",
    "simulation_configuration.stop_freq = \"20GHz\"\n",
    "simulation_configuration.step_freq = \"10MHz\""
   ]
  },
  {
   "cell_type": "markdown",
   "id": "f40e302d",
   "metadata": {},
   "source": [
    "Now apply the simulation setup to the EDB."
   ]
  },
  {
   "cell_type": "code",
   "execution_count": 6,
   "id": "ffab1bf2",
   "metadata": {
    "execution": {
     "iopub.execute_input": "2024-07-09T14:05:38.781599Z",
     "iopub.status.busy": "2024-07-09T14:05:38.781599Z",
     "iopub.status.idle": "2024-07-09T14:05:47.875434Z",
     "shell.execute_reply": "2024-07-09T14:05:47.875434Z"
    }
   },
   "outputs": [
    {
     "name": "stdout",
     "output_type": "stream",
     "text": [
      "PyAEDT INFO: Building simulation project.\n"
     ]
    },
    {
     "name": "stdout",
     "output_type": "stream",
     "text": [
      "PyAEDT INFO: Cutting out using method: 1\n"
     ]
    },
    {
     "name": "stdout",
     "output_type": "stream",
     "text": [
      "PyAEDT INFO: Cutting out using method: 1\n"
     ]
    },
    {
     "name": "stdout",
     "output_type": "stream",
     "text": [
      "PyAEDT INFO: Cutout Multithread started.\n"
     ]
    },
    {
     "name": "stdout",
     "output_type": "stream",
     "text": [
      "PyAEDT INFO: Net clean up Elapsed time: 0m 4sec\n"
     ]
    },
    {
     "name": "stdout",
     "output_type": "stream",
     "text": [
      "PyAEDT INFO: Correctly computed Extension at first iteration.\n"
     ]
    },
    {
     "name": "stdout",
     "output_type": "stream",
     "text": [
      "PyAEDT INFO: Expanded Net Polygon Creation Elapsed time: 0m 0sec\n"
     ]
    },
    {
     "name": "stdout",
     "output_type": "stream",
     "text": [
      "PyAEDT INFO: Padstack Instances removal completed. 2022 instances removed. Elapsed time: 0m 1sec\n"
     ]
    },
    {
     "name": "stdout",
     "output_type": "stream",
     "text": [
      "PyAEDT INFO: Primitives cleanup completed. 446 primitives deleted. Elapsed time: 0m 4sec\n"
     ]
    },
    {
     "name": "stdout",
     "output_type": "stream",
     "text": [
      "PyAEDT INFO: Deleted 1010 additional components\n"
     ]
    },
    {
     "name": "stdout",
     "output_type": "stream",
     "text": [
      "PyAEDT INFO: Deleted 472 components\n"
     ]
    },
    {
     "name": "stdout",
     "output_type": "stream",
     "text": [
      "PyAEDT INFO: Single Pins components deleted Elapsed time: 0m 0sec\n"
     ]
    },
    {
     "name": "stdout",
     "output_type": "stream",
     "text": [
      "PyAEDT INFO: Cutout completed. Elapsed time: 0m 9sec\n"
     ]
    },
    {
     "name": "stdout",
     "output_type": "stream",
     "text": [
      "PyAEDT INFO: Cutout processed.\n"
     ]
    },
    {
     "name": "stdout",
     "output_type": "stream",
     "text": [
      "PyAEDT INFO: Deleting existing ports.\n"
     ]
    },
    {
     "name": "stdout",
     "output_type": "stream",
     "text": [
      "PyAEDT INFO: Creating HFSS ports for signal nets.\n"
     ]
    },
    {
     "name": "stdout",
     "output_type": "stream",
     "text": [
      "PyAEDT INFO: Number of ports: 8\n"
     ]
    },
    {
     "name": "stdout",
     "output_type": "stream",
     "text": [
      "PyAEDT INFO: Configure HFSS extents.\n"
     ]
    },
    {
     "name": "stdout",
     "output_type": "stream",
     "text": [
      "PyAEDT INFO: Adding frequency sweep\n"
     ]
    },
    {
     "name": "stdout",
     "output_type": "stream",
     "text": [
      "PyAEDT INFO: Padstack definition with zero plating ratio, defaulting to 20%\n"
     ]
    },
    {
     "name": "stdout",
     "output_type": "stream",
     "text": [
      "PyAEDT INFO: Padstack definition with zero plating ratio, defaulting to 20%\n"
     ]
    },
    {
     "name": "stdout",
     "output_type": "stream",
     "text": [
      "PyAEDT INFO: Padstack definition with zero plating ratio, defaulting to 20%\n"
     ]
    },
    {
     "name": "stdout",
     "output_type": "stream",
     "text": [
      "PyAEDT INFO: Padstack definition with zero plating ratio, defaulting to 20%\n"
     ]
    },
    {
     "name": "stdout",
     "output_type": "stream",
     "text": [
      "PyAEDT INFO: Padstack definition with zero plating ratio, defaulting to 20%\n"
     ]
    },
    {
     "name": "stdout",
     "output_type": "stream",
     "text": [
      "PyAEDT INFO: Padstack definition with zero plating ratio, defaulting to 20%\n"
     ]
    },
    {
     "name": "stdout",
     "output_type": "stream",
     "text": [
      "PyAEDT INFO: EDB file save time: 0.00ms\n"
     ]
    },
    {
     "data": {
      "text/plain": [
       "True"
      ]
     },
     "execution_count": 6,
     "metadata": {},
     "output_type": "execute_result"
    }
   ],
   "source": [
    "edb.build_simulation_project(simulation_configuration)"
   ]
  },
  {
   "cell_type": "markdown",
   "id": "bf69209b",
   "metadata": {},
   "source": [
    "## Parameterize\n",
    "\n",
    "The layout can automatically be set up to enable parametric studies. For example, the\n",
    "impact of antipad diameter or trace width on signal integrity performance may be invested\n",
    "parametrically."
   ]
  },
  {
   "cell_type": "code",
   "execution_count": 7,
   "id": "1a6e72cd",
   "metadata": {
    "execution": {
     "iopub.execute_input": "2024-07-09T14:05:47.875434Z",
     "iopub.status.busy": "2024-07-09T14:05:47.875434Z",
     "iopub.status.idle": "2024-07-09T14:05:48.359875Z",
     "shell.execute_reply": "2024-07-09T14:05:48.359875Z"
    }
   },
   "outputs": [
    {
     "name": "stdout",
     "output_type": "stream",
     "text": [
      "PyAEDT INFO: EDB file save time: 0.00ms\n"
     ]
    },
    {
     "name": "stdout",
     "output_type": "stream",
     "text": [
      "PyAEDT INFO: EDB file release time: 15.58ms\n"
     ]
    },
    {
     "data": {
      "text/plain": [
       "True"
      ]
     },
     "execution_count": 7,
     "metadata": {},
     "output_type": "execute_result"
    }
   ],
   "source": [
    "edb.auto_parametrize_design(layers=True, materials=True, via_holes=True, pads=True, antipads=True, traces=True)\n",
    "edb.save_edb()\n",
    "edb.close_edb()"
   ]
  },
  {
   "cell_type": "markdown",
   "id": "8f68e71e",
   "metadata": {},
   "source": [
    "## Open project in AEDT\n",
    "\n",
    "All manipulations thus far have been executed using the EDB API, which provides fast,\n",
    "streamlined processing of layout data in non-graphical mode. The layout and simulation\n",
    "setup can be visualized by opening it using the 3D Layout editor in AEDT.\n",
    "\n",
    "Note that there may be some delay while AEDT is being launched."
   ]
  },
  {
   "cell_type": "code",
   "execution_count": 8,
   "id": "e11c130a",
   "metadata": {
    "execution": {
     "iopub.execute_input": "2024-07-09T14:05:48.359875Z",
     "iopub.status.busy": "2024-07-09T14:05:48.359875Z",
     "iopub.status.idle": "2024-07-09T14:06:21.804477Z",
     "shell.execute_reply": "2024-07-09T14:06:21.804477Z"
    }
   },
   "outputs": [
    {
     "name": "stdout",
     "output_type": "stream",
     "text": [
      "PyAEDT WARNING: Argument `projectname` is deprecated for method `__init__`; use `project` instead.\n"
     ]
    },
    {
     "name": "stdout",
     "output_type": "stream",
     "text": [
      "PyAEDT WARNING: Argument `specified_version` is deprecated for method `__init__`; use `version` instead.\n"
     ]
    },
    {
     "name": "stdout",
     "output_type": "stream",
     "text": [
      "PyAEDT WARNING: Argument `new_desktop_session` is deprecated for method `__init__`; use `new_desktop` instead.\n"
     ]
    },
    {
     "name": "stdout",
     "output_type": "stream",
     "text": [
      "PyAEDT INFO: Initializing new Desktop session.\n"
     ]
    },
    {
     "name": "stdout",
     "output_type": "stream",
     "text": [
      "PyAEDT INFO: StdOut is enabled\n"
     ]
    },
    {
     "name": "stdout",
     "output_type": "stream",
     "text": [
      "PyAEDT INFO: Log on file is enabled\n"
     ]
    },
    {
     "name": "stdout",
     "output_type": "stream",
     "text": [
      "PyAEDT INFO: Log on Desktop Message Manager is enabled\n"
     ]
    },
    {
     "name": "stdout",
     "output_type": "stream",
     "text": [
      "PyAEDT INFO: Debug logger is disabled. PyAEDT methods will not be logged.\n"
     ]
    },
    {
     "name": "stdout",
     "output_type": "stream",
     "text": [
      "PyAEDT INFO: Launching PyAEDT outside AEDT with gRPC plugin.\n"
     ]
    },
    {
     "name": "stdout",
     "output_type": "stream",
     "text": [
      "PyAEDT INFO: New AEDT session is starting on gRPC port 64033\n"
     ]
    },
    {
     "name": "stdout",
     "output_type": "stream",
     "text": [
      "PyAEDT INFO: AEDT installation Path C:\\Program Files\\AnsysEM\\v241\\Win64\n"
     ]
    },
    {
     "name": "stdout",
     "output_type": "stream",
     "text": [
      "PyAEDT INFO: Ansoft.ElectronicsDesktop.2024.1 version started with process ID 7564.\n"
     ]
    },
    {
     "name": "stdout",
     "output_type": "stream",
     "text": [
      "PyAEDT INFO: pyaedt v0.9.8\n"
     ]
    },
    {
     "name": "stdout",
     "output_type": "stream",
     "text": [
      "PyAEDT INFO: Python version 3.10.11 (tags/v3.10.11:7d4cc5a, Apr  5 2023, 00:38:17) [MSC v.1929 64 bit (AMD64)]\n"
     ]
    },
    {
     "name": "stdout",
     "output_type": "stream",
     "text": [
      "PyAEDT INFO: AEDT 2024.1.0 Build Date 2023-11-27 22:16:18\n"
     ]
    },
    {
     "name": "stdout",
     "output_type": "stream",
     "text": [
      "PyAEDT INFO: EDB folder C:\\Users\\ansys\\AppData\\Local\\Temp\\tmpdgi83qks.ansys\\edb/ANSYS-HSD_V1.aedb has been imported to project ANSYS-HSD_V1\n"
     ]
    },
    {
     "name": "stdout",
     "output_type": "stream",
     "text": [
      "PyAEDT INFO: Active Design set to main\n"
     ]
    },
    {
     "name": "stdout",
     "output_type": "stream",
     "text": [
      "PyAEDT INFO: Aedt Objects correctly read\n"
     ]
    }
   ],
   "source": [
    "hfss = pyaedt.Hfss3dLayout(\n",
    "    projectname=target_aedb,\n",
    "    specified_version=edb_version,\n",
    "    non_graphical=False,\n",
    "    new_desktop_session=True,\n",
    ")"
   ]
  },
  {
   "cell_type": "markdown",
   "id": "dd1bc572",
   "metadata": {},
   "source": [
    "The following cell can be used to ensure that the design is valid for simulation."
   ]
  },
  {
   "cell_type": "code",
   "execution_count": 9,
   "id": "797fcabc",
   "metadata": {
    "execution": {
     "iopub.execute_input": "2024-07-09T14:06:21.804477Z",
     "iopub.status.busy": "2024-07-09T14:06:21.804477Z",
     "iopub.status.idle": "2024-07-09T14:06:27.166357Z",
     "shell.execute_reply": "2024-07-09T14:06:27.166357Z"
    }
   },
   "outputs": [
    {
     "name": "stdout",
     "output_type": "stream",
     "text": [
      "PyAEDT INFO: #### Design Validation Checks###\n"
     ]
    },
    {
     "name": "stdout",
     "output_type": "stream",
     "text": [
      "PyAEDT INFO: **** Validation Completed Correctly\n"
     ]
    },
    {
     "name": "stdout",
     "output_type": "stream",
     "text": [
      "PyAEDT INFO: Ports Requested: None\n"
     ]
    },
    {
     "name": "stdout",
     "output_type": "stream",
     "text": [
      "PyAEDT INFO: Ports Defined: 8\n"
     ]
    },
    {
     "name": "stdout",
     "output_type": "stream",
     "text": [
      "PyAEDT INFO: Excitation name: U1.AN26.PCIe_Gen4_RX0_N\n"
     ]
    },
    {
     "name": "stdout",
     "output_type": "stream",
     "text": [
      "PyAEDT INFO: Excitation name: U1.AP25.PCIe_Gen4_RX1_N\n"
     ]
    },
    {
     "name": "stdout",
     "output_type": "stream",
     "text": [
      "PyAEDT INFO: Excitation name: U1.AP26.PCIe_Gen4_RX0_P\n"
     ]
    },
    {
     "name": "stdout",
     "output_type": "stream",
     "text": [
      "PyAEDT INFO: Excitation name: U1.AR25.PCIe_Gen4_RX1_P\n"
     ]
    },
    {
     "name": "stdout",
     "output_type": "stream",
     "text": [
      "PyAEDT INFO: Excitation name: X1.A2.PCIe_Gen4_RX0_P\n"
     ]
    },
    {
     "name": "stdout",
     "output_type": "stream",
     "text": [
      "PyAEDT INFO: Excitation name: X1.A3.PCIe_Gen4_RX0_N\n"
     ]
    },
    {
     "name": "stdout",
     "output_type": "stream",
     "text": [
      "PyAEDT INFO: Excitation name: X1.A5.PCIe_Gen4_RX1_P\n"
     ]
    },
    {
     "name": "stdout",
     "output_type": "stream",
     "text": [
      "PyAEDT INFO: Excitation name: X1.A6.PCIe_Gen4_RX1_N\n"
     ]
    }
   ],
   "source": [
    "validation_info = hfss.validate_full_design()\n",
    "is_ready_to_simulate = True"
   ]
  },
  {
   "cell_type": "code",
   "execution_count": 10,
   "id": "071e3f3d",
   "metadata": {
    "execution": {
     "iopub.execute_input": "2024-07-09T14:06:27.166357Z",
     "iopub.status.busy": "2024-07-09T14:06:27.166357Z",
     "iopub.status.idle": "2024-07-09T14:06:27.182030Z",
     "shell.execute_reply": "2024-07-09T14:06:27.182030Z"
    }
   },
   "outputs": [
    {
     "name": "stdout",
     "output_type": "stream",
     "text": [
      "The model is ready for simulation.\n"
     ]
    }
   ],
   "source": [
    "for s in validation_info[0]:\n",
    "    if \"error\" in s:\n",
    "        print(s)\n",
    "        is_ready_to_simulate = False\n",
    "\n",
    "if is_ready_to_simulate:\n",
    "    print(\"The model is ready for simulation.\")\n",
    "else:\n",
    "    print(\"There are errors in the model that must be fixed.\")"
   ]
  },
  {
   "cell_type": "markdown",
   "id": "5cdf8704",
   "metadata": {},
   "source": [
    "## Release the application from the Python kernel\n",
    "\n",
    "It is important to release the application from the Python kernel after\n",
    "execution of the script. The default behavior of the ``release_desktop()`` method closes all open\n",
    "projects and closes the application.\n",
    "\n",
    "If you want to continue working on the project in graphical mode\n",
    "after script execution, call the following method with both arguments set to ``False``."
   ]
  },
  {
   "cell_type": "code",
   "execution_count": 11,
   "id": "e75aacfc",
   "metadata": {
    "execution": {
     "iopub.execute_input": "2024-07-09T14:06:27.182030Z",
     "iopub.status.busy": "2024-07-09T14:06:27.182030Z",
     "iopub.status.idle": "2024-07-09T14:06:29.830337Z",
     "shell.execute_reply": "2024-07-09T14:06:29.830337Z"
    }
   },
   "outputs": [
    {
     "name": "stdout",
     "output_type": "stream",
     "text": [
      "PyAEDT INFO: Desktop has been released and closed.\n"
     ]
    }
   ],
   "source": [
    "hfss.release_desktop(close_projects=True, close_desktop=True)\n",
    "temp_dir.cleanup()  # Remove the temporary folder and files. All data will be removd!"
   ]
  }
 ],
 "metadata": {
  "jupytext": {
   "cell_metadata_filter": "-all",
   "main_language": "python",
   "notebook_metadata_filter": "-all",
   "text_representation": {
    "extension": ".py",
    "format_name": "light"
   }
  },
  "language_info": {
   "codemirror_mode": {
    "name": "ipython",
    "version": 3
   },
   "file_extension": ".py",
   "mimetype": "text/x-python",
   "name": "python",
   "nbconvert_exporter": "python",
   "pygments_lexer": "ipython3",
   "version": "3.10.11"
  }
 },
 "nbformat": 4,
 "nbformat_minor": 5
}
