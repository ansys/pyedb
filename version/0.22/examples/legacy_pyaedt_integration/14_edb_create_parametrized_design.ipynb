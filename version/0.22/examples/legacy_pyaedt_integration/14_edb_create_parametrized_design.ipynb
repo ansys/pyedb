{
 "cells": [
  {
   "cell_type": "markdown",
   "id": "e9cea369",
   "metadata": {},
   "source": [
    "# EDB: parameterized design\n",
    "\n",
    "This example shows how to\n",
    "1. Set up an HFSS project using SimulationConfiguration class.\n",
    "2. Create automatically parametrized design.\n",
    "\n",
    "This image shows the layout created in this example:\n",
    "\n",
    "<img src=\"_static\\parameterized_design.png\" width=\"600\">\n"
   ]
  },
  {
   "cell_type": "markdown",
   "id": "4b1183fa",
   "metadata": {},
   "source": [
    "## Import dependencies."
   ]
  },
  {
   "cell_type": "code",
   "execution_count": 1,
   "id": "46c63ac0",
   "metadata": {
    "execution": {
     "iopub.execute_input": "2024-07-26T14:42:55.519769Z",
     "iopub.status.busy": "2024-07-26T14:42:55.519769Z",
     "iopub.status.idle": "2024-07-26T14:42:55.535320Z",
     "shell.execute_reply": "2024-07-26T14:42:55.535320Z"
    }
   },
   "outputs": [],
   "source": [
    "import tempfile"
   ]
  },
  {
   "cell_type": "code",
   "execution_count": 2,
   "id": "5adb09c8",
   "metadata": {
    "execution": {
     "iopub.execute_input": "2024-07-26T14:42:55.535320Z",
     "iopub.status.busy": "2024-07-26T14:42:55.535320Z",
     "iopub.status.idle": "2024-07-26T14:42:56.052132Z",
     "shell.execute_reply": "2024-07-26T14:42:56.052132Z"
    }
   },
   "outputs": [],
   "source": [
    "import pyaedt"
   ]
  },
  {
   "cell_type": "code",
   "execution_count": 3,
   "id": "e588cf67",
   "metadata": {
    "execution": {
     "iopub.execute_input": "2024-07-26T14:42:56.052132Z",
     "iopub.status.busy": "2024-07-26T14:42:56.052132Z",
     "iopub.status.idle": "2024-07-26T14:42:56.083376Z",
     "shell.execute_reply": "2024-07-26T14:42:56.083376Z"
    }
   },
   "outputs": [],
   "source": [
    "import pyedb\n",
    "from pyedb.misc.downloads import download_file"
   ]
  },
  {
   "cell_type": "markdown",
   "id": "3645d8c4",
   "metadata": {},
   "source": [
    "## Create an instance of a pyedb.Edb object."
   ]
  },
  {
   "cell_type": "code",
   "execution_count": 4,
   "id": "91e0e7ba",
   "metadata": {
    "execution": {
     "iopub.execute_input": "2024-07-26T14:42:56.083376Z",
     "iopub.status.busy": "2024-07-26T14:42:56.083376Z",
     "iopub.status.idle": "2024-07-26T14:43:10.449517Z",
     "shell.execute_reply": "2024-07-26T14:43:10.449517Z"
    }
   },
   "outputs": [
    {
     "name": "stdout",
     "output_type": "stream",
     "text": [
      "Project is located in  C:\\Users\\ansys\\AppData\\Local\\Temp\\tmpfd7182z_.ansys\\edb/ANSYS-HSD_V1.aedb\n",
      "EDB version: 2024.1\n"
     ]
    },
    {
     "name": "stdout",
     "output_type": "stream",
     "text": [
      "PyAEDT INFO: Logger is initialized in EDB.\n"
     ]
    },
    {
     "name": "stdout",
     "output_type": "stream",
     "text": [
      "PyAEDT INFO: legacy v0.22.1\n"
     ]
    },
    {
     "name": "stdout",
     "output_type": "stream",
     "text": [
      "PyAEDT INFO: Python version 3.10.11 (tags/v3.10.11:7d4cc5a, Apr  5 2023, 00:38:17) [MSC v.1929 64 bit (AMD64)]\n"
     ]
    },
    {
     "name": "stdout",
     "output_type": "stream",
     "text": [
      "PyAEDT INFO: Database ANSYS-HSD_V1.aedb Opened in 2024.1\n"
     ]
    },
    {
     "name": "stdout",
     "output_type": "stream",
     "text": [
      "PyAEDT INFO: Cell main Opened\n"
     ]
    },
    {
     "name": "stdout",
     "output_type": "stream",
     "text": [
      "PyAEDT INFO: Builder was initialized.\n"
     ]
    },
    {
     "name": "stdout",
     "output_type": "stream",
     "text": [
      "PyAEDT INFO: EDB initialized.\n"
     ]
    },
    {
     "name": "stdout",
     "output_type": "stream",
     "text": [
      "AEDB file is located in C:\\Users\\ansys\\AppData\\Local\\Temp\\tmpfd7182z_.ansys\\edb/ANSYS-HSD_V1.aedb\n"
     ]
    }
   ],
   "source": [
    "temp_dir = tempfile.TemporaryDirectory(suffix=\".ansys\")\n",
    "target_aedb = download_file(\"edb/ANSYS-HSD_V1.aedb\", destination=temp_dir.name)\n",
    "print(\"Project is located in \", target_aedb)\n",
    "\n",
    "# Select EDB version (change it manually if needed, e.g. \"2024.1\")\n",
    "edb_version = \"2024.1\"\n",
    "print(f\"EDB version: {edb_version}\")\n",
    "\n",
    "edb = pyedb.Edb(edbpath=target_aedb, edbversion=edb_version)\n",
    "print(\"AEDB file is located in {}\".format(target_aedb))"
   ]
  },
  {
   "cell_type": "markdown",
   "id": "6848d384",
   "metadata": {},
   "source": [
    "## Prepare the layout for the simulation\n",
    "\n",
    "The ``new_simulation_configuration()`` method creates an instance of\n",
    "the ``SimulationConfiguration`` class. This class helps define all preprocessing steps\n",
    "required to set up the PCB for simulation. After the simulation configuration has been defined,\n",
    "they are applied to the EDB using the ``Edb.build_simulation()`` method."
   ]
  },
  {
   "cell_type": "code",
   "execution_count": 5,
   "id": "50502a52",
   "metadata": {
    "execution": {
     "iopub.execute_input": "2024-07-26T14:43:10.449517Z",
     "iopub.status.busy": "2024-07-26T14:43:10.449517Z",
     "iopub.status.idle": "2024-07-26T14:43:10.465150Z",
     "shell.execute_reply": "2024-07-26T14:43:10.465150Z"
    }
   },
   "outputs": [],
   "source": [
    "simulation_configuration = edb.new_simulation_configuration()\n",
    "simulation_configuration.signal_nets = [\n",
    "    \"PCIe_Gen4_RX0_P\",\n",
    "    \"PCIe_Gen4_RX0_N\",\n",
    "    \"PCIe_Gen4_RX1_P\",\n",
    "    \"PCIe_Gen4_RX1_N\",\n",
    "]\n",
    "simulation_configuration.power_nets = [\"GND\"]\n",
    "simulation_configuration.components = [\"X1\", \"U1\"]\n",
    "simulation_configuration.do_cutout_subdesign = True\n",
    "simulation_configuration.start_freq = \"OGHz\"\n",
    "simulation_configuration.stop_freq = \"20GHz\"\n",
    "simulation_configuration.step_freq = \"10MHz\""
   ]
  },
  {
   "cell_type": "markdown",
   "id": "3b7a4c16",
   "metadata": {},
   "source": [
    "Now apply the simulation setup to the EDB."
   ]
  },
  {
   "cell_type": "code",
   "execution_count": 6,
   "id": "b7184679",
   "metadata": {
    "execution": {
     "iopub.execute_input": "2024-07-26T14:43:10.465150Z",
     "iopub.status.busy": "2024-07-26T14:43:10.465150Z",
     "iopub.status.idle": "2024-07-26T14:43:22.121567Z",
     "shell.execute_reply": "2024-07-26T14:43:22.121567Z"
    }
   },
   "outputs": [
    {
     "name": "stdout",
     "output_type": "stream",
     "text": [
      "PyAEDT INFO: Building simulation project.\n"
     ]
    },
    {
     "name": "stdout",
     "output_type": "stream",
     "text": [
      "PyAEDT INFO: Cutting out using method: 1\n"
     ]
    },
    {
     "name": "stdout",
     "output_type": "stream",
     "text": [
      "PyAEDT INFO: Cutting out using method: 1\n"
     ]
    },
    {
     "name": "stdout",
     "output_type": "stream",
     "text": [
      "PyAEDT INFO: Cutout Multithread started.\n"
     ]
    },
    {
     "name": "stdout",
     "output_type": "stream",
     "text": [
      "PyAEDT INFO: Net clean up Elapsed time: 0m 6sec\n"
     ]
    },
    {
     "name": "stdout",
     "output_type": "stream",
     "text": [
      "PyAEDT INFO: Correctly computed Extension at first iteration.\n"
     ]
    },
    {
     "name": "stdout",
     "output_type": "stream",
     "text": [
      "PyAEDT INFO: Expanded Net Polygon Creation Elapsed time: 0m 1sec\n"
     ]
    },
    {
     "name": "stdout",
     "output_type": "stream",
     "text": [
      "PyAEDT INFO: Padstack Instances removal completed. 2022 instances removed. Elapsed time: 0m 1sec\n"
     ]
    },
    {
     "name": "stdout",
     "output_type": "stream",
     "text": [
      "PyAEDT INFO: Primitives cleanup completed. 446 primitives deleted. Elapsed time: 0m 4sec\n"
     ]
    },
    {
     "name": "stdout",
     "output_type": "stream",
     "text": [
      "PyAEDT INFO: Deleted 1010 additional components\n"
     ]
    },
    {
     "name": "stdout",
     "output_type": "stream",
     "text": [
      "PyAEDT INFO: Deleted 472 components\n"
     ]
    },
    {
     "name": "stdout",
     "output_type": "stream",
     "text": [
      "PyAEDT INFO: Single Pins components deleted Elapsed time: 0m 0sec\n"
     ]
    },
    {
     "name": "stdout",
     "output_type": "stream",
     "text": [
      "PyAEDT INFO: Cutout completed. Elapsed time: 0m 11sec\n"
     ]
    },
    {
     "name": "stdout",
     "output_type": "stream",
     "text": [
      "PyAEDT INFO: Cutout processed.\n"
     ]
    },
    {
     "name": "stdout",
     "output_type": "stream",
     "text": [
      "PyAEDT INFO: Deleting existing ports.\n"
     ]
    },
    {
     "name": "stdout",
     "output_type": "stream",
     "text": [
      "PyAEDT INFO: Creating HFSS ports for signal nets.\n"
     ]
    },
    {
     "name": "stdout",
     "output_type": "stream",
     "text": [
      "PyAEDT INFO: Number of ports: 8\n"
     ]
    },
    {
     "name": "stdout",
     "output_type": "stream",
     "text": [
      "PyAEDT INFO: Configure HFSS extents.\n"
     ]
    },
    {
     "name": "stdout",
     "output_type": "stream",
     "text": [
      "PyAEDT INFO: Adding frequency sweep\n"
     ]
    },
    {
     "name": "stdout",
     "output_type": "stream",
     "text": [
      "PyAEDT INFO: Padstack definition with zero plating ratio, defaulting to 20%\n"
     ]
    },
    {
     "name": "stdout",
     "output_type": "stream",
     "text": [
      "PyAEDT INFO: Padstack definition with zero plating ratio, defaulting to 20%\n"
     ]
    },
    {
     "name": "stdout",
     "output_type": "stream",
     "text": [
      "PyAEDT INFO: Padstack definition with zero plating ratio, defaulting to 20%\n"
     ]
    },
    {
     "name": "stdout",
     "output_type": "stream",
     "text": [
      "PyAEDT INFO: Padstack definition with zero plating ratio, defaulting to 20%\n"
     ]
    },
    {
     "name": "stdout",
     "output_type": "stream",
     "text": [
      "PyAEDT INFO: Padstack definition with zero plating ratio, defaulting to 20%\n"
     ]
    },
    {
     "name": "stdout",
     "output_type": "stream",
     "text": [
      "PyAEDT INFO: Padstack definition with zero plating ratio, defaulting to 20%\n"
     ]
    },
    {
     "name": "stdout",
     "output_type": "stream",
     "text": [
      "PyAEDT INFO: EDB file save time: 0.00ms\n"
     ]
    },
    {
     "data": {
      "text/plain": [
       "True"
      ]
     },
     "execution_count": 6,
     "metadata": {},
     "output_type": "execute_result"
    }
   ],
   "source": [
    "edb.build_simulation_project(simulation_configuration)"
   ]
  },
  {
   "cell_type": "markdown",
   "id": "2eba80ef",
   "metadata": {},
   "source": [
    "## Parameterize\n",
    "\n",
    "The layout can automatically be set up to enable parametric studies. For example, the\n",
    "impact of antipad diameter or trace width on signal integrity performance may be invested\n",
    "parametrically."
   ]
  },
  {
   "cell_type": "code",
   "execution_count": 7,
   "id": "1f3afe59",
   "metadata": {
    "execution": {
     "iopub.execute_input": "2024-07-26T14:43:22.121567Z",
     "iopub.status.busy": "2024-07-26T14:43:22.121567Z",
     "iopub.status.idle": "2024-07-26T14:43:22.621579Z",
     "shell.execute_reply": "2024-07-26T14:43:22.621579Z"
    }
   },
   "outputs": [
    {
     "name": "stdout",
     "output_type": "stream",
     "text": [
      "PyAEDT INFO: EDB file save time: 0.00ms\n"
     ]
    },
    {
     "name": "stdout",
     "output_type": "stream",
     "text": [
      "PyAEDT INFO: EDB file release time: 0.00ms\n"
     ]
    },
    {
     "data": {
      "text/plain": [
       "True"
      ]
     },
     "execution_count": 7,
     "metadata": {},
     "output_type": "execute_result"
    }
   ],
   "source": [
    "edb.auto_parametrize_design(layers=True, materials=True, via_holes=True, pads=True, antipads=True, traces=True)\n",
    "edb.save_edb()\n",
    "edb.close_edb()"
   ]
  },
  {
   "cell_type": "markdown",
   "id": "65dff47c",
   "metadata": {},
   "source": [
    "## Open project in AEDT\n",
    "\n",
    "All manipulations thus far have been executed using the EDB API, which provides fast,\n",
    "streamlined processing of layout data in non-graphical mode. The layout and simulation\n",
    "setup can be visualized by opening it using the 3D Layout editor in AEDT.\n",
    "\n",
    "Note that there may be some delay while AEDT is being launched."
   ]
  },
  {
   "cell_type": "code",
   "execution_count": 8,
   "id": "5cd64183",
   "metadata": {
    "execution": {
     "iopub.execute_input": "2024-07-26T14:43:22.621579Z",
     "iopub.status.busy": "2024-07-26T14:43:22.621579Z",
     "iopub.status.idle": "2024-07-26T14:43:55.423348Z",
     "shell.execute_reply": "2024-07-26T14:43:55.423348Z"
    }
   },
   "outputs": [
    {
     "name": "stdout",
     "output_type": "stream",
     "text": [
      "PyAEDT WARNING: Argument `projectname` is deprecated for method `__init__`; use `project` instead.\n"
     ]
    },
    {
     "name": "stdout",
     "output_type": "stream",
     "text": [
      "PyAEDT WARNING: Argument `specified_version` is deprecated for method `__init__`; use `version` instead.\n"
     ]
    },
    {
     "name": "stdout",
     "output_type": "stream",
     "text": [
      "PyAEDT WARNING: Argument `new_desktop_session` is deprecated for method `__init__`; use `new_desktop` instead.\n"
     ]
    },
    {
     "name": "stdout",
     "output_type": "stream",
     "text": [
      "PyAEDT INFO: Initializing new Desktop session.\n"
     ]
    },
    {
     "name": "stdout",
     "output_type": "stream",
     "text": [
      "PyAEDT INFO: StdOut is enabled\n"
     ]
    },
    {
     "name": "stdout",
     "output_type": "stream",
     "text": [
      "PyAEDT INFO: Log on file is enabled\n"
     ]
    },
    {
     "name": "stdout",
     "output_type": "stream",
     "text": [
      "PyAEDT INFO: Log on Desktop Message Manager is enabled\n"
     ]
    },
    {
     "name": "stdout",
     "output_type": "stream",
     "text": [
      "PyAEDT INFO: Debug logger is disabled. PyAEDT methods will not be logged.\n"
     ]
    },
    {
     "name": "stdout",
     "output_type": "stream",
     "text": [
      "PyAEDT INFO: Launching PyAEDT outside AEDT with gRPC plugin.\n"
     ]
    },
    {
     "name": "stdout",
     "output_type": "stream",
     "text": [
      "PyAEDT INFO: New AEDT session is starting on gRPC port 58424\n"
     ]
    },
    {
     "name": "stdout",
     "output_type": "stream",
     "text": [
      "PyAEDT INFO: AEDT installation Path C:\\Program Files\\AnsysEM\\v241\\Win64\n"
     ]
    },
    {
     "name": "stdout",
     "output_type": "stream",
     "text": [
      "PyAEDT INFO: Ansoft.ElectronicsDesktop.2024.1 version started with process ID 7048.\n"
     ]
    },
    {
     "name": "stdout",
     "output_type": "stream",
     "text": [
      "PyAEDT INFO: pyaedt v0.9.10\n"
     ]
    },
    {
     "name": "stdout",
     "output_type": "stream",
     "text": [
      "PyAEDT INFO: Python version 3.10.11 (tags/v3.10.11:7d4cc5a, Apr  5 2023, 00:38:17) [MSC v.1929 64 bit (AMD64)]\n"
     ]
    },
    {
     "name": "stdout",
     "output_type": "stream",
     "text": [
      "PyAEDT INFO: AEDT 2024.1.0 Build Date 2023-11-27 22:16:18\n"
     ]
    },
    {
     "name": "stdout",
     "output_type": "stream",
     "text": [
      "PyAEDT INFO: EDB folder C:\\Users\\ansys\\AppData\\Local\\Temp\\tmpfd7182z_.ansys\\edb/ANSYS-HSD_V1.aedb has been imported to project ANSYS-HSD_V1\n"
     ]
    },
    {
     "name": "stdout",
     "output_type": "stream",
     "text": [
      "PyAEDT INFO: Active Design set to main\n"
     ]
    },
    {
     "name": "stdout",
     "output_type": "stream",
     "text": [
      "PyAEDT INFO: Aedt Objects correctly read\n"
     ]
    }
   ],
   "source": [
    "hfss = pyaedt.Hfss3dLayout(\n",
    "    projectname=target_aedb,\n",
    "    specified_version=edb_version,\n",
    "    non_graphical=False,\n",
    "    new_desktop_session=True,\n",
    ")"
   ]
  },
  {
   "cell_type": "markdown",
   "id": "15b28b03",
   "metadata": {},
   "source": [
    "The following cell can be used to ensure that the design is valid for simulation."
   ]
  },
  {
   "cell_type": "code",
   "execution_count": 9,
   "id": "9b360048",
   "metadata": {
    "execution": {
     "iopub.execute_input": "2024-07-26T14:43:55.423348Z",
     "iopub.status.busy": "2024-07-26T14:43:55.423348Z",
     "iopub.status.idle": "2024-07-26T14:44:00.597254Z",
     "shell.execute_reply": "2024-07-26T14:44:00.597254Z"
    }
   },
   "outputs": [
    {
     "name": "stdout",
     "output_type": "stream",
     "text": [
      "PyAEDT INFO: #### Design Validation Checks###\n"
     ]
    },
    {
     "name": "stdout",
     "output_type": "stream",
     "text": [
      "PyAEDT INFO: **** Validation Completed Correctly\n"
     ]
    },
    {
     "name": "stdout",
     "output_type": "stream",
     "text": [
      "PyAEDT INFO: Ports Requested: None\n"
     ]
    },
    {
     "name": "stdout",
     "output_type": "stream",
     "text": [
      "PyAEDT INFO: Ports Defined: 8\n"
     ]
    },
    {
     "name": "stdout",
     "output_type": "stream",
     "text": [
      "PyAEDT INFO: Excitation name: U1.AN26.PCIe_Gen4_RX0_N\n"
     ]
    },
    {
     "name": "stdout",
     "output_type": "stream",
     "text": [
      "PyAEDT INFO: Excitation name: U1.AP25.PCIe_Gen4_RX1_N\n"
     ]
    },
    {
     "name": "stdout",
     "output_type": "stream",
     "text": [
      "PyAEDT INFO: Excitation name: U1.AP26.PCIe_Gen4_RX0_P\n"
     ]
    },
    {
     "name": "stdout",
     "output_type": "stream",
     "text": [
      "PyAEDT INFO: Excitation name: U1.AR25.PCIe_Gen4_RX1_P\n"
     ]
    },
    {
     "name": "stdout",
     "output_type": "stream",
     "text": [
      "PyAEDT INFO: Excitation name: X1.A2.PCIe_Gen4_RX0_P\n"
     ]
    },
    {
     "name": "stdout",
     "output_type": "stream",
     "text": [
      "PyAEDT INFO: Excitation name: X1.A3.PCIe_Gen4_RX0_N\n"
     ]
    },
    {
     "name": "stdout",
     "output_type": "stream",
     "text": [
      "PyAEDT INFO: Excitation name: X1.A5.PCIe_Gen4_RX1_P\n"
     ]
    },
    {
     "name": "stdout",
     "output_type": "stream",
     "text": [
      "PyAEDT INFO: Excitation name: X1.A6.PCIe_Gen4_RX1_N\n"
     ]
    }
   ],
   "source": [
    "validation_info = hfss.validate_full_design()\n",
    "is_ready_to_simulate = True"
   ]
  },
  {
   "cell_type": "code",
   "execution_count": 10,
   "id": "c875a1fd",
   "metadata": {
    "execution": {
     "iopub.execute_input": "2024-07-26T14:44:00.597254Z",
     "iopub.status.busy": "2024-07-26T14:44:00.597254Z",
     "iopub.status.idle": "2024-07-26T14:44:00.612879Z",
     "shell.execute_reply": "2024-07-26T14:44:00.612879Z"
    }
   },
   "outputs": [
    {
     "name": "stdout",
     "output_type": "stream",
     "text": [
      "The model is ready for simulation.\n"
     ]
    }
   ],
   "source": [
    "for s in validation_info[0]:\n",
    "    if \"error\" in s:\n",
    "        print(s)\n",
    "        is_ready_to_simulate = False\n",
    "\n",
    "if is_ready_to_simulate:\n",
    "    print(\"The model is ready for simulation.\")\n",
    "else:\n",
    "    print(\"There are errors in the model that must be fixed.\")"
   ]
  },
  {
   "cell_type": "markdown",
   "id": "dd3908dd",
   "metadata": {},
   "source": [
    "## Release the application from the Python kernel\n",
    "\n",
    "It is important to release the application from the Python kernel after\n",
    "execution of the script. The default behavior of the ``release_desktop()`` method closes all open\n",
    "projects and closes the application.\n",
    "\n",
    "If you want to continue working on the project in graphical mode\n",
    "after script execution, call the following method with both arguments set to ``False``."
   ]
  },
  {
   "cell_type": "code",
   "execution_count": 11,
   "id": "e98de4dc",
   "metadata": {
    "execution": {
     "iopub.execute_input": "2024-07-26T14:44:00.612879Z",
     "iopub.status.busy": "2024-07-26T14:44:00.612879Z",
     "iopub.status.idle": "2024-07-26T14:44:03.318491Z",
     "shell.execute_reply": "2024-07-26T14:44:03.318491Z"
    }
   },
   "outputs": [
    {
     "name": "stdout",
     "output_type": "stream",
     "text": [
      "PyAEDT INFO: Desktop has been released and closed.\n"
     ]
    }
   ],
   "source": [
    "hfss.release_desktop(close_projects=True, close_desktop=True)\n",
    "temp_dir.cleanup()  # Remove the temporary folder and files. All data will be removd!"
   ]
  }
 ],
 "metadata": {
  "jupytext": {
   "cell_metadata_filter": "-all",
   "main_language": "python",
   "notebook_metadata_filter": "-all",
   "text_representation": {
    "extension": ".py",
    "format_name": "light"
   }
  },
  "language_info": {
   "codemirror_mode": {
    "name": "ipython",
    "version": 3
   },
   "file_extension": ".py",
   "mimetype": "text/x-python",
   "name": "python",
   "nbconvert_exporter": "python",
   "pygments_lexer": "ipython3",
   "version": "3.10.11"
  }
 },
 "nbformat": 4,
 "nbformat_minor": 5
}
