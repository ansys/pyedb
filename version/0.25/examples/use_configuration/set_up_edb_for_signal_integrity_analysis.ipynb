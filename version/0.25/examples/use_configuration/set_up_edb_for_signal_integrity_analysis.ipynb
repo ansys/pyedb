{
 "cells": [
  {
   "cell_type": "markdown",
   "id": "3ed9e666",
   "metadata": {},
   "source": [
    "# Set up EDB for Power Integrity Analysis\n",
    "This example shows how to set up the electronics database (EDB) for power integrity analysis from a single\n",
    "configuration file."
   ]
  },
  {
   "cell_type": "markdown",
   "id": "83eb9df3",
   "metadata": {},
   "source": [
    "## Import the required packages"
   ]
  },
  {
   "cell_type": "code",
   "execution_count": 1,
   "id": "48457acb",
   "metadata": {
    "execution": {
     "iopub.execute_input": "2024-08-22T15:11:08.384937Z",
     "iopub.status.busy": "2024-08-22T15:11:08.384937Z",
     "iopub.status.idle": "2024-08-22T15:11:08.416202Z",
     "shell.execute_reply": "2024-08-22T15:11:08.416202Z"
    }
   },
   "outputs": [],
   "source": [
    "import json"
   ]
  },
  {
   "cell_type": "code",
   "execution_count": 2,
   "id": "f18cb87b",
   "metadata": {
    "execution": {
     "iopub.execute_input": "2024-08-22T15:11:08.416202Z",
     "iopub.status.busy": "2024-08-22T15:11:08.416202Z",
     "iopub.status.idle": "2024-08-22T15:11:08.932156Z",
     "shell.execute_reply": "2024-08-22T15:11:08.932156Z"
    }
   },
   "outputs": [
    {
     "name": "stdout",
     "output_type": "stream",
     "text": [
      "FutureWarning: Module 'pyaedt' has become an alias to the new package structure. Please update you imports to use the new architecture based on 'ansys.aedt.core'. In addition, some files have been renamed to follow the PEP 8 naming convention. The old structure and file names will be deprecated in future versions, see https://aedt.docs.pyansys.com/version/stable/release_1_0.html\n"
     ]
    }
   ],
   "source": [
    "import os\n",
    "import tempfile\n",
    "\n",
    "from pyaedt import Hfss3dLayout\n",
    "from pyaedt.downloads import download_file\n",
    "\n",
    "from pyedb import Edb\n",
    "\n",
    "AEDT_VERSION = \"2024.2\"\n",
    "NG_MODE = False\n"
   ]
  },
  {
   "cell_type": "markdown",
   "id": "4797c11d",
   "metadata": {},
   "source": [
    "Download the example PCB data."
   ]
  },
  {
   "cell_type": "code",
   "execution_count": 3,
   "id": "00ba55ea",
   "metadata": {
    "execution": {
     "iopub.execute_input": "2024-08-22T15:11:08.932156Z",
     "iopub.status.busy": "2024-08-22T15:11:08.932156Z",
     "iopub.status.idle": "2024-08-22T15:11:10.015783Z",
     "shell.execute_reply": "2024-08-22T15:11:10.015783Z"
    }
   },
   "outputs": [],
   "source": [
    "temp_folder = tempfile.TemporaryDirectory(suffix=\".ansys\")\n",
    "download_file(source=\"touchstone\", name=\"GRM32_DC0V_25degC_series.s2p\", destination=temp_folder.name)\n",
    "file_edb = download_file(source=\"edb/ANSYS-HSD_V1.aedb\", destination=temp_folder.name)"
   ]
  },
  {
   "cell_type": "markdown",
   "id": "57970635",
   "metadata": {},
   "source": [
    "## Load example layout"
   ]
  },
  {
   "cell_type": "code",
   "execution_count": 4,
   "id": "b792f518",
   "metadata": {
    "execution": {
     "iopub.execute_input": "2024-08-22T15:11:10.015783Z",
     "iopub.status.busy": "2024-08-22T15:11:10.015783Z",
     "iopub.status.idle": "2024-08-22T15:11:22.619658Z",
     "shell.execute_reply": "2024-08-22T15:11:22.619658Z"
    }
   },
   "outputs": [
    {
     "name": "stdout",
     "output_type": "stream",
     "text": [
      "PyAEDT INFO: Logger is initialized in EDB.\n"
     ]
    },
    {
     "name": "stdout",
     "output_type": "stream",
     "text": [
      "PyAEDT INFO: legacy v0.25.0\n"
     ]
    },
    {
     "name": "stdout",
     "output_type": "stream",
     "text": [
      "PyAEDT INFO: Python version 3.10.11 (tags/v3.10.11:7d4cc5a, Apr  5 2023, 00:38:17) [MSC v.1929 64 bit (AMD64)]\n"
     ]
    },
    {
     "name": "stdout",
     "output_type": "stream",
     "text": [
      "PyAEDT INFO: Database ANSYS-HSD_V1.aedb Opened in 2024.2\n"
     ]
    },
    {
     "name": "stdout",
     "output_type": "stream",
     "text": [
      "PyAEDT INFO: Cell main Opened\n"
     ]
    },
    {
     "name": "stdout",
     "output_type": "stream",
     "text": [
      "PyAEDT INFO: Builder was initialized.\n"
     ]
    },
    {
     "name": "stdout",
     "output_type": "stream",
     "text": [
      "PyAEDT INFO: EDB initialized.\n"
     ]
    }
   ],
   "source": [
    "edbapp = Edb(file_edb, edbversion=AEDT_VERSION)"
   ]
  },
  {
   "cell_type": "markdown",
   "id": "586351a8",
   "metadata": {},
   "source": [
    "## Create an empty dictionary to host all configurations"
   ]
  },
  {
   "cell_type": "code",
   "execution_count": 5,
   "id": "027b18a5",
   "metadata": {
    "execution": {
     "iopub.execute_input": "2024-08-22T15:11:22.619658Z",
     "iopub.status.busy": "2024-08-22T15:11:22.619658Z",
     "iopub.status.idle": "2024-08-22T15:11:22.635278Z",
     "shell.execute_reply": "2024-08-22T15:11:22.635278Z"
    }
   },
   "outputs": [],
   "source": [
    "cfg = dict()"
   ]
  },
  {
   "cell_type": "markdown",
   "id": "d34a9622",
   "metadata": {},
   "source": [
    "## Assign S-parameter model to capactitors."
   ]
  },
  {
   "cell_type": "markdown",
   "id": "25b22685",
   "metadata": {},
   "source": [
    "Set S-parameter library path."
   ]
  },
  {
   "cell_type": "code",
   "execution_count": 6,
   "id": "8642a91a",
   "metadata": {
    "execution": {
     "iopub.execute_input": "2024-08-22T15:11:22.635278Z",
     "iopub.status.busy": "2024-08-22T15:11:22.635278Z",
     "iopub.status.idle": "2024-08-22T15:11:22.650901Z",
     "shell.execute_reply": "2024-08-22T15:11:22.650901Z"
    }
   },
   "outputs": [],
   "source": [
    "cfg[\"general\"] = {\"s_parameter_library\": os.path.join(temp_folder.name, \"touchstone\")}"
   ]
  },
  {
   "cell_type": "markdown",
   "id": "dca8d252",
   "metadata": {},
   "source": [
    "Assign the S-parameter model.\n",
    "\n",
    "Keywords\n",
    "\n",
    "- **name**. Name of the S-parameter model in AEDT.\n",
    "- **component**_definition. Known as component part number of part name.\n",
    "- **file_path**. Touchstone file or full path to the touchstone file.\n",
    "- **apply_to_all**. When set to True, assign the S-parameter model to all components share the same\n",
    "component_definition. When set to False, Only components in \"components\" are assigned.\n",
    "- **components**. when apply_to_all=False, components in the list are assigned an S-parameter model.\n",
    "When apply_to_all=False, components in the list are NOT assigned.\n",
    "- **reference_net**. Reference net of the S-parameter model."
   ]
  },
  {
   "cell_type": "code",
   "execution_count": 7,
   "id": "956a1818",
   "metadata": {
    "execution": {
     "iopub.execute_input": "2024-08-22T15:11:22.650901Z",
     "iopub.status.busy": "2024-08-22T15:11:22.650901Z",
     "iopub.status.idle": "2024-08-22T15:11:22.666580Z",
     "shell.execute_reply": "2024-08-22T15:11:22.666580Z"
    }
   },
   "outputs": [],
   "source": [
    "cfg[\"s_parameters\"] = [\n",
    "    {\n",
    "        \"name\": \"GRM32_DC0V_25degC_series\",\n",
    "        \"component_definition\": \"CAPC0603X33X15LL03T05\",\n",
    "        \"file_path\": \"GRM32_DC0V_25degC_series.s2p\",\n",
    "        \"apply_to_all\": False,\n",
    "        \"components\": [\"C110\", \"C206\"],\n",
    "        \"reference_net\": \"GND\",\n",
    "    }\n",
    "]"
   ]
  },
  {
   "cell_type": "markdown",
   "id": "b67a5113",
   "metadata": {},
   "source": [
    "## Define ports\n",
    "Create a circuit port between power and ground nets.\n",
    "\n",
    "Keywords\n",
    "\n",
    "- **name**. Name of the port.\n",
    "- **reference_desinator**.\n",
    "- **type**. Type of the port. Supported types are 'ciruict', 'coax'.\n",
    "- **positive_terminal**. Positive terminal of the port. Supported types are 'net', 'pin', 'pin_group', 'coordinates'.\n",
    "- **negative_terminal**. Positive terminal of the port. Supported types are 'net', 'pin', 'pin_group', 'coordinates'."
   ]
  },
  {
   "cell_type": "code",
   "execution_count": 8,
   "id": "4f219199",
   "metadata": {
    "execution": {
     "iopub.execute_input": "2024-08-22T15:11:22.666580Z",
     "iopub.status.busy": "2024-08-22T15:11:22.666580Z",
     "iopub.status.idle": "2024-08-22T15:11:22.682205Z",
     "shell.execute_reply": "2024-08-22T15:11:22.682205Z"
    }
   },
   "outputs": [],
   "source": [
    "cfg[\"ports\"] = [\n",
    "    {\n",
    "        \"name\": \"port1\",\n",
    "        \"reference_designator\": \"U1\",\n",
    "        \"type\": \"circuit\",\n",
    "        \"positive_terminal\": {\"net\": \"1V0\"},\n",
    "        \"negative_terminal\": {\"net\": \"GND\"},\n",
    "    }\n",
    "]"
   ]
  },
  {
   "cell_type": "markdown",
   "id": "f91ca2a4",
   "metadata": {},
   "source": [
    "## Define SIwave SYZ analysis setup\n",
    "\n",
    "Keywords\n",
    "\n",
    "- **name**. Name of the setup.\n",
    "- **type**. Type of the analysis setup. Supported types are 'siwave_ac', 'siwave_dc', 'hfss'.\n",
    "- **pi_slider_position**. PI slider position. Supported values are from '0', '1', '2'. 0:speed, 1:balanced,\n",
    "2:accuracy.\n",
    "- **freq_sweep**. List of frequency sweeps.\n",
    "  - **name**. Name of the sweep.\n",
    "  - **type**. Type of the sweep. Supported types are 'interpolation', 'discrete', 'broadband'.\n",
    "  - **frequencies**. Frequency distribution.\n",
    "    - **distribution**. Supported distributions are 'linear_count', 'linear_scale', 'log_scale'.\n",
    "    - **start**. Start frequency. Example, 1e6, \"1MHz\".\n",
    "    - **stop**. Stop frequency. Example, 1e9, \"1GHz\".\n",
    "    - **increment**."
   ]
  },
  {
   "cell_type": "code",
   "execution_count": 9,
   "id": "9fae22e8",
   "metadata": {
    "execution": {
     "iopub.execute_input": "2024-08-22T15:11:22.682205Z",
     "iopub.status.busy": "2024-08-22T15:11:22.682205Z",
     "iopub.status.idle": "2024-08-22T15:11:22.697847Z",
     "shell.execute_reply": "2024-08-22T15:11:22.697847Z"
    }
   },
   "outputs": [],
   "source": [
    "cfg[\"setups\"] = [\n",
    "    {\n",
    "        \"name\": \"siwave_syz\",\n",
    "        \"type\": \"siwave_ac\",\n",
    "        \"pi_slider_position\": 1,\n",
    "        \"freq_sweep\": [\n",
    "            {\n",
    "                \"name\": \"Sweep1\",\n",
    "                \"type\": \"interpolation\",\n",
    "                \"frequencies\": [{\"distribution\": \"log_scale\", \"start\": 1e6, \"stop\": 1e9, \"increment\": 20}],\n",
    "            }\n",
    "        ],\n",
    "    }\n",
    "]"
   ]
  },
  {
   "cell_type": "markdown",
   "id": "9fb3fffb",
   "metadata": {},
   "source": [
    "## Define Cutout\n",
    "\n",
    "Keywords\n",
    "\n",
    "- **signal_list**. List of nets to be kept after cutout.\n",
    "- **reference_list**. List of nets as reference planes.\n",
    "- **extent_type**. Supported extend types are 'Conforming', 'ConvexHull', 'Bounding'.\n",
    "For optional input arguments, refer to method pyedb.Edb.cutout()"
   ]
  },
  {
   "cell_type": "code",
   "execution_count": 10,
   "id": "47eab235",
   "metadata": {
    "execution": {
     "iopub.execute_input": "2024-08-22T15:11:22.697847Z",
     "iopub.status.busy": "2024-08-22T15:11:22.697847Z",
     "iopub.status.idle": "2024-08-22T15:11:22.713462Z",
     "shell.execute_reply": "2024-08-22T15:11:22.713462Z"
    }
   },
   "outputs": [],
   "source": [
    "cfg[\"operations\"] = {\n",
    "    \"cutout\": {\n",
    "        \"signal_list\": [\"1V0\"],\n",
    "        \"reference_list\": [\"GND\"],\n",
    "        \"extent_type\": \"ConvexHull\",\n",
    "    }\n",
    "}"
   ]
  },
  {
   "cell_type": "markdown",
   "id": "44f7aa75",
   "metadata": {},
   "source": [
    "## Write configuration into as json file"
   ]
  },
  {
   "cell_type": "code",
   "execution_count": 11,
   "id": "59b7db28",
   "metadata": {
    "execution": {
     "iopub.execute_input": "2024-08-22T15:11:22.713462Z",
     "iopub.status.busy": "2024-08-22T15:11:22.713462Z",
     "iopub.status.idle": "2024-08-22T15:11:22.729031Z",
     "shell.execute_reply": "2024-08-22T15:11:22.729031Z"
    }
   },
   "outputs": [],
   "source": [
    "file_json = os.path.join(temp_folder.name, \"edb_configuration.json\")\n",
    "with open(file_json, \"w\") as f:\n",
    "    json.dump(cfg, f, indent=4, ensure_ascii=False)"
   ]
  },
  {
   "cell_type": "markdown",
   "id": "0540e0fd",
   "metadata": {},
   "source": [
    "## Import configuration into example layout"
   ]
  },
  {
   "cell_type": "code",
   "execution_count": 12,
   "id": "89003623",
   "metadata": {
    "execution": {
     "iopub.execute_input": "2024-08-22T15:11:22.729031Z",
     "iopub.status.busy": "2024-08-22T15:11:22.729031Z",
     "iopub.status.idle": "2024-08-22T15:11:22.760281Z",
     "shell.execute_reply": "2024-08-22T15:11:22.760281Z"
    }
   },
   "outputs": [
    {
     "data": {
      "text/plain": [
       "<pyedb.configuration.cfg_data.CfgData at 0x20d1f641e30>"
      ]
     },
     "execution_count": 12,
     "metadata": {},
     "output_type": "execute_result"
    }
   ],
   "source": [
    "edbapp.configuration.load(config_file=file_json)"
   ]
  },
  {
   "cell_type": "markdown",
   "id": "a53309d6",
   "metadata": {},
   "source": [
    "Apply configuration to EDB."
   ]
  },
  {
   "cell_type": "code",
   "execution_count": 13,
   "id": "b61afabb",
   "metadata": {
    "execution": {
     "iopub.execute_input": "2024-08-22T15:11:22.760281Z",
     "iopub.status.busy": "2024-08-22T15:11:22.760281Z",
     "iopub.status.idle": "2024-08-22T15:11:35.167520Z",
     "shell.execute_reply": "2024-08-22T15:11:35.167520Z"
    }
   },
   "outputs": [
    {
     "name": "stdout",
     "output_type": "stream",
     "text": [
      "PyAEDT INFO: Cutout Multithread started.\n"
     ]
    },
    {
     "name": "stdout",
     "output_type": "stream",
     "text": [
      "PyAEDT INFO: Net clean up Elapsed time: 0m 4sec\n"
     ]
    },
    {
     "name": "stdout",
     "output_type": "stream",
     "text": [
      "PyAEDT INFO: Expanded Net Polygon Creation Elapsed time: 0m 0sec\n"
     ]
    },
    {
     "name": "stdout",
     "output_type": "stream",
     "text": [
      "PyAEDT INFO: Padstack Instances removal completed. 1310 instances removed. Elapsed time: 0m 1sec\n"
     ]
    },
    {
     "name": "stdout",
     "output_type": "stream",
     "text": [
      "PyAEDT INFO: Primitives cleanup completed. 265 primitives deleted. Elapsed time: 0m 4sec\n"
     ]
    },
    {
     "name": "stdout",
     "output_type": "stream",
     "text": [
      "PyAEDT INFO: Deleted 702 additional components\n"
     ]
    },
    {
     "name": "stdout",
     "output_type": "stream",
     "text": [
      "PyAEDT INFO: Cutout completed. Elapsed time: 0m 9sec\n"
     ]
    },
    {
     "data": {
      "text/plain": [
       "True"
      ]
     },
     "execution_count": 13,
     "metadata": {},
     "output_type": "execute_result"
    }
   ],
   "source": [
    "edbapp.configuration.run()"
   ]
  },
  {
   "cell_type": "markdown",
   "id": "2c15ed46",
   "metadata": {},
   "source": [
    "Save and close EDB."
   ]
  },
  {
   "cell_type": "code",
   "execution_count": 14,
   "id": "6c6ab1ed",
   "metadata": {
    "execution": {
     "iopub.execute_input": "2024-08-22T15:11:35.167520Z",
     "iopub.status.busy": "2024-08-22T15:11:35.167520Z",
     "iopub.status.idle": "2024-08-22T15:11:35.339401Z",
     "shell.execute_reply": "2024-08-22T15:11:35.339401Z"
    }
   },
   "outputs": [
    {
     "data": {
      "text/plain": [
       "True"
      ]
     },
     "execution_count": 14,
     "metadata": {},
     "output_type": "execute_result"
    }
   ],
   "source": [
    "edbapp.save()\n",
    "edbapp.close()"
   ]
  },
  {
   "cell_type": "markdown",
   "id": "47a7601d",
   "metadata": {},
   "source": [
    "The configured EDB file is saved in a temp folder."
   ]
  },
  {
   "cell_type": "code",
   "execution_count": 15,
   "id": "7145a0bd",
   "metadata": {
    "execution": {
     "iopub.execute_input": "2024-08-22T15:11:35.339401Z",
     "iopub.status.busy": "2024-08-22T15:11:35.339401Z",
     "iopub.status.idle": "2024-08-22T15:11:35.355023Z",
     "shell.execute_reply": "2024-08-22T15:11:35.355023Z"
    }
   },
   "outputs": [
    {
     "name": "stdout",
     "output_type": "stream",
     "text": [
      "C:\\Users\\ansys\\AppData\\Local\\Temp\\tmptic7so98.ansys\n"
     ]
    }
   ],
   "source": [
    "print(temp_folder.name)"
   ]
  },
  {
   "cell_type": "markdown",
   "id": "a3640210",
   "metadata": {},
   "source": [
    "## Load edb into HFSS 3D Layout."
   ]
  },
  {
   "cell_type": "code",
   "execution_count": 16,
   "id": "fe9b4321",
   "metadata": {
    "execution": {
     "iopub.execute_input": "2024-08-22T15:11:35.355023Z",
     "iopub.status.busy": "2024-08-22T15:11:35.355023Z",
     "iopub.status.idle": "2024-08-22T15:11:56.888967Z",
     "shell.execute_reply": "2024-08-22T15:11:56.888967Z"
    }
   },
   "outputs": [
    {
     "name": "stdout",
     "output_type": "stream",
     "text": [
      "PyAEDT INFO: Python version 3.10.11 (tags/v3.10.11:7d4cc5a, Apr  5 2023, 00:38:17) [MSC v.1929 64 bit (AMD64)]\n"
     ]
    },
    {
     "name": "stdout",
     "output_type": "stream",
     "text": [
      "PyAEDT INFO: PyAEDT version 0.11.dev0.\n"
     ]
    },
    {
     "name": "stdout",
     "output_type": "stream",
     "text": [
      "PyAEDT INFO: Initializing new Desktop session.\n"
     ]
    },
    {
     "name": "stdout",
     "output_type": "stream",
     "text": [
      "PyAEDT INFO: Log on console is enabled.\n"
     ]
    },
    {
     "name": "stdout",
     "output_type": "stream",
     "text": [
      "PyAEDT INFO: Log on file C:\\Users\\ansys\\AppData\\Local\\Temp\\pyaedt_ansys_9ea4b5eb-74bf-40ae-aac1-23bf146028b5.log is enabled.\n"
     ]
    },
    {
     "name": "stdout",
     "output_type": "stream",
     "text": [
      "PyAEDT INFO: Log on AEDT is enabled.\n"
     ]
    },
    {
     "name": "stdout",
     "output_type": "stream",
     "text": [
      "PyAEDT INFO: Debug logger is disabled. PyAEDT methods will not be logged.\n"
     ]
    },
    {
     "name": "stdout",
     "output_type": "stream",
     "text": [
      "PyAEDT INFO: Launching PyAEDT with gRPC plugin.\n"
     ]
    },
    {
     "name": "stdout",
     "output_type": "stream",
     "text": [
      "PyAEDT INFO: New AEDT session is starting on gRPC port 62217\n"
     ]
    },
    {
     "name": "stdout",
     "output_type": "stream",
     "text": [
      "PyAEDT INFO: AEDT installation Path C:\\Program Files\\AnsysEM\\v242\\Win64\n"
     ]
    },
    {
     "name": "stdout",
     "output_type": "stream",
     "text": [
      "PyAEDT INFO: Ansoft.ElectronicsDesktop.2024.2 version started with process ID 9924.\n"
     ]
    },
    {
     "name": "stdout",
     "output_type": "stream",
     "text": [
      "PyAEDT INFO: EDB folder C:\\Users\\ansys\\AppData\\Local\\Temp\\tmptic7so98.ansys\\edb/ANSYS-HSD_V1.aedb has been imported to project ANSYS-HSD_V1\n"
     ]
    },
    {
     "name": "stdout",
     "output_type": "stream",
     "text": [
      "PyAEDT INFO: Active Design set to 0;main\n"
     ]
    },
    {
     "name": "stdout",
     "output_type": "stream",
     "text": [
      "PyAEDT INFO: Aedt Objects correctly read\n"
     ]
    }
   ],
   "source": [
    "h3d = Hfss3dLayout(edbapp.edbpath, version=AEDT_VERSION, non_graphical=NG_MODE, new_desktop=True)"
   ]
  },
  {
   "cell_type": "markdown",
   "id": "274f5011",
   "metadata": {},
   "source": [
    "## Analyze"
   ]
  },
  {
   "cell_type": "code",
   "execution_count": 17,
   "id": "3e9731fc",
   "metadata": {
    "execution": {
     "iopub.execute_input": "2024-08-22T15:11:56.888967Z",
     "iopub.status.busy": "2024-08-22T15:11:56.888967Z",
     "iopub.status.idle": "2024-08-22T15:12:27.696627Z",
     "shell.execute_reply": "2024-08-22T15:12:27.696627Z"
    }
   },
   "outputs": [
    {
     "name": "stdout",
     "output_type": "stream",
     "text": [
      "PyAEDT INFO: Key Desktop/ActiveDSOConfigurations/HFSS 3D Layout Design correctly changed.\n"
     ]
    },
    {
     "name": "stdout",
     "output_type": "stream",
     "text": [
      "PyAEDT INFO: Solving all design setups.\n"
     ]
    },
    {
     "name": "stdout",
     "output_type": "stream",
     "text": [
      "PyAEDT INFO: Key Desktop/ActiveDSOConfigurations/HFSS 3D Layout Design correctly changed.\n"
     ]
    },
    {
     "name": "stdout",
     "output_type": "stream",
     "text": [
      "PyAEDT INFO: Design setup None solved correctly in 0.0h 0.0m 31.0s\n"
     ]
    },
    {
     "data": {
      "text/plain": [
       "True"
      ]
     },
     "execution_count": 17,
     "metadata": {},
     "output_type": "execute_result"
    }
   ],
   "source": [
    "h3d.analyze()"
   ]
  },
  {
   "cell_type": "markdown",
   "id": "6f2077ba",
   "metadata": {},
   "source": [
    "## Plot impedance"
   ]
  },
  {
   "cell_type": "code",
   "execution_count": 18,
   "id": "0002571c",
   "metadata": {
    "execution": {
     "iopub.execute_input": "2024-08-22T15:12:27.696627Z",
     "iopub.status.busy": "2024-08-22T15:12:27.696627Z",
     "iopub.status.idle": "2024-08-22T15:12:28.865102Z",
     "shell.execute_reply": "2024-08-22T15:12:28.865102Z"
    }
   },
   "outputs": [
    {
     "name": "stdout",
     "output_type": "stream",
     "text": [
      "PyAEDT INFO: Parsing C:/Users/ansys/AppData/Local/Temp/tmptic7so98.ansys/edb/ANSYS-HSD_V1.aedt.\n"
     ]
    },
    {
     "name": "stdout",
     "output_type": "stream",
     "text": [
      "PyAEDT INFO: File C:/Users/ansys/AppData/Local/Temp/tmptic7so98.ansys/edb/ANSYS-HSD_V1.aedt correctly loaded. Elapsed time: 0m 0sec\n"
     ]
    },
    {
     "name": "stdout",
     "output_type": "stream",
     "text": [
      "PyAEDT INFO: aedt file load time 0.04807734489440918\n"
     ]
    },
    {
     "name": "stdout",
     "output_type": "stream",
     "text": [
      "PyAEDT INFO: Loading Modeler.\n"
     ]
    },
    {
     "name": "stdout",
     "output_type": "stream",
     "text": [
      "PyAEDT INFO: Modeler loaded.\n"
     ]
    },
    {
     "name": "stdout",
     "output_type": "stream",
     "text": [
      "PyAEDT INFO: EDB loaded.\n"
     ]
    },
    {
     "name": "stdout",
     "output_type": "stream",
     "text": [
      "PyAEDT INFO: Layers loaded.\n"
     ]
    },
    {
     "name": "stdout",
     "output_type": "stream",
     "text": [
      "PyAEDT INFO: Primitives loaded.\n"
     ]
    },
    {
     "name": "stdout",
     "output_type": "stream",
     "text": [
      "PyAEDT INFO: Modeler class has been initialized! Elapsed time: 0m 0sec\n"
     ]
    },
    {
     "name": "stdout",
     "output_type": "stream",
     "text": [
      "PyAEDT INFO: PostProcessor class has been initialized! Elapsed time: 0m 0sec\n"
     ]
    },
    {
     "name": "stdout",
     "output_type": "stream",
     "text": [
      "PyAEDT INFO: Post class has been initialized! Elapsed time: 0m 0sec\n"
     ]
    },
    {
     "name": "stdout",
     "output_type": "stream",
     "text": [
      "PyAEDT INFO: Solution Data Correctly Loaded.\n"
     ]
    },
    {
     "data": {
      "image/png": "[encoded data removed]",
      "text/plain": [
       "<Figure size 2000x1000 with 1 Axes>"
      ]
     },
     "execution_count": 18,
     "metadata": {},
     "output_type": "execute_result"
    },
    {
     "data": {
      "image/png": "[encoded data removed]",
      "text/plain": [
       "<Figure size 2000x1000 with 1 Axes>"
      ]
     },
     "metadata": {},
     "output_type": "display_data"
    }
   ],
   "source": [
    "solutions = h3d.post.get_solution_data(expressions=\"Z(port1,port1)\")\n",
    "solutions.plot()"
   ]
  },
  {
   "cell_type": "markdown",
   "id": "59a930dd",
   "metadata": {},
   "source": [
    "## Shut Down Electronics Desktop"
   ]
  },
  {
   "cell_type": "code",
   "execution_count": 19,
   "id": "741efbbd",
   "metadata": {
    "execution": {
     "iopub.execute_input": "2024-08-22T15:12:28.865102Z",
     "iopub.status.busy": "2024-08-22T15:12:28.865102Z",
     "iopub.status.idle": "2024-08-22T15:12:32.859183Z",
     "shell.execute_reply": "2024-08-22T15:12:32.859183Z"
    }
   },
   "outputs": [
    {
     "name": "stdout",
     "output_type": "stream",
     "text": [
      "PyAEDT INFO: Desktop has been released and closed.\n"
     ]
    },
    {
     "data": {
      "text/plain": [
       "True"
      ]
     },
     "execution_count": 19,
     "metadata": {},
     "output_type": "execute_result"
    }
   ],
   "source": [
    "h3d.close_desktop()"
   ]
  },
  {
   "cell_type": "markdown",
   "id": "70806e9b",
   "metadata": {},
   "source": [
    "All project files are saved in the folder ``temp_file.dir``. If you've run this example as a Jupyter notbook you\n",
    "can retrieve those project files."
   ]
  }
 ],
 "metadata": {
  "jupytext": {
   "cell_metadata_filter": "-all",
   "main_language": "python",
   "notebook_metadata_filter": "-all",
   "text_representation": {
    "extension": ".py",
    "format_name": "light"
   }
  },
  "language_info": {
   "codemirror_mode": {
    "name": "ipython",
    "version": 3
   },
   "file_extension": ".py",
   "mimetype": "text/x-python",
   "name": "python",
   "nbconvert_exporter": "python",
   "pygments_lexer": "ipython3",
   "version": "3.10.11"
  }
 },
 "nbformat": 4,
 "nbformat_minor": 5
}
