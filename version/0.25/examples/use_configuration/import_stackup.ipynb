{
 "cells": [
  {
   "cell_type": "markdown",
   "id": "24d64e3e",
   "metadata": {},
   "source": [
    "# Import Stackup\n",
    "This example shows how to import stackup file."
   ]
  },
  {
   "cell_type": "markdown",
   "id": "7153e340",
   "metadata": {},
   "source": [
    "## Import the required packages"
   ]
  },
  {
   "cell_type": "code",
   "execution_count": 1,
   "id": "50465e5c",
   "metadata": {
    "execution": {
     "iopub.execute_input": "2024-08-22T15:10:44.746582Z",
     "iopub.status.busy": "2024-08-22T15:10:44.746582Z",
     "iopub.status.idle": "2024-08-22T15:10:45.684120Z",
     "shell.execute_reply": "2024-08-22T15:10:45.684120Z"
    }
   },
   "outputs": [
    {
     "name": "stdout",
     "output_type": "stream",
     "text": [
      "FutureWarning: Module 'pyaedt' has become an alias to the new package structure. Please update you imports to use the new architecture based on 'ansys.aedt.core'. In addition, some files have been renamed to follow the PEP 8 naming convention. The old structure and file names will be deprecated in future versions, see https://aedt.docs.pyansys.com/version/stable/release_1_0.html\n"
     ]
    }
   ],
   "source": [
    "import json\n",
    "from pathlib import Path\n",
    "import tempfile\n",
    "\n",
    "from IPython.display import display\n",
    "import pandas as pd\n",
    "from pyaedt.downloads import download_file\n",
    "\n",
    "from pyedb import Edb\n",
    "\n",
    "AEDT_VERSION = \"2024.2\"\n",
    "NG_MODE = False\n"
   ]
  },
  {
   "cell_type": "markdown",
   "id": "61dbdd09",
   "metadata": {},
   "source": [
    "Download the example PCB data."
   ]
  },
  {
   "cell_type": "code",
   "execution_count": 2,
   "id": "0ca0a698",
   "metadata": {
    "execution": {
     "iopub.execute_input": "2024-08-22T15:10:45.684120Z",
     "iopub.status.busy": "2024-08-22T15:10:45.684120Z",
     "iopub.status.idle": "2024-08-22T15:10:46.122104Z",
     "shell.execute_reply": "2024-08-22T15:10:46.122104Z"
    }
   },
   "outputs": [],
   "source": [
    "temp_folder = tempfile.TemporaryDirectory(suffix=\".ansys\")\n",
    "file_edb = download_file(source=\"edb/ANSYS-HSD_V1.aedb\", destination=temp_folder.name)"
   ]
  },
  {
   "cell_type": "markdown",
   "id": "9bcf95ca",
   "metadata": {},
   "source": [
    "## Load example layout."
   ]
  },
  {
   "cell_type": "code",
   "execution_count": 3,
   "id": "3ba50b09",
   "metadata": {
    "execution": {
     "iopub.execute_input": "2024-08-22T15:10:46.122104Z",
     "iopub.status.busy": "2024-08-22T15:10:46.122104Z",
     "iopub.status.idle": "2024-08-22T15:10:58.319817Z",
     "shell.execute_reply": "2024-08-22T15:10:58.319817Z"
    }
   },
   "outputs": [
    {
     "name": "stdout",
     "output_type": "stream",
     "text": [
      "PyAEDT INFO: Logger is initialized in EDB.\n"
     ]
    },
    {
     "name": "stdout",
     "output_type": "stream",
     "text": [
      "PyAEDT INFO: legacy v0.25.0\n"
     ]
    },
    {
     "name": "stdout",
     "output_type": "stream",
     "text": [
      "PyAEDT INFO: Python version 3.10.11 (tags/v3.10.11:7d4cc5a, Apr  5 2023, 00:38:17) [MSC v.1929 64 bit (AMD64)]\n"
     ]
    },
    {
     "name": "stdout",
     "output_type": "stream",
     "text": [
      "PyAEDT INFO: Database ANSYS-HSD_V1.aedb Opened in 2024.2\n"
     ]
    },
    {
     "name": "stdout",
     "output_type": "stream",
     "text": [
      "PyAEDT INFO: Cell main Opened\n"
     ]
    },
    {
     "name": "stdout",
     "output_type": "stream",
     "text": [
      "PyAEDT INFO: Builder was initialized.\n"
     ]
    },
    {
     "name": "stdout",
     "output_type": "stream",
     "text": [
      "PyAEDT INFO: EDB initialized.\n"
     ]
    }
   ],
   "source": [
    "edbapp = Edb(file_edb, edbversion=AEDT_VERSION)"
   ]
  },
  {
   "cell_type": "markdown",
   "id": "c4b59133",
   "metadata": {},
   "source": [
    "## Review original stackup definition"
   ]
  },
  {
   "cell_type": "markdown",
   "id": "e5970155",
   "metadata": {},
   "source": [
    "Get original stackup definition in a dictionary. Alternatively, stackup definition can be exported in a json file by\n",
    "edbapp.configuration.export()"
   ]
  },
  {
   "cell_type": "code",
   "execution_count": 4,
   "id": "2de4940b",
   "metadata": {
    "execution": {
     "iopub.execute_input": "2024-08-22T15:10:58.319817Z",
     "iopub.status.busy": "2024-08-22T15:10:58.319817Z",
     "iopub.status.idle": "2024-08-22T15:10:58.366691Z",
     "shell.execute_reply": "2024-08-22T15:10:58.366691Z"
    },
    "lines_to_next_cell": 2
   },
   "outputs": [
    {
     "name": "stdout",
     "output_type": "stream",
     "text": [
      "PyAEDT INFO: Getting data from layout database.\n"
     ]
    }
   ],
   "source": [
    "data_cfg = edbapp.configuration.get_data_from_db(stackup=True)"
   ]
  },
  {
   "cell_type": "code",
   "execution_count": 5,
   "id": "2bf137c1",
   "metadata": {
    "execution": {
     "iopub.execute_input": "2024-08-22T15:10:58.366691Z",
     "iopub.status.busy": "2024-08-22T15:10:58.366691Z",
     "iopub.status.idle": "2024-08-22T15:10:58.397957Z",
     "shell.execute_reply": "2024-08-22T15:10:58.397957Z"
    }
   },
   "outputs": [
    {
     "data": {
      "text/html": [
       "<div>\n",
       "<style scoped>\n",
       "    .dataframe tbody tr th:only-of-type {\n",
       "        vertical-align: middle;\n",
       "    }\n",
       "\n",
       "    .dataframe tbody tr th {\n",
       "        vertical-align: top;\n",
       "    }\n",
       "\n",
       "    .dataframe thead th {\n",
       "        text-align: right;\n",
       "    }\n",
       "</style>\n",
       "<table border=\"1\" class=\"dataframe\">\n",
       "  <thead>\n",
       "    <tr style=\"text-align: right;\">\n",
       "      <th></th>\n",
       "      <th>name</th>\n",
       "      <th>type</th>\n",
       "      <th>material</th>\n",
       "      <th>fill_material</th>\n",
       "      <th>thickness</th>\n",
       "    </tr>\n",
       "  </thead>\n",
       "  <tbody>\n",
       "    <tr>\n",
       "      <th>0</th>\n",
       "      <td>1_Top</td>\n",
       "      <td>signal</td>\n",
       "      <td>copper</td>\n",
       "      <td>Solder Resist</td>\n",
       "      <td>0.000035</td>\n",
       "    </tr>\n",
       "    <tr>\n",
       "      <th>1</th>\n",
       "      <td>DE1</td>\n",
       "      <td>dielectric</td>\n",
       "      <td>Megtron4</td>\n",
       "      <td></td>\n",
       "      <td>0.000100</td>\n",
       "    </tr>\n",
       "    <tr>\n",
       "      <th>2</th>\n",
       "      <td>Inner1(GND1)</td>\n",
       "      <td>signal</td>\n",
       "      <td>copper</td>\n",
       "      <td>Megtron4_2</td>\n",
       "      <td>0.000017</td>\n",
       "    </tr>\n",
       "    <tr>\n",
       "      <th>3</th>\n",
       "      <td>DE2</td>\n",
       "      <td>dielectric</td>\n",
       "      <td>Megtron4_2</td>\n",
       "      <td></td>\n",
       "      <td>0.000088</td>\n",
       "    </tr>\n",
       "    <tr>\n",
       "      <th>4</th>\n",
       "      <td>Inner2(PWR1)</td>\n",
       "      <td>signal</td>\n",
       "      <td>copper</td>\n",
       "      <td>Megtron4_2</td>\n",
       "      <td>0.000017</td>\n",
       "    </tr>\n",
       "    <tr>\n",
       "      <th>5</th>\n",
       "      <td>DE3</td>\n",
       "      <td>dielectric</td>\n",
       "      <td>Megtron4</td>\n",
       "      <td></td>\n",
       "      <td>0.000100</td>\n",
       "    </tr>\n",
       "    <tr>\n",
       "      <th>6</th>\n",
       "      <td>Inner3(Sig1)</td>\n",
       "      <td>signal</td>\n",
       "      <td>copper</td>\n",
       "      <td>Megtron4_3</td>\n",
       "      <td>0.000017</td>\n",
       "    </tr>\n",
       "    <tr>\n",
       "      <th>7</th>\n",
       "      <td>Megtron4-1mm</td>\n",
       "      <td>dielectric</td>\n",
       "      <td>Megtron4_3</td>\n",
       "      <td></td>\n",
       "      <td>0.001000</td>\n",
       "    </tr>\n",
       "    <tr>\n",
       "      <th>8</th>\n",
       "      <td>Inner4(Sig2)</td>\n",
       "      <td>signal</td>\n",
       "      <td>copper</td>\n",
       "      <td>Megtron4_3</td>\n",
       "      <td>0.000017</td>\n",
       "    </tr>\n",
       "    <tr>\n",
       "      <th>9</th>\n",
       "      <td>DE5</td>\n",
       "      <td>dielectric</td>\n",
       "      <td>Megtron4</td>\n",
       "      <td></td>\n",
       "      <td>0.000100</td>\n",
       "    </tr>\n",
       "    <tr>\n",
       "      <th>10</th>\n",
       "      <td>Inner5(PWR2)</td>\n",
       "      <td>signal</td>\n",
       "      <td>copper</td>\n",
       "      <td>Megtron4_2</td>\n",
       "      <td>0.000017</td>\n",
       "    </tr>\n",
       "    <tr>\n",
       "      <th>11</th>\n",
       "      <td>DE6</td>\n",
       "      <td>dielectric</td>\n",
       "      <td>Megtron4_2</td>\n",
       "      <td></td>\n",
       "      <td>0.000088</td>\n",
       "    </tr>\n",
       "    <tr>\n",
       "      <th>12</th>\n",
       "      <td>Inner6(GND2)</td>\n",
       "      <td>signal</td>\n",
       "      <td>copper</td>\n",
       "      <td>Megtron4_2</td>\n",
       "      <td>0.000017</td>\n",
       "    </tr>\n",
       "    <tr>\n",
       "      <th>13</th>\n",
       "      <td>DE7</td>\n",
       "      <td>dielectric</td>\n",
       "      <td>Megtron4</td>\n",
       "      <td></td>\n",
       "      <td>0.000100</td>\n",
       "    </tr>\n",
       "    <tr>\n",
       "      <th>14</th>\n",
       "      <td>16_Bottom</td>\n",
       "      <td>signal</td>\n",
       "      <td>copper</td>\n",
       "      <td>Solder Resist</td>\n",
       "      <td>0.000035</td>\n",
       "    </tr>\n",
       "    <tr>\n",
       "      <th>15</th>\n",
       "      <td>Measures</td>\n",
       "      <td>measure</td>\n",
       "      <td>NaN</td>\n",
       "      <td>NaN</td>\n",
       "      <td>NaN</td>\n",
       "    </tr>\n",
       "    <tr>\n",
       "      <th>16</th>\n",
       "      <td>SIwave Regions</td>\n",
       "      <td>siwavehfsssolverregions</td>\n",
       "      <td>NaN</td>\n",
       "      <td>NaN</td>\n",
       "      <td>NaN</td>\n",
       "    </tr>\n",
       "    <tr>\n",
       "      <th>17</th>\n",
       "      <td>Top Overlay</td>\n",
       "      <td>silkscreen</td>\n",
       "      <td>NaN</td>\n",
       "      <td>NaN</td>\n",
       "      <td>NaN</td>\n",
       "    </tr>\n",
       "    <tr>\n",
       "      <th>18</th>\n",
       "      <td>Top Solder</td>\n",
       "      <td>soldermask</td>\n",
       "      <td>NaN</td>\n",
       "      <td>NaN</td>\n",
       "      <td>NaN</td>\n",
       "    </tr>\n",
       "    <tr>\n",
       "      <th>19</th>\n",
       "      <td>Bottom Solder</td>\n",
       "      <td>soldermask</td>\n",
       "      <td>NaN</td>\n",
       "      <td>NaN</td>\n",
       "      <td>NaN</td>\n",
       "    </tr>\n",
       "    <tr>\n",
       "      <th>20</th>\n",
       "      <td>Bottom Overlay</td>\n",
       "      <td>silkscreen</td>\n",
       "      <td>NaN</td>\n",
       "      <td>NaN</td>\n",
       "      <td>NaN</td>\n",
       "    </tr>\n",
       "    <tr>\n",
       "      <th>21</th>\n",
       "      <td>Outline</td>\n",
       "      <td>outline</td>\n",
       "      <td>NaN</td>\n",
       "      <td>NaN</td>\n",
       "      <td>NaN</td>\n",
       "    </tr>\n",
       "    <tr>\n",
       "      <th>22</th>\n",
       "      <td>Rats</td>\n",
       "      <td>airlines</td>\n",
       "      <td>NaN</td>\n",
       "      <td>NaN</td>\n",
       "      <td>NaN</td>\n",
       "    </tr>\n",
       "    <tr>\n",
       "      <th>23</th>\n",
       "      <td>Errors</td>\n",
       "      <td>errors</td>\n",
       "      <td>NaN</td>\n",
       "      <td>NaN</td>\n",
       "      <td>NaN</td>\n",
       "    </tr>\n",
       "    <tr>\n",
       "      <th>24</th>\n",
       "      <td>Symbols</td>\n",
       "      <td>symbol</td>\n",
       "      <td>NaN</td>\n",
       "      <td>NaN</td>\n",
       "      <td>NaN</td>\n",
       "    </tr>\n",
       "    <tr>\n",
       "      <th>25</th>\n",
       "      <td>Postprocessing</td>\n",
       "      <td>postprocessing</td>\n",
       "      <td>NaN</td>\n",
       "      <td>NaN</td>\n",
       "      <td>NaN</td>\n",
       "    </tr>\n",
       "  </tbody>\n",
       "</table>\n",
       "</div>"
      ],
      "text/plain": [
       "              name                     type    material  fill_material  \\\n",
       "0            1_Top                   signal      copper  Solder Resist   \n",
       "1              DE1               dielectric    Megtron4                  \n",
       "2     Inner1(GND1)                   signal      copper     Megtron4_2   \n",
       "3              DE2               dielectric  Megtron4_2                  \n",
       "4     Inner2(PWR1)                   signal      copper     Megtron4_2   \n",
       "5              DE3               dielectric    Megtron4                  \n",
       "6     Inner3(Sig1)                   signal      copper     Megtron4_3   \n",
       "7     Megtron4-1mm               dielectric  Megtron4_3                  \n",
       "8     Inner4(Sig2)                   signal      copper     Megtron4_3   \n",
       "9              DE5               dielectric    Megtron4                  \n",
       "10    Inner5(PWR2)                   signal      copper     Megtron4_2   \n",
       "11             DE6               dielectric  Megtron4_2                  \n",
       "12    Inner6(GND2)                   signal      copper     Megtron4_2   \n",
       "13             DE7               dielectric    Megtron4                  \n",
       "14       16_Bottom                   signal      copper  Solder Resist   \n",
       "15        Measures                  measure         NaN            NaN   \n",
       "16  SIwave Regions  siwavehfsssolverregions         NaN            NaN   \n",
       "17     Top Overlay               silkscreen         NaN            NaN   \n",
       "18      Top Solder               soldermask         NaN            NaN   \n",
       "19   Bottom Solder               soldermask         NaN            NaN   \n",
       "20  Bottom Overlay               silkscreen         NaN            NaN   \n",
       "21         Outline                  outline         NaN            NaN   \n",
       "22            Rats                 airlines         NaN            NaN   \n",
       "23          Errors                   errors         NaN            NaN   \n",
       "24         Symbols                   symbol         NaN            NaN   \n",
       "25  Postprocessing           postprocessing         NaN            NaN   \n",
       "\n",
       "    thickness  \n",
       "0    0.000035  \n",
       "1    0.000100  \n",
       "2    0.000017  \n",
       "3    0.000088  \n",
       "4    0.000017  \n",
       "5    0.000100  \n",
       "6    0.000017  \n",
       "7    0.001000  \n",
       "8    0.000017  \n",
       "9    0.000100  \n",
       "10   0.000017  \n",
       "11   0.000088  \n",
       "12   0.000017  \n",
       "13   0.000100  \n",
       "14   0.000035  \n",
       "15        NaN  \n",
       "16        NaN  \n",
       "17        NaN  \n",
       "18        NaN  \n",
       "19        NaN  \n",
       "20        NaN  \n",
       "21        NaN  \n",
       "22        NaN  \n",
       "23        NaN  \n",
       "24        NaN  \n",
       "25        NaN  "
      ]
     },
     "metadata": {},
     "output_type": "display_data"
    }
   ],
   "source": [
    "df = pd.DataFrame(data=data_cfg[\"stackup\"][\"layers\"])\n",
    "display(df)"
   ]
  },
  {
   "cell_type": "markdown",
   "id": "f1b20e18",
   "metadata": {},
   "source": [
    "## Modify stackup"
   ]
  },
  {
   "cell_type": "markdown",
   "id": "7d0d407a",
   "metadata": {},
   "source": [
    "Modify top layer thickness"
   ]
  },
  {
   "cell_type": "code",
   "execution_count": 6,
   "id": "df79f3c0",
   "metadata": {
    "execution": {
     "iopub.execute_input": "2024-08-22T15:10:58.397957Z",
     "iopub.status.busy": "2024-08-22T15:10:58.397957Z",
     "iopub.status.idle": "2024-08-22T15:10:58.413580Z",
     "shell.execute_reply": "2024-08-22T15:10:58.413580Z"
    }
   },
   "outputs": [],
   "source": [
    "data_cfg[\"stackup\"][\"layers\"][0][\"thickness\"] = 0.00005"
   ]
  },
  {
   "cell_type": "markdown",
   "id": "5d2e503b",
   "metadata": {},
   "source": [
    "Add a solder mask layer"
   ]
  },
  {
   "cell_type": "code",
   "execution_count": 7,
   "id": "0e14cf6b",
   "metadata": {
    "execution": {
     "iopub.execute_input": "2024-08-22T15:10:58.417400Z",
     "iopub.status.busy": "2024-08-22T15:10:58.417400Z",
     "iopub.status.idle": "2024-08-22T15:10:58.429465Z",
     "shell.execute_reply": "2024-08-22T15:10:58.429465Z"
    }
   },
   "outputs": [],
   "source": [
    "data_cfg[\"stackup\"][\"layers\"].insert(\n",
    "    0, {\"name\": \"soler_mask\", \"type\": \"dielectric\", \"material\": \"Megtron4\", \"fill_material\": \"\", \"thickness\": 0.00002}\n",
    ")"
   ]
  },
  {
   "cell_type": "markdown",
   "id": "7beea33b",
   "metadata": {},
   "source": [
    "Review modified stackup"
   ]
  },
  {
   "cell_type": "code",
   "execution_count": 8,
   "id": "5f376acd",
   "metadata": {
    "execution": {
     "iopub.execute_input": "2024-08-22T15:10:58.429465Z",
     "iopub.status.busy": "2024-08-22T15:10:58.429465Z",
     "iopub.status.idle": "2024-08-22T15:10:58.445104Z",
     "shell.execute_reply": "2024-08-22T15:10:58.445104Z"
    }
   },
   "outputs": [
    {
     "data": {
      "text/html": [
       "<div>\n",
       "<style scoped>\n",
       "    .dataframe tbody tr th:only-of-type {\n",
       "        vertical-align: middle;\n",
       "    }\n",
       "\n",
       "    .dataframe tbody tr th {\n",
       "        vertical-align: top;\n",
       "    }\n",
       "\n",
       "    .dataframe thead th {\n",
       "        text-align: right;\n",
       "    }\n",
       "</style>\n",
       "<table border=\"1\" class=\"dataframe\">\n",
       "  <thead>\n",
       "    <tr style=\"text-align: right;\">\n",
       "      <th></th>\n",
       "      <th>name</th>\n",
       "      <th>type</th>\n",
       "      <th>material</th>\n",
       "      <th>fill_material</th>\n",
       "      <th>thickness</th>\n",
       "    </tr>\n",
       "  </thead>\n",
       "  <tbody>\n",
       "    <tr>\n",
       "      <th>0</th>\n",
       "      <td>soler_mask</td>\n",
       "      <td>dielectric</td>\n",
       "      <td>Megtron4</td>\n",
       "      <td></td>\n",
       "      <td>0.00002</td>\n",
       "    </tr>\n",
       "    <tr>\n",
       "      <th>1</th>\n",
       "      <td>1_Top</td>\n",
       "      <td>signal</td>\n",
       "      <td>copper</td>\n",
       "      <td>Solder Resist</td>\n",
       "      <td>0.00005</td>\n",
       "    </tr>\n",
       "    <tr>\n",
       "      <th>2</th>\n",
       "      <td>DE1</td>\n",
       "      <td>dielectric</td>\n",
       "      <td>Megtron4</td>\n",
       "      <td></td>\n",
       "      <td>0.00010</td>\n",
       "    </tr>\n",
       "  </tbody>\n",
       "</table>\n",
       "</div>"
      ],
      "text/plain": [
       "         name        type  material  fill_material  thickness\n",
       "0  soler_mask  dielectric  Megtron4                   0.00002\n",
       "1       1_Top      signal    copper  Solder Resist    0.00005\n",
       "2         DE1  dielectric  Megtron4                   0.00010"
      ]
     },
     "metadata": {},
     "output_type": "display_data"
    }
   ],
   "source": [
    "df = pd.DataFrame(data=data_cfg[\"stackup\"][\"layers\"])\n",
    "display(df.head(3))"
   ]
  },
  {
   "cell_type": "markdown",
   "id": "6633c156",
   "metadata": {},
   "source": [
    "Write stackup definition into a json file"
   ]
  },
  {
   "cell_type": "code",
   "execution_count": 9,
   "id": "73b3f5a7",
   "metadata": {
    "execution": {
     "iopub.execute_input": "2024-08-22T15:10:58.445104Z",
     "iopub.status.busy": "2024-08-22T15:10:58.445104Z",
     "iopub.status.idle": "2024-08-22T15:10:58.460780Z",
     "shell.execute_reply": "2024-08-22T15:10:58.460780Z"
    },
    "lines_to_next_cell": 2
   },
   "outputs": [],
   "source": [
    "file_cfg = Path(temp_folder.name) / \"edb_configuration.json\"\n",
    "with open(file_cfg, \"w\") as f:\n",
    "    json.dump(data_cfg, f, indent=4, ensure_ascii=False)"
   ]
  },
  {
   "cell_type": "markdown",
   "id": "b89a4ac3",
   "metadata": {},
   "source": [
    "## Load stackup from json configuration file"
   ]
  },
  {
   "cell_type": "code",
   "execution_count": 10,
   "id": "be578451",
   "metadata": {
    "execution": {
     "iopub.execute_input": "2024-08-22T15:10:58.460780Z",
     "iopub.status.busy": "2024-08-22T15:10:58.460780Z",
     "iopub.status.idle": "2024-08-22T15:11:02.821504Z",
     "shell.execute_reply": "2024-08-22T15:11:02.821504Z"
    }
   },
   "outputs": [
    {
     "data": {
      "text/plain": [
       "<pyedb.configuration.cfg_data.CfgData at 0x1959e46e730>"
      ]
     },
     "execution_count": 10,
     "metadata": {},
     "output_type": "execute_result"
    }
   ],
   "source": [
    "edbapp.configuration.load(file_cfg, apply_file=True)"
   ]
  },
  {
   "cell_type": "markdown",
   "id": "a2315c3e",
   "metadata": {},
   "source": [
    "Plot stackup"
   ]
  },
  {
   "cell_type": "code",
   "execution_count": 11,
   "id": "affa02a3",
   "metadata": {
    "execution": {
     "iopub.execute_input": "2024-08-22T15:11:02.821504Z",
     "iopub.status.busy": "2024-08-22T15:11:02.821504Z",
     "iopub.status.idle": "2024-08-22T15:11:03.102754Z",
     "shell.execute_reply": "2024-08-22T15:11:03.102754Z"
    }
   },
   "outputs": [
    {
     "name": "stderr",
     "output_type": "stream",
     "text": [
      "C:\\actions-runner\\_work\\pyedb\\pyedb\\.venv\\lib\\site-packages\\pyedb\\dotnet\\edb_core\\stackup.py:2862: UserWarning: FigureCanvasAgg is non-interactive, and thus cannot be shown\n",
      "  plt.show()\n"
     ]
    },
    {
     "data": {
      "text/plain": [
       "<module 'matplotlib.pyplot' from 'C:\\\\actions-runner\\\\_work\\\\pyedb\\\\pyedb\\\\.venv\\\\lib\\\\site-packages\\\\matplotlib\\\\pyplot.py'>"
      ]
     },
     "execution_count": 11,
     "metadata": {},
     "output_type": "execute_result"
    }
   ],
   "source": [
    "edbapp.stackup.plot()"
   ]
  },
  {
   "cell_type": "markdown",
   "id": "be2d2a1b",
   "metadata": {},
   "source": [
    "Check top layer thickness"
   ]
  },
  {
   "cell_type": "code",
   "execution_count": 12,
   "id": "6222df20",
   "metadata": {
    "execution": {
     "iopub.execute_input": "2024-08-22T15:11:03.102754Z",
     "iopub.status.busy": "2024-08-22T15:11:03.102754Z",
     "iopub.status.idle": "2024-08-22T15:11:03.118330Z",
     "shell.execute_reply": "2024-08-22T15:11:03.118330Z"
    }
   },
   "outputs": [
    {
     "data": {
      "text/plain": [
       "5e-05"
      ]
     },
     "execution_count": 12,
     "metadata": {},
     "output_type": "execute_result"
    }
   ],
   "source": [
    "edbapp.stackup[\"1_Top\"].thickness"
   ]
  },
  {
   "cell_type": "markdown",
   "id": "45993717",
   "metadata": {},
   "source": [
    "## Cleanup"
   ]
  },
  {
   "cell_type": "code",
   "execution_count": 13,
   "id": "7b9a71d0",
   "metadata": {
    "execution": {
     "iopub.execute_input": "2024-08-22T15:11:03.118330Z",
     "iopub.status.busy": "2024-08-22T15:11:03.118330Z",
     "iopub.status.idle": "2024-08-22T15:11:03.212483Z",
     "shell.execute_reply": "2024-08-22T15:11:03.212483Z"
    }
   },
   "outputs": [
    {
     "data": {
      "text/plain": [
       "True"
      ]
     },
     "execution_count": 13,
     "metadata": {},
     "output_type": "execute_result"
    }
   ],
   "source": [
    "edbapp.close()"
   ]
  }
 ],
 "metadata": {
  "jupytext": {
   "cell_metadata_filter": "-all",
   "main_language": "python",
   "notebook_metadata_filter": "-all",
   "text_representation": {
    "extension": ".py",
    "format_name": "light"
   }
  },
  "language_info": {
   "codemirror_mode": {
    "name": "ipython",
    "version": 3
   },
   "file_extension": ".py",
   "mimetype": "text/x-python",
   "name": "python",
   "nbconvert_exporter": "python",
   "pygments_lexer": "ipython3",
   "version": "3.10.11"
  }
 },
 "nbformat": 4,
 "nbformat_minor": 5
}
