{
 "cells": [
  {
   "cell_type": "markdown",
   "id": "86fc6dd5",
   "metadata": {},
   "source": [
    "# Import Setup AC\n",
    "This example shows how to import SIwave, HFSS setups for AC analysis. In this example, we are going to\n",
    "\n",
    "- Download an example board\n",
    "- Create a configuration file\n",
    "  - add setups\n",
    "- Import the configuration file"
   ]
  },
  {
   "cell_type": "markdown",
   "id": "51c7b8ac",
   "metadata": {},
   "source": [
    "### Import the required packages"
   ]
  },
  {
   "cell_type": "code",
   "execution_count": 1,
   "id": "2865fa31",
   "metadata": {
    "execution": {
     "iopub.execute_input": "2024-08-22T15:10:25.002161Z",
     "iopub.status.busy": "2024-08-22T15:10:25.002161Z",
     "iopub.status.idle": "2024-08-22T15:10:25.533420Z",
     "shell.execute_reply": "2024-08-22T15:10:25.533420Z"
    }
   },
   "outputs": [
    {
     "name": "stdout",
     "output_type": "stream",
     "text": [
      "FutureWarning: Module 'pyaedt' has become an alias to the new package structure. Please update you imports to use the new architecture based on 'ansys.aedt.core'. In addition, some files have been renamed to follow the PEP 8 naming convention. The old structure and file names will be deprecated in future versions, see https://aedt.docs.pyansys.com/version/stable/release_1_0.html\n"
     ]
    }
   ],
   "source": [
    "import json\n",
    "from pathlib import Path\n",
    "import tempfile\n",
    "\n",
    "from pyaedt.downloads import download_file\n",
    "\n",
    "from pyedb import Edb\n",
    "\n",
    "AEDT_VERSION = \"2024.2\"\n",
    "NG_MODE = False\n"
   ]
  },
  {
   "cell_type": "markdown",
   "id": "1e3cb018",
   "metadata": {},
   "source": [
    "Download the example PCB data."
   ]
  },
  {
   "cell_type": "code",
   "execution_count": 2,
   "id": "7c1a98ad",
   "metadata": {
    "execution": {
     "iopub.execute_input": "2024-08-22T15:10:25.533420Z",
     "iopub.status.busy": "2024-08-22T15:10:25.533420Z",
     "iopub.status.idle": "2024-08-22T15:10:26.398579Z",
     "shell.execute_reply": "2024-08-22T15:10:26.398579Z"
    }
   },
   "outputs": [],
   "source": [
    "temp_folder = tempfile.TemporaryDirectory(suffix=\".ansys\")\n",
    "file_edb = download_file(source=\"edb/ANSYS-HSD_V1.aedb\", destination=temp_folder.name)"
   ]
  },
  {
   "cell_type": "markdown",
   "id": "912a12ca",
   "metadata": {},
   "source": [
    "## Load example layout."
   ]
  },
  {
   "cell_type": "code",
   "execution_count": 3,
   "id": "4e21dfea",
   "metadata": {
    "execution": {
     "iopub.execute_input": "2024-08-22T15:10:26.398579Z",
     "iopub.status.busy": "2024-08-22T15:10:26.398579Z",
     "iopub.status.idle": "2024-08-22T15:10:38.979857Z",
     "shell.execute_reply": "2024-08-22T15:10:38.979857Z"
    }
   },
   "outputs": [
    {
     "name": "stdout",
     "output_type": "stream",
     "text": [
      "PyAEDT INFO: Logger is initialized in EDB.\n"
     ]
    },
    {
     "name": "stdout",
     "output_type": "stream",
     "text": [
      "PyAEDT INFO: legacy v0.25.0\n"
     ]
    },
    {
     "name": "stdout",
     "output_type": "stream",
     "text": [
      "PyAEDT INFO: Python version 3.10.11 (tags/v3.10.11:7d4cc5a, Apr  5 2023, 00:38:17) [MSC v.1929 64 bit (AMD64)]\n"
     ]
    },
    {
     "name": "stdout",
     "output_type": "stream",
     "text": [
      "PyAEDT INFO: Database ANSYS-HSD_V1.aedb Opened in 2024.2\n"
     ]
    },
    {
     "name": "stdout",
     "output_type": "stream",
     "text": [
      "PyAEDT INFO: Cell main Opened\n"
     ]
    },
    {
     "name": "stdout",
     "output_type": "stream",
     "text": [
      "PyAEDT INFO: Builder was initialized.\n"
     ]
    },
    {
     "name": "stdout",
     "output_type": "stream",
     "text": [
      "PyAEDT INFO: EDB initialized.\n"
     ]
    }
   ],
   "source": [
    "edbapp = Edb(file_edb, edbversion=AEDT_VERSION)"
   ]
  },
  {
   "cell_type": "markdown",
   "id": "66441f89",
   "metadata": {},
   "source": [
    "## Create an empty dictionary to host all configurations."
   ]
  },
  {
   "cell_type": "code",
   "execution_count": 4,
   "id": "6a4c1f63",
   "metadata": {
    "execution": {
     "iopub.execute_input": "2024-08-22T15:10:38.979857Z",
     "iopub.status.busy": "2024-08-22T15:10:38.979857Z",
     "iopub.status.idle": "2024-08-22T15:10:38.995475Z",
     "shell.execute_reply": "2024-08-22T15:10:38.995475Z"
    }
   },
   "outputs": [],
   "source": [
    "cfg = dict()"
   ]
  },
  {
   "cell_type": "markdown",
   "id": "d01481a4",
   "metadata": {},
   "source": [
    "## Create an SIwave SYZ setup"
   ]
  },
  {
   "cell_type": "markdown",
   "id": "d92a53b5",
   "metadata": {},
   "source": [
    "Keywords\n",
    "\n",
    "- **name**. Name of the setup.\n",
    "- **type**. Type of the analysis setup. Supported types are 'siwave_ac', 'siwave_dc', 'hfss'.\n",
    "- **pi_slider_position**. PI slider position. Supported values are from '0', '1', '2'. 0:speed, 1:balanced,\n",
    "2:accuracy.\n",
    "- **freq_sweep**. List of frequency sweeps.\n",
    "  - **name**. Name of the sweep.\n",
    "  - **type**. Type of the sweep. Supported types are 'interpolation', 'discrete', 'broadband'.\n",
    "  - **frequencies**. Frequency distribution.\n",
    "    - **distribution**. Supported distributions are 'linear_count', 'linear_scale', 'log_scale'.\n",
    "    - **start**. Start frequency. Example, 1e6, \"1MHz\".\n",
    "    - **stop**. Stop frequency. Example, 1e9, \"1GHz\".\n",
    "    - **increment**."
   ]
  },
  {
   "cell_type": "code",
   "execution_count": 5,
   "id": "ec192888",
   "metadata": {
    "execution": {
     "iopub.execute_input": "2024-08-22T15:10:38.995475Z",
     "iopub.status.busy": "2024-08-22T15:10:38.995475Z",
     "iopub.status.idle": "2024-08-22T15:10:39.011101Z",
     "shell.execute_reply": "2024-08-22T15:10:39.011101Z"
    }
   },
   "outputs": [],
   "source": [
    "siwave_setup = {\n",
    "    \"name\": \"siwave_1\",\n",
    "    \"type\": \"siwave_ac\",\n",
    "    \"pi_slider_position\": 1,\n",
    "    \"freq_sweep\": [\n",
    "        {\n",
    "            \"name\": \"Sweep1\",\n",
    "            \"type\": \"interpolation\",\n",
    "            \"frequencies\": [{\"distribution\": \"log_scale\", \"start\": 1e6, \"stop\": 1e9, \"increment\": 20}],\n",
    "        }\n",
    "    ],\n",
    "}"
   ]
  },
  {
   "cell_type": "markdown",
   "id": "a8e224ca",
   "metadata": {},
   "source": [
    "## Create a HFSS setup"
   ]
  },
  {
   "cell_type": "markdown",
   "id": "aac8aba7",
   "metadata": {},
   "source": [
    "Keywords\n",
    "\n",
    "- **name**. Name of the setup.\n",
    "- **type**. Type of the analysis setup. Supported types are 'siwave_ac', 'siwave_dc', 'hfss'.\n",
    "- **f_adapt**. Adaptive frequency.\n",
    "- **max_num_passes**. Maximum number of passes.\n",
    "- **max_mag_delta_s**. Convergence criteria delta S.\n",
    "- **mesh_operations**. Mesh operations.\n",
    "    - **name**. Name of the mesh operation.\n",
    "    - **type**. Type of the mesh operation. The supported types are 'base', 'length', 'skin_depth'.\n",
    "    - **max_length**. Maximum length of elements.\n",
    "    - **restrict_length**. Whether to restrict length of elements.\n",
    "    - **refine_inside**. Whether to turn on refine inside objects.\n",
    "    - **nets_layers_list**. {'layer_name':['net_name_1', 'net_name_2']}\n",
    "- **freq_sweep**. List of frequency sweeps.\n",
    "  - **name**. Name of the sweep.\n",
    "  - **type**. Type of the sweep. Supported types are 'interpolation', 'discrete', 'broadband'.\n",
    "  - **frequencies**. Frequency distribution.\n",
    "    - **distribution**. Supported distributions are 'linear_count', 'linear_scale', 'log_scale'.\n",
    "    - **start**. Start frequency. Example, 1e6, \"1MHz\".\n",
    "    - **stop**. Stop frequency. Example, 1e9, \"1GHz\".\n",
    "    - **increment**."
   ]
  },
  {
   "cell_type": "code",
   "execution_count": 6,
   "id": "16f528ed",
   "metadata": {
    "execution": {
     "iopub.execute_input": "2024-08-22T15:10:39.011101Z",
     "iopub.status.busy": "2024-08-22T15:10:39.011101Z",
     "iopub.status.idle": "2024-08-22T15:10:39.026708Z",
     "shell.execute_reply": "2024-08-22T15:10:39.026708Z"
    }
   },
   "outputs": [],
   "source": [
    "hfss_setup = {\n",
    "    \"name\": \"hfss_1\",\n",
    "    \"type\": \"hfss\",\n",
    "    \"f_adapt\": \"5GHz\",\n",
    "    \"max_num_passes\": 10,\n",
    "    \"max_mag_delta_s\": 0.02,\n",
    "    \"mesh_operations\": [\n",
    "        {\n",
    "            \"name\": \"mop_1\",\n",
    "            \"type\": \"length\",\n",
    "            \"max_length\": \"3mm\",\n",
    "            \"restrict_length\": True,\n",
    "            \"refine_inside\": False,\n",
    "            \"nets_layers_list\": {\"GND\": [\"1_Top\", \"16_Bottom\"]},\n",
    "        }\n",
    "    ],\n",
    "    \"freq_sweep\": [\n",
    "        {\n",
    "            \"name\": \"Sweep1\",\n",
    "            \"type\": \"interpolation\",\n",
    "            \"frequencies\": [{\"distribution\": \"log_scale\", \"start\": 1e6, \"stop\": 1e9, \"increment\": 20}],\n",
    "        }\n",
    "    ],\n",
    "}"
   ]
  },
  {
   "cell_type": "markdown",
   "id": "75d00e0d",
   "metadata": {},
   "source": [
    "## Add setups in configuration"
   ]
  },
  {
   "cell_type": "code",
   "execution_count": 7,
   "id": "dbca354a",
   "metadata": {
    "execution": {
     "iopub.execute_input": "2024-08-22T15:10:39.026708Z",
     "iopub.status.busy": "2024-08-22T15:10:39.026708Z",
     "iopub.status.idle": "2024-08-22T15:10:39.042321Z",
     "shell.execute_reply": "2024-08-22T15:10:39.042321Z"
    }
   },
   "outputs": [],
   "source": [
    "cfg[\"setups\"] = [siwave_setup, hfss_setup]"
   ]
  },
  {
   "cell_type": "markdown",
   "id": "326330ff",
   "metadata": {},
   "source": [
    "## Write configuration into as json file"
   ]
  },
  {
   "cell_type": "code",
   "execution_count": 8,
   "id": "97c863e2",
   "metadata": {
    "execution": {
     "iopub.execute_input": "2024-08-22T15:10:39.042321Z",
     "iopub.status.busy": "2024-08-22T15:10:39.042321Z",
     "iopub.status.idle": "2024-08-22T15:10:39.057951Z",
     "shell.execute_reply": "2024-08-22T15:10:39.057951Z"
    }
   },
   "outputs": [],
   "source": [
    "file_json = Path(temp_folder.name) / \"edb_configuration.json\"\n",
    "with open(file_json, \"w\") as f:\n",
    "    json.dump(cfg, f, indent=4, ensure_ascii=False)"
   ]
  },
  {
   "cell_type": "markdown",
   "id": "b5607677",
   "metadata": {},
   "source": [
    "## Import configuration into example layout"
   ]
  },
  {
   "cell_type": "code",
   "execution_count": 9,
   "id": "fa5dead3",
   "metadata": {
    "execution": {
     "iopub.execute_input": "2024-08-22T15:10:39.057951Z",
     "iopub.status.busy": "2024-08-22T15:10:39.057951Z",
     "iopub.status.idle": "2024-08-22T15:10:39.354788Z",
     "shell.execute_reply": "2024-08-22T15:10:39.354788Z"
    }
   },
   "outputs": [
    {
     "data": {
      "text/plain": [
       "True"
      ]
     },
     "execution_count": 9,
     "metadata": {},
     "output_type": "execute_result"
    }
   ],
   "source": [
    "edbapp.configuration.load(config_file=file_json)\n",
    "edbapp.configuration.run()"
   ]
  },
  {
   "cell_type": "markdown",
   "id": "4e3d24cd",
   "metadata": {},
   "source": [
    "## Review"
   ]
  },
  {
   "cell_type": "code",
   "execution_count": 10,
   "id": "3b13a095",
   "metadata": {
    "execution": {
     "iopub.execute_input": "2024-08-22T15:10:39.354788Z",
     "iopub.status.busy": "2024-08-22T15:10:39.354788Z",
     "iopub.status.idle": "2024-08-22T15:10:39.370412Z",
     "shell.execute_reply": "2024-08-22T15:10:39.370412Z"
    }
   },
   "outputs": [
    {
     "data": {
      "text/plain": [
       "{'hfss_1': <pyedb.dotnet.edb_core.utilities.hfss_simulation_setup.HfssSimulationSetup at 0x2c51f363790>,\n",
       " 'siwave_1': <pyedb.dotnet.edb_core.utilities.siwave_simulation_setup.SiwaveSimulationSetup at 0x2c51f362c10>}"
      ]
     },
     "execution_count": 10,
     "metadata": {},
     "output_type": "execute_result"
    }
   ],
   "source": [
    "edbapp.setups"
   ]
  },
  {
   "cell_type": "markdown",
   "id": "6fadf9cb",
   "metadata": {},
   "source": [
    "## Save EDB"
   ]
  },
  {
   "cell_type": "code",
   "execution_count": 11,
   "id": "cd71448d",
   "metadata": {
    "execution": {
     "iopub.execute_input": "2024-08-22T15:10:39.370412Z",
     "iopub.status.busy": "2024-08-22T15:10:39.370412Z",
     "iopub.status.idle": "2024-08-22T15:10:39.495478Z",
     "shell.execute_reply": "2024-08-22T15:10:39.495478Z"
    }
   },
   "outputs": [
    {
     "name": "stdout",
     "output_type": "stream",
     "text": [
      "EDB is saved to C:\\Users\\ansys\\AppData\\Local\\Temp\\tmp0kb63z9u.ansys\\edb/ANSYS-HSD_V1.aedb\n"
     ]
    }
   ],
   "source": [
    "edbapp.save()\n",
    "print(f\"EDB is saved to {edbapp.edbpath}\")"
   ]
  },
  {
   "cell_type": "markdown",
   "id": "190ec131",
   "metadata": {},
   "source": [
    "## Close EDB"
   ]
  },
  {
   "cell_type": "code",
   "execution_count": 12,
   "id": "1d27515b",
   "metadata": {
    "execution": {
     "iopub.execute_input": "2024-08-22T15:10:39.495478Z",
     "iopub.status.busy": "2024-08-22T15:10:39.495478Z",
     "iopub.status.idle": "2024-08-22T15:10:39.589207Z",
     "shell.execute_reply": "2024-08-22T15:10:39.589207Z"
    }
   },
   "outputs": [
    {
     "data": {
      "text/plain": [
       "True"
      ]
     },
     "execution_count": 12,
     "metadata": {},
     "output_type": "execute_result"
    }
   ],
   "source": [
    "edbapp.close()"
   ]
  }
 ],
 "metadata": {
  "jupytext": {
   "cell_metadata_filter": "-all",
   "main_language": "python",
   "notebook_metadata_filter": "-all",
   "text_representation": {
    "extension": ".py",
    "format_name": "light"
   }
  },
  "language_info": {
   "codemirror_mode": {
    "name": "ipython",
    "version": 3
   },
   "file_extension": ".py",
   "mimetype": "text/x-python",
   "name": "python",
   "nbconvert_exporter": "python",
   "pygments_lexer": "ipython3",
   "version": "3.10.11"
  }
 },
 "nbformat": 4,
 "nbformat_minor": 5
}
