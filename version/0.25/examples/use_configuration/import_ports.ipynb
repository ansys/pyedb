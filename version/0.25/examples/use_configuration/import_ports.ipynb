{
 "cells": [
  {
   "cell_type": "markdown",
   "id": "c6c05124",
   "metadata": {},
   "source": [
    "# Import Ports\n",
    "This example shows how to import ports. In this example, we are going to\n",
    "\n",
    "- Download an example board\n",
    "- Create a configuration file\n",
    "  - Add a circuit port between two nets\n",
    "  - Add a circuit port between two pins\n",
    "  - Add a circuit port between two pin groups\n",
    "  - Add a circuit port between two coordinates\n",
    "  - Add a coax port\n",
    "  - Add a port reference to the neareast pin\n",
    "  - Add distributed ports\n",
    "- Import the configuration file"
   ]
  },
  {
   "cell_type": "markdown",
   "id": "345dc65c",
   "metadata": {},
   "source": [
    "## Import the required packages"
   ]
  },
  {
   "cell_type": "code",
   "execution_count": 1,
   "id": "181eca3c",
   "metadata": {
    "execution": {
     "iopub.execute_input": "2024-08-22T15:10:03.381548Z",
     "iopub.status.busy": "2024-08-22T15:10:03.381548Z",
     "iopub.status.idle": "2024-08-22T15:10:03.912769Z",
     "shell.execute_reply": "2024-08-22T15:10:03.912769Z"
    }
   },
   "outputs": [
    {
     "name": "stdout",
     "output_type": "stream",
     "text": [
      "FutureWarning: Module 'pyaedt' has become an alias to the new package structure. Please update you imports to use the new architecture based on 'ansys.aedt.core'. In addition, some files have been renamed to follow the PEP 8 naming convention. The old structure and file names will be deprecated in future versions, see https://aedt.docs.pyansys.com/version/stable/release_1_0.html\n"
     ]
    }
   ],
   "source": [
    "import json\n",
    "from pathlib import Path\n",
    "import tempfile\n",
    "\n",
    "from pyaedt.downloads import download_file\n",
    "\n",
    "from pyedb import Edb\n",
    "\n",
    "AEDT_VERSION = \"2024.2\"\n",
    "NG_MODE = False\n"
   ]
  },
  {
   "cell_type": "markdown",
   "id": "d4bfea4a",
   "metadata": {},
   "source": [
    "Download the example PCB data."
   ]
  },
  {
   "cell_type": "code",
   "execution_count": 2,
   "id": "60eb62d4",
   "metadata": {
    "execution": {
     "iopub.execute_input": "2024-08-22T15:10:03.912769Z",
     "iopub.status.busy": "2024-08-22T15:10:03.912769Z",
     "iopub.status.idle": "2024-08-22T15:10:04.670259Z",
     "shell.execute_reply": "2024-08-22T15:10:04.670259Z"
    }
   },
   "outputs": [],
   "source": [
    "temp_folder = tempfile.TemporaryDirectory(suffix=\".ansys\")\n",
    "file_edb = download_file(source=\"edb/ANSYS-HSD_V1.aedb\", destination=temp_folder.name)"
   ]
  },
  {
   "cell_type": "markdown",
   "id": "919a1344",
   "metadata": {},
   "source": [
    "## Load example layout"
   ]
  },
  {
   "cell_type": "code",
   "execution_count": 3,
   "id": "4624d633",
   "metadata": {
    "execution": {
     "iopub.execute_input": "2024-08-22T15:10:04.670259Z",
     "iopub.status.busy": "2024-08-22T15:10:04.670259Z",
     "iopub.status.idle": "2024-08-22T15:10:17.288832Z",
     "shell.execute_reply": "2024-08-22T15:10:17.288832Z"
    }
   },
   "outputs": [
    {
     "name": "stdout",
     "output_type": "stream",
     "text": [
      "PyAEDT INFO: Logger is initialized in EDB.\n"
     ]
    },
    {
     "name": "stdout",
     "output_type": "stream",
     "text": [
      "PyAEDT INFO: legacy v0.25.0\n"
     ]
    },
    {
     "name": "stdout",
     "output_type": "stream",
     "text": [
      "PyAEDT INFO: Python version 3.10.11 (tags/v3.10.11:7d4cc5a, Apr  5 2023, 00:38:17) [MSC v.1929 64 bit (AMD64)]\n"
     ]
    },
    {
     "name": "stdout",
     "output_type": "stream",
     "text": [
      "PyAEDT INFO: Database ANSYS-HSD_V1.aedb Opened in 2024.2\n"
     ]
    },
    {
     "name": "stdout",
     "output_type": "stream",
     "text": [
      "PyAEDT INFO: Cell main Opened\n"
     ]
    },
    {
     "name": "stdout",
     "output_type": "stream",
     "text": [
      "PyAEDT INFO: Builder was initialized.\n"
     ]
    },
    {
     "name": "stdout",
     "output_type": "stream",
     "text": [
      "PyAEDT INFO: EDB initialized.\n"
     ]
    }
   ],
   "source": [
    "edbapp = Edb(file_edb, edbversion=AEDT_VERSION)"
   ]
  },
  {
   "cell_type": "markdown",
   "id": "fdee6b7a",
   "metadata": {},
   "source": [
    "## Create an empty dictionary to host all configurations"
   ]
  },
  {
   "cell_type": "code",
   "execution_count": 4,
   "id": "037c55fd",
   "metadata": {
    "execution": {
     "iopub.execute_input": "2024-08-22T15:10:17.288832Z",
     "iopub.status.busy": "2024-08-22T15:10:17.288832Z",
     "iopub.status.idle": "2024-08-22T15:10:17.304466Z",
     "shell.execute_reply": "2024-08-22T15:10:17.304466Z"
    }
   },
   "outputs": [],
   "source": [
    "cfg = dict()"
   ]
  },
  {
   "cell_type": "markdown",
   "id": "e8741b7e",
   "metadata": {},
   "source": [
    "## Add a circuit port between two nets"
   ]
  },
  {
   "cell_type": "markdown",
   "id": "055f3941",
   "metadata": {},
   "source": [
    "Keywords\n",
    "\n",
    "- **name**. Name of the port.\n",
    "- **Reference_designator**. Reference designator of the component.\n",
    "- **type**. Type of the port. Supported types are 'circuit', 'coax'\n",
    "- **positve_terminal**. Positive terminal of the port. Supported types are 'net', 'pin', 'pin_group', 'coordinates'\n",
    "- **negative_terminal**. Negative terminal of the port. Supported types are 'net', 'pin', 'pin_group', 'coordinates',\n",
    "'nearest_pin'"
   ]
  },
  {
   "cell_type": "code",
   "execution_count": 5,
   "id": "1a0d263c",
   "metadata": {
    "execution": {
     "iopub.execute_input": "2024-08-22T15:10:17.304466Z",
     "iopub.status.busy": "2024-08-22T15:10:17.304466Z",
     "iopub.status.idle": "2024-08-22T15:10:17.320115Z",
     "shell.execute_reply": "2024-08-22T15:10:17.320115Z"
    }
   },
   "outputs": [],
   "source": [
    "port_1 = {\n",
    "    \"name\": \"port_1\",\n",
    "    \"reference_designator\": \"X1\",\n",
    "    \"type\": \"circuit\",\n",
    "    \"positive_terminal\": {\"net\": \"PCIe_Gen4_TX2_N\"},\n",
    "    \"negative_terminal\": {\"net\": \"GND\"},\n",
    "}"
   ]
  },
  {
   "cell_type": "markdown",
   "id": "7df87ba3",
   "metadata": {},
   "source": [
    "## Add a circuit port between two pins"
   ]
  },
  {
   "cell_type": "code",
   "execution_count": 6,
   "id": "4b8ab193",
   "metadata": {
    "execution": {
     "iopub.execute_input": "2024-08-22T15:10:17.320115Z",
     "iopub.status.busy": "2024-08-22T15:10:17.320115Z",
     "iopub.status.idle": "2024-08-22T15:10:17.335709Z",
     "shell.execute_reply": "2024-08-22T15:10:17.335709Z"
    }
   },
   "outputs": [],
   "source": [
    "port_2 = {\n",
    "    \"name\": \"port_2\",\n",
    "    \"reference_designator\": \"C375\",\n",
    "    \"type\": \"circuit\",\n",
    "    \"positive_terminal\": {\"pin\": \"1\"},\n",
    "    \"negative_terminal\": {\"pin\": \"2\"},\n",
    "}"
   ]
  },
  {
   "cell_type": "markdown",
   "id": "f5ba3e5d",
   "metadata": {},
   "source": [
    "## Add a circuit port between two pin groups"
   ]
  },
  {
   "cell_type": "code",
   "execution_count": 7,
   "id": "f908c271",
   "metadata": {
    "execution": {
     "iopub.execute_input": "2024-08-22T15:10:17.335709Z",
     "iopub.status.busy": "2024-08-22T15:10:17.335709Z",
     "iopub.status.idle": "2024-08-22T15:10:17.351360Z",
     "shell.execute_reply": "2024-08-22T15:10:17.351360Z"
    }
   },
   "outputs": [],
   "source": [
    "pin_groups = [\n",
    "    {\"name\": \"U9_5V_1\", \"reference_designator\": \"U9\", \"pins\": [\"32\", \"33\"]},\n",
    "    {\"name\": \"U9_GND\", \"reference_designator\": \"U9\", \"net\": \"GND\"},\n",
    "]"
   ]
  },
  {
   "cell_type": "code",
   "execution_count": 8,
   "id": "870c27c4",
   "metadata": {
    "execution": {
     "iopub.execute_input": "2024-08-22T15:10:17.351360Z",
     "iopub.status.busy": "2024-08-22T15:10:17.351360Z",
     "iopub.status.idle": "2024-08-22T15:10:17.366959Z",
     "shell.execute_reply": "2024-08-22T15:10:17.366959Z"
    }
   },
   "outputs": [],
   "source": [
    "port_3 = {\n",
    "    \"name\": \"port_3\",\n",
    "    \"type\": \"circuit\",\n",
    "    \"positive_terminal\": {\"pin_group\": \"U9_5V_1\"},\n",
    "    \"negative_terminal\": {\"pin_group\": \"U9_GND\"},\n",
    "}"
   ]
  },
  {
   "cell_type": "markdown",
   "id": "3759a497",
   "metadata": {},
   "source": [
    "## Add a circuit port between two coordinates"
   ]
  },
  {
   "cell_type": "markdown",
   "id": "14104fab",
   "metadata": {},
   "source": [
    "Keywords\n",
    "\n",
    "- **layer**. Layer on which the terminal is placed\n",
    "- **point**. XY coordinate the terminal is placed\n",
    "- **net**. Name of the net the terminal is placed on"
   ]
  },
  {
   "cell_type": "code",
   "execution_count": 9,
   "id": "5738c2b3",
   "metadata": {
    "execution": {
     "iopub.execute_input": "2024-08-22T15:10:17.366959Z",
     "iopub.status.busy": "2024-08-22T15:10:17.366959Z",
     "iopub.status.idle": "2024-08-22T15:10:17.382588Z",
     "shell.execute_reply": "2024-08-22T15:10:17.382588Z"
    }
   },
   "outputs": [],
   "source": [
    "port_4 = {\n",
    "    \"name\": \"port_4\",\n",
    "    \"positive_terminal\": {\"coordinates\": {\"layer\": \"1_Top\", \"point\": [\"104mm\", \"37mm\"], \"net\": \"AVCC_1V3\"}},\n",
    "    \"negative_terminal\": {\"coordinates\": {\"layer\": \"Inner6(GND2)\", \"point\": [\"104mm\", \"37mm\"], \"net\": \"GND\"}},\n",
    "}"
   ]
  },
  {
   "cell_type": "markdown",
   "id": "42037195",
   "metadata": {},
   "source": [
    "## Add a coax port"
   ]
  },
  {
   "cell_type": "code",
   "execution_count": 10,
   "id": "2a796932",
   "metadata": {
    "execution": {
     "iopub.execute_input": "2024-08-22T15:10:17.382588Z",
     "iopub.status.busy": "2024-08-22T15:10:17.382588Z",
     "iopub.status.idle": "2024-08-22T15:10:17.398237Z",
     "shell.execute_reply": "2024-08-22T15:10:17.398237Z"
    }
   },
   "outputs": [],
   "source": [
    "port_5 = {\"name\": \"port_5\", \"reference_designator\": \"U1\", \"type\": \"coax\", \"positive_terminal\": {\"pin\": \"AM17\"}}"
   ]
  },
  {
   "cell_type": "markdown",
   "id": "3a51d3f9",
   "metadata": {},
   "source": [
    "## Add a port reference to the neareast pin"
   ]
  },
  {
   "cell_type": "markdown",
   "id": "bdf16565",
   "metadata": {},
   "source": [
    "Keywords\n",
    "\n",
    "- **reference_net**. Name of the reference net\n",
    "- **search_radius**. Reference pin search radius in meter"
   ]
  },
  {
   "cell_type": "code",
   "execution_count": 11,
   "id": "765ec482",
   "metadata": {
    "execution": {
     "iopub.execute_input": "2024-08-22T15:10:17.398237Z",
     "iopub.status.busy": "2024-08-22T15:10:17.398237Z",
     "iopub.status.idle": "2024-08-22T15:10:17.413842Z",
     "shell.execute_reply": "2024-08-22T15:10:17.413842Z"
    }
   },
   "outputs": [],
   "source": [
    "port_6 = {\n",
    "    \"name\": \"port_6\",\n",
    "    \"reference_designator\": \"U15\",\n",
    "    \"type\": \"circuit\",\n",
    "    \"positive_terminal\": {\"pin\": \"D7\"},\n",
    "    \"negative_terminal\": {\"nearest_pin\": {\"reference_net\": \"GND\", \"search_radius\": 5e-3}},\n",
    "}"
   ]
  },
  {
   "cell_type": "markdown",
   "id": "5ff7c541",
   "metadata": {},
   "source": [
    "## Add distributed ports"
   ]
  },
  {
   "cell_type": "markdown",
   "id": "6cc94ba7",
   "metadata": {},
   "source": [
    "Keywords\n",
    "\n",
    "- **distributed**. Whether to create distributed ports. When set to True, ports are created per pin"
   ]
  },
  {
   "cell_type": "code",
   "execution_count": 12,
   "id": "c366a83e",
   "metadata": {
    "execution": {
     "iopub.execute_input": "2024-08-22T15:10:17.413842Z",
     "iopub.status.busy": "2024-08-22T15:10:17.413842Z",
     "iopub.status.idle": "2024-08-22T15:10:17.429467Z",
     "shell.execute_reply": "2024-08-22T15:10:17.429467Z"
    }
   },
   "outputs": [],
   "source": [
    "ports_distributed = {\n",
    "    \"name\": \"ports_d\",\n",
    "    \"reference_designator\": \"U7\",\n",
    "    \"type\": \"circuit\",\n",
    "    \"distributed\": True,\n",
    "    \"positive_terminal\": {\"net\": \"VDD_DDR\"},\n",
    "    \"negative_terminal\": {\"net\": \"GND\"},\n",
    "}"
   ]
  },
  {
   "cell_type": "markdown",
   "id": "50360dc1",
   "metadata": {},
   "source": [
    "## Add setups in configuration"
   ]
  },
  {
   "cell_type": "code",
   "execution_count": 13,
   "id": "e6fe1c88",
   "metadata": {
    "execution": {
     "iopub.execute_input": "2024-08-22T15:10:17.429467Z",
     "iopub.status.busy": "2024-08-22T15:10:17.429467Z",
     "iopub.status.idle": "2024-08-22T15:10:17.445087Z",
     "shell.execute_reply": "2024-08-22T15:10:17.445087Z"
    }
   },
   "outputs": [],
   "source": [
    "cfg[\"pin_groups\"] = pin_groups\n",
    "cfg[\"ports\"] = [port_1, port_2, port_3, port_4, port_5, port_6, ports_distributed]"
   ]
  },
  {
   "cell_type": "markdown",
   "id": "4645a24e",
   "metadata": {},
   "source": [
    "## Write configuration into as json file"
   ]
  },
  {
   "cell_type": "code",
   "execution_count": 14,
   "id": "fd18b4c1",
   "metadata": {
    "execution": {
     "iopub.execute_input": "2024-08-22T15:10:17.445087Z",
     "iopub.status.busy": "2024-08-22T15:10:17.445087Z",
     "iopub.status.idle": "2024-08-22T15:10:17.460723Z",
     "shell.execute_reply": "2024-08-22T15:10:17.460723Z"
    }
   },
   "outputs": [],
   "source": [
    "file_json = Path(temp_folder.name) / \"edb_configuration.json\"\n",
    "with open(file_json, \"w\") as f:\n",
    "    json.dump(cfg, f, indent=4, ensure_ascii=False)"
   ]
  },
  {
   "cell_type": "markdown",
   "id": "87908c16",
   "metadata": {},
   "source": [
    "## Import configuration into example layout"
   ]
  },
  {
   "cell_type": "code",
   "execution_count": 15,
   "id": "88a2bfaa",
   "metadata": {
    "execution": {
     "iopub.execute_input": "2024-08-22T15:10:17.460723Z",
     "iopub.status.busy": "2024-08-22T15:10:17.460723Z",
     "iopub.status.idle": "2024-08-22T15:10:19.226372Z",
     "shell.execute_reply": "2024-08-22T15:10:19.226372Z"
    }
   },
   "outputs": [
    {
     "data": {
      "text/plain": [
       "True"
      ]
     },
     "execution_count": 15,
     "metadata": {},
     "output_type": "execute_result"
    }
   ],
   "source": [
    "edbapp.configuration.load(config_file=file_json)\n",
    "edbapp.configuration.run()"
   ]
  },
  {
   "cell_type": "markdown",
   "id": "0c79734b",
   "metadata": {},
   "source": [
    "## Review"
   ]
  },
  {
   "cell_type": "code",
   "execution_count": 16,
   "id": "3027e798",
   "metadata": {
    "execution": {
     "iopub.execute_input": "2024-08-22T15:10:19.226372Z",
     "iopub.status.busy": "2024-08-22T15:10:19.226372Z",
     "iopub.status.idle": "2024-08-22T15:10:19.257631Z",
     "shell.execute_reply": "2024-08-22T15:10:19.257631Z"
    }
   },
   "outputs": [
    {
     "data": {
      "text/plain": [
       "{'port_1': <pyedb.dotnet.edb_core.edb_data.ports.CircuitPort at 0x1f84ded7480>,\n",
       " 'port_2': <pyedb.dotnet.edb_core.edb_data.ports.CircuitPort at 0x1f84ded5080>,\n",
       " 'port_3': <pyedb.dotnet.edb_core.edb_data.ports.CircuitPort at 0x1f84ded7cc0>,\n",
       " 'port_4': <pyedb.dotnet.edb_core.edb_data.ports.GapPort at 0x1f84ded8700>,\n",
       " 'port_5': <pyedb.dotnet.edb_core.edb_data.ports.CoaxPort at 0x1f84ded9f00>,\n",
       " 'port_6': <pyedb.dotnet.edb_core.edb_data.ports.CircuitPort at 0x1f84dee19c0>,\n",
       " 'U7_VDD_DDR_T9': <pyedb.dotnet.edb_core.edb_data.ports.CircuitPort at 0x1f84dee2900>,\n",
       " 'U7_VDD_DDR_R1': <pyedb.dotnet.edb_core.edb_data.ports.CircuitPort at 0x1f84dee2a40>,\n",
       " 'U7_VDD_DDR_L9': <pyedb.dotnet.edb_core.edb_data.ports.CircuitPort at 0x1f84dee3740>,\n",
       " 'U7_VDD_DDR_L1': <pyedb.dotnet.edb_core.edb_data.ports.CircuitPort at 0x1f84dee34c0>,\n",
       " 'U7_VDD_DDR_J9': <pyedb.dotnet.edb_core.edb_data.ports.CircuitPort at 0x1f84dee4e00>,\n",
       " 'U7_VDD_DDR_J8': <pyedb.dotnet.edb_core.edb_data.ports.CircuitPort at 0x1f84dee41c0>,\n",
       " 'U7_VDD_DDR_J2': <pyedb.dotnet.edb_core.edb_data.ports.CircuitPort at 0x1f84dee4640>,\n",
       " 'U7_VDD_DDR_J1': <pyedb.dotnet.edb_core.edb_data.ports.CircuitPort at 0x1f84dee5840>,\n",
       " 'U7_VDD_DDR_G9': <pyedb.dotnet.edb_core.edb_data.ports.CircuitPort at 0x1f84dee5280>,\n",
       " 'U7_VDD_DDR_G7': <pyedb.dotnet.edb_core.edb_data.ports.CircuitPort at 0x1f84dee6040>,\n",
       " 'U7_VDD_DDR_G1': <pyedb.dotnet.edb_core.edb_data.ports.CircuitPort at 0x1f84dee66c0>,\n",
       " 'U7_VDD_DDR_F8': <pyedb.dotnet.edb_core.edb_data.ports.CircuitPort at 0x1f84dee6fc0>,\n",
       " 'U7_VDD_DDR_F2': <pyedb.dotnet.edb_core.edb_data.ports.CircuitPort at 0x1f84dee6c00>,\n",
       " 'U7_VDD_DDR_D9': <pyedb.dotnet.edb_core.edb_data.ports.CircuitPort at 0x1f84dee7880>,\n",
       " 'U7_VDD_DDR_D1': <pyedb.dotnet.edb_core.edb_data.ports.CircuitPort at 0x1f84dee8dc0>,\n",
       " 'U7_VDD_DDR_C1': <pyedb.dotnet.edb_core.edb_data.ports.CircuitPort at 0x1f84dee8a00>,\n",
       " 'U7_VDD_DDR_B9': <pyedb.dotnet.edb_core.edb_data.ports.CircuitPort at 0x1f84dee8300>,\n",
       " 'U7_VDD_DDR_B3': <pyedb.dotnet.edb_core.edb_data.ports.CircuitPort at 0x1f84dee96c0>,\n",
       " 'U7_VDD_DDR_A9': <pyedb.dotnet.edb_core.edb_data.ports.CircuitPort at 0x1f84deea480>,\n",
       " 'U7_VDD_DDR_A1': <pyedb.dotnet.edb_core.edb_data.ports.CircuitPort at 0x1f84deeae00>}"
      ]
     },
     "execution_count": 16,
     "metadata": {},
     "output_type": "execute_result"
    }
   ],
   "source": [
    "edbapp.ports"
   ]
  },
  {
   "cell_type": "markdown",
   "id": "3fe2a7be",
   "metadata": {},
   "source": [
    "## Save EDB"
   ]
  },
  {
   "cell_type": "code",
   "execution_count": 17,
   "id": "ecd1b9eb",
   "metadata": {
    "execution": {
     "iopub.execute_input": "2024-08-22T15:10:19.257631Z",
     "iopub.status.busy": "2024-08-22T15:10:19.257631Z",
     "iopub.status.idle": "2024-08-22T15:10:19.382634Z",
     "shell.execute_reply": "2024-08-22T15:10:19.382634Z"
    }
   },
   "outputs": [
    {
     "name": "stdout",
     "output_type": "stream",
     "text": [
      "EDB is saved to C:\\Users\\ansys\\AppData\\Local\\Temp\\tmpcq21gydd.ansys\\edb/ANSYS-HSD_V1.aedb\n"
     ]
    }
   ],
   "source": [
    "edbapp.save()\n",
    "print(f\"EDB is saved to {edbapp.edbpath}\")"
   ]
  },
  {
   "cell_type": "markdown",
   "id": "0a044515",
   "metadata": {},
   "source": [
    "## Close EDB"
   ]
  },
  {
   "cell_type": "code",
   "execution_count": 18,
   "id": "05e2d50f",
   "metadata": {
    "execution": {
     "iopub.execute_input": "2024-08-22T15:10:19.382634Z",
     "iopub.status.busy": "2024-08-22T15:10:19.382634Z",
     "iopub.status.idle": "2024-08-22T15:10:19.491997Z",
     "shell.execute_reply": "2024-08-22T15:10:19.491997Z"
    }
   },
   "outputs": [
    {
     "data": {
      "text/plain": [
       "True"
      ]
     },
     "execution_count": 18,
     "metadata": {},
     "output_type": "execute_result"
    }
   ],
   "source": [
    "edbapp.close()"
   ]
  }
 ],
 "metadata": {
  "jupytext": {
   "cell_metadata_filter": "-all",
   "main_language": "python",
   "notebook_metadata_filter": "-all",
   "text_representation": {
    "extension": ".py",
    "format_name": "light"
   }
  },
  "language_info": {
   "codemirror_mode": {
    "name": "ipython",
    "version": 3
   },
   "file_extension": ".py",
   "mimetype": "text/x-python",
   "name": "python",
   "nbconvert_exporter": "python",
   "pygments_lexer": "ipython3",
   "version": "3.10.11"
  }
 },
 "nbformat": 4,
 "nbformat_minor": 5
}
