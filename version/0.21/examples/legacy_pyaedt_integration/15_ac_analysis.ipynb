{
 "cells": [
  {
   "cell_type": "markdown",
   "id": "029d53e8",
   "metadata": {},
   "source": [
    "# EDB: Network Analysis in SIwave\n",
    "\n",
    "This example shows how to use PyAEDT to set up SYZ analysis on a\n",
    "[serdes](https://en.wikipedia.org/wiki/SerDes) channel.\n",
    "The signal input is applied differetially. The positive net is _\"PCIe_Gen4_TX3_CAP_P\"_.\n",
    "The negative net is _\"PCIe_Gen4_TX3_CAP_N\"_. In this example, ports are placed on the\n",
    "driver and\n",
    "receiver components."
   ]
  },
  {
   "cell_type": "markdown",
   "id": "6d3203e5",
   "metadata": {},
   "source": [
    "### Perform required imports\n",
    "\n",
    "Perform required imports, which includes importing a section."
   ]
  },
  {
   "cell_type": "code",
   "execution_count": 1,
   "id": "1a71d98f",
   "metadata": {
    "execution": {
     "iopub.execute_input": "2024-07-18T13:51:14.915380Z",
     "iopub.status.busy": "2024-07-18T13:51:14.915380Z",
     "iopub.status.idle": "2024-07-18T13:51:14.946574Z",
     "shell.execute_reply": "2024-07-18T13:51:14.946574Z"
    }
   },
   "outputs": [],
   "source": [
    "import tempfile\n",
    "import time"
   ]
  },
  {
   "cell_type": "code",
   "execution_count": 2,
   "id": "b1b31dc9",
   "metadata": {
    "execution": {
     "iopub.execute_input": "2024-07-18T13:51:14.946574Z",
     "iopub.status.busy": "2024-07-18T13:51:14.946574Z",
     "iopub.status.idle": "2024-07-18T13:51:15.509114Z",
     "shell.execute_reply": "2024-07-18T13:51:15.509114Z"
    }
   },
   "outputs": [],
   "source": [
    "import pyaedt"
   ]
  },
  {
   "cell_type": "code",
   "execution_count": 3,
   "id": "810bb773",
   "metadata": {
    "execution": {
     "iopub.execute_input": "2024-07-18T13:51:15.509114Z",
     "iopub.status.busy": "2024-07-18T13:51:15.509114Z",
     "iopub.status.idle": "2024-07-18T13:51:15.540334Z",
     "shell.execute_reply": "2024-07-18T13:51:15.540334Z"
    }
   },
   "outputs": [],
   "source": [
    "import pyedb\n",
    "from pyedb.misc.downloads import download_file"
   ]
  },
  {
   "cell_type": "markdown",
   "id": "b77df9b4",
   "metadata": {},
   "source": [
    "### Download file\n",
    "\n",
    "Download the AEDB file and copy it in the temporary folder."
   ]
  },
  {
   "cell_type": "code",
   "execution_count": 4,
   "id": "ed8d966b",
   "metadata": {
    "execution": {
     "iopub.execute_input": "2024-07-18T13:51:15.540334Z",
     "iopub.status.busy": "2024-07-18T13:51:15.540334Z",
     "iopub.status.idle": "2024-07-18T13:51:21.392530Z",
     "shell.execute_reply": "2024-07-18T13:51:21.392530Z"
    }
   },
   "outputs": [
    {
     "name": "stdout",
     "output_type": "stream",
     "text": [
      "C:\\Users\\ansys\\AppData\\Local\\Temp\\tmpch18w79t.ansys\\edb/ANSYS-HSD_V1.aedb\n"
     ]
    }
   ],
   "source": [
    "temp_dir = tempfile.TemporaryDirectory(suffix=\".ansys\")\n",
    "edb_full_path = download_file(\"edb/ANSYS-HSD_V1.aedb\", destination=temp_dir.name)\n",
    "time.sleep(5)\n",
    "\n",
    "print(edb_full_path)"
   ]
  },
  {
   "cell_type": "markdown",
   "id": "2be318aa",
   "metadata": {},
   "source": [
    "### Configure EDB\n",
    "\n",
    "Create an instance of the ``pyedb.Edb`` class."
   ]
  },
  {
   "cell_type": "code",
   "execution_count": 5,
   "id": "14df742a",
   "metadata": {
    "execution": {
     "iopub.execute_input": "2024-07-18T13:51:21.392530Z",
     "iopub.status.busy": "2024-07-18T13:51:21.392530Z",
     "iopub.status.idle": "2024-07-18T13:51:33.067279Z",
     "shell.execute_reply": "2024-07-18T13:51:33.067279Z"
    }
   },
   "outputs": [
    {
     "name": "stdout",
     "output_type": "stream",
     "text": [
      "EDB version: 2024.1\n"
     ]
    },
    {
     "name": "stdout",
     "output_type": "stream",
     "text": [
      "PyAEDT INFO: Logger is initialized in EDB.\n"
     ]
    },
    {
     "name": "stdout",
     "output_type": "stream",
     "text": [
      "PyAEDT INFO: legacy v0.21.1\n"
     ]
    },
    {
     "name": "stdout",
     "output_type": "stream",
     "text": [
      "PyAEDT INFO: Python version 3.10.11 (tags/v3.10.11:7d4cc5a, Apr  5 2023, 00:38:17) [MSC v.1929 64 bit (AMD64)]\n"
     ]
    },
    {
     "name": "stdout",
     "output_type": "stream",
     "text": [
      "PyAEDT INFO: Database ANSYS-HSD_V1.aedb Opened in 2024.1\n"
     ]
    },
    {
     "name": "stdout",
     "output_type": "stream",
     "text": [
      "PyAEDT INFO: Cell main Opened\n"
     ]
    },
    {
     "name": "stdout",
     "output_type": "stream",
     "text": [
      "PyAEDT INFO: Builder was initialized.\n"
     ]
    },
    {
     "name": "stdout",
     "output_type": "stream",
     "text": [
      "PyAEDT INFO: EDB initialized.\n"
     ]
    }
   ],
   "source": [
    "# Select EDB version (change it manually if needed, e.g. \"2024.1\")\n",
    "edb_version = \"2024.1\"\n",
    "print(f\"EDB version: {edb_version}\")\n",
    "\n",
    "edbapp = pyedb.Edb(edbpath=edb_full_path, edbversion=edb_version)"
   ]
  },
  {
   "cell_type": "markdown",
   "id": "5cc92239",
   "metadata": {},
   "source": [
    "### Generate extended nets\n",
    "\n",
    "An extended net consists of two nets that are connected\n",
    "through a passive component such as a resistor or capacitor."
   ]
  },
  {
   "cell_type": "code",
   "execution_count": 6,
   "id": "87fd42b4",
   "metadata": {
    "execution": {
     "iopub.execute_input": "2024-07-18T13:51:33.067279Z",
     "iopub.status.busy": "2024-07-18T13:51:33.067279Z",
     "iopub.status.idle": "2024-07-18T13:51:34.301666Z",
     "shell.execute_reply": "2024-07-18T13:51:34.301666Z"
    }
   },
   "outputs": [],
   "source": [
    "all_nets = edbapp.extended_nets.auto_identify_signal(resistor_below=10, inductor_below=1, capacitor_above=1e-9)"
   ]
  },
  {
   "cell_type": "markdown",
   "id": "ef31917c",
   "metadata": {},
   "source": [
    "Review the properties of extended nets."
   ]
  },
  {
   "cell_type": "code",
   "execution_count": 7,
   "id": "c7d64c89",
   "metadata": {
    "execution": {
     "iopub.execute_input": "2024-07-18T13:51:34.301666Z",
     "iopub.status.busy": "2024-07-18T13:51:34.301666Z",
     "iopub.status.idle": "2024-07-18T13:51:34.332917Z",
     "shell.execute_reply": "2024-07-18T13:51:34.332917Z"
    }
   },
   "outputs": [
    {
     "name": "stdout",
     "output_type": "stream",
     "text": [
      "['U1', 'C379', 'X1']\n",
      "['C379']\n",
      "['U1', 'C380', 'X1']\n",
      "['C380']\n"
     ]
    }
   ],
   "source": [
    "diff_p = edbapp.nets[\"PCIe_Gen4_TX3_CAP_P\"]\n",
    "diff_n = edbapp.nets[\"PCIe_Gen4_TX3_CAP_N\"]\n",
    "\n",
    "nets_p = list(diff_p.extended_net.nets.keys())\n",
    "nets_n = list(diff_n.extended_net.nets.keys())\n",
    "\n",
    "comp_p = list(diff_p.extended_net.components.keys())\n",
    "comp_n = list(diff_n.extended_net.components.keys())\n",
    "\n",
    "rlc_p = list(diff_p.extended_net.rlc.keys())\n",
    "rlc_n = list(diff_n.extended_net.rlc.keys())\n",
    "\n",
    "print(comp_p, rlc_p, comp_n, rlc_n, sep=\"\\n\")"
   ]
  },
  {
   "cell_type": "markdown",
   "id": "aed45dc6",
   "metadata": {},
   "source": [
    "Prepare input data for port creation."
   ]
  },
  {
   "cell_type": "code",
   "execution_count": 8,
   "id": "107f06cb",
   "metadata": {
    "execution": {
     "iopub.execute_input": "2024-07-18T13:51:34.332917Z",
     "iopub.status.busy": "2024-07-18T13:51:34.332917Z",
     "iopub.status.idle": "2024-07-18T13:51:34.364171Z",
     "shell.execute_reply": "2024-07-18T13:51:34.364171Z"
    }
   },
   "outputs": [
    {
     "name": "stdout",
     "output_type": "stream",
     "text": [
      "{'port_name': 'U1_PCIe_Gen4_TX3_CAP_P', 'comp_name': 'U1', 'net_name': 'PCIe_Gen4_TX3_CAP_P'}\n",
      "{'port_name': 'X1_PCIe_Gen4_TX3_P', 'comp_name': 'X1', 'net_name': 'PCIe_Gen4_TX3_P'}\n",
      "{'port_name': 'U1_PCIe_Gen4_TX3_CAP_N', 'comp_name': 'U1', 'net_name': 'PCIe_Gen4_TX3_CAP_N'}\n",
      "{'port_name': 'X1_PCIe_Gen4_TX3_N', 'comp_name': 'X1', 'net_name': 'PCIe_Gen4_TX3_N'}\n"
     ]
    }
   ],
   "source": [
    "ports = []\n",
    "for net_name, net_obj in diff_p.extended_net.nets.items():\n",
    "    for comp_name, comp_obj in net_obj.components.items():\n",
    "        if comp_obj.type not in [\"Resistor\", \"Capacitor\", \"Inductor\"]:\n",
    "            ports.append(\n",
    "                {\n",
    "                    \"port_name\": \"{}_{}\".format(comp_name, net_name),\n",
    "                    \"comp_name\": comp_name,\n",
    "                    \"net_name\": net_name,\n",
    "                }\n",
    "            )\n",
    "\n",
    "for net_name, net_obj in diff_n.extended_net.nets.items():\n",
    "    for comp_name, comp_obj in net_obj.components.items():\n",
    "        if comp_obj.type not in [\"Resistor\", \"Capacitor\", \"Inductor\"]:\n",
    "            ports.append(\n",
    "                {\n",
    "                    \"port_name\": \"{}_{}\".format(comp_name, net_name),\n",
    "                    \"comp_name\": comp_name,\n",
    "                    \"net_name\": net_name,\n",
    "                }\n",
    "            )\n",
    "\n",
    "print(*ports, sep=\"\\n\")"
   ]
  },
  {
   "cell_type": "markdown",
   "id": "4e5fe292",
   "metadata": {},
   "source": [
    "### Create ports\n",
    "\n",
    "Solder balls are generated automatically. The default port type is coax port."
   ]
  },
  {
   "cell_type": "code",
   "execution_count": 9,
   "id": "60e15443",
   "metadata": {
    "execution": {
     "iopub.execute_input": "2024-07-18T13:51:34.364171Z",
     "iopub.status.busy": "2024-07-18T13:51:34.364171Z",
     "iopub.status.idle": "2024-07-18T13:51:34.786071Z",
     "shell.execute_reply": "2024-07-18T13:51:34.786071Z"
    }
   },
   "outputs": [],
   "source": [
    "for d in ports:\n",
    "    port_name = d[\"port_name\"]\n",
    "    comp_name = d[\"comp_name\"]\n",
    "    net_name = d[\"net_name\"]\n",
    "    edbapp.components.create_port_on_component(component=comp_name, net_list=net_name, port_name=port_name)"
   ]
  },
  {
   "cell_type": "markdown",
   "id": "156aed1c",
   "metadata": {},
   "source": [
    "### Cutout\n",
    "\n",
    "Retain only relevant parts of the layout."
   ]
  },
  {
   "cell_type": "code",
   "execution_count": 10,
   "id": "8cac1f12",
   "metadata": {
    "execution": {
     "iopub.execute_input": "2024-07-18T13:51:34.786071Z",
     "iopub.status.busy": "2024-07-18T13:51:34.786071Z",
     "iopub.status.idle": "2024-07-18T13:51:46.911229Z",
     "shell.execute_reply": "2024-07-18T13:51:46.911229Z"
    }
   },
   "outputs": [
    {
     "name": "stdout",
     "output_type": "stream",
     "text": [
      "PyAEDT INFO: Cutout Multithread started.\n"
     ]
    },
    {
     "name": "stdout",
     "output_type": "stream",
     "text": [
      "PyAEDT INFO: Net clean up Elapsed time: 0m 6sec\n"
     ]
    },
    {
     "name": "stdout",
     "output_type": "stream",
     "text": [
      "PyAEDT INFO: Expanded Net Polygon Creation Elapsed time: 0m 0sec\n"
     ]
    },
    {
     "name": "stdout",
     "output_type": "stream",
     "text": [
      "PyAEDT INFO: Padstack Instances removal completed. 1907 instances removed. Elapsed time: 0m 1sec\n"
     ]
    },
    {
     "name": "stdout",
     "output_type": "stream",
     "text": [
      "PyAEDT INFO: Primitives cleanup completed. 438 primitives deleted. Elapsed time: 0m 4sec\n"
     ]
    },
    {
     "name": "stdout",
     "output_type": "stream",
     "text": [
      "PyAEDT INFO: Deleted 968 additional components\n"
     ]
    },
    {
     "name": "stdout",
     "output_type": "stream",
     "text": [
      "PyAEDT INFO: Cutout completed. Elapsed time: 0m 12sec\n"
     ]
    },
    {
     "data": {
      "text/plain": [
       "[[0.016139999279999998, 0.05419999847],\n",
       " [0.016139999279999998, 0.03255000329],\n",
       " [0.06875000112, 0.03255000329],\n",
       " [0.06875000112, 0.05419999847]]"
      ]
     },
     "execution_count": 10,
     "metadata": {},
     "output_type": "execute_result"
    }
   ],
   "source": [
    "nets = []\n",
    "nets.extend(nets_p)\n",
    "nets.extend(nets_n)\n",
    "edbapp.cutout(signal_list=nets, reference_list=[\"GND\"], extent_type=\"Bounding\")"
   ]
  },
  {
   "cell_type": "markdown",
   "id": "b4e30901",
   "metadata": {},
   "source": [
    "Set up the model for network analysis in SIwave."
   ]
  },
  {
   "cell_type": "code",
   "execution_count": 11,
   "id": "a3b6d373",
   "metadata": {
    "execution": {
     "iopub.execute_input": "2024-07-18T13:51:46.911229Z",
     "iopub.status.busy": "2024-07-18T13:51:46.911229Z",
     "iopub.status.idle": "2024-07-18T13:51:46.989351Z",
     "shell.execute_reply": "2024-07-18T13:51:46.989351Z"
    }
   },
   "outputs": [
    {
     "data": {
      "text/plain": [
       "<pyedb.dotnet.edb_core.sim_setup_data.data.sweep_data.SweepData at 0x1732aa97200>"
      ]
     },
     "execution_count": 11,
     "metadata": {},
     "output_type": "execute_result"
    }
   ],
   "source": [
    "setup = edbapp.create_siwave_syz_setup(\"setup1\")\n",
    "setup.add_frequency_sweep(\n",
    "    frequency_sweep=[\n",
    "        [\"linear count\", \"0\", \"1kHz\", 1],\n",
    "        [\"log scale\", \"1kHz\", \"0.1GHz\", 10],\n",
    "        [\"linear scale\", \"0.1GHz\", \"10GHz\", \"0.1GHz\"],\n",
    "    ]\n",
    ")"
   ]
  },
  {
   "cell_type": "markdown",
   "id": "7f765cc4",
   "metadata": {},
   "source": [
    "Save and close the EDB."
   ]
  },
  {
   "cell_type": "code",
   "execution_count": 12,
   "id": "6ee6e6a0",
   "metadata": {
    "execution": {
     "iopub.execute_input": "2024-07-18T13:51:46.989351Z",
     "iopub.status.busy": "2024-07-18T13:51:46.989351Z",
     "iopub.status.idle": "2024-07-18T13:51:47.192482Z",
     "shell.execute_reply": "2024-07-18T13:51:47.192482Z"
    }
   },
   "outputs": [
    {
     "name": "stdout",
     "output_type": "stream",
     "text": [
      "PyAEDT INFO: EDB file release time: 0.00ms\n"
     ]
    },
    {
     "data": {
      "text/plain": [
       "True"
      ]
     },
     "execution_count": 12,
     "metadata": {},
     "output_type": "execute_result"
    }
   ],
   "source": [
    "edbapp.save()\n",
    "edbapp.close_edb()"
   ]
  },
  {
   "cell_type": "markdown",
   "id": "ae82adfa",
   "metadata": {},
   "source": [
    "### Launch Hfss3dLayout\n",
    "\n",
    "The HFSS 3D Layout user interface in AEDT is used to import the EDB and\n",
    "run the analysis. AEDT 3D Layout can be used to view the model\n",
    "if it is launched in graphical mode."
   ]
  },
  {
   "cell_type": "code",
   "execution_count": 13,
   "id": "b898b980",
   "metadata": {
    "execution": {
     "iopub.execute_input": "2024-07-18T13:51:47.192482Z",
     "iopub.status.busy": "2024-07-18T13:51:47.192482Z",
     "iopub.status.idle": "2024-07-18T13:52:20.206973Z",
     "shell.execute_reply": "2024-07-18T13:52:20.206973Z"
    }
   },
   "outputs": [
    {
     "name": "stdout",
     "output_type": "stream",
     "text": [
      "PyAEDT WARNING: Argument `specified_version` is deprecated for method `__init__`; use `version` instead.\n"
     ]
    },
    {
     "name": "stdout",
     "output_type": "stream",
     "text": [
      "PyAEDT WARNING: Argument `new_desktop_session` is deprecated for method `__init__`; use `new_desktop` instead.\n"
     ]
    },
    {
     "name": "stdout",
     "output_type": "stream",
     "text": [
      "PyAEDT INFO: Initializing new Desktop session.\n"
     ]
    },
    {
     "name": "stdout",
     "output_type": "stream",
     "text": [
      "PyAEDT INFO: StdOut is enabled\n"
     ]
    },
    {
     "name": "stdout",
     "output_type": "stream",
     "text": [
      "PyAEDT INFO: Log on file is enabled\n"
     ]
    },
    {
     "name": "stdout",
     "output_type": "stream",
     "text": [
      "PyAEDT INFO: Log on Desktop Message Manager is enabled\n"
     ]
    },
    {
     "name": "stdout",
     "output_type": "stream",
     "text": [
      "PyAEDT INFO: Debug logger is disabled. PyAEDT methods will not be logged.\n"
     ]
    },
    {
     "name": "stdout",
     "output_type": "stream",
     "text": [
      "PyAEDT INFO: Launching PyAEDT outside AEDT with gRPC plugin.\n"
     ]
    },
    {
     "name": "stdout",
     "output_type": "stream",
     "text": [
      "PyAEDT INFO: New AEDT session is starting on gRPC port 65498\n"
     ]
    },
    {
     "name": "stdout",
     "output_type": "stream",
     "text": [
      "PyAEDT INFO: AEDT installation Path C:\\Program Files\\AnsysEM\\v241\\Win64\n"
     ]
    },
    {
     "name": "stdout",
     "output_type": "stream",
     "text": [
      "PyAEDT INFO: Ansoft.ElectronicsDesktop.2024.1 version started with process ID 8848.\n"
     ]
    },
    {
     "name": "stdout",
     "output_type": "stream",
     "text": [
      "PyAEDT INFO: pyaedt v0.9.9\n"
     ]
    },
    {
     "name": "stdout",
     "output_type": "stream",
     "text": [
      "PyAEDT INFO: Python version 3.10.11 (tags/v3.10.11:7d4cc5a, Apr  5 2023, 00:38:17) [MSC v.1929 64 bit (AMD64)]\n"
     ]
    },
    {
     "name": "stdout",
     "output_type": "stream",
     "text": [
      "PyAEDT INFO: AEDT 2024.1.0 Build Date 2023-11-27 22:16:18\n"
     ]
    },
    {
     "name": "stdout",
     "output_type": "stream",
     "text": [
      "PyAEDT INFO: EDB folder C:\\Users\\ansys\\AppData\\Local\\Temp\\tmpch18w79t.ansys\\edb/ANSYS-HSD_V1.aedb has been imported to project ANSYS-HSD_V1\n"
     ]
    },
    {
     "name": "stdout",
     "output_type": "stream",
     "text": [
      "PyAEDT INFO: Active Design set to main\n"
     ]
    },
    {
     "name": "stdout",
     "output_type": "stream",
     "text": [
      "PyAEDT INFO: Aedt Objects correctly read\n"
     ]
    }
   ],
   "source": [
    "h3d = pyaedt.Hfss3dLayout(\n",
    "    edb_full_path,\n",
    "    specified_version=\"2024.1\",\n",
    "    non_graphical=False,  # Set to true for non-graphical mode.\n",
    "    new_desktop_session=True,\n",
    ")"
   ]
  },
  {
   "cell_type": "markdown",
   "id": "cb67dca2",
   "metadata": {},
   "source": [
    "Define the differential pair."
   ]
  },
  {
   "cell_type": "code",
   "execution_count": 14,
   "id": "7c243654",
   "metadata": {
    "execution": {
     "iopub.execute_input": "2024-07-18T13:52:20.206973Z",
     "iopub.status.busy": "2024-07-18T13:52:20.206973Z",
     "iopub.status.idle": "2024-07-18T13:52:20.331919Z",
     "shell.execute_reply": "2024-07-18T13:52:20.331919Z"
    }
   },
   "outputs": [
    {
     "name": "stdout",
     "output_type": "stream",
     "text": [
      "PyAEDT WARNING: Argument `positive_terminal` is deprecated for method `set_differential_pair`; use `assignment` instead.\n"
     ]
    },
    {
     "name": "stdout",
     "output_type": "stream",
     "text": [
      "PyAEDT WARNING: Argument `negative_terminal` is deprecated for method `set_differential_pair`; use `reference` instead.\n"
     ]
    },
    {
     "name": "stdout",
     "output_type": "stream",
     "text": [
      "PyAEDT WARNING: Argument `diff_name` is deprecated for method `set_differential_pair`; use `differential_mode` instead.\n"
     ]
    },
    {
     "name": "stdout",
     "output_type": "stream",
     "text": [
      "PyAEDT WARNING: Argument `positive_terminal` is deprecated for method `set_differential_pair`; use `assignment` instead.\n"
     ]
    },
    {
     "name": "stdout",
     "output_type": "stream",
     "text": [
      "PyAEDT WARNING: Argument `negative_terminal` is deprecated for method `set_differential_pair`; use `reference` instead.\n"
     ]
    },
    {
     "name": "stdout",
     "output_type": "stream",
     "text": [
      "PyAEDT WARNING: Argument `diff_name` is deprecated for method `set_differential_pair`; use `differential_mode` instead.\n"
     ]
    },
    {
     "data": {
      "text/plain": [
       "True"
      ]
     },
     "execution_count": 14,
     "metadata": {},
     "output_type": "execute_result"
    }
   ],
   "source": [
    "h3d.set_differential_pair(\n",
    "    positive_terminal=\"U1_PCIe_Gen4_TX3_CAP_P\",\n",
    "    negative_terminal=\"U1_PCIe_Gen4_TX3_CAP_N\",\n",
    "    diff_name=\"PAIR_U1\",\n",
    ")\n",
    "h3d.set_differential_pair(\n",
    "    positive_terminal=\"X1_PCIe_Gen4_TX3_P\",\n",
    "    negative_terminal=\"X1_PCIe_Gen4_TX3_N\",\n",
    "    diff_name=\"PAIR_X1\",\n",
    ")"
   ]
  },
  {
   "cell_type": "markdown",
   "id": "dff577a1",
   "metadata": {},
   "source": [
    "Solve and plot the results."
   ]
  },
  {
   "cell_type": "code",
   "execution_count": 15,
   "id": "a3d471d6",
   "metadata": {
    "execution": {
     "iopub.execute_input": "2024-07-18T13:52:20.331919Z",
     "iopub.status.busy": "2024-07-18T13:52:20.331919Z",
     "iopub.status.idle": "2024-07-18T13:52:45.186728Z",
     "shell.execute_reply": "2024-07-18T13:52:45.186728Z"
    }
   },
   "outputs": [
    {
     "name": "stdout",
     "output_type": "stream",
     "text": [
      "PyAEDT WARNING: Argument `num_cores` is deprecated for method `analyze`; use `cores` instead.\n"
     ]
    },
    {
     "name": "stdout",
     "output_type": "stream",
     "text": [
      "PyAEDT INFO: Key Desktop/ActiveDSOConfigurations/HFSS 3D Layout Design correctly changed.\n"
     ]
    },
    {
     "name": "stdout",
     "output_type": "stream",
     "text": [
      "PyAEDT INFO: Solving all design setups.\n"
     ]
    },
    {
     "name": "stdout",
     "output_type": "stream",
     "text": [
      "PyAEDT INFO: Key Desktop/ActiveDSOConfigurations/HFSS 3D Layout Design correctly changed.\n"
     ]
    },
    {
     "name": "stdout",
     "output_type": "stream",
     "text": [
      "PyAEDT INFO: Design setup None solved correctly in 0.0h 0.0m 25.0s\n"
     ]
    },
    {
     "data": {
      "text/plain": [
       "True"
      ]
     },
     "execution_count": 15,
     "metadata": {},
     "output_type": "execute_result"
    }
   ],
   "source": [
    "h3d.analyze(num_cores=4)"
   ]
  },
  {
   "cell_type": "markdown",
   "id": "ec78be10",
   "metadata": {},
   "source": [
    "Visualze the results."
   ]
  },
  {
   "cell_type": "code",
   "execution_count": 16,
   "id": "e1566cec",
   "metadata": {
    "execution": {
     "iopub.execute_input": "2024-07-18T13:52:45.186728Z",
     "iopub.status.busy": "2024-07-18T13:52:45.186728Z",
     "iopub.status.idle": "2024-07-18T13:52:45.968059Z",
     "shell.execute_reply": "2024-07-18T13:52:45.968059Z"
    }
   },
   "outputs": [
    {
     "name": "stderr",
     "output_type": "stream",
     "text": [
      "C:\\actions-runner\\_work\\pyedb\\pyedb\\.venv\\lib\\site-packages\\pyaedt\\generic\\plot.py:55: UserWarning: The PyVista module is required to run some functionalities of PostProcess.\n",
      "Install with \n",
      "\n",
      "pip install pyvista\n",
      "\n",
      "Requires CPython.\n",
      "  warnings.warn(\n"
     ]
    },
    {
     "name": "stdout",
     "output_type": "stream",
     "text": [
      "PyAEDT INFO: Parsing C:/Users/ansys/AppData/Local/Temp/tmpch18w79t.ansys/edb/ANSYS-HSD_V1.aedt.\n"
     ]
    },
    {
     "name": "stdout",
     "output_type": "stream",
     "text": [
      "PyAEDT INFO: File C:/Users/ansys/AppData/Local/Temp/tmpch18w79t.ansys/edb/ANSYS-HSD_V1.aedt correctly loaded. Elapsed time: 0m 0sec\n"
     ]
    },
    {
     "name": "stdout",
     "output_type": "stream",
     "text": [
      "PyAEDT INFO: aedt file load time 0.06250786781311035\n"
     ]
    },
    {
     "name": "stdout",
     "output_type": "stream",
     "text": [
      "PyAEDT INFO: Loading Modeler.\n"
     ]
    },
    {
     "name": "stdout",
     "output_type": "stream",
     "text": [
      "PyAEDT INFO: Modeler loaded.\n"
     ]
    },
    {
     "name": "stdout",
     "output_type": "stream",
     "text": [
      "PyAEDT INFO: EDB loaded.\n"
     ]
    },
    {
     "name": "stdout",
     "output_type": "stream",
     "text": [
      "PyAEDT INFO: Layers loaded.\n"
     ]
    },
    {
     "name": "stdout",
     "output_type": "stream",
     "text": [
      "PyAEDT INFO: Primitives loaded.\n"
     ]
    },
    {
     "name": "stdout",
     "output_type": "stream",
     "text": [
      "PyAEDT INFO: Modeler class has been initialized! Elapsed time: 0m 0sec\n"
     ]
    },
    {
     "name": "stdout",
     "output_type": "stream",
     "text": [
      "PyAEDT INFO: PostProcessor class has been initialized! Elapsed time: 0m 0sec\n"
     ]
    },
    {
     "name": "stdout",
     "output_type": "stream",
     "text": [
      "PyAEDT INFO: Post class has been initialized! Elapsed time: 0m 0sec\n"
     ]
    },
    {
     "data": {
      "text/plain": [
       "<pyaedt.modules.report_templates.Standard at 0x17337a04130>"
      ]
     },
     "execution_count": 16,
     "metadata": {},
     "output_type": "execute_result"
    }
   ],
   "source": [
    "h3d.post.create_report(\"dB(S(PAIR_U1,PAIR_U1))\", context=\"Differential Pairs\")"
   ]
  },
  {
   "cell_type": "markdown",
   "id": "f78f348d",
   "metadata": {},
   "source": [
    "Close AEDT."
   ]
  },
  {
   "cell_type": "code",
   "execution_count": 17,
   "id": "cb914008",
   "metadata": {
    "execution": {
     "iopub.execute_input": "2024-07-18T13:52:45.968059Z",
     "iopub.status.busy": "2024-07-18T13:52:45.968059Z",
     "iopub.status.idle": "2024-07-18T13:52:48.972163Z",
     "shell.execute_reply": "2024-07-18T13:52:48.972163Z"
    }
   },
   "outputs": [
    {
     "name": "stdout",
     "output_type": "stream",
     "text": [
      "PyAEDT INFO: Project ANSYS-HSD_V1 Saved correctly\n"
     ]
    },
    {
     "name": "stdout",
     "output_type": "stream",
     "text": [
      "Project is saved to C:/Users/ansys/AppData/Local/Temp/tmpch18w79t.ansys/edb/\n"
     ]
    },
    {
     "name": "stdout",
     "output_type": "stream",
     "text": [
      "PyAEDT INFO: Desktop has been released and closed.\n"
     ]
    },
    {
     "data": {
      "text/plain": [
       "True"
      ]
     },
     "execution_count": 17,
     "metadata": {},
     "output_type": "execute_result"
    }
   ],
   "source": [
    "h3d.save_project()\n",
    "print(\"Project is saved to {}\".format(h3d.project_path))\n",
    "h3d.release_desktop(True, True)"
   ]
  },
  {
   "cell_type": "markdown",
   "id": "40419ec2",
   "metadata": {},
   "source": [
    "The following cell cleans up the temporary directory and removes all project data."
   ]
  },
  {
   "cell_type": "code",
   "execution_count": 18,
   "id": "1a7d981f",
   "metadata": {
    "execution": {
     "iopub.execute_input": "2024-07-18T13:52:48.972163Z",
     "iopub.status.busy": "2024-07-18T13:52:48.972163Z",
     "iopub.status.idle": "2024-07-18T13:52:48.987810Z",
     "shell.execute_reply": "2024-07-18T13:52:48.987810Z"
    }
   },
   "outputs": [],
   "source": [
    "temp_dir.cleanup()"
   ]
  }
 ],
 "metadata": {
  "jupytext": {
   "cell_metadata_filter": "-all",
   "main_language": "python",
   "notebook_metadata_filter": "-all",
   "text_representation": {
    "extension": ".py",
    "format_name": "light"
   }
  },
  "language_info": {
   "codemirror_mode": {
    "name": "ipython",
    "version": 3
   },
   "file_extension": ".py",
   "mimetype": "text/x-python",
   "name": "python",
   "nbconvert_exporter": "python",
   "pygments_lexer": "ipython3",
   "version": "3.10.11"
  }
 },
 "nbformat": 4,
 "nbformat_minor": 5
}
