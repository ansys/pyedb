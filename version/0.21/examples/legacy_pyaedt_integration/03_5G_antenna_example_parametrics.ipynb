{
 "cells": [
  {
   "cell_type": "markdown",
   "id": "44d23049",
   "metadata": {},
   "source": [
    "# EDB: Layout Components\n",
    "\n",
    "This example shows how you can use EDB to create a parametric component using\n",
    "3D Layout and use it in HFSS 3D."
   ]
  },
  {
   "cell_type": "markdown",
   "id": "8c19fc61",
   "metadata": {},
   "source": [
    "## Perform required imports\n",
    "\n",
    "Perform required imports, which includes importing the ``Hfss3dlayout`` object\n",
    "and initializing it on version 2023 R2."
   ]
  },
  {
   "cell_type": "code",
   "execution_count": 1,
   "id": "823306fa",
   "metadata": {
    "execution": {
     "iopub.execute_input": "2024-07-18T13:38:33.193539Z",
     "iopub.status.busy": "2024-07-18T13:38:33.193539Z",
     "iopub.status.idle": "2024-07-18T13:38:33.756183Z",
     "shell.execute_reply": "2024-07-18T13:38:33.756183Z"
    }
   },
   "outputs": [],
   "source": [
    "import os\n",
    "import tempfile\n",
    "\n",
    "import pyaedt\n",
    "\n",
    "import pyedb\n"
   ]
  },
  {
   "cell_type": "markdown",
   "id": "ea54e3b6",
   "metadata": {},
   "source": [
    "## Set non-graphical mode"
   ]
  },
  {
   "cell_type": "code",
   "execution_count": 2,
   "id": "e4af6d1e",
   "metadata": {
    "execution": {
     "iopub.execute_input": "2024-07-18T13:38:33.756183Z",
     "iopub.status.busy": "2024-07-18T13:38:33.756183Z",
     "iopub.status.idle": "2024-07-18T13:38:33.771728Z",
     "shell.execute_reply": "2024-07-18T13:38:33.771728Z"
    }
   },
   "outputs": [],
   "source": [
    "non_graphical = False"
   ]
  },
  {
   "cell_type": "markdown",
   "id": "3f1d35a1",
   "metadata": {
    "lines_to_next_cell": 2
   },
   "source": [
    "## Create data classes\n",
    "\n",
    "Data classes are useful to do calculations and store variables.\n",
    "There are three data classes: ``Patch``, ``Line``, and ``Array``."
   ]
  },
  {
   "cell_type": "code",
   "execution_count": 3,
   "id": "e13a6675",
   "metadata": {
    "execution": {
     "iopub.execute_input": "2024-07-18T13:38:33.771728Z",
     "iopub.status.busy": "2024-07-18T13:38:33.771728Z",
     "iopub.status.idle": "2024-07-18T13:38:33.802922Z",
     "shell.execute_reply": "2024-07-18T13:38:33.802922Z"
    }
   },
   "outputs": [],
   "source": [
    "class Patch:\n",
    "    def __init__(self, width=0.0, height=0.0, position=0.0):\n",
    "        self.width = width\n",
    "        self.height = height\n",
    "        self.position = position\n",
    "\n",
    "    @property\n",
    "    def points(self):\n",
    "        return [\n",
    "            [self.position, \"-{}/2\".format(self.height)],\n",
    "            [\"{} + {}\".format(self.position, self.width), \"-{}/2\".format(self.height)],\n",
    "            [\"{} + {}\".format(self.position, self.width), \"{}/2\".format(self.height)],\n",
    "            [self.position, \"{}/2\".format(self.height)],\n",
    "        ]\n",
    "\n",
    "\n",
    "class Line:\n",
    "    def __init__(self, length=0.0, width=0.0, position=0.0):\n",
    "        self.length = length\n",
    "        self.width = width\n",
    "        self.position = position\n",
    "\n",
    "    @property\n",
    "    def points(self):\n",
    "        return [\n",
    "            [self.position, \"-{}/2\".format(self.width)],\n",
    "            [\"{} + {}\".format(self.position, self.length), \"-{}/2\".format(self.width)],\n",
    "            [\"{} + {}\".format(self.position, self.length), \"{}/2\".format(self.width)],\n",
    "            [self.position, \"{}/2\".format(self.width)],\n",
    "        ]\n",
    "\n",
    "\n",
    "class LinearArray:\n",
    "    def __init__(self, nb_patch=1, array_length=10e-3, array_width=5e-3):\n",
    "        self.nbpatch = nb_patch\n",
    "        self.length = array_length\n",
    "        self.width = array_width\n",
    "\n",
    "    @property\n",
    "    def points(self):\n",
    "        return [\n",
    "            [-1e-3, \"-{}/2-1e-3\".format(self.width)],\n",
    "            [\"{}+1e-3\".format(self.length), \"-{}/2-1e-3\".format(self.width)],\n",
    "            [\"{}+1e-3\".format(self.length), \"{}/2+1e-3\".format(self.width)],\n",
    "            [-1e-3, \"{}/2+1e-3\".format(self.width)],\n",
    "        ]"
   ]
  },
  {
   "cell_type": "markdown",
   "id": "3d8b5390",
   "metadata": {},
   "source": [
    "## Launch EDB\n",
    "\n",
    "PyEDB.Edb allows to open existing Edb project or create a new empty project."
   ]
  },
  {
   "cell_type": "code",
   "execution_count": 4,
   "id": "d018cb2f",
   "metadata": {
    "execution": {
     "iopub.execute_input": "2024-07-18T13:38:33.802922Z",
     "iopub.status.busy": "2024-07-18T13:38:33.802922Z",
     "iopub.status.idle": "2024-07-18T13:38:44.775977Z",
     "shell.execute_reply": "2024-07-18T13:38:44.775977Z"
    }
   },
   "outputs": [
    {
     "name": "stdout",
     "output_type": "stream",
     "text": [
      "EDB version: 2024.1\n"
     ]
    },
    {
     "name": "stdout",
     "output_type": "stream",
     "text": [
      "PyAEDT INFO: Logger is initialized in EDB.\n"
     ]
    },
    {
     "name": "stdout",
     "output_type": "stream",
     "text": [
      "PyAEDT INFO: legacy v0.21.1\n"
     ]
    },
    {
     "name": "stdout",
     "output_type": "stream",
     "text": [
      "PyAEDT INFO: Python version 3.10.11 (tags/v3.10.11:7d4cc5a, Apr  5 2023, 00:38:17) [MSC v.1929 64 bit (AMD64)]\n"
     ]
    },
    {
     "name": "stdout",
     "output_type": "stream",
     "text": [
      "PyAEDT INFO: EDB C:\\Users\\ansys\\AppData\\Local\\Temp\\tmpj1jg1oyj.ansys\\linear_array.aedb created correctly.\n"
     ]
    },
    {
     "name": "stdout",
     "output_type": "stream",
     "text": [
      "PyAEDT INFO: EDB initialized.\n"
     ]
    }
   ],
   "source": [
    "temp_dir = tempfile.TemporaryDirectory(suffix=\".ansys\")\n",
    "aedb_path = os.path.join(temp_dir.name, \"linear_array.aedb\")\n",
    "\n",
    "# Select EDB version (change it manually if needed, e.g. \"2024.1\")\n",
    "edb_version = \"2024.1\"\n",
    "print(f\"EDB version: {edb_version}\")\n",
    "\n",
    "# Create an instance of the Edb class.\n",
    "edb = pyedb.Edb(edbpath=aedb_path, edbversion=edb_version)"
   ]
  },
  {
   "cell_type": "markdown",
   "id": "5b788cf4",
   "metadata": {},
   "source": [
    "Add stackup layers"
   ]
  },
  {
   "cell_type": "code",
   "execution_count": 5,
   "id": "18147e61",
   "metadata": {
    "execution": {
     "iopub.execute_input": "2024-07-18T13:38:44.775977Z",
     "iopub.status.busy": "2024-07-18T13:38:44.775977Z",
     "iopub.status.idle": "2024-07-18T13:38:44.916601Z",
     "shell.execute_reply": "2024-07-18T13:38:44.916601Z"
    }
   },
   "outputs": [
    {
     "name": "stderr",
     "output_type": "stream",
     "text": [
      "Material 'copper' does not exist in material library. Intempt to create it from syslib.\n"
     ]
    },
    {
     "name": "stderr",
     "output_type": "stream",
     "text": [
      "Material 'FR4_epoxy' does not exist in material library. Intempt to create it from syslib.\n"
     ]
    },
    {
     "name": "stderr",
     "output_type": "stream",
     "text": [
      "Material 'Air' does not exist in material library. Intempt to create it from syslib.\n"
     ]
    },
    {
     "name": "stdout",
     "output_type": "stream",
     "text": [
      "PyAEDT ERROR: Material Air does not exist in syslib AMAT file.\n"
     ]
    },
    {
     "name": "stderr",
     "output_type": "stream",
     "text": [
      "Material 'Duroid (tm)' does not exist in material library. Intempt to create it from syslib.\n"
     ]
    },
    {
     "data": {
      "text/plain": [
       "<pyedb.dotnet.edb_core.edb_data.layer_data.StackupLayerEdbClass at 0x204f4a6a380>"
      ]
     },
     "execution_count": 5,
     "metadata": {},
     "output_type": "execute_result"
    }
   ],
   "source": [
    "edb.stackup.add_layer(\"Virt_GND\")\n",
    "edb.stackup.add_layer(\"Gap\", \"Virt_GND\", layer_type=\"dielectric\", thickness=\"0.05mm\", material=\"Air\")\n",
    "edb.stackup.add_layer(\"GND\", \"Gap\")\n",
    "edb.stackup.add_layer(\"Substrat\", \"GND\", layer_type=\"dielectric\", thickness=\"0.5mm\", material=\"Duroid (tm)\")\n",
    "edb.stackup.add_layer(\"TOP\", \"Substrat\")"
   ]
  },
  {
   "cell_type": "markdown",
   "id": "32d60638",
   "metadata": {},
   "source": [
    "Create the the first patch and feed line using the ``Patch``, ``Line``classes defined above.\n",
    "\n",
    "Define parameters:"
   ]
  },
  {
   "cell_type": "code",
   "execution_count": 6,
   "id": "0f07f893",
   "metadata": {
    "execution": {
     "iopub.execute_input": "2024-07-18T13:38:44.916601Z",
     "iopub.status.busy": "2024-07-18T13:38:44.916601Z",
     "iopub.status.idle": "2024-07-18T13:38:44.979127Z",
     "shell.execute_reply": "2024-07-18T13:38:44.979127Z"
    }
   },
   "outputs": [
    {
     "data": {
      "text/plain": [
       "<pyedb.dotnet.edb_core.edb_data.primitives_data.EdbPolygon at 0x204f4c9c9b0>"
      ]
     },
     "execution_count": 6,
     "metadata": {},
     "output_type": "execute_result"
    }
   ],
   "source": [
    "edb[\"w1\"] = 1.4e-3\n",
    "edb[\"h1\"] = 1.2e-3\n",
    "edb[\"initial_position\"] = 0.0\n",
    "edb[\"l1\"] = 2.4e-3\n",
    "edb[\"trace_w\"] = 0.3e-3\n",
    "\n",
    "first_patch = Patch(width=\"w1\", height=\"h1\", position=\"initial_position\")\n",
    "edb.modeler.create_polygon(first_patch.points, \"TOP\", net_name=\"Array_antenna\")"
   ]
  },
  {
   "cell_type": "markdown",
   "id": "95ecc2e9",
   "metadata": {},
   "source": [
    "First line"
   ]
  },
  {
   "cell_type": "code",
   "execution_count": 7,
   "id": "2a5c905d",
   "metadata": {
    "execution": {
     "iopub.execute_input": "2024-07-18T13:38:44.979127Z",
     "iopub.status.busy": "2024-07-18T13:38:44.979127Z",
     "iopub.status.idle": "2024-07-18T13:38:45.010354Z",
     "shell.execute_reply": "2024-07-18T13:38:45.010354Z"
    }
   },
   "outputs": [
    {
     "data": {
      "text/plain": [
       "<pyedb.dotnet.edb_core.edb_data.primitives_data.EdbPolygon at 0x204f4ca1d70>"
      ]
     },
     "execution_count": 7,
     "metadata": {},
     "output_type": "execute_result"
    }
   ],
   "source": [
    "first_line = Line(length=\"l1\", width=\"trace_w\", position=first_patch.width)\n",
    "edb.modeler.create_polygon(first_line.points, \"TOP\", net_name=\"Array_antenna\")"
   ]
  },
  {
   "cell_type": "markdown",
   "id": "9ee526ff",
   "metadata": {},
   "source": [
    "Now use the ``LinearArray`` class to create the array."
   ]
  },
  {
   "cell_type": "code",
   "execution_count": 8,
   "id": "14e951f5",
   "metadata": {
    "execution": {
     "iopub.execute_input": "2024-07-18T13:38:45.010354Z",
     "iopub.status.busy": "2024-07-18T13:38:45.010354Z",
     "iopub.status.idle": "2024-07-18T13:38:45.182234Z",
     "shell.execute_reply": "2024-07-18T13:38:45.182234Z"
    }
   },
   "outputs": [],
   "source": [
    "edb[\"w2\"] = 2.29e-3\n",
    "edb[\"h2\"] = 3.3e-3\n",
    "edb[\"l2\"] = 1.9e-3\n",
    "edb[\"trace_w2\"] = 0.2e-3\n",
    "\n",
    "patch = Patch(width=\"w2\", height=\"h2\")\n",
    "line = Line(length=\"l2\", width=\"trace_w2\")\n",
    "linear_array = LinearArray(nb_patch=8, array_width=patch.height)\n",
    "\n",
    "current_patch = 1\n",
    "current_position = \"{} + {}\".format(first_line.position, first_line.length)\n",
    "\n",
    "while current_patch <= linear_array.nbpatch:\n",
    "    patch.position = current_position\n",
    "    edb.modeler.create_polygon(patch.points, \"TOP\", net_name=\"Array_antenna\")\n",
    "    current_position = \"{} + {}\".format(current_position, patch.width)\n",
    "    if current_patch < linear_array.nbpatch:\n",
    "        line.position = current_position\n",
    "        edb.modeler.create_polygon(line.points, \"TOP\", net_name=\"Array_antenna\")\n",
    "        current_position = \"{} + {}\".format(current_position, line.length)\n",
    "    current_patch += 1\n",
    "\n",
    "linear_array.length = current_position"
   ]
  },
  {
   "cell_type": "markdown",
   "id": "4090cb62",
   "metadata": {},
   "source": [
    "Add the ground conductor."
   ]
  },
  {
   "cell_type": "code",
   "execution_count": 9,
   "id": "ae66def5",
   "metadata": {
    "execution": {
     "iopub.execute_input": "2024-07-18T13:38:45.182234Z",
     "iopub.status.busy": "2024-07-18T13:38:45.182234Z",
     "iopub.status.idle": "2024-07-18T13:38:45.213583Z",
     "shell.execute_reply": "2024-07-18T13:38:45.213583Z"
    }
   },
   "outputs": [
    {
     "data": {
      "text/plain": [
       "<pyedb.dotnet.edb_core.edb_data.primitives_data.EdbPolygon at 0x1c45b119f30>"
      ]
     },
     "execution_count": 9,
     "metadata": {},
     "output_type": "execute_result"
    }
   ],
   "source": [
    "edb.modeler.create_polygon(linear_array.points, \"GND\", net_name=\"GND\")"
   ]
  },
  {
   "cell_type": "markdown",
   "id": "f334a613",
   "metadata": {},
   "source": [
    "Add the connector pin to use to assign the port."
   ]
  },
  {
   "cell_type": "code",
   "execution_count": 10,
   "id": "afeaf854",
   "metadata": {
    "execution": {
     "iopub.execute_input": "2024-07-18T13:38:45.213583Z",
     "iopub.status.busy": "2024-07-18T13:38:45.213583Z",
     "iopub.status.idle": "2024-07-18T13:38:45.260537Z",
     "shell.execute_reply": "2024-07-18T13:38:45.260537Z"
    }
   },
   "outputs": [
    {
     "name": "stdout",
     "output_type": "stream",
     "text": [
      "PyAEDT INFO: Padstack Connector_pin create correctly\n"
     ]
    }
   ],
   "source": [
    "edb.padstacks.create(padstackname=\"Connector_pin\", holediam=\"100um\", paddiam=\"0\", antipaddiam=\"200um\")\n",
    "con_pin = edb.padstacks.place(\n",
    "    [\"{}/4.0\".format(first_patch.width), 0],\n",
    "    \"Connector_pin\",\n",
    "    net_name=\"Array_antenna\",\n",
    "    fromlayer=\"TOP\",\n",
    "    tolayer=\"GND\",\n",
    "    via_name=\"coax\",\n",
    ")"
   ]
  },
  {
   "cell_type": "markdown",
   "id": "14232717",
   "metadata": {},
   "source": [
    "Add a connector ground."
   ]
  },
  {
   "cell_type": "code",
   "execution_count": 11,
   "id": "c1e45d63",
   "metadata": {
    "execution": {
     "iopub.execute_input": "2024-07-18T13:38:45.260537Z",
     "iopub.status.busy": "2024-07-18T13:38:45.260537Z",
     "iopub.status.idle": "2024-07-18T13:38:45.323039Z",
     "shell.execute_reply": "2024-07-18T13:38:45.323039Z"
    }
   },
   "outputs": [
    {
     "name": "stdout",
     "output_type": "stream",
     "text": [
      "PyAEDT INFO: Padstack gnd_via create correctly\n"
     ]
    }
   ],
   "source": [
    "edb.modeler.create_polygon(first_patch.points, \"Virt_GND\", net_name=\"GND\")\n",
    "edb.padstacks.create(\"gnd_via\", \"100um\", \"0\", \"0\")\n",
    "edb[\"via_spacing\"] = 0.2e-3\n",
    "con_ref1 = edb.padstacks.place(\n",
    "    [\n",
    "        \"{} + {}\".format(first_patch.points[0][0], \"via_spacing\"),\n",
    "        \"{} + {}\".format(first_patch.points[0][1], \"via_spacing\"),\n",
    "    ],\n",
    "    \"gnd_via\",\n",
    "    fromlayer=\"GND\",\n",
    "    tolayer=\"Virt_GND\",\n",
    "    net_name=\"GND\",\n",
    ")\n",
    "con_ref2 = edb.padstacks.place(\n",
    "    [\n",
    "        \"{} + {}\".format(first_patch.points[1][0], \"-via_spacing\"),\n",
    "        \"{} + {}\".format(first_patch.points[1][1], \"via_spacing\"),\n",
    "    ],\n",
    "    \"gnd_via\",\n",
    "    fromlayer=\"GND\",\n",
    "    tolayer=\"Virt_GND\",\n",
    "    net_name=\"GND\",\n",
    ")\n",
    "con_ref3 = edb.padstacks.place(\n",
    "    [\n",
    "        \"{} + {}\".format(first_patch.points[2][0], \"-via_spacing\"),\n",
    "        \"{} + {}\".format(first_patch.points[2][1], \"-via_spacing\"),\n",
    "    ],\n",
    "    \"gnd_via\",\n",
    "    fromlayer=\"GND\",\n",
    "    tolayer=\"Virt_GND\",\n",
    "    net_name=\"GND\",\n",
    ")\n",
    "con_ref4 = edb.padstacks.place(\n",
    "    [\n",
    "        \"{} + {}\".format(first_patch.points[3][0], \"via_spacing\"),\n",
    "        \"{} + {}\".format(first_patch.points[3][1], \"-via_spacing\"),\n",
    "    ],\n",
    "    \"gnd_via\",\n",
    "    fromlayer=\"GND\",\n",
    "    tolayer=\"Virt_GND\",\n",
    "    net_name=\"GND\",\n",
    ")"
   ]
  },
  {
   "cell_type": "markdown",
   "id": "ebba4222",
   "metadata": {},
   "source": [
    "Define the port."
   ]
  },
  {
   "cell_type": "code",
   "execution_count": 12,
   "id": "2906d768",
   "metadata": {
    "execution": {
     "iopub.execute_input": "2024-07-18T13:38:45.323039Z",
     "iopub.status.busy": "2024-07-18T13:38:45.323039Z",
     "iopub.status.idle": "2024-07-18T13:38:45.354293Z",
     "shell.execute_reply": "2024-07-18T13:38:45.354293Z"
    }
   },
   "outputs": [],
   "source": [
    "edb.padstacks.set_solderball(con_pin, \"Virt_GND\", isTopPlaced=False, ballDiam=0.1e-3)\n",
    "port_name = edb.padstacks.create_coax_port(con_pin)"
   ]
  },
  {
   "cell_type": "markdown",
   "id": "c9126919",
   "metadata": {},
   "source": [
    "Display the model using the ``Edb.nets.plot()`` method."
   ]
  },
  {
   "cell_type": "code",
   "execution_count": 13,
   "id": "ab759147",
   "metadata": {
    "execution": {
     "iopub.execute_input": "2024-07-18T13:38:45.354293Z",
     "iopub.status.busy": "2024-07-18T13:38:45.354293Z",
     "iopub.status.idle": "2024-07-18T13:38:46.088674Z",
     "shell.execute_reply": "2024-07-18T13:38:46.088674Z"
    }
   },
   "outputs": [
    {
     "name": "stdout",
     "output_type": "stream",
     "text": [
      "PyAEDT INFO: Nets Point Generation time 0.109 seconds\n"
     ]
    },
    {
     "name": "stderr",
     "output_type": "stream",
     "text": [
      "C:\\actions-runner\\_work\\pyedb\\pyedb\\.venv\\lib\\site-packages\\pyedb\\generic\\plot.py:144: UserWarning: FigureCanvasAgg is non-interactive, and thus cannot be shown\n",
      "  plt.show()\n"
     ]
    }
   ],
   "source": [
    "edb.nets.plot()"
   ]
  },
  {
   "cell_type": "markdown",
   "id": "d2dc0dbe",
   "metadata": {},
   "source": [
    "The EDB is complete. Now close the EDB and import it into HFSS as a \"Layout Component\"."
   ]
  },
  {
   "cell_type": "code",
   "execution_count": 14,
   "id": "e7bef6fb",
   "metadata": {
    "execution": {
     "iopub.execute_input": "2024-07-18T13:38:46.088674Z",
     "iopub.status.busy": "2024-07-18T13:38:46.088674Z",
     "iopub.status.idle": "2024-07-18T13:38:46.119918Z",
     "shell.execute_reply": "2024-07-18T13:38:46.119918Z"
    }
   },
   "outputs": [
    {
     "name": "stdout",
     "output_type": "stream",
     "text": [
      "PyAEDT INFO: EDB file save time: 0.00ms\n"
     ]
    },
    {
     "name": "stdout",
     "output_type": "stream",
     "text": [
      "PyAEDT INFO: EDB file release time: 15.56ms\n"
     ]
    },
    {
     "name": "stdout",
     "output_type": "stream",
     "text": [
      "EDB saved correctly to C:\\Users\\ansys\\AppData\\Local\\Temp\\tmpj1jg1oyj.ansys\\linear_array.aedb. You can import in AEDT.\n"
     ]
    }
   ],
   "source": [
    "edb.save_edb()\n",
    "edb.close_edb()\n",
    "print(\"EDB saved correctly to {}. You can import in AEDT.\".format(aedb_path))"
   ]
  },
  {
   "cell_type": "markdown",
   "id": "fdb8bfa0",
   "metadata": {},
   "source": [
    "## 3D component in HFSS\n",
    "\n",
    "First create an instance of the ``pyaedt.Hfss`` class. If you set\n",
    "> ``non_graphical = False\n",
    "\n",
    "then AEDT user interface will be visible after the following cell is executed.\n",
    "It is now possible to monitor the progress in the UI as each of the following cells is executed.\n",
    "All commands can be run without the UI by changing the value of ``non_graphical``."
   ]
  },
  {
   "cell_type": "code",
   "execution_count": 15,
   "id": "3719af89",
   "metadata": {
    "execution": {
     "iopub.execute_input": "2024-07-18T13:38:46.119918Z",
     "iopub.status.busy": "2024-07-18T13:38:46.119918Z",
     "iopub.status.idle": "2024-07-18T13:39:18.502210Z",
     "shell.execute_reply": "2024-07-18T13:39:18.502210Z"
    }
   },
   "outputs": [
    {
     "name": "stdout",
     "output_type": "stream",
     "text": [
      "PyAEDT WARNING: Argument `designname` is deprecated for method `__init__`; use `design` instead.\n"
     ]
    },
    {
     "name": "stdout",
     "output_type": "stream",
     "text": [
      "PyAEDT WARNING: Argument `projectname` is deprecated for method `__init__`; use `project` instead.\n"
     ]
    },
    {
     "name": "stdout",
     "output_type": "stream",
     "text": [
      "PyAEDT WARNING: Argument `specified_version` is deprecated for method `__init__`; use `version` instead.\n"
     ]
    },
    {
     "name": "stdout",
     "output_type": "stream",
     "text": [
      "PyAEDT WARNING: Argument `new_desktop_session` is deprecated for method `__init__`; use `new_desktop` instead.\n"
     ]
    },
    {
     "name": "stdout",
     "output_type": "stream",
     "text": [
      "PyAEDT INFO: Initializing new Desktop session.\n"
     ]
    },
    {
     "name": "stdout",
     "output_type": "stream",
     "text": [
      "PyAEDT INFO: StdOut is enabled\n"
     ]
    },
    {
     "name": "stdout",
     "output_type": "stream",
     "text": [
      "PyAEDT INFO: Log on file is enabled\n"
     ]
    },
    {
     "name": "stdout",
     "output_type": "stream",
     "text": [
      "PyAEDT INFO: Log on Desktop Message Manager is enabled\n"
     ]
    },
    {
     "name": "stdout",
     "output_type": "stream",
     "text": [
      "PyAEDT INFO: Debug logger is disabled. PyAEDT methods will not be logged.\n"
     ]
    },
    {
     "name": "stdout",
     "output_type": "stream",
     "text": [
      "PyAEDT INFO: Launching PyAEDT outside AEDT with gRPC plugin.\n"
     ]
    },
    {
     "name": "stdout",
     "output_type": "stream",
     "text": [
      "PyAEDT INFO: New AEDT session is starting on gRPC port 63667\n"
     ]
    },
    {
     "name": "stdout",
     "output_type": "stream",
     "text": [
      "PyAEDT INFO: AEDT installation Path C:\\Program Files\\AnsysEM\\v241\\Win64\n"
     ]
    },
    {
     "name": "stdout",
     "output_type": "stream",
     "text": [
      "PyAEDT INFO: Ansoft.ElectronicsDesktop.2024.1 version started with process ID 8060.\n"
     ]
    },
    {
     "name": "stdout",
     "output_type": "stream",
     "text": [
      "PyAEDT INFO: pyaedt v0.9.9\n"
     ]
    },
    {
     "name": "stdout",
     "output_type": "stream",
     "text": [
      "PyAEDT INFO: Python version 3.10.11 (tags/v3.10.11:7d4cc5a, Apr  5 2023, 00:38:17) [MSC v.1929 64 bit (AMD64)]\n"
     ]
    },
    {
     "name": "stdout",
     "output_type": "stream",
     "text": [
      "PyAEDT INFO: AEDT 2024.1.0 Build Date 2023-11-27 22:16:18\n"
     ]
    },
    {
     "name": "stdout",
     "output_type": "stream",
     "text": [
      "PyAEDT INFO: Project Demo_3DComp has been created.\n"
     ]
    },
    {
     "name": "stdout",
     "output_type": "stream",
     "text": [
      "PyAEDT INFO: Added design 'Linear_Array' of type HFSS.\n"
     ]
    },
    {
     "name": "stdout",
     "output_type": "stream",
     "text": [
      "PyAEDT INFO: Aedt Objects correctly read\n"
     ]
    }
   ],
   "source": [
    "h3d = pyaedt.Hfss(\n",
    "    projectname=\"Demo_3DComp\",\n",
    "    designname=\"Linear_Array\",\n",
    "    specified_version=\"2024.1\",\n",
    "    new_desktop_session=True,\n",
    "    non_graphical=non_graphical,\n",
    "    close_on_exit=True,\n",
    "    solution_type=\"Terminal\",\n",
    ")"
   ]
  },
  {
   "cell_type": "markdown",
   "id": "abbec2b6",
   "metadata": {},
   "source": [
    "Set units to ``mm``."
   ]
  },
  {
   "cell_type": "code",
   "execution_count": 16,
   "id": "fb108ce8",
   "metadata": {
    "execution": {
     "iopub.execute_input": "2024-07-18T13:39:18.502210Z",
     "iopub.status.busy": "2024-07-18T13:39:18.502210Z",
     "iopub.status.idle": "2024-07-18T13:39:18.549096Z",
     "shell.execute_reply": "2024-07-18T13:39:18.549096Z"
    }
   },
   "outputs": [
    {
     "name": "stdout",
     "output_type": "stream",
     "text": [
      "PyAEDT INFO: Modeler class has been initialized! Elapsed time: 0m 0sec\n"
     ]
    },
    {
     "name": "stderr",
     "output_type": "stream",
     "text": [
      "C:\\actions-runner\\_work\\pyedb\\pyedb\\.venv\\lib\\site-packages\\pyaedt\\generic\\plot.py:55: UserWarning: The PyVista module is required to run some functionalities of PostProcess.\n",
      "Install with \n",
      "\n",
      "pip install pyvista\n",
      "\n",
      "Requires CPython.\n",
      "  warnings.warn(\n"
     ]
    }
   ],
   "source": [
    "h3d.modeler.model_units = \"mm\""
   ]
  },
  {
   "cell_type": "markdown",
   "id": "847568c3",
   "metadata": {},
   "source": [
    "## Import the EDB as a 3D component\n",
    "\n",
    "One or more layout components can be imported into HFSS.\n",
    "The combination of layout data and 3D CAD data helps streamline model creation and setup."
   ]
  },
  {
   "cell_type": "code",
   "execution_count": 17,
   "id": "99218ceb",
   "metadata": {
    "execution": {
     "iopub.execute_input": "2024-07-18T13:39:18.549096Z",
     "iopub.status.busy": "2024-07-18T13:39:18.549096Z",
     "iopub.status.idle": "2024-07-18T13:39:20.112865Z",
     "shell.execute_reply": "2024-07-18T13:39:20.112865Z"
    }
   },
   "outputs": [
    {
     "name": "stdout",
     "output_type": "stream",
     "text": [
      "PyAEDT INFO: Logger is initialized in EDB.\n"
     ]
    },
    {
     "name": "stdout",
     "output_type": "stream",
     "text": [
      "PyAEDT INFO: legacy v0.21.1\n"
     ]
    },
    {
     "name": "stdout",
     "output_type": "stream",
     "text": [
      "PyAEDT INFO: Python version 3.10.11 (tags/v3.10.11:7d4cc5a, Apr  5 2023, 00:38:17) [MSC v.1929 64 bit (AMD64)]\n"
     ]
    },
    {
     "name": "stdout",
     "output_type": "stream",
     "text": [
      "PyAEDT INFO: Database linear_array.aedb Opened in 2024.1\n"
     ]
    },
    {
     "name": "stdout",
     "output_type": "stream",
     "text": [
      "PyAEDT INFO: Cell Cell_7LDH9F Opened\n"
     ]
    },
    {
     "name": "stdout",
     "output_type": "stream",
     "text": [
      "PyAEDT INFO: Builder was initialized.\n"
     ]
    },
    {
     "name": "stdout",
     "output_type": "stream",
     "text": [
      "PyAEDT INFO: EDB initialized.\n"
     ]
    },
    {
     "name": "stdout",
     "output_type": "stream",
     "text": [
      "PyAEDT INFO: Parsing C:/Users/ansys/Documents/Ansoft/Demo_3DComp.aedt.\n"
     ]
    },
    {
     "name": "stdout",
     "output_type": "stream",
     "text": [
      "PyAEDT INFO: File C:/Users/ansys/Documents/Ansoft/Demo_3DComp.aedt correctly loaded. Elapsed time: 0m 0sec\n"
     ]
    },
    {
     "name": "stdout",
     "output_type": "stream",
     "text": [
      "PyAEDT INFO: aedt file load time 0.01562666893005371\n"
     ]
    },
    {
     "name": "stdout",
     "output_type": "stream",
     "text": [
      "PyAEDT INFO: Logger is initialized in EDB.\n"
     ]
    },
    {
     "name": "stdout",
     "output_type": "stream",
     "text": [
      "PyAEDT INFO: legacy v0.21.1\n"
     ]
    },
    {
     "name": "stdout",
     "output_type": "stream",
     "text": [
      "PyAEDT INFO: Python version 3.10.11 (tags/v3.10.11:7d4cc5a, Apr  5 2023, 00:38:17) [MSC v.1929 64 bit (AMD64)]\n"
     ]
    },
    {
     "name": "stdout",
     "output_type": "stream",
     "text": [
      "PyAEDT WARNING: AEDT project-related file C:\\Users\\ansys\\Documents\\Ansoft\\Demo_3DComp.aedb\\LayoutComponents\\linear_array0\\linear_array0.aedt.lock exists and may need to be deleted before opening the EDB in HFSS 3D Layout.\n"
     ]
    },
    {
     "name": "stdout",
     "output_type": "stream",
     "text": [
      "PyAEDT INFO: Database linear_array0.aedb Opened in 2024.1\n"
     ]
    },
    {
     "name": "stdout",
     "output_type": "stream",
     "text": [
      "PyAEDT INFO: Cell Cell_7LDH9F Opened\n"
     ]
    },
    {
     "name": "stdout",
     "output_type": "stream",
     "text": [
      "PyAEDT INFO: Builder was initialized.\n"
     ]
    },
    {
     "name": "stdout",
     "output_type": "stream",
     "text": [
      "PyAEDT INFO: EDB initialized.\n"
     ]
    }
   ],
   "source": [
    "component = h3d.modeler.insert_layout_component(aedb_path, parameter_mapping=True)"
   ]
  },
  {
   "cell_type": "markdown",
   "id": "7ad2cd7b",
   "metadata": {},
   "source": [
    "## Expose the component parameters\n",
    "\n",
    "If a layout component is parametric, you can expose and change parameters in HFSS"
   ]
  },
  {
   "cell_type": "code",
   "execution_count": 18,
   "id": "bc5b2d7a",
   "metadata": {
    "execution": {
     "iopub.execute_input": "2024-07-18T13:39:20.112865Z",
     "iopub.status.busy": "2024-07-18T13:39:20.112865Z",
     "iopub.status.idle": "2024-07-18T13:39:20.315946Z",
     "shell.execute_reply": "2024-07-18T13:39:20.315946Z"
    }
   },
   "outputs": [],
   "source": [
    "component.parameters\n",
    "\n",
    "w1_name = \"{}_{}\".format(\"w1\", h3d.modeler.user_defined_component_names[0])\n",
    "h3d[w1_name] = 0.0015"
   ]
  },
  {
   "cell_type": "markdown",
   "id": "b75d819b",
   "metadata": {},
   "source": [
    "### Radiation Boundary Assignment\n",
    "\n",
    "The 3D domain includes the air volume surrounding the antenna.\n",
    "This antenna will be simulted from 20 GHz - 50 GHz.\n",
    "\n",
    "A \"radiation boundary\" will be assigned to the outer boundaries of the domain.\n",
    "This boundary should be roughly one quarter wavelength away from the radiating structure:\n",
    "\n",
    "$$ \\lambda/4 = \\frac{c_0}{4 f} \\approx 2.8mm $$"
   ]
  },
  {
   "cell_type": "code",
   "execution_count": 19,
   "id": "62c1f885",
   "metadata": {
    "execution": {
     "iopub.execute_input": "2024-07-18T13:39:20.315946Z",
     "iopub.status.busy": "2024-07-18T13:39:20.315946Z",
     "iopub.status.idle": "2024-07-18T13:39:20.597188Z",
     "shell.execute_reply": "2024-07-18T13:39:20.597188Z"
    }
   },
   "outputs": [
    {
     "name": "stdout",
     "output_type": "stream",
     "text": [
      "PyAEDT INFO: Boundary Radiation Rad__35A98B has been correctly created.\n"
     ]
    },
    {
     "data": {
      "text/plain": [
       "<pyaedt.modules.Boundary.BoundaryObject at 0x204f974b670>"
      ]
     },
     "execution_count": 19,
     "metadata": {},
     "output_type": "execute_result"
    }
   ],
   "source": [
    "h3d.modeler.fit_all()\n",
    "\n",
    "h3d.modeler.create_air_region(2.8, 2.8, 2.8, 2.8, 2.8, 2.8, is_percentage=False)\n",
    "h3d.assign_radiation_boundary_to_objects(\"Region\")"
   ]
  },
  {
   "cell_type": "markdown",
   "id": "206f2e39",
   "metadata": {},
   "source": [
    "### Set up analysis\n",
    "\n",
    "The finite element mesh is adapted iteratively.\n",
    "The maximum number of adaptive passes is set using the ``MaximumPasses`` property.\n",
    "This model converges such that the $S_{11}$ is independent of the mesh.\n",
    "The default accuracy setting is:\n",
    "$$ \\max(|\\Delta S|) < 0.02 $$"
   ]
  },
  {
   "cell_type": "code",
   "execution_count": 20,
   "id": "10d4a5a5",
   "metadata": {
    "execution": {
     "iopub.execute_input": "2024-07-18T13:39:20.597188Z",
     "iopub.status.busy": "2024-07-18T13:39:20.597188Z",
     "iopub.status.idle": "2024-07-18T13:39:20.690940Z",
     "shell.execute_reply": "2024-07-18T13:39:20.690940Z"
    }
   },
   "outputs": [],
   "source": [
    "setup = h3d.create_setup()\n",
    "setup.props[\"Frequency\"] = \"20GHz\"\n",
    "setup.props[\"MaximumPasses\"] = 10"
   ]
  },
  {
   "cell_type": "markdown",
   "id": "088eeff3",
   "metadata": {},
   "source": [
    "Specify properties of the frequency sweep:"
   ]
  },
  {
   "cell_type": "code",
   "execution_count": 21,
   "id": "43807f75",
   "metadata": {
    "execution": {
     "iopub.execute_input": "2024-07-18T13:39:20.690940Z",
     "iopub.status.busy": "2024-07-18T13:39:20.690940Z",
     "iopub.status.idle": "2024-07-18T13:39:20.737816Z",
     "shell.execute_reply": "2024-07-18T13:39:20.737816Z"
    }
   },
   "outputs": [
    {
     "name": "stdout",
     "output_type": "stream",
     "text": [
      "PyAEDT WARNING: Argument `sweepname` is deprecated for method `add_sweep`; use `name` instead.\n"
     ]
    },
    {
     "data": {
      "text/plain": [
       "True"
      ]
     },
     "execution_count": 21,
     "metadata": {},
     "output_type": "execute_result"
    }
   ],
   "source": [
    "sweep1 = setup.add_sweep(sweepname=\"20GHz_to_50GHz\")\n",
    "sweep1.props[\"RangeStart\"] = \"20GHz\"\n",
    "sweep1.props[\"RangeEnd\"] = \"50GHz\"\n",
    "sweep1.update()"
   ]
  },
  {
   "cell_type": "markdown",
   "id": "d876bc9a",
   "metadata": {},
   "source": [
    "Solve the project"
   ]
  },
  {
   "cell_type": "code",
   "execution_count": 22,
   "id": "bf1e2f6b",
   "metadata": {
    "execution": {
     "iopub.execute_input": "2024-07-18T13:39:20.737816Z",
     "iopub.status.busy": "2024-07-18T13:39:20.737816Z",
     "iopub.status.idle": "2024-07-18T13:41:33.452419Z",
     "shell.execute_reply": "2024-07-18T13:41:33.452419Z"
    }
   },
   "outputs": [
    {
     "name": "stdout",
     "output_type": "stream",
     "text": [
      "PyAEDT INFO: Key Desktop/ActiveDSOConfigurations/HFSS correctly changed.\n"
     ]
    },
    {
     "name": "stdout",
     "output_type": "stream",
     "text": [
      "PyAEDT INFO: Solving all design setups.\n"
     ]
    },
    {
     "name": "stdout",
     "output_type": "stream",
     "text": [
      "PyAEDT INFO: Key Desktop/ActiveDSOConfigurations/HFSS correctly changed.\n"
     ]
    },
    {
     "name": "stdout",
     "output_type": "stream",
     "text": [
      "PyAEDT INFO: Design setup None solved correctly in 0.0h 2.0m 13.0s\n"
     ]
    },
    {
     "data": {
      "text/plain": [
       "True"
      ]
     },
     "execution_count": 22,
     "metadata": {},
     "output_type": "execute_result"
    }
   ],
   "source": [
    "h3d.analyze()"
   ]
  },
  {
   "cell_type": "markdown",
   "id": "9917305f",
   "metadata": {},
   "source": [
    "## Plot results outside AEDT\n",
    "\n",
    "Plot results using Matplotlib."
   ]
  },
  {
   "cell_type": "code",
   "execution_count": 23,
   "id": "df2ee808",
   "metadata": {
    "execution": {
     "iopub.execute_input": "2024-07-18T13:41:33.452419Z",
     "iopub.status.busy": "2024-07-18T13:41:33.452419Z",
     "iopub.status.idle": "2024-07-18T13:41:33.655543Z",
     "shell.execute_reply": "2024-07-18T13:41:33.655543Z"
    }
   },
   "outputs": [
    {
     "name": "stdout",
     "output_type": "stream",
     "text": [
      "PyAEDT INFO: PostProcessor class has been initialized! Elapsed time: 0m 0sec\n"
     ]
    },
    {
     "name": "stdout",
     "output_type": "stream",
     "text": [
      "PyAEDT INFO: Post class has been initialized! Elapsed time: 0m 0sec\n"
     ]
    },
    {
     "name": "stdout",
     "output_type": "stream",
     "text": [
      "PyAEDT INFO: Solution Data Correctly Loaded.\n"
     ]
    },
    {
     "data": {
      "text/plain": [
       "<Figure size 2000x1000 with 1 Axes>"
      ]
     },
     "execution_count": 23,
     "metadata": {},
     "output_type": "execute_result"
    }
   ],
   "source": [
    "trace = h3d.get_traces_for_plot()\n",
    "solution = h3d.post.get_solution_data(trace[0])\n",
    "solution.plot()"
   ]
  },
  {
   "cell_type": "markdown",
   "id": "f9c3f4f6",
   "metadata": {},
   "source": [
    "## Plot far fields in AEDT\n",
    "\n",
    "Plot radiation patterns in AEDT."
   ]
  },
  {
   "cell_type": "code",
   "execution_count": 24,
   "id": "8eec2a01",
   "metadata": {
    "execution": {
     "iopub.execute_input": "2024-07-18T13:41:33.655543Z",
     "iopub.status.busy": "2024-07-18T13:41:33.655543Z",
     "iopub.status.idle": "2024-07-18T13:41:33.858727Z",
     "shell.execute_reply": "2024-07-18T13:41:33.858727Z"
    }
   },
   "outputs": [
    {
     "data": {
      "text/plain": [
       "True"
      ]
     },
     "execution_count": 24,
     "metadata": {},
     "output_type": "execute_result"
    }
   ],
   "source": [
    "variations = {}\n",
    "variations[\"Freq\"] = [\"20GHz\"]\n",
    "variations[\"Theta\"] = [\"All\"]\n",
    "variations[\"Phi\"] = [\"All\"]\n",
    "h3d.insert_infinite_sphere(name=\"3D\")\n",
    "\n",
    "new_report = h3d.post.reports_by_category.far_field(\"db(RealizedGainTotal)\", h3d.nominal_adaptive, \"3D\")\n",
    "new_report.variations = variations\n",
    "new_report.primary_sweep = \"Theta\"\n",
    "new_report.create(\"Realized2D\")"
   ]
  },
  {
   "cell_type": "markdown",
   "id": "ac755464",
   "metadata": {},
   "source": [
    "## Plot far fields in AEDT\n",
    "\n",
    "Plot radiation patterns in AEDT"
   ]
  },
  {
   "cell_type": "code",
   "execution_count": 25,
   "id": "6df7f7f3",
   "metadata": {
    "execution": {
     "iopub.execute_input": "2024-07-18T13:41:33.858727Z",
     "iopub.status.busy": "2024-07-18T13:41:33.858727Z",
     "iopub.status.idle": "2024-07-18T13:41:33.983674Z",
     "shell.execute_reply": "2024-07-18T13:41:33.983674Z"
    }
   },
   "outputs": [
    {
     "data": {
      "text/plain": [
       "True"
      ]
     },
     "execution_count": 25,
     "metadata": {},
     "output_type": "execute_result"
    }
   ],
   "source": [
    "new_report.report_type = \"3D Polar Plot\"\n",
    "new_report.secondary_sweep = \"Phi\"\n",
    "new_report.create(\"Realized3D\")"
   ]
  },
  {
   "cell_type": "markdown",
   "id": "b1e912d8",
   "metadata": {},
   "source": [
    "## Plot far fields outside AEDT\n",
    "\n",
    "Plot radiation patterns outside AEDT"
   ]
  },
  {
   "cell_type": "code",
   "execution_count": 26,
   "id": "fd5d5c4b",
   "metadata": {
    "execution": {
     "iopub.execute_input": "2024-07-18T13:41:33.983674Z",
     "iopub.status.busy": "2024-07-18T13:41:33.983674Z",
     "iopub.status.idle": "2024-07-18T13:41:34.061899Z",
     "shell.execute_reply": "2024-07-18T13:41:34.061899Z"
    }
   },
   "outputs": [
    {
     "name": "stdout",
     "output_type": "stream",
     "text": [
      "PyAEDT INFO: Solution Data Correctly Loaded.\n"
     ]
    },
    {
     "name": "stderr",
     "output_type": "stream",
     "text": [
      "C:\\actions-runner\\_work\\pyedb\\pyedb\\.venv\\lib\\site-packages\\pyaedt\\generic\\plot.py:460: UserWarning: FigureCanvasAgg is non-interactive, and thus cannot be shown\n",
      "  fig.show()\n"
     ]
    },
    {
     "data": {
      "text/plain": [
       "<Figure size 2000x1000 with 2 Axes>"
      ]
     },
     "execution_count": 26,
     "metadata": {},
     "output_type": "execute_result"
    }
   ],
   "source": [
    "solutions_custom = new_report.get_solution_data()\n",
    "solutions_custom.plot_3d()"
   ]
  },
  {
   "cell_type": "markdown",
   "id": "e2bf08fe",
   "metadata": {},
   "source": [
    "## Plot E Field on nets and layers\n",
    "\n",
    "Plot E Field on nets and layers in AEDT"
   ]
  },
  {
   "cell_type": "code",
   "execution_count": 27,
   "id": "42e5bc38",
   "metadata": {
    "execution": {
     "iopub.execute_input": "2024-07-18T13:41:34.061899Z",
     "iopub.status.busy": "2024-07-18T13:41:34.061899Z",
     "iopub.status.idle": "2024-07-18T13:41:34.234044Z",
     "shell.execute_reply": "2024-07-18T13:41:34.234044Z"
    }
   },
   "outputs": [
    {
     "data": {
      "text/plain": [
       "<pyaedt.modules.solutions.FieldPlot at 0x204f9a18b70>"
      ]
     },
     "execution_count": 27,
     "metadata": {},
     "output_type": "execute_result"
    }
   ],
   "source": [
    "h3d.post.create_fieldplot_layers_nets(\n",
    "    [[\"TOP\", \"Array_antenna\"]],\n",
    "    \"Mag_E\",\n",
    "    intrinsics={\"Freq\": \"20GHz\", \"Phase\": \"0deg\"},\n",
    "    plot_name=\"E_Layers\",\n",
    ")"
   ]
  },
  {
   "cell_type": "markdown",
   "id": "f0bb2abb",
   "metadata": {},
   "source": [
    "## Close AEDT\n",
    "\n",
    "After the simulation completes, the application can be released from the\n",
    ":func:`pyaedt.Desktop.release_desktop` method.\n",
    "All methods provide for saving the project before closing AEDT."
   ]
  },
  {
   "cell_type": "code",
   "execution_count": 28,
   "id": "1033f990",
   "metadata": {
    "execution": {
     "iopub.execute_input": "2024-07-18T13:41:34.234044Z",
     "iopub.status.busy": "2024-07-18T13:41:34.234044Z",
     "iopub.status.idle": "2024-07-18T13:41:37.634600Z",
     "shell.execute_reply": "2024-07-18T13:41:37.634600Z"
    }
   },
   "outputs": [
    {
     "name": "stdout",
     "output_type": "stream",
     "text": [
      "PyAEDT INFO: Project test_layout Saved correctly\n"
     ]
    },
    {
     "name": "stdout",
     "output_type": "stream",
     "text": [
      "PyAEDT INFO: Desktop has been released and closed.\n"
     ]
    },
    {
     "data": {
      "text/plain": [
       "True"
      ]
     },
     "execution_count": 28,
     "metadata": {},
     "output_type": "execute_result"
    }
   ],
   "source": [
    "h3d.save_project(os.path.join(temp_dir.name, \"test_layout.aedt\"))\n",
    "h3d.release_desktop()"
   ]
  },
  {
   "cell_type": "markdown",
   "id": "1abcd2e8",
   "metadata": {},
   "source": [
    "### Clean up the temporary directory\n",
    "\n",
    "The following command removes the project and the temporary directory.\n",
    "If you'd like to save this project, save it to a folder of your choice prior\n",
    "to running the following cell."
   ]
  },
  {
   "cell_type": "code",
   "execution_count": 29,
   "id": "58b5ba1c",
   "metadata": {
    "execution": {
     "iopub.execute_input": "2024-07-18T13:41:37.634600Z",
     "iopub.status.busy": "2024-07-18T13:41:37.634600Z",
     "iopub.status.idle": "2024-07-18T13:41:37.712749Z",
     "shell.execute_reply": "2024-07-18T13:41:37.712749Z"
    }
   },
   "outputs": [],
   "source": [
    "temp_dir.cleanup()"
   ]
  }
 ],
 "metadata": {
  "jupytext": {
   "cell_metadata_filter": "-all",
   "main_language": "python",
   "notebook_metadata_filter": "-all",
   "text_representation": {
    "extension": ".py",
    "format_name": "light"
   }
  },
  "language_info": {
   "codemirror_mode": {
    "name": "ipython",
    "version": 3
   },
   "file_extension": ".py",
   "mimetype": "text/x-python",
   "name": "python",
   "nbconvert_exporter": "python",
   "pygments_lexer": "ipython3",
   "version": "3.10.11"
  }
 },
 "nbformat": 4,
 "nbformat_minor": 5
}
