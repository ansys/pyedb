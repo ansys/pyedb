{
 "cells": [
  {
   "cell_type": "markdown",
   "id": "d460c5a0",
   "metadata": {},
   "source": [
    "# EDB: geometry creation"
   ]
  },
  {
   "cell_type": "markdown",
   "id": "1589f894",
   "metadata": {},
   "source": [
    "This example shows how you can use EDB to create a layout.\n",
    "## Final expected project\n",
    "\n",
    "<img src=\"_static/diff_via.png\" width=\"500\">\n",
    "\n",
    "## Import EDB layout object\n",
    "Import the EDB layout object and initialize it on version 2023 R2."
   ]
  },
  {
   "cell_type": "code",
   "execution_count": 1,
   "id": "27506e33",
   "metadata": {
    "execution": {
     "iopub.execute_input": "2024-07-10T08:30:51.968428Z",
     "iopub.status.busy": "2024-07-10T08:30:51.968428Z",
     "iopub.status.idle": "2024-07-10T08:31:03.058797Z",
     "shell.execute_reply": "2024-07-10T08:31:03.058797Z"
    }
   },
   "outputs": [
    {
     "name": "stdout",
     "output_type": "stream",
     "text": [
      "AEDB file path: C:\\Users\\ansys\\AppData\\Local\\Temp\\tmp65pl_kl3.ansys\\create_via.aedb\n",
      "EDB version: 2024.1\n"
     ]
    },
    {
     "name": "stdout",
     "output_type": "stream",
     "text": [
      "PyEDB INFO: StdOut is enabled\n"
     ]
    },
    {
     "name": "stdout",
     "output_type": "stream",
     "text": [
      "PyEDB INFO: Logger is initialized in EDB.\n"
     ]
    },
    {
     "name": "stdout",
     "output_type": "stream",
     "text": [
      "PyEDB INFO: legacy v0.19.dev0\n"
     ]
    },
    {
     "name": "stdout",
     "output_type": "stream",
     "text": [
      "PyEDB INFO: Python version 3.10.11 (tags/v3.10.11:7d4cc5a, Apr  5 2023, 00:38:17) [MSC v.1929 64 bit (AMD64)]\n"
     ]
    },
    {
     "name": "stderr",
     "output_type": "stream",
     "text": [
      "--- Logging error ---\n",
      "Traceback (most recent call last):\n",
      "  File \"C:\\actions-runner\\_work\\_tool\\Python\\3.10.11\\x64\\lib\\logging\\handlers.py\", line 74, in emit\n",
      "    self.doRollover()\n",
      "  File \"C:\\actions-runner\\_work\\_tool\\Python\\3.10.11\\x64\\lib\\logging\\handlers.py\", line 179, in doRollover\n",
      "    self.rotate(self.baseFilename, dfn)\n",
      "  File \"C:\\actions-runner\\_work\\_tool\\Python\\3.10.11\\x64\\lib\\logging\\handlers.py\", line 115, in rotate\n",
      "    os.rename(source, dest)\n",
      "PermissionError: [WinError 32] The process cannot access the file because it is being used by another process: 'C:\\\\Users\\\\ansys\\\\AppData\\\\Local\\\\Temp\\\\pyedb_ansys.log' -> 'C:\\\\Users\\\\ansys\\\\AppData\\\\Local\\\\Temp\\\\pyedb_ansys.log.1'\n",
      "Call stack:\n",
      "  File \"C:\\actions-runner\\_work\\_tool\\Python\\3.10.11\\x64\\lib\\runpy.py\", line 196, in _run_module_as_main\n",
      "    return _run_code(code, main_globals, None,\n",
      "  File \"C:\\actions-runner\\_work\\_tool\\Python\\3.10.11\\x64\\lib\\runpy.py\", line 86, in _run_code\n",
      "    exec(code, run_globals)\n",
      "  File \"C:\\actions-runner\\_work\\pyedb\\pyedb\\.venv\\lib\\site-packages\\ipykernel_launcher.py\", line 18, in <module>\n",
      "    app.launch_new_instance()\n",
      "  File \"C:\\actions-runner\\_work\\pyedb\\pyedb\\.venv\\lib\\site-packages\\traitlets\\config\\application.py\", line 1075, in launch_instance\n",
      "    app.start()\n",
      "  File \"C:\\actions-runner\\_work\\pyedb\\pyedb\\.venv\\lib\\site-packages\\ipykernel\\kernelapp.py\", line 739, in start\n",
      "    self.io_loop.start()\n",
      "  File \"C:\\actions-runner\\_work\\pyedb\\pyedb\\.venv\\lib\\site-packages\\tornado\\platform\\asyncio.py\", line 205, in start\n",
      "    self.asyncio_loop.run_forever()\n",
      "  File \"C:\\actions-runner\\_work\\_tool\\Python\\3.10.11\\x64\\lib\\asyncio\\base_events.py\", line 603, in run_forever\n",
      "    self._run_once()\n",
      "  File \"C:\\actions-runner\\_work\\_tool\\Python\\3.10.11\\x64\\lib\\asyncio\\base_events.py\", line 1909, in _run_once\n",
      "    handle._run()\n",
      "  File \"C:\\actions-runner\\_work\\_tool\\Python\\3.10.11\\x64\\lib\\asyncio\\events.py\", line 80, in _run\n",
      "    self._context.run(self._callback, *self._args)\n",
      "  File \"C:\\actions-runner\\_work\\pyedb\\pyedb\\.venv\\lib\\site-packages\\ipykernel\\kernelbase.py\", line 545, in dispatch_queue\n",
      "    await self.process_one()\n",
      "  File \"C:\\actions-runner\\_work\\pyedb\\pyedb\\.venv\\lib\\site-packages\\ipykernel\\kernelbase.py\", line 534, in process_one\n",
      "    await dispatch(*args)\n",
      "  File \"C:\\actions-runner\\_work\\pyedb\\pyedb\\.venv\\lib\\site-packages\\ipykernel\\kernelbase.py\", line 437, in dispatch_shell\n",
      "    await result\n",
      "  File \"C:\\actions-runner\\_work\\pyedb\\pyedb\\.venv\\lib\\site-packages\\ipykernel\\ipkernel.py\", line 362, in execute_request\n",
      "    await super().execute_request(stream, ident, parent)\n",
      "  File \"C:\\actions-runner\\_work\\pyedb\\pyedb\\.venv\\lib\\site-packages\\ipykernel\\kernelbase.py\", line 778, in execute_request\n",
      "    reply_content = await reply_content\n",
      "  File \"C:\\actions-runner\\_work\\pyedb\\pyedb\\.venv\\lib\\site-packages\\ipykernel\\ipkernel.py\", line 449, in do_execute\n",
      "    res = shell.run_cell(\n",
      "  File \"C:\\actions-runner\\_work\\pyedb\\pyedb\\.venv\\lib\\site-packages\\ipykernel\\zmqshell.py\", line 549, in run_cell\n",
      "    return super().run_cell(*args, **kwargs)\n",
      "  File \"C:\\actions-runner\\_work\\pyedb\\pyedb\\.venv\\lib\\site-packages\\IPython\\core\\interactiveshell.py\", line 3075, in run_cell\n",
      "    result = self._run_cell(\n",
      "  File \"C:\\actions-runner\\_work\\pyedb\\pyedb\\.venv\\lib\\site-packages\\IPython\\core\\interactiveshell.py\", line 3130, in _run_cell\n",
      "    result = runner(coro)\n",
      "  File \"C:\\actions-runner\\_work\\pyedb\\pyedb\\.venv\\lib\\site-packages\\IPython\\core\\async_helpers.py\", line 128, in _pseudo_sync_runner\n",
      "    coro.send(None)\n",
      "  File \"C:\\actions-runner\\_work\\pyedb\\pyedb\\.venv\\lib\\site-packages\\IPython\\core\\interactiveshell.py\", line 3334, in run_cell_async\n",
      "    has_raised = await self.run_ast_nodes(code_ast.body, cell_name,\n",
      "  File \"C:\\actions-runner\\_work\\pyedb\\pyedb\\.venv\\lib\\site-packages\\IPython\\core\\interactiveshell.py\", line 3517, in run_ast_nodes\n",
      "    if await self.run_code(code, result, async_=asy):\n",
      "  File \"C:\\actions-runner\\_work\\pyedb\\pyedb\\.venv\\lib\\site-packages\\IPython\\core\\interactiveshell.py\", line 3577, in run_code\n",
      "    exec(code_obj, self.user_global_ns, self.user_ns)\n",
      "  File \"C:\\Users\\ansys\\AppData\\Local\\Temp\\ipykernel_8752\\1617624986.py\", line 14, in <module>\n",
      "    edb = pyedb.Edb(edbpath=aedb_path, edbversion=edb_version)\n",
      "  File \"C:\\actions-runner\\_work\\pyedb\\pyedb\\.venv\\lib\\site-packages\\pyedb\\generic\\design_types.py\", line 110, in Edb\n",
      "    return app(\n",
      "  File \"C:\\actions-runner\\_work\\pyedb\\pyedb\\.venv\\lib\\site-packages\\pyedb\\dotnet\\edb.py\", line 209, in __init__\n",
      "    Database.__init__(self, edbversion=edbversion, student_version=student_version)\n",
      "  File \"C:\\actions-runner\\_work\\pyedb\\pyedb\\.venv\\lib\\site-packages\\pyedb\\dotnet\\edb_core\\dotnet\\database.py\", line 829, in __init__\n",
      "    EdbDotNet.__init__(self, edbversion=edbversion, student_version=student_version)\n",
      "  File \"C:\\actions-runner\\_work\\pyedb\\pyedb\\.venv\\lib\\site-packages\\pyedb\\dotnet\\edb_core\\dotnet\\database.py\", line 726, in __init__\n",
      "    self._logger.enable_stdout_log()\n",
      "  File \"C:\\actions-runner\\_work\\pyedb\\pyedb\\.venv\\lib\\site-packages\\pyedb\\edb_logger.py\", line 318, in enable_stdout_log\n",
      "    self.info(\"StdOut is enabled\")\n",
      "  File \"C:\\actions-runner\\_work\\pyedb\\pyedb\\.venv\\lib\\site-packages\\pyedb\\edb_logger.py\", line 346, in info\n",
      "    return self._log_on_handler(0, msg, *args, **kwargs)\n",
      "  File \"C:\\actions-runner\\_work\\pyedb\\pyedb\\.venv\\lib\\site-packages\\pyedb\\edb_logger.py\", line 293, in _log_on_handler\n",
      "    self._global.info(message_text, *args, **kwargs)\n",
      "Message: 'StdOut is enabled'\n",
      "Arguments: ()\n",
      "--- Logging error ---\n",
      "Traceback (most recent call last):\n",
      "  File \"C:\\actions-runner\\_work\\_tool\\Python\\3.10.11\\x64\\lib\\logging\\handlers.py\", line 74, in emit\n",
      "    self.doRollover()\n",
      "  File \"C:\\actions-runner\\_work\\_tool\\Python\\3.10.11\\x64\\lib\\logging\\handlers.py\", line 179, in doRollover\n",
      "    self.rotate(self.baseFilename, dfn)\n",
      "  File \"C:\\actions-runner\\_work\\_tool\\Python\\3.10.11\\x64\\lib\\logging\\handlers.py\", line 115, in rotate\n",
      "    os.rename(source, dest)\n",
      "PermissionError: [WinError 32] The process cannot access the file because it is being used by another process: 'C:\\\\Users\\\\ansys\\\\AppData\\\\Local\\\\Temp\\\\pyedb_ansys.log' -> 'C:\\\\Users\\\\ansys\\\\AppData\\\\Local\\\\Temp\\\\pyedb_ansys.log.1'\n",
      "Call stack:\n",
      "  File \"C:\\actions-runner\\_work\\_tool\\Python\\3.10.11\\x64\\lib\\runpy.py\", line 196, in _run_module_as_main\n",
      "    return _run_code(code, main_globals, None,\n",
      "  File \"C:\\actions-runner\\_work\\_tool\\Python\\3.10.11\\x64\\lib\\runpy.py\", line 86, in _run_code\n",
      "    exec(code, run_globals)\n",
      "  File \"C:\\actions-runner\\_work\\pyedb\\pyedb\\.venv\\lib\\site-packages\\ipykernel_launcher.py\", line 18, in <module>\n",
      "    app.launch_new_instance()\n",
      "  File \"C:\\actions-runner\\_work\\pyedb\\pyedb\\.venv\\lib\\site-packages\\traitlets\\config\\application.py\", line 1075, in launch_instance\n",
      "    app.start()\n",
      "  File \"C:\\actions-runner\\_work\\pyedb\\pyedb\\.venv\\lib\\site-packages\\ipykernel\\kernelapp.py\", line 739, in start\n",
      "    self.io_loop.start()\n",
      "  File \"C:\\actions-runner\\_work\\pyedb\\pyedb\\.venv\\lib\\site-packages\\tornado\\platform\\asyncio.py\", line 205, in start\n",
      "    self.asyncio_loop.run_forever()\n",
      "  File \"C:\\actions-runner\\_work\\_tool\\Python\\3.10.11\\x64\\lib\\asyncio\\base_events.py\", line 603, in run_forever\n",
      "    self._run_once()\n",
      "  File \"C:\\actions-runner\\_work\\_tool\\Python\\3.10.11\\x64\\lib\\asyncio\\base_events.py\", line 1909, in _run_once\n",
      "    handle._run()\n",
      "  File \"C:\\actions-runner\\_work\\_tool\\Python\\3.10.11\\x64\\lib\\asyncio\\events.py\", line 80, in _run\n",
      "    self._context.run(self._callback, *self._args)\n",
      "  File \"C:\\actions-runner\\_work\\pyedb\\pyedb\\.venv\\lib\\site-packages\\ipykernel\\kernelbase.py\", line 545, in dispatch_queue\n",
      "    await self.process_one()\n",
      "  File \"C:\\actions-runner\\_work\\pyedb\\pyedb\\.venv\\lib\\site-packages\\ipykernel\\kernelbase.py\", line 534, in process_one\n",
      "    await dispatch(*args)\n",
      "  File \"C:\\actions-runner\\_work\\pyedb\\pyedb\\.venv\\lib\\site-packages\\ipykernel\\kernelbase.py\", line 437, in dispatch_shell\n",
      "    await result\n",
      "  File \"C:\\actions-runner\\_work\\pyedb\\pyedb\\.venv\\lib\\site-packages\\ipykernel\\ipkernel.py\", line 362, in execute_request\n",
      "    await super().execute_request(stream, ident, parent)\n",
      "  File \"C:\\actions-runner\\_work\\pyedb\\pyedb\\.venv\\lib\\site-packages\\ipykernel\\kernelbase.py\", line 778, in execute_request\n",
      "    reply_content = await reply_content\n",
      "  File \"C:\\actions-runner\\_work\\pyedb\\pyedb\\.venv\\lib\\site-packages\\ipykernel\\ipkernel.py\", line 449, in do_execute\n",
      "    res = shell.run_cell(\n",
      "  File \"C:\\actions-runner\\_work\\pyedb\\pyedb\\.venv\\lib\\site-packages\\ipykernel\\zmqshell.py\", line 549, in run_cell\n",
      "    return super().run_cell(*args, **kwargs)\n",
      "  File \"C:\\actions-runner\\_work\\pyedb\\pyedb\\.venv\\lib\\site-packages\\IPython\\core\\interactiveshell.py\", line 3075, in run_cell\n",
      "    result = self._run_cell(\n",
      "  File \"C:\\actions-runner\\_work\\pyedb\\pyedb\\.venv\\lib\\site-packages\\IPython\\core\\interactiveshell.py\", line 3130, in _run_cell\n",
      "    result = runner(coro)\n",
      "  File \"C:\\actions-runner\\_work\\pyedb\\pyedb\\.venv\\lib\\site-packages\\IPython\\core\\async_helpers.py\", line 128, in _pseudo_sync_runner\n",
      "    coro.send(None)\n",
      "  File \"C:\\actions-runner\\_work\\pyedb\\pyedb\\.venv\\lib\\site-packages\\IPython\\core\\interactiveshell.py\", line 3334, in run_cell_async\n",
      "    has_raised = await self.run_ast_nodes(code_ast.body, cell_name,\n",
      "  File \"C:\\actions-runner\\_work\\pyedb\\pyedb\\.venv\\lib\\site-packages\\IPython\\core\\interactiveshell.py\", line 3517, in run_ast_nodes\n",
      "    if await self.run_code(code, result, async_=asy):\n",
      "  File \"C:\\actions-runner\\_work\\pyedb\\pyedb\\.venv\\lib\\site-packages\\IPython\\core\\interactiveshell.py\", line 3577, in run_code\n",
      "    exec(code_obj, self.user_global_ns, self.user_ns)\n",
      "  File \"C:\\Users\\ansys\\AppData\\Local\\Temp\\ipykernel_8752\\1617624986.py\", line 14, in <module>\n",
      "    edb = pyedb.Edb(edbpath=aedb_path, edbversion=edb_version)\n",
      "  File \"C:\\actions-runner\\_work\\pyedb\\pyedb\\.venv\\lib\\site-packages\\pyedb\\generic\\design_types.py\", line 110, in Edb\n",
      "    return app(\n",
      "  File \"C:\\actions-runner\\_work\\pyedb\\pyedb\\.venv\\lib\\site-packages\\pyedb\\dotnet\\edb.py\", line 209, in __init__\n",
      "    Database.__init__(self, edbversion=edbversion, student_version=student_version)\n",
      "  File \"C:\\actions-runner\\_work\\pyedb\\pyedb\\.venv\\lib\\site-packages\\pyedb\\dotnet\\edb_core\\dotnet\\database.py\", line 829, in __init__\n",
      "    EdbDotNet.__init__(self, edbversion=edbversion, student_version=student_version)\n",
      "  File \"C:\\actions-runner\\_work\\pyedb\\pyedb\\.venv\\lib\\site-packages\\pyedb\\dotnet\\edb_core\\dotnet\\database.py\", line 732, in __init__\n",
      "    self._logger.info(\"Logger is initialized in EDB.\")\n",
      "  File \"C:\\actions-runner\\_work\\pyedb\\pyedb\\.venv\\lib\\site-packages\\pyedb\\edb_logger.py\", line 346, in info\n",
      "    return self._log_on_handler(0, msg, *args, **kwargs)\n",
      "  File \"C:\\actions-runner\\_work\\pyedb\\pyedb\\.venv\\lib\\site-packages\\pyedb\\edb_logger.py\", line 293, in _log_on_handler\n",
      "    self._global.info(message_text, *args, **kwargs)\n",
      "Message: 'Logger is initialized in EDB.'\n",
      "Arguments: ()\n",
      "--- Logging error ---\n",
      "Traceback (most recent call last):\n",
      "  File \"C:\\actions-runner\\_work\\_tool\\Python\\3.10.11\\x64\\lib\\logging\\handlers.py\", line 74, in emit\n",
      "    self.doRollover()\n",
      "  File \"C:\\actions-runner\\_work\\_tool\\Python\\3.10.11\\x64\\lib\\logging\\handlers.py\", line 179, in doRollover\n",
      "    self.rotate(self.baseFilename, dfn)\n",
      "  File \"C:\\actions-runner\\_work\\_tool\\Python\\3.10.11\\x64\\lib\\logging\\handlers.py\", line 115, in rotate\n",
      "    os.rename(source, dest)\n",
      "PermissionError: [WinError 32] The process cannot access the file because it is being used by another process: 'C:\\\\Users\\\\ansys\\\\AppData\\\\Local\\\\Temp\\\\pyedb_ansys.log' -> 'C:\\\\Users\\\\ansys\\\\AppData\\\\Local\\\\Temp\\\\pyedb_ansys.log.1'\n",
      "Call stack:\n",
      "  File \"C:\\actions-runner\\_work\\_tool\\Python\\3.10.11\\x64\\lib\\runpy.py\", line 196, in _run_module_as_main\n",
      "    return _run_code(code, main_globals, None,\n",
      "  File \"C:\\actions-runner\\_work\\_tool\\Python\\3.10.11\\x64\\lib\\runpy.py\", line 86, in _run_code\n",
      "    exec(code, run_globals)\n",
      "  File \"C:\\actions-runner\\_work\\pyedb\\pyedb\\.venv\\lib\\site-packages\\ipykernel_launcher.py\", line 18, in <module>\n",
      "    app.launch_new_instance()\n",
      "  File \"C:\\actions-runner\\_work\\pyedb\\pyedb\\.venv\\lib\\site-packages\\traitlets\\config\\application.py\", line 1075, in launch_instance\n",
      "    app.start()\n",
      "  File \"C:\\actions-runner\\_work\\pyedb\\pyedb\\.venv\\lib\\site-packages\\ipykernel\\kernelapp.py\", line 739, in start\n",
      "    self.io_loop.start()\n",
      "  File \"C:\\actions-runner\\_work\\pyedb\\pyedb\\.venv\\lib\\site-packages\\tornado\\platform\\asyncio.py\", line 205, in start\n",
      "    self.asyncio_loop.run_forever()\n",
      "  File \"C:\\actions-runner\\_work\\_tool\\Python\\3.10.11\\x64\\lib\\asyncio\\base_events.py\", line 603, in run_forever\n",
      "    self._run_once()\n",
      "  File \"C:\\actions-runner\\_work\\_tool\\Python\\3.10.11\\x64\\lib\\asyncio\\base_events.py\", line 1909, in _run_once\n",
      "    handle._run()\n",
      "  File \"C:\\actions-runner\\_work\\_tool\\Python\\3.10.11\\x64\\lib\\asyncio\\events.py\", line 80, in _run\n",
      "    self._context.run(self._callback, *self._args)\n",
      "  File \"C:\\actions-runner\\_work\\pyedb\\pyedb\\.venv\\lib\\site-packages\\ipykernel\\kernelbase.py\", line 545, in dispatch_queue\n",
      "    await self.process_one()\n",
      "  File \"C:\\actions-runner\\_work\\pyedb\\pyedb\\.venv\\lib\\site-packages\\ipykernel\\kernelbase.py\", line 534, in process_one\n",
      "    await dispatch(*args)\n",
      "  File \"C:\\actions-runner\\_work\\pyedb\\pyedb\\.venv\\lib\\site-packages\\ipykernel\\kernelbase.py\", line 437, in dispatch_shell\n",
      "    await result\n",
      "  File \"C:\\actions-runner\\_work\\pyedb\\pyedb\\.venv\\lib\\site-packages\\ipykernel\\ipkernel.py\", line 362, in execute_request\n",
      "    await super().execute_request(stream, ident, parent)\n",
      "  File \"C:\\actions-runner\\_work\\pyedb\\pyedb\\.venv\\lib\\site-packages\\ipykernel\\kernelbase.py\", line 778, in execute_request\n",
      "    reply_content = await reply_content\n",
      "  File \"C:\\actions-runner\\_work\\pyedb\\pyedb\\.venv\\lib\\site-packages\\ipykernel\\ipkernel.py\", line 449, in do_execute\n",
      "    res = shell.run_cell(\n",
      "  File \"C:\\actions-runner\\_work\\pyedb\\pyedb\\.venv\\lib\\site-packages\\ipykernel\\zmqshell.py\", line 549, in run_cell\n",
      "    return super().run_cell(*args, **kwargs)\n",
      "  File \"C:\\actions-runner\\_work\\pyedb\\pyedb\\.venv\\lib\\site-packages\\IPython\\core\\interactiveshell.py\", line 3075, in run_cell\n",
      "    result = self._run_cell(\n",
      "  File \"C:\\actions-runner\\_work\\pyedb\\pyedb\\.venv\\lib\\site-packages\\IPython\\core\\interactiveshell.py\", line 3130, in _run_cell\n",
      "    result = runner(coro)\n",
      "  File \"C:\\actions-runner\\_work\\pyedb\\pyedb\\.venv\\lib\\site-packages\\IPython\\core\\async_helpers.py\", line 128, in _pseudo_sync_runner\n",
      "    coro.send(None)\n",
      "  File \"C:\\actions-runner\\_work\\pyedb\\pyedb\\.venv\\lib\\site-packages\\IPython\\core\\interactiveshell.py\", line 3334, in run_cell_async\n",
      "    has_raised = await self.run_ast_nodes(code_ast.body, cell_name,\n",
      "  File \"C:\\actions-runner\\_work\\pyedb\\pyedb\\.venv\\lib\\site-packages\\IPython\\core\\interactiveshell.py\", line 3517, in run_ast_nodes\n",
      "    if await self.run_code(code, result, async_=asy):\n",
      "  File \"C:\\actions-runner\\_work\\pyedb\\pyedb\\.venv\\lib\\site-packages\\IPython\\core\\interactiveshell.py\", line 3577, in run_code\n",
      "    exec(code_obj, self.user_global_ns, self.user_ns)\n",
      "  File \"C:\\Users\\ansys\\AppData\\Local\\Temp\\ipykernel_8752\\1617624986.py\", line 14, in <module>\n",
      "    edb = pyedb.Edb(edbpath=aedb_path, edbversion=edb_version)\n",
      "  File \"C:\\actions-runner\\_work\\pyedb\\pyedb\\.venv\\lib\\site-packages\\pyedb\\generic\\design_types.py\", line 110, in Edb\n",
      "    return app(\n",
      "  File \"C:\\actions-runner\\_work\\pyedb\\pyedb\\.venv\\lib\\site-packages\\pyedb\\dotnet\\edb.py\", line 209, in __init__\n",
      "    Database.__init__(self, edbversion=edbversion, student_version=student_version)\n",
      "  File \"C:\\actions-runner\\_work\\pyedb\\pyedb\\.venv\\lib\\site-packages\\pyedb\\dotnet\\edb_core\\dotnet\\database.py\", line 829, in __init__\n",
      "    EdbDotNet.__init__(self, edbversion=edbversion, student_version=student_version)\n",
      "  File \"C:\\actions-runner\\_work\\pyedb\\pyedb\\.venv\\lib\\site-packages\\pyedb\\dotnet\\edb_core\\dotnet\\database.py\", line 733, in __init__\n",
      "    self._logger.info(\"legacy v%s\", __version__)\n",
      "  File \"C:\\actions-runner\\_work\\pyedb\\pyedb\\.venv\\lib\\site-packages\\pyedb\\edb_logger.py\", line 346, in info\n",
      "    return self._log_on_handler(0, msg, *args, **kwargs)\n",
      "  File \"C:\\actions-runner\\_work\\pyedb\\pyedb\\.venv\\lib\\site-packages\\pyedb\\edb_logger.py\", line 293, in _log_on_handler\n",
      "    self._global.info(message_text, *args, **kwargs)\n",
      "Message: 'legacy v%s'\n",
      "Arguments: ('0.19.dev0',)\n",
      "--- Logging error ---\n",
      "Traceback (most recent call last):\n",
      "  File \"C:\\actions-runner\\_work\\_tool\\Python\\3.10.11\\x64\\lib\\logging\\handlers.py\", line 74, in emit\n",
      "    self.doRollover()\n",
      "  File \"C:\\actions-runner\\_work\\_tool\\Python\\3.10.11\\x64\\lib\\logging\\handlers.py\", line 179, in doRollover\n",
      "    self.rotate(self.baseFilename, dfn)\n",
      "  File \"C:\\actions-runner\\_work\\_tool\\Python\\3.10.11\\x64\\lib\\logging\\handlers.py\", line 115, in rotate\n",
      "    os.rename(source, dest)\n",
      "PermissionError: [WinError 32] The process cannot access the file because it is being used by another process: 'C:\\\\Users\\\\ansys\\\\AppData\\\\Local\\\\Temp\\\\pyedb_ansys.log' -> 'C:\\\\Users\\\\ansys\\\\AppData\\\\Local\\\\Temp\\\\pyedb_ansys.log.1'\n",
      "Call stack:\n",
      "  File \"C:\\actions-runner\\_work\\_tool\\Python\\3.10.11\\x64\\lib\\runpy.py\", line 196, in _run_module_as_main\n",
      "    return _run_code(code, main_globals, None,\n",
      "  File \"C:\\actions-runner\\_work\\_tool\\Python\\3.10.11\\x64\\lib\\runpy.py\", line 86, in _run_code\n",
      "    exec(code, run_globals)\n",
      "  File \"C:\\actions-runner\\_work\\pyedb\\pyedb\\.venv\\lib\\site-packages\\ipykernel_launcher.py\", line 18, in <module>\n",
      "    app.launch_new_instance()\n",
      "  File \"C:\\actions-runner\\_work\\pyedb\\pyedb\\.venv\\lib\\site-packages\\traitlets\\config\\application.py\", line 1075, in launch_instance\n",
      "    app.start()\n",
      "  File \"C:\\actions-runner\\_work\\pyedb\\pyedb\\.venv\\lib\\site-packages\\ipykernel\\kernelapp.py\", line 739, in start\n",
      "    self.io_loop.start()\n",
      "  File \"C:\\actions-runner\\_work\\pyedb\\pyedb\\.venv\\lib\\site-packages\\tornado\\platform\\asyncio.py\", line 205, in start\n",
      "    self.asyncio_loop.run_forever()\n",
      "  File \"C:\\actions-runner\\_work\\_tool\\Python\\3.10.11\\x64\\lib\\asyncio\\base_events.py\", line 603, in run_forever\n",
      "    self._run_once()\n",
      "  File \"C:\\actions-runner\\_work\\_tool\\Python\\3.10.11\\x64\\lib\\asyncio\\base_events.py\", line 1909, in _run_once\n",
      "    handle._run()\n",
      "  File \"C:\\actions-runner\\_work\\_tool\\Python\\3.10.11\\x64\\lib\\asyncio\\events.py\", line 80, in _run\n",
      "    self._context.run(self._callback, *self._args)\n",
      "  File \"C:\\actions-runner\\_work\\pyedb\\pyedb\\.venv\\lib\\site-packages\\ipykernel\\kernelbase.py\", line 545, in dispatch_queue\n",
      "    await self.process_one()\n",
      "  File \"C:\\actions-runner\\_work\\pyedb\\pyedb\\.venv\\lib\\site-packages\\ipykernel\\kernelbase.py\", line 534, in process_one\n",
      "    await dispatch(*args)\n",
      "  File \"C:\\actions-runner\\_work\\pyedb\\pyedb\\.venv\\lib\\site-packages\\ipykernel\\kernelbase.py\", line 437, in dispatch_shell\n",
      "    await result\n",
      "  File \"C:\\actions-runner\\_work\\pyedb\\pyedb\\.venv\\lib\\site-packages\\ipykernel\\ipkernel.py\", line 362, in execute_request\n",
      "    await super().execute_request(stream, ident, parent)\n",
      "  File \"C:\\actions-runner\\_work\\pyedb\\pyedb\\.venv\\lib\\site-packages\\ipykernel\\kernelbase.py\", line 778, in execute_request\n",
      "    reply_content = await reply_content\n",
      "  File \"C:\\actions-runner\\_work\\pyedb\\pyedb\\.venv\\lib\\site-packages\\ipykernel\\ipkernel.py\", line 449, in do_execute\n",
      "    res = shell.run_cell(\n",
      "  File \"C:\\actions-runner\\_work\\pyedb\\pyedb\\.venv\\lib\\site-packages\\ipykernel\\zmqshell.py\", line 549, in run_cell\n",
      "    return super().run_cell(*args, **kwargs)\n",
      "  File \"C:\\actions-runner\\_work\\pyedb\\pyedb\\.venv\\lib\\site-packages\\IPython\\core\\interactiveshell.py\", line 3075, in run_cell\n",
      "    result = self._run_cell(\n",
      "  File \"C:\\actions-runner\\_work\\pyedb\\pyedb\\.venv\\lib\\site-packages\\IPython\\core\\interactiveshell.py\", line 3130, in _run_cell\n",
      "    result = runner(coro)\n",
      "  File \"C:\\actions-runner\\_work\\pyedb\\pyedb\\.venv\\lib\\site-packages\\IPython\\core\\async_helpers.py\", line 128, in _pseudo_sync_runner\n",
      "    coro.send(None)\n",
      "  File \"C:\\actions-runner\\_work\\pyedb\\pyedb\\.venv\\lib\\site-packages\\IPython\\core\\interactiveshell.py\", line 3334, in run_cell_async\n",
      "    has_raised = await self.run_ast_nodes(code_ast.body, cell_name,\n",
      "  File \"C:\\actions-runner\\_work\\pyedb\\pyedb\\.venv\\lib\\site-packages\\IPython\\core\\interactiveshell.py\", line 3517, in run_ast_nodes\n",
      "    if await self.run_code(code, result, async_=asy):\n",
      "  File \"C:\\actions-runner\\_work\\pyedb\\pyedb\\.venv\\lib\\site-packages\\IPython\\core\\interactiveshell.py\", line 3577, in run_code\n",
      "    exec(code_obj, self.user_global_ns, self.user_ns)\n",
      "  File \"C:\\Users\\ansys\\AppData\\Local\\Temp\\ipykernel_8752\\1617624986.py\", line 14, in <module>\n",
      "    edb = pyedb.Edb(edbpath=aedb_path, edbversion=edb_version)\n",
      "  File \"C:\\actions-runner\\_work\\pyedb\\pyedb\\.venv\\lib\\site-packages\\pyedb\\generic\\design_types.py\", line 110, in Edb\n",
      "    return app(\n",
      "  File \"C:\\actions-runner\\_work\\pyedb\\pyedb\\.venv\\lib\\site-packages\\pyedb\\dotnet\\edb.py\", line 209, in __init__\n",
      "    Database.__init__(self, edbversion=edbversion, student_version=student_version)\n",
      "  File \"C:\\actions-runner\\_work\\pyedb\\pyedb\\.venv\\lib\\site-packages\\pyedb\\dotnet\\edb_core\\dotnet\\database.py\", line 829, in __init__\n",
      "    EdbDotNet.__init__(self, edbversion=edbversion, student_version=student_version)\n",
      "  File \"C:\\actions-runner\\_work\\pyedb\\pyedb\\.venv\\lib\\site-packages\\pyedb\\dotnet\\edb_core\\dotnet\\database.py\", line 734, in __init__\n",
      "    self._logger.info(\"Python version %s\", sys.version)\n",
      "  File \"C:\\actions-runner\\_work\\pyedb\\pyedb\\.venv\\lib\\site-packages\\pyedb\\edb_logger.py\", line 346, in info\n",
      "    return self._log_on_handler(0, msg, *args, **kwargs)\n",
      "  File \"C:\\actions-runner\\_work\\pyedb\\pyedb\\.venv\\lib\\site-packages\\pyedb\\edb_logger.py\", line 293, in _log_on_handler\n",
      "    self._global.info(message_text, *args, **kwargs)\n",
      "Message: 'Python version %s'\n",
      "Arguments: ('3.10.11 (tags/v3.10.11:7d4cc5a, Apr  5 2023, 00:38:17) [MSC v.1929 64 bit (AMD64)]',)\n"
     ]
    },
    {
     "name": "stdout",
     "output_type": "stream",
     "text": [
      "PyEDB INFO: EDB C:\\Users\\ansys\\AppData\\Local\\Temp\\tmp65pl_kl3.ansys\\create_via.aedb created correctly.\n"
     ]
    },
    {
     "name": "stdout",
     "output_type": "stream",
     "text": [
      "PyEDB INFO: EDB initialized.\n"
     ]
    },
    {
     "name": "stderr",
     "output_type": "stream",
     "text": [
      "--- Logging error ---\n",
      "Traceback (most recent call last):\n",
      "  File \"C:\\actions-runner\\_work\\_tool\\Python\\3.10.11\\x64\\lib\\logging\\handlers.py\", line 74, in emit\n",
      "    self.doRollover()\n",
      "  File \"C:\\actions-runner\\_work\\_tool\\Python\\3.10.11\\x64\\lib\\logging\\handlers.py\", line 179, in doRollover\n",
      "    self.rotate(self.baseFilename, dfn)\n",
      "  File \"C:\\actions-runner\\_work\\_tool\\Python\\3.10.11\\x64\\lib\\logging\\handlers.py\", line 115, in rotate\n",
      "    os.rename(source, dest)\n",
      "PermissionError: [WinError 32] The process cannot access the file because it is being used by another process: 'C:\\\\Users\\\\ansys\\\\AppData\\\\Local\\\\Temp\\\\pyedb_ansys.log' -> 'C:\\\\Users\\\\ansys\\\\AppData\\\\Local\\\\Temp\\\\pyedb_ansys.log.1'\n",
      "Call stack:\n",
      "  File \"C:\\actions-runner\\_work\\_tool\\Python\\3.10.11\\x64\\lib\\runpy.py\", line 196, in _run_module_as_main\n",
      "    return _run_code(code, main_globals, None,\n",
      "  File \"C:\\actions-runner\\_work\\_tool\\Python\\3.10.11\\x64\\lib\\runpy.py\", line 86, in _run_code\n",
      "    exec(code, run_globals)\n",
      "  File \"C:\\actions-runner\\_work\\pyedb\\pyedb\\.venv\\lib\\site-packages\\ipykernel_launcher.py\", line 18, in <module>\n",
      "    app.launch_new_instance()\n",
      "  File \"C:\\actions-runner\\_work\\pyedb\\pyedb\\.venv\\lib\\site-packages\\traitlets\\config\\application.py\", line 1075, in launch_instance\n",
      "    app.start()\n",
      "  File \"C:\\actions-runner\\_work\\pyedb\\pyedb\\.venv\\lib\\site-packages\\ipykernel\\kernelapp.py\", line 739, in start\n",
      "    self.io_loop.start()\n",
      "  File \"C:\\actions-runner\\_work\\pyedb\\pyedb\\.venv\\lib\\site-packages\\tornado\\platform\\asyncio.py\", line 205, in start\n",
      "    self.asyncio_loop.run_forever()\n",
      "  File \"C:\\actions-runner\\_work\\_tool\\Python\\3.10.11\\x64\\lib\\asyncio\\base_events.py\", line 603, in run_forever\n",
      "    self._run_once()\n",
      "  File \"C:\\actions-runner\\_work\\_tool\\Python\\3.10.11\\x64\\lib\\asyncio\\base_events.py\", line 1909, in _run_once\n",
      "    handle._run()\n",
      "  File \"C:\\actions-runner\\_work\\_tool\\Python\\3.10.11\\x64\\lib\\asyncio\\events.py\", line 80, in _run\n",
      "    self._context.run(self._callback, *self._args)\n",
      "  File \"C:\\actions-runner\\_work\\pyedb\\pyedb\\.venv\\lib\\site-packages\\ipykernel\\kernelbase.py\", line 545, in dispatch_queue\n",
      "    await self.process_one()\n",
      "  File \"C:\\actions-runner\\_work\\pyedb\\pyedb\\.venv\\lib\\site-packages\\ipykernel\\kernelbase.py\", line 534, in process_one\n",
      "    await dispatch(*args)\n",
      "  File \"C:\\actions-runner\\_work\\pyedb\\pyedb\\.venv\\lib\\site-packages\\ipykernel\\kernelbase.py\", line 437, in dispatch_shell\n",
      "    await result\n",
      "  File \"C:\\actions-runner\\_work\\pyedb\\pyedb\\.venv\\lib\\site-packages\\ipykernel\\ipkernel.py\", line 362, in execute_request\n",
      "    await super().execute_request(stream, ident, parent)\n",
      "  File \"C:\\actions-runner\\_work\\pyedb\\pyedb\\.venv\\lib\\site-packages\\ipykernel\\kernelbase.py\", line 778, in execute_request\n",
      "    reply_content = await reply_content\n",
      "  File \"C:\\actions-runner\\_work\\pyedb\\pyedb\\.venv\\lib\\site-packages\\ipykernel\\ipkernel.py\", line 449, in do_execute\n",
      "    res = shell.run_cell(\n",
      "  File \"C:\\actions-runner\\_work\\pyedb\\pyedb\\.venv\\lib\\site-packages\\ipykernel\\zmqshell.py\", line 549, in run_cell\n",
      "    return super().run_cell(*args, **kwargs)\n",
      "  File \"C:\\actions-runner\\_work\\pyedb\\pyedb\\.venv\\lib\\site-packages\\IPython\\core\\interactiveshell.py\", line 3075, in run_cell\n",
      "    result = self._run_cell(\n",
      "  File \"C:\\actions-runner\\_work\\pyedb\\pyedb\\.venv\\lib\\site-packages\\IPython\\core\\interactiveshell.py\", line 3130, in _run_cell\n",
      "    result = runner(coro)\n",
      "  File \"C:\\actions-runner\\_work\\pyedb\\pyedb\\.venv\\lib\\site-packages\\IPython\\core\\async_helpers.py\", line 128, in _pseudo_sync_runner\n",
      "    coro.send(None)\n",
      "  File \"C:\\actions-runner\\_work\\pyedb\\pyedb\\.venv\\lib\\site-packages\\IPython\\core\\interactiveshell.py\", line 3334, in run_cell_async\n",
      "    has_raised = await self.run_ast_nodes(code_ast.body, cell_name,\n",
      "  File \"C:\\actions-runner\\_work\\pyedb\\pyedb\\.venv\\lib\\site-packages\\IPython\\core\\interactiveshell.py\", line 3517, in run_ast_nodes\n",
      "    if await self.run_code(code, result, async_=asy):\n",
      "  File \"C:\\actions-runner\\_work\\pyedb\\pyedb\\.venv\\lib\\site-packages\\IPython\\core\\interactiveshell.py\", line 3577, in run_code\n",
      "    exec(code_obj, self.user_global_ns, self.user_ns)\n",
      "  File \"C:\\Users\\ansys\\AppData\\Local\\Temp\\ipykernel_8752\\1617624986.py\", line 14, in <module>\n",
      "    edb = pyedb.Edb(edbpath=aedb_path, edbversion=edb_version)\n",
      "  File \"C:\\actions-runner\\_work\\pyedb\\pyedb\\.venv\\lib\\site-packages\\pyedb\\generic\\design_types.py\", line 110, in Edb\n",
      "    return app(\n",
      "  File \"C:\\actions-runner\\_work\\pyedb\\pyedb\\.venv\\lib\\site-packages\\pyedb\\dotnet\\edb.py\", line 262, in __init__\n",
      "    self.logger.info(\"EDB %s created correctly.\", self.edbpath)\n",
      "  File \"C:\\actions-runner\\_work\\pyedb\\pyedb\\.venv\\lib\\site-packages\\pyedb\\edb_logger.py\", line 346, in info\n",
      "    return self._log_on_handler(0, msg, *args, **kwargs)\n",
      "  File \"C:\\actions-runner\\_work\\pyedb\\pyedb\\.venv\\lib\\site-packages\\pyedb\\edb_logger.py\", line 293, in _log_on_handler\n",
      "    self._global.info(message_text, *args, **kwargs)\n",
      "Message: 'EDB %s created correctly.'\n",
      "Arguments: ('C:\\\\Users\\\\ansys\\\\AppData\\\\Local\\\\Temp\\\\tmp65pl_kl3.ansys\\\\create_via.aedb',)\n",
      "--- Logging error ---\n",
      "Traceback (most recent call last):\n",
      "  File \"C:\\actions-runner\\_work\\_tool\\Python\\3.10.11\\x64\\lib\\logging\\handlers.py\", line 74, in emit\n",
      "    self.doRollover()\n",
      "  File \"C:\\actions-runner\\_work\\_tool\\Python\\3.10.11\\x64\\lib\\logging\\handlers.py\", line 179, in doRollover\n",
      "    self.rotate(self.baseFilename, dfn)\n",
      "  File \"C:\\actions-runner\\_work\\_tool\\Python\\3.10.11\\x64\\lib\\logging\\handlers.py\", line 115, in rotate\n",
      "    os.rename(source, dest)\n",
      "PermissionError: [WinError 32] The process cannot access the file because it is being used by another process: 'C:\\\\Users\\\\ansys\\\\AppData\\\\Local\\\\Temp\\\\pyedb_ansys.log' -> 'C:\\\\Users\\\\ansys\\\\AppData\\\\Local\\\\Temp\\\\pyedb_ansys.log.1'\n",
      "Call stack:\n",
      "  File \"C:\\actions-runner\\_work\\_tool\\Python\\3.10.11\\x64\\lib\\runpy.py\", line 196, in _run_module_as_main\n",
      "    return _run_code(code, main_globals, None,\n",
      "  File \"C:\\actions-runner\\_work\\_tool\\Python\\3.10.11\\x64\\lib\\runpy.py\", line 86, in _run_code\n",
      "    exec(code, run_globals)\n",
      "  File \"C:\\actions-runner\\_work\\pyedb\\pyedb\\.venv\\lib\\site-packages\\ipykernel_launcher.py\", line 18, in <module>\n",
      "    app.launch_new_instance()\n",
      "  File \"C:\\actions-runner\\_work\\pyedb\\pyedb\\.venv\\lib\\site-packages\\traitlets\\config\\application.py\", line 1075, in launch_instance\n",
      "    app.start()\n",
      "  File \"C:\\actions-runner\\_work\\pyedb\\pyedb\\.venv\\lib\\site-packages\\ipykernel\\kernelapp.py\", line 739, in start\n",
      "    self.io_loop.start()\n",
      "  File \"C:\\actions-runner\\_work\\pyedb\\pyedb\\.venv\\lib\\site-packages\\tornado\\platform\\asyncio.py\", line 205, in start\n",
      "    self.asyncio_loop.run_forever()\n",
      "  File \"C:\\actions-runner\\_work\\_tool\\Python\\3.10.11\\x64\\lib\\asyncio\\base_events.py\", line 603, in run_forever\n",
      "    self._run_once()\n",
      "  File \"C:\\actions-runner\\_work\\_tool\\Python\\3.10.11\\x64\\lib\\asyncio\\base_events.py\", line 1909, in _run_once\n",
      "    handle._run()\n",
      "  File \"C:\\actions-runner\\_work\\_tool\\Python\\3.10.11\\x64\\lib\\asyncio\\events.py\", line 80, in _run\n",
      "    self._context.run(self._callback, *self._args)\n",
      "  File \"C:\\actions-runner\\_work\\pyedb\\pyedb\\.venv\\lib\\site-packages\\ipykernel\\kernelbase.py\", line 545, in dispatch_queue\n",
      "    await self.process_one()\n",
      "  File \"C:\\actions-runner\\_work\\pyedb\\pyedb\\.venv\\lib\\site-packages\\ipykernel\\kernelbase.py\", line 534, in process_one\n",
      "    await dispatch(*args)\n",
      "  File \"C:\\actions-runner\\_work\\pyedb\\pyedb\\.venv\\lib\\site-packages\\ipykernel\\kernelbase.py\", line 437, in dispatch_shell\n",
      "    await result\n",
      "  File \"C:\\actions-runner\\_work\\pyedb\\pyedb\\.venv\\lib\\site-packages\\ipykernel\\ipkernel.py\", line 362, in execute_request\n",
      "    await super().execute_request(stream, ident, parent)\n",
      "  File \"C:\\actions-runner\\_work\\pyedb\\pyedb\\.venv\\lib\\site-packages\\ipykernel\\kernelbase.py\", line 778, in execute_request\n",
      "    reply_content = await reply_content\n",
      "  File \"C:\\actions-runner\\_work\\pyedb\\pyedb\\.venv\\lib\\site-packages\\ipykernel\\ipkernel.py\", line 449, in do_execute\n",
      "    res = shell.run_cell(\n",
      "  File \"C:\\actions-runner\\_work\\pyedb\\pyedb\\.venv\\lib\\site-packages\\ipykernel\\zmqshell.py\", line 549, in run_cell\n",
      "    return super().run_cell(*args, **kwargs)\n",
      "  File \"C:\\actions-runner\\_work\\pyedb\\pyedb\\.venv\\lib\\site-packages\\IPython\\core\\interactiveshell.py\", line 3075, in run_cell\n",
      "    result = self._run_cell(\n",
      "  File \"C:\\actions-runner\\_work\\pyedb\\pyedb\\.venv\\lib\\site-packages\\IPython\\core\\interactiveshell.py\", line 3130, in _run_cell\n",
      "    result = runner(coro)\n",
      "  File \"C:\\actions-runner\\_work\\pyedb\\pyedb\\.venv\\lib\\site-packages\\IPython\\core\\async_helpers.py\", line 128, in _pseudo_sync_runner\n",
      "    coro.send(None)\n",
      "  File \"C:\\actions-runner\\_work\\pyedb\\pyedb\\.venv\\lib\\site-packages\\IPython\\core\\interactiveshell.py\", line 3334, in run_cell_async\n",
      "    has_raised = await self.run_ast_nodes(code_ast.body, cell_name,\n",
      "  File \"C:\\actions-runner\\_work\\pyedb\\pyedb\\.venv\\lib\\site-packages\\IPython\\core\\interactiveshell.py\", line 3517, in run_ast_nodes\n",
      "    if await self.run_code(code, result, async_=asy):\n",
      "  File \"C:\\actions-runner\\_work\\pyedb\\pyedb\\.venv\\lib\\site-packages\\IPython\\core\\interactiveshell.py\", line 3577, in run_code\n",
      "    exec(code_obj, self.user_global_ns, self.user_ns)\n",
      "  File \"C:\\Users\\ansys\\AppData\\Local\\Temp\\ipykernel_8752\\1617624986.py\", line 14, in <module>\n",
      "    edb = pyedb.Edb(edbpath=aedb_path, edbversion=edb_version)\n",
      "  File \"C:\\actions-runner\\_work\\pyedb\\pyedb\\.venv\\lib\\site-packages\\pyedb\\generic\\design_types.py\", line 110, in Edb\n",
      "    return app(\n",
      "  File \"C:\\actions-runner\\_work\\pyedb\\pyedb\\.venv\\lib\\site-packages\\pyedb\\dotnet\\edb.py\", line 269, in __init__\n",
      "    self.logger.info(\"EDB initialized.\")\n",
      "  File \"C:\\actions-runner\\_work\\pyedb\\pyedb\\.venv\\lib\\site-packages\\pyedb\\edb_logger.py\", line 346, in info\n",
      "    return self._log_on_handler(0, msg, *args, **kwargs)\n",
      "  File \"C:\\actions-runner\\_work\\pyedb\\pyedb\\.venv\\lib\\site-packages\\pyedb\\edb_logger.py\", line 293, in _log_on_handler\n",
      "    self._global.info(message_text, *args, **kwargs)\n",
      "Message: 'EDB initialized.'\n",
      "Arguments: ()\n"
     ]
    }
   ],
   "source": [
    "import os\n",
    "import tempfile\n",
    "\n",
    "import pyedb\n",
    "\n",
    "temp_dir = tempfile.TemporaryDirectory(suffix=\".ansys\")\n",
    "aedb_path = os.path.join(temp_dir.name, \"create_via.aedb\")\n",
    "print(f\"AEDB file path: {aedb_path}\")\n",
    "\n",
    "# Select EDB version (change it manually if needed, e.g. \"2024.1\")\n",
    "edb_version = \"2024.1\"\n",
    "print(f\"EDB version: {edb_version}\")\n",
    "\n",
    "edb = pyedb.Edb(edbpath=aedb_path, edbversion=edb_version)"
   ]
  },
  {
   "cell_type": "markdown",
   "id": "b77e2545",
   "metadata": {},
   "source": [
    "## Add stackup layers\n",
    "Add stackup layers.\n",
    "A stackup can be created layer by layer or imported from a CSV file or XML file."
   ]
  },
  {
   "cell_type": "code",
   "execution_count": 2,
   "id": "de894ef8",
   "metadata": {
    "execution": {
     "iopub.execute_input": "2024-07-10T08:31:03.058797Z",
     "iopub.status.busy": "2024-07-10T08:31:03.058797Z",
     "iopub.status.idle": "2024-07-10T08:31:03.137020Z",
     "shell.execute_reply": "2024-07-10T08:31:03.137020Z"
    }
   },
   "outputs": [
    {
     "name": "stderr",
     "output_type": "stream",
     "text": [
      "Material 'copper' does not exist in material library. Intempt to create it from syslib.\n"
     ]
    },
    {
     "name": "stderr",
     "output_type": "stream",
     "text": [
      "Material 'FR4_epoxy' does not exist in material library. Intempt to create it from syslib.\n"
     ]
    },
    {
     "data": {
      "text/plain": [
       "<pyedb.dotnet.edb_core.edb_data.layer_data.StackupLayerEdbClass at 0x24c238ad100>"
      ]
     },
     "execution_count": 2,
     "metadata": {},
     "output_type": "execute_result"
    }
   ],
   "source": [
    "edb.stackup.add_layer(\"GND\")\n",
    "edb.stackup.add_layer(\"Diel\", \"GND\", layer_type=\"dielectric\", thickness=\"0.1mm\", material=\"FR4_epoxy\")\n",
    "edb.stackup.add_layer(\"TOP\", \"Diel\", thickness=\"0.05mm\")"
   ]
  },
  {
   "cell_type": "markdown",
   "id": "f132ed74",
   "metadata": {},
   "source": [
    "## Create signal net and ground planes\n",
    "Create a signal net and ground planes."
   ]
  },
  {
   "cell_type": "code",
   "execution_count": 3,
   "id": "5fec9246",
   "metadata": {
    "execution": {
     "iopub.execute_input": "2024-07-10T08:31:03.137020Z",
     "iopub.status.busy": "2024-07-10T08:31:03.137020Z",
     "iopub.status.idle": "2024-07-10T08:31:03.183899Z",
     "shell.execute_reply": "2024-07-10T08:31:03.183899Z"
    },
    "lines_to_next_cell": 2
   },
   "outputs": [
    {
     "data": {
      "text/plain": [
       "<pyedb.dotnet.edb_core.edb_data.primitives_data.EdbPolygon at 0x24c26657570>"
      ]
     },
     "execution_count": 3,
     "metadata": {},
     "output_type": "execute_result"
    }
   ],
   "source": [
    "points = [[0.0, 0], [100e-3, 0.0]]\n",
    "edb.modeler.create_trace(points, \"TOP\", width=1e-3)\n",
    "points = [[0.0, 1e-3], [0.0, 10e-3], [100e-3, 10e-3], [100e-3, 1e-3], [0.0, 1e-3]]\n",
    "edb.modeler.create_polygon(points, \"TOP\")\n",
    "points = [[0.0, -1e-3], [0.0, -10e-3], [100e-3, -10e-3], [100e-3, -1e-3], [0.0, -1e-3]]\n",
    "edb.modeler.create_polygon(points, \"TOP\")"
   ]
  },
  {
   "cell_type": "markdown",
   "id": "d46080ce",
   "metadata": {},
   "source": [
    "## Create vias with parametric positions\n",
    "Create vias with parametric positions."
   ]
  },
  {
   "cell_type": "code",
   "execution_count": 4,
   "id": "61d55f4e",
   "metadata": {
    "execution": {
     "iopub.execute_input": "2024-07-10T08:31:03.183899Z",
     "iopub.status.busy": "2024-07-10T08:31:03.183899Z",
     "iopub.status.idle": "2024-07-10T08:31:03.324428Z",
     "shell.execute_reply": "2024-07-10T08:31:03.324428Z"
    },
    "lines_to_next_cell": 2
   },
   "outputs": [
    {
     "name": "stdout",
     "output_type": "stream",
     "text": [
      "PyEDB INFO: Padstack MyVia create correctly\n"
     ]
    },
    {
     "name": "stderr",
     "output_type": "stream",
     "text": [
      "--- Logging error ---\n",
      "Traceback (most recent call last):\n",
      "  File \"C:\\actions-runner\\_work\\_tool\\Python\\3.10.11\\x64\\lib\\logging\\handlers.py\", line 74, in emit\n",
      "    self.doRollover()\n",
      "  File \"C:\\actions-runner\\_work\\_tool\\Python\\3.10.11\\x64\\lib\\logging\\handlers.py\", line 179, in doRollover\n",
      "    self.rotate(self.baseFilename, dfn)\n",
      "  File \"C:\\actions-runner\\_work\\_tool\\Python\\3.10.11\\x64\\lib\\logging\\handlers.py\", line 115, in rotate\n",
      "    os.rename(source, dest)\n",
      "PermissionError: [WinError 32] The process cannot access the file because it is being used by another process: 'C:\\\\Users\\\\ansys\\\\AppData\\\\Local\\\\Temp\\\\pyedb_ansys.log' -> 'C:\\\\Users\\\\ansys\\\\AppData\\\\Local\\\\Temp\\\\pyedb_ansys.log.1'\n",
      "Call stack:\n",
      "  File \"C:\\actions-runner\\_work\\_tool\\Python\\3.10.11\\x64\\lib\\runpy.py\", line 196, in _run_module_as_main\n",
      "    return _run_code(code, main_globals, None,\n",
      "  File \"C:\\actions-runner\\_work\\_tool\\Python\\3.10.11\\x64\\lib\\runpy.py\", line 86, in _run_code\n",
      "    exec(code, run_globals)\n",
      "  File \"C:\\actions-runner\\_work\\pyedb\\pyedb\\.venv\\lib\\site-packages\\ipykernel_launcher.py\", line 18, in <module>\n",
      "    app.launch_new_instance()\n",
      "  File \"C:\\actions-runner\\_work\\pyedb\\pyedb\\.venv\\lib\\site-packages\\traitlets\\config\\application.py\", line 1075, in launch_instance\n",
      "    app.start()\n",
      "  File \"C:\\actions-runner\\_work\\pyedb\\pyedb\\.venv\\lib\\site-packages\\ipykernel\\kernelapp.py\", line 739, in start\n",
      "    self.io_loop.start()\n",
      "  File \"C:\\actions-runner\\_work\\pyedb\\pyedb\\.venv\\lib\\site-packages\\tornado\\platform\\asyncio.py\", line 205, in start\n",
      "    self.asyncio_loop.run_forever()\n",
      "  File \"C:\\actions-runner\\_work\\_tool\\Python\\3.10.11\\x64\\lib\\asyncio\\base_events.py\", line 603, in run_forever\n",
      "    self._run_once()\n",
      "  File \"C:\\actions-runner\\_work\\_tool\\Python\\3.10.11\\x64\\lib\\asyncio\\base_events.py\", line 1909, in _run_once\n",
      "    handle._run()\n",
      "  File \"C:\\actions-runner\\_work\\_tool\\Python\\3.10.11\\x64\\lib\\asyncio\\events.py\", line 80, in _run\n",
      "    self._context.run(self._callback, *self._args)\n",
      "  File \"C:\\actions-runner\\_work\\pyedb\\pyedb\\.venv\\lib\\site-packages\\ipykernel\\kernelbase.py\", line 545, in dispatch_queue\n",
      "    await self.process_one()\n",
      "  File \"C:\\actions-runner\\_work\\pyedb\\pyedb\\.venv\\lib\\site-packages\\ipykernel\\kernelbase.py\", line 534, in process_one\n",
      "    await dispatch(*args)\n",
      "  File \"C:\\actions-runner\\_work\\pyedb\\pyedb\\.venv\\lib\\site-packages\\ipykernel\\kernelbase.py\", line 437, in dispatch_shell\n",
      "    await result\n",
      "  File \"C:\\actions-runner\\_work\\pyedb\\pyedb\\.venv\\lib\\site-packages\\ipykernel\\ipkernel.py\", line 362, in execute_request\n",
      "    await super().execute_request(stream, ident, parent)\n",
      "  File \"C:\\actions-runner\\_work\\pyedb\\pyedb\\.venv\\lib\\site-packages\\ipykernel\\kernelbase.py\", line 778, in execute_request\n",
      "    reply_content = await reply_content\n",
      "  File \"C:\\actions-runner\\_work\\pyedb\\pyedb\\.venv\\lib\\site-packages\\ipykernel\\ipkernel.py\", line 449, in do_execute\n",
      "    res = shell.run_cell(\n",
      "  File \"C:\\actions-runner\\_work\\pyedb\\pyedb\\.venv\\lib\\site-packages\\ipykernel\\zmqshell.py\", line 549, in run_cell\n",
      "    return super().run_cell(*args, **kwargs)\n",
      "  File \"C:\\actions-runner\\_work\\pyedb\\pyedb\\.venv\\lib\\site-packages\\IPython\\core\\interactiveshell.py\", line 3075, in run_cell\n",
      "    result = self._run_cell(\n",
      "  File \"C:\\actions-runner\\_work\\pyedb\\pyedb\\.venv\\lib\\site-packages\\IPython\\core\\interactiveshell.py\", line 3130, in _run_cell\n",
      "    result = runner(coro)\n",
      "  File \"C:\\actions-runner\\_work\\pyedb\\pyedb\\.venv\\lib\\site-packages\\IPython\\core\\async_helpers.py\", line 128, in _pseudo_sync_runner\n",
      "    coro.send(None)\n",
      "  File \"C:\\actions-runner\\_work\\pyedb\\pyedb\\.venv\\lib\\site-packages\\IPython\\core\\interactiveshell.py\", line 3334, in run_cell_async\n",
      "    has_raised = await self.run_ast_nodes(code_ast.body, cell_name,\n",
      "  File \"C:\\actions-runner\\_work\\pyedb\\pyedb\\.venv\\lib\\site-packages\\IPython\\core\\interactiveshell.py\", line 3517, in run_ast_nodes\n",
      "    if await self.run_code(code, result, async_=asy):\n",
      "  File \"C:\\actions-runner\\_work\\pyedb\\pyedb\\.venv\\lib\\site-packages\\IPython\\core\\interactiveshell.py\", line 3577, in run_code\n",
      "    exec(code_obj, self.user_global_ns, self.user_ns)\n",
      "  File \"C:\\Users\\ansys\\AppData\\Local\\Temp\\ipykernel_8752\\2951509181.py\", line 1, in <module>\n",
      "    edb.padstacks.create(\"MyVia\")\n",
      "  File \"C:\\actions-runner\\_work\\pyedb\\pyedb\\.venv\\lib\\site-packages\\pyedb\\dotnet\\edb_core\\padstack.py\", line 1071, in create\n",
      "    self._logger.info(\"Padstack %s create correctly\", padstackname)\n",
      "  File \"C:\\actions-runner\\_work\\pyedb\\pyedb\\.venv\\lib\\site-packages\\pyedb\\edb_logger.py\", line 346, in info\n",
      "    return self._log_on_handler(0, msg, *args, **kwargs)\n",
      "  File \"C:\\actions-runner\\_work\\pyedb\\pyedb\\.venv\\lib\\site-packages\\pyedb\\edb_logger.py\", line 293, in _log_on_handler\n",
      "    self._global.info(message_text, *args, **kwargs)\n",
      "Message: 'Padstack %s create correctly'\n",
      "Arguments: ('MyVia',)\n"
     ]
    },
    {
     "data": {
      "text/plain": [
       "<pyedb.dotnet.edb_core.edb_data.padstacks_data.EDBPadstackInstance at 0x24c26671930>"
      ]
     },
     "execution_count": 4,
     "metadata": {},
     "output_type": "execute_result"
    }
   ],
   "source": [
    "edb.padstacks.create(\"MyVia\")\n",
    "edb.padstacks.place([5e-3, 5e-3], \"MyVia\")\n",
    "edb.padstacks.place([15e-3, 5e-3], \"MyVia\")\n",
    "edb.padstacks.place([35e-3, 5e-3], \"MyVia\")\n",
    "edb.padstacks.place([45e-3, 5e-3], \"MyVia\")\n",
    "edb.padstacks.place([5e-3, -5e-3], \"MyVia\")\n",
    "edb.padstacks.place([15e-3, -5e-3], \"MyVia\")\n",
    "edb.padstacks.place([35e-3, -5e-3], \"MyVia\")\n",
    "edb.padstacks.place([45e-3, -5e-3], \"MyVia\")"
   ]
  },
  {
   "cell_type": "markdown",
   "id": "2dd5211b",
   "metadata": {},
   "source": [
    "## Generate geometry plot"
   ]
  },
  {
   "cell_type": "code",
   "execution_count": 5,
   "id": "4d33fc8c",
   "metadata": {
    "execution": {
     "iopub.execute_input": "2024-07-10T08:31:03.324428Z",
     "iopub.status.busy": "2024-07-10T08:31:03.324428Z",
     "iopub.status.idle": "2024-07-10T08:31:03.793183Z",
     "shell.execute_reply": "2024-07-10T08:31:03.793183Z"
    }
   },
   "outputs": [
    {
     "name": "stdout",
     "output_type": "stream",
     "text": [
      "PyEDB INFO: Nets Point Generation time 0.016 seconds\n"
     ]
    },
    {
     "name": "stderr",
     "output_type": "stream",
     "text": [
      "--- Logging error ---\n",
      "Traceback (most recent call last):\n",
      "  File \"C:\\actions-runner\\_work\\_tool\\Python\\3.10.11\\x64\\lib\\logging\\handlers.py\", line 74, in emit\n",
      "    self.doRollover()\n",
      "  File \"C:\\actions-runner\\_work\\_tool\\Python\\3.10.11\\x64\\lib\\logging\\handlers.py\", line 179, in doRollover\n",
      "    self.rotate(self.baseFilename, dfn)\n",
      "  File \"C:\\actions-runner\\_work\\_tool\\Python\\3.10.11\\x64\\lib\\logging\\handlers.py\", line 115, in rotate\n",
      "    os.rename(source, dest)\n",
      "PermissionError: [WinError 32] The process cannot access the file because it is being used by another process: 'C:\\\\Users\\\\ansys\\\\AppData\\\\Local\\\\Temp\\\\pyedb_ansys.log' -> 'C:\\\\Users\\\\ansys\\\\AppData\\\\Local\\\\Temp\\\\pyedb_ansys.log.1'\n",
      "Call stack:\n",
      "  File \"C:\\actions-runner\\_work\\_tool\\Python\\3.10.11\\x64\\lib\\runpy.py\", line 196, in _run_module_as_main\n",
      "    return _run_code(code, main_globals, None,\n",
      "  File \"C:\\actions-runner\\_work\\_tool\\Python\\3.10.11\\x64\\lib\\runpy.py\", line 86, in _run_code\n",
      "    exec(code, run_globals)\n",
      "  File \"C:\\actions-runner\\_work\\pyedb\\pyedb\\.venv\\lib\\site-packages\\ipykernel_launcher.py\", line 18, in <module>\n",
      "    app.launch_new_instance()\n",
      "  File \"C:\\actions-runner\\_work\\pyedb\\pyedb\\.venv\\lib\\site-packages\\traitlets\\config\\application.py\", line 1075, in launch_instance\n",
      "    app.start()\n",
      "  File \"C:\\actions-runner\\_work\\pyedb\\pyedb\\.venv\\lib\\site-packages\\ipykernel\\kernelapp.py\", line 739, in start\n",
      "    self.io_loop.start()\n",
      "  File \"C:\\actions-runner\\_work\\pyedb\\pyedb\\.venv\\lib\\site-packages\\tornado\\platform\\asyncio.py\", line 205, in start\n",
      "    self.asyncio_loop.run_forever()\n",
      "  File \"C:\\actions-runner\\_work\\_tool\\Python\\3.10.11\\x64\\lib\\asyncio\\base_events.py\", line 603, in run_forever\n",
      "    self._run_once()\n",
      "  File \"C:\\actions-runner\\_work\\_tool\\Python\\3.10.11\\x64\\lib\\asyncio\\base_events.py\", line 1909, in _run_once\n",
      "    handle._run()\n",
      "  File \"C:\\actions-runner\\_work\\_tool\\Python\\3.10.11\\x64\\lib\\asyncio\\events.py\", line 80, in _run\n",
      "    self._context.run(self._callback, *self._args)\n",
      "  File \"C:\\actions-runner\\_work\\pyedb\\pyedb\\.venv\\lib\\site-packages\\ipykernel\\kernelbase.py\", line 545, in dispatch_queue\n",
      "    await self.process_one()\n",
      "  File \"C:\\actions-runner\\_work\\pyedb\\pyedb\\.venv\\lib\\site-packages\\ipykernel\\kernelbase.py\", line 534, in process_one\n",
      "    await dispatch(*args)\n",
      "  File \"C:\\actions-runner\\_work\\pyedb\\pyedb\\.venv\\lib\\site-packages\\ipykernel\\kernelbase.py\", line 437, in dispatch_shell\n",
      "    await result\n",
      "  File \"C:\\actions-runner\\_work\\pyedb\\pyedb\\.venv\\lib\\site-packages\\ipykernel\\ipkernel.py\", line 362, in execute_request\n",
      "    await super().execute_request(stream, ident, parent)\n",
      "  File \"C:\\actions-runner\\_work\\pyedb\\pyedb\\.venv\\lib\\site-packages\\ipykernel\\kernelbase.py\", line 778, in execute_request\n",
      "    reply_content = await reply_content\n",
      "  File \"C:\\actions-runner\\_work\\pyedb\\pyedb\\.venv\\lib\\site-packages\\ipykernel\\ipkernel.py\", line 449, in do_execute\n",
      "    res = shell.run_cell(\n",
      "  File \"C:\\actions-runner\\_work\\pyedb\\pyedb\\.venv\\lib\\site-packages\\ipykernel\\zmqshell.py\", line 549, in run_cell\n",
      "    return super().run_cell(*args, **kwargs)\n",
      "  File \"C:\\actions-runner\\_work\\pyedb\\pyedb\\.venv\\lib\\site-packages\\IPython\\core\\interactiveshell.py\", line 3075, in run_cell\n",
      "    result = self._run_cell(\n",
      "  File \"C:\\actions-runner\\_work\\pyedb\\pyedb\\.venv\\lib\\site-packages\\IPython\\core\\interactiveshell.py\", line 3130, in _run_cell\n",
      "    result = runner(coro)\n",
      "  File \"C:\\actions-runner\\_work\\pyedb\\pyedb\\.venv\\lib\\site-packages\\IPython\\core\\async_helpers.py\", line 128, in _pseudo_sync_runner\n",
      "    coro.send(None)\n",
      "  File \"C:\\actions-runner\\_work\\pyedb\\pyedb\\.venv\\lib\\site-packages\\IPython\\core\\interactiveshell.py\", line 3334, in run_cell_async\n",
      "    has_raised = await self.run_ast_nodes(code_ast.body, cell_name,\n",
      "  File \"C:\\actions-runner\\_work\\pyedb\\pyedb\\.venv\\lib\\site-packages\\IPython\\core\\interactiveshell.py\", line 3517, in run_ast_nodes\n",
      "    if await self.run_code(code, result, async_=asy):\n",
      "  File \"C:\\actions-runner\\_work\\pyedb\\pyedb\\.venv\\lib\\site-packages\\IPython\\core\\interactiveshell.py\", line 3577, in run_code\n",
      "    exec(code_obj, self.user_global_ns, self.user_ns)\n",
      "  File \"C:\\Users\\ansys\\AppData\\Local\\Temp\\ipykernel_8752\\1442418163.py\", line 1, in <module>\n",
      "    edb.nets.plot(None, color_by_net=True)\n",
      "  File \"C:\\actions-runner\\_work\\pyedb\\pyedb\\.venv\\lib\\site-packages\\pyedb\\dotnet\\edb_core\\nets.py\", line 849, in plot\n",
      "    object_lists = self.get_plot_data(\n",
      "  File \"C:\\actions-runner\\_work\\pyedb\\pyedb\\.venv\\lib\\site-packages\\pyedb\\dotnet\\edb_core\\nets.py\", line 762, in get_plot_data\n",
      "    self._logger.info(\"Nets Point Generation time %s seconds\", round(end_time, 3))\n",
      "  File \"C:\\actions-runner\\_work\\pyedb\\pyedb\\.venv\\lib\\site-packages\\pyedb\\edb_logger.py\", line 346, in info\n",
      "    return self._log_on_handler(0, msg, *args, **kwargs)\n",
      "  File \"C:\\actions-runner\\_work\\pyedb\\pyedb\\.venv\\lib\\site-packages\\pyedb\\edb_logger.py\", line 293, in _log_on_handler\n",
      "    self._global.info(message_text, *args, **kwargs)\n",
      "Message: 'Nets Point Generation time %s seconds'\n",
      "Arguments: (0.016,)\n",
      "C:\\actions-runner\\_work\\pyedb\\pyedb\\.venv\\lib\\site-packages\\pyedb\\generic\\plot.py:147: UserWarning: FigureCanvasAgg is non-interactive, and thus cannot be shown\n",
      "  plt.show()\n"
     ]
    }
   ],
   "source": [
    "edb.nets.plot(None, color_by_net=True)"
   ]
  },
  {
   "cell_type": "markdown",
   "id": "a290a038",
   "metadata": {},
   "source": [
    "## Generate stackup plot"
   ]
  },
  {
   "cell_type": "code",
   "execution_count": 6,
   "id": "15bcfcf4",
   "metadata": {
    "execution": {
     "iopub.execute_input": "2024-07-10T08:31:03.793183Z",
     "iopub.status.busy": "2024-07-10T08:31:03.793183Z",
     "iopub.status.idle": "2024-07-10T08:31:03.902570Z",
     "shell.execute_reply": "2024-07-10T08:31:03.902570Z"
    }
   },
   "outputs": [
    {
     "name": "stderr",
     "output_type": "stream",
     "text": [
      "C:\\actions-runner\\_work\\pyedb\\pyedb\\.venv\\lib\\site-packages\\pyedb\\dotnet\\edb_core\\stackup.py:2889: UserWarning: FigureCanvasAgg is non-interactive, and thus cannot be shown\n",
      "  plt.show()\n"
     ]
    },
    {
     "data": {
      "text/plain": [
       "<module 'matplotlib.pyplot' from 'C:\\\\actions-runner\\\\_work\\\\pyedb\\\\pyedb\\\\.venv\\\\lib\\\\site-packages\\\\matplotlib\\\\pyplot.py'>"
      ]
     },
     "execution_count": 6,
     "metadata": {},
     "output_type": "execute_result"
    }
   ],
   "source": [
    "edb.stackup.plot(plot_definitions=\"MyVia\")"
   ]
  },
  {
   "cell_type": "markdown",
   "id": "ae9dde6e",
   "metadata": {},
   "source": [
    "## Save and close EDB\n",
    "Save and close EDB."
   ]
  },
  {
   "cell_type": "code",
   "execution_count": 7,
   "id": "0d13dd37",
   "metadata": {
    "execution": {
     "iopub.execute_input": "2024-07-10T08:31:03.902570Z",
     "iopub.status.busy": "2024-07-10T08:31:03.902570Z",
     "iopub.status.idle": "2024-07-10T08:31:03.933810Z",
     "shell.execute_reply": "2024-07-10T08:31:03.933810Z"
    }
   },
   "outputs": [
    {
     "name": "stdout",
     "output_type": "stream",
     "text": [
      "PyEDB INFO: EDB file save time: 0.00ms\n"
     ]
    },
    {
     "name": "stdout",
     "output_type": "stream",
     "text": [
      "PyEDB INFO: EDB file release time: 15.61ms\n"
     ]
    },
    {
     "name": "stdout",
     "output_type": "stream",
     "text": [
      "EDB saved correctly to C:\\Users\\ansys\\AppData\\Local\\Temp\\tmp65pl_kl3.ansys\\create_via.aedb. You can import in AEDT.\n"
     ]
    },
    {
     "name": "stderr",
     "output_type": "stream",
     "text": [
      "--- Logging error ---\n",
      "Traceback (most recent call last):\n",
      "  File \"C:\\actions-runner\\_work\\_tool\\Python\\3.10.11\\x64\\lib\\logging\\handlers.py\", line 74, in emit\n",
      "    self.doRollover()\n",
      "  File \"C:\\actions-runner\\_work\\_tool\\Python\\3.10.11\\x64\\lib\\logging\\handlers.py\", line 179, in doRollover\n",
      "    self.rotate(self.baseFilename, dfn)\n",
      "  File \"C:\\actions-runner\\_work\\_tool\\Python\\3.10.11\\x64\\lib\\logging\\handlers.py\", line 115, in rotate\n",
      "    os.rename(source, dest)\n",
      "PermissionError: [WinError 32] The process cannot access the file because it is being used by another process: 'C:\\\\Users\\\\ansys\\\\AppData\\\\Local\\\\Temp\\\\pyedb_ansys.log' -> 'C:\\\\Users\\\\ansys\\\\AppData\\\\Local\\\\Temp\\\\pyedb_ansys.log.1'\n",
      "Call stack:\n",
      "  File \"C:\\actions-runner\\_work\\_tool\\Python\\3.10.11\\x64\\lib\\runpy.py\", line 196, in _run_module_as_main\n",
      "    return _run_code(code, main_globals, None,\n",
      "  File \"C:\\actions-runner\\_work\\_tool\\Python\\3.10.11\\x64\\lib\\runpy.py\", line 86, in _run_code\n",
      "    exec(code, run_globals)\n",
      "  File \"C:\\actions-runner\\_work\\pyedb\\pyedb\\.venv\\lib\\site-packages\\ipykernel_launcher.py\", line 18, in <module>\n",
      "    app.launch_new_instance()\n",
      "  File \"C:\\actions-runner\\_work\\pyedb\\pyedb\\.venv\\lib\\site-packages\\traitlets\\config\\application.py\", line 1075, in launch_instance\n",
      "    app.start()\n",
      "  File \"C:\\actions-runner\\_work\\pyedb\\pyedb\\.venv\\lib\\site-packages\\ipykernel\\kernelapp.py\", line 739, in start\n",
      "    self.io_loop.start()\n",
      "  File \"C:\\actions-runner\\_work\\pyedb\\pyedb\\.venv\\lib\\site-packages\\tornado\\platform\\asyncio.py\", line 205, in start\n",
      "    self.asyncio_loop.run_forever()\n",
      "  File \"C:\\actions-runner\\_work\\_tool\\Python\\3.10.11\\x64\\lib\\asyncio\\base_events.py\", line 603, in run_forever\n",
      "    self._run_once()\n",
      "  File \"C:\\actions-runner\\_work\\_tool\\Python\\3.10.11\\x64\\lib\\asyncio\\base_events.py\", line 1909, in _run_once\n",
      "    handle._run()\n",
      "  File \"C:\\actions-runner\\_work\\_tool\\Python\\3.10.11\\x64\\lib\\asyncio\\events.py\", line 80, in _run\n",
      "    self._context.run(self._callback, *self._args)\n",
      "  File \"C:\\actions-runner\\_work\\pyedb\\pyedb\\.venv\\lib\\site-packages\\ipykernel\\kernelbase.py\", line 545, in dispatch_queue\n",
      "    await self.process_one()\n",
      "  File \"C:\\actions-runner\\_work\\pyedb\\pyedb\\.venv\\lib\\site-packages\\ipykernel\\kernelbase.py\", line 534, in process_one\n",
      "    await dispatch(*args)\n",
      "  File \"C:\\actions-runner\\_work\\pyedb\\pyedb\\.venv\\lib\\site-packages\\ipykernel\\kernelbase.py\", line 437, in dispatch_shell\n",
      "    await result\n",
      "  File \"C:\\actions-runner\\_work\\pyedb\\pyedb\\.venv\\lib\\site-packages\\ipykernel\\ipkernel.py\", line 362, in execute_request\n",
      "    await super().execute_request(stream, ident, parent)\n",
      "  File \"C:\\actions-runner\\_work\\pyedb\\pyedb\\.venv\\lib\\site-packages\\ipykernel\\kernelbase.py\", line 778, in execute_request\n",
      "    reply_content = await reply_content\n",
      "  File \"C:\\actions-runner\\_work\\pyedb\\pyedb\\.venv\\lib\\site-packages\\ipykernel\\ipkernel.py\", line 449, in do_execute\n",
      "    res = shell.run_cell(\n",
      "  File \"C:\\actions-runner\\_work\\pyedb\\pyedb\\.venv\\lib\\site-packages\\ipykernel\\zmqshell.py\", line 549, in run_cell\n",
      "    return super().run_cell(*args, **kwargs)\n",
      "  File \"C:\\actions-runner\\_work\\pyedb\\pyedb\\.venv\\lib\\site-packages\\IPython\\core\\interactiveshell.py\", line 3075, in run_cell\n",
      "    result = self._run_cell(\n",
      "  File \"C:\\actions-runner\\_work\\pyedb\\pyedb\\.venv\\lib\\site-packages\\IPython\\core\\interactiveshell.py\", line 3130, in _run_cell\n",
      "    result = runner(coro)\n",
      "  File \"C:\\actions-runner\\_work\\pyedb\\pyedb\\.venv\\lib\\site-packages\\IPython\\core\\async_helpers.py\", line 128, in _pseudo_sync_runner\n",
      "    coro.send(None)\n",
      "  File \"C:\\actions-runner\\_work\\pyedb\\pyedb\\.venv\\lib\\site-packages\\IPython\\core\\interactiveshell.py\", line 3334, in run_cell_async\n",
      "    has_raised = await self.run_ast_nodes(code_ast.body, cell_name,\n",
      "  File \"C:\\actions-runner\\_work\\pyedb\\pyedb\\.venv\\lib\\site-packages\\IPython\\core\\interactiveshell.py\", line 3517, in run_ast_nodes\n",
      "    if await self.run_code(code, result, async_=asy):\n",
      "  File \"C:\\actions-runner\\_work\\pyedb\\pyedb\\.venv\\lib\\site-packages\\IPython\\core\\interactiveshell.py\", line 3577, in run_code\n",
      "    exec(code_obj, self.user_global_ns, self.user_ns)\n",
      "  File \"C:\\Users\\ansys\\AppData\\Local\\Temp\\ipykernel_8752\\379806575.py\", line 2, in <module>\n",
      "    edb.save_edb()\n",
      "  File \"C:\\actions-runner\\_work\\pyedb\\pyedb\\.venv\\lib\\site-packages\\pyedb\\dotnet\\edb.py\", line 1408, in save_edb\n",
      "    self.logger.info(\"EDB file save time: {0:.2f}ms\".format(elapsed_time * 1000.0))\n",
      "  File \"C:\\actions-runner\\_work\\pyedb\\pyedb\\.venv\\lib\\site-packages\\pyedb\\edb_logger.py\", line 346, in info\n",
      "    return self._log_on_handler(0, msg, *args, **kwargs)\n",
      "  File \"C:\\actions-runner\\_work\\pyedb\\pyedb\\.venv\\lib\\site-packages\\pyedb\\edb_logger.py\", line 293, in _log_on_handler\n",
      "    self._global.info(message_text, *args, **kwargs)\n",
      "Message: 'EDB file save time: 0.00ms'\n",
      "Arguments: ()\n",
      "--- Logging error ---\n",
      "Traceback (most recent call last):\n",
      "  File \"C:\\actions-runner\\_work\\_tool\\Python\\3.10.11\\x64\\lib\\logging\\handlers.py\", line 74, in emit\n",
      "    self.doRollover()\n",
      "  File \"C:\\actions-runner\\_work\\_tool\\Python\\3.10.11\\x64\\lib\\logging\\handlers.py\", line 179, in doRollover\n",
      "    self.rotate(self.baseFilename, dfn)\n",
      "  File \"C:\\actions-runner\\_work\\_tool\\Python\\3.10.11\\x64\\lib\\logging\\handlers.py\", line 115, in rotate\n",
      "    os.rename(source, dest)\n",
      "PermissionError: [WinError 32] The process cannot access the file because it is being used by another process: 'C:\\\\Users\\\\ansys\\\\AppData\\\\Local\\\\Temp\\\\pyedb_ansys.log' -> 'C:\\\\Users\\\\ansys\\\\AppData\\\\Local\\\\Temp\\\\pyedb_ansys.log.1'\n",
      "Call stack:\n",
      "  File \"C:\\actions-runner\\_work\\_tool\\Python\\3.10.11\\x64\\lib\\runpy.py\", line 196, in _run_module_as_main\n",
      "    return _run_code(code, main_globals, None,\n",
      "  File \"C:\\actions-runner\\_work\\_tool\\Python\\3.10.11\\x64\\lib\\runpy.py\", line 86, in _run_code\n",
      "    exec(code, run_globals)\n",
      "  File \"C:\\actions-runner\\_work\\pyedb\\pyedb\\.venv\\lib\\site-packages\\ipykernel_launcher.py\", line 18, in <module>\n",
      "    app.launch_new_instance()\n",
      "  File \"C:\\actions-runner\\_work\\pyedb\\pyedb\\.venv\\lib\\site-packages\\traitlets\\config\\application.py\", line 1075, in launch_instance\n",
      "    app.start()\n",
      "  File \"C:\\actions-runner\\_work\\pyedb\\pyedb\\.venv\\lib\\site-packages\\ipykernel\\kernelapp.py\", line 739, in start\n",
      "    self.io_loop.start()\n",
      "  File \"C:\\actions-runner\\_work\\pyedb\\pyedb\\.venv\\lib\\site-packages\\tornado\\platform\\asyncio.py\", line 205, in start\n",
      "    self.asyncio_loop.run_forever()\n",
      "  File \"C:\\actions-runner\\_work\\_tool\\Python\\3.10.11\\x64\\lib\\asyncio\\base_events.py\", line 603, in run_forever\n",
      "    self._run_once()\n",
      "  File \"C:\\actions-runner\\_work\\_tool\\Python\\3.10.11\\x64\\lib\\asyncio\\base_events.py\", line 1909, in _run_once\n",
      "    handle._run()\n",
      "  File \"C:\\actions-runner\\_work\\_tool\\Python\\3.10.11\\x64\\lib\\asyncio\\events.py\", line 80, in _run\n",
      "    self._context.run(self._callback, *self._args)\n",
      "  File \"C:\\actions-runner\\_work\\pyedb\\pyedb\\.venv\\lib\\site-packages\\ipykernel\\kernelbase.py\", line 545, in dispatch_queue\n",
      "    await self.process_one()\n",
      "  File \"C:\\actions-runner\\_work\\pyedb\\pyedb\\.venv\\lib\\site-packages\\ipykernel\\kernelbase.py\", line 534, in process_one\n",
      "    await dispatch(*args)\n",
      "  File \"C:\\actions-runner\\_work\\pyedb\\pyedb\\.venv\\lib\\site-packages\\ipykernel\\kernelbase.py\", line 437, in dispatch_shell\n",
      "    await result\n",
      "  File \"C:\\actions-runner\\_work\\pyedb\\pyedb\\.venv\\lib\\site-packages\\ipykernel\\ipkernel.py\", line 362, in execute_request\n",
      "    await super().execute_request(stream, ident, parent)\n",
      "  File \"C:\\actions-runner\\_work\\pyedb\\pyedb\\.venv\\lib\\site-packages\\ipykernel\\kernelbase.py\", line 778, in execute_request\n",
      "    reply_content = await reply_content\n",
      "  File \"C:\\actions-runner\\_work\\pyedb\\pyedb\\.venv\\lib\\site-packages\\ipykernel\\ipkernel.py\", line 449, in do_execute\n",
      "    res = shell.run_cell(\n",
      "  File \"C:\\actions-runner\\_work\\pyedb\\pyedb\\.venv\\lib\\site-packages\\ipykernel\\zmqshell.py\", line 549, in run_cell\n",
      "    return super().run_cell(*args, **kwargs)\n",
      "  File \"C:\\actions-runner\\_work\\pyedb\\pyedb\\.venv\\lib\\site-packages\\IPython\\core\\interactiveshell.py\", line 3075, in run_cell\n",
      "    result = self._run_cell(\n",
      "  File \"C:\\actions-runner\\_work\\pyedb\\pyedb\\.venv\\lib\\site-packages\\IPython\\core\\interactiveshell.py\", line 3130, in _run_cell\n",
      "    result = runner(coro)\n",
      "  File \"C:\\actions-runner\\_work\\pyedb\\pyedb\\.venv\\lib\\site-packages\\IPython\\core\\async_helpers.py\", line 128, in _pseudo_sync_runner\n",
      "    coro.send(None)\n",
      "  File \"C:\\actions-runner\\_work\\pyedb\\pyedb\\.venv\\lib\\site-packages\\IPython\\core\\interactiveshell.py\", line 3334, in run_cell_async\n",
      "    has_raised = await self.run_ast_nodes(code_ast.body, cell_name,\n",
      "  File \"C:\\actions-runner\\_work\\pyedb\\pyedb\\.venv\\lib\\site-packages\\IPython\\core\\interactiveshell.py\", line 3517, in run_ast_nodes\n",
      "    if await self.run_code(code, result, async_=asy):\n",
      "  File \"C:\\actions-runner\\_work\\pyedb\\pyedb\\.venv\\lib\\site-packages\\IPython\\core\\interactiveshell.py\", line 3577, in run_code\n",
      "    exec(code_obj, self.user_global_ns, self.user_ns)\n",
      "  File \"C:\\Users\\ansys\\AppData\\Local\\Temp\\ipykernel_8752\\379806575.py\", line 3, in <module>\n",
      "    edb.close_edb()\n",
      "  File \"C:\\actions-runner\\_work\\pyedb\\pyedb\\.venv\\lib\\site-packages\\pyedb\\dotnet\\edb.py\", line 1391, in close_edb\n",
      "    self.logger.info(\"EDB file release time: {0:.2f}ms\".format(elapsed_time * 1000.0))\n",
      "  File \"C:\\actions-runner\\_work\\pyedb\\pyedb\\.venv\\lib\\site-packages\\pyedb\\edb_logger.py\", line 346, in info\n",
      "    return self._log_on_handler(0, msg, *args, **kwargs)\n",
      "  File \"C:\\actions-runner\\_work\\pyedb\\pyedb\\.venv\\lib\\site-packages\\pyedb\\edb_logger.py\", line 293, in _log_on_handler\n",
      "    self._global.info(message_text, *args, **kwargs)\n",
      "Message: 'EDB file release time: 15.61ms'\n",
      "Arguments: ()\n"
     ]
    }
   ],
   "source": [
    "if edb:\n",
    "    edb.save_edb()\n",
    "    edb.close_edb()\n",
    "print(\"EDB saved correctly to {}. You can import in AEDT.\".format(aedb_path))"
   ]
  },
  {
   "cell_type": "markdown",
   "id": "2b168301",
   "metadata": {},
   "source": [
    "### Clean up temporary directory\n",
    "\n",
    "The following command removes the project and the temporary directory.\n",
    "If you'd like to save this project, save it to a folder of your choice\n",
    "prior to running the following cell."
   ]
  },
  {
   "cell_type": "code",
   "execution_count": 8,
   "id": "70c18c56",
   "metadata": {
    "execution": {
     "iopub.execute_input": "2024-07-10T08:31:03.933810Z",
     "iopub.status.busy": "2024-07-10T08:31:03.933810Z",
     "iopub.status.idle": "2024-07-10T08:31:03.949435Z",
     "shell.execute_reply": "2024-07-10T08:31:03.949435Z"
    }
   },
   "outputs": [],
   "source": [
    "temp_dir.cleanup()"
   ]
  }
 ],
 "metadata": {
  "jupytext": {
   "cell_metadata_filter": "-all",
   "main_language": "python",
   "notebook_metadata_filter": "-all",
   "text_representation": {
    "extension": ".py",
    "format_name": "light"
   }
  },
  "language_info": {
   "codemirror_mode": {
    "name": "ipython",
    "version": 3
   },
   "file_extension": ".py",
   "mimetype": "text/x-python",
   "name": "python",
   "nbconvert_exporter": "python",
   "pygments_lexer": "ipython3",
   "version": "3.10.11"
  }
 },
 "nbformat": 4,
 "nbformat_minor": 5
}
