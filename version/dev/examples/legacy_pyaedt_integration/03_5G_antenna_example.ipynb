{
 "cells": [
  {
   "cell_type": "markdown",
   "id": "2d2dc9fb",
   "metadata": {},
   "source": [
    "Copyright (C) 2023 - 2024 ANSYS, Inc. and/or its affiliates.\n",
    "SPDX-License-Identifier: MIT\n",
    "\n",
    "\n",
    "Permission is hereby granted, free of charge, to any person obtaining a copy\n",
    "of this software and associated documentation files (the \"Software\"), to deal\n",
    "in the Software without restriction, including without limitation the rights\n",
    "to use, copy, modify, merge, publish, distribute, sublicense, and/or sell\n",
    "copies of the Software, and to permit persons to whom the Software is\n",
    "furnished to do so, subject to the following conditions:\n",
    "\n",
    "The above copyright notice and this permission notice shall be included in all\n",
    "copies or substantial portions of the Software.\n",
    "\n",
    "THE SOFTWARE IS PROVIDED \"AS IS\", WITHOUT WARRANTY OF ANY KIND, EXPRESS OR\n",
    "IMPLIED, INCLUDING BUT NOT LIMITED TO THE WARRANTIES OF MERCHANTABILITY,\n",
    "FITNESS FOR A PARTICULAR PURPOSE AND NONINFRINGEMENT. IN NO EVENT SHALL THE\n",
    "AUTHORS OR COPYRIGHT HOLDERS BE LIABLE FOR ANY CLAIM, DAMAGES OR OTHER\n",
    "LIABILITY, WHETHER IN AN ACTION OF CONTRACT, TORT OR OTHERWISE, ARISING FROM,\n",
    "OUT OF OR IN CONNECTION WITH THE SOFTWARE OR THE USE OR OTHER DEALINGS IN THE\n",
    "SOFTWARE."
   ]
  },
  {
   "cell_type": "markdown",
   "id": "35473445",
   "metadata": {},
   "source": [
    "## EDB: 5G linear array antenna\n",
    "\n",
    "This example shows how you can use HFSS 3D Layout to create and solve a 5G linear array antenna."
   ]
  },
  {
   "cell_type": "markdown",
   "id": "418bf45e",
   "metadata": {},
   "source": [
    "## Perform required imports\n",
    "\n",
    "Perform required imports."
   ]
  },
  {
   "cell_type": "code",
   "execution_count": 1,
   "id": "c1cf826e",
   "metadata": {
    "execution": {
     "iopub.execute_input": "2024-07-10T08:14:36.192406Z",
     "iopub.status.busy": "2024-07-10T08:14:36.192406Z",
     "iopub.status.idle": "2024-07-10T08:14:36.208037Z",
     "shell.execute_reply": "2024-07-10T08:14:36.208037Z"
    }
   },
   "outputs": [],
   "source": [
    "import os\n",
    "import tempfile"
   ]
  },
  {
   "cell_type": "code",
   "execution_count": 2,
   "id": "e05d1299",
   "metadata": {
    "execution": {
     "iopub.execute_input": "2024-07-10T08:14:36.208037Z",
     "iopub.status.busy": "2024-07-10T08:14:36.208037Z",
     "iopub.status.idle": "2024-07-10T08:14:36.739297Z",
     "shell.execute_reply": "2024-07-10T08:14:36.739297Z"
    }
   },
   "outputs": [],
   "source": [
    "from pyaedt import Hfss3dLayout"
   ]
  },
  {
   "cell_type": "code",
   "execution_count": 3,
   "id": "f61a873f",
   "metadata": {
    "execution": {
     "iopub.execute_input": "2024-07-10T08:14:36.739297Z",
     "iopub.status.busy": "2024-07-10T08:14:36.739297Z",
     "iopub.status.idle": "2024-07-10T08:14:36.770610Z",
     "shell.execute_reply": "2024-07-10T08:14:36.770610Z"
    }
   },
   "outputs": [],
   "source": [
    "import pyedb\n",
    "from pyedb.generic.general_methods import generate_unique_name"
   ]
  },
  {
   "cell_type": "markdown",
   "id": "1ebfacde",
   "metadata": {},
   "source": [
    "## Set non-graphical mode\n",
    "\n",
    "Set non-graphical mode. The default is ``False``."
   ]
  },
  {
   "cell_type": "code",
   "execution_count": 4,
   "id": "5b22ddaf",
   "metadata": {
    "execution": {
     "iopub.execute_input": "2024-07-10T08:14:36.770610Z",
     "iopub.status.busy": "2024-07-10T08:14:36.770610Z",
     "iopub.status.idle": "2024-07-10T08:14:36.786223Z",
     "shell.execute_reply": "2024-07-10T08:14:36.786223Z"
    }
   },
   "outputs": [],
   "source": [
    "non_graphical = False"
   ]
  },
  {
   "cell_type": "code",
   "execution_count": 5,
   "id": "497551ef",
   "metadata": {
    "execution": {
     "iopub.execute_input": "2024-07-10T08:14:36.786223Z",
     "iopub.status.busy": "2024-07-10T08:14:36.786223Z",
     "iopub.status.idle": "2024-07-10T08:14:36.801845Z",
     "shell.execute_reply": "2024-07-10T08:14:36.801845Z"
    }
   },
   "outputs": [],
   "source": [
    "class Patch:\n",
    "    def __init__(self, width=0.0, height=0.0, position=0.0):\n",
    "        self.width = width\n",
    "        self.height = height\n",
    "        self.position = position\n",
    "\n",
    "    @property\n",
    "    def points(self):\n",
    "        return [\n",
    "            [self.position, -self.height / 2],\n",
    "            [self.position + self.width, -self.height / 2],\n",
    "            [self.position + self.width, self.height / 2],\n",
    "            [self.position, self.height / 2],\n",
    "        ]"
   ]
  },
  {
   "cell_type": "code",
   "execution_count": 6,
   "id": "bc6933a8",
   "metadata": {
    "execution": {
     "iopub.execute_input": "2024-07-10T08:14:36.801845Z",
     "iopub.status.busy": "2024-07-10T08:14:36.801845Z",
     "iopub.status.idle": "2024-07-10T08:14:36.817473Z",
     "shell.execute_reply": "2024-07-10T08:14:36.817473Z"
    }
   },
   "outputs": [],
   "source": [
    "class Line:\n",
    "    def __init__(self, length=0.0, width=0.0, position=0.0):\n",
    "        self.length = length\n",
    "        self.width = width\n",
    "        self.position = position\n",
    "\n",
    "    @property\n",
    "    def points(self):\n",
    "        return [\n",
    "            [self.position, -self.width / 2],\n",
    "            [self.position + self.length, -self.width / 2],\n",
    "            [self.position + self.length, self.width / 2],\n",
    "            [self.position, self.width / 2],\n",
    "        ]"
   ]
  },
  {
   "cell_type": "code",
   "execution_count": 7,
   "id": "4c43d3a2",
   "metadata": {
    "execution": {
     "iopub.execute_input": "2024-07-10T08:14:36.817473Z",
     "iopub.status.busy": "2024-07-10T08:14:36.817473Z",
     "iopub.status.idle": "2024-07-10T08:14:36.833099Z",
     "shell.execute_reply": "2024-07-10T08:14:36.833099Z"
    }
   },
   "outputs": [],
   "source": [
    "class LinearArray:\n",
    "    def __init__(self, nb_patch=1, array_length=10e-3, array_width=5e-3):\n",
    "        self.nbpatch = nb_patch\n",
    "        self.length = array_length\n",
    "        self.width = array_width\n",
    "\n",
    "    @property\n",
    "    def points(self):\n",
    "        return [\n",
    "            [-1e-3, -self.width / 2 - 1e-3],\n",
    "            [self.length + 1e-3, -self.width / 2 - 1e-3],\n",
    "            [self.length + 1e-3, self.width / 2 + 1e-3],\n",
    "            [-1e-3, self.width / 2 + 1e-3],\n",
    "        ]"
   ]
  },
  {
   "cell_type": "code",
   "execution_count": 8,
   "id": "fd754b91",
   "metadata": {
    "execution": {
     "iopub.execute_input": "2024-07-10T08:14:36.833099Z",
     "iopub.status.busy": "2024-07-10T08:14:36.833099Z",
     "iopub.status.idle": "2024-07-10T08:14:47.927273Z",
     "shell.execute_reply": "2024-07-10T08:14:47.927273Z"
    }
   },
   "outputs": [
    {
     "name": "stdout",
     "output_type": "stream",
     "text": [
      "C:\\Users\\ansys\\AppData\\Local\\Temp\\pcb_0CENG3.aedb\n"
     ]
    },
    {
     "name": "stdout",
     "output_type": "stream",
     "text": [
      "PyAEDT INFO: Logger is initialized in EDB.\n"
     ]
    },
    {
     "name": "stdout",
     "output_type": "stream",
     "text": [
      "PyAEDT INFO: legacy v0.19.dev0\n"
     ]
    },
    {
     "name": "stdout",
     "output_type": "stream",
     "text": [
      "PyAEDT INFO: Python version 3.10.11 (tags/v3.10.11:7d4cc5a, Apr  5 2023, 00:38:17) [MSC v.1929 64 bit (AMD64)]\n"
     ]
    },
    {
     "name": "stdout",
     "output_type": "stream",
     "text": [
      "PyAEDT INFO: EDB C:\\Users\\ansys\\AppData\\Local\\Temp\\pcb_0CENG3.aedb created correctly.\n"
     ]
    },
    {
     "name": "stdout",
     "output_type": "stream",
     "text": [
      "PyAEDT INFO: EDB initialized.\n"
     ]
    }
   ],
   "source": [
    "tmpfold = tempfile.gettempdir()\n",
    "aedb_path = os.path.join(tmpfold, generate_unique_name(\"pcb\") + \".aedb\")\n",
    "print(aedb_path)\n",
    "edb = pyedb.Edb(edbpath=aedb_path, edbversion=\"2024.1\")"
   ]
  },
  {
   "cell_type": "markdown",
   "id": "4490c406",
   "metadata": {},
   "source": [
    "## Add stackup layers\n",
    "\n",
    "Add the stackup layers."
   ]
  },
  {
   "cell_type": "code",
   "execution_count": 9,
   "id": "6b850c81",
   "metadata": {
    "execution": {
     "iopub.execute_input": "2024-07-10T08:14:47.927273Z",
     "iopub.status.busy": "2024-07-10T08:14:47.927273Z",
     "iopub.status.idle": "2024-07-10T08:14:48.052334Z",
     "shell.execute_reply": "2024-07-10T08:14:48.052334Z"
    }
   },
   "outputs": [
    {
     "name": "stderr",
     "output_type": "stream",
     "text": [
      "Material 'copper' does not exist in material library. Intempt to create it from syslib.\n"
     ]
    },
    {
     "name": "stderr",
     "output_type": "stream",
     "text": [
      "Material 'FR4_epoxy' does not exist in material library. Intempt to create it from syslib.\n"
     ]
    },
    {
     "name": "stderr",
     "output_type": "stream",
     "text": [
      "Material 'Air' does not exist in material library. Intempt to create it from syslib.\n"
     ]
    },
    {
     "name": "stdout",
     "output_type": "stream",
     "text": [
      "PyAEDT ERROR: Material Air does not exist in syslib AMAT file.\n"
     ]
    },
    {
     "name": "stderr",
     "output_type": "stream",
     "text": [
      "Material 'Duroid (tm)' does not exist in material library. Intempt to create it from syslib.\n"
     ]
    }
   ],
   "source": [
    "if edb:\n",
    "    edb.stackup.add_layer(\"Virt_GND\")\n",
    "    edb.stackup.add_layer(\"Gap\", \"Virt_GND\", layer_type=\"dielectric\", thickness=\"0.05mm\", material=\"Air\")\n",
    "    edb.stackup.add_layer(\"GND\", \"Gap\")\n",
    "    edb.stackup.add_layer(\"Substrat\", \"GND\", layer_type=\"dielectric\", thickness=\"0.5mm\", material=\"Duroid (tm)\")\n",
    "    edb.stackup.add_layer(\"TOP\", \"Substrat\")"
   ]
  },
  {
   "cell_type": "markdown",
   "id": "6dfac459",
   "metadata": {},
   "source": [
    "## Create linear array\n",
    "\n",
    "Create the first patch of the linear array."
   ]
  },
  {
   "cell_type": "code",
   "execution_count": 10,
   "id": "5be9bbab",
   "metadata": {
    "execution": {
     "iopub.execute_input": "2024-07-10T08:14:48.052334Z",
     "iopub.status.busy": "2024-07-10T08:14:48.052334Z",
     "iopub.status.idle": "2024-07-10T08:14:48.099205Z",
     "shell.execute_reply": "2024-07-10T08:14:48.099205Z"
    }
   },
   "outputs": [
    {
     "data": {
      "text/plain": [
       "<pyedb.dotnet.edb_core.edb_data.primitives_data.EdbPolygon at 0x2258ee05010>"
      ]
     },
     "execution_count": 10,
     "metadata": {},
     "output_type": "execute_result"
    }
   ],
   "source": [
    "first_patch = Patch(width=1.4e-3, height=1.2e-3, position=0.0)\n",
    "edb.modeler.create_polygon(first_patch.points, \"TOP\", net_name=\"Array_antenna\")\n",
    "# First line\n",
    "first_line = Line(length=2.4e-3, width=0.3e-3, position=first_patch.width)\n",
    "edb.modeler.create_polygon(first_line.points, \"TOP\", net_name=\"Array_antenna\")"
   ]
  },
  {
   "cell_type": "markdown",
   "id": "8116ac5b",
   "metadata": {},
   "source": [
    "## Patch linear array\n",
    "\n",
    "Patch the linear array."
   ]
  },
  {
   "cell_type": "code",
   "execution_count": 11,
   "id": "507673ff",
   "metadata": {
    "execution": {
     "iopub.execute_input": "2024-07-10T08:14:48.099205Z",
     "iopub.status.busy": "2024-07-10T08:14:48.099205Z",
     "iopub.status.idle": "2024-07-10T08:14:48.114829Z",
     "shell.execute_reply": "2024-07-10T08:14:48.114829Z"
    }
   },
   "outputs": [],
   "source": [
    "patch = Patch(width=2.29e-3, height=3.3e-3)\n",
    "line = Line(length=1.9e-3, width=0.2e-3)\n",
    "linear_array = LinearArray(nb_patch=8, array_width=patch.height)"
   ]
  },
  {
   "cell_type": "code",
   "execution_count": 12,
   "id": "e6a424be",
   "metadata": {
    "execution": {
     "iopub.execute_input": "2024-07-10T08:14:48.114829Z",
     "iopub.status.busy": "2024-07-10T08:14:48.114829Z",
     "iopub.status.idle": "2024-07-10T08:14:48.130450Z",
     "shell.execute_reply": "2024-07-10T08:14:48.130450Z"
    }
   },
   "outputs": [],
   "source": [
    "current_patch = 1\n",
    "current_position = first_line.position + first_line.length"
   ]
  },
  {
   "cell_type": "code",
   "execution_count": 13,
   "id": "a1a5cc2a",
   "metadata": {
    "execution": {
     "iopub.execute_input": "2024-07-10T08:14:48.130450Z",
     "iopub.status.busy": "2024-07-10T08:14:48.130450Z",
     "iopub.status.idle": "2024-07-10T08:14:48.255468Z",
     "shell.execute_reply": "2024-07-10T08:14:48.255468Z"
    }
   },
   "outputs": [],
   "source": [
    "while current_patch <= linear_array.nbpatch:\n",
    "    patch.position = current_position\n",
    "    edb.modeler.create_polygon(patch.points, \"TOP\", net_name=\"Array_antenna\")\n",
    "    current_position += patch.width\n",
    "    if current_patch < linear_array.nbpatch:\n",
    "        line.position = current_position\n",
    "        edb.modeler.create_polygon(line.points, \"TOP\", net_name=\"Array_antenna\")\n",
    "        current_position += line.length\n",
    "    current_patch += 1"
   ]
  },
  {
   "cell_type": "code",
   "execution_count": 14,
   "id": "88a0445b",
   "metadata": {
    "execution": {
     "iopub.execute_input": "2024-07-10T08:14:48.255468Z",
     "iopub.status.busy": "2024-07-10T08:14:48.255468Z",
     "iopub.status.idle": "2024-07-10T08:14:48.271029Z",
     "shell.execute_reply": "2024-07-10T08:14:48.271029Z"
    }
   },
   "outputs": [],
   "source": [
    "linear_array.length = current_position"
   ]
  },
  {
   "cell_type": "markdown",
   "id": "2f5b4adb",
   "metadata": {},
   "source": [
    "## Add ground\n",
    "\n",
    "Add a ground."
   ]
  },
  {
   "cell_type": "code",
   "execution_count": 15,
   "id": "b1a3d99e",
   "metadata": {
    "execution": {
     "iopub.execute_input": "2024-07-10T08:14:48.271029Z",
     "iopub.status.busy": "2024-07-10T08:14:48.271029Z",
     "iopub.status.idle": "2024-07-10T08:14:48.286654Z",
     "shell.execute_reply": "2024-07-10T08:14:48.286654Z"
    },
    "lines_to_next_cell": 2
   },
   "outputs": [
    {
     "data": {
      "text/plain": [
       "<pyedb.dotnet.edb_core.edb_data.primitives_data.EdbPolygon at 0x2258ee0d690>"
      ]
     },
     "execution_count": 15,
     "metadata": {},
     "output_type": "execute_result"
    }
   ],
   "source": [
    "edb.modeler.create_polygon(linear_array.points, \"GND\", net_name=\"GND\")"
   ]
  },
  {
   "cell_type": "markdown",
   "id": "443b0756",
   "metadata": {},
   "source": [
    "## Add connector pin\n",
    "\n",
    "Add a central connector pin."
   ]
  },
  {
   "cell_type": "code",
   "execution_count": 16,
   "id": "af607d16",
   "metadata": {
    "execution": {
     "iopub.execute_input": "2024-07-10T08:14:48.286654Z",
     "iopub.status.busy": "2024-07-10T08:14:48.286654Z",
     "iopub.status.idle": "2024-07-10T08:14:48.333532Z",
     "shell.execute_reply": "2024-07-10T08:14:48.333532Z"
    }
   },
   "outputs": [
    {
     "name": "stdout",
     "output_type": "stream",
     "text": [
      "PyAEDT INFO: Padstack Connector_pin create correctly\n"
     ]
    }
   ],
   "source": [
    "edb.padstacks.create(padstackname=\"Connector_pin\", holediam=\"100um\", paddiam=\"0\", antipaddiam=\"200um\")\n",
    "con_pin = edb.padstacks.place(\n",
    "    [first_patch.width / 4, 0],\n",
    "    \"Connector_pin\",\n",
    "    net_name=\"Array_antenna\",\n",
    "    fromlayer=\"TOP\",\n",
    "    tolayer=\"GND\",\n",
    "    via_name=\"coax\",\n",
    ")"
   ]
  },
  {
   "cell_type": "markdown",
   "id": "75343101",
   "metadata": {},
   "source": [
    "## Add connector ground\n",
    "\n",
    "Add a connector ground."
   ]
  },
  {
   "cell_type": "code",
   "execution_count": 17,
   "id": "039cb0ee",
   "metadata": {
    "execution": {
     "iopub.execute_input": "2024-07-10T08:14:48.333532Z",
     "iopub.status.busy": "2024-07-10T08:14:48.333532Z",
     "iopub.status.idle": "2024-07-10T08:14:48.396032Z",
     "shell.execute_reply": "2024-07-10T08:14:48.396032Z"
    }
   },
   "outputs": [
    {
     "name": "stdout",
     "output_type": "stream",
     "text": [
      "PyAEDT INFO: Padstack gnd_via create correctly\n"
     ]
    }
   ],
   "source": [
    "edb.modeler.create_polygon(first_patch.points, \"Virt_GND\", net_name=\"GND\")\n",
    "edb.padstacks.create(\"gnd_via\", \"100um\", \"0\", \"0\")\n",
    "con_ref1 = edb.padstacks.place(\n",
    "    [first_patch.points[0][0] + 0.2e-3, first_patch.points[0][1] + 0.2e-3],\n",
    "    \"gnd_via\",\n",
    "    fromlayer=\"GND\",\n",
    "    tolayer=\"Virt_GND\",\n",
    "    net_name=\"GND\",\n",
    ")\n",
    "con_ref2 = edb.padstacks.place(\n",
    "    [first_patch.points[1][0] - 0.2e-3, first_patch.points[1][1] + 0.2e-3],\n",
    "    \"gnd_via\",\n",
    "    fromlayer=\"GND\",\n",
    "    tolayer=\"Virt_GND\",\n",
    "    net_name=\"GND\",\n",
    ")\n",
    "con_ref3 = edb.padstacks.place(\n",
    "    [first_patch.points[2][0] - 0.2e-3, first_patch.points[2][1] - 0.2e-3],\n",
    "    \"gnd_via\",\n",
    "    fromlayer=\"GND\",\n",
    "    tolayer=\"Virt_GND\",\n",
    "    net_name=\"GND\",\n",
    ")\n",
    "con_ref4 = edb.padstacks.place(\n",
    "    [first_patch.points[3][0] + 0.2e-3, first_patch.points[3][1] - 0.2e-3],\n",
    "    \"gnd_via\",\n",
    "    fromlayer=\"GND\",\n",
    "    tolayer=\"Virt_GND\",\n",
    "    net_name=\"GND\",\n",
    ")"
   ]
  },
  {
   "cell_type": "markdown",
   "id": "558ba40b",
   "metadata": {},
   "source": [
    "## Add excitation port\n",
    "\n",
    "Add an excitation port."
   ]
  },
  {
   "cell_type": "code",
   "execution_count": 18,
   "id": "599040bb",
   "metadata": {
    "execution": {
     "iopub.execute_input": "2024-07-10T08:14:48.396032Z",
     "iopub.status.busy": "2024-07-10T08:14:48.396032Z",
     "iopub.status.idle": "2024-07-10T08:14:48.427289Z",
     "shell.execute_reply": "2024-07-10T08:14:48.427289Z"
    },
    "lines_to_next_cell": 2
   },
   "outputs": [],
   "source": [
    "edb.padstacks.set_solderball(con_pin, \"Virt_GND\", isTopPlaced=False, ballDiam=0.1e-3)\n",
    "port_name = edb.padstacks.create_coax_port(con_pin)"
   ]
  },
  {
   "cell_type": "markdown",
   "id": "c73796c5",
   "metadata": {},
   "source": [
    "## Plot geometry\n",
    "\n",
    "Plot the geometry."
   ]
  },
  {
   "cell_type": "code",
   "execution_count": 19,
   "id": "d62f4798",
   "metadata": {
    "execution": {
     "iopub.execute_input": "2024-07-10T08:14:48.427289Z",
     "iopub.status.busy": "2024-07-10T08:14:48.427289Z",
     "iopub.status.idle": "2024-07-10T08:14:49.286666Z",
     "shell.execute_reply": "2024-07-10T08:14:49.286666Z"
    }
   },
   "outputs": [
    {
     "name": "stdout",
     "output_type": "stream",
     "text": [
      "PyAEDT INFO: Nets Point Generation time 0.062 seconds\n"
     ]
    },
    {
     "name": "stderr",
     "output_type": "stream",
     "text": [
      "C:\\actions-runner\\_work\\pyedb\\pyedb\\.venv\\lib\\site-packages\\pyedb\\generic\\plot.py:147: UserWarning: FigureCanvasAgg is non-interactive, and thus cannot be shown\n",
      "  plt.show()\n"
     ]
    }
   ],
   "source": [
    "edb.nets.plot(None)"
   ]
  },
  {
   "cell_type": "markdown",
   "id": "b56b7602",
   "metadata": {},
   "source": [
    "## Save and close Edb instance prior to opening it in Electronics Desktop.\n",
    "\n",
    "Save EDB."
   ]
  },
  {
   "cell_type": "code",
   "execution_count": 20,
   "id": "8a6bf0d5",
   "metadata": {
    "execution": {
     "iopub.execute_input": "2024-07-10T08:14:49.286666Z",
     "iopub.status.busy": "2024-07-10T08:14:49.286666Z",
     "iopub.status.idle": "2024-07-10T08:14:49.317919Z",
     "shell.execute_reply": "2024-07-10T08:14:49.317919Z"
    }
   },
   "outputs": [
    {
     "name": "stdout",
     "output_type": "stream",
     "text": [
      "PyAEDT INFO: EDB file save time: 0.00ms\n"
     ]
    },
    {
     "name": "stdout",
     "output_type": "stream",
     "text": [
      "PyAEDT INFO: EDB file release time: 0.00ms\n"
     ]
    },
    {
     "name": "stdout",
     "output_type": "stream",
     "text": [
      "EDB saved correctly to C:\\Users\\ansys\\AppData\\Local\\Temp\\pcb_0CENG3.aedb. You can import in AEDT.\n"
     ]
    }
   ],
   "source": [
    "edb.save_edb()\n",
    "edb.close_edb()\n",
    "print(\"EDB saved correctly to {}. You can import in AEDT.\".format(aedb_path))"
   ]
  },
  {
   "cell_type": "markdown",
   "id": "830e4f51",
   "metadata": {},
   "source": [
    "## Launch HFSS 3D Layout and open EDB\n",
    "\n",
    "Launch HFSS 3D Layout and open EDB."
   ]
  },
  {
   "cell_type": "code",
   "execution_count": 21,
   "id": "fdef1d11",
   "metadata": {
    "execution": {
     "iopub.execute_input": "2024-07-10T08:14:49.317919Z",
     "iopub.status.busy": "2024-07-10T08:14:49.317919Z",
     "iopub.status.idle": "2024-07-10T08:15:22.495331Z",
     "shell.execute_reply": "2024-07-10T08:15:22.495331Z"
    }
   },
   "outputs": [
    {
     "name": "stdout",
     "output_type": "stream",
     "text": [
      "PyAEDT WARNING: Argument `projectname` is deprecated for method `__init__`; use `project` instead.\n"
     ]
    },
    {
     "name": "stdout",
     "output_type": "stream",
     "text": [
      "PyAEDT WARNING: Argument `specified_version` is deprecated for method `__init__`; use `version` instead.\n"
     ]
    },
    {
     "name": "stdout",
     "output_type": "stream",
     "text": [
      "PyAEDT WARNING: Argument `new_desktop_session` is deprecated for method `__init__`; use `new_desktop` instead.\n"
     ]
    },
    {
     "name": "stdout",
     "output_type": "stream",
     "text": [
      "PyAEDT INFO: Initializing new Desktop session.\n"
     ]
    },
    {
     "name": "stdout",
     "output_type": "stream",
     "text": [
      "PyAEDT INFO: StdOut is enabled\n"
     ]
    },
    {
     "name": "stdout",
     "output_type": "stream",
     "text": [
      "PyAEDT INFO: Log on file is enabled\n"
     ]
    },
    {
     "name": "stdout",
     "output_type": "stream",
     "text": [
      "PyAEDT INFO: Log on Desktop Message Manager is enabled\n"
     ]
    },
    {
     "name": "stdout",
     "output_type": "stream",
     "text": [
      "PyAEDT INFO: Debug logger is disabled. PyAEDT methods will not be logged.\n"
     ]
    },
    {
     "name": "stdout",
     "output_type": "stream",
     "text": [
      "PyAEDT INFO: Launching PyAEDT outside AEDT with gRPC plugin.\n"
     ]
    },
    {
     "name": "stdout",
     "output_type": "stream",
     "text": [
      "PyAEDT INFO: New AEDT session is starting on gRPC port 49246\n"
     ]
    },
    {
     "name": "stdout",
     "output_type": "stream",
     "text": [
      "PyAEDT INFO: AEDT installation Path C:\\Program Files\\AnsysEM\\v241\\Win64\n"
     ]
    },
    {
     "name": "stdout",
     "output_type": "stream",
     "text": [
      "PyAEDT INFO: Ansoft.ElectronicsDesktop.2024.1 version started with process ID 4544.\n"
     ]
    },
    {
     "name": "stdout",
     "output_type": "stream",
     "text": [
      "PyAEDT INFO: pyaedt v0.9.8\n"
     ]
    },
    {
     "name": "stdout",
     "output_type": "stream",
     "text": [
      "PyAEDT INFO: Python version 3.10.11 (tags/v3.10.11:7d4cc5a, Apr  5 2023, 00:38:17) [MSC v.1929 64 bit (AMD64)]\n"
     ]
    },
    {
     "name": "stdout",
     "output_type": "stream",
     "text": [
      "PyAEDT INFO: AEDT 2024.1.0 Build Date 2023-11-27 22:16:18\n"
     ]
    },
    {
     "name": "stdout",
     "output_type": "stream",
     "text": [
      "PyAEDT INFO: EDB folder C:\\Users\\ansys\\AppData\\Local\\Temp\\pcb_0CENG3.aedb has been imported to project pcb_0CENG3\n"
     ]
    },
    {
     "name": "stdout",
     "output_type": "stream",
     "text": [
      "PyAEDT INFO: Active Design set to Cell_X0E172\n"
     ]
    },
    {
     "name": "stdout",
     "output_type": "stream",
     "text": [
      "PyAEDT INFO: Aedt Objects correctly read\n"
     ]
    }
   ],
   "source": [
    "h3d = Hfss3dLayout(\n",
    "    projectname=aedb_path, specified_version=\"2024.1\", new_desktop_session=True, non_graphical=non_graphical\n",
    ")"
   ]
  },
  {
   "cell_type": "markdown",
   "id": "75b477cc",
   "metadata": {},
   "source": [
    "## Plot geometry\n",
    "\n",
    "Plot the geometry. The EDB methods are also accessible from the ``Hfss3dlayout`` class."
   ]
  },
  {
   "cell_type": "code",
   "execution_count": 22,
   "id": "cadca011",
   "metadata": {
    "execution": {
     "iopub.execute_input": "2024-07-10T08:15:22.495331Z",
     "iopub.status.busy": "2024-07-10T08:15:22.495331Z",
     "iopub.status.idle": "2024-07-10T08:15:22.667208Z",
     "shell.execute_reply": "2024-07-10T08:15:22.667208Z"
    }
   },
   "outputs": [
    {
     "name": "stdout",
     "output_type": "stream",
     "text": [
      "PyAEDT INFO: Loading Modeler.\n"
     ]
    },
    {
     "name": "stdout",
     "output_type": "stream",
     "text": [
      "PyAEDT INFO: Modeler loaded.\n"
     ]
    },
    {
     "name": "stdout",
     "output_type": "stream",
     "text": [
      "PyAEDT INFO: EDB loaded.\n"
     ]
    },
    {
     "name": "stdout",
     "output_type": "stream",
     "text": [
      "PyAEDT INFO: Layers loaded.\n"
     ]
    },
    {
     "name": "stdout",
     "output_type": "stream",
     "text": [
      "PyAEDT INFO: Primitives loaded.\n"
     ]
    },
    {
     "name": "stdout",
     "output_type": "stream",
     "text": [
      "PyAEDT INFO: Modeler class has been initialized! Elapsed time: 0m 0sec\n"
     ]
    },
    {
     "name": "stdout",
     "output_type": "stream",
     "text": [
      "PyAEDT INFO: Logger is initialized in EDB.\n"
     ]
    },
    {
     "name": "stdout",
     "output_type": "stream",
     "text": [
      "PyAEDT INFO: legacy v0.19.dev0\n"
     ]
    },
    {
     "name": "stdout",
     "output_type": "stream",
     "text": [
      "PyAEDT INFO: Python version 3.10.11 (tags/v3.10.11:7d4cc5a, Apr  5 2023, 00:38:17) [MSC v.1929 64 bit (AMD64)]\n"
     ]
    },
    {
     "name": "stdout",
     "output_type": "stream",
     "text": [
      "PyAEDT INFO: Database pcb_0CENG3.aedb Opened in 2024.1\n"
     ]
    },
    {
     "name": "stdout",
     "output_type": "stream",
     "text": [
      "PyAEDT INFO: Cell Cell_X0E172 Opened\n"
     ]
    },
    {
     "name": "stdout",
     "output_type": "stream",
     "text": [
      "PyAEDT INFO: Builder was initialized.\n"
     ]
    },
    {
     "name": "stdout",
     "output_type": "stream",
     "text": [
      "PyAEDT INFO: EDB initialized.\n"
     ]
    },
    {
     "name": "stdout",
     "output_type": "stream",
     "text": [
      "PyAEDT INFO: Nets Point Generation time 0.078 seconds\n"
     ]
    }
   ],
   "source": [
    "h3d.modeler.edb.nets.plot(None)"
   ]
  },
  {
   "cell_type": "markdown",
   "id": "64b6f078",
   "metadata": {},
   "source": [
    "## Create setup and sweeps\n",
    "\n",
    "Getters and setters facilitate the settings on the nested property dictionary.\n",
    "Previously, you had to use these commands:\n",
    "\n",
    "``setup.props[\"AdaptiveSettings\"][\"SingleFrequencyDataList\"][\"AdaptiveFrequencyData\"][\"AdaptiveFrequency\"] = \"20GHz\"``\n",
    "``setup.props[\"AdaptiveSettings\"][\"SingleFrequencyDataList\"][\"AdaptiveFrequencyData\"][\"MaxPasses\"] = 4``\n",
    "\n",
    "You can now use the simpler approach that follows."
   ]
  },
  {
   "cell_type": "code",
   "execution_count": 23,
   "id": "6fb1f0d8",
   "metadata": {
    "execution": {
     "iopub.execute_input": "2024-07-10T08:15:22.667208Z",
     "iopub.status.busy": "2024-07-10T08:15:22.667208Z",
     "iopub.status.idle": "2024-07-10T08:15:22.745333Z",
     "shell.execute_reply": "2024-07-10T08:15:22.745333Z"
    }
   },
   "outputs": [],
   "source": [
    "setup = h3d.create_setup()"
   ]
  },
  {
   "cell_type": "code",
   "execution_count": 24,
   "id": "458dedd3",
   "metadata": {
    "execution": {
     "iopub.execute_input": "2024-07-10T08:15:22.745333Z",
     "iopub.status.busy": "2024-07-10T08:15:22.745333Z",
     "iopub.status.idle": "2024-07-10T08:15:22.917273Z",
     "shell.execute_reply": "2024-07-10T08:15:22.917273Z"
    }
   },
   "outputs": [
    {
     "name": "stdout",
     "output_type": "stream",
     "text": [
      "PyAEDT WARNING: Argument `setupname` is deprecated for method `create_linear_count_sweep`; use `setup` instead.\n"
     ]
    },
    {
     "name": "stdout",
     "output_type": "stream",
     "text": [
      "PyAEDT WARNING: Argument `freqstart` is deprecated for method `create_linear_count_sweep`; use `start_frequency` instead.\n"
     ]
    },
    {
     "name": "stdout",
     "output_type": "stream",
     "text": [
      "PyAEDT WARNING: Argument `freqstop` is deprecated for method `create_linear_count_sweep`; use `stop_frequency` instead.\n"
     ]
    },
    {
     "name": "stdout",
     "output_type": "stream",
     "text": [
      "PyAEDT WARNING: Argument `sweepname` is deprecated for method `create_linear_count_sweep`; use `name` instead.\n"
     ]
    },
    {
     "name": "stdout",
     "output_type": "stream",
     "text": [
      "PyAEDT INFO: Linear count sweep sweep1 has been correctly created.\n"
     ]
    },
    {
     "data": {
      "text/plain": [
       "<pyaedt.modules.SolveSweeps.SweepHFSS3DLayout at 0x2259391a8b0>"
      ]
     },
     "execution_count": 24,
     "metadata": {},
     "output_type": "execute_result"
    }
   ],
   "source": [
    "setup[\"AdaptiveFrequency\"] = \"20GHz\"\n",
    "setup[\"AdaptiveSettings/SingleFrequencyDataList/AdaptiveFrequencyData/MaxPasses\"] = 4\n",
    "h3d.create_linear_count_sweep(\n",
    "    setupname=setup.name,\n",
    "    unit=\"GHz\",\n",
    "    freqstart=20,\n",
    "    freqstop=50,\n",
    "    num_of_freq_points=1001,\n",
    "    sweepname=\"sweep1\",\n",
    "    sweep_type=\"Interpolating\",\n",
    "    interpolation_tol_percent=1,\n",
    "    interpolation_max_solutions=255,\n",
    "    save_fields=False,\n",
    "    use_q3d_for_dc=False,\n",
    ")"
   ]
  },
  {
   "cell_type": "markdown",
   "id": "2cf03e87",
   "metadata": {},
   "source": [
    "## Solve setup and create report\n",
    "\n",
    "Solve the project and create a report."
   ]
  },
  {
   "cell_type": "code",
   "execution_count": 25,
   "id": "e23f4e9e",
   "metadata": {
    "execution": {
     "iopub.execute_input": "2024-07-10T08:15:22.917273Z",
     "iopub.status.busy": "2024-07-10T08:15:22.917273Z",
     "iopub.status.idle": "2024-07-10T08:16:26.209333Z",
     "shell.execute_reply": "2024-07-10T08:16:26.209333Z"
    },
    "lines_to_next_cell": 2
   },
   "outputs": [
    {
     "name": "stdout",
     "output_type": "stream",
     "text": [
      "PyAEDT INFO: Key Desktop/ActiveDSOConfigurations/HFSS 3D Layout Design correctly changed.\n"
     ]
    },
    {
     "name": "stdout",
     "output_type": "stream",
     "text": [
      "PyAEDT INFO: Solving all design setups.\n"
     ]
    },
    {
     "name": "stdout",
     "output_type": "stream",
     "text": [
      "PyAEDT INFO: Key Desktop/ActiveDSOConfigurations/HFSS 3D Layout Design correctly changed.\n"
     ]
    },
    {
     "name": "stdout",
     "output_type": "stream",
     "text": [
      "PyAEDT INFO: Design setup None solved correctly in 0.0h 1.0m 3.0s\n"
     ]
    },
    {
     "name": "stdout",
     "output_type": "stream",
     "text": [
      "PyAEDT INFO: Parsing C:/Users/ansys/AppData/Local/Temp/pcb_0CENG3.aedt.\n"
     ]
    },
    {
     "name": "stdout",
     "output_type": "stream",
     "text": [
      "PyAEDT INFO: File C:/Users/ansys/AppData/Local/Temp/pcb_0CENG3.aedt correctly loaded. Elapsed time: 0m 0sec\n"
     ]
    },
    {
     "name": "stdout",
     "output_type": "stream",
     "text": [
      "PyAEDT INFO: aedt file load time 0.015628576278686523\n"
     ]
    },
    {
     "name": "stdout",
     "output_type": "stream",
     "text": [
      "PyAEDT INFO: PostProcessor class has been initialized! Elapsed time: 0m 0sec\n"
     ]
    },
    {
     "name": "stdout",
     "output_type": "stream",
     "text": [
      "PyAEDT INFO: Post class has been initialized! Elapsed time: 0m 0sec\n"
     ]
    },
    {
     "name": "stderr",
     "output_type": "stream",
     "text": [
      "C:\\actions-runner\\_work\\pyedb\\pyedb\\.venv\\lib\\site-packages\\pyaedt\\generic\\plot.py:55: UserWarning: The PyVista module is required to run some functionalities of PostProcess.\n",
      "Install with \n",
      "\n",
      "pip install pyvista\n",
      "\n",
      "Requires CPython.\n",
      "  warnings.warn(\n"
     ]
    },
    {
     "data": {
      "text/plain": [
       "<pyaedt.modules.report_templates.Standard at 0x22593ada1b0>"
      ]
     },
     "execution_count": 25,
     "metadata": {},
     "output_type": "execute_result"
    }
   ],
   "source": [
    "h3d.analyze()\n",
    "h3d.post.create_report([\"db(S({0},{1}))\".format(port_name, port_name)])"
   ]
  },
  {
   "cell_type": "markdown",
   "id": "0ce6fd3b",
   "metadata": {},
   "source": [
    "## Plot results outside AEDT\n",
    "\n",
    "Plot results using Matplotlib."
   ]
  },
  {
   "cell_type": "code",
   "execution_count": 26,
   "id": "441f5e8a",
   "metadata": {
    "execution": {
     "iopub.execute_input": "2024-07-10T08:16:26.209333Z",
     "iopub.status.busy": "2024-07-10T08:16:26.209333Z",
     "iopub.status.idle": "2024-07-10T08:16:26.303084Z",
     "shell.execute_reply": "2024-07-10T08:16:26.303084Z"
    }
   },
   "outputs": [
    {
     "name": "stdout",
     "output_type": "stream",
     "text": [
      "PyAEDT INFO: Solution Data Correctly Loaded.\n"
     ]
    },
    {
     "data": {
      "text/plain": [
       "<Figure size 2000x1000 with 1 Axes>"
      ]
     },
     "execution_count": 26,
     "metadata": {},
     "output_type": "execute_result"
    }
   ],
   "source": [
    "solution = h3d.post.get_solution_data([\"S({0},{1})\".format(port_name, port_name)])\n",
    "solution.plot()"
   ]
  },
  {
   "cell_type": "markdown",
   "id": "be1c8f82",
   "metadata": {},
   "source": [
    "## Close AEDT\n",
    "\n",
    "After the simulation completes, you can close AEDT or release it using the\n",
    ":func:`dotnet.Desktop.release_desktop` method.\n",
    "All methods provide for saving the project before closing AEDT."
   ]
  },
  {
   "cell_type": "code",
   "execution_count": 27,
   "id": "9b0869bb",
   "metadata": {
    "execution": {
     "iopub.execute_input": "2024-07-10T08:16:26.303084Z",
     "iopub.status.busy": "2024-07-10T08:16:26.303084Z",
     "iopub.status.idle": "2024-07-10T08:16:29.058861Z",
     "shell.execute_reply": "2024-07-10T08:16:29.058861Z"
    }
   },
   "outputs": [
    {
     "name": "stdout",
     "output_type": "stream",
     "text": [
      "PyAEDT INFO: Project pcb_0CENG3 Saved correctly\n"
     ]
    },
    {
     "name": "stdout",
     "output_type": "stream",
     "text": [
      "PyAEDT INFO: Desktop has been released and closed.\n"
     ]
    },
    {
     "data": {
      "text/plain": [
       "True"
      ]
     },
     "execution_count": 27,
     "metadata": {},
     "output_type": "execute_result"
    }
   ],
   "source": [
    "h3d.save_project()\n",
    "h3d.release_desktop()"
   ]
  }
 ],
 "metadata": {
  "jupytext": {
   "cell_metadata_filter": "-all",
   "main_language": "python",
   "notebook_metadata_filter": "-all",
   "text_representation": {
    "extension": ".py",
    "format_name": "light"
   }
  },
  "language_info": {
   "codemirror_mode": {
    "name": "ipython",
    "version": 3
   },
   "file_extension": ".py",
   "mimetype": "text/x-python",
   "name": "python",
   "nbconvert_exporter": "python",
   "pygments_lexer": "ipython3",
   "version": "3.10.11"
  }
 },
 "nbformat": 4,
 "nbformat_minor": 5
}
