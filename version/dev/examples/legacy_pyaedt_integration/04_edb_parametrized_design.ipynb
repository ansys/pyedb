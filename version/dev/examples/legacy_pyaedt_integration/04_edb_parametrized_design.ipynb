{
 "cells": [
  {
   "cell_type": "markdown",
   "id": "8c963e96",
   "metadata": {},
   "source": [
    "# EDB: fully parametrized design\n",
    "\n",
    "This example shows how to use the EDB interface along with HFSS 3D Layout to create and solve a\n",
    "parameterized layout. The layout shows a differential via transition on a printed circuit board\n",
    "with back-to-back microstrip to stripline transitions.\n",
    "The model is fully parameterized to enable investigation of the transition performance on the\n",
    "many degrees of freedom.\n",
    "\n",
    "The resulting model is shown below\n",
    "\n",
    "<img src=\"_static\\pcb_transition_parameterized.png\" width=\"500\">"
   ]
  },
  {
   "cell_type": "code",
   "execution_count": 1,
   "id": "3d28a47d",
   "metadata": {
    "execution": {
     "iopub.execute_input": "2024-07-10T08:19:46.666698Z",
     "iopub.status.busy": "2024-07-10T08:19:46.666698Z",
     "iopub.status.idle": "2024-07-10T08:19:47.229208Z",
     "shell.execute_reply": "2024-07-10T08:19:47.229208Z"
    }
   },
   "outputs": [],
   "source": [
    "import os\n",
    "import tempfile\n",
    "\n",
    "import pyaedt\n",
    "\n",
    "import pyedb\n"
   ]
  },
  {
   "cell_type": "markdown",
   "id": "6a144985",
   "metadata": {},
   "source": [
    "## Set non-graphical mode\n",
    "\n",
    "Set non-graphical mode. The default is ``False``, which opens\n",
    "the AEDT UI."
   ]
  },
  {
   "cell_type": "code",
   "execution_count": 2,
   "id": "d3e2b9a8",
   "metadata": {
    "execution": {
     "iopub.execute_input": "2024-07-10T08:19:47.229208Z",
     "iopub.status.busy": "2024-07-10T08:19:47.229208Z",
     "iopub.status.idle": "2024-07-10T08:19:47.244830Z",
     "shell.execute_reply": "2024-07-10T08:19:47.244830Z"
    }
   },
   "outputs": [],
   "source": [
    "non_graphical = False"
   ]
  },
  {
   "cell_type": "markdown",
   "id": "65d0838b",
   "metadata": {},
   "source": [
    "## Launch EDB."
   ]
  },
  {
   "cell_type": "code",
   "execution_count": 3,
   "id": "9e11135b",
   "metadata": {
    "execution": {
     "iopub.execute_input": "2024-07-10T08:19:47.244830Z",
     "iopub.status.busy": "2024-07-10T08:19:47.244830Z",
     "iopub.status.idle": "2024-07-10T08:19:58.384513Z",
     "shell.execute_reply": "2024-07-10T08:19:58.384513Z"
    }
   },
   "outputs": [
    {
     "name": "stdout",
     "output_type": "stream",
     "text": [
      "EDB version: 2024.1\n"
     ]
    },
    {
     "name": "stdout",
     "output_type": "stream",
     "text": [
      "PyAEDT INFO: Logger is initialized in EDB.\n"
     ]
    },
    {
     "name": "stdout",
     "output_type": "stream",
     "text": [
      "PyAEDT INFO: legacy v0.19.dev0\n"
     ]
    },
    {
     "name": "stdout",
     "output_type": "stream",
     "text": [
      "PyAEDT INFO: Python version 3.10.11 (tags/v3.10.11:7d4cc5a, Apr  5 2023, 00:38:17) [MSC v.1929 64 bit (AMD64)]\n"
     ]
    },
    {
     "name": "stdout",
     "output_type": "stream",
     "text": [
      "PyAEDT INFO: EDB C:\\Users\\ansys\\AppData\\Local\\Temp\\tmpn0aovtef.ansys\\pcb.aedb created correctly.\n"
     ]
    },
    {
     "name": "stdout",
     "output_type": "stream",
     "text": [
      "PyAEDT INFO: EDB initialized.\n"
     ]
    }
   ],
   "source": [
    "temp_dir = tempfile.TemporaryDirectory(suffix=\".ansys\")\n",
    "aedb_path = os.path.join(temp_dir.name, \"pcb.aedb\")\n",
    "\n",
    "# Select EDB version (change it manually if needed, e.g. \"2024.1\")\n",
    "edb_version = \"2024.1\"\n",
    "print(f\"EDB version: {edb_version}\")\n",
    "\n",
    "edb = pyedb.Edb(edbpath=aedb_path, edbversion=edb_version)"
   ]
  },
  {
   "cell_type": "markdown",
   "id": "bfa04b33",
   "metadata": {},
   "source": [
    "Define the parameters."
   ]
  },
  {
   "cell_type": "code",
   "execution_count": 4,
   "id": "e1a422d5",
   "metadata": {
    "execution": {
     "iopub.execute_input": "2024-07-10T08:19:58.384513Z",
     "iopub.status.busy": "2024-07-10T08:19:58.384513Z",
     "iopub.status.idle": "2024-07-10T08:19:58.415765Z",
     "shell.execute_reply": "2024-07-10T08:19:58.415765Z"
    }
   },
   "outputs": [],
   "source": [
    "params = {\n",
    "    \"$ms_width\": \"0.4mm\",\n",
    "    \"$sl_width\": \"0.2mm\",\n",
    "    \"$ms_spacing\": \"0.2mm\",\n",
    "    \"$sl_spacing\": \"0.1mm\",\n",
    "    \"$via_spacing\": \"0.5mm\",\n",
    "    \"$via_diam\": \"0.3mm\",\n",
    "    \"$pad_diam\": \"0.6mm\",\n",
    "    \"$anti_pad_diam\": \"0.7mm\",\n",
    "    \"$pcb_len\": \"15mm\",\n",
    "    \"$pcb_w\": \"5mm\",\n",
    "    \"$x_size\": \"1.2mm\",\n",
    "    \"$y_size\": \"1mm\",\n",
    "    \"$corner_rad\": \"0.5mm\",\n",
    "}\n",
    "\n",
    "for par_name in params:\n",
    "    edb.add_project_variable(par_name, params[par_name])"
   ]
  },
  {
   "cell_type": "markdown",
   "id": "0c18fe3b",
   "metadata": {},
   "source": [
    "Define the stackup layers from bottom to top."
   ]
  },
  {
   "cell_type": "code",
   "execution_count": 5,
   "id": "948feee8",
   "metadata": {
    "execution": {
     "iopub.execute_input": "2024-07-10T08:19:58.415765Z",
     "iopub.status.busy": "2024-07-10T08:19:58.415765Z",
     "iopub.status.idle": "2024-07-10T08:19:58.431453Z",
     "shell.execute_reply": "2024-07-10T08:19:58.431453Z"
    }
   },
   "outputs": [],
   "source": [
    "layers = [\n",
    "    {\"name\": \"bottom\", \"layer_type\": \"signal\", \"thickness\": \"35um\", \"material\": \"copper\"},\n",
    "    {\"name\": \"diel_3\", \"layer_type\": \"dielectric\", \"thickness\": \"275um\", \"material\": \"FR4_epoxy\"},\n",
    "    {\"name\": \"sig_2\", \"layer_type\": \"signal\", \"thickness\": \"35um\", \"material\": \"copper\"},\n",
    "    {\"name\": \"diel_2\", \"layer_type\": \"dielectric\", \"thickness\": \"275um\", \"material\": \"FR4_epoxy\"},\n",
    "    {\"name\": \"sig_1\", \"layer_type\": \"signal\", \"thickness\": \"35um\", \"material\": \"copper\"},\n",
    "    {\"name\": \"diel_1\", \"layer_type\": \"dielectric\", \"thickness\": \"275um\", \"material\": \"FR4_epoxy\"},\n",
    "    {\"name\": \"top\", \"layer_type\": \"signal\", \"thickness\": \"35um\", \"material\": \"copper\"},\n",
    "]"
   ]
  },
  {
   "cell_type": "markdown",
   "id": "420fb7ac",
   "metadata": {},
   "source": [
    "Create the EDB stackup.\n",
    "Define the bottom layer"
   ]
  },
  {
   "cell_type": "code",
   "execution_count": 6,
   "id": "8a4b2a28",
   "metadata": {
    "execution": {
     "iopub.execute_input": "2024-07-10T08:19:58.431453Z",
     "iopub.status.busy": "2024-07-10T08:19:58.431453Z",
     "iopub.status.idle": "2024-07-10T08:19:58.540770Z",
     "shell.execute_reply": "2024-07-10T08:19:58.540770Z"
    }
   },
   "outputs": [
    {
     "name": "stderr",
     "output_type": "stream",
     "text": [
      "Material 'copper' does not exist in material library. Intempt to create it from syslib.\n"
     ]
    },
    {
     "name": "stderr",
     "output_type": "stream",
     "text": [
      "Material 'FR4_epoxy' does not exist in material library. Intempt to create it from syslib.\n"
     ]
    }
   ],
   "source": [
    "prev = None\n",
    "for layer in layers:\n",
    "    edb.stackup.add_layer(\n",
    "        layer[\"name\"],\n",
    "        base_layer=prev,\n",
    "        layer_type=layer[\"layer_type\"],\n",
    "        thickness=layer[\"thickness\"],\n",
    "        material=layer[\"material\"],\n",
    "    )\n",
    "    prev = layer[\"name\"]"
   ]
  },
  {
   "cell_type": "markdown",
   "id": "61577a00",
   "metadata": {},
   "source": [
    "Create a parametrized padstack for the signal via."
   ]
  },
  {
   "cell_type": "code",
   "execution_count": 7,
   "id": "aad2a9b4",
   "metadata": {
    "execution": {
     "iopub.execute_input": "2024-07-10T08:19:58.540770Z",
     "iopub.status.busy": "2024-07-10T08:19:58.540770Z",
     "iopub.status.idle": "2024-07-10T08:19:58.587691Z",
     "shell.execute_reply": "2024-07-10T08:19:58.587691Z"
    }
   },
   "outputs": [
    {
     "name": "stdout",
     "output_type": "stream",
     "text": [
      "PyAEDT INFO: Padstack automated_via create correctly\n"
     ]
    },
    {
     "data": {
      "text/plain": [
       "'automated_via'"
      ]
     },
     "execution_count": 7,
     "metadata": {},
     "output_type": "execute_result"
    }
   ],
   "source": [
    "signal_via_padstack = \"automated_via\"\n",
    "edb.padstacks.create(\n",
    "    padstackname=signal_via_padstack,\n",
    "    holediam=\"$via_diam\",\n",
    "    paddiam=\"$pad_diam\",\n",
    "    antipaddiam=\"\",\n",
    "    antipad_shape=\"Bullet\",\n",
    "    x_size=\"$x_size\",\n",
    "    y_size=\"$y_size\",\n",
    "    corner_radius=\"$corner_rad\",\n",
    "    start_layer=layers[-1][\"name\"],\n",
    "    stop_layer=layers[-3][\"name\"],\n",
    ")"
   ]
  },
  {
   "cell_type": "markdown",
   "id": "afa9b076",
   "metadata": {},
   "source": [
    "Assign net names. There are only two signal nets."
   ]
  },
  {
   "cell_type": "code",
   "execution_count": 8,
   "id": "91c99a8d",
   "metadata": {
    "execution": {
     "iopub.execute_input": "2024-07-10T08:19:58.587691Z",
     "iopub.status.busy": "2024-07-10T08:19:58.587691Z",
     "iopub.status.idle": "2024-07-10T08:19:58.603319Z",
     "shell.execute_reply": "2024-07-10T08:19:58.603319Z"
    }
   },
   "outputs": [],
   "source": [
    "net_p = \"p\"\n",
    "net_n = \"n\""
   ]
  },
  {
   "cell_type": "markdown",
   "id": "51ee8c3e",
   "metadata": {},
   "source": [
    "Place the signal vias."
   ]
  },
  {
   "cell_type": "code",
   "execution_count": 9,
   "id": "81666b29",
   "metadata": {
    "execution": {
     "iopub.execute_input": "2024-07-10T08:19:58.603319Z",
     "iopub.status.busy": "2024-07-10T08:19:58.603319Z",
     "iopub.status.idle": "2024-07-10T08:19:58.634570Z",
     "shell.execute_reply": "2024-07-10T08:19:58.634570Z"
    }
   },
   "outputs": [
    {
     "data": {
      "text/plain": [
       "<pyedb.dotnet.edb_core.edb_data.padstacks_data.EDBPadstackInstance at 0x26071fa03d0>"
      ]
     },
     "execution_count": 9,
     "metadata": {},
     "output_type": "execute_result"
    }
   ],
   "source": [
    "edb.padstacks.place(\n",
    "    position=[\"$pcb_len/3\", \"($ms_width+$ms_spacing+$via_spacing)/2\"],\n",
    "    definition_name=signal_via_padstack,\n",
    "    net_name=net_p,\n",
    "    via_name=\"\",\n",
    "    rotation=90.0,\n",
    ")"
   ]
  },
  {
   "cell_type": "code",
   "execution_count": 10,
   "id": "2bcbeff0",
   "metadata": {
    "execution": {
     "iopub.execute_input": "2024-07-10T08:19:58.634570Z",
     "iopub.status.busy": "2024-07-10T08:19:58.634570Z",
     "iopub.status.idle": "2024-07-10T08:19:58.712699Z",
     "shell.execute_reply": "2024-07-10T08:19:58.712699Z"
    }
   },
   "outputs": [
    {
     "data": {
      "text/plain": [
       "<pyedb.dotnet.edb_core.edb_data.padstacks_data.EDBPadstackInstance at 0x26071fa62d0>"
      ]
     },
     "execution_count": 10,
     "metadata": {},
     "output_type": "execute_result"
    }
   ],
   "source": [
    "edb.padstacks.place(\n",
    "    position=[\"2*$pcb_len/3\", \"($ms_width+$ms_spacing+$via_spacing)/2\"],\n",
    "    definition_name=signal_via_padstack,\n",
    "    net_name=net_p,\n",
    "    via_name=\"\",\n",
    "    rotation=90.0,\n",
    ")"
   ]
  },
  {
   "cell_type": "code",
   "execution_count": 11,
   "id": "e5393783",
   "metadata": {
    "execution": {
     "iopub.execute_input": "2024-07-10T08:19:58.712699Z",
     "iopub.status.busy": "2024-07-10T08:19:58.712699Z",
     "iopub.status.idle": "2024-07-10T08:19:58.743951Z",
     "shell.execute_reply": "2024-07-10T08:19:58.743951Z"
    }
   },
   "outputs": [
    {
     "data": {
      "text/plain": [
       "<pyedb.dotnet.edb_core.edb_data.padstacks_data.EDBPadstackInstance at 0x26071fa86d0>"
      ]
     },
     "execution_count": 11,
     "metadata": {},
     "output_type": "execute_result"
    }
   ],
   "source": [
    "edb.padstacks.place(\n",
    "    position=[\"$pcb_len/3\", \"-($ms_width+$ms_spacing+$via_spacing)/2\"],\n",
    "    definition_name=signal_via_padstack,\n",
    "    net_name=net_n,\n",
    "    via_name=\"\",\n",
    "    rotation=-90.0,\n",
    ")"
   ]
  },
  {
   "cell_type": "code",
   "execution_count": 12,
   "id": "5755921e",
   "metadata": {
    "execution": {
     "iopub.execute_input": "2024-07-10T08:19:58.743951Z",
     "iopub.status.busy": "2024-07-10T08:19:58.743951Z",
     "iopub.status.idle": "2024-07-10T08:19:58.775204Z",
     "shell.execute_reply": "2024-07-10T08:19:58.775204Z"
    },
    "lines_to_next_cell": 2
   },
   "outputs": [
    {
     "data": {
      "text/plain": [
       "<pyedb.dotnet.edb_core.edb_data.padstacks_data.EDBPadstackInstance at 0x26071faa210>"
      ]
     },
     "execution_count": 12,
     "metadata": {},
     "output_type": "execute_result"
    }
   ],
   "source": [
    "edb.padstacks.place(\n",
    "    position=[\"2*$pcb_len/3\", \"-($ms_width+$ms_spacing+$via_spacing)/2\"],\n",
    "    definition_name=signal_via_padstack,\n",
    "    net_name=net_n,\n",
    "    via_name=\"\",\n",
    "    rotation=-90.0,\n",
    ")"
   ]
  },
  {
   "cell_type": "markdown",
   "id": "81fd1707",
   "metadata": {},
   "source": [
    "## Draw parametrized traces\n",
    "\n",
    "Trace width and the routing (Microstrip-Stripline-Microstrip).\n",
    "Applies to both p and n nets."
   ]
  },
  {
   "cell_type": "code",
   "execution_count": 13,
   "id": "0adcf705",
   "metadata": {
    "execution": {
     "iopub.execute_input": "2024-07-10T08:19:58.775204Z",
     "iopub.status.busy": "2024-07-10T08:19:58.775204Z",
     "iopub.status.idle": "2024-07-10T08:19:58.790819Z",
     "shell.execute_reply": "2024-07-10T08:19:58.790819Z"
    }
   },
   "outputs": [],
   "source": [
    "# Trace width, n and p\n",
    "width = [\"$ms_width\", \"$sl_width\", \"$ms_width\"]\n",
    "# Routing layer, n and p\n",
    "route_layer = [layers[-1][\"name\"], layers[4][\"name\"], layers[-1][\"name\"]]"
   ]
  },
  {
   "cell_type": "markdown",
   "id": "c4248b53",
   "metadata": {},
   "source": [
    "Define points for three traces in the \"p\" net"
   ]
  },
  {
   "cell_type": "code",
   "execution_count": 14,
   "id": "715044df",
   "metadata": {
    "execution": {
     "iopub.execute_input": "2024-07-10T08:19:58.790819Z",
     "iopub.status.busy": "2024-07-10T08:19:58.790819Z",
     "iopub.status.idle": "2024-07-10T08:19:58.806448Z",
     "shell.execute_reply": "2024-07-10T08:19:58.806448Z"
    }
   },
   "outputs": [],
   "source": [
    "points_p = [\n",
    "    [\n",
    "        [\"0.0\", \"($ms_width+$ms_spacing)/2\"],\n",
    "        [\"$pcb_len/3-2*$via_spacing\", \"($ms_width+$ms_spacing)/2\"],\n",
    "        [\"$pcb_len/3-$via_spacing\", \"($ms_width+$ms_spacing+$via_spacing)/2\"],\n",
    "        [\"$pcb_len/3\", \"($ms_width+$ms_spacing+$via_spacing)/2\"],\n",
    "    ],\n",
    "    [\n",
    "        [\"$pcb_len/3\", \"($ms_width+$sl_spacing+$via_spacing)/2\"],\n",
    "        [\"$pcb_len/3+$via_spacing\", \"($ms_width+$sl_spacing+$via_spacing)/2\"],\n",
    "        [\"$pcb_len/3+2*$via_spacing\", \"($sl_width+$sl_spacing)/2\"],\n",
    "        [\"2*$pcb_len/3-2*$via_spacing\", \"($sl_width+$sl_spacing)/2\"],\n",
    "        [\"2*$pcb_len/3-$via_spacing\", \"($ms_width+$sl_spacing+$via_spacing)/2\"],\n",
    "        [\"2*$pcb_len/3\", \"($ms_width+$sl_spacing+$via_spacing)/2\"],\n",
    "    ],\n",
    "    [\n",
    "        [\"2*$pcb_len/3\", \"($ms_width+$ms_spacing+$via_spacing)/2\"],\n",
    "        [\"2*$pcb_len/3+$via_spacing\", \"($ms_width+$ms_spacing+$via_spacing)/2\"],\n",
    "        [\"2*$pcb_len/3+2*$via_spacing\", \"($ms_width+$ms_spacing)/2\"],\n",
    "        [\"$pcb_len\", \"($ms_width+$ms_spacing)/2\"],\n",
    "    ],\n",
    "]"
   ]
  },
  {
   "cell_type": "markdown",
   "id": "0d99d447",
   "metadata": {},
   "source": [
    "Define points for three traces in the \"n\" net"
   ]
  },
  {
   "cell_type": "code",
   "execution_count": 15,
   "id": "513d82ff",
   "metadata": {
    "execution": {
     "iopub.execute_input": "2024-07-10T08:19:58.806448Z",
     "iopub.status.busy": "2024-07-10T08:19:58.806448Z",
     "iopub.status.idle": "2024-07-10T08:19:58.822071Z",
     "shell.execute_reply": "2024-07-10T08:19:58.822071Z"
    }
   },
   "outputs": [],
   "source": [
    "points_n = [\n",
    "    [\n",
    "        [\"0.0\", \"-($ms_width+$ms_spacing)/2\"],\n",
    "        [\"$pcb_len/3-2*$via_spacing\", \"-($ms_width+$ms_spacing)/2\"],\n",
    "        [\"$pcb_len/3-$via_spacing\", \"-($ms_width+$ms_spacing+$via_spacing)/2\"],\n",
    "        [\"$pcb_len/3\", \"-($ms_width+$ms_spacing+$via_spacing)/2\"],\n",
    "    ],\n",
    "    [\n",
    "        [\"$pcb_len/3\", \"-($ms_width+$sl_spacing+$via_spacing)/2\"],\n",
    "        [\"$pcb_len/3+$via_spacing\", \"-($ms_width+$sl_spacing+$via_spacing)/2\"],\n",
    "        [\"$pcb_len/3+2*$via_spacing\", \"-($ms_width+$sl_spacing)/2\"],\n",
    "        [\"2*$pcb_len/3-2*$via_spacing\", \"-($ms_width+$sl_spacing)/2\"],\n",
    "        [\"2*$pcb_len/3-$via_spacing\", \"-($ms_width+$sl_spacing+$via_spacing)/2\"],\n",
    "        [\"2*$pcb_len/3\", \"-($ms_width+$sl_spacing+$via_spacing)/2\"],\n",
    "    ],\n",
    "    [\n",
    "        [\"2*$pcb_len/3\", \"-($ms_width+$ms_spacing+$via_spacing)/2\"],\n",
    "        [\"2*$pcb_len/3 + $via_spacing\", \"-($ms_width+$ms_spacing+$via_spacing)/2\"],\n",
    "        [\"2*$pcb_len/3 + 2*$via_spacing\", \"-($ms_width+$ms_spacing)/2\"],\n",
    "        [\"$pcb_len\", \"-($ms_width + $ms_spacing)/2\"],\n",
    "    ],\n",
    "]"
   ]
  },
  {
   "cell_type": "markdown",
   "id": "c94fa4d3",
   "metadata": {},
   "source": [
    "Add traces to the EDB."
   ]
  },
  {
   "cell_type": "code",
   "execution_count": 16,
   "id": "9a948619",
   "metadata": {
    "execution": {
     "iopub.execute_input": "2024-07-10T08:19:58.822071Z",
     "iopub.status.busy": "2024-07-10T08:19:58.822071Z",
     "iopub.status.idle": "2024-07-10T08:19:58.884579Z",
     "shell.execute_reply": "2024-07-10T08:19:58.884579Z"
    }
   },
   "outputs": [],
   "source": [
    "trace_p = []\n",
    "trace_n = []\n",
    "for n in range(len(points_p)):\n",
    "    trace_p.append(edb.modeler.create_trace(points_p[n], route_layer[n], width[n], net_p, \"Flat\", \"Flat\"))\n",
    "    trace_n.append(edb.modeler.create_trace(points_n[n], route_layer[n], width[n], net_n, \"Flat\", \"Flat\"))"
   ]
  },
  {
   "cell_type": "markdown",
   "id": "49f424e5",
   "metadata": {},
   "source": [
    "Create the wave ports"
   ]
  },
  {
   "cell_type": "code",
   "execution_count": 17,
   "id": "f84fca11",
   "metadata": {
    "execution": {
     "iopub.execute_input": "2024-07-10T08:19:58.884579Z",
     "iopub.status.busy": "2024-07-10T08:19:58.884579Z",
     "iopub.status.idle": "2024-07-10T08:19:58.947078Z",
     "shell.execute_reply": "2024-07-10T08:19:58.947078Z"
    }
   },
   "outputs": [
    {
     "data": {
      "text/plain": [
       "('wave_port_2',\n",
       " <pyedb.dotnet.edb_core.edb_data.ports.BundleWavePort at 0x26072150730>)"
      ]
     },
     "execution_count": 17,
     "metadata": {},
     "output_type": "execute_result"
    }
   ],
   "source": [
    "edb.hfss.create_differential_wave_port(\n",
    "    trace_p[0].id,\n",
    "    [\"0.0\", \"($ms_width+$ms_spacing)/2\"],\n",
    "    trace_n[0].id,\n",
    "    [\"0.0\", \"-($ms_width+$ms_spacing)/2\"],\n",
    "    \"wave_port_1\",\n",
    ")\n",
    "edb.hfss.create_differential_wave_port(\n",
    "    trace_p[2].id,\n",
    "    [\"$pcb_len\", \"($ms_width+$ms_spacing)/2\"],\n",
    "    trace_n[2].id,\n",
    "    [\"$pcb_len\", \"-($ms_width + $ms_spacing)/2\"],\n",
    "    \"wave_port_2\",\n",
    ")"
   ]
  },
  {
   "cell_type": "markdown",
   "id": "2f56986d",
   "metadata": {},
   "source": [
    "Draw a conducting rectangle on the the ground layers."
   ]
  },
  {
   "cell_type": "code",
   "execution_count": 18,
   "id": "3e3a5122",
   "metadata": {
    "execution": {
     "iopub.execute_input": "2024-07-10T08:19:58.947078Z",
     "iopub.status.busy": "2024-07-10T08:19:58.947078Z",
     "iopub.status.idle": "2024-07-10T08:19:58.962710Z",
     "shell.execute_reply": "2024-07-10T08:19:58.962710Z"
    }
   },
   "outputs": [],
   "source": [
    "gnd_poly = [\n",
    "    [0.0, \"-$pcb_w/2\"],\n",
    "    [\"$pcb_len\", \"-$pcb_w/2\"],\n",
    "    [\"$pcb_len\", \"$pcb_w/2\"],\n",
    "    [0.0, \"$pcb_w/2\"],\n",
    "]\n",
    "gnd_shape = edb.modeler.Shape(\"polygon\", points=gnd_poly)"
   ]
  },
  {
   "cell_type": "markdown",
   "id": "ac1b5d45",
   "metadata": {},
   "source": [
    "Void in ground for traces on the signal routing layer"
   ]
  },
  {
   "cell_type": "code",
   "execution_count": 19,
   "id": "2b89169b",
   "metadata": {
    "execution": {
     "iopub.execute_input": "2024-07-10T08:19:58.962710Z",
     "iopub.status.busy": "2024-07-10T08:19:58.962710Z",
     "iopub.status.idle": "2024-07-10T08:19:58.978336Z",
     "shell.execute_reply": "2024-07-10T08:19:58.978336Z"
    }
   },
   "outputs": [],
   "source": [
    "void_poly = [\n",
    "    [\"$pcb_len/3\", \"-($ms_width+$ms_spacing+$via_spacing+$anti_pad_diam)/2-$via_spacing/2\"],\n",
    "    [\n",
    "        \"$pcb_len/3 + $via_spacing\",\n",
    "        \"-($ms_width+$ms_spacing+$via_spacing+$anti_pad_diam)/2-$via_spacing/2\",\n",
    "    ],\n",
    "    [\"$pcb_len/3 + 2*$via_spacing\", \"-($ms_width+$ms_spacing+$via_spacing+$anti_pad_diam)/2\"],\n",
    "    [\"2*$pcb_len/3 - 2*$via_spacing\", \"-($ms_width+$ms_spacing+$via_spacing+$anti_pad_diam)/2\"],\n",
    "    [\n",
    "        \"2*$pcb_len/3 - $via_spacing\",\n",
    "        \"-($ms_width+$ms_spacing+$via_spacing+$anti_pad_diam)/2-$via_spacing/2\",\n",
    "    ],\n",
    "    [\"2*$pcb_len/3\", \"-($ms_width+$ms_spacing+$via_spacing+$anti_pad_diam)/2-$via_spacing/2\"],\n",
    "    [\"2*$pcb_len/3\", \"($ms_width+$ms_spacing+$via_spacing+$anti_pad_diam)/2+$via_spacing/2\"],\n",
    "    [\n",
    "        \"2*$pcb_len/3 - $via_spacing\",\n",
    "        \"($ms_width+$ms_spacing+$via_spacing+$anti_pad_diam)/2+$via_spacing/2\",\n",
    "    ],\n",
    "    [\"2*$pcb_len/3 - 2*$via_spacing\", \"($ms_width+$ms_spacing+$via_spacing+$anti_pad_diam)/2\"],\n",
    "    [\"$pcb_len/3 + 2*$via_spacing\", \"($ms_width+$ms_spacing+$via_spacing+$anti_pad_diam)/2\"],\n",
    "    [\n",
    "        \"$pcb_len/3 + $via_spacing\",\n",
    "        \"($ms_width+$ms_spacing+$via_spacing+$anti_pad_diam)/2+$via_spacing/2\",\n",
    "    ],\n",
    "    [\"$pcb_len/3\", \"($ms_width+$ms_spacing+$via_spacing+$anti_pad_diam)/2+$via_spacing/2\"],\n",
    "    [\"$pcb_len/3\", \"($ms_width+$ms_spacing+$via_spacing+$anti_pad_diam)/2\"],\n",
    "]\n",
    "\n",
    "void_shape = edb.modeler.Shape(\"polygon\", points=void_poly)"
   ]
  },
  {
   "cell_type": "markdown",
   "id": "ec2d4d2a",
   "metadata": {},
   "source": [
    "Add ground conductors."
   ]
  },
  {
   "cell_type": "code",
   "execution_count": 20,
   "id": "b274407d",
   "metadata": {
    "execution": {
     "iopub.execute_input": "2024-07-10T08:19:58.978336Z",
     "iopub.status.busy": "2024-07-10T08:19:58.978336Z",
     "iopub.status.idle": "2024-07-10T08:19:59.072077Z",
     "shell.execute_reply": "2024-07-10T08:19:59.072077Z"
    }
   },
   "outputs": [],
   "source": [
    "for layer in layers[:-1:2]:\n",
    "    # add void if the layer is the signal routing layer.\n",
    "    void = [void_shape] if layer[\"name\"] == route_layer[1] else []\n",
    "\n",
    "    edb.modeler.create_polygon(main_shape=gnd_shape, layer_name=layer[\"name\"], voids=void, net_name=\"gnd\")"
   ]
  },
  {
   "cell_type": "markdown",
   "id": "f22cd327",
   "metadata": {},
   "source": [
    "Plot the layout."
   ]
  },
  {
   "cell_type": "code",
   "execution_count": 21,
   "id": "df2043df",
   "metadata": {
    "execution": {
     "iopub.execute_input": "2024-07-10T08:19:59.072077Z",
     "iopub.status.busy": "2024-07-10T08:19:59.072077Z",
     "iopub.status.idle": "2024-07-10T08:19:59.697099Z",
     "shell.execute_reply": "2024-07-10T08:19:59.697099Z"
    }
   },
   "outputs": [
    {
     "name": "stdout",
     "output_type": "stream",
     "text": [
      "PyAEDT INFO: Nets Point Generation time 0.047 seconds\n"
     ]
    },
    {
     "name": "stderr",
     "output_type": "stream",
     "text": [
      "C:\\actions-runner\\_work\\pyedb\\pyedb\\.venv\\lib\\site-packages\\pyedb\\generic\\plot.py:147: UserWarning: FigureCanvasAgg is non-interactive, and thus cannot be shown\n",
      "  plt.show()\n"
     ]
    }
   ],
   "source": [
    "edb.nets.plot(None)"
   ]
  },
  {
   "cell_type": "markdown",
   "id": "34fc3120",
   "metadata": {},
   "source": [
    "Save the EDB."
   ]
  },
  {
   "cell_type": "code",
   "execution_count": 22,
   "id": "0acd72a7",
   "metadata": {
    "execution": {
     "iopub.execute_input": "2024-07-10T08:19:59.697099Z",
     "iopub.status.busy": "2024-07-10T08:19:59.697099Z",
     "iopub.status.idle": "2024-07-10T08:19:59.728351Z",
     "shell.execute_reply": "2024-07-10T08:19:59.728351Z"
    }
   },
   "outputs": [
    {
     "name": "stdout",
     "output_type": "stream",
     "text": [
      "PyAEDT INFO: EDB file save time: 0.00ms\n"
     ]
    },
    {
     "name": "stdout",
     "output_type": "stream",
     "text": [
      "PyAEDT INFO: EDB file release time: 0.00ms\n"
     ]
    },
    {
     "data": {
      "text/plain": [
       "True"
      ]
     },
     "execution_count": 22,
     "metadata": {},
     "output_type": "execute_result"
    }
   ],
   "source": [
    "edb.save_edb()\n",
    "edb.close_edb()"
   ]
  },
  {
   "cell_type": "markdown",
   "id": "953a0415",
   "metadata": {},
   "source": [
    "Open the project in HFSS 3D Layout."
   ]
  },
  {
   "cell_type": "code",
   "execution_count": 23,
   "id": "da919eda",
   "metadata": {
    "execution": {
     "iopub.execute_input": "2024-07-10T08:19:59.728351Z",
     "iopub.status.busy": "2024-07-10T08:19:59.728351Z",
     "iopub.status.idle": "2024-07-10T08:20:32.623137Z",
     "shell.execute_reply": "2024-07-10T08:20:32.623137Z"
    }
   },
   "outputs": [
    {
     "name": "stdout",
     "output_type": "stream",
     "text": [
      "PyAEDT WARNING: Argument `projectname` is deprecated for method `__init__`; use `project` instead.\n"
     ]
    },
    {
     "name": "stdout",
     "output_type": "stream",
     "text": [
      "PyAEDT WARNING: Argument `specified_version` is deprecated for method `__init__`; use `version` instead.\n"
     ]
    },
    {
     "name": "stdout",
     "output_type": "stream",
     "text": [
      "PyAEDT WARNING: Argument `new_desktop_session` is deprecated for method `__init__`; use `new_desktop` instead.\n"
     ]
    },
    {
     "name": "stdout",
     "output_type": "stream",
     "text": [
      "PyAEDT INFO: Initializing new Desktop session.\n"
     ]
    },
    {
     "name": "stdout",
     "output_type": "stream",
     "text": [
      "PyAEDT INFO: StdOut is enabled\n"
     ]
    },
    {
     "name": "stdout",
     "output_type": "stream",
     "text": [
      "PyAEDT INFO: Log on file is enabled\n"
     ]
    },
    {
     "name": "stdout",
     "output_type": "stream",
     "text": [
      "PyAEDT INFO: Log on Desktop Message Manager is enabled\n"
     ]
    },
    {
     "name": "stdout",
     "output_type": "stream",
     "text": [
      "PyAEDT INFO: Debug logger is disabled. PyAEDT methods will not be logged.\n"
     ]
    },
    {
     "name": "stdout",
     "output_type": "stream",
     "text": [
      "PyAEDT INFO: Launching PyAEDT outside AEDT with gRPC plugin.\n"
     ]
    },
    {
     "name": "stdout",
     "output_type": "stream",
     "text": [
      "PyAEDT INFO: New AEDT session is starting on gRPC port 50206\n"
     ]
    },
    {
     "name": "stdout",
     "output_type": "stream",
     "text": [
      "PyAEDT INFO: AEDT installation Path C:\\Program Files\\AnsysEM\\v241\\Win64\n"
     ]
    },
    {
     "name": "stdout",
     "output_type": "stream",
     "text": [
      "PyAEDT INFO: Ansoft.ElectronicsDesktop.2024.1 version started with process ID 11636.\n"
     ]
    },
    {
     "name": "stdout",
     "output_type": "stream",
     "text": [
      "PyAEDT INFO: pyaedt v0.9.8\n"
     ]
    },
    {
     "name": "stdout",
     "output_type": "stream",
     "text": [
      "PyAEDT INFO: Python version 3.10.11 (tags/v3.10.11:7d4cc5a, Apr  5 2023, 00:38:17) [MSC v.1929 64 bit (AMD64)]\n"
     ]
    },
    {
     "name": "stdout",
     "output_type": "stream",
     "text": [
      "PyAEDT INFO: AEDT 2024.1.0 Build Date 2023-11-27 22:16:18\n"
     ]
    },
    {
     "name": "stdout",
     "output_type": "stream",
     "text": [
      "PyAEDT INFO: EDB folder C:\\Users\\ansys\\AppData\\Local\\Temp\\tmpn0aovtef.ansys\\pcb.aedb has been imported to project pcb\n"
     ]
    },
    {
     "name": "stdout",
     "output_type": "stream",
     "text": [
      "PyAEDT INFO: Active Design set to Cell_SGZWI1\n"
     ]
    },
    {
     "name": "stdout",
     "output_type": "stream",
     "text": [
      "PyAEDT INFO: Aedt Objects correctly read\n"
     ]
    }
   ],
   "source": [
    "h3d = pyaedt.Hfss3dLayout(\n",
    "    projectname=aedb_path,\n",
    "    specified_version=\"2024.1\",\n",
    "    non_graphical=non_graphical,\n",
    "    new_desktop_session=True,\n",
    ")"
   ]
  },
  {
   "cell_type": "markdown",
   "id": "eb6adefc",
   "metadata": {},
   "source": [
    "## Add HFSS simulation setup\n",
    "\n",
    "Add HFSS simulation setup."
   ]
  },
  {
   "cell_type": "code",
   "execution_count": 24,
   "id": "7c0f5087",
   "metadata": {
    "execution": {
     "iopub.execute_input": "2024-07-10T08:20:32.623137Z",
     "iopub.status.busy": "2024-07-10T08:20:32.623137Z",
     "iopub.status.idle": "2024-07-10T08:20:32.763756Z",
     "shell.execute_reply": "2024-07-10T08:20:32.763756Z"
    }
   },
   "outputs": [
    {
     "name": "stdout",
     "output_type": "stream",
     "text": [
      "PyAEDT WARNING: Argument `setupname` is deprecated for method `create_linear_count_sweep`; use `setup` instead.\n"
     ]
    },
    {
     "name": "stdout",
     "output_type": "stream",
     "text": [
      "PyAEDT WARNING: Argument `freqstart` is deprecated for method `create_linear_count_sweep`; use `start_frequency` instead.\n"
     ]
    },
    {
     "name": "stdout",
     "output_type": "stream",
     "text": [
      "PyAEDT WARNING: Argument `freqstop` is deprecated for method `create_linear_count_sweep`; use `stop_frequency` instead.\n"
     ]
    },
    {
     "name": "stdout",
     "output_type": "stream",
     "text": [
      "PyAEDT WARNING: Argument `sweepname` is deprecated for method `create_linear_count_sweep`; use `name` instead.\n"
     ]
    },
    {
     "name": "stdout",
     "output_type": "stream",
     "text": [
      "PyAEDT INFO: Linear count sweep sweep1 has been correctly created.\n"
     ]
    },
    {
     "data": {
      "text/plain": [
       "<pyaedt.modules.SolveSweeps.SweepHFSS3DLayout at 0x2607670f7e0>"
      ]
     },
     "execution_count": 24,
     "metadata": {},
     "output_type": "execute_result"
    }
   ],
   "source": [
    "setup = h3d.create_setup()\n",
    "setup.props[\"AdaptiveSettings\"][\"SingleFrequencyDataList\"][\"AdaptiveFrequencyData\"][\"MaxPasses\"] = 3\n",
    "\n",
    "h3d.create_linear_count_sweep(\n",
    "    setupname=setup.name,\n",
    "    unit=\"GHz\",\n",
    "    freqstart=0,\n",
    "    freqstop=10,\n",
    "    num_of_freq_points=1001,\n",
    "    sweepname=\"sweep1\",\n",
    "    sweep_type=\"Interpolating\",\n",
    "    interpolation_tol_percent=1,\n",
    "    interpolation_max_solutions=255,\n",
    "    save_fields=False,\n",
    "    use_q3d_for_dc=False,\n",
    ")"
   ]
  },
  {
   "cell_type": "markdown",
   "id": "e1a3d547",
   "metadata": {},
   "source": [
    "Define the differential pairs to used to calculate differential and common mode\n",
    "s-parameters."
   ]
  },
  {
   "cell_type": "code",
   "execution_count": 25,
   "id": "3b65b691",
   "metadata": {
    "execution": {
     "iopub.execute_input": "2024-07-10T08:20:32.763756Z",
     "iopub.status.busy": "2024-07-10T08:20:32.763756Z",
     "iopub.status.idle": "2024-07-10T08:20:32.810579Z",
     "shell.execute_reply": "2024-07-10T08:20:32.810579Z"
    }
   },
   "outputs": [
    {
     "name": "stdout",
     "output_type": "stream",
     "text": [
      "PyAEDT WARNING: Argument `positive_terminal` is deprecated for method `set_differential_pair`; use `assignment` instead.\n"
     ]
    },
    {
     "name": "stdout",
     "output_type": "stream",
     "text": [
      "PyAEDT WARNING: Argument `negative_terminal` is deprecated for method `set_differential_pair`; use `reference` instead.\n"
     ]
    },
    {
     "name": "stdout",
     "output_type": "stream",
     "text": [
      "PyAEDT WARNING: Argument `diff_name` is deprecated for method `set_differential_pair`; use `differential_mode` instead.\n"
     ]
    },
    {
     "name": "stdout",
     "output_type": "stream",
     "text": [
      "PyAEDT WARNING: Argument `positive_terminal` is deprecated for method `set_differential_pair`; use `assignment` instead.\n"
     ]
    },
    {
     "name": "stdout",
     "output_type": "stream",
     "text": [
      "PyAEDT WARNING: Argument `negative_terminal` is deprecated for method `set_differential_pair`; use `reference` instead.\n"
     ]
    },
    {
     "name": "stdout",
     "output_type": "stream",
     "text": [
      "PyAEDT WARNING: Argument `diff_name` is deprecated for method `set_differential_pair`; use `differential_mode` instead.\n"
     ]
    },
    {
     "data": {
      "text/plain": [
       "True"
      ]
     },
     "execution_count": 25,
     "metadata": {},
     "output_type": "execute_result"
    }
   ],
   "source": [
    "h3d.set_differential_pair(diff_name=\"In\", positive_terminal=\"wave_port_1:T1\", negative_terminal=\"wave_port_1:T2\")\n",
    "h3d.set_differential_pair(diff_name=\"Out\", positive_terminal=\"wave_port_2:T1\", negative_terminal=\"wave_port_2:T2\")"
   ]
  },
  {
   "cell_type": "markdown",
   "id": "2a04e28e",
   "metadata": {},
   "source": [
    "Solve the project."
   ]
  },
  {
   "cell_type": "code",
   "execution_count": 26,
   "id": "95bb73fa",
   "metadata": {
    "execution": {
     "iopub.execute_input": "2024-07-10T08:20:32.810579Z",
     "iopub.status.busy": "2024-07-10T08:20:32.810579Z",
     "iopub.status.idle": "2024-07-10T08:21:59.863173Z",
     "shell.execute_reply": "2024-07-10T08:21:59.863173Z"
    }
   },
   "outputs": [
    {
     "name": "stdout",
     "output_type": "stream",
     "text": [
      "PyAEDT INFO: Key Desktop/ActiveDSOConfigurations/HFSS 3D Layout Design correctly changed.\n"
     ]
    },
    {
     "name": "stdout",
     "output_type": "stream",
     "text": [
      "PyAEDT INFO: Solving all design setups.\n"
     ]
    },
    {
     "name": "stdout",
     "output_type": "stream",
     "text": [
      "PyAEDT INFO: Key Desktop/ActiveDSOConfigurations/HFSS 3D Layout Design correctly changed.\n"
     ]
    },
    {
     "name": "stdout",
     "output_type": "stream",
     "text": [
      "PyAEDT INFO: Design setup None solved correctly in 0.0h 1.0m 27.0s\n"
     ]
    },
    {
     "data": {
      "text/plain": [
       "True"
      ]
     },
     "execution_count": 26,
     "metadata": {},
     "output_type": "execute_result"
    }
   ],
   "source": [
    "h3d.analyze()"
   ]
  },
  {
   "cell_type": "markdown",
   "id": "e08baaba",
   "metadata": {},
   "source": [
    "Plot the results and shut down AEDT."
   ]
  },
  {
   "cell_type": "code",
   "execution_count": 27,
   "id": "f5431480",
   "metadata": {
    "execution": {
     "iopub.execute_input": "2024-07-10T08:21:59.863173Z",
     "iopub.status.busy": "2024-07-10T08:21:59.863173Z",
     "iopub.status.idle": "2024-07-10T08:22:03.254930Z",
     "shell.execute_reply": "2024-07-10T08:22:03.254930Z"
    }
   },
   "outputs": [
    {
     "name": "stdout",
     "output_type": "stream",
     "text": [
      "PyAEDT INFO: Parsing C:/Users/ansys/AppData/Local/Temp/tmpn0aovtef.ansys/pcb.aedt.\n"
     ]
    },
    {
     "name": "stdout",
     "output_type": "stream",
     "text": [
      "PyAEDT INFO: File C:/Users/ansys/AppData/Local/Temp/tmpn0aovtef.ansys/pcb.aedt correctly loaded. Elapsed time: 0m 0sec\n"
     ]
    },
    {
     "name": "stdout",
     "output_type": "stream",
     "text": [
      "PyAEDT INFO: aedt file load time 0.03125166893005371\n"
     ]
    },
    {
     "name": "stdout",
     "output_type": "stream",
     "text": [
      "PyAEDT INFO: Loading Modeler.\n"
     ]
    },
    {
     "name": "stdout",
     "output_type": "stream",
     "text": [
      "PyAEDT INFO: Modeler loaded.\n"
     ]
    },
    {
     "name": "stdout",
     "output_type": "stream",
     "text": [
      "PyAEDT INFO: EDB loaded.\n"
     ]
    },
    {
     "name": "stdout",
     "output_type": "stream",
     "text": [
      "PyAEDT INFO: Layers loaded.\n"
     ]
    },
    {
     "name": "stdout",
     "output_type": "stream",
     "text": [
      "PyAEDT INFO: Primitives loaded.\n"
     ]
    },
    {
     "name": "stdout",
     "output_type": "stream",
     "text": [
      "PyAEDT INFO: Modeler class has been initialized! Elapsed time: 0m 0sec\n"
     ]
    },
    {
     "name": "stdout",
     "output_type": "stream",
     "text": [
      "PyAEDT INFO: PostProcessor class has been initialized! Elapsed time: 0m 0sec\n"
     ]
    },
    {
     "name": "stdout",
     "output_type": "stream",
     "text": [
      "PyAEDT INFO: Post class has been initialized! Elapsed time: 0m 0sec\n"
     ]
    },
    {
     "name": "stderr",
     "output_type": "stream",
     "text": [
      "C:\\actions-runner\\_work\\pyedb\\pyedb\\.venv\\lib\\site-packages\\pyaedt\\generic\\plot.py:55: UserWarning: The PyVista module is required to run some functionalities of PostProcess.\n",
      "Install with \n",
      "\n",
      "pip install pyvista\n",
      "\n",
      "Requires CPython.\n",
      "  warnings.warn(\n"
     ]
    },
    {
     "name": "stdout",
     "output_type": "stream",
     "text": [
      "PyAEDT INFO: Solution Data Correctly Loaded.\n"
     ]
    },
    {
     "name": "stdout",
     "output_type": "stream",
     "text": [
      "PyAEDT INFO: Desktop has been released and closed.\n"
     ]
    },
    {
     "data": {
      "text/plain": [
       "True"
      ]
     },
     "execution_count": 27,
     "metadata": {},
     "output_type": "execute_result"
    }
   ],
   "source": [
    "solutions = h3d.post.get_solution_data([\"dB(S(In,In))\", \"dB(S(In,Out))\"], context=\"Differential Pairs\")\n",
    "solutions.plot()\n",
    "h3d.release_desktop()"
   ]
  },
  {
   "cell_type": "markdown",
   "id": "fca315e5",
   "metadata": {},
   "source": [
    "Note that the ground nets are only connected to each other due\n",
    "to the wave ports. The problem with poor grounding can be seen in the\n",
    "S-parameters. This example can be downloaded as a Jupyter Notebook, so\n",
    "you can modify it. Try changing parameters or adding ground vias to improve performance.\n",
    "\n",
    "The final cell cleans up the temporary directory, removing all files."
   ]
  },
  {
   "cell_type": "code",
   "execution_count": 28,
   "id": "2934b3c7",
   "metadata": {
    "execution": {
     "iopub.execute_input": "2024-07-10T08:22:03.254930Z",
     "iopub.status.busy": "2024-07-10T08:22:03.254930Z",
     "iopub.status.idle": "2024-07-10T08:22:03.270571Z",
     "shell.execute_reply": "2024-07-10T08:22:03.270571Z"
    }
   },
   "outputs": [],
   "source": [
    "temp_dir.cleanup()"
   ]
  }
 ],
 "metadata": {
  "jupytext": {
   "cell_metadata_filter": "-all",
   "main_language": "python",
   "notebook_metadata_filter": "-all",
   "text_representation": {
    "extension": ".py",
    "format_name": "light"
   }
  },
  "language_info": {
   "codemirror_mode": {
    "name": "ipython",
    "version": 3
   },
   "file_extension": ".py",
   "mimetype": "text/x-python",
   "name": "python",
   "nbconvert_exporter": "python",
   "pygments_lexer": "ipython3",
   "version": "3.10.11"
  }
 },
 "nbformat": 4,
 "nbformat_minor": 5
}
