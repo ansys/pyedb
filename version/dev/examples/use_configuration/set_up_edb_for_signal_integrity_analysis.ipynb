{
 "cells": [
  {
   "cell_type": "markdown",
   "id": "e8c73735",
   "metadata": {},
   "source": [
    "# Set up EDB for Power Integrity Analysis\n",
    "This example shows how to set up the electronics database (EDB) for power integrity analysis from a single\n",
    "configuration file."
   ]
  },
  {
   "cell_type": "markdown",
   "id": "7fd2b876",
   "metadata": {},
   "source": [
    "## Preparation\n",
    "Import the required packages"
   ]
  },
  {
   "cell_type": "code",
   "execution_count": 1,
   "id": "a9261d0c",
   "metadata": {
    "execution": {
     "iopub.execute_input": "2024-07-10T08:37:26.773114Z",
     "iopub.status.busy": "2024-07-10T08:37:26.773114Z",
     "iopub.status.idle": "2024-07-10T08:37:26.788662Z",
     "shell.execute_reply": "2024-07-10T08:37:26.788662Z"
    }
   },
   "outputs": [],
   "source": [
    "import json"
   ]
  },
  {
   "cell_type": "code",
   "execution_count": 2,
   "id": "6dd39af1",
   "metadata": {
    "execution": {
     "iopub.execute_input": "2024-07-10T08:37:26.788662Z",
     "iopub.status.busy": "2024-07-10T08:37:26.788662Z",
     "iopub.status.idle": "2024-07-10T08:37:27.304295Z",
     "shell.execute_reply": "2024-07-10T08:37:27.304295Z"
    }
   },
   "outputs": [],
   "source": [
    "import os\n",
    "import tempfile\n",
    "\n",
    "from pyaedt import Hfss3dLayout\n",
    "from pyaedt.downloads import download_file\n",
    "\n",
    "from pyedb import Edb\n",
    "\n",
    "AEDT_VERSION = \"2024.1\"\n",
    "NG_MODE = False\n"
   ]
  },
  {
   "cell_type": "markdown",
   "id": "80b774a6",
   "metadata": {},
   "source": [
    "Download the example PCB data."
   ]
  },
  {
   "cell_type": "code",
   "execution_count": 3,
   "id": "12cd24ce",
   "metadata": {
    "execution": {
     "iopub.execute_input": "2024-07-10T08:37:27.304295Z",
     "iopub.status.busy": "2024-07-10T08:37:27.304295Z",
     "iopub.status.idle": "2024-07-10T08:37:28.414623Z",
     "shell.execute_reply": "2024-07-10T08:37:28.414623Z"
    }
   },
   "outputs": [],
   "source": [
    "temp_folder = tempfile.TemporaryDirectory(suffix=\".ansys\")\n",
    "download_file(source=\"touchstone\", name=\"GRM32_DC0V_25degC_series.s2p\", destination=temp_folder.name)\n",
    "file_edb = download_file(source=\"edb/ANSYS-HSD_V1.aedb\", destination=temp_folder.name)"
   ]
  },
  {
   "cell_type": "markdown",
   "id": "f404cabf",
   "metadata": {},
   "source": [
    "Load example layout."
   ]
  },
  {
   "cell_type": "code",
   "execution_count": 4,
   "id": "7b315630",
   "metadata": {
    "execution": {
     "iopub.execute_input": "2024-07-10T08:37:28.414623Z",
     "iopub.status.busy": "2024-07-10T08:37:28.414623Z",
     "iopub.status.idle": "2024-07-10T08:37:39.843741Z",
     "shell.execute_reply": "2024-07-10T08:37:39.843741Z"
    }
   },
   "outputs": [
    {
     "name": "stdout",
     "output_type": "stream",
     "text": [
      "PyAEDT INFO: Logger is initialized in EDB.\n"
     ]
    },
    {
     "name": "stdout",
     "output_type": "stream",
     "text": [
      "PyAEDT INFO: legacy v0.19.dev0\n"
     ]
    },
    {
     "name": "stdout",
     "output_type": "stream",
     "text": [
      "PyAEDT INFO: Python version 3.10.11 (tags/v3.10.11:7d4cc5a, Apr  5 2023, 00:38:17) [MSC v.1929 64 bit (AMD64)]\n"
     ]
    },
    {
     "name": "stdout",
     "output_type": "stream",
     "text": [
      "PyAEDT INFO: Database ANSYS-HSD_V1.aedb Opened in 2024.1\n"
     ]
    },
    {
     "name": "stdout",
     "output_type": "stream",
     "text": [
      "PyAEDT INFO: Cell main Opened\n"
     ]
    },
    {
     "name": "stdout",
     "output_type": "stream",
     "text": [
      "PyAEDT INFO: Builder was initialized.\n"
     ]
    },
    {
     "name": "stdout",
     "output_type": "stream",
     "text": [
      "PyAEDT INFO: EDB initialized.\n"
     ]
    }
   ],
   "source": [
    "edbapp = Edb(file_edb, edbversion=AEDT_VERSION)"
   ]
  },
  {
   "cell_type": "markdown",
   "id": "5f087757",
   "metadata": {},
   "source": [
    "## Create a configuration file\n",
    "In this example, we are going to use a configuration file to set up the layout for analysis.\n",
    "### Initialize a dictionary\n",
    "Create an empty dictionary to host all configurations."
   ]
  },
  {
   "cell_type": "code",
   "execution_count": 5,
   "id": "b2a516b2",
   "metadata": {
    "execution": {
     "iopub.execute_input": "2024-07-10T08:37:39.843741Z",
     "iopub.status.busy": "2024-07-10T08:37:39.843741Z",
     "iopub.status.idle": "2024-07-10T08:37:39.859349Z",
     "shell.execute_reply": "2024-07-10T08:37:39.859349Z"
    }
   },
   "outputs": [],
   "source": [
    "cfg = dict()"
   ]
  },
  {
   "cell_type": "markdown",
   "id": "9f4830a3",
   "metadata": {},
   "source": [
    "### Assign S-parameter model to capactitors."
   ]
  },
  {
   "cell_type": "markdown",
   "id": "31ce8864",
   "metadata": {},
   "source": [
    "Set S-parameter library path."
   ]
  },
  {
   "cell_type": "code",
   "execution_count": 6,
   "id": "0bd4435b",
   "metadata": {
    "execution": {
     "iopub.execute_input": "2024-07-10T08:37:39.859349Z",
     "iopub.status.busy": "2024-07-10T08:37:39.859349Z",
     "iopub.status.idle": "2024-07-10T08:37:39.874966Z",
     "shell.execute_reply": "2024-07-10T08:37:39.874966Z"
    }
   },
   "outputs": [],
   "source": [
    "cfg[\"general\"] = {\"s_parameter_library\": os.path.join(temp_folder.name, \"touchstone\")}"
   ]
  },
  {
   "cell_type": "markdown",
   "id": "ffde2911",
   "metadata": {},
   "source": [
    "Assign the S-parameter model. Keywords\n",
    "- **name**. Name of the S-parameter model in AEDT.\n",
    "- **component**_definition. Known as component part number of part name.\n",
    "- **file_path**. Touchstone file or full path to the touchstone file.\n",
    "- **apply_to_all**. When set to True, assign the S-parameter model to all components share the same\n",
    "component_definition. When set to False, Only components in \"components\" are assigned.\n",
    "- **components**. when apply_to_all=False, components in the list are assigned an S-parameter model.\n",
    "When apply_to_all=False, components in the list are NOT assigned.\n",
    "- **reference_net**. Reference net of the S-parameter model."
   ]
  },
  {
   "cell_type": "code",
   "execution_count": 7,
   "id": "77732fb1",
   "metadata": {
    "execution": {
     "iopub.execute_input": "2024-07-10T08:37:39.874966Z",
     "iopub.status.busy": "2024-07-10T08:37:39.874966Z",
     "iopub.status.idle": "2024-07-10T08:37:39.890589Z",
     "shell.execute_reply": "2024-07-10T08:37:39.890589Z"
    }
   },
   "outputs": [],
   "source": [
    "cfg[\"s_parameters\"] = [\n",
    "    {\n",
    "        \"name\": \"GRM32_DC0V_25degC_series\",\n",
    "        \"component_definition\": \"CAPC0603X33X15LL03T05\",\n",
    "        \"file_path\": \"GRM32_DC0V_25degC_series.s2p\",\n",
    "        \"apply_to_all\": False,\n",
    "        \"components\": [\"C110\", \"C206\"],\n",
    "        \"reference_net\": \"GND\",\n",
    "    }\n",
    "]"
   ]
  },
  {
   "cell_type": "markdown",
   "id": "4a99b9c1",
   "metadata": {},
   "source": [
    "### Define ports\n",
    "Create a circuit port between power and ground nets. Keywords\n",
    "- **name**. Name of the port.\n",
    "- **reference_desinator**.\n",
    "- **type**. Type of the port. Supported types are 'ciruict', 'coax'.\n",
    "- **positive_terminal**. Positive terminal of the port. Supported types are 'net', 'pin', 'pin_group', 'coordinates'.\n",
    "- **negative_terminal**. Positive terminal of the port. Supported types are 'net', 'pin', 'pin_group', 'coordinates'."
   ]
  },
  {
   "cell_type": "code",
   "execution_count": 8,
   "id": "de7ab91b",
   "metadata": {
    "execution": {
     "iopub.execute_input": "2024-07-10T08:37:39.890589Z",
     "iopub.status.busy": "2024-07-10T08:37:39.890589Z",
     "iopub.status.idle": "2024-07-10T08:37:39.906215Z",
     "shell.execute_reply": "2024-07-10T08:37:39.906215Z"
    }
   },
   "outputs": [],
   "source": [
    "cfg[\"ports\"] = [\n",
    "    {\n",
    "        \"name\": \"port1\",\n",
    "        \"reference_designator\": \"U1\",\n",
    "        \"type\": \"circuit\",\n",
    "        \"positive_terminal\": {\"net\": \"1V0\"},\n",
    "        \"negative_terminal\": {\"net\": \"GND\"},\n",
    "    }\n",
    "]"
   ]
  },
  {
   "cell_type": "markdown",
   "id": "64b0a9eb",
   "metadata": {},
   "source": [
    "### Define SIwave SYZ analysis setup\n",
    "Keywords\n",
    "- **name**. Name of the setup.\n",
    "- **type**. Type of the analysis setup. Supported types are 'siwave_ac', 'siwave_dc', 'hfss'.\n",
    "- **pi_slider_position**. PI slider position. Supported values are from '0', '1', '2'. 0:speed, 1:balanced,\n",
    "2:accuracy.\n",
    "- **freq_sweep**. List of frequency sweeps.\n",
    "  - **name**. Name of the sweep.\n",
    "  - **type**. Type of the sweep. Supported types are 'interpolation', 'discrete', 'broadband'.\n",
    "  - **frequencies**. Frequency distribution.\n",
    "    - **distribution**. Supported distributions are 'linear_count', 'linear_scale', 'log_scale'.\n",
    "    - **start**. Start frequency. Example, 1e6, \"1MHz\".\n",
    "    - **stop**. Stop frequency. Example, 1e9, \"1GHz\".\n",
    "    - **increment**."
   ]
  },
  {
   "cell_type": "code",
   "execution_count": 9,
   "id": "51f0a199",
   "metadata": {
    "execution": {
     "iopub.execute_input": "2024-07-10T08:37:39.906215Z",
     "iopub.status.busy": "2024-07-10T08:37:39.906215Z",
     "iopub.status.idle": "2024-07-10T08:37:39.921839Z",
     "shell.execute_reply": "2024-07-10T08:37:39.921839Z"
    }
   },
   "outputs": [],
   "source": [
    "cfg[\"setups\"] = [\n",
    "    {\n",
    "        \"name\": \"siwave_syz\",\n",
    "        \"type\": \"siwave_ac\",\n",
    "        \"pi_slider_position\": 1,\n",
    "        \"freq_sweep\": [\n",
    "            {\n",
    "                \"name\": \"Sweep1\",\n",
    "                \"type\": \"interpolation\",\n",
    "                \"frequencies\": [{\"distribution\": \"log_scale\", \"start\": 1e6, \"stop\": 1e9, \"increment\": 20}],\n",
    "            }\n",
    "        ],\n",
    "    }\n",
    "]"
   ]
  },
  {
   "cell_type": "markdown",
   "id": "e33b3115",
   "metadata": {},
   "source": [
    "### Define Cutout\n",
    "Keywords\n",
    "- **signal_list**. List of nets to be kept after cutout.\n",
    "- **reference_list**. List of nets as reference planes.\n",
    "- **extent_type**. Supported extend types are 'Conforming', 'ConvexHull', 'Bounding'.\n",
    "For optional input arguments, refer to method pyedb.Edb.cutout()"
   ]
  },
  {
   "cell_type": "code",
   "execution_count": 10,
   "id": "7db918a2",
   "metadata": {
    "execution": {
     "iopub.execute_input": "2024-07-10T08:37:39.921839Z",
     "iopub.status.busy": "2024-07-10T08:37:39.921839Z",
     "iopub.status.idle": "2024-07-10T08:37:39.937461Z",
     "shell.execute_reply": "2024-07-10T08:37:39.937461Z"
    }
   },
   "outputs": [],
   "source": [
    "cfg[\"operations\"] = {\n",
    "    \"cutout\": {\n",
    "        \"signal_list\": [\"1V0\"],\n",
    "        \"reference_list\": [\"GND\"],\n",
    "        \"extent_type\": \"ConvexHull\",\n",
    "    }\n",
    "}"
   ]
  },
  {
   "cell_type": "markdown",
   "id": "a19a9c4c",
   "metadata": {},
   "source": [
    "## Save the configuration as a JSON file\n",
    "The configuration file can be saved in JSON format and applied to layout data using the EDB."
   ]
  },
  {
   "cell_type": "code",
   "execution_count": 11,
   "id": "b92b45ad",
   "metadata": {
    "execution": {
     "iopub.execute_input": "2024-07-10T08:37:39.937461Z",
     "iopub.status.busy": "2024-07-10T08:37:39.937461Z",
     "iopub.status.idle": "2024-07-10T08:37:39.953086Z",
     "shell.execute_reply": "2024-07-10T08:37:39.953086Z"
    }
   },
   "outputs": [],
   "source": [
    "file_json = os.path.join(temp_folder.name, \"edb_configuration.json\")\n",
    "with open(file_json, \"w\") as f:\n",
    "    json.dump(cfg, f, indent=4, ensure_ascii=False)"
   ]
  },
  {
   "cell_type": "markdown",
   "id": "ca00d674",
   "metadata": {},
   "source": [
    "## Load configuration into EDB"
   ]
  },
  {
   "cell_type": "markdown",
   "id": "7ceff0b5",
   "metadata": {},
   "source": [
    "Load configuration file"
   ]
  },
  {
   "cell_type": "code",
   "execution_count": 12,
   "id": "9ce6f92e",
   "metadata": {
    "execution": {
     "iopub.execute_input": "2024-07-10T08:37:39.953086Z",
     "iopub.status.busy": "2024-07-10T08:37:39.953086Z",
     "iopub.status.idle": "2024-07-10T08:37:39.984353Z",
     "shell.execute_reply": "2024-07-10T08:37:39.984353Z"
    }
   },
   "outputs": [
    {
     "data": {
      "text/plain": [
       "<pyedb.configuration.cfg_data.CfgData at 0x1b8e23b1c70>"
      ]
     },
     "execution_count": 12,
     "metadata": {},
     "output_type": "execute_result"
    }
   ],
   "source": [
    "edbapp.configuration.load(config_file=file_json)"
   ]
  },
  {
   "cell_type": "markdown",
   "id": "d6d5bcd0",
   "metadata": {},
   "source": [
    "Apply configuration to EDB."
   ]
  },
  {
   "cell_type": "code",
   "execution_count": 13,
   "id": "a65a2ce4",
   "metadata": {
    "execution": {
     "iopub.execute_input": "2024-07-10T08:37:39.984353Z",
     "iopub.status.busy": "2024-07-10T08:37:39.984353Z",
     "iopub.status.idle": "2024-07-10T08:37:51.843886Z",
     "shell.execute_reply": "2024-07-10T08:37:51.843886Z"
    }
   },
   "outputs": [
    {
     "name": "stdout",
     "output_type": "stream",
     "text": [
      "PyAEDT INFO: Cutout Multithread started.\n"
     ]
    },
    {
     "name": "stdout",
     "output_type": "stream",
     "text": [
      "PyAEDT INFO: Net clean up Elapsed time: 0m 4sec\n"
     ]
    },
    {
     "name": "stdout",
     "output_type": "stream",
     "text": [
      "PyAEDT INFO: Expanded Net Polygon Creation Elapsed time: 0m 0sec\n"
     ]
    },
    {
     "name": "stdout",
     "output_type": "stream",
     "text": [
      "PyAEDT INFO: Padstack Instances removal completed. 1310 instances removed. Elapsed time: 0m 1sec\n"
     ]
    },
    {
     "name": "stdout",
     "output_type": "stream",
     "text": [
      "PyAEDT INFO: Primitives cleanup completed. 265 primitives deleted. Elapsed time: 0m 4sec\n"
     ]
    },
    {
     "name": "stdout",
     "output_type": "stream",
     "text": [
      "PyAEDT INFO: Deleted 702 additional components\n"
     ]
    },
    {
     "name": "stdout",
     "output_type": "stream",
     "text": [
      "PyAEDT INFO: Cutout completed. Elapsed time: 0m 9sec\n"
     ]
    },
    {
     "data": {
      "text/plain": [
       "True"
      ]
     },
     "execution_count": 13,
     "metadata": {},
     "output_type": "execute_result"
    }
   ],
   "source": [
    "edbapp.configuration.run()"
   ]
  },
  {
   "cell_type": "markdown",
   "id": "f5cbe30f",
   "metadata": {},
   "source": [
    "Save and close EDB."
   ]
  },
  {
   "cell_type": "code",
   "execution_count": 14,
   "id": "3f59999a",
   "metadata": {
    "execution": {
     "iopub.execute_input": "2024-07-10T08:37:51.843886Z",
     "iopub.status.busy": "2024-07-10T08:37:51.843886Z",
     "iopub.status.idle": "2024-07-10T08:37:52.015754Z",
     "shell.execute_reply": "2024-07-10T08:37:52.015754Z"
    }
   },
   "outputs": [
    {
     "data": {
      "text/plain": [
       "True"
      ]
     },
     "execution_count": 14,
     "metadata": {},
     "output_type": "execute_result"
    }
   ],
   "source": [
    "edbapp.save()\n",
    "edbapp.close()"
   ]
  },
  {
   "cell_type": "markdown",
   "id": "3a6efc99",
   "metadata": {},
   "source": [
    "The configured EDB file is saved in a temp folder."
   ]
  },
  {
   "cell_type": "code",
   "execution_count": 15,
   "id": "d1caa820",
   "metadata": {
    "execution": {
     "iopub.execute_input": "2024-07-10T08:37:52.015754Z",
     "iopub.status.busy": "2024-07-10T08:37:52.015754Z",
     "iopub.status.idle": "2024-07-10T08:37:52.031381Z",
     "shell.execute_reply": "2024-07-10T08:37:52.031381Z"
    }
   },
   "outputs": [
    {
     "name": "stdout",
     "output_type": "stream",
     "text": [
      "C:\\Users\\ansys\\AppData\\Local\\Temp\\tmpszjv6gdp.ansys\n"
     ]
    }
   ],
   "source": [
    "print(temp_folder.name)"
   ]
  },
  {
   "cell_type": "markdown",
   "id": "ece7c9da",
   "metadata": {},
   "source": [
    "## Analyze in HFSS 3D Layout"
   ]
  },
  {
   "cell_type": "markdown",
   "id": "558627bb",
   "metadata": {},
   "source": [
    "### Load edb into HFSS 3D Layout."
   ]
  },
  {
   "cell_type": "code",
   "execution_count": 16,
   "id": "720e9b74",
   "metadata": {
    "execution": {
     "iopub.execute_input": "2024-07-10T08:37:52.031381Z",
     "iopub.status.busy": "2024-07-10T08:37:52.031381Z",
     "iopub.status.idle": "2024-07-10T08:38:13.560204Z",
     "shell.execute_reply": "2024-07-10T08:38:13.560204Z"
    }
   },
   "outputs": [
    {
     "name": "stdout",
     "output_type": "stream",
     "text": [
      "PyAEDT INFO: Initializing new Desktop session.\n"
     ]
    },
    {
     "name": "stdout",
     "output_type": "stream",
     "text": [
      "PyAEDT INFO: StdOut is enabled\n"
     ]
    },
    {
     "name": "stdout",
     "output_type": "stream",
     "text": [
      "PyAEDT INFO: Log on file is enabled\n"
     ]
    },
    {
     "name": "stdout",
     "output_type": "stream",
     "text": [
      "PyAEDT INFO: Log on Desktop Message Manager is enabled\n"
     ]
    },
    {
     "name": "stdout",
     "output_type": "stream",
     "text": [
      "PyAEDT INFO: Debug logger is disabled. PyAEDT methods will not be logged.\n"
     ]
    },
    {
     "name": "stdout",
     "output_type": "stream",
     "text": [
      "PyAEDT INFO: Launching PyAEDT outside AEDT with gRPC plugin.\n"
     ]
    },
    {
     "name": "stdout",
     "output_type": "stream",
     "text": [
      "PyAEDT INFO: New AEDT session is starting on gRPC port 52413\n"
     ]
    },
    {
     "name": "stdout",
     "output_type": "stream",
     "text": [
      "PyAEDT INFO: AEDT installation Path C:\\Program Files\\AnsysEM\\v241\\Win64\n"
     ]
    },
    {
     "name": "stdout",
     "output_type": "stream",
     "text": [
      "PyAEDT INFO: Ansoft.ElectronicsDesktop.2024.1 version started with process ID 5260.\n"
     ]
    },
    {
     "name": "stdout",
     "output_type": "stream",
     "text": [
      "PyAEDT INFO: pyaedt v0.9.8\n"
     ]
    },
    {
     "name": "stdout",
     "output_type": "stream",
     "text": [
      "PyAEDT INFO: Python version 3.10.11 (tags/v3.10.11:7d4cc5a, Apr  5 2023, 00:38:17) [MSC v.1929 64 bit (AMD64)]\n"
     ]
    },
    {
     "name": "stdout",
     "output_type": "stream",
     "text": [
      "PyAEDT INFO: AEDT 2024.1.0 Build Date 2023-11-27 22:16:18\n"
     ]
    },
    {
     "name": "stdout",
     "output_type": "stream",
     "text": [
      "PyAEDT INFO: EDB folder C:\\Users\\ansys\\AppData\\Local\\Temp\\tmpszjv6gdp.ansys\\edb/ANSYS-HSD_V1.aedb has been imported to project ANSYS-HSD_V1\n"
     ]
    },
    {
     "name": "stdout",
     "output_type": "stream",
     "text": [
      "PyAEDT INFO: Active Design set to main\n"
     ]
    },
    {
     "name": "stdout",
     "output_type": "stream",
     "text": [
      "PyAEDT INFO: Aedt Objects correctly read\n"
     ]
    }
   ],
   "source": [
    "h3d = Hfss3dLayout(edbapp.edbpath, version=AEDT_VERSION, non_graphical=NG_MODE, new_desktop=True)"
   ]
  },
  {
   "cell_type": "markdown",
   "id": "9a8621ef",
   "metadata": {},
   "source": [
    "### Analyze"
   ]
  },
  {
   "cell_type": "code",
   "execution_count": 17,
   "id": "a472f05f",
   "metadata": {
    "execution": {
     "iopub.execute_input": "2024-07-10T08:38:13.560204Z",
     "iopub.status.busy": "2024-07-10T08:38:13.560204Z",
     "iopub.status.idle": "2024-07-10T08:38:42.479287Z",
     "shell.execute_reply": "2024-07-10T08:38:42.479287Z"
    }
   },
   "outputs": [
    {
     "name": "stdout",
     "output_type": "stream",
     "text": [
      "PyAEDT INFO: Key Desktop/ActiveDSOConfigurations/HFSS 3D Layout Design correctly changed.\n"
     ]
    },
    {
     "name": "stdout",
     "output_type": "stream",
     "text": [
      "PyAEDT INFO: Solving all design setups.\n"
     ]
    },
    {
     "name": "stdout",
     "output_type": "stream",
     "text": [
      "PyAEDT INFO: Key Desktop/ActiveDSOConfigurations/HFSS 3D Layout Design correctly changed.\n"
     ]
    },
    {
     "name": "stdout",
     "output_type": "stream",
     "text": [
      "PyAEDT INFO: Design setup None solved correctly in 0.0h 0.0m 29.0s\n"
     ]
    },
    {
     "data": {
      "text/plain": [
       "True"
      ]
     },
     "execution_count": 17,
     "metadata": {},
     "output_type": "execute_result"
    }
   ],
   "source": [
    "h3d.analyze()"
   ]
  },
  {
   "cell_type": "markdown",
   "id": "7528e57b",
   "metadata": {},
   "source": [
    "### Plot impedance"
   ]
  },
  {
   "cell_type": "code",
   "execution_count": 18,
   "id": "039ba3fb",
   "metadata": {
    "execution": {
     "iopub.execute_input": "2024-07-10T08:38:42.479287Z",
     "iopub.status.busy": "2024-07-10T08:38:42.479287Z",
     "iopub.status.idle": "2024-07-10T08:38:43.714862Z",
     "shell.execute_reply": "2024-07-10T08:38:43.714862Z"
    }
   },
   "outputs": [
    {
     "name": "stderr",
     "output_type": "stream",
     "text": [
      "C:\\actions-runner\\_work\\pyedb\\pyedb\\.venv\\lib\\site-packages\\pyaedt\\generic\\plot.py:55: UserWarning: The PyVista module is required to run some functionalities of PostProcess.\n",
      "Install with \n",
      "\n",
      "pip install pyvista\n",
      "\n",
      "Requires CPython.\n",
      "  warnings.warn(\n"
     ]
    },
    {
     "name": "stdout",
     "output_type": "stream",
     "text": [
      "PyAEDT INFO: Parsing C:/Users/ansys/AppData/Local/Temp/tmpszjv6gdp.ansys/edb/ANSYS-HSD_V1.aedt.\n"
     ]
    },
    {
     "name": "stdout",
     "output_type": "stream",
     "text": [
      "PyAEDT INFO: File C:/Users/ansys/AppData/Local/Temp/tmpszjv6gdp.ansys/edb/ANSYS-HSD_V1.aedt correctly loaded. Elapsed time: 0m 0sec\n"
     ]
    },
    {
     "name": "stdout",
     "output_type": "stream",
     "text": [
      "PyAEDT INFO: aedt file load time 0.04692554473876953\n"
     ]
    },
    {
     "name": "stdout",
     "output_type": "stream",
     "text": [
      "PyAEDT INFO: Loading Modeler.\n"
     ]
    },
    {
     "name": "stdout",
     "output_type": "stream",
     "text": [
      "PyAEDT INFO: Modeler loaded.\n"
     ]
    },
    {
     "name": "stdout",
     "output_type": "stream",
     "text": [
      "PyAEDT INFO: EDB loaded.\n"
     ]
    },
    {
     "name": "stdout",
     "output_type": "stream",
     "text": [
      "PyAEDT INFO: Layers loaded.\n"
     ]
    },
    {
     "name": "stdout",
     "output_type": "stream",
     "text": [
      "PyAEDT INFO: Primitives loaded.\n"
     ]
    },
    {
     "name": "stdout",
     "output_type": "stream",
     "text": [
      "PyAEDT INFO: Modeler class has been initialized! Elapsed time: 0m 0sec\n"
     ]
    },
    {
     "name": "stdout",
     "output_type": "stream",
     "text": [
      "PyAEDT INFO: PostProcessor class has been initialized! Elapsed time: 0m 0sec\n"
     ]
    },
    {
     "name": "stdout",
     "output_type": "stream",
     "text": [
      "PyAEDT INFO: Post class has been initialized! Elapsed time: 0m 0sec\n"
     ]
    },
    {
     "name": "stdout",
     "output_type": "stream",
     "text": [
      "PyAEDT INFO: Solution Data Correctly Loaded.\n"
     ]
    },
    {
     "data": {
      "image/png": "[encoded data removed]",
      "text/plain": [
       "<Figure size 2000x1000 with 1 Axes>"
      ]
     },
     "execution_count": 18,
     "metadata": {},
     "output_type": "execute_result"
    },
    {
     "data": {
      "image/png": "[encoded data removed]",
      "text/plain": [
       "<Figure size 2000x1000 with 1 Axes>"
      ]
     },
     "metadata": {},
     "output_type": "display_data"
    }
   ],
   "source": [
    "solutions = h3d.post.get_solution_data(expressions=\"Z(port1,port1)\")\n",
    "solutions.plot()"
   ]
  },
  {
   "cell_type": "markdown",
   "id": "72b0fcc0",
   "metadata": {},
   "source": [
    "## Shut Down Electronics Desktop"
   ]
  },
  {
   "cell_type": "code",
   "execution_count": 19,
   "id": "2e0d9494",
   "metadata": {
    "execution": {
     "iopub.execute_input": "2024-07-10T08:38:43.714862Z",
     "iopub.status.busy": "2024-07-10T08:38:43.714862Z",
     "iopub.status.idle": "2024-07-10T08:38:46.838181Z",
     "shell.execute_reply": "2024-07-10T08:38:46.838181Z"
    }
   },
   "outputs": [
    {
     "name": "stdout",
     "output_type": "stream",
     "text": [
      "PyAEDT INFO: Desktop has been released and closed.\n"
     ]
    },
    {
     "data": {
      "text/plain": [
       "True"
      ]
     },
     "execution_count": 19,
     "metadata": {},
     "output_type": "execute_result"
    }
   ],
   "source": [
    "h3d.close_desktop()"
   ]
  },
  {
   "cell_type": "markdown",
   "id": "6c113e0e",
   "metadata": {},
   "source": [
    "All project files are saved in the folder ``temp_file.dir``. If you've run this example as a Jupyter notbook you\n",
    "can retrieve those project files. The following cell removes all temporary files, including the project folder."
   ]
  },
  {
   "cell_type": "markdown",
   "id": "a4b35fcd",
   "metadata": {},
   "source": [
    "## Cleanup\n",
    "\n",
    "All project files are saved in the folder ``temp_file.dir``. If you've run this example as a Jupyter notbook you\n",
    "can retrieve those project files. The following cell removes all temporary files, including the project folder."
   ]
  },
  {
   "cell_type": "code",
   "execution_count": 20,
   "id": "2beeb932",
   "metadata": {
    "execution": {
     "iopub.execute_input": "2024-07-10T08:38:46.838181Z",
     "iopub.status.busy": "2024-07-10T08:38:46.838181Z",
     "iopub.status.idle": "2024-07-10T08:38:46.853816Z",
     "shell.execute_reply": "2024-07-10T08:38:46.853816Z"
    }
   },
   "outputs": [],
   "source": [
    "temp_folder.cleanup()"
   ]
  }
 ],
 "metadata": {
  "jupytext": {
   "cell_metadata_filter": "-all",
   "main_language": "python",
   "notebook_metadata_filter": "-all",
   "text_representation": {
    "extension": ".py",
    "format_name": "light"
   }
  },
  "language_info": {
   "codemirror_mode": {
    "name": "ipython",
    "version": 3
   },
   "file_extension": ".py",
   "mimetype": "text/x-python",
   "name": "python",
   "nbconvert_exporter": "python",
   "pygments_lexer": "ipython3",
   "version": "3.10.11"
  }
 },
 "nbformat": 4,
 "nbformat_minor": 5
}
