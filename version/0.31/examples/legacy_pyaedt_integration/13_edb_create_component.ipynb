{
 "cells": [
  {
   "cell_type": "markdown",
   "id": "b533e8b6",
   "metadata": {},
   "source": [
    "# EDB: Layout Creation and Setup\n",
    "\n",
    "This example demonstrates how to to\n",
    "\n",
    "1. Create a layout layer stackup.\n",
    "2. Define padstacks.\n",
    "3. Place padstack instances in the layout where the connectors are located.\n",
    "4. Create primitives such as polygons and traces.\n",
    "5. Create \"components\" from the padstack definitions using \"pins\".\n",
    " >The \"component\" in EDB acts as a placeholder to enable automatic\n",
    "  >placement of electrical models, or\n",
    "  >as in this example to assign ports.  In many\n",
    "  >cases the EDB is imported from a 3rd party layout, in which case the\n",
    "  >concept of a \"component\" as a placeholder is needed to map\n",
    "  >models to the components on the PCB for later use in the\n",
    "  >simulation.\n",
    "7. Create the HFSS simulation setup and assign ports where the connectors are located."
   ]
  },
  {
   "cell_type": "markdown",
   "id": "293368de",
   "metadata": {},
   "source": [
    "## View PCB trace model\n",
    "\n",
    "Here is an image of the model that is created in this example.\n",
    "\n",
    "<img src=\"_static/connector_example.png\" width=\"600\">\n",
    "\n",
    "The rectangular sheets at each end of the PCB enable placement of ports where the connectors\n",
    "are located."
   ]
  },
  {
   "cell_type": "markdown",
   "id": "ec730469",
   "metadata": {},
   "source": [
    "Initialize the EDB layout object."
   ]
  },
  {
   "cell_type": "code",
   "execution_count": 1,
   "id": "075f98a3",
   "metadata": {
    "execution": {
     "iopub.execute_input": "2024-10-18T15:05:45.095415Z",
     "iopub.status.busy": "2024-10-18T15:05:45.095415Z",
     "iopub.status.idle": "2024-10-18T15:05:57.449491Z",
     "shell.execute_reply": "2024-10-18T15:05:57.449491Z"
    }
   },
   "outputs": [
    {
     "name": "stdout",
     "output_type": "stream",
     "text": [
      "EDB version: 2024.2\n"
     ]
    },
    {
     "name": "stdout",
     "output_type": "stream",
     "text": [
      "PyAEDT INFO: Logger is initialized in EDB.\n"
     ]
    },
    {
     "name": "stdout",
     "output_type": "stream",
     "text": [
      "PyAEDT INFO: legacy v0.31.0\n"
     ]
    },
    {
     "name": "stdout",
     "output_type": "stream",
     "text": [
      "PyAEDT INFO: Python version 3.10.11 (tags/v3.10.11:7d4cc5a, Apr  5 2023, 00:38:17) [MSC v.1929 64 bit (AMD64)]\n"
     ]
    },
    {
     "name": "stdout",
     "output_type": "stream",
     "text": [
      "PyAEDT INFO: EDB C:\\Users\\ansys\\AppData\\Local\\Temp\\tmpp39_tk9f.ansys\\component_example.aedb created correctly.\n"
     ]
    },
    {
     "name": "stdout",
     "output_type": "stream",
     "text": [
      "PyAEDT INFO: EDB initialized.\n"
     ]
    },
    {
     "name": "stdout",
     "output_type": "stream",
     "text": [
      "EDB is located at C:\\Users\\ansys\\AppData\\Local\\Temp\\tmpp39_tk9f.ansys\\component_example.aedb\n"
     ]
    }
   ],
   "source": [
    "import os\n",
    "import tempfile\n",
    "\n",
    "import ansys.aedt.core\n",
    "\n",
    "from pyedb import Edb\n",
    "\n",
    "temp_dir = tempfile.TemporaryDirectory(suffix=\".ansys\")\n",
    "aedb_path = os.path.join(temp_dir.name, \"component_example.aedb\")\n",
    "\n",
    "# Select EDB version (change it manually if needed, e.g. \"2024.2\")\n",
    "edb_version = \"2024.2\"\n",
    "print(f\"EDB version: {edb_version}\")\n",
    "\n",
    "edb = Edb(edbpath=aedb_path, edbversion=edb_version)\n",
    "print(\"EDB is located at {}\".format(aedb_path))"
   ]
  },
  {
   "cell_type": "markdown",
   "id": "40c5bca9",
   "metadata": {},
   "source": [
    "Initialize variables"
   ]
  },
  {
   "cell_type": "code",
   "execution_count": 2,
   "id": "7a7ba7c9",
   "metadata": {
    "execution": {
     "iopub.execute_input": "2024-10-18T15:05:57.449491Z",
     "iopub.status.busy": "2024-10-18T15:05:57.449491Z",
     "iopub.status.idle": "2024-10-18T15:05:57.465062Z",
     "shell.execute_reply": "2024-10-18T15:05:57.465062Z"
    }
   },
   "outputs": [],
   "source": [
    "layout_count = 12\n",
    "diel_material_name = \"FR4_epoxy\"\n",
    "diel_thickness = \"0.15mm\"\n",
    "cond_thickness_outer = \"0.05mm\"\n",
    "cond_thickness_inner = \"0.017mm\"\n",
    "soldermask_thickness = \"0.05mm\"\n",
    "trace_in_layer = \"TOP\"\n",
    "trace_out_layer = \"L10\"\n",
    "trace_width = \"200um\"\n",
    "connector_size = 2e-3\n",
    "conectors_position = [[0, 0], [10e-3, 0]]"
   ]
  },
  {
   "cell_type": "markdown",
   "id": "529a5d4b",
   "metadata": {},
   "source": [
    "Create the stackup"
   ]
  },
  {
   "cell_type": "code",
   "execution_count": 3,
   "id": "f4cc8fa0",
   "metadata": {
    "execution": {
     "iopub.execute_input": "2024-10-18T15:05:57.465062Z",
     "iopub.status.busy": "2024-10-18T15:05:57.465062Z",
     "iopub.status.idle": "2024-10-18T15:05:57.949447Z",
     "shell.execute_reply": "2024-10-18T15:05:57.949447Z"
    }
   },
   "outputs": [
    {
     "data": {
      "text/plain": [
       "True"
      ]
     },
     "execution_count": 3,
     "metadata": {},
     "output_type": "execute_result"
    }
   ],
   "source": [
    "edb.stackup.create_symmetric_stackup(\n",
    "    layer_count=layout_count,\n",
    "    inner_layer_thickness=cond_thickness_inner,\n",
    "    outer_layer_thickness=cond_thickness_outer,\n",
    "    soldermask_thickness=soldermask_thickness,\n",
    "    dielectric_thickness=diel_thickness,\n",
    "    dielectric_material=diel_material_name,\n",
    ")"
   ]
  },
  {
   "cell_type": "markdown",
   "id": "b1c2a8cf",
   "metadata": {},
   "source": [
    "Create ground planes"
   ]
  },
  {
   "cell_type": "code",
   "execution_count": 4,
   "id": "6d786cbf",
   "metadata": {
    "execution": {
     "iopub.execute_input": "2024-10-18T15:05:57.949447Z",
     "iopub.status.busy": "2024-10-18T15:05:57.949447Z",
     "iopub.status.idle": "2024-10-18T15:05:57.996320Z",
     "shell.execute_reply": "2024-10-18T15:05:57.996320Z"
    }
   },
   "outputs": [],
   "source": [
    "ground_layers = [\n",
    "    layer_name for layer_name in edb.stackup.signal_layers.keys() if layer_name not in [trace_in_layer, trace_out_layer]\n",
    "]\n",
    "plane_shape = edb.modeler.Shape(\"rectangle\", pointA=[\"-3mm\", \"-3mm\"], pointB=[\"13mm\", \"3mm\"])\n",
    "for i in ground_layers:\n",
    "    edb.modeler.create_polygon(plane_shape, i, net_name=\"VSS\")"
   ]
  },
  {
   "cell_type": "markdown",
   "id": "23f7bbe1",
   "metadata": {},
   "source": [
    "### Add design parameters\n",
    "\n",
    "Parameters that are preceded by a _\"$\"_ character have project-wide scope.\n",
    "Therefore, the padstack **definition** and hence all instances of that padstack\n",
    "rely on the parameters.\n",
    "\n",
    "Parameters such as _\"trace_in_width\"_ and _\"trace_out_width\"_ have local scope and\n",
    "are only used in in the design."
   ]
  },
  {
   "cell_type": "code",
   "execution_count": 5,
   "id": "4958ef74",
   "metadata": {
    "execution": {
     "iopub.execute_input": "2024-10-18T15:05:57.996320Z",
     "iopub.status.busy": "2024-10-18T15:05:57.996320Z",
     "iopub.status.idle": "2024-10-18T15:05:58.027570Z",
     "shell.execute_reply": "2024-10-18T15:05:58.027570Z"
    }
   },
   "outputs": [
    {
     "data": {
      "text/plain": [
       "(True, <Ansys.Ansoft.Edb.Utility.VariableServer object at 0x000001E217264340>)"
      ]
     },
     "execution_count": 5,
     "metadata": {},
     "output_type": "execute_result"
    }
   ],
   "source": [
    "edb.add_design_variable(\"$via_hole_size\", \"0.3mm\")\n",
    "edb.add_design_variable(\"$antipaddiam\", \"0.7mm\")\n",
    "edb.add_design_variable(\"$paddiam\", \"0.5mm\")\n",
    "edb.add_design_variable(\"trace_in_width\", \"0.2mm\", is_parameter=True)\n",
    "edb.add_design_variable(\"trace_out_width\", \"0.1mm\", is_parameter=True)"
   ]
  },
  {
   "cell_type": "markdown",
   "id": "f5fe2c3d",
   "metadata": {},
   "source": [
    "### Create the connector component\n",
    "\n",
    "The component definition is used to place the connector on the PCB. First define the padstacks."
   ]
  },
  {
   "cell_type": "code",
   "execution_count": 6,
   "id": "732e2e69",
   "metadata": {
    "execution": {
     "iopub.execute_input": "2024-10-18T15:05:58.027570Z",
     "iopub.status.busy": "2024-10-18T15:05:58.027570Z",
     "iopub.status.idle": "2024-10-18T15:05:58.058881Z",
     "shell.execute_reply": "2024-10-18T15:05:58.058881Z"
    }
   },
   "outputs": [
    {
     "name": "stdout",
     "output_type": "stream",
     "text": [
      "PyAEDT INFO: Padstack Via create correctly\n"
     ]
    },
    {
     "data": {
      "text/plain": [
       "'Via'"
      ]
     },
     "execution_count": 6,
     "metadata": {},
     "output_type": "execute_result"
    }
   ],
   "source": [
    "edb.padstacks.create_padstack(\n",
    "    padstackname=\"Via\", holediam=\"$via_hole_size\", antipaddiam=\"$antipaddiam\", paddiam=\"$paddiam\"\n",
    ")"
   ]
  },
  {
   "cell_type": "markdown",
   "id": "703ac312",
   "metadata": {},
   "source": [
    "Create the first connector"
   ]
  },
  {
   "cell_type": "code",
   "execution_count": 7,
   "id": "471953f3",
   "metadata": {
    "execution": {
     "iopub.execute_input": "2024-10-18T15:05:58.058881Z",
     "iopub.status.busy": "2024-10-18T15:05:58.058881Z",
     "iopub.status.idle": "2024-10-18T15:05:58.121321Z",
     "shell.execute_reply": "2024-10-18T15:05:58.121321Z"
    }
   },
   "outputs": [],
   "source": [
    "component1_pins = [\n",
    "    edb.padstacks.place_padstack(\n",
    "        conectors_position[0],\n",
    "        \"Via\",\n",
    "        net_name=\"VDD\",\n",
    "        fromlayer=trace_in_layer,\n",
    "        tolayer=trace_out_layer,\n",
    "    ),\n",
    "    edb.padstacks.place_padstack(\n",
    "        [\n",
    "            conectors_position[0][0] - connector_size / 2,\n",
    "            conectors_position[0][1] - connector_size / 2,\n",
    "        ],\n",
    "        \"Via\",\n",
    "        net_name=\"VSS\",\n",
    "    ),\n",
    "    edb.padstacks.place_padstack(\n",
    "        [\n",
    "            conectors_position[0][0] + connector_size / 2,\n",
    "            conectors_position[0][1] - connector_size / 2,\n",
    "        ],\n",
    "        \"Via\",\n",
    "        net_name=\"VSS\",\n",
    "    ),\n",
    "    edb.padstacks.place_padstack(\n",
    "        [\n",
    "            conectors_position[0][0] + connector_size / 2,\n",
    "            conectors_position[0][1] + connector_size / 2,\n",
    "        ],\n",
    "        \"Via\",\n",
    "        net_name=\"VSS\",\n",
    "    ),\n",
    "    edb.padstacks.place_padstack(\n",
    "        [\n",
    "            conectors_position[0][0] - connector_size / 2,\n",
    "            conectors_position[0][1] + connector_size / 2,\n",
    "        ],\n",
    "        \"Via\",\n",
    "        net_name=\"VSS\",\n",
    "    ),\n",
    "]"
   ]
  },
  {
   "cell_type": "markdown",
   "id": "7edf887e",
   "metadata": {},
   "source": [
    "Create the second connector"
   ]
  },
  {
   "cell_type": "code",
   "execution_count": 8,
   "id": "b590ccd8",
   "metadata": {
    "execution": {
     "iopub.execute_input": "2024-10-18T15:05:58.121321Z",
     "iopub.status.busy": "2024-10-18T15:05:58.121321Z",
     "iopub.status.idle": "2024-10-18T15:05:58.199447Z",
     "shell.execute_reply": "2024-10-18T15:05:58.199447Z"
    }
   },
   "outputs": [],
   "source": [
    "component2_pins = [\n",
    "    edb.padstacks.place_padstack(\n",
    "        conectors_position[-1],\n",
    "        \"Via\",\n",
    "        net_name=\"VDD\",\n",
    "        fromlayer=trace_in_layer,\n",
    "        tolayer=trace_out_layer,\n",
    "    ),\n",
    "    edb.padstacks.place_padstack(\n",
    "        [\n",
    "            conectors_position[1][0] - connector_size / 2,\n",
    "            conectors_position[1][1] - connector_size / 2,\n",
    "        ],\n",
    "        \"Via\",\n",
    "        net_name=\"VSS\",\n",
    "    ),\n",
    "    edb.padstacks.place_padstack(\n",
    "        [\n",
    "            conectors_position[1][0] + connector_size / 2,\n",
    "            conectors_position[1][1] - connector_size / 2,\n",
    "        ],\n",
    "        \"Via\",\n",
    "        net_name=\"VSS\",\n",
    "    ),\n",
    "    edb.padstacks.place_padstack(\n",
    "        [\n",
    "            conectors_position[1][0] + connector_size / 2,\n",
    "            conectors_position[1][1] + connector_size / 2,\n",
    "        ],\n",
    "        \"Via\",\n",
    "        net_name=\"VSS\",\n",
    "    ),\n",
    "    edb.padstacks.place_padstack(\n",
    "        [\n",
    "            conectors_position[1][0] - connector_size / 2,\n",
    "            conectors_position[1][1] + connector_size / 2,\n",
    "        ],\n",
    "        \"Via\",\n",
    "        net_name=\"VSS\",\n",
    "    ),\n",
    "]"
   ]
  },
  {
   "cell_type": "markdown",
   "id": "3a187414",
   "metadata": {},
   "source": [
    "### Define pins\n",
    "\n",
    "Pins are fist defined to allow a component to subsequently connect to the remainder\n",
    "of the model. In this case, ports are assigned at the connector instances using the pins."
   ]
  },
  {
   "cell_type": "code",
   "execution_count": 9,
   "id": "83ef3170",
   "metadata": {
    "execution": {
     "iopub.execute_input": "2024-10-18T15:05:58.199447Z",
     "iopub.status.busy": "2024-10-18T15:05:58.199447Z",
     "iopub.status.idle": "2024-10-18T15:05:58.215072Z",
     "shell.execute_reply": "2024-10-18T15:05:58.215072Z"
    }
   },
   "outputs": [],
   "source": [
    "for padstack_instance in list(edb.padstacks.instances.values()):\n",
    "    padstack_instance.is_pin = True"
   ]
  },
  {
   "cell_type": "markdown",
   "id": "c1fe6b96",
   "metadata": {},
   "source": [
    "Create components from the pins"
   ]
  },
  {
   "cell_type": "code",
   "execution_count": 10,
   "id": "447d6b8b",
   "metadata": {
    "execution": {
     "iopub.execute_input": "2024-10-18T15:05:58.215072Z",
     "iopub.status.busy": "2024-10-18T15:05:58.215072Z",
     "iopub.status.idle": "2024-10-18T15:05:58.246323Z",
     "shell.execute_reply": "2024-10-18T15:05:58.246323Z"
    }
   },
   "outputs": [
    {
     "data": {
      "text/plain": [
       "<pyedb.dotnet.edb_core.cell.hierarchy.component.EDBComponent at 0x1e2171dbe80>"
      ]
     },
     "execution_count": 10,
     "metadata": {},
     "output_type": "execute_result"
    }
   ],
   "source": [
    "edb.components.create(component1_pins, \"connector_1\")\n",
    "edb.components.create(component2_pins, \"connector_2\")"
   ]
  },
  {
   "cell_type": "markdown",
   "id": "8518054b",
   "metadata": {},
   "source": [
    "Create ports on the pins and insert a simulation setup using the\n",
    "``SimulationConfiguration`` class."
   ]
  },
  {
   "cell_type": "code",
   "execution_count": 11,
   "id": "1a2000d6",
   "metadata": {
    "execution": {
     "iopub.execute_input": "2024-10-18T15:05:58.246323Z",
     "iopub.status.busy": "2024-10-18T15:05:58.246323Z",
     "iopub.status.idle": "2024-10-18T15:05:58.371325Z",
     "shell.execute_reply": "2024-10-18T15:05:58.371325Z"
    }
   },
   "outputs": [
    {
     "name": "stdout",
     "output_type": "stream",
     "text": [
      "PyAEDT INFO: Building simulation project.\n"
     ]
    },
    {
     "name": "stdout",
     "output_type": "stream",
     "text": [
      "PyAEDT INFO: Deleting existing ports.\n"
     ]
    },
    {
     "name": "stdout",
     "output_type": "stream",
     "text": [
      "PyAEDT INFO: Creating HFSS ports for signal nets.\n"
     ]
    },
    {
     "name": "stdout",
     "output_type": "stream",
     "text": [
      "PyAEDT INFO: Number of ports: 2\n"
     ]
    },
    {
     "name": "stdout",
     "output_type": "stream",
     "text": [
      "PyAEDT INFO: Configure HFSS extents.\n"
     ]
    },
    {
     "name": "stdout",
     "output_type": "stream",
     "text": [
      "PyAEDT INFO: Adding frequency sweep\n"
     ]
    },
    {
     "name": "stdout",
     "output_type": "stream",
     "text": [
      "PyAEDT INFO: EDB file save time: 0.00ms\n"
     ]
    },
    {
     "data": {
      "text/plain": [
       "True"
      ]
     },
     "execution_count": 11,
     "metadata": {},
     "output_type": "execute_result"
    }
   ],
   "source": [
    "sim_setup = edb.new_simulation_configuration()\n",
    "sim_setup.solver_type = sim_setup.SOLVER_TYPE.Hfss3dLayout\n",
    "sim_setup.batch_solve_settings.cutout_subdesign_expansion = 0.01\n",
    "sim_setup.batch_solve_settings.do_cutout_subdesign = False\n",
    "sim_setup.batch_solve_settings.signal_nets = [\"VDD\"]\n",
    "sim_setup.batch_solve_settings.components = [\"connector_1\", \"connector_2\"]\n",
    "sim_setup.batch_solve_settings.power_nets = [\"VSS\"]\n",
    "sim_setup.ac_settings.start_freq = \"0GHz\"\n",
    "sim_setup.ac_settings.stop_freq = \"5GHz\"\n",
    "sim_setup.ac_settings.step_freq = \"1GHz\"\n",
    "edb.build_simulation_project(sim_setup)"
   ]
  },
  {
   "cell_type": "markdown",
   "id": "ded8330e",
   "metadata": {},
   "source": [
    "Save the EDB and open it in the 3D Layout editor. If ``non_graphical==False``,\n",
    "there may be a delay while AEDT starts."
   ]
  },
  {
   "cell_type": "code",
   "execution_count": 12,
   "id": "f183b65e",
   "metadata": {
    "execution": {
     "iopub.execute_input": "2024-10-18T15:05:58.371325Z",
     "iopub.status.busy": "2024-10-18T15:05:58.371325Z",
     "iopub.status.idle": "2024-10-18T15:06:31.073929Z",
     "shell.execute_reply": "2024-10-18T15:06:31.073929Z"
    }
   },
   "outputs": [
    {
     "name": "stdout",
     "output_type": "stream",
     "text": [
      "PyAEDT INFO: EDB file save time: 0.00ms\n"
     ]
    },
    {
     "name": "stdout",
     "output_type": "stream",
     "text": [
      "PyAEDT INFO: EDB file release time: 15.62ms\n"
     ]
    },
    {
     "name": "stdout",
     "output_type": "stream",
     "text": [
      "PyAEDT WARNING: Argument `projectname` is deprecated for method `__init__`; use `project` instead.\n"
     ]
    },
    {
     "name": "stdout",
     "output_type": "stream",
     "text": [
      "PyAEDT WARNING: Argument `specified_version` is deprecated for method `__init__`; use `version` instead.\n"
     ]
    },
    {
     "name": "stdout",
     "output_type": "stream",
     "text": [
      "PyAEDT WARNING: Argument `new_desktop_session` is deprecated for method `__init__`; use `new_desktop` instead.\n"
     ]
    },
    {
     "name": "stdout",
     "output_type": "stream",
     "text": [
      "PyAEDT INFO: Python version 3.10.11 (tags/v3.10.11:7d4cc5a, Apr  5 2023, 00:38:17) [MSC v.1929 64 bit (AMD64)]\n"
     ]
    },
    {
     "name": "stdout",
     "output_type": "stream",
     "text": [
      "PyAEDT INFO: PyAEDT version 0.12.dev0.\n"
     ]
    },
    {
     "name": "stdout",
     "output_type": "stream",
     "text": [
      "PyAEDT INFO: Initializing new Desktop session.\n"
     ]
    },
    {
     "name": "stdout",
     "output_type": "stream",
     "text": [
      "PyAEDT INFO: Log on console is enabled.\n"
     ]
    },
    {
     "name": "stdout",
     "output_type": "stream",
     "text": [
      "PyAEDT INFO: Log on file C:\\Users\\ansys\\AppData\\Local\\Temp\\pyaedt_ansys_dfdc9cf3-b672-4de2-8703-567e283f3aa8.log is enabled.\n"
     ]
    },
    {
     "name": "stdout",
     "output_type": "stream",
     "text": [
      "PyAEDT INFO: Log on AEDT is enabled.\n"
     ]
    },
    {
     "name": "stdout",
     "output_type": "stream",
     "text": [
      "PyAEDT INFO: Debug logger is disabled. PyAEDT methods will not be logged.\n"
     ]
    },
    {
     "name": "stdout",
     "output_type": "stream",
     "text": [
      "PyAEDT INFO: Launching PyAEDT with gRPC plugin.\n"
     ]
    },
    {
     "name": "stdout",
     "output_type": "stream",
     "text": [
      "PyAEDT INFO: New AEDT session is starting on gRPC port 49463\n"
     ]
    },
    {
     "name": "stdout",
     "output_type": "stream",
     "text": [
      "PyAEDT INFO: AEDT installation Path C:\\Program Files\\AnsysEM\\v242\\Win64\n"
     ]
    },
    {
     "name": "stdout",
     "output_type": "stream",
     "text": [
      "PyAEDT INFO: Ansoft.ElectronicsDesktop.2024.2 version started with process ID 7952.\n"
     ]
    },
    {
     "name": "stdout",
     "output_type": "stream",
     "text": [
      "PyAEDT INFO: EDB folder C:\\Users\\ansys\\AppData\\Local\\Temp\\tmpp39_tk9f.ansys\\component_example.aedb has been imported to project component_example\n"
     ]
    },
    {
     "name": "stdout",
     "output_type": "stream",
     "text": [
      "PyAEDT INFO: Active Design set to 0;Cell_OYKZZ0\n"
     ]
    },
    {
     "name": "stdout",
     "output_type": "stream",
     "text": [
      "PyAEDT INFO: Aedt Objects correctly read\n"
     ]
    }
   ],
   "source": [
    "edb.save_edb()\n",
    "edb.close_edb()\n",
    "h3d = ansys.aedt.core.Hfss3dLayout(\n",
    "    specified_version=\"2024.2\",\n",
    "    projectname=aedb_path,\n",
    "    non_graphical=False,  # Set non_graphical = False to launch AEDT in graphical mode.\n",
    "    new_desktop_session=True,\n",
    ")"
   ]
  },
  {
   "cell_type": "markdown",
   "id": "a66e6f93",
   "metadata": {},
   "source": [
    "### Release the application from the Python kernel\n",
    "\n",
    "It is important to release the application from the Python kernel after\n",
    "execution of the script. The default behavior of the ``release_desktop()`` method closes all open\n",
    "projects and closes the application.\n",
    "\n",
    "If you want to conintue working on the project in graphical mode\n",
    "after script execution, call the following method with both arguments set to ``False``."
   ]
  },
  {
   "cell_type": "code",
   "execution_count": 13,
   "id": "40135a89",
   "metadata": {
    "execution": {
     "iopub.execute_input": "2024-10-18T15:06:31.073929Z",
     "iopub.status.busy": "2024-10-18T15:06:31.073929Z",
     "iopub.status.idle": "2024-10-18T15:06:34.231285Z",
     "shell.execute_reply": "2024-10-18T15:06:34.231285Z"
    }
   },
   "outputs": [
    {
     "name": "stdout",
     "output_type": "stream",
     "text": [
      "PyAEDT INFO: Desktop has been released and closed.\n"
     ]
    },
    {
     "data": {
      "text/plain": [
       "True"
      ]
     },
     "execution_count": 13,
     "metadata": {},
     "output_type": "execute_result"
    }
   ],
   "source": [
    "h3d.release_desktop(close_projects=True, close_desktop=True)"
   ]
  },
  {
   "cell_type": "markdown",
   "id": "8b5fa217",
   "metadata": {},
   "source": [
    "### Clean up the temporary directory\n",
    "\n",
    "The following command cleans up the temporary directory, thereby removing all\n",
    "project files. If you'd like to save this project, save it to a folder of your choice\n",
    "prior to running the following cell."
   ]
  },
  {
   "cell_type": "code",
   "execution_count": 14,
   "id": "1b2bccd8",
   "metadata": {
    "execution": {
     "iopub.execute_input": "2024-10-18T15:06:34.231285Z",
     "iopub.status.busy": "2024-10-18T15:06:34.231285Z",
     "iopub.status.idle": "2024-10-18T15:06:34.246912Z",
     "shell.execute_reply": "2024-10-18T15:06:34.246912Z"
    }
   },
   "outputs": [],
   "source": [
    "temp_dir.cleanup()"
   ]
  }
 ],
 "metadata": {
  "jupytext": {
   "cell_metadata_filter": "-all",
   "main_language": "python",
   "notebook_metadata_filter": "-all",
   "text_representation": {
    "extension": ".py",
    "format_name": "light"
   }
  },
  "language_info": {
   "codemirror_mode": {
    "name": "ipython",
    "version": 3
   },
   "file_extension": ".py",
   "mimetype": "text/x-python",
   "name": "python",
   "nbconvert_exporter": "python",
   "pygments_lexer": "ipython3",
   "version": "3.10.11"
  }
 },
 "nbformat": 4,
 "nbformat_minor": 5
}
