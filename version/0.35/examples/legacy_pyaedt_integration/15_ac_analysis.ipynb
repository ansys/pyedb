{
 "cells": [
  {
   "cell_type": "markdown",
   "id": "873e7636",
   "metadata": {},
   "source": [
    "# EDB: Network Analysis in SIwave\n",
    "\n",
    "This example shows how to use PyAEDT to set up SYZ analysis on a\n",
    "[serdes](https://en.wikipedia.org/wiki/SerDes) channel.\n",
    "The signal input is applied differetially. The positive net is _\"PCIe_Gen4_TX3_CAP_P\"_.\n",
    "The negative net is _\"PCIe_Gen4_TX3_CAP_N\"_. In this example, ports are placed on the\n",
    "driver and\n",
    "receiver components."
   ]
  },
  {
   "cell_type": "markdown",
   "id": "264690ba",
   "metadata": {},
   "source": [
    "### Perform required imports\n",
    "\n",
    "Perform required imports, which includes importing a section."
   ]
  },
  {
   "cell_type": "code",
   "execution_count": 1,
   "id": "04fed5dc",
   "metadata": {
    "execution": {
     "iopub.execute_input": "2025-01-22T08:45:52.219952Z",
     "iopub.status.busy": "2025-01-22T08:45:52.219952Z",
     "iopub.status.idle": "2025-01-22T08:45:52.235581Z",
     "shell.execute_reply": "2025-01-22T08:45:52.235581Z"
    }
   },
   "outputs": [],
   "source": [
    "import tempfile\n",
    "import time"
   ]
  },
  {
   "cell_type": "code",
   "execution_count": 2,
   "id": "4aa8699c",
   "metadata": {
    "execution": {
     "iopub.execute_input": "2025-01-22T08:45:52.235581Z",
     "iopub.status.busy": "2025-01-22T08:45:52.235581Z",
     "iopub.status.idle": "2025-01-22T08:45:52.719927Z",
     "shell.execute_reply": "2025-01-22T08:45:52.719927Z"
    }
   },
   "outputs": [],
   "source": [
    "import ansys.aedt.core"
   ]
  },
  {
   "cell_type": "code",
   "execution_count": 3,
   "id": "871d6d5c",
   "metadata": {
    "execution": {
     "iopub.execute_input": "2025-01-22T08:45:52.719927Z",
     "iopub.status.busy": "2025-01-22T08:45:52.719927Z",
     "iopub.status.idle": "2025-01-22T08:45:52.735501Z",
     "shell.execute_reply": "2025-01-22T08:45:52.735501Z"
    }
   },
   "outputs": [],
   "source": [
    "import pyedb\n",
    "from pyedb.misc.downloads import download_file"
   ]
  },
  {
   "cell_type": "markdown",
   "id": "a772f9dd",
   "metadata": {},
   "source": [
    "### Download file\n",
    "\n",
    "Download the AEDB file and copy it in the temporary folder."
   ]
  },
  {
   "cell_type": "code",
   "execution_count": 4,
   "id": "d4da144c",
   "metadata": {
    "execution": {
     "iopub.execute_input": "2025-01-22T08:45:52.735501Z",
     "iopub.status.busy": "2025-01-22T08:45:52.735501Z",
     "iopub.status.idle": "2025-01-22T08:45:58.442745Z",
     "shell.execute_reply": "2025-01-22T08:45:58.442745Z"
    }
   },
   "outputs": [
    {
     "name": "stdout",
     "output_type": "stream",
     "text": [
      "C:\\Users\\ansys\\AppData\\Local\\Temp\\tmpqzlg_yu1.ansys\\edb/ANSYS-HSD_V1.aedb\n"
     ]
    }
   ],
   "source": [
    "temp_dir = tempfile.TemporaryDirectory(suffix=\".ansys\")\n",
    "edb_full_path = download_file(\"edb/ANSYS-HSD_V1.aedb\", destination=temp_dir.name)\n",
    "time.sleep(5)\n",
    "\n",
    "print(edb_full_path)"
   ]
  },
  {
   "cell_type": "markdown",
   "id": "20050c09",
   "metadata": {},
   "source": [
    "### Configure EDB\n",
    "\n",
    "Create an instance of the ``pyedb.Edb`` class."
   ]
  },
  {
   "cell_type": "code",
   "execution_count": 5,
   "id": "d5e9eca2",
   "metadata": {
    "execution": {
     "iopub.execute_input": "2025-01-22T08:45:58.442745Z",
     "iopub.status.busy": "2025-01-22T08:45:58.442745Z",
     "iopub.status.idle": "2025-01-22T08:46:11.458442Z",
     "shell.execute_reply": "2025-01-22T08:46:11.458442Z"
    }
   },
   "outputs": [
    {
     "name": "stdout",
     "output_type": "stream",
     "text": [
      "EDB version: 2024.2\n"
     ]
    },
    {
     "name": "stdout",
     "output_type": "stream",
     "text": [
      "PyAEDT INFO: Logger is initialized in EDB.\n"
     ]
    },
    {
     "name": "stdout",
     "output_type": "stream",
     "text": [
      "PyAEDT INFO: legacy v0.35.0\n"
     ]
    },
    {
     "name": "stdout",
     "output_type": "stream",
     "text": [
      "PyAEDT INFO: Python version 3.10.11 (tags/v3.10.11:7d4cc5a, Apr  5 2023, 00:38:17) [MSC v.1929 64 bit (AMD64)]\n"
     ]
    },
    {
     "name": "stdout",
     "output_type": "stream",
     "text": [
      "PyAEDT INFO: Database ANSYS-HSD_V1.aedb Opened in 2024.2\n"
     ]
    },
    {
     "name": "stdout",
     "output_type": "stream",
     "text": [
      "PyAEDT INFO: Cell main Opened\n"
     ]
    },
    {
     "name": "stdout",
     "output_type": "stream",
     "text": [
      "PyAEDT INFO: Builder was initialized.\n"
     ]
    },
    {
     "name": "stdout",
     "output_type": "stream",
     "text": [
      "PyAEDT INFO: EDB initialized.\n"
     ]
    }
   ],
   "source": [
    "# Select EDB version (change it manually if needed, e.g. \"2024.2\")\n",
    "edb_version = \"2024.2\"\n",
    "print(f\"EDB version: {edb_version}\")\n",
    "\n",
    "edbapp = pyedb.Edb(edbpath=edb_full_path, edbversion=edb_version)"
   ]
  },
  {
   "cell_type": "markdown",
   "id": "05020ba8",
   "metadata": {},
   "source": [
    "### Generate extended nets\n",
    "\n",
    "An extended net consists of two nets that are connected\n",
    "through a passive component such as a resistor or capacitor."
   ]
  },
  {
   "cell_type": "code",
   "execution_count": 6,
   "id": "9ff350c2",
   "metadata": {
    "execution": {
     "iopub.execute_input": "2025-01-22T08:46:11.458442Z",
     "iopub.status.busy": "2025-01-22T08:46:11.458442Z",
     "iopub.status.idle": "2025-01-22T08:46:12.505265Z",
     "shell.execute_reply": "2025-01-22T08:46:12.505265Z"
    }
   },
   "outputs": [],
   "source": [
    "all_nets = edbapp.extended_nets.auto_identify_signal(resistor_below=10, inductor_below=1, capacitor_above=1e-9)"
   ]
  },
  {
   "cell_type": "markdown",
   "id": "7a9c7606",
   "metadata": {},
   "source": [
    "Review the properties of extended nets."
   ]
  },
  {
   "cell_type": "code",
   "execution_count": 7,
   "id": "459be4c5",
   "metadata": {
    "execution": {
     "iopub.execute_input": "2025-01-22T08:46:12.505265Z",
     "iopub.status.busy": "2025-01-22T08:46:12.505265Z",
     "iopub.status.idle": "2025-01-22T08:46:12.536630Z",
     "shell.execute_reply": "2025-01-22T08:46:12.536630Z"
    }
   },
   "outputs": [
    {
     "name": "stdout",
     "output_type": "stream",
     "text": [
      "['U1', 'C379', 'X1']\n",
      "['C379']\n",
      "['U1', 'C380', 'X1']\n",
      "['C380']\n"
     ]
    }
   ],
   "source": [
    "diff_p = edbapp.nets[\"PCIe_Gen4_TX3_CAP_P\"]\n",
    "diff_n = edbapp.nets[\"PCIe_Gen4_TX3_CAP_N\"]\n",
    "\n",
    "nets_p = list(diff_p.extended_net.nets.keys())\n",
    "nets_n = list(diff_n.extended_net.nets.keys())\n",
    "\n",
    "comp_p = list(diff_p.extended_net.components.keys())\n",
    "comp_n = list(diff_n.extended_net.components.keys())\n",
    "\n",
    "rlc_p = list(diff_p.extended_net.rlc.keys())\n",
    "rlc_n = list(diff_n.extended_net.rlc.keys())\n",
    "\n",
    "print(comp_p, rlc_p, comp_n, rlc_n, sep=\"\\n\")"
   ]
  },
  {
   "cell_type": "markdown",
   "id": "d8ba46f0",
   "metadata": {},
   "source": [
    "Prepare input data for port creation."
   ]
  },
  {
   "cell_type": "code",
   "execution_count": 8,
   "id": "3feb126a",
   "metadata": {
    "execution": {
     "iopub.execute_input": "2025-01-22T08:46:12.536630Z",
     "iopub.status.busy": "2025-01-22T08:46:12.536630Z",
     "iopub.status.idle": "2025-01-22T08:46:12.552263Z",
     "shell.execute_reply": "2025-01-22T08:46:12.552263Z"
    }
   },
   "outputs": [
    {
     "name": "stdout",
     "output_type": "stream",
     "text": [
      "{'port_name': 'U1_PCIe_Gen4_TX3_CAP_P', 'comp_name': 'U1', 'net_name': 'PCIe_Gen4_TX3_CAP_P'}\n",
      "{'port_name': 'X1_PCIe_Gen4_TX3_P', 'comp_name': 'X1', 'net_name': 'PCIe_Gen4_TX3_P'}\n",
      "{'port_name': 'U1_PCIe_Gen4_TX3_CAP_N', 'comp_name': 'U1', 'net_name': 'PCIe_Gen4_TX3_CAP_N'}\n",
      "{'port_name': 'X1_PCIe_Gen4_TX3_N', 'comp_name': 'X1', 'net_name': 'PCIe_Gen4_TX3_N'}\n"
     ]
    }
   ],
   "source": [
    "ports = []\n",
    "for net_name, net_obj in diff_p.extended_net.nets.items():\n",
    "    for comp_name, comp_obj in net_obj.components.items():\n",
    "        if comp_obj.type not in [\"Resistor\", \"Capacitor\", \"Inductor\"]:\n",
    "            ports.append(\n",
    "                {\n",
    "                    \"port_name\": \"{}_{}\".format(comp_name, net_name),\n",
    "                    \"comp_name\": comp_name,\n",
    "                    \"net_name\": net_name,\n",
    "                }\n",
    "            )\n",
    "\n",
    "for net_name, net_obj in diff_n.extended_net.nets.items():\n",
    "    for comp_name, comp_obj in net_obj.components.items():\n",
    "        if comp_obj.type not in [\"Resistor\", \"Capacitor\", \"Inductor\"]:\n",
    "            ports.append(\n",
    "                {\n",
    "                    \"port_name\": \"{}_{}\".format(comp_name, net_name),\n",
    "                    \"comp_name\": comp_name,\n",
    "                    \"net_name\": net_name,\n",
    "                }\n",
    "            )\n",
    "\n",
    "print(*ports, sep=\"\\n\")"
   ]
  },
  {
   "cell_type": "markdown",
   "id": "deeb611e",
   "metadata": {},
   "source": [
    "### Create ports\n",
    "\n",
    "Solder balls are generated automatically. The default port type is coax port."
   ]
  },
  {
   "cell_type": "code",
   "execution_count": 9,
   "id": "31ba8da6",
   "metadata": {
    "execution": {
     "iopub.execute_input": "2025-01-22T08:46:12.552263Z",
     "iopub.status.busy": "2025-01-22T08:46:12.552263Z",
     "iopub.status.idle": "2025-01-22T08:46:12.927296Z",
     "shell.execute_reply": "2025-01-22T08:46:12.927296Z"
    }
   },
   "outputs": [],
   "source": [
    "for d in ports:\n",
    "    port_name = d[\"port_name\"]\n",
    "    comp_name = d[\"comp_name\"]\n",
    "    net_name = d[\"net_name\"]\n",
    "    edbapp.components.create_port_on_component(component=comp_name, net_list=net_name, port_name=port_name)"
   ]
  },
  {
   "cell_type": "markdown",
   "id": "22d1ced3",
   "metadata": {},
   "source": [
    "### Cutout\n",
    "\n",
    "Retain only relevant parts of the layout."
   ]
  },
  {
   "cell_type": "code",
   "execution_count": 10,
   "id": "db28f093",
   "metadata": {
    "execution": {
     "iopub.execute_input": "2025-01-22T08:46:12.927296Z",
     "iopub.status.busy": "2025-01-22T08:46:12.927296Z",
     "iopub.status.idle": "2025-01-22T08:46:18.224698Z",
     "shell.execute_reply": "2025-01-22T08:46:18.224698Z"
    }
   },
   "outputs": [
    {
     "name": "stdout",
     "output_type": "stream",
     "text": [
      "PyAEDT INFO: Cutout Multithread started.\n"
     ]
    },
    {
     "name": "stdout",
     "output_type": "stream",
     "text": [
      "PyAEDT INFO: Net clean up Elapsed time: 0m 2sec\n"
     ]
    },
    {
     "name": "stdout",
     "output_type": "stream",
     "text": [
      "PyAEDT INFO: Extent Creation Elapsed time: 0m 0sec\n"
     ]
    },
    {
     "name": "stdout",
     "output_type": "stream",
     "text": [
      "PyAEDT INFO: 1907 Padstack Instances deleted. Elapsed time: 0m 1sec\n"
     ]
    },
    {
     "name": "stdout",
     "output_type": "stream",
     "text": [
      "PyAEDT INFO: 438 Primitives deleted. Elapsed time: 0m 2sec\n"
     ]
    },
    {
     "name": "stdout",
     "output_type": "stream",
     "text": [
      "PyAEDT INFO: 968 components deleted\n"
     ]
    },
    {
     "name": "stdout",
     "output_type": "stream",
     "text": [
      "PyAEDT INFO: Cutout completed. Elapsed time: 0m 5sec\n"
     ]
    },
    {
     "data": {
      "text/plain": [
       "[[0.016139999279999998, 0.05419999847],\n",
       " [0.016139999279999998, 0.03255000329],\n",
       " [0.06875000112, 0.03255000329],\n",
       " [0.06875000112, 0.05419999847]]"
      ]
     },
     "execution_count": 10,
     "metadata": {},
     "output_type": "execute_result"
    }
   ],
   "source": [
    "nets = []\n",
    "nets.extend(nets_p)\n",
    "nets.extend(nets_n)\n",
    "edbapp.cutout(signal_list=nets, reference_list=[\"GND\"], extent_type=\"Bounding\")"
   ]
  },
  {
   "cell_type": "markdown",
   "id": "9836de72",
   "metadata": {},
   "source": [
    "Set up the model for network analysis in SIwave."
   ]
  },
  {
   "cell_type": "code",
   "execution_count": 11,
   "id": "eedf72fa",
   "metadata": {
    "execution": {
     "iopub.execute_input": "2025-01-22T08:46:18.224698Z",
     "iopub.status.busy": "2025-01-22T08:46:18.224698Z",
     "iopub.status.idle": "2025-01-22T08:46:18.302815Z",
     "shell.execute_reply": "2025-01-22T08:46:18.302815Z"
    }
   },
   "outputs": [
    {
     "data": {
      "text/plain": [
       "<pyedb.dotnet.edb_core.sim_setup_data.data.sweep_data.SweepData at 0x1ca249de500>"
      ]
     },
     "execution_count": 11,
     "metadata": {},
     "output_type": "execute_result"
    }
   ],
   "source": [
    "setup = edbapp.create_siwave_syz_setup(\"setup1\")\n",
    "setup.add_frequency_sweep(\n",
    "    frequency_sweep=[\n",
    "        [\"linear count\", \"0\", \"1kHz\", 1],\n",
    "        [\"log scale\", \"1kHz\", \"0.1GHz\", 10],\n",
    "        [\"linear scale\", \"0.1GHz\", \"10GHz\", \"0.1GHz\"],\n",
    "    ]\n",
    ")"
   ]
  },
  {
   "cell_type": "markdown",
   "id": "5f7e274a",
   "metadata": {},
   "source": [
    "Save and close the EDB."
   ]
  },
  {
   "cell_type": "code",
   "execution_count": 12,
   "id": "6cddf052",
   "metadata": {
    "execution": {
     "iopub.execute_input": "2025-01-22T08:46:18.302815Z",
     "iopub.status.busy": "2025-01-22T08:46:18.302815Z",
     "iopub.status.idle": "2025-01-22T08:46:18.490318Z",
     "shell.execute_reply": "2025-01-22T08:46:18.490318Z"
    }
   },
   "outputs": [
    {
     "name": "stdout",
     "output_type": "stream",
     "text": [
      "PyAEDT INFO: EDB file release time: 15.68ms\n"
     ]
    },
    {
     "data": {
      "text/plain": [
       "True"
      ]
     },
     "execution_count": 12,
     "metadata": {},
     "output_type": "execute_result"
    }
   ],
   "source": [
    "edbapp.save()\n",
    "edbapp.close_edb()"
   ]
  },
  {
   "cell_type": "markdown",
   "id": "6942aa7b",
   "metadata": {},
   "source": [
    "### Launch Hfss3dLayout\n",
    "\n",
    "The HFSS 3D Layout user interface in AEDT is used to import the EDB and\n",
    "run the analysis. AEDT 3D Layout can be used to view the model\n",
    "if it is launched in graphical mode."
   ]
  },
  {
   "cell_type": "code",
   "execution_count": 13,
   "id": "cfd7b3e3",
   "metadata": {
    "execution": {
     "iopub.execute_input": "2025-01-22T08:46:18.490318Z",
     "iopub.status.busy": "2025-01-22T08:46:18.490318Z",
     "iopub.status.idle": "2025-01-22T08:46:51.692625Z",
     "shell.execute_reply": "2025-01-22T08:46:51.692625Z"
    }
   },
   "outputs": [
    {
     "name": "stdout",
     "output_type": "stream",
     "text": [
      "PyAEDT WARNING: Argument `specified_version` is deprecated for method `__init__`; use `version` instead.\n"
     ]
    },
    {
     "name": "stdout",
     "output_type": "stream",
     "text": [
      "PyAEDT WARNING: Argument `new_desktop_session` is deprecated for method `__init__`; use `new_desktop` instead.\n"
     ]
    },
    {
     "name": "stdout",
     "output_type": "stream",
     "text": [
      "PyAEDT INFO: Python version 3.10.11 (tags/v3.10.11:7d4cc5a, Apr  5 2023, 00:38:17) [MSC v.1929 64 bit (AMD64)]\n"
     ]
    },
    {
     "name": "stdout",
     "output_type": "stream",
     "text": [
      "PyAEDT INFO: PyAEDT version 0.14.dev0.\n"
     ]
    },
    {
     "name": "stdout",
     "output_type": "stream",
     "text": [
      "PyAEDT INFO: Initializing new Desktop session.\n"
     ]
    },
    {
     "name": "stdout",
     "output_type": "stream",
     "text": [
      "PyAEDT INFO: Log on console is enabled.\n"
     ]
    },
    {
     "name": "stdout",
     "output_type": "stream",
     "text": [
      "PyAEDT INFO: Log on file C:\\Users\\ansys\\AppData\\Local\\Temp\\pyaedt_ansys_2a5377d3-e829-415c-a1d1-d4b2f983a0ef.log is enabled.\n"
     ]
    },
    {
     "name": "stdout",
     "output_type": "stream",
     "text": [
      "PyAEDT INFO: Log on AEDT is enabled.\n"
     ]
    },
    {
     "name": "stdout",
     "output_type": "stream",
     "text": [
      "PyAEDT INFO: Debug logger is disabled. PyAEDT methods will not be logged.\n"
     ]
    },
    {
     "name": "stdout",
     "output_type": "stream",
     "text": [
      "PyAEDT INFO: Launching PyAEDT with gRPC plugin.\n"
     ]
    },
    {
     "name": "stdout",
     "output_type": "stream",
     "text": [
      "PyAEDT INFO: New AEDT session is starting on gRPC port 63144\n"
     ]
    },
    {
     "name": "stdout",
     "output_type": "stream",
     "text": [
      "PyAEDT INFO: AEDT installation Path C:\\Program Files\\AnsysEM\\v242\\Win64\n"
     ]
    },
    {
     "name": "stdout",
     "output_type": "stream",
     "text": [
      "PyAEDT INFO: Ansoft.ElectronicsDesktop.2024.2 version started with process ID 4028.\n"
     ]
    },
    {
     "name": "stdout",
     "output_type": "stream",
     "text": [
      "PyAEDT INFO: EDB folder C:\\Users\\ansys\\AppData\\Local\\Temp\\tmpqzlg_yu1.ansys\\edb/ANSYS-HSD_V1.aedb has been imported to project ANSYS-HSD_V1\n"
     ]
    },
    {
     "name": "stdout",
     "output_type": "stream",
     "text": [
      "PyAEDT INFO: Active Design set to 0;main\n"
     ]
    },
    {
     "name": "stdout",
     "output_type": "stream",
     "text": [
      "PyAEDT INFO: Aedt Objects correctly read\n"
     ]
    }
   ],
   "source": [
    "h3d = ansys.aedt.core.Hfss3dLayout(\n",
    "    edb_full_path,\n",
    "    specified_version=\"2024.2\",\n",
    "    non_graphical=False,  # Set to true for non-graphical mode.\n",
    "    new_desktop_session=True,\n",
    ")"
   ]
  },
  {
   "cell_type": "markdown",
   "id": "0a162ea7",
   "metadata": {},
   "source": [
    "Define the differential pair."
   ]
  },
  {
   "cell_type": "code",
   "execution_count": 14,
   "id": "a4e46361",
   "metadata": {
    "execution": {
     "iopub.execute_input": "2025-01-22T08:46:51.692625Z",
     "iopub.status.busy": "2025-01-22T08:46:51.692625Z",
     "iopub.status.idle": "2025-01-22T08:46:51.739496Z",
     "shell.execute_reply": "2025-01-22T08:46:51.739496Z"
    }
   },
   "outputs": [
    {
     "name": "stdout",
     "output_type": "stream",
     "text": [
      "PyAEDT WARNING: Argument `positive_terminal` is deprecated for method `set_differential_pair`; use `assignment` instead.\n"
     ]
    },
    {
     "name": "stdout",
     "output_type": "stream",
     "text": [
      "PyAEDT WARNING: Argument `negative_terminal` is deprecated for method `set_differential_pair`; use `reference` instead.\n"
     ]
    },
    {
     "name": "stdout",
     "output_type": "stream",
     "text": [
      "PyAEDT WARNING: Argument `diff_name` is deprecated for method `set_differential_pair`; use `differential_mode` instead.\n"
     ]
    },
    {
     "name": "stdout",
     "output_type": "stream",
     "text": [
      "PyAEDT WARNING: Argument `positive_terminal` is deprecated for method `set_differential_pair`; use `assignment` instead.\n"
     ]
    },
    {
     "name": "stdout",
     "output_type": "stream",
     "text": [
      "PyAEDT WARNING: Argument `negative_terminal` is deprecated for method `set_differential_pair`; use `reference` instead.\n"
     ]
    },
    {
     "name": "stdout",
     "output_type": "stream",
     "text": [
      "PyAEDT WARNING: Argument `diff_name` is deprecated for method `set_differential_pair`; use `differential_mode` instead.\n"
     ]
    },
    {
     "data": {
      "text/plain": [
       "True"
      ]
     },
     "execution_count": 14,
     "metadata": {},
     "output_type": "execute_result"
    }
   ],
   "source": [
    "h3d.set_differential_pair(\n",
    "    positive_terminal=\"U1_PCIe_Gen4_TX3_CAP_P\",\n",
    "    negative_terminal=\"U1_PCIe_Gen4_TX3_CAP_N\",\n",
    "    diff_name=\"PAIR_U1\",\n",
    ")\n",
    "h3d.set_differential_pair(\n",
    "    positive_terminal=\"X1_PCIe_Gen4_TX3_P\",\n",
    "    negative_terminal=\"X1_PCIe_Gen4_TX3_N\",\n",
    "    diff_name=\"PAIR_X1\",\n",
    ")"
   ]
  },
  {
   "cell_type": "markdown",
   "id": "6dfeca15",
   "metadata": {},
   "source": [
    "Solve and plot the results."
   ]
  },
  {
   "cell_type": "code",
   "execution_count": 15,
   "id": "9cf62230",
   "metadata": {
    "execution": {
     "iopub.execute_input": "2025-01-22T08:46:51.739496Z",
     "iopub.status.busy": "2025-01-22T08:46:51.739496Z",
     "iopub.status.idle": "2025-01-22T08:47:18.451062Z",
     "shell.execute_reply": "2025-01-22T08:47:18.451062Z"
    }
   },
   "outputs": [
    {
     "name": "stdout",
     "output_type": "stream",
     "text": [
      "PyAEDT WARNING: Argument `num_cores` is deprecated for method `analyze`; use `cores` instead.\n"
     ]
    },
    {
     "name": "stdout",
     "output_type": "stream",
     "text": [
      "PyAEDT INFO: Key Desktop/ActiveDSOConfigurations/HFSS 3D Layout Design correctly changed.\n"
     ]
    },
    {
     "name": "stdout",
     "output_type": "stream",
     "text": [
      "PyAEDT INFO: Solving all design setups.\n"
     ]
    },
    {
     "name": "stdout",
     "output_type": "stream",
     "text": [
      "PyAEDT INFO: Key Desktop/ActiveDSOConfigurations/HFSS 3D Layout Design correctly changed.\n"
     ]
    },
    {
     "name": "stdout",
     "output_type": "stream",
     "text": [
      "PyAEDT INFO: Design setup None solved correctly in 0.0h 0.0m 27.0s\n"
     ]
    },
    {
     "data": {
      "text/plain": [
       "True"
      ]
     },
     "execution_count": 15,
     "metadata": {},
     "output_type": "execute_result"
    }
   ],
   "source": [
    "h3d.analyze(num_cores=4)"
   ]
  },
  {
   "cell_type": "markdown",
   "id": "1fc60d63",
   "metadata": {},
   "source": [
    "Visualze the results."
   ]
  },
  {
   "cell_type": "code",
   "execution_count": 16,
   "id": "44dfce0f",
   "metadata": {
    "execution": {
     "iopub.execute_input": "2025-01-22T08:47:18.451062Z",
     "iopub.status.busy": "2025-01-22T08:47:18.451062Z",
     "iopub.status.idle": "2025-01-22T08:47:18.924397Z",
     "shell.execute_reply": "2025-01-22T08:47:18.924397Z"
    }
   },
   "outputs": [
    {
     "name": "stdout",
     "output_type": "stream",
     "text": [
      "PyAEDT INFO: Parsing C:/Users/ansys/AppData/Local/Temp/tmpqzlg_yu1.ansys/edb/ANSYS-HSD_V1.aedt.\n"
     ]
    },
    {
     "name": "stdout",
     "output_type": "stream",
     "text": [
      "PyAEDT INFO: File C:/Users/ansys/AppData/Local/Temp/tmpqzlg_yu1.ansys/edb/ANSYS-HSD_V1.aedt correctly loaded. Elapsed time: 0m 0sec\n"
     ]
    },
    {
     "name": "stdout",
     "output_type": "stream",
     "text": [
      "PyAEDT INFO: aedt file load time 0.046875715255737305\n"
     ]
    },
    {
     "name": "stdout",
     "output_type": "stream",
     "text": [
      "PyAEDT INFO: PostProcessor class has been initialized! Elapsed time: 0m 0sec\n"
     ]
    },
    {
     "name": "stdout",
     "output_type": "stream",
     "text": [
      "PyAEDT INFO: Post class has been initialized! Elapsed time: 0m 0sec\n"
     ]
    },
    {
     "data": {
      "text/plain": [
       "<ansys.aedt.core.visualization.report.standard.Standard at 0x1ca2d2a7850>"
      ]
     },
     "execution_count": 16,
     "metadata": {},
     "output_type": "execute_result"
    }
   ],
   "source": [
    "h3d.post.create_report(\"dB(S(PAIR_U1,PAIR_U1))\", context=\"Differential Pairs\")"
   ]
  },
  {
   "cell_type": "markdown",
   "id": "d18d20d6",
   "metadata": {},
   "source": [
    "Close AEDT."
   ]
  },
  {
   "cell_type": "code",
   "execution_count": 17,
   "id": "31f76716",
   "metadata": {
    "execution": {
     "iopub.execute_input": "2025-01-22T08:47:18.924397Z",
     "iopub.status.busy": "2025-01-22T08:47:18.924397Z",
     "iopub.status.idle": "2025-01-22T08:47:22.430673Z",
     "shell.execute_reply": "2025-01-22T08:47:22.430673Z"
    }
   },
   "outputs": [
    {
     "name": "stdout",
     "output_type": "stream",
     "text": [
      "PyAEDT INFO: Project ANSYS-HSD_V1 Saved correctly\n"
     ]
    },
    {
     "name": "stdout",
     "output_type": "stream",
     "text": [
      "Project is saved to C:/Users/ansys/AppData/Local/Temp/tmpqzlg_yu1.ansys/edb/\n"
     ]
    },
    {
     "name": "stdout",
     "output_type": "stream",
     "text": [
      "PyAEDT INFO: Desktop has been released and closed.\n"
     ]
    },
    {
     "data": {
      "text/plain": [
       "True"
      ]
     },
     "execution_count": 17,
     "metadata": {},
     "output_type": "execute_result"
    }
   ],
   "source": [
    "h3d.save_project()\n",
    "print(\"Project is saved to {}\".format(h3d.project_path))\n",
    "h3d.release_desktop(True, True)"
   ]
  },
  {
   "cell_type": "markdown",
   "id": "be0f0cf5",
   "metadata": {},
   "source": [
    "The following cell cleans up the temporary directory and removes all project data."
   ]
  },
  {
   "cell_type": "code",
   "execution_count": 18,
   "id": "c9fdda1a",
   "metadata": {
    "execution": {
     "iopub.execute_input": "2025-01-22T08:47:22.430673Z",
     "iopub.status.busy": "2025-01-22T08:47:22.430673Z",
     "iopub.status.idle": "2025-01-22T08:47:22.446295Z",
     "shell.execute_reply": "2025-01-22T08:47:22.446295Z"
    }
   },
   "outputs": [],
   "source": [
    "temp_dir.cleanup()"
   ]
  }
 ],
 "metadata": {
  "jupytext": {
   "cell_metadata_filter": "-all",
   "main_language": "python",
   "notebook_metadata_filter": "-all",
   "text_representation": {
    "extension": ".py",
    "format_name": "light"
   }
  },
  "language_info": {
   "codemirror_mode": {
    "name": "ipython",
    "version": 3
   },
   "file_extension": ".py",
   "mimetype": "text/x-python",
   "name": "python",
   "nbconvert_exporter": "python",
   "pygments_lexer": "ipython3",
   "version": "3.10.11"
  }
 },
 "nbformat": 4,
 "nbformat_minor": 5
}
