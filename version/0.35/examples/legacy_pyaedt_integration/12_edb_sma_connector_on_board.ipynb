{
 "cells": [
  {
   "cell_type": "markdown",
   "id": "2a8f8e34",
   "metadata": {},
   "source": [
    "# EDB: geometry creation\n",
    "\n",
    "This example shows how to\n",
    "1. Create a parameterized PCB with an SMA connector footprint for a single-ended\n",
    "  SMA connector launch footprint..\n",
    "2. Place 3D component on PCB.\n",
    "3. Create HFSS setup and frequency sweep with a mesh operation.\n",
    "4. Create return loss plot"
   ]
  },
  {
   "cell_type": "markdown",
   "id": "f89b9c9c",
   "metadata": {},
   "source": [
    "## See the finished project\n",
    "\n",
    "<img src=\"_static\\edb_example_12_sma_connector_on_board.png\" width=\"450\">"
   ]
  },
  {
   "cell_type": "markdown",
   "id": "99c1983b",
   "metadata": {},
   "source": [
    "## Create a parameterized PCB\n",
    "\n",
    "Import dependencies."
   ]
  },
  {
   "cell_type": "code",
   "execution_count": 1,
   "id": "801ca86a",
   "metadata": {
    "execution": {
     "iopub.execute_input": "2025-01-22T08:41:33.823837Z",
     "iopub.status.busy": "2025-01-22T08:41:33.823837Z",
     "iopub.status.idle": "2025-01-22T08:41:33.839409Z",
     "shell.execute_reply": "2025-01-22T08:41:33.839409Z"
    }
   },
   "outputs": [],
   "source": [
    "import os\n",
    "import tempfile"
   ]
  },
  {
   "cell_type": "code",
   "execution_count": 2,
   "id": "255c7162",
   "metadata": {
    "execution": {
     "iopub.execute_input": "2025-01-22T08:41:33.839409Z",
     "iopub.status.busy": "2025-01-22T08:41:33.839409Z",
     "iopub.status.idle": "2025-01-22T08:41:34.417594Z",
     "shell.execute_reply": "2025-01-22T08:41:34.417594Z"
    }
   },
   "outputs": [],
   "source": [
    "import ansys.aedt.core\n",
    "import numpy as np"
   ]
  },
  {
   "cell_type": "code",
   "execution_count": 3,
   "id": "69c76a6b",
   "metadata": {
    "execution": {
     "iopub.execute_input": "2025-01-22T08:41:34.417594Z",
     "iopub.status.busy": "2025-01-22T08:41:34.417594Z",
     "iopub.status.idle": "2025-01-22T08:41:34.448876Z",
     "shell.execute_reply": "2025-01-22T08:41:34.448876Z"
    }
   },
   "outputs": [],
   "source": [
    "import pyedb\n",
    "from pyedb.misc.downloads import download_file"
   ]
  },
  {
   "cell_type": "markdown",
   "id": "aff8977e",
   "metadata": {},
   "source": [
    "Create the EDB."
   ]
  },
  {
   "cell_type": "code",
   "execution_count": 4,
   "id": "f27a89d3",
   "metadata": {
    "execution": {
     "iopub.execute_input": "2025-01-22T08:41:34.448876Z",
     "iopub.status.busy": "2025-01-22T08:41:34.448876Z",
     "iopub.status.idle": "2025-01-22T08:41:46.787205Z",
     "shell.execute_reply": "2025-01-22T08:41:46.787205Z"
    },
    "lines_to_next_cell": 2
   },
   "outputs": [
    {
     "name": "stdout",
     "output_type": "stream",
     "text": [
      "EDB version: 2024.2\n",
      "AEDB file is located in C:\\Users\\ansys\\AppData\\Local\\Temp\\tmp11_f00lp.ansys\\pcb.aedb\n"
     ]
    },
    {
     "name": "stdout",
     "output_type": "stream",
     "text": [
      "PyAEDT INFO: Logger is initialized in EDB.\n"
     ]
    },
    {
     "name": "stdout",
     "output_type": "stream",
     "text": [
      "PyAEDT INFO: legacy v0.35.0\n"
     ]
    },
    {
     "name": "stdout",
     "output_type": "stream",
     "text": [
      "PyAEDT INFO: Python version 3.10.11 (tags/v3.10.11:7d4cc5a, Apr  5 2023, 00:38:17) [MSC v.1929 64 bit (AMD64)]\n"
     ]
    },
    {
     "name": "stdout",
     "output_type": "stream",
     "text": [
      "PyAEDT INFO: EDB C:\\Users\\ansys\\AppData\\Local\\Temp\\tmp11_f00lp.ansys\\pcb.aedb created correctly.\n"
     ]
    },
    {
     "name": "stdout",
     "output_type": "stream",
     "text": [
      "PyAEDT INFO: EDB initialized.\n"
     ]
    }
   ],
   "source": [
    "temp_dir = tempfile.TemporaryDirectory(suffix=\".ansys\")\n",
    "working_folder = temp_dir.name\n",
    "\n",
    "# Select EDB version (change it manually if needed, e.g. \"2024.2\")\n",
    "edb_version = \"2024.2\"\n",
    "print(f\"EDB version: {edb_version}\")\n",
    "\n",
    "aedb_path = os.path.join(working_folder, \"pcb.aedb\")\n",
    "print(\"AEDB file is located in {}\".format(aedb_path))\n",
    "\n",
    "edb = pyedb.Edb(edbpath=aedb_path, edbversion=edb_version)"
   ]
  },
  {
   "cell_type": "markdown",
   "id": "61bce62a",
   "metadata": {},
   "source": [
    "## Create Stackup\n",
    "\n",
    "While this code explicitly defines the stackup, you can import it\n",
    "from a from a CSV or XML file using the\n",
    "``Edb.stackup.load()`` method."
   ]
  },
  {
   "cell_type": "code",
   "execution_count": 5,
   "id": "6bdc30a8",
   "metadata": {
    "execution": {
     "iopub.execute_input": "2025-01-22T08:41:46.787205Z",
     "iopub.status.busy": "2025-01-22T08:41:46.787205Z",
     "iopub.status.idle": "2025-01-22T08:41:46.818526Z",
     "shell.execute_reply": "2025-01-22T08:41:46.818526Z"
    }
   },
   "outputs": [
    {
     "data": {
      "text/plain": [
       "(True, <Ansys.Ansoft.Edb.Utility.VariableServer object at 0x0000029616590440>)"
      ]
     },
     "execution_count": 5,
     "metadata": {},
     "output_type": "execute_result"
    }
   ],
   "source": [
    "edb.add_design_variable(\"$DIEL_T\", \"0.15mm\")"
   ]
  },
  {
   "cell_type": "code",
   "execution_count": 6,
   "id": "c75ef55e",
   "metadata": {
    "execution": {
     "iopub.execute_input": "2025-01-22T08:41:46.818526Z",
     "iopub.status.busy": "2025-01-22T08:41:46.818526Z",
     "iopub.status.idle": "2025-01-22T08:41:46.834132Z",
     "shell.execute_reply": "2025-01-22T08:41:46.834132Z"
    }
   },
   "outputs": [],
   "source": [
    "layers = {\n",
    "    \"materials\": {\"ANSYS_FR4\": {\"permittivity\": 3.5, \"dielectric_loss_tangent\": 0.005}},\n",
    "    \"layers\": {\n",
    "        \"TOP\": {\"type\": \"signal\", \"thickness\": \"0.05\"},\n",
    "        \"D1\": {\"type\": \"dielectric\", \"thickness\": \"$DIEL_T\", \"material\": \"ANSYS_FR4\"},\n",
    "        \"L2\": {\"type\": \"signal\", \"thickness\": \"0.05\"},\n",
    "        \"D2\": {\"type\": \"dielectric\", \"thickness\": \"$DIEL_T\", \"material\": \"ANSYS_FR4\"},\n",
    "        \"L3\": {\"type\": \"signal\", \"thickness\": \"0.05\"},\n",
    "        \"D3\": {\"type\": \"dielectric\", \"thickness\": \"$DIEL_T\", \"material\": \"ANSYS_FR4\"},\n",
    "        \"L4\": {\"type\": \"signal\", \"thickness\": \"0.05\"},\n",
    "        \"D4\": {\"type\": \"dielectric\", \"thickness\": \"$DIEL_T\", \"material\": \"ANSYS_FR4\"},\n",
    "        \"L5\": {\"type\": \"signal\", \"thickness\": \"0.05\"},\n",
    "        \"D5\": {\"type\": \"dielectric\", \"thickness\": \"$DIEL_T\", \"material\": \"ANSYS_FR4\"},\n",
    "        \"BOT\": {\"type\": \"signal\", \"thickness\": \"0.035\"},\n",
    "    },\n",
    "}"
   ]
  },
  {
   "cell_type": "code",
   "execution_count": 7,
   "id": "6e8375c2",
   "metadata": {
    "execution": {
     "iopub.execute_input": "2025-01-22T08:41:46.834132Z",
     "iopub.status.busy": "2025-01-22T08:41:46.834132Z",
     "iopub.status.idle": "2025-01-22T08:41:47.365404Z",
     "shell.execute_reply": "2025-01-22T08:41:47.365404Z"
    },
    "lines_to_next_cell": 2
   },
   "outputs": [
    {
     "data": {
      "text/plain": [
       "True"
      ]
     },
     "execution_count": 7,
     "metadata": {},
     "output_type": "execute_result"
    }
   ],
   "source": [
    "edb.stackup.load(layers)"
   ]
  },
  {
   "cell_type": "markdown",
   "id": "4a70b238",
   "metadata": {},
   "source": [
    "Create ground conductors."
   ]
  },
  {
   "cell_type": "code",
   "execution_count": 8,
   "id": "f1dcc7d4",
   "metadata": {
    "execution": {
     "iopub.execute_input": "2025-01-22T08:41:47.365404Z",
     "iopub.status.busy": "2025-01-22T08:41:47.365404Z",
     "iopub.status.idle": "2025-01-22T08:41:47.412267Z",
     "shell.execute_reply": "2025-01-22T08:41:47.412267Z"
    }
   },
   "outputs": [],
   "source": [
    "edb.add_design_variable(\"PCB_W\", \"20mm\")\n",
    "edb.add_design_variable(\"PCB_L\", \"20mm\")\n",
    "\n",
    "gnd_dict = {}\n",
    "for layer_name in edb.stackup.signal_layers.keys():\n",
    "    gnd_dict[layer_name] = edb.modeler.create_rectangle(layer_name, \"GND\", [0, \"PCB_W/-2\"], [\"PCB_L\", \"PCB_W/2\"])"
   ]
  },
  {
   "cell_type": "markdown",
   "id": "eb76d8f1",
   "metadata": {},
   "source": [
    "## Create signal net\n",
    "\n",
    "Create signal net on layer 3, and add clearance to the ground plane."
   ]
  },
  {
   "cell_type": "code",
   "execution_count": 9,
   "id": "8583a6b6",
   "metadata": {
    "execution": {
     "iopub.execute_input": "2025-01-22T08:41:47.412267Z",
     "iopub.status.busy": "2025-01-22T08:41:47.412267Z",
     "iopub.status.idle": "2025-01-22T08:41:47.443518Z",
     "shell.execute_reply": "2025-01-22T08:41:47.443518Z"
    }
   },
   "outputs": [
    {
     "data": {
      "text/plain": [
       "True"
      ]
     },
     "execution_count": 9,
     "metadata": {},
     "output_type": "execute_result"
    }
   ],
   "source": [
    "edb.add_design_variable(\"SIG_L\", \"10mm\")\n",
    "edb.add_design_variable(\"SIG_W\", \"0.1mm\")\n",
    "edb.add_design_variable(\"SIG_C\", \"0.3mm\")\n",
    "\n",
    "signal_path = ([\"5mm\", 0], [\"SIG_L+5mm\", 0])\n",
    "signal_trace = edb.modeler.create_trace(signal_path, \"L3\", \"SIG_W\", \"SIG\", \"Flat\", \"Flat\")\n",
    "\n",
    "signal_path = ([\"5mm\", 0], [\"PCB_L\", 0])\n",
    "clr = edb.modeler.create_trace(signal_path, \"L3\", \"SIG_C*2+SIG_W\", \"SIG\", \"Flat\", \"Flat\")\n",
    "gnd_dict[\"L3\"].add_void(clr)"
   ]
  },
  {
   "cell_type": "markdown",
   "id": "7f60374e",
   "metadata": {},
   "source": [
    "## Place signal vias\n",
    "\n",
    "Create the via padstack definition and place the signal vias."
   ]
  },
  {
   "cell_type": "code",
   "execution_count": 10,
   "id": "c655838b",
   "metadata": {
    "execution": {
     "iopub.execute_input": "2025-01-22T08:41:47.443518Z",
     "iopub.status.busy": "2025-01-22T08:41:47.443518Z",
     "iopub.status.idle": "2025-01-22T08:41:47.490426Z",
     "shell.execute_reply": "2025-01-22T08:41:47.490426Z"
    }
   },
   "outputs": [
    {
     "name": "stdout",
     "output_type": "stream",
     "text": [
      "PyAEDT INFO: Padstack ANSYS_VIA create correctly\n"
     ]
    },
    {
     "data": {
      "text/plain": [
       "<pyedb.dotnet.edb_core.edb_data.padstacks_data.EDBPadstackInstance at 0x296155375e0>"
      ]
     },
     "execution_count": 10,
     "metadata": {},
     "output_type": "execute_result"
    }
   ],
   "source": [
    "edb.add_design_variable(\"SG_VIA_D\", \"1mm\")\n",
    "edb.add_design_variable(\"$VIA_AP_D\", \"1.2mm\")\n",
    "edb.padstacks.create(\"ANSYS_VIA\", \"0.3mm\", \"0.5mm\", \"$VIA_AP_D\")\n",
    "edb.padstacks.place([\"5mm\", 0], \"ANSYS_VIA\", \"SIG\")"
   ]
  },
  {
   "cell_type": "markdown",
   "id": "4455baac",
   "metadata": {},
   "source": [
    "Create ground vias around the SMA\n",
    "connector launch footprint. The vias\n",
    "are placed around the circumference\n",
    "of the launch from 35 degrees to 325\n",
    "degrees."
   ]
  },
  {
   "cell_type": "code",
   "execution_count": 11,
   "id": "c7960719",
   "metadata": {
    "execution": {
     "iopub.execute_input": "2025-01-22T08:41:47.490426Z",
     "iopub.status.busy": "2025-01-22T08:41:47.490426Z",
     "iopub.status.idle": "2025-01-22T08:41:47.584146Z",
     "shell.execute_reply": "2025-01-22T08:41:47.584146Z"
    }
   },
   "outputs": [],
   "source": [
    "for i in np.arange(30, 326, 35):\n",
    "    px = np.cos(i / 180 * np.pi)\n",
    "    py = np.sin(i / 180 * np.pi)\n",
    "    edb.padstacks.place([\"{}*{}+5mm\".format(\"SG_VIA_D\", px), \"{}*{}\".format(\"SG_VIA_D\", py)], \"ANSYS_VIA\", \"GND\")"
   ]
  },
  {
   "cell_type": "markdown",
   "id": "1784cfb8",
   "metadata": {},
   "source": [
    "Create ground vias along the signal trace."
   ]
  },
  {
   "cell_type": "code",
   "execution_count": 12,
   "id": "5ef34126",
   "metadata": {
    "execution": {
     "iopub.execute_input": "2025-01-22T08:41:47.584146Z",
     "iopub.status.busy": "2025-01-22T08:41:47.584146Z",
     "iopub.status.idle": "2025-01-22T08:41:47.631016Z",
     "shell.execute_reply": "2025-01-22T08:41:47.631016Z"
    }
   },
   "outputs": [],
   "source": [
    "for i in np.arange(2e-3, edb.variables[\"SIG_L\"].value - 2e-3, 2e-3):\n",
    "    edb.padstacks.place([\"{}+5mm\".format(i), \"1mm\"], \"ANSYS_VIA\", \"GND\")\n",
    "    edb.padstacks.place([\"{}+5mm\".format(i), \"-1mm\"], \"ANSYS_VIA\", \"GND\")"
   ]
  },
  {
   "cell_type": "markdown",
   "id": "01b9d7fd",
   "metadata": {},
   "source": [
    "Create a wave port at the end of the signal trace."
   ]
  },
  {
   "cell_type": "code",
   "execution_count": 13,
   "id": "b1623d64",
   "metadata": {
    "execution": {
     "iopub.execute_input": "2025-01-22T08:41:47.631016Z",
     "iopub.status.busy": "2025-01-22T08:41:47.631016Z",
     "iopub.status.idle": "2025-01-22T08:41:47.662292Z",
     "shell.execute_reply": "2025-01-22T08:41:47.662292Z"
    }
   },
   "outputs": [
    {
     "data": {
      "text/plain": [
       "('port_1', <pyedb.dotnet.edb_core.edb_data.ports.WavePort at 0x296155b8b20>)"
      ]
     },
     "execution_count": 13,
     "metadata": {},
     "output_type": "execute_result"
    }
   ],
   "source": [
    "signal_trace.create_edge_port(\"port_1\", \"End\", \"Wave\", horizontal_extent_factor=10)"
   ]
  },
  {
   "cell_type": "markdown",
   "id": "0b38960e",
   "metadata": {},
   "source": [
    "## Set up HFSS simulation\n",
    "\n",
    "The ``max_num_passes`` argument sets an upper limit on the\n",
    "number of adaptive passes for mesh refinement.\n",
    "\n",
    "For broadband applications when the simulation results may be used\n",
    "to generate a SPICE model, the outer domain boundary can be\n",
    "located roughly $$ d=\\lambda/8 $$ from the internal structures\n",
    "in the model."
   ]
  },
  {
   "cell_type": "code",
   "execution_count": 14,
   "id": "fcf664fb",
   "metadata": {
    "execution": {
     "iopub.execute_input": "2025-01-22T08:41:47.662292Z",
     "iopub.status.busy": "2025-01-22T08:41:47.662292Z",
     "iopub.status.idle": "2025-01-22T08:41:47.740396Z",
     "shell.execute_reply": "2025-01-22T08:41:47.740396Z"
    }
   },
   "outputs": [],
   "source": [
    "extend_domain = 3e11 / 5e9 / 8.0  # Quarter wavelength at 4 GHz.\n",
    "edb.design_options.antipads_always_on = True\n",
    "edb.hfss.hfss_extent_info.air_box_horizontal_extent = extend_domain\n",
    "edb.hfss.hfss_extent_info.air_box_positive_vertical_extent = extend_domain\n",
    "edb.hfss.hfss_extent_info.air_box_negative_vertical_extent = extend_domain\n",
    "\n",
    "setup = edb.create_hfss_setup(\"Setup1\")\n",
    "setup.set_solution_single_frequency(\"5GHz\", max_num_passes=8, max_delta_s=\"0.02\")\n",
    "setup.hfss_solver_settings.order_basis = \"first\""
   ]
  },
  {
   "cell_type": "markdown",
   "id": "a6fcee51",
   "metadata": {},
   "source": [
    "Add a mesh operation to the setup."
   ]
  },
  {
   "cell_type": "code",
   "execution_count": 15,
   "id": "651e9387",
   "metadata": {
    "execution": {
     "iopub.execute_input": "2025-01-22T08:41:47.740396Z",
     "iopub.status.busy": "2025-01-22T08:41:47.740396Z",
     "iopub.status.idle": "2025-01-22T08:41:47.771647Z",
     "shell.execute_reply": "2025-01-22T08:41:47.771647Z"
    }
   },
   "outputs": [
    {
     "data": {
      "text/plain": [
       "<pyedb.dotnet.edb_core.sim_setup_data.data.mesh_operation.LengthMeshOperation at 0x296155b9930>"
      ]
     },
     "execution_count": 15,
     "metadata": {},
     "output_type": "execute_result"
    }
   ],
   "source": [
    "edb.setups[\"Setup1\"].add_length_mesh_operation({\"SIG\": [\"L3\"]}, \"m1\", max_length=\"0.1mm\")"
   ]
  },
  {
   "cell_type": "markdown",
   "id": "c340d2c0",
   "metadata": {},
   "source": [
    "Add a frequency sweep to setup.\n",
    "\n",
    "When the simulation results are to\n",
    "be used for transient SPICE analysis, you should\n",
    "use the following strategy:\n",
    "\n",
    "- DC point\n",
    "- Logarithmic sweep from 1 kHz to 100 MHz\n",
    "- Linear scale for higher frequencies."
   ]
  },
  {
   "cell_type": "code",
   "execution_count": 16,
   "id": "e0a1364f",
   "metadata": {
    "execution": {
     "iopub.execute_input": "2025-01-22T08:41:47.771647Z",
     "iopub.status.busy": "2025-01-22T08:41:47.771647Z",
     "iopub.status.idle": "2025-01-22T08:41:47.802848Z",
     "shell.execute_reply": "2025-01-22T08:41:47.802848Z"
    }
   },
   "outputs": [
    {
     "data": {
      "text/plain": [
       "<pyedb.dotnet.edb_core.sim_setup_data.data.sweep_data.SweepData at 0x29615535b40>"
      ]
     },
     "execution_count": 16,
     "metadata": {},
     "output_type": "execute_result"
    }
   ],
   "source": [
    "setup.add_frequency_sweep(\n",
    "    \"Sweep1\",\n",
    "    frequency_sweep=[\n",
    "        [\"linear count\", \"0\", \"1KHz\", 1],\n",
    "        [\"log scale\", \"1KHz\", \"100MHz\", 10],\n",
    "        [\"linear scale\", \"0.1GHz\", \"5GHz\", \"0.1GHz\"],\n",
    "    ],\n",
    ")"
   ]
  },
  {
   "cell_type": "markdown",
   "id": "912f047c",
   "metadata": {},
   "source": [
    "Save and close EDB."
   ]
  },
  {
   "cell_type": "code",
   "execution_count": 17,
   "id": "12cea3eb",
   "metadata": {
    "execution": {
     "iopub.execute_input": "2025-01-22T08:41:47.802848Z",
     "iopub.status.busy": "2025-01-22T08:41:47.802848Z",
     "iopub.status.idle": "2025-01-22T08:41:47.834172Z",
     "shell.execute_reply": "2025-01-22T08:41:47.834172Z"
    }
   },
   "outputs": [
    {
     "name": "stdout",
     "output_type": "stream",
     "text": [
      "PyAEDT INFO: EDB file save time: 0.00ms\n"
     ]
    },
    {
     "name": "stdout",
     "output_type": "stream",
     "text": [
      "PyAEDT INFO: EDB file release time: 0.00ms\n"
     ]
    },
    {
     "data": {
      "text/plain": [
       "True"
      ]
     },
     "execution_count": 17,
     "metadata": {},
     "output_type": "execute_result"
    }
   ],
   "source": [
    "edb.save_edb()\n",
    "edb.close_edb()"
   ]
  },
  {
   "cell_type": "markdown",
   "id": "3dc23dc2",
   "metadata": {},
   "source": [
    "Launch HFSS 3D Layout."
   ]
  },
  {
   "cell_type": "code",
   "execution_count": 18,
   "id": "13836fef",
   "metadata": {
    "execution": {
     "iopub.execute_input": "2025-01-22T08:41:47.834172Z",
     "iopub.status.busy": "2025-01-22T08:41:47.834172Z",
     "iopub.status.idle": "2025-01-22T08:42:20.747802Z",
     "shell.execute_reply": "2025-01-22T08:42:20.747802Z"
    }
   },
   "outputs": [
    {
     "name": "stdout",
     "output_type": "stream",
     "text": [
      "PyAEDT WARNING: Argument `specified_version` is deprecated for method `__init__`; use `version` instead.\n"
     ]
    },
    {
     "name": "stdout",
     "output_type": "stream",
     "text": [
      "PyAEDT WARNING: Argument `new_desktop_session` is deprecated for method `__init__`; use `new_desktop` instead.\n"
     ]
    },
    {
     "name": "stdout",
     "output_type": "stream",
     "text": [
      "PyAEDT INFO: Python version 3.10.11 (tags/v3.10.11:7d4cc5a, Apr  5 2023, 00:38:17) [MSC v.1929 64 bit (AMD64)]\n"
     ]
    },
    {
     "name": "stdout",
     "output_type": "stream",
     "text": [
      "PyAEDT INFO: PyAEDT version 0.14.dev0.\n"
     ]
    },
    {
     "name": "stdout",
     "output_type": "stream",
     "text": [
      "PyAEDT INFO: Initializing new Desktop session.\n"
     ]
    },
    {
     "name": "stdout",
     "output_type": "stream",
     "text": [
      "PyAEDT INFO: Log on console is enabled.\n"
     ]
    },
    {
     "name": "stdout",
     "output_type": "stream",
     "text": [
      "PyAEDT INFO: Log on file C:\\Users\\ansys\\AppData\\Local\\Temp\\pyaedt_ansys_04f30692-7fdf-484e-b0b3-6e9563ff8620.log is enabled.\n"
     ]
    },
    {
     "name": "stdout",
     "output_type": "stream",
     "text": [
      "PyAEDT INFO: Log on AEDT is enabled.\n"
     ]
    },
    {
     "name": "stdout",
     "output_type": "stream",
     "text": [
      "PyAEDT INFO: Debug logger is disabled. PyAEDT methods will not be logged.\n"
     ]
    },
    {
     "name": "stdout",
     "output_type": "stream",
     "text": [
      "PyAEDT INFO: Launching PyAEDT with gRPC plugin.\n"
     ]
    },
    {
     "name": "stdout",
     "output_type": "stream",
     "text": [
      "PyAEDT INFO: New AEDT session is starting on gRPC port 62600\n"
     ]
    },
    {
     "name": "stdout",
     "output_type": "stream",
     "text": [
      "PyAEDT INFO: AEDT installation Path C:\\Program Files\\AnsysEM\\v242\\Win64\n"
     ]
    },
    {
     "name": "stdout",
     "output_type": "stream",
     "text": [
      "PyAEDT INFO: Ansoft.ElectronicsDesktop.2024.2 version started with process ID 6624.\n"
     ]
    },
    {
     "name": "stdout",
     "output_type": "stream",
     "text": [
      "PyAEDT INFO: EDB folder C:\\Users\\ansys\\AppData\\Local\\Temp\\tmp11_f00lp.ansys\\pcb.aedb has been imported to project pcb\n"
     ]
    },
    {
     "name": "stdout",
     "output_type": "stream",
     "text": [
      "PyAEDT INFO: Active Design set to 0;Cell_JBTFCT\n"
     ]
    },
    {
     "name": "stdout",
     "output_type": "stream",
     "text": [
      "PyAEDT INFO: Aedt Objects correctly read\n"
     ]
    }
   ],
   "source": [
    "h3d = ansys.aedt.core.Hfss3dLayout(aedb_path, specified_version=edb_version, new_desktop_session=True)"
   ]
  },
  {
   "cell_type": "markdown",
   "id": "be71b8aa",
   "metadata": {},
   "source": [
    "Place a 3D component."
   ]
  },
  {
   "cell_type": "code",
   "execution_count": 19,
   "id": "130e9e96",
   "metadata": {
    "execution": {
     "iopub.execute_input": "2025-01-22T08:42:20.747802Z",
     "iopub.status.busy": "2025-01-22T08:42:20.747802Z",
     "iopub.status.idle": "2025-01-22T08:42:22.875610Z",
     "shell.execute_reply": "2025-01-22T08:42:22.875610Z"
    }
   },
   "outputs": [
    {
     "name": "stdout",
     "output_type": "stream",
     "text": [
      "PyAEDT INFO: Loading Modeler.\n"
     ]
    },
    {
     "name": "stdout",
     "output_type": "stream",
     "text": [
      "PyAEDT INFO: Modeler loaded.\n"
     ]
    },
    {
     "name": "stdout",
     "output_type": "stream",
     "text": [
      "PyAEDT INFO: EDB loaded.\n"
     ]
    },
    {
     "name": "stdout",
     "output_type": "stream",
     "text": [
      "PyAEDT INFO: Layers loaded.\n"
     ]
    },
    {
     "name": "stdout",
     "output_type": "stream",
     "text": [
      "PyAEDT INFO: Primitives loaded.\n"
     ]
    },
    {
     "name": "stdout",
     "output_type": "stream",
     "text": [
      "PyAEDT INFO: Modeler class has been initialized! Elapsed time: 0m 0sec\n"
     ]
    }
   ],
   "source": [
    "full_comp_name = download_file(\"component_3d\", filename=\"SMA_RF_SURFACE_MOUNT.a3dcomp\", destination=working_folder)\n",
    "comp = h3d.modeler.place_3d_component(\n",
    "    component_path=full_comp_name,\n",
    "    number_of_terminals=1,\n",
    "    placement_layer=\"TOP\",\n",
    "    component_name=\"my_connector\",\n",
    "    pos_x=\"5mm\",\n",
    "    pos_y=0.000,\n",
    ")"
   ]
  },
  {
   "cell_type": "markdown",
   "id": "6030c86f",
   "metadata": {},
   "source": [
    "## Run simulation"
   ]
  },
  {
   "cell_type": "code",
   "execution_count": 20,
   "id": "fa15b807",
   "metadata": {
    "execution": {
     "iopub.execute_input": "2025-01-22T08:42:22.875610Z",
     "iopub.status.busy": "2025-01-22T08:42:22.875610Z",
     "iopub.status.idle": "2025-01-22T08:43:37.002208Z",
     "shell.execute_reply": "2025-01-22T08:43:37.002208Z"
    }
   },
   "outputs": [
    {
     "name": "stdout",
     "output_type": "stream",
     "text": [
      "PyAEDT WARNING: Argument `num_cores` is deprecated for method `analyze`; use `cores` instead.\n"
     ]
    },
    {
     "name": "stdout",
     "output_type": "stream",
     "text": [
      "PyAEDT INFO: Key Desktop/ActiveDSOConfigurations/HFSS 3D Layout Design correctly changed.\n"
     ]
    },
    {
     "name": "stdout",
     "output_type": "stream",
     "text": [
      "PyAEDT INFO: Solving all design setups.\n"
     ]
    },
    {
     "name": "stdout",
     "output_type": "stream",
     "text": [
      "PyAEDT INFO: Key Desktop/ActiveDSOConfigurations/HFSS 3D Layout Design correctly changed.\n"
     ]
    },
    {
     "name": "stdout",
     "output_type": "stream",
     "text": [
      "PyAEDT INFO: Design setup None solved correctly in 0.0h 1.0m 14.0s\n"
     ]
    },
    {
     "data": {
      "text/plain": [
       "True"
      ]
     },
     "execution_count": 20,
     "metadata": {},
     "output_type": "execute_result"
    }
   ],
   "source": [
    "h3d.analyze(num_cores=4)"
   ]
  },
  {
   "cell_type": "markdown",
   "id": "c2ecf5da",
   "metadata": {},
   "source": [
    "## Visualize the return loss."
   ]
  },
  {
   "cell_type": "code",
   "execution_count": 21,
   "id": "d77023aa",
   "metadata": {
    "execution": {
     "iopub.execute_input": "2025-01-22T08:43:37.002208Z",
     "iopub.status.busy": "2025-01-22T08:43:37.002208Z",
     "iopub.status.idle": "2025-01-22T08:43:38.282846Z",
     "shell.execute_reply": "2025-01-22T08:43:38.282846Z"
    }
   },
   "outputs": [
    {
     "name": "stdout",
     "output_type": "stream",
     "text": [
      "PyAEDT INFO: Parsing C:/Users/ansys/AppData/Local/Temp/tmp11_f00lp.ansys/pcb.aedt.\n"
     ]
    },
    {
     "name": "stdout",
     "output_type": "stream",
     "text": [
      "PyAEDT INFO: File C:/Users/ansys/AppData/Local/Temp/tmp11_f00lp.ansys/pcb.aedt correctly loaded. Elapsed time: 0m 0sec\n"
     ]
    },
    {
     "name": "stdout",
     "output_type": "stream",
     "text": [
      "PyAEDT INFO: aedt file load time 0.01568150520324707\n"
     ]
    },
    {
     "name": "stdout",
     "output_type": "stream",
     "text": [
      "PyAEDT INFO: PostProcessor class has been initialized! Elapsed time: 0m 0sec\n"
     ]
    },
    {
     "name": "stdout",
     "output_type": "stream",
     "text": [
      "PyAEDT INFO: Post class has been initialized! Elapsed time: 0m 0sec\n"
     ]
    },
    {
     "data": {
      "text/plain": [
       "<ansys.aedt.core.visualization.report.standard.Standard at 0x2961c5782e0>"
      ]
     },
     "execution_count": 21,
     "metadata": {},
     "output_type": "execute_result"
    }
   ],
   "source": [
    "h3d.post.create_report(\"dB(S(port_1, port_1))\")"
   ]
  },
  {
   "cell_type": "markdown",
   "id": "a30d45fb",
   "metadata": {},
   "source": [
    "## Save and close the project."
   ]
  },
  {
   "cell_type": "code",
   "execution_count": 22,
   "id": "84037775",
   "metadata": {
    "execution": {
     "iopub.execute_input": "2025-01-22T08:43:38.282846Z",
     "iopub.status.busy": "2025-01-22T08:43:38.282846Z",
     "iopub.status.idle": "2025-01-22T08:43:42.054633Z",
     "shell.execute_reply": "2025-01-22T08:43:42.054633Z"
    }
   },
   "outputs": [
    {
     "name": "stdout",
     "output_type": "stream",
     "text": [
      "PyAEDT INFO: Project pcb Saved correctly\n"
     ]
    },
    {
     "name": "stdout",
     "output_type": "stream",
     "text": [
      "Project is saved to C:/Users/ansys/AppData/Local/Temp/tmp11_f00lp.ansys/\n"
     ]
    },
    {
     "name": "stdout",
     "output_type": "stream",
     "text": [
      "PyAEDT INFO: Desktop has been released and closed.\n"
     ]
    },
    {
     "data": {
      "text/plain": [
       "True"
      ]
     },
     "execution_count": 22,
     "metadata": {},
     "output_type": "execute_result"
    }
   ],
   "source": [
    "h3d.save_project()\n",
    "print(\"Project is saved to {}\".format(h3d.project_path))\n",
    "h3d.release_desktop(True, True)"
   ]
  },
  {
   "cell_type": "markdown",
   "id": "5eaf3f06",
   "metadata": {},
   "source": [
    "## Clean up the temporary folder."
   ]
  },
  {
   "cell_type": "code",
   "execution_count": 23,
   "id": "88f41680",
   "metadata": {
    "execution": {
     "iopub.execute_input": "2025-01-22T08:43:42.054633Z",
     "iopub.status.busy": "2025-01-22T08:43:42.054633Z",
     "iopub.status.idle": "2025-01-22T08:43:42.085873Z",
     "shell.execute_reply": "2025-01-22T08:43:42.085873Z"
    }
   },
   "outputs": [],
   "source": [
    "temp_dir.cleanup()"
   ]
  }
 ],
 "metadata": {
  "jupytext": {
   "cell_metadata_filter": "-all",
   "main_language": "python",
   "notebook_metadata_filter": "-all",
   "text_representation": {
    "extension": ".py",
    "format_name": "light"
   }
  },
  "language_info": {
   "codemirror_mode": {
    "name": "ipython",
    "version": 3
   },
   "file_extension": ".py",
   "mimetype": "text/x-python",
   "name": "python",
   "nbconvert_exporter": "python",
   "pygments_lexer": "ipython3",
   "version": "3.10.11"
  }
 },
 "nbformat": 4,
 "nbformat_minor": 5
}
