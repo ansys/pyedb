{
 "cells": [
  {
   "cell_type": "markdown",
   "id": "dfe645ab",
   "metadata": {},
   "source": [
    "# EDB: Edit Control File and import gds\n",
    "\n",
    "This example demonstrates how to import a gds layout for subsequent\n",
    "simulation with HFSS."
   ]
  },
  {
   "cell_type": "markdown",
   "id": "9ed74c2b",
   "metadata": {},
   "source": [
    "Perform imports."
   ]
  },
  {
   "cell_type": "code",
   "execution_count": 1,
   "id": "e51b822a",
   "metadata": {
    "execution": {
     "iopub.execute_input": "2025-01-22T08:52:21.464229Z",
     "iopub.status.busy": "2025-01-22T08:52:21.464229Z",
     "iopub.status.idle": "2025-01-22T08:52:21.511127Z",
     "shell.execute_reply": "2025-01-22T08:52:21.511127Z"
    }
   },
   "outputs": [],
   "source": [
    "import os\n",
    "import shutil\n",
    "import tempfile\n",
    "\n",
    "import pyedb\n",
    "from pyedb.dotnet.edb_core.edb_data.control_file import ControlFile\n",
    "from pyedb.misc.downloads import download_file\n"
   ]
  },
  {
   "cell_type": "markdown",
   "id": "2268450c",
   "metadata": {},
   "source": [
    "## Fetch Example Data\n",
    "\n",
    "Download the EDB folder and copy it to a temporary folder.\n",
    "The following files are used in this example:\n",
    "\n",
    "- _sky130_fictious_dtc_exmple_contol_no_map.xml_\n",
    "  defines physical information such\n",
    "  as material properties, stackup layers, and boundary conditions.\n",
    "- _dummy_layermap.map_\n",
    "  maps properties to stackup layers."
   ]
  },
  {
   "cell_type": "code",
   "execution_count": 2,
   "id": "66e6124a",
   "metadata": {
    "execution": {
     "iopub.execute_input": "2025-01-22T08:52:21.511127Z",
     "iopub.status.busy": "2025-01-22T08:52:21.511127Z",
     "iopub.status.idle": "2025-01-22T08:52:25.157882Z",
     "shell.execute_reply": "2025-01-22T08:52:25.157882Z"
    }
   },
   "outputs": [
    {
     "data": {
      "text/plain": [
       "'C:\\\\Users\\\\ansys\\\\AppData\\\\Local\\\\Temp\\\\tmpko0or_14.ansys\\\\gds_out.gds'"
      ]
     },
     "execution_count": 2,
     "metadata": {},
     "output_type": "execute_result"
    }
   ],
   "source": [
    "temp_dir = tempfile.TemporaryDirectory(suffix=\".ansys\")\n",
    "control_fn = \"sky130_fictitious_dtc_example_control_no_map.xml\"\n",
    "gds_fn = \"sky130_fictitious_dtc_example.gds\"\n",
    "layer_map = \"dummy_layermap.map\"\n",
    "\n",
    "local_path = download_file(\"gds\", destination=temp_dir.name)\n",
    "c_file_in = os.path.join(local_path, control_fn)\n",
    "c_map = os.path.join(local_path, layer_map)\n",
    "gds_in = os.path.join(local_path, gds_fn)\n",
    "gds_out = os.path.join(temp_dir.name, \"gds_out.gds\")\n",
    "shutil.copy2(gds_in, gds_out)"
   ]
  },
  {
   "cell_type": "markdown",
   "id": "e86bad3a",
   "metadata": {},
   "source": [
    "## Control file\n",
    "\n",
    "A Control file is an xml file which purpose if to provide additional information during\n",
    "import phase. It can include, materials, stackup, setup, boundaries and settings.\n",
    "In this example we will import an existing xml, integrate it with a layer mapping file of gds\n",
    "and then adding setup and boundaries."
   ]
  },
  {
   "cell_type": "code",
   "execution_count": 3,
   "id": "ba83396d",
   "metadata": {
    "execution": {
     "iopub.execute_input": "2025-01-22T08:52:25.157882Z",
     "iopub.status.busy": "2025-01-22T08:52:25.157882Z",
     "iopub.status.idle": "2025-01-22T08:52:25.189113Z",
     "shell.execute_reply": "2025-01-22T08:52:25.189113Z"
    }
   },
   "outputs": [],
   "source": [
    "c = ControlFile(c_file_in, layer_map=c_map)"
   ]
  },
  {
   "cell_type": "markdown",
   "id": "278f8ed4",
   "metadata": {},
   "source": [
    "## Set up simulation\n",
    "\n",
    "This code sets up a simulation with HFSS and adds a frequency sweep."
   ]
  },
  {
   "cell_type": "code",
   "execution_count": 4,
   "id": "5fcd1a3a",
   "metadata": {
    "execution": {
     "iopub.execute_input": "2025-01-22T08:52:25.189113Z",
     "iopub.status.busy": "2025-01-22T08:52:25.189113Z",
     "iopub.status.idle": "2025-01-22T08:52:25.204772Z",
     "shell.execute_reply": "2025-01-22T08:52:25.204772Z"
    }
   },
   "outputs": [
    {
     "data": {
      "text/plain": [
       "<pyedb.dotnet.edb_core.edb_data.control_file.ControlFileSweep at 0x24a8219bbb0>"
      ]
     },
     "execution_count": 4,
     "metadata": {},
     "output_type": "execute_result"
    }
   ],
   "source": [
    "setup = c.setups.add_setup(\"Setup1\", \"1GHz\")\n",
    "setup.add_sweep(\"Sweep1\", \"0.01GHz\", \"5GHz\", \"0.1GHz\")"
   ]
  },
  {
   "cell_type": "markdown",
   "id": "5c54c807",
   "metadata": {},
   "source": [
    "## Provide additional stackup settings\n",
    "\n",
    "After import, you can change the stackup settings and add or remove layers or materials."
   ]
  },
  {
   "cell_type": "code",
   "execution_count": 5,
   "id": "2606dce4",
   "metadata": {
    "execution": {
     "iopub.execute_input": "2025-01-22T08:52:25.204772Z",
     "iopub.status.busy": "2025-01-22T08:52:25.204772Z",
     "iopub.status.idle": "2025-01-22T08:52:25.220371Z",
     "shell.execute_reply": "2025-01-22T08:52:25.220371Z"
    }
   },
   "outputs": [],
   "source": [
    "c.stackup.units = \"um\"\n",
    "c.stackup.dielectrics_base_elevation = -100\n",
    "c.stackup.metal_layer_snapping_tolerance = \"10nm\"\n",
    "for via in c.stackup.vias:\n",
    "    via.create_via_group = True\n",
    "    via.snap_via_group = True"
   ]
  },
  {
   "cell_type": "markdown",
   "id": "c470826d",
   "metadata": {},
   "source": [
    "## Define boundary settings\n",
    "\n",
    "Boundaries can include ports, components and boundary extent."
   ]
  },
  {
   "cell_type": "code",
   "execution_count": 6,
   "id": "27025c5a",
   "metadata": {
    "execution": {
     "iopub.execute_input": "2025-01-22T08:52:25.220371Z",
     "iopub.status.busy": "2025-01-22T08:52:25.220371Z",
     "iopub.status.idle": "2025-01-22T08:52:25.236004Z",
     "shell.execute_reply": "2025-01-22T08:52:25.236004Z"
    }
   },
   "outputs": [],
   "source": [
    "c.boundaries.units = \"um\"\n",
    "c.boundaries.add_port(\"P1\", x1=223.7, y1=222.6, layer1=\"Metal6\", x2=223.7, y2=100, layer2=\"Metal6\")\n",
    "c.boundaries.add_extent()\n",
    "comp = c.components.add_component(\"B1\", \"BGA\", \"IC\", \"Flip chip\", \"Cylinder\")\n",
    "comp.solder_diameter = \"65um\"\n",
    "comp.add_pin(\"1\", \"81.28\", \"84.6\", \"met2\")\n",
    "comp.add_pin(\"2\", \"211.28\", \"84.6\", \"met2\")\n",
    "comp.add_pin(\"3\", \"211.28\", \"214.6\", \"met2\")\n",
    "comp.add_pin(\"4\", \"81.28\", \"214.6\", \"met2\")\n",
    "c.import_options.import_dummy_nets = True"
   ]
  },
  {
   "cell_type": "markdown",
   "id": "ff5aef6a",
   "metadata": {},
   "source": [
    "## Write XML file\n",
    "\n",
    "After all settings are ready, you can write an XML file."
   ]
  },
  {
   "cell_type": "code",
   "execution_count": 7,
   "id": "964a5678",
   "metadata": {
    "execution": {
     "iopub.execute_input": "2025-01-22T08:52:25.236004Z",
     "iopub.status.busy": "2025-01-22T08:52:25.236004Z",
     "iopub.status.idle": "2025-01-22T08:52:25.251568Z",
     "shell.execute_reply": "2025-01-22T08:52:25.251568Z"
    }
   },
   "outputs": [
    {
     "data": {
      "text/plain": [
       "True"
      ]
     },
     "execution_count": 7,
     "metadata": {},
     "output_type": "execute_result"
    }
   ],
   "source": [
    "c.write_xml(os.path.join(temp_dir.name, \"output.xml\"))"
   ]
  },
  {
   "cell_type": "markdown",
   "id": "2963675c",
   "metadata": {},
   "source": [
    "## Open EDB\n",
    "\n",
    "Import the gds and open the edb."
   ]
  },
  {
   "cell_type": "code",
   "execution_count": 8,
   "id": "7d9f730b",
   "metadata": {
    "execution": {
     "iopub.execute_input": "2025-01-22T08:52:25.251568Z",
     "iopub.status.busy": "2025-01-22T08:52:25.251568Z",
     "iopub.status.idle": "2025-01-22T08:52:39.386136Z",
     "shell.execute_reply": "2025-01-22T08:52:39.386136Z"
    }
   },
   "outputs": [
    {
     "name": "stdout",
     "output_type": "stream",
     "text": [
      "EDB version: 2024.2\n"
     ]
    },
    {
     "name": "stdout",
     "output_type": "stream",
     "text": [
      "PyEDB INFO: StdOut is enabled\n"
     ]
    },
    {
     "name": "stdout",
     "output_type": "stream",
     "text": [
      "PyEDB INFO: Logger is initialized in EDB.\n"
     ]
    },
    {
     "name": "stdout",
     "output_type": "stream",
     "text": [
      "PyEDB INFO: legacy v0.35.0\n"
     ]
    },
    {
     "name": "stdout",
     "output_type": "stream",
     "text": [
      "PyEDB INFO: Python version 3.10.11 (tags/v3.10.11:7d4cc5a, Apr  5 2023, 00:38:17) [MSC v.1929 64 bit (AMD64)]\n"
     ]
    },
    {
     "name": "stderr",
     "output_type": "stream",
     "text": [
      "--- Logging error ---\n",
      "Traceback (most recent call last):\n",
      "  File \"C:\\actions-runner\\_work\\_tool\\Python\\3.10.11\\x64\\lib\\logging\\handlers.py\", line 74, in emit\n",
      "    self.doRollover()\n",
      "  File \"C:\\actions-runner\\_work\\_tool\\Python\\3.10.11\\x64\\lib\\logging\\handlers.py\", line 179, in doRollover\n",
      "    self.rotate(self.baseFilename, dfn)\n",
      "  File \"C:\\actions-runner\\_work\\_tool\\Python\\3.10.11\\x64\\lib\\logging\\handlers.py\", line 115, in rotate\n",
      "    os.rename(source, dest)\n",
      "PermissionError: [WinError 32] The process cannot access the file because it is being used by another process: 'C:\\\\Users\\\\ansys\\\\AppData\\\\Local\\\\Temp\\\\pyedb_ansys.log' -> 'C:\\\\Users\\\\ansys\\\\AppData\\\\Local\\\\Temp\\\\pyedb_ansys.log.1'\n",
      "Call stack:\n",
      "  File \"C:\\actions-runner\\_work\\_tool\\Python\\3.10.11\\x64\\lib\\runpy.py\", line 196, in _run_module_as_main\n",
      "    return _run_code(code, main_globals, None,\n",
      "  File \"C:\\actions-runner\\_work\\_tool\\Python\\3.10.11\\x64\\lib\\runpy.py\", line 86, in _run_code\n",
      "    exec(code, run_globals)\n",
      "  File \"C:\\actions-runner\\_work\\pyedb\\pyedb\\.venv\\lib\\site-packages\\ipykernel_launcher.py\", line 18, in <module>\n",
      "    app.launch_new_instance()\n",
      "  File \"C:\\actions-runner\\_work\\pyedb\\pyedb\\.venv\\lib\\site-packages\\traitlets\\config\\application.py\", line 1075, in launch_instance\n",
      "    app.start()\n",
      "  File \"C:\\actions-runner\\_work\\pyedb\\pyedb\\.venv\\lib\\site-packages\\ipykernel\\kernelapp.py\", line 739, in start\n",
      "    self.io_loop.start()\n",
      "  File \"C:\\actions-runner\\_work\\pyedb\\pyedb\\.venv\\lib\\site-packages\\tornado\\platform\\asyncio.py\", line 205, in start\n",
      "    self.asyncio_loop.run_forever()\n",
      "  File \"C:\\actions-runner\\_work\\_tool\\Python\\3.10.11\\x64\\lib\\asyncio\\base_events.py\", line 603, in run_forever\n",
      "    self._run_once()\n",
      "  File \"C:\\actions-runner\\_work\\_tool\\Python\\3.10.11\\x64\\lib\\asyncio\\base_events.py\", line 1909, in _run_once\n",
      "    handle._run()\n",
      "  File \"C:\\actions-runner\\_work\\_tool\\Python\\3.10.11\\x64\\lib\\asyncio\\events.py\", line 80, in _run\n",
      "    self._context.run(self._callback, *self._args)\n",
      "  File \"C:\\actions-runner\\_work\\pyedb\\pyedb\\.venv\\lib\\site-packages\\ipykernel\\kernelbase.py\", line 545, in dispatch_queue\n",
      "    await self.process_one()\n",
      "  File \"C:\\actions-runner\\_work\\pyedb\\pyedb\\.venv\\lib\\site-packages\\ipykernel\\kernelbase.py\", line 534, in process_one\n",
      "    await dispatch(*args)\n",
      "  File \"C:\\actions-runner\\_work\\pyedb\\pyedb\\.venv\\lib\\site-packages\\ipykernel\\kernelbase.py\", line 437, in dispatch_shell\n",
      "    await result\n",
      "  File \"C:\\actions-runner\\_work\\pyedb\\pyedb\\.venv\\lib\\site-packages\\ipykernel\\ipkernel.py\", line 362, in execute_request\n",
      "    await super().execute_request(stream, ident, parent)\n",
      "  File \"C:\\actions-runner\\_work\\pyedb\\pyedb\\.venv\\lib\\site-packages\\ipykernel\\kernelbase.py\", line 778, in execute_request\n",
      "    reply_content = await reply_content\n",
      "  File \"C:\\actions-runner\\_work\\pyedb\\pyedb\\.venv\\lib\\site-packages\\ipykernel\\ipkernel.py\", line 449, in do_execute\n",
      "    res = shell.run_cell(\n",
      "  File \"C:\\actions-runner\\_work\\pyedb\\pyedb\\.venv\\lib\\site-packages\\ipykernel\\zmqshell.py\", line 549, in run_cell\n",
      "    return super().run_cell(*args, **kwargs)\n",
      "  File \"C:\\actions-runner\\_work\\pyedb\\pyedb\\.venv\\lib\\site-packages\\IPython\\core\\interactiveshell.py\", line 3075, in run_cell\n",
      "    result = self._run_cell(\n",
      "  File \"C:\\actions-runner\\_work\\pyedb\\pyedb\\.venv\\lib\\site-packages\\IPython\\core\\interactiveshell.py\", line 3130, in _run_cell\n",
      "    result = runner(coro)\n",
      "  File \"C:\\actions-runner\\_work\\pyedb\\pyedb\\.venv\\lib\\site-packages\\IPython\\core\\async_helpers.py\", line 128, in _pseudo_sync_runner\n",
      "    coro.send(None)\n",
      "  File \"C:\\actions-runner\\_work\\pyedb\\pyedb\\.venv\\lib\\site-packages\\IPython\\core\\interactiveshell.py\", line 3334, in run_cell_async\n",
      "    has_raised = await self.run_ast_nodes(code_ast.body, cell_name,\n",
      "  File \"C:\\actions-runner\\_work\\pyedb\\pyedb\\.venv\\lib\\site-packages\\IPython\\core\\interactiveshell.py\", line 3517, in run_ast_nodes\n",
      "    if await self.run_code(code, result, async_=asy):\n",
      "  File \"C:\\actions-runner\\_work\\pyedb\\pyedb\\.venv\\lib\\site-packages\\IPython\\core\\interactiveshell.py\", line 3577, in run_code\n",
      "    exec(code_obj, self.user_global_ns, self.user_ns)\n",
      "  File \"C:\\Users\\ansys\\AppData\\Local\\Temp\\ipykernel_8144\\4169137817.py\", line 5, in <module>\n",
      "    edb = pyedb.Edb(gds_out, edbversion=edb_version, technology_file=os.path.join(temp_dir.name, \"output.xml\"))\n",
      "  File \"C:\\actions-runner\\_work\\pyedb\\pyedb\\.venv\\lib\\site-packages\\pyedb\\generic\\design_types.py\", line 110, in Edb\n",
      "    return app(\n",
      "  File \"C:\\actions-runner\\_work\\pyedb\\pyedb\\.venv\\lib\\site-packages\\pyedb\\dotnet\\edb.py\", line 196, in __init__\n",
      "    Database.__init__(self, edbversion=edbversion, student_version=student_version)\n",
      "  File \"C:\\actions-runner\\_work\\pyedb\\pyedb\\.venv\\lib\\site-packages\\pyedb\\dotnet\\edb_core\\dotnet\\database.py\", line 802, in __init__\n",
      "    EdbDotNet.__init__(self, edbversion=edbversion, student_version=student_version)\n",
      "  File \"C:\\actions-runner\\_work\\pyedb\\pyedb\\.venv\\lib\\site-packages\\pyedb\\dotnet\\edb_core\\dotnet\\database.py\", line 703, in __init__\n",
      "    self._logger.enable_stdout_log()\n",
      "  File \"C:\\actions-runner\\_work\\pyedb\\pyedb\\.venv\\lib\\site-packages\\pyedb\\edb_logger.py\", line 318, in enable_stdout_log\n",
      "    self.info(\"StdOut is enabled\")\n",
      "  File \"C:\\actions-runner\\_work\\pyedb\\pyedb\\.venv\\lib\\site-packages\\pyedb\\edb_logger.py\", line 346, in info\n",
      "    return self._log_on_handler(0, msg, *args, **kwargs)\n",
      "  File \"C:\\actions-runner\\_work\\pyedb\\pyedb\\.venv\\lib\\site-packages\\pyedb\\edb_logger.py\", line 293, in _log_on_handler\n",
      "    self._global.info(message_text, *args, **kwargs)\n",
      "Message: 'StdOut is enabled'\n",
      "Arguments: ()\n",
      "--- Logging error ---\n",
      "Traceback (most recent call last):\n",
      "  File \"C:\\actions-runner\\_work\\_tool\\Python\\3.10.11\\x64\\lib\\logging\\handlers.py\", line 74, in emit\n",
      "    self.doRollover()\n",
      "  File \"C:\\actions-runner\\_work\\_tool\\Python\\3.10.11\\x64\\lib\\logging\\handlers.py\", line 179, in doRollover\n",
      "    self.rotate(self.baseFilename, dfn)\n",
      "  File \"C:\\actions-runner\\_work\\_tool\\Python\\3.10.11\\x64\\lib\\logging\\handlers.py\", line 115, in rotate\n",
      "    os.rename(source, dest)\n",
      "PermissionError: [WinError 32] The process cannot access the file because it is being used by another process: 'C:\\\\Users\\\\ansys\\\\AppData\\\\Local\\\\Temp\\\\pyedb_ansys.log' -> 'C:\\\\Users\\\\ansys\\\\AppData\\\\Local\\\\Temp\\\\pyedb_ansys.log.1'\n",
      "Call stack:\n",
      "  File \"C:\\actions-runner\\_work\\_tool\\Python\\3.10.11\\x64\\lib\\runpy.py\", line 196, in _run_module_as_main\n",
      "    return _run_code(code, main_globals, None,\n",
      "  File \"C:\\actions-runner\\_work\\_tool\\Python\\3.10.11\\x64\\lib\\runpy.py\", line 86, in _run_code\n",
      "    exec(code, run_globals)\n",
      "  File \"C:\\actions-runner\\_work\\pyedb\\pyedb\\.venv\\lib\\site-packages\\ipykernel_launcher.py\", line 18, in <module>\n",
      "    app.launch_new_instance()\n",
      "  File \"C:\\actions-runner\\_work\\pyedb\\pyedb\\.venv\\lib\\site-packages\\traitlets\\config\\application.py\", line 1075, in launch_instance\n",
      "    app.start()\n",
      "  File \"C:\\actions-runner\\_work\\pyedb\\pyedb\\.venv\\lib\\site-packages\\ipykernel\\kernelapp.py\", line 739, in start\n",
      "    self.io_loop.start()\n",
      "  File \"C:\\actions-runner\\_work\\pyedb\\pyedb\\.venv\\lib\\site-packages\\tornado\\platform\\asyncio.py\", line 205, in start\n",
      "    self.asyncio_loop.run_forever()\n",
      "  File \"C:\\actions-runner\\_work\\_tool\\Python\\3.10.11\\x64\\lib\\asyncio\\base_events.py\", line 603, in run_forever\n",
      "    self._run_once()\n",
      "  File \"C:\\actions-runner\\_work\\_tool\\Python\\3.10.11\\x64\\lib\\asyncio\\base_events.py\", line 1909, in _run_once\n",
      "    handle._run()\n",
      "  File \"C:\\actions-runner\\_work\\_tool\\Python\\3.10.11\\x64\\lib\\asyncio\\events.py\", line 80, in _run\n",
      "    self._context.run(self._callback, *self._args)\n",
      "  File \"C:\\actions-runner\\_work\\pyedb\\pyedb\\.venv\\lib\\site-packages\\ipykernel\\kernelbase.py\", line 545, in dispatch_queue\n",
      "    await self.process_one()\n",
      "  File \"C:\\actions-runner\\_work\\pyedb\\pyedb\\.venv\\lib\\site-packages\\ipykernel\\kernelbase.py\", line 534, in process_one\n",
      "    await dispatch(*args)\n",
      "  File \"C:\\actions-runner\\_work\\pyedb\\pyedb\\.venv\\lib\\site-packages\\ipykernel\\kernelbase.py\", line 437, in dispatch_shell\n",
      "    await result\n",
      "  File \"C:\\actions-runner\\_work\\pyedb\\pyedb\\.venv\\lib\\site-packages\\ipykernel\\ipkernel.py\", line 362, in execute_request\n",
      "    await super().execute_request(stream, ident, parent)\n",
      "  File \"C:\\actions-runner\\_work\\pyedb\\pyedb\\.venv\\lib\\site-packages\\ipykernel\\kernelbase.py\", line 778, in execute_request\n",
      "    reply_content = await reply_content\n",
      "  File \"C:\\actions-runner\\_work\\pyedb\\pyedb\\.venv\\lib\\site-packages\\ipykernel\\ipkernel.py\", line 449, in do_execute\n",
      "    res = shell.run_cell(\n",
      "  File \"C:\\actions-runner\\_work\\pyedb\\pyedb\\.venv\\lib\\site-packages\\ipykernel\\zmqshell.py\", line 549, in run_cell\n",
      "    return super().run_cell(*args, **kwargs)\n",
      "  File \"C:\\actions-runner\\_work\\pyedb\\pyedb\\.venv\\lib\\site-packages\\IPython\\core\\interactiveshell.py\", line 3075, in run_cell\n",
      "    result = self._run_cell(\n",
      "  File \"C:\\actions-runner\\_work\\pyedb\\pyedb\\.venv\\lib\\site-packages\\IPython\\core\\interactiveshell.py\", line 3130, in _run_cell\n",
      "    result = runner(coro)\n",
      "  File \"C:\\actions-runner\\_work\\pyedb\\pyedb\\.venv\\lib\\site-packages\\IPython\\core\\async_helpers.py\", line 128, in _pseudo_sync_runner\n",
      "    coro.send(None)\n",
      "  File \"C:\\actions-runner\\_work\\pyedb\\pyedb\\.venv\\lib\\site-packages\\IPython\\core\\interactiveshell.py\", line 3334, in run_cell_async\n",
      "    has_raised = await self.run_ast_nodes(code_ast.body, cell_name,\n",
      "  File \"C:\\actions-runner\\_work\\pyedb\\pyedb\\.venv\\lib\\site-packages\\IPython\\core\\interactiveshell.py\", line 3517, in run_ast_nodes\n",
      "    if await self.run_code(code, result, async_=asy):\n",
      "  File \"C:\\actions-runner\\_work\\pyedb\\pyedb\\.venv\\lib\\site-packages\\IPython\\core\\interactiveshell.py\", line 3577, in run_code\n",
      "    exec(code_obj, self.user_global_ns, self.user_ns)\n",
      "  File \"C:\\Users\\ansys\\AppData\\Local\\Temp\\ipykernel_8144\\4169137817.py\", line 5, in <module>\n",
      "    edb = pyedb.Edb(gds_out, edbversion=edb_version, technology_file=os.path.join(temp_dir.name, \"output.xml\"))\n",
      "  File \"C:\\actions-runner\\_work\\pyedb\\pyedb\\.venv\\lib\\site-packages\\pyedb\\generic\\design_types.py\", line 110, in Edb\n",
      "    return app(\n",
      "  File \"C:\\actions-runner\\_work\\pyedb\\pyedb\\.venv\\lib\\site-packages\\pyedb\\dotnet\\edb.py\", line 196, in __init__\n",
      "    Database.__init__(self, edbversion=edbversion, student_version=student_version)\n",
      "  File \"C:\\actions-runner\\_work\\pyedb\\pyedb\\.venv\\lib\\site-packages\\pyedb\\dotnet\\edb_core\\dotnet\\database.py\", line 802, in __init__\n",
      "    EdbDotNet.__init__(self, edbversion=edbversion, student_version=student_version)\n",
      "  File \"C:\\actions-runner\\_work\\pyedb\\pyedb\\.venv\\lib\\site-packages\\pyedb\\dotnet\\edb_core\\dotnet\\database.py\", line 709, in __init__\n",
      "    self._logger.info(\"Logger is initialized in EDB.\")\n",
      "  File \"C:\\actions-runner\\_work\\pyedb\\pyedb\\.venv\\lib\\site-packages\\pyedb\\edb_logger.py\", line 346, in info\n",
      "    return self._log_on_handler(0, msg, *args, **kwargs)\n",
      "  File \"C:\\actions-runner\\_work\\pyedb\\pyedb\\.venv\\lib\\site-packages\\pyedb\\edb_logger.py\", line 293, in _log_on_handler\n",
      "    self._global.info(message_text, *args, **kwargs)\n",
      "Message: 'Logger is initialized in EDB.'\n",
      "Arguments: ()\n",
      "--- Logging error ---\n",
      "Traceback (most recent call last):\n",
      "  File \"C:\\actions-runner\\_work\\_tool\\Python\\3.10.11\\x64\\lib\\logging\\handlers.py\", line 74, in emit\n",
      "    self.doRollover()\n",
      "  File \"C:\\actions-runner\\_work\\_tool\\Python\\3.10.11\\x64\\lib\\logging\\handlers.py\", line 179, in doRollover\n",
      "    self.rotate(self.baseFilename, dfn)\n",
      "  File \"C:\\actions-runner\\_work\\_tool\\Python\\3.10.11\\x64\\lib\\logging\\handlers.py\", line 115, in rotate\n",
      "    os.rename(source, dest)\n",
      "PermissionError: [WinError 32] The process cannot access the file because it is being used by another process: 'C:\\\\Users\\\\ansys\\\\AppData\\\\Local\\\\Temp\\\\pyedb_ansys.log' -> 'C:\\\\Users\\\\ansys\\\\AppData\\\\Local\\\\Temp\\\\pyedb_ansys.log.1'\n",
      "Call stack:\n",
      "  File \"C:\\actions-runner\\_work\\_tool\\Python\\3.10.11\\x64\\lib\\runpy.py\", line 196, in _run_module_as_main\n",
      "    return _run_code(code, main_globals, None,\n",
      "  File \"C:\\actions-runner\\_work\\_tool\\Python\\3.10.11\\x64\\lib\\runpy.py\", line 86, in _run_code\n",
      "    exec(code, run_globals)\n",
      "  File \"C:\\actions-runner\\_work\\pyedb\\pyedb\\.venv\\lib\\site-packages\\ipykernel_launcher.py\", line 18, in <module>\n",
      "    app.launch_new_instance()\n",
      "  File \"C:\\actions-runner\\_work\\pyedb\\pyedb\\.venv\\lib\\site-packages\\traitlets\\config\\application.py\", line 1075, in launch_instance\n",
      "    app.start()\n",
      "  File \"C:\\actions-runner\\_work\\pyedb\\pyedb\\.venv\\lib\\site-packages\\ipykernel\\kernelapp.py\", line 739, in start\n",
      "    self.io_loop.start()\n",
      "  File \"C:\\actions-runner\\_work\\pyedb\\pyedb\\.venv\\lib\\site-packages\\tornado\\platform\\asyncio.py\", line 205, in start\n",
      "    self.asyncio_loop.run_forever()\n",
      "  File \"C:\\actions-runner\\_work\\_tool\\Python\\3.10.11\\x64\\lib\\asyncio\\base_events.py\", line 603, in run_forever\n",
      "    self._run_once()\n",
      "  File \"C:\\actions-runner\\_work\\_tool\\Python\\3.10.11\\x64\\lib\\asyncio\\base_events.py\", line 1909, in _run_once\n",
      "    handle._run()\n",
      "  File \"C:\\actions-runner\\_work\\_tool\\Python\\3.10.11\\x64\\lib\\asyncio\\events.py\", line 80, in _run\n",
      "    self._context.run(self._callback, *self._args)\n",
      "  File \"C:\\actions-runner\\_work\\pyedb\\pyedb\\.venv\\lib\\site-packages\\ipykernel\\kernelbase.py\", line 545, in dispatch_queue\n",
      "    await self.process_one()\n",
      "  File \"C:\\actions-runner\\_work\\pyedb\\pyedb\\.venv\\lib\\site-packages\\ipykernel\\kernelbase.py\", line 534, in process_one\n",
      "    await dispatch(*args)\n",
      "  File \"C:\\actions-runner\\_work\\pyedb\\pyedb\\.venv\\lib\\site-packages\\ipykernel\\kernelbase.py\", line 437, in dispatch_shell\n",
      "    await result\n",
      "  File \"C:\\actions-runner\\_work\\pyedb\\pyedb\\.venv\\lib\\site-packages\\ipykernel\\ipkernel.py\", line 362, in execute_request\n",
      "    await super().execute_request(stream, ident, parent)\n",
      "  File \"C:\\actions-runner\\_work\\pyedb\\pyedb\\.venv\\lib\\site-packages\\ipykernel\\kernelbase.py\", line 778, in execute_request\n",
      "    reply_content = await reply_content\n",
      "  File \"C:\\actions-runner\\_work\\pyedb\\pyedb\\.venv\\lib\\site-packages\\ipykernel\\ipkernel.py\", line 449, in do_execute\n",
      "    res = shell.run_cell(\n",
      "  File \"C:\\actions-runner\\_work\\pyedb\\pyedb\\.venv\\lib\\site-packages\\ipykernel\\zmqshell.py\", line 549, in run_cell\n",
      "    return super().run_cell(*args, **kwargs)\n",
      "  File \"C:\\actions-runner\\_work\\pyedb\\pyedb\\.venv\\lib\\site-packages\\IPython\\core\\interactiveshell.py\", line 3075, in run_cell\n",
      "    result = self._run_cell(\n",
      "  File \"C:\\actions-runner\\_work\\pyedb\\pyedb\\.venv\\lib\\site-packages\\IPython\\core\\interactiveshell.py\", line 3130, in _run_cell\n",
      "    result = runner(coro)\n",
      "  File \"C:\\actions-runner\\_work\\pyedb\\pyedb\\.venv\\lib\\site-packages\\IPython\\core\\async_helpers.py\", line 128, in _pseudo_sync_runner\n",
      "    coro.send(None)\n",
      "  File \"C:\\actions-runner\\_work\\pyedb\\pyedb\\.venv\\lib\\site-packages\\IPython\\core\\interactiveshell.py\", line 3334, in run_cell_async\n",
      "    has_raised = await self.run_ast_nodes(code_ast.body, cell_name,\n",
      "  File \"C:\\actions-runner\\_work\\pyedb\\pyedb\\.venv\\lib\\site-packages\\IPython\\core\\interactiveshell.py\", line 3517, in run_ast_nodes\n",
      "    if await self.run_code(code, result, async_=asy):\n",
      "  File \"C:\\actions-runner\\_work\\pyedb\\pyedb\\.venv\\lib\\site-packages\\IPython\\core\\interactiveshell.py\", line 3577, in run_code\n",
      "    exec(code_obj, self.user_global_ns, self.user_ns)\n",
      "  File \"C:\\Users\\ansys\\AppData\\Local\\Temp\\ipykernel_8144\\4169137817.py\", line 5, in <module>\n",
      "    edb = pyedb.Edb(gds_out, edbversion=edb_version, technology_file=os.path.join(temp_dir.name, \"output.xml\"))\n",
      "  File \"C:\\actions-runner\\_work\\pyedb\\pyedb\\.venv\\lib\\site-packages\\pyedb\\generic\\design_types.py\", line 110, in Edb\n",
      "    return app(\n",
      "  File \"C:\\actions-runner\\_work\\pyedb\\pyedb\\.venv\\lib\\site-packages\\pyedb\\dotnet\\edb.py\", line 196, in __init__\n",
      "    Database.__init__(self, edbversion=edbversion, student_version=student_version)\n",
      "  File \"C:\\actions-runner\\_work\\pyedb\\pyedb\\.venv\\lib\\site-packages\\pyedb\\dotnet\\edb_core\\dotnet\\database.py\", line 802, in __init__\n",
      "    EdbDotNet.__init__(self, edbversion=edbversion, student_version=student_version)\n",
      "  File \"C:\\actions-runner\\_work\\pyedb\\pyedb\\.venv\\lib\\site-packages\\pyedb\\dotnet\\edb_core\\dotnet\\database.py\", line 710, in __init__\n",
      "    self._logger.info(\"legacy v%s\", __version__)\n",
      "  File \"C:\\actions-runner\\_work\\pyedb\\pyedb\\.venv\\lib\\site-packages\\pyedb\\edb_logger.py\", line 346, in info\n",
      "    return self._log_on_handler(0, msg, *args, **kwargs)\n",
      "  File \"C:\\actions-runner\\_work\\pyedb\\pyedb\\.venv\\lib\\site-packages\\pyedb\\edb_logger.py\", line 293, in _log_on_handler\n",
      "    self._global.info(message_text, *args, **kwargs)\n",
      "Message: 'legacy v%s'\n",
      "Arguments: ('0.35.0',)\n",
      "--- Logging error ---\n",
      "Traceback (most recent call last):\n",
      "  File \"C:\\actions-runner\\_work\\_tool\\Python\\3.10.11\\x64\\lib\\logging\\handlers.py\", line 74, in emit\n",
      "    self.doRollover()\n",
      "  File \"C:\\actions-runner\\_work\\_tool\\Python\\3.10.11\\x64\\lib\\logging\\handlers.py\", line 179, in doRollover\n",
      "    self.rotate(self.baseFilename, dfn)\n",
      "  File \"C:\\actions-runner\\_work\\_tool\\Python\\3.10.11\\x64\\lib\\logging\\handlers.py\", line 115, in rotate\n",
      "    os.rename(source, dest)\n",
      "PermissionError: [WinError 32] The process cannot access the file because it is being used by another process: 'C:\\\\Users\\\\ansys\\\\AppData\\\\Local\\\\Temp\\\\pyedb_ansys.log' -> 'C:\\\\Users\\\\ansys\\\\AppData\\\\Local\\\\Temp\\\\pyedb_ansys.log.1'\n",
      "Call stack:\n",
      "  File \"C:\\actions-runner\\_work\\_tool\\Python\\3.10.11\\x64\\lib\\runpy.py\", line 196, in _run_module_as_main\n",
      "    return _run_code(code, main_globals, None,\n",
      "  File \"C:\\actions-runner\\_work\\_tool\\Python\\3.10.11\\x64\\lib\\runpy.py\", line 86, in _run_code\n",
      "    exec(code, run_globals)\n",
      "  File \"C:\\actions-runner\\_work\\pyedb\\pyedb\\.venv\\lib\\site-packages\\ipykernel_launcher.py\", line 18, in <module>\n",
      "    app.launch_new_instance()\n",
      "  File \"C:\\actions-runner\\_work\\pyedb\\pyedb\\.venv\\lib\\site-packages\\traitlets\\config\\application.py\", line 1075, in launch_instance\n",
      "    app.start()\n",
      "  File \"C:\\actions-runner\\_work\\pyedb\\pyedb\\.venv\\lib\\site-packages\\ipykernel\\kernelapp.py\", line 739, in start\n",
      "    self.io_loop.start()\n",
      "  File \"C:\\actions-runner\\_work\\pyedb\\pyedb\\.venv\\lib\\site-packages\\tornado\\platform\\asyncio.py\", line 205, in start\n",
      "    self.asyncio_loop.run_forever()\n",
      "  File \"C:\\actions-runner\\_work\\_tool\\Python\\3.10.11\\x64\\lib\\asyncio\\base_events.py\", line 603, in run_forever\n",
      "    self._run_once()\n",
      "  File \"C:\\actions-runner\\_work\\_tool\\Python\\3.10.11\\x64\\lib\\asyncio\\base_events.py\", line 1909, in _run_once\n",
      "    handle._run()\n",
      "  File \"C:\\actions-runner\\_work\\_tool\\Python\\3.10.11\\x64\\lib\\asyncio\\events.py\", line 80, in _run\n",
      "    self._context.run(self._callback, *self._args)\n",
      "  File \"C:\\actions-runner\\_work\\pyedb\\pyedb\\.venv\\lib\\site-packages\\ipykernel\\kernelbase.py\", line 545, in dispatch_queue\n",
      "    await self.process_one()\n",
      "  File \"C:\\actions-runner\\_work\\pyedb\\pyedb\\.venv\\lib\\site-packages\\ipykernel\\kernelbase.py\", line 534, in process_one\n",
      "    await dispatch(*args)\n",
      "  File \"C:\\actions-runner\\_work\\pyedb\\pyedb\\.venv\\lib\\site-packages\\ipykernel\\kernelbase.py\", line 437, in dispatch_shell\n",
      "    await result\n",
      "  File \"C:\\actions-runner\\_work\\pyedb\\pyedb\\.venv\\lib\\site-packages\\ipykernel\\ipkernel.py\", line 362, in execute_request\n",
      "    await super().execute_request(stream, ident, parent)\n",
      "  File \"C:\\actions-runner\\_work\\pyedb\\pyedb\\.venv\\lib\\site-packages\\ipykernel\\kernelbase.py\", line 778, in execute_request\n",
      "    reply_content = await reply_content\n",
      "  File \"C:\\actions-runner\\_work\\pyedb\\pyedb\\.venv\\lib\\site-packages\\ipykernel\\ipkernel.py\", line 449, in do_execute\n",
      "    res = shell.run_cell(\n",
      "  File \"C:\\actions-runner\\_work\\pyedb\\pyedb\\.venv\\lib\\site-packages\\ipykernel\\zmqshell.py\", line 549, in run_cell\n",
      "    return super().run_cell(*args, **kwargs)\n",
      "  File \"C:\\actions-runner\\_work\\pyedb\\pyedb\\.venv\\lib\\site-packages\\IPython\\core\\interactiveshell.py\", line 3075, in run_cell\n",
      "    result = self._run_cell(\n",
      "  File \"C:\\actions-runner\\_work\\pyedb\\pyedb\\.venv\\lib\\site-packages\\IPython\\core\\interactiveshell.py\", line 3130, in _run_cell\n",
      "    result = runner(coro)\n",
      "  File \"C:\\actions-runner\\_work\\pyedb\\pyedb\\.venv\\lib\\site-packages\\IPython\\core\\async_helpers.py\", line 128, in _pseudo_sync_runner\n",
      "    coro.send(None)\n",
      "  File \"C:\\actions-runner\\_work\\pyedb\\pyedb\\.venv\\lib\\site-packages\\IPython\\core\\interactiveshell.py\", line 3334, in run_cell_async\n",
      "    has_raised = await self.run_ast_nodes(code_ast.body, cell_name,\n",
      "  File \"C:\\actions-runner\\_work\\pyedb\\pyedb\\.venv\\lib\\site-packages\\IPython\\core\\interactiveshell.py\", line 3517, in run_ast_nodes\n",
      "    if await self.run_code(code, result, async_=asy):\n",
      "  File \"C:\\actions-runner\\_work\\pyedb\\pyedb\\.venv\\lib\\site-packages\\IPython\\core\\interactiveshell.py\", line 3577, in run_code\n",
      "    exec(code_obj, self.user_global_ns, self.user_ns)\n",
      "  File \"C:\\Users\\ansys\\AppData\\Local\\Temp\\ipykernel_8144\\4169137817.py\", line 5, in <module>\n",
      "    edb = pyedb.Edb(gds_out, edbversion=edb_version, technology_file=os.path.join(temp_dir.name, \"output.xml\"))\n",
      "  File \"C:\\actions-runner\\_work\\pyedb\\pyedb\\.venv\\lib\\site-packages\\pyedb\\generic\\design_types.py\", line 110, in Edb\n",
      "    return app(\n",
      "  File \"C:\\actions-runner\\_work\\pyedb\\pyedb\\.venv\\lib\\site-packages\\pyedb\\dotnet\\edb.py\", line 196, in __init__\n",
      "    Database.__init__(self, edbversion=edbversion, student_version=student_version)\n",
      "  File \"C:\\actions-runner\\_work\\pyedb\\pyedb\\.venv\\lib\\site-packages\\pyedb\\dotnet\\edb_core\\dotnet\\database.py\", line 802, in __init__\n",
      "    EdbDotNet.__init__(self, edbversion=edbversion, student_version=student_version)\n",
      "  File \"C:\\actions-runner\\_work\\pyedb\\pyedb\\.venv\\lib\\site-packages\\pyedb\\dotnet\\edb_core\\dotnet\\database.py\", line 711, in __init__\n",
      "    self._logger.info(\"Python version %s\", sys.version)\n",
      "  File \"C:\\actions-runner\\_work\\pyedb\\pyedb\\.venv\\lib\\site-packages\\pyedb\\edb_logger.py\", line 346, in info\n",
      "    return self._log_on_handler(0, msg, *args, **kwargs)\n",
      "  File \"C:\\actions-runner\\_work\\pyedb\\pyedb\\.venv\\lib\\site-packages\\pyedb\\edb_logger.py\", line 293, in _log_on_handler\n",
      "    self._global.info(message_text, *args, **kwargs)\n",
      "Message: 'Python version %s'\n",
      "Arguments: ('3.10.11 (tags/v3.10.11:7d4cc5a, Apr  5 2023, 00:38:17) [MSC v.1929 64 bit (AMD64)]',)\n"
     ]
    },
    {
     "name": "stdout",
     "output_type": "stream",
     "text": [
      "PyEDB INFO: Translation correctly completed\n"
     ]
    },
    {
     "name": "stderr",
     "output_type": "stream",
     "text": [
      "--- Logging error ---\n",
      "Traceback (most recent call last):\n",
      "  File \"C:\\actions-runner\\_work\\_tool\\Python\\3.10.11\\x64\\lib\\logging\\handlers.py\", line 74, in emit\n",
      "    self.doRollover()\n",
      "  File \"C:\\actions-runner\\_work\\_tool\\Python\\3.10.11\\x64\\lib\\logging\\handlers.py\", line 179, in doRollover\n",
      "    self.rotate(self.baseFilename, dfn)\n",
      "  File \"C:\\actions-runner\\_work\\_tool\\Python\\3.10.11\\x64\\lib\\logging\\handlers.py\", line 115, in rotate\n",
      "    os.rename(source, dest)\n",
      "PermissionError: [WinError 32] The process cannot access the file because it is being used by another process: 'C:\\\\Users\\\\ansys\\\\AppData\\\\Local\\\\Temp\\\\pyedb_ansys.log' -> 'C:\\\\Users\\\\ansys\\\\AppData\\\\Local\\\\Temp\\\\pyedb_ansys.log.1'\n",
      "Call stack:\n",
      "  File \"C:\\actions-runner\\_work\\_tool\\Python\\3.10.11\\x64\\lib\\runpy.py\", line 196, in _run_module_as_main\n",
      "    return _run_code(code, main_globals, None,\n",
      "  File \"C:\\actions-runner\\_work\\_tool\\Python\\3.10.11\\x64\\lib\\runpy.py\", line 86, in _run_code\n",
      "    exec(code, run_globals)\n",
      "  File \"C:\\actions-runner\\_work\\pyedb\\pyedb\\.venv\\lib\\site-packages\\ipykernel_launcher.py\", line 18, in <module>\n",
      "    app.launch_new_instance()\n",
      "  File \"C:\\actions-runner\\_work\\pyedb\\pyedb\\.venv\\lib\\site-packages\\traitlets\\config\\application.py\", line 1075, in launch_instance\n",
      "    app.start()\n",
      "  File \"C:\\actions-runner\\_work\\pyedb\\pyedb\\.venv\\lib\\site-packages\\ipykernel\\kernelapp.py\", line 739, in start\n",
      "    self.io_loop.start()\n",
      "  File \"C:\\actions-runner\\_work\\pyedb\\pyedb\\.venv\\lib\\site-packages\\tornado\\platform\\asyncio.py\", line 205, in start\n",
      "    self.asyncio_loop.run_forever()\n",
      "  File \"C:\\actions-runner\\_work\\_tool\\Python\\3.10.11\\x64\\lib\\asyncio\\base_events.py\", line 603, in run_forever\n",
      "    self._run_once()\n",
      "  File \"C:\\actions-runner\\_work\\_tool\\Python\\3.10.11\\x64\\lib\\asyncio\\base_events.py\", line 1909, in _run_once\n",
      "    handle._run()\n",
      "  File \"C:\\actions-runner\\_work\\_tool\\Python\\3.10.11\\x64\\lib\\asyncio\\events.py\", line 80, in _run\n",
      "    self._context.run(self._callback, *self._args)\n",
      "  File \"C:\\actions-runner\\_work\\pyedb\\pyedb\\.venv\\lib\\site-packages\\ipykernel\\kernelbase.py\", line 545, in dispatch_queue\n",
      "    await self.process_one()\n",
      "  File \"C:\\actions-runner\\_work\\pyedb\\pyedb\\.venv\\lib\\site-packages\\ipykernel\\kernelbase.py\", line 534, in process_one\n",
      "    await dispatch(*args)\n",
      "  File \"C:\\actions-runner\\_work\\pyedb\\pyedb\\.venv\\lib\\site-packages\\ipykernel\\kernelbase.py\", line 437, in dispatch_shell\n",
      "    await result\n",
      "  File \"C:\\actions-runner\\_work\\pyedb\\pyedb\\.venv\\lib\\site-packages\\ipykernel\\ipkernel.py\", line 362, in execute_request\n",
      "    await super().execute_request(stream, ident, parent)\n",
      "  File \"C:\\actions-runner\\_work\\pyedb\\pyedb\\.venv\\lib\\site-packages\\ipykernel\\kernelbase.py\", line 778, in execute_request\n",
      "    reply_content = await reply_content\n",
      "  File \"C:\\actions-runner\\_work\\pyedb\\pyedb\\.venv\\lib\\site-packages\\ipykernel\\ipkernel.py\", line 449, in do_execute\n",
      "    res = shell.run_cell(\n",
      "  File \"C:\\actions-runner\\_work\\pyedb\\pyedb\\.venv\\lib\\site-packages\\ipykernel\\zmqshell.py\", line 549, in run_cell\n",
      "    return super().run_cell(*args, **kwargs)\n",
      "  File \"C:\\actions-runner\\_work\\pyedb\\pyedb\\.venv\\lib\\site-packages\\IPython\\core\\interactiveshell.py\", line 3075, in run_cell\n",
      "    result = self._run_cell(\n",
      "  File \"C:\\actions-runner\\_work\\pyedb\\pyedb\\.venv\\lib\\site-packages\\IPython\\core\\interactiveshell.py\", line 3130, in _run_cell\n",
      "    result = runner(coro)\n",
      "  File \"C:\\actions-runner\\_work\\pyedb\\pyedb\\.venv\\lib\\site-packages\\IPython\\core\\async_helpers.py\", line 128, in _pseudo_sync_runner\n",
      "    coro.send(None)\n",
      "  File \"C:\\actions-runner\\_work\\pyedb\\pyedb\\.venv\\lib\\site-packages\\IPython\\core\\interactiveshell.py\", line 3334, in run_cell_async\n",
      "    has_raised = await self.run_ast_nodes(code_ast.body, cell_name,\n",
      "  File \"C:\\actions-runner\\_work\\pyedb\\pyedb\\.venv\\lib\\site-packages\\IPython\\core\\interactiveshell.py\", line 3517, in run_ast_nodes\n",
      "    if await self.run_code(code, result, async_=asy):\n",
      "  File \"C:\\actions-runner\\_work\\pyedb\\pyedb\\.venv\\lib\\site-packages\\IPython\\core\\interactiveshell.py\", line 3577, in run_code\n",
      "    exec(code_obj, self.user_global_ns, self.user_ns)\n",
      "  File \"C:\\Users\\ansys\\AppData\\Local\\Temp\\ipykernel_8144\\4169137817.py\", line 5, in <module>\n",
      "    edb = pyedb.Edb(gds_out, edbversion=edb_version, technology_file=os.path.join(temp_dir.name, \"output.xml\"))\n",
      "  File \"C:\\actions-runner\\_work\\pyedb\\pyedb\\.venv\\lib\\site-packages\\pyedb\\generic\\design_types.py\", line 110, in Edb\n",
      "    return app(\n",
      "  File \"C:\\actions-runner\\_work\\pyedb\\pyedb\\.venv\\lib\\site-packages\\pyedb\\dotnet\\edb.py\", line 258, in __init__\n",
      "    self.import_layout_pcb(edbpath, working_dir, use_ppe=use_ppe, control_file=control_file)\n",
      "  File \"C:\\actions-runner\\_work\\pyedb\\pyedb\\.venv\\lib\\site-packages\\pyedb\\dotnet\\edb.py\", line 672, in import_layout_pcb\n",
      "    self.logger.info(\"Translation correctly completed\")\n",
      "  File \"C:\\actions-runner\\_work\\pyedb\\pyedb\\.venv\\lib\\site-packages\\pyedb\\edb_logger.py\", line 346, in info\n",
      "    return self._log_on_handler(0, msg, *args, **kwargs)\n",
      "  File \"C:\\actions-runner\\_work\\pyedb\\pyedb\\.venv\\lib\\site-packages\\pyedb\\edb_logger.py\", line 293, in _log_on_handler\n",
      "    self._global.info(message_text, *args, **kwargs)\n",
      "Message: 'Translation correctly completed'\n",
      "Arguments: ()\n"
     ]
    },
    {
     "name": "stdout",
     "output_type": "stream",
     "text": [
      "PyEDB INFO: Database gds_out.aedb Opened in 2024.2\n"
     ]
    },
    {
     "name": "stdout",
     "output_type": "stream",
     "text": [
      "PyEDB INFO: Cell TOP Opened\n"
     ]
    },
    {
     "name": "stdout",
     "output_type": "stream",
     "text": [
      "PyEDB INFO: Builder was initialized.\n"
     ]
    },
    {
     "name": "stdout",
     "output_type": "stream",
     "text": [
      "PyEDB INFO: EDB C:\\Users\\ansys\\AppData\\Local\\Temp\\tmpko0or_14.ansys\\gds_out.aedb was created correctly from ds file.\n"
     ]
    },
    {
     "name": "stdout",
     "output_type": "stream",
     "text": [
      "PyEDB INFO: EDB initialized.\n"
     ]
    },
    {
     "name": "stderr",
     "output_type": "stream",
     "text": [
      "--- Logging error ---\n",
      "Traceback (most recent call last):\n",
      "  File \"C:\\actions-runner\\_work\\_tool\\Python\\3.10.11\\x64\\lib\\logging\\handlers.py\", line 74, in emit\n",
      "    self.doRollover()\n",
      "  File \"C:\\actions-runner\\_work\\_tool\\Python\\3.10.11\\x64\\lib\\logging\\handlers.py\", line 179, in doRollover\n",
      "    self.rotate(self.baseFilename, dfn)\n",
      "  File \"C:\\actions-runner\\_work\\_tool\\Python\\3.10.11\\x64\\lib\\logging\\handlers.py\", line 115, in rotate\n",
      "    os.rename(source, dest)\n",
      "PermissionError: [WinError 32] The process cannot access the file because it is being used by another process: 'C:\\\\Users\\\\ansys\\\\AppData\\\\Local\\\\Temp\\\\pyedb_ansys.log' -> 'C:\\\\Users\\\\ansys\\\\AppData\\\\Local\\\\Temp\\\\pyedb_ansys.log.1'\n",
      "Call stack:\n",
      "  File \"C:\\actions-runner\\_work\\_tool\\Python\\3.10.11\\x64\\lib\\runpy.py\", line 196, in _run_module_as_main\n",
      "    return _run_code(code, main_globals, None,\n",
      "  File \"C:\\actions-runner\\_work\\_tool\\Python\\3.10.11\\x64\\lib\\runpy.py\", line 86, in _run_code\n",
      "    exec(code, run_globals)\n",
      "  File \"C:\\actions-runner\\_work\\pyedb\\pyedb\\.venv\\lib\\site-packages\\ipykernel_launcher.py\", line 18, in <module>\n",
      "    app.launch_new_instance()\n",
      "  File \"C:\\actions-runner\\_work\\pyedb\\pyedb\\.venv\\lib\\site-packages\\traitlets\\config\\application.py\", line 1075, in launch_instance\n",
      "    app.start()\n",
      "  File \"C:\\actions-runner\\_work\\pyedb\\pyedb\\.venv\\lib\\site-packages\\ipykernel\\kernelapp.py\", line 739, in start\n",
      "    self.io_loop.start()\n",
      "  File \"C:\\actions-runner\\_work\\pyedb\\pyedb\\.venv\\lib\\site-packages\\tornado\\platform\\asyncio.py\", line 205, in start\n",
      "    self.asyncio_loop.run_forever()\n",
      "  File \"C:\\actions-runner\\_work\\_tool\\Python\\3.10.11\\x64\\lib\\asyncio\\base_events.py\", line 603, in run_forever\n",
      "    self._run_once()\n",
      "  File \"C:\\actions-runner\\_work\\_tool\\Python\\3.10.11\\x64\\lib\\asyncio\\base_events.py\", line 1909, in _run_once\n",
      "    handle._run()\n",
      "  File \"C:\\actions-runner\\_work\\_tool\\Python\\3.10.11\\x64\\lib\\asyncio\\events.py\", line 80, in _run\n",
      "    self._context.run(self._callback, *self._args)\n",
      "  File \"C:\\actions-runner\\_work\\pyedb\\pyedb\\.venv\\lib\\site-packages\\ipykernel\\kernelbase.py\", line 545, in dispatch_queue\n",
      "    await self.process_one()\n",
      "  File \"C:\\actions-runner\\_work\\pyedb\\pyedb\\.venv\\lib\\site-packages\\ipykernel\\kernelbase.py\", line 534, in process_one\n",
      "    await dispatch(*args)\n",
      "  File \"C:\\actions-runner\\_work\\pyedb\\pyedb\\.venv\\lib\\site-packages\\ipykernel\\kernelbase.py\", line 437, in dispatch_shell\n",
      "    await result\n",
      "  File \"C:\\actions-runner\\_work\\pyedb\\pyedb\\.venv\\lib\\site-packages\\ipykernel\\ipkernel.py\", line 362, in execute_request\n",
      "    await super().execute_request(stream, ident, parent)\n",
      "  File \"C:\\actions-runner\\_work\\pyedb\\pyedb\\.venv\\lib\\site-packages\\ipykernel\\kernelbase.py\", line 778, in execute_request\n",
      "    reply_content = await reply_content\n",
      "  File \"C:\\actions-runner\\_work\\pyedb\\pyedb\\.venv\\lib\\site-packages\\ipykernel\\ipkernel.py\", line 449, in do_execute\n",
      "    res = shell.run_cell(\n",
      "  File \"C:\\actions-runner\\_work\\pyedb\\pyedb\\.venv\\lib\\site-packages\\ipykernel\\zmqshell.py\", line 549, in run_cell\n",
      "    return super().run_cell(*args, **kwargs)\n",
      "  File \"C:\\actions-runner\\_work\\pyedb\\pyedb\\.venv\\lib\\site-packages\\IPython\\core\\interactiveshell.py\", line 3075, in run_cell\n",
      "    result = self._run_cell(\n",
      "  File \"C:\\actions-runner\\_work\\pyedb\\pyedb\\.venv\\lib\\site-packages\\IPython\\core\\interactiveshell.py\", line 3130, in _run_cell\n",
      "    result = runner(coro)\n",
      "  File \"C:\\actions-runner\\_work\\pyedb\\pyedb\\.venv\\lib\\site-packages\\IPython\\core\\async_helpers.py\", line 128, in _pseudo_sync_runner\n",
      "    coro.send(None)\n",
      "  File \"C:\\actions-runner\\_work\\pyedb\\pyedb\\.venv\\lib\\site-packages\\IPython\\core\\interactiveshell.py\", line 3334, in run_cell_async\n",
      "    has_raised = await self.run_ast_nodes(code_ast.body, cell_name,\n",
      "  File \"C:\\actions-runner\\_work\\pyedb\\pyedb\\.venv\\lib\\site-packages\\IPython\\core\\interactiveshell.py\", line 3517, in run_ast_nodes\n",
      "    if await self.run_code(code, result, async_=asy):\n",
      "  File \"C:\\actions-runner\\_work\\pyedb\\pyedb\\.venv\\lib\\site-packages\\IPython\\core\\interactiveshell.py\", line 3577, in run_code\n",
      "    exec(code_obj, self.user_global_ns, self.user_ns)\n",
      "  File \"C:\\Users\\ansys\\AppData\\Local\\Temp\\ipykernel_8144\\4169137817.py\", line 5, in <module>\n",
      "    edb = pyedb.Edb(gds_out, edbversion=edb_version, technology_file=os.path.join(temp_dir.name, \"output.xml\"))\n",
      "  File \"C:\\actions-runner\\_work\\pyedb\\pyedb\\.venv\\lib\\site-packages\\pyedb\\generic\\design_types.py\", line 110, in Edb\n",
      "    return app(\n",
      "  File \"C:\\actions-runner\\_work\\pyedb\\pyedb\\.venv\\lib\\site-packages\\pyedb\\dotnet\\edb.py\", line 258, in __init__\n",
      "    self.import_layout_pcb(edbpath, working_dir, use_ppe=use_ppe, control_file=control_file)\n",
      "  File \"C:\\actions-runner\\_work\\pyedb\\pyedb\\.venv\\lib\\site-packages\\pyedb\\dotnet\\edb.py\", line 674, in import_layout_pcb\n",
      "    return self.open_edb()\n",
      "  File \"C:\\actions-runner\\_work\\pyedb\\pyedb\\.venv\\lib\\site-packages\\pyedb\\dotnet\\edb.py\", line 554, in open_edb\n",
      "    self.logger.info(\"Database {} Opened in {}\".format(os.path.split(self.edbpath)[-1], self.edbversion))\n",
      "  File \"C:\\actions-runner\\_work\\pyedb\\pyedb\\.venv\\lib\\site-packages\\pyedb\\edb_logger.py\", line 346, in info\n",
      "    return self._log_on_handler(0, msg, *args, **kwargs)\n",
      "  File \"C:\\actions-runner\\_work\\pyedb\\pyedb\\.venv\\lib\\site-packages\\pyedb\\edb_logger.py\", line 293, in _log_on_handler\n",
      "    self._global.info(message_text, *args, **kwargs)\n",
      "Message: 'Database gds_out.aedb Opened in 2024.2'\n",
      "Arguments: ()\n",
      "--- Logging error ---\n",
      "Traceback (most recent call last):\n",
      "  File \"C:\\actions-runner\\_work\\_tool\\Python\\3.10.11\\x64\\lib\\logging\\handlers.py\", line 74, in emit\n",
      "    self.doRollover()\n",
      "  File \"C:\\actions-runner\\_work\\_tool\\Python\\3.10.11\\x64\\lib\\logging\\handlers.py\", line 179, in doRollover\n",
      "    self.rotate(self.baseFilename, dfn)\n",
      "  File \"C:\\actions-runner\\_work\\_tool\\Python\\3.10.11\\x64\\lib\\logging\\handlers.py\", line 115, in rotate\n",
      "    os.rename(source, dest)\n",
      "PermissionError: [WinError 32] The process cannot access the file because it is being used by another process: 'C:\\\\Users\\\\ansys\\\\AppData\\\\Local\\\\Temp\\\\pyedb_ansys.log' -> 'C:\\\\Users\\\\ansys\\\\AppData\\\\Local\\\\Temp\\\\pyedb_ansys.log.1'\n",
      "Call stack:\n",
      "  File \"C:\\actions-runner\\_work\\_tool\\Python\\3.10.11\\x64\\lib\\runpy.py\", line 196, in _run_module_as_main\n",
      "    return _run_code(code, main_globals, None,\n",
      "  File \"C:\\actions-runner\\_work\\_tool\\Python\\3.10.11\\x64\\lib\\runpy.py\", line 86, in _run_code\n",
      "    exec(code, run_globals)\n",
      "  File \"C:\\actions-runner\\_work\\pyedb\\pyedb\\.venv\\lib\\site-packages\\ipykernel_launcher.py\", line 18, in <module>\n",
      "    app.launch_new_instance()\n",
      "  File \"C:\\actions-runner\\_work\\pyedb\\pyedb\\.venv\\lib\\site-packages\\traitlets\\config\\application.py\", line 1075, in launch_instance\n",
      "    app.start()\n",
      "  File \"C:\\actions-runner\\_work\\pyedb\\pyedb\\.venv\\lib\\site-packages\\ipykernel\\kernelapp.py\", line 739, in start\n",
      "    self.io_loop.start()\n",
      "  File \"C:\\actions-runner\\_work\\pyedb\\pyedb\\.venv\\lib\\site-packages\\tornado\\platform\\asyncio.py\", line 205, in start\n",
      "    self.asyncio_loop.run_forever()\n",
      "  File \"C:\\actions-runner\\_work\\_tool\\Python\\3.10.11\\x64\\lib\\asyncio\\base_events.py\", line 603, in run_forever\n",
      "    self._run_once()\n",
      "  File \"C:\\actions-runner\\_work\\_tool\\Python\\3.10.11\\x64\\lib\\asyncio\\base_events.py\", line 1909, in _run_once\n",
      "    handle._run()\n",
      "  File \"C:\\actions-runner\\_work\\_tool\\Python\\3.10.11\\x64\\lib\\asyncio\\events.py\", line 80, in _run\n",
      "    self._context.run(self._callback, *self._args)\n",
      "  File \"C:\\actions-runner\\_work\\pyedb\\pyedb\\.venv\\lib\\site-packages\\ipykernel\\kernelbase.py\", line 545, in dispatch_queue\n",
      "    await self.process_one()\n",
      "  File \"C:\\actions-runner\\_work\\pyedb\\pyedb\\.venv\\lib\\site-packages\\ipykernel\\kernelbase.py\", line 534, in process_one\n",
      "    await dispatch(*args)\n",
      "  File \"C:\\actions-runner\\_work\\pyedb\\pyedb\\.venv\\lib\\site-packages\\ipykernel\\kernelbase.py\", line 437, in dispatch_shell\n",
      "    await result\n",
      "  File \"C:\\actions-runner\\_work\\pyedb\\pyedb\\.venv\\lib\\site-packages\\ipykernel\\ipkernel.py\", line 362, in execute_request\n",
      "    await super().execute_request(stream, ident, parent)\n",
      "  File \"C:\\actions-runner\\_work\\pyedb\\pyedb\\.venv\\lib\\site-packages\\ipykernel\\kernelbase.py\", line 778, in execute_request\n",
      "    reply_content = await reply_content\n",
      "  File \"C:\\actions-runner\\_work\\pyedb\\pyedb\\.venv\\lib\\site-packages\\ipykernel\\ipkernel.py\", line 449, in do_execute\n",
      "    res = shell.run_cell(\n",
      "  File \"C:\\actions-runner\\_work\\pyedb\\pyedb\\.venv\\lib\\site-packages\\ipykernel\\zmqshell.py\", line 549, in run_cell\n",
      "    return super().run_cell(*args, **kwargs)\n",
      "  File \"C:\\actions-runner\\_work\\pyedb\\pyedb\\.venv\\lib\\site-packages\\IPython\\core\\interactiveshell.py\", line 3075, in run_cell\n",
      "    result = self._run_cell(\n",
      "  File \"C:\\actions-runner\\_work\\pyedb\\pyedb\\.venv\\lib\\site-packages\\IPython\\core\\interactiveshell.py\", line 3130, in _run_cell\n",
      "    result = runner(coro)\n",
      "  File \"C:\\actions-runner\\_work\\pyedb\\pyedb\\.venv\\lib\\site-packages\\IPython\\core\\async_helpers.py\", line 128, in _pseudo_sync_runner\n",
      "    coro.send(None)\n",
      "  File \"C:\\actions-runner\\_work\\pyedb\\pyedb\\.venv\\lib\\site-packages\\IPython\\core\\interactiveshell.py\", line 3334, in run_cell_async\n",
      "    has_raised = await self.run_ast_nodes(code_ast.body, cell_name,\n",
      "  File \"C:\\actions-runner\\_work\\pyedb\\pyedb\\.venv\\lib\\site-packages\\IPython\\core\\interactiveshell.py\", line 3517, in run_ast_nodes\n",
      "    if await self.run_code(code, result, async_=asy):\n",
      "  File \"C:\\actions-runner\\_work\\pyedb\\pyedb\\.venv\\lib\\site-packages\\IPython\\core\\interactiveshell.py\", line 3577, in run_code\n",
      "    exec(code_obj, self.user_global_ns, self.user_ns)\n",
      "  File \"C:\\Users\\ansys\\AppData\\Local\\Temp\\ipykernel_8144\\4169137817.py\", line 5, in <module>\n",
      "    edb = pyedb.Edb(gds_out, edbversion=edb_version, technology_file=os.path.join(temp_dir.name, \"output.xml\"))\n",
      "  File \"C:\\actions-runner\\_work\\pyedb\\pyedb\\.venv\\lib\\site-packages\\pyedb\\generic\\design_types.py\", line 110, in Edb\n",
      "    return app(\n",
      "  File \"C:\\actions-runner\\_work\\pyedb\\pyedb\\.venv\\lib\\site-packages\\pyedb\\dotnet\\edb.py\", line 258, in __init__\n",
      "    self.import_layout_pcb(edbpath, working_dir, use_ppe=use_ppe, control_file=control_file)\n",
      "  File \"C:\\actions-runner\\_work\\pyedb\\pyedb\\.venv\\lib\\site-packages\\pyedb\\dotnet\\edb.py\", line 674, in import_layout_pcb\n",
      "    return self.open_edb()\n",
      "  File \"C:\\actions-runner\\_work\\pyedb\\pyedb\\.venv\\lib\\site-packages\\pyedb\\dotnet\\edb.py\", line 568, in open_edb\n",
      "    self.logger.info(\"Cell %s Opened\", self._active_cell.GetName())\n",
      "  File \"C:\\actions-runner\\_work\\pyedb\\pyedb\\.venv\\lib\\site-packages\\pyedb\\edb_logger.py\", line 346, in info\n",
      "    return self._log_on_handler(0, msg, *args, **kwargs)\n",
      "  File \"C:\\actions-runner\\_work\\pyedb\\pyedb\\.venv\\lib\\site-packages\\pyedb\\edb_logger.py\", line 293, in _log_on_handler\n",
      "    self._global.info(message_text, *args, **kwargs)\n",
      "Message: 'Cell %s Opened'\n",
      "Arguments: ('TOP',)\n",
      "--- Logging error ---\n",
      "Traceback (most recent call last):\n",
      "  File \"C:\\actions-runner\\_work\\_tool\\Python\\3.10.11\\x64\\lib\\logging\\handlers.py\", line 74, in emit\n",
      "    self.doRollover()\n",
      "  File \"C:\\actions-runner\\_work\\_tool\\Python\\3.10.11\\x64\\lib\\logging\\handlers.py\", line 179, in doRollover\n",
      "    self.rotate(self.baseFilename, dfn)\n",
      "  File \"C:\\actions-runner\\_work\\_tool\\Python\\3.10.11\\x64\\lib\\logging\\handlers.py\", line 115, in rotate\n",
      "    os.rename(source, dest)\n",
      "PermissionError: [WinError 32] The process cannot access the file because it is being used by another process: 'C:\\\\Users\\\\ansys\\\\AppData\\\\Local\\\\Temp\\\\pyedb_ansys.log' -> 'C:\\\\Users\\\\ansys\\\\AppData\\\\Local\\\\Temp\\\\pyedb_ansys.log.1'\n",
      "Call stack:\n",
      "  File \"C:\\actions-runner\\_work\\_tool\\Python\\3.10.11\\x64\\lib\\runpy.py\", line 196, in _run_module_as_main\n",
      "    return _run_code(code, main_globals, None,\n",
      "  File \"C:\\actions-runner\\_work\\_tool\\Python\\3.10.11\\x64\\lib\\runpy.py\", line 86, in _run_code\n",
      "    exec(code, run_globals)\n",
      "  File \"C:\\actions-runner\\_work\\pyedb\\pyedb\\.venv\\lib\\site-packages\\ipykernel_launcher.py\", line 18, in <module>\n",
      "    app.launch_new_instance()\n",
      "  File \"C:\\actions-runner\\_work\\pyedb\\pyedb\\.venv\\lib\\site-packages\\traitlets\\config\\application.py\", line 1075, in launch_instance\n",
      "    app.start()\n",
      "  File \"C:\\actions-runner\\_work\\pyedb\\pyedb\\.venv\\lib\\site-packages\\ipykernel\\kernelapp.py\", line 739, in start\n",
      "    self.io_loop.start()\n",
      "  File \"C:\\actions-runner\\_work\\pyedb\\pyedb\\.venv\\lib\\site-packages\\tornado\\platform\\asyncio.py\", line 205, in start\n",
      "    self.asyncio_loop.run_forever()\n",
      "  File \"C:\\actions-runner\\_work\\_tool\\Python\\3.10.11\\x64\\lib\\asyncio\\base_events.py\", line 603, in run_forever\n",
      "    self._run_once()\n",
      "  File \"C:\\actions-runner\\_work\\_tool\\Python\\3.10.11\\x64\\lib\\asyncio\\base_events.py\", line 1909, in _run_once\n",
      "    handle._run()\n",
      "  File \"C:\\actions-runner\\_work\\_tool\\Python\\3.10.11\\x64\\lib\\asyncio\\events.py\", line 80, in _run\n",
      "    self._context.run(self._callback, *self._args)\n",
      "  File \"C:\\actions-runner\\_work\\pyedb\\pyedb\\.venv\\lib\\site-packages\\ipykernel\\kernelbase.py\", line 545, in dispatch_queue\n",
      "    await self.process_one()\n",
      "  File \"C:\\actions-runner\\_work\\pyedb\\pyedb\\.venv\\lib\\site-packages\\ipykernel\\kernelbase.py\", line 534, in process_one\n",
      "    await dispatch(*args)\n",
      "  File \"C:\\actions-runner\\_work\\pyedb\\pyedb\\.venv\\lib\\site-packages\\ipykernel\\kernelbase.py\", line 437, in dispatch_shell\n",
      "    await result\n",
      "  File \"C:\\actions-runner\\_work\\pyedb\\pyedb\\.venv\\lib\\site-packages\\ipykernel\\ipkernel.py\", line 362, in execute_request\n",
      "    await super().execute_request(stream, ident, parent)\n",
      "  File \"C:\\actions-runner\\_work\\pyedb\\pyedb\\.venv\\lib\\site-packages\\ipykernel\\kernelbase.py\", line 778, in execute_request\n",
      "    reply_content = await reply_content\n",
      "  File \"C:\\actions-runner\\_work\\pyedb\\pyedb\\.venv\\lib\\site-packages\\ipykernel\\ipkernel.py\", line 449, in do_execute\n",
      "    res = shell.run_cell(\n",
      "  File \"C:\\actions-runner\\_work\\pyedb\\pyedb\\.venv\\lib\\site-packages\\ipykernel\\zmqshell.py\", line 549, in run_cell\n",
      "    return super().run_cell(*args, **kwargs)\n",
      "  File \"C:\\actions-runner\\_work\\pyedb\\pyedb\\.venv\\lib\\site-packages\\IPython\\core\\interactiveshell.py\", line 3075, in run_cell\n",
      "    result = self._run_cell(\n",
      "  File \"C:\\actions-runner\\_work\\pyedb\\pyedb\\.venv\\lib\\site-packages\\IPython\\core\\interactiveshell.py\", line 3130, in _run_cell\n",
      "    result = runner(coro)\n",
      "  File \"C:\\actions-runner\\_work\\pyedb\\pyedb\\.venv\\lib\\site-packages\\IPython\\core\\async_helpers.py\", line 128, in _pseudo_sync_runner\n",
      "    coro.send(None)\n",
      "  File \"C:\\actions-runner\\_work\\pyedb\\pyedb\\.venv\\lib\\site-packages\\IPython\\core\\interactiveshell.py\", line 3334, in run_cell_async\n",
      "    has_raised = await self.run_ast_nodes(code_ast.body, cell_name,\n",
      "  File \"C:\\actions-runner\\_work\\pyedb\\pyedb\\.venv\\lib\\site-packages\\IPython\\core\\interactiveshell.py\", line 3517, in run_ast_nodes\n",
      "    if await self.run_code(code, result, async_=asy):\n",
      "  File \"C:\\actions-runner\\_work\\pyedb\\pyedb\\.venv\\lib\\site-packages\\IPython\\core\\interactiveshell.py\", line 3577, in run_code\n",
      "    exec(code_obj, self.user_global_ns, self.user_ns)\n",
      "  File \"C:\\Users\\ansys\\AppData\\Local\\Temp\\ipykernel_8144\\4169137817.py\", line 5, in <module>\n",
      "    edb = pyedb.Edb(gds_out, edbversion=edb_version, technology_file=os.path.join(temp_dir.name, \"output.xml\"))\n",
      "  File \"C:\\actions-runner\\_work\\pyedb\\pyedb\\.venv\\lib\\site-packages\\pyedb\\generic\\design_types.py\", line 110, in Edb\n",
      "    return app(\n",
      "  File \"C:\\actions-runner\\_work\\pyedb\\pyedb\\.venv\\lib\\site-packages\\pyedb\\dotnet\\edb.py\", line 258, in __init__\n",
      "    self.import_layout_pcb(edbpath, working_dir, use_ppe=use_ppe, control_file=control_file)\n",
      "  File \"C:\\actions-runner\\_work\\pyedb\\pyedb\\.venv\\lib\\site-packages\\pyedb\\dotnet\\edb.py\", line 674, in import_layout_pcb\n",
      "    return self.open_edb()\n",
      "  File \"C:\\actions-runner\\_work\\pyedb\\pyedb\\.venv\\lib\\site-packages\\pyedb\\dotnet\\edb.py\", line 571, in open_edb\n",
      "    self.logger.info(\"Builder was initialized.\")\n",
      "  File \"C:\\actions-runner\\_work\\pyedb\\pyedb\\.venv\\lib\\site-packages\\pyedb\\edb_logger.py\", line 346, in info\n",
      "    return self._log_on_handler(0, msg, *args, **kwargs)\n",
      "  File \"C:\\actions-runner\\_work\\pyedb\\pyedb\\.venv\\lib\\site-packages\\pyedb\\edb_logger.py\", line 293, in _log_on_handler\n",
      "    self._global.info(message_text, *args, **kwargs)\n",
      "Message: 'Builder was initialized.'\n",
      "Arguments: ()\n",
      "--- Logging error ---\n",
      "Traceback (most recent call last):\n",
      "  File \"C:\\actions-runner\\_work\\_tool\\Python\\3.10.11\\x64\\lib\\logging\\handlers.py\", line 74, in emit\n",
      "    self.doRollover()\n",
      "  File \"C:\\actions-runner\\_work\\_tool\\Python\\3.10.11\\x64\\lib\\logging\\handlers.py\", line 179, in doRollover\n",
      "    self.rotate(self.baseFilename, dfn)\n",
      "  File \"C:\\actions-runner\\_work\\_tool\\Python\\3.10.11\\x64\\lib\\logging\\handlers.py\", line 115, in rotate\n",
      "    os.rename(source, dest)\n",
      "PermissionError: [WinError 32] The process cannot access the file because it is being used by another process: 'C:\\\\Users\\\\ansys\\\\AppData\\\\Local\\\\Temp\\\\pyedb_ansys.log' -> 'C:\\\\Users\\\\ansys\\\\AppData\\\\Local\\\\Temp\\\\pyedb_ansys.log.1'\n",
      "Call stack:\n",
      "  File \"C:\\actions-runner\\_work\\_tool\\Python\\3.10.11\\x64\\lib\\runpy.py\", line 196, in _run_module_as_main\n",
      "    return _run_code(code, main_globals, None,\n",
      "  File \"C:\\actions-runner\\_work\\_tool\\Python\\3.10.11\\x64\\lib\\runpy.py\", line 86, in _run_code\n",
      "    exec(code, run_globals)\n",
      "  File \"C:\\actions-runner\\_work\\pyedb\\pyedb\\.venv\\lib\\site-packages\\ipykernel_launcher.py\", line 18, in <module>\n",
      "    app.launch_new_instance()\n",
      "  File \"C:\\actions-runner\\_work\\pyedb\\pyedb\\.venv\\lib\\site-packages\\traitlets\\config\\application.py\", line 1075, in launch_instance\n",
      "    app.start()\n",
      "  File \"C:\\actions-runner\\_work\\pyedb\\pyedb\\.venv\\lib\\site-packages\\ipykernel\\kernelapp.py\", line 739, in start\n",
      "    self.io_loop.start()\n",
      "  File \"C:\\actions-runner\\_work\\pyedb\\pyedb\\.venv\\lib\\site-packages\\tornado\\platform\\asyncio.py\", line 205, in start\n",
      "    self.asyncio_loop.run_forever()\n",
      "  File \"C:\\actions-runner\\_work\\_tool\\Python\\3.10.11\\x64\\lib\\asyncio\\base_events.py\", line 603, in run_forever\n",
      "    self._run_once()\n",
      "  File \"C:\\actions-runner\\_work\\_tool\\Python\\3.10.11\\x64\\lib\\asyncio\\base_events.py\", line 1909, in _run_once\n",
      "    handle._run()\n",
      "  File \"C:\\actions-runner\\_work\\_tool\\Python\\3.10.11\\x64\\lib\\asyncio\\events.py\", line 80, in _run\n",
      "    self._context.run(self._callback, *self._args)\n",
      "  File \"C:\\actions-runner\\_work\\pyedb\\pyedb\\.venv\\lib\\site-packages\\ipykernel\\kernelbase.py\", line 545, in dispatch_queue\n",
      "    await self.process_one()\n",
      "  File \"C:\\actions-runner\\_work\\pyedb\\pyedb\\.venv\\lib\\site-packages\\ipykernel\\kernelbase.py\", line 534, in process_one\n",
      "    await dispatch(*args)\n",
      "  File \"C:\\actions-runner\\_work\\pyedb\\pyedb\\.venv\\lib\\site-packages\\ipykernel\\kernelbase.py\", line 437, in dispatch_shell\n",
      "    await result\n",
      "  File \"C:\\actions-runner\\_work\\pyedb\\pyedb\\.venv\\lib\\site-packages\\ipykernel\\ipkernel.py\", line 362, in execute_request\n",
      "    await super().execute_request(stream, ident, parent)\n",
      "  File \"C:\\actions-runner\\_work\\pyedb\\pyedb\\.venv\\lib\\site-packages\\ipykernel\\kernelbase.py\", line 778, in execute_request\n",
      "    reply_content = await reply_content\n",
      "  File \"C:\\actions-runner\\_work\\pyedb\\pyedb\\.venv\\lib\\site-packages\\ipykernel\\ipkernel.py\", line 449, in do_execute\n",
      "    res = shell.run_cell(\n",
      "  File \"C:\\actions-runner\\_work\\pyedb\\pyedb\\.venv\\lib\\site-packages\\ipykernel\\zmqshell.py\", line 549, in run_cell\n",
      "    return super().run_cell(*args, **kwargs)\n",
      "  File \"C:\\actions-runner\\_work\\pyedb\\pyedb\\.venv\\lib\\site-packages\\IPython\\core\\interactiveshell.py\", line 3075, in run_cell\n",
      "    result = self._run_cell(\n",
      "  File \"C:\\actions-runner\\_work\\pyedb\\pyedb\\.venv\\lib\\site-packages\\IPython\\core\\interactiveshell.py\", line 3130, in _run_cell\n",
      "    result = runner(coro)\n",
      "  File \"C:\\actions-runner\\_work\\pyedb\\pyedb\\.venv\\lib\\site-packages\\IPython\\core\\async_helpers.py\", line 128, in _pseudo_sync_runner\n",
      "    coro.send(None)\n",
      "  File \"C:\\actions-runner\\_work\\pyedb\\pyedb\\.venv\\lib\\site-packages\\IPython\\core\\interactiveshell.py\", line 3334, in run_cell_async\n",
      "    has_raised = await self.run_ast_nodes(code_ast.body, cell_name,\n",
      "  File \"C:\\actions-runner\\_work\\pyedb\\pyedb\\.venv\\lib\\site-packages\\IPython\\core\\interactiveshell.py\", line 3517, in run_ast_nodes\n",
      "    if await self.run_code(code, result, async_=asy):\n",
      "  File \"C:\\actions-runner\\_work\\pyedb\\pyedb\\.venv\\lib\\site-packages\\IPython\\core\\interactiveshell.py\", line 3577, in run_code\n",
      "    exec(code_obj, self.user_global_ns, self.user_ns)\n",
      "  File \"C:\\Users\\ansys\\AppData\\Local\\Temp\\ipykernel_8144\\4169137817.py\", line 5, in <module>\n",
      "    edb = pyedb.Edb(gds_out, edbversion=edb_version, technology_file=os.path.join(temp_dir.name, \"output.xml\"))\n",
      "  File \"C:\\actions-runner\\_work\\pyedb\\pyedb\\.venv\\lib\\site-packages\\pyedb\\generic\\design_types.py\", line 110, in Edb\n",
      "    return app(\n",
      "  File \"C:\\actions-runner\\_work\\pyedb\\pyedb\\.venv\\lib\\site-packages\\pyedb\\dotnet\\edb.py\", line 261, in __init__\n",
      "    self.logger.info(\"EDB %s was created correctly from %s file.\", self.edbpath, edbpath[-2:])\n",
      "  File \"C:\\actions-runner\\_work\\pyedb\\pyedb\\.venv\\lib\\site-packages\\pyedb\\edb_logger.py\", line 346, in info\n",
      "    return self._log_on_handler(0, msg, *args, **kwargs)\n",
      "  File \"C:\\actions-runner\\_work\\pyedb\\pyedb\\.venv\\lib\\site-packages\\pyedb\\edb_logger.py\", line 293, in _log_on_handler\n",
      "    self._global.info(message_text, *args, **kwargs)\n",
      "Message: 'EDB %s was created correctly from %s file.'\n",
      "Arguments: ('C:\\\\Users\\\\ansys\\\\AppData\\\\Local\\\\Temp\\\\tmpko0or_14.ansys\\\\gds_out.aedb', 'ds')\n",
      "--- Logging error ---\n",
      "Traceback (most recent call last):\n",
      "  File \"C:\\actions-runner\\_work\\_tool\\Python\\3.10.11\\x64\\lib\\logging\\handlers.py\", line 74, in emit\n",
      "    self.doRollover()\n",
      "  File \"C:\\actions-runner\\_work\\_tool\\Python\\3.10.11\\x64\\lib\\logging\\handlers.py\", line 179, in doRollover\n",
      "    self.rotate(self.baseFilename, dfn)\n",
      "  File \"C:\\actions-runner\\_work\\_tool\\Python\\3.10.11\\x64\\lib\\logging\\handlers.py\", line 115, in rotate\n",
      "    os.rename(source, dest)\n",
      "PermissionError: [WinError 32] The process cannot access the file because it is being used by another process: 'C:\\\\Users\\\\ansys\\\\AppData\\\\Local\\\\Temp\\\\pyedb_ansys.log' -> 'C:\\\\Users\\\\ansys\\\\AppData\\\\Local\\\\Temp\\\\pyedb_ansys.log.1'\n",
      "Call stack:\n",
      "  File \"C:\\actions-runner\\_work\\_tool\\Python\\3.10.11\\x64\\lib\\runpy.py\", line 196, in _run_module_as_main\n",
      "    return _run_code(code, main_globals, None,\n",
      "  File \"C:\\actions-runner\\_work\\_tool\\Python\\3.10.11\\x64\\lib\\runpy.py\", line 86, in _run_code\n",
      "    exec(code, run_globals)\n",
      "  File \"C:\\actions-runner\\_work\\pyedb\\pyedb\\.venv\\lib\\site-packages\\ipykernel_launcher.py\", line 18, in <module>\n",
      "    app.launch_new_instance()\n",
      "  File \"C:\\actions-runner\\_work\\pyedb\\pyedb\\.venv\\lib\\site-packages\\traitlets\\config\\application.py\", line 1075, in launch_instance\n",
      "    app.start()\n",
      "  File \"C:\\actions-runner\\_work\\pyedb\\pyedb\\.venv\\lib\\site-packages\\ipykernel\\kernelapp.py\", line 739, in start\n",
      "    self.io_loop.start()\n",
      "  File \"C:\\actions-runner\\_work\\pyedb\\pyedb\\.venv\\lib\\site-packages\\tornado\\platform\\asyncio.py\", line 205, in start\n",
      "    self.asyncio_loop.run_forever()\n",
      "  File \"C:\\actions-runner\\_work\\_tool\\Python\\3.10.11\\x64\\lib\\asyncio\\base_events.py\", line 603, in run_forever\n",
      "    self._run_once()\n",
      "  File \"C:\\actions-runner\\_work\\_tool\\Python\\3.10.11\\x64\\lib\\asyncio\\base_events.py\", line 1909, in _run_once\n",
      "    handle._run()\n",
      "  File \"C:\\actions-runner\\_work\\_tool\\Python\\3.10.11\\x64\\lib\\asyncio\\events.py\", line 80, in _run\n",
      "    self._context.run(self._callback, *self._args)\n",
      "  File \"C:\\actions-runner\\_work\\pyedb\\pyedb\\.venv\\lib\\site-packages\\ipykernel\\kernelbase.py\", line 545, in dispatch_queue\n",
      "    await self.process_one()\n",
      "  File \"C:\\actions-runner\\_work\\pyedb\\pyedb\\.venv\\lib\\site-packages\\ipykernel\\kernelbase.py\", line 534, in process_one\n",
      "    await dispatch(*args)\n",
      "  File \"C:\\actions-runner\\_work\\pyedb\\pyedb\\.venv\\lib\\site-packages\\ipykernel\\kernelbase.py\", line 437, in dispatch_shell\n",
      "    await result\n",
      "  File \"C:\\actions-runner\\_work\\pyedb\\pyedb\\.venv\\lib\\site-packages\\ipykernel\\ipkernel.py\", line 362, in execute_request\n",
      "    await super().execute_request(stream, ident, parent)\n",
      "  File \"C:\\actions-runner\\_work\\pyedb\\pyedb\\.venv\\lib\\site-packages\\ipykernel\\kernelbase.py\", line 778, in execute_request\n",
      "    reply_content = await reply_content\n",
      "  File \"C:\\actions-runner\\_work\\pyedb\\pyedb\\.venv\\lib\\site-packages\\ipykernel\\ipkernel.py\", line 449, in do_execute\n",
      "    res = shell.run_cell(\n",
      "  File \"C:\\actions-runner\\_work\\pyedb\\pyedb\\.venv\\lib\\site-packages\\ipykernel\\zmqshell.py\", line 549, in run_cell\n",
      "    return super().run_cell(*args, **kwargs)\n",
      "  File \"C:\\actions-runner\\_work\\pyedb\\pyedb\\.venv\\lib\\site-packages\\IPython\\core\\interactiveshell.py\", line 3075, in run_cell\n",
      "    result = self._run_cell(\n",
      "  File \"C:\\actions-runner\\_work\\pyedb\\pyedb\\.venv\\lib\\site-packages\\IPython\\core\\interactiveshell.py\", line 3130, in _run_cell\n",
      "    result = runner(coro)\n",
      "  File \"C:\\actions-runner\\_work\\pyedb\\pyedb\\.venv\\lib\\site-packages\\IPython\\core\\async_helpers.py\", line 128, in _pseudo_sync_runner\n",
      "    coro.send(None)\n",
      "  File \"C:\\actions-runner\\_work\\pyedb\\pyedb\\.venv\\lib\\site-packages\\IPython\\core\\interactiveshell.py\", line 3334, in run_cell_async\n",
      "    has_raised = await self.run_ast_nodes(code_ast.body, cell_name,\n",
      "  File \"C:\\actions-runner\\_work\\pyedb\\pyedb\\.venv\\lib\\site-packages\\IPython\\core\\interactiveshell.py\", line 3517, in run_ast_nodes\n",
      "    if await self.run_code(code, result, async_=asy):\n",
      "  File \"C:\\actions-runner\\_work\\pyedb\\pyedb\\.venv\\lib\\site-packages\\IPython\\core\\interactiveshell.py\", line 3577, in run_code\n",
      "    exec(code_obj, self.user_global_ns, self.user_ns)\n",
      "  File \"C:\\Users\\ansys\\AppData\\Local\\Temp\\ipykernel_8144\\4169137817.py\", line 5, in <module>\n",
      "    edb = pyedb.Edb(gds_out, edbversion=edb_version, technology_file=os.path.join(temp_dir.name, \"output.xml\"))\n",
      "  File \"C:\\actions-runner\\_work\\pyedb\\pyedb\\.venv\\lib\\site-packages\\pyedb\\generic\\design_types.py\", line 110, in Edb\n",
      "    return app(\n",
      "  File \"C:\\actions-runner\\_work\\pyedb\\pyedb\\.venv\\lib\\site-packages\\pyedb\\dotnet\\edb.py\", line 278, in __init__\n",
      "    self.logger.info(\"EDB initialized.\")\n",
      "  File \"C:\\actions-runner\\_work\\pyedb\\pyedb\\.venv\\lib\\site-packages\\pyedb\\edb_logger.py\", line 346, in info\n",
      "    return self._log_on_handler(0, msg, *args, **kwargs)\n",
      "  File \"C:\\actions-runner\\_work\\pyedb\\pyedb\\.venv\\lib\\site-packages\\pyedb\\edb_logger.py\", line 293, in _log_on_handler\n",
      "    self._global.info(message_text, *args, **kwargs)\n",
      "Message: 'EDB initialized.'\n",
      "Arguments: ()\n"
     ]
    }
   ],
   "source": [
    "# Select EDB version (change it manually if needed, e.g. \"2024.2\")\n",
    "edb_version = \"2024.2\"\n",
    "print(f\"EDB version: {edb_version}\")\n",
    "\n",
    "edb = pyedb.Edb(gds_out, edbversion=edb_version, technology_file=os.path.join(temp_dir.name, \"output.xml\"))"
   ]
  },
  {
   "cell_type": "markdown",
   "id": "b5e1b9e4",
   "metadata": {},
   "source": [
    "## Plot stackup\n",
    "\n",
    "Plot the stackup."
   ]
  },
  {
   "cell_type": "code",
   "execution_count": 9,
   "id": "29d742c2",
   "metadata": {
    "execution": {
     "iopub.execute_input": "2025-01-22T08:52:39.386136Z",
     "iopub.status.busy": "2025-01-22T08:52:39.386136Z",
     "iopub.status.idle": "2025-01-22T08:52:39.526753Z",
     "shell.execute_reply": "2025-01-22T08:52:39.526753Z"
    }
   },
   "outputs": [
    {
     "name": "stderr",
     "output_type": "stream",
     "text": [
      "C:\\actions-runner\\_work\\pyedb\\pyedb\\.venv\\lib\\site-packages\\pyedb\\dotnet\\edb_core\\stackup.py:2868: UserWarning: FigureCanvasAgg is non-interactive, and thus cannot be shown\n",
      "  plt.show()\n"
     ]
    },
    {
     "data": {
      "text/plain": [
       "<module 'matplotlib.pyplot' from 'C:\\\\actions-runner\\\\_work\\\\pyedb\\\\pyedb\\\\.venv\\\\lib\\\\site-packages\\\\matplotlib\\\\pyplot.py'>"
      ]
     },
     "execution_count": 9,
     "metadata": {},
     "output_type": "execute_result"
    }
   ],
   "source": [
    "edb.stackup.plot(first_layer=\"met1\")"
   ]
  },
  {
   "cell_type": "markdown",
   "id": "9d105c80",
   "metadata": {},
   "source": [
    "## Close EDB\n",
    "\n",
    "Close the project."
   ]
  },
  {
   "cell_type": "code",
   "execution_count": 10,
   "id": "60dfcca6",
   "metadata": {
    "execution": {
     "iopub.execute_input": "2025-01-22T08:52:39.526753Z",
     "iopub.status.busy": "2025-01-22T08:52:39.526753Z",
     "iopub.status.idle": "2025-01-22T08:52:39.573637Z",
     "shell.execute_reply": "2025-01-22T08:52:39.573637Z"
    }
   },
   "outputs": [
    {
     "name": "stdout",
     "output_type": "stream",
     "text": [
      "PyEDB INFO: EDB file release time: 0.00ms\n"
     ]
    },
    {
     "name": "stderr",
     "output_type": "stream",
     "text": [
      "--- Logging error ---\n",
      "Traceback (most recent call last):\n",
      "  File \"C:\\actions-runner\\_work\\_tool\\Python\\3.10.11\\x64\\lib\\logging\\handlers.py\", line 74, in emit\n",
      "    self.doRollover()\n",
      "  File \"C:\\actions-runner\\_work\\_tool\\Python\\3.10.11\\x64\\lib\\logging\\handlers.py\", line 179, in doRollover\n",
      "    self.rotate(self.baseFilename, dfn)\n",
      "  File \"C:\\actions-runner\\_work\\_tool\\Python\\3.10.11\\x64\\lib\\logging\\handlers.py\", line 115, in rotate\n",
      "    os.rename(source, dest)\n",
      "PermissionError: [WinError 32] The process cannot access the file because it is being used by another process: 'C:\\\\Users\\\\ansys\\\\AppData\\\\Local\\\\Temp\\\\pyedb_ansys.log' -> 'C:\\\\Users\\\\ansys\\\\AppData\\\\Local\\\\Temp\\\\pyedb_ansys.log.1'\n",
      "Call stack:\n",
      "  File \"C:\\actions-runner\\_work\\_tool\\Python\\3.10.11\\x64\\lib\\runpy.py\", line 196, in _run_module_as_main\n",
      "    return _run_code(code, main_globals, None,\n",
      "  File \"C:\\actions-runner\\_work\\_tool\\Python\\3.10.11\\x64\\lib\\runpy.py\", line 86, in _run_code\n",
      "    exec(code, run_globals)\n",
      "  File \"C:\\actions-runner\\_work\\pyedb\\pyedb\\.venv\\lib\\site-packages\\ipykernel_launcher.py\", line 18, in <module>\n",
      "    app.launch_new_instance()\n",
      "  File \"C:\\actions-runner\\_work\\pyedb\\pyedb\\.venv\\lib\\site-packages\\traitlets\\config\\application.py\", line 1075, in launch_instance\n",
      "    app.start()\n",
      "  File \"C:\\actions-runner\\_work\\pyedb\\pyedb\\.venv\\lib\\site-packages\\ipykernel\\kernelapp.py\", line 739, in start\n",
      "    self.io_loop.start()\n",
      "  File \"C:\\actions-runner\\_work\\pyedb\\pyedb\\.venv\\lib\\site-packages\\tornado\\platform\\asyncio.py\", line 205, in start\n",
      "    self.asyncio_loop.run_forever()\n",
      "  File \"C:\\actions-runner\\_work\\_tool\\Python\\3.10.11\\x64\\lib\\asyncio\\base_events.py\", line 603, in run_forever\n",
      "    self._run_once()\n",
      "  File \"C:\\actions-runner\\_work\\_tool\\Python\\3.10.11\\x64\\lib\\asyncio\\base_events.py\", line 1909, in _run_once\n",
      "    handle._run()\n",
      "  File \"C:\\actions-runner\\_work\\_tool\\Python\\3.10.11\\x64\\lib\\asyncio\\events.py\", line 80, in _run\n",
      "    self._context.run(self._callback, *self._args)\n",
      "  File \"C:\\actions-runner\\_work\\pyedb\\pyedb\\.venv\\lib\\site-packages\\ipykernel\\kernelbase.py\", line 545, in dispatch_queue\n",
      "    await self.process_one()\n",
      "  File \"C:\\actions-runner\\_work\\pyedb\\pyedb\\.venv\\lib\\site-packages\\ipykernel\\kernelbase.py\", line 534, in process_one\n",
      "    await dispatch(*args)\n",
      "  File \"C:\\actions-runner\\_work\\pyedb\\pyedb\\.venv\\lib\\site-packages\\ipykernel\\kernelbase.py\", line 437, in dispatch_shell\n",
      "    await result\n",
      "  File \"C:\\actions-runner\\_work\\pyedb\\pyedb\\.venv\\lib\\site-packages\\ipykernel\\ipkernel.py\", line 362, in execute_request\n",
      "    await super().execute_request(stream, ident, parent)\n",
      "  File \"C:\\actions-runner\\_work\\pyedb\\pyedb\\.venv\\lib\\site-packages\\ipykernel\\kernelbase.py\", line 778, in execute_request\n",
      "    reply_content = await reply_content\n",
      "  File \"C:\\actions-runner\\_work\\pyedb\\pyedb\\.venv\\lib\\site-packages\\ipykernel\\ipkernel.py\", line 449, in do_execute\n",
      "    res = shell.run_cell(\n",
      "  File \"C:\\actions-runner\\_work\\pyedb\\pyedb\\.venv\\lib\\site-packages\\ipykernel\\zmqshell.py\", line 549, in run_cell\n",
      "    return super().run_cell(*args, **kwargs)\n",
      "  File \"C:\\actions-runner\\_work\\pyedb\\pyedb\\.venv\\lib\\site-packages\\IPython\\core\\interactiveshell.py\", line 3075, in run_cell\n",
      "    result = self._run_cell(\n",
      "  File \"C:\\actions-runner\\_work\\pyedb\\pyedb\\.venv\\lib\\site-packages\\IPython\\core\\interactiveshell.py\", line 3130, in _run_cell\n",
      "    result = runner(coro)\n",
      "  File \"C:\\actions-runner\\_work\\pyedb\\pyedb\\.venv\\lib\\site-packages\\IPython\\core\\async_helpers.py\", line 128, in _pseudo_sync_runner\n",
      "    coro.send(None)\n",
      "  File \"C:\\actions-runner\\_work\\pyedb\\pyedb\\.venv\\lib\\site-packages\\IPython\\core\\interactiveshell.py\", line 3334, in run_cell_async\n",
      "    has_raised = await self.run_ast_nodes(code_ast.body, cell_name,\n",
      "  File \"C:\\actions-runner\\_work\\pyedb\\pyedb\\.venv\\lib\\site-packages\\IPython\\core\\interactiveshell.py\", line 3517, in run_ast_nodes\n",
      "    if await self.run_code(code, result, async_=asy):\n",
      "  File \"C:\\actions-runner\\_work\\pyedb\\pyedb\\.venv\\lib\\site-packages\\IPython\\core\\interactiveshell.py\", line 3577, in run_code\n",
      "    exec(code_obj, self.user_global_ns, self.user_ns)\n",
      "  File \"C:\\Users\\ansys\\AppData\\Local\\Temp\\ipykernel_8144\\3588321624.py\", line 1, in <module>\n",
      "    edb.close_edb()\n",
      "  File \"C:\\actions-runner\\_work\\pyedb\\pyedb\\.venv\\lib\\site-packages\\pyedb\\dotnet\\edb.py\", line 1357, in close_edb\n",
      "    self.logger.info(\"EDB file release time: {0:.2f}ms\".format(elapsed_time * 1000.0))\n",
      "  File \"C:\\actions-runner\\_work\\pyedb\\pyedb\\.venv\\lib\\site-packages\\pyedb\\edb_logger.py\", line 346, in info\n",
      "    return self._log_on_handler(0, msg, *args, **kwargs)\n",
      "  File \"C:\\actions-runner\\_work\\pyedb\\pyedb\\.venv\\lib\\site-packages\\pyedb\\edb_logger.py\", line 293, in _log_on_handler\n",
      "    self._global.info(message_text, *args, **kwargs)\n",
      "Message: 'EDB file release time: 0.00ms'\n",
      "Arguments: ()\n"
     ]
    },
    {
     "data": {
      "text/plain": [
       "True"
      ]
     },
     "execution_count": 10,
     "metadata": {},
     "output_type": "execute_result"
    }
   ],
   "source": [
    "edb.close_edb()"
   ]
  },
  {
   "cell_type": "markdown",
   "id": "e25d5fd0",
   "metadata": {},
   "source": [
    "Clean up the temporary folder."
   ]
  },
  {
   "cell_type": "code",
   "execution_count": 11,
   "id": "7d2311eb",
   "metadata": {
    "execution": {
     "iopub.execute_input": "2025-01-22T08:52:39.573637Z",
     "iopub.status.busy": "2025-01-22T08:52:39.573637Z",
     "iopub.status.idle": "2025-01-22T08:52:39.589254Z",
     "shell.execute_reply": "2025-01-22T08:52:39.589254Z"
    }
   },
   "outputs": [],
   "source": [
    "temp_dir.cleanup()"
   ]
  }
 ],
 "metadata": {
  "jupytext": {
   "cell_metadata_filter": "-all",
   "main_language": "python",
   "notebook_metadata_filter": "-all",
   "text_representation": {
    "extension": ".py",
    "format_name": "light"
   }
  },
  "language_info": {
   "codemirror_mode": {
    "name": "ipython",
    "version": 3
   },
   "file_extension": ".py",
   "mimetype": "text/x-python",
   "name": "python",
   "nbconvert_exporter": "python",
   "pygments_lexer": "ipython3",
   "version": "3.10.11"
  }
 },
 "nbformat": 4,
 "nbformat_minor": 5
}
