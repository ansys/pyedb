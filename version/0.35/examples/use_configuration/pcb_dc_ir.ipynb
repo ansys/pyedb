{
 "cells": [
  {
   "cell_type": "markdown",
   "id": "dce5f568",
   "metadata": {},
   "source": [
    "# Set up EDB for PCB DC IR Analysis\n",
    "This example shows how to set up the electronics database (EDB) for DC IR analysis from a single\n",
    "configuration file."
   ]
  },
  {
   "cell_type": "markdown",
   "id": "a19d8866",
   "metadata": {},
   "source": [
    "## Import the required packages"
   ]
  },
  {
   "cell_type": "code",
   "execution_count": 1,
   "id": "91169d8c",
   "metadata": {
    "execution": {
     "iopub.execute_input": "2025-01-22T08:57:21.821848Z",
     "iopub.status.busy": "2025-01-22T08:57:21.821848Z",
     "iopub.status.idle": "2025-01-22T08:57:22.306254Z",
     "shell.execute_reply": "2025-01-22T08:57:22.306254Z"
    }
   },
   "outputs": [],
   "source": [
    "import json\n",
    "import os\n",
    "import tempfile\n",
    "\n",
    "from ansys.aedt.core import Hfss3dLayout, Icepak\n",
    "from ansys.aedt.core.downloads import download_file\n",
    "\n",
    "from pyedb import Edb\n",
    "\n",
    "AEDT_VERSION = \"2024.2\"\n",
    "NG_MODE = False\n"
   ]
  },
  {
   "cell_type": "markdown",
   "id": "6f7f1707",
   "metadata": {},
   "source": [
    "Download the example PCB data."
   ]
  },
  {
   "cell_type": "code",
   "execution_count": 2,
   "id": "49f1a14b",
   "metadata": {
    "execution": {
     "iopub.execute_input": "2025-01-22T08:57:22.306254Z",
     "iopub.status.busy": "2025-01-22T08:57:22.306254Z",
     "iopub.status.idle": "2025-01-22T08:57:24.128991Z",
     "shell.execute_reply": "2025-01-22T08:57:24.128991Z"
    }
   },
   "outputs": [],
   "source": [
    "temp_folder = tempfile.TemporaryDirectory(suffix=\".ansys\")\n",
    "file_edb = download_file(source=\"edb/ANSYS-HSD_V1.aedb\", destination=temp_folder.name)"
   ]
  },
  {
   "cell_type": "markdown",
   "id": "407df337",
   "metadata": {},
   "source": [
    "## Load example layout"
   ]
  },
  {
   "cell_type": "code",
   "execution_count": 3,
   "id": "e6d916a8",
   "metadata": {
    "execution": {
     "iopub.execute_input": "2025-01-22T08:57:24.128991Z",
     "iopub.status.busy": "2025-01-22T08:57:24.128991Z",
     "iopub.status.idle": "2025-01-22T08:57:37.028506Z",
     "shell.execute_reply": "2025-01-22T08:57:37.028506Z"
    }
   },
   "outputs": [
    {
     "name": "stdout",
     "output_type": "stream",
     "text": [
      "PyAEDT INFO: Logger is initialized in EDB.\n"
     ]
    },
    {
     "name": "stdout",
     "output_type": "stream",
     "text": [
      "PyAEDT INFO: legacy v0.35.0\n"
     ]
    },
    {
     "name": "stdout",
     "output_type": "stream",
     "text": [
      "PyAEDT INFO: Python version 3.10.11 (tags/v3.10.11:7d4cc5a, Apr  5 2023, 00:38:17) [MSC v.1929 64 bit (AMD64)]\n"
     ]
    },
    {
     "name": "stdout",
     "output_type": "stream",
     "text": [
      "PyAEDT INFO: Database ANSYS-HSD_V1.aedb Opened in 2024.2\n"
     ]
    },
    {
     "name": "stdout",
     "output_type": "stream",
     "text": [
      "PyAEDT INFO: Cell main Opened\n"
     ]
    },
    {
     "name": "stdout",
     "output_type": "stream",
     "text": [
      "PyAEDT INFO: Builder was initialized.\n"
     ]
    },
    {
     "name": "stdout",
     "output_type": "stream",
     "text": [
      "PyAEDT INFO: EDB initialized.\n"
     ]
    }
   ],
   "source": [
    "edbapp = Edb(file_edb, edbversion=AEDT_VERSION)"
   ]
  },
  {
   "cell_type": "markdown",
   "id": "da99a45b",
   "metadata": {},
   "source": [
    "## Create an empty dictionary to host all configurations"
   ]
  },
  {
   "cell_type": "code",
   "execution_count": 4,
   "id": "73a885a4",
   "metadata": {
    "execution": {
     "iopub.execute_input": "2025-01-22T08:57:37.028506Z",
     "iopub.status.busy": "2025-01-22T08:57:37.028506Z",
     "iopub.status.idle": "2025-01-22T08:57:37.044106Z",
     "shell.execute_reply": "2025-01-22T08:57:37.044106Z"
    }
   },
   "outputs": [],
   "source": [
    "cfg = dict()\n",
    "cfg[\"sources\"] = []"
   ]
  },
  {
   "cell_type": "markdown",
   "id": "4df0686d",
   "metadata": {},
   "source": [
    "## Update stackup"
   ]
  },
  {
   "cell_type": "code",
   "execution_count": 5,
   "id": "36bc3fe1",
   "metadata": {
    "execution": {
     "iopub.execute_input": "2025-01-22T08:57:37.044106Z",
     "iopub.status.busy": "2025-01-22T08:57:37.044106Z",
     "iopub.status.idle": "2025-01-22T08:57:37.059749Z",
     "shell.execute_reply": "2025-01-22T08:57:37.059749Z"
    }
   },
   "outputs": [],
   "source": [
    "cfg[\"stackup\"] = {\n",
    "    \"layers\": [\n",
    "        {\"name\": \"Top\", \"type\": \"signal\", \"material\": \"copper\", \"fill_material\": \"FR4_epoxy\", \"thickness\": \"0.035mm\"},\n",
    "        {\"name\": \"DE1\", \"type\": \"dielectric\", \"material\": \"FR4_epoxy\", \"fill_material\": \"\", \"thickness\": \"0.1mm\"},\n",
    "        {\n",
    "            \"name\": \"Inner1\",\n",
    "            \"type\": \"signal\",\n",
    "            \"material\": \"copper\",\n",
    "            \"fill_material\": \"FR4_epoxy\",\n",
    "            \"thickness\": \"0.017mm\",\n",
    "        },\n",
    "        {\"name\": \"DE2\", \"type\": \"dielectric\", \"material\": \"FR4_epoxy\", \"fill_material\": \"\", \"thickness\": \"0.088mm\"},\n",
    "        {\n",
    "            \"name\": \"Inner2\",\n",
    "            \"type\": \"signal\",\n",
    "            \"material\": \"copper\",\n",
    "            \"fill_material\": \"FR4_epoxy\",\n",
    "            \"thickness\": \"0.017mm\",\n",
    "        },\n",
    "        {\"name\": \"DE3\", \"type\": \"dielectric\", \"material\": \"FR4_epoxy\", \"fill_material\": \"\", \"thickness\": \"0.1mm\"},\n",
    "        {\n",
    "            \"name\": \"Inner3\",\n",
    "            \"type\": \"signal\",\n",
    "            \"material\": \"copper\",\n",
    "            \"fill_material\": \"FR4_epoxy\",\n",
    "            \"thickness\": \"0.017mm\",\n",
    "        },\n",
    "        {\n",
    "            \"name\": \"FR4_epoxy-1mm\",\n",
    "            \"type\": \"dielectric\",\n",
    "            \"material\": \"FR4_epoxy\",\n",
    "            \"fill_material\": \"\",\n",
    "            \"thickness\": \"1mm\",\n",
    "        },\n",
    "        {\n",
    "            \"name\": \"Inner4\",\n",
    "            \"type\": \"signal\",\n",
    "            \"material\": \"copper\",\n",
    "            \"fill_material\": \"FR4_epoxy\",\n",
    "            \"thickness\": \"0.017mm\",\n",
    "        },\n",
    "        {\"name\": \"DE5\", \"type\": \"dielectric\", \"material\": \"FR4_epoxy\", \"fill_material\": \"\", \"thickness\": \"0.1mm\"},\n",
    "        {\n",
    "            \"name\": \"Inner5\",\n",
    "            \"type\": \"signal\",\n",
    "            \"material\": \"copper\",\n",
    "            \"fill_material\": \"FR4_epoxy\",\n",
    "            \"thickness\": \"0.017mm\",\n",
    "        },\n",
    "        {\"name\": \"DE6\", \"type\": \"dielectric\", \"material\": \"FR4_epoxy\", \"fill_material\": \"\", \"thickness\": \"0.088mm\"},\n",
    "        {\n",
    "            \"name\": \"Inner6\",\n",
    "            \"type\": \"signal\",\n",
    "            \"material\": \"copper\",\n",
    "            \"fill_material\": \"FR4_epoxy\",\n",
    "            \"thickness\": \"0.017mm\",\n",
    "        },\n",
    "        {\"name\": \"DE7\", \"type\": \"dielectric\", \"material\": \"FR4_epoxy\", \"fill_material\": \"\", \"thickness\": \"0.1mm\"},\n",
    "        {\n",
    "            \"name\": \"Bottom\",\n",
    "            \"type\": \"signal\",\n",
    "            \"material\": \"copper\",\n",
    "            \"fill_material\": \"FR4_epoxy\",\n",
    "            \"thickness\": \"0.035mm\",\n",
    "        },\n",
    "    ]\n",
    "}"
   ]
  },
  {
   "cell_type": "markdown",
   "id": "13aa25a2",
   "metadata": {},
   "source": [
    "## Define voltage source"
   ]
  },
  {
   "cell_type": "code",
   "execution_count": 6,
   "id": "3109e8f3",
   "metadata": {
    "execution": {
     "iopub.execute_input": "2025-01-22T08:57:37.059749Z",
     "iopub.status.busy": "2025-01-22T08:57:37.059749Z",
     "iopub.status.idle": "2025-01-22T08:57:37.075357Z",
     "shell.execute_reply": "2025-01-22T08:57:37.075357Z"
    }
   },
   "outputs": [],
   "source": [
    "cfg[\"sources\"].append(\n",
    "    {\n",
    "        \"name\": \"vrm\",\n",
    "        \"reference_designator\": \"U2\",\n",
    "        \"type\": \"voltage\",\n",
    "        \"magnitude\": 1,\n",
    "        \"positive_terminal\": {\"net\": \"1V0\"},\n",
    "        \"negative_terminal\": {\"net\": \"GND\"},\n",
    "    }\n",
    ")"
   ]
  },
  {
   "cell_type": "markdown",
   "id": "1779fe99",
   "metadata": {},
   "source": [
    "## Define current source"
   ]
  },
  {
   "cell_type": "code",
   "execution_count": 7,
   "id": "011a54f3",
   "metadata": {
    "execution": {
     "iopub.execute_input": "2025-01-22T08:57:37.075357Z",
     "iopub.status.busy": "2025-01-22T08:57:37.075357Z",
     "iopub.status.idle": "2025-01-22T08:57:37.090927Z",
     "shell.execute_reply": "2025-01-22T08:57:37.090927Z"
    }
   },
   "outputs": [],
   "source": [
    "cfg[\"sources\"].append(\n",
    "    {\n",
    "        \"name\": \"U1_1V0\",\n",
    "        \"reference_designator\": \"U1\",\n",
    "        \"type\": \"current\",\n",
    "        \"magnitude\": 10,\n",
    "        \"positive_terminal\": {\"net\": \"1V0\"},\n",
    "        \"negative_terminal\": {\"net\": \"GND\"},\n",
    "    }\n",
    ")"
   ]
  },
  {
   "cell_type": "markdown",
   "id": "366fc087",
   "metadata": {},
   "source": [
    "## Define SIwave DC IR analysis setup"
   ]
  },
  {
   "cell_type": "code",
   "execution_count": 8,
   "id": "892e2afc",
   "metadata": {
    "execution": {
     "iopub.execute_input": "2025-01-22T08:57:37.090927Z",
     "iopub.status.busy": "2025-01-22T08:57:37.090927Z",
     "iopub.status.idle": "2025-01-22T08:57:37.106606Z",
     "shell.execute_reply": "2025-01-22T08:57:37.106606Z"
    }
   },
   "outputs": [],
   "source": [
    "cfg[\"setups\"] = [\n",
    "    {\n",
    "        \"name\": \"siwave_1\",\n",
    "        \"type\": \"siwave_dc\",\n",
    "        \"dc_slider_position\": 1,\n",
    "        \"dc_ir_settings\": {\"export_dc_thermal_data\": True},\n",
    "    }\n",
    "]"
   ]
  },
  {
   "cell_type": "markdown",
   "id": "9313eaca",
   "metadata": {},
   "source": [
    "## Define Cutout"
   ]
  },
  {
   "cell_type": "code",
   "execution_count": 9,
   "id": "f4a942d0",
   "metadata": {
    "execution": {
     "iopub.execute_input": "2025-01-22T08:57:37.106606Z",
     "iopub.status.busy": "2025-01-22T08:57:37.106606Z",
     "iopub.status.idle": "2025-01-22T08:57:37.122228Z",
     "shell.execute_reply": "2025-01-22T08:57:37.122228Z"
    }
   },
   "outputs": [],
   "source": [
    "cfg[\"operations\"] = {\n",
    "    \"cutout\": {\"signal_list\": [\"1V0\"], \"reference_list\": [\"GND\"], \"extent_type\": \"ConvexHull\", \"expansion_size\": \"20mm\"}\n",
    "}"
   ]
  },
  {
   "cell_type": "markdown",
   "id": "eb93ed71",
   "metadata": {},
   "source": [
    "## Define package for thermal analysis (optional)"
   ]
  },
  {
   "cell_type": "code",
   "execution_count": 10,
   "id": "28e3620e",
   "metadata": {
    "execution": {
     "iopub.execute_input": "2025-01-22T08:57:37.122228Z",
     "iopub.status.busy": "2025-01-22T08:57:37.122228Z",
     "iopub.status.idle": "2025-01-22T08:57:37.137870Z",
     "shell.execute_reply": "2025-01-22T08:57:37.137870Z"
    }
   },
   "outputs": [],
   "source": [
    "cfg[\"package_definitions\"] = [\n",
    "    {\n",
    "        \"name\": \"package_1\",\n",
    "        \"component_definition\": \"ALTR-FBGA1517-Ansys\",\n",
    "        \"maximum_power\": 0.5,\n",
    "        \"therm_cond\": 2,\n",
    "        \"theta_jb\": 3,\n",
    "        \"theta_jc\": 4,\n",
    "        \"height\": \"1mm\",\n",
    "        \"apply_to_all\": False,\n",
    "        \"components\": [\"U1\"],\n",
    "    },\n",
    "]"
   ]
  },
  {
   "cell_type": "markdown",
   "id": "745a6c6e",
   "metadata": {},
   "source": [
    "## Write configuration into a JSON file"
   ]
  },
  {
   "cell_type": "code",
   "execution_count": 11,
   "id": "4d546bde",
   "metadata": {
    "execution": {
     "iopub.execute_input": "2025-01-22T08:57:37.137870Z",
     "iopub.status.busy": "2025-01-22T08:57:37.137870Z",
     "iopub.status.idle": "2025-01-22T08:57:37.153480Z",
     "shell.execute_reply": "2025-01-22T08:57:37.153480Z"
    }
   },
   "outputs": [],
   "source": [
    "file_json = os.path.join(temp_folder.name, \"edb_configuration.json\")\n",
    "with open(file_json, \"w\") as f:\n",
    "    json.dump(cfg, f, indent=4, ensure_ascii=False)"
   ]
  },
  {
   "cell_type": "markdown",
   "id": "0f6574b6",
   "metadata": {},
   "source": [
    "## Import configuration into example layout"
   ]
  },
  {
   "cell_type": "code",
   "execution_count": 12,
   "id": "2f1e3bfc",
   "metadata": {
    "execution": {
     "iopub.execute_input": "2025-01-22T08:57:37.153480Z",
     "iopub.status.busy": "2025-01-22T08:57:37.153480Z",
     "iopub.status.idle": "2025-01-22T08:57:37.184732Z",
     "shell.execute_reply": "2025-01-22T08:57:37.184732Z"
    }
   },
   "outputs": [
    {
     "data": {
      "text/plain": [
       "<pyedb.configuration.cfg_data.CfgData at 0x18d6ad14880>"
      ]
     },
     "execution_count": 12,
     "metadata": {},
     "output_type": "execute_result"
    }
   ],
   "source": [
    "edbapp.configuration.load(config_file=file_json)"
   ]
  },
  {
   "cell_type": "markdown",
   "id": "43af5074",
   "metadata": {},
   "source": [
    "Apply configuration to EDB."
   ]
  },
  {
   "cell_type": "code",
   "execution_count": 13,
   "id": "2fff99aa",
   "metadata": {
    "execution": {
     "iopub.execute_input": "2025-01-22T08:57:37.184732Z",
     "iopub.status.busy": "2025-01-22T08:57:37.184732Z",
     "iopub.status.idle": "2025-01-22T08:57:50.935711Z",
     "shell.execute_reply": "2025-01-22T08:57:50.935711Z"
    }
   },
   "outputs": [
    {
     "name": "stdout",
     "output_type": "stream",
     "text": [
      "PyAEDT INFO: Cutout Multithread started.\n"
     ]
    },
    {
     "name": "stdout",
     "output_type": "stream",
     "text": [
      "PyAEDT INFO: Net clean up Elapsed time: 0m 2sec\n"
     ]
    },
    {
     "name": "stdout",
     "output_type": "stream",
     "text": [
      "PyAEDT INFO: Extent Creation Elapsed time: 0m 0sec\n"
     ]
    },
    {
     "name": "stdout",
     "output_type": "stream",
     "text": [
      "PyAEDT INFO: 533 Padstack Instances deleted. Elapsed time: 0m 1sec\n"
     ]
    },
    {
     "name": "stdout",
     "output_type": "stream",
     "text": [
      "PyAEDT INFO: 105 Primitives deleted. Elapsed time: 0m 2sec\n"
     ]
    },
    {
     "name": "stdout",
     "output_type": "stream",
     "text": [
      "PyAEDT INFO: 470 components deleted\n"
     ]
    },
    {
     "name": "stdout",
     "output_type": "stream",
     "text": [
      "PyAEDT INFO: Cutout completed. Elapsed time: 0m 5sec\n"
     ]
    },
    {
     "data": {
      "text/plain": [
       "True"
      ]
     },
     "execution_count": 13,
     "metadata": {},
     "output_type": "execute_result"
    }
   ],
   "source": [
    "edbapp.configuration.run()"
   ]
  },
  {
   "cell_type": "markdown",
   "id": "afcdb176",
   "metadata": {},
   "source": [
    "Save and close EDB."
   ]
  },
  {
   "cell_type": "code",
   "execution_count": 14,
   "id": "d163d8c2",
   "metadata": {
    "execution": {
     "iopub.execute_input": "2025-01-22T08:57:50.935711Z",
     "iopub.status.busy": "2025-01-22T08:57:50.935711Z",
     "iopub.status.idle": "2025-01-22T08:57:51.185737Z",
     "shell.execute_reply": "2025-01-22T08:57:51.185737Z"
    }
   },
   "outputs": [
    {
     "data": {
      "text/plain": [
       "True"
      ]
     },
     "execution_count": 14,
     "metadata": {},
     "output_type": "execute_result"
    }
   ],
   "source": [
    "edbapp.save()\n",
    "edbapp.close()"
   ]
  },
  {
   "cell_type": "markdown",
   "id": "68feaad5",
   "metadata": {},
   "source": [
    "The configured EDB file is saved in a temp folder."
   ]
  },
  {
   "cell_type": "code",
   "execution_count": 15,
   "id": "165a820b",
   "metadata": {
    "execution": {
     "iopub.execute_input": "2025-01-22T08:57:51.185737Z",
     "iopub.status.busy": "2025-01-22T08:57:51.185737Z",
     "iopub.status.idle": "2025-01-22T08:57:51.201336Z",
     "shell.execute_reply": "2025-01-22T08:57:51.201336Z"
    }
   },
   "outputs": [
    {
     "name": "stdout",
     "output_type": "stream",
     "text": [
      "C:\\Users\\ansys\\AppData\\Local\\Temp\\tmp7lpd2cqa.ansys\n"
     ]
    }
   ],
   "source": [
    "print(temp_folder.name)"
   ]
  },
  {
   "cell_type": "markdown",
   "id": "99896eaf",
   "metadata": {},
   "source": [
    "## Load edb into HFSS 3D Layout."
   ]
  },
  {
   "cell_type": "code",
   "execution_count": 16,
   "id": "b36958cb",
   "metadata": {
    "execution": {
     "iopub.execute_input": "2025-01-22T08:57:51.201336Z",
     "iopub.status.busy": "2025-01-22T08:57:51.201336Z",
     "iopub.status.idle": "2025-01-22T08:58:13.010506Z",
     "shell.execute_reply": "2025-01-22T08:58:13.010506Z"
    }
   },
   "outputs": [
    {
     "name": "stdout",
     "output_type": "stream",
     "text": [
      "PyAEDT INFO: Python version 3.10.11 (tags/v3.10.11:7d4cc5a, Apr  5 2023, 00:38:17) [MSC v.1929 64 bit (AMD64)]\n"
     ]
    },
    {
     "name": "stdout",
     "output_type": "stream",
     "text": [
      "PyAEDT INFO: PyAEDT version 0.14.dev0.\n"
     ]
    },
    {
     "name": "stdout",
     "output_type": "stream",
     "text": [
      "PyAEDT INFO: Initializing new Desktop session.\n"
     ]
    },
    {
     "name": "stdout",
     "output_type": "stream",
     "text": [
      "PyAEDT INFO: Log on console is enabled.\n"
     ]
    },
    {
     "name": "stdout",
     "output_type": "stream",
     "text": [
      "PyAEDT INFO: Log on file C:\\Users\\ansys\\AppData\\Local\\Temp\\pyaedt_ansys_1b6e2079-1936-4396-9384-6e6b4b1ce97b.log is enabled.\n"
     ]
    },
    {
     "name": "stdout",
     "output_type": "stream",
     "text": [
      "PyAEDT INFO: Log on AEDT is enabled.\n"
     ]
    },
    {
     "name": "stdout",
     "output_type": "stream",
     "text": [
      "PyAEDT INFO: Debug logger is disabled. PyAEDT methods will not be logged.\n"
     ]
    },
    {
     "name": "stdout",
     "output_type": "stream",
     "text": [
      "PyAEDT INFO: Launching PyAEDT with gRPC plugin.\n"
     ]
    },
    {
     "name": "stdout",
     "output_type": "stream",
     "text": [
      "PyAEDT INFO: New AEDT session is starting on gRPC port 65457\n"
     ]
    },
    {
     "name": "stdout",
     "output_type": "stream",
     "text": [
      "PyAEDT INFO: AEDT installation Path C:\\Program Files\\AnsysEM\\v242\\Win64\n"
     ]
    },
    {
     "name": "stdout",
     "output_type": "stream",
     "text": [
      "PyAEDT INFO: Ansoft.ElectronicsDesktop.2024.2 version started with process ID 11084.\n"
     ]
    },
    {
     "name": "stdout",
     "output_type": "stream",
     "text": [
      "PyAEDT INFO: EDB folder C:\\Users\\ansys\\AppData\\Local\\Temp\\tmp7lpd2cqa.ansys\\edb/ANSYS-HSD_V1.aedb has been imported to project ANSYS-HSD_V1\n"
     ]
    },
    {
     "name": "stdout",
     "output_type": "stream",
     "text": [
      "PyAEDT INFO: Active Design set to 0;main\n"
     ]
    },
    {
     "name": "stdout",
     "output_type": "stream",
     "text": [
      "PyAEDT INFO: Aedt Objects correctly read\n"
     ]
    }
   ],
   "source": [
    "h3d = Hfss3dLayout(edbapp.edbpath, version=AEDT_VERSION, non_graphical=NG_MODE, new_desktop=True)"
   ]
  },
  {
   "cell_type": "markdown",
   "id": "11c8a9b3",
   "metadata": {},
   "source": [
    "## Prepare for electro-thermal analysis in Icepak (Optional)"
   ]
  },
  {
   "cell_type": "code",
   "execution_count": 17,
   "id": "1bc8349a",
   "metadata": {
    "execution": {
     "iopub.execute_input": "2025-01-22T08:58:13.010506Z",
     "iopub.status.busy": "2025-01-22T08:58:13.010506Z",
     "iopub.status.idle": "2025-01-22T08:58:13.041755Z",
     "shell.execute_reply": "2025-01-22T08:58:13.041755Z"
    }
   },
   "outputs": [
    {
     "name": "stdout",
     "output_type": "stream",
     "text": [
      "PyAEDT INFO: Loading Modeler.\n"
     ]
    },
    {
     "name": "stdout",
     "output_type": "stream",
     "text": [
      "PyAEDT INFO: Modeler loaded.\n"
     ]
    },
    {
     "name": "stdout",
     "output_type": "stream",
     "text": [
      "PyAEDT INFO: EDB loaded.\n"
     ]
    },
    {
     "name": "stdout",
     "output_type": "stream",
     "text": [
      "PyAEDT INFO: Layers loaded.\n"
     ]
    },
    {
     "name": "stdout",
     "output_type": "stream",
     "text": [
      "PyAEDT INFO: Primitives loaded.\n"
     ]
    },
    {
     "name": "stdout",
     "output_type": "stream",
     "text": [
      "PyAEDT INFO: Modeler class has been initialized! Elapsed time: 0m 0sec\n"
     ]
    },
    {
     "name": "stdout",
     "output_type": "stream",
     "text": [
      "PyAEDT INFO: Set the temperature dependence for the design.\n"
     ]
    },
    {
     "name": "stdout",
     "output_type": "stream",
     "text": [
      "PyAEDT INFO: Assigned Objects Temperature\n"
     ]
    },
    {
     "data": {
      "text/plain": [
       "True"
      ]
     },
     "execution_count": 17,
     "metadata": {},
     "output_type": "execute_result"
    }
   ],
   "source": [
    "h3d.modeler.set_temperature_dependence(include_temperature_dependence=True, enable_feedback=True, ambient_temp=22)"
   ]
  },
  {
   "cell_type": "markdown",
   "id": "84d9abf1",
   "metadata": {},
   "source": [
    "## Analyze"
   ]
  },
  {
   "cell_type": "code",
   "execution_count": 18,
   "id": "29960a63",
   "metadata": {
    "execution": {
     "iopub.execute_input": "2025-01-22T08:58:13.041755Z",
     "iopub.status.busy": "2025-01-22T08:58:13.041755Z",
     "iopub.status.idle": "2025-01-22T08:58:49.989500Z",
     "shell.execute_reply": "2025-01-22T08:58:49.989500Z"
    }
   },
   "outputs": [
    {
     "name": "stdout",
     "output_type": "stream",
     "text": [
      "PyAEDT INFO: Key Desktop/ActiveDSOConfigurations/HFSS 3D Layout Design correctly changed.\n"
     ]
    },
    {
     "name": "stdout",
     "output_type": "stream",
     "text": [
      "PyAEDT INFO: Solving all design setups.\n"
     ]
    },
    {
     "name": "stdout",
     "output_type": "stream",
     "text": [
      "PyAEDT INFO: Key Desktop/ActiveDSOConfigurations/HFSS 3D Layout Design correctly changed.\n"
     ]
    },
    {
     "name": "stdout",
     "output_type": "stream",
     "text": [
      "PyAEDT INFO: Design setup None solved correctly in 0.0h 0.0m 37.0s\n"
     ]
    },
    {
     "data": {
      "text/plain": [
       "True"
      ]
     },
     "execution_count": 18,
     "metadata": {},
     "output_type": "execute_result"
    }
   ],
   "source": [
    "h3d.analyze()"
   ]
  },
  {
   "cell_type": "markdown",
   "id": "aed06faa",
   "metadata": {},
   "source": [
    "## Plot DC voltage"
   ]
  },
  {
   "cell_type": "code",
   "execution_count": 19,
   "id": "58c728bd",
   "metadata": {
    "execution": {
     "iopub.execute_input": "2025-01-22T08:58:49.989500Z",
     "iopub.status.busy": "2025-01-22T08:58:49.989500Z",
     "iopub.status.idle": "2025-01-22T08:58:51.222805Z",
     "shell.execute_reply": "2025-01-22T08:58:51.221805Z"
    }
   },
   "outputs": [
    {
     "name": "stdout",
     "output_type": "stream",
     "text": [
      "PyAEDT INFO: Parsing C:/Users/ansys/AppData/Local/Temp/tmp7lpd2cqa.ansys/edb/ANSYS-HSD_V1.aedt.\n"
     ]
    },
    {
     "name": "stdout",
     "output_type": "stream",
     "text": [
      "PyAEDT INFO: File C:/Users/ansys/AppData/Local/Temp/tmp7lpd2cqa.ansys/edb/ANSYS-HSD_V1.aedt correctly loaded. Elapsed time: 0m 0sec\n"
     ]
    },
    {
     "name": "stdout",
     "output_type": "stream",
     "text": [
      "PyAEDT INFO: aedt file load time 0.0312504768371582\n"
     ]
    },
    {
     "name": "stdout",
     "output_type": "stream",
     "text": [
      "PyAEDT INFO: PostProcessor class has been initialized! Elapsed time: 0m 0sec\n"
     ]
    },
    {
     "name": "stdout",
     "output_type": "stream",
     "text": [
      "PyAEDT INFO: Post class has been initialized! Elapsed time: 0m 0sec\n"
     ]
    },
    {
     "name": "stdout",
     "output_type": "stream",
     "text": [
      "PyAEDT INFO: Logger is initialized in EDB.\n"
     ]
    },
    {
     "name": "stdout",
     "output_type": "stream",
     "text": [
      "PyAEDT INFO: legacy v0.35.0\n"
     ]
    },
    {
     "name": "stdout",
     "output_type": "stream",
     "text": [
      "PyAEDT INFO: Python version 3.10.11 (tags/v3.10.11:7d4cc5a, Apr  5 2023, 00:38:17) [MSC v.1929 64 bit (AMD64)]\n"
     ]
    },
    {
     "name": "stdout",
     "output_type": "stream",
     "text": [
      "PyAEDT INFO: Database ANSYS-HSD_V1.aedb Opened in 2024.2\n"
     ]
    },
    {
     "name": "stdout",
     "output_type": "stream",
     "text": [
      "PyAEDT INFO: Cell main Opened\n"
     ]
    },
    {
     "name": "stdout",
     "output_type": "stream",
     "text": [
      "PyAEDT INFO: Builder was initialized.\n"
     ]
    },
    {
     "name": "stdout",
     "output_type": "stream",
     "text": [
      "PyAEDT INFO: EDB initialized.\n"
     ]
    }
   ],
   "source": [
    "voltage = h3d.post.create_fieldplot_layers_nets(\n",
    "    layers_nets=[\n",
    "        [\"Inner2\", \"1V0\"],\n",
    "    ],\n",
    "    quantity=\"Voltage\",\n",
    "    setup=\"siwave_1\",\n",
    ")"
   ]
  },
  {
   "cell_type": "code",
   "execution_count": 20,
   "id": "158e146a",
   "metadata": {
    "execution": {
     "iopub.execute_input": "2025-01-22T08:58:51.222805Z",
     "iopub.status.busy": "2025-01-22T08:58:51.222805Z",
     "iopub.status.idle": "2025-01-22T08:58:51.238573Z",
     "shell.execute_reply": "2025-01-22T08:58:51.238573Z"
    }
   },
   "outputs": [
    {
     "data": {
      "text/plain": [
       "'C:\\\\Users\\\\ansys\\\\AppData\\\\Local\\\\Temp\\\\tmp7lpd2cqa.ansys\\\\voltage.jpg'"
      ]
     },
     "execution_count": 20,
     "metadata": {},
     "output_type": "execute_result"
    }
   ],
   "source": [
    "file_path_image = os.path.join(temp_folder.name, \"voltage.jpg\")\n",
    "voltage.export_image(\n",
    "    full_path=file_path_image,\n",
    "    width=640,\n",
    "    height=480,\n",
    "    orientation=\"isometric\",\n",
    "    display_wireframe=True,\n",
    "    selections=None,\n",
    "    show_region=True,\n",
    "    show_axis=True,\n",
    "    show_grid=True,\n",
    "    show_ruler=True,\n",
    ")"
   ]
  },
  {
   "cell_type": "markdown",
   "id": "ea1413d5",
   "metadata": {},
   "source": [
    "## Plot power density"
   ]
  },
  {
   "cell_type": "code",
   "execution_count": 21,
   "id": "93267243",
   "metadata": {
    "execution": {
     "iopub.execute_input": "2025-01-22T08:58:51.238573Z",
     "iopub.status.busy": "2025-01-22T08:58:51.238573Z",
     "iopub.status.idle": "2025-01-22T08:58:51.380211Z",
     "shell.execute_reply": "2025-01-22T08:58:51.380211Z"
    }
   },
   "outputs": [],
   "source": [
    "power_density = h3d.post.create_fieldplot_layers_nets(\n",
    "    layers_nets=[\n",
    "        [\"Inner2\", \"no-net\"],\n",
    "    ],\n",
    "    quantity=\"Power Density\",\n",
    "    setup=\"siwave_1\",\n",
    ")"
   ]
  },
  {
   "cell_type": "code",
   "execution_count": 22,
   "id": "27e9e757",
   "metadata": {
    "execution": {
     "iopub.execute_input": "2025-01-22T08:58:51.380211Z",
     "iopub.status.busy": "2025-01-22T08:58:51.380211Z",
     "iopub.status.idle": "2025-01-22T08:58:51.395892Z",
     "shell.execute_reply": "2025-01-22T08:58:51.395892Z"
    }
   },
   "outputs": [
    {
     "data": {
      "text/plain": [
       "'C:\\\\Users\\\\ansys\\\\AppData\\\\Local\\\\Temp\\\\tmp7lpd2cqa.ansys\\\\power_density.jpg'"
      ]
     },
     "execution_count": 22,
     "metadata": {},
     "output_type": "execute_result"
    }
   ],
   "source": [
    "file_path_image = os.path.join(temp_folder.name, \"power_density.jpg\")\n",
    "power_density.export_image(\n",
    "    full_path=file_path_image,\n",
    "    width=640,\n",
    "    height=480,\n",
    "    orientation=\"isometric\",\n",
    "    display_wireframe=True,\n",
    "    selections=None,\n",
    "    show_region=True,\n",
    "    show_axis=True,\n",
    "    show_grid=True,\n",
    "    show_ruler=True,\n",
    ")"
   ]
  },
  {
   "cell_type": "markdown",
   "id": "f1770c3b",
   "metadata": {},
   "source": [
    "## Save HFSS 3D Layout project"
   ]
  },
  {
   "cell_type": "code",
   "execution_count": 23,
   "id": "29c63444",
   "metadata": {
    "execution": {
     "iopub.execute_input": "2025-01-22T08:58:51.395892Z",
     "iopub.status.busy": "2025-01-22T08:58:51.395892Z",
     "iopub.status.idle": "2025-01-22T08:58:51.569999Z",
     "shell.execute_reply": "2025-01-22T08:58:51.569999Z"
    }
   },
   "outputs": [
    {
     "name": "stdout",
     "output_type": "stream",
     "text": [
      "PyAEDT INFO: Project ANSYS-HSD_V1 Saved correctly\n"
     ]
    },
    {
     "data": {
      "text/plain": [
       "True"
      ]
     },
     "execution_count": 23,
     "metadata": {},
     "output_type": "execute_result"
    }
   ],
   "source": [
    "h3d.save_project()"
   ]
  },
  {
   "cell_type": "markdown",
   "id": "1cc7f643",
   "metadata": {},
   "source": [
    "## Create an Icepak design"
   ]
  },
  {
   "cell_type": "code",
   "execution_count": 24,
   "id": "72cbb8b4",
   "metadata": {
    "execution": {
     "iopub.execute_input": "2025-01-22T08:58:51.569999Z",
     "iopub.status.busy": "2025-01-22T08:58:51.569999Z",
     "iopub.status.idle": "2025-01-22T08:59:02.996021Z",
     "shell.execute_reply": "2025-01-22T08:59:02.996021Z"
    }
   },
   "outputs": [
    {
     "name": "stdout",
     "output_type": "stream",
     "text": [
      "PyAEDT INFO: Python version 3.10.11 (tags/v3.10.11:7d4cc5a, Apr  5 2023, 00:38:17) [MSC v.1929 64 bit (AMD64)]\n"
     ]
    },
    {
     "name": "stdout",
     "output_type": "stream",
     "text": [
      "PyAEDT INFO: PyAEDT version 0.14.dev0.\n"
     ]
    },
    {
     "name": "stdout",
     "output_type": "stream",
     "text": [
      "PyAEDT INFO: Returning found Desktop session with PID 11084!\n"
     ]
    },
    {
     "name": "stdout",
     "output_type": "stream",
     "text": [
      "PyAEDT INFO: No project is defined. Project ANSYS-HSD_V1 exists and has been read.\n"
     ]
    },
    {
     "name": "stdout",
     "output_type": "stream",
     "text": [
      "PyAEDT INFO: No consistent unique design is present. Inserting a new design.\n"
     ]
    },
    {
     "name": "stdout",
     "output_type": "stream",
     "text": [
      "PyAEDT INFO: Added design 'Icepak_O2X' of type Icepak.\n"
     ]
    },
    {
     "name": "stdout",
     "output_type": "stream",
     "text": [
      "PyAEDT INFO: Aedt Objects correctly read\n"
     ]
    }
   ],
   "source": [
    "ipk = Icepak(version=AEDT_VERSION, non_graphical=NG_MODE, new_desktop=False)"
   ]
  },
  {
   "cell_type": "markdown",
   "id": "db3aabca",
   "metadata": {},
   "source": [
    "## Create PCB"
   ]
  },
  {
   "cell_type": "code",
   "execution_count": 25,
   "id": "64608953",
   "metadata": {
    "execution": {
     "iopub.execute_input": "2025-01-22T08:59:02.996021Z",
     "iopub.status.busy": "2025-01-22T08:59:02.996021Z",
     "iopub.status.idle": "2025-01-22T08:59:04.339420Z",
     "shell.execute_reply": "2025-01-22T08:59:04.339420Z"
    }
   },
   "outputs": [
    {
     "name": "stdout",
     "output_type": "stream",
     "text": [
      "PyAEDT INFO: Modeler class has been initialized! Elapsed time: 0m 0sec\n"
     ]
    },
    {
     "name": "stdout",
     "output_type": "stream",
     "text": [
      "PyAEDT INFO: Materials class has been initialized! Elapsed time: 0m 0sec\n"
     ]
    }
   ],
   "source": [
    "pcb = ipk.create_ipk_3dcomponent_pcb(\n",
    "    compName=\"PCB_pyAEDT\",\n",
    "    setupLinkInfo=[h3d.project_file, h3d.design_name, \"siwave_1\", True, True],\n",
    "    solutionFreq=None,\n",
    "    resolution=0,\n",
    "    extent_type=\"Bounding Box\",\n",
    "    powerin=\"0\",\n",
    ")"
   ]
  },
  {
   "cell_type": "markdown",
   "id": "f8ca4ee8",
   "metadata": {},
   "source": [
    "## Include pckage definition from Edb"
   ]
  },
  {
   "cell_type": "code",
   "execution_count": 26,
   "id": "09f749bd",
   "metadata": {
    "execution": {
     "iopub.execute_input": "2025-01-22T08:59:04.339420Z",
     "iopub.status.busy": "2025-01-22T08:59:04.339420Z",
     "iopub.status.idle": "2025-01-22T08:59:04.966877Z",
     "shell.execute_reply": "2025-01-22T08:59:04.966877Z"
    }
   },
   "outputs": [],
   "source": [
    "pcb.included_parts = \"Device\""
   ]
  },
  {
   "cell_type": "markdown",
   "id": "9cbf0a98",
   "metadata": {},
   "source": [
    "## Adjust air region"
   ]
  },
  {
   "cell_type": "code",
   "execution_count": 27,
   "id": "a4fbd74b",
   "metadata": {
    "execution": {
     "iopub.execute_input": "2025-01-22T08:59:04.966877Z",
     "iopub.status.busy": "2025-01-22T08:59:04.966877Z",
     "iopub.status.idle": "2025-01-22T08:59:05.013761Z",
     "shell.execute_reply": "2025-01-22T08:59:05.013761Z"
    }
   },
   "outputs": [
    {
     "data": {
      "text/plain": [
       "<ansys.aedt.core.modules.boundary.common.BoundaryObject at 0x18d384cb8e0>"
      ]
     },
     "execution_count": 27,
     "metadata": {},
     "output_type": "execute_result"
    }
   ],
   "source": [
    "region = ipk.modeler[\"Region\"]\n",
    "faces = [f.id for f in region.faces]\n",
    "ipk.assign_pressure_free_opening(assignment=faces, boundary_name=\"Outlet\")"
   ]
  },
  {
   "cell_type": "markdown",
   "id": "c18e2da7",
   "metadata": {},
   "source": [
    "## Setup mesh"
   ]
  },
  {
   "cell_type": "code",
   "execution_count": 28,
   "id": "3c6a0151",
   "metadata": {
    "execution": {
     "iopub.execute_input": "2025-01-22T08:59:05.013761Z",
     "iopub.status.busy": "2025-01-22T08:59:05.013761Z",
     "iopub.status.idle": "2025-01-22T08:59:05.661616Z",
     "shell.execute_reply": "2025-01-22T08:59:05.661616Z"
    }
   },
   "outputs": [
    {
     "name": "stdout",
     "output_type": "stream",
     "text": [
      "PyAEDT INFO: Parsing C:/Users/ansys/AppData/Local/Temp/tmp7lpd2cqa.ansys/edb/ANSYS-HSD_V1.aedt.\n"
     ]
    },
    {
     "name": "stdout",
     "output_type": "stream",
     "text": [
      "PyAEDT INFO: File C:/Users/ansys/AppData/Local/Temp/tmp7lpd2cqa.ansys/edb/ANSYS-HSD_V1.aedt correctly loaded. Elapsed time: 0m 0sec\n"
     ]
    },
    {
     "name": "stdout",
     "output_type": "stream",
     "text": [
      "PyAEDT INFO: aedt file load time 0.03126120567321777\n"
     ]
    },
    {
     "name": "stdout",
     "output_type": "stream",
     "text": [
      "PyAEDT WARNING: No mesh operation found.\n"
     ]
    },
    {
     "name": "stdout",
     "output_type": "stream",
     "text": [
      "PyAEDT WARNING: No mesh region found.\n"
     ]
    },
    {
     "name": "stdout",
     "output_type": "stream",
     "text": [
      "PyAEDT INFO: Parsing design objects. This operation can take time\n"
     ]
    },
    {
     "name": "stdout",
     "output_type": "stream",
     "text": [
      "PyAEDT INFO: Refreshing objects from AEDT file\n"
     ]
    },
    {
     "name": "stdout",
     "output_type": "stream",
     "text": [
      "PyAEDT INFO: 3D Modeler objects parsed. Elapsed time: 0m 0sec\n"
     ]
    },
    {
     "name": "stdout",
     "output_type": "stream",
     "text": [
      "PyAEDT INFO: Mesh class has been initialized! Elapsed time: 0m 0sec\n"
     ]
    }
   ],
   "source": [
    "glob_msh = ipk.mesh.global_mesh_region\n",
    "glob_msh.global_region.positive_z_padding_type = \"Absolute Offset\"\n",
    "glob_msh.global_region.positive_z_padding = \"50 mm\"\n",
    "glob_msh.global_region.negative_z_padding_type = \"Absolute Offset\"\n",
    "glob_msh.global_region.negative_z_padding = \"80 mm\""
   ]
  },
  {
   "cell_type": "code",
   "execution_count": 29,
   "id": "cd9c49c5",
   "metadata": {
    "execution": {
     "iopub.execute_input": "2025-01-22T08:59:05.661616Z",
     "iopub.status.busy": "2025-01-22T08:59:05.661616Z",
     "iopub.status.idle": "2025-01-22T08:59:05.677289Z",
     "shell.execute_reply": "2025-01-22T08:59:05.677289Z"
    }
   },
   "outputs": [],
   "source": [
    "glob_msh = ipk.mesh.global_mesh_region\n",
    "glob_msh.manual_settings = True\n",
    "glob_msh.settings[\"EnableMLM\"] = True\n",
    "glob_msh.settings[\"EnforeMLMType\"] = \"2D\"\n",
    "glob_msh.settings[\"2DMLMType\"] = \"Auto\"\n",
    "glob_msh.settings[\"MaxElementSizeY\"] = \"2mm\"\n",
    "glob_msh.settings[\"MaxElementSizeX\"] = \"2mm\"\n",
    "glob_msh.settings[\"MaxElementSizeZ\"] = \"3mm\"\n",
    "glob_msh.settings[\"MaxLevels\"] = \"2\""
   ]
  },
  {
   "cell_type": "code",
   "execution_count": 30,
   "id": "b9dfd05a",
   "metadata": {
    "execution": {
     "iopub.execute_input": "2025-01-22T08:59:05.677289Z",
     "iopub.status.busy": "2025-01-22T08:59:05.677289Z",
     "iopub.status.idle": "2025-01-22T08:59:05.708491Z",
     "shell.execute_reply": "2025-01-22T08:59:05.708491Z"
    }
   },
   "outputs": [
    {
     "data": {
      "text/plain": [
       "True"
      ]
     },
     "execution_count": 30,
     "metadata": {},
     "output_type": "execute_result"
    }
   ],
   "source": [
    "glob_msh.update()"
   ]
  },
  {
   "cell_type": "markdown",
   "id": "f6a9defa",
   "metadata": {},
   "source": [
    "## Place monitor"
   ]
  },
  {
   "cell_type": "code",
   "execution_count": 31,
   "id": "e56fa681",
   "metadata": {
    "execution": {
     "iopub.execute_input": "2025-01-22T08:59:05.708491Z",
     "iopub.status.busy": "2025-01-22T08:59:05.708491Z",
     "iopub.status.idle": "2025-01-22T08:59:05.740881Z",
     "shell.execute_reply": "2025-01-22T08:59:05.740881Z"
    }
   },
   "outputs": [],
   "source": [
    "cpu = ipk.modeler[\"PCB_pyAEDT_U1_device\"]\n",
    "m1 = ipk.monitor.assign_face_monitor(\n",
    "    face_id=cpu.top_face_z.id,\n",
    "    monitor_quantity=\"Temperature\",\n",
    "    monitor_name=\"TemperatureMonitor1\",\n",
    ")"
   ]
  },
  {
   "cell_type": "markdown",
   "id": "a775becf",
   "metadata": {},
   "source": [
    "## Create Icepak setup"
   ]
  },
  {
   "cell_type": "code",
   "execution_count": 32,
   "id": "2f4b4822",
   "metadata": {
    "execution": {
     "iopub.execute_input": "2025-01-22T08:59:05.740881Z",
     "iopub.status.busy": "2025-01-22T08:59:05.740881Z",
     "iopub.status.idle": "2025-01-22T08:59:05.851522Z",
     "shell.execute_reply": "2025-01-22T08:59:05.851522Z"
    }
   },
   "outputs": [
    {
     "name": "stdout",
     "output_type": "stream",
     "text": [
      "PyAEDT INFO: Key MaxIterations matched internal key 'Convergence Criteria - Max Iterations' with confidence of 52.\n"
     ]
    }
   ],
   "source": [
    "setup1 = ipk.create_setup(MaxIterations=10)"
   ]
  },
  {
   "cell_type": "markdown",
   "id": "5a844708",
   "metadata": {},
   "source": [
    "Add 2-way coupling to the setup"
   ]
  },
  {
   "cell_type": "code",
   "execution_count": 33,
   "id": "dbd393aa",
   "metadata": {
    "execution": {
     "iopub.execute_input": "2025-01-22T08:59:05.851522Z",
     "iopub.status.busy": "2025-01-22T08:59:05.851522Z",
     "iopub.status.idle": "2025-01-22T08:59:05.867140Z",
     "shell.execute_reply": "2025-01-22T08:59:05.867140Z"
    }
   },
   "outputs": [
    {
     "data": {
      "text/plain": [
       "True"
      ]
     },
     "execution_count": 33,
     "metadata": {},
     "output_type": "execute_result"
    }
   ],
   "source": [
    "ipk.assign_2way_coupling(number_of_iterations=1)"
   ]
  },
  {
   "cell_type": "markdown",
   "id": "33c8c9ba",
   "metadata": {},
   "source": [
    "## Save"
   ]
  },
  {
   "cell_type": "code",
   "execution_count": 34,
   "id": "82ec9b5d",
   "metadata": {
    "execution": {
     "iopub.execute_input": "2025-01-22T08:59:05.867140Z",
     "iopub.status.busy": "2025-01-22T08:59:05.867140Z",
     "iopub.status.idle": "2025-01-22T08:59:06.137070Z",
     "shell.execute_reply": "2025-01-22T08:59:06.137070Z"
    }
   },
   "outputs": [
    {
     "name": "stdout",
     "output_type": "stream",
     "text": [
      "PyAEDT INFO: Project ANSYS-HSD_V1 Saved correctly\n"
     ]
    },
    {
     "data": {
      "text/plain": [
       "True"
      ]
     },
     "execution_count": 34,
     "metadata": {},
     "output_type": "execute_result"
    }
   ],
   "source": [
    "ipk.save_project()"
   ]
  },
  {
   "cell_type": "markdown",
   "id": "d013e840",
   "metadata": {},
   "source": [
    "## Shut Down Electronics Desktop"
   ]
  },
  {
   "cell_type": "code",
   "execution_count": 35,
   "id": "f50cac5c",
   "metadata": {
    "execution": {
     "iopub.execute_input": "2025-01-22T08:59:06.137070Z",
     "iopub.status.busy": "2025-01-22T08:59:06.137070Z",
     "iopub.status.idle": "2025-01-22T08:59:09.776959Z",
     "shell.execute_reply": "2025-01-22T08:59:09.776959Z"
    }
   },
   "outputs": [
    {
     "name": "stdout",
     "output_type": "stream",
     "text": [
      "PyAEDT INFO: Desktop has been released and closed.\n"
     ]
    },
    {
     "data": {
      "text/plain": [
       "True"
      ]
     },
     "execution_count": 35,
     "metadata": {},
     "output_type": "execute_result"
    }
   ],
   "source": [
    "ipk.release_desktop()"
   ]
  },
  {
   "cell_type": "markdown",
   "id": "d47251fc",
   "metadata": {},
   "source": [
    "All project files are saved in the folder ``temp_file.dir``. If you've run this example as a Jupyter notebook you\n",
    "can retrieve those project files."
   ]
  }
 ],
 "metadata": {
  "jupytext": {
   "cell_metadata_filter": "-all",
   "main_language": "python",
   "notebook_metadata_filter": "-all",
   "text_representation": {
    "extension": ".py",
    "format_name": "light"
   }
  },
  "language_info": {
   "codemirror_mode": {
    "name": "ipython",
    "version": 3
   },
   "file_extension": ".py",
   "mimetype": "text/x-python",
   "name": "python",
   "nbconvert_exporter": "python",
   "pygments_lexer": "ipython3",
   "version": "3.10.11"
  }
 },
 "nbformat": 4,
 "nbformat_minor": 5
}
