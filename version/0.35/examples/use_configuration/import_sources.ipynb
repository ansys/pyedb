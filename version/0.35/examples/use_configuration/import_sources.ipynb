{
 "cells": [
  {
   "cell_type": "markdown",
   "id": "b0915823",
   "metadata": {},
   "source": [
    "# Import Sources\n",
    "This example shows how to import voltage and current sources. In this example, we are going to\n",
    "\n",
    "- Download an example board\n",
    "- Create a configuration file\n",
    "  - Add a voltage source between two nets\n",
    "  - Add a current source between two pins\n",
    "  - Add a current source between two pin groups\n",
    "  - Add a current source between two coordinates\n",
    "  - Add a current source to the nearest pin\n",
    "  - Add distributed sources\n",
    "- Import the configuration file"
   ]
  },
  {
   "cell_type": "markdown",
   "id": "04e202f9",
   "metadata": {},
   "source": [
    "## Import the required packages"
   ]
  },
  {
   "cell_type": "code",
   "execution_count": 1,
   "id": "ee2e72a8",
   "metadata": {
    "execution": {
     "iopub.execute_input": "2025-01-22T08:56:32.899294Z",
     "iopub.status.busy": "2025-01-22T08:56:32.899294Z",
     "iopub.status.idle": "2025-01-22T08:56:33.384391Z",
     "shell.execute_reply": "2025-01-22T08:56:33.384391Z"
    }
   },
   "outputs": [],
   "source": [
    "import json\n",
    "from pathlib import Path\n",
    "import tempfile\n",
    "\n",
    "from ansys.aedt.core.downloads import download_file\n",
    "\n",
    "from pyedb import Edb\n",
    "\n",
    "AEDT_VERSION = \"2024.2\"\n",
    "NG_MODE = False\n"
   ]
  },
  {
   "cell_type": "markdown",
   "id": "01a8c3ca",
   "metadata": {},
   "source": [
    "Download the example PCB data."
   ]
  },
  {
   "cell_type": "code",
   "execution_count": 2,
   "id": "d2d3a055",
   "metadata": {
    "execution": {
     "iopub.execute_input": "2025-01-22T08:56:33.384391Z",
     "iopub.status.busy": "2025-01-22T08:56:33.384391Z",
     "iopub.status.idle": "2025-01-22T08:56:34.245197Z",
     "shell.execute_reply": "2025-01-22T08:56:34.245197Z"
    }
   },
   "outputs": [],
   "source": [
    "temp_folder = tempfile.TemporaryDirectory(suffix=\".ansys\")\n",
    "file_edb = download_file(source=\"edb/ANSYS-HSD_V1.aedb\", destination=temp_folder.name)"
   ]
  },
  {
   "cell_type": "markdown",
   "id": "1410defb",
   "metadata": {},
   "source": [
    "## Load example layout"
   ]
  },
  {
   "cell_type": "code",
   "execution_count": 3,
   "id": "3fc02f18",
   "metadata": {
    "execution": {
     "iopub.execute_input": "2025-01-22T08:56:34.245197Z",
     "iopub.status.busy": "2025-01-22T08:56:34.245197Z",
     "iopub.status.idle": "2025-01-22T08:56:47.271102Z",
     "shell.execute_reply": "2025-01-22T08:56:47.271102Z"
    }
   },
   "outputs": [
    {
     "name": "stdout",
     "output_type": "stream",
     "text": [
      "PyAEDT INFO: Logger is initialized in EDB.\n"
     ]
    },
    {
     "name": "stdout",
     "output_type": "stream",
     "text": [
      "PyAEDT INFO: legacy v0.35.0\n"
     ]
    },
    {
     "name": "stdout",
     "output_type": "stream",
     "text": [
      "PyAEDT INFO: Python version 3.10.11 (tags/v3.10.11:7d4cc5a, Apr  5 2023, 00:38:17) [MSC v.1929 64 bit (AMD64)]\n"
     ]
    },
    {
     "name": "stdout",
     "output_type": "stream",
     "text": [
      "PyAEDT INFO: Database ANSYS-HSD_V1.aedb Opened in 2024.2\n"
     ]
    },
    {
     "name": "stdout",
     "output_type": "stream",
     "text": [
      "PyAEDT INFO: Cell main Opened\n"
     ]
    },
    {
     "name": "stdout",
     "output_type": "stream",
     "text": [
      "PyAEDT INFO: Builder was initialized.\n"
     ]
    },
    {
     "name": "stdout",
     "output_type": "stream",
     "text": [
      "PyAEDT INFO: EDB initialized.\n"
     ]
    }
   ],
   "source": [
    "edbapp = Edb(file_edb, edbversion=AEDT_VERSION)"
   ]
  },
  {
   "cell_type": "markdown",
   "id": "34b00437",
   "metadata": {},
   "source": [
    "## Create an empty dictionary to host all configurations"
   ]
  },
  {
   "cell_type": "code",
   "execution_count": 4,
   "id": "aec9198f",
   "metadata": {
    "execution": {
     "iopub.execute_input": "2025-01-22T08:56:47.271102Z",
     "iopub.status.busy": "2025-01-22T08:56:47.271102Z",
     "iopub.status.idle": "2025-01-22T08:56:47.286727Z",
     "shell.execute_reply": "2025-01-22T08:56:47.286727Z"
    }
   },
   "outputs": [],
   "source": [
    "cfg = dict()"
   ]
  },
  {
   "cell_type": "markdown",
   "id": "10bb2af2",
   "metadata": {},
   "source": [
    "## Add a voltage source between two nets"
   ]
  },
  {
   "cell_type": "markdown",
   "id": "f54c7e21",
   "metadata": {},
   "source": [
    "Keywords\n",
    "\n",
    "- **name**. Name of the voltage source.\n",
    "- **Reference_designator**. Reference designator of the component.\n",
    "- **type**. Type of the source. Supported types are 'voltage', 'current'\n",
    "- **positive_terminal**. Supported types are 'net', 'pin', 'pin_group', 'coordinates'\n",
    "- **negative_terminal**. Supported types are 'net', 'pin', 'pin_group', 'coordinates',\n",
    "'nearest_pin'"
   ]
  },
  {
   "cell_type": "code",
   "execution_count": 5,
   "id": "5f552664",
   "metadata": {
    "execution": {
     "iopub.execute_input": "2025-01-22T08:56:47.286727Z",
     "iopub.status.busy": "2025-01-22T08:56:47.286727Z",
     "iopub.status.idle": "2025-01-22T08:56:47.302351Z",
     "shell.execute_reply": "2025-01-22T08:56:47.302351Z"
    }
   },
   "outputs": [],
   "source": [
    "voltage_source = {\n",
    "    \"name\": \"V_SOURCE_5V\",\n",
    "    \"reference_designator\": \"U4\",\n",
    "    \"type\": \"voltage\",\n",
    "    \"magnitude\": 1,\n",
    "    \"positive_terminal\": {\"net\": \"5V\"},\n",
    "    \"negative_terminal\": {\"net\": \"GND\"},\n",
    "}"
   ]
  },
  {
   "cell_type": "markdown",
   "id": "4e389519",
   "metadata": {},
   "source": [
    "## Add a current source between two pins"
   ]
  },
  {
   "cell_type": "code",
   "execution_count": 6,
   "id": "e9241151",
   "metadata": {
    "execution": {
     "iopub.execute_input": "2025-01-22T08:56:47.302351Z",
     "iopub.status.busy": "2025-01-22T08:56:47.302351Z",
     "iopub.status.idle": "2025-01-22T08:56:47.318026Z",
     "shell.execute_reply": "2025-01-22T08:56:47.318026Z"
    }
   },
   "outputs": [],
   "source": [
    "current_source_1 = {\n",
    "    \"name\": \"I_CURRENT_1A\",\n",
    "    \"reference_designator\": \"J5\",\n",
    "    \"type\": \"current\",\n",
    "    \"magnitude\": 10,\n",
    "    \"positive_terminal\": {\"pin\": \"15\"},\n",
    "    \"negative_terminal\": {\"pin\": \"14\"},\n",
    "}"
   ]
  },
  {
   "cell_type": "markdown",
   "id": "41328701",
   "metadata": {},
   "source": [
    "## Add a current source between two pin groups"
   ]
  },
  {
   "cell_type": "code",
   "execution_count": 7,
   "id": "77a9ed15",
   "metadata": {
    "execution": {
     "iopub.execute_input": "2025-01-22T08:56:47.318026Z",
     "iopub.status.busy": "2025-01-22T08:56:47.318026Z",
     "iopub.status.idle": "2025-01-22T08:56:47.333653Z",
     "shell.execute_reply": "2025-01-22T08:56:47.333653Z"
    }
   },
   "outputs": [],
   "source": [
    "pin_groups = [\n",
    "    {\"name\": \"IC2_5V\", \"reference_designator\": \"IC2\", \"pins\": [\"8\"]},\n",
    "    {\"name\": \"IC2_GND\", \"reference_designator\": \"IC2\", \"net\": \"GND\"},\n",
    "]"
   ]
  },
  {
   "cell_type": "code",
   "execution_count": 8,
   "id": "ca8c3eaa",
   "metadata": {
    "execution": {
     "iopub.execute_input": "2025-01-22T08:56:47.333653Z",
     "iopub.status.busy": "2025-01-22T08:56:47.333653Z",
     "iopub.status.idle": "2025-01-22T08:56:47.349288Z",
     "shell.execute_reply": "2025-01-22T08:56:47.349288Z"
    }
   },
   "outputs": [],
   "source": [
    "current_source_2 = {\n",
    "    \"name\": \"CURRENT_SOURCE_2\",\n",
    "    \"type\": \"current\",\n",
    "    \"positive_terminal\": {\"pin_group\": \"IC2_5V\"},\n",
    "    \"negative_terminal\": {\"pin_group\": \"IC2_GND\"},\n",
    "}"
   ]
  },
  {
   "cell_type": "markdown",
   "id": "58d34993",
   "metadata": {},
   "source": [
    "## Add a current source between two coordinates"
   ]
  },
  {
   "cell_type": "markdown",
   "id": "6082f5a1",
   "metadata": {},
   "source": [
    "Keywords\n",
    "\n",
    "- **layer**. Layer on which the terminal is placed\n",
    "- **point**. XY coordinate the terminal is placed\n",
    "- **net**. Name of the net the terminal is placed on"
   ]
  },
  {
   "cell_type": "code",
   "execution_count": 9,
   "id": "3c4672e0",
   "metadata": {
    "execution": {
     "iopub.execute_input": "2025-01-22T08:56:47.349288Z",
     "iopub.status.busy": "2025-01-22T08:56:47.349288Z",
     "iopub.status.idle": "2025-01-22T08:56:47.364946Z",
     "shell.execute_reply": "2025-01-22T08:56:47.364946Z"
    }
   },
   "outputs": [],
   "source": [
    "current_source_3 = {\n",
    "    \"name\": \"CURRENT_SOURCE_3\",\n",
    "    \"type\": \"current\",\n",
    "    \"positive_terminal\": {\"coordinates\": {\"layer\": \"1_Top\", \"point\": [\"116mm\", \"41mm\"], \"net\": \"5V\"}},\n",
    "    \"negative_terminal\": {\"coordinates\": {\"layer\": \"Inner1(GND1)\", \"point\": [\"116mm\", \"41mm\"], \"net\": \"GND\"}},\n",
    "}"
   ]
  },
  {
   "cell_type": "markdown",
   "id": "272d7ecb",
   "metadata": {},
   "source": [
    "## Add a current source reference to the nearest pin"
   ]
  },
  {
   "cell_type": "markdown",
   "id": "72ddb2ac",
   "metadata": {},
   "source": [
    "Keywords\n",
    "\n",
    "- **reference_net**. Name of the reference net\n",
    "- **search_radius**. Reference pin search radius in meter"
   ]
  },
  {
   "cell_type": "code",
   "execution_count": 10,
   "id": "538862a6",
   "metadata": {
    "execution": {
     "iopub.execute_input": "2025-01-22T08:56:47.364946Z",
     "iopub.status.busy": "2025-01-22T08:56:47.364946Z",
     "iopub.status.idle": "2025-01-22T08:56:47.380533Z",
     "shell.execute_reply": "2025-01-22T08:56:47.380533Z"
    }
   },
   "outputs": [],
   "source": [
    "current_source_4 = {\n",
    "    \"name\": \"CURRENT_SOURCE_4\",\n",
    "    \"reference_designator\": \"J5\",\n",
    "    \"type\": \"current\",\n",
    "    \"positive_terminal\": {\"pin\": \"16\"},\n",
    "    \"negative_terminal\": {\"nearest_pin\": {\"reference_net\": \"GND\", \"search_radius\": 5e-3}},\n",
    "}"
   ]
  },
  {
   "cell_type": "markdown",
   "id": "8afa2dee",
   "metadata": {},
   "source": [
    "## Add distributed current sources"
   ]
  },
  {
   "cell_type": "markdown",
   "id": "48df720a",
   "metadata": {},
   "source": [
    "Keywords\n",
    "\n",
    "- **distributed**. Whether to create distributed sources. When set to True, ports are created per pin"
   ]
  },
  {
   "cell_type": "code",
   "execution_count": 11,
   "id": "8ff063ae",
   "metadata": {
    "execution": {
     "iopub.execute_input": "2025-01-22T08:56:47.380533Z",
     "iopub.status.busy": "2025-01-22T08:56:47.380533Z",
     "iopub.status.idle": "2025-01-22T08:56:47.396197Z",
     "shell.execute_reply": "2025-01-22T08:56:47.396197Z"
    }
   },
   "outputs": [],
   "source": [
    "sources_distributed = {\n",
    "    \"name\": \"DISTRIBUTED\",\n",
    "    \"reference_designator\": \"U2\",\n",
    "    \"type\": \"current\",\n",
    "    \"distributed\": True,\n",
    "    \"positive_terminal\": {\"net\": \"5V\"},\n",
    "    \"negative_terminal\": {\"net\": \"GND\"},\n",
    "}"
   ]
  },
  {
   "cell_type": "markdown",
   "id": "75b8ad0e",
   "metadata": {},
   "source": [
    "## Add setups in configuration"
   ]
  },
  {
   "cell_type": "code",
   "execution_count": 12,
   "id": "106a5c47",
   "metadata": {
    "execution": {
     "iopub.execute_input": "2025-01-22T08:56:47.396197Z",
     "iopub.status.busy": "2025-01-22T08:56:47.396197Z",
     "iopub.status.idle": "2025-01-22T08:56:47.411781Z",
     "shell.execute_reply": "2025-01-22T08:56:47.411781Z"
    }
   },
   "outputs": [],
   "source": [
    "cfg[\"pin_groups\"] = pin_groups\n",
    "cfg[\"sources\"] = [\n",
    "    voltage_source,\n",
    "    current_source_1,\n",
    "    current_source_2,\n",
    "    current_source_3,\n",
    "    current_source_4,\n",
    "    sources_distributed,\n",
    "]"
   ]
  },
  {
   "cell_type": "markdown",
   "id": "87c41f78",
   "metadata": {},
   "source": [
    "## Write configuration into as json file"
   ]
  },
  {
   "cell_type": "code",
   "execution_count": 13,
   "id": "b85e5731",
   "metadata": {
    "execution": {
     "iopub.execute_input": "2025-01-22T08:56:47.411781Z",
     "iopub.status.busy": "2025-01-22T08:56:47.411781Z",
     "iopub.status.idle": "2025-01-22T08:56:47.427353Z",
     "shell.execute_reply": "2025-01-22T08:56:47.427353Z"
    }
   },
   "outputs": [],
   "source": [
    "file_json = Path(temp_folder.name) / \"edb_configuration.json\"\n",
    "with open(file_json, \"w\") as f:\n",
    "    json.dump(cfg, f, indent=4, ensure_ascii=False)"
   ]
  },
  {
   "cell_type": "markdown",
   "id": "0eeaf58f",
   "metadata": {},
   "source": [
    "## Import configuration into example layout"
   ]
  },
  {
   "cell_type": "code",
   "execution_count": 14,
   "id": "5dc137ef",
   "metadata": {
    "execution": {
     "iopub.execute_input": "2025-01-22T08:56:47.427353Z",
     "iopub.status.busy": "2025-01-22T08:56:47.427353Z",
     "iopub.status.idle": "2025-01-22T08:56:48.521172Z",
     "shell.execute_reply": "2025-01-22T08:56:48.521172Z"
    }
   },
   "outputs": [
    {
     "data": {
      "text/plain": [
       "True"
      ]
     },
     "execution_count": 14,
     "metadata": {},
     "output_type": "execute_result"
    }
   ],
   "source": [
    "edbapp.configuration.load(config_file=file_json)\n",
    "edbapp.configuration.run()"
   ]
  },
  {
   "cell_type": "markdown",
   "id": "8bb82e83",
   "metadata": {},
   "source": [
    "## Review"
   ]
  },
  {
   "cell_type": "code",
   "execution_count": 15,
   "id": "0d0b5bc4",
   "metadata": {
    "execution": {
     "iopub.execute_input": "2025-01-22T08:56:48.521172Z",
     "iopub.status.busy": "2025-01-22T08:56:48.521172Z",
     "iopub.status.idle": "2025-01-22T08:56:48.536744Z",
     "shell.execute_reply": "2025-01-22T08:56:48.536744Z"
    }
   },
   "outputs": [
    {
     "data": {
      "text/plain": [
       "{'V_SOURCE_5V': <pyedb.dotnet.edb_core.edb_data.ports.ExcitationSources at 0x26176e67f10>,\n",
       " 'I_CURRENT_1A': <pyedb.dotnet.edb_core.edb_data.ports.ExcitationSources at 0x261278b8310>,\n",
       " 'CURRENT_SOURCE_2': <pyedb.dotnet.edb_core.edb_data.ports.ExcitationSources at 0x261278b8250>,\n",
       " 'CURRENT_SOURCE_3': <pyedb.dotnet.edb_core.edb_data.ports.ExcitationSources at 0x261278b8190>,\n",
       " 'CURRENT_SOURCE_4': <pyedb.dotnet.edb_core.edb_data.ports.ExcitationSources at 0x261278b8490>,\n",
       " 'DISTRIBUTED_U2_5V_39': <pyedb.dotnet.edb_core.edb_data.ports.ExcitationSources at 0x261278b8850>,\n",
       " 'DISTRIBUTED_U2_5V_40': <pyedb.dotnet.edb_core.edb_data.ports.ExcitationSources at 0x261278b88b0>,\n",
       " 'DISTRIBUTED_U2_5V_41': <pyedb.dotnet.edb_core.edb_data.ports.ExcitationSources at 0x261278b83d0>,\n",
       " 'DISTRIBUTED_U2_5V_42': <pyedb.dotnet.edb_core.edb_data.ports.ExcitationSources at 0x261249c84c0>,\n",
       " 'DISTRIBUTED_U2_5V_43': <pyedb.dotnet.edb_core.edb_data.ports.ExcitationSources at 0x261249c8040>,\n",
       " 'DISTRIBUTED_U2_5V_44': <pyedb.dotnet.edb_core.edb_data.ports.ExcitationSources at 0x261249c8520>,\n",
       " 'DISTRIBUTED_U2_5V_45': <pyedb.dotnet.edb_core.edb_data.ports.ExcitationSources at 0x261249c8580>,\n",
       " 'DISTRIBUTED_U2_5V_46': <pyedb.dotnet.edb_core.edb_data.ports.ExcitationSources at 0x261249c85e0>,\n",
       " 'DISTRIBUTED_U2_5V_47': <pyedb.dotnet.edb_core.edb_data.ports.ExcitationSources at 0x261249c8640>,\n",
       " 'DISTRIBUTED_U2_5V_48': <pyedb.dotnet.edb_core.edb_data.ports.ExcitationSources at 0x261249c86a0>,\n",
       " 'DISTRIBUTED_U2_5V_49': <pyedb.dotnet.edb_core.edb_data.ports.ExcitationSources at 0x261249c8700>,\n",
       " 'DISTRIBUTED_U2_5V_50': <pyedb.dotnet.edb_core.edb_data.ports.ExcitationSources at 0x261249c8760>,\n",
       " 'DISTRIBUTED_U2_5V_51': <pyedb.dotnet.edb_core.edb_data.ports.ExcitationSources at 0x261249c87c0>,\n",
       " 'DISTRIBUTED_U2_5V_60': <pyedb.dotnet.edb_core.edb_data.ports.ExcitationSources at 0x261249c8820>}"
      ]
     },
     "execution_count": 15,
     "metadata": {},
     "output_type": "execute_result"
    }
   ],
   "source": [
    "edbapp.siwave.sources"
   ]
  },
  {
   "cell_type": "markdown",
   "id": "335323db",
   "metadata": {},
   "source": [
    "## Save and close Edb\n",
    "The temporary folder will be deleted once the execution of this script is finished. Replace **edbapp.save()** with\n",
    "**edbapp.save_as(\"C:/example.aedb\")** to keep the example project."
   ]
  },
  {
   "cell_type": "code",
   "execution_count": 16,
   "id": "5e8e4591",
   "metadata": {
    "execution": {
     "iopub.execute_input": "2025-01-22T08:56:48.536744Z",
     "iopub.status.busy": "2025-01-22T08:56:48.536744Z",
     "iopub.status.idle": "2025-01-22T08:56:48.755900Z",
     "shell.execute_reply": "2025-01-22T08:56:48.755900Z"
    }
   },
   "outputs": [
    {
     "data": {
      "text/plain": [
       "True"
      ]
     },
     "execution_count": 16,
     "metadata": {},
     "output_type": "execute_result"
    }
   ],
   "source": [
    "edbapp.save()\n",
    "edbapp.close()"
   ]
  }
 ],
 "metadata": {
  "jupytext": {
   "cell_metadata_filter": "-all",
   "main_language": "python",
   "notebook_metadata_filter": "-all",
   "text_representation": {
    "extension": ".py",
    "format_name": "light"
   }
  },
  "language_info": {
   "codemirror_mode": {
    "name": "ipython",
    "version": 3
   },
   "file_extension": ".py",
   "mimetype": "text/x-python",
   "name": "python",
   "nbconvert_exporter": "python",
   "pygments_lexer": "ipython3",
   "version": "3.10.11"
  }
 },
 "nbformat": 4,
 "nbformat_minor": 5
}
