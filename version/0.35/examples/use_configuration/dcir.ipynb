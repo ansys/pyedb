{
 "cells": [
  {
   "cell_type": "markdown",
   "id": "71e1538c",
   "metadata": {},
   "source": [
    "# DCIR Setup Leveraging EDB Configuration Format"
   ]
  },
  {
   "cell_type": "markdown",
   "id": "8777dcea",
   "metadata": {},
   "source": [
    "## Import the required packages"
   ]
  },
  {
   "cell_type": "code",
   "execution_count": 1,
   "id": "7c8780b3",
   "metadata": {
    "execution": {
     "iopub.execute_input": "2025-01-22T08:53:11.476357Z",
     "iopub.status.busy": "2025-01-22T08:53:11.476357Z",
     "iopub.status.idle": "2025-01-22T08:53:11.976306Z",
     "shell.execute_reply": "2025-01-22T08:53:11.976306Z"
    }
   },
   "outputs": [],
   "source": [
    "import json\n",
    "import os\n",
    "import tempfile\n",
    "\n",
    "from ansys.aedt.core import Hfss3dLayout\n",
    "from ansys.aedt.core.downloads import download_file\n",
    "\n",
    "from pyedb import Edb\n",
    "\n",
    "AEDT_VERSION = \"2024.2\"\n",
    "NG_MODE = False"
   ]
  },
  {
   "cell_type": "markdown",
   "id": "1b6586ae",
   "metadata": {},
   "source": [
    "Download the example BGA Package design."
   ]
  },
  {
   "cell_type": "code",
   "execution_count": 2,
   "id": "593ec20a",
   "metadata": {
    "execution": {
     "iopub.execute_input": "2025-01-22T08:53:11.976306Z",
     "iopub.status.busy": "2025-01-22T08:53:11.976306Z",
     "iopub.status.idle": "2025-01-22T08:53:13.257827Z",
     "shell.execute_reply": "2025-01-22T08:53:13.257827Z"
    }
   },
   "outputs": [],
   "source": [
    "temp_folder = tempfile.TemporaryDirectory(suffix=\".ansys\")\n",
    "file_edb = download_file(source=r\"edb/BGA_Package.aedb\", destination=temp_folder.name)"
   ]
  },
  {
   "cell_type": "markdown",
   "id": "df7ea846",
   "metadata": {},
   "source": [
    "## Load example layout"
   ]
  },
  {
   "cell_type": "code",
   "execution_count": 3,
   "id": "23428b37",
   "metadata": {
    "execution": {
     "iopub.execute_input": "2025-01-22T08:53:13.257827Z",
     "iopub.status.busy": "2025-01-22T08:53:13.257827Z",
     "iopub.status.idle": "2025-01-22T08:53:25.993870Z",
     "shell.execute_reply": "2025-01-22T08:53:25.993870Z"
    }
   },
   "outputs": [
    {
     "name": "stdout",
     "output_type": "stream",
     "text": [
      "PyAEDT INFO: Logger is initialized in EDB.\n"
     ]
    },
    {
     "name": "stdout",
     "output_type": "stream",
     "text": [
      "PyAEDT INFO: legacy v0.35.0\n"
     ]
    },
    {
     "name": "stdout",
     "output_type": "stream",
     "text": [
      "PyAEDT INFO: Python version 3.10.11 (tags/v3.10.11:7d4cc5a, Apr  5 2023, 00:38:17) [MSC v.1929 64 bit (AMD64)]\n"
     ]
    },
    {
     "name": "stdout",
     "output_type": "stream",
     "text": [
      "PyAEDT INFO: Database BGA_Package.aedb Opened in 2024.2\n"
     ]
    },
    {
     "name": "stdout",
     "output_type": "stream",
     "text": [
      "PyAEDT INFO: Cell BGA_Package Opened\n"
     ]
    },
    {
     "name": "stdout",
     "output_type": "stream",
     "text": [
      "PyAEDT INFO: Builder was initialized.\n"
     ]
    },
    {
     "name": "stdout",
     "output_type": "stream",
     "text": [
      "PyAEDT INFO: EDB initialized.\n"
     ]
    }
   ],
   "source": [
    "edbapp = Edb(file_edb, edbversion=AEDT_VERSION)"
   ]
  },
  {
   "cell_type": "markdown",
   "id": "f34bb931",
   "metadata": {},
   "source": [
    "## Create config file"
   ]
  },
  {
   "cell_type": "markdown",
   "id": "8ee1d923",
   "metadata": {},
   "source": [
    "Define Component with solderballs."
   ]
  },
  {
   "cell_type": "code",
   "execution_count": 4,
   "id": "90cfe828",
   "metadata": {
    "execution": {
     "iopub.execute_input": "2025-01-22T08:53:25.993870Z",
     "iopub.status.busy": "2025-01-22T08:53:25.993870Z",
     "iopub.status.idle": "2025-01-22T08:53:26.009548Z",
     "shell.execute_reply": "2025-01-22T08:53:26.009548Z"
    }
   },
   "outputs": [],
   "source": [
    "cfg_components = [\n",
    "    {\n",
    "        \"reference_designator\": \"FCHIP\",\n",
    "        \"part_type\": \"other\",\n",
    "        \"solder_ball_properties\": {\n",
    "            \"shape\": \"cylinder\",\n",
    "            \"diameter\": \"0.1mm\",\n",
    "            \"height\": \"0.085mm\",\n",
    "            \"chip_orientation\": \"chip_up\",\n",
    "        },\n",
    "        \"port_properties\": {\n",
    "            \"reference_offset\": 0,\n",
    "            \"reference_size_auto\": False,\n",
    "            \"reference_size_x\": 0,\n",
    "            \"reference_size_y\": 0,\n",
    "        },\n",
    "    },\n",
    "    {\n",
    "        \"reference_designator\": \"BGA\",\n",
    "        \"part_type\": \"io\",\n",
    "        \"solder_ball_properties\": {\n",
    "            \"shape\": \"cylinder\",\n",
    "            \"diameter\": \"0.45mm\",\n",
    "            \"height\": \"0.45mm\",\n",
    "            \"chip_orientation\": \"chip_down\",\n",
    "        },\n",
    "        \"port_properties\": {\n",
    "            \"reference_offset\": 0,\n",
    "            \"reference_size_auto\": False,\n",
    "            \"reference_size_x\": 0,\n",
    "            \"reference_size_y\": 0,\n",
    "        },\n",
    "    },\n",
    "]"
   ]
  },
  {
   "cell_type": "markdown",
   "id": "7c3e450a",
   "metadata": {},
   "source": [
    "Define Pin Groups on Components."
   ]
  },
  {
   "cell_type": "code",
   "execution_count": 5,
   "id": "556dcf6e",
   "metadata": {
    "execution": {
     "iopub.execute_input": "2025-01-22T08:53:26.009548Z",
     "iopub.status.busy": "2025-01-22T08:53:26.009548Z",
     "iopub.status.idle": "2025-01-22T08:53:26.025178Z",
     "shell.execute_reply": "2025-01-22T08:53:26.025178Z"
    }
   },
   "outputs": [],
   "source": [
    "cfg_pin_groups = [\n",
    "    {\"name\": \"BGA_VSS\", \"reference_designator\": \"BGA\", \"net\": \"VSS\"},\n",
    "    {\"name\": \"BGA_VDD\", \"reference_designator\": \"BGA\", \"net\": \"VDD\"},\n",
    "]"
   ]
  },
  {
   "cell_type": "markdown",
   "id": "2e34ca5f",
   "metadata": {},
   "source": [
    "Define sources."
   ]
  },
  {
   "cell_type": "code",
   "execution_count": 6,
   "id": "28f08037",
   "metadata": {
    "execution": {
     "iopub.execute_input": "2025-01-22T08:53:26.025178Z",
     "iopub.status.busy": "2025-01-22T08:53:26.025178Z",
     "iopub.status.idle": "2025-01-22T08:53:26.040800Z",
     "shell.execute_reply": "2025-01-22T08:53:26.040800Z"
    }
   },
   "outputs": [],
   "source": [
    "cfg_sources = [\n",
    "    {\n",
    "        \"name\": \"FCHIP_Current\",\n",
    "        \"reference_designator\": \"FCHIP\",\n",
    "        \"type\": \"current\",\n",
    "        \"magnitude\": 2,\n",
    "        \"distributed\": True,\n",
    "        \"positive_terminal\": {\"net\": \"VDD\"},\n",
    "        \"negative_terminal\": {\"nearest_pin\": {\"reference_net\": \"VSS\", \"search_radius\": 5e-3}},\n",
    "    },\n",
    "    {\n",
    "        \"name\": \"BGA_Voltage\",\n",
    "        \"reference_designator\": \"BGA\",\n",
    "        \"type\": \"voltage\",\n",
    "        \"magnitude\": 1,\n",
    "        \"positive_terminal\": {\"pin_group\": \"BGA_VDD\"},\n",
    "        \"negative_terminal\": {\"pin_group\": \"BGA_VSS\"},\n",
    "    },\n",
    "]"
   ]
  },
  {
   "cell_type": "markdown",
   "id": "7deb6ee7",
   "metadata": {},
   "source": [
    "Define DCIR setup."
   ]
  },
  {
   "cell_type": "code",
   "execution_count": 7,
   "id": "38532a60",
   "metadata": {
    "execution": {
     "iopub.execute_input": "2025-01-22T08:53:26.040800Z",
     "iopub.status.busy": "2025-01-22T08:53:26.040800Z",
     "iopub.status.idle": "2025-01-22T08:53:26.056425Z",
     "shell.execute_reply": "2025-01-22T08:53:26.056425Z"
    }
   },
   "outputs": [],
   "source": [
    "cfg_setups = [\n",
    "    {\n",
    "        \"name\": \"siwave_dc\",\n",
    "        \"type\": \"siwave_dc\",\n",
    "        \"dc_slider_position\": 1,\n",
    "        \"dc_ir_settings\": {\"export_dc_thermal_data\": True},\n",
    "    }\n",
    "]"
   ]
  },
  {
   "cell_type": "markdown",
   "id": "79f167a3",
   "metadata": {},
   "source": [
    "Create final configuration."
   ]
  },
  {
   "cell_type": "code",
   "execution_count": 8,
   "id": "79f53e49",
   "metadata": {
    "execution": {
     "iopub.execute_input": "2025-01-22T08:53:26.056425Z",
     "iopub.status.busy": "2025-01-22T08:53:26.056425Z",
     "iopub.status.idle": "2025-01-22T08:53:26.072040Z",
     "shell.execute_reply": "2025-01-22T08:53:26.072040Z"
    }
   },
   "outputs": [],
   "source": [
    "cfg = {\n",
    "    \"components\": cfg_components,\n",
    "    \"sources\": cfg_sources,\n",
    "    \"pin_groups\": cfg_pin_groups,\n",
    "    \"setups\": cfg_setups,\n",
    "}"
   ]
  },
  {
   "cell_type": "markdown",
   "id": "c90763bb",
   "metadata": {},
   "source": [
    "Create the config file."
   ]
  },
  {
   "cell_type": "code",
   "execution_count": 9,
   "id": "548520ff",
   "metadata": {
    "execution": {
     "iopub.execute_input": "2025-01-22T08:53:26.072040Z",
     "iopub.status.busy": "2025-01-22T08:53:26.072040Z",
     "iopub.status.idle": "2025-01-22T08:53:26.087668Z",
     "shell.execute_reply": "2025-01-22T08:53:26.087668Z"
    }
   },
   "outputs": [],
   "source": [
    "file_json = os.path.join(temp_folder.name, \"edb_configuration.json\")\n",
    "with open(file_json, \"w\") as f:\n",
    "    json.dump(cfg, f, indent=4, ensure_ascii=False)"
   ]
  },
  {
   "cell_type": "markdown",
   "id": "7d36e328",
   "metadata": {},
   "source": [
    "## Apply Config file"
   ]
  },
  {
   "cell_type": "markdown",
   "id": "0269e182",
   "metadata": {},
   "source": [
    "Apply configuration to the example layout"
   ]
  },
  {
   "cell_type": "code",
   "execution_count": 10,
   "id": "4febbc43",
   "metadata": {
    "execution": {
     "iopub.execute_input": "2025-01-22T08:53:26.087668Z",
     "iopub.status.busy": "2025-01-22T08:53:26.087668Z",
     "iopub.status.idle": "2025-01-22T08:53:31.308098Z",
     "shell.execute_reply": "2025-01-22T08:53:31.308098Z"
    }
   },
   "outputs": [
    {
     "data": {
      "text/plain": [
       "True"
      ]
     },
     "execution_count": 10,
     "metadata": {},
     "output_type": "execute_result"
    }
   ],
   "source": [
    "edbapp.configuration.load(config_file=file_json)\n",
    "edbapp.configuration.run()"
   ]
  },
  {
   "cell_type": "markdown",
   "id": "93e260d4",
   "metadata": {},
   "source": [
    "Save and close EDB."
   ]
  },
  {
   "cell_type": "code",
   "execution_count": 11,
   "id": "eef7f430",
   "metadata": {
    "execution": {
     "iopub.execute_input": "2025-01-22T08:53:31.308098Z",
     "iopub.status.busy": "2025-01-22T08:53:31.308098Z",
     "iopub.status.idle": "2025-01-22T08:53:31.386288Z",
     "shell.execute_reply": "2025-01-22T08:53:31.386288Z"
    }
   },
   "outputs": [
    {
     "data": {
      "text/plain": [
       "True"
      ]
     },
     "execution_count": 11,
     "metadata": {},
     "output_type": "execute_result"
    }
   ],
   "source": [
    "edbapp.save()\n",
    "edbapp.close()"
   ]
  },
  {
   "cell_type": "markdown",
   "id": "4f539426",
   "metadata": {},
   "source": [
    "The configured EDB file is saved in a temp folder."
   ]
  },
  {
   "cell_type": "code",
   "execution_count": 12,
   "id": "31eb4b38",
   "metadata": {
    "execution": {
     "iopub.execute_input": "2025-01-22T08:53:31.386288Z",
     "iopub.status.busy": "2025-01-22T08:53:31.386288Z",
     "iopub.status.idle": "2025-01-22T08:53:31.401911Z",
     "shell.execute_reply": "2025-01-22T08:53:31.401911Z"
    }
   },
   "outputs": [
    {
     "name": "stdout",
     "output_type": "stream",
     "text": [
      "C:\\Users\\ansys\\AppData\\Local\\Temp\\tmpmhkza63h.ansys\n"
     ]
    }
   ],
   "source": [
    "print(temp_folder.name)"
   ]
  },
  {
   "cell_type": "markdown",
   "id": "c3330c5f",
   "metadata": {},
   "source": [
    "## Load edb into HFSS 3D Layout."
   ]
  },
  {
   "cell_type": "code",
   "execution_count": 13,
   "id": "1c781c74",
   "metadata": {
    "execution": {
     "iopub.execute_input": "2025-01-22T08:53:31.401911Z",
     "iopub.status.busy": "2025-01-22T08:53:31.401911Z",
     "iopub.status.idle": "2025-01-22T08:54:04.459719Z",
     "shell.execute_reply": "2025-01-22T08:54:04.459719Z"
    }
   },
   "outputs": [
    {
     "name": "stdout",
     "output_type": "stream",
     "text": [
      "PyAEDT INFO: Python version 3.10.11 (tags/v3.10.11:7d4cc5a, Apr  5 2023, 00:38:17) [MSC v.1929 64 bit (AMD64)]\n"
     ]
    },
    {
     "name": "stdout",
     "output_type": "stream",
     "text": [
      "PyAEDT INFO: PyAEDT version 0.14.dev0.\n"
     ]
    },
    {
     "name": "stdout",
     "output_type": "stream",
     "text": [
      "PyAEDT INFO: Initializing new Desktop session.\n"
     ]
    },
    {
     "name": "stdout",
     "output_type": "stream",
     "text": [
      "PyAEDT INFO: Log on console is enabled.\n"
     ]
    },
    {
     "name": "stdout",
     "output_type": "stream",
     "text": [
      "PyAEDT INFO: Log on file C:\\Users\\ansys\\AppData\\Local\\Temp\\pyaedt_ansys_1b62da3b-1a8f-4739-979a-c37d699ef12d.log is enabled.\n"
     ]
    },
    {
     "name": "stdout",
     "output_type": "stream",
     "text": [
      "PyAEDT INFO: Log on AEDT is enabled.\n"
     ]
    },
    {
     "name": "stdout",
     "output_type": "stream",
     "text": [
      "PyAEDT INFO: Debug logger is disabled. PyAEDT methods will not be logged.\n"
     ]
    },
    {
     "name": "stdout",
     "output_type": "stream",
     "text": [
      "PyAEDT INFO: Launching PyAEDT with gRPC plugin.\n"
     ]
    },
    {
     "name": "stdout",
     "output_type": "stream",
     "text": [
      "PyAEDT INFO: New AEDT session is starting on gRPC port 64474\n"
     ]
    },
    {
     "name": "stdout",
     "output_type": "stream",
     "text": [
      "PyAEDT INFO: AEDT installation Path C:\\Program Files\\AnsysEM\\v242\\Win64\n"
     ]
    },
    {
     "name": "stdout",
     "output_type": "stream",
     "text": [
      "PyAEDT INFO: Ansoft.ElectronicsDesktop.2024.2 version started with process ID 3136.\n"
     ]
    },
    {
     "name": "stdout",
     "output_type": "stream",
     "text": [
      "PyAEDT INFO: EDB folder C:\\Users\\ansys\\AppData\\Local\\Temp\\tmpmhkza63h.ansys\\edb/BGA_Package.aedb has been imported to project BGA_Package\n"
     ]
    },
    {
     "name": "stdout",
     "output_type": "stream",
     "text": [
      "PyAEDT INFO: Active Design set to 0;BGA_Package\n"
     ]
    },
    {
     "name": "stdout",
     "output_type": "stream",
     "text": [
      "PyAEDT INFO: Aedt Objects correctly read\n"
     ]
    }
   ],
   "source": [
    "h3d = Hfss3dLayout(edbapp.edbpath, version=AEDT_VERSION, non_graphical=NG_MODE, new_desktop=True)"
   ]
  },
  {
   "cell_type": "markdown",
   "id": "ea7edb63",
   "metadata": {},
   "source": [
    "Solve."
   ]
  },
  {
   "cell_type": "code",
   "execution_count": 14,
   "id": "463c55a0",
   "metadata": {
    "execution": {
     "iopub.execute_input": "2025-01-22T08:54:04.459719Z",
     "iopub.status.busy": "2025-01-22T08:54:04.459719Z",
     "iopub.status.idle": "2025-01-22T08:54:29.308677Z",
     "shell.execute_reply": "2025-01-22T08:54:29.308677Z"
    }
   },
   "outputs": [
    {
     "name": "stdout",
     "output_type": "stream",
     "text": [
      "PyAEDT INFO: Key Desktop/ActiveDSOConfigurations/HFSS 3D Layout Design correctly changed.\n"
     ]
    },
    {
     "name": "stdout",
     "output_type": "stream",
     "text": [
      "PyAEDT INFO: Solving design setup siwave_dc\n"
     ]
    },
    {
     "name": "stdout",
     "output_type": "stream",
     "text": [
      "PyAEDT INFO: Key Desktop/ActiveDSOConfigurations/HFSS 3D Layout Design correctly changed.\n"
     ]
    },
    {
     "name": "stdout",
     "output_type": "stream",
     "text": [
      "PyAEDT INFO: Design setup siwave_dc solved correctly in 0.0h 0.0m 25.0s\n"
     ]
    },
    {
     "data": {
      "text/plain": [
       "True"
      ]
     },
     "execution_count": 14,
     "metadata": {},
     "output_type": "execute_result"
    }
   ],
   "source": [
    "h3d.analyze(setup=\"siwave_dc\")"
   ]
  },
  {
   "cell_type": "markdown",
   "id": "f3e34565",
   "metadata": {},
   "source": [
    "Plot insertion loss."
   ]
  },
  {
   "cell_type": "code",
   "execution_count": 15,
   "id": "5a263fb4",
   "metadata": {
    "execution": {
     "iopub.execute_input": "2025-01-22T08:54:29.308677Z",
     "iopub.status.busy": "2025-01-22T08:54:29.308677Z",
     "iopub.status.idle": "2025-01-22T08:54:30.098209Z",
     "shell.execute_reply": "2025-01-22T08:54:30.098209Z"
    }
   },
   "outputs": [
    {
     "name": "stdout",
     "output_type": "stream",
     "text": [
      "PyAEDT INFO: Parsing C:/Users/ansys/AppData/Local/Temp/tmpmhkza63h.ansys/edb/BGA_Package.aedt.\n"
     ]
    },
    {
     "name": "stdout",
     "output_type": "stream",
     "text": [
      "PyAEDT INFO: File C:/Users/ansys/AppData/Local/Temp/tmpmhkza63h.ansys/edb/BGA_Package.aedt correctly loaded. Elapsed time: 0m 0sec\n"
     ]
    },
    {
     "name": "stdout",
     "output_type": "stream",
     "text": [
      "PyAEDT INFO: aedt file load time 0.032442331314086914\n"
     ]
    },
    {
     "name": "stdout",
     "output_type": "stream",
     "text": [
      "PyAEDT INFO: PostProcessor class has been initialized! Elapsed time: 0m 0sec\n"
     ]
    },
    {
     "name": "stdout",
     "output_type": "stream",
     "text": [
      "PyAEDT INFO: Post class has been initialized! Elapsed time: 0m 0sec\n"
     ]
    },
    {
     "name": "stdout",
     "output_type": "stream",
     "text": [
      "PyAEDT INFO: Loading Modeler.\n"
     ]
    },
    {
     "name": "stdout",
     "output_type": "stream",
     "text": [
      "PyAEDT INFO: Modeler loaded.\n"
     ]
    },
    {
     "name": "stdout",
     "output_type": "stream",
     "text": [
      "PyAEDT INFO: EDB loaded.\n"
     ]
    },
    {
     "name": "stdout",
     "output_type": "stream",
     "text": [
      "PyAEDT INFO: Layers loaded.\n"
     ]
    },
    {
     "name": "stdout",
     "output_type": "stream",
     "text": [
      "PyAEDT INFO: Primitives loaded.\n"
     ]
    },
    {
     "name": "stdout",
     "output_type": "stream",
     "text": [
      "PyAEDT INFO: Modeler class has been initialized! Elapsed time: 0m 0sec\n"
     ]
    },
    {
     "name": "stdout",
     "output_type": "stream",
     "text": [
      "PyAEDT INFO: Logger is initialized in EDB.\n"
     ]
    },
    {
     "name": "stdout",
     "output_type": "stream",
     "text": [
      "PyAEDT INFO: legacy v0.35.0\n"
     ]
    },
    {
     "name": "stdout",
     "output_type": "stream",
     "text": [
      "PyAEDT INFO: Python version 3.10.11 (tags/v3.10.11:7d4cc5a, Apr  5 2023, 00:38:17) [MSC v.1929 64 bit (AMD64)]\n"
     ]
    },
    {
     "name": "stdout",
     "output_type": "stream",
     "text": [
      "PyAEDT INFO: Database BGA_Package.aedb Opened in 2024.2\n"
     ]
    },
    {
     "name": "stdout",
     "output_type": "stream",
     "text": [
      "PyAEDT INFO: Cell BGA_Package Opened\n"
     ]
    },
    {
     "name": "stdout",
     "output_type": "stream",
     "text": [
      "PyAEDT INFO: Builder was initialized.\n"
     ]
    },
    {
     "name": "stdout",
     "output_type": "stream",
     "text": [
      "PyAEDT INFO: EDB initialized.\n"
     ]
    },
    {
     "data": {
      "text/plain": [
       "<ansys.aedt.core.visualization.post.field_data.FieldPlot at 0x2aaaaa5fc10>"
      ]
     },
     "execution_count": 15,
     "metadata": {},
     "output_type": "execute_result"
    }
   ],
   "source": [
    "h3d.post.create_fieldplot_layers_nets(layers_nets=[[\"VDD_C1\", \"VDD\"]], quantity=\"Voltage\", setup=\"siwave_dc\")"
   ]
  },
  {
   "cell_type": "markdown",
   "id": "bc534f7a",
   "metadata": {},
   "source": [
    "Shut Down Electronics Desktop"
   ]
  },
  {
   "cell_type": "code",
   "execution_count": 16,
   "id": "5aec59bc",
   "metadata": {
    "execution": {
     "iopub.execute_input": "2025-01-22T08:54:30.098209Z",
     "iopub.status.busy": "2025-01-22T08:54:30.098209Z",
     "iopub.status.idle": "2025-01-22T08:54:33.528946Z",
     "shell.execute_reply": "2025-01-22T08:54:33.528946Z"
    }
   },
   "outputs": [
    {
     "name": "stdout",
     "output_type": "stream",
     "text": [
      "PyAEDT INFO: Desktop has been released and closed.\n"
     ]
    },
    {
     "data": {
      "text/plain": [
       "True"
      ]
     },
     "execution_count": 16,
     "metadata": {},
     "output_type": "execute_result"
    }
   ],
   "source": [
    "h3d.close_desktop()"
   ]
  },
  {
   "cell_type": "markdown",
   "id": "13e73e26",
   "metadata": {},
   "source": [
    "All project files are saved in the folder ``temp_file.dir``. If you've run this example as a Jupyter notebook you\n",
    "can retrieve those project files."
   ]
  }
 ],
 "metadata": {
  "jupytext": {
   "cell_metadata_filter": "-all",
   "main_language": "python",
   "notebook_metadata_filter": "-all",
   "text_representation": {
    "extension": ".py",
    "format_name": "light"
   }
  },
  "language_info": {
   "codemirror_mode": {
    "name": "ipython",
    "version": 3
   },
   "file_extension": ".py",
   "mimetype": "text/x-python",
   "name": "python",
   "nbconvert_exporter": "python",
   "pygments_lexer": "ipython3",
   "version": "3.10.11"
  }
 },
 "nbformat": 4,
 "nbformat_minor": 5
}
