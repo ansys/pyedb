{
 "cells": [
  {
   "cell_type": "markdown",
   "id": "afd0daf6",
   "metadata": {},
   "source": [
    "# Import Materials\n",
    "This example shows how to import materials."
   ]
  },
  {
   "cell_type": "markdown",
   "id": "3d395f32",
   "metadata": {},
   "source": [
    "### Import the required packages"
   ]
  },
  {
   "cell_type": "code",
   "execution_count": 1,
   "id": "fedafa13",
   "metadata": {
    "execution": {
     "iopub.execute_input": "2024-09-17T08:11:21.621541Z",
     "iopub.status.busy": "2024-09-17T08:11:21.621541Z",
     "iopub.status.idle": "2024-09-17T08:11:22.731539Z",
     "shell.execute_reply": "2024-09-17T08:11:22.731539Z"
    }
   },
   "outputs": [],
   "source": [
    "import json\n",
    "from pathlib import Path\n",
    "import tempfile\n",
    "\n",
    "from IPython.display import display\n",
    "from ansys.aedt.core.downloads import download_file\n",
    "import pandas as pd\n",
    "\n",
    "from pyedb import Edb\n",
    "\n",
    "AEDT_VERSION = \"2024.2\"\n",
    "NG_MODE = False\n"
   ]
  },
  {
   "cell_type": "markdown",
   "id": "de812260",
   "metadata": {},
   "source": [
    "Download the example PCB data."
   ]
  },
  {
   "cell_type": "code",
   "execution_count": 2,
   "id": "6ab2c4bc",
   "metadata": {
    "execution": {
     "iopub.execute_input": "2024-09-17T08:11:22.731539Z",
     "iopub.status.busy": "2024-09-17T08:11:22.731539Z",
     "iopub.status.idle": "2024-09-17T08:11:23.774591Z",
     "shell.execute_reply": "2024-09-17T08:11:23.774591Z"
    }
   },
   "outputs": [],
   "source": [
    "temp_folder = tempfile.TemporaryDirectory(suffix=\".ansys\")\n",
    "file_edb = download_file(source=\"edb/ANSYS-HSD_V1.aedb\", destination=temp_folder.name)"
   ]
  },
  {
   "cell_type": "markdown",
   "id": "51331488",
   "metadata": {},
   "source": [
    "## Load example layout."
   ]
  },
  {
   "cell_type": "code",
   "execution_count": 3,
   "id": "2dcf440c",
   "metadata": {
    "execution": {
     "iopub.execute_input": "2024-09-17T08:11:23.774591Z",
     "iopub.status.busy": "2024-09-17T08:11:23.774591Z",
     "iopub.status.idle": "2024-09-17T08:11:36.576377Z",
     "shell.execute_reply": "2024-09-17T08:11:36.576377Z"
    }
   },
   "outputs": [
    {
     "name": "stdout",
     "output_type": "stream",
     "text": [
      "PyAEDT INFO: Logger is initialized in EDB.\n"
     ]
    },
    {
     "name": "stdout",
     "output_type": "stream",
     "text": [
      "PyAEDT INFO: legacy v0.28.0\n"
     ]
    },
    {
     "name": "stdout",
     "output_type": "stream",
     "text": [
      "PyAEDT INFO: Python version 3.10.11 (tags/v3.10.11:7d4cc5a, Apr  5 2023, 00:38:17) [MSC v.1929 64 bit (AMD64)]\n"
     ]
    },
    {
     "name": "stdout",
     "output_type": "stream",
     "text": [
      "PyAEDT INFO: Database ANSYS-HSD_V1.aedb Opened in 2024.2\n"
     ]
    },
    {
     "name": "stdout",
     "output_type": "stream",
     "text": [
      "PyAEDT INFO: Cell main Opened\n"
     ]
    },
    {
     "name": "stdout",
     "output_type": "stream",
     "text": [
      "PyAEDT INFO: Builder was initialized.\n"
     ]
    },
    {
     "name": "stdout",
     "output_type": "stream",
     "text": [
      "PyAEDT INFO: EDB initialized.\n"
     ]
    }
   ],
   "source": [
    "edbapp = Edb(file_edb, edbversion=AEDT_VERSION)"
   ]
  },
  {
   "cell_type": "markdown",
   "id": "d26bb79b",
   "metadata": {},
   "source": [
    "## Review materials from layout"
   ]
  },
  {
   "cell_type": "markdown",
   "id": "659b72a8",
   "metadata": {},
   "source": [
    "Get materials from layout in a dictionary. Materials are exported together with stadckup."
   ]
  },
  {
   "cell_type": "code",
   "execution_count": 4,
   "id": "45f810e0",
   "metadata": {
    "execution": {
     "iopub.execute_input": "2024-09-17T08:11:36.576377Z",
     "iopub.status.busy": "2024-09-17T08:11:36.576377Z",
     "iopub.status.idle": "2024-09-17T08:11:36.623231Z",
     "shell.execute_reply": "2024-09-17T08:11:36.623231Z"
    },
    "lines_to_next_cell": 2
   },
   "outputs": [
    {
     "name": "stdout",
     "output_type": "stream",
     "text": [
      "PyAEDT INFO: Getting data from layout database.\n"
     ]
    }
   ],
   "source": [
    "data_cfg = edbapp.configuration.get_data_from_db(stackup=True)"
   ]
  },
  {
   "cell_type": "code",
   "execution_count": 5,
   "id": "b279baa8",
   "metadata": {
    "execution": {
     "iopub.execute_input": "2024-09-17T08:11:36.623231Z",
     "iopub.status.busy": "2024-09-17T08:11:36.623231Z",
     "iopub.status.idle": "2024-09-17T08:11:36.654431Z",
     "shell.execute_reply": "2024-09-17T08:11:36.654431Z"
    }
   },
   "outputs": [
    {
     "data": {
      "text/html": [
       "<div>\n",
       "<style scoped>\n",
       "    .dataframe tbody tr th:only-of-type {\n",
       "        vertical-align: middle;\n",
       "    }\n",
       "\n",
       "    .dataframe tbody tr th {\n",
       "        vertical-align: top;\n",
       "    }\n",
       "\n",
       "    .dataframe thead th {\n",
       "        text-align: right;\n",
       "    }\n",
       "</style>\n",
       "<table border=\"1\" class=\"dataframe\">\n",
       "  <thead>\n",
       "    <tr style=\"text-align: right;\">\n",
       "      <th></th>\n",
       "      <th>name</th>\n",
       "      <th>permittivity</th>\n",
       "      <th>conductivity</th>\n",
       "      <th>dielectric_loss_tangent</th>\n",
       "      <th>magnetic_loss_tangent</th>\n",
       "      <th>mass_density</th>\n",
       "      <th>permeability</th>\n",
       "      <th>poisson_ratio</th>\n",
       "      <th>specific_heat</th>\n",
       "      <th>thermal_conductivity</th>\n",
       "    </tr>\n",
       "  </thead>\n",
       "  <tbody>\n",
       "    <tr>\n",
       "      <th>0</th>\n",
       "      <td>copper</td>\n",
       "      <td>0.00</td>\n",
       "      <td>58000000.0</td>\n",
       "      <td>0.000</td>\n",
       "      <td>0.0</td>\n",
       "      <td>0.0</td>\n",
       "      <td>0.0</td>\n",
       "      <td>0.00</td>\n",
       "      <td>0.0</td>\n",
       "      <td>0.000</td>\n",
       "    </tr>\n",
       "    <tr>\n",
       "      <th>1</th>\n",
       "      <td>FR4_epoxy</td>\n",
       "      <td>4.40</td>\n",
       "      <td>0.0</td>\n",
       "      <td>0.020</td>\n",
       "      <td>0.0</td>\n",
       "      <td>1900.0</td>\n",
       "      <td>0.0</td>\n",
       "      <td>0.28</td>\n",
       "      <td>1150.0</td>\n",
       "      <td>0.294</td>\n",
       "    </tr>\n",
       "    <tr>\n",
       "      <th>2</th>\n",
       "      <td>Megtron4</td>\n",
       "      <td>3.77</td>\n",
       "      <td>0.0</td>\n",
       "      <td>0.005</td>\n",
       "      <td>0.0</td>\n",
       "      <td>0.0</td>\n",
       "      <td>0.0</td>\n",
       "      <td>0.00</td>\n",
       "      <td>0.0</td>\n",
       "      <td>0.000</td>\n",
       "    </tr>\n",
       "    <tr>\n",
       "      <th>3</th>\n",
       "      <td>Megtron4_2</td>\n",
       "      <td>3.47</td>\n",
       "      <td>0.0</td>\n",
       "      <td>0.006</td>\n",
       "      <td>0.0</td>\n",
       "      <td>0.0</td>\n",
       "      <td>0.0</td>\n",
       "      <td>0.00</td>\n",
       "      <td>0.0</td>\n",
       "      <td>0.000</td>\n",
       "    </tr>\n",
       "    <tr>\n",
       "      <th>4</th>\n",
       "      <td>Megtron4_3</td>\n",
       "      <td>4.20</td>\n",
       "      <td>0.0</td>\n",
       "      <td>0.005</td>\n",
       "      <td>0.0</td>\n",
       "      <td>0.0</td>\n",
       "      <td>0.0</td>\n",
       "      <td>0.00</td>\n",
       "      <td>0.0</td>\n",
       "      <td>0.000</td>\n",
       "    </tr>\n",
       "    <tr>\n",
       "      <th>5</th>\n",
       "      <td>Solder Resist</td>\n",
       "      <td>3.00</td>\n",
       "      <td>0.0</td>\n",
       "      <td>0.000</td>\n",
       "      <td>0.0</td>\n",
       "      <td>0.0</td>\n",
       "      <td>0.0</td>\n",
       "      <td>0.00</td>\n",
       "      <td>0.0</td>\n",
       "      <td>0.000</td>\n",
       "    </tr>\n",
       "  </tbody>\n",
       "</table>\n",
       "</div>"
      ],
      "text/plain": [
       "            name  permittivity  conductivity  dielectric_loss_tangent  \\\n",
       "0         copper          0.00    58000000.0                    0.000   \n",
       "1      FR4_epoxy          4.40           0.0                    0.020   \n",
       "2       Megtron4          3.77           0.0                    0.005   \n",
       "3     Megtron4_2          3.47           0.0                    0.006   \n",
       "4     Megtron4_3          4.20           0.0                    0.005   \n",
       "5  Solder Resist          3.00           0.0                    0.000   \n",
       "\n",
       "   magnetic_loss_tangent  mass_density  permeability  poisson_ratio  \\\n",
       "0                    0.0           0.0           0.0           0.00   \n",
       "1                    0.0        1900.0           0.0           0.28   \n",
       "2                    0.0           0.0           0.0           0.00   \n",
       "3                    0.0           0.0           0.0           0.00   \n",
       "4                    0.0           0.0           0.0           0.00   \n",
       "5                    0.0           0.0           0.0           0.00   \n",
       "\n",
       "   specific_heat  thermal_conductivity  \n",
       "0            0.0                 0.000  \n",
       "1         1150.0                 0.294  \n",
       "2            0.0                 0.000  \n",
       "3            0.0                 0.000  \n",
       "4            0.0                 0.000  \n",
       "5            0.0                 0.000  "
      ]
     },
     "metadata": {},
     "output_type": "display_data"
    }
   ],
   "source": [
    "df = pd.DataFrame(data=data_cfg[\"stackup\"][\"materials\"])\n",
    "display(df)"
   ]
  },
  {
   "cell_type": "markdown",
   "id": "0b96f058",
   "metadata": {},
   "source": [
    "## Add a new material"
   ]
  },
  {
   "cell_type": "code",
   "execution_count": 6,
   "id": "eaff543a",
   "metadata": {
    "execution": {
     "iopub.execute_input": "2024-09-17T08:11:36.654431Z",
     "iopub.status.busy": "2024-09-17T08:11:36.654431Z",
     "iopub.status.idle": "2024-09-17T08:11:36.670135Z",
     "shell.execute_reply": "2024-09-17T08:11:36.670135Z"
    }
   },
   "outputs": [],
   "source": [
    "data_cfg[\"stackup\"][\"materials\"].append(\n",
    "    {\"name\": \"soldermask\", \"permittivity\": 3.3, \"dielectric_loss_tangent\": 0.02},\n",
    ")"
   ]
  },
  {
   "cell_type": "markdown",
   "id": "edf7c7b9",
   "metadata": {},
   "source": [
    "## Edit existing material properties"
   ]
  },
  {
   "cell_type": "code",
   "execution_count": 7,
   "id": "c12784bf",
   "metadata": {
    "execution": {
     "iopub.execute_input": "2024-09-17T08:11:36.670135Z",
     "iopub.status.busy": "2024-09-17T08:11:36.670135Z",
     "iopub.status.idle": "2024-09-17T08:11:36.685749Z",
     "shell.execute_reply": "2024-09-17T08:11:36.685749Z"
    }
   },
   "outputs": [],
   "source": [
    "data_cfg[\"stackup\"][\"materials\"][1][\"name\"] = \"fr4_epoxy\"\n",
    "data_cfg[\"stackup\"][\"materials\"][1][\"dielectric_loss_tangent\"] = 0.015"
   ]
  },
  {
   "cell_type": "markdown",
   "id": "a388b445",
   "metadata": {},
   "source": [
    "## Review modified materials"
   ]
  },
  {
   "cell_type": "code",
   "execution_count": 8,
   "id": "8dd07879",
   "metadata": {
    "execution": {
     "iopub.execute_input": "2024-09-17T08:11:36.685749Z",
     "iopub.status.busy": "2024-09-17T08:11:36.685749Z",
     "iopub.status.idle": "2024-09-17T08:11:36.717010Z",
     "shell.execute_reply": "2024-09-17T08:11:36.717010Z"
    }
   },
   "outputs": [
    {
     "data": {
      "text/html": [
       "<div>\n",
       "<style scoped>\n",
       "    .dataframe tbody tr th:only-of-type {\n",
       "        vertical-align: middle;\n",
       "    }\n",
       "\n",
       "    .dataframe tbody tr th {\n",
       "        vertical-align: top;\n",
       "    }\n",
       "\n",
       "    .dataframe thead th {\n",
       "        text-align: right;\n",
       "    }\n",
       "</style>\n",
       "<table border=\"1\" class=\"dataframe\">\n",
       "  <thead>\n",
       "    <tr style=\"text-align: right;\">\n",
       "      <th></th>\n",
       "      <th>name</th>\n",
       "      <th>permittivity</th>\n",
       "      <th>conductivity</th>\n",
       "      <th>dielectric_loss_tangent</th>\n",
       "      <th>magnetic_loss_tangent</th>\n",
       "      <th>mass_density</th>\n",
       "      <th>permeability</th>\n",
       "      <th>poisson_ratio</th>\n",
       "      <th>specific_heat</th>\n",
       "      <th>thermal_conductivity</th>\n",
       "    </tr>\n",
       "  </thead>\n",
       "  <tbody>\n",
       "    <tr>\n",
       "      <th>0</th>\n",
       "      <td>copper</td>\n",
       "      <td>0.00</td>\n",
       "      <td>58000000.0</td>\n",
       "      <td>0.000</td>\n",
       "      <td>0.0</td>\n",
       "      <td>0.0</td>\n",
       "      <td>0.0</td>\n",
       "      <td>0.00</td>\n",
       "      <td>0.0</td>\n",
       "      <td>0.000</td>\n",
       "    </tr>\n",
       "    <tr>\n",
       "      <th>1</th>\n",
       "      <td>fr4_epoxy</td>\n",
       "      <td>4.40</td>\n",
       "      <td>0.0</td>\n",
       "      <td>0.015</td>\n",
       "      <td>0.0</td>\n",
       "      <td>1900.0</td>\n",
       "      <td>0.0</td>\n",
       "      <td>0.28</td>\n",
       "      <td>1150.0</td>\n",
       "      <td>0.294</td>\n",
       "    </tr>\n",
       "    <tr>\n",
       "      <th>2</th>\n",
       "      <td>Megtron4</td>\n",
       "      <td>3.77</td>\n",
       "      <td>0.0</td>\n",
       "      <td>0.005</td>\n",
       "      <td>0.0</td>\n",
       "      <td>0.0</td>\n",
       "      <td>0.0</td>\n",
       "      <td>0.00</td>\n",
       "      <td>0.0</td>\n",
       "      <td>0.000</td>\n",
       "    </tr>\n",
       "    <tr>\n",
       "      <th>3</th>\n",
       "      <td>Megtron4_2</td>\n",
       "      <td>3.47</td>\n",
       "      <td>0.0</td>\n",
       "      <td>0.006</td>\n",
       "      <td>0.0</td>\n",
       "      <td>0.0</td>\n",
       "      <td>0.0</td>\n",
       "      <td>0.00</td>\n",
       "      <td>0.0</td>\n",
       "      <td>0.000</td>\n",
       "    </tr>\n",
       "    <tr>\n",
       "      <th>4</th>\n",
       "      <td>Megtron4_3</td>\n",
       "      <td>4.20</td>\n",
       "      <td>0.0</td>\n",
       "      <td>0.005</td>\n",
       "      <td>0.0</td>\n",
       "      <td>0.0</td>\n",
       "      <td>0.0</td>\n",
       "      <td>0.00</td>\n",
       "      <td>0.0</td>\n",
       "      <td>0.000</td>\n",
       "    </tr>\n",
       "    <tr>\n",
       "      <th>5</th>\n",
       "      <td>Solder Resist</td>\n",
       "      <td>3.00</td>\n",
       "      <td>0.0</td>\n",
       "      <td>0.000</td>\n",
       "      <td>0.0</td>\n",
       "      <td>0.0</td>\n",
       "      <td>0.0</td>\n",
       "      <td>0.00</td>\n",
       "      <td>0.0</td>\n",
       "      <td>0.000</td>\n",
       "    </tr>\n",
       "    <tr>\n",
       "      <th>6</th>\n",
       "      <td>soldermask</td>\n",
       "      <td>3.30</td>\n",
       "      <td>NaN</td>\n",
       "      <td>0.020</td>\n",
       "      <td>NaN</td>\n",
       "      <td>NaN</td>\n",
       "      <td>NaN</td>\n",
       "      <td>NaN</td>\n",
       "      <td>NaN</td>\n",
       "      <td>NaN</td>\n",
       "    </tr>\n",
       "  </tbody>\n",
       "</table>\n",
       "</div>"
      ],
      "text/plain": [
       "            name  permittivity  conductivity  dielectric_loss_tangent  \\\n",
       "0         copper          0.00    58000000.0                    0.000   \n",
       "1      fr4_epoxy          4.40           0.0                    0.015   \n",
       "2       Megtron4          3.77           0.0                    0.005   \n",
       "3     Megtron4_2          3.47           0.0                    0.006   \n",
       "4     Megtron4_3          4.20           0.0                    0.005   \n",
       "5  Solder Resist          3.00           0.0                    0.000   \n",
       "6     soldermask          3.30           NaN                    0.020   \n",
       "\n",
       "   magnetic_loss_tangent  mass_density  permeability  poisson_ratio  \\\n",
       "0                    0.0           0.0           0.0           0.00   \n",
       "1                    0.0        1900.0           0.0           0.28   \n",
       "2                    0.0           0.0           0.0           0.00   \n",
       "3                    0.0           0.0           0.0           0.00   \n",
       "4                    0.0           0.0           0.0           0.00   \n",
       "5                    0.0           0.0           0.0           0.00   \n",
       "6                    NaN           NaN           NaN            NaN   \n",
       "\n",
       "   specific_heat  thermal_conductivity  \n",
       "0            0.0                 0.000  \n",
       "1         1150.0                 0.294  \n",
       "2            0.0                 0.000  \n",
       "3            0.0                 0.000  \n",
       "4            0.0                 0.000  \n",
       "5            0.0                 0.000  \n",
       "6            NaN                   NaN  "
      ]
     },
     "metadata": {},
     "output_type": "display_data"
    }
   ],
   "source": [
    "df = pd.DataFrame(data=data_cfg[\"stackup\"][\"materials\"])\n",
    "display(df)"
   ]
  },
  {
   "cell_type": "markdown",
   "id": "f291c7b5",
   "metadata": {},
   "source": [
    "## Write material definition into a json file"
   ]
  },
  {
   "cell_type": "code",
   "execution_count": 9,
   "id": "601d75b6",
   "metadata": {
    "execution": {
     "iopub.execute_input": "2024-09-17T08:11:36.717010Z",
     "iopub.status.busy": "2024-09-17T08:11:36.717010Z",
     "iopub.status.idle": "2024-09-17T08:11:36.732746Z",
     "shell.execute_reply": "2024-09-17T08:11:36.732746Z"
    },
    "lines_to_next_cell": 2
   },
   "outputs": [],
   "source": [
    "file_cfg = Path(temp_folder.name) / \"edb_configuration.json\"\n",
    "with open(file_cfg, \"w\") as f:\n",
    "    json.dump(data_cfg, f, indent=4, ensure_ascii=False)"
   ]
  },
  {
   "cell_type": "markdown",
   "id": "295f8566",
   "metadata": {},
   "source": [
    "## Load materials from json configuration file"
   ]
  },
  {
   "cell_type": "code",
   "execution_count": 10,
   "id": "74358bf8",
   "metadata": {
    "execution": {
     "iopub.execute_input": "2024-09-17T08:11:36.732746Z",
     "iopub.status.busy": "2024-09-17T08:11:36.732746Z",
     "iopub.status.idle": "2024-09-17T08:11:44.094397Z",
     "shell.execute_reply": "2024-09-17T08:11:44.094397Z"
    }
   },
   "outputs": [
    {
     "data": {
      "text/plain": [
       "<pyedb.configuration.cfg_data.CfgData at 0x25a8d1c90b0>"
      ]
     },
     "execution_count": 10,
     "metadata": {},
     "output_type": "execute_result"
    }
   ],
   "source": [
    "edbapp.configuration.load(str(file_cfg), apply_file=True)"
   ]
  },
  {
   "cell_type": "markdown",
   "id": "342ff6c5",
   "metadata": {},
   "source": [
    "## Review materials from layout"
   ]
  },
  {
   "cell_type": "code",
   "execution_count": 11,
   "id": "e890b399",
   "metadata": {
    "execution": {
     "iopub.execute_input": "2024-09-17T08:11:44.094397Z",
     "iopub.status.busy": "2024-09-17T08:11:44.094397Z",
     "iopub.status.idle": "2024-09-17T08:11:44.110027Z",
     "shell.execute_reply": "2024-09-17T08:11:44.110027Z"
    }
   },
   "outputs": [
    {
     "data": {
      "text/plain": [
       "{'copper': <pyedb.dotnet.edb_core.materials.Material at 0x25aad321aa0>,\n",
       " 'fr4_epoxy': <pyedb.dotnet.edb_core.materials.Material at 0x25aad331860>,\n",
       " 'Megtron4': <pyedb.dotnet.edb_core.materials.Material at 0x25aad331d60>,\n",
       " 'Megtron4_2': <pyedb.dotnet.edb_core.materials.Material at 0x25aad331ba0>,\n",
       " 'Megtron4_3': <pyedb.dotnet.edb_core.materials.Material at 0x25aad3326e0>,\n",
       " 'Solder Resist': <pyedb.dotnet.edb_core.materials.Material at 0x25aad3325a0>,\n",
       " 'soldermask': <pyedb.dotnet.edb_core.materials.Material at 0x25aad331da0>}"
      ]
     },
     "execution_count": 11,
     "metadata": {},
     "output_type": "execute_result"
    }
   ],
   "source": [
    "edbapp.materials.materials"
   ]
  },
  {
   "cell_type": "markdown",
   "id": "2ec0f4ec",
   "metadata": {},
   "source": [
    "## Check modified material properties"
   ]
  },
  {
   "cell_type": "code",
   "execution_count": 12,
   "id": "43c2ca76",
   "metadata": {
    "execution": {
     "iopub.execute_input": "2024-09-17T08:11:44.110027Z",
     "iopub.status.busy": "2024-09-17T08:11:44.110027Z",
     "iopub.status.idle": "2024-09-17T08:11:44.125652Z",
     "shell.execute_reply": "2024-09-17T08:11:44.125652Z"
    }
   },
   "outputs": [
    {
     "data": {
      "text/plain": [
       "0.015"
      ]
     },
     "execution_count": 12,
     "metadata": {},
     "output_type": "execute_result"
    }
   ],
   "source": [
    "edbapp.materials[\"fr4_epoxy\"].loss_tangent"
   ]
  },
  {
   "cell_type": "markdown",
   "id": "bee6de80",
   "metadata": {},
   "source": [
    "## Close EDB"
   ]
  },
  {
   "cell_type": "code",
   "execution_count": 13,
   "id": "7abd1a14",
   "metadata": {
    "execution": {
     "iopub.execute_input": "2024-09-17T08:11:44.125652Z",
     "iopub.status.busy": "2024-09-17T08:11:44.125652Z",
     "iopub.status.idle": "2024-09-17T08:11:44.235382Z",
     "shell.execute_reply": "2024-09-17T08:11:44.235382Z"
    }
   },
   "outputs": [
    {
     "data": {
      "text/plain": [
       "True"
      ]
     },
     "execution_count": 13,
     "metadata": {},
     "output_type": "execute_result"
    }
   ],
   "source": [
    "edbapp.close()"
   ]
  }
 ],
 "metadata": {
  "jupytext": {
   "cell_metadata_filter": "-all",
   "main_language": "python",
   "notebook_metadata_filter": "-all",
   "text_representation": {
    "extension": ".py",
    "format_name": "light"
   }
  },
  "language_info": {
   "codemirror_mode": {
    "name": "ipython",
    "version": 3
   },
   "file_extension": ".py",
   "mimetype": "text/x-python",
   "name": "python",
   "nbconvert_exporter": "python",
   "pygments_lexer": "ipython3",
   "version": "3.10.11"
  }
 },
 "nbformat": 4,
 "nbformat_minor": 5
}
