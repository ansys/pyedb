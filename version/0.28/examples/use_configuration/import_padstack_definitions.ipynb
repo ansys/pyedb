{
 "cells": [
  {
   "cell_type": "markdown",
   "id": "151e3fed",
   "metadata": {},
   "source": [
    "# Import Padstack Definitions\n",
    "This example shows how to import padstack definitions. This includes\n",
    "\n",
    "- Download an example board\n",
    "- Create a config file with hole information\n",
    "- Create a config file with pad and anti-pad information"
   ]
  },
  {
   "cell_type": "markdown",
   "id": "a1f4609b",
   "metadata": {},
   "source": [
    "## Import the required packages"
   ]
  },
  {
   "cell_type": "code",
   "execution_count": 1,
   "id": "4cba9f2b",
   "metadata": {
    "execution": {
     "iopub.execute_input": "2024-09-17T08:11:48.317353Z",
     "iopub.status.busy": "2024-09-17T08:11:48.317353Z",
     "iopub.status.idle": "2024-09-17T08:11:49.379863Z",
     "shell.execute_reply": "2024-09-17T08:11:49.379863Z"
    }
   },
   "outputs": [],
   "source": [
    "import json\n",
    "from pathlib import Path\n",
    "import tempfile\n",
    "\n",
    "from IPython.display import display\n",
    "from ansys.aedt.core.downloads import download_file\n",
    "import pandas as pd\n",
    "\n",
    "from pyedb import Edb\n",
    "\n",
    "AEDT_VERSION = \"2024.2\"\n"
   ]
  },
  {
   "cell_type": "markdown",
   "id": "ad7a82b1",
   "metadata": {},
   "source": [
    "Download the example PCB data."
   ]
  },
  {
   "cell_type": "code",
   "execution_count": 2,
   "id": "403fa9b3",
   "metadata": {
    "execution": {
     "iopub.execute_input": "2024-09-17T08:11:49.379863Z",
     "iopub.status.busy": "2024-09-17T08:11:49.379863Z",
     "iopub.status.idle": "2024-09-17T08:11:51.523120Z",
     "shell.execute_reply": "2024-09-17T08:11:51.523120Z"
    }
   },
   "outputs": [],
   "source": [
    "temp_folder = tempfile.TemporaryDirectory(suffix=\".ansys\").name\n",
    "file_edb = download_file(source=\"edb/ANSYS-HSD_V1.aedb\", destination=temp_folder)"
   ]
  },
  {
   "cell_type": "markdown",
   "id": "6f973e8b",
   "metadata": {},
   "source": [
    "## Load example layout."
   ]
  },
  {
   "cell_type": "code",
   "execution_count": 3,
   "id": "ebd76df0",
   "metadata": {
    "execution": {
     "iopub.execute_input": "2024-09-17T08:11:51.523120Z",
     "iopub.status.busy": "2024-09-17T08:11:51.523120Z",
     "iopub.status.idle": "2024-09-17T08:12:04.307127Z",
     "shell.execute_reply": "2024-09-17T08:12:04.307127Z"
    }
   },
   "outputs": [
    {
     "name": "stdout",
     "output_type": "stream",
     "text": [
      "PyAEDT INFO: Logger is initialized in EDB.\n"
     ]
    },
    {
     "name": "stdout",
     "output_type": "stream",
     "text": [
      "PyAEDT INFO: legacy v0.28.0\n"
     ]
    },
    {
     "name": "stdout",
     "output_type": "stream",
     "text": [
      "PyAEDT INFO: Python version 3.10.11 (tags/v3.10.11:7d4cc5a, Apr  5 2023, 00:38:17) [MSC v.1929 64 bit (AMD64)]\n"
     ]
    },
    {
     "name": "stdout",
     "output_type": "stream",
     "text": [
      "PyAEDT INFO: Database ANSYS-HSD_V1.aedb Opened in 2024.2\n"
     ]
    },
    {
     "name": "stdout",
     "output_type": "stream",
     "text": [
      "PyAEDT INFO: Cell main Opened\n"
     ]
    },
    {
     "name": "stdout",
     "output_type": "stream",
     "text": [
      "PyAEDT INFO: Builder was initialized.\n"
     ]
    },
    {
     "name": "stdout",
     "output_type": "stream",
     "text": [
      "PyAEDT INFO: EDB initialized.\n"
     ]
    }
   ],
   "source": [
    "edbapp = Edb(file_edb, edbversion=AEDT_VERSION)"
   ]
  },
  {
   "cell_type": "markdown",
   "id": "3e6fb8b9",
   "metadata": {},
   "source": [
    "## Create a config file with hole information"
   ]
  },
  {
   "cell_type": "markdown",
   "id": "66056f85",
   "metadata": {},
   "source": [
    "Keywords\n",
    "\n",
    "- **name**. Name of the padstack definition.\n",
    "- **hole_plating_thickness**. Hole plating thickness.\n",
    "- **hole_range**. Supported types are 'through', 'begin_on_upper_pad', 'end_on_lower_pad', 'upper_pad_to_lower_pad'.\n",
    "- **hole_parameters**.\n",
    "  - **shape**. Supported types are 'circle', 'square', 'rectangle'.\n",
    "  - Other parameters are shape dependent.\n",
    "    - When shape is 'circle', supported parameter si 'diameter'.\n",
    "    - When shape is 'square', supported parameter is 'size'.\n",
    "    - When shape is 'rectangle', supported parameters are 'x_size', 'y_size'."
   ]
  },
  {
   "cell_type": "code",
   "execution_count": 4,
   "id": "5c5a563e",
   "metadata": {
    "execution": {
     "iopub.execute_input": "2024-09-17T08:12:04.307127Z",
     "iopub.status.busy": "2024-09-17T08:12:04.307127Z",
     "iopub.status.idle": "2024-09-17T08:12:04.322754Z",
     "shell.execute_reply": "2024-09-17T08:12:04.322754Z"
    }
   },
   "outputs": [],
   "source": [
    "cfg = dict()\n",
    "cfg[\"padstacks\"] = {}\n",
    "cfg[\"padstacks\"][\"definitions\"] = [\n",
    "    {\n",
    "        \"name\": \"v35h15\",\n",
    "        \"hole_plating_thickness\": \"25um\",\n",
    "        \"material\": \"copper\",\n",
    "        \"hole_range\": \"through\",\n",
    "        \"hole_parameters\": {\n",
    "            \"shape\": \"circle\",\n",
    "            \"diameter\": \"0.15mm\",\n",
    "        },\n",
    "    }\n",
    "]"
   ]
  },
  {
   "cell_type": "code",
   "execution_count": 5,
   "id": "db34cb3e",
   "metadata": {
    "execution": {
     "iopub.execute_input": "2024-09-17T08:12:04.322754Z",
     "iopub.status.busy": "2024-09-17T08:12:04.322754Z",
     "iopub.status.idle": "2024-09-17T08:12:04.354005Z",
     "shell.execute_reply": "2024-09-17T08:12:04.354005Z"
    }
   },
   "outputs": [
    {
     "data": {
      "text/html": [
       "<div>\n",
       "<style scoped>\n",
       "    .dataframe tbody tr th:only-of-type {\n",
       "        vertical-align: middle;\n",
       "    }\n",
       "\n",
       "    .dataframe tbody tr th {\n",
       "        vertical-align: top;\n",
       "    }\n",
       "\n",
       "    .dataframe thead th {\n",
       "        text-align: right;\n",
       "    }\n",
       "</style>\n",
       "<table border=\"1\" class=\"dataframe\">\n",
       "  <thead>\n",
       "    <tr style=\"text-align: right;\">\n",
       "      <th></th>\n",
       "      <th>name</th>\n",
       "      <th>hole_plating_thickness</th>\n",
       "      <th>material</th>\n",
       "      <th>hole_range</th>\n",
       "      <th>hole_parameters</th>\n",
       "    </tr>\n",
       "  </thead>\n",
       "  <tbody>\n",
       "    <tr>\n",
       "      <th>0</th>\n",
       "      <td>v35h15</td>\n",
       "      <td>25um</td>\n",
       "      <td>copper</td>\n",
       "      <td>through</td>\n",
       "      <td>{'shape': 'circle', 'diameter': '0.15mm'}</td>\n",
       "    </tr>\n",
       "  </tbody>\n",
       "</table>\n",
       "</div>"
      ],
      "text/plain": [
       "     name hole_plating_thickness material hole_range  \\\n",
       "0  v35h15                   25um   copper    through   \n",
       "\n",
       "                             hole_parameters  \n",
       "0  {'shape': 'circle', 'diameter': '0.15mm'}  "
      ]
     },
     "metadata": {},
     "output_type": "display_data"
    }
   ],
   "source": [
    "df = pd.DataFrame(data=cfg[\"padstacks\"][\"definitions\"])\n",
    "display(df)"
   ]
  },
  {
   "cell_type": "code",
   "execution_count": 6,
   "id": "52c5ef43",
   "metadata": {
    "execution": {
     "iopub.execute_input": "2024-09-17T08:12:04.354005Z",
     "iopub.status.busy": "2024-09-17T08:12:04.354005Z",
     "iopub.status.idle": "2024-09-17T08:12:04.369680Z",
     "shell.execute_reply": "2024-09-17T08:12:04.369680Z"
    }
   },
   "outputs": [],
   "source": [
    "cfg_file_path = Path(temp_folder) / \"cfg.json\"\n",
    "with open(cfg_file_path, \"w\") as f:\n",
    "    json.dump(cfg, f, indent=4, ensure_ascii=False)"
   ]
  },
  {
   "cell_type": "markdown",
   "id": "1567e1ae",
   "metadata": {},
   "source": [
    "Load config file"
   ]
  },
  {
   "cell_type": "code",
   "execution_count": 7,
   "id": "2e345583",
   "metadata": {
    "execution": {
     "iopub.execute_input": "2024-09-17T08:12:04.369680Z",
     "iopub.status.busy": "2024-09-17T08:12:04.369680Z",
     "iopub.status.idle": "2024-09-17T08:12:04.447755Z",
     "shell.execute_reply": "2024-09-17T08:12:04.447755Z"
    }
   },
   "outputs": [
    {
     "data": {
      "text/plain": [
       "<pyedb.configuration.cfg_data.CfgData at 0x19bf294eac0>"
      ]
     },
     "execution_count": 7,
     "metadata": {},
     "output_type": "execute_result"
    }
   ],
   "source": [
    "edbapp.configuration.load(cfg_file_path, apply_file=True)"
   ]
  },
  {
   "cell_type": "markdown",
   "id": "82dcc7d0",
   "metadata": {},
   "source": [
    "Check layout"
   ]
  },
  {
   "cell_type": "code",
   "execution_count": 8,
   "id": "7a428075",
   "metadata": {
    "execution": {
     "iopub.execute_input": "2024-09-17T08:12:04.447755Z",
     "iopub.status.busy": "2024-09-17T08:12:04.447755Z",
     "iopub.status.idle": "2024-09-17T08:12:04.494629Z",
     "shell.execute_reply": "2024-09-17T08:12:04.494629Z"
    }
   },
   "outputs": [
    {
     "data": {
      "text/plain": [
       "2.500005000009999e-05"
      ]
     },
     "metadata": {},
     "output_type": "display_data"
    },
    {
     "data": {
      "text/html": [
       "<div>\n",
       "<style scoped>\n",
       "    .dataframe tbody tr th:only-of-type {\n",
       "        vertical-align: middle;\n",
       "    }\n",
       "\n",
       "    .dataframe tbody tr th {\n",
       "        vertical-align: top;\n",
       "    }\n",
       "\n",
       "    .dataframe thead th {\n",
       "        text-align: right;\n",
       "    }\n",
       "</style>\n",
       "<table border=\"1\" class=\"dataframe\">\n",
       "  <thead>\n",
       "    <tr style=\"text-align: right;\">\n",
       "      <th></th>\n",
       "      <th>shape</th>\n",
       "      <th>diameter</th>\n",
       "      <th>offset_x</th>\n",
       "      <th>offset_y</th>\n",
       "      <th>rotation</th>\n",
       "    </tr>\n",
       "  </thead>\n",
       "  <tbody>\n",
       "    <tr>\n",
       "      <th>0</th>\n",
       "      <td>circle</td>\n",
       "      <td>0.15mm</td>\n",
       "      <td>0</td>\n",
       "      <td>0</td>\n",
       "      <td>0</td>\n",
       "    </tr>\n",
       "  </tbody>\n",
       "</table>\n",
       "</div>"
      ],
      "text/plain": [
       "    shape diameter offset_x offset_y rotation\n",
       "0  circle   0.15mm        0        0        0"
      ]
     },
     "metadata": {},
     "output_type": "display_data"
    }
   ],
   "source": [
    "pdef = edbapp.padstacks.definitions[\"v35h15\"]\n",
    "display(pdef.hole_plating_thickness)\n",
    "display(pd.DataFrame([pdef.hole_parameters]))"
   ]
  },
  {
   "cell_type": "markdown",
   "id": "15bdd730",
   "metadata": {},
   "source": [
    "## Create a config file with pad information"
   ]
  },
  {
   "cell_type": "markdown",
   "id": "fede617e",
   "metadata": {},
   "source": [
    "Keywords\n",
    "\n",
    "- **name**. Name of the padstack definition.\n",
    "- **pad_parameters**.\n",
    "  - **regular_pad**. List of pad definition per layer.\n",
    "    - **layer_name**. Name of the layer.\n",
    "    - **shape**. Supported types are 'circle', 'square', 'rectangle', 'oval', 'bullet'.\n",
    "    - Other parameters are shape dependent.\n",
    "      - When shape is 'circle', supported parameter si 'diameter'.\n",
    "      - When shape is 'square', supported parameter is 'size'.\n",
    "      - When shape is 'rectangle', supported parameters are 'x_size', 'y_size'.\n",
    "      - When shape is 'oval', supported parameters are 'x_size', 'y_size', 'corner_radius'.\n",
    "      - When shape is 'bullet', supported parameters are 'x_size', 'y_size', 'corner_radius'."
   ]
  },
  {
   "cell_type": "code",
   "execution_count": 9,
   "id": "d1988b74",
   "metadata": {
    "execution": {
     "iopub.execute_input": "2024-09-17T08:12:04.494629Z",
     "iopub.status.busy": "2024-09-17T08:12:04.494629Z",
     "iopub.status.idle": "2024-09-17T08:12:04.510255Z",
     "shell.execute_reply": "2024-09-17T08:12:04.510255Z"
    }
   },
   "outputs": [],
   "source": [
    "cfg = dict()\n",
    "cfg[\"padstacks\"] = {}\n",
    "cfg[\"padstacks\"][\"definitions\"] = [\n",
    "    {\n",
    "        \"name\": \"v35h15\",\n",
    "        \"pad_parameters\": {\n",
    "            \"regular_pad\": [\n",
    "                {\n",
    "                    \"layer_name\": \"1_Top\",\n",
    "                    \"shape\": \"circle\",\n",
    "                    \"offset_x\": \"0.1mm\",\n",
    "                    \"offset_y\": \"0.1mm\",\n",
    "                    \"rotation\": \"0\",\n",
    "                    \"diameter\": \"0.5mm\",\n",
    "                },\n",
    "                {\n",
    "                    \"layer_name\": \"Inner1(GND1)\",\n",
    "                    \"shape\": \"square\",\n",
    "                    \"offset_x\": \"0.1mm\",\n",
    "                    \"offset_y\": \"0.1mm\",\n",
    "                    \"rotation\": \"45deg\",\n",
    "                    \"size\": \"0.5mm\",\n",
    "                },\n",
    "            ],\n",
    "            \"anti_pad\": [{\"layer_name\": \"1_Top\", \"shape\": \"circle\", \"diameter\": \"1mm\"}],\n",
    "        },\n",
    "    }\n",
    "]"
   ]
  },
  {
   "cell_type": "code",
   "execution_count": 10,
   "id": "2dad39cc",
   "metadata": {
    "execution": {
     "iopub.execute_input": "2024-09-17T08:12:04.510255Z",
     "iopub.status.busy": "2024-09-17T08:12:04.510255Z",
     "iopub.status.idle": "2024-09-17T08:12:04.525878Z",
     "shell.execute_reply": "2024-09-17T08:12:04.525878Z"
    }
   },
   "outputs": [
    {
     "data": {
      "text/html": [
       "<div>\n",
       "<style scoped>\n",
       "    .dataframe tbody tr th:only-of-type {\n",
       "        vertical-align: middle;\n",
       "    }\n",
       "\n",
       "    .dataframe tbody tr th {\n",
       "        vertical-align: top;\n",
       "    }\n",
       "\n",
       "    .dataframe thead th {\n",
       "        text-align: right;\n",
       "    }\n",
       "</style>\n",
       "<table border=\"1\" class=\"dataframe\">\n",
       "  <thead>\n",
       "    <tr style=\"text-align: right;\">\n",
       "      <th></th>\n",
       "      <th>layer_name</th>\n",
       "      <th>shape</th>\n",
       "      <th>offset_x</th>\n",
       "      <th>offset_y</th>\n",
       "      <th>rotation</th>\n",
       "      <th>diameter</th>\n",
       "      <th>size</th>\n",
       "    </tr>\n",
       "  </thead>\n",
       "  <tbody>\n",
       "    <tr>\n",
       "      <th>0</th>\n",
       "      <td>1_Top</td>\n",
       "      <td>circle</td>\n",
       "      <td>0.1mm</td>\n",
       "      <td>0.1mm</td>\n",
       "      <td>0</td>\n",
       "      <td>0.5mm</td>\n",
       "      <td>NaN</td>\n",
       "    </tr>\n",
       "    <tr>\n",
       "      <th>1</th>\n",
       "      <td>Inner1(GND1)</td>\n",
       "      <td>square</td>\n",
       "      <td>0.1mm</td>\n",
       "      <td>0.1mm</td>\n",
       "      <td>45deg</td>\n",
       "      <td>NaN</td>\n",
       "      <td>0.5mm</td>\n",
       "    </tr>\n",
       "  </tbody>\n",
       "</table>\n",
       "</div>"
      ],
      "text/plain": [
       "     layer_name   shape offset_x offset_y rotation diameter   size\n",
       "0         1_Top  circle    0.1mm    0.1mm        0    0.5mm    NaN\n",
       "1  Inner1(GND1)  square    0.1mm    0.1mm    45deg      NaN  0.5mm"
      ]
     },
     "metadata": {},
     "output_type": "display_data"
    }
   ],
   "source": [
    "df = pd.DataFrame(data=cfg[\"padstacks\"][\"definitions\"][0][\"pad_parameters\"][\"regular_pad\"])\n",
    "display(df)"
   ]
  },
  {
   "cell_type": "code",
   "execution_count": 11,
   "id": "fe91a627",
   "metadata": {
    "execution": {
     "iopub.execute_input": "2024-09-17T08:12:04.525878Z",
     "iopub.status.busy": "2024-09-17T08:12:04.525878Z",
     "iopub.status.idle": "2024-09-17T08:12:04.541506Z",
     "shell.execute_reply": "2024-09-17T08:12:04.541506Z"
    }
   },
   "outputs": [
    {
     "data": {
      "text/html": [
       "<div>\n",
       "<style scoped>\n",
       "    .dataframe tbody tr th:only-of-type {\n",
       "        vertical-align: middle;\n",
       "    }\n",
       "\n",
       "    .dataframe tbody tr th {\n",
       "        vertical-align: top;\n",
       "    }\n",
       "\n",
       "    .dataframe thead th {\n",
       "        text-align: right;\n",
       "    }\n",
       "</style>\n",
       "<table border=\"1\" class=\"dataframe\">\n",
       "  <thead>\n",
       "    <tr style=\"text-align: right;\">\n",
       "      <th></th>\n",
       "      <th>layer_name</th>\n",
       "      <th>shape</th>\n",
       "      <th>diameter</th>\n",
       "    </tr>\n",
       "  </thead>\n",
       "  <tbody>\n",
       "    <tr>\n",
       "      <th>0</th>\n",
       "      <td>1_Top</td>\n",
       "      <td>circle</td>\n",
       "      <td>1mm</td>\n",
       "    </tr>\n",
       "  </tbody>\n",
       "</table>\n",
       "</div>"
      ],
      "text/plain": [
       "  layer_name   shape diameter\n",
       "0      1_Top  circle      1mm"
      ]
     },
     "metadata": {},
     "output_type": "display_data"
    }
   ],
   "source": [
    "df = pd.DataFrame(data=cfg[\"padstacks\"][\"definitions\"][0][\"pad_parameters\"][\"anti_pad\"])\n",
    "display(df)"
   ]
  },
  {
   "cell_type": "code",
   "execution_count": 12,
   "id": "829b8d8f",
   "metadata": {
    "execution": {
     "iopub.execute_input": "2024-09-17T08:12:04.541506Z",
     "iopub.status.busy": "2024-09-17T08:12:04.541506Z",
     "iopub.status.idle": "2024-09-17T08:12:04.557128Z",
     "shell.execute_reply": "2024-09-17T08:12:04.557128Z"
    }
   },
   "outputs": [],
   "source": [
    "cfg_file_path = Path(temp_folder) / \"cfg.json\"\n",
    "with open(cfg_file_path, \"w\") as f:\n",
    "    json.dump(cfg, f, indent=4, ensure_ascii=False)"
   ]
  },
  {
   "cell_type": "markdown",
   "id": "b0028ba4",
   "metadata": {},
   "source": [
    "Load config file"
   ]
  },
  {
   "cell_type": "code",
   "execution_count": 13,
   "id": "e15b08b5",
   "metadata": {
    "execution": {
     "iopub.execute_input": "2024-09-17T08:12:04.557128Z",
     "iopub.status.busy": "2024-09-17T08:12:04.557128Z",
     "iopub.status.idle": "2024-09-17T08:12:04.619643Z",
     "shell.execute_reply": "2024-09-17T08:12:04.619643Z"
    }
   },
   "outputs": [
    {
     "data": {
      "text/plain": [
       "<pyedb.configuration.cfg_data.CfgData at 0x19b9d98e4d0>"
      ]
     },
     "execution_count": 13,
     "metadata": {},
     "output_type": "execute_result"
    }
   ],
   "source": [
    "edbapp.configuration.load(cfg_file_path, apply_file=True)"
   ]
  },
  {
   "cell_type": "markdown",
   "id": "1261db3c",
   "metadata": {},
   "source": [
    "Check layout"
   ]
  },
  {
   "cell_type": "code",
   "execution_count": 14,
   "id": "a277f0e8",
   "metadata": {
    "execution": {
     "iopub.execute_input": "2024-09-17T08:12:04.619643Z",
     "iopub.status.busy": "2024-09-17T08:12:04.619643Z",
     "iopub.status.idle": "2024-09-17T08:12:04.666504Z",
     "shell.execute_reply": "2024-09-17T08:12:04.666504Z"
    }
   },
   "outputs": [],
   "source": [
    "pdef = edbapp.padstacks.definitions[\"v35h15\"]"
   ]
  },
  {
   "cell_type": "code",
   "execution_count": 15,
   "id": "b7be42d6",
   "metadata": {
    "execution": {
     "iopub.execute_input": "2024-09-17T08:12:04.666504Z",
     "iopub.status.busy": "2024-09-17T08:12:04.666504Z",
     "iopub.status.idle": "2024-09-17T08:12:04.697758Z",
     "shell.execute_reply": "2024-09-17T08:12:04.697758Z"
    }
   },
   "outputs": [
    {
     "data": {
      "text/html": [
       "<div>\n",
       "<style scoped>\n",
       "    .dataframe tbody tr th:only-of-type {\n",
       "        vertical-align: middle;\n",
       "    }\n",
       "\n",
       "    .dataframe tbody tr th {\n",
       "        vertical-align: top;\n",
       "    }\n",
       "\n",
       "    .dataframe thead th {\n",
       "        text-align: right;\n",
       "    }\n",
       "</style>\n",
       "<table border=\"1\" class=\"dataframe\">\n",
       "  <thead>\n",
       "    <tr style=\"text-align: right;\">\n",
       "      <th></th>\n",
       "      <th>layer_name</th>\n",
       "      <th>shape</th>\n",
       "      <th>offset_x</th>\n",
       "      <th>offset_y</th>\n",
       "      <th>rotation</th>\n",
       "      <th>diameter</th>\n",
       "      <th>size</th>\n",
       "    </tr>\n",
       "  </thead>\n",
       "  <tbody>\n",
       "    <tr>\n",
       "      <th>0</th>\n",
       "      <td>1_Top</td>\n",
       "      <td>circle</td>\n",
       "      <td>0.1mm</td>\n",
       "      <td>0.1mm</td>\n",
       "      <td>0</td>\n",
       "      <td>0.5mm</td>\n",
       "      <td>NaN</td>\n",
       "    </tr>\n",
       "    <tr>\n",
       "      <th>1</th>\n",
       "      <td>Inner1(GND1)</td>\n",
       "      <td>square</td>\n",
       "      <td>0.1mm</td>\n",
       "      <td>0.1mm</td>\n",
       "      <td>0.785398163397448</td>\n",
       "      <td>NaN</td>\n",
       "      <td>0.5mm</td>\n",
       "    </tr>\n",
       "    <tr>\n",
       "      <th>2</th>\n",
       "      <td>Inner2(PWR1)</td>\n",
       "      <td>circle</td>\n",
       "      <td>0</td>\n",
       "      <td>0</td>\n",
       "      <td>0</td>\n",
       "      <td>0.3499993mm</td>\n",
       "      <td>NaN</td>\n",
       "    </tr>\n",
       "    <tr>\n",
       "      <th>3</th>\n",
       "      <td>Inner3(Sig1)</td>\n",
       "      <td>circle</td>\n",
       "      <td>0</td>\n",
       "      <td>0</td>\n",
       "      <td>0</td>\n",
       "      <td>0.3499993mm</td>\n",
       "      <td>NaN</td>\n",
       "    </tr>\n",
       "    <tr>\n",
       "      <th>4</th>\n",
       "      <td>Inner4(Sig2)</td>\n",
       "      <td>circle</td>\n",
       "      <td>0</td>\n",
       "      <td>0</td>\n",
       "      <td>0</td>\n",
       "      <td>0.3499993mm</td>\n",
       "      <td>NaN</td>\n",
       "    </tr>\n",
       "    <tr>\n",
       "      <th>5</th>\n",
       "      <td>Inner5(PWR2)</td>\n",
       "      <td>circle</td>\n",
       "      <td>0</td>\n",
       "      <td>0</td>\n",
       "      <td>0</td>\n",
       "      <td>0.3499993mm</td>\n",
       "      <td>NaN</td>\n",
       "    </tr>\n",
       "    <tr>\n",
       "      <th>6</th>\n",
       "      <td>Inner6(GND2)</td>\n",
       "      <td>circle</td>\n",
       "      <td>0</td>\n",
       "      <td>0</td>\n",
       "      <td>0</td>\n",
       "      <td>0.3499993mm</td>\n",
       "      <td>NaN</td>\n",
       "    </tr>\n",
       "    <tr>\n",
       "      <th>7</th>\n",
       "      <td>16_Bottom</td>\n",
       "      <td>circle</td>\n",
       "      <td>0</td>\n",
       "      <td>0</td>\n",
       "      <td>0</td>\n",
       "      <td>0.3499993mm</td>\n",
       "      <td>NaN</td>\n",
       "    </tr>\n",
       "  </tbody>\n",
       "</table>\n",
       "</div>"
      ],
      "text/plain": [
       "     layer_name   shape offset_x offset_y           rotation     diameter  \\\n",
       "0         1_Top  circle    0.1mm    0.1mm                  0        0.5mm   \n",
       "1  Inner1(GND1)  square    0.1mm    0.1mm  0.785398163397448          NaN   \n",
       "2  Inner2(PWR1)  circle        0        0                  0  0.3499993mm   \n",
       "3  Inner3(Sig1)  circle        0        0                  0  0.3499993mm   \n",
       "4  Inner4(Sig2)  circle        0        0                  0  0.3499993mm   \n",
       "5  Inner5(PWR2)  circle        0        0                  0  0.3499993mm   \n",
       "6  Inner6(GND2)  circle        0        0                  0  0.3499993mm   \n",
       "7     16_Bottom  circle        0        0                  0  0.3499993mm   \n",
       "\n",
       "    size  \n",
       "0    NaN  \n",
       "1  0.5mm  \n",
       "2    NaN  \n",
       "3    NaN  \n",
       "4    NaN  \n",
       "5    NaN  \n",
       "6    NaN  \n",
       "7    NaN  "
      ]
     },
     "metadata": {},
     "output_type": "display_data"
    }
   ],
   "source": [
    "display(pd.DataFrame(pdef.pad_parameters[\"regular_pad\"]))"
   ]
  },
  {
   "cell_type": "code",
   "execution_count": 16,
   "id": "29075824",
   "metadata": {
    "execution": {
     "iopub.execute_input": "2024-09-17T08:12:04.697758Z",
     "iopub.status.busy": "2024-09-17T08:12:04.697758Z",
     "iopub.status.idle": "2024-09-17T08:12:04.729008Z",
     "shell.execute_reply": "2024-09-17T08:12:04.729008Z"
    }
   },
   "outputs": [
    {
     "data": {
      "text/html": [
       "<div>\n",
       "<style scoped>\n",
       "    .dataframe tbody tr th:only-of-type {\n",
       "        vertical-align: middle;\n",
       "    }\n",
       "\n",
       "    .dataframe tbody tr th {\n",
       "        vertical-align: top;\n",
       "    }\n",
       "\n",
       "    .dataframe thead th {\n",
       "        text-align: right;\n",
       "    }\n",
       "</style>\n",
       "<table border=\"1\" class=\"dataframe\">\n",
       "  <thead>\n",
       "    <tr style=\"text-align: right;\">\n",
       "      <th></th>\n",
       "      <th>layer_name</th>\n",
       "      <th>shape</th>\n",
       "      <th>offset_x</th>\n",
       "      <th>offset_y</th>\n",
       "      <th>rotation</th>\n",
       "      <th>diameter</th>\n",
       "    </tr>\n",
       "  </thead>\n",
       "  <tbody>\n",
       "    <tr>\n",
       "      <th>0</th>\n",
       "      <td>1_Top</td>\n",
       "      <td>circle</td>\n",
       "      <td>0</td>\n",
       "      <td>0</td>\n",
       "      <td>0</td>\n",
       "      <td>1mm</td>\n",
       "    </tr>\n",
       "    <tr>\n",
       "      <th>1</th>\n",
       "      <td>Inner1(GND1)</td>\n",
       "      <td>no_geometry</td>\n",
       "      <td>0</td>\n",
       "      <td>0</td>\n",
       "      <td>0</td>\n",
       "      <td>NaN</td>\n",
       "    </tr>\n",
       "    <tr>\n",
       "      <th>2</th>\n",
       "      <td>Inner2(PWR1)</td>\n",
       "      <td>no_geometry</td>\n",
       "      <td>0</td>\n",
       "      <td>0</td>\n",
       "      <td>0</td>\n",
       "      <td>NaN</td>\n",
       "    </tr>\n",
       "    <tr>\n",
       "      <th>3</th>\n",
       "      <td>Inner3(Sig1)</td>\n",
       "      <td>no_geometry</td>\n",
       "      <td>0</td>\n",
       "      <td>0</td>\n",
       "      <td>0</td>\n",
       "      <td>NaN</td>\n",
       "    </tr>\n",
       "    <tr>\n",
       "      <th>4</th>\n",
       "      <td>Inner4(Sig2)</td>\n",
       "      <td>no_geometry</td>\n",
       "      <td>0</td>\n",
       "      <td>0</td>\n",
       "      <td>0</td>\n",
       "      <td>NaN</td>\n",
       "    </tr>\n",
       "    <tr>\n",
       "      <th>5</th>\n",
       "      <td>Inner5(PWR2)</td>\n",
       "      <td>no_geometry</td>\n",
       "      <td>0</td>\n",
       "      <td>0</td>\n",
       "      <td>0</td>\n",
       "      <td>NaN</td>\n",
       "    </tr>\n",
       "    <tr>\n",
       "      <th>6</th>\n",
       "      <td>Inner6(GND2)</td>\n",
       "      <td>no_geometry</td>\n",
       "      <td>0</td>\n",
       "      <td>0</td>\n",
       "      <td>0</td>\n",
       "      <td>NaN</td>\n",
       "    </tr>\n",
       "    <tr>\n",
       "      <th>7</th>\n",
       "      <td>16_Bottom</td>\n",
       "      <td>no_geometry</td>\n",
       "      <td>0</td>\n",
       "      <td>0</td>\n",
       "      <td>0</td>\n",
       "      <td>NaN</td>\n",
       "    </tr>\n",
       "  </tbody>\n",
       "</table>\n",
       "</div>"
      ],
      "text/plain": [
       "     layer_name        shape offset_x offset_y rotation diameter\n",
       "0         1_Top       circle        0        0        0      1mm\n",
       "1  Inner1(GND1)  no_geometry        0        0        0      NaN\n",
       "2  Inner2(PWR1)  no_geometry        0        0        0      NaN\n",
       "3  Inner3(Sig1)  no_geometry        0        0        0      NaN\n",
       "4  Inner4(Sig2)  no_geometry        0        0        0      NaN\n",
       "5  Inner5(PWR2)  no_geometry        0        0        0      NaN\n",
       "6  Inner6(GND2)  no_geometry        0        0        0      NaN\n",
       "7     16_Bottom  no_geometry        0        0        0      NaN"
      ]
     },
     "metadata": {},
     "output_type": "display_data"
    }
   ],
   "source": [
    "display(pd.DataFrame(pdef.pad_parameters[\"anti_pad\"]))"
   ]
  },
  {
   "cell_type": "markdown",
   "id": "0b1497e7",
   "metadata": {},
   "source": [
    "## Close Edb"
   ]
  },
  {
   "cell_type": "code",
   "execution_count": 17,
   "id": "72b3bd23",
   "metadata": {
    "execution": {
     "iopub.execute_input": "2024-09-17T08:12:04.729008Z",
     "iopub.status.busy": "2024-09-17T08:12:04.729008Z",
     "iopub.status.idle": "2024-09-17T08:12:04.838381Z",
     "shell.execute_reply": "2024-09-17T08:12:04.838381Z"
    }
   },
   "outputs": [
    {
     "data": {
      "text/plain": [
       "True"
      ]
     },
     "execution_count": 17,
     "metadata": {},
     "output_type": "execute_result"
    }
   ],
   "source": [
    "edbapp.close()"
   ]
  }
 ],
 "metadata": {
  "jupytext": {
   "cell_metadata_filter": "-all",
   "main_language": "python",
   "notebook_metadata_filter": "-all",
   "text_representation": {
    "extension": ".py",
    "format_name": "light"
   }
  },
  "language_info": {
   "codemirror_mode": {
    "name": "ipython",
    "version": 3
   },
   "file_extension": ".py",
   "mimetype": "text/x-python",
   "name": "python",
   "nbconvert_exporter": "python",
   "pygments_lexer": "ipython3",
   "version": "3.10.11"
  }
 },
 "nbformat": 4,
 "nbformat_minor": 5
}
