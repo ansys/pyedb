{
 "cells": [
  {
   "cell_type": "markdown",
   "id": "9ad57e2d",
   "metadata": {},
   "source": [
    "Copyright (C) 2023 - 2024 ANSYS, Inc. and/or its affiliates.\n",
    "SPDX-License-Identifier: MIT\n",
    "\n",
    "\n",
    "Permission is hereby granted, free of charge, to any person obtaining a copy\n",
    "of this software and associated documentation files (the \"Software\"), to deal\n",
    "in the Software without restriction, including without limitation the rights\n",
    "to use, copy, modify, merge, publish, distribute, sublicense, and/or sell\n",
    "copies of the Software, and to permit persons to whom the Software is\n",
    "furnished to do so, subject to the following conditions:\n",
    "\n",
    "The above copyright notice and this permission notice shall be included in all\n",
    "copies or substantial portions of the Software.\n",
    "\n",
    "THE SOFTWARE IS PROVIDED \"AS IS\", WITHOUT WARRANTY OF ANY KIND, EXPRESS OR\n",
    "IMPLIED, INCLUDING BUT NOT LIMITED TO THE WARRANTIES OF MERCHANTABILITY,\n",
    "FITNESS FOR A PARTICULAR PURPOSE AND NONINFRINGEMENT. IN NO EVENT SHALL THE\n",
    "AUTHORS OR COPYRIGHT HOLDERS BE LIABLE FOR ANY CLAIM, DAMAGES OR OTHER\n",
    "LIABILITY, WHETHER IN AN ACTION OF CONTRACT, TORT OR OTHERWISE, ARISING FROM,\n",
    "OUT OF OR IN CONNECTION WITH THE SOFTWARE OR THE USE OR OTHER DEALINGS IN THE\n",
    "SOFTWARE."
   ]
  },
  {
   "cell_type": "markdown",
   "id": "52d2a889",
   "metadata": {},
   "source": [
    "## EDB: 5G linear array antenna\n",
    "\n",
    "This example shows how you can use HFSS 3D Layout to create and solve a 5G linear array antenna."
   ]
  },
  {
   "cell_type": "markdown",
   "id": "63063d9e",
   "metadata": {},
   "source": [
    "## Perform required imports\n",
    "\n",
    "Perform required imports."
   ]
  },
  {
   "cell_type": "code",
   "execution_count": 1,
   "id": "101efe2a",
   "metadata": {
    "execution": {
     "iopub.execute_input": "2024-09-17T07:48:32.761783Z",
     "iopub.status.busy": "2024-09-17T07:48:32.761783Z",
     "iopub.status.idle": "2024-09-17T07:48:32.793049Z",
     "shell.execute_reply": "2024-09-17T07:48:32.793049Z"
    }
   },
   "outputs": [],
   "source": [
    "import os\n",
    "import tempfile"
   ]
  },
  {
   "cell_type": "code",
   "execution_count": 2,
   "id": "697e6f29",
   "metadata": {
    "execution": {
     "iopub.execute_input": "2024-09-17T07:48:32.793049Z",
     "iopub.status.busy": "2024-09-17T07:48:32.793049Z",
     "iopub.status.idle": "2024-09-17T07:48:33.449202Z",
     "shell.execute_reply": "2024-09-17T07:48:33.449202Z"
    }
   },
   "outputs": [],
   "source": [
    "from ansys.aedt.core import Hfss3dLayout"
   ]
  },
  {
   "cell_type": "code",
   "execution_count": 3,
   "id": "64ec55c1",
   "metadata": {
    "execution": {
     "iopub.execute_input": "2024-09-17T07:48:33.449202Z",
     "iopub.status.busy": "2024-09-17T07:48:33.449202Z",
     "iopub.status.idle": "2024-09-17T07:48:33.480451Z",
     "shell.execute_reply": "2024-09-17T07:48:33.480451Z"
    }
   },
   "outputs": [],
   "source": [
    "import pyedb\n",
    "from pyedb.generic.general_methods import generate_unique_name"
   ]
  },
  {
   "cell_type": "markdown",
   "id": "742c7a37",
   "metadata": {},
   "source": [
    "## Set non-graphical mode\n",
    "\n",
    "Set non-graphical mode. The default is ``False``."
   ]
  },
  {
   "cell_type": "code",
   "execution_count": 4,
   "id": "287d6527",
   "metadata": {
    "execution": {
     "iopub.execute_input": "2024-09-17T07:48:33.480451Z",
     "iopub.status.busy": "2024-09-17T07:48:33.480451Z",
     "iopub.status.idle": "2024-09-17T07:48:33.496078Z",
     "shell.execute_reply": "2024-09-17T07:48:33.496078Z"
    }
   },
   "outputs": [],
   "source": [
    "non_graphical = False"
   ]
  },
  {
   "cell_type": "code",
   "execution_count": 5,
   "id": "74c32dad",
   "metadata": {
    "execution": {
     "iopub.execute_input": "2024-09-17T07:48:33.496078Z",
     "iopub.status.busy": "2024-09-17T07:48:33.496078Z",
     "iopub.status.idle": "2024-09-17T07:48:33.511701Z",
     "shell.execute_reply": "2024-09-17T07:48:33.511701Z"
    }
   },
   "outputs": [],
   "source": [
    "class Patch:\n",
    "    def __init__(self, width=0.0, height=0.0, position=0.0):\n",
    "        self.width = width\n",
    "        self.height = height\n",
    "        self.position = position\n",
    "\n",
    "    @property\n",
    "    def points(self):\n",
    "        return [\n",
    "            [self.position, -self.height / 2],\n",
    "            [self.position + self.width, -self.height / 2],\n",
    "            [self.position + self.width, self.height / 2],\n",
    "            [self.position, self.height / 2],\n",
    "        ]"
   ]
  },
  {
   "cell_type": "code",
   "execution_count": 6,
   "id": "1aea5eb9",
   "metadata": {
    "execution": {
     "iopub.execute_input": "2024-09-17T07:48:33.511701Z",
     "iopub.status.busy": "2024-09-17T07:48:33.511701Z",
     "iopub.status.idle": "2024-09-17T07:48:33.527327Z",
     "shell.execute_reply": "2024-09-17T07:48:33.527327Z"
    }
   },
   "outputs": [],
   "source": [
    "class Line:\n",
    "    def __init__(self, length=0.0, width=0.0, position=0.0):\n",
    "        self.length = length\n",
    "        self.width = width\n",
    "        self.position = position\n",
    "\n",
    "    @property\n",
    "    def points(self):\n",
    "        return [\n",
    "            [self.position, -self.width / 2],\n",
    "            [self.position + self.length, -self.width / 2],\n",
    "            [self.position + self.length, self.width / 2],\n",
    "            [self.position, self.width / 2],\n",
    "        ]"
   ]
  },
  {
   "cell_type": "code",
   "execution_count": 7,
   "id": "fc9d1d9b",
   "metadata": {
    "execution": {
     "iopub.execute_input": "2024-09-17T07:48:33.527327Z",
     "iopub.status.busy": "2024-09-17T07:48:33.527327Z",
     "iopub.status.idle": "2024-09-17T07:48:33.542952Z",
     "shell.execute_reply": "2024-09-17T07:48:33.542952Z"
    }
   },
   "outputs": [],
   "source": [
    "class LinearArray:\n",
    "    def __init__(self, nb_patch=1, array_length=10e-3, array_width=5e-3):\n",
    "        self.nbpatch = nb_patch\n",
    "        self.length = array_length\n",
    "        self.width = array_width\n",
    "\n",
    "    @property\n",
    "    def points(self):\n",
    "        return [\n",
    "            [-1e-3, -self.width / 2 - 1e-3],\n",
    "            [self.length + 1e-3, -self.width / 2 - 1e-3],\n",
    "            [self.length + 1e-3, self.width / 2 + 1e-3],\n",
    "            [-1e-3, self.width / 2 + 1e-3],\n",
    "        ]"
   ]
  },
  {
   "cell_type": "code",
   "execution_count": 8,
   "id": "f87efa36",
   "metadata": {
    "execution": {
     "iopub.execute_input": "2024-09-17T07:48:33.542952Z",
     "iopub.status.busy": "2024-09-17T07:48:33.542952Z",
     "iopub.status.idle": "2024-09-17T07:48:45.996992Z",
     "shell.execute_reply": "2024-09-17T07:48:45.996992Z"
    }
   },
   "outputs": [
    {
     "name": "stdout",
     "output_type": "stream",
     "text": [
      "C:\\Users\\ansys\\AppData\\Local\\Temp\\pcb_A752ER.aedb\n"
     ]
    },
    {
     "name": "stdout",
     "output_type": "stream",
     "text": [
      "PyAEDT INFO: Logger is initialized in EDB.\n"
     ]
    },
    {
     "name": "stdout",
     "output_type": "stream",
     "text": [
      "PyAEDT INFO: legacy v0.28.0\n"
     ]
    },
    {
     "name": "stdout",
     "output_type": "stream",
     "text": [
      "PyAEDT INFO: Python version 3.10.11 (tags/v3.10.11:7d4cc5a, Apr  5 2023, 00:38:17) [MSC v.1929 64 bit (AMD64)]\n"
     ]
    },
    {
     "name": "stdout",
     "output_type": "stream",
     "text": [
      "PyAEDT INFO: EDB C:\\Users\\ansys\\AppData\\Local\\Temp\\pcb_A752ER.aedb created correctly.\n"
     ]
    },
    {
     "name": "stdout",
     "output_type": "stream",
     "text": [
      "PyAEDT INFO: EDB initialized.\n"
     ]
    }
   ],
   "source": [
    "tmpfold = tempfile.gettempdir()\n",
    "aedb_path = os.path.join(tmpfold, generate_unique_name(\"pcb\") + \".aedb\")\n",
    "print(aedb_path)\n",
    "edb = pyedb.Edb(edbpath=aedb_path, edbversion=\"2024.2\")"
   ]
  },
  {
   "cell_type": "code",
   "execution_count": 9,
   "id": "e0da5286",
   "metadata": {
    "execution": {
     "iopub.execute_input": "2024-09-17T07:48:45.996992Z",
     "iopub.status.busy": "2024-09-17T07:48:45.996992Z",
     "iopub.status.idle": "2024-09-17T07:48:46.012623Z",
     "shell.execute_reply": "2024-09-17T07:48:46.012623Z"
    }
   },
   "outputs": [],
   "source": [
    "# ## Add stackup layers\n",
    "#\n",
    "# Add the stackup layers.\n",
    "layers = {\n",
    "    \"TOP\": {\"type\": \"signal\", \"thicness\": \"35um\", \"material\": \"copper\"},\n",
    "    \"Substrat\": {\"type\": \"dielectric\", \"thicness\": \"0.5mm\", \"material\": \"Duroid (tm)\"},\n",
    "    \"GND\": {\"type\": \"signal\", \"thicness\": \"35um\", \"material\": \"copper\"},\n",
    "    \"Gap\": {\"type\": \"dielectric\", \"thicness\": \"0.05mm\", \"material\": \"Air\"},\n",
    "    \"Virt_GND\": {\"type\": \"signal\", \"thicness\": \"35um\", \"material\": \"copper\"},\n",
    "}"
   ]
  },
  {
   "cell_type": "code",
   "execution_count": 10,
   "id": "f1189955",
   "metadata": {
    "execution": {
     "iopub.execute_input": "2024-09-17T07:48:46.012623Z",
     "iopub.status.busy": "2024-09-17T07:48:46.012623Z",
     "iopub.status.idle": "2024-09-17T07:48:46.153255Z",
     "shell.execute_reply": "2024-09-17T07:48:46.153255Z"
    },
    "lines_to_next_cell": 2
   },
   "outputs": [
    {
     "name": "stdout",
     "output_type": "stream",
     "text": [
      "PyAEDT INFO: Configuration file does not have material definition. Using aedb and syslib materials.\n"
     ]
    },
    {
     "data": {
      "text/plain": [
       "True"
      ]
     },
     "execution_count": 10,
     "metadata": {},
     "output_type": "execute_result"
    }
   ],
   "source": [
    "edb.stackup.load(layers)"
   ]
  },
  {
   "cell_type": "markdown",
   "id": "bd841c0b",
   "metadata": {},
   "source": [
    "## Create linear array\n",
    "\n",
    "Create the first patch of the linear array."
   ]
  },
  {
   "cell_type": "code",
   "execution_count": 11,
   "id": "d29eb1b7",
   "metadata": {
    "execution": {
     "iopub.execute_input": "2024-09-17T07:48:46.153255Z",
     "iopub.status.busy": "2024-09-17T07:48:46.153255Z",
     "iopub.status.idle": "2024-09-17T07:48:46.246994Z",
     "shell.execute_reply": "2024-09-17T07:48:46.246994Z"
    }
   },
   "outputs": [
    {
     "data": {
      "text/plain": [
       "<pyedb.dotnet.edb_core.edb_data.primitives_data.EdbPolygon at 0x23298034c30>"
      ]
     },
     "execution_count": 11,
     "metadata": {},
     "output_type": "execute_result"
    }
   ],
   "source": [
    "first_patch = Patch(width=1.4e-3, height=1.2e-3, position=0.0)\n",
    "edb.modeler.create_polygon(first_patch.points, \"TOP\", net_name=\"Array_antenna\")\n",
    "# First line\n",
    "first_line = Line(length=2.4e-3, width=0.3e-3, position=first_patch.width)\n",
    "edb.modeler.create_polygon(first_line.points, \"TOP\", net_name=\"Array_antenna\")"
   ]
  },
  {
   "cell_type": "markdown",
   "id": "12c52c84",
   "metadata": {},
   "source": [
    "## Patch linear array\n",
    "\n",
    "Patch the linear array."
   ]
  },
  {
   "cell_type": "code",
   "execution_count": 12,
   "id": "0a89ea8d",
   "metadata": {
    "execution": {
     "iopub.execute_input": "2024-09-17T07:48:46.246994Z",
     "iopub.status.busy": "2024-09-17T07:48:46.246994Z",
     "iopub.status.idle": "2024-09-17T07:48:46.262626Z",
     "shell.execute_reply": "2024-09-17T07:48:46.262626Z"
    }
   },
   "outputs": [],
   "source": [
    "patch = Patch(width=2.29e-3, height=3.3e-3)\n",
    "line = Line(length=1.9e-3, width=0.2e-3)\n",
    "linear_array = LinearArray(nb_patch=8, array_width=patch.height)"
   ]
  },
  {
   "cell_type": "code",
   "execution_count": 13,
   "id": "ca66dfba",
   "metadata": {
    "execution": {
     "iopub.execute_input": "2024-09-17T07:48:46.262626Z",
     "iopub.status.busy": "2024-09-17T07:48:46.262626Z",
     "iopub.status.idle": "2024-09-17T07:48:46.278307Z",
     "shell.execute_reply": "2024-09-17T07:48:46.278307Z"
    }
   },
   "outputs": [],
   "source": [
    "current_patch = 1\n",
    "current_position = first_line.position + first_line.length"
   ]
  },
  {
   "cell_type": "code",
   "execution_count": 14,
   "id": "892bbebe",
   "metadata": {
    "execution": {
     "iopub.execute_input": "2024-09-17T07:48:46.278307Z",
     "iopub.status.busy": "2024-09-17T07:48:46.278307Z",
     "iopub.status.idle": "2024-09-17T07:48:46.356373Z",
     "shell.execute_reply": "2024-09-17T07:48:46.356373Z"
    }
   },
   "outputs": [],
   "source": [
    "while current_patch <= linear_array.nbpatch:\n",
    "    patch.position = current_position\n",
    "    edb.modeler.create_polygon(patch.points, \"TOP\", net_name=\"Array_antenna\")\n",
    "    current_position += patch.width\n",
    "    if current_patch < linear_array.nbpatch:\n",
    "        line.position = current_position\n",
    "        edb.modeler.create_polygon(line.points, \"TOP\", net_name=\"Array_antenna\")\n",
    "        current_position += line.length\n",
    "    current_patch += 1"
   ]
  },
  {
   "cell_type": "code",
   "execution_count": 15,
   "id": "5eda9eae",
   "metadata": {
    "execution": {
     "iopub.execute_input": "2024-09-17T07:48:46.356373Z",
     "iopub.status.busy": "2024-09-17T07:48:46.356373Z",
     "iopub.status.idle": "2024-09-17T07:48:46.372008Z",
     "shell.execute_reply": "2024-09-17T07:48:46.372008Z"
    }
   },
   "outputs": [],
   "source": [
    "linear_array.length = current_position"
   ]
  },
  {
   "cell_type": "markdown",
   "id": "cf311045",
   "metadata": {},
   "source": [
    "## Add ground\n",
    "\n",
    "Add a ground."
   ]
  },
  {
   "cell_type": "code",
   "execution_count": 16,
   "id": "7a8c5cf8",
   "metadata": {
    "execution": {
     "iopub.execute_input": "2024-09-17T07:48:46.372008Z",
     "iopub.status.busy": "2024-09-17T07:48:46.372008Z",
     "iopub.status.idle": "2024-09-17T07:48:46.387572Z",
     "shell.execute_reply": "2024-09-17T07:48:46.387572Z"
    },
    "lines_to_next_cell": 2
   },
   "outputs": [
    {
     "data": {
      "text/plain": [
       "<pyedb.dotnet.edb_core.edb_data.primitives_data.EdbPolygon at 0x23297eb8f40>"
      ]
     },
     "execution_count": 16,
     "metadata": {},
     "output_type": "execute_result"
    }
   ],
   "source": [
    "edb.modeler.create_polygon(linear_array.points, \"GND\", net_name=\"GND\")"
   ]
  },
  {
   "cell_type": "markdown",
   "id": "f6c244f6",
   "metadata": {},
   "source": [
    "## Add connector pin\n",
    "\n",
    "Add a central connector pin."
   ]
  },
  {
   "cell_type": "code",
   "execution_count": 17,
   "id": "b2523a9b",
   "metadata": {
    "execution": {
     "iopub.execute_input": "2024-09-17T07:48:46.387572Z",
     "iopub.status.busy": "2024-09-17T07:48:46.387572Z",
     "iopub.status.idle": "2024-09-17T07:48:46.434516Z",
     "shell.execute_reply": "2024-09-17T07:48:46.434516Z"
    }
   },
   "outputs": [
    {
     "name": "stdout",
     "output_type": "stream",
     "text": [
      "PyAEDT INFO: Padstack Connector_pin create correctly\n"
     ]
    }
   ],
   "source": [
    "edb.padstacks.create(padstackname=\"Connector_pin\", holediam=\"100um\", paddiam=\"0\", antipaddiam=\"200um\")\n",
    "con_pin = edb.padstacks.place(\n",
    "    [first_patch.width / 4, 0],\n",
    "    \"Connector_pin\",\n",
    "    net_name=\"Array_antenna\",\n",
    "    fromlayer=\"TOP\",\n",
    "    tolayer=\"GND\",\n",
    "    via_name=\"coax\",\n",
    ")"
   ]
  },
  {
   "cell_type": "markdown",
   "id": "fed3a46a",
   "metadata": {},
   "source": [
    "## Add connector ground\n",
    "\n",
    "Add a connector ground."
   ]
  },
  {
   "cell_type": "code",
   "execution_count": 18,
   "id": "4459778b",
   "metadata": {
    "execution": {
     "iopub.execute_input": "2024-09-17T07:48:46.434516Z",
     "iopub.status.busy": "2024-09-17T07:48:46.434516Z",
     "iopub.status.idle": "2024-09-17T07:48:46.481382Z",
     "shell.execute_reply": "2024-09-17T07:48:46.481382Z"
    }
   },
   "outputs": [
    {
     "name": "stdout",
     "output_type": "stream",
     "text": [
      "PyAEDT INFO: Padstack gnd_via create correctly\n"
     ]
    }
   ],
   "source": [
    "edb.modeler.create_polygon(first_patch.points, \"Virt_GND\", net_name=\"GND\")\n",
    "edb.padstacks.create(\"gnd_via\", \"100um\", \"0\", \"0\")\n",
    "con_ref1 = edb.padstacks.place(\n",
    "    [first_patch.points[0][0] + 0.2e-3, first_patch.points[0][1] + 0.2e-3],\n",
    "    \"gnd_via\",\n",
    "    fromlayer=\"GND\",\n",
    "    tolayer=\"Virt_GND\",\n",
    "    net_name=\"GND\",\n",
    ")\n",
    "con_ref2 = edb.padstacks.place(\n",
    "    [first_patch.points[1][0] - 0.2e-3, first_patch.points[1][1] + 0.2e-3],\n",
    "    \"gnd_via\",\n",
    "    fromlayer=\"GND\",\n",
    "    tolayer=\"Virt_GND\",\n",
    "    net_name=\"GND\",\n",
    ")\n",
    "con_ref3 = edb.padstacks.place(\n",
    "    [first_patch.points[2][0] - 0.2e-3, first_patch.points[2][1] - 0.2e-3],\n",
    "    \"gnd_via\",\n",
    "    fromlayer=\"GND\",\n",
    "    tolayer=\"Virt_GND\",\n",
    "    net_name=\"GND\",\n",
    ")\n",
    "con_ref4 = edb.padstacks.place(\n",
    "    [first_patch.points[3][0] + 0.2e-3, first_patch.points[3][1] - 0.2e-3],\n",
    "    \"gnd_via\",\n",
    "    fromlayer=\"GND\",\n",
    "    tolayer=\"Virt_GND\",\n",
    "    net_name=\"GND\",\n",
    ")"
   ]
  },
  {
   "cell_type": "markdown",
   "id": "816d7567",
   "metadata": {},
   "source": [
    "## Add excitation port\n",
    "\n",
    "Add an excitation port."
   ]
  },
  {
   "cell_type": "code",
   "execution_count": 19,
   "id": "3f5bfa28",
   "metadata": {
    "execution": {
     "iopub.execute_input": "2024-09-17T07:48:46.481382Z",
     "iopub.status.busy": "2024-09-17T07:48:46.481382Z",
     "iopub.status.idle": "2024-09-17T07:48:46.512631Z",
     "shell.execute_reply": "2024-09-17T07:48:46.512631Z"
    },
    "lines_to_next_cell": 2
   },
   "outputs": [],
   "source": [
    "edb.padstacks.set_solderball(con_pin, \"Virt_GND\", isTopPlaced=False, ballDiam=0.1e-3)\n",
    "port_name = edb.padstacks.create_coax_port(con_pin)"
   ]
  },
  {
   "cell_type": "markdown",
   "id": "2e381706",
   "metadata": {},
   "source": [
    "## Plot geometry\n",
    "\n",
    "Plot the geometry."
   ]
  },
  {
   "cell_type": "code",
   "execution_count": 20,
   "id": "a7859fba",
   "metadata": {
    "execution": {
     "iopub.execute_input": "2024-09-17T07:48:46.512631Z",
     "iopub.status.busy": "2024-09-17T07:48:46.512631Z",
     "iopub.status.idle": "2024-09-17T07:48:46.809869Z",
     "shell.execute_reply": "2024-09-17T07:48:46.809869Z"
    }
   },
   "outputs": [
    {
     "name": "stdout",
     "output_type": "stream",
     "text": [
      "PyAEDT INFO: Nets Point Generation time 0.063 seconds\n"
     ]
    },
    {
     "name": "stderr",
     "output_type": "stream",
     "text": [
      "C:\\actions-runner\\_work\\pyedb\\pyedb\\.venv\\lib\\site-packages\\pyedb\\generic\\plot.py:144: UserWarning: FigureCanvasAgg is non-interactive, and thus cannot be shown\n",
      "  plt.show()\n"
     ]
    }
   ],
   "source": [
    "edb.nets.plot(None)"
   ]
  },
  {
   "cell_type": "markdown",
   "id": "90d4104d",
   "metadata": {},
   "source": [
    "## Save and close Edb instance prior to opening it in Electronics Desktop.\n",
    "\n",
    "Save EDB."
   ]
  },
  {
   "cell_type": "code",
   "execution_count": 21,
   "id": "87b7b789",
   "metadata": {
    "execution": {
     "iopub.execute_input": "2024-09-17T07:48:46.809869Z",
     "iopub.status.busy": "2024-09-17T07:48:46.809869Z",
     "iopub.status.idle": "2024-09-17T07:48:46.841113Z",
     "shell.execute_reply": "2024-09-17T07:48:46.841113Z"
    }
   },
   "outputs": [
    {
     "name": "stdout",
     "output_type": "stream",
     "text": [
      "PyAEDT INFO: EDB file save time: 0.00ms\n"
     ]
    },
    {
     "name": "stdout",
     "output_type": "stream",
     "text": [
      "PyAEDT INFO: EDB file release time: 15.62ms\n"
     ]
    },
    {
     "name": "stdout",
     "output_type": "stream",
     "text": [
      "EDB saved correctly to C:\\Users\\ansys\\AppData\\Local\\Temp\\pcb_A752ER.aedb. You can import in AEDT.\n"
     ]
    }
   ],
   "source": [
    "edb.save_edb()\n",
    "edb.close_edb()\n",
    "print(\"EDB saved correctly to {}. You can import in AEDT.\".format(aedb_path))"
   ]
  },
  {
   "cell_type": "markdown",
   "id": "60227287",
   "metadata": {},
   "source": [
    "## Launch HFSS 3D Layout and open EDB\n",
    "\n",
    "Launch HFSS 3D Layout and open EDB."
   ]
  },
  {
   "cell_type": "code",
   "execution_count": 22,
   "id": "b736760d",
   "metadata": {
    "execution": {
     "iopub.execute_input": "2024-09-17T07:48:46.841113Z",
     "iopub.status.busy": "2024-09-17T07:48:46.841113Z",
     "iopub.status.idle": "2024-09-17T07:49:25.926096Z",
     "shell.execute_reply": "2024-09-17T07:49:25.926096Z"
    }
   },
   "outputs": [
    {
     "name": "stdout",
     "output_type": "stream",
     "text": [
      "PyAEDT WARNING: Argument `projectname` is deprecated for method `__init__`; use `project` instead.\n"
     ]
    },
    {
     "name": "stdout",
     "output_type": "stream",
     "text": [
      "PyAEDT WARNING: Argument `specified_version` is deprecated for method `__init__`; use `version` instead.\n"
     ]
    },
    {
     "name": "stdout",
     "output_type": "stream",
     "text": [
      "PyAEDT WARNING: Argument `new_desktop_session` is deprecated for method `__init__`; use `new_desktop` instead.\n"
     ]
    },
    {
     "name": "stdout",
     "output_type": "stream",
     "text": [
      "PyAEDT INFO: Python version 3.10.11 (tags/v3.10.11:7d4cc5a, Apr  5 2023, 00:38:17) [MSC v.1929 64 bit (AMD64)]\n"
     ]
    },
    {
     "name": "stdout",
     "output_type": "stream",
     "text": [
      "PyAEDT INFO: PyAEDT version 0.11.dev0.\n"
     ]
    },
    {
     "name": "stdout",
     "output_type": "stream",
     "text": [
      "PyAEDT INFO: Initializing new Desktop session.\n"
     ]
    },
    {
     "name": "stdout",
     "output_type": "stream",
     "text": [
      "PyAEDT INFO: Log on console is enabled.\n"
     ]
    },
    {
     "name": "stdout",
     "output_type": "stream",
     "text": [
      "PyAEDT INFO: Log on file C:\\Users\\ansys\\AppData\\Local\\Temp\\pyaedt_ansys_e8c66228-384d-4c18-9377-37f64168b747.log is enabled.\n"
     ]
    },
    {
     "name": "stdout",
     "output_type": "stream",
     "text": [
      "PyAEDT INFO: Log on AEDT is enabled.\n"
     ]
    },
    {
     "name": "stdout",
     "output_type": "stream",
     "text": [
      "PyAEDT INFO: Debug logger is disabled. PyAEDT methods will not be logged.\n"
     ]
    },
    {
     "name": "stdout",
     "output_type": "stream",
     "text": [
      "PyAEDT INFO: Launching PyAEDT with gRPC plugin.\n"
     ]
    },
    {
     "name": "stdout",
     "output_type": "stream",
     "text": [
      "PyAEDT INFO: New AEDT session is starting on gRPC port 61349\n"
     ]
    },
    {
     "name": "stdout",
     "output_type": "stream",
     "text": [
      "PyAEDT INFO: AEDT installation Path C:\\Program Files\\AnsysEM\\v242\\Win64\n"
     ]
    },
    {
     "name": "stdout",
     "output_type": "stream",
     "text": [
      "PyAEDT INFO: Ansoft.ElectronicsDesktop.2024.2 version started with process ID 6344.\n"
     ]
    },
    {
     "name": "stdout",
     "output_type": "stream",
     "text": [
      "PyAEDT INFO: EDB folder C:\\Users\\ansys\\AppData\\Local\\Temp\\pcb_A752ER.aedb has been imported to project pcb_A752ER\n"
     ]
    },
    {
     "name": "stdout",
     "output_type": "stream",
     "text": [
      "PyAEDT INFO: Active Design set to 0;Cell_9HQLW1\n"
     ]
    },
    {
     "name": "stdout",
     "output_type": "stream",
     "text": [
      "PyAEDT INFO: Aedt Objects correctly read\n"
     ]
    }
   ],
   "source": [
    "h3d = Hfss3dLayout(\n",
    "    projectname=aedb_path, specified_version=\"2024.2\", new_desktop_session=True, non_graphical=non_graphical\n",
    ")"
   ]
  },
  {
   "cell_type": "markdown",
   "id": "e4b0179b",
   "metadata": {},
   "source": [
    "## Plot geometry\n",
    "\n",
    "Plot the geometry. The EDB methods are also accessible from the ``Hfss3dlayout`` class."
   ]
  },
  {
   "cell_type": "code",
   "execution_count": 23,
   "id": "241b77d5",
   "metadata": {
    "execution": {
     "iopub.execute_input": "2024-09-17T07:49:25.926096Z",
     "iopub.status.busy": "2024-09-17T07:49:25.926096Z",
     "iopub.status.idle": "2024-09-17T07:49:26.053397Z",
     "shell.execute_reply": "2024-09-17T07:49:26.052392Z"
    }
   },
   "outputs": [
    {
     "name": "stdout",
     "output_type": "stream",
     "text": [
      "PyAEDT INFO: Loading Modeler.\n"
     ]
    },
    {
     "name": "stdout",
     "output_type": "stream",
     "text": [
      "PyAEDT INFO: Modeler loaded.\n"
     ]
    },
    {
     "name": "stdout",
     "output_type": "stream",
     "text": [
      "PyAEDT INFO: EDB loaded.\n"
     ]
    },
    {
     "name": "stdout",
     "output_type": "stream",
     "text": [
      "PyAEDT INFO: Layers loaded.\n"
     ]
    },
    {
     "name": "stdout",
     "output_type": "stream",
     "text": [
      "PyAEDT INFO: Primitives loaded.\n"
     ]
    },
    {
     "name": "stdout",
     "output_type": "stream",
     "text": [
      "PyAEDT INFO: Modeler class has been initialized! Elapsed time: 0m 0sec\n"
     ]
    },
    {
     "name": "stdout",
     "output_type": "stream",
     "text": [
      "PyAEDT INFO: Logger is initialized in EDB.\n"
     ]
    },
    {
     "name": "stdout",
     "output_type": "stream",
     "text": [
      "PyAEDT INFO: legacy v0.28.0\n"
     ]
    },
    {
     "name": "stdout",
     "output_type": "stream",
     "text": [
      "PyAEDT INFO: Python version 3.10.11 (tags/v3.10.11:7d4cc5a, Apr  5 2023, 00:38:17) [MSC v.1929 64 bit (AMD64)]\n"
     ]
    },
    {
     "name": "stdout",
     "output_type": "stream",
     "text": [
      "PyAEDT INFO: Database pcb_A752ER.aedb Opened in 2024.2\n"
     ]
    },
    {
     "name": "stdout",
     "output_type": "stream",
     "text": [
      "PyAEDT INFO: Cell Cell_9HQLW1 Opened\n"
     ]
    },
    {
     "name": "stdout",
     "output_type": "stream",
     "text": [
      "PyAEDT INFO: Builder was initialized.\n"
     ]
    },
    {
     "name": "stdout",
     "output_type": "stream",
     "text": [
      "PyAEDT INFO: EDB initialized.\n"
     ]
    },
    {
     "name": "stdout",
     "output_type": "stream",
     "text": [
      "PyAEDT INFO: Nets Point Generation time 0.031 seconds\n"
     ]
    }
   ],
   "source": [
    "h3d.modeler.edb.nets.plot(None)"
   ]
  },
  {
   "cell_type": "markdown",
   "id": "5fba1765",
   "metadata": {},
   "source": [
    "## Create setup and sweeps\n",
    "\n",
    "Getters and setters facilitate the settings on the nested property dictionary.\n",
    "Previously, you had to use these commands:\n",
    "\n",
    "``setup.props[\"AdaptiveSettings\"][\"SingleFrequencyDataList\"][\"AdaptiveFrequencyData\"][\"AdaptiveFrequency\"] = \"20GHz\"``\n",
    "``setup.props[\"AdaptiveSettings\"][\"SingleFrequencyDataList\"][\"AdaptiveFrequencyData\"][\"MaxPasses\"] = 4``\n",
    "\n",
    "You can now use the simpler approach that follows."
   ]
  },
  {
   "cell_type": "code",
   "execution_count": 24,
   "id": "b13811ae",
   "metadata": {
    "execution": {
     "iopub.execute_input": "2024-09-17T07:49:26.053397Z",
     "iopub.status.busy": "2024-09-17T07:49:26.053397Z",
     "iopub.status.idle": "2024-09-17T07:49:26.131661Z",
     "shell.execute_reply": "2024-09-17T07:49:26.131661Z"
    }
   },
   "outputs": [],
   "source": [
    "setup = h3d.create_setup()"
   ]
  },
  {
   "cell_type": "code",
   "execution_count": 25,
   "id": "8f1b8829",
   "metadata": {
    "execution": {
     "iopub.execute_input": "2024-09-17T07:49:26.131661Z",
     "iopub.status.busy": "2024-09-17T07:49:26.131661Z",
     "iopub.status.idle": "2024-09-17T07:49:26.306060Z",
     "shell.execute_reply": "2024-09-17T07:49:26.306060Z"
    }
   },
   "outputs": [
    {
     "name": "stdout",
     "output_type": "stream",
     "text": [
      "PyAEDT WARNING: Argument `setupname` is deprecated for method `create_linear_count_sweep`; use `setup` instead.\n"
     ]
    },
    {
     "name": "stdout",
     "output_type": "stream",
     "text": [
      "PyAEDT WARNING: Argument `freqstart` is deprecated for method `create_linear_count_sweep`; use `start_frequency` instead.\n"
     ]
    },
    {
     "name": "stdout",
     "output_type": "stream",
     "text": [
      "PyAEDT WARNING: Argument `freqstop` is deprecated for method `create_linear_count_sweep`; use `stop_frequency` instead.\n"
     ]
    },
    {
     "name": "stdout",
     "output_type": "stream",
     "text": [
      "PyAEDT WARNING: Argument `sweepname` is deprecated for method `create_linear_count_sweep`; use `name` instead.\n"
     ]
    },
    {
     "name": "stdout",
     "output_type": "stream",
     "text": [
      "PyAEDT INFO: Linear count sweep sweep1 has been correctly created.\n"
     ]
    },
    {
     "data": {
      "text/plain": [
       "<ansys.aedt.core.modules.solve_sweeps.SweepHFSS3DLayout at 0x2329b4f0540>"
      ]
     },
     "execution_count": 25,
     "metadata": {},
     "output_type": "execute_result"
    }
   ],
   "source": [
    "setup[\"AdaptiveFrequency\"] = \"20GHz\"\n",
    "setup[\"AdaptiveSettings/SingleFrequencyDataList/AdaptiveFrequencyData/MaxPasses\"] = 4\n",
    "h3d.create_linear_count_sweep(\n",
    "    setupname=setup.name,\n",
    "    unit=\"GHz\",\n",
    "    freqstart=20,\n",
    "    freqstop=50,\n",
    "    num_of_freq_points=1001,\n",
    "    sweepname=\"sweep1\",\n",
    "    sweep_type=\"Interpolating\",\n",
    "    interpolation_tol_percent=1,\n",
    "    interpolation_max_solutions=255,\n",
    "    save_fields=False,\n",
    "    use_q3d_for_dc=False,\n",
    ")"
   ]
  },
  {
   "cell_type": "markdown",
   "id": "b361d092",
   "metadata": {},
   "source": [
    "## Solve setup and create report\n",
    "\n",
    "Solve the project and create a report."
   ]
  },
  {
   "cell_type": "code",
   "execution_count": 26,
   "id": "d62a53f6",
   "metadata": {
    "execution": {
     "iopub.execute_input": "2024-09-17T07:49:26.306060Z",
     "iopub.status.busy": "2024-09-17T07:49:26.306060Z",
     "iopub.status.idle": "2024-09-17T07:50:57.132003Z",
     "shell.execute_reply": "2024-09-17T07:50:57.132003Z"
    },
    "lines_to_next_cell": 2
   },
   "outputs": [
    {
     "name": "stdout",
     "output_type": "stream",
     "text": [
      "PyAEDT INFO: Key Desktop/ActiveDSOConfigurations/HFSS 3D Layout Design correctly changed.\n"
     ]
    },
    {
     "name": "stdout",
     "output_type": "stream",
     "text": [
      "PyAEDT INFO: Solving all design setups.\n"
     ]
    },
    {
     "name": "stdout",
     "output_type": "stream",
     "text": [
      "PyAEDT INFO: Key Desktop/ActiveDSOConfigurations/HFSS 3D Layout Design correctly changed.\n"
     ]
    },
    {
     "name": "stdout",
     "output_type": "stream",
     "text": [
      "PyAEDT INFO: Design setup None solved correctly in 0.0h 1.0m 27.0s\n"
     ]
    },
    {
     "name": "stdout",
     "output_type": "stream",
     "text": [
      "PyAEDT INFO: Parsing C:/Users/ansys/AppData/Local/Temp/pcb_A752ER.aedt.\n"
     ]
    },
    {
     "name": "stdout",
     "output_type": "stream",
     "text": [
      "PyAEDT INFO: File C:/Users/ansys/AppData/Local/Temp/pcb_A752ER.aedt correctly loaded. Elapsed time: 0m 0sec\n"
     ]
    },
    {
     "name": "stdout",
     "output_type": "stream",
     "text": [
      "PyAEDT INFO: aedt file load time 0.032402992248535156\n"
     ]
    },
    {
     "name": "stdout",
     "output_type": "stream",
     "text": [
      "PyAEDT INFO: PostProcessor class has been initialized! Elapsed time: 0m 0sec\n"
     ]
    },
    {
     "name": "stdout",
     "output_type": "stream",
     "text": [
      "PyAEDT INFO: Post class has been initialized! Elapsed time: 0m 0sec\n"
     ]
    },
    {
     "data": {
      "text/plain": [
       "<ansys.aedt.core.modules.report_templates.Standard at 0x2329cbb9470>"
      ]
     },
     "execution_count": 26,
     "metadata": {},
     "output_type": "execute_result"
    }
   ],
   "source": [
    "h3d.analyze()\n",
    "h3d.post.create_report([\"db(S({0},{1}))\".format(port_name, port_name)])"
   ]
  },
  {
   "cell_type": "markdown",
   "id": "68ad0caa",
   "metadata": {},
   "source": [
    "## Plot results outside AEDT\n",
    "\n",
    "Plot results using Matplotlib."
   ]
  },
  {
   "cell_type": "code",
   "execution_count": 27,
   "id": "e6fbd4b9",
   "metadata": {
    "execution": {
     "iopub.execute_input": "2024-09-17T07:50:57.132003Z",
     "iopub.status.busy": "2024-09-17T07:50:57.132003Z",
     "iopub.status.idle": "2024-09-17T07:50:57.242580Z",
     "shell.execute_reply": "2024-09-17T07:50:57.242580Z"
    }
   },
   "outputs": [
    {
     "name": "stdout",
     "output_type": "stream",
     "text": [
      "PyAEDT INFO: Solution Data Correctly Loaded.\n"
     ]
    },
    {
     "data": {
      "text/plain": [
       "<Figure size 2000x1000 with 1 Axes>"
      ]
     },
     "execution_count": 27,
     "metadata": {},
     "output_type": "execute_result"
    }
   ],
   "source": [
    "solution = h3d.post.get_solution_data([\"S({0},{1})\".format(port_name, port_name)])\n",
    "solution.plot()"
   ]
  },
  {
   "cell_type": "markdown",
   "id": "070c4707",
   "metadata": {},
   "source": [
    "## Close AEDT\n",
    "\n",
    "After the simulation completes, you can close AEDT or release it using the\n",
    ":func:`dotnet.Desktop.release_desktop` method.\n",
    "All methods provide for saving the project before closing AEDT."
   ]
  },
  {
   "cell_type": "code",
   "execution_count": 28,
   "id": "f99f48a8",
   "metadata": {
    "execution": {
     "iopub.execute_input": "2024-09-17T07:50:57.242580Z",
     "iopub.status.busy": "2024-09-17T07:50:57.242580Z",
     "iopub.status.idle": "2024-09-17T07:51:01.363133Z",
     "shell.execute_reply": "2024-09-17T07:51:01.363133Z"
    }
   },
   "outputs": [
    {
     "name": "stdout",
     "output_type": "stream",
     "text": [
      "PyAEDT INFO: Project pcb_A752ER Saved correctly\n"
     ]
    },
    {
     "name": "stdout",
     "output_type": "stream",
     "text": [
      "PyAEDT INFO: Desktop has been released and closed.\n"
     ]
    },
    {
     "data": {
      "text/plain": [
       "True"
      ]
     },
     "execution_count": 28,
     "metadata": {},
     "output_type": "execute_result"
    }
   ],
   "source": [
    "h3d.save_project()\n",
    "h3d.release_desktop()"
   ]
  }
 ],
 "metadata": {
  "jupytext": {
   "cell_metadata_filter": "-all",
   "main_language": "python",
   "notebook_metadata_filter": "-all",
   "text_representation": {
    "extension": ".py",
    "format_name": "light"
   }
  },
  "language_info": {
   "codemirror_mode": {
    "name": "ipython",
    "version": 3
   },
   "file_extension": ".py",
   "mimetype": "text/x-python",
   "name": "python",
   "nbconvert_exporter": "python",
   "pygments_lexer": "ipython3",
   "version": "3.10.11"
  }
 },
 "nbformat": 4,
 "nbformat_minor": 5
}
