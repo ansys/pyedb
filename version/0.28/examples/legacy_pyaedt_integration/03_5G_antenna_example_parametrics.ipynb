{
 "cells": [
  {
   "cell_type": "markdown",
   "id": "1121e0ad",
   "metadata": {},
   "source": [
    "# EDB: Layout Components\n",
    "\n",
    "This example shows how you can use EDB to create a parametric component using\n",
    "3D Layout and use it in HFSS 3D."
   ]
  },
  {
   "cell_type": "markdown",
   "id": "536cb017",
   "metadata": {},
   "source": [
    "## Perform required imports\n",
    "\n",
    "Perform required imports, which includes importing the ``Hfss3dlayout`` object\n",
    "and initializing it on version 2023 R2."
   ]
  },
  {
   "cell_type": "code",
   "execution_count": 1,
   "id": "d8b15091",
   "metadata": {
    "execution": {
     "iopub.execute_input": "2024-09-17T07:51:07.582699Z",
     "iopub.status.busy": "2024-09-17T07:51:07.582699Z",
     "iopub.status.idle": "2024-09-17T07:51:08.254575Z",
     "shell.execute_reply": "2024-09-17T07:51:08.254575Z"
    }
   },
   "outputs": [],
   "source": [
    "import os\n",
    "import tempfile\n",
    "\n",
    "import ansys.aedt.core\n",
    "\n",
    "import pyedb\n"
   ]
  },
  {
   "cell_type": "markdown",
   "id": "29dd34a6",
   "metadata": {},
   "source": [
    "## Set non-graphical mode"
   ]
  },
  {
   "cell_type": "code",
   "execution_count": 2,
   "id": "f0ecf42b",
   "metadata": {
    "execution": {
     "iopub.execute_input": "2024-09-17T07:51:08.254575Z",
     "iopub.status.busy": "2024-09-17T07:51:08.254575Z",
     "iopub.status.idle": "2024-09-17T07:51:08.270196Z",
     "shell.execute_reply": "2024-09-17T07:51:08.270196Z"
    }
   },
   "outputs": [],
   "source": [
    "non_graphical = False"
   ]
  },
  {
   "cell_type": "markdown",
   "id": "d62a6c02",
   "metadata": {
    "lines_to_next_cell": 2
   },
   "source": [
    "## Create data classes\n",
    "\n",
    "Data classes are useful to do calculations and store variables.\n",
    "There are three data classes: ``Patch``, ``Line``, and ``Array``."
   ]
  },
  {
   "cell_type": "code",
   "execution_count": 3,
   "id": "93671324",
   "metadata": {
    "execution": {
     "iopub.execute_input": "2024-09-17T07:51:08.270196Z",
     "iopub.status.busy": "2024-09-17T07:51:08.270196Z",
     "iopub.status.idle": "2024-09-17T07:51:08.301433Z",
     "shell.execute_reply": "2024-09-17T07:51:08.301433Z"
    }
   },
   "outputs": [],
   "source": [
    "class Patch:\n",
    "    def __init__(self, width=0.0, height=0.0, position=0.0):\n",
    "        self.width = width\n",
    "        self.height = height\n",
    "        self.position = position\n",
    "\n",
    "    @property\n",
    "    def points(self):\n",
    "        return [\n",
    "            [self.position, \"-{}/2\".format(self.height)],\n",
    "            [\"{} + {}\".format(self.position, self.width), \"-{}/2\".format(self.height)],\n",
    "            [\"{} + {}\".format(self.position, self.width), \"{}/2\".format(self.height)],\n",
    "            [self.position, \"{}/2\".format(self.height)],\n",
    "        ]\n",
    "\n",
    "\n",
    "class Line:\n",
    "    def __init__(self, length=0.0, width=0.0, position=0.0):\n",
    "        self.length = length\n",
    "        self.width = width\n",
    "        self.position = position\n",
    "\n",
    "    @property\n",
    "    def points(self):\n",
    "        return [\n",
    "            [self.position, \"-{}/2\".format(self.width)],\n",
    "            [\"{} + {}\".format(self.position, self.length), \"-{}/2\".format(self.width)],\n",
    "            [\"{} + {}\".format(self.position, self.length), \"{}/2\".format(self.width)],\n",
    "            [self.position, \"{}/2\".format(self.width)],\n",
    "        ]\n",
    "\n",
    "\n",
    "class LinearArray:\n",
    "    def __init__(self, nb_patch=1, array_length=10e-3, array_width=5e-3):\n",
    "        self.nbpatch = nb_patch\n",
    "        self.length = array_length\n",
    "        self.width = array_width\n",
    "\n",
    "    @property\n",
    "    def points(self):\n",
    "        return [\n",
    "            [-1e-3, \"-{}/2-1e-3\".format(self.width)],\n",
    "            [\"{}+1e-3\".format(self.length), \"-{}/2-1e-3\".format(self.width)],\n",
    "            [\"{}+1e-3\".format(self.length), \"{}/2+1e-3\".format(self.width)],\n",
    "            [-1e-3, \"{}/2+1e-3\".format(self.width)],\n",
    "        ]"
   ]
  },
  {
   "cell_type": "markdown",
   "id": "61c9b7b2",
   "metadata": {},
   "source": [
    "## Launch EDB\n",
    "\n",
    "PyEDB.Edb allows to open existing Edb project or create a new empty project."
   ]
  },
  {
   "cell_type": "code",
   "execution_count": 4,
   "id": "3da56c14",
   "metadata": {
    "execution": {
     "iopub.execute_input": "2024-09-17T07:51:08.301433Z",
     "iopub.status.busy": "2024-09-17T07:51:08.301433Z",
     "iopub.status.idle": "2024-09-17T07:51:20.811519Z",
     "shell.execute_reply": "2024-09-17T07:51:20.811519Z"
    }
   },
   "outputs": [
    {
     "name": "stdout",
     "output_type": "stream",
     "text": [
      "EDB version: 2024.2\n"
     ]
    },
    {
     "name": "stdout",
     "output_type": "stream",
     "text": [
      "PyAEDT INFO: Logger is initialized in EDB.\n"
     ]
    },
    {
     "name": "stdout",
     "output_type": "stream",
     "text": [
      "PyAEDT INFO: legacy v0.28.0\n"
     ]
    },
    {
     "name": "stdout",
     "output_type": "stream",
     "text": [
      "PyAEDT INFO: Python version 3.10.11 (tags/v3.10.11:7d4cc5a, Apr  5 2023, 00:38:17) [MSC v.1929 64 bit (AMD64)]\n"
     ]
    },
    {
     "name": "stdout",
     "output_type": "stream",
     "text": [
      "PyAEDT INFO: EDB C:\\Users\\ansys\\AppData\\Local\\Temp\\tmp58tz_ozd.ansys\\linear_array.aedb created correctly.\n"
     ]
    },
    {
     "name": "stdout",
     "output_type": "stream",
     "text": [
      "PyAEDT INFO: EDB initialized.\n"
     ]
    }
   ],
   "source": [
    "temp_dir = tempfile.TemporaryDirectory(suffix=\".ansys\")\n",
    "aedb_path = os.path.join(temp_dir.name, \"linear_array.aedb\")\n",
    "\n",
    "# Select EDB version (change it manually if needed, e.g. \"2024.2\")\n",
    "edb_version = \"2024.2\"\n",
    "print(f\"EDB version: {edb_version}\")\n",
    "\n",
    "# Create an instance of the Edb class.\n",
    "edb = pyedb.Edb(edbpath=aedb_path, edbversion=edb_version)"
   ]
  },
  {
   "cell_type": "code",
   "execution_count": 5,
   "id": "2dc3a16c",
   "metadata": {
    "execution": {
     "iopub.execute_input": "2024-09-17T07:51:20.811519Z",
     "iopub.status.busy": "2024-09-17T07:51:20.811519Z",
     "iopub.status.idle": "2024-09-17T07:51:20.827051Z",
     "shell.execute_reply": "2024-09-17T07:51:20.827051Z"
    }
   },
   "outputs": [],
   "source": [
    "# Add stackup layers\n",
    "layers = {\n",
    "    \"materials\": {\"copper_high_cond\": {\"conductivity\": 60000000}},\n",
    "    \"layers\": {\n",
    "        \"TOP\": {\"type\": \"signal\", \"thicness\": \"35um\", \"material\": \"copper_high_cond\"},\n",
    "        \"Substrat\": {\"type\": \"dielectric\", \"thicness\": \"0.5mm\", \"material\": \"Duroid (tm)\"},\n",
    "        \"GND\": {\"type\": \"signal\", \"thicness\": \"35um\", \"material\": \"copper\"},\n",
    "        \"Gap\": {\"type\": \"dielectric\", \"thicness\": \"0.05mm\", \"material\": \"Air\"},\n",
    "        \"Virt_GND\": {\"type\": \"signal\", \"thicness\": \"35um\", \"material\": \"copper\"},\n",
    "    },\n",
    "}"
   ]
  },
  {
   "cell_type": "code",
   "execution_count": 6,
   "id": "90473478",
   "metadata": {
    "execution": {
     "iopub.execute_input": "2024-09-17T07:51:20.827051Z",
     "iopub.status.busy": "2024-09-17T07:51:20.827051Z",
     "iopub.status.idle": "2024-09-17T07:51:20.967745Z",
     "shell.execute_reply": "2024-09-17T07:51:20.967745Z"
    }
   },
   "outputs": [
    {
     "data": {
      "text/plain": [
       "True"
      ]
     },
     "execution_count": 6,
     "metadata": {},
     "output_type": "execute_result"
    }
   ],
   "source": [
    "edb.stackup.load(layers)"
   ]
  },
  {
   "cell_type": "markdown",
   "id": "25c10584",
   "metadata": {},
   "source": [
    "Create the first patch and feed line using the ``Patch``, ``Line``classes defined above.\n",
    "\n",
    "Define parameters:"
   ]
  },
  {
   "cell_type": "code",
   "execution_count": 7,
   "id": "64ca0284",
   "metadata": {
    "execution": {
     "iopub.execute_input": "2024-09-17T07:51:20.967745Z",
     "iopub.status.busy": "2024-09-17T07:51:20.967745Z",
     "iopub.status.idle": "2024-09-17T07:51:21.077124Z",
     "shell.execute_reply": "2024-09-17T07:51:21.077124Z"
    }
   },
   "outputs": [
    {
     "data": {
      "text/plain": [
       "<pyedb.dotnet.edb_core.edb_data.primitives_data.EdbPolygon at 0x27c93ca9120>"
      ]
     },
     "execution_count": 7,
     "metadata": {},
     "output_type": "execute_result"
    }
   ],
   "source": [
    "edb[\"w1\"] = 1.4e-3\n",
    "edb[\"h1\"] = 1.2e-3\n",
    "edb[\"initial_position\"] = 0.0\n",
    "edb[\"l1\"] = 2.4e-3\n",
    "edb[\"trace_w\"] = 0.3e-3\n",
    "\n",
    "first_patch = Patch(width=\"w1\", height=\"h1\", position=\"initial_position\")\n",
    "edb.modeler.create_polygon(first_patch.points, \"TOP\", net_name=\"Array_antenna\")"
   ]
  },
  {
   "cell_type": "markdown",
   "id": "fab85882",
   "metadata": {},
   "source": [
    "First line"
   ]
  },
  {
   "cell_type": "code",
   "execution_count": 8,
   "id": "22de2b94",
   "metadata": {
    "execution": {
     "iopub.execute_input": "2024-09-17T07:51:21.077124Z",
     "iopub.status.busy": "2024-09-17T07:51:21.077124Z",
     "iopub.status.idle": "2024-09-17T07:51:21.108369Z",
     "shell.execute_reply": "2024-09-17T07:51:21.108369Z"
    }
   },
   "outputs": [
    {
     "data": {
      "text/plain": [
       "<pyedb.dotnet.edb_core.edb_data.primitives_data.EdbPolygon at 0x27c93cacce0>"
      ]
     },
     "execution_count": 8,
     "metadata": {},
     "output_type": "execute_result"
    }
   ],
   "source": [
    "first_line = Line(length=\"l1\", width=\"trace_w\", position=first_patch.width)\n",
    "edb.modeler.create_polygon(first_line.points, \"TOP\", net_name=\"Array_antenna\")"
   ]
  },
  {
   "cell_type": "markdown",
   "id": "751d5996",
   "metadata": {},
   "source": [
    "Now use the ``LinearArray`` class to create the array."
   ]
  },
  {
   "cell_type": "code",
   "execution_count": 9,
   "id": "f228b214",
   "metadata": {
    "execution": {
     "iopub.execute_input": "2024-09-17T07:51:21.108369Z",
     "iopub.status.busy": "2024-09-17T07:51:21.108369Z",
     "iopub.status.idle": "2024-09-17T07:51:21.233304Z",
     "shell.execute_reply": "2024-09-17T07:51:21.233304Z"
    }
   },
   "outputs": [],
   "source": [
    "edb[\"w2\"] = 2.29e-3\n",
    "edb[\"h2\"] = 3.3e-3\n",
    "edb[\"l2\"] = 1.9e-3\n",
    "edb[\"trace_w2\"] = 0.2e-3\n",
    "\n",
    "patch = Patch(width=\"w2\", height=\"h2\")\n",
    "line = Line(length=\"l2\", width=\"trace_w2\")\n",
    "linear_array = LinearArray(nb_patch=8, array_width=patch.height)\n",
    "\n",
    "current_patch = 1\n",
    "current_position = \"{} + {}\".format(first_line.position, first_line.length)\n",
    "\n",
    "while current_patch <= linear_array.nbpatch:\n",
    "    patch.position = current_position\n",
    "    edb.modeler.create_polygon(patch.points, \"TOP\", net_name=\"Array_antenna\")\n",
    "    current_position = \"{} + {}\".format(current_position, patch.width)\n",
    "    if current_patch < linear_array.nbpatch:\n",
    "        line.position = current_position\n",
    "        edb.modeler.create_polygon(line.points, \"TOP\", net_name=\"Array_antenna\")\n",
    "        current_position = \"{} + {}\".format(current_position, line.length)\n",
    "    current_patch += 1\n",
    "\n",
    "linear_array.length = current_position"
   ]
  },
  {
   "cell_type": "markdown",
   "id": "0a7dc42d",
   "metadata": {},
   "source": [
    "Add the ground conductor."
   ]
  },
  {
   "cell_type": "code",
   "execution_count": 10,
   "id": "8afb08ec",
   "metadata": {
    "execution": {
     "iopub.execute_input": "2024-09-17T07:51:21.233304Z",
     "iopub.status.busy": "2024-09-17T07:51:21.233304Z",
     "iopub.status.idle": "2024-09-17T07:51:21.264555Z",
     "shell.execute_reply": "2024-09-17T07:51:21.264555Z"
    }
   },
   "outputs": [
    {
     "data": {
      "text/plain": [
       "<pyedb.dotnet.edb_core.edb_data.primitives_data.EdbPolygon at 0x27c97951f60>"
      ]
     },
     "execution_count": 10,
     "metadata": {},
     "output_type": "execute_result"
    }
   ],
   "source": [
    "edb.modeler.create_polygon(linear_array.points, \"GND\", net_name=\"GND\")"
   ]
  },
  {
   "cell_type": "markdown",
   "id": "f42a8735",
   "metadata": {},
   "source": [
    "Add the connector pin to use to assign the port."
   ]
  },
  {
   "cell_type": "code",
   "execution_count": 11,
   "id": "fb466d2d",
   "metadata": {
    "execution": {
     "iopub.execute_input": "2024-09-17T07:51:21.264555Z",
     "iopub.status.busy": "2024-09-17T07:51:21.264555Z",
     "iopub.status.idle": "2024-09-17T07:51:21.311527Z",
     "shell.execute_reply": "2024-09-17T07:51:21.311527Z"
    }
   },
   "outputs": [
    {
     "name": "stdout",
     "output_type": "stream",
     "text": [
      "PyAEDT INFO: Padstack Connector_pin create correctly\n"
     ]
    }
   ],
   "source": [
    "edb.padstacks.create(padstackname=\"Connector_pin\", holediam=\"100um\", paddiam=\"0\", antipaddiam=\"200um\")\n",
    "con_pin = edb.padstacks.place(\n",
    "    [\"{}/4.0\".format(first_patch.width), 0],\n",
    "    \"Connector_pin\",\n",
    "    net_name=\"Array_antenna\",\n",
    "    fromlayer=\"TOP\",\n",
    "    tolayer=\"GND\",\n",
    "    via_name=\"coax\",\n",
    ")"
   ]
  },
  {
   "cell_type": "markdown",
   "id": "b381d812",
   "metadata": {},
   "source": [
    "Add a connector ground."
   ]
  },
  {
   "cell_type": "code",
   "execution_count": 12,
   "id": "d4285b23",
   "metadata": {
    "execution": {
     "iopub.execute_input": "2024-09-17T07:51:21.311527Z",
     "iopub.status.busy": "2024-09-17T07:51:21.311527Z",
     "iopub.status.idle": "2024-09-17T07:51:21.374161Z",
     "shell.execute_reply": "2024-09-17T07:51:21.374161Z"
    }
   },
   "outputs": [
    {
     "name": "stdout",
     "output_type": "stream",
     "text": [
      "PyAEDT INFO: Padstack gnd_via create correctly\n"
     ]
    }
   ],
   "source": [
    "edb.modeler.create_polygon(first_patch.points, \"Virt_GND\", net_name=\"GND\")\n",
    "edb.padstacks.create(\"gnd_via\", \"100um\", \"0\", \"0\")\n",
    "edb[\"via_spacing\"] = 0.2e-3\n",
    "con_ref1 = edb.padstacks.place(\n",
    "    [\n",
    "        \"{} + {}\".format(first_patch.points[0][0], \"via_spacing\"),\n",
    "        \"{} + {}\".format(first_patch.points[0][1], \"via_spacing\"),\n",
    "    ],\n",
    "    \"gnd_via\",\n",
    "    fromlayer=\"GND\",\n",
    "    tolayer=\"Virt_GND\",\n",
    "    net_name=\"GND\",\n",
    ")\n",
    "con_ref2 = edb.padstacks.place(\n",
    "    [\n",
    "        \"{} + {}\".format(first_patch.points[1][0], \"-via_spacing\"),\n",
    "        \"{} + {}\".format(first_patch.points[1][1], \"via_spacing\"),\n",
    "    ],\n",
    "    \"gnd_via\",\n",
    "    fromlayer=\"GND\",\n",
    "    tolayer=\"Virt_GND\",\n",
    "    net_name=\"GND\",\n",
    ")\n",
    "con_ref3 = edb.padstacks.place(\n",
    "    [\n",
    "        \"{} + {}\".format(first_patch.points[2][0], \"-via_spacing\"),\n",
    "        \"{} + {}\".format(first_patch.points[2][1], \"-via_spacing\"),\n",
    "    ],\n",
    "    \"gnd_via\",\n",
    "    fromlayer=\"GND\",\n",
    "    tolayer=\"Virt_GND\",\n",
    "    net_name=\"GND\",\n",
    ")\n",
    "con_ref4 = edb.padstacks.place(\n",
    "    [\n",
    "        \"{} + {}\".format(first_patch.points[3][0], \"via_spacing\"),\n",
    "        \"{} + {}\".format(first_patch.points[3][1], \"-via_spacing\"),\n",
    "    ],\n",
    "    \"gnd_via\",\n",
    "    fromlayer=\"GND\",\n",
    "    tolayer=\"Virt_GND\",\n",
    "    net_name=\"GND\",\n",
    ")"
   ]
  },
  {
   "cell_type": "markdown",
   "id": "11807518",
   "metadata": {},
   "source": [
    "Define the port."
   ]
  },
  {
   "cell_type": "code",
   "execution_count": 13,
   "id": "d6831f46",
   "metadata": {
    "execution": {
     "iopub.execute_input": "2024-09-17T07:51:21.374161Z",
     "iopub.status.busy": "2024-09-17T07:51:21.374161Z",
     "iopub.status.idle": "2024-09-17T07:51:21.405401Z",
     "shell.execute_reply": "2024-09-17T07:51:21.405401Z"
    }
   },
   "outputs": [],
   "source": [
    "edb.padstacks.set_solderball(con_pin, \"Virt_GND\", isTopPlaced=False, ballDiam=0.1e-3)\n",
    "port_name = edb.padstacks.create_coax_port(con_pin)"
   ]
  },
  {
   "cell_type": "markdown",
   "id": "8ec36b06",
   "metadata": {},
   "source": [
    "Display the model using the ``Edb.nets.plot()`` method."
   ]
  },
  {
   "cell_type": "code",
   "execution_count": 14,
   "id": "b3a0b200",
   "metadata": {
    "execution": {
     "iopub.execute_input": "2024-09-17T07:51:21.405401Z",
     "iopub.status.busy": "2024-09-17T07:51:21.405401Z",
     "iopub.status.idle": "2024-09-17T07:51:21.514738Z",
     "shell.execute_reply": "2024-09-17T07:51:21.514738Z"
    }
   },
   "outputs": [
    {
     "name": "stdout",
     "output_type": "stream",
     "text": [
      "PyAEDT INFO: Nets Point Generation time 0.047 seconds\n"
     ]
    },
    {
     "name": "stderr",
     "output_type": "stream",
     "text": [
      "C:\\actions-runner\\_work\\pyedb\\pyedb\\.venv\\lib\\site-packages\\pyedb\\generic\\plot.py:144: UserWarning: FigureCanvasAgg is non-interactive, and thus cannot be shown\n",
      "  plt.show()\n"
     ]
    }
   ],
   "source": [
    "edb.nets.plot()"
   ]
  },
  {
   "cell_type": "markdown",
   "id": "75009c0e",
   "metadata": {},
   "source": [
    "The EDB is complete. Now close the EDB and import it into HFSS as a \"Layout Component\"."
   ]
  },
  {
   "cell_type": "code",
   "execution_count": 15,
   "id": "4a1f1d9d",
   "metadata": {
    "execution": {
     "iopub.execute_input": "2024-09-17T07:51:21.514738Z",
     "iopub.status.busy": "2024-09-17T07:51:21.514738Z",
     "iopub.status.idle": "2024-09-17T07:51:21.546033Z",
     "shell.execute_reply": "2024-09-17T07:51:21.546033Z"
    }
   },
   "outputs": [
    {
     "name": "stdout",
     "output_type": "stream",
     "text": [
      "PyAEDT INFO: EDB file save time: 0.00ms\n"
     ]
    },
    {
     "name": "stdout",
     "output_type": "stream",
     "text": [
      "PyAEDT INFO: EDB file release time: 15.62ms\n"
     ]
    },
    {
     "name": "stdout",
     "output_type": "stream",
     "text": [
      "EDB saved correctly to C:\\Users\\ansys\\AppData\\Local\\Temp\\tmp58tz_ozd.ansys\\linear_array.aedb. You can import in AEDT.\n"
     ]
    }
   ],
   "source": [
    "edb.save_edb()\n",
    "edb.close_edb()\n",
    "print(\"EDB saved correctly to {}. You can import in AEDT.\".format(aedb_path))"
   ]
  },
  {
   "cell_type": "markdown",
   "id": "2e4f5e3b",
   "metadata": {},
   "source": [
    "## 3D component in HFSS\n",
    "\n",
    "First create an instance of the ``pyaedt.Hfss`` class. If you set\n",
    "> ``non_graphical = False\n",
    "\n",
    "then AEDT user interface will be visible after the following cell is executed.\n",
    "It is now possible to monitor the progress in the UI as each of the following cells is executed.\n",
    "All commands can be run without the UI by changing the value of ``non_graphical``."
   ]
  },
  {
   "cell_type": "code",
   "execution_count": 16,
   "id": "07f68450",
   "metadata": {
    "execution": {
     "iopub.execute_input": "2024-09-17T07:51:21.546033Z",
     "iopub.status.busy": "2024-09-17T07:51:21.546033Z",
     "iopub.status.idle": "2024-09-17T07:51:54.795090Z",
     "shell.execute_reply": "2024-09-17T07:51:54.795090Z"
    }
   },
   "outputs": [
    {
     "name": "stdout",
     "output_type": "stream",
     "text": [
      "PyAEDT WARNING: Argument `designname` is deprecated for method `__init__`; use `design` instead.\n"
     ]
    },
    {
     "name": "stdout",
     "output_type": "stream",
     "text": [
      "PyAEDT WARNING: Argument `projectname` is deprecated for method `__init__`; use `project` instead.\n"
     ]
    },
    {
     "name": "stdout",
     "output_type": "stream",
     "text": [
      "PyAEDT WARNING: Argument `specified_version` is deprecated for method `__init__`; use `version` instead.\n"
     ]
    },
    {
     "name": "stdout",
     "output_type": "stream",
     "text": [
      "PyAEDT WARNING: Argument `new_desktop_session` is deprecated for method `__init__`; use `new_desktop` instead.\n"
     ]
    },
    {
     "name": "stdout",
     "output_type": "stream",
     "text": [
      "PyAEDT INFO: Python version 3.10.11 (tags/v3.10.11:7d4cc5a, Apr  5 2023, 00:38:17) [MSC v.1929 64 bit (AMD64)]\n"
     ]
    },
    {
     "name": "stdout",
     "output_type": "stream",
     "text": [
      "PyAEDT INFO: PyAEDT version 0.11.dev0.\n"
     ]
    },
    {
     "name": "stdout",
     "output_type": "stream",
     "text": [
      "PyAEDT INFO: Initializing new Desktop session.\n"
     ]
    },
    {
     "name": "stdout",
     "output_type": "stream",
     "text": [
      "PyAEDT INFO: Log on console is enabled.\n"
     ]
    },
    {
     "name": "stdout",
     "output_type": "stream",
     "text": [
      "PyAEDT INFO: Log on file C:\\Users\\ansys\\AppData\\Local\\Temp\\pyaedt_ansys_bc2e1834-b516-4811-b678-e56e752adfe9.log is enabled.\n"
     ]
    },
    {
     "name": "stdout",
     "output_type": "stream",
     "text": [
      "PyAEDT INFO: Log on AEDT is enabled.\n"
     ]
    },
    {
     "name": "stdout",
     "output_type": "stream",
     "text": [
      "PyAEDT INFO: Debug logger is disabled. PyAEDT methods will not be logged.\n"
     ]
    },
    {
     "name": "stdout",
     "output_type": "stream",
     "text": [
      "PyAEDT INFO: Launching PyAEDT with gRPC plugin.\n"
     ]
    },
    {
     "name": "stdout",
     "output_type": "stream",
     "text": [
      "PyAEDT INFO: New AEDT session is starting on gRPC port 62039\n"
     ]
    },
    {
     "name": "stdout",
     "output_type": "stream",
     "text": [
      "PyAEDT INFO: AEDT installation Path C:\\Program Files\\AnsysEM\\v242\\Win64\n"
     ]
    },
    {
     "name": "stdout",
     "output_type": "stream",
     "text": [
      "PyAEDT INFO: Ansoft.ElectronicsDesktop.2024.2 version started with process ID 7156.\n"
     ]
    },
    {
     "name": "stdout",
     "output_type": "stream",
     "text": [
      "PyAEDT INFO: Project Demo_3DComp has been created.\n"
     ]
    },
    {
     "name": "stdout",
     "output_type": "stream",
     "text": [
      "PyAEDT INFO: Added design 'Linear_Array' of type HFSS.\n"
     ]
    },
    {
     "name": "stdout",
     "output_type": "stream",
     "text": [
      "PyAEDT INFO: Aedt Objects correctly read\n"
     ]
    }
   ],
   "source": [
    "h3d = ansys.aedt.core.Hfss(\n",
    "    projectname=\"Demo_3DComp\",\n",
    "    designname=\"Linear_Array\",\n",
    "    specified_version=\"2024.2\",\n",
    "    new_desktop_session=True,\n",
    "    non_graphical=non_graphical,\n",
    "    close_on_exit=True,\n",
    "    solution_type=\"Terminal\",\n",
    ")"
   ]
  },
  {
   "cell_type": "markdown",
   "id": "cffb89a1",
   "metadata": {},
   "source": [
    "Set units to ``mm``."
   ]
  },
  {
   "cell_type": "code",
   "execution_count": 17,
   "id": "caf07786",
   "metadata": {
    "execution": {
     "iopub.execute_input": "2024-09-17T07:51:54.795090Z",
     "iopub.status.busy": "2024-09-17T07:51:54.795090Z",
     "iopub.status.idle": "2024-09-17T07:51:55.111323Z",
     "shell.execute_reply": "2024-09-17T07:51:55.111323Z"
    }
   },
   "outputs": [
    {
     "name": "stdout",
     "output_type": "stream",
     "text": [
      "PyAEDT INFO: Modeler class has been initialized! Elapsed time: 0m 0sec\n"
     ]
    }
   ],
   "source": [
    "h3d.modeler.model_units = \"mm\""
   ]
  },
  {
   "cell_type": "markdown",
   "id": "734343a5",
   "metadata": {},
   "source": [
    "## Import the EDB as a 3D component\n",
    "\n",
    "One or more layout components can be imported into HFSS.\n",
    "The combination of layout data and 3D CAD data helps streamline model creation and setup."
   ]
  },
  {
   "cell_type": "code",
   "execution_count": 18,
   "id": "ee654ba1",
   "metadata": {
    "execution": {
     "iopub.execute_input": "2024-09-17T07:51:55.111323Z",
     "iopub.status.busy": "2024-09-17T07:51:55.111323Z",
     "iopub.status.idle": "2024-09-17T07:51:56.697207Z",
     "shell.execute_reply": "2024-09-17T07:51:56.697207Z"
    }
   },
   "outputs": [
    {
     "name": "stdout",
     "output_type": "stream",
     "text": [
      "PyAEDT INFO: Logger is initialized in EDB.\n"
     ]
    },
    {
     "name": "stdout",
     "output_type": "stream",
     "text": [
      "PyAEDT INFO: legacy v0.28.0\n"
     ]
    },
    {
     "name": "stdout",
     "output_type": "stream",
     "text": [
      "PyAEDT INFO: Python version 3.10.11 (tags/v3.10.11:7d4cc5a, Apr  5 2023, 00:38:17) [MSC v.1929 64 bit (AMD64)]\n"
     ]
    },
    {
     "name": "stdout",
     "output_type": "stream",
     "text": [
      "PyAEDT INFO: Database linear_array.aedb Opened in 2024.2\n"
     ]
    },
    {
     "name": "stdout",
     "output_type": "stream",
     "text": [
      "PyAEDT INFO: Cell Cell_8U5ABD Opened\n"
     ]
    },
    {
     "name": "stdout",
     "output_type": "stream",
     "text": [
      "PyAEDT INFO: Builder was initialized.\n"
     ]
    },
    {
     "name": "stdout",
     "output_type": "stream",
     "text": [
      "PyAEDT INFO: EDB initialized.\n"
     ]
    },
    {
     "name": "stdout",
     "output_type": "stream",
     "text": [
      "PyAEDT INFO: Parsing C:/Users/ansys/Documents/Ansoft/Demo_3DComp.aedt.\n"
     ]
    },
    {
     "name": "stdout",
     "output_type": "stream",
     "text": [
      "PyAEDT INFO: File C:/Users/ansys/Documents/Ansoft/Demo_3DComp.aedt correctly loaded. Elapsed time: 0m 0sec\n"
     ]
    },
    {
     "name": "stdout",
     "output_type": "stream",
     "text": [
      "PyAEDT INFO: aedt file load time 0.015625\n"
     ]
    },
    {
     "name": "stdout",
     "output_type": "stream",
     "text": [
      "PyAEDT INFO: Logger is initialized in EDB.\n"
     ]
    },
    {
     "name": "stdout",
     "output_type": "stream",
     "text": [
      "PyAEDT INFO: legacy v0.28.0\n"
     ]
    },
    {
     "name": "stdout",
     "output_type": "stream",
     "text": [
      "PyAEDT INFO: Python version 3.10.11 (tags/v3.10.11:7d4cc5a, Apr  5 2023, 00:38:17) [MSC v.1929 64 bit (AMD64)]\n"
     ]
    },
    {
     "name": "stdout",
     "output_type": "stream",
     "text": [
      "PyAEDT WARNING: AEDT project-related file C:\\Users\\ansys\\Documents\\Ansoft\\Demo_3DComp.aedb\\LayoutComponents\\linear_array0\\linear_array0.aedt.lock exists and may need to be deleted before opening the EDB in HFSS 3D Layout.\n"
     ]
    },
    {
     "name": "stdout",
     "output_type": "stream",
     "text": [
      "PyAEDT INFO: Database linear_array0.aedb Opened in 2024.2\n"
     ]
    },
    {
     "name": "stdout",
     "output_type": "stream",
     "text": [
      "PyAEDT INFO: Cell Cell_8U5ABD Opened\n"
     ]
    },
    {
     "name": "stdout",
     "output_type": "stream",
     "text": [
      "PyAEDT INFO: Builder was initialized.\n"
     ]
    },
    {
     "name": "stdout",
     "output_type": "stream",
     "text": [
      "PyAEDT INFO: EDB initialized.\n"
     ]
    }
   ],
   "source": [
    "component = h3d.modeler.insert_layout_component(aedb_path, parameter_mapping=True)"
   ]
  },
  {
   "cell_type": "markdown",
   "id": "2071976c",
   "metadata": {},
   "source": [
    "## Expose the component parameters\n",
    "\n",
    "If a layout component is parametric, you can expose and change parameters in HFSS"
   ]
  },
  {
   "cell_type": "code",
   "execution_count": 19,
   "id": "3284e506",
   "metadata": {
    "execution": {
     "iopub.execute_input": "2024-09-17T07:51:56.697207Z",
     "iopub.status.busy": "2024-09-17T07:51:56.697207Z",
     "iopub.status.idle": "2024-09-17T07:51:56.918403Z",
     "shell.execute_reply": "2024-09-17T07:51:56.918403Z"
    }
   },
   "outputs": [],
   "source": [
    "component.parameters\n",
    "\n",
    "w1_name = \"{}_{}\".format(\"w1\", h3d.modeler.user_defined_component_names[0])\n",
    "h3d[w1_name] = 0.0015"
   ]
  },
  {
   "cell_type": "markdown",
   "id": "64cfce51",
   "metadata": {},
   "source": [
    "### Radiation Boundary Assignment\n",
    "\n",
    "The 3D domain includes the air volume surrounding the antenna.\n",
    "This antenna will be simulted from 20 GHz - 50 GHz.\n",
    "\n",
    "A \"radiation boundary\" will be assigned to the outer boundaries of the domain.\n",
    "This boundary should be roughly one quarter wavelength away from the radiating structure:\n",
    "\n",
    "$$ \\lambda/4 = \\frac{c_0}{4 f} \\approx 2.8mm $$"
   ]
  },
  {
   "cell_type": "code",
   "execution_count": 20,
   "id": "c56d257f",
   "metadata": {
    "execution": {
     "iopub.execute_input": "2024-09-17T07:51:56.918403Z",
     "iopub.status.busy": "2024-09-17T07:51:56.918403Z",
     "iopub.status.idle": "2024-09-17T07:51:57.203199Z",
     "shell.execute_reply": "2024-09-17T07:51:57.203199Z"
    }
   },
   "outputs": [
    {
     "name": "stdout",
     "output_type": "stream",
     "text": [
      "PyAEDT INFO: Boundary Radiation Rad__4D72DF has been correctly created.\n"
     ]
    },
    {
     "data": {
      "text/plain": [
       "<ansys.aedt.core.modules.boundary.BoundaryObject at 0x27c9cab1890>"
      ]
     },
     "execution_count": 20,
     "metadata": {},
     "output_type": "execute_result"
    }
   ],
   "source": [
    "h3d.modeler.fit_all()\n",
    "\n",
    "h3d.modeler.create_air_region(2.8, 2.8, 2.8, 2.8, 2.8, 2.8, is_percentage=False)\n",
    "h3d.assign_radiation_boundary_to_objects(\"Region\")"
   ]
  },
  {
   "cell_type": "markdown",
   "id": "b0723c62",
   "metadata": {},
   "source": [
    "### Set up analysis\n",
    "\n",
    "The finite element mesh is adapted iteratively.\n",
    "The maximum number of adaptive passes is set using the ``MaximumPasses`` property.\n",
    "This model converges such that the $S_{11}$ is independent of the mesh.\n",
    "The default accuracy setting is:\n",
    "$$ \\max(|\\Delta S|) < 0.02 $$"
   ]
  },
  {
   "cell_type": "code",
   "execution_count": 21,
   "id": "f72a0ab6",
   "metadata": {
    "execution": {
     "iopub.execute_input": "2024-09-17T07:51:57.203199Z",
     "iopub.status.busy": "2024-09-17T07:51:57.203199Z",
     "iopub.status.idle": "2024-09-17T07:51:57.298228Z",
     "shell.execute_reply": "2024-09-17T07:51:57.298228Z"
    }
   },
   "outputs": [],
   "source": [
    "setup = h3d.create_setup()\n",
    "setup.props[\"Frequency\"] = \"20GHz\"\n",
    "setup.props[\"MaximumPasses\"] = 10"
   ]
  },
  {
   "cell_type": "markdown",
   "id": "17bb239b",
   "metadata": {},
   "source": [
    "Specify properties of the frequency sweep:"
   ]
  },
  {
   "cell_type": "code",
   "execution_count": 22,
   "id": "39386075",
   "metadata": {
    "execution": {
     "iopub.execute_input": "2024-09-17T07:51:57.298228Z",
     "iopub.status.busy": "2024-09-17T07:51:57.298228Z",
     "iopub.status.idle": "2024-09-17T07:51:57.345154Z",
     "shell.execute_reply": "2024-09-17T07:51:57.345154Z"
    }
   },
   "outputs": [
    {
     "name": "stdout",
     "output_type": "stream",
     "text": [
      "PyAEDT WARNING: Argument `sweepname` is deprecated for method `add_sweep`; use `name` instead.\n"
     ]
    },
    {
     "data": {
      "text/plain": [
       "True"
      ]
     },
     "execution_count": 22,
     "metadata": {},
     "output_type": "execute_result"
    }
   ],
   "source": [
    "sweep1 = setup.add_sweep(sweepname=\"20GHz_to_50GHz\")\n",
    "sweep1.props[\"RangeStart\"] = \"20GHz\"\n",
    "sweep1.props[\"RangeEnd\"] = \"50GHz\"\n",
    "sweep1.update()"
   ]
  },
  {
   "cell_type": "markdown",
   "id": "6c2513d0",
   "metadata": {},
   "source": [
    "Solve the project"
   ]
  },
  {
   "cell_type": "code",
   "execution_count": 23,
   "id": "5c94727a",
   "metadata": {
    "execution": {
     "iopub.execute_input": "2024-09-17T07:51:57.345154Z",
     "iopub.status.busy": "2024-09-17T07:51:57.345154Z",
     "iopub.status.idle": "2024-09-17T07:55:07.991651Z",
     "shell.execute_reply": "2024-09-17T07:55:07.991651Z"
    }
   },
   "outputs": [
    {
     "name": "stdout",
     "output_type": "stream",
     "text": [
      "PyAEDT INFO: Key Desktop/ActiveDSOConfigurations/HFSS correctly changed.\n"
     ]
    },
    {
     "name": "stdout",
     "output_type": "stream",
     "text": [
      "PyAEDT INFO: Solving all design setups.\n"
     ]
    },
    {
     "name": "stdout",
     "output_type": "stream",
     "text": [
      "PyAEDT INFO: Key Desktop/ActiveDSOConfigurations/HFSS correctly changed.\n"
     ]
    },
    {
     "name": "stdout",
     "output_type": "stream",
     "text": [
      "PyAEDT INFO: Design setup None solved correctly in 0.0h 3.0m 11.0s\n"
     ]
    },
    {
     "data": {
      "text/plain": [
       "True"
      ]
     },
     "execution_count": 23,
     "metadata": {},
     "output_type": "execute_result"
    }
   ],
   "source": [
    "h3d.analyze()"
   ]
  },
  {
   "cell_type": "markdown",
   "id": "5815ae57",
   "metadata": {},
   "source": [
    "## Plot results outside AEDT\n",
    "\n",
    "Plot results using Matplotlib."
   ]
  },
  {
   "cell_type": "code",
   "execution_count": 24,
   "id": "0018eb94",
   "metadata": {
    "execution": {
     "iopub.execute_input": "2024-09-17T07:55:07.991651Z",
     "iopub.status.busy": "2024-09-17T07:55:07.991651Z",
     "iopub.status.idle": "2024-09-17T07:55:08.245153Z",
     "shell.execute_reply": "2024-09-17T07:55:08.245153Z"
    }
   },
   "outputs": [
    {
     "name": "stdout",
     "output_type": "stream",
     "text": [
      "PyAEDT INFO: PostProcessor class has been initialized! Elapsed time: 0m 0sec\n"
     ]
    },
    {
     "name": "stdout",
     "output_type": "stream",
     "text": [
      "PyAEDT INFO: Post class has been initialized! Elapsed time: 0m 0sec\n"
     ]
    },
    {
     "name": "stdout",
     "output_type": "stream",
     "text": [
      "PyAEDT INFO: Solution Data Correctly Loaded.\n"
     ]
    },
    {
     "data": {
      "text/plain": [
       "<Figure size 2000x1000 with 1 Axes>"
      ]
     },
     "execution_count": 24,
     "metadata": {},
     "output_type": "execute_result"
    }
   ],
   "source": [
    "trace = h3d.get_traces_for_plot()\n",
    "solution = h3d.post.get_solution_data(trace[0])\n",
    "solution.plot()"
   ]
  },
  {
   "cell_type": "markdown",
   "id": "2653d0c4",
   "metadata": {},
   "source": [
    "## Plot far fields in AEDT\n",
    "\n",
    "Plot radiation patterns in AEDT."
   ]
  },
  {
   "cell_type": "code",
   "execution_count": 25,
   "id": "3a922abb",
   "metadata": {
    "execution": {
     "iopub.execute_input": "2024-09-17T07:55:08.245153Z",
     "iopub.status.busy": "2024-09-17T07:55:08.245153Z",
     "iopub.status.idle": "2024-09-17T07:55:08.466629Z",
     "shell.execute_reply": "2024-09-17T07:55:08.466629Z"
    }
   },
   "outputs": [
    {
     "data": {
      "text/plain": [
       "True"
      ]
     },
     "execution_count": 25,
     "metadata": {},
     "output_type": "execute_result"
    }
   ],
   "source": [
    "variations = {}\n",
    "variations[\"Freq\"] = [\"20GHz\"]\n",
    "variations[\"Theta\"] = [\"All\"]\n",
    "variations[\"Phi\"] = [\"All\"]\n",
    "h3d.insert_infinite_sphere(name=\"3D\")\n",
    "\n",
    "new_report = h3d.post.reports_by_category.far_field(\"db(RealizedGainTotal)\", h3d.nominal_adaptive, \"3D\")\n",
    "new_report.variations = variations\n",
    "new_report.primary_sweep = \"Theta\"\n",
    "new_report.create(\"Realized2D\")"
   ]
  },
  {
   "cell_type": "markdown",
   "id": "60ac3073",
   "metadata": {},
   "source": [
    "## Plot far fields in AEDT\n",
    "\n",
    "Plot radiation patterns in AEDT"
   ]
  },
  {
   "cell_type": "code",
   "execution_count": 26,
   "id": "dc0b6a45",
   "metadata": {
    "execution": {
     "iopub.execute_input": "2024-09-17T07:55:08.466629Z",
     "iopub.status.busy": "2024-09-17T07:55:08.466629Z",
     "iopub.status.idle": "2024-09-17T07:55:08.639585Z",
     "shell.execute_reply": "2024-09-17T07:55:08.639585Z"
    }
   },
   "outputs": [
    {
     "data": {
      "text/plain": [
       "True"
      ]
     },
     "execution_count": 26,
     "metadata": {},
     "output_type": "execute_result"
    }
   ],
   "source": [
    "new_report.report_type = \"3D Polar Plot\"\n",
    "new_report.secondary_sweep = \"Phi\"\n",
    "new_report.create(\"Realized3D\")"
   ]
  },
  {
   "cell_type": "markdown",
   "id": "a54edc66",
   "metadata": {},
   "source": [
    "## Plot far fields outside AEDT\n",
    "\n",
    "Plot radiation patterns outside AEDT"
   ]
  },
  {
   "cell_type": "code",
   "execution_count": 27,
   "id": "58437e6b",
   "metadata": {
    "execution": {
     "iopub.execute_input": "2024-09-17T07:55:08.639585Z",
     "iopub.status.busy": "2024-09-17T07:55:08.639585Z",
     "iopub.status.idle": "2024-09-17T07:55:08.718877Z",
     "shell.execute_reply": "2024-09-17T07:55:08.718877Z"
    }
   },
   "outputs": [
    {
     "name": "stdout",
     "output_type": "stream",
     "text": [
      "PyAEDT INFO: Solution Data Correctly Loaded.\n"
     ]
    },
    {
     "name": "stderr",
     "output_type": "stream",
     "text": [
      "C:\\actions-runner\\_work\\pyedb\\pyedb\\.venv\\lib\\site-packages\\ansys\\aedt\\core\\generic\\plot.py:465: UserWarning: FigureCanvasAgg is non-interactive, and thus cannot be shown\n",
      "  fig.show()\n"
     ]
    },
    {
     "data": {
      "text/plain": [
       "<Figure size 2000x1000 with 1 Axes>"
      ]
     },
     "execution_count": 27,
     "metadata": {},
     "output_type": "execute_result"
    }
   ],
   "source": [
    "solutions_custom = new_report.get_solution_data()\n",
    "solutions_custom.plot_3d()"
   ]
  },
  {
   "cell_type": "markdown",
   "id": "ebad7d94",
   "metadata": {},
   "source": [
    "## Plot E Field on nets and layers\n",
    "\n",
    "Plot E Field on nets and layers in AEDT"
   ]
  },
  {
   "cell_type": "code",
   "execution_count": 28,
   "id": "5abff389",
   "metadata": {
    "execution": {
     "iopub.execute_input": "2024-09-17T07:55:08.718877Z",
     "iopub.status.busy": "2024-09-17T07:55:08.718877Z",
     "iopub.status.idle": "2024-09-17T07:55:08.924350Z",
     "shell.execute_reply": "2024-09-17T07:55:08.924350Z"
    }
   },
   "outputs": [
    {
     "data": {
      "text/plain": [
       "<ansys.aedt.core.modules.solutions.FieldPlot at 0x27c9cd2cc00>"
      ]
     },
     "execution_count": 28,
     "metadata": {},
     "output_type": "execute_result"
    }
   ],
   "source": [
    "h3d.post.create_fieldplot_layers_nets(\n",
    "    [[\"TOP\", \"Array_antenna\"]],\n",
    "    \"Mag_E\",\n",
    "    intrinsics={\"Freq\": \"20GHz\", \"Phase\": \"0deg\"},\n",
    "    plot_name=\"E_Layers\",\n",
    ")"
   ]
  },
  {
   "cell_type": "markdown",
   "id": "3cc768aa",
   "metadata": {},
   "source": [
    "## Close AEDT\n",
    "\n",
    "After the simulation completes, the application can be released from the\n",
    ":func:`ansys.aedt.core.Desktop.release_desktop` method.\n",
    "All methods provide for saving the project before closing AEDT."
   ]
  },
  {
   "cell_type": "code",
   "execution_count": 29,
   "id": "cd1a0c3c",
   "metadata": {
    "execution": {
     "iopub.execute_input": "2024-09-17T07:55:08.924350Z",
     "iopub.status.busy": "2024-09-17T07:55:08.924350Z",
     "iopub.status.idle": "2024-09-17T07:55:13.567671Z",
     "shell.execute_reply": "2024-09-17T07:55:13.567671Z"
    }
   },
   "outputs": [
    {
     "name": "stdout",
     "output_type": "stream",
     "text": [
      "PyAEDT INFO: Project test_layout Saved correctly\n"
     ]
    },
    {
     "name": "stdout",
     "output_type": "stream",
     "text": [
      "PyAEDT INFO: Desktop has been released and closed.\n"
     ]
    },
    {
     "data": {
      "text/plain": [
       "True"
      ]
     },
     "execution_count": 29,
     "metadata": {},
     "output_type": "execute_result"
    }
   ],
   "source": [
    "h3d.save_project(os.path.join(temp_dir.name, \"test_layout.aedt\"))\n",
    "h3d.release_desktop()"
   ]
  },
  {
   "cell_type": "markdown",
   "id": "4f4de6f3",
   "metadata": {},
   "source": [
    "### Clean up the temporary directory\n",
    "\n",
    "The following command removes the project and the temporary directory.\n",
    "If you'd like to save this project, save it to a folder of your choice prior\n",
    "to running the following cell."
   ]
  },
  {
   "cell_type": "code",
   "execution_count": 30,
   "id": "80572dec",
   "metadata": {
    "execution": {
     "iopub.execute_input": "2024-09-17T07:55:13.567671Z",
     "iopub.status.busy": "2024-09-17T07:55:13.567671Z",
     "iopub.status.idle": "2024-09-17T07:55:13.880174Z",
     "shell.execute_reply": "2024-09-17T07:55:13.880174Z"
    }
   },
   "outputs": [],
   "source": [
    "temp_dir.cleanup()"
   ]
  }
 ],
 "metadata": {
  "jupytext": {
   "cell_metadata_filter": "-all",
   "main_language": "python",
   "notebook_metadata_filter": "-all",
   "text_representation": {
    "extension": ".py",
    "format_name": "light"
   }
  },
  "language_info": {
   "codemirror_mode": {
    "name": "ipython",
    "version": 3
   },
   "file_extension": ".py",
   "mimetype": "text/x-python",
   "name": "python",
   "nbconvert_exporter": "python",
   "pygments_lexer": "ipython3",
   "version": "3.10.11"
  }
 },
 "nbformat": 4,
 "nbformat_minor": 5
}
