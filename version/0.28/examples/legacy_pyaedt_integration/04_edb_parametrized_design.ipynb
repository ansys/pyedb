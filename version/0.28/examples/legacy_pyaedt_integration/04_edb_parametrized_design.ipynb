{
 "cells": [
  {
   "cell_type": "markdown",
   "id": "bd785b7c",
   "metadata": {},
   "source": [
    "# EDB: fully parametrized design\n",
    "\n",
    "This example shows how to use the EDB interface along with HFSS 3D Layout to create and solve a\n",
    "parameterized layout. The layout shows a differential via transition on a printed circuit board\n",
    "with back-to-back microstrip to stripline transitions.\n",
    "The model is fully parameterized to enable investigation of the transition performance on the\n",
    "many degrees of freedom.\n",
    "\n",
    "The resulting model is shown below\n",
    "\n",
    "<img src=\"_static\\pcb_transition_parameterized.png\" width=\"500\">"
   ]
  },
  {
   "cell_type": "code",
   "execution_count": 1,
   "id": "c3b8c325",
   "metadata": {
    "execution": {
     "iopub.execute_input": "2024-09-17T07:55:20.564289Z",
     "iopub.status.busy": "2024-09-17T07:55:20.564289Z",
     "iopub.status.idle": "2024-09-17T07:55:21.221091Z",
     "shell.execute_reply": "2024-09-17T07:55:21.221091Z"
    }
   },
   "outputs": [],
   "source": [
    "import os\n",
    "import tempfile\n",
    "\n",
    "import ansys.aedt.core\n",
    "\n",
    "import pyedb\n"
   ]
  },
  {
   "cell_type": "markdown",
   "id": "1352f5f8",
   "metadata": {},
   "source": [
    "## Set non-graphical mode\n",
    "\n",
    "Set non-graphical mode. The default is ``False``, which opens\n",
    "the AEDT UI."
   ]
  },
  {
   "cell_type": "code",
   "execution_count": 2,
   "id": "8a81c28d",
   "metadata": {
    "execution": {
     "iopub.execute_input": "2024-09-17T07:55:21.221091Z",
     "iopub.status.busy": "2024-09-17T07:55:21.221091Z",
     "iopub.status.idle": "2024-09-17T07:55:21.236716Z",
     "shell.execute_reply": "2024-09-17T07:55:21.236716Z"
    }
   },
   "outputs": [],
   "source": [
    "non_graphical = False"
   ]
  },
  {
   "cell_type": "markdown",
   "id": "05296c3c",
   "metadata": {},
   "source": [
    "## Launch EDB."
   ]
  },
  {
   "cell_type": "code",
   "execution_count": 3,
   "id": "8ebf6bf6",
   "metadata": {
    "execution": {
     "iopub.execute_input": "2024-09-17T07:55:21.236716Z",
     "iopub.status.busy": "2024-09-17T07:55:21.236716Z",
     "iopub.status.idle": "2024-09-17T07:55:33.719025Z",
     "shell.execute_reply": "2024-09-17T07:55:33.719025Z"
    }
   },
   "outputs": [
    {
     "name": "stdout",
     "output_type": "stream",
     "text": [
      "EDB version: 2024.2\n"
     ]
    },
    {
     "name": "stdout",
     "output_type": "stream",
     "text": [
      "PyAEDT INFO: Logger is initialized in EDB.\n"
     ]
    },
    {
     "name": "stdout",
     "output_type": "stream",
     "text": [
      "PyAEDT INFO: legacy v0.28.0\n"
     ]
    },
    {
     "name": "stdout",
     "output_type": "stream",
     "text": [
      "PyAEDT INFO: Python version 3.10.11 (tags/v3.10.11:7d4cc5a, Apr  5 2023, 00:38:17) [MSC v.1929 64 bit (AMD64)]\n"
     ]
    },
    {
     "name": "stdout",
     "output_type": "stream",
     "text": [
      "PyAEDT INFO: EDB C:\\Users\\ansys\\AppData\\Local\\Temp\\tmptkmgp337.ansys\\pcb.aedb created correctly.\n"
     ]
    },
    {
     "name": "stdout",
     "output_type": "stream",
     "text": [
      "PyAEDT INFO: EDB initialized.\n"
     ]
    }
   ],
   "source": [
    "temp_dir = tempfile.TemporaryDirectory(suffix=\".ansys\")\n",
    "aedb_path = os.path.join(temp_dir.name, \"pcb.aedb\")\n",
    "\n",
    "# Select EDB version (change it manually if needed, e.g. \"2024.2\")\n",
    "edb_version = \"2024.2\"\n",
    "print(f\"EDB version: {edb_version}\")\n",
    "\n",
    "edb = pyedb.Edb(edbpath=aedb_path, edbversion=edb_version)"
   ]
  },
  {
   "cell_type": "markdown",
   "id": "50c4ed1f",
   "metadata": {},
   "source": [
    "Define the parameters."
   ]
  },
  {
   "cell_type": "code",
   "execution_count": 4,
   "id": "812f863f",
   "metadata": {
    "execution": {
     "iopub.execute_input": "2024-09-17T07:55:33.719025Z",
     "iopub.status.busy": "2024-09-17T07:55:33.719025Z",
     "iopub.status.idle": "2024-09-17T07:55:33.750312Z",
     "shell.execute_reply": "2024-09-17T07:55:33.750312Z"
    }
   },
   "outputs": [],
   "source": [
    "params = {\n",
    "    \"$ms_width\": \"0.4mm\",\n",
    "    \"$sl_width\": \"0.2mm\",\n",
    "    \"$ms_spacing\": \"0.2mm\",\n",
    "    \"$sl_spacing\": \"0.1mm\",\n",
    "    \"$via_spacing\": \"0.5mm\",\n",
    "    \"$via_diam\": \"0.3mm\",\n",
    "    \"$pad_diam\": \"0.6mm\",\n",
    "    \"$anti_pad_diam\": \"0.7mm\",\n",
    "    \"$pcb_len\": \"15mm\",\n",
    "    \"$pcb_w\": \"5mm\",\n",
    "    \"$x_size\": \"1.2mm\",\n",
    "    \"$y_size\": \"1mm\",\n",
    "    \"$corner_rad\": \"0.5mm\",\n",
    "}\n",
    "\n",
    "for par_name in params:\n",
    "    edb.add_project_variable(par_name, params[par_name])"
   ]
  },
  {
   "cell_type": "markdown",
   "id": "0526b98c",
   "metadata": {},
   "source": [
    "Define the stackup layers from bottom to top."
   ]
  },
  {
   "cell_type": "code",
   "execution_count": 5,
   "id": "114aae71",
   "metadata": {
    "execution": {
     "iopub.execute_input": "2024-09-17T07:55:33.750312Z",
     "iopub.status.busy": "2024-09-17T07:55:33.750312Z",
     "iopub.status.idle": "2024-09-17T07:55:33.984624Z",
     "shell.execute_reply": "2024-09-17T07:55:33.984624Z"
    },
    "lines_to_next_cell": 2
   },
   "outputs": [
    {
     "name": "stdout",
     "output_type": "stream",
     "text": [
      "PyAEDT INFO: Configuration file does not have material definition. Using aedb and syslib materials.\n"
     ]
    },
    {
     "data": {
      "text/plain": [
       "True"
      ]
     },
     "execution_count": 5,
     "metadata": {},
     "output_type": "execute_result"
    }
   ],
   "source": [
    "layers = {\n",
    "    \"top\": {\"type\": \"signal\", \"thickness\": \"35um\", \"material\": \"copper\"},\n",
    "    \"diel_1\": {\"type\": \"dielectric\", \"thickness\": \"275um\", \"material\": \"FR4_epoxy\"},\n",
    "    \"sig_1\": {\"type\": \"signal\", \"thickness\": \"35um\", \"material\": \"copper\"},\n",
    "    \"diel_2\": {\"type\": \"dielectric\", \"thickness\": \"275um\", \"material\": \"FR4_epoxy\"},\n",
    "    \"sig_2\": {\"type\": \"signal\", \"thickness\": \"35um\", \"material\": \"copper\"},\n",
    "    \"diel_3\": {\"type\": \"dielectric\", \"thickness\": \"275um\", \"material\": \"FR4_epoxy\"},\n",
    "    \"bottom\": {\"type\": \"signal\", \"thickness\": \"35um\", \"material\": \"copper\"},\n",
    "}\n",
    "layer_names = list(layers.keys())[::-1]\n",
    "# Create the EDB stackup.\n",
    "# Define the bottom layer\n",
    "edb.stackup.load(layers)"
   ]
  },
  {
   "cell_type": "markdown",
   "id": "e2f47a5e",
   "metadata": {},
   "source": [
    "Create a parametrized padstack for the signal via."
   ]
  },
  {
   "cell_type": "code",
   "execution_count": 6,
   "id": "6dc4fdcd",
   "metadata": {
    "execution": {
     "iopub.execute_input": "2024-09-17T07:55:33.984624Z",
     "iopub.status.busy": "2024-09-17T07:55:33.984624Z",
     "iopub.status.idle": "2024-09-17T07:55:34.031496Z",
     "shell.execute_reply": "2024-09-17T07:55:34.031496Z"
    }
   },
   "outputs": [
    {
     "name": "stdout",
     "output_type": "stream",
     "text": [
      "PyAEDT INFO: Padstack automated_via create correctly\n"
     ]
    },
    {
     "data": {
      "text/plain": [
       "'automated_via'"
      ]
     },
     "execution_count": 6,
     "metadata": {},
     "output_type": "execute_result"
    }
   ],
   "source": [
    "signal_via_padstack = \"automated_via\"\n",
    "edb.padstacks.create(\n",
    "    padstackname=signal_via_padstack,\n",
    "    holediam=\"$via_diam\",\n",
    "    paddiam=\"$pad_diam\",\n",
    "    antipaddiam=\"\",\n",
    "    antipad_shape=\"Bullet\",\n",
    "    x_size=\"$x_size\",\n",
    "    y_size=\"$y_size\",\n",
    "    corner_radius=\"$corner_rad\",\n",
    "    start_layer=layer_names[-1],\n",
    "    stop_layer=layer_names[-3],\n",
    ")"
   ]
  },
  {
   "cell_type": "markdown",
   "id": "dabe6fe4",
   "metadata": {},
   "source": [
    "Assign net names. There are only two signal nets."
   ]
  },
  {
   "cell_type": "code",
   "execution_count": 7,
   "id": "bf2126f1",
   "metadata": {
    "execution": {
     "iopub.execute_input": "2024-09-17T07:55:34.031496Z",
     "iopub.status.busy": "2024-09-17T07:55:34.031496Z",
     "iopub.status.idle": "2024-09-17T07:55:34.047143Z",
     "shell.execute_reply": "2024-09-17T07:55:34.047143Z"
    }
   },
   "outputs": [],
   "source": [
    "net_p = \"p\"\n",
    "net_n = \"n\""
   ]
  },
  {
   "cell_type": "markdown",
   "id": "c0cd504d",
   "metadata": {},
   "source": [
    "Place the signal vias."
   ]
  },
  {
   "cell_type": "code",
   "execution_count": 8,
   "id": "d971ea2c",
   "metadata": {
    "execution": {
     "iopub.execute_input": "2024-09-17T07:55:34.047143Z",
     "iopub.status.busy": "2024-09-17T07:55:34.047143Z",
     "iopub.status.idle": "2024-09-17T07:55:34.078453Z",
     "shell.execute_reply": "2024-09-17T07:55:34.078453Z"
    }
   },
   "outputs": [
    {
     "data": {
      "text/plain": [
       "<pyedb.dotnet.edb_core.edb_data.padstacks_data.EDBPadstackInstance at 0x15917be8600>"
      ]
     },
     "execution_count": 8,
     "metadata": {},
     "output_type": "execute_result"
    }
   ],
   "source": [
    "edb.padstacks.place(\n",
    "    position=[\"$pcb_len/3\", \"($ms_width+$ms_spacing+$via_spacing)/2\"],\n",
    "    definition_name=signal_via_padstack,\n",
    "    net_name=net_p,\n",
    "    via_name=\"\",\n",
    "    rotation=90.0,\n",
    ")"
   ]
  },
  {
   "cell_type": "code",
   "execution_count": 9,
   "id": "3c3ff93b",
   "metadata": {
    "execution": {
     "iopub.execute_input": "2024-09-17T07:55:34.078453Z",
     "iopub.status.busy": "2024-09-17T07:55:34.078453Z",
     "iopub.status.idle": "2024-09-17T07:55:34.109633Z",
     "shell.execute_reply": "2024-09-17T07:55:34.109633Z"
    }
   },
   "outputs": [
    {
     "data": {
      "text/plain": [
       "<pyedb.dotnet.edb_core.edb_data.padstacks_data.EDBPadstackInstance at 0x15917beb600>"
      ]
     },
     "execution_count": 9,
     "metadata": {},
     "output_type": "execute_result"
    }
   ],
   "source": [
    "edb.padstacks.place(\n",
    "    position=[\"2*$pcb_len/3\", \"($ms_width+$ms_spacing+$via_spacing)/2\"],\n",
    "    definition_name=signal_via_padstack,\n",
    "    net_name=net_p,\n",
    "    via_name=\"\",\n",
    "    rotation=90.0,\n",
    ")"
   ]
  },
  {
   "cell_type": "code",
   "execution_count": 10,
   "id": "d9f52c7f",
   "metadata": {
    "execution": {
     "iopub.execute_input": "2024-09-17T07:55:34.109633Z",
     "iopub.status.busy": "2024-09-17T07:55:34.109633Z",
     "iopub.status.idle": "2024-09-17T07:55:34.140876Z",
     "shell.execute_reply": "2024-09-17T07:55:34.140876Z"
    }
   },
   "outputs": [
    {
     "data": {
      "text/plain": [
       "<pyedb.dotnet.edb_core.edb_data.padstacks_data.EDBPadstackInstance at 0x15917510840>"
      ]
     },
     "execution_count": 10,
     "metadata": {},
     "output_type": "execute_result"
    }
   ],
   "source": [
    "edb.padstacks.place(\n",
    "    position=[\"$pcb_len/3\", \"-($ms_width+$ms_spacing+$via_spacing)/2\"],\n",
    "    definition_name=signal_via_padstack,\n",
    "    net_name=net_n,\n",
    "    via_name=\"\",\n",
    "    rotation=-90.0,\n",
    ")"
   ]
  },
  {
   "cell_type": "code",
   "execution_count": 11,
   "id": "46d1109a",
   "metadata": {
    "execution": {
     "iopub.execute_input": "2024-09-17T07:55:34.140876Z",
     "iopub.status.busy": "2024-09-17T07:55:34.140876Z",
     "iopub.status.idle": "2024-09-17T07:55:34.172128Z",
     "shell.execute_reply": "2024-09-17T07:55:34.172128Z"
    },
    "lines_to_next_cell": 2
   },
   "outputs": [
    {
     "data": {
      "text/plain": [
       "<pyedb.dotnet.edb_core.edb_data.padstacks_data.EDBPadstackInstance at 0x1591751b400>"
      ]
     },
     "execution_count": 11,
     "metadata": {},
     "output_type": "execute_result"
    }
   ],
   "source": [
    "edb.padstacks.place(\n",
    "    position=[\"2*$pcb_len/3\", \"-($ms_width+$ms_spacing+$via_spacing)/2\"],\n",
    "    definition_name=signal_via_padstack,\n",
    "    net_name=net_n,\n",
    "    via_name=\"\",\n",
    "    rotation=-90.0,\n",
    ")"
   ]
  },
  {
   "cell_type": "markdown",
   "id": "f81f6ea0",
   "metadata": {},
   "source": [
    "## Draw parametrized traces\n",
    "\n",
    "Trace width and the routing (Microstrip-Stripline-Microstrip).\n",
    "Applies to both p and n nets."
   ]
  },
  {
   "cell_type": "code",
   "execution_count": 12,
   "id": "55495d38",
   "metadata": {
    "execution": {
     "iopub.execute_input": "2024-09-17T07:55:34.172128Z",
     "iopub.status.busy": "2024-09-17T07:55:34.172128Z",
     "iopub.status.idle": "2024-09-17T07:55:34.187750Z",
     "shell.execute_reply": "2024-09-17T07:55:34.187750Z"
    }
   },
   "outputs": [],
   "source": [
    "# Trace width, n and p\n",
    "width = [\"$ms_width\", \"$sl_width\", \"$ms_width\"]\n",
    "# Routing layer, n and p\n",
    "route_layer = [layer_names[-1], layer_names[4], layer_names[-1]]"
   ]
  },
  {
   "cell_type": "markdown",
   "id": "d9609935",
   "metadata": {},
   "source": [
    "Define points for three traces in the \"p\" net"
   ]
  },
  {
   "cell_type": "code",
   "execution_count": 13,
   "id": "682b8f83",
   "metadata": {
    "execution": {
     "iopub.execute_input": "2024-09-17T07:55:34.187750Z",
     "iopub.status.busy": "2024-09-17T07:55:34.187750Z",
     "iopub.status.idle": "2024-09-17T07:55:34.203379Z",
     "shell.execute_reply": "2024-09-17T07:55:34.203379Z"
    }
   },
   "outputs": [],
   "source": [
    "points_p = [\n",
    "    [\n",
    "        [\"0.0\", \"($ms_width+$ms_spacing)/2\"],\n",
    "        [\"$pcb_len/3-2*$via_spacing\", \"($ms_width+$ms_spacing)/2\"],\n",
    "        [\"$pcb_len/3-$via_spacing\", \"($ms_width+$ms_spacing+$via_spacing)/2\"],\n",
    "        [\"$pcb_len/3\", \"($ms_width+$ms_spacing+$via_spacing)/2\"],\n",
    "    ],\n",
    "    [\n",
    "        [\"$pcb_len/3\", \"($ms_width+$sl_spacing+$via_spacing)/2\"],\n",
    "        [\"$pcb_len/3+$via_spacing\", \"($ms_width+$sl_spacing+$via_spacing)/2\"],\n",
    "        [\"$pcb_len/3+2*$via_spacing\", \"($sl_width+$sl_spacing)/2\"],\n",
    "        [\"2*$pcb_len/3-2*$via_spacing\", \"($sl_width+$sl_spacing)/2\"],\n",
    "        [\"2*$pcb_len/3-$via_spacing\", \"($ms_width+$sl_spacing+$via_spacing)/2\"],\n",
    "        [\"2*$pcb_len/3\", \"($ms_width+$sl_spacing+$via_spacing)/2\"],\n",
    "    ],\n",
    "    [\n",
    "        [\"2*$pcb_len/3\", \"($ms_width+$ms_spacing+$via_spacing)/2\"],\n",
    "        [\"2*$pcb_len/3+$via_spacing\", \"($ms_width+$ms_spacing+$via_spacing)/2\"],\n",
    "        [\"2*$pcb_len/3+2*$via_spacing\", \"($ms_width+$ms_spacing)/2\"],\n",
    "        [\"$pcb_len\", \"($ms_width+$ms_spacing)/2\"],\n",
    "    ],\n",
    "]"
   ]
  },
  {
   "cell_type": "markdown",
   "id": "e5f3288b",
   "metadata": {},
   "source": [
    "Define points for three traces in the \"n\" net"
   ]
  },
  {
   "cell_type": "code",
   "execution_count": 14,
   "id": "0e062912",
   "metadata": {
    "execution": {
     "iopub.execute_input": "2024-09-17T07:55:34.203379Z",
     "iopub.status.busy": "2024-09-17T07:55:34.203379Z",
     "iopub.status.idle": "2024-09-17T07:55:34.219008Z",
     "shell.execute_reply": "2024-09-17T07:55:34.219008Z"
    }
   },
   "outputs": [],
   "source": [
    "points_n = [\n",
    "    [\n",
    "        [\"0.0\", \"-($ms_width+$ms_spacing)/2\"],\n",
    "        [\"$pcb_len/3-2*$via_spacing\", \"-($ms_width+$ms_spacing)/2\"],\n",
    "        [\"$pcb_len/3-$via_spacing\", \"-($ms_width+$ms_spacing+$via_spacing)/2\"],\n",
    "        [\"$pcb_len/3\", \"-($ms_width+$ms_spacing+$via_spacing)/2\"],\n",
    "    ],\n",
    "    [\n",
    "        [\"$pcb_len/3\", \"-($ms_width+$sl_spacing+$via_spacing)/2\"],\n",
    "        [\"$pcb_len/3+$via_spacing\", \"-($ms_width+$sl_spacing+$via_spacing)/2\"],\n",
    "        [\"$pcb_len/3+2*$via_spacing\", \"-($ms_width+$sl_spacing)/2\"],\n",
    "        [\"2*$pcb_len/3-2*$via_spacing\", \"-($ms_width+$sl_spacing)/2\"],\n",
    "        [\"2*$pcb_len/3-$via_spacing\", \"-($ms_width+$sl_spacing+$via_spacing)/2\"],\n",
    "        [\"2*$pcb_len/3\", \"-($ms_width+$sl_spacing+$via_spacing)/2\"],\n",
    "    ],\n",
    "    [\n",
    "        [\"2*$pcb_len/3\", \"-($ms_width+$ms_spacing+$via_spacing)/2\"],\n",
    "        [\"2*$pcb_len/3 + $via_spacing\", \"-($ms_width+$ms_spacing+$via_spacing)/2\"],\n",
    "        [\"2*$pcb_len/3 + 2*$via_spacing\", \"-($ms_width+$ms_spacing)/2\"],\n",
    "        [\"$pcb_len\", \"-($ms_width + $ms_spacing)/2\"],\n",
    "    ],\n",
    "]"
   ]
  },
  {
   "cell_type": "markdown",
   "id": "c063bb90",
   "metadata": {},
   "source": [
    "Add traces to the EDB."
   ]
  },
  {
   "cell_type": "code",
   "execution_count": 15,
   "id": "4292b43c",
   "metadata": {
    "execution": {
     "iopub.execute_input": "2024-09-17T07:55:34.219008Z",
     "iopub.status.busy": "2024-09-17T07:55:34.219008Z",
     "iopub.status.idle": "2024-09-17T07:55:34.281507Z",
     "shell.execute_reply": "2024-09-17T07:55:34.281507Z"
    }
   },
   "outputs": [],
   "source": [
    "trace_p = []\n",
    "trace_n = []\n",
    "for n in range(len(points_p)):\n",
    "    trace_p.append(edb.modeler.create_trace(points_p[n], route_layer[n], width[n], net_p, \"Flat\", \"Flat\"))\n",
    "    trace_n.append(edb.modeler.create_trace(points_n[n], route_layer[n], width[n], net_n, \"Flat\", \"Flat\"))"
   ]
  },
  {
   "cell_type": "markdown",
   "id": "bf9763f8",
   "metadata": {},
   "source": [
    "Create the wave ports"
   ]
  },
  {
   "cell_type": "code",
   "execution_count": 16,
   "id": "4e7d66ad",
   "metadata": {
    "execution": {
     "iopub.execute_input": "2024-09-17T07:55:34.281507Z",
     "iopub.status.busy": "2024-09-17T07:55:34.281507Z",
     "iopub.status.idle": "2024-09-17T07:55:34.328379Z",
     "shell.execute_reply": "2024-09-17T07:55:34.328379Z"
    }
   },
   "outputs": [],
   "source": [
    "p1 = edb.hfss.create_differential_wave_port(\n",
    "    trace_p[0].id,\n",
    "    [\"0.0\", \"($ms_width+$ms_spacing)/2\"],\n",
    "    trace_n[0].id,\n",
    "    [\"0.0\", \"-($ms_width+$ms_spacing)/2\"],\n",
    "    \"wave_port_1\",\n",
    ")"
   ]
  },
  {
   "cell_type": "code",
   "execution_count": 17,
   "id": "4a55fe26",
   "metadata": {
    "execution": {
     "iopub.execute_input": "2024-09-17T07:55:34.328379Z",
     "iopub.status.busy": "2024-09-17T07:55:34.328379Z",
     "iopub.status.idle": "2024-09-17T07:55:34.343959Z",
     "shell.execute_reply": "2024-09-17T07:55:34.343959Z"
    }
   },
   "outputs": [],
   "source": [
    "pos_p1 = p1[1].terminals[0].name\n",
    "neg_p1 = p1[1].terminals[1].name"
   ]
  },
  {
   "cell_type": "code",
   "execution_count": 18,
   "id": "77710d02",
   "metadata": {
    "execution": {
     "iopub.execute_input": "2024-09-17T07:55:34.343959Z",
     "iopub.status.busy": "2024-09-17T07:55:34.343959Z",
     "iopub.status.idle": "2024-09-17T07:55:34.375306Z",
     "shell.execute_reply": "2024-09-17T07:55:34.375306Z"
    }
   },
   "outputs": [],
   "source": [
    "p2 = edb.hfss.create_differential_wave_port(\n",
    "    trace_p[2].id,\n",
    "    [\"$pcb_len\", \"($ms_width+$ms_spacing)/2\"],\n",
    "    trace_n[2].id,\n",
    "    [\"$pcb_len\", \"-($ms_width + $ms_spacing)/2\"],\n",
    "    \"wave_port_2\",\n",
    ")"
   ]
  },
  {
   "cell_type": "code",
   "execution_count": 19,
   "id": "a6c91b7a",
   "metadata": {
    "execution": {
     "iopub.execute_input": "2024-09-17T07:55:34.375306Z",
     "iopub.status.busy": "2024-09-17T07:55:34.375306Z",
     "iopub.status.idle": "2024-09-17T07:55:34.390875Z",
     "shell.execute_reply": "2024-09-17T07:55:34.390875Z"
    }
   },
   "outputs": [],
   "source": [
    "pos_p2 = p2[1].terminals[0].name\n",
    "neg_p2 = p2[1].terminals[1].name"
   ]
  },
  {
   "cell_type": "markdown",
   "id": "77e35487",
   "metadata": {},
   "source": [
    "Draw a conducting rectangle on the ground layers."
   ]
  },
  {
   "cell_type": "code",
   "execution_count": 20,
   "id": "90aa96c5",
   "metadata": {
    "execution": {
     "iopub.execute_input": "2024-09-17T07:55:34.390875Z",
     "iopub.status.busy": "2024-09-17T07:55:34.390875Z",
     "iopub.status.idle": "2024-09-17T07:55:34.406522Z",
     "shell.execute_reply": "2024-09-17T07:55:34.406522Z"
    }
   },
   "outputs": [],
   "source": [
    "gnd_poly = [\n",
    "    [0.0, \"-$pcb_w/2\"],\n",
    "    [\"$pcb_len\", \"-$pcb_w/2\"],\n",
    "    [\"$pcb_len\", \"$pcb_w/2\"],\n",
    "    [0.0, \"$pcb_w/2\"],\n",
    "]\n",
    "gnd_shape = edb.modeler.Shape(\"polygon\", points=gnd_poly)"
   ]
  },
  {
   "cell_type": "markdown",
   "id": "3eed0054",
   "metadata": {},
   "source": [
    "Void in ground for traces on the signal routing layer"
   ]
  },
  {
   "cell_type": "code",
   "execution_count": 21,
   "id": "fa242a9c",
   "metadata": {
    "execution": {
     "iopub.execute_input": "2024-09-17T07:55:34.406522Z",
     "iopub.status.busy": "2024-09-17T07:55:34.406522Z",
     "iopub.status.idle": "2024-09-17T07:55:34.422128Z",
     "shell.execute_reply": "2024-09-17T07:55:34.422128Z"
    }
   },
   "outputs": [],
   "source": [
    "void_poly = [\n",
    "    [\"$pcb_len/3\", \"-($ms_width+$ms_spacing+$via_spacing+$anti_pad_diam)/2-$via_spacing/2\"],\n",
    "    [\n",
    "        \"$pcb_len/3 + $via_spacing\",\n",
    "        \"-($ms_width+$ms_spacing+$via_spacing+$anti_pad_diam)/2-$via_spacing/2\",\n",
    "    ],\n",
    "    [\"$pcb_len/3 + 2*$via_spacing\", \"-($ms_width+$ms_spacing+$via_spacing+$anti_pad_diam)/2\"],\n",
    "    [\"2*$pcb_len/3 - 2*$via_spacing\", \"-($ms_width+$ms_spacing+$via_spacing+$anti_pad_diam)/2\"],\n",
    "    [\n",
    "        \"2*$pcb_len/3 - $via_spacing\",\n",
    "        \"-($ms_width+$ms_spacing+$via_spacing+$anti_pad_diam)/2-$via_spacing/2\",\n",
    "    ],\n",
    "    [\"2*$pcb_len/3\", \"-($ms_width+$ms_spacing+$via_spacing+$anti_pad_diam)/2-$via_spacing/2\"],\n",
    "    [\"2*$pcb_len/3\", \"($ms_width+$ms_spacing+$via_spacing+$anti_pad_diam)/2+$via_spacing/2\"],\n",
    "    [\n",
    "        \"2*$pcb_len/3 - $via_spacing\",\n",
    "        \"($ms_width+$ms_spacing+$via_spacing+$anti_pad_diam)/2+$via_spacing/2\",\n",
    "    ],\n",
    "    [\"2*$pcb_len/3 - 2*$via_spacing\", \"($ms_width+$ms_spacing+$via_spacing+$anti_pad_diam)/2\"],\n",
    "    [\"$pcb_len/3 + 2*$via_spacing\", \"($ms_width+$ms_spacing+$via_spacing+$anti_pad_diam)/2\"],\n",
    "    [\n",
    "        \"$pcb_len/3 + $via_spacing\",\n",
    "        \"($ms_width+$ms_spacing+$via_spacing+$anti_pad_diam)/2+$via_spacing/2\",\n",
    "    ],\n",
    "    [\"$pcb_len/3\", \"($ms_width+$ms_spacing+$via_spacing+$anti_pad_diam)/2+$via_spacing/2\"],\n",
    "    [\"$pcb_len/3\", \"($ms_width+$ms_spacing+$via_spacing+$anti_pad_diam)/2\"],\n",
    "]\n",
    "\n",
    "void_shape = edb.modeler.Shape(\"polygon\", points=void_poly)"
   ]
  },
  {
   "cell_type": "markdown",
   "id": "2ea89190",
   "metadata": {},
   "source": [
    "Add ground conductors."
   ]
  },
  {
   "cell_type": "code",
   "execution_count": 22,
   "id": "bb466859",
   "metadata": {
    "execution": {
     "iopub.execute_input": "2024-09-17T07:55:34.422128Z",
     "iopub.status.busy": "2024-09-17T07:55:34.422128Z",
     "iopub.status.idle": "2024-09-17T07:55:34.515880Z",
     "shell.execute_reply": "2024-09-17T07:55:34.515880Z"
    }
   },
   "outputs": [],
   "source": [
    "for layer in layer_names[:-1:2]:\n",
    "    # add void if the layer is the signal routing layer.\n",
    "    void = [void_shape] if layer == route_layer[1] else []\n",
    "\n",
    "    edb.modeler.create_polygon(main_shape=gnd_shape, layer_name=layer, voids=void, net_name=\"gnd\")"
   ]
  },
  {
   "cell_type": "markdown",
   "id": "ff1c7516",
   "metadata": {},
   "source": [
    "Plot the layout."
   ]
  },
  {
   "cell_type": "code",
   "execution_count": 23,
   "id": "89931ac1",
   "metadata": {
    "execution": {
     "iopub.execute_input": "2024-09-17T07:55:34.515880Z",
     "iopub.status.busy": "2024-09-17T07:55:34.515880Z",
     "iopub.status.idle": "2024-09-17T07:55:34.625258Z",
     "shell.execute_reply": "2024-09-17T07:55:34.625258Z"
    }
   },
   "outputs": [
    {
     "name": "stdout",
     "output_type": "stream",
     "text": [
      "PyAEDT INFO: Nets Point Generation time 0.047 seconds\n"
     ]
    },
    {
     "name": "stderr",
     "output_type": "stream",
     "text": [
      "C:\\actions-runner\\_work\\pyedb\\pyedb\\.venv\\lib\\site-packages\\pyedb\\generic\\plot.py:144: UserWarning: FigureCanvasAgg is non-interactive, and thus cannot be shown\n",
      "  plt.show()\n"
     ]
    }
   ],
   "source": [
    "edb.nets.plot(None)"
   ]
  },
  {
   "cell_type": "markdown",
   "id": "50d801a9",
   "metadata": {},
   "source": [
    "Save the EDB."
   ]
  },
  {
   "cell_type": "code",
   "execution_count": 24,
   "id": "b83be8bb",
   "metadata": {
    "execution": {
     "iopub.execute_input": "2024-09-17T07:55:34.625258Z",
     "iopub.status.busy": "2024-09-17T07:55:34.625258Z",
     "iopub.status.idle": "2024-09-17T07:55:34.656552Z",
     "shell.execute_reply": "2024-09-17T07:55:34.656552Z"
    }
   },
   "outputs": [
    {
     "name": "stdout",
     "output_type": "stream",
     "text": [
      "PyAEDT INFO: EDB file save time: 0.00ms\n"
     ]
    },
    {
     "name": "stdout",
     "output_type": "stream",
     "text": [
      "PyAEDT INFO: EDB file release time: 0.00ms\n"
     ]
    },
    {
     "data": {
      "text/plain": [
       "True"
      ]
     },
     "execution_count": 24,
     "metadata": {},
     "output_type": "execute_result"
    }
   ],
   "source": [
    "edb.save_edb()\n",
    "edb.close_edb()"
   ]
  },
  {
   "cell_type": "markdown",
   "id": "1c85aa29",
   "metadata": {},
   "source": [
    "Open the project in HFSS 3D Layout."
   ]
  },
  {
   "cell_type": "code",
   "execution_count": 25,
   "id": "9b4eda32",
   "metadata": {
    "execution": {
     "iopub.execute_input": "2024-09-17T07:55:34.656552Z",
     "iopub.status.busy": "2024-09-17T07:55:34.656552Z",
     "iopub.status.idle": "2024-09-17T07:56:07.297775Z",
     "shell.execute_reply": "2024-09-17T07:56:07.296772Z"
    }
   },
   "outputs": [
    {
     "name": "stdout",
     "output_type": "stream",
     "text": [
      "PyAEDT INFO: Python version 3.10.11 (tags/v3.10.11:7d4cc5a, Apr  5 2023, 00:38:17) [MSC v.1929 64 bit (AMD64)]\n"
     ]
    },
    {
     "name": "stdout",
     "output_type": "stream",
     "text": [
      "PyAEDT INFO: PyAEDT version 0.11.dev0.\n"
     ]
    },
    {
     "name": "stdout",
     "output_type": "stream",
     "text": [
      "PyAEDT INFO: Initializing new Desktop session.\n"
     ]
    },
    {
     "name": "stdout",
     "output_type": "stream",
     "text": [
      "PyAEDT INFO: Log on console is enabled.\n"
     ]
    },
    {
     "name": "stdout",
     "output_type": "stream",
     "text": [
      "PyAEDT INFO: Log on file C:\\Users\\ansys\\AppData\\Local\\Temp\\pyaedt_ansys_2d31a165-0881-491c-ae86-f6ec859a4bb2.log is enabled.\n"
     ]
    },
    {
     "name": "stdout",
     "output_type": "stream",
     "text": [
      "PyAEDT INFO: Log on AEDT is enabled.\n"
     ]
    },
    {
     "name": "stdout",
     "output_type": "stream",
     "text": [
      "PyAEDT INFO: Debug logger is disabled. PyAEDT methods will not be logged.\n"
     ]
    },
    {
     "name": "stdout",
     "output_type": "stream",
     "text": [
      "PyAEDT INFO: Launching PyAEDT with gRPC plugin.\n"
     ]
    },
    {
     "name": "stdout",
     "output_type": "stream",
     "text": [
      "PyAEDT INFO: New AEDT session is starting on gRPC port 63021\n"
     ]
    },
    {
     "name": "stdout",
     "output_type": "stream",
     "text": [
      "PyAEDT INFO: AEDT installation Path C:\\Program Files\\AnsysEM\\v242\\Win64\n"
     ]
    },
    {
     "name": "stdout",
     "output_type": "stream",
     "text": [
      "PyAEDT INFO: Ansoft.ElectronicsDesktop.2024.2 version started with process ID 7288.\n"
     ]
    },
    {
     "name": "stdout",
     "output_type": "stream",
     "text": [
      "PyAEDT INFO: EDB folder C:\\Users\\ansys\\AppData\\Local\\Temp\\tmptkmgp337.ansys\\pcb.aedb has been imported to project pcb\n"
     ]
    },
    {
     "name": "stdout",
     "output_type": "stream",
     "text": [
      "PyAEDT INFO: Active Design set to 0;Cell_2K4XKC\n"
     ]
    },
    {
     "name": "stdout",
     "output_type": "stream",
     "text": [
      "PyAEDT INFO: Aedt Objects correctly read\n"
     ]
    }
   ],
   "source": [
    "h3d = ansys.aedt.core.Hfss3dLayout(\n",
    "    project=aedb_path,\n",
    "    version=edb_version,\n",
    "    non_graphical=non_graphical,\n",
    "    new_desktop=True,\n",
    ")"
   ]
  },
  {
   "cell_type": "markdown",
   "id": "4ad6470b",
   "metadata": {},
   "source": [
    "## Add HFSS simulation setup\n",
    "\n",
    "Add HFSS simulation setup."
   ]
  },
  {
   "cell_type": "code",
   "execution_count": 26,
   "id": "4579c917",
   "metadata": {
    "execution": {
     "iopub.execute_input": "2024-09-17T07:56:07.297775Z",
     "iopub.status.busy": "2024-09-17T07:56:07.297775Z",
     "iopub.status.idle": "2024-09-17T07:56:07.597305Z",
     "shell.execute_reply": "2024-09-17T07:56:07.597305Z"
    }
   },
   "outputs": [
    {
     "name": "stdout",
     "output_type": "stream",
     "text": [
      "PyAEDT INFO: Linear count sweep sweep1 has been correctly created.\n"
     ]
    },
    {
     "data": {
      "text/plain": [
       "<ansys.aedt.core.modules.solve_sweeps.SweepHFSS3DLayout at 0x15917516380>"
      ]
     },
     "execution_count": 26,
     "metadata": {},
     "output_type": "execute_result"
    }
   ],
   "source": [
    "setup = h3d.create_setup()\n",
    "setup.props[\"AdaptiveSettings\"][\"SingleFrequencyDataList\"][\"AdaptiveFrequencyData\"][\"MaxPasses\"] = 3\n",
    "\n",
    "h3d.create_linear_count_sweep(\n",
    "    setup=setup.name,\n",
    "    unit=\"GHz\",\n",
    "    start_frequency=0,\n",
    "    stop_frequency=10,\n",
    "    num_of_freq_points=1001,\n",
    "    name=\"sweep1\",\n",
    "    sweep_type=\"Interpolating\",\n",
    "    interpolation_tol_percent=1,\n",
    "    interpolation_max_solutions=255,\n",
    "    save_fields=False,\n",
    "    use_q3d_for_dc=False,\n",
    ")"
   ]
  },
  {
   "cell_type": "markdown",
   "id": "8cb4c9b0",
   "metadata": {},
   "source": [
    "Define the differential pairs to used to calculate differential and common mode\n",
    "s-parameters."
   ]
  },
  {
   "cell_type": "code",
   "execution_count": 27,
   "id": "167cb8cd",
   "metadata": {
    "execution": {
     "iopub.execute_input": "2024-09-17T07:56:07.597305Z",
     "iopub.status.busy": "2024-09-17T07:56:07.597305Z",
     "iopub.status.idle": "2024-09-17T07:56:07.645391Z",
     "shell.execute_reply": "2024-09-17T07:56:07.645391Z"
    }
   },
   "outputs": [
    {
     "data": {
      "text/plain": [
       "True"
      ]
     },
     "execution_count": 27,
     "metadata": {},
     "output_type": "execute_result"
    }
   ],
   "source": [
    "h3d.set_differential_pair(differential_mode=\"In\", assignment=pos_p1, reference=neg_p1)\n",
    "h3d.set_differential_pair(differential_mode=\"Out\", assignment=pos_p2, reference=neg_p2)"
   ]
  },
  {
   "cell_type": "markdown",
   "id": "00c5a8eb",
   "metadata": {},
   "source": [
    "Solve the project."
   ]
  },
  {
   "cell_type": "code",
   "execution_count": 28,
   "id": "f4210ca4",
   "metadata": {
    "execution": {
     "iopub.execute_input": "2024-09-17T07:56:07.645391Z",
     "iopub.status.busy": "2024-09-17T07:56:07.645391Z",
     "iopub.status.idle": "2024-09-17T07:57:37.055527Z",
     "shell.execute_reply": "2024-09-17T07:57:37.054520Z"
    }
   },
   "outputs": [
    {
     "name": "stdout",
     "output_type": "stream",
     "text": [
      "PyAEDT INFO: Key Desktop/ActiveDSOConfigurations/HFSS 3D Layout Design correctly changed.\n"
     ]
    },
    {
     "name": "stdout",
     "output_type": "stream",
     "text": [
      "PyAEDT INFO: Solving all design setups.\n"
     ]
    },
    {
     "name": "stdout",
     "output_type": "stream",
     "text": [
      "PyAEDT INFO: Key Desktop/ActiveDSOConfigurations/HFSS 3D Layout Design correctly changed.\n"
     ]
    },
    {
     "name": "stdout",
     "output_type": "stream",
     "text": [
      "PyAEDT INFO: Design setup None solved correctly in 0.0h 1.0m 29.0s\n"
     ]
    },
    {
     "data": {
      "text/plain": [
       "True"
      ]
     },
     "execution_count": 28,
     "metadata": {},
     "output_type": "execute_result"
    }
   ],
   "source": [
    "h3d.analyze()"
   ]
  },
  {
   "cell_type": "markdown",
   "id": "7dfc5968",
   "metadata": {},
   "source": [
    "Plot the results and shut down AEDT."
   ]
  },
  {
   "cell_type": "code",
   "execution_count": 29,
   "id": "e97a6c75",
   "metadata": {
    "execution": {
     "iopub.execute_input": "2024-09-17T07:57:37.055527Z",
     "iopub.status.busy": "2024-09-17T07:57:37.055527Z",
     "iopub.status.idle": "2024-09-17T07:57:41.306121Z",
     "shell.execute_reply": "2024-09-17T07:57:41.306121Z"
    }
   },
   "outputs": [
    {
     "name": "stdout",
     "output_type": "stream",
     "text": [
      "PyAEDT INFO: Parsing C:/Users/ansys/AppData/Local/Temp/tmptkmgp337.ansys/pcb.aedt.\n"
     ]
    },
    {
     "name": "stdout",
     "output_type": "stream",
     "text": [
      "PyAEDT INFO: File C:/Users/ansys/AppData/Local/Temp/tmptkmgp337.ansys/pcb.aedt correctly loaded. Elapsed time: 0m 0sec\n"
     ]
    },
    {
     "name": "stdout",
     "output_type": "stream",
     "text": [
      "PyAEDT INFO: aedt file load time 0.03124380111694336\n"
     ]
    },
    {
     "name": "stdout",
     "output_type": "stream",
     "text": [
      "PyAEDT INFO: Loading Modeler.\n"
     ]
    },
    {
     "name": "stdout",
     "output_type": "stream",
     "text": [
      "PyAEDT INFO: Modeler loaded.\n"
     ]
    },
    {
     "name": "stdout",
     "output_type": "stream",
     "text": [
      "PyAEDT INFO: EDB loaded.\n"
     ]
    },
    {
     "name": "stdout",
     "output_type": "stream",
     "text": [
      "PyAEDT INFO: Layers loaded.\n"
     ]
    },
    {
     "name": "stdout",
     "output_type": "stream",
     "text": [
      "PyAEDT INFO: Primitives loaded.\n"
     ]
    },
    {
     "name": "stdout",
     "output_type": "stream",
     "text": [
      "PyAEDT INFO: Modeler class has been initialized! Elapsed time: 0m 0sec\n"
     ]
    },
    {
     "name": "stdout",
     "output_type": "stream",
     "text": [
      "PyAEDT INFO: PostProcessor class has been initialized! Elapsed time: 0m 0sec\n"
     ]
    },
    {
     "name": "stdout",
     "output_type": "stream",
     "text": [
      "PyAEDT INFO: Post class has been initialized! Elapsed time: 0m 0sec\n"
     ]
    },
    {
     "name": "stdout",
     "output_type": "stream",
     "text": [
      "PyAEDT INFO: Solution Data Correctly Loaded.\n"
     ]
    },
    {
     "name": "stdout",
     "output_type": "stream",
     "text": [
      "PyAEDT INFO: Desktop has been released and closed.\n"
     ]
    },
    {
     "data": {
      "text/plain": [
       "True"
      ]
     },
     "execution_count": 29,
     "metadata": {},
     "output_type": "execute_result"
    }
   ],
   "source": [
    "solutions = h3d.post.get_solution_data([\"dB(S(In,In))\", \"dB(S(In,Out))\"], context=\"Differential Pairs\")\n",
    "solutions.plot()\n",
    "h3d.release_desktop()"
   ]
  },
  {
   "cell_type": "markdown",
   "id": "b155e6f7",
   "metadata": {},
   "source": [
    "Note that the ground nets are only connected to each other due\n",
    "to the wave ports. The problem with poor grounding can be seen in the\n",
    "S-parameters. This example can be downloaded as a Jupyter Notebook, so\n",
    "you can modify it. Try changing parameters or adding ground vias to improve performance.\n",
    "\n",
    "The final cell cleans up the temporary directory, removing all files."
   ]
  },
  {
   "cell_type": "code",
   "execution_count": 30,
   "id": "a925e177",
   "metadata": {
    "execution": {
     "iopub.execute_input": "2024-09-17T07:57:41.306121Z",
     "iopub.status.busy": "2024-09-17T07:57:41.306121Z",
     "iopub.status.idle": "2024-09-17T07:57:41.321745Z",
     "shell.execute_reply": "2024-09-17T07:57:41.321745Z"
    }
   },
   "outputs": [],
   "source": [
    "temp_dir.cleanup()"
   ]
  }
 ],
 "metadata": {
  "jupytext": {
   "cell_metadata_filter": "-all",
   "main_language": "python",
   "notebook_metadata_filter": "-all",
   "text_representation": {
    "extension": ".py",
    "format_name": "light"
   }
  },
  "language_info": {
   "codemirror_mode": {
    "name": "ipython",
    "version": 3
   },
   "file_extension": ".py",
   "mimetype": "text/x-python",
   "name": "python",
   "nbconvert_exporter": "python",
   "pygments_lexer": "ipython3",
   "version": "3.10.11"
  }
 },
 "nbformat": 4,
 "nbformat_minor": 5
}
