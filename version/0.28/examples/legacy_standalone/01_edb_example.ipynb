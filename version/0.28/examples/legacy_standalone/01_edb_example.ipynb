{
 "cells": [
  {
   "cell_type": "markdown",
   "id": "d6cb7abf",
   "metadata": {},
   "source": [
    "# EDB: SIwave DC-IR Analysis\n",
    "\n",
    "This example demonstrates the use of EDB to interact with a PCB\n",
    "layout and run DC-IR analysis in SIwave.\n",
    "Perform required imports"
   ]
  },
  {
   "cell_type": "code",
   "execution_count": 1,
   "id": "262f2c8c",
   "metadata": {
    "execution": {
     "iopub.execute_input": "2024-09-17T08:05:48.132218Z",
     "iopub.status.busy": "2024-09-17T08:05:48.132218Z",
     "iopub.status.idle": "2024-09-17T08:05:50.051438Z",
     "shell.execute_reply": "2024-09-17T08:05:50.051438Z"
    }
   },
   "outputs": [
    {
     "name": "stdout",
     "output_type": "stream",
     "text": [
      "C:\\Users\\ansys\\AppData\\Local\\Temp\\tmp3l2uttd3.ansys\\edb/ANSYS-HSD_V1.aedb\n"
     ]
    }
   ],
   "source": [
    "import os\n",
    "import tempfile\n",
    "import time\n",
    "\n",
    "import pyedb\n",
    "from pyedb.misc.downloads import download_file\n",
    "\n",
    "temp_dir = tempfile.TemporaryDirectory(suffix=\".ansys\")\n",
    "targetfile = download_file(\"edb/ANSYS-HSD_V1.aedb\", destination=temp_dir.name)\n",
    "\n",
    "siwave_file = os.path.join(os.path.dirname(targetfile), \"ANSYS-HSD_V1.siw\")\n",
    "print(targetfile)\n",
    "aedt_file = targetfile[:-4] + \"aedt\""
   ]
  },
  {
   "cell_type": "markdown",
   "id": "f5cdfe71",
   "metadata": {},
   "source": [
    "## Launch Ansys Electronics Database (EDB)\n",
    "\n",
    "Instantiate an instance of the `pyedb.Edb` class using SI units."
   ]
  },
  {
   "cell_type": "code",
   "execution_count": 2,
   "id": "ad3a7490",
   "metadata": {
    "execution": {
     "iopub.execute_input": "2024-09-17T08:05:50.051438Z",
     "iopub.status.busy": "2024-09-17T08:05:50.051438Z",
     "iopub.status.idle": "2024-09-17T08:06:03.319593Z",
     "shell.execute_reply": "2024-09-17T08:06:03.319593Z"
    }
   },
   "outputs": [
    {
     "name": "stdout",
     "output_type": "stream",
     "text": [
      "EDB version: 2024.2\n"
     ]
    },
    {
     "name": "stdout",
     "output_type": "stream",
     "text": [
      "PyEDB INFO: StdOut is enabled\n"
     ]
    },
    {
     "name": "stdout",
     "output_type": "stream",
     "text": [
      "PyEDB INFO: Logger is initialized in EDB.\n"
     ]
    },
    {
     "name": "stdout",
     "output_type": "stream",
     "text": [
      "PyEDB INFO: legacy v0.28.0\n"
     ]
    },
    {
     "name": "stdout",
     "output_type": "stream",
     "text": [
      "PyEDB INFO: Python version 3.10.11 (tags/v3.10.11:7d4cc5a, Apr  5 2023, 00:38:17) [MSC v.1929 64 bit (AMD64)]\n"
     ]
    },
    {
     "name": "stderr",
     "output_type": "stream",
     "text": [
      "--- Logging error ---\n",
      "Traceback (most recent call last):\n",
      "  File \"C:\\actions-runner\\_work\\_tool\\Python\\3.10.11\\x64\\lib\\logging\\handlers.py\", line 74, in emit\n",
      "    self.doRollover()\n",
      "  File \"C:\\actions-runner\\_work\\_tool\\Python\\3.10.11\\x64\\lib\\logging\\handlers.py\", line 179, in doRollover\n",
      "    self.rotate(self.baseFilename, dfn)\n",
      "  File \"C:\\actions-runner\\_work\\_tool\\Python\\3.10.11\\x64\\lib\\logging\\handlers.py\", line 115, in rotate\n",
      "    os.rename(source, dest)\n",
      "PermissionError: [WinError 32] The process cannot access the file because it is being used by another process: 'C:\\\\Users\\\\ansys\\\\AppData\\\\Local\\\\Temp\\\\pyedb_ansys.log' -> 'C:\\\\Users\\\\ansys\\\\AppData\\\\Local\\\\Temp\\\\pyedb_ansys.log.1'\n",
      "Call stack:\n",
      "  File \"C:\\actions-runner\\_work\\_tool\\Python\\3.10.11\\x64\\lib\\runpy.py\", line 196, in _run_module_as_main\n",
      "    return _run_code(code, main_globals, None,\n",
      "  File \"C:\\actions-runner\\_work\\_tool\\Python\\3.10.11\\x64\\lib\\runpy.py\", line 86, in _run_code\n",
      "    exec(code, run_globals)\n",
      "  File \"C:\\actions-runner\\_work\\pyedb\\pyedb\\.venv\\lib\\site-packages\\ipykernel_launcher.py\", line 18, in <module>\n",
      "    app.launch_new_instance()\n",
      "  File \"C:\\actions-runner\\_work\\pyedb\\pyedb\\.venv\\lib\\site-packages\\traitlets\\config\\application.py\", line 1075, in launch_instance\n",
      "    app.start()\n",
      "  File \"C:\\actions-runner\\_work\\pyedb\\pyedb\\.venv\\lib\\site-packages\\ipykernel\\kernelapp.py\", line 739, in start\n",
      "    self.io_loop.start()\n",
      "  File \"C:\\actions-runner\\_work\\pyedb\\pyedb\\.venv\\lib\\site-packages\\tornado\\platform\\asyncio.py\", line 205, in start\n",
      "    self.asyncio_loop.run_forever()\n",
      "  File \"C:\\actions-runner\\_work\\_tool\\Python\\3.10.11\\x64\\lib\\asyncio\\base_events.py\", line 603, in run_forever\n",
      "    self._run_once()\n",
      "  File \"C:\\actions-runner\\_work\\_tool\\Python\\3.10.11\\x64\\lib\\asyncio\\base_events.py\", line 1909, in _run_once\n",
      "    handle._run()\n",
      "  File \"C:\\actions-runner\\_work\\_tool\\Python\\3.10.11\\x64\\lib\\asyncio\\events.py\", line 80, in _run\n",
      "    self._context.run(self._callback, *self._args)\n",
      "  File \"C:\\actions-runner\\_work\\pyedb\\pyedb\\.venv\\lib\\site-packages\\ipykernel\\kernelbase.py\", line 545, in dispatch_queue\n",
      "    await self.process_one()\n",
      "  File \"C:\\actions-runner\\_work\\pyedb\\pyedb\\.venv\\lib\\site-packages\\ipykernel\\kernelbase.py\", line 534, in process_one\n",
      "    await dispatch(*args)\n",
      "  File \"C:\\actions-runner\\_work\\pyedb\\pyedb\\.venv\\lib\\site-packages\\ipykernel\\kernelbase.py\", line 437, in dispatch_shell\n",
      "    await result\n",
      "  File \"C:\\actions-runner\\_work\\pyedb\\pyedb\\.venv\\lib\\site-packages\\ipykernel\\ipkernel.py\", line 362, in execute_request\n",
      "    await super().execute_request(stream, ident, parent)\n",
      "  File \"C:\\actions-runner\\_work\\pyedb\\pyedb\\.venv\\lib\\site-packages\\ipykernel\\kernelbase.py\", line 778, in execute_request\n",
      "    reply_content = await reply_content\n",
      "  File \"C:\\actions-runner\\_work\\pyedb\\pyedb\\.venv\\lib\\site-packages\\ipykernel\\ipkernel.py\", line 449, in do_execute\n",
      "    res = shell.run_cell(\n",
      "  File \"C:\\actions-runner\\_work\\pyedb\\pyedb\\.venv\\lib\\site-packages\\ipykernel\\zmqshell.py\", line 549, in run_cell\n",
      "    return super().run_cell(*args, **kwargs)\n",
      "  File \"C:\\actions-runner\\_work\\pyedb\\pyedb\\.venv\\lib\\site-packages\\IPython\\core\\interactiveshell.py\", line 3075, in run_cell\n",
      "    result = self._run_cell(\n",
      "  File \"C:\\actions-runner\\_work\\pyedb\\pyedb\\.venv\\lib\\site-packages\\IPython\\core\\interactiveshell.py\", line 3130, in _run_cell\n",
      "    result = runner(coro)\n",
      "  File \"C:\\actions-runner\\_work\\pyedb\\pyedb\\.venv\\lib\\site-packages\\IPython\\core\\async_helpers.py\", line 128, in _pseudo_sync_runner\n",
      "    coro.send(None)\n",
      "  File \"C:\\actions-runner\\_work\\pyedb\\pyedb\\.venv\\lib\\site-packages\\IPython\\core\\interactiveshell.py\", line 3334, in run_cell_async\n",
      "    has_raised = await self.run_ast_nodes(code_ast.body, cell_name,\n",
      "  File \"C:\\actions-runner\\_work\\pyedb\\pyedb\\.venv\\lib\\site-packages\\IPython\\core\\interactiveshell.py\", line 3517, in run_ast_nodes\n",
      "    if await self.run_code(code, result, async_=asy):\n",
      "  File \"C:\\actions-runner\\_work\\pyedb\\pyedb\\.venv\\lib\\site-packages\\IPython\\core\\interactiveshell.py\", line 3577, in run_code\n",
      "    exec(code_obj, self.user_global_ns, self.user_ns)\n",
      "  File \"C:\\Users\\ansys\\AppData\\Local\\Temp\\ipykernel_4316\\3417584732.py\", line 8, in <module>\n",
      "    edb = pyedb.Edb(edbpath=targetfile, edbversion=edb_version)\n",
      "  File \"C:\\actions-runner\\_work\\pyedb\\pyedb\\.venv\\lib\\site-packages\\pyedb\\generic\\design_types.py\", line 110, in Edb\n",
      "    return app(\n",
      "  File \"C:\\actions-runner\\_work\\pyedb\\pyedb\\.venv\\lib\\site-packages\\pyedb\\dotnet\\edb.py\", line 196, in __init__\n",
      "    Database.__init__(self, edbversion=edbversion, student_version=student_version)\n",
      "  File \"C:\\actions-runner\\_work\\pyedb\\pyedb\\.venv\\lib\\site-packages\\pyedb\\dotnet\\edb_core\\dotnet\\database.py\", line 802, in __init__\n",
      "    EdbDotNet.__init__(self, edbversion=edbversion, student_version=student_version)\n",
      "  File \"C:\\actions-runner\\_work\\pyedb\\pyedb\\.venv\\lib\\site-packages\\pyedb\\dotnet\\edb_core\\dotnet\\database.py\", line 703, in __init__\n",
      "    self._logger.enable_stdout_log()\n",
      "  File \"C:\\actions-runner\\_work\\pyedb\\pyedb\\.venv\\lib\\site-packages\\pyedb\\edb_logger.py\", line 318, in enable_stdout_log\n",
      "    self.info(\"StdOut is enabled\")\n",
      "  File \"C:\\actions-runner\\_work\\pyedb\\pyedb\\.venv\\lib\\site-packages\\pyedb\\edb_logger.py\", line 346, in info\n",
      "    return self._log_on_handler(0, msg, *args, **kwargs)\n",
      "  File \"C:\\actions-runner\\_work\\pyedb\\pyedb\\.venv\\lib\\site-packages\\pyedb\\edb_logger.py\", line 293, in _log_on_handler\n",
      "    self._global.info(message_text, *args, **kwargs)\n",
      "Message: 'StdOut is enabled'\n",
      "Arguments: ()\n",
      "--- Logging error ---\n",
      "Traceback (most recent call last):\n",
      "  File \"C:\\actions-runner\\_work\\_tool\\Python\\3.10.11\\x64\\lib\\logging\\handlers.py\", line 74, in emit\n",
      "    self.doRollover()\n",
      "  File \"C:\\actions-runner\\_work\\_tool\\Python\\3.10.11\\x64\\lib\\logging\\handlers.py\", line 179, in doRollover\n",
      "    self.rotate(self.baseFilename, dfn)\n",
      "  File \"C:\\actions-runner\\_work\\_tool\\Python\\3.10.11\\x64\\lib\\logging\\handlers.py\", line 115, in rotate\n",
      "    os.rename(source, dest)\n",
      "PermissionError: [WinError 32] The process cannot access the file because it is being used by another process: 'C:\\\\Users\\\\ansys\\\\AppData\\\\Local\\\\Temp\\\\pyedb_ansys.log' -> 'C:\\\\Users\\\\ansys\\\\AppData\\\\Local\\\\Temp\\\\pyedb_ansys.log.1'\n",
      "Call stack:\n",
      "  File \"C:\\actions-runner\\_work\\_tool\\Python\\3.10.11\\x64\\lib\\runpy.py\", line 196, in _run_module_as_main\n",
      "    return _run_code(code, main_globals, None,\n",
      "  File \"C:\\actions-runner\\_work\\_tool\\Python\\3.10.11\\x64\\lib\\runpy.py\", line 86, in _run_code\n",
      "    exec(code, run_globals)\n",
      "  File \"C:\\actions-runner\\_work\\pyedb\\pyedb\\.venv\\lib\\site-packages\\ipykernel_launcher.py\", line 18, in <module>\n",
      "    app.launch_new_instance()\n",
      "  File \"C:\\actions-runner\\_work\\pyedb\\pyedb\\.venv\\lib\\site-packages\\traitlets\\config\\application.py\", line 1075, in launch_instance\n",
      "    app.start()\n",
      "  File \"C:\\actions-runner\\_work\\pyedb\\pyedb\\.venv\\lib\\site-packages\\ipykernel\\kernelapp.py\", line 739, in start\n",
      "    self.io_loop.start()\n",
      "  File \"C:\\actions-runner\\_work\\pyedb\\pyedb\\.venv\\lib\\site-packages\\tornado\\platform\\asyncio.py\", line 205, in start\n",
      "    self.asyncio_loop.run_forever()\n",
      "  File \"C:\\actions-runner\\_work\\_tool\\Python\\3.10.11\\x64\\lib\\asyncio\\base_events.py\", line 603, in run_forever\n",
      "    self._run_once()\n",
      "  File \"C:\\actions-runner\\_work\\_tool\\Python\\3.10.11\\x64\\lib\\asyncio\\base_events.py\", line 1909, in _run_once\n",
      "    handle._run()\n",
      "  File \"C:\\actions-runner\\_work\\_tool\\Python\\3.10.11\\x64\\lib\\asyncio\\events.py\", line 80, in _run\n",
      "    self._context.run(self._callback, *self._args)\n",
      "  File \"C:\\actions-runner\\_work\\pyedb\\pyedb\\.venv\\lib\\site-packages\\ipykernel\\kernelbase.py\", line 545, in dispatch_queue\n",
      "    await self.process_one()\n",
      "  File \"C:\\actions-runner\\_work\\pyedb\\pyedb\\.venv\\lib\\site-packages\\ipykernel\\kernelbase.py\", line 534, in process_one\n",
      "    await dispatch(*args)\n",
      "  File \"C:\\actions-runner\\_work\\pyedb\\pyedb\\.venv\\lib\\site-packages\\ipykernel\\kernelbase.py\", line 437, in dispatch_shell\n",
      "    await result\n",
      "  File \"C:\\actions-runner\\_work\\pyedb\\pyedb\\.venv\\lib\\site-packages\\ipykernel\\ipkernel.py\", line 362, in execute_request\n",
      "    await super().execute_request(stream, ident, parent)\n",
      "  File \"C:\\actions-runner\\_work\\pyedb\\pyedb\\.venv\\lib\\site-packages\\ipykernel\\kernelbase.py\", line 778, in execute_request\n",
      "    reply_content = await reply_content\n",
      "  File \"C:\\actions-runner\\_work\\pyedb\\pyedb\\.venv\\lib\\site-packages\\ipykernel\\ipkernel.py\", line 449, in do_execute\n",
      "    res = shell.run_cell(\n",
      "  File \"C:\\actions-runner\\_work\\pyedb\\pyedb\\.venv\\lib\\site-packages\\ipykernel\\zmqshell.py\", line 549, in run_cell\n",
      "    return super().run_cell(*args, **kwargs)\n",
      "  File \"C:\\actions-runner\\_work\\pyedb\\pyedb\\.venv\\lib\\site-packages\\IPython\\core\\interactiveshell.py\", line 3075, in run_cell\n",
      "    result = self._run_cell(\n",
      "  File \"C:\\actions-runner\\_work\\pyedb\\pyedb\\.venv\\lib\\site-packages\\IPython\\core\\interactiveshell.py\", line 3130, in _run_cell\n",
      "    result = runner(coro)\n",
      "  File \"C:\\actions-runner\\_work\\pyedb\\pyedb\\.venv\\lib\\site-packages\\IPython\\core\\async_helpers.py\", line 128, in _pseudo_sync_runner\n",
      "    coro.send(None)\n",
      "  File \"C:\\actions-runner\\_work\\pyedb\\pyedb\\.venv\\lib\\site-packages\\IPython\\core\\interactiveshell.py\", line 3334, in run_cell_async\n",
      "    has_raised = await self.run_ast_nodes(code_ast.body, cell_name,\n",
      "  File \"C:\\actions-runner\\_work\\pyedb\\pyedb\\.venv\\lib\\site-packages\\IPython\\core\\interactiveshell.py\", line 3517, in run_ast_nodes\n",
      "    if await self.run_code(code, result, async_=asy):\n",
      "  File \"C:\\actions-runner\\_work\\pyedb\\pyedb\\.venv\\lib\\site-packages\\IPython\\core\\interactiveshell.py\", line 3577, in run_code\n",
      "    exec(code_obj, self.user_global_ns, self.user_ns)\n",
      "  File \"C:\\Users\\ansys\\AppData\\Local\\Temp\\ipykernel_4316\\3417584732.py\", line 8, in <module>\n",
      "    edb = pyedb.Edb(edbpath=targetfile, edbversion=edb_version)\n",
      "  File \"C:\\actions-runner\\_work\\pyedb\\pyedb\\.venv\\lib\\site-packages\\pyedb\\generic\\design_types.py\", line 110, in Edb\n",
      "    return app(\n",
      "  File \"C:\\actions-runner\\_work\\pyedb\\pyedb\\.venv\\lib\\site-packages\\pyedb\\dotnet\\edb.py\", line 196, in __init__\n",
      "    Database.__init__(self, edbversion=edbversion, student_version=student_version)\n",
      "  File \"C:\\actions-runner\\_work\\pyedb\\pyedb\\.venv\\lib\\site-packages\\pyedb\\dotnet\\edb_core\\dotnet\\database.py\", line 802, in __init__\n",
      "    EdbDotNet.__init__(self, edbversion=edbversion, student_version=student_version)\n",
      "  File \"C:\\actions-runner\\_work\\pyedb\\pyedb\\.venv\\lib\\site-packages\\pyedb\\dotnet\\edb_core\\dotnet\\database.py\", line 709, in __init__\n",
      "    self._logger.info(\"Logger is initialized in EDB.\")\n",
      "  File \"C:\\actions-runner\\_work\\pyedb\\pyedb\\.venv\\lib\\site-packages\\pyedb\\edb_logger.py\", line 346, in info\n",
      "    return self._log_on_handler(0, msg, *args, **kwargs)\n",
      "  File \"C:\\actions-runner\\_work\\pyedb\\pyedb\\.venv\\lib\\site-packages\\pyedb\\edb_logger.py\", line 293, in _log_on_handler\n",
      "    self._global.info(message_text, *args, **kwargs)\n",
      "Message: 'Logger is initialized in EDB.'\n",
      "Arguments: ()\n",
      "--- Logging error ---\n",
      "Traceback (most recent call last):\n",
      "  File \"C:\\actions-runner\\_work\\_tool\\Python\\3.10.11\\x64\\lib\\logging\\handlers.py\", line 74, in emit\n",
      "    self.doRollover()\n",
      "  File \"C:\\actions-runner\\_work\\_tool\\Python\\3.10.11\\x64\\lib\\logging\\handlers.py\", line 179, in doRollover\n",
      "    self.rotate(self.baseFilename, dfn)\n",
      "  File \"C:\\actions-runner\\_work\\_tool\\Python\\3.10.11\\x64\\lib\\logging\\handlers.py\", line 115, in rotate\n",
      "    os.rename(source, dest)\n",
      "PermissionError: [WinError 32] The process cannot access the file because it is being used by another process: 'C:\\\\Users\\\\ansys\\\\AppData\\\\Local\\\\Temp\\\\pyedb_ansys.log' -> 'C:\\\\Users\\\\ansys\\\\AppData\\\\Local\\\\Temp\\\\pyedb_ansys.log.1'\n",
      "Call stack:\n",
      "  File \"C:\\actions-runner\\_work\\_tool\\Python\\3.10.11\\x64\\lib\\runpy.py\", line 196, in _run_module_as_main\n",
      "    return _run_code(code, main_globals, None,\n",
      "  File \"C:\\actions-runner\\_work\\_tool\\Python\\3.10.11\\x64\\lib\\runpy.py\", line 86, in _run_code\n",
      "    exec(code, run_globals)\n",
      "  File \"C:\\actions-runner\\_work\\pyedb\\pyedb\\.venv\\lib\\site-packages\\ipykernel_launcher.py\", line 18, in <module>\n",
      "    app.launch_new_instance()\n",
      "  File \"C:\\actions-runner\\_work\\pyedb\\pyedb\\.venv\\lib\\site-packages\\traitlets\\config\\application.py\", line 1075, in launch_instance\n",
      "    app.start()\n",
      "  File \"C:\\actions-runner\\_work\\pyedb\\pyedb\\.venv\\lib\\site-packages\\ipykernel\\kernelapp.py\", line 739, in start\n",
      "    self.io_loop.start()\n",
      "  File \"C:\\actions-runner\\_work\\pyedb\\pyedb\\.venv\\lib\\site-packages\\tornado\\platform\\asyncio.py\", line 205, in start\n",
      "    self.asyncio_loop.run_forever()\n",
      "  File \"C:\\actions-runner\\_work\\_tool\\Python\\3.10.11\\x64\\lib\\asyncio\\base_events.py\", line 603, in run_forever\n",
      "    self._run_once()\n",
      "  File \"C:\\actions-runner\\_work\\_tool\\Python\\3.10.11\\x64\\lib\\asyncio\\base_events.py\", line 1909, in _run_once\n",
      "    handle._run()\n",
      "  File \"C:\\actions-runner\\_work\\_tool\\Python\\3.10.11\\x64\\lib\\asyncio\\events.py\", line 80, in _run\n",
      "    self._context.run(self._callback, *self._args)\n",
      "  File \"C:\\actions-runner\\_work\\pyedb\\pyedb\\.venv\\lib\\site-packages\\ipykernel\\kernelbase.py\", line 545, in dispatch_queue\n",
      "    await self.process_one()\n",
      "  File \"C:\\actions-runner\\_work\\pyedb\\pyedb\\.venv\\lib\\site-packages\\ipykernel\\kernelbase.py\", line 534, in process_one\n",
      "    await dispatch(*args)\n",
      "  File \"C:\\actions-runner\\_work\\pyedb\\pyedb\\.venv\\lib\\site-packages\\ipykernel\\kernelbase.py\", line 437, in dispatch_shell\n",
      "    await result\n",
      "  File \"C:\\actions-runner\\_work\\pyedb\\pyedb\\.venv\\lib\\site-packages\\ipykernel\\ipkernel.py\", line 362, in execute_request\n",
      "    await super().execute_request(stream, ident, parent)\n",
      "  File \"C:\\actions-runner\\_work\\pyedb\\pyedb\\.venv\\lib\\site-packages\\ipykernel\\kernelbase.py\", line 778, in execute_request\n",
      "    reply_content = await reply_content\n",
      "  File \"C:\\actions-runner\\_work\\pyedb\\pyedb\\.venv\\lib\\site-packages\\ipykernel\\ipkernel.py\", line 449, in do_execute\n",
      "    res = shell.run_cell(\n",
      "  File \"C:\\actions-runner\\_work\\pyedb\\pyedb\\.venv\\lib\\site-packages\\ipykernel\\zmqshell.py\", line 549, in run_cell\n",
      "    return super().run_cell(*args, **kwargs)\n",
      "  File \"C:\\actions-runner\\_work\\pyedb\\pyedb\\.venv\\lib\\site-packages\\IPython\\core\\interactiveshell.py\", line 3075, in run_cell\n",
      "    result = self._run_cell(\n",
      "  File \"C:\\actions-runner\\_work\\pyedb\\pyedb\\.venv\\lib\\site-packages\\IPython\\core\\interactiveshell.py\", line 3130, in _run_cell\n",
      "    result = runner(coro)\n",
      "  File \"C:\\actions-runner\\_work\\pyedb\\pyedb\\.venv\\lib\\site-packages\\IPython\\core\\async_helpers.py\", line 128, in _pseudo_sync_runner\n",
      "    coro.send(None)\n",
      "  File \"C:\\actions-runner\\_work\\pyedb\\pyedb\\.venv\\lib\\site-packages\\IPython\\core\\interactiveshell.py\", line 3334, in run_cell_async\n",
      "    has_raised = await self.run_ast_nodes(code_ast.body, cell_name,\n",
      "  File \"C:\\actions-runner\\_work\\pyedb\\pyedb\\.venv\\lib\\site-packages\\IPython\\core\\interactiveshell.py\", line 3517, in run_ast_nodes\n",
      "    if await self.run_code(code, result, async_=asy):\n",
      "  File \"C:\\actions-runner\\_work\\pyedb\\pyedb\\.venv\\lib\\site-packages\\IPython\\core\\interactiveshell.py\", line 3577, in run_code\n",
      "    exec(code_obj, self.user_global_ns, self.user_ns)\n",
      "  File \"C:\\Users\\ansys\\AppData\\Local\\Temp\\ipykernel_4316\\3417584732.py\", line 8, in <module>\n",
      "    edb = pyedb.Edb(edbpath=targetfile, edbversion=edb_version)\n",
      "  File \"C:\\actions-runner\\_work\\pyedb\\pyedb\\.venv\\lib\\site-packages\\pyedb\\generic\\design_types.py\", line 110, in Edb\n",
      "    return app(\n",
      "  File \"C:\\actions-runner\\_work\\pyedb\\pyedb\\.venv\\lib\\site-packages\\pyedb\\dotnet\\edb.py\", line 196, in __init__\n",
      "    Database.__init__(self, edbversion=edbversion, student_version=student_version)\n",
      "  File \"C:\\actions-runner\\_work\\pyedb\\pyedb\\.venv\\lib\\site-packages\\pyedb\\dotnet\\edb_core\\dotnet\\database.py\", line 802, in __init__\n",
      "    EdbDotNet.__init__(self, edbversion=edbversion, student_version=student_version)\n",
      "  File \"C:\\actions-runner\\_work\\pyedb\\pyedb\\.venv\\lib\\site-packages\\pyedb\\dotnet\\edb_core\\dotnet\\database.py\", line 710, in __init__\n",
      "    self._logger.info(\"legacy v%s\", __version__)\n",
      "  File \"C:\\actions-runner\\_work\\pyedb\\pyedb\\.venv\\lib\\site-packages\\pyedb\\edb_logger.py\", line 346, in info\n",
      "    return self._log_on_handler(0, msg, *args, **kwargs)\n",
      "  File \"C:\\actions-runner\\_work\\pyedb\\pyedb\\.venv\\lib\\site-packages\\pyedb\\edb_logger.py\", line 293, in _log_on_handler\n",
      "    self._global.info(message_text, *args, **kwargs)\n",
      "Message: 'legacy v%s'\n",
      "Arguments: ('0.28.0',)\n",
      "--- Logging error ---\n",
      "Traceback (most recent call last):\n",
      "  File \"C:\\actions-runner\\_work\\_tool\\Python\\3.10.11\\x64\\lib\\logging\\handlers.py\", line 74, in emit\n",
      "    self.doRollover()\n",
      "  File \"C:\\actions-runner\\_work\\_tool\\Python\\3.10.11\\x64\\lib\\logging\\handlers.py\", line 179, in doRollover\n",
      "    self.rotate(self.baseFilename, dfn)\n",
      "  File \"C:\\actions-runner\\_work\\_tool\\Python\\3.10.11\\x64\\lib\\logging\\handlers.py\", line 115, in rotate\n",
      "    os.rename(source, dest)\n",
      "PermissionError: [WinError 32] The process cannot access the file because it is being used by another process: 'C:\\\\Users\\\\ansys\\\\AppData\\\\Local\\\\Temp\\\\pyedb_ansys.log' -> 'C:\\\\Users\\\\ansys\\\\AppData\\\\Local\\\\Temp\\\\pyedb_ansys.log.1'\n",
      "Call stack:\n",
      "  File \"C:\\actions-runner\\_work\\_tool\\Python\\3.10.11\\x64\\lib\\runpy.py\", line 196, in _run_module_as_main\n",
      "    return _run_code(code, main_globals, None,\n",
      "  File \"C:\\actions-runner\\_work\\_tool\\Python\\3.10.11\\x64\\lib\\runpy.py\", line 86, in _run_code\n",
      "    exec(code, run_globals)\n",
      "  File \"C:\\actions-runner\\_work\\pyedb\\pyedb\\.venv\\lib\\site-packages\\ipykernel_launcher.py\", line 18, in <module>\n",
      "    app.launch_new_instance()\n",
      "  File \"C:\\actions-runner\\_work\\pyedb\\pyedb\\.venv\\lib\\site-packages\\traitlets\\config\\application.py\", line 1075, in launch_instance\n",
      "    app.start()\n",
      "  File \"C:\\actions-runner\\_work\\pyedb\\pyedb\\.venv\\lib\\site-packages\\ipykernel\\kernelapp.py\", line 739, in start\n",
      "    self.io_loop.start()\n",
      "  File \"C:\\actions-runner\\_work\\pyedb\\pyedb\\.venv\\lib\\site-packages\\tornado\\platform\\asyncio.py\", line 205, in start\n",
      "    self.asyncio_loop.run_forever()\n",
      "  File \"C:\\actions-runner\\_work\\_tool\\Python\\3.10.11\\x64\\lib\\asyncio\\base_events.py\", line 603, in run_forever\n",
      "    self._run_once()\n",
      "  File \"C:\\actions-runner\\_work\\_tool\\Python\\3.10.11\\x64\\lib\\asyncio\\base_events.py\", line 1909, in _run_once\n",
      "    handle._run()\n",
      "  File \"C:\\actions-runner\\_work\\_tool\\Python\\3.10.11\\x64\\lib\\asyncio\\events.py\", line 80, in _run\n",
      "    self._context.run(self._callback, *self._args)\n",
      "  File \"C:\\actions-runner\\_work\\pyedb\\pyedb\\.venv\\lib\\site-packages\\ipykernel\\kernelbase.py\", line 545, in dispatch_queue\n",
      "    await self.process_one()\n",
      "  File \"C:\\actions-runner\\_work\\pyedb\\pyedb\\.venv\\lib\\site-packages\\ipykernel\\kernelbase.py\", line 534, in process_one\n",
      "    await dispatch(*args)\n",
      "  File \"C:\\actions-runner\\_work\\pyedb\\pyedb\\.venv\\lib\\site-packages\\ipykernel\\kernelbase.py\", line 437, in dispatch_shell\n",
      "    await result\n",
      "  File \"C:\\actions-runner\\_work\\pyedb\\pyedb\\.venv\\lib\\site-packages\\ipykernel\\ipkernel.py\", line 362, in execute_request\n",
      "    await super().execute_request(stream, ident, parent)\n",
      "  File \"C:\\actions-runner\\_work\\pyedb\\pyedb\\.venv\\lib\\site-packages\\ipykernel\\kernelbase.py\", line 778, in execute_request\n",
      "    reply_content = await reply_content\n",
      "  File \"C:\\actions-runner\\_work\\pyedb\\pyedb\\.venv\\lib\\site-packages\\ipykernel\\ipkernel.py\", line 449, in do_execute\n",
      "    res = shell.run_cell(\n",
      "  File \"C:\\actions-runner\\_work\\pyedb\\pyedb\\.venv\\lib\\site-packages\\ipykernel\\zmqshell.py\", line 549, in run_cell\n",
      "    return super().run_cell(*args, **kwargs)\n",
      "  File \"C:\\actions-runner\\_work\\pyedb\\pyedb\\.venv\\lib\\site-packages\\IPython\\core\\interactiveshell.py\", line 3075, in run_cell\n",
      "    result = self._run_cell(\n",
      "  File \"C:\\actions-runner\\_work\\pyedb\\pyedb\\.venv\\lib\\site-packages\\IPython\\core\\interactiveshell.py\", line 3130, in _run_cell\n",
      "    result = runner(coro)\n",
      "  File \"C:\\actions-runner\\_work\\pyedb\\pyedb\\.venv\\lib\\site-packages\\IPython\\core\\async_helpers.py\", line 128, in _pseudo_sync_runner\n",
      "    coro.send(None)\n",
      "  File \"C:\\actions-runner\\_work\\pyedb\\pyedb\\.venv\\lib\\site-packages\\IPython\\core\\interactiveshell.py\", line 3334, in run_cell_async\n",
      "    has_raised = await self.run_ast_nodes(code_ast.body, cell_name,\n",
      "  File \"C:\\actions-runner\\_work\\pyedb\\pyedb\\.venv\\lib\\site-packages\\IPython\\core\\interactiveshell.py\", line 3517, in run_ast_nodes\n",
      "    if await self.run_code(code, result, async_=asy):\n",
      "  File \"C:\\actions-runner\\_work\\pyedb\\pyedb\\.venv\\lib\\site-packages\\IPython\\core\\interactiveshell.py\", line 3577, in run_code\n",
      "    exec(code_obj, self.user_global_ns, self.user_ns)\n",
      "  File \"C:\\Users\\ansys\\AppData\\Local\\Temp\\ipykernel_4316\\3417584732.py\", line 8, in <module>\n",
      "    edb = pyedb.Edb(edbpath=targetfile, edbversion=edb_version)\n",
      "  File \"C:\\actions-runner\\_work\\pyedb\\pyedb\\.venv\\lib\\site-packages\\pyedb\\generic\\design_types.py\", line 110, in Edb\n",
      "    return app(\n",
      "  File \"C:\\actions-runner\\_work\\pyedb\\pyedb\\.venv\\lib\\site-packages\\pyedb\\dotnet\\edb.py\", line 196, in __init__\n",
      "    Database.__init__(self, edbversion=edbversion, student_version=student_version)\n",
      "  File \"C:\\actions-runner\\_work\\pyedb\\pyedb\\.venv\\lib\\site-packages\\pyedb\\dotnet\\edb_core\\dotnet\\database.py\", line 802, in __init__\n",
      "    EdbDotNet.__init__(self, edbversion=edbversion, student_version=student_version)\n",
      "  File \"C:\\actions-runner\\_work\\pyedb\\pyedb\\.venv\\lib\\site-packages\\pyedb\\dotnet\\edb_core\\dotnet\\database.py\", line 711, in __init__\n",
      "    self._logger.info(\"Python version %s\", sys.version)\n",
      "  File \"C:\\actions-runner\\_work\\pyedb\\pyedb\\.venv\\lib\\site-packages\\pyedb\\edb_logger.py\", line 346, in info\n",
      "    return self._log_on_handler(0, msg, *args, **kwargs)\n",
      "  File \"C:\\actions-runner\\_work\\pyedb\\pyedb\\.venv\\lib\\site-packages\\pyedb\\edb_logger.py\", line 293, in _log_on_handler\n",
      "    self._global.info(message_text, *args, **kwargs)\n",
      "Message: 'Python version %s'\n",
      "Arguments: ('3.10.11 (tags/v3.10.11:7d4cc5a, Apr  5 2023, 00:38:17) [MSC v.1929 64 bit (AMD64)]',)\n"
     ]
    },
    {
     "name": "stdout",
     "output_type": "stream",
     "text": [
      "PyEDB INFO: Database ANSYS-HSD_V1.aedb Opened in 2024.2\n"
     ]
    },
    {
     "name": "stdout",
     "output_type": "stream",
     "text": [
      "PyEDB INFO: Cell main Opened\n"
     ]
    },
    {
     "name": "stderr",
     "output_type": "stream",
     "text": [
      "--- Logging error ---\n",
      "Traceback (most recent call last):\n",
      "  File \"C:\\actions-runner\\_work\\_tool\\Python\\3.10.11\\x64\\lib\\logging\\handlers.py\", line 74, in emit\n",
      "    self.doRollover()\n",
      "  File \"C:\\actions-runner\\_work\\_tool\\Python\\3.10.11\\x64\\lib\\logging\\handlers.py\", line 179, in doRollover\n",
      "    self.rotate(self.baseFilename, dfn)\n",
      "  File \"C:\\actions-runner\\_work\\_tool\\Python\\3.10.11\\x64\\lib\\logging\\handlers.py\", line 115, in rotate\n",
      "    os.rename(source, dest)\n",
      "PermissionError: [WinError 32] The process cannot access the file because it is being used by another process: 'C:\\\\Users\\\\ansys\\\\AppData\\\\Local\\\\Temp\\\\pyedb_ansys.log' -> 'C:\\\\Users\\\\ansys\\\\AppData\\\\Local\\\\Temp\\\\pyedb_ansys.log.1'\n",
      "Call stack:\n",
      "  File \"C:\\actions-runner\\_work\\_tool\\Python\\3.10.11\\x64\\lib\\runpy.py\", line 196, in _run_module_as_main\n",
      "    return _run_code(code, main_globals, None,\n",
      "  File \"C:\\actions-runner\\_work\\_tool\\Python\\3.10.11\\x64\\lib\\runpy.py\", line 86, in _run_code\n",
      "    exec(code, run_globals)\n",
      "  File \"C:\\actions-runner\\_work\\pyedb\\pyedb\\.venv\\lib\\site-packages\\ipykernel_launcher.py\", line 18, in <module>\n",
      "    app.launch_new_instance()\n",
      "  File \"C:\\actions-runner\\_work\\pyedb\\pyedb\\.venv\\lib\\site-packages\\traitlets\\config\\application.py\", line 1075, in launch_instance\n",
      "    app.start()\n",
      "  File \"C:\\actions-runner\\_work\\pyedb\\pyedb\\.venv\\lib\\site-packages\\ipykernel\\kernelapp.py\", line 739, in start\n",
      "    self.io_loop.start()\n",
      "  File \"C:\\actions-runner\\_work\\pyedb\\pyedb\\.venv\\lib\\site-packages\\tornado\\platform\\asyncio.py\", line 205, in start\n",
      "    self.asyncio_loop.run_forever()\n",
      "  File \"C:\\actions-runner\\_work\\_tool\\Python\\3.10.11\\x64\\lib\\asyncio\\base_events.py\", line 603, in run_forever\n",
      "    self._run_once()\n",
      "  File \"C:\\actions-runner\\_work\\_tool\\Python\\3.10.11\\x64\\lib\\asyncio\\base_events.py\", line 1909, in _run_once\n",
      "    handle._run()\n",
      "  File \"C:\\actions-runner\\_work\\_tool\\Python\\3.10.11\\x64\\lib\\asyncio\\events.py\", line 80, in _run\n",
      "    self._context.run(self._callback, *self._args)\n",
      "  File \"C:\\actions-runner\\_work\\pyedb\\pyedb\\.venv\\lib\\site-packages\\ipykernel\\kernelbase.py\", line 545, in dispatch_queue\n",
      "    await self.process_one()\n",
      "  File \"C:\\actions-runner\\_work\\pyedb\\pyedb\\.venv\\lib\\site-packages\\ipykernel\\kernelbase.py\", line 534, in process_one\n",
      "    await dispatch(*args)\n",
      "  File \"C:\\actions-runner\\_work\\pyedb\\pyedb\\.venv\\lib\\site-packages\\ipykernel\\kernelbase.py\", line 437, in dispatch_shell\n",
      "    await result\n",
      "  File \"C:\\actions-runner\\_work\\pyedb\\pyedb\\.venv\\lib\\site-packages\\ipykernel\\ipkernel.py\", line 362, in execute_request\n",
      "    await super().execute_request(stream, ident, parent)\n",
      "  File \"C:\\actions-runner\\_work\\pyedb\\pyedb\\.venv\\lib\\site-packages\\ipykernel\\kernelbase.py\", line 778, in execute_request\n",
      "    reply_content = await reply_content\n",
      "  File \"C:\\actions-runner\\_work\\pyedb\\pyedb\\.venv\\lib\\site-packages\\ipykernel\\ipkernel.py\", line 449, in do_execute\n",
      "    res = shell.run_cell(\n",
      "  File \"C:\\actions-runner\\_work\\pyedb\\pyedb\\.venv\\lib\\site-packages\\ipykernel\\zmqshell.py\", line 549, in run_cell\n",
      "    return super().run_cell(*args, **kwargs)\n",
      "  File \"C:\\actions-runner\\_work\\pyedb\\pyedb\\.venv\\lib\\site-packages\\IPython\\core\\interactiveshell.py\", line 3075, in run_cell\n",
      "    result = self._run_cell(\n",
      "  File \"C:\\actions-runner\\_work\\pyedb\\pyedb\\.venv\\lib\\site-packages\\IPython\\core\\interactiveshell.py\", line 3130, in _run_cell\n",
      "    result = runner(coro)\n",
      "  File \"C:\\actions-runner\\_work\\pyedb\\pyedb\\.venv\\lib\\site-packages\\IPython\\core\\async_helpers.py\", line 128, in _pseudo_sync_runner\n",
      "    coro.send(None)\n",
      "  File \"C:\\actions-runner\\_work\\pyedb\\pyedb\\.venv\\lib\\site-packages\\IPython\\core\\interactiveshell.py\", line 3334, in run_cell_async\n",
      "    has_raised = await self.run_ast_nodes(code_ast.body, cell_name,\n",
      "  File \"C:\\actions-runner\\_work\\pyedb\\pyedb\\.venv\\lib\\site-packages\\IPython\\core\\interactiveshell.py\", line 3517, in run_ast_nodes\n",
      "    if await self.run_code(code, result, async_=asy):\n",
      "  File \"C:\\actions-runner\\_work\\pyedb\\pyedb\\.venv\\lib\\site-packages\\IPython\\core\\interactiveshell.py\", line 3577, in run_code\n",
      "    exec(code_obj, self.user_global_ns, self.user_ns)\n",
      "  File \"C:\\Users\\ansys\\AppData\\Local\\Temp\\ipykernel_4316\\3417584732.py\", line 8, in <module>\n",
      "    edb = pyedb.Edb(edbpath=targetfile, edbversion=edb_version)\n",
      "  File \"C:\\actions-runner\\_work\\pyedb\\pyedb\\.venv\\lib\\site-packages\\pyedb\\generic\\design_types.py\", line 110, in Edb\n",
      "    return app(\n",
      "  File \"C:\\actions-runner\\_work\\pyedb\\pyedb\\.venv\\lib\\site-packages\\pyedb\\dotnet\\edb.py\", line 276, in __init__\n",
      "    self.open_edb()\n",
      "  File \"C:\\actions-runner\\_work\\pyedb\\pyedb\\.venv\\lib\\site-packages\\pyedb\\dotnet\\edb.py\", line 554, in open_edb\n",
      "    self.logger.info(\"Database {} Opened in {}\".format(os.path.split(self.edbpath)[-1], self.edbversion))\n",
      "  File \"C:\\actions-runner\\_work\\pyedb\\pyedb\\.venv\\lib\\site-packages\\pyedb\\edb_logger.py\", line 346, in info\n",
      "    return self._log_on_handler(0, msg, *args, **kwargs)\n",
      "  File \"C:\\actions-runner\\_work\\pyedb\\pyedb\\.venv\\lib\\site-packages\\pyedb\\edb_logger.py\", line 293, in _log_on_handler\n",
      "    self._global.info(message_text, *args, **kwargs)\n",
      "Message: 'Database ANSYS-HSD_V1.aedb Opened in 2024.2'\n",
      "Arguments: ()\n",
      "--- Logging error ---\n",
      "Traceback (most recent call last):\n",
      "  File \"C:\\actions-runner\\_work\\_tool\\Python\\3.10.11\\x64\\lib\\logging\\handlers.py\", line 74, in emit\n",
      "    self.doRollover()\n",
      "  File \"C:\\actions-runner\\_work\\_tool\\Python\\3.10.11\\x64\\lib\\logging\\handlers.py\", line 179, in doRollover\n",
      "    self.rotate(self.baseFilename, dfn)\n",
      "  File \"C:\\actions-runner\\_work\\_tool\\Python\\3.10.11\\x64\\lib\\logging\\handlers.py\", line 115, in rotate\n",
      "    os.rename(source, dest)\n",
      "PermissionError: [WinError 32] The process cannot access the file because it is being used by another process: 'C:\\\\Users\\\\ansys\\\\AppData\\\\Local\\\\Temp\\\\pyedb_ansys.log' -> 'C:\\\\Users\\\\ansys\\\\AppData\\\\Local\\\\Temp\\\\pyedb_ansys.log.1'\n",
      "Call stack:\n",
      "  File \"C:\\actions-runner\\_work\\_tool\\Python\\3.10.11\\x64\\lib\\runpy.py\", line 196, in _run_module_as_main\n",
      "    return _run_code(code, main_globals, None,\n",
      "  File \"C:\\actions-runner\\_work\\_tool\\Python\\3.10.11\\x64\\lib\\runpy.py\", line 86, in _run_code\n",
      "    exec(code, run_globals)\n",
      "  File \"C:\\actions-runner\\_work\\pyedb\\pyedb\\.venv\\lib\\site-packages\\ipykernel_launcher.py\", line 18, in <module>\n",
      "    app.launch_new_instance()\n",
      "  File \"C:\\actions-runner\\_work\\pyedb\\pyedb\\.venv\\lib\\site-packages\\traitlets\\config\\application.py\", line 1075, in launch_instance\n",
      "    app.start()\n",
      "  File \"C:\\actions-runner\\_work\\pyedb\\pyedb\\.venv\\lib\\site-packages\\ipykernel\\kernelapp.py\", line 739, in start\n",
      "    self.io_loop.start()\n",
      "  File \"C:\\actions-runner\\_work\\pyedb\\pyedb\\.venv\\lib\\site-packages\\tornado\\platform\\asyncio.py\", line 205, in start\n",
      "    self.asyncio_loop.run_forever()\n",
      "  File \"C:\\actions-runner\\_work\\_tool\\Python\\3.10.11\\x64\\lib\\asyncio\\base_events.py\", line 603, in run_forever\n",
      "    self._run_once()\n",
      "  File \"C:\\actions-runner\\_work\\_tool\\Python\\3.10.11\\x64\\lib\\asyncio\\base_events.py\", line 1909, in _run_once\n",
      "    handle._run()\n",
      "  File \"C:\\actions-runner\\_work\\_tool\\Python\\3.10.11\\x64\\lib\\asyncio\\events.py\", line 80, in _run\n",
      "    self._context.run(self._callback, *self._args)\n",
      "  File \"C:\\actions-runner\\_work\\pyedb\\pyedb\\.venv\\lib\\site-packages\\ipykernel\\kernelbase.py\", line 545, in dispatch_queue\n",
      "    await self.process_one()\n",
      "  File \"C:\\actions-runner\\_work\\pyedb\\pyedb\\.venv\\lib\\site-packages\\ipykernel\\kernelbase.py\", line 534, in process_one\n",
      "    await dispatch(*args)\n",
      "  File \"C:\\actions-runner\\_work\\pyedb\\pyedb\\.venv\\lib\\site-packages\\ipykernel\\kernelbase.py\", line 437, in dispatch_shell\n",
      "    await result\n",
      "  File \"C:\\actions-runner\\_work\\pyedb\\pyedb\\.venv\\lib\\site-packages\\ipykernel\\ipkernel.py\", line 362, in execute_request\n",
      "    await super().execute_request(stream, ident, parent)\n",
      "  File \"C:\\actions-runner\\_work\\pyedb\\pyedb\\.venv\\lib\\site-packages\\ipykernel\\kernelbase.py\", line 778, in execute_request\n",
      "    reply_content = await reply_content\n",
      "  File \"C:\\actions-runner\\_work\\pyedb\\pyedb\\.venv\\lib\\site-packages\\ipykernel\\ipkernel.py\", line 449, in do_execute\n",
      "    res = shell.run_cell(\n",
      "  File \"C:\\actions-runner\\_work\\pyedb\\pyedb\\.venv\\lib\\site-packages\\ipykernel\\zmqshell.py\", line 549, in run_cell\n",
      "    return super().run_cell(*args, **kwargs)\n",
      "  File \"C:\\actions-runner\\_work\\pyedb\\pyedb\\.venv\\lib\\site-packages\\IPython\\core\\interactiveshell.py\", line 3075, in run_cell\n",
      "    result = self._run_cell(\n",
      "  File \"C:\\actions-runner\\_work\\pyedb\\pyedb\\.venv\\lib\\site-packages\\IPython\\core\\interactiveshell.py\", line 3130, in _run_cell\n",
      "    result = runner(coro)\n",
      "  File \"C:\\actions-runner\\_work\\pyedb\\pyedb\\.venv\\lib\\site-packages\\IPython\\core\\async_helpers.py\", line 128, in _pseudo_sync_runner\n",
      "    coro.send(None)\n",
      "  File \"C:\\actions-runner\\_work\\pyedb\\pyedb\\.venv\\lib\\site-packages\\IPython\\core\\interactiveshell.py\", line 3334, in run_cell_async\n",
      "    has_raised = await self.run_ast_nodes(code_ast.body, cell_name,\n",
      "  File \"C:\\actions-runner\\_work\\pyedb\\pyedb\\.venv\\lib\\site-packages\\IPython\\core\\interactiveshell.py\", line 3517, in run_ast_nodes\n",
      "    if await self.run_code(code, result, async_=asy):\n",
      "  File \"C:\\actions-runner\\_work\\pyedb\\pyedb\\.venv\\lib\\site-packages\\IPython\\core\\interactiveshell.py\", line 3577, in run_code\n",
      "    exec(code_obj, self.user_global_ns, self.user_ns)\n",
      "  File \"C:\\Users\\ansys\\AppData\\Local\\Temp\\ipykernel_4316\\3417584732.py\", line 8, in <module>\n",
      "    edb = pyedb.Edb(edbpath=targetfile, edbversion=edb_version)\n",
      "  File \"C:\\actions-runner\\_work\\pyedb\\pyedb\\.venv\\lib\\site-packages\\pyedb\\generic\\design_types.py\", line 110, in Edb\n",
      "    return app(\n",
      "  File \"C:\\actions-runner\\_work\\pyedb\\pyedb\\.venv\\lib\\site-packages\\pyedb\\dotnet\\edb.py\", line 276, in __init__\n",
      "    self.open_edb()\n",
      "  File \"C:\\actions-runner\\_work\\pyedb\\pyedb\\.venv\\lib\\site-packages\\pyedb\\dotnet\\edb.py\", line 564, in open_edb\n",
      "    self.logger.info(\"Cell %s Opened\", self._active_cell.GetName())\n",
      "  File \"C:\\actions-runner\\_work\\pyedb\\pyedb\\.venv\\lib\\site-packages\\pyedb\\edb_logger.py\", line 346, in info\n",
      "    return self._log_on_handler(0, msg, *args, **kwargs)\n",
      "  File \"C:\\actions-runner\\_work\\pyedb\\pyedb\\.venv\\lib\\site-packages\\pyedb\\edb_logger.py\", line 293, in _log_on_handler\n",
      "    self._global.info(message_text, *args, **kwargs)\n",
      "Message: 'Cell %s Opened'\n",
      "Arguments: ('main',)\n"
     ]
    },
    {
     "name": "stdout",
     "output_type": "stream",
     "text": [
      "PyEDB INFO: Builder was initialized.\n"
     ]
    },
    {
     "name": "stdout",
     "output_type": "stream",
     "text": [
      "PyEDB INFO: EDB initialized.\n"
     ]
    },
    {
     "name": "stderr",
     "output_type": "stream",
     "text": [
      "--- Logging error ---\n",
      "Traceback (most recent call last):\n",
      "  File \"C:\\actions-runner\\_work\\_tool\\Python\\3.10.11\\x64\\lib\\logging\\handlers.py\", line 74, in emit\n",
      "    self.doRollover()\n",
      "  File \"C:\\actions-runner\\_work\\_tool\\Python\\3.10.11\\x64\\lib\\logging\\handlers.py\", line 179, in doRollover\n",
      "    self.rotate(self.baseFilename, dfn)\n",
      "  File \"C:\\actions-runner\\_work\\_tool\\Python\\3.10.11\\x64\\lib\\logging\\handlers.py\", line 115, in rotate\n",
      "    os.rename(source, dest)\n",
      "PermissionError: [WinError 32] The process cannot access the file because it is being used by another process: 'C:\\\\Users\\\\ansys\\\\AppData\\\\Local\\\\Temp\\\\pyedb_ansys.log' -> 'C:\\\\Users\\\\ansys\\\\AppData\\\\Local\\\\Temp\\\\pyedb_ansys.log.1'\n",
      "Call stack:\n",
      "  File \"C:\\actions-runner\\_work\\_tool\\Python\\3.10.11\\x64\\lib\\runpy.py\", line 196, in _run_module_as_main\n",
      "    return _run_code(code, main_globals, None,\n",
      "  File \"C:\\actions-runner\\_work\\_tool\\Python\\3.10.11\\x64\\lib\\runpy.py\", line 86, in _run_code\n",
      "    exec(code, run_globals)\n",
      "  File \"C:\\actions-runner\\_work\\pyedb\\pyedb\\.venv\\lib\\site-packages\\ipykernel_launcher.py\", line 18, in <module>\n",
      "    app.launch_new_instance()\n",
      "  File \"C:\\actions-runner\\_work\\pyedb\\pyedb\\.venv\\lib\\site-packages\\traitlets\\config\\application.py\", line 1075, in launch_instance\n",
      "    app.start()\n",
      "  File \"C:\\actions-runner\\_work\\pyedb\\pyedb\\.venv\\lib\\site-packages\\ipykernel\\kernelapp.py\", line 739, in start\n",
      "    self.io_loop.start()\n",
      "  File \"C:\\actions-runner\\_work\\pyedb\\pyedb\\.venv\\lib\\site-packages\\tornado\\platform\\asyncio.py\", line 205, in start\n",
      "    self.asyncio_loop.run_forever()\n",
      "  File \"C:\\actions-runner\\_work\\_tool\\Python\\3.10.11\\x64\\lib\\asyncio\\base_events.py\", line 603, in run_forever\n",
      "    self._run_once()\n",
      "  File \"C:\\actions-runner\\_work\\_tool\\Python\\3.10.11\\x64\\lib\\asyncio\\base_events.py\", line 1909, in _run_once\n",
      "    handle._run()\n",
      "  File \"C:\\actions-runner\\_work\\_tool\\Python\\3.10.11\\x64\\lib\\asyncio\\events.py\", line 80, in _run\n",
      "    self._context.run(self._callback, *self._args)\n",
      "  File \"C:\\actions-runner\\_work\\pyedb\\pyedb\\.venv\\lib\\site-packages\\ipykernel\\kernelbase.py\", line 545, in dispatch_queue\n",
      "    await self.process_one()\n",
      "  File \"C:\\actions-runner\\_work\\pyedb\\pyedb\\.venv\\lib\\site-packages\\ipykernel\\kernelbase.py\", line 534, in process_one\n",
      "    await dispatch(*args)\n",
      "  File \"C:\\actions-runner\\_work\\pyedb\\pyedb\\.venv\\lib\\site-packages\\ipykernel\\kernelbase.py\", line 437, in dispatch_shell\n",
      "    await result\n",
      "  File \"C:\\actions-runner\\_work\\pyedb\\pyedb\\.venv\\lib\\site-packages\\ipykernel\\ipkernel.py\", line 362, in execute_request\n",
      "    await super().execute_request(stream, ident, parent)\n",
      "  File \"C:\\actions-runner\\_work\\pyedb\\pyedb\\.venv\\lib\\site-packages\\ipykernel\\kernelbase.py\", line 778, in execute_request\n",
      "    reply_content = await reply_content\n",
      "  File \"C:\\actions-runner\\_work\\pyedb\\pyedb\\.venv\\lib\\site-packages\\ipykernel\\ipkernel.py\", line 449, in do_execute\n",
      "    res = shell.run_cell(\n",
      "  File \"C:\\actions-runner\\_work\\pyedb\\pyedb\\.venv\\lib\\site-packages\\ipykernel\\zmqshell.py\", line 549, in run_cell\n",
      "    return super().run_cell(*args, **kwargs)\n",
      "  File \"C:\\actions-runner\\_work\\pyedb\\pyedb\\.venv\\lib\\site-packages\\IPython\\core\\interactiveshell.py\", line 3075, in run_cell\n",
      "    result = self._run_cell(\n",
      "  File \"C:\\actions-runner\\_work\\pyedb\\pyedb\\.venv\\lib\\site-packages\\IPython\\core\\interactiveshell.py\", line 3130, in _run_cell\n",
      "    result = runner(coro)\n",
      "  File \"C:\\actions-runner\\_work\\pyedb\\pyedb\\.venv\\lib\\site-packages\\IPython\\core\\async_helpers.py\", line 128, in _pseudo_sync_runner\n",
      "    coro.send(None)\n",
      "  File \"C:\\actions-runner\\_work\\pyedb\\pyedb\\.venv\\lib\\site-packages\\IPython\\core\\interactiveshell.py\", line 3334, in run_cell_async\n",
      "    has_raised = await self.run_ast_nodes(code_ast.body, cell_name,\n",
      "  File \"C:\\actions-runner\\_work\\pyedb\\pyedb\\.venv\\lib\\site-packages\\IPython\\core\\interactiveshell.py\", line 3517, in run_ast_nodes\n",
      "    if await self.run_code(code, result, async_=asy):\n",
      "  File \"C:\\actions-runner\\_work\\pyedb\\pyedb\\.venv\\lib\\site-packages\\IPython\\core\\interactiveshell.py\", line 3577, in run_code\n",
      "    exec(code_obj, self.user_global_ns, self.user_ns)\n",
      "  File \"C:\\Users\\ansys\\AppData\\Local\\Temp\\ipykernel_4316\\3417584732.py\", line 8, in <module>\n",
      "    edb = pyedb.Edb(edbpath=targetfile, edbversion=edb_version)\n",
      "  File \"C:\\actions-runner\\_work\\pyedb\\pyedb\\.venv\\lib\\site-packages\\pyedb\\generic\\design_types.py\", line 110, in Edb\n",
      "    return app(\n",
      "  File \"C:\\actions-runner\\_work\\pyedb\\pyedb\\.venv\\lib\\site-packages\\pyedb\\dotnet\\edb.py\", line 276, in __init__\n",
      "    self.open_edb()\n",
      "  File \"C:\\actions-runner\\_work\\pyedb\\pyedb\\.venv\\lib\\site-packages\\pyedb\\dotnet\\edb.py\", line 567, in open_edb\n",
      "    self.logger.info(\"Builder was initialized.\")\n",
      "  File \"C:\\actions-runner\\_work\\pyedb\\pyedb\\.venv\\lib\\site-packages\\pyedb\\edb_logger.py\", line 346, in info\n",
      "    return self._log_on_handler(0, msg, *args, **kwargs)\n",
      "  File \"C:\\actions-runner\\_work\\pyedb\\pyedb\\.venv\\lib\\site-packages\\pyedb\\edb_logger.py\", line 293, in _log_on_handler\n",
      "    self._global.info(message_text, *args, **kwargs)\n",
      "Message: 'Builder was initialized.'\n",
      "Arguments: ()\n",
      "--- Logging error ---\n",
      "Traceback (most recent call last):\n",
      "  File \"C:\\actions-runner\\_work\\_tool\\Python\\3.10.11\\x64\\lib\\logging\\handlers.py\", line 74, in emit\n",
      "    self.doRollover()\n",
      "  File \"C:\\actions-runner\\_work\\_tool\\Python\\3.10.11\\x64\\lib\\logging\\handlers.py\", line 179, in doRollover\n",
      "    self.rotate(self.baseFilename, dfn)\n",
      "  File \"C:\\actions-runner\\_work\\_tool\\Python\\3.10.11\\x64\\lib\\logging\\handlers.py\", line 115, in rotate\n",
      "    os.rename(source, dest)\n",
      "PermissionError: [WinError 32] The process cannot access the file because it is being used by another process: 'C:\\\\Users\\\\ansys\\\\AppData\\\\Local\\\\Temp\\\\pyedb_ansys.log' -> 'C:\\\\Users\\\\ansys\\\\AppData\\\\Local\\\\Temp\\\\pyedb_ansys.log.1'\n",
      "Call stack:\n",
      "  File \"C:\\actions-runner\\_work\\_tool\\Python\\3.10.11\\x64\\lib\\runpy.py\", line 196, in _run_module_as_main\n",
      "    return _run_code(code, main_globals, None,\n",
      "  File \"C:\\actions-runner\\_work\\_tool\\Python\\3.10.11\\x64\\lib\\runpy.py\", line 86, in _run_code\n",
      "    exec(code, run_globals)\n",
      "  File \"C:\\actions-runner\\_work\\pyedb\\pyedb\\.venv\\lib\\site-packages\\ipykernel_launcher.py\", line 18, in <module>\n",
      "    app.launch_new_instance()\n",
      "  File \"C:\\actions-runner\\_work\\pyedb\\pyedb\\.venv\\lib\\site-packages\\traitlets\\config\\application.py\", line 1075, in launch_instance\n",
      "    app.start()\n",
      "  File \"C:\\actions-runner\\_work\\pyedb\\pyedb\\.venv\\lib\\site-packages\\ipykernel\\kernelapp.py\", line 739, in start\n",
      "    self.io_loop.start()\n",
      "  File \"C:\\actions-runner\\_work\\pyedb\\pyedb\\.venv\\lib\\site-packages\\tornado\\platform\\asyncio.py\", line 205, in start\n",
      "    self.asyncio_loop.run_forever()\n",
      "  File \"C:\\actions-runner\\_work\\_tool\\Python\\3.10.11\\x64\\lib\\asyncio\\base_events.py\", line 603, in run_forever\n",
      "    self._run_once()\n",
      "  File \"C:\\actions-runner\\_work\\_tool\\Python\\3.10.11\\x64\\lib\\asyncio\\base_events.py\", line 1909, in _run_once\n",
      "    handle._run()\n",
      "  File \"C:\\actions-runner\\_work\\_tool\\Python\\3.10.11\\x64\\lib\\asyncio\\events.py\", line 80, in _run\n",
      "    self._context.run(self._callback, *self._args)\n",
      "  File \"C:\\actions-runner\\_work\\pyedb\\pyedb\\.venv\\lib\\site-packages\\ipykernel\\kernelbase.py\", line 545, in dispatch_queue\n",
      "    await self.process_one()\n",
      "  File \"C:\\actions-runner\\_work\\pyedb\\pyedb\\.venv\\lib\\site-packages\\ipykernel\\kernelbase.py\", line 534, in process_one\n",
      "    await dispatch(*args)\n",
      "  File \"C:\\actions-runner\\_work\\pyedb\\pyedb\\.venv\\lib\\site-packages\\ipykernel\\kernelbase.py\", line 437, in dispatch_shell\n",
      "    await result\n",
      "  File \"C:\\actions-runner\\_work\\pyedb\\pyedb\\.venv\\lib\\site-packages\\ipykernel\\ipkernel.py\", line 362, in execute_request\n",
      "    await super().execute_request(stream, ident, parent)\n",
      "  File \"C:\\actions-runner\\_work\\pyedb\\pyedb\\.venv\\lib\\site-packages\\ipykernel\\kernelbase.py\", line 778, in execute_request\n",
      "    reply_content = await reply_content\n",
      "  File \"C:\\actions-runner\\_work\\pyedb\\pyedb\\.venv\\lib\\site-packages\\ipykernel\\ipkernel.py\", line 449, in do_execute\n",
      "    res = shell.run_cell(\n",
      "  File \"C:\\actions-runner\\_work\\pyedb\\pyedb\\.venv\\lib\\site-packages\\ipykernel\\zmqshell.py\", line 549, in run_cell\n",
      "    return super().run_cell(*args, **kwargs)\n",
      "  File \"C:\\actions-runner\\_work\\pyedb\\pyedb\\.venv\\lib\\site-packages\\IPython\\core\\interactiveshell.py\", line 3075, in run_cell\n",
      "    result = self._run_cell(\n",
      "  File \"C:\\actions-runner\\_work\\pyedb\\pyedb\\.venv\\lib\\site-packages\\IPython\\core\\interactiveshell.py\", line 3130, in _run_cell\n",
      "    result = runner(coro)\n",
      "  File \"C:\\actions-runner\\_work\\pyedb\\pyedb\\.venv\\lib\\site-packages\\IPython\\core\\async_helpers.py\", line 128, in _pseudo_sync_runner\n",
      "    coro.send(None)\n",
      "  File \"C:\\actions-runner\\_work\\pyedb\\pyedb\\.venv\\lib\\site-packages\\IPython\\core\\interactiveshell.py\", line 3334, in run_cell_async\n",
      "    has_raised = await self.run_ast_nodes(code_ast.body, cell_name,\n",
      "  File \"C:\\actions-runner\\_work\\pyedb\\pyedb\\.venv\\lib\\site-packages\\IPython\\core\\interactiveshell.py\", line 3517, in run_ast_nodes\n",
      "    if await self.run_code(code, result, async_=asy):\n",
      "  File \"C:\\actions-runner\\_work\\pyedb\\pyedb\\.venv\\lib\\site-packages\\IPython\\core\\interactiveshell.py\", line 3577, in run_code\n",
      "    exec(code_obj, self.user_global_ns, self.user_ns)\n",
      "  File \"C:\\Users\\ansys\\AppData\\Local\\Temp\\ipykernel_4316\\3417584732.py\", line 8, in <module>\n",
      "    edb = pyedb.Edb(edbpath=targetfile, edbversion=edb_version)\n",
      "  File \"C:\\actions-runner\\_work\\pyedb\\pyedb\\.venv\\lib\\site-packages\\pyedb\\generic\\design_types.py\", line 110, in Edb\n",
      "    return app(\n",
      "  File \"C:\\actions-runner\\_work\\pyedb\\pyedb\\.venv\\lib\\site-packages\\pyedb\\dotnet\\edb.py\", line 278, in __init__\n",
      "    self.logger.info(\"EDB initialized.\")\n",
      "  File \"C:\\actions-runner\\_work\\pyedb\\pyedb\\.venv\\lib\\site-packages\\pyedb\\edb_logger.py\", line 346, in info\n",
      "    return self._log_on_handler(0, msg, *args, **kwargs)\n",
      "  File \"C:\\actions-runner\\_work\\pyedb\\pyedb\\.venv\\lib\\site-packages\\pyedb\\edb_logger.py\", line 293, in _log_on_handler\n",
      "    self._global.info(message_text, *args, **kwargs)\n",
      "Message: 'EDB initialized.'\n",
      "Arguments: ()\n"
     ]
    }
   ],
   "source": [
    "if os.path.exists(aedt_file):\n",
    "    os.remove(aedt_file)\n",
    "\n",
    "# Select EDB version (change it manually if needed, e.g. \"2024.2\")\n",
    "edb_version = \"2024.2\"\n",
    "print(f\"EDB version: {edb_version}\")\n",
    "\n",
    "edb = pyedb.Edb(edbpath=targetfile, edbversion=edb_version)"
   ]
  },
  {
   "cell_type": "markdown",
   "id": "b3105211",
   "metadata": {},
   "source": [
    "## Identify nets and components\n",
    "\n",
    "The ``Edb.nets.netlist`` and ``Edb.components.instances`` properties contain information\n",
    "about all of the nets and components. The following cell uses this information to print the\n",
    "number of nets and components."
   ]
  },
  {
   "cell_type": "code",
   "execution_count": 3,
   "id": "f710e0a0",
   "metadata": {
    "execution": {
     "iopub.execute_input": "2024-09-17T08:06:03.319593Z",
     "iopub.status.busy": "2024-09-17T08:06:03.319593Z",
     "iopub.status.idle": "2024-09-17T08:06:03.350910Z",
     "shell.execute_reply": "2024-09-17T08:06:03.350910Z"
    }
   },
   "outputs": [
    {
     "name": "stdout",
     "output_type": "stream",
     "text": [
      "Nets 348\n",
      "Components 509\n",
      "elapsed time =  0.0\n"
     ]
    }
   ],
   "source": [
    "print(\"Nets {}\".format(len(edb.nets.netlist)))\n",
    "start = time.time()\n",
    "print(\"Components {}\".format(len(edb.components.instances.keys())))\n",
    "print(\"elapsed time = \", time.time() - start)"
   ]
  },
  {
   "cell_type": "markdown",
   "id": "c21bc971",
   "metadata": {},
   "source": [
    "## Identify pin positions\n",
    "\n",
    "This code shows how to obtain all pins for a specific component and\n",
    "print the ``[x, y]`` position of each pin."
   ]
  },
  {
   "cell_type": "code",
   "execution_count": 4,
   "id": "29acd0d8",
   "metadata": {
    "execution": {
     "iopub.execute_input": "2024-09-17T08:06:03.350910Z",
     "iopub.status.busy": "2024-09-17T08:06:03.350910Z",
     "iopub.status.idle": "2024-09-17T08:06:03.475847Z",
     "shell.execute_reply": "2024-09-17T08:06:03.475847Z"
    }
   },
   "outputs": [
    {
     "name": "stdout",
     "output_type": "stream",
     "text": [
      "[0.13149999608000001, 0.018999997560000016]\n",
      "[0.13099999708, 0.018999997560000016]\n",
      "[0.13049999808, 0.018999997560000013]\n",
      "[0.12999999654000002, 0.01899999756000001]\n",
      "[0.12949999754000002, 0.01899999756000001]\n",
      "[0.12899999854000002, 0.01899999756000001]\n",
      "[0.12849999700000003, 0.018999997560000006]\n",
      "[0.12799999800000003, 0.018999997560000002]\n",
      "[0.12749999646000001, 0.018999997560000002]\n",
      "[0.12699999746, 0.018999997560000002]\n",
      "...and many more.\n"
     ]
    }
   ],
   "source": [
    "pins = edb.components[\"U2\"].pins\n",
    "count = 0\n",
    "for pin in edb.components[\"U2\"].pins.values():\n",
    "    if count < 10:  # Only print the first 10 pin coordinates.\n",
    "        print(pin.position)\n",
    "    elif count == 10:\n",
    "        print(\"...and many more.\")\n",
    "    else:\n",
    "        pass\n",
    "    count += 1"
   ]
  },
  {
   "cell_type": "markdown",
   "id": "29d4df58",
   "metadata": {},
   "source": [
    "Get all nets connected to a specific component. Print\n",
    "the pin and the name of the net that it is connected to."
   ]
  },
  {
   "cell_type": "code",
   "execution_count": 5,
   "id": "c1822187",
   "metadata": {
    "execution": {
     "iopub.execute_input": "2024-09-17T08:06:03.475847Z",
     "iopub.status.busy": "2024-09-17T08:06:03.475847Z",
     "iopub.status.idle": "2024-09-17T08:06:03.507165Z",
     "shell.execute_reply": "2024-09-17T08:06:03.507165Z"
    }
   },
   "outputs": [
    {
     "name": "stdout",
     "output_type": "stream",
     "text": [
      "U2, pin 20 -> net \"1V0\"\n",
      "U2, pin 21 -> net \"1V0\"\n",
      "U2, pin 22 -> net \"1V0\"\n",
      "U2, pin 23 -> net \"1V0\"\n",
      "U2, pin 24 -> net \"1V0\"\n",
      "U2, pin 25 -> net \"1V0\"\n",
      "U2, pin 26 -> net \"1V0\"\n",
      "U2, pin 27 -> net \"1V0\"\n",
      "U2, pin 28 -> net \"1V0\"\n",
      "U2, pin 32 -> net \"GND\"\n",
      "U2, pin 33 -> net \"GND\"\n",
      "U2, pin 34 -> net \"GND\"\n",
      "U2, pin 35 -> net \"GND\"\n",
      "U2, pin 36 -> net \"GND\"\n",
      "U2, pin 37 -> net \"GND\"\n",
      "...and many more.\n"
     ]
    }
   ],
   "source": [
    "connections = edb.components.get_component_net_connection_info(\"U2\")\n",
    "n_print = 0  # Counter to limit the number of printed lines.\n",
    "print_max = 15\n",
    "for m in range(len(connections[\"pin_name\"])):\n",
    "    ref_des = connections[\"refdes\"][m]\n",
    "    pin_name = connections[\"pin_name\"][m]\n",
    "    net_name = connections[\"net_name\"][m]\n",
    "    if net_name != \"\" and (n_print < print_max):\n",
    "        print('{}, pin {} -> net \"{}\"'.format(ref_des, pin_name, net_name))\n",
    "        n_print += 1\n",
    "    elif n_print == print_max:\n",
    "        print(\"...and many more.\")\n",
    "        n_print += 1"
   ]
  },
  {
   "cell_type": "markdown",
   "id": "e9fbf52a",
   "metadata": {},
   "source": [
    "Compute rats."
   ]
  },
  {
   "cell_type": "code",
   "execution_count": 6,
   "id": "043ad97b",
   "metadata": {
    "execution": {
     "iopub.execute_input": "2024-09-17T08:06:03.507165Z",
     "iopub.status.busy": "2024-09-17T08:06:03.507165Z",
     "iopub.status.idle": "2024-09-17T08:06:04.022788Z",
     "shell.execute_reply": "2024-09-17T08:06:04.022788Z"
    }
   },
   "outputs": [],
   "source": [
    "rats = edb.components.get_rats()"
   ]
  },
  {
   "cell_type": "markdown",
   "id": "614be412",
   "metadata": {},
   "source": [
    "## Identify connected nets\n",
    "\n",
    "The ``get_dcconnected_net_list()`` method retrieves a list of\n",
    "all DC-connected power nets. Each group of connected nets is returned\n",
    "as a [set](https://docs.python.org/3/tutorial/datastructures.html#sets).\n",
    "The first argument to the method is the list of ground nets, which are\n",
    "not considered in the search for connected nets."
   ]
  },
  {
   "cell_type": "code",
   "execution_count": 7,
   "id": "7d6c878b",
   "metadata": {
    "execution": {
     "iopub.execute_input": "2024-09-17T08:06:04.022788Z",
     "iopub.status.busy": "2024-09-17T08:06:04.022788Z",
     "iopub.status.idle": "2024-09-17T08:06:04.100988Z",
     "shell.execute_reply": "2024-09-17T08:06:04.100988Z"
    }
   },
   "outputs": [
    {
     "name": "stdout",
     "output_type": "stream",
     "text": [
      "{'AVCC_1V3', 'NetD3_2'}\n",
      "{'1.8V_DVDDH', 'NetC271_1', '2V5'}\n",
      "{'1.2V_DVDDL', '1.2V_AVDLL_PLL', '1.2V_AVDDL'}\n",
      "{'3.3V_AVDDH', 'USB3_VBUS', 'SFPA_VCCR', 'PDEN', '5V', 'NetIC1_8', 'SFPA_VCCT'}\n",
      "{'VDD_DDR', 'NetR22_1'}\n",
      "{'NetR8_1', '1V0'}\n"
     ]
    }
   ],
   "source": [
    "GROUND_NETS = [\"GND\", \"GND_DP\"]\n",
    "dc_connected_net_list = edb.nets.get_dcconnected_net_list(GROUND_NETS)\n",
    "for pnets in dc_connected_net_list:\n",
    "    print(pnets)"
   ]
  },
  {
   "cell_type": "markdown",
   "id": "58b272cf",
   "metadata": {},
   "source": [
    "## Power Tree\n",
    "\n",
    "The power tree provides connectivity through all components from the VRM to\n",
    "the device."
   ]
  },
  {
   "cell_type": "code",
   "execution_count": 8,
   "id": "a4a88b5a",
   "metadata": {
    "execution": {
     "iopub.execute_input": "2024-09-17T08:06:04.100988Z",
     "iopub.status.busy": "2024-09-17T08:06:04.100988Z",
     "iopub.status.idle": "2024-09-17T08:06:08.773191Z",
     "shell.execute_reply": "2024-09-17T08:06:08.773191Z"
    }
   },
   "outputs": [],
   "source": [
    "VRM = \"U1\"\n",
    "OUTPUT_NET = \"AVCC_1V3\"\n",
    "powertree_df, component_list_columns, net_group = edb.nets.get_powertree(OUTPUT_NET, GROUND_NETS)"
   ]
  },
  {
   "cell_type": "markdown",
   "id": "5af98505",
   "metadata": {},
   "source": [
    "Print some information about the power tree."
   ]
  },
  {
   "cell_type": "code",
   "execution_count": 9,
   "id": "60cfe912",
   "metadata": {
    "execution": {
     "iopub.execute_input": "2024-09-17T08:06:08.773191Z",
     "iopub.status.busy": "2024-09-17T08:06:08.773191Z",
     "iopub.status.idle": "2024-09-17T08:06:08.788816Z",
     "shell.execute_reply": "2024-09-17T08:06:08.788816Z"
    }
   },
   "outputs": [],
   "source": [
    "print_columns = [\"refdes\", \"pin_name\", \"component_partname\"]\n",
    "ncol = [component_list_columns.index(c) for c in print_columns]"
   ]
  },
  {
   "cell_type": "markdown",
   "id": "ca2f197d",
   "metadata": {},
   "source": [
    "This prints the header. Replace \"pin_name\" with \"pin\" to\n",
    "make the header align with the values."
   ]
  },
  {
   "cell_type": "code",
   "execution_count": 10,
   "id": "8ea07011",
   "metadata": {
    "execution": {
     "iopub.execute_input": "2024-09-17T08:06:08.788816Z",
     "iopub.status.busy": "2024-09-17T08:06:08.788816Z",
     "iopub.status.idle": "2024-09-17T08:06:08.804445Z",
     "shell.execute_reply": "2024-09-17T08:06:08.804445Z"
    }
   },
   "outputs": [
    {
     "name": "stdout",
     "output_type": "stream",
     "text": [
      "refdes\tpin\tcomponent_partname\n",
      "R1\t1\tRESC1608X05N\t\n",
      "L10\t2\tWE-Coil-PD4-S\t\n",
      "C46\t1\tCAPMP7343X31N\t\n",
      "C53\t2\tCAPC1005X33X10LL5\t\n",
      "C68\t2\tCAPC1005X33X10LL5\t\n",
      "C52\t2\tCAPC1005X33X10LL5\t\n",
      "C45\t1\tCAPC1608X08N\t\n",
      "C55\t2\tCAPC1005X33X10LL5\t\n",
      "C58\t2\tCAPC1005X33X10LL5\t\n",
      "C54\t2\tCAPC1005X33X10LL5\t\n",
      "C60\t2\tCAPC1005X33X10LL5\t\n",
      "C57\t2\tCAPC1005X33X10LL5\t\n",
      "C73\t2\tCAPC1005X33X10LL5\t\n",
      "C69\t2\tCAPC1005X33X10LL5\t\n",
      "C56\t2\tCAPC1005X33X10LL5\t\n",
      "C205\t2\tCAPC1005X33X10LL5\t\n",
      "C238\t2\tCAPC1005X33X10LL5\t\n",
      "C145\t2\tCAPC0603X33X15LL03T05\t\n",
      "C144\t2\tCAPC0603X33X15LL03T05\t\n",
      "C143\t2\tCAPC0603X33X15LL03T05\t\n",
      "C142\t2\tCAPC0603X33X15LL03T05\t\n",
      "C141\t2\tCAPC0603X33X15LL03T05\t\n",
      "C140\t2\tCAPC0603X33X15LL03T05\t\n",
      "C139\t2\tCAPC0603X33X15LL03T05\t\n",
      "C138\t2\tCAPC0603X33X15LL03T05\t\n",
      "C137\t2\tCAPC0603X33X15LL03T05\t\n",
      "C136\t2\tCAPC0603X33X15LL03T05\t\n",
      "C135\t2\tCAPC0603X33X15LL03T05\t\n",
      "C134\t2\tCAPC0603X33X15LL03T05\t\n",
      "C133\t2\tCAPC0603X33X15LL03T05\t\n",
      "C132\t2\tCAPC0603X33X15LL03T05\t\n",
      "C131\t2\tCAPC0603X33X15LL03T05\t\n",
      "C130\t2\tCAPC0603X33X15LL03T05\t\n",
      "C129\t2\tCAPC0603X33X15LL03T05\t\n",
      "C128\t2\tCAPC0603X33X15LL03T05\t\n",
      "U1\tD28\tALTR-FBGA1517-Ansys\t\n",
      "U1\tD29\tALTR-FBGA1517-Ansys\t\n",
      "U1\tF28\tALTR-FBGA1517-Ansys\t\n",
      "U1\tF29\tALTR-FBGA1517-Ansys\t\n",
      "U1\tH28\tALTR-FBGA1517-Ansys\t\n",
      "U1\tH29\tALTR-FBGA1517-Ansys\t\n",
      "U1\tK28\tALTR-FBGA1517-Ansys\t\n",
      "U1\tK29\tALTR-FBGA1517-Ansys\t\n",
      "U1\tM15\tALTR-FBGA1517-Ansys\t\n",
      "U1\tM28\tALTR-FBGA1517-Ansys\t\n",
      "U1\tM29\tALTR-FBGA1517-Ansys\t\n",
      "U1\tP13\tALTR-FBGA1517-Ansys\t\n",
      "U1\tP22\tALTR-FBGA1517-Ansys\t\n",
      "U1\tP24\tALTR-FBGA1517-Ansys\t\n",
      "U1\tP28\tALTR-FBGA1517-Ansys\t\n",
      "U1\tP29\tALTR-FBGA1517-Ansys\t\n",
      "U1\tT10\tALTR-FBGA1517-Ansys\t\n",
      "U1\tT28\tALTR-FBGA1517-Ansys\t\n",
      "U1\tT29\tALTR-FBGA1517-Ansys\t\n",
      "U1\tV28\tALTR-FBGA1517-Ansys\t\n",
      "U1\tV29\tALTR-FBGA1517-Ansys\t\n",
      "U1\tW11\tALTR-FBGA1517-Ansys\t\n",
      "U1\tW18\tALTR-FBGA1517-Ansys\t\n",
      "U1\tW19\tALTR-FBGA1517-Ansys\t\n",
      "U1\tY11\tALTR-FBGA1517-Ansys\t\n",
      "U1\tY28\tALTR-FBGA1517-Ansys\t\n",
      "U1\tY29\tALTR-FBGA1517-Ansys\t\n",
      "U1\tAB28\tALTR-FBGA1517-Ansys\t\n",
      "U1\tAB29\tALTR-FBGA1517-Ansys\t\n",
      "U1\tAD11\tALTR-FBGA1517-Ansys\t\n",
      "U1\tAD28\tALTR-FBGA1517-Ansys\t\n",
      "U1\tAD29\tALTR-FBGA1517-Ansys\t\n",
      "U1\tAE23\tALTR-FBGA1517-Ansys\t\n",
      "U1\tAF13\tALTR-FBGA1517-Ansys\t\n",
      "U1\tAF23\tALTR-FBGA1517-Ansys\t\n",
      "U1\tAF28\tALTR-FBGA1517-Ansys\t\n",
      "U1\tAF29\tALTR-FBGA1517-Ansys\t\n",
      "U1\tAG19\tALTR-FBGA1517-Ansys\t\n",
      "U1\tAH16\tALTR-FBGA1517-Ansys\t\n",
      "U1\tAH28\tALTR-FBGA1517-Ansys\t\n",
      "U1\tAH29\tALTR-FBGA1517-Ansys\t\n",
      "U1\tAK28\tALTR-FBGA1517-Ansys\t\n",
      "U1\tAK29\tALTR-FBGA1517-Ansys\t\n",
      "U1\tAM28\tALTR-FBGA1517-Ansys\t\n",
      "U1\tAM29\tALTR-FBGA1517-Ansys\t\n",
      "U1\tAP28\tALTR-FBGA1517-Ansys\t\n",
      "U1\tAP29\tALTR-FBGA1517-Ansys\t\n",
      "L10\t1\tWE-Coil-PD4-S\t\n",
      "IC2\t1\tSOIC127P-680x175-8_N\t\n",
      "D3\t2\tDO214AA\t\n"
     ]
    }
   ],
   "source": [
    "print(\"\\t\".join(print_columns).replace(\"pin_name\", \"pin\"))\n",
    "\n",
    "for el in powertree_df:\n",
    "    s = \"\"\n",
    "    count = 0\n",
    "    for e in el:\n",
    "        if count in ncol:\n",
    "            s += \"{}\\t\".format(e)\n",
    "        count += 1\n",
    "    s.rstrip()\n",
    "    print(s)"
   ]
  },
  {
   "cell_type": "markdown",
   "id": "964c0922",
   "metadata": {},
   "source": [
    "## Remove unused components\n",
    "\n",
    "Delete all RLC components that are connected with only one pin.\n",
    "The ``Edb.components.delete_single_pin_rlc()`` method\n",
    "provides a useful way to\n",
    "remove components that are not needed for the simulation."
   ]
  },
  {
   "cell_type": "code",
   "execution_count": 11,
   "id": "1d86b61d",
   "metadata": {
    "execution": {
     "iopub.execute_input": "2024-09-17T08:06:08.804445Z",
     "iopub.status.busy": "2024-09-17T08:06:08.804445Z",
     "iopub.status.idle": "2024-09-17T08:06:08.851320Z",
     "shell.execute_reply": "2024-09-17T08:06:08.851320Z"
    }
   },
   "outputs": [
    {
     "name": "stdout",
     "output_type": "stream",
     "text": [
      "PyEDB INFO: Deleted 0 components\n"
     ]
    },
    {
     "name": "stderr",
     "output_type": "stream",
     "text": [
      "--- Logging error ---\n",
      "Traceback (most recent call last):\n",
      "  File \"C:\\actions-runner\\_work\\_tool\\Python\\3.10.11\\x64\\lib\\logging\\handlers.py\", line 74, in emit\n",
      "    self.doRollover()\n",
      "  File \"C:\\actions-runner\\_work\\_tool\\Python\\3.10.11\\x64\\lib\\logging\\handlers.py\", line 179, in doRollover\n",
      "    self.rotate(self.baseFilename, dfn)\n",
      "  File \"C:\\actions-runner\\_work\\_tool\\Python\\3.10.11\\x64\\lib\\logging\\handlers.py\", line 115, in rotate\n",
      "    os.rename(source, dest)\n",
      "PermissionError: [WinError 32] The process cannot access the file because it is being used by another process: 'C:\\\\Users\\\\ansys\\\\AppData\\\\Local\\\\Temp\\\\pyedb_ansys.log' -> 'C:\\\\Users\\\\ansys\\\\AppData\\\\Local\\\\Temp\\\\pyedb_ansys.log.1'\n",
      "Call stack:\n",
      "  File \"C:\\actions-runner\\_work\\_tool\\Python\\3.10.11\\x64\\lib\\runpy.py\", line 196, in _run_module_as_main\n",
      "    return _run_code(code, main_globals, None,\n",
      "  File \"C:\\actions-runner\\_work\\_tool\\Python\\3.10.11\\x64\\lib\\runpy.py\", line 86, in _run_code\n",
      "    exec(code, run_globals)\n",
      "  File \"C:\\actions-runner\\_work\\pyedb\\pyedb\\.venv\\lib\\site-packages\\ipykernel_launcher.py\", line 18, in <module>\n",
      "    app.launch_new_instance()\n",
      "  File \"C:\\actions-runner\\_work\\pyedb\\pyedb\\.venv\\lib\\site-packages\\traitlets\\config\\application.py\", line 1075, in launch_instance\n",
      "    app.start()\n",
      "  File \"C:\\actions-runner\\_work\\pyedb\\pyedb\\.venv\\lib\\site-packages\\ipykernel\\kernelapp.py\", line 739, in start\n",
      "    self.io_loop.start()\n",
      "  File \"C:\\actions-runner\\_work\\pyedb\\pyedb\\.venv\\lib\\site-packages\\tornado\\platform\\asyncio.py\", line 205, in start\n",
      "    self.asyncio_loop.run_forever()\n",
      "  File \"C:\\actions-runner\\_work\\_tool\\Python\\3.10.11\\x64\\lib\\asyncio\\base_events.py\", line 603, in run_forever\n",
      "    self._run_once()\n",
      "  File \"C:\\actions-runner\\_work\\_tool\\Python\\3.10.11\\x64\\lib\\asyncio\\base_events.py\", line 1909, in _run_once\n",
      "    handle._run()\n",
      "  File \"C:\\actions-runner\\_work\\_tool\\Python\\3.10.11\\x64\\lib\\asyncio\\events.py\", line 80, in _run\n",
      "    self._context.run(self._callback, *self._args)\n",
      "  File \"C:\\actions-runner\\_work\\pyedb\\pyedb\\.venv\\lib\\site-packages\\ipykernel\\kernelbase.py\", line 545, in dispatch_queue\n",
      "    await self.process_one()\n",
      "  File \"C:\\actions-runner\\_work\\pyedb\\pyedb\\.venv\\lib\\site-packages\\ipykernel\\kernelbase.py\", line 534, in process_one\n",
      "    await dispatch(*args)\n",
      "  File \"C:\\actions-runner\\_work\\pyedb\\pyedb\\.venv\\lib\\site-packages\\ipykernel\\kernelbase.py\", line 437, in dispatch_shell\n",
      "    await result\n",
      "  File \"C:\\actions-runner\\_work\\pyedb\\pyedb\\.venv\\lib\\site-packages\\ipykernel\\ipkernel.py\", line 362, in execute_request\n",
      "    await super().execute_request(stream, ident, parent)\n",
      "  File \"C:\\actions-runner\\_work\\pyedb\\pyedb\\.venv\\lib\\site-packages\\ipykernel\\kernelbase.py\", line 778, in execute_request\n",
      "    reply_content = await reply_content\n",
      "  File \"C:\\actions-runner\\_work\\pyedb\\pyedb\\.venv\\lib\\site-packages\\ipykernel\\ipkernel.py\", line 449, in do_execute\n",
      "    res = shell.run_cell(\n",
      "  File \"C:\\actions-runner\\_work\\pyedb\\pyedb\\.venv\\lib\\site-packages\\ipykernel\\zmqshell.py\", line 549, in run_cell\n",
      "    return super().run_cell(*args, **kwargs)\n",
      "  File \"C:\\actions-runner\\_work\\pyedb\\pyedb\\.venv\\lib\\site-packages\\IPython\\core\\interactiveshell.py\", line 3075, in run_cell\n",
      "    result = self._run_cell(\n",
      "  File \"C:\\actions-runner\\_work\\pyedb\\pyedb\\.venv\\lib\\site-packages\\IPython\\core\\interactiveshell.py\", line 3130, in _run_cell\n",
      "    result = runner(coro)\n",
      "  File \"C:\\actions-runner\\_work\\pyedb\\pyedb\\.venv\\lib\\site-packages\\IPython\\core\\async_helpers.py\", line 128, in _pseudo_sync_runner\n",
      "    coro.send(None)\n",
      "  File \"C:\\actions-runner\\_work\\pyedb\\pyedb\\.venv\\lib\\site-packages\\IPython\\core\\interactiveshell.py\", line 3334, in run_cell_async\n",
      "    has_raised = await self.run_ast_nodes(code_ast.body, cell_name,\n",
      "  File \"C:\\actions-runner\\_work\\pyedb\\pyedb\\.venv\\lib\\site-packages\\IPython\\core\\interactiveshell.py\", line 3517, in run_ast_nodes\n",
      "    if await self.run_code(code, result, async_=asy):\n",
      "  File \"C:\\actions-runner\\_work\\pyedb\\pyedb\\.venv\\lib\\site-packages\\IPython\\core\\interactiveshell.py\", line 3577, in run_code\n",
      "    exec(code_obj, self.user_global_ns, self.user_ns)\n",
      "  File \"C:\\Users\\ansys\\AppData\\Local\\Temp\\ipykernel_4316\\621440271.py\", line 1, in <module>\n",
      "    edb.components.delete_single_pin_rlc()\n",
      "  File \"C:\\actions-runner\\_work\\pyedb\\pyedb\\.venv\\lib\\site-packages\\pyedb\\dotnet\\edb_core\\components.py\", line 1926, in delete_single_pin_rlc\n",
      "    self._pedb._logger.info(\"Deleted {} components\".format(len(deleted_comps)))\n",
      "  File \"C:\\actions-runner\\_work\\pyedb\\pyedb\\.venv\\lib\\site-packages\\pyedb\\edb_logger.py\", line 346, in info\n",
      "    return self._log_on_handler(0, msg, *args, **kwargs)\n",
      "  File \"C:\\actions-runner\\_work\\pyedb\\pyedb\\.venv\\lib\\site-packages\\pyedb\\edb_logger.py\", line 293, in _log_on_handler\n",
      "    self._global.info(message_text, *args, **kwargs)\n",
      "Message: 'Deleted 0 components'\n",
      "Arguments: ()\n"
     ]
    },
    {
     "data": {
      "text/plain": [
       "[]"
      ]
     },
     "execution_count": 11,
     "metadata": {},
     "output_type": "execute_result"
    }
   ],
   "source": [
    "edb.components.delete_single_pin_rlc()"
   ]
  },
  {
   "cell_type": "markdown",
   "id": "d20b4b8f",
   "metadata": {},
   "source": [
    "You can also remove unused components explicitly by name."
   ]
  },
  {
   "cell_type": "code",
   "execution_count": 12,
   "id": "0fef0510",
   "metadata": {
    "execution": {
     "iopub.execute_input": "2024-09-17T08:06:08.851320Z",
     "iopub.status.busy": "2024-09-17T08:06:08.851320Z",
     "iopub.status.idle": "2024-09-17T08:06:08.866946Z",
     "shell.execute_reply": "2024-09-17T08:06:08.866946Z"
    }
   },
   "outputs": [
    {
     "data": {
      "text/plain": [
       "True"
      ]
     },
     "execution_count": 12,
     "metadata": {},
     "output_type": "execute_result"
    }
   ],
   "source": [
    "edb.components.delete(\"C380\")"
   ]
  },
  {
   "cell_type": "markdown",
   "id": "5c2093b8",
   "metadata": {},
   "source": [
    "Nets can also be removed explicitly."
   ]
  },
  {
   "cell_type": "code",
   "execution_count": 13,
   "id": "6ac20058",
   "metadata": {
    "execution": {
     "iopub.execute_input": "2024-09-17T08:06:08.866946Z",
     "iopub.status.busy": "2024-09-17T08:06:08.866946Z",
     "iopub.status.idle": "2024-09-17T08:06:12.711176Z",
     "shell.execute_reply": "2024-09-17T08:06:12.711176Z"
    }
   },
   "outputs": [
    {
     "data": {
      "text/plain": [
       "['PDEN']"
      ]
     },
     "execution_count": 13,
     "metadata": {},
     "output_type": "execute_result"
    }
   ],
   "source": [
    "edb.nets.delete(\"PDEN\")"
   ]
  },
  {
   "cell_type": "markdown",
   "id": "6e2ec4b7",
   "metadata": {},
   "source": [
    "Print the top and bottom elevation of the stackup obtained using\n",
    "the ``Edb.stackup.limits()`` method."
   ]
  },
  {
   "cell_type": "code",
   "execution_count": 14,
   "id": "dd40f252",
   "metadata": {
    "execution": {
     "iopub.execute_input": "2024-09-17T08:06:12.711176Z",
     "iopub.status.busy": "2024-09-17T08:06:12.711176Z",
     "iopub.status.idle": "2024-09-17T08:06:12.726800Z",
     "shell.execute_reply": "2024-09-17T08:06:12.726800Z"
    }
   },
   "outputs": [
    {
     "name": "stdout",
     "output_type": "stream",
     "text": [
      "Top layer name: \"1_Top\", Elevation: 1.75 mm\n",
      "Bottom layer name: \"16_Bottom\", Elevation: 0.000000 mm\n"
     ]
    }
   ],
   "source": [
    "s = 'Top layer name: \"{top}\", Elevation: {top_el:.2f} '\n",
    "s += 'mm\\nBottom layer name: \"{bot}\", Elevation: {bot_el:2f} mm'\n",
    "top, top_el, bot, bot_el = edb.stackup.limits()\n",
    "print(s.format(top=top, top_el=top_el * 1e3, bot=bot, bot_el=bot_el * 1e3))"
   ]
  },
  {
   "cell_type": "markdown",
   "id": "0c97f518",
   "metadata": {},
   "source": [
    "## Set up for SIwave DCIR analysis\n",
    "\n",
    "Create a voltage source and then set up a DCIR analysis."
   ]
  },
  {
   "cell_type": "code",
   "execution_count": 15,
   "id": "44ac3d10",
   "metadata": {
    "execution": {
     "iopub.execute_input": "2024-09-17T08:06:12.726800Z",
     "iopub.status.busy": "2024-09-17T08:06:12.726800Z",
     "iopub.status.idle": "2024-09-17T08:06:14.028161Z",
     "shell.execute_reply": "2024-09-17T08:06:14.028161Z"
    }
   },
   "outputs": [
    {
     "data": {
      "text/plain": [
       "True"
      ]
     },
     "execution_count": 15,
     "metadata": {},
     "output_type": "execute_result"
    }
   ],
   "source": [
    "edb.siwave.create_voltage_source_on_net(\"U1\", \"AVCC_1V3\", \"U1\", \"GND\", 1.3, 0, \"V1\")\n",
    "edb.siwave.create_current_source_on_net(\"IC2\", \"NetD3_2\", \"IC2\", \"GND\", 1.0, 0, \"I1\")\n",
    "setup = edb.siwave.add_siwave_dc_analysis(\"myDCIR_4\")\n",
    "setup.use_dc_custom_settings = True\n",
    "setup.set_dc_slider = 0\n",
    "setup.add_source_terminal_to_ground(\"V1\", 1)"
   ]
  },
  {
   "cell_type": "markdown",
   "id": "4d6c99ce",
   "metadata": {},
   "source": [
    "## Solve\n",
    "\n",
    "Save the modifications and run the analysis in SIwave."
   ]
  },
  {
   "cell_type": "code",
   "execution_count": 16,
   "id": "55497bcc",
   "metadata": {
    "execution": {
     "iopub.execute_input": "2024-09-17T08:06:14.028161Z",
     "iopub.status.busy": "2024-09-17T08:06:14.028161Z",
     "iopub.status.idle": "2024-09-17T08:06:23.340717Z",
     "shell.execute_reply": "2024-09-17T08:06:23.340717Z"
    }
   },
   "outputs": [
    {
     "name": "stdout",
     "output_type": "stream",
     "text": [
      "PyEDB INFO: EDB file save time: 0.00ms\n"
     ]
    },
    {
     "name": "stderr",
     "output_type": "stream",
     "text": [
      "--- Logging error ---\n",
      "Traceback (most recent call last):\n",
      "  File \"C:\\actions-runner\\_work\\_tool\\Python\\3.10.11\\x64\\lib\\logging\\handlers.py\", line 74, in emit\n",
      "    self.doRollover()\n",
      "  File \"C:\\actions-runner\\_work\\_tool\\Python\\3.10.11\\x64\\lib\\logging\\handlers.py\", line 179, in doRollover\n",
      "    self.rotate(self.baseFilename, dfn)\n",
      "  File \"C:\\actions-runner\\_work\\_tool\\Python\\3.10.11\\x64\\lib\\logging\\handlers.py\", line 115, in rotate\n",
      "    os.rename(source, dest)\n",
      "PermissionError: [WinError 32] The process cannot access the file because it is being used by another process: 'C:\\\\Users\\\\ansys\\\\AppData\\\\Local\\\\Temp\\\\pyedb_ansys.log' -> 'C:\\\\Users\\\\ansys\\\\AppData\\\\Local\\\\Temp\\\\pyedb_ansys.log.1'\n",
      "Call stack:\n",
      "  File \"C:\\actions-runner\\_work\\_tool\\Python\\3.10.11\\x64\\lib\\runpy.py\", line 196, in _run_module_as_main\n",
      "    return _run_code(code, main_globals, None,\n",
      "  File \"C:\\actions-runner\\_work\\_tool\\Python\\3.10.11\\x64\\lib\\runpy.py\", line 86, in _run_code\n",
      "    exec(code, run_globals)\n",
      "  File \"C:\\actions-runner\\_work\\pyedb\\pyedb\\.venv\\lib\\site-packages\\ipykernel_launcher.py\", line 18, in <module>\n",
      "    app.launch_new_instance()\n",
      "  File \"C:\\actions-runner\\_work\\pyedb\\pyedb\\.venv\\lib\\site-packages\\traitlets\\config\\application.py\", line 1075, in launch_instance\n",
      "    app.start()\n",
      "  File \"C:\\actions-runner\\_work\\pyedb\\pyedb\\.venv\\lib\\site-packages\\ipykernel\\kernelapp.py\", line 739, in start\n",
      "    self.io_loop.start()\n",
      "  File \"C:\\actions-runner\\_work\\pyedb\\pyedb\\.venv\\lib\\site-packages\\tornado\\platform\\asyncio.py\", line 205, in start\n",
      "    self.asyncio_loop.run_forever()\n",
      "  File \"C:\\actions-runner\\_work\\_tool\\Python\\3.10.11\\x64\\lib\\asyncio\\base_events.py\", line 603, in run_forever\n",
      "    self._run_once()\n",
      "  File \"C:\\actions-runner\\_work\\_tool\\Python\\3.10.11\\x64\\lib\\asyncio\\base_events.py\", line 1909, in _run_once\n",
      "    handle._run()\n",
      "  File \"C:\\actions-runner\\_work\\_tool\\Python\\3.10.11\\x64\\lib\\asyncio\\events.py\", line 80, in _run\n",
      "    self._context.run(self._callback, *self._args)\n",
      "  File \"C:\\actions-runner\\_work\\pyedb\\pyedb\\.venv\\lib\\site-packages\\ipykernel\\kernelbase.py\", line 545, in dispatch_queue\n",
      "    await self.process_one()\n",
      "  File \"C:\\actions-runner\\_work\\pyedb\\pyedb\\.venv\\lib\\site-packages\\ipykernel\\kernelbase.py\", line 534, in process_one\n",
      "    await dispatch(*args)\n",
      "  File \"C:\\actions-runner\\_work\\pyedb\\pyedb\\.venv\\lib\\site-packages\\ipykernel\\kernelbase.py\", line 437, in dispatch_shell\n",
      "    await result\n",
      "  File \"C:\\actions-runner\\_work\\pyedb\\pyedb\\.venv\\lib\\site-packages\\ipykernel\\ipkernel.py\", line 362, in execute_request\n",
      "    await super().execute_request(stream, ident, parent)\n",
      "  File \"C:\\actions-runner\\_work\\pyedb\\pyedb\\.venv\\lib\\site-packages\\ipykernel\\kernelbase.py\", line 778, in execute_request\n",
      "    reply_content = await reply_content\n",
      "  File \"C:\\actions-runner\\_work\\pyedb\\pyedb\\.venv\\lib\\site-packages\\ipykernel\\ipkernel.py\", line 449, in do_execute\n",
      "    res = shell.run_cell(\n",
      "  File \"C:\\actions-runner\\_work\\pyedb\\pyedb\\.venv\\lib\\site-packages\\ipykernel\\zmqshell.py\", line 549, in run_cell\n",
      "    return super().run_cell(*args, **kwargs)\n",
      "  File \"C:\\actions-runner\\_work\\pyedb\\pyedb\\.venv\\lib\\site-packages\\IPython\\core\\interactiveshell.py\", line 3075, in run_cell\n",
      "    result = self._run_cell(\n",
      "  File \"C:\\actions-runner\\_work\\pyedb\\pyedb\\.venv\\lib\\site-packages\\IPython\\core\\interactiveshell.py\", line 3130, in _run_cell\n",
      "    result = runner(coro)\n",
      "  File \"C:\\actions-runner\\_work\\pyedb\\pyedb\\.venv\\lib\\site-packages\\IPython\\core\\async_helpers.py\", line 128, in _pseudo_sync_runner\n",
      "    coro.send(None)\n",
      "  File \"C:\\actions-runner\\_work\\pyedb\\pyedb\\.venv\\lib\\site-packages\\IPython\\core\\interactiveshell.py\", line 3334, in run_cell_async\n",
      "    has_raised = await self.run_ast_nodes(code_ast.body, cell_name,\n",
      "  File \"C:\\actions-runner\\_work\\pyedb\\pyedb\\.venv\\lib\\site-packages\\IPython\\core\\interactiveshell.py\", line 3517, in run_ast_nodes\n",
      "    if await self.run_code(code, result, async_=asy):\n",
      "  File \"C:\\actions-runner\\_work\\pyedb\\pyedb\\.venv\\lib\\site-packages\\IPython\\core\\interactiveshell.py\", line 3577, in run_code\n",
      "    exec(code_obj, self.user_global_ns, self.user_ns)\n",
      "  File \"C:\\Users\\ansys\\AppData\\Local\\Temp\\ipykernel_4316\\899852019.py\", line 1, in <module>\n",
      "    edb.save_edb()\n",
      "  File \"C:\\actions-runner\\_work\\pyedb\\pyedb\\.venv\\lib\\site-packages\\pyedb\\dotnet\\edb.py\", line 1370, in save_edb\n",
      "    self.logger.info(\"EDB file save time: {0:.2f}ms\".format(elapsed_time * 1000.0))\n",
      "  File \"C:\\actions-runner\\_work\\pyedb\\pyedb\\.venv\\lib\\site-packages\\pyedb\\edb_logger.py\", line 346, in info\n",
      "    return self._log_on_handler(0, msg, *args, **kwargs)\n",
      "  File \"C:\\actions-runner\\_work\\pyedb\\pyedb\\.venv\\lib\\site-packages\\pyedb\\edb_logger.py\", line 293, in _log_on_handler\n",
      "    self._global.info(message_text, *args, **kwargs)\n",
      "Message: 'EDB file save time: 0.00ms'\n",
      "Arguments: ()\n"
     ]
    },
    {
     "name": "stdout",
     "output_type": "stream",
     "text": [
      "PyEDB INFO: Nets Point Generation time 6.797 seconds\n"
     ]
    },
    {
     "name": "stderr",
     "output_type": "stream",
     "text": [
      "--- Logging error ---\n",
      "Traceback (most recent call last):\n",
      "  File \"C:\\actions-runner\\_work\\_tool\\Python\\3.10.11\\x64\\lib\\logging\\handlers.py\", line 74, in emit\n",
      "    self.doRollover()\n",
      "  File \"C:\\actions-runner\\_work\\_tool\\Python\\3.10.11\\x64\\lib\\logging\\handlers.py\", line 179, in doRollover\n",
      "    self.rotate(self.baseFilename, dfn)\n",
      "  File \"C:\\actions-runner\\_work\\_tool\\Python\\3.10.11\\x64\\lib\\logging\\handlers.py\", line 115, in rotate\n",
      "    os.rename(source, dest)\n",
      "PermissionError: [WinError 32] The process cannot access the file because it is being used by another process: 'C:\\\\Users\\\\ansys\\\\AppData\\\\Local\\\\Temp\\\\pyedb_ansys.log' -> 'C:\\\\Users\\\\ansys\\\\AppData\\\\Local\\\\Temp\\\\pyedb_ansys.log.1'\n",
      "Call stack:\n",
      "  File \"C:\\actions-runner\\_work\\_tool\\Python\\3.10.11\\x64\\lib\\runpy.py\", line 196, in _run_module_as_main\n",
      "    return _run_code(code, main_globals, None,\n",
      "  File \"C:\\actions-runner\\_work\\_tool\\Python\\3.10.11\\x64\\lib\\runpy.py\", line 86, in _run_code\n",
      "    exec(code, run_globals)\n",
      "  File \"C:\\actions-runner\\_work\\pyedb\\pyedb\\.venv\\lib\\site-packages\\ipykernel_launcher.py\", line 18, in <module>\n",
      "    app.launch_new_instance()\n",
      "  File \"C:\\actions-runner\\_work\\pyedb\\pyedb\\.venv\\lib\\site-packages\\traitlets\\config\\application.py\", line 1075, in launch_instance\n",
      "    app.start()\n",
      "  File \"C:\\actions-runner\\_work\\pyedb\\pyedb\\.venv\\lib\\site-packages\\ipykernel\\kernelapp.py\", line 739, in start\n",
      "    self.io_loop.start()\n",
      "  File \"C:\\actions-runner\\_work\\pyedb\\pyedb\\.venv\\lib\\site-packages\\tornado\\platform\\asyncio.py\", line 205, in start\n",
      "    self.asyncio_loop.run_forever()\n",
      "  File \"C:\\actions-runner\\_work\\_tool\\Python\\3.10.11\\x64\\lib\\asyncio\\base_events.py\", line 603, in run_forever\n",
      "    self._run_once()\n",
      "  File \"C:\\actions-runner\\_work\\_tool\\Python\\3.10.11\\x64\\lib\\asyncio\\base_events.py\", line 1909, in _run_once\n",
      "    handle._run()\n",
      "  File \"C:\\actions-runner\\_work\\_tool\\Python\\3.10.11\\x64\\lib\\asyncio\\events.py\", line 80, in _run\n",
      "    self._context.run(self._callback, *self._args)\n",
      "  File \"C:\\actions-runner\\_work\\pyedb\\pyedb\\.venv\\lib\\site-packages\\ipykernel\\kernelbase.py\", line 545, in dispatch_queue\n",
      "    await self.process_one()\n",
      "  File \"C:\\actions-runner\\_work\\pyedb\\pyedb\\.venv\\lib\\site-packages\\ipykernel\\kernelbase.py\", line 534, in process_one\n",
      "    await dispatch(*args)\n",
      "  File \"C:\\actions-runner\\_work\\pyedb\\pyedb\\.venv\\lib\\site-packages\\ipykernel\\kernelbase.py\", line 437, in dispatch_shell\n",
      "    await result\n",
      "  File \"C:\\actions-runner\\_work\\pyedb\\pyedb\\.venv\\lib\\site-packages\\ipykernel\\ipkernel.py\", line 362, in execute_request\n",
      "    await super().execute_request(stream, ident, parent)\n",
      "  File \"C:\\actions-runner\\_work\\pyedb\\pyedb\\.venv\\lib\\site-packages\\ipykernel\\kernelbase.py\", line 778, in execute_request\n",
      "    reply_content = await reply_content\n",
      "  File \"C:\\actions-runner\\_work\\pyedb\\pyedb\\.venv\\lib\\site-packages\\ipykernel\\ipkernel.py\", line 449, in do_execute\n",
      "    res = shell.run_cell(\n",
      "  File \"C:\\actions-runner\\_work\\pyedb\\pyedb\\.venv\\lib\\site-packages\\ipykernel\\zmqshell.py\", line 549, in run_cell\n",
      "    return super().run_cell(*args, **kwargs)\n",
      "  File \"C:\\actions-runner\\_work\\pyedb\\pyedb\\.venv\\lib\\site-packages\\IPython\\core\\interactiveshell.py\", line 3075, in run_cell\n",
      "    result = self._run_cell(\n",
      "  File \"C:\\actions-runner\\_work\\pyedb\\pyedb\\.venv\\lib\\site-packages\\IPython\\core\\interactiveshell.py\", line 3130, in _run_cell\n",
      "    result = runner(coro)\n",
      "  File \"C:\\actions-runner\\_work\\pyedb\\pyedb\\.venv\\lib\\site-packages\\IPython\\core\\async_helpers.py\", line 128, in _pseudo_sync_runner\n",
      "    coro.send(None)\n",
      "  File \"C:\\actions-runner\\_work\\pyedb\\pyedb\\.venv\\lib\\site-packages\\IPython\\core\\interactiveshell.py\", line 3334, in run_cell_async\n",
      "    has_raised = await self.run_ast_nodes(code_ast.body, cell_name,\n",
      "  File \"C:\\actions-runner\\_work\\pyedb\\pyedb\\.venv\\lib\\site-packages\\IPython\\core\\interactiveshell.py\", line 3517, in run_ast_nodes\n",
      "    if await self.run_code(code, result, async_=asy):\n",
      "  File \"C:\\actions-runner\\_work\\pyedb\\pyedb\\.venv\\lib\\site-packages\\IPython\\core\\interactiveshell.py\", line 3577, in run_code\n",
      "    exec(code_obj, self.user_global_ns, self.user_ns)\n",
      "  File \"C:\\Users\\ansys\\AppData\\Local\\Temp\\ipykernel_4316\\899852019.py\", line 2, in <module>\n",
      "    edb.nets.plot(None, \"1_Top\", plot_components_on_top=True)\n",
      "  File \"C:\\actions-runner\\_work\\pyedb\\pyedb\\.venv\\lib\\site-packages\\pyedb\\dotnet\\edb_core\\nets.py\", line 770, in plot\n",
      "    object_lists = self.get_plot_data(\n",
      "  File \"C:\\actions-runner\\_work\\pyedb\\pyedb\\.venv\\lib\\site-packages\\pyedb\\dotnet\\edb_core\\nets.py\", line 686, in get_plot_data\n",
      "    self._logger.info(\"Nets Point Generation time %s seconds\", round(end_time, 3))\n",
      "  File \"C:\\actions-runner\\_work\\pyedb\\pyedb\\.venv\\lib\\site-packages\\pyedb\\edb_logger.py\", line 346, in info\n",
      "    return self._log_on_handler(0, msg, *args, **kwargs)\n",
      "  File \"C:\\actions-runner\\_work\\pyedb\\pyedb\\.venv\\lib\\site-packages\\pyedb\\edb_logger.py\", line 293, in _log_on_handler\n",
      "    self._global.info(message_text, *args, **kwargs)\n",
      "Message: 'Nets Point Generation time %s seconds'\n",
      "Arguments: (6.797,)\n"
     ]
    },
    {
     "name": "stderr",
     "output_type": "stream",
     "text": [
      "C:\\actions-runner\\_work\\pyedb\\pyedb\\.venv\\lib\\site-packages\\pyedb\\generic\\plot.py:144: UserWarning: FigureCanvasAgg is non-interactive, and thus cannot be shown\n",
      "  plt.show()\n"
     ]
    }
   ],
   "source": [
    "edb.save_edb()\n",
    "edb.nets.plot(None, \"1_Top\", plot_components_on_top=True)"
   ]
  },
  {
   "cell_type": "code",
   "execution_count": 17,
   "id": "d870b900",
   "metadata": {
    "execution": {
     "iopub.execute_input": "2024-09-17T08:06:23.340717Z",
     "iopub.status.busy": "2024-09-17T08:06:23.340717Z",
     "iopub.status.idle": "2024-09-17T08:07:13.756624Z",
     "shell.execute_reply": "2024-09-17T08:07:13.756624Z"
    }
   },
   "outputs": [],
   "source": [
    "siw_file = edb.solve_siwave()"
   ]
  },
  {
   "cell_type": "markdown",
   "id": "864a675c",
   "metadata": {},
   "source": [
    "## Export results\n",
    "\n",
    "Export all quantities calculated from the DC-IR analysis.\n",
    "The following method runs SIwave in batch mode from the command line.\n",
    "Results are written to the edb folder."
   ]
  },
  {
   "cell_type": "code",
   "execution_count": 18,
   "id": "2aaedc95",
   "metadata": {
    "execution": {
     "iopub.execute_input": "2024-09-17T08:07:13.756624Z",
     "iopub.status.busy": "2024-09-17T08:07:13.756624Z",
     "iopub.status.idle": "2024-09-17T08:07:32.968052Z",
     "shell.execute_reply": "2024-09-17T08:07:32.968052Z"
    }
   },
   "outputs": [
    {
     "name": "stdout",
     "output_type": "stream",
     "text": [
      "['\"C:\\\\Program Files\\\\AnsysEM\\\\v242\\\\Win64\\\\siwave.exe\"', '-embedding', '-RunScriptAndExit', '\"C:\\\\Users\\\\ansys\\\\AppData\\\\Local\\\\Temp\\\\tmp3l2uttd3.ansys\\\\edb\\\\export_results.py\"']\n"
     ]
    }
   ],
   "source": [
    "outputs = edb.export_siwave_dc_results(\n",
    "    siw_file,\n",
    "    setup.name,\n",
    ")"
   ]
  },
  {
   "cell_type": "markdown",
   "id": "af4a23a6",
   "metadata": {},
   "source": [
    "Close EDB. After EDB is closed, it can be opened by AEDT."
   ]
  },
  {
   "cell_type": "code",
   "execution_count": 19,
   "id": "78c336ec",
   "metadata": {
    "execution": {
     "iopub.execute_input": "2024-09-17T08:07:32.968052Z",
     "iopub.status.busy": "2024-09-17T08:07:32.968052Z",
     "iopub.status.idle": "2024-09-17T08:07:32.999296Z",
     "shell.execute_reply": "2024-09-17T08:07:32.999296Z"
    }
   },
   "outputs": [
    {
     "name": "stdout",
     "output_type": "stream",
     "text": [
      "PyEDB INFO: EDB file release time: 0.00ms\n"
     ]
    },
    {
     "name": "stderr",
     "output_type": "stream",
     "text": [
      "--- Logging error ---\n",
      "Traceback (most recent call last):\n",
      "  File \"C:\\actions-runner\\_work\\_tool\\Python\\3.10.11\\x64\\lib\\logging\\handlers.py\", line 74, in emit\n",
      "    self.doRollover()\n",
      "  File \"C:\\actions-runner\\_work\\_tool\\Python\\3.10.11\\x64\\lib\\logging\\handlers.py\", line 179, in doRollover\n",
      "    self.rotate(self.baseFilename, dfn)\n",
      "  File \"C:\\actions-runner\\_work\\_tool\\Python\\3.10.11\\x64\\lib\\logging\\handlers.py\", line 115, in rotate\n",
      "    os.rename(source, dest)\n",
      "PermissionError: [WinError 32] The process cannot access the file because it is being used by another process: 'C:\\\\Users\\\\ansys\\\\AppData\\\\Local\\\\Temp\\\\pyedb_ansys.log' -> 'C:\\\\Users\\\\ansys\\\\AppData\\\\Local\\\\Temp\\\\pyedb_ansys.log.1'\n",
      "Call stack:\n",
      "  File \"C:\\actions-runner\\_work\\_tool\\Python\\3.10.11\\x64\\lib\\runpy.py\", line 196, in _run_module_as_main\n",
      "    return _run_code(code, main_globals, None,\n",
      "  File \"C:\\actions-runner\\_work\\_tool\\Python\\3.10.11\\x64\\lib\\runpy.py\", line 86, in _run_code\n",
      "    exec(code, run_globals)\n",
      "  File \"C:\\actions-runner\\_work\\pyedb\\pyedb\\.venv\\lib\\site-packages\\ipykernel_launcher.py\", line 18, in <module>\n",
      "    app.launch_new_instance()\n",
      "  File \"C:\\actions-runner\\_work\\pyedb\\pyedb\\.venv\\lib\\site-packages\\traitlets\\config\\application.py\", line 1075, in launch_instance\n",
      "    app.start()\n",
      "  File \"C:\\actions-runner\\_work\\pyedb\\pyedb\\.venv\\lib\\site-packages\\ipykernel\\kernelapp.py\", line 739, in start\n",
      "    self.io_loop.start()\n",
      "  File \"C:\\actions-runner\\_work\\pyedb\\pyedb\\.venv\\lib\\site-packages\\tornado\\platform\\asyncio.py\", line 205, in start\n",
      "    self.asyncio_loop.run_forever()\n",
      "  File \"C:\\actions-runner\\_work\\_tool\\Python\\3.10.11\\x64\\lib\\asyncio\\base_events.py\", line 603, in run_forever\n",
      "    self._run_once()\n",
      "  File \"C:\\actions-runner\\_work\\_tool\\Python\\3.10.11\\x64\\lib\\asyncio\\base_events.py\", line 1909, in _run_once\n",
      "    handle._run()\n",
      "  File \"C:\\actions-runner\\_work\\_tool\\Python\\3.10.11\\x64\\lib\\asyncio\\events.py\", line 80, in _run\n",
      "    self._context.run(self._callback, *self._args)\n",
      "  File \"C:\\actions-runner\\_work\\pyedb\\pyedb\\.venv\\lib\\site-packages\\ipykernel\\kernelbase.py\", line 545, in dispatch_queue\n",
      "    await self.process_one()\n",
      "  File \"C:\\actions-runner\\_work\\pyedb\\pyedb\\.venv\\lib\\site-packages\\ipykernel\\kernelbase.py\", line 534, in process_one\n",
      "    await dispatch(*args)\n",
      "  File \"C:\\actions-runner\\_work\\pyedb\\pyedb\\.venv\\lib\\site-packages\\ipykernel\\kernelbase.py\", line 437, in dispatch_shell\n",
      "    await result\n",
      "  File \"C:\\actions-runner\\_work\\pyedb\\pyedb\\.venv\\lib\\site-packages\\ipykernel\\ipkernel.py\", line 362, in execute_request\n",
      "    await super().execute_request(stream, ident, parent)\n",
      "  File \"C:\\actions-runner\\_work\\pyedb\\pyedb\\.venv\\lib\\site-packages\\ipykernel\\kernelbase.py\", line 778, in execute_request\n",
      "    reply_content = await reply_content\n",
      "  File \"C:\\actions-runner\\_work\\pyedb\\pyedb\\.venv\\lib\\site-packages\\ipykernel\\ipkernel.py\", line 449, in do_execute\n",
      "    res = shell.run_cell(\n",
      "  File \"C:\\actions-runner\\_work\\pyedb\\pyedb\\.venv\\lib\\site-packages\\ipykernel\\zmqshell.py\", line 549, in run_cell\n",
      "    return super().run_cell(*args, **kwargs)\n",
      "  File \"C:\\actions-runner\\_work\\pyedb\\pyedb\\.venv\\lib\\site-packages\\IPython\\core\\interactiveshell.py\", line 3075, in run_cell\n",
      "    result = self._run_cell(\n",
      "  File \"C:\\actions-runner\\_work\\pyedb\\pyedb\\.venv\\lib\\site-packages\\IPython\\core\\interactiveshell.py\", line 3130, in _run_cell\n",
      "    result = runner(coro)\n",
      "  File \"C:\\actions-runner\\_work\\pyedb\\pyedb\\.venv\\lib\\site-packages\\IPython\\core\\async_helpers.py\", line 128, in _pseudo_sync_runner\n",
      "    coro.send(None)\n",
      "  File \"C:\\actions-runner\\_work\\pyedb\\pyedb\\.venv\\lib\\site-packages\\IPython\\core\\interactiveshell.py\", line 3334, in run_cell_async\n",
      "    has_raised = await self.run_ast_nodes(code_ast.body, cell_name,\n",
      "  File \"C:\\actions-runner\\_work\\pyedb\\pyedb\\.venv\\lib\\site-packages\\IPython\\core\\interactiveshell.py\", line 3517, in run_ast_nodes\n",
      "    if await self.run_code(code, result, async_=asy):\n",
      "  File \"C:\\actions-runner\\_work\\pyedb\\pyedb\\.venv\\lib\\site-packages\\IPython\\core\\interactiveshell.py\", line 3577, in run_code\n",
      "    exec(code_obj, self.user_global_ns, self.user_ns)\n",
      "  File \"C:\\Users\\ansys\\AppData\\Local\\Temp\\ipykernel_4316\\3588321624.py\", line 1, in <module>\n",
      "    edb.close_edb()\n",
      "  File \"C:\\actions-runner\\_work\\pyedb\\pyedb\\.venv\\lib\\site-packages\\pyedb\\dotnet\\edb.py\", line 1353, in close_edb\n",
      "    self.logger.info(\"EDB file release time: {0:.2f}ms\".format(elapsed_time * 1000.0))\n",
      "  File \"C:\\actions-runner\\_work\\pyedb\\pyedb\\.venv\\lib\\site-packages\\pyedb\\edb_logger.py\", line 346, in info\n",
      "    return self._log_on_handler(0, msg, *args, **kwargs)\n",
      "  File \"C:\\actions-runner\\_work\\pyedb\\pyedb\\.venv\\lib\\site-packages\\pyedb\\edb_logger.py\", line 293, in _log_on_handler\n",
      "    self._global.info(message_text, *args, **kwargs)\n",
      "Message: 'EDB file release time: 0.00ms'\n",
      "Arguments: ()\n"
     ]
    },
    {
     "data": {
      "text/plain": [
       "True"
      ]
     },
     "execution_count": 19,
     "metadata": {},
     "output_type": "execute_result"
    }
   ],
   "source": [
    "edb.close_edb()"
   ]
  },
  {
   "cell_type": "markdown",
   "id": "3eacdd47",
   "metadata": {},
   "source": [
    "## View Layout in SIwave\n",
    "\n",
    "The SIwave user interface can be visualized and manipulated\n",
    "using the SIwave user interface. This command works on Window OS only."
   ]
  },
  {
   "cell_type": "code",
   "execution_count": 20,
   "id": "79c38aae",
   "metadata": {
    "execution": {
     "iopub.execute_input": "2024-09-17T08:07:32.999296Z",
     "iopub.status.busy": "2024-09-17T08:07:32.999296Z",
     "iopub.status.idle": "2024-09-17T08:07:33.014923Z",
     "shell.execute_reply": "2024-09-17T08:07:33.014923Z"
    }
   },
   "outputs": [],
   "source": [
    "# siwave = pyedb.Siwave(\"2024.2\")\n",
    "# siwave.open_project(siwave_file)\n",
    "# report_file = os.path.join(temp_folder,'Ansys.htm')\n",
    "\n",
    "# siwave.export_siwave_report(\"myDCIR_4\", report_file)\n",
    "# siwave.close_project()\n",
    "# siwave.quit_application()"
   ]
  },
  {
   "cell_type": "markdown",
   "id": "15fc1c57",
   "metadata": {},
   "source": [
    "Clean up the temporary files and directory."
   ]
  },
  {
   "cell_type": "code",
   "execution_count": 21,
   "id": "9cd4afac",
   "metadata": {
    "execution": {
     "iopub.execute_input": "2024-09-17T08:07:33.014923Z",
     "iopub.status.busy": "2024-09-17T08:07:33.014923Z",
     "iopub.status.idle": "2024-09-17T08:07:33.046123Z",
     "shell.execute_reply": "2024-09-17T08:07:33.046123Z"
    }
   },
   "outputs": [],
   "source": [
    "temp_dir.cleanup()"
   ]
  }
 ],
 "metadata": {
  "jupytext": {
   "cell_metadata_filter": "-all",
   "main_language": "python",
   "notebook_metadata_filter": "-all",
   "text_representation": {
    "extension": ".py",
    "format_name": "light"
   }
  },
  "language_info": {
   "codemirror_mode": {
    "name": "ipython",
    "version": 3
   },
   "file_extension": ".py",
   "mimetype": "text/x-python",
   "name": "python",
   "nbconvert_exporter": "python",
   "pygments_lexer": "ipython3",
   "version": "3.10.11"
  }
 },
 "nbformat": 4,
 "nbformat_minor": 5
}
